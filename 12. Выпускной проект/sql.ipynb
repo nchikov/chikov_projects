{
 "cells": [
  {
   "cell_type": "markdown",
   "metadata": {},
   "source": [
    "# Введение"
   ]
  },
  {
   "cell_type": "markdown",
   "metadata": {},
   "source": [
    "После покупки крупного сервиса для чтения книг по подписке перед нами стоит задача анализа базы данных, в которой содержится информация о книгах, издательствах, авторах, а также пользовательские обзоры книг. Эти данные помогут сформулировать ценностное предложение для нового продукта."
   ]
  },
  {
   "cell_type": "markdown",
   "metadata": {},
   "source": [
    "## Ознакомление с данными"
   ]
  },
  {
   "cell_type": "markdown",
   "metadata": {},
   "source": [
    "Для начала импортируем необходимые для работы библиотеки:"
   ]
  },
  {
   "cell_type": "code",
   "execution_count": 1,
   "metadata": {},
   "outputs": [],
   "source": [
    "import pandas as pd\n",
    "from sqlalchemy import create_engine \n"
   ]
  },
  {
   "cell_type": "markdown",
   "metadata": {},
   "source": [
    "И наладим связь с базой данных:"
   ]
  },
  {
   "cell_type": "code",
   "execution_count": 2,
   "metadata": {},
   "outputs": [],
   "source": [
    "# устанавливаем параметры\n",
    "db_config = {'user': 'praktikum_student', # имя пользователя\n",
    "'pwd': 'Sdf4$2;d-d30pp', # пароль\n",
    "'host': 'rc1b-wcoijxj3yxfsf3fs.mdb.yandexcloud.net',\n",
    "'port': 6432, # порт подключения\n",
    "'db': 'data-analyst-final-project-db'} # название базы данных\n",
    "connection_string = 'postgresql://{}:{}@{}:{}/{}'.format(db_config['user'],\n",
    " db_config['pwd'],\n",
    " db_config['host'],\n",
    " db_config['port'],\n",
    " db_config['db'])\n",
    "# сохраняем коннектор\n",
    "engine = create_engine(connection_string, connect_args={'sslmode':'require'})"
   ]
  },
  {
   "cell_type": "markdown",
   "metadata": {},
   "source": [
    "Выведем первые строки таблиц для ознакомления со структурой данных. Для этого напишем небольшую функцию:"
   ]
  },
  {
   "cell_type": "code",
   "execution_count": 3,
   "metadata": {},
   "outputs": [],
   "source": [
    "def heads (df):\n",
    "    query_1 = 'SELECT * FROM ' + df + ' LIMIT 10'\n",
    "    return pd.io.sql.read_sql(query_1, con = engine)\n",
    "\n",
    "    "
   ]
  },
  {
   "cell_type": "markdown",
   "metadata": {},
   "source": [
    "Первая таблица содержит информацию о книгах:\n",
    "\n",
    "`book_id` — идентификатор книги;\n",
    "\n",
    "`author_id` — идентификатор автора;\n",
    "\n",
    "`title` — название книги;\n",
    "\n",
    "`num_pages` — количество страниц;\n",
    "\n",
    "`publication_date` — дата публикации книги;\n",
    "\n",
    "`publisher_id` — идентификатор издателя."
   ]
  },
  {
   "cell_type": "code",
   "execution_count": 4,
   "metadata": {},
   "outputs": [
    {
     "data": {
      "text/html": [
       "<div>\n",
       "<style scoped>\n",
       "    .dataframe tbody tr th:only-of-type {\n",
       "        vertical-align: middle;\n",
       "    }\n",
       "\n",
       "    .dataframe tbody tr th {\n",
       "        vertical-align: top;\n",
       "    }\n",
       "\n",
       "    .dataframe thead th {\n",
       "        text-align: right;\n",
       "    }\n",
       "</style>\n",
       "<table border=\"1\" class=\"dataframe\">\n",
       "  <thead>\n",
       "    <tr style=\"text-align: right;\">\n",
       "      <th></th>\n",
       "      <th>book_id</th>\n",
       "      <th>author_id</th>\n",
       "      <th>title</th>\n",
       "      <th>num_pages</th>\n",
       "      <th>publication_date</th>\n",
       "      <th>publisher_id</th>\n",
       "    </tr>\n",
       "  </thead>\n",
       "  <tbody>\n",
       "    <tr>\n",
       "      <th>0</th>\n",
       "      <td>1</td>\n",
       "      <td>546</td>\n",
       "      <td>'Salem's Lot</td>\n",
       "      <td>594</td>\n",
       "      <td>2005-11-01</td>\n",
       "      <td>93</td>\n",
       "    </tr>\n",
       "    <tr>\n",
       "      <th>1</th>\n",
       "      <td>2</td>\n",
       "      <td>465</td>\n",
       "      <td>1 000 Places to See Before You Die</td>\n",
       "      <td>992</td>\n",
       "      <td>2003-05-22</td>\n",
       "      <td>336</td>\n",
       "    </tr>\n",
       "    <tr>\n",
       "      <th>2</th>\n",
       "      <td>3</td>\n",
       "      <td>407</td>\n",
       "      <td>13 Little Blue Envelopes (Little Blue Envelope...</td>\n",
       "      <td>322</td>\n",
       "      <td>2010-12-21</td>\n",
       "      <td>135</td>\n",
       "    </tr>\n",
       "    <tr>\n",
       "      <th>3</th>\n",
       "      <td>4</td>\n",
       "      <td>82</td>\n",
       "      <td>1491: New Revelations of the Americas Before C...</td>\n",
       "      <td>541</td>\n",
       "      <td>2006-10-10</td>\n",
       "      <td>309</td>\n",
       "    </tr>\n",
       "    <tr>\n",
       "      <th>4</th>\n",
       "      <td>5</td>\n",
       "      <td>125</td>\n",
       "      <td>1776</td>\n",
       "      <td>386</td>\n",
       "      <td>2006-07-04</td>\n",
       "      <td>268</td>\n",
       "    </tr>\n",
       "    <tr>\n",
       "      <th>5</th>\n",
       "      <td>6</td>\n",
       "      <td>257</td>\n",
       "      <td>1st to Die (Women's Murder Club  #1)</td>\n",
       "      <td>424</td>\n",
       "      <td>2005-05-20</td>\n",
       "      <td>116</td>\n",
       "    </tr>\n",
       "    <tr>\n",
       "      <th>6</th>\n",
       "      <td>7</td>\n",
       "      <td>258</td>\n",
       "      <td>2nd Chance (Women's Murder Club  #2)</td>\n",
       "      <td>400</td>\n",
       "      <td>2005-05-20</td>\n",
       "      <td>116</td>\n",
       "    </tr>\n",
       "    <tr>\n",
       "      <th>7</th>\n",
       "      <td>8</td>\n",
       "      <td>260</td>\n",
       "      <td>4th of July (Women's Murder Club  #4)</td>\n",
       "      <td>448</td>\n",
       "      <td>2006-06-01</td>\n",
       "      <td>318</td>\n",
       "    </tr>\n",
       "    <tr>\n",
       "      <th>8</th>\n",
       "      <td>9</td>\n",
       "      <td>563</td>\n",
       "      <td>A Beautiful Mind</td>\n",
       "      <td>461</td>\n",
       "      <td>2002-02-04</td>\n",
       "      <td>104</td>\n",
       "    </tr>\n",
       "    <tr>\n",
       "      <th>9</th>\n",
       "      <td>10</td>\n",
       "      <td>445</td>\n",
       "      <td>A Bend in the Road</td>\n",
       "      <td>341</td>\n",
       "      <td>2005-04-01</td>\n",
       "      <td>116</td>\n",
       "    </tr>\n",
       "  </tbody>\n",
       "</table>\n",
       "</div>"
      ],
      "text/plain": [
       "   book_id  author_id                                              title  \\\n",
       "0        1        546                                       'Salem's Lot   \n",
       "1        2        465                 1 000 Places to See Before You Die   \n",
       "2        3        407  13 Little Blue Envelopes (Little Blue Envelope...   \n",
       "3        4         82  1491: New Revelations of the Americas Before C...   \n",
       "4        5        125                                               1776   \n",
       "5        6        257               1st to Die (Women's Murder Club  #1)   \n",
       "6        7        258               2nd Chance (Women's Murder Club  #2)   \n",
       "7        8        260              4th of July (Women's Murder Club  #4)   \n",
       "8        9        563                                   A Beautiful Mind   \n",
       "9       10        445                                 A Bend in the Road   \n",
       "\n",
       "   num_pages publication_date  publisher_id  \n",
       "0        594       2005-11-01            93  \n",
       "1        992       2003-05-22           336  \n",
       "2        322       2010-12-21           135  \n",
       "3        541       2006-10-10           309  \n",
       "4        386       2006-07-04           268  \n",
       "5        424       2005-05-20           116  \n",
       "6        400       2005-05-20           116  \n",
       "7        448       2006-06-01           318  \n",
       "8        461       2002-02-04           104  \n",
       "9        341       2005-04-01           116  "
      ]
     },
     "execution_count": 4,
     "metadata": {},
     "output_type": "execute_result"
    }
   ],
   "source": [
    "heads('books')"
   ]
  },
  {
   "cell_type": "markdown",
   "metadata": {},
   "source": [
    "Вторая таблица содержит информацию об авторах:\n",
    "\n",
    "`author_id` — идентификатор автора;\n",
    "\n",
    "`author` — имя автора."
   ]
  },
  {
   "cell_type": "code",
   "execution_count": 5,
   "metadata": {},
   "outputs": [
    {
     "data": {
      "text/html": [
       "<div>\n",
       "<style scoped>\n",
       "    .dataframe tbody tr th:only-of-type {\n",
       "        vertical-align: middle;\n",
       "    }\n",
       "\n",
       "    .dataframe tbody tr th {\n",
       "        vertical-align: top;\n",
       "    }\n",
       "\n",
       "    .dataframe thead th {\n",
       "        text-align: right;\n",
       "    }\n",
       "</style>\n",
       "<table border=\"1\" class=\"dataframe\">\n",
       "  <thead>\n",
       "    <tr style=\"text-align: right;\">\n",
       "      <th></th>\n",
       "      <th>author_id</th>\n",
       "      <th>author</th>\n",
       "    </tr>\n",
       "  </thead>\n",
       "  <tbody>\n",
       "    <tr>\n",
       "      <th>0</th>\n",
       "      <td>1</td>\n",
       "      <td>A.S. Byatt</td>\n",
       "    </tr>\n",
       "    <tr>\n",
       "      <th>1</th>\n",
       "      <td>2</td>\n",
       "      <td>Aesop/Laura Harris/Laura Gibbs</td>\n",
       "    </tr>\n",
       "    <tr>\n",
       "      <th>2</th>\n",
       "      <td>3</td>\n",
       "      <td>Agatha Christie</td>\n",
       "    </tr>\n",
       "    <tr>\n",
       "      <th>3</th>\n",
       "      <td>4</td>\n",
       "      <td>Alan Brennert</td>\n",
       "    </tr>\n",
       "    <tr>\n",
       "      <th>4</th>\n",
       "      <td>5</td>\n",
       "      <td>Alan Moore/David   Lloyd</td>\n",
       "    </tr>\n",
       "    <tr>\n",
       "      <th>5</th>\n",
       "      <td>6</td>\n",
       "      <td>Alan Paton</td>\n",
       "    </tr>\n",
       "    <tr>\n",
       "      <th>6</th>\n",
       "      <td>7</td>\n",
       "      <td>Albert Camus/Justin O'Brien</td>\n",
       "    </tr>\n",
       "    <tr>\n",
       "      <th>7</th>\n",
       "      <td>8</td>\n",
       "      <td>Aldous Huxley</td>\n",
       "    </tr>\n",
       "    <tr>\n",
       "      <th>8</th>\n",
       "      <td>9</td>\n",
       "      <td>Aldous Huxley/Christopher Hitchens</td>\n",
       "    </tr>\n",
       "    <tr>\n",
       "      <th>9</th>\n",
       "      <td>10</td>\n",
       "      <td>Aleksandr Solzhenitsyn/H.T. Willetts</td>\n",
       "    </tr>\n",
       "  </tbody>\n",
       "</table>\n",
       "</div>"
      ],
      "text/plain": [
       "   author_id                                author\n",
       "0          1                            A.S. Byatt\n",
       "1          2        Aesop/Laura Harris/Laura Gibbs\n",
       "2          3                       Agatha Christie\n",
       "3          4                         Alan Brennert\n",
       "4          5              Alan Moore/David   Lloyd\n",
       "5          6                            Alan Paton\n",
       "6          7           Albert Camus/Justin O'Brien\n",
       "7          8                         Aldous Huxley\n",
       "8          9    Aldous Huxley/Christopher Hitchens\n",
       "9         10  Aleksandr Solzhenitsyn/H.T. Willetts"
      ]
     },
     "execution_count": 5,
     "metadata": {},
     "output_type": "execute_result"
    }
   ],
   "source": [
    "heads('authors')"
   ]
  },
  {
   "cell_type": "markdown",
   "metadata": {},
   "source": [
    "Третья таблица объединяет данные об издателях:\n",
    "\n",
    "`publisher_id` — идентификатор издательства;\n",
    "\n",
    "`publisher` — название издательства;"
   ]
  },
  {
   "cell_type": "code",
   "execution_count": 6,
   "metadata": {},
   "outputs": [
    {
     "data": {
      "text/html": [
       "<div>\n",
       "<style scoped>\n",
       "    .dataframe tbody tr th:only-of-type {\n",
       "        vertical-align: middle;\n",
       "    }\n",
       "\n",
       "    .dataframe tbody tr th {\n",
       "        vertical-align: top;\n",
       "    }\n",
       "\n",
       "    .dataframe thead th {\n",
       "        text-align: right;\n",
       "    }\n",
       "</style>\n",
       "<table border=\"1\" class=\"dataframe\">\n",
       "  <thead>\n",
       "    <tr style=\"text-align: right;\">\n",
       "      <th></th>\n",
       "      <th>publisher_id</th>\n",
       "      <th>publisher</th>\n",
       "    </tr>\n",
       "  </thead>\n",
       "  <tbody>\n",
       "    <tr>\n",
       "      <th>0</th>\n",
       "      <td>1</td>\n",
       "      <td>Ace</td>\n",
       "    </tr>\n",
       "    <tr>\n",
       "      <th>1</th>\n",
       "      <td>2</td>\n",
       "      <td>Ace Book</td>\n",
       "    </tr>\n",
       "    <tr>\n",
       "      <th>2</th>\n",
       "      <td>3</td>\n",
       "      <td>Ace Books</td>\n",
       "    </tr>\n",
       "    <tr>\n",
       "      <th>3</th>\n",
       "      <td>4</td>\n",
       "      <td>Ace Hardcover</td>\n",
       "    </tr>\n",
       "    <tr>\n",
       "      <th>4</th>\n",
       "      <td>5</td>\n",
       "      <td>Addison Wesley Publishing Company</td>\n",
       "    </tr>\n",
       "    <tr>\n",
       "      <th>5</th>\n",
       "      <td>6</td>\n",
       "      <td>Aladdin</td>\n",
       "    </tr>\n",
       "    <tr>\n",
       "      <th>6</th>\n",
       "      <td>7</td>\n",
       "      <td>Aladdin Paperbacks</td>\n",
       "    </tr>\n",
       "    <tr>\n",
       "      <th>7</th>\n",
       "      <td>8</td>\n",
       "      <td>Albin Michel</td>\n",
       "    </tr>\n",
       "    <tr>\n",
       "      <th>8</th>\n",
       "      <td>9</td>\n",
       "      <td>Alfred A. Knopf</td>\n",
       "    </tr>\n",
       "    <tr>\n",
       "      <th>9</th>\n",
       "      <td>10</td>\n",
       "      <td>Alfred A. Knopf Books for Young Readers</td>\n",
       "    </tr>\n",
       "  </tbody>\n",
       "</table>\n",
       "</div>"
      ],
      "text/plain": [
       "   publisher_id                                publisher\n",
       "0             1                                      Ace\n",
       "1             2                                 Ace Book\n",
       "2             3                                Ace Books\n",
       "3             4                            Ace Hardcover\n",
       "4             5        Addison Wesley Publishing Company\n",
       "5             6                                  Aladdin\n",
       "6             7                       Aladdin Paperbacks\n",
       "7             8                             Albin Michel\n",
       "8             9                          Alfred A. Knopf\n",
       "9            10  Alfred A. Knopf Books for Young Readers"
      ]
     },
     "execution_count": 6,
     "metadata": {},
     "output_type": "execute_result"
    }
   ],
   "source": [
    "heads('publishers')"
   ]
  },
  {
   "cell_type": "markdown",
   "metadata": {},
   "source": [
    "Четвертая таблица содержит данные о пользовательских оценках книг:\n",
    "\n",
    "`rating_id` — идентификатор оценки;\n",
    "\n",
    "`book_id` — идентификатор книги;\n",
    "\n",
    "`username` — имя пользователя, оставившего оценку;\n",
    "\n",
    "`rating` — оценка книги."
   ]
  },
  {
   "cell_type": "code",
   "execution_count": 7,
   "metadata": {},
   "outputs": [
    {
     "data": {
      "text/html": [
       "<div>\n",
       "<style scoped>\n",
       "    .dataframe tbody tr th:only-of-type {\n",
       "        vertical-align: middle;\n",
       "    }\n",
       "\n",
       "    .dataframe tbody tr th {\n",
       "        vertical-align: top;\n",
       "    }\n",
       "\n",
       "    .dataframe thead th {\n",
       "        text-align: right;\n",
       "    }\n",
       "</style>\n",
       "<table border=\"1\" class=\"dataframe\">\n",
       "  <thead>\n",
       "    <tr style=\"text-align: right;\">\n",
       "      <th></th>\n",
       "      <th>rating_id</th>\n",
       "      <th>book_id</th>\n",
       "      <th>username</th>\n",
       "      <th>rating</th>\n",
       "    </tr>\n",
       "  </thead>\n",
       "  <tbody>\n",
       "    <tr>\n",
       "      <th>0</th>\n",
       "      <td>1</td>\n",
       "      <td>1</td>\n",
       "      <td>ryanfranco</td>\n",
       "      <td>4</td>\n",
       "    </tr>\n",
       "    <tr>\n",
       "      <th>1</th>\n",
       "      <td>2</td>\n",
       "      <td>1</td>\n",
       "      <td>grantpatricia</td>\n",
       "      <td>2</td>\n",
       "    </tr>\n",
       "    <tr>\n",
       "      <th>2</th>\n",
       "      <td>3</td>\n",
       "      <td>1</td>\n",
       "      <td>brandtandrea</td>\n",
       "      <td>5</td>\n",
       "    </tr>\n",
       "    <tr>\n",
       "      <th>3</th>\n",
       "      <td>4</td>\n",
       "      <td>2</td>\n",
       "      <td>lorichen</td>\n",
       "      <td>3</td>\n",
       "    </tr>\n",
       "    <tr>\n",
       "      <th>4</th>\n",
       "      <td>5</td>\n",
       "      <td>2</td>\n",
       "      <td>mariokeller</td>\n",
       "      <td>2</td>\n",
       "    </tr>\n",
       "    <tr>\n",
       "      <th>5</th>\n",
       "      <td>6</td>\n",
       "      <td>3</td>\n",
       "      <td>johnsonamanda</td>\n",
       "      <td>4</td>\n",
       "    </tr>\n",
       "    <tr>\n",
       "      <th>6</th>\n",
       "      <td>7</td>\n",
       "      <td>3</td>\n",
       "      <td>scotttamara</td>\n",
       "      <td>5</td>\n",
       "    </tr>\n",
       "    <tr>\n",
       "      <th>7</th>\n",
       "      <td>8</td>\n",
       "      <td>3</td>\n",
       "      <td>lesliegibbs</td>\n",
       "      <td>5</td>\n",
       "    </tr>\n",
       "    <tr>\n",
       "      <th>8</th>\n",
       "      <td>9</td>\n",
       "      <td>4</td>\n",
       "      <td>abbottjames</td>\n",
       "      <td>5</td>\n",
       "    </tr>\n",
       "    <tr>\n",
       "      <th>9</th>\n",
       "      <td>10</td>\n",
       "      <td>4</td>\n",
       "      <td>valenciaanne</td>\n",
       "      <td>4</td>\n",
       "    </tr>\n",
       "  </tbody>\n",
       "</table>\n",
       "</div>"
      ],
      "text/plain": [
       "   rating_id  book_id       username  rating\n",
       "0          1        1     ryanfranco       4\n",
       "1          2        1  grantpatricia       2\n",
       "2          3        1   brandtandrea       5\n",
       "3          4        2       lorichen       3\n",
       "4          5        2    mariokeller       2\n",
       "5          6        3  johnsonamanda       4\n",
       "6          7        3    scotttamara       5\n",
       "7          8        3    lesliegibbs       5\n",
       "8          9        4    abbottjames       5\n",
       "9         10        4   valenciaanne       4"
      ]
     },
     "execution_count": 7,
     "metadata": {},
     "output_type": "execute_result"
    }
   ],
   "source": [
    "heads('ratings')"
   ]
  },
  {
   "cell_type": "markdown",
   "metadata": {},
   "source": [
    "И, наконец, последняя, пятая таблица содержит данные о пользовательских обзорах:\n",
    "\n",
    "`review_id` — идентификатор обзора;\n",
    "\n",
    "`book_id` — идентификатор книги;\n",
    "\n",
    "`username` — имя автора обзора;\n",
    "\n",
    "`text` — текст обзора."
   ]
  },
  {
   "cell_type": "code",
   "execution_count": 8,
   "metadata": {},
   "outputs": [
    {
     "data": {
      "text/html": [
       "<div>\n",
       "<style scoped>\n",
       "    .dataframe tbody tr th:only-of-type {\n",
       "        vertical-align: middle;\n",
       "    }\n",
       "\n",
       "    .dataframe tbody tr th {\n",
       "        vertical-align: top;\n",
       "    }\n",
       "\n",
       "    .dataframe thead th {\n",
       "        text-align: right;\n",
       "    }\n",
       "</style>\n",
       "<table border=\"1\" class=\"dataframe\">\n",
       "  <thead>\n",
       "    <tr style=\"text-align: right;\">\n",
       "      <th></th>\n",
       "      <th>review_id</th>\n",
       "      <th>book_id</th>\n",
       "      <th>username</th>\n",
       "      <th>text</th>\n",
       "    </tr>\n",
       "  </thead>\n",
       "  <tbody>\n",
       "    <tr>\n",
       "      <th>0</th>\n",
       "      <td>1</td>\n",
       "      <td>1</td>\n",
       "      <td>brandtandrea</td>\n",
       "      <td>Mention society tell send professor analysis. ...</td>\n",
       "    </tr>\n",
       "    <tr>\n",
       "      <th>1</th>\n",
       "      <td>2</td>\n",
       "      <td>1</td>\n",
       "      <td>ryanfranco</td>\n",
       "      <td>Foot glass pretty audience hit themselves. Amo...</td>\n",
       "    </tr>\n",
       "    <tr>\n",
       "      <th>2</th>\n",
       "      <td>3</td>\n",
       "      <td>2</td>\n",
       "      <td>lorichen</td>\n",
       "      <td>Listen treat keep worry. Miss husband tax but ...</td>\n",
       "    </tr>\n",
       "    <tr>\n",
       "      <th>3</th>\n",
       "      <td>4</td>\n",
       "      <td>3</td>\n",
       "      <td>johnsonamanda</td>\n",
       "      <td>Finally month interesting blue could nature cu...</td>\n",
       "    </tr>\n",
       "    <tr>\n",
       "      <th>4</th>\n",
       "      <td>5</td>\n",
       "      <td>3</td>\n",
       "      <td>scotttamara</td>\n",
       "      <td>Nation purpose heavy give wait song will. List...</td>\n",
       "    </tr>\n",
       "    <tr>\n",
       "      <th>5</th>\n",
       "      <td>6</td>\n",
       "      <td>3</td>\n",
       "      <td>lesliegibbs</td>\n",
       "      <td>Analysis no several cause international.</td>\n",
       "    </tr>\n",
       "    <tr>\n",
       "      <th>6</th>\n",
       "      <td>7</td>\n",
       "      <td>4</td>\n",
       "      <td>valenciaanne</td>\n",
       "      <td>One there cost another. Say type save. With pe...</td>\n",
       "    </tr>\n",
       "    <tr>\n",
       "      <th>7</th>\n",
       "      <td>8</td>\n",
       "      <td>4</td>\n",
       "      <td>abbottjames</td>\n",
       "      <td>Within enough mother. There at system full rec...</td>\n",
       "    </tr>\n",
       "    <tr>\n",
       "      <th>8</th>\n",
       "      <td>9</td>\n",
       "      <td>5</td>\n",
       "      <td>npowers</td>\n",
       "      <td>Thank now focus realize economy focus fly. Ite...</td>\n",
       "    </tr>\n",
       "    <tr>\n",
       "      <th>9</th>\n",
       "      <td>10</td>\n",
       "      <td>5</td>\n",
       "      <td>staylor</td>\n",
       "      <td>Game push lot reduce where remember. Including...</td>\n",
       "    </tr>\n",
       "  </tbody>\n",
       "</table>\n",
       "</div>"
      ],
      "text/plain": [
       "   review_id  book_id       username  \\\n",
       "0          1        1   brandtandrea   \n",
       "1          2        1     ryanfranco   \n",
       "2          3        2       lorichen   \n",
       "3          4        3  johnsonamanda   \n",
       "4          5        3    scotttamara   \n",
       "5          6        3    lesliegibbs   \n",
       "6          7        4   valenciaanne   \n",
       "7          8        4    abbottjames   \n",
       "8          9        5        npowers   \n",
       "9         10        5        staylor   \n",
       "\n",
       "                                                text  \n",
       "0  Mention society tell send professor analysis. ...  \n",
       "1  Foot glass pretty audience hit themselves. Amo...  \n",
       "2  Listen treat keep worry. Miss husband tax but ...  \n",
       "3  Finally month interesting blue could nature cu...  \n",
       "4  Nation purpose heavy give wait song will. List...  \n",
       "5           Analysis no several cause international.  \n",
       "6  One there cost another. Say type save. With pe...  \n",
       "7  Within enough mother. There at system full rec...  \n",
       "8  Thank now focus realize economy focus fly. Ite...  \n",
       "9  Game push lot reduce where remember. Including...  "
      ]
     },
     "execution_count": 8,
     "metadata": {},
     "output_type": "execute_result"
    }
   ],
   "source": [
    "heads('reviews')"
   ]
  },
  {
   "cell_type": "markdown",
   "metadata": {},
   "source": [
    "### Выводы"
   ]
  },
  {
   "cell_type": "markdown",
   "metadata": {},
   "source": [
    "Мы ознакомились со структурой базы данных и готовы приступать к составлению запросов."
   ]
  },
  {
   "cell_type": "markdown",
   "metadata": {},
   "source": [
    "## Выполнение запросов к базе данных"
   ]
  },
  {
   "cell_type": "markdown",
   "metadata": {},
   "source": [
    "### Посчитайте, сколько книг вышло после 1 января 2000 года;"
   ]
  },
  {
   "cell_type": "code",
   "execution_count": 9,
   "metadata": {},
   "outputs": [],
   "source": [
    "query = '''\n",
    "           SELECT COUNT(DISTINCT book_id)\n",
    "           FROM books \n",
    "           WHERE publication_date > '2000-01-01'\n",
    "        '''"
   ]
  },
  {
   "cell_type": "code",
   "execution_count": 10,
   "metadata": {},
   "outputs": [
    {
     "data": {
      "text/html": [
       "<div>\n",
       "<style scoped>\n",
       "    .dataframe tbody tr th:only-of-type {\n",
       "        vertical-align: middle;\n",
       "    }\n",
       "\n",
       "    .dataframe tbody tr th {\n",
       "        vertical-align: top;\n",
       "    }\n",
       "\n",
       "    .dataframe thead th {\n",
       "        text-align: right;\n",
       "    }\n",
       "</style>\n",
       "<table border=\"1\" class=\"dataframe\">\n",
       "  <thead>\n",
       "    <tr style=\"text-align: right;\">\n",
       "      <th></th>\n",
       "      <th>count</th>\n",
       "    </tr>\n",
       "  </thead>\n",
       "  <tbody>\n",
       "    <tr>\n",
       "      <th>0</th>\n",
       "      <td>819</td>\n",
       "    </tr>\n",
       "  </tbody>\n",
       "</table>\n",
       "</div>"
      ],
      "text/plain": [
       "   count\n",
       "0    819"
      ]
     },
     "execution_count": 10,
     "metadata": {},
     "output_type": "execute_result"
    }
   ],
   "source": [
    "pd.io.sql.read_sql(query, con = engine)"
   ]
  },
  {
   "cell_type": "markdown",
   "metadata": {},
   "source": [
    "### Для каждой книги посчитайте количество обзоров и среднюю оценку;"
   ]
  },
  {
   "cell_type": "code",
   "execution_count": 11,
   "metadata": {},
   "outputs": [],
   "source": [
    "query = '''\n",
    "           SELECT b.book_id, b.title, COUNT(DISTINCT rev.review_id) AS review_count , ROUND(AVG(rt.rating), 2) AS average_rating\n",
    "           FROM books AS b\n",
    "           FULL OUTER JOIN reviews AS rev ON b.book_id = rev.book_id\n",
    "           FULL OUTER  JOIN ratings AS rt ON b.book_id = rt.book_id\n",
    "           GROUP BY b.book_id\n",
    "           ORDER BY review_count DESC\n",
    "           LIMIT 10\n",
    "        '''"
   ]
  },
  {
   "cell_type": "code",
   "execution_count": 12,
   "metadata": {},
   "outputs": [
    {
     "data": {
      "text/html": [
       "<div>\n",
       "<style scoped>\n",
       "    .dataframe tbody tr th:only-of-type {\n",
       "        vertical-align: middle;\n",
       "    }\n",
       "\n",
       "    .dataframe tbody tr th {\n",
       "        vertical-align: top;\n",
       "    }\n",
       "\n",
       "    .dataframe thead th {\n",
       "        text-align: right;\n",
       "    }\n",
       "</style>\n",
       "<table border=\"1\" class=\"dataframe\">\n",
       "  <thead>\n",
       "    <tr style=\"text-align: right;\">\n",
       "      <th></th>\n",
       "      <th>book_id</th>\n",
       "      <th>title</th>\n",
       "      <th>review_count</th>\n",
       "      <th>average_rating</th>\n",
       "    </tr>\n",
       "  </thead>\n",
       "  <tbody>\n",
       "    <tr>\n",
       "      <th>0</th>\n",
       "      <td>948</td>\n",
       "      <td>Twilight (Twilight  #1)</td>\n",
       "      <td>7</td>\n",
       "      <td>3.66</td>\n",
       "    </tr>\n",
       "    <tr>\n",
       "      <th>1</th>\n",
       "      <td>696</td>\n",
       "      <td>The Da Vinci Code (Robert Langdon  #2)</td>\n",
       "      <td>6</td>\n",
       "      <td>3.83</td>\n",
       "    </tr>\n",
       "    <tr>\n",
       "      <th>2</th>\n",
       "      <td>207</td>\n",
       "      <td>Eat  Pray  Love</td>\n",
       "      <td>6</td>\n",
       "      <td>3.40</td>\n",
       "    </tr>\n",
       "    <tr>\n",
       "      <th>3</th>\n",
       "      <td>627</td>\n",
       "      <td>The Alchemist</td>\n",
       "      <td>6</td>\n",
       "      <td>3.79</td>\n",
       "    </tr>\n",
       "    <tr>\n",
       "      <th>4</th>\n",
       "      <td>673</td>\n",
       "      <td>The Catcher in the Rye</td>\n",
       "      <td>6</td>\n",
       "      <td>3.83</td>\n",
       "    </tr>\n",
       "    <tr>\n",
       "      <th>5</th>\n",
       "      <td>695</td>\n",
       "      <td>The Curious Incident of the Dog in the Night-Time</td>\n",
       "      <td>6</td>\n",
       "      <td>4.08</td>\n",
       "    </tr>\n",
       "    <tr>\n",
       "      <th>6</th>\n",
       "      <td>302</td>\n",
       "      <td>Harry Potter and the Prisoner of Azkaban (Harr...</td>\n",
       "      <td>6</td>\n",
       "      <td>4.41</td>\n",
       "    </tr>\n",
       "    <tr>\n",
       "      <th>7</th>\n",
       "      <td>299</td>\n",
       "      <td>Harry Potter and the Chamber of Secrets (Harry...</td>\n",
       "      <td>6</td>\n",
       "      <td>4.29</td>\n",
       "    </tr>\n",
       "    <tr>\n",
       "      <th>8</th>\n",
       "      <td>497</td>\n",
       "      <td>Outlander (Outlander  #1)</td>\n",
       "      <td>6</td>\n",
       "      <td>4.13</td>\n",
       "    </tr>\n",
       "    <tr>\n",
       "      <th>9</th>\n",
       "      <td>656</td>\n",
       "      <td>The Book Thief</td>\n",
       "      <td>6</td>\n",
       "      <td>4.26</td>\n",
       "    </tr>\n",
       "  </tbody>\n",
       "</table>\n",
       "</div>"
      ],
      "text/plain": [
       "   book_id                                              title  review_count  \\\n",
       "0      948                            Twilight (Twilight  #1)             7   \n",
       "1      696             The Da Vinci Code (Robert Langdon  #2)             6   \n",
       "2      207                                    Eat  Pray  Love             6   \n",
       "3      627                                      The Alchemist             6   \n",
       "4      673                             The Catcher in the Rye             6   \n",
       "5      695  The Curious Incident of the Dog in the Night-Time             6   \n",
       "6      302  Harry Potter and the Prisoner of Azkaban (Harr...             6   \n",
       "7      299  Harry Potter and the Chamber of Secrets (Harry...             6   \n",
       "8      497                          Outlander (Outlander  #1)             6   \n",
       "9      656                                     The Book Thief             6   \n",
       "\n",
       "   average_rating  \n",
       "0            3.66  \n",
       "1            3.83  \n",
       "2            3.40  \n",
       "3            3.79  \n",
       "4            3.83  \n",
       "5            4.08  \n",
       "6            4.41  \n",
       "7            4.29  \n",
       "8            4.13  \n",
       "9            4.26  "
      ]
     },
     "execution_count": 12,
     "metadata": {},
     "output_type": "execute_result"
    }
   ],
   "source": [
    "pd.io.sql.read_sql(query, con = engine)"
   ]
  },
  {
   "cell_type": "markdown",
   "metadata": {},
   "source": [
    "### Определите издательство, которое выпустило наибольшее число книг толще 50 страниц — так вы исключите из анализа брошюры;"
   ]
  },
  {
   "cell_type": "code",
   "execution_count": 13,
   "metadata": {},
   "outputs": [],
   "source": [
    "query = '''\n",
    "           SELECT pub.publisher, COUNT(b.book_id) AS book_count\n",
    "           FROM books AS b\n",
    "           JOIN publishers AS pub ON b.publisher_id = pub.publisher_id\n",
    "           WHERE b.num_pages > 50\n",
    "           GROUP BY pub.publisher\n",
    "           ORDER BY book_count DESC\n",
    "           LIMIT 10\n",
    "        '''"
   ]
  },
  {
   "cell_type": "code",
   "execution_count": 14,
   "metadata": {},
   "outputs": [
    {
     "data": {
      "text/html": [
       "<div>\n",
       "<style scoped>\n",
       "    .dataframe tbody tr th:only-of-type {\n",
       "        vertical-align: middle;\n",
       "    }\n",
       "\n",
       "    .dataframe tbody tr th {\n",
       "        vertical-align: top;\n",
       "    }\n",
       "\n",
       "    .dataframe thead th {\n",
       "        text-align: right;\n",
       "    }\n",
       "</style>\n",
       "<table border=\"1\" class=\"dataframe\">\n",
       "  <thead>\n",
       "    <tr style=\"text-align: right;\">\n",
       "      <th></th>\n",
       "      <th>publisher</th>\n",
       "      <th>book_count</th>\n",
       "    </tr>\n",
       "  </thead>\n",
       "  <tbody>\n",
       "    <tr>\n",
       "      <th>0</th>\n",
       "      <td>Penguin Books</td>\n",
       "      <td>42</td>\n",
       "    </tr>\n",
       "    <tr>\n",
       "      <th>1</th>\n",
       "      <td>Vintage</td>\n",
       "      <td>31</td>\n",
       "    </tr>\n",
       "    <tr>\n",
       "      <th>2</th>\n",
       "      <td>Grand Central Publishing</td>\n",
       "      <td>25</td>\n",
       "    </tr>\n",
       "    <tr>\n",
       "      <th>3</th>\n",
       "      <td>Penguin Classics</td>\n",
       "      <td>24</td>\n",
       "    </tr>\n",
       "    <tr>\n",
       "      <th>4</th>\n",
       "      <td>Ballantine Books</td>\n",
       "      <td>19</td>\n",
       "    </tr>\n",
       "    <tr>\n",
       "      <th>5</th>\n",
       "      <td>Bantam</td>\n",
       "      <td>19</td>\n",
       "    </tr>\n",
       "    <tr>\n",
       "      <th>6</th>\n",
       "      <td>Berkley</td>\n",
       "      <td>17</td>\n",
       "    </tr>\n",
       "    <tr>\n",
       "      <th>7</th>\n",
       "      <td>St. Martin's Press</td>\n",
       "      <td>14</td>\n",
       "    </tr>\n",
       "    <tr>\n",
       "      <th>8</th>\n",
       "      <td>Berkley Books</td>\n",
       "      <td>14</td>\n",
       "    </tr>\n",
       "    <tr>\n",
       "      <th>9</th>\n",
       "      <td>William Morrow Paperbacks</td>\n",
       "      <td>13</td>\n",
       "    </tr>\n",
       "  </tbody>\n",
       "</table>\n",
       "</div>"
      ],
      "text/plain": [
       "                   publisher  book_count\n",
       "0              Penguin Books          42\n",
       "1                    Vintage          31\n",
       "2   Grand Central Publishing          25\n",
       "3           Penguin Classics          24\n",
       "4           Ballantine Books          19\n",
       "5                     Bantam          19\n",
       "6                    Berkley          17\n",
       "7         St. Martin's Press          14\n",
       "8              Berkley Books          14\n",
       "9  William Morrow Paperbacks          13"
      ]
     },
     "execution_count": 14,
     "metadata": {},
     "output_type": "execute_result"
    }
   ],
   "source": [
    "pd.io.sql.read_sql(query, con = engine)"
   ]
  },
  {
   "cell_type": "markdown",
   "metadata": {},
   "source": [
    "### Определите автора с самой высокой средней оценкой книг — учитывайте только книги с 50 и более оценками;"
   ]
  },
  {
   "cell_type": "code",
   "execution_count": 15,
   "metadata": {},
   "outputs": [],
   "source": [
    "query = '''\n",
    "           SELECT max_scores.author, ROUND(max_scores.average_rating, 2) AS average_score\n",
    "           FROM (SELECT author, AVG(rt.rating) AS average_rating\n",
    "                 FROM authors AS aut\n",
    "                 JOIN books AS b ON aut.author_id = b.author_id\n",
    "                 JOIN ratings AS rt ON b.book_id = rt.book_id\n",
    "                 GROUP BY author\n",
    "                 HAVING COUNT(rating_id)>50) AS max_scores\n",
    "           ORDER BY average_rating DESC\n",
    "           LIMIT 1\n",
    "        '''"
   ]
  },
  {
   "cell_type": "code",
   "execution_count": 16,
   "metadata": {},
   "outputs": [
    {
     "data": {
      "text/html": [
       "<div>\n",
       "<style scoped>\n",
       "    .dataframe tbody tr th:only-of-type {\n",
       "        vertical-align: middle;\n",
       "    }\n",
       "\n",
       "    .dataframe tbody tr th {\n",
       "        vertical-align: top;\n",
       "    }\n",
       "\n",
       "    .dataframe thead th {\n",
       "        text-align: right;\n",
       "    }\n",
       "</style>\n",
       "<table border=\"1\" class=\"dataframe\">\n",
       "  <thead>\n",
       "    <tr style=\"text-align: right;\">\n",
       "      <th></th>\n",
       "      <th>author</th>\n",
       "      <th>average_score</th>\n",
       "    </tr>\n",
       "  </thead>\n",
       "  <tbody>\n",
       "    <tr>\n",
       "      <th>0</th>\n",
       "      <td>J.K. Rowling/Mary GrandPré</td>\n",
       "      <td>4.29</td>\n",
       "    </tr>\n",
       "  </tbody>\n",
       "</table>\n",
       "</div>"
      ],
      "text/plain": [
       "                       author  average_score\n",
       "0  J.K. Rowling/Mary GrandPré           4.29"
      ]
     },
     "execution_count": 16,
     "metadata": {},
     "output_type": "execute_result"
    }
   ],
   "source": [
    "pd.io.sql.read_sql(query, con = engine)"
   ]
  },
  {
   "cell_type": "markdown",
   "metadata": {},
   "source": [
    "### Посчитайте среднее количество обзоров от пользователей, которые поставили больше 50 оценок."
   ]
  },
  {
   "cell_type": "code",
   "execution_count": 17,
   "metadata": {},
   "outputs": [],
   "source": [
    "query = '''\n",
    "            SELECT ROUND(AVG(max_texts.count), 2) AS average_review_count\n",
    "            FROM (SELECT COUNT(review_id)\n",
    "                  FROM reviews\n",
    "                  WHERE username IN (SELECT username\n",
    "                                     FROM ratings AS rt\n",
    "                                     GROUP BY username \n",
    "                                     HAVING COUNT(rating) > 50)\n",
    "                  GROUP BY username) AS max_texts\n",
    "        '''"
   ]
  },
  {
   "cell_type": "code",
   "execution_count": 18,
   "metadata": {},
   "outputs": [
    {
     "data": {
      "text/html": [
       "<div>\n",
       "<style scoped>\n",
       "    .dataframe tbody tr th:only-of-type {\n",
       "        vertical-align: middle;\n",
       "    }\n",
       "\n",
       "    .dataframe tbody tr th {\n",
       "        vertical-align: top;\n",
       "    }\n",
       "\n",
       "    .dataframe thead th {\n",
       "        text-align: right;\n",
       "    }\n",
       "</style>\n",
       "<table border=\"1\" class=\"dataframe\">\n",
       "  <thead>\n",
       "    <tr style=\"text-align: right;\">\n",
       "      <th></th>\n",
       "      <th>average_review_count</th>\n",
       "    </tr>\n",
       "  </thead>\n",
       "  <tbody>\n",
       "    <tr>\n",
       "      <th>0</th>\n",
       "      <td>24.33</td>\n",
       "    </tr>\n",
       "  </tbody>\n",
       "</table>\n",
       "</div>"
      ],
      "text/plain": [
       "   average_review_count\n",
       "0                 24.33"
      ]
     },
     "execution_count": 18,
     "metadata": {},
     "output_type": "execute_result"
    }
   ],
   "source": [
    "pd.io.sql.read_sql(query, con = engine)"
   ]
  },
  {
   "cell_type": "markdown",
   "metadata": {},
   "source": [
    "## Выводы"
   ]
  },
  {
   "cell_type": "markdown",
   "metadata": {},
   "source": [
    "По итогам составленных запросов мы модем сделать следующие выводы:\n",
    "\n",
    "* в базе насчитывается 819 книг, изданных после 1 января 2000 года\n",
    "* больше всего обзоров написано на книгу `Twilight`, но ее средний рейтинг составляет 3,66\n",
    "* наибольшее количество книг объемом свыше 50 страниц выпущено издательством `Penguin Books` - 42 штуки\n",
    "* самая высокая средняя оценка книг у автора `J.K. Rowling/Mary GrandPré` - 4,29 (среди книг, получивших более 50 оценок)\n",
    "* среднее количество обзоров среди самых активных пользователей, поставивших более 50 оценок - 24,33"
   ]
  }
 ],
 "metadata": {
  "ExecuteTimeLog": [
   {
    "duration": 602,
    "start_time": "2022-07-12T06:43:53.015Z"
   },
   {
    "duration": 5903,
    "start_time": "2022-07-12T06:44:39.388Z"
   },
   {
    "duration": 265,
    "start_time": "2022-07-12T06:45:00.833Z"
   },
   {
    "duration": 58,
    "start_time": "2022-07-12T06:47:20.147Z"
   },
   {
    "duration": 70,
    "start_time": "2022-07-12T06:48:00.091Z"
   },
   {
    "duration": 7,
    "start_time": "2022-07-12T06:48:07.956Z"
   },
   {
    "duration": 77,
    "start_time": "2022-07-12T06:50:18.246Z"
   },
   {
    "duration": 3,
    "start_time": "2022-07-12T06:56:01.653Z"
   },
   {
    "duration": 78,
    "start_time": "2022-07-12T06:56:08.364Z"
   },
   {
    "duration": 3,
    "start_time": "2022-07-12T06:58:07.435Z"
   },
   {
    "duration": 76,
    "start_time": "2022-07-12T06:58:12.458Z"
   },
   {
    "duration": 3,
    "start_time": "2022-07-12T07:04:20.966Z"
   },
   {
    "duration": 161,
    "start_time": "2022-07-12T07:04:21.508Z"
   },
   {
    "duration": 3,
    "start_time": "2022-07-12T07:05:16.585Z"
   },
   {
    "duration": 162,
    "start_time": "2022-07-12T07:05:17.000Z"
   },
   {
    "duration": 2,
    "start_time": "2022-07-12T07:05:34.924Z"
   },
   {
    "duration": 385,
    "start_time": "2022-07-12T07:05:35.326Z"
   },
   {
    "duration": 3,
    "start_time": "2022-07-12T07:07:10.356Z"
   },
   {
    "duration": 141,
    "start_time": "2022-07-12T07:07:11.694Z"
   },
   {
    "duration": 3,
    "start_time": "2022-07-12T07:07:34.205Z"
   },
   {
    "duration": 201,
    "start_time": "2022-07-12T07:07:36.821Z"
   },
   {
    "duration": 3,
    "start_time": "2022-07-12T07:07:42.035Z"
   },
   {
    "duration": 74,
    "start_time": "2022-07-12T07:07:42.897Z"
   },
   {
    "duration": 3,
    "start_time": "2022-07-12T07:07:59.570Z"
   },
   {
    "duration": 86,
    "start_time": "2022-07-12T07:08:00.533Z"
   },
   {
    "duration": 3,
    "start_time": "2022-07-12T07:08:32.112Z"
   },
   {
    "duration": 85,
    "start_time": "2022-07-12T07:08:32.368Z"
   },
   {
    "duration": 3,
    "start_time": "2022-07-12T07:08:48.514Z"
   },
   {
    "duration": 87,
    "start_time": "2022-07-12T07:08:48.821Z"
   },
   {
    "duration": 4,
    "start_time": "2022-07-12T07:08:52.991Z"
   },
   {
    "duration": 86,
    "start_time": "2022-07-12T07:08:53.357Z"
   },
   {
    "duration": 2,
    "start_time": "2022-07-12T07:09:34.563Z"
   },
   {
    "duration": 92,
    "start_time": "2022-07-12T07:09:34.883Z"
   },
   {
    "duration": 3,
    "start_time": "2022-07-12T07:09:58.714Z"
   },
   {
    "duration": 85,
    "start_time": "2022-07-12T07:10:00.037Z"
   },
   {
    "duration": 3,
    "start_time": "2022-07-12T07:10:10.452Z"
   },
   {
    "duration": 3,
    "start_time": "2022-07-12T07:10:14.041Z"
   },
   {
    "duration": 91,
    "start_time": "2022-07-12T07:10:14.450Z"
   },
   {
    "duration": 3,
    "start_time": "2022-07-12T07:10:55.640Z"
   },
   {
    "duration": 138,
    "start_time": "2022-07-12T07:10:56.063Z"
   },
   {
    "duration": 3,
    "start_time": "2022-07-12T07:11:04.535Z"
   },
   {
    "duration": 95,
    "start_time": "2022-07-12T07:11:04.875Z"
   },
   {
    "duration": 3,
    "start_time": "2022-07-12T07:19:54.706Z"
   },
   {
    "duration": 87,
    "start_time": "2022-07-12T07:19:59.054Z"
   },
   {
    "duration": 3,
    "start_time": "2022-07-12T07:22:11.500Z"
   },
   {
    "duration": 76,
    "start_time": "2022-07-12T07:22:12.118Z"
   },
   {
    "duration": 3,
    "start_time": "2022-07-12T07:22:39.073Z"
   },
   {
    "duration": 148,
    "start_time": "2022-07-12T07:22:39.762Z"
   },
   {
    "duration": 2,
    "start_time": "2022-07-12T07:22:48.122Z"
   },
   {
    "duration": 135,
    "start_time": "2022-07-12T07:22:48.512Z"
   },
   {
    "duration": 3,
    "start_time": "2022-07-12T07:23:08.871Z"
   },
   {
    "duration": 153,
    "start_time": "2022-07-12T07:23:09.329Z"
   },
   {
    "duration": 2,
    "start_time": "2022-07-12T07:23:23.569Z"
   },
   {
    "duration": 79,
    "start_time": "2022-07-12T07:23:24.110Z"
   },
   {
    "duration": 3,
    "start_time": "2022-07-12T07:23:39.425Z"
   },
   {
    "duration": 76,
    "start_time": "2022-07-12T07:23:40.446Z"
   },
   {
    "duration": 3,
    "start_time": "2022-07-12T07:23:56.210Z"
   },
   {
    "duration": 212,
    "start_time": "2022-07-12T07:23:56.624Z"
   },
   {
    "duration": 3,
    "start_time": "2022-07-12T07:24:04.148Z"
   },
   {
    "duration": 76,
    "start_time": "2022-07-12T07:24:04.550Z"
   },
   {
    "duration": 3,
    "start_time": "2022-07-12T07:25:18.670Z"
   },
   {
    "duration": 91,
    "start_time": "2022-07-12T07:25:19.083Z"
   },
   {
    "duration": 3,
    "start_time": "2022-07-12T07:26:14.037Z"
   },
   {
    "duration": 92,
    "start_time": "2022-07-12T07:26:14.323Z"
   },
   {
    "duration": 3,
    "start_time": "2022-07-12T07:26:28.248Z"
   },
   {
    "duration": 100,
    "start_time": "2022-07-12T07:26:28.480Z"
   },
   {
    "duration": 3,
    "start_time": "2022-07-12T07:37:53.331Z"
   },
   {
    "duration": 80,
    "start_time": "2022-07-12T07:37:57.071Z"
   },
   {
    "duration": 3,
    "start_time": "2022-07-12T07:38:24.173Z"
   },
   {
    "duration": 92,
    "start_time": "2022-07-12T07:38:24.402Z"
   },
   {
    "duration": 3,
    "start_time": "2022-07-12T07:40:57.402Z"
   },
   {
    "duration": 93,
    "start_time": "2022-07-12T07:40:57.616Z"
   },
   {
    "duration": 3,
    "start_time": "2022-07-12T07:43:58.734Z"
   },
   {
    "duration": 207,
    "start_time": "2022-07-12T07:43:59.157Z"
   },
   {
    "duration": 3,
    "start_time": "2022-07-12T07:50:18.993Z"
   },
   {
    "duration": 256,
    "start_time": "2022-07-12T07:50:19.411Z"
   },
   {
    "duration": 3,
    "start_time": "2022-07-12T07:50:32.719Z"
   },
   {
    "duration": 143,
    "start_time": "2022-07-12T07:50:33.515Z"
   },
   {
    "duration": 4,
    "start_time": "2022-07-12T07:57:29.021Z"
   },
   {
    "duration": 99,
    "start_time": "2022-07-12T07:57:29.494Z"
   },
   {
    "duration": 2,
    "start_time": "2022-07-12T07:57:41.848Z"
   },
   {
    "duration": 78,
    "start_time": "2022-07-12T07:57:42.664Z"
   },
   {
    "duration": 3,
    "start_time": "2022-07-12T07:57:58.744Z"
   },
   {
    "duration": 80,
    "start_time": "2022-07-12T07:57:59.287Z"
   },
   {
    "duration": 2,
    "start_time": "2022-07-12T07:58:43.229Z"
   },
   {
    "duration": 159,
    "start_time": "2022-07-12T07:58:43.519Z"
   },
   {
    "duration": 2,
    "start_time": "2022-07-12T07:59:10.102Z"
   },
   {
    "duration": 162,
    "start_time": "2022-07-12T07:59:10.431Z"
   },
   {
    "duration": 3,
    "start_time": "2022-07-12T07:59:14.582Z"
   },
   {
    "duration": 79,
    "start_time": "2022-07-12T07:59:14.889Z"
   },
   {
    "duration": 2,
    "start_time": "2022-07-12T07:59:49.289Z"
   },
   {
    "duration": 78,
    "start_time": "2022-07-12T07:59:49.662Z"
   },
   {
    "duration": 3,
    "start_time": "2022-07-12T08:00:26.919Z"
   },
   {
    "duration": 172,
    "start_time": "2022-07-12T08:00:27.294Z"
   },
   {
    "duration": 2,
    "start_time": "2022-07-12T08:00:48.423Z"
   },
   {
    "duration": 134,
    "start_time": "2022-07-12T08:00:48.707Z"
   },
   {
    "duration": 3,
    "start_time": "2022-07-12T08:03:24.749Z"
   },
   {
    "duration": 175,
    "start_time": "2022-07-12T08:03:25.244Z"
   },
   {
    "duration": 294,
    "start_time": "2022-07-12T08:03:58.449Z"
   },
   {
    "duration": 150,
    "start_time": "2022-07-12T08:04:03.569Z"
   },
   {
    "duration": 184,
    "start_time": "2022-07-12T08:04:26.425Z"
   },
   {
    "duration": 90,
    "start_time": "2022-07-12T08:04:58.543Z"
   },
   {
    "duration": 2,
    "start_time": "2022-07-12T08:06:24.763Z"
   },
   {
    "duration": 172,
    "start_time": "2022-07-12T08:06:39.003Z"
   },
   {
    "duration": 2,
    "start_time": "2022-07-12T08:07:02.842Z"
   },
   {
    "duration": 50,
    "start_time": "2022-07-12T08:07:03.200Z"
   },
   {
    "duration": 138,
    "start_time": "2022-07-12T08:07:04.747Z"
   },
   {
    "duration": 3,
    "start_time": "2022-07-12T08:07:20.408Z"
   },
   {
    "duration": 137,
    "start_time": "2022-07-12T08:07:21.176Z"
   },
   {
    "duration": 69,
    "start_time": "2022-07-12T08:11:55.732Z"
   },
   {
    "duration": 94,
    "start_time": "2022-07-12T08:12:02.003Z"
   },
   {
    "duration": 172,
    "start_time": "2022-07-12T08:12:24.296Z"
   },
   {
    "duration": 196,
    "start_time": "2022-07-12T08:12:45.224Z"
   },
   {
    "duration": 98,
    "start_time": "2022-07-12T08:12:52.387Z"
   },
   {
    "duration": 89,
    "start_time": "2022-07-12T08:13:02.186Z"
   },
   {
    "duration": 144,
    "start_time": "2022-07-12T08:13:11.232Z"
   },
   {
    "duration": 99,
    "start_time": "2022-07-12T08:13:39.613Z"
   },
   {
    "duration": 3,
    "start_time": "2022-07-12T08:15:18.671Z"
   },
   {
    "duration": 172,
    "start_time": "2022-07-12T08:15:27.808Z"
   },
   {
    "duration": 152,
    "start_time": "2022-07-12T08:16:49.804Z"
   },
   {
    "duration": 190,
    "start_time": "2022-07-12T08:17:10.621Z"
   },
   {
    "duration": 211,
    "start_time": "2022-07-12T08:17:16.016Z"
   },
   {
    "duration": 77,
    "start_time": "2022-07-12T08:17:27.716Z"
   },
   {
    "duration": 3,
    "start_time": "2022-07-12T08:17:48.954Z"
   },
   {
    "duration": 140,
    "start_time": "2022-07-12T08:17:50.932Z"
   },
   {
    "duration": 139,
    "start_time": "2022-07-12T08:18:19.024Z"
   },
   {
    "duration": 138,
    "start_time": "2022-07-12T08:18:34.751Z"
   },
   {
    "duration": 2,
    "start_time": "2022-07-12T08:19:18.040Z"
   },
   {
    "duration": 84,
    "start_time": "2022-07-12T08:19:19.773Z"
   },
   {
    "duration": 3,
    "start_time": "2022-07-12T08:21:22.345Z"
   },
   {
    "duration": 299,
    "start_time": "2022-07-12T08:21:25.403Z"
   },
   {
    "duration": 2,
    "start_time": "2022-07-12T08:22:09.540Z"
   },
   {
    "duration": 133,
    "start_time": "2022-07-12T08:22:11.294Z"
   },
   {
    "duration": 3,
    "start_time": "2022-07-12T08:22:45.998Z"
   },
   {
    "duration": 75,
    "start_time": "2022-07-12T08:22:48.203Z"
   },
   {
    "duration": 3,
    "start_time": "2022-07-12T08:23:12.155Z"
   },
   {
    "duration": 142,
    "start_time": "2022-07-12T08:23:13.569Z"
   },
   {
    "duration": 144,
    "start_time": "2022-07-12T08:24:02.632Z"
   },
   {
    "duration": 77,
    "start_time": "2022-07-12T08:24:06.631Z"
   },
   {
    "duration": 3,
    "start_time": "2022-07-12T08:24:45.636Z"
   },
   {
    "duration": 137,
    "start_time": "2022-07-12T08:24:50.387Z"
   },
   {
    "duration": 4,
    "start_time": "2022-07-12T08:25:08.948Z"
   },
   {
    "duration": 360,
    "start_time": "2022-07-12T08:25:11.289Z"
   },
   {
    "duration": 3,
    "start_time": "2022-07-12T08:27:30.846Z"
   },
   {
    "duration": 214,
    "start_time": "2022-07-12T08:27:32.984Z"
   },
   {
    "duration": 3,
    "start_time": "2022-07-12T08:28:05.784Z"
   },
   {
    "duration": 147,
    "start_time": "2022-07-12T08:28:09.282Z"
   },
   {
    "duration": 3,
    "start_time": "2022-07-12T08:28:23.898Z"
   },
   {
    "duration": 167,
    "start_time": "2022-07-12T08:28:25.525Z"
   },
   {
    "duration": 173,
    "start_time": "2022-07-12T08:33:15.713Z"
   },
   {
    "duration": 211,
    "start_time": "2022-07-12T08:33:25.097Z"
   },
   {
    "duration": 135,
    "start_time": "2022-07-12T08:37:21.102Z"
   },
   {
    "duration": 175,
    "start_time": "2022-07-12T08:37:30.552Z"
   },
   {
    "duration": 77,
    "start_time": "2022-07-12T08:37:40.542Z"
   },
   {
    "duration": 80,
    "start_time": "2022-07-12T08:44:10.253Z"
   },
   {
    "duration": 4,
    "start_time": "2022-07-12T08:44:42.244Z"
   },
   {
    "duration": 79,
    "start_time": "2022-07-12T08:44:44.432Z"
   },
   {
    "duration": 3,
    "start_time": "2022-07-12T08:45:52.817Z"
   },
   {
    "duration": 81,
    "start_time": "2022-07-12T08:45:54.698Z"
   },
   {
    "duration": 3,
    "start_time": "2022-07-12T08:46:22.090Z"
   },
   {
    "duration": 80,
    "start_time": "2022-07-12T08:46:27.675Z"
   },
   {
    "duration": 3,
    "start_time": "2022-07-12T08:46:32.469Z"
   },
   {
    "duration": 81,
    "start_time": "2022-07-12T08:46:33.678Z"
   },
   {
    "duration": 3,
    "start_time": "2022-07-12T09:18:37.748Z"
   },
   {
    "duration": 126,
    "start_time": "2022-07-12T09:18:43.497Z"
   },
   {
    "duration": 2,
    "start_time": "2022-07-12T09:20:27.977Z"
   },
   {
    "duration": 124,
    "start_time": "2022-07-12T09:20:28.411Z"
   },
   {
    "duration": 3,
    "start_time": "2022-07-12T09:21:06.581Z"
   },
   {
    "duration": 172,
    "start_time": "2022-07-12T09:21:06.907Z"
   },
   {
    "duration": 2,
    "start_time": "2022-07-12T09:21:47.706Z"
   },
   {
    "duration": 175,
    "start_time": "2022-07-12T09:21:47.905Z"
   },
   {
    "duration": 2,
    "start_time": "2022-07-12T09:22:11.088Z"
   },
   {
    "duration": 172,
    "start_time": "2022-07-12T09:22:11.456Z"
   },
   {
    "duration": 3,
    "start_time": "2022-07-12T09:22:21.457Z"
   },
   {
    "duration": 197,
    "start_time": "2022-07-12T09:22:21.772Z"
   },
   {
    "duration": 3,
    "start_time": "2022-07-12T09:22:47.750Z"
   },
   {
    "duration": 123,
    "start_time": "2022-07-12T09:22:48.084Z"
   },
   {
    "duration": 2,
    "start_time": "2022-07-12T09:22:56.402Z"
   },
   {
    "duration": 124,
    "start_time": "2022-07-12T09:22:56.836Z"
   },
   {
    "duration": 2,
    "start_time": "2022-07-12T09:23:04.192Z"
   },
   {
    "duration": 123,
    "start_time": "2022-07-12T09:23:04.414Z"
   },
   {
    "duration": 3,
    "start_time": "2022-07-12T09:23:20.017Z"
   },
   {
    "duration": 146,
    "start_time": "2022-07-12T09:23:20.265Z"
   },
   {
    "duration": 2,
    "start_time": "2022-07-12T09:23:29.559Z"
   },
   {
    "duration": 71,
    "start_time": "2022-07-12T09:23:30.112Z"
   },
   {
    "duration": 4,
    "start_time": "2022-07-12T09:24:01.853Z"
   },
   {
    "duration": 80,
    "start_time": "2022-07-12T09:24:02.145Z"
   },
   {
    "duration": 2,
    "start_time": "2022-07-12T09:28:27.673Z"
   },
   {
    "duration": 141,
    "start_time": "2022-07-12T09:28:28.078Z"
   },
   {
    "duration": 3,
    "start_time": "2022-07-12T09:28:38.001Z"
   },
   {
    "duration": 129,
    "start_time": "2022-07-12T09:28:38.251Z"
   },
   {
    "duration": 3,
    "start_time": "2022-07-12T09:28:49.205Z"
   },
   {
    "duration": 126,
    "start_time": "2022-07-12T09:28:49.835Z"
   },
   {
    "duration": 4,
    "start_time": "2022-07-12T09:28:55.260Z"
   },
   {
    "duration": 129,
    "start_time": "2022-07-12T09:28:56.522Z"
   },
   {
    "duration": 3,
    "start_time": "2022-07-12T09:29:12.074Z"
   },
   {
    "duration": 143,
    "start_time": "2022-07-12T09:29:12.471Z"
   },
   {
    "duration": 3,
    "start_time": "2022-07-12T09:29:18.052Z"
   },
   {
    "duration": 155,
    "start_time": "2022-07-12T09:29:18.506Z"
   },
   {
    "duration": 3,
    "start_time": "2022-07-12T09:29:28.486Z"
   },
   {
    "duration": 208,
    "start_time": "2022-07-12T09:29:29.454Z"
   },
   {
    "duration": 3,
    "start_time": "2022-07-12T09:30:06.378Z"
   },
   {
    "duration": 143,
    "start_time": "2022-07-12T09:30:06.979Z"
   },
   {
    "duration": 3,
    "start_time": "2022-07-12T09:30:22.371Z"
   },
   {
    "duration": 129,
    "start_time": "2022-07-12T09:30:22.650Z"
   },
   {
    "duration": 3,
    "start_time": "2022-07-12T09:30:35.211Z"
   },
   {
    "duration": 163,
    "start_time": "2022-07-12T09:30:35.433Z"
   },
   {
    "duration": 2,
    "start_time": "2022-07-12T09:30:40.773Z"
   },
   {
    "duration": 74,
    "start_time": "2022-07-12T09:30:41.236Z"
   },
   {
    "duration": 3,
    "start_time": "2022-07-12T09:31:00.728Z"
   },
   {
    "duration": 137,
    "start_time": "2022-07-12T09:31:01.522Z"
   },
   {
    "duration": 2,
    "start_time": "2022-07-12T09:31:18.382Z"
   },
   {
    "duration": 80,
    "start_time": "2022-07-12T09:31:18.965Z"
   },
   {
    "duration": 3,
    "start_time": "2022-07-12T09:32:25.339Z"
   },
   {
    "duration": 78,
    "start_time": "2022-07-12T09:32:25.681Z"
   },
   {
    "duration": 3,
    "start_time": "2022-07-12T09:32:31.532Z"
   },
   {
    "duration": 83,
    "start_time": "2022-07-12T09:32:32.056Z"
   },
   {
    "duration": 3,
    "start_time": "2022-07-12T09:33:23.709Z"
   },
   {
    "duration": 76,
    "start_time": "2022-07-12T09:33:24.018Z"
   },
   {
    "duration": 3,
    "start_time": "2022-07-12T09:34:59.435Z"
   },
   {
    "duration": 84,
    "start_time": "2022-07-12T09:34:59.939Z"
   },
   {
    "duration": 3,
    "start_time": "2022-07-12T09:35:19.134Z"
   },
   {
    "duration": 78,
    "start_time": "2022-07-12T09:35:19.368Z"
   },
   {
    "duration": 3,
    "start_time": "2022-07-12T09:35:57.144Z"
   },
   {
    "duration": 135,
    "start_time": "2022-07-12T09:35:57.839Z"
   },
   {
    "duration": 3,
    "start_time": "2022-07-12T09:36:14.393Z"
   },
   {
    "duration": 83,
    "start_time": "2022-07-12T09:36:14.826Z"
   },
   {
    "duration": 3,
    "start_time": "2022-07-12T09:36:48.309Z"
   },
   {
    "duration": 76,
    "start_time": "2022-07-12T09:36:48.805Z"
   },
   {
    "duration": 2,
    "start_time": "2022-07-12T09:37:43.136Z"
   },
   {
    "duration": 80,
    "start_time": "2022-07-12T09:37:43.540Z"
   },
   {
    "duration": 4,
    "start_time": "2022-07-12T09:38:08.996Z"
   },
   {
    "duration": 3,
    "start_time": "2022-07-12T09:38:25.118Z"
   },
   {
    "duration": 76,
    "start_time": "2022-07-12T09:38:25.475Z"
   },
   {
    "duration": 568,
    "start_time": "2022-07-12T09:39:04.960Z"
   },
   {
    "duration": 7390,
    "start_time": "2022-07-12T09:39:05.530Z"
   },
   {
    "duration": 3,
    "start_time": "2022-07-12T09:39:12.922Z"
   },
   {
    "duration": 309,
    "start_time": "2022-07-12T09:39:12.926Z"
   },
   {
    "duration": 3,
    "start_time": "2022-07-12T09:39:13.237Z"
   },
   {
    "duration": 99,
    "start_time": "2022-07-12T09:39:13.241Z"
   },
   {
    "duration": 3,
    "start_time": "2022-07-12T09:39:13.341Z"
   },
   {
    "duration": 118,
    "start_time": "2022-07-12T09:39:13.346Z"
   },
   {
    "duration": 2,
    "start_time": "2022-07-12T09:39:13.466Z"
   },
   {
    "duration": 86,
    "start_time": "2022-07-12T09:39:13.470Z"
   },
   {
    "duration": 4,
    "start_time": "2022-07-12T09:39:13.559Z"
   },
   {
    "duration": 92,
    "start_time": "2022-07-12T09:39:13.564Z"
   },
   {
    "duration": 3,
    "start_time": "2022-07-12T09:39:13.658Z"
   },
   {
    "duration": 117,
    "start_time": "2022-07-12T09:39:13.663Z"
   },
   {
    "duration": 3,
    "start_time": "2022-07-12T09:49:26.196Z"
   },
   {
    "duration": 234,
    "start_time": "2022-07-12T09:49:30.753Z"
   },
   {
    "duration": 8,
    "start_time": "2022-07-12T09:50:22.035Z"
   },
   {
    "duration": 3,
    "start_time": "2022-07-12T09:56:55.759Z"
   },
   {
    "duration": 155,
    "start_time": "2022-07-12T09:56:56.275Z"
   },
   {
    "duration": 4,
    "start_time": "2022-07-12T09:57:19.030Z"
   },
   {
    "duration": 205,
    "start_time": "2022-07-12T09:57:19.329Z"
   },
   {
    "duration": 49,
    "start_time": "2022-07-12T09:59:38.488Z"
   },
   {
    "duration": 3,
    "start_time": "2022-07-12T09:59:42.395Z"
   },
   {
    "duration": 7,
    "start_time": "2022-07-12T09:59:50.858Z"
   },
   {
    "duration": 572,
    "start_time": "2022-07-12T10:00:11.060Z"
   },
   {
    "duration": 9380,
    "start_time": "2022-07-12T10:00:11.634Z"
   },
   {
    "duration": 4,
    "start_time": "2022-07-12T10:00:21.016Z"
   },
   {
    "duration": 100,
    "start_time": "2022-07-12T10:00:21.022Z"
   },
   {
    "duration": 0,
    "start_time": "2022-07-12T10:00:21.126Z"
   },
   {
    "duration": 0,
    "start_time": "2022-07-12T10:00:21.129Z"
   },
   {
    "duration": 0,
    "start_time": "2022-07-12T10:00:21.130Z"
   },
   {
    "duration": 0,
    "start_time": "2022-07-12T10:00:21.132Z"
   },
   {
    "duration": 0,
    "start_time": "2022-07-12T10:00:21.133Z"
   },
   {
    "duration": 0,
    "start_time": "2022-07-12T10:00:21.134Z"
   },
   {
    "duration": 0,
    "start_time": "2022-07-12T10:00:21.145Z"
   },
   {
    "duration": 0,
    "start_time": "2022-07-12T10:00:21.147Z"
   },
   {
    "duration": 0,
    "start_time": "2022-07-12T10:00:21.148Z"
   },
   {
    "duration": 0,
    "start_time": "2022-07-12T10:00:21.149Z"
   },
   {
    "duration": 0,
    "start_time": "2022-07-12T10:00:21.152Z"
   },
   {
    "duration": 0,
    "start_time": "2022-07-12T10:00:21.153Z"
   },
   {
    "duration": 0,
    "start_time": "2022-07-12T10:00:21.154Z"
   },
   {
    "duration": 0,
    "start_time": "2022-07-12T10:00:21.155Z"
   },
   {
    "duration": 3,
    "start_time": "2022-07-12T10:00:25.668Z"
   },
   {
    "duration": 268,
    "start_time": "2022-07-12T10:00:26.432Z"
   },
   {
    "duration": 602,
    "start_time": "2022-07-12T10:00:56.121Z"
   },
   {
    "duration": 3,
    "start_time": "2022-07-12T10:01:06.989Z"
   },
   {
    "duration": 549,
    "start_time": "2022-07-12T10:01:07.587Z"
   },
   {
    "duration": 3,
    "start_time": "2022-07-12T10:01:41.564Z"
   },
   {
    "duration": 521,
    "start_time": "2022-07-12T10:01:53.973Z"
   },
   {
    "duration": 6396,
    "start_time": "2022-07-12T10:01:54.496Z"
   },
   {
    "duration": 3,
    "start_time": "2022-07-12T10:02:00.894Z"
   },
   {
    "duration": 75,
    "start_time": "2022-07-12T10:02:00.899Z"
   },
   {
    "duration": 0,
    "start_time": "2022-07-12T10:02:00.976Z"
   },
   {
    "duration": 0,
    "start_time": "2022-07-12T10:02:00.977Z"
   },
   {
    "duration": 0,
    "start_time": "2022-07-12T10:02:00.978Z"
   },
   {
    "duration": 0,
    "start_time": "2022-07-12T10:02:00.979Z"
   },
   {
    "duration": 0,
    "start_time": "2022-07-12T10:02:00.980Z"
   },
   {
    "duration": 0,
    "start_time": "2022-07-12T10:02:00.981Z"
   },
   {
    "duration": 0,
    "start_time": "2022-07-12T10:02:00.982Z"
   },
   {
    "duration": 0,
    "start_time": "2022-07-12T10:02:00.983Z"
   },
   {
    "duration": 0,
    "start_time": "2022-07-12T10:02:00.984Z"
   },
   {
    "duration": 0,
    "start_time": "2022-07-12T10:02:00.986Z"
   },
   {
    "duration": 0,
    "start_time": "2022-07-12T10:02:00.987Z"
   },
   {
    "duration": 0,
    "start_time": "2022-07-12T10:02:00.988Z"
   },
   {
    "duration": 0,
    "start_time": "2022-07-12T10:02:00.989Z"
   },
   {
    "duration": 0,
    "start_time": "2022-07-12T10:02:00.990Z"
   },
   {
    "duration": 402,
    "start_time": "2022-07-12T10:02:14.098Z"
   },
   {
    "duration": 2,
    "start_time": "2022-07-12T10:02:25.306Z"
   },
   {
    "duration": 138,
    "start_time": "2022-07-12T10:02:26.578Z"
   },
   {
    "duration": 3,
    "start_time": "2022-07-12T10:02:39.609Z"
   },
   {
    "duration": 140,
    "start_time": "2022-07-12T10:02:41.530Z"
   },
   {
    "duration": 6,
    "start_time": "2022-07-12T10:02:49.009Z"
   },
   {
    "duration": 132,
    "start_time": "2022-07-12T10:02:50.181Z"
   },
   {
    "duration": 3,
    "start_time": "2022-07-12T10:04:11.752Z"
   },
   {
    "duration": 137,
    "start_time": "2022-07-12T10:04:13.007Z"
   },
   {
    "duration": 3,
    "start_time": "2022-07-12T10:04:22.825Z"
   },
   {
    "duration": 83,
    "start_time": "2022-07-12T10:04:24.647Z"
   },
   {
    "duration": 3,
    "start_time": "2022-07-12T10:05:01.711Z"
   },
   {
    "duration": 285,
    "start_time": "2022-07-12T10:05:03.359Z"
   },
   {
    "duration": 8,
    "start_time": "2022-07-12T10:05:08.259Z"
   },
   {
    "duration": 3,
    "start_time": "2022-07-12T10:05:29.475Z"
   },
   {
    "duration": 8,
    "start_time": "2022-07-12T10:05:30.232Z"
   },
   {
    "duration": 135,
    "start_time": "2022-07-12T10:05:34.033Z"
   },
   {
    "duration": 3,
    "start_time": "2022-07-12T10:05:43.672Z"
   },
   {
    "duration": 107,
    "start_time": "2022-07-12T10:05:44.350Z"
   },
   {
    "duration": 3,
    "start_time": "2022-07-12T10:05:54.644Z"
   },
   {
    "duration": 165,
    "start_time": "2022-07-12T10:05:55.625Z"
   },
   {
    "duration": 3,
    "start_time": "2022-07-12T10:07:21.562Z"
   },
   {
    "duration": 219,
    "start_time": "2022-07-12T10:07:22.209Z"
   },
   {
    "duration": 4,
    "start_time": "2022-07-12T10:07:26.948Z"
   },
   {
    "duration": 588,
    "start_time": "2022-07-12T10:07:27.530Z"
   },
   {
    "duration": 3,
    "start_time": "2022-07-12T10:07:44.288Z"
   },
   {
    "duration": 537,
    "start_time": "2022-07-12T10:07:45.813Z"
   },
   {
    "duration": 3,
    "start_time": "2022-07-12T10:07:56.841Z"
   },
   {
    "duration": 526,
    "start_time": "2022-07-12T10:07:57.689Z"
   },
   {
    "duration": 3,
    "start_time": "2022-07-12T10:08:05.417Z"
   },
   {
    "duration": 516,
    "start_time": "2022-07-12T10:08:07.375Z"
   },
   {
    "duration": 3,
    "start_time": "2022-07-12T10:08:31.616Z"
   },
   {
    "duration": 218,
    "start_time": "2022-07-12T10:08:32.201Z"
   },
   {
    "duration": 98,
    "start_time": "2022-07-12T10:08:37.581Z"
   },
   {
    "duration": 4,
    "start_time": "2022-07-12T10:09:00.025Z"
   },
   {
    "duration": 145,
    "start_time": "2022-07-12T10:09:01.791Z"
   },
   {
    "duration": 3,
    "start_time": "2022-07-12T10:09:12.490Z"
   },
   {
    "duration": 152,
    "start_time": "2022-07-12T10:09:13.368Z"
   },
   {
    "duration": 3,
    "start_time": "2022-07-12T10:09:19.329Z"
   },
   {
    "duration": 142,
    "start_time": "2022-07-12T10:09:19.905Z"
   },
   {
    "duration": 2,
    "start_time": "2022-07-12T10:09:55.787Z"
   },
   {
    "duration": 72,
    "start_time": "2022-07-12T10:09:56.075Z"
   },
   {
    "duration": 3,
    "start_time": "2022-07-12T10:10:12.736Z"
   },
   {
    "duration": 145,
    "start_time": "2022-07-12T10:10:13.605Z"
   },
   {
    "duration": 72,
    "start_time": "2022-07-12T10:10:20.013Z"
   },
   {
    "duration": 3,
    "start_time": "2022-07-12T10:11:54.472Z"
   },
   {
    "duration": 187,
    "start_time": "2022-07-12T10:11:58.048Z"
   },
   {
    "duration": 8,
    "start_time": "2022-07-12T10:12:01.013Z"
   },
   {
    "duration": 3,
    "start_time": "2022-07-12T10:12:38.180Z"
   },
   {
    "duration": 111,
    "start_time": "2022-07-12T10:12:38.855Z"
   },
   {
    "duration": 2,
    "start_time": "2022-07-12T10:12:45.964Z"
   },
   {
    "duration": 225,
    "start_time": "2022-07-12T10:12:46.240Z"
   },
   {
    "duration": 3,
    "start_time": "2022-07-12T10:13:33.447Z"
   },
   {
    "duration": 8,
    "start_time": "2022-07-12T10:13:34.316Z"
   },
   {
    "duration": 134,
    "start_time": "2022-07-12T10:13:40.334Z"
   },
   {
    "duration": 3,
    "start_time": "2022-07-12T10:13:54.061Z"
   },
   {
    "duration": 152,
    "start_time": "2022-07-12T10:13:54.835Z"
   },
   {
    "duration": 50,
    "start_time": "2022-07-12T10:13:57.980Z"
   },
   {
    "duration": 141,
    "start_time": "2022-07-12T10:13:59.752Z"
   },
   {
    "duration": 56,
    "start_time": "2022-07-12T10:14:05.296Z"
   },
   {
    "duration": 213,
    "start_time": "2022-07-12T10:14:06.634Z"
   },
   {
    "duration": 3,
    "start_time": "2022-07-12T10:14:09.477Z"
   },
   {
    "duration": 517,
    "start_time": "2022-07-12T10:14:10.254Z"
   },
   {
    "duration": 2,
    "start_time": "2022-07-12T10:14:41.070Z"
   },
   {
    "duration": 4,
    "start_time": "2022-07-12T10:14:41.832Z"
   },
   {
    "duration": 3,
    "start_time": "2022-07-12T10:15:19.857Z"
   },
   {
    "duration": 154,
    "start_time": "2022-07-12T10:15:20.633Z"
   },
   {
    "duration": 4,
    "start_time": "2022-07-12T10:16:22.693Z"
   },
   {
    "duration": 229,
    "start_time": "2022-07-12T10:16:23.361Z"
   },
   {
    "duration": 2,
    "start_time": "2022-07-12T10:17:57.952Z"
   },
   {
    "duration": 130,
    "start_time": "2022-07-12T10:17:58.374Z"
   },
   {
    "duration": 2,
    "start_time": "2022-07-12T10:21:53.322Z"
   },
   {
    "duration": 138,
    "start_time": "2022-07-12T10:21:53.670Z"
   },
   {
    "duration": 3,
    "start_time": "2022-07-12T10:23:24.705Z"
   },
   {
    "duration": 170,
    "start_time": "2022-07-12T10:23:25.701Z"
   },
   {
    "duration": 3,
    "start_time": "2022-07-12T10:23:36.721Z"
   },
   {
    "duration": 517,
    "start_time": "2022-07-12T10:23:37.997Z"
   },
   {
    "duration": 3,
    "start_time": "2022-07-12T10:23:46.701Z"
   },
   {
    "duration": 518,
    "start_time": "2022-07-12T10:23:47.791Z"
   },
   {
    "duration": 8,
    "start_time": "2022-07-12T10:24:09.771Z"
   },
   {
    "duration": 2,
    "start_time": "2022-07-12T10:24:56.057Z"
   },
   {
    "duration": 13,
    "start_time": "2022-07-12T10:25:09.070Z"
   },
   {
    "duration": 8,
    "start_time": "2022-07-12T10:25:21.544Z"
   },
   {
    "duration": 3,
    "start_time": "2022-07-12T10:32:00.474Z"
   },
   {
    "duration": 136,
    "start_time": "2022-07-12T10:32:06.376Z"
   },
   {
    "duration": 73,
    "start_time": "2022-07-12T10:32:15.626Z"
   },
   {
    "duration": 3,
    "start_time": "2022-07-12T10:32:20.371Z"
   },
   {
    "duration": 3,
    "start_time": "2022-07-12T10:41:11.026Z"
   },
   {
    "duration": 150,
    "start_time": "2022-07-12T10:41:11.861Z"
   },
   {
    "duration": 4,
    "start_time": "2022-07-12T10:43:19.406Z"
   },
   {
    "duration": 3,
    "start_time": "2022-07-12T10:43:19.723Z"
   },
   {
    "duration": 4,
    "start_time": "2022-07-12T10:43:31.737Z"
   },
   {
    "duration": 90,
    "start_time": "2022-07-12T10:43:47.353Z"
   },
   {
    "duration": 4,
    "start_time": "2022-07-12T10:45:56.801Z"
   },
   {
    "duration": 75,
    "start_time": "2022-07-12T10:45:58.484Z"
   },
   {
    "duration": 4,
    "start_time": "2022-07-12T10:48:17.169Z"
   },
   {
    "duration": 89,
    "start_time": "2022-07-12T10:48:17.700Z"
   },
   {
    "duration": 7,
    "start_time": "2022-07-12T10:48:51.368Z"
   },
   {
    "duration": 258,
    "start_time": "2022-07-12T10:48:52.284Z"
   },
   {
    "duration": 3,
    "start_time": "2022-07-12T10:49:26.474Z"
   },
   {
    "duration": 2,
    "start_time": "2022-07-12T10:50:51.991Z"
   },
   {
    "duration": 166,
    "start_time": "2022-07-12T10:50:53.520Z"
   },
   {
    "duration": 5,
    "start_time": "2022-07-12T10:51:13.882Z"
   },
   {
    "duration": 85,
    "start_time": "2022-07-12T10:51:15.197Z"
   },
   {
    "duration": 55,
    "start_time": "2022-07-12T10:53:55.383Z"
   },
   {
    "duration": 3,
    "start_time": "2022-07-12T10:54:00.677Z"
   },
   {
    "duration": 177,
    "start_time": "2022-07-12T10:54:01.108Z"
   },
   {
    "duration": 4,
    "start_time": "2022-07-12T10:54:49.504Z"
   },
   {
    "duration": 153,
    "start_time": "2022-07-12T10:54:50.077Z"
   },
   {
    "duration": 3,
    "start_time": "2022-07-12T10:55:02.385Z"
   },
   {
    "duration": 240,
    "start_time": "2022-07-12T10:55:02.808Z"
   },
   {
    "duration": 129,
    "start_time": "2022-07-12T10:58:02.332Z"
   },
   {
    "duration": 3,
    "start_time": "2022-07-12T10:58:03.801Z"
   },
   {
    "duration": 162,
    "start_time": "2022-07-12T10:58:05.114Z"
   },
   {
    "duration": 4,
    "start_time": "2022-07-12T10:58:10.541Z"
   },
   {
    "duration": 170,
    "start_time": "2022-07-12T10:58:10.926Z"
   },
   {
    "duration": 80,
    "start_time": "2022-07-12T11:00:50.942Z"
   },
   {
    "duration": 73,
    "start_time": "2022-07-12T11:01:41.685Z"
   },
   {
    "duration": 3,
    "start_time": "2022-07-12T11:01:57.268Z"
   },
   {
    "duration": 81,
    "start_time": "2022-07-12T11:02:01.028Z"
   },
   {
    "duration": 78,
    "start_time": "2022-07-12T11:02:05.329Z"
   },
   {
    "duration": 8,
    "start_time": "2022-07-12T11:05:08.210Z"
   },
   {
    "duration": 10,
    "start_time": "2022-07-12T11:05:36.233Z"
   },
   {
    "duration": 9,
    "start_time": "2022-07-12T11:05:42.092Z"
   },
   {
    "duration": 8,
    "start_time": "2022-07-12T11:05:47.833Z"
   },
   {
    "duration": 8,
    "start_time": "2022-07-12T11:05:52.579Z"
   },
   {
    "duration": 99,
    "start_time": "2022-07-12T11:05:59.672Z"
   },
   {
    "duration": 91,
    "start_time": "2022-07-12T11:06:11.517Z"
   },
   {
    "duration": 75,
    "start_time": "2022-07-12T11:07:31.759Z"
   },
   {
    "duration": 8,
    "start_time": "2022-07-12T11:09:50.037Z"
   },
   {
    "duration": 73,
    "start_time": "2022-07-12T11:09:56.262Z"
   },
   {
    "duration": 77,
    "start_time": "2022-07-12T11:13:07.572Z"
   },
   {
    "duration": 608,
    "start_time": "2022-07-12T11:14:48.760Z"
   },
   {
    "duration": 9020,
    "start_time": "2022-07-12T11:14:49.370Z"
   },
   {
    "duration": 3,
    "start_time": "2022-07-12T11:14:58.391Z"
   },
   {
    "duration": 268,
    "start_time": "2022-07-12T11:14:58.396Z"
   },
   {
    "duration": 68,
    "start_time": "2022-07-12T11:14:58.668Z"
   },
   {
    "duration": 86,
    "start_time": "2022-07-12T11:14:58.738Z"
   },
   {
    "duration": 92,
    "start_time": "2022-07-12T11:14:58.826Z"
   },
   {
    "duration": 104,
    "start_time": "2022-07-12T11:14:58.921Z"
   },
   {
    "duration": 4,
    "start_time": "2022-07-12T11:14:59.028Z"
   },
   {
    "duration": 91,
    "start_time": "2022-07-12T11:14:59.034Z"
   },
   {
    "duration": 3,
    "start_time": "2022-07-12T11:14:59.127Z"
   },
   {
    "duration": 160,
    "start_time": "2022-07-12T11:14:59.132Z"
   },
   {
    "duration": 4,
    "start_time": "2022-07-12T11:14:59.293Z"
   },
   {
    "duration": 106,
    "start_time": "2022-07-12T11:14:59.300Z"
   },
   {
    "duration": 3,
    "start_time": "2022-07-12T11:14:59.408Z"
   },
   {
    "duration": 106,
    "start_time": "2022-07-12T11:14:59.412Z"
   },
   {
    "duration": 3,
    "start_time": "2022-07-12T11:14:59.520Z"
   },
   {
    "duration": 120,
    "start_time": "2022-07-12T11:14:59.524Z"
   },
   {
    "duration": 3,
    "start_time": "2022-07-12T11:15:53.299Z"
   },
   {
    "duration": 91,
    "start_time": "2022-07-12T11:15:58.192Z"
   },
   {
    "duration": 4,
    "start_time": "2022-07-12T11:28:04.676Z"
   },
   {
    "duration": 129,
    "start_time": "2022-07-12T11:28:05.060Z"
   },
   {
    "duration": 4,
    "start_time": "2022-07-12T11:28:20.328Z"
   },
   {
    "duration": 128,
    "start_time": "2022-07-12T11:28:20.798Z"
   },
   {
    "duration": 3,
    "start_time": "2022-07-12T11:28:27.733Z"
   },
   {
    "duration": 121,
    "start_time": "2022-07-12T11:28:28.046Z"
   },
   {
    "duration": 4,
    "start_time": "2022-07-12T11:28:36.032Z"
   },
   {
    "duration": 112,
    "start_time": "2022-07-12T11:28:36.780Z"
   },
   {
    "duration": 3,
    "start_time": "2022-07-12T11:29:19.380Z"
   },
   {
    "duration": 3,
    "start_time": "2022-07-12T11:31:31.549Z"
   },
   {
    "duration": 95,
    "start_time": "2022-07-12T11:31:32.182Z"
   },
   {
    "duration": 3,
    "start_time": "2022-07-12T11:31:35.173Z"
   },
   {
    "duration": 110,
    "start_time": "2022-07-12T11:31:35.963Z"
   },
   {
    "duration": 3,
    "start_time": "2022-07-12T11:31:45.993Z"
   },
   {
    "duration": 100,
    "start_time": "2022-07-12T11:31:46.271Z"
   },
   {
    "duration": 8,
    "start_time": "2022-07-12T11:31:59.143Z"
   },
   {
    "duration": 125,
    "start_time": "2022-07-12T11:31:59.994Z"
   },
   {
    "duration": 5,
    "start_time": "2022-07-12T11:32:09.128Z"
   },
   {
    "duration": 2,
    "start_time": "2022-07-12T11:33:09.362Z"
   },
   {
    "duration": 79,
    "start_time": "2022-07-12T11:33:10.309Z"
   },
   {
    "duration": 3,
    "start_time": "2022-07-12T11:34:23.504Z"
   },
   {
    "duration": 81,
    "start_time": "2022-07-12T11:34:23.809Z"
   },
   {
    "duration": 3,
    "start_time": "2022-07-12T11:34:32.560Z"
   },
   {
    "duration": 80,
    "start_time": "2022-07-12T11:34:33.259Z"
   },
   {
    "duration": 4,
    "start_time": "2022-07-12T11:36:13.926Z"
   },
   {
    "duration": 69,
    "start_time": "2022-07-12T11:36:16.782Z"
   },
   {
    "duration": 3,
    "start_time": "2022-07-12T11:40:08.466Z"
   },
   {
    "duration": 289,
    "start_time": "2022-07-12T11:40:09.111Z"
   },
   {
    "duration": 13,
    "start_time": "2022-07-12T11:41:00.545Z"
   },
   {
    "duration": 164,
    "start_time": "2022-07-12T11:41:00.943Z"
   },
   {
    "duration": 3,
    "start_time": "2022-07-12T11:41:11.734Z"
   },
   {
    "duration": 163,
    "start_time": "2022-07-12T11:41:12.131Z"
   },
   {
    "duration": 582,
    "start_time": "2022-07-12T11:43:04.690Z"
   },
   {
    "duration": 8131,
    "start_time": "2022-07-12T11:43:05.275Z"
   },
   {
    "duration": 4,
    "start_time": "2022-07-12T11:43:13.407Z"
   },
   {
    "duration": 260,
    "start_time": "2022-07-12T11:43:13.412Z"
   },
   {
    "duration": 73,
    "start_time": "2022-07-12T11:43:13.674Z"
   },
   {
    "duration": 73,
    "start_time": "2022-07-12T11:43:13.748Z"
   },
   {
    "duration": 77,
    "start_time": "2022-07-12T11:43:13.823Z"
   },
   {
    "duration": 77,
    "start_time": "2022-07-12T11:43:13.902Z"
   },
   {
    "duration": 5,
    "start_time": "2022-07-12T11:43:13.981Z"
   },
   {
    "duration": 88,
    "start_time": "2022-07-12T11:43:13.988Z"
   },
   {
    "duration": 4,
    "start_time": "2022-07-12T11:43:14.078Z"
   },
   {
    "duration": 100,
    "start_time": "2022-07-12T11:43:14.083Z"
   },
   {
    "duration": 4,
    "start_time": "2022-07-12T11:43:14.186Z"
   },
   {
    "duration": 80,
    "start_time": "2022-07-12T11:43:14.193Z"
   },
   {
    "duration": 3,
    "start_time": "2022-07-12T11:43:14.276Z"
   },
   {
    "duration": 100,
    "start_time": "2022-07-12T11:43:14.281Z"
   },
   {
    "duration": 3,
    "start_time": "2022-07-12T11:43:14.385Z"
   },
   {
    "duration": 245,
    "start_time": "2022-07-12T11:43:14.390Z"
   },
   {
    "duration": 0,
    "start_time": "2022-07-12T11:43:14.637Z"
   },
   {
    "duration": 0,
    "start_time": "2022-07-12T11:43:14.638Z"
   },
   {
    "duration": 0,
    "start_time": "2022-07-12T11:43:14.640Z"
   },
   {
    "duration": 0,
    "start_time": "2022-07-12T11:43:14.641Z"
   },
   {
    "duration": 4,
    "start_time": "2022-07-12T11:43:48.878Z"
   },
   {
    "duration": 75,
    "start_time": "2022-07-12T11:43:49.966Z"
   },
   {
    "duration": 3,
    "start_time": "2022-07-12T11:44:03.475Z"
   },
   {
    "duration": 130,
    "start_time": "2022-07-12T11:44:05.295Z"
   },
   {
    "duration": 4,
    "start_time": "2022-07-12T11:44:23.888Z"
   },
   {
    "duration": 73,
    "start_time": "2022-07-12T11:44:25.111Z"
   },
   {
    "duration": 5,
    "start_time": "2022-07-12T11:46:20.477Z"
   },
   {
    "duration": 74,
    "start_time": "2022-07-12T11:46:20.892Z"
   },
   {
    "duration": 3,
    "start_time": "2022-07-12T11:48:03.236Z"
   },
   {
    "duration": 78,
    "start_time": "2022-07-12T11:48:03.551Z"
   },
   {
    "duration": 3,
    "start_time": "2022-07-12T11:48:15.725Z"
   },
   {
    "duration": 73,
    "start_time": "2022-07-12T11:48:16.250Z"
   },
   {
    "duration": 72,
    "start_time": "2022-07-12T11:48:25.526Z"
   },
   {
    "duration": 2,
    "start_time": "2022-07-12T11:48:25.600Z"
   },
   {
    "duration": 82,
    "start_time": "2022-07-12T11:48:25.604Z"
   },
   {
    "duration": 2,
    "start_time": "2022-07-12T11:48:25.688Z"
   },
   {
    "duration": 84,
    "start_time": "2022-07-12T11:48:25.692Z"
   },
   {
    "duration": 3,
    "start_time": "2022-07-12T11:49:16.877Z"
   },
   {
    "duration": 86,
    "start_time": "2022-07-12T11:49:17.345Z"
   },
   {
    "duration": 3,
    "start_time": "2022-07-12T11:49:25.803Z"
   },
   {
    "duration": 114,
    "start_time": "2022-07-12T11:49:26.115Z"
   },
   {
    "duration": 2,
    "start_time": "2022-07-12T11:49:35.620Z"
   },
   {
    "duration": 3,
    "start_time": "2022-07-12T11:50:07.157Z"
   },
   {
    "duration": 77,
    "start_time": "2022-07-12T11:50:07.402Z"
   },
   {
    "duration": 3,
    "start_time": "2022-07-12T11:50:43.407Z"
   },
   {
    "duration": 90,
    "start_time": "2022-07-12T11:50:43.645Z"
   },
   {
    "duration": 3,
    "start_time": "2022-07-12T11:55:04.647Z"
   },
   {
    "duration": 88,
    "start_time": "2022-07-12T11:55:04.940Z"
   },
   {
    "duration": 3,
    "start_time": "2022-07-12T11:58:21.024Z"
   },
   {
    "duration": 114,
    "start_time": "2022-07-12T11:58:21.306Z"
   },
   {
    "duration": 3,
    "start_time": "2022-07-12T11:58:26.044Z"
   },
   {
    "duration": 91,
    "start_time": "2022-07-12T11:58:26.930Z"
   },
   {
    "duration": 3,
    "start_time": "2022-07-12T11:58:54.679Z"
   },
   {
    "duration": 76,
    "start_time": "2022-07-12T11:58:54.964Z"
   },
   {
    "duration": 3,
    "start_time": "2022-07-12T11:59:17.971Z"
   },
   {
    "duration": 80,
    "start_time": "2022-07-12T11:59:18.747Z"
   },
   {
    "duration": 4,
    "start_time": "2022-07-12T12:00:01.870Z"
   },
   {
    "duration": 75,
    "start_time": "2022-07-12T12:00:02.489Z"
   },
   {
    "duration": 511,
    "start_time": "2022-07-12T16:44:27.682Z"
   },
   {
    "duration": 8872,
    "start_time": "2022-07-12T16:44:28.195Z"
   },
   {
    "duration": 2,
    "start_time": "2022-07-12T16:44:37.069Z"
   },
   {
    "duration": 235,
    "start_time": "2022-07-12T16:44:37.073Z"
   },
   {
    "duration": 68,
    "start_time": "2022-07-12T16:44:37.309Z"
   },
   {
    "duration": 66,
    "start_time": "2022-07-12T16:44:37.379Z"
   },
   {
    "duration": 69,
    "start_time": "2022-07-12T16:44:37.447Z"
   },
   {
    "duration": 69,
    "start_time": "2022-07-12T16:44:37.518Z"
   },
   {
    "duration": 2,
    "start_time": "2022-07-12T16:44:37.588Z"
   },
   {
    "duration": 100,
    "start_time": "2022-07-12T16:44:37.592Z"
   },
   {
    "duration": 2,
    "start_time": "2022-07-12T16:44:37.694Z"
   },
   {
    "duration": 99,
    "start_time": "2022-07-12T16:44:37.697Z"
   },
   {
    "duration": 2,
    "start_time": "2022-07-12T16:44:37.798Z"
   },
   {
    "duration": 85,
    "start_time": "2022-07-12T16:44:37.801Z"
   },
   {
    "duration": 2,
    "start_time": "2022-07-12T16:44:37.888Z"
   },
   {
    "duration": 94,
    "start_time": "2022-07-12T16:44:37.892Z"
   },
   {
    "duration": 2,
    "start_time": "2022-07-12T16:44:37.988Z"
   },
   {
    "duration": 73,
    "start_time": "2022-07-12T16:44:37.991Z"
   },
   {
    "duration": 2,
    "start_time": "2022-07-12T16:44:47.904Z"
   },
   {
    "duration": 112,
    "start_time": "2022-07-12T16:44:50.013Z"
   },
   {
    "duration": 3,
    "start_time": "2022-07-12T16:45:00.418Z"
   },
   {
    "duration": 80,
    "start_time": "2022-07-12T16:45:01.843Z"
   },
   {
    "duration": 3,
    "start_time": "2022-07-12T16:46:07.098Z"
   },
   {
    "duration": 68,
    "start_time": "2022-07-12T16:46:08.592Z"
   },
   {
    "duration": 3,
    "start_time": "2022-07-12T16:46:22.180Z"
   },
   {
    "duration": 70,
    "start_time": "2022-07-12T16:46:23.407Z"
   },
   {
    "duration": 2,
    "start_time": "2022-07-12T16:46:28.455Z"
   },
   {
    "duration": 81,
    "start_time": "2022-07-12T16:46:28.976Z"
   },
   {
    "duration": 487,
    "start_time": "2022-09-07T21:08:12.143Z"
   },
   {
    "duration": 7978,
    "start_time": "2022-09-07T21:08:12.632Z"
   },
   {
    "duration": 2,
    "start_time": "2022-09-07T21:08:20.612Z"
   },
   {
    "duration": 87,
    "start_time": "2022-09-07T21:08:20.616Z"
   },
   {
    "duration": 12,
    "start_time": "2022-09-07T21:08:20.705Z"
   },
   {
    "duration": 13,
    "start_time": "2022-09-07T21:08:20.719Z"
   },
   {
    "duration": 15,
    "start_time": "2022-09-07T21:08:20.735Z"
   },
   {
    "duration": 15,
    "start_time": "2022-09-07T21:08:20.751Z"
   },
   {
    "duration": 2,
    "start_time": "2022-09-07T21:08:20.768Z"
   },
   {
    "duration": 30,
    "start_time": "2022-09-07T21:08:20.773Z"
   },
   {
    "duration": 3,
    "start_time": "2022-09-07T21:08:20.805Z"
   },
   {
    "duration": 35,
    "start_time": "2022-09-07T21:08:20.810Z"
   },
   {
    "duration": 3,
    "start_time": "2022-09-07T21:08:20.847Z"
   },
   {
    "duration": 17,
    "start_time": "2022-09-07T21:08:20.852Z"
   },
   {
    "duration": 3,
    "start_time": "2022-09-07T21:08:20.871Z"
   },
   {
    "duration": 30,
    "start_time": "2022-09-07T21:08:20.875Z"
   },
   {
    "duration": 3,
    "start_time": "2022-09-07T21:08:20.907Z"
   },
   {
    "duration": 17,
    "start_time": "2022-09-07T21:08:20.912Z"
   }
  ],
  "kernelspec": {
   "display_name": "Python 3 (ipykernel)",
   "language": "python",
   "name": "python3"
  },
  "language_info": {
   "codemirror_mode": {
    "name": "ipython",
    "version": 3
   },
   "file_extension": ".py",
   "mimetype": "text/x-python",
   "name": "python",
   "nbconvert_exporter": "python",
   "pygments_lexer": "ipython3",
   "version": "3.9.5"
  },
  "toc": {
   "base_numbering": 1,
   "nav_menu": {},
   "number_sections": true,
   "sideBar": true,
   "skip_h1_title": true,
   "title_cell": "Table of Contents",
   "title_sidebar": "Contents",
   "toc_cell": false,
   "toc_position": {
    "height": "calc(100% - 180px)",
    "left": "10px",
    "top": "150px",
    "width": "210.382px"
   },
   "toc_section_display": true,
   "toc_window_display": true
  }
 },
 "nbformat": 4,
 "nbformat_minor": 2
}
