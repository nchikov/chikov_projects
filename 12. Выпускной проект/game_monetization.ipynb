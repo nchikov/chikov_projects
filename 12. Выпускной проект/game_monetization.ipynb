{
 "cells": [
  {
   "cell_type": "markdown",
   "metadata": {},
   "source": [
    "# Введение"
   ]
  },
  {
   "cell_type": "markdown",
   "metadata": {},
   "source": [
    "Мы располагаем определенным набором данных о событиях, произошедших в мобильной игре «Космические братья». В ней пользователи строят свою космическую программу и пытаются преуспеть в нелёгком деле колонизации галактики.\n",
    "\n",
    "Основная монетизация игры — только планируется. Но предполагается, что в приложении будет происходить показ рекламы на экране с выбором типа объекта для постройки.\n",
    "\n",
    "В основном датасете представлены данные по игре пользователей на первом уровне. Завершение первого уровня требует от игрока выполнения одного из двух условий:\n",
    "\n",
    "- Победа над первым врагом\n",
    "- Реализация проекта - разработка орбитальной сборки спутников\n",
    "\n",
    "В основном датасете содержатся данные первых пользователей приложения — когорты пользователей, которые начали пользоваться приложением в период с 4 по 10 мая включительно.\n",
    "\n",
    "Также у нас есть два датасета с дополнителньой информацией\n"
   ]
  },
  {
   "cell_type": "markdown",
   "metadata": {},
   "source": [
    "##  Загрузка данных и ознакомление с ними"
   ]
  },
  {
   "cell_type": "markdown",
   "metadata": {},
   "source": [
    "Итак, приступим к работе. Для начала импортируем библиотеки, которыми мы будем пользоваться в ходе исследования:"
   ]
  },
  {
   "cell_type": "code",
   "execution_count": 1,
   "metadata": {},
   "outputs": [],
   "source": [
    "import pandas as pd\n",
    "import numpy as np \n",
    "from scipy import stats as st\n",
    "import matplotlib.pyplot as plt\n",
    "import seaborn as sns\n",
    "plt.style.use('seaborn-dark')  # просто для красивости\n",
    "import warnings\n",
    "warnings.simplefilter(action=\"ignore\", category=FutureWarning) \n",
    "pd.options.mode.chained_assignment = None  "
   ]
  },
  {
   "cell_type": "markdown",
   "metadata": {},
   "source": [
    "Теперь мы можем приступать к нашим данным. \n",
    "\n",
    "У нас есть три датасета, которыми мы будем пользоваться. Загружаем их все вместе."
   ]
  },
  {
   "cell_type": "code",
   "execution_count": 2,
   "metadata": {},
   "outputs": [],
   "source": [
    "game_actions = pd.read_csv('/datasets/game_actions.csv')\n",
    "ad_costs = pd.read_csv('/datasets/ad_costs.csv')\n",
    "user_source = pd.read_csv('/datasets/user_source.csv')"
   ]
  },
  {
   "cell_type": "markdown",
   "metadata": {},
   "source": [
    "Согласно легенде исследования, таблицы имеют следующее наполнение:\n",
    "\n",
    "Датасет *game_actions.csv*:\n",
    "\n",
    "- `event_datetime` — время события;\n",
    "- `event` — одно из трёх событий:\n",
    "    1. `building` — объект построен,\n",
    "    2. `finished_stage_1` — первый уровень завершён,\n",
    "    3. `project` — проект завершён;\n",
    "- `building_type` — один из трёх типов здания:\n",
    "    1. `assembly_shop` — сборочный цех,\n",
    "    2. `spaceport` — космопорт,\n",
    "    3. `research_center` — исследовательский центр;\n",
    "- `user_id` — идентификатор пользователя;\n",
    "- `project_type` — тип реализованного проекта;\n",
    "\n",
    "Датасет *ad_cost.csv* содержит колонки:\n",
    "\n",
    "- `day` - день, в который был совершен клик по объявлению\n",
    "- `source` - источник трафика\n",
    "- `cost` - стоимость кликов\n",
    "\n",
    "Датасет user_source.csv содержит колонки:\n",
    "\n",
    "- `user_id` - идентификатор пользователя\n",
    "- `source` - источников, с которого пришёл пользователь, установивший приложение"
   ]
  },
  {
   "cell_type": "markdown",
   "metadata": {},
   "source": [
    "Для удобства напишем небольшую функцию для получения общей информации о каждой из таблиц:"
   ]
  },
  {
   "cell_type": "code",
   "execution_count": 3,
   "metadata": {},
   "outputs": [],
   "source": [
    "def total_info (df):\n",
    "    display(df.head(5))  # шапка\n",
    "    print()\n",
    "    df.info()  # общая информация\n",
    "    print()\n",
    "    print(\"Количество пропусков:\")  # смотрим на пропуски\n",
    "    print(df.isna().sum())\n",
    "    print()\n",
    "    print(\"Количество дубликатов: {}\".format(df.duplicated().sum()))   #смотрим на дубликаты\n",
    "    print()\n",
    "    df=df.drop_duplicates()\n",
    "    "
   ]
  },
  {
   "cell_type": "markdown",
   "metadata": {},
   "source": [
    "И мы начинаем с первой таблицы, использую нашу функцию:"
   ]
  },
  {
   "cell_type": "code",
   "execution_count": 4,
   "metadata": {},
   "outputs": [
    {
     "data": {
      "text/html": [
       "<div>\n",
       "<style scoped>\n",
       "    .dataframe tbody tr th:only-of-type {\n",
       "        vertical-align: middle;\n",
       "    }\n",
       "\n",
       "    .dataframe tbody tr th {\n",
       "        vertical-align: top;\n",
       "    }\n",
       "\n",
       "    .dataframe thead th {\n",
       "        text-align: right;\n",
       "    }\n",
       "</style>\n",
       "<table border=\"1\" class=\"dataframe\">\n",
       "  <thead>\n",
       "    <tr style=\"text-align: right;\">\n",
       "      <th></th>\n",
       "      <th>event_datetime</th>\n",
       "      <th>event</th>\n",
       "      <th>building_type</th>\n",
       "      <th>user_id</th>\n",
       "      <th>project_type</th>\n",
       "    </tr>\n",
       "  </thead>\n",
       "  <tbody>\n",
       "    <tr>\n",
       "      <th>0</th>\n",
       "      <td>2020-05-04 00:00:01</td>\n",
       "      <td>building</td>\n",
       "      <td>assembly_shop</td>\n",
       "      <td>55e92310-cb8e-4754-b622-597e124b03de</td>\n",
       "      <td>NaN</td>\n",
       "    </tr>\n",
       "    <tr>\n",
       "      <th>1</th>\n",
       "      <td>2020-05-04 00:00:03</td>\n",
       "      <td>building</td>\n",
       "      <td>assembly_shop</td>\n",
       "      <td>c07b1c10-f477-44dc-81dc-ec82254b1347</td>\n",
       "      <td>NaN</td>\n",
       "    </tr>\n",
       "    <tr>\n",
       "      <th>2</th>\n",
       "      <td>2020-05-04 00:00:16</td>\n",
       "      <td>building</td>\n",
       "      <td>assembly_shop</td>\n",
       "      <td>6edd42cc-e753-4ff6-a947-2107cd560710</td>\n",
       "      <td>NaN</td>\n",
       "    </tr>\n",
       "    <tr>\n",
       "      <th>3</th>\n",
       "      <td>2020-05-04 00:00:16</td>\n",
       "      <td>building</td>\n",
       "      <td>assembly_shop</td>\n",
       "      <td>92c69003-d60a-444a-827f-8cc51bf6bf4c</td>\n",
       "      <td>NaN</td>\n",
       "    </tr>\n",
       "    <tr>\n",
       "      <th>4</th>\n",
       "      <td>2020-05-04 00:00:35</td>\n",
       "      <td>building</td>\n",
       "      <td>assembly_shop</td>\n",
       "      <td>cdc6bb92-0ccb-4490-9866-ef142f09139d</td>\n",
       "      <td>NaN</td>\n",
       "    </tr>\n",
       "  </tbody>\n",
       "</table>\n",
       "</div>"
      ],
      "text/plain": [
       "        event_datetime     event  building_type  \\\n",
       "0  2020-05-04 00:00:01  building  assembly_shop   \n",
       "1  2020-05-04 00:00:03  building  assembly_shop   \n",
       "2  2020-05-04 00:00:16  building  assembly_shop   \n",
       "3  2020-05-04 00:00:16  building  assembly_shop   \n",
       "4  2020-05-04 00:00:35  building  assembly_shop   \n",
       "\n",
       "                                user_id project_type  \n",
       "0  55e92310-cb8e-4754-b622-597e124b03de          NaN  \n",
       "1  c07b1c10-f477-44dc-81dc-ec82254b1347          NaN  \n",
       "2  6edd42cc-e753-4ff6-a947-2107cd560710          NaN  \n",
       "3  92c69003-d60a-444a-827f-8cc51bf6bf4c          NaN  \n",
       "4  cdc6bb92-0ccb-4490-9866-ef142f09139d          NaN  "
      ]
     },
     "metadata": {},
     "output_type": "display_data"
    },
    {
     "name": "stdout",
     "output_type": "stream",
     "text": [
      "\n",
      "<class 'pandas.core.frame.DataFrame'>\n",
      "RangeIndex: 135640 entries, 0 to 135639\n",
      "Data columns (total 5 columns):\n",
      " #   Column          Non-Null Count   Dtype \n",
      "---  ------          --------------   ----- \n",
      " 0   event_datetime  135640 non-null  object\n",
      " 1   event           135640 non-null  object\n",
      " 2   building_type   127957 non-null  object\n",
      " 3   user_id         135640 non-null  object\n",
      " 4   project_type    1866 non-null    object\n",
      "dtypes: object(5)\n",
      "memory usage: 5.2+ MB\n",
      "\n",
      "Количество пропусков:\n",
      "event_datetime         0\n",
      "event                  0\n",
      "building_type       7683\n",
      "user_id                0\n",
      "project_type      133774\n",
      "dtype: int64\n",
      "\n",
      "Количество дубликатов: 1\n",
      "\n"
     ]
    }
   ],
   "source": [
    "total_info(game_actions)"
   ]
  },
  {
   "cell_type": "markdown",
   "metadata": {},
   "source": [
    "Есть большое количество пропусков в столбцах `building type`, `project_type`. Также имеется дубликат и потребуется сменить тип данных в столбце `event_datetime`. Не совсем понятно, какие значения содержатся в столбце `project_type`. Разберемся с этим на предобработке.\n",
    "\n",
    "Вторая таблица:"
   ]
  },
  {
   "cell_type": "code",
   "execution_count": 5,
   "metadata": {},
   "outputs": [
    {
     "data": {
      "text/html": [
       "<div>\n",
       "<style scoped>\n",
       "    .dataframe tbody tr th:only-of-type {\n",
       "        vertical-align: middle;\n",
       "    }\n",
       "\n",
       "    .dataframe tbody tr th {\n",
       "        vertical-align: top;\n",
       "    }\n",
       "\n",
       "    .dataframe thead th {\n",
       "        text-align: right;\n",
       "    }\n",
       "</style>\n",
       "<table border=\"1\" class=\"dataframe\">\n",
       "  <thead>\n",
       "    <tr style=\"text-align: right;\">\n",
       "      <th></th>\n",
       "      <th>source</th>\n",
       "      <th>day</th>\n",
       "      <th>cost</th>\n",
       "    </tr>\n",
       "  </thead>\n",
       "  <tbody>\n",
       "    <tr>\n",
       "      <th>0</th>\n",
       "      <td>facebook_ads</td>\n",
       "      <td>2020-05-03</td>\n",
       "      <td>935.882786</td>\n",
       "    </tr>\n",
       "    <tr>\n",
       "      <th>1</th>\n",
       "      <td>facebook_ads</td>\n",
       "      <td>2020-05-04</td>\n",
       "      <td>548.354480</td>\n",
       "    </tr>\n",
       "    <tr>\n",
       "      <th>2</th>\n",
       "      <td>facebook_ads</td>\n",
       "      <td>2020-05-05</td>\n",
       "      <td>260.185754</td>\n",
       "    </tr>\n",
       "    <tr>\n",
       "      <th>3</th>\n",
       "      <td>facebook_ads</td>\n",
       "      <td>2020-05-06</td>\n",
       "      <td>177.982200</td>\n",
       "    </tr>\n",
       "    <tr>\n",
       "      <th>4</th>\n",
       "      <td>facebook_ads</td>\n",
       "      <td>2020-05-07</td>\n",
       "      <td>111.766796</td>\n",
       "    </tr>\n",
       "  </tbody>\n",
       "</table>\n",
       "</div>"
      ],
      "text/plain": [
       "         source         day        cost\n",
       "0  facebook_ads  2020-05-03  935.882786\n",
       "1  facebook_ads  2020-05-04  548.354480\n",
       "2  facebook_ads  2020-05-05  260.185754\n",
       "3  facebook_ads  2020-05-06  177.982200\n",
       "4  facebook_ads  2020-05-07  111.766796"
      ]
     },
     "metadata": {},
     "output_type": "display_data"
    },
    {
     "name": "stdout",
     "output_type": "stream",
     "text": [
      "\n",
      "<class 'pandas.core.frame.DataFrame'>\n",
      "RangeIndex: 28 entries, 0 to 27\n",
      "Data columns (total 3 columns):\n",
      " #   Column  Non-Null Count  Dtype  \n",
      "---  ------  --------------  -----  \n",
      " 0   source  28 non-null     object \n",
      " 1   day     28 non-null     object \n",
      " 2   cost    28 non-null     float64\n",
      "dtypes: float64(1), object(2)\n",
      "memory usage: 800.0+ bytes\n",
      "\n",
      "Количество пропусков:\n",
      "source    0\n",
      "day       0\n",
      "cost      0\n",
      "dtype: int64\n",
      "\n",
      "Количество дубликатов: 0\n",
      "\n"
     ]
    }
   ],
   "source": [
    "total_info(ad_costs)"
   ]
  },
  {
   "cell_type": "markdown",
   "metadata": {},
   "source": [
    "Ситуация с дубликатами получше, пропусков тоже не наблюдается. Потребуется сменить тип данных в столбце `date`.\n",
    "\n",
    "И третья таблица:"
   ]
  },
  {
   "cell_type": "code",
   "execution_count": 6,
   "metadata": {},
   "outputs": [
    {
     "data": {
      "text/html": [
       "<div>\n",
       "<style scoped>\n",
       "    .dataframe tbody tr th:only-of-type {\n",
       "        vertical-align: middle;\n",
       "    }\n",
       "\n",
       "    .dataframe tbody tr th {\n",
       "        vertical-align: top;\n",
       "    }\n",
       "\n",
       "    .dataframe thead th {\n",
       "        text-align: right;\n",
       "    }\n",
       "</style>\n",
       "<table border=\"1\" class=\"dataframe\">\n",
       "  <thead>\n",
       "    <tr style=\"text-align: right;\">\n",
       "      <th></th>\n",
       "      <th>user_id</th>\n",
       "      <th>source</th>\n",
       "    </tr>\n",
       "  </thead>\n",
       "  <tbody>\n",
       "    <tr>\n",
       "      <th>0</th>\n",
       "      <td>0001f83c-c6ac-4621-b7f0-8a28b283ac30</td>\n",
       "      <td>facebook_ads</td>\n",
       "    </tr>\n",
       "    <tr>\n",
       "      <th>1</th>\n",
       "      <td>00151b4f-ba38-44a8-a650-d7cf130a0105</td>\n",
       "      <td>yandex_direct</td>\n",
       "    </tr>\n",
       "    <tr>\n",
       "      <th>2</th>\n",
       "      <td>001aaea6-3d14-43f1-8ca8-7f48820f17aa</td>\n",
       "      <td>youtube_channel_reklama</td>\n",
       "    </tr>\n",
       "    <tr>\n",
       "      <th>3</th>\n",
       "      <td>001d39dc-366c-4021-9604-6a3b9ff01e25</td>\n",
       "      <td>instagram_new_adverts</td>\n",
       "    </tr>\n",
       "    <tr>\n",
       "      <th>4</th>\n",
       "      <td>002f508f-67b6-479f-814b-b05f00d4e995</td>\n",
       "      <td>facebook_ads</td>\n",
       "    </tr>\n",
       "  </tbody>\n",
       "</table>\n",
       "</div>"
      ],
      "text/plain": [
       "                                user_id                   source\n",
       "0  0001f83c-c6ac-4621-b7f0-8a28b283ac30             facebook_ads\n",
       "1  00151b4f-ba38-44a8-a650-d7cf130a0105            yandex_direct\n",
       "2  001aaea6-3d14-43f1-8ca8-7f48820f17aa  youtube_channel_reklama\n",
       "3  001d39dc-366c-4021-9604-6a3b9ff01e25    instagram_new_adverts\n",
       "4  002f508f-67b6-479f-814b-b05f00d4e995             facebook_ads"
      ]
     },
     "metadata": {},
     "output_type": "display_data"
    },
    {
     "name": "stdout",
     "output_type": "stream",
     "text": [
      "\n",
      "<class 'pandas.core.frame.DataFrame'>\n",
      "RangeIndex: 13576 entries, 0 to 13575\n",
      "Data columns (total 2 columns):\n",
      " #   Column   Non-Null Count  Dtype \n",
      "---  ------   --------------  ----- \n",
      " 0   user_id  13576 non-null  object\n",
      " 1   source   13576 non-null  object\n",
      "dtypes: object(2)\n",
      "memory usage: 212.2+ KB\n",
      "\n",
      "Количество пропусков:\n",
      "user_id    0\n",
      "source     0\n",
      "dtype: int64\n",
      "\n",
      "Количество дубликатов: 0\n",
      "\n"
     ]
    }
   ],
   "source": [
    "total_info(user_source)"
   ]
  },
  {
   "cell_type": "markdown",
   "metadata": {},
   "source": [
    "Пропусков и дубликатов нет, к типу данных вопросов тоже нет. Можно приступать к предобработке."
   ]
  },
  {
   "cell_type": "markdown",
   "metadata": {},
   "source": [
    "### Выводы"
   ]
  },
  {
   "cell_type": "markdown",
   "metadata": {},
   "source": [
    "Мы ознакомились со всеми доступными таблицами и выявили круг задач для предобработки данных."
   ]
  },
  {
   "cell_type": "markdown",
   "metadata": {},
   "source": [
    "##  Предобработка данных"
   ]
  },
  {
   "cell_type": "markdown",
   "metadata": {},
   "source": [
    "Приступаем к предобработке. Для начала освежим информацию о таблице `game_actions`:"
   ]
  },
  {
   "cell_type": "code",
   "execution_count": 7,
   "metadata": {
    "scrolled": true
   },
   "outputs": [
    {
     "name": "stdout",
     "output_type": "stream",
     "text": [
      "<class 'pandas.core.frame.DataFrame'>\n",
      "RangeIndex: 135640 entries, 0 to 135639\n",
      "Data columns (total 5 columns):\n",
      " #   Column          Non-Null Count   Dtype \n",
      "---  ------          --------------   ----- \n",
      " 0   event_datetime  135640 non-null  object\n",
      " 1   event           135640 non-null  object\n",
      " 2   building_type   127957 non-null  object\n",
      " 3   user_id         135640 non-null  object\n",
      " 4   project_type    1866 non-null    object\n",
      "dtypes: object(5)\n",
      "memory usage: 5.2+ MB\n"
     ]
    }
   ],
   "source": [
    "game_actions.info()"
   ]
  },
  {
   "cell_type": "markdown",
   "metadata": {},
   "source": [
    "Начнем со смены типа данных в столбце `event_datetime`:"
   ]
  },
  {
   "cell_type": "code",
   "execution_count": 8,
   "metadata": {},
   "outputs": [],
   "source": [
    "game_actions['event_datetime'] = pd.to_datetime(game_actions['event_datetime'], format='%Y-%m-%d %H:%M:%S')"
   ]
  },
  {
   "cell_type": "markdown",
   "metadata": {},
   "source": [
    "Выделим постройки в отдельный технический датафрейм:"
   ]
  },
  {
   "cell_type": "code",
   "execution_count": 9,
   "metadata": {
    "scrolled": true
   },
   "outputs": [
    {
     "data": {
      "text/html": [
       "<div>\n",
       "<style scoped>\n",
       "    .dataframe tbody tr th:only-of-type {\n",
       "        vertical-align: middle;\n",
       "    }\n",
       "\n",
       "    .dataframe tbody tr th {\n",
       "        vertical-align: top;\n",
       "    }\n",
       "\n",
       "    .dataframe thead th {\n",
       "        text-align: right;\n",
       "    }\n",
       "</style>\n",
       "<table border=\"1\" class=\"dataframe\">\n",
       "  <thead>\n",
       "    <tr style=\"text-align: right;\">\n",
       "      <th></th>\n",
       "      <th>index</th>\n",
       "      <th>building_type</th>\n",
       "    </tr>\n",
       "  </thead>\n",
       "  <tbody>\n",
       "    <tr>\n",
       "      <th>0</th>\n",
       "      <td>spaceport</td>\n",
       "      <td>59325</td>\n",
       "    </tr>\n",
       "    <tr>\n",
       "      <th>1</th>\n",
       "      <td>assembly_shop</td>\n",
       "      <td>54494</td>\n",
       "    </tr>\n",
       "    <tr>\n",
       "      <th>2</th>\n",
       "      <td>research_center</td>\n",
       "      <td>14138</td>\n",
       "    </tr>\n",
       "  </tbody>\n",
       "</table>\n",
       "</div>"
      ],
      "text/plain": [
       "             index  building_type\n",
       "0        spaceport          59325\n",
       "1    assembly_shop          54494\n",
       "2  research_center          14138"
      ]
     },
     "metadata": {},
     "output_type": "display_data"
    }
   ],
   "source": [
    "#building_types = game_actions.query('event = \"building\"')\n",
    "building_types = game_actions['building_type'].value_counts().reset_index()\n",
    "display(building_types)"
   ]
  },
  {
   "cell_type": "markdown",
   "metadata": {},
   "source": [
    "Мы видим, что у нас присутствует три типа построек, доступных игрокам на первом уровне."
   ]
  },
  {
   "cell_type": "markdown",
   "metadata": {},
   "source": [
    "Заполним пропуски в столбце `project_type` значением `unknown`, чтобы различать игроков, которые не построили орбитальную станцию."
   ]
  },
  {
   "cell_type": "code",
   "execution_count": 10,
   "metadata": {},
   "outputs": [],
   "source": [
    "game_actions['project_type'] = game_actions['project_type'].fillna('unknown')"
   ]
  },
  {
   "cell_type": "markdown",
   "metadata": {},
   "source": [
    "Проверяем:"
   ]
  },
  {
   "cell_type": "code",
   "execution_count": 11,
   "metadata": {},
   "outputs": [
    {
     "data": {
      "text/plain": [
       "unknown                       133774\n",
       "satellite_orbital_assembly      1866\n",
       "Name: project_type, dtype: int64"
      ]
     },
     "execution_count": 11,
     "metadata": {},
     "output_type": "execute_result"
    }
   ],
   "source": [
    "game_actions['project_type'].value_counts()"
   ]
  },
  {
   "cell_type": "markdown",
   "metadata": {},
   "source": [
    "Ага, а вот и ценная информация - мы знаем, что минимум 1866 пользователей перешли на второй уровень, завершив постройку спутниковой станции.\n",
    "\n",
    "Теперь посмотрим, что за дубликат у нас был:"
   ]
  },
  {
   "cell_type": "code",
   "execution_count": 12,
   "metadata": {
    "scrolled": true
   },
   "outputs": [
    {
     "data": {
      "text/html": [
       "<div>\n",
       "<style scoped>\n",
       "    .dataframe tbody tr th:only-of-type {\n",
       "        vertical-align: middle;\n",
       "    }\n",
       "\n",
       "    .dataframe tbody tr th {\n",
       "        vertical-align: top;\n",
       "    }\n",
       "\n",
       "    .dataframe thead th {\n",
       "        text-align: right;\n",
       "    }\n",
       "</style>\n",
       "<table border=\"1\" class=\"dataframe\">\n",
       "  <thead>\n",
       "    <tr style=\"text-align: right;\">\n",
       "      <th></th>\n",
       "      <th>event_datetime</th>\n",
       "      <th>event</th>\n",
       "      <th>building_type</th>\n",
       "      <th>user_id</th>\n",
       "      <th>project_type</th>\n",
       "    </tr>\n",
       "  </thead>\n",
       "  <tbody>\n",
       "    <tr>\n",
       "      <th>74890</th>\n",
       "      <td>2020-05-10 18:41:56</td>\n",
       "      <td>building</td>\n",
       "      <td>research_center</td>\n",
       "      <td>c9af55d2-b0ae-4bb4-b3d5-f32aa9ac03af</td>\n",
       "      <td>unknown</td>\n",
       "    </tr>\n",
       "    <tr>\n",
       "      <th>74891</th>\n",
       "      <td>2020-05-10 18:41:56</td>\n",
       "      <td>building</td>\n",
       "      <td>research_center</td>\n",
       "      <td>c9af55d2-b0ae-4bb4-b3d5-f32aa9ac03af</td>\n",
       "      <td>unknown</td>\n",
       "    </tr>\n",
       "  </tbody>\n",
       "</table>\n",
       "</div>"
      ],
      "text/plain": [
       "           event_datetime     event    building_type  \\\n",
       "74890 2020-05-10 18:41:56  building  research_center   \n",
       "74891 2020-05-10 18:41:56  building  research_center   \n",
       "\n",
       "                                    user_id project_type  \n",
       "74890  c9af55d2-b0ae-4bb4-b3d5-f32aa9ac03af      unknown  \n",
       "74891  c9af55d2-b0ae-4bb4-b3d5-f32aa9ac03af      unknown  "
      ]
     },
     "execution_count": 12,
     "metadata": {},
     "output_type": "execute_result"
    }
   ],
   "source": [
    "game_actions[game_actions.duplicated(keep=False)]"
   ]
  },
  {
   "cell_type": "markdown",
   "metadata": {},
   "source": [
    "Полное совпадение значений. Вероятно, запись занесена по ошибке. Можно удалять:"
   ]
  },
  {
   "cell_type": "code",
   "execution_count": 13,
   "metadata": {},
   "outputs": [],
   "source": [
    "game_actions = game_actions.drop_duplicates()"
   ]
  },
  {
   "cell_type": "markdown",
   "metadata": {},
   "source": [
    "Последняя проверка:"
   ]
  },
  {
   "cell_type": "code",
   "execution_count": 14,
   "metadata": {
    "scrolled": true
   },
   "outputs": [
    {
     "name": "stdout",
     "output_type": "stream",
     "text": [
      "<class 'pandas.core.frame.DataFrame'>\n",
      "Int64Index: 135639 entries, 0 to 135639\n",
      "Data columns (total 5 columns):\n",
      " #   Column          Non-Null Count   Dtype         \n",
      "---  ------          --------------   -----         \n",
      " 0   event_datetime  135639 non-null  datetime64[ns]\n",
      " 1   event           135639 non-null  object        \n",
      " 2   building_type   127956 non-null  object        \n",
      " 3   user_id         135639 non-null  object        \n",
      " 4   project_type    135639 non-null  object        \n",
      "dtypes: datetime64[ns](1), object(4)\n",
      "memory usage: 6.2+ MB\n"
     ]
    }
   ],
   "source": [
    "game_actions.info()"
   ]
  },
  {
   "cell_type": "markdown",
   "metadata": {},
   "source": [
    "Другое дело, тип данных поменяли, все пропуски заполнены.\n",
    "\n",
    "Переходим к таблице `ad_costs`. Меняем тип данных и проверяем:"
   ]
  },
  {
   "cell_type": "code",
   "execution_count": 15,
   "metadata": {},
   "outputs": [],
   "source": [
    "ad_costs['day'] = pd.to_datetime(ad_costs['day'], format='%Y-%m-%d')"
   ]
  },
  {
   "cell_type": "code",
   "execution_count": 16,
   "metadata": {
    "scrolled": true
   },
   "outputs": [
    {
     "name": "stdout",
     "output_type": "stream",
     "text": [
      "<class 'pandas.core.frame.DataFrame'>\n",
      "RangeIndex: 28 entries, 0 to 27\n",
      "Data columns (total 3 columns):\n",
      " #   Column  Non-Null Count  Dtype         \n",
      "---  ------  --------------  -----         \n",
      " 0   source  28 non-null     object        \n",
      " 1   day     28 non-null     datetime64[ns]\n",
      " 2   cost    28 non-null     float64       \n",
      "dtypes: datetime64[ns](1), float64(1), object(1)\n",
      "memory usage: 800.0+ bytes\n"
     ]
    }
   ],
   "source": [
    "ad_costs.info()"
   ]
  },
  {
   "cell_type": "markdown",
   "metadata": {},
   "source": [
    "Теперь все в порядке."
   ]
  },
  {
   "cell_type": "markdown",
   "metadata": {},
   "source": [
    "### Выводы"
   ]
  },
  {
   "cell_type": "markdown",
   "metadata": {},
   "source": [
    "Мы провели необходимую предобработку: поменяли тип данных в двух столбцах, избавились от одного дубликата, а также заполнили пропуски заданными нами значениями"
   ]
  },
  {
   "cell_type": "markdown",
   "metadata": {},
   "source": [
    "## Исследовательский анализ данных"
   ]
  },
  {
   "cell_type": "markdown",
   "metadata": {},
   "source": [
    "Приступаем к исследовательскому анализу данных.\n",
    "\n",
    "Для начала посмотрим, сколько же у нас всего пользователей в игре:"
   ]
  },
  {
   "cell_type": "code",
   "execution_count": 17,
   "metadata": {},
   "outputs": [
    {
     "name": "stdout",
     "output_type": "stream",
     "text": [
      "Количество уникальных пользователей 13576.\n"
     ]
    }
   ],
   "source": [
    "print(f'Количество уникальных пользователей {game_actions[\"user_id\"].nunique()}.')"
   ]
  },
  {
   "cell_type": "markdown",
   "metadata": {},
   "source": [
    "Почти 14 000 человек, немало.\n",
    "\n",
    "Теперь посмотрим, в каком интервале происходят игровые события:"
   ]
  },
  {
   "cell_type": "code",
   "execution_count": 18,
   "metadata": {
    "scrolled": true
   },
   "outputs": [
    {
     "name": "stdout",
     "output_type": "stream",
     "text": [
      "Минимальная дата события 2020-05-04 00:00:01.\n",
      "Максимальная дата события 2020-06-05 12:32:49.\n"
     ]
    }
   ],
   "source": [
    "print(f'Минимальная дата события {game_actions[\"event_datetime\"].min()}.')\n",
    "print(f'Максимальная дата события {game_actions[\"event_datetime\"].max()}.')"
   ]
  },
  {
   "cell_type": "markdown",
   "metadata": {},
   "source": [
    "Мы видим, что у нас есть данные за месяц игры. Значит, игра не совсем плохая, если люди играют в нее столько времени.\n",
    "\n",
    "Посмотрим на распределение внутриигровых событий:"
   ]
  },
  {
   "cell_type": "code",
   "execution_count": 19,
   "metadata": {
    "scrolled": false
   },
   "outputs": [
    {
     "data": {
      "text/html": [
       "<div>\n",
       "<style scoped>\n",
       "    .dataframe tbody tr th:only-of-type {\n",
       "        vertical-align: middle;\n",
       "    }\n",
       "\n",
       "    .dataframe tbody tr th {\n",
       "        vertical-align: top;\n",
       "    }\n",
       "\n",
       "    .dataframe thead th {\n",
       "        text-align: right;\n",
       "    }\n",
       "</style>\n",
       "<table border=\"1\" class=\"dataframe\">\n",
       "  <thead>\n",
       "    <tr style=\"text-align: right;\">\n",
       "      <th></th>\n",
       "      <th>event_type</th>\n",
       "      <th>amount</th>\n",
       "      <th>%_of_total</th>\n",
       "    </tr>\n",
       "  </thead>\n",
       "  <tbody>\n",
       "    <tr>\n",
       "      <th>0</th>\n",
       "      <td>building</td>\n",
       "      <td>127956</td>\n",
       "      <td>94.34</td>\n",
       "    </tr>\n",
       "    <tr>\n",
       "      <th>1</th>\n",
       "      <td>finished_stage_1</td>\n",
       "      <td>5817</td>\n",
       "      <td>4.29</td>\n",
       "    </tr>\n",
       "    <tr>\n",
       "      <th>2</th>\n",
       "      <td>project</td>\n",
       "      <td>1866</td>\n",
       "      <td>1.38</td>\n",
       "    </tr>\n",
       "  </tbody>\n",
       "</table>\n",
       "</div>"
      ],
      "text/plain": [
       "         event_type  amount  %_of_total\n",
       "0          building  127956       94.34\n",
       "1  finished_stage_1    5817        4.29\n",
       "2           project    1866        1.38"
      ]
     },
     "metadata": {},
     "output_type": "display_data"
    },
    {
     "data": {
      "text/plain": [
       "<function matplotlib.pyplot.show(close=None, block=None)>"
      ]
     },
     "execution_count": 19,
     "metadata": {},
     "output_type": "execute_result"
    },
    {
     "data": {
      "image/png": "[encoded data removed]",
      "text/plain": [
       "<Figure size 432x288 with 1 Axes>"
      ]
     },
     "metadata": {},
     "output_type": "display_data"
    }
   ],
   "source": [
    "events = game_actions['event'].value_counts().reset_index()\n",
    "events['%_of_total'] = round((events['event']/events['event'].sum()*100), 2)  # проценты для удобства\n",
    "events = events.rename(columns = {'index':'event_type', 'event':'amount'})\n",
    "display(events)\n",
    "\n",
    "\n",
    "\n",
    "sns.countplot(game_actions['event'])\n",
    "plt.grid()\n",
    "plt.title('Распределение событий', fontsize = 14)\n",
    "plt.xlabel('Типы событий')\n",
    "plt.ylabel('Количество событий')\n",
    "plt.show"
   ]
  },
  {
   "cell_type": "markdown",
   "metadata": {},
   "source": [
    "У нас появились данные о пользователях, которые выполнили условие перехода на второй уровень - это событие типа `finished_stage_1`. Также мы видим, что 1866 пользователей перешли на второй уровень через завершение проекта (тип события `project`). Всего  на второй уровень перешли 5817 пользователей, что составляет:"
   ]
  },
  {
   "cell_type": "code",
   "execution_count": 20,
   "metadata": {},
   "outputs": [
    {
     "name": "stdout",
     "output_type": "stream",
     "text": [
      "Количество пользователей, перешедших на второй уровень: 42.85 %.\n"
     ]
    }
   ],
   "source": [
    "second_levellers = events.query(\"event_type =='finished_stage_1'\")['amount'].sum()/game_actions[\"user_id\"].nunique()*100\n",
    "print(f'Количество пользователей, перешедших на второй уровень: {round(second_levellers, 2)} %.')"
   ]
  },
  {
   "cell_type": "markdown",
   "metadata": {},
   "source": [
    "Причем мы видим, что постройку орбитальной установки осилило меньше трети пользователей, из тех, кто перешел на второй уровень.\n",
    "\n",
    "Посмотрим, как распределяются постройки, раз уж это самый популярный вид событий в игре:"
   ]
  },
  {
   "cell_type": "code",
   "execution_count": 21,
   "metadata": {},
   "outputs": [
    {
     "data": {
      "text/html": [
       "<div>\n",
       "<style scoped>\n",
       "    .dataframe tbody tr th:only-of-type {\n",
       "        vertical-align: middle;\n",
       "    }\n",
       "\n",
       "    .dataframe tbody tr th {\n",
       "        vertical-align: top;\n",
       "    }\n",
       "\n",
       "    .dataframe thead th {\n",
       "        text-align: right;\n",
       "    }\n",
       "</style>\n",
       "<table border=\"1\" class=\"dataframe\">\n",
       "  <thead>\n",
       "    <tr style=\"text-align: right;\">\n",
       "      <th></th>\n",
       "      <th>building_type</th>\n",
       "      <th>amount</th>\n",
       "      <th>%_of_total</th>\n",
       "    </tr>\n",
       "  </thead>\n",
       "  <tbody>\n",
       "    <tr>\n",
       "      <th>0</th>\n",
       "      <td>spaceport</td>\n",
       "      <td>59325</td>\n",
       "      <td>46.36</td>\n",
       "    </tr>\n",
       "    <tr>\n",
       "      <th>1</th>\n",
       "      <td>assembly_shop</td>\n",
       "      <td>54494</td>\n",
       "      <td>42.59</td>\n",
       "    </tr>\n",
       "    <tr>\n",
       "      <th>2</th>\n",
       "      <td>research_center</td>\n",
       "      <td>14137</td>\n",
       "      <td>11.05</td>\n",
       "    </tr>\n",
       "  </tbody>\n",
       "</table>\n",
       "</div>"
      ],
      "text/plain": [
       "     building_type  amount  %_of_total\n",
       "0        spaceport   59325       46.36\n",
       "1    assembly_shop   54494       42.59\n",
       "2  research_center   14137       11.05"
      ]
     },
     "metadata": {},
     "output_type": "display_data"
    },
    {
     "data": {
      "text/plain": [
       "<function matplotlib.pyplot.show(close=None, block=None)>"
      ]
     },
     "execution_count": 21,
     "metadata": {},
     "output_type": "execute_result"
    },
    {
     "data": {
      "image/png": "[encoded data removed]",
      "text/plain": [
       "<Figure size 432x288 with 1 Axes>"
      ]
     },
     "metadata": {},
     "output_type": "display_data"
    }
   ],
   "source": [
    "buildings = game_actions['building_type'].value_counts().reset_index()\n",
    "buildings['%_of_total'] = round((buildings['building_type']/buildings['building_type'].sum()*100), 2)\n",
    "buildings = buildings.rename(columns = {'index':'building_type', 'building_type':'amount'})\n",
    "display(buildings)\n",
    "\n",
    "sns.countplot(game_actions['building_type'])\n",
    "plt.grid()\n",
    "plt.title('Распределение построек', fontsize = 14)\n",
    "plt.xlabel('Типы построек')\n",
    "plt.ylabel('Количество построек')\n",
    "plt.show"
   ]
  },
  {
   "cell_type": "markdown",
   "metadata": {},
   "source": [
    "Почти 89% построек практически поровну поделено между космопортом и сборочным цехом. Исследовательский центр построило в разы меньшее количество пользователей. Пока непонятно, чем вызвано такое отставание в количестве построек. Попробуем взглянуть на строительство в динамике:\n"
   ]
  },
  {
   "cell_type": "code",
   "execution_count": 22,
   "metadata": {
    "scrolled": false
   },
   "outputs": [
    {
     "data": {
      "image/png": "[encoded data removed]",
      "text/plain": [
       "<Figure size 1296x720 with 1 Axes>"
      ]
     },
     "metadata": {},
     "output_type": "display_data"
    }
   ],
   "source": [
    "game_actions['event_date'] = game_actions['event_datetime'].dt.date # переводим в формат даты\n",
    "dynamic_building = game_actions.groupby(['event_date', 'building_type'])['user_id'].count().reset_index()  # группируем\n",
    "sns.set(rc={'figure.figsize':(18,10)})\n",
    "sns.lineplot(data=dynamic_building, x='event_date', y='user_id', hue='building_type')\n",
    "\n",
    "plt.title('Строительство зданий в динамике', fontsize = 14)\n",
    "plt.ylabel('Количество построенных зданий')\n",
    "plt.xlabel('Дата')\n",
    "plt.grid() \n",
    "plt.show()"
   ]
  },
  {
   "cell_type": "markdown",
   "metadata": {},
   "source": [
    "Судя по диаграмме, сборочный цех это начальная постройка, которая нужна лишь на начальном этапе игры. Потом она либо не нужна, либо ее нельзя построить. Космопорт начинают строить практически сразу после сборочного цеха, и примерно спустя восемь дней его строительство выходит на максимум, затем начинается спад. Исследователський центр тоже начинают строить достаточно быстро, на второй-третий день, и их количество выходит на пик примерно в то же время, что и космопорт, затем идет на спад. Примерно через три недели строительство прекращается почти полностью, пользователи либо перешли на второй уровень, либо нашли другую игру, что весьма прискорбно."
   ]
  },
  {
   "cell_type": "markdown",
   "metadata": {},
   "source": [
    "Теперь посмотрим на наши источники трафика:"
   ]
  },
  {
   "cell_type": "code",
   "execution_count": 23,
   "metadata": {
    "scrolled": true
   },
   "outputs": [
    {
     "data": {
      "text/plain": [
       "facebook_ads               7\n",
       "instagram_new_adverts      7\n",
       "yandex_direct              7\n",
       "youtube_channel_reklama    7\n",
       "Name: source, dtype: int64"
      ]
     },
     "execution_count": 23,
     "metadata": {},
     "output_type": "execute_result"
    }
   ],
   "source": [
    "ad_costs['source'].value_counts()"
   ]
  },
  {
   "cell_type": "markdown",
   "metadata": {},
   "source": [
    "Всего четыре источника, которые распределены в следующем интервале:"
   ]
  },
  {
   "cell_type": "code",
   "execution_count": 24,
   "metadata": {},
   "outputs": [
    {
     "name": "stdout",
     "output_type": "stream",
     "text": [
      "Минимальная дата события 2020-05-03 00:00:00.\n",
      "Максимальная дата события 2020-05-09 00:00:00.\n"
     ]
    }
   ],
   "source": [
    "print(f'Минимальная дата события {ad_costs[\"day\"].min()}.')\n",
    "print(f'Максимальная дата события {ad_costs[\"day\"].max()}.')"
   ]
  },
  {
   "cell_type": "markdown",
   "metadata": {},
   "source": [
    "### Выводы"
   ]
  },
  {
   "cell_type": "markdown",
   "metadata": {},
   "source": [
    "В игре 13576 уникальных пользователей, которые играют в нее месяц. На второй уровень перешло 5817 пользователей, или 42.85 % игроков. Наблюдается дисбаланс в количестве построек - большинство составляют постройки двух типов. \n",
    "\n",
    "У нас есть четыре источника привлечения: YouTube, Yandex Direct, Facebook, Instagram."
   ]
  },
  {
   "cell_type": "markdown",
   "metadata": {},
   "source": [
    "## Анализ маркетинговых данных"
   ]
  },
  {
   "cell_type": "markdown",
   "metadata": {},
   "source": [
    "Посмотрим, как же распределяются финансовые потоки в нашей игре.\n",
    "\n",
    "Для начала посчитаем общий бюджет на маркетинг:"
   ]
  },
  {
   "cell_type": "code",
   "execution_count": 25,
   "metadata": {},
   "outputs": [
    {
     "name": "stdout",
     "output_type": "stream",
     "text": [
      "Общая сумма маркетинговых затрат: 7604.\n"
     ]
    }
   ],
   "source": [
    "total = ad_costs['cost'].sum()\n",
    "total = round(total)\n",
    "print(f'Общая сумма маркетинговых затрат: {total}.')"
   ]
  },
  {
   "cell_type": "markdown",
   "metadata": {},
   "source": [
    "Получается вполне приличная сумма. \n",
    "\n",
    "Теперь узнаем, на какие каналы привлечения мы ее распределяем:"
   ]
  },
  {
   "cell_type": "code",
   "execution_count": 26,
   "metadata": {
    "scrolled": true
   },
   "outputs": [
    {
     "data": {
      "text/html": [
       "<div>\n",
       "<style scoped>\n",
       "    .dataframe tbody tr th:only-of-type {\n",
       "        vertical-align: middle;\n",
       "    }\n",
       "\n",
       "    .dataframe tbody tr th {\n",
       "        vertical-align: top;\n",
       "    }\n",
       "\n",
       "    .dataframe thead th {\n",
       "        text-align: right;\n",
       "    }\n",
       "</style>\n",
       "<table border=\"1\" class=\"dataframe\">\n",
       "  <thead>\n",
       "    <tr style=\"text-align: right;\">\n",
       "      <th></th>\n",
       "      <th>source</th>\n",
       "      <th>cost</th>\n",
       "      <th>%_of_total</th>\n",
       "    </tr>\n",
       "  </thead>\n",
       "  <tbody>\n",
       "    <tr>\n",
       "      <th>2</th>\n",
       "      <td>yandex_direct</td>\n",
       "      <td>2233.11</td>\n",
       "      <td>29.37</td>\n",
       "    </tr>\n",
       "    <tr>\n",
       "      <th>1</th>\n",
       "      <td>instagram_new_adverts</td>\n",
       "      <td>2161.44</td>\n",
       "      <td>28.43</td>\n",
       "    </tr>\n",
       "    <tr>\n",
       "      <th>0</th>\n",
       "      <td>facebook_ads</td>\n",
       "      <td>2140.90</td>\n",
       "      <td>28.16</td>\n",
       "    </tr>\n",
       "    <tr>\n",
       "      <th>3</th>\n",
       "      <td>youtube_channel_reklama</td>\n",
       "      <td>1068.12</td>\n",
       "      <td>14.05</td>\n",
       "    </tr>\n",
       "  </tbody>\n",
       "</table>\n",
       "</div>"
      ],
      "text/plain": [
       "                    source     cost  %_of_total\n",
       "2            yandex_direct  2233.11       29.37\n",
       "1    instagram_new_adverts  2161.44       28.43\n",
       "0             facebook_ads  2140.90       28.16\n",
       "3  youtube_channel_reklama  1068.12       14.05"
      ]
     },
     "metadata": {},
     "output_type": "display_data"
    }
   ],
   "source": [
    "ads = ad_costs.groupby('source').agg({'cost':'sum'}).reset_index().sort_values(by='cost', ascending = False).round(2)\n",
    "ads['%_of_total'] = round((ads['cost']/ads['cost'].sum()*100), 2)\n",
    "display(ads)"
   ]
  },
  {
   "cell_type": "code",
   "execution_count": 27,
   "metadata": {},
   "outputs": [
    {
     "data": {
      "image/png": "[encoded data removed]",
      "text/plain": [
       "<Figure size 360x360 with 1 Axes>"
      ]
     },
     "metadata": {},
     "output_type": "display_data"
    }
   ],
   "source": [
    "sns.set(rc={'figure.figsize':(5,5)})\n",
    "sns.barplot(data=ads, x=\"source\", y=\"cost\")\n",
    "#ad_costs.groupby('source').agg({'cost':'sum'}).sort_values(by='cost', ascending = False).round(2).plot(kind = 'bar', grid = True, figsize = (8, 5))\n",
    "\n",
    "plt.grid()\n",
    "plt.ylabel('Сумма')\n",
    "plt.xlabel('Источник')\n",
    "plt.title('Затраты по каналам привлечения', fontsize = 14)\n",
    "plt.xticks(rotation=45)\n",
    "plt.show()"
   ]
  },
  {
   "cell_type": "markdown",
   "metadata": {},
   "source": [
    "Получился ряд менее приличных сумм. Мы видим, что меньше всего потребляет канал на YouTube. Рекламные расходы между остальными источниками поделились примерно одинаково.\n",
    "\n",
    "Теперь посмотрим, сколько пользователей нам принесли эти источники:"
   ]
  },
  {
   "cell_type": "code",
   "execution_count": 28,
   "metadata": {
    "scrolled": true
   },
   "outputs": [
    {
     "data": {
      "text/html": [
       "<div>\n",
       "<style scoped>\n",
       "    .dataframe tbody tr th:only-of-type {\n",
       "        vertical-align: middle;\n",
       "    }\n",
       "\n",
       "    .dataframe tbody tr th {\n",
       "        vertical-align: top;\n",
       "    }\n",
       "\n",
       "    .dataframe thead th {\n",
       "        text-align: right;\n",
       "    }\n",
       "</style>\n",
       "<table border=\"1\" class=\"dataframe\">\n",
       "  <thead>\n",
       "    <tr style=\"text-align: right;\">\n",
       "      <th></th>\n",
       "      <th>source</th>\n",
       "      <th>users</th>\n",
       "      <th>%_of_total</th>\n",
       "    </tr>\n",
       "  </thead>\n",
       "  <tbody>\n",
       "    <tr>\n",
       "      <th>0</th>\n",
       "      <td>yandex_direct</td>\n",
       "      <td>4817</td>\n",
       "      <td>35.48</td>\n",
       "    </tr>\n",
       "    <tr>\n",
       "      <th>1</th>\n",
       "      <td>instagram_new_adverts</td>\n",
       "      <td>3347</td>\n",
       "      <td>24.65</td>\n",
       "    </tr>\n",
       "    <tr>\n",
       "      <th>2</th>\n",
       "      <td>facebook_ads</td>\n",
       "      <td>2726</td>\n",
       "      <td>20.08</td>\n",
       "    </tr>\n",
       "    <tr>\n",
       "      <th>3</th>\n",
       "      <td>youtube_channel_reklama</td>\n",
       "      <td>2686</td>\n",
       "      <td>19.78</td>\n",
       "    </tr>\n",
       "  </tbody>\n",
       "</table>\n",
       "</div>"
      ],
      "text/plain": [
       "                    source  users  %_of_total\n",
       "0            yandex_direct   4817       35.48\n",
       "1    instagram_new_adverts   3347       24.65\n",
       "2             facebook_ads   2726       20.08\n",
       "3  youtube_channel_reklama   2686       19.78"
      ]
     },
     "metadata": {},
     "output_type": "display_data"
    }
   ],
   "source": [
    "ad_sources = user_source['source'].value_counts().reset_index().sort_values(by='source', ascending = False)\n",
    "ad_sources['%_of_total'] = round((ad_sources['source']/ad_sources['source'].sum()*100), 2)\n",
    "ad_sources = ad_sources.rename(columns = {'index':'source', 'source':'users'})\n",
    "display(ad_sources)"
   ]
  },
  {
   "cell_type": "code",
   "execution_count": 29,
   "metadata": {
    "scrolled": false
   },
   "outputs": [
    {
     "data": {
      "image/png": "[encoded data removed]",
      "text/plain": [
       "<Figure size 360x360 with 1 Axes>"
      ]
     },
     "metadata": {},
     "output_type": "display_data"
    }
   ],
   "source": [
    "#ad_sources.groupby('source').agg({'users':'sum'}).sort_values(by='users', ascending = False).round(2).plot(kind = 'bar', grid = True, figsize = (8, 5))\n",
    "sns.barplot(data=ad_sources, x=\"source\", y=\"users\")\n",
    "sns.set(rc={'figure.figsize':(5,5)})\n",
    "plt.grid()\n",
    "plt.ylabel('Количество пользователей')\n",
    "plt.xlabel('Источник')\n",
    "plt.title('Количество пользователей по источникам', fontsize = 14)\n",
    "plt.xticks(rotation=45)\n",
    "plt.show()"
   ]
  },
  {
   "cell_type": "markdown",
   "metadata": {},
   "source": [
    "Самый дорогой канал Яндекс Директ привлекает больше всего пользователей. Но самый малобюджетный канал YouTube привлекает почти столько же пользователей, сколько и остальные каналы! За 14% рекламного бюджета мы получаем почти 20% пользователей!\n",
    "\n",
    "Теперь посмотрим, как быстро мы тратим деньги:"
   ]
  },
  {
   "cell_type": "code",
   "execution_count": 30,
   "metadata": {},
   "outputs": [],
   "source": [
    "time_costs = ad_costs.pivot_table(index = 'source', columns = 'day', values = 'cost')  # сводная табличка"
   ]
  },
  {
   "cell_type": "code",
   "execution_count": 31,
   "metadata": {
    "scrolled": false
   },
   "outputs": [
    {
     "data": {
      "text/html": [
       "<div>\n",
       "<style scoped>\n",
       "    .dataframe tbody tr th:only-of-type {\n",
       "        vertical-align: middle;\n",
       "    }\n",
       "\n",
       "    .dataframe tbody tr th {\n",
       "        vertical-align: top;\n",
       "    }\n",
       "\n",
       "    .dataframe thead th {\n",
       "        text-align: right;\n",
       "    }\n",
       "</style>\n",
       "<table border=\"1\" class=\"dataframe\">\n",
       "  <thead>\n",
       "    <tr style=\"text-align: right;\">\n",
       "      <th>day</th>\n",
       "      <th>2020-05-03</th>\n",
       "      <th>2020-05-04</th>\n",
       "      <th>2020-05-05</th>\n",
       "      <th>2020-05-06</th>\n",
       "      <th>2020-05-07</th>\n",
       "      <th>2020-05-08</th>\n",
       "      <th>2020-05-09</th>\n",
       "    </tr>\n",
       "    <tr>\n",
       "      <th>source</th>\n",
       "      <th></th>\n",
       "      <th></th>\n",
       "      <th></th>\n",
       "      <th></th>\n",
       "      <th></th>\n",
       "      <th></th>\n",
       "      <th></th>\n",
       "    </tr>\n",
       "  </thead>\n",
       "  <tbody>\n",
       "    <tr>\n",
       "      <th>facebook_ads</th>\n",
       "      <td>935.882786</td>\n",
       "      <td>548.354480</td>\n",
       "      <td>260.185754</td>\n",
       "      <td>177.982200</td>\n",
       "      <td>111.766796</td>\n",
       "      <td>68.009276</td>\n",
       "      <td>38.723350</td>\n",
       "    </tr>\n",
       "    <tr>\n",
       "      <th>instagram_new_adverts</th>\n",
       "      <td>943.204717</td>\n",
       "      <td>502.925451</td>\n",
       "      <td>313.970984</td>\n",
       "      <td>173.071145</td>\n",
       "      <td>109.915254</td>\n",
       "      <td>71.578739</td>\n",
       "      <td>46.775400</td>\n",
       "    </tr>\n",
       "    <tr>\n",
       "      <th>yandex_direct</th>\n",
       "      <td>969.139394</td>\n",
       "      <td>554.651494</td>\n",
       "      <td>308.232990</td>\n",
       "      <td>180.917099</td>\n",
       "      <td>114.429338</td>\n",
       "      <td>62.961630</td>\n",
       "      <td>42.779505</td>\n",
       "    </tr>\n",
       "    <tr>\n",
       "      <th>youtube_channel_reklama</th>\n",
       "      <td>454.224943</td>\n",
       "      <td>259.073224</td>\n",
       "      <td>147.041741</td>\n",
       "      <td>88.506074</td>\n",
       "      <td>55.740645</td>\n",
       "      <td>40.217907</td>\n",
       "      <td>23.314669</td>\n",
       "    </tr>\n",
       "  </tbody>\n",
       "</table>\n",
       "</div>"
      ],
      "text/plain": [
       "day                      2020-05-03  2020-05-04  2020-05-05  2020-05-06  \\\n",
       "source                                                                    \n",
       "facebook_ads             935.882786  548.354480  260.185754  177.982200   \n",
       "instagram_new_adverts    943.204717  502.925451  313.970984  173.071145   \n",
       "yandex_direct            969.139394  554.651494  308.232990  180.917099   \n",
       "youtube_channel_reklama  454.224943  259.073224  147.041741   88.506074   \n",
       "\n",
       "day                      2020-05-07  2020-05-08  2020-05-09  \n",
       "source                                                       \n",
       "facebook_ads             111.766796   68.009276   38.723350  \n",
       "instagram_new_adverts    109.915254   71.578739   46.775400  \n",
       "yandex_direct            114.429338   62.961630   42.779505  \n",
       "youtube_channel_reklama   55.740645   40.217907   23.314669  "
      ]
     },
     "metadata": {},
     "output_type": "display_data"
    },
    {
     "data": {
      "image/png": "[encoded data removed]",
      "text/plain": [
       "<Figure size 1440x576 with 1 Axes>"
      ]
     },
     "metadata": {},
     "output_type": "display_data"
    }
   ],
   "source": [
    "display(time_costs)\n",
    "\n",
    "time_costs.T.plot(figsize=(20, 8), grid=True)\n",
    "plt.ylabel('Сумма')\n",
    "plt.xlabel('Дни')\n",
    "plt.title('Динамика расходов на рекламу', fontsize = 14)\n",
    "plt.show()"
   ]
  },
  {
   "cell_type": "markdown",
   "metadata": {},
   "source": [
    "Увы, рекламные бюджеты не резиновые, и расходы на рекламу падают. \n",
    "\n",
    "Теперь было бы неплохо узнать стоимость привлечения пользователей:"
   ]
  },
  {
   "cell_type": "code",
   "execution_count": 32,
   "metadata": {
    "scrolled": false
   },
   "outputs": [
    {
     "data": {
      "text/html": [
       "<div>\n",
       "<style scoped>\n",
       "    .dataframe tbody tr th:only-of-type {\n",
       "        vertical-align: middle;\n",
       "    }\n",
       "\n",
       "    .dataframe tbody tr th {\n",
       "        vertical-align: top;\n",
       "    }\n",
       "\n",
       "    .dataframe thead th {\n",
       "        text-align: right;\n",
       "    }\n",
       "</style>\n",
       "<table border=\"1\" class=\"dataframe\">\n",
       "  <thead>\n",
       "    <tr style=\"text-align: right;\">\n",
       "      <th></th>\n",
       "      <th>source</th>\n",
       "      <th>cost</th>\n",
       "      <th>%_of_total</th>\n",
       "      <th>cac</th>\n",
       "    </tr>\n",
       "  </thead>\n",
       "  <tbody>\n",
       "    <tr>\n",
       "      <th>0</th>\n",
       "      <td>yandex_direct</td>\n",
       "      <td>2233.11</td>\n",
       "      <td>29.37</td>\n",
       "      <td>0.164490</td>\n",
       "    </tr>\n",
       "    <tr>\n",
       "      <th>1</th>\n",
       "      <td>instagram_new_adverts</td>\n",
       "      <td>2161.44</td>\n",
       "      <td>28.43</td>\n",
       "      <td>0.159210</td>\n",
       "    </tr>\n",
       "    <tr>\n",
       "      <th>2</th>\n",
       "      <td>facebook_ads</td>\n",
       "      <td>2140.90</td>\n",
       "      <td>28.16</td>\n",
       "      <td>0.157698</td>\n",
       "    </tr>\n",
       "    <tr>\n",
       "      <th>3</th>\n",
       "      <td>youtube_channel_reklama</td>\n",
       "      <td>1068.12</td>\n",
       "      <td>14.05</td>\n",
       "      <td>0.078677</td>\n",
       "    </tr>\n",
       "  </tbody>\n",
       "</table>\n",
       "</div>"
      ],
      "text/plain": [
       "                    source     cost  %_of_total       cac\n",
       "0            yandex_direct  2233.11       29.37  0.164490\n",
       "1    instagram_new_adverts  2161.44       28.43  0.159210\n",
       "2             facebook_ads  2140.90       28.16  0.157698\n",
       "3  youtube_channel_reklama  1068.12       14.05  0.078677"
      ]
     },
     "metadata": {},
     "output_type": "display_data"
    }
   ],
   "source": [
    "cac = ad_costs.groupby('source')['cost'].sum()/user_source['user_id'].nunique()\n",
    "cac = cac.reset_index().sort_values(by = 'cost', ascending = False)\n",
    "ads = ads.merge(cac, how = 'left', on = 'source')\n",
    "ads = ads.rename(columns = {'cost_x':'cost','cost_y':'cac'})\n",
    "display(ads)"
   ]
  },
  {
   "cell_type": "markdown",
   "metadata": {},
   "source": [
    "Со значительным отрывом лидирует YouTube - более, чем вдвое ниже остальных каналов. "
   ]
  },
  {
   "cell_type": "markdown",
   "metadata": {},
   "source": [
    "### Выводы"
   ]
  },
  {
   "cell_type": "markdown",
   "metadata": {},
   "source": [
    "Общая сумма маркетинговых затрат на четыре канала привлечения составляет 7604 условных единицы. Самая низкая стоимость привлечения пользователей и лучшая эфективность у самого малобюджетного канала YouTube. "
   ]
  },
  {
   "cell_type": "markdown",
   "metadata": {},
   "source": [
    "## Анализ влияния событий на наступление целевого события"
   ]
  },
  {
   "cell_type": "markdown",
   "metadata": {},
   "source": [
    "Теперь посмотрим, как обстоят дела со временем прохождения игры, как долго наши пользователи добираются до второго уровня.\n",
    "\n",
    "Для этого мы поступим следующим образом: создадим ряд временных таблиц с их последующим объединением.\n",
    "\n",
    "Первая таблица со временем первого события в игре:"
   ]
  },
  {
   "cell_type": "code",
   "execution_count": 33,
   "metadata": {
    "scrolled": true
   },
   "outputs": [
    {
     "data": {
      "text/html": [
       "<div>\n",
       "<style scoped>\n",
       "    .dataframe tbody tr th:only-of-type {\n",
       "        vertical-align: middle;\n",
       "    }\n",
       "\n",
       "    .dataframe tbody tr th {\n",
       "        vertical-align: top;\n",
       "    }\n",
       "\n",
       "    .dataframe thead th {\n",
       "        text-align: right;\n",
       "    }\n",
       "</style>\n",
       "<table border=\"1\" class=\"dataframe\">\n",
       "  <thead>\n",
       "    <tr style=\"text-align: right;\">\n",
       "      <th></th>\n",
       "      <th>user_id</th>\n",
       "      <th>start</th>\n",
       "    </tr>\n",
       "  </thead>\n",
       "  <tbody>\n",
       "    <tr>\n",
       "      <th>0</th>\n",
       "      <td>0001f83c-c6ac-4621-b7f0-8a28b283ac30</td>\n",
       "      <td>2020-05-06 01:07:37</td>\n",
       "    </tr>\n",
       "    <tr>\n",
       "      <th>1</th>\n",
       "      <td>00151b4f-ba38-44a8-a650-d7cf130a0105</td>\n",
       "      <td>2020-05-06 03:09:12</td>\n",
       "    </tr>\n",
       "    <tr>\n",
       "      <th>2</th>\n",
       "      <td>001aaea6-3d14-43f1-8ca8-7f48820f17aa</td>\n",
       "      <td>2020-05-05 18:08:52</td>\n",
       "    </tr>\n",
       "    <tr>\n",
       "      <th>3</th>\n",
       "      <td>001d39dc-366c-4021-9604-6a3b9ff01e25</td>\n",
       "      <td>2020-05-05 21:02:05</td>\n",
       "    </tr>\n",
       "    <tr>\n",
       "      <th>4</th>\n",
       "      <td>002f508f-67b6-479f-814b-b05f00d4e995</td>\n",
       "      <td>2020-05-05 13:49:58</td>\n",
       "    </tr>\n",
       "  </tbody>\n",
       "</table>\n",
       "</div>"
      ],
      "text/plain": [
       "                                user_id               start\n",
       "0  0001f83c-c6ac-4621-b7f0-8a28b283ac30 2020-05-06 01:07:37\n",
       "1  00151b4f-ba38-44a8-a650-d7cf130a0105 2020-05-06 03:09:12\n",
       "2  001aaea6-3d14-43f1-8ca8-7f48820f17aa 2020-05-05 18:08:52\n",
       "3  001d39dc-366c-4021-9604-6a3b9ff01e25 2020-05-05 21:02:05\n",
       "4  002f508f-67b6-479f-814b-b05f00d4e995 2020-05-05 13:49:58"
      ]
     },
     "metadata": {},
     "output_type": "display_data"
    }
   ],
   "source": [
    "start_event = game_actions.groupby('user_id')['event_datetime'].min()  # группируем по пользователям, первое событие\n",
    "start_event = start_event.reset_index()\n",
    "start_event = start_event.rename(columns ={'event_datetime':'start'})\n",
    "display(start_event.head(5))"
   ]
  },
  {
   "cell_type": "markdown",
   "metadata": {},
   "source": [
    "Вторая таблица со временем последнего события в игре:"
   ]
  },
  {
   "cell_type": "code",
   "execution_count": 34,
   "metadata": {
    "scrolled": true
   },
   "outputs": [
    {
     "data": {
      "text/html": [
       "<div>\n",
       "<style scoped>\n",
       "    .dataframe tbody tr th:only-of-type {\n",
       "        vertical-align: middle;\n",
       "    }\n",
       "\n",
       "    .dataframe tbody tr th {\n",
       "        vertical-align: top;\n",
       "    }\n",
       "\n",
       "    .dataframe thead th {\n",
       "        text-align: right;\n",
       "    }\n",
       "</style>\n",
       "<table border=\"1\" class=\"dataframe\">\n",
       "  <thead>\n",
       "    <tr style=\"text-align: right;\">\n",
       "      <th></th>\n",
       "      <th>user_id</th>\n",
       "      <th>end</th>\n",
       "    </tr>\n",
       "  </thead>\n",
       "  <tbody>\n",
       "    <tr>\n",
       "      <th>0</th>\n",
       "      <td>0001f83c-c6ac-4621-b7f0-8a28b283ac30</td>\n",
       "      <td>2020-05-20 11:26:06</td>\n",
       "    </tr>\n",
       "    <tr>\n",
       "      <th>1</th>\n",
       "      <td>00151b4f-ba38-44a8-a650-d7cf130a0105</td>\n",
       "      <td>2020-05-18 10:46:52</td>\n",
       "    </tr>\n",
       "    <tr>\n",
       "      <th>2</th>\n",
       "      <td>001aaea6-3d14-43f1-8ca8-7f48820f17aa</td>\n",
       "      <td>2020-05-14 09:21:27</td>\n",
       "    </tr>\n",
       "    <tr>\n",
       "      <th>3</th>\n",
       "      <td>001d39dc-366c-4021-9604-6a3b9ff01e25</td>\n",
       "      <td>2020-05-12 07:40:47</td>\n",
       "    </tr>\n",
       "    <tr>\n",
       "      <th>4</th>\n",
       "      <td>002f508f-67b6-479f-814b-b05f00d4e995</td>\n",
       "      <td>2020-05-22 02:46:45</td>\n",
       "    </tr>\n",
       "  </tbody>\n",
       "</table>\n",
       "</div>"
      ],
      "text/plain": [
       "                                user_id                 end\n",
       "0  0001f83c-c6ac-4621-b7f0-8a28b283ac30 2020-05-20 11:26:06\n",
       "1  00151b4f-ba38-44a8-a650-d7cf130a0105 2020-05-18 10:46:52\n",
       "2  001aaea6-3d14-43f1-8ca8-7f48820f17aa 2020-05-14 09:21:27\n",
       "3  001d39dc-366c-4021-9604-6a3b9ff01e25 2020-05-12 07:40:47\n",
       "4  002f508f-67b6-479f-814b-b05f00d4e995 2020-05-22 02:46:45"
      ]
     },
     "execution_count": 34,
     "metadata": {},
     "output_type": "execute_result"
    }
   ],
   "source": [
    "end_event = game_actions.groupby('user_id')['event_datetime'].max()  # группируем по пользователям, последнее событие\n",
    "end_event = end_event.reset_index()\n",
    "end_event = end_event.rename(columns ={'event_datetime':'end'})\n",
    "end_event.head(5)"
   ]
  },
  {
   "cell_type": "markdown",
   "metadata": {},
   "source": [
    "Получили таблицу со временем первого и последнего события:"
   ]
  },
  {
   "cell_type": "code",
   "execution_count": 35,
   "metadata": {},
   "outputs": [
    {
     "data": {
      "text/html": [
       "<div>\n",
       "<style scoped>\n",
       "    .dataframe tbody tr th:only-of-type {\n",
       "        vertical-align: middle;\n",
       "    }\n",
       "\n",
       "    .dataframe tbody tr th {\n",
       "        vertical-align: top;\n",
       "    }\n",
       "\n",
       "    .dataframe thead th {\n",
       "        text-align: right;\n",
       "    }\n",
       "</style>\n",
       "<table border=\"1\" class=\"dataframe\">\n",
       "  <thead>\n",
       "    <tr style=\"text-align: right;\">\n",
       "      <th></th>\n",
       "      <th>user_id</th>\n",
       "      <th>start</th>\n",
       "      <th>end</th>\n",
       "    </tr>\n",
       "  </thead>\n",
       "  <tbody>\n",
       "    <tr>\n",
       "      <th>0</th>\n",
       "      <td>0001f83c-c6ac-4621-b7f0-8a28b283ac30</td>\n",
       "      <td>2020-05-06 01:07:37</td>\n",
       "      <td>2020-05-20 11:26:06</td>\n",
       "    </tr>\n",
       "    <tr>\n",
       "      <th>1</th>\n",
       "      <td>00151b4f-ba38-44a8-a650-d7cf130a0105</td>\n",
       "      <td>2020-05-06 03:09:12</td>\n",
       "      <td>2020-05-18 10:46:52</td>\n",
       "    </tr>\n",
       "    <tr>\n",
       "      <th>2</th>\n",
       "      <td>001aaea6-3d14-43f1-8ca8-7f48820f17aa</td>\n",
       "      <td>2020-05-05 18:08:52</td>\n",
       "      <td>2020-05-14 09:21:27</td>\n",
       "    </tr>\n",
       "    <tr>\n",
       "      <th>3</th>\n",
       "      <td>001d39dc-366c-4021-9604-6a3b9ff01e25</td>\n",
       "      <td>2020-05-05 21:02:05</td>\n",
       "      <td>2020-05-12 07:40:47</td>\n",
       "    </tr>\n",
       "    <tr>\n",
       "      <th>4</th>\n",
       "      <td>002f508f-67b6-479f-814b-b05f00d4e995</td>\n",
       "      <td>2020-05-05 13:49:58</td>\n",
       "      <td>2020-05-22 02:46:45</td>\n",
       "    </tr>\n",
       "  </tbody>\n",
       "</table>\n",
       "</div>"
      ],
      "text/plain": [
       "                                user_id               start  \\\n",
       "0  0001f83c-c6ac-4621-b7f0-8a28b283ac30 2020-05-06 01:07:37   \n",
       "1  00151b4f-ba38-44a8-a650-d7cf130a0105 2020-05-06 03:09:12   \n",
       "2  001aaea6-3d14-43f1-8ca8-7f48820f17aa 2020-05-05 18:08:52   \n",
       "3  001d39dc-366c-4021-9604-6a3b9ff01e25 2020-05-05 21:02:05   \n",
       "4  002f508f-67b6-479f-814b-b05f00d4e995 2020-05-05 13:49:58   \n",
       "\n",
       "                  end  \n",
       "0 2020-05-20 11:26:06  \n",
       "1 2020-05-18 10:46:52  \n",
       "2 2020-05-14 09:21:27  \n",
       "3 2020-05-12 07:40:47  \n",
       "4 2020-05-22 02:46:45  "
      ]
     },
     "execution_count": 35,
     "metadata": {},
     "output_type": "execute_result"
    }
   ],
   "source": [
    "delta_events = start_event.merge(end_event, how = 'left', on = 'user_id')\n",
    "delta_events.head(5)"
   ]
  },
  {
   "cell_type": "markdown",
   "metadata": {},
   "source": [
    "Добавляем столбец с разнице во времени, получаем точную продолжительность игрового процесса:"
   ]
  },
  {
   "cell_type": "code",
   "execution_count": 36,
   "metadata": {},
   "outputs": [],
   "source": [
    "delta_events['delta'] = delta_events['end'] - delta_events['start']"
   ]
  },
  {
   "cell_type": "markdown",
   "metadata": {},
   "source": [
    "И для удобства расчетов добавляем столбец с округлением по дням игры:"
   ]
  },
  {
   "cell_type": "code",
   "execution_count": 37,
   "metadata": {},
   "outputs": [],
   "source": [
    "delta_events['delta_days'] = delta_events['delta'].dt.days"
   ]
  },
  {
   "cell_type": "markdown",
   "metadata": {},
   "source": [
    "Проверяем результат. Все присутствует."
   ]
  },
  {
   "cell_type": "code",
   "execution_count": 38,
   "metadata": {
    "scrolled": true
   },
   "outputs": [
    {
     "data": {
      "text/html": [
       "<div>\n",
       "<style scoped>\n",
       "    .dataframe tbody tr th:only-of-type {\n",
       "        vertical-align: middle;\n",
       "    }\n",
       "\n",
       "    .dataframe tbody tr th {\n",
       "        vertical-align: top;\n",
       "    }\n",
       "\n",
       "    .dataframe thead th {\n",
       "        text-align: right;\n",
       "    }\n",
       "</style>\n",
       "<table border=\"1\" class=\"dataframe\">\n",
       "  <thead>\n",
       "    <tr style=\"text-align: right;\">\n",
       "      <th></th>\n",
       "      <th>user_id</th>\n",
       "      <th>start</th>\n",
       "      <th>end</th>\n",
       "      <th>delta</th>\n",
       "      <th>delta_days</th>\n",
       "    </tr>\n",
       "  </thead>\n",
       "  <tbody>\n",
       "    <tr>\n",
       "      <th>0</th>\n",
       "      <td>0001f83c-c6ac-4621-b7f0-8a28b283ac30</td>\n",
       "      <td>2020-05-06 01:07:37</td>\n",
       "      <td>2020-05-20 11:26:06</td>\n",
       "      <td>14 days 10:18:29</td>\n",
       "      <td>14</td>\n",
       "    </tr>\n",
       "    <tr>\n",
       "      <th>1</th>\n",
       "      <td>00151b4f-ba38-44a8-a650-d7cf130a0105</td>\n",
       "      <td>2020-05-06 03:09:12</td>\n",
       "      <td>2020-05-18 10:46:52</td>\n",
       "      <td>12 days 07:37:40</td>\n",
       "      <td>12</td>\n",
       "    </tr>\n",
       "    <tr>\n",
       "      <th>2</th>\n",
       "      <td>001aaea6-3d14-43f1-8ca8-7f48820f17aa</td>\n",
       "      <td>2020-05-05 18:08:52</td>\n",
       "      <td>2020-05-14 09:21:27</td>\n",
       "      <td>8 days 15:12:35</td>\n",
       "      <td>8</td>\n",
       "    </tr>\n",
       "    <tr>\n",
       "      <th>3</th>\n",
       "      <td>001d39dc-366c-4021-9604-6a3b9ff01e25</td>\n",
       "      <td>2020-05-05 21:02:05</td>\n",
       "      <td>2020-05-12 07:40:47</td>\n",
       "      <td>6 days 10:38:42</td>\n",
       "      <td>6</td>\n",
       "    </tr>\n",
       "    <tr>\n",
       "      <th>4</th>\n",
       "      <td>002f508f-67b6-479f-814b-b05f00d4e995</td>\n",
       "      <td>2020-05-05 13:49:58</td>\n",
       "      <td>2020-05-22 02:46:45</td>\n",
       "      <td>16 days 12:56:47</td>\n",
       "      <td>16</td>\n",
       "    </tr>\n",
       "  </tbody>\n",
       "</table>\n",
       "</div>"
      ],
      "text/plain": [
       "                                user_id               start  \\\n",
       "0  0001f83c-c6ac-4621-b7f0-8a28b283ac30 2020-05-06 01:07:37   \n",
       "1  00151b4f-ba38-44a8-a650-d7cf130a0105 2020-05-06 03:09:12   \n",
       "2  001aaea6-3d14-43f1-8ca8-7f48820f17aa 2020-05-05 18:08:52   \n",
       "3  001d39dc-366c-4021-9604-6a3b9ff01e25 2020-05-05 21:02:05   \n",
       "4  002f508f-67b6-479f-814b-b05f00d4e995 2020-05-05 13:49:58   \n",
       "\n",
       "                  end            delta  delta_days  \n",
       "0 2020-05-20 11:26:06 14 days 10:18:29          14  \n",
       "1 2020-05-18 10:46:52 12 days 07:37:40          12  \n",
       "2 2020-05-14 09:21:27  8 days 15:12:35           8  \n",
       "3 2020-05-12 07:40:47  6 days 10:38:42           6  \n",
       "4 2020-05-22 02:46:45 16 days 12:56:47          16  "
      ]
     },
     "execution_count": 38,
     "metadata": {},
     "output_type": "execute_result"
    }
   ],
   "source": [
    "delta_events.head(5)"
   ]
  },
  {
   "cell_type": "markdown",
   "metadata": {},
   "source": [
    "Теперь добавляем все, что у нас получилось к таблице `game_actions`:"
   ]
  },
  {
   "cell_type": "code",
   "execution_count": 39,
   "metadata": {},
   "outputs": [],
   "source": [
    "events_time = game_actions.merge(delta_events, how = 'left', on = 'user_id')"
   ]
  },
  {
   "cell_type": "code",
   "execution_count": 40,
   "metadata": {
    "scrolled": false
   },
   "outputs": [
    {
     "data": {
      "text/html": [
       "<div>\n",
       "<style scoped>\n",
       "    .dataframe tbody tr th:only-of-type {\n",
       "        vertical-align: middle;\n",
       "    }\n",
       "\n",
       "    .dataframe tbody tr th {\n",
       "        vertical-align: top;\n",
       "    }\n",
       "\n",
       "    .dataframe thead th {\n",
       "        text-align: right;\n",
       "    }\n",
       "</style>\n",
       "<table border=\"1\" class=\"dataframe\">\n",
       "  <thead>\n",
       "    <tr style=\"text-align: right;\">\n",
       "      <th></th>\n",
       "      <th>event_datetime</th>\n",
       "      <th>event</th>\n",
       "      <th>building_type</th>\n",
       "      <th>user_id</th>\n",
       "      <th>project_type</th>\n",
       "      <th>event_date</th>\n",
       "      <th>start</th>\n",
       "      <th>end</th>\n",
       "      <th>delta</th>\n",
       "      <th>delta_days</th>\n",
       "    </tr>\n",
       "  </thead>\n",
       "  <tbody>\n",
       "    <tr>\n",
       "      <th>0</th>\n",
       "      <td>2020-05-04 00:00:01</td>\n",
       "      <td>building</td>\n",
       "      <td>assembly_shop</td>\n",
       "      <td>55e92310-cb8e-4754-b622-597e124b03de</td>\n",
       "      <td>unknown</td>\n",
       "      <td>2020-05-04</td>\n",
       "      <td>2020-05-04 00:00:01</td>\n",
       "      <td>2020-05-10 20:27:01</td>\n",
       "      <td>6 days 20:27:00</td>\n",
       "      <td>6</td>\n",
       "    </tr>\n",
       "    <tr>\n",
       "      <th>1</th>\n",
       "      <td>2020-05-04 00:00:03</td>\n",
       "      <td>building</td>\n",
       "      <td>assembly_shop</td>\n",
       "      <td>c07b1c10-f477-44dc-81dc-ec82254b1347</td>\n",
       "      <td>unknown</td>\n",
       "      <td>2020-05-04</td>\n",
       "      <td>2020-05-04 00:00:03</td>\n",
       "      <td>2020-05-15 05:29:13</td>\n",
       "      <td>11 days 05:29:10</td>\n",
       "      <td>11</td>\n",
       "    </tr>\n",
       "    <tr>\n",
       "      <th>2</th>\n",
       "      <td>2020-05-04 00:00:16</td>\n",
       "      <td>building</td>\n",
       "      <td>assembly_shop</td>\n",
       "      <td>6edd42cc-e753-4ff6-a947-2107cd560710</td>\n",
       "      <td>unknown</td>\n",
       "      <td>2020-05-04</td>\n",
       "      <td>2020-05-04 00:00:16</td>\n",
       "      <td>2020-05-16 11:51:58</td>\n",
       "      <td>12 days 11:51:42</td>\n",
       "      <td>12</td>\n",
       "    </tr>\n",
       "    <tr>\n",
       "      <th>3</th>\n",
       "      <td>2020-05-04 00:00:16</td>\n",
       "      <td>building</td>\n",
       "      <td>assembly_shop</td>\n",
       "      <td>92c69003-d60a-444a-827f-8cc51bf6bf4c</td>\n",
       "      <td>unknown</td>\n",
       "      <td>2020-05-04</td>\n",
       "      <td>2020-05-04 00:00:16</td>\n",
       "      <td>2020-05-12 04:29:54</td>\n",
       "      <td>8 days 04:29:38</td>\n",
       "      <td>8</td>\n",
       "    </tr>\n",
       "    <tr>\n",
       "      <th>4</th>\n",
       "      <td>2020-05-04 00:00:35</td>\n",
       "      <td>building</td>\n",
       "      <td>assembly_shop</td>\n",
       "      <td>cdc6bb92-0ccb-4490-9866-ef142f09139d</td>\n",
       "      <td>unknown</td>\n",
       "      <td>2020-05-04</td>\n",
       "      <td>2020-05-04 00:00:35</td>\n",
       "      <td>2020-05-11 14:18:05</td>\n",
       "      <td>7 days 14:17:30</td>\n",
       "      <td>7</td>\n",
       "    </tr>\n",
       "  </tbody>\n",
       "</table>\n",
       "</div>"
      ],
      "text/plain": [
       "       event_datetime     event  building_type  \\\n",
       "0 2020-05-04 00:00:01  building  assembly_shop   \n",
       "1 2020-05-04 00:00:03  building  assembly_shop   \n",
       "2 2020-05-04 00:00:16  building  assembly_shop   \n",
       "3 2020-05-04 00:00:16  building  assembly_shop   \n",
       "4 2020-05-04 00:00:35  building  assembly_shop   \n",
       "\n",
       "                                user_id project_type  event_date  \\\n",
       "0  55e92310-cb8e-4754-b622-597e124b03de      unknown  2020-05-04   \n",
       "1  c07b1c10-f477-44dc-81dc-ec82254b1347      unknown  2020-05-04   \n",
       "2  6edd42cc-e753-4ff6-a947-2107cd560710      unknown  2020-05-04   \n",
       "3  92c69003-d60a-444a-827f-8cc51bf6bf4c      unknown  2020-05-04   \n",
       "4  cdc6bb92-0ccb-4490-9866-ef142f09139d      unknown  2020-05-04   \n",
       "\n",
       "                start                 end            delta  delta_days  \n",
       "0 2020-05-04 00:00:01 2020-05-10 20:27:01  6 days 20:27:00           6  \n",
       "1 2020-05-04 00:00:03 2020-05-15 05:29:13 11 days 05:29:10          11  \n",
       "2 2020-05-04 00:00:16 2020-05-16 11:51:58 12 days 11:51:42          12  \n",
       "3 2020-05-04 00:00:16 2020-05-12 04:29:54  8 days 04:29:38           8  \n",
       "4 2020-05-04 00:00:35 2020-05-11 14:18:05  7 days 14:17:30           7  "
      ]
     },
     "execution_count": 40,
     "metadata": {},
     "output_type": "execute_result"
    }
   ],
   "source": [
    "events_time.head(5)"
   ]
  },
  {
   "cell_type": "code",
   "execution_count": 41,
   "metadata": {},
   "outputs": [],
   "source": [
    "events_time.to_csv(r'С:\\events_time.csv')"
   ]
  },
  {
   "cell_type": "code",
   "execution_count": 42,
   "metadata": {},
   "outputs": [
    {
     "name": "stdout",
     "output_type": "stream",
     "text": [
      "Среднее время в игре 11.24 дней\n"
     ]
    }
   ],
   "source": [
    "print(f'Среднее время в игре {events_time[\"delta_days\"].mean().round(2)} дней')"
   ]
  },
  {
   "cell_type": "markdown",
   "metadata": {},
   "source": [
    "Получилось прекрасно, вся информация присутствует.\n",
    "\n",
    "Теперь начинаем разбираться в наших победителях. Сначала посмотрим на тех, кто смог осилить постройку орбитальной станции:"
   ]
  },
  {
   "cell_type": "code",
   "execution_count": 43,
   "metadata": {
    "scrolled": false
   },
   "outputs": [
    {
     "name": "stdout",
     "output_type": "stream",
     "text": [
      "Количество пользователей, перешедших на второй уровень через постройку проекта: 1866.\n"
     ]
    }
   ],
   "source": [
    "projectants = events_time.query('project_type==\"satellite_orbital_assembly\"')\n",
    "print(f\"Количество пользователей, перешедших на второй уровень через постройку проекта: {projectants['user_id'].count()}.\")"
   ]
  },
  {
   "cell_type": "markdown",
   "metadata": {},
   "source": [
    "1866 пользователей, все сходится.\n",
    "\n",
    "Теперь посмотрим, кто смог пройти на второй уровень, одержав победу над врагом:"
   ]
  },
  {
   "cell_type": "code",
   "execution_count": 44,
   "metadata": {},
   "outputs": [],
   "source": [
    "ids = projectants['user_id'].tolist()  # сделал список айди игроков, которые построили проект"
   ]
  },
  {
   "cell_type": "code",
   "execution_count": 45,
   "metadata": {},
   "outputs": [
    {
     "name": "stdout",
     "output_type": "stream",
     "text": [
      "Количество пользователей, перешедших на второй уровень через победу над врагом: 3951.\n"
     ]
    }
   ],
   "source": [
    "warriors = events_time.query('event==\"finished_stage_1\" and user_id not in @ids')\n",
    "print(f\"Количество пользователей, перешедших на второй уровень через победу над врагом: {warriors['user_id'].count()}.\")\n"
   ]
  },
  {
   "cell_type": "markdown",
   "metadata": {},
   "source": [
    "И у нас есть 3951 пользователь, который вырвал победу в честном бою."
   ]
  },
  {
   "cell_type": "markdown",
   "metadata": {},
   "source": [
    "Теперь посмотрим, как строили успешные игроки. Начнем с главных строителей - тех, кто осилил орбитальный проект:"
   ]
  },
  {
   "cell_type": "code",
   "execution_count": 46,
   "metadata": {},
   "outputs": [],
   "source": [
    "projectants_buildings = game_actions.query('user_id in @ids')  # фильтруем"
   ]
  },
  {
   "cell_type": "code",
   "execution_count": 47,
   "metadata": {
    "scrolled": false
   },
   "outputs": [
    {
     "data": {
      "text/html": [
       "<div>\n",
       "<style scoped>\n",
       "    .dataframe tbody tr th:only-of-type {\n",
       "        vertical-align: middle;\n",
       "    }\n",
       "\n",
       "    .dataframe tbody tr th {\n",
       "        vertical-align: top;\n",
       "    }\n",
       "\n",
       "    .dataframe thead th {\n",
       "        text-align: right;\n",
       "    }\n",
       "</style>\n",
       "<table border=\"1\" class=\"dataframe\">\n",
       "  <thead>\n",
       "    <tr style=\"text-align: right;\">\n",
       "      <th></th>\n",
       "      <th>building_type</th>\n",
       "      <th>amount</th>\n",
       "      <th>%_of_total</th>\n",
       "    </tr>\n",
       "  </thead>\n",
       "  <tbody>\n",
       "    <tr>\n",
       "      <th>0</th>\n",
       "      <td>spaceport</td>\n",
       "      <td>10788</td>\n",
       "      <td>45.71</td>\n",
       "    </tr>\n",
       "    <tr>\n",
       "      <th>1</th>\n",
       "      <td>assembly_shop</td>\n",
       "      <td>9116</td>\n",
       "      <td>38.63</td>\n",
       "    </tr>\n",
       "    <tr>\n",
       "      <th>2</th>\n",
       "      <td>research_center</td>\n",
       "      <td>3697</td>\n",
       "      <td>15.66</td>\n",
       "    </tr>\n",
       "  </tbody>\n",
       "</table>\n",
       "</div>"
      ],
      "text/plain": [
       "     building_type  amount  %_of_total\n",
       "0        spaceport   10788       45.71\n",
       "1    assembly_shop    9116       38.63\n",
       "2  research_center    3697       15.66"
      ]
     },
     "metadata": {},
     "output_type": "display_data"
    },
    {
     "data": {
      "text/plain": [
       "<function matplotlib.pyplot.show(close=None, block=None)>"
      ]
     },
     "execution_count": 47,
     "metadata": {},
     "output_type": "execute_result"
    },
    {
     "data": {
      "image/png": "[encoded data removed]",
      "text/plain": [
       "<Figure size 360x360 with 1 Axes>"
      ]
     },
     "metadata": {},
     "output_type": "display_data"
    }
   ],
   "source": [
    "project_buildings = projectants_buildings['building_type'].value_counts().reset_index()\n",
    "project_buildings['%_of_total'] = round((project_buildings['building_type']/project_buildings['building_type'].sum()*100), 2)\n",
    "project_buildings = project_buildings.rename(columns = {'index':'building_type', 'building_type':'amount'})\n",
    "display(project_buildings)\n",
    "\n",
    "sns.countplot(projectants_buildings['building_type'])\n",
    "plt.grid()\n",
    "plt.title('Распределение построек игроков, завершивших уровень постройкой проекта', fontsize = 14)\n",
    "plt.xlabel('Типы построек')\n",
    "plt.ylabel('Количество построек')\n",
    "plt.show"
   ]
  },
  {
   "cell_type": "markdown",
   "metadata": {},
   "source": [
    "Преобладают начальные постройки, 15% построили исследовательский центр."
   ]
  },
  {
   "cell_type": "markdown",
   "metadata": {},
   "source": [
    "Теперь посмотрим, как действовали пользователи, решившие идти тропой войны:"
   ]
  },
  {
   "cell_type": "code",
   "execution_count": 48,
   "metadata": {},
   "outputs": [],
   "source": [
    "war_ids = warriors['user_id'].tolist()  # сделал список айди игроков, которые победили врага"
   ]
  },
  {
   "cell_type": "code",
   "execution_count": 49,
   "metadata": {},
   "outputs": [],
   "source": [
    "warriors_buildings = game_actions.query('user_id in @war_ids')  # фильтруем"
   ]
  },
  {
   "cell_type": "code",
   "execution_count": 50,
   "metadata": {
    "scrolled": false
   },
   "outputs": [
    {
     "data": {
      "text/html": [
       "<div>\n",
       "<style scoped>\n",
       "    .dataframe tbody tr th:only-of-type {\n",
       "        vertical-align: middle;\n",
       "    }\n",
       "\n",
       "    .dataframe tbody tr th {\n",
       "        vertical-align: top;\n",
       "    }\n",
       "\n",
       "    .dataframe thead th {\n",
       "        text-align: right;\n",
       "    }\n",
       "</style>\n",
       "<table border=\"1\" class=\"dataframe\">\n",
       "  <thead>\n",
       "    <tr style=\"text-align: right;\">\n",
       "      <th></th>\n",
       "      <th>building_type</th>\n",
       "      <th>amount</th>\n",
       "      <th>%_of_total</th>\n",
       "    </tr>\n",
       "  </thead>\n",
       "  <tbody>\n",
       "    <tr>\n",
       "      <th>0</th>\n",
       "      <td>spaceport</td>\n",
       "      <td>17132</td>\n",
       "      <td>46.07</td>\n",
       "    </tr>\n",
       "    <tr>\n",
       "      <th>1</th>\n",
       "      <td>assembly_shop</td>\n",
       "      <td>16298</td>\n",
       "      <td>43.83</td>\n",
       "    </tr>\n",
       "    <tr>\n",
       "      <th>2</th>\n",
       "      <td>research_center</td>\n",
       "      <td>3755</td>\n",
       "      <td>10.10</td>\n",
       "    </tr>\n",
       "  </tbody>\n",
       "</table>\n",
       "</div>"
      ],
      "text/plain": [
       "     building_type  amount  %_of_total\n",
       "0        spaceport   17132       46.07\n",
       "1    assembly_shop   16298       43.83\n",
       "2  research_center    3755       10.10"
      ]
     },
     "metadata": {},
     "output_type": "display_data"
    },
    {
     "data": {
      "text/plain": [
       "<function matplotlib.pyplot.show(close=None, block=None)>"
      ]
     },
     "execution_count": 50,
     "metadata": {},
     "output_type": "execute_result"
    },
    {
     "data": {
      "image/png": "[encoded data removed]",
      "text/plain": [
       "<Figure size 360x360 with 1 Axes>"
      ]
     },
     "metadata": {},
     "output_type": "display_data"
    }
   ],
   "source": [
    "war_buildings = warriors_buildings['building_type'].value_counts().reset_index()\n",
    "war_buildings['%_of_total'] = round((war_buildings['building_type']/war_buildings['building_type'].sum()*100), 2)\n",
    "war_buildings = war_buildings.rename(columns = {'index':'building_type', 'building_type':'amount'})\n",
    "display(war_buildings)\n",
    "\n",
    "sns.countplot(warriors_buildings['building_type'])\n",
    "plt.grid()\n",
    "plt.title('Распределение построек игроков, завершивших уровень победой над врагом', fontsize = 14)\n",
    "plt.xlabel('Типы построек')\n",
    "plt.ylabel('Количество построек')\n",
    "plt.show"
   ]
  },
  {
   "cell_type": "markdown",
   "metadata": {},
   "source": [
    "Мы видим, что игроки, которые любят воевать, реже строили исследовательский центр, но чаще строили сборочные цеха - для войны нужно строить много юнитов))"
   ]
  },
  {
   "cell_type": "code",
   "execution_count": 51,
   "metadata": {},
   "outputs": [
    {
     "name": "stdout",
     "output_type": "stream",
     "text": [
      "Среднее количество дней в игре для игроков, завершивших уровень постройкой проекта: 13.0\n",
      "Кол-во пользователей: 1866.\n",
      "Процент пользователей, перешедших на второй уровень через строительство проекта: 13.74 %.\n"
     ]
    },
    {
     "data": {
      "image/png": "[encoded data removed]",
      "text/plain": [
       "<Figure size 360x360 with 1 Axes>"
      ]
     },
     "metadata": {},
     "output_type": "display_data"
    }
   ],
   "source": [
    "print(f\"Среднее количество дней в игре для игроков, завершивших уровень постройкой проекта: {projectants['delta_days'].mean().round()}\")\n",
    "print(f'Кол-во пользователей: {projectants[\"user_id\"].count()}.')\n",
    "projectants_winners = projectants[\"user_id\"].count()/game_actions[\"user_id\"].nunique()*100\n",
    "print(f'Процент пользователей, перешедших на второй уровень через строительство проекта: {round(projectants_winners, 2)} %.')\n",
    "\n",
    "\n",
    "\n",
    "sns.histplot(data=projectants, x=\"event_datetime\")\n",
    "plt.grid()\n",
    "plt.ylabel('Количество')\n",
    "plt.xlabel('Дата')\n",
    "plt.title('Распределение количества орбитальных станций', fontsize = 14)\n",
    "plt.xticks(rotation = 45)\n",
    "plt.show()"
   ]
  },
  {
   "cell_type": "markdown",
   "metadata": {},
   "source": [
    "1866 человек в среднем тратят 13 дней на постройку орбитальной станции, что составляет 13,7% от общего числа пользователей. Распределение событий смещено вправо. Самые активные пользователи успевают построить станцию за 4 дня. График достигает пика к 15 мая.\n",
    "\n",
    "Теперь посмотрим, как обстоят дела у тех, кто любит PvP:"
   ]
  },
  {
   "cell_type": "code",
   "execution_count": 52,
   "metadata": {
    "scrolled": false
   },
   "outputs": [
    {
     "name": "stdout",
     "output_type": "stream",
     "text": [
      "Среднее количество дней в игре для игроков, завершивших уровень победой над врагом: 11.0\n",
      "Кол-во пользователей: 3951.\n",
      "Процент пользователей, перешедших на второй уровень через победу над врагом: 29.1 %.\n"
     ]
    },
    {
     "data": {
      "image/png": "[encoded data removed]",
      "text/plain": [
       "<Figure size 360x360 with 1 Axes>"
      ]
     },
     "metadata": {},
     "output_type": "display_data"
    }
   ],
   "source": [
    "print(f\"Среднее количество дней в игре для игроков, завершивших уровень победой над врагом: {warriors['delta_days'].mean().round()}\")\n",
    "print(f'Кол-во пользователей: {warriors[\"user_id\"].count()}.')\n",
    "warriors_winners = warriors[\"user_id\"].count()/game_actions[\"user_id\"].nunique()*100\n",
    "print(f'Процент пользователей, перешедших на второй уровень через победу над врагом: {round(warriors_winners, 2)} %.')\n",
    "\n",
    "sns.histplot(data=warriors, x=\"event_datetime\")\n",
    "sns.set(rc={'figure.figsize':(5,5)})\n",
    "plt.grid()\n",
    "plt.ylabel('Количество')\n",
    "plt.xlabel('Дата')\n",
    "plt.title('Распределение количества побед над врагом', fontsize = 14)\n",
    "plt.xticks(rotation = 45)\n",
    "plt.show()"
   ]
  },
  {
   "cell_type": "markdown",
   "metadata": {},
   "source": [
    "Игра поощряет активный стиль. 3951 человек в среднем тратят 11 дней на одержание победы над первым врагом, что составляет 29,1 % от общего количества. Распределение уже ближе к нормальному. \n",
    "\n",
    "Посмотрим на процентное соотношение победителей:"
   ]
  },
  {
   "cell_type": "code",
   "execution_count": 53,
   "metadata": {},
   "outputs": [
    {
     "name": "stdout",
     "output_type": "stream",
     "text": [
      "Процент победивших врага среди перешедших на второй уровень: 32.08 %\n",
      "Процент завершивших проект среди перешедших на второй уровень: 67.92 %\n"
     ]
    }
   ],
   "source": [
    "winners = game_actions.query('event == \"finished_stage_1\"')\n",
    "winners = winners['user_id'].count()\n",
    "print(f\"Процент победивших врага среди перешедших на второй уровень: {(projectants['user_id'].count()/winners*100).round(2)} %\")\n",
    "print(f\"Процент завершивших проект среди перешедших на второй уровень: {(warriors['user_id'].count()/winners*100).round(2)} %\")"
   ]
  },
  {
   "cell_type": "markdown",
   "metadata": {},
   "source": [
    "Количество агрессивных игроков в два раза больше."
   ]
  },
  {
   "cell_type": "markdown",
   "metadata": {},
   "source": [
    "Теперь посмотрим, как себя ведут пользователи, которые по каким-то причинам не смогли завершить уровень. \n",
    "\n",
    "Для начала оценим их среднее время в игре:"
   ]
  },
  {
   "cell_type": "code",
   "execution_count": 54,
   "metadata": {},
   "outputs": [],
   "source": [
    "remainers = events_time.query('user_id not in @war_ids')\n",
    "remainers = remainers.query('user_id not in @ids')"
   ]
  },
  {
   "cell_type": "code",
   "execution_count": 55,
   "metadata": {
    "scrolled": false
   },
   "outputs": [
    {
     "name": "stdout",
     "output_type": "stream",
     "text": [
      "Среднее количество дней в игре для игроков, не завершивших уровень: 11.0\n",
      "Количество пользователей: 7759.\n",
      "Процент пользователей, не перешедших на второй уровень: 57.15 %.\n"
     ]
    },
    {
     "data": {
      "image/png": "[encoded data removed]",
      "text/plain": [
       "<Figure size 360x360 with 1 Axes>"
      ]
     },
     "metadata": {},
     "output_type": "display_data"
    }
   ],
   "source": [
    "print(f\"Среднее количество дней в игре для игроков, не завершивших уровень: {remainers['delta_days'].mean().round()}\")\n",
    "print(f'Количество пользователей: {remainers[\"user_id\"].nunique()}.')\n",
    "remains = remainers[\"user_id\"].nunique()/events_time[\"user_id\"].nunique()*100\n",
    "print(f'Процент пользователей, не перешедших на второй уровень: {round(remains, 2)} %.')\n",
    "\n",
    "\n",
    "sns.histplot(data=remainers, x=\"event_datetime\")\n",
    "\n",
    "plt.ylabel('Количество')\n",
    "plt.xlabel('Дата')\n",
    "plt.title('Распределение количества построек среди оставшихся игроков', fontsize = 14)\n",
    "plt.xticks(rotation = 45)\n",
    "plt.grid()\n",
    "plt.show()"
   ]
  },
  {
   "cell_type": "markdown",
   "metadata": {},
   "source": [
    "Время максимальной активности пользователей, не прошедших первый уровень примерно четыре дня. Затем они строят намного реже, судя по всему, интерес к игре пропадает."
   ]
  },
  {
   "cell_type": "code",
   "execution_count": 56,
   "metadata": {
    "scrolled": false
   },
   "outputs": [
    {
     "data": {
      "text/html": [
       "<div>\n",
       "<style scoped>\n",
       "    .dataframe tbody tr th:only-of-type {\n",
       "        vertical-align: middle;\n",
       "    }\n",
       "\n",
       "    .dataframe tbody tr th {\n",
       "        vertical-align: top;\n",
       "    }\n",
       "\n",
       "    .dataframe thead th {\n",
       "        text-align: right;\n",
       "    }\n",
       "</style>\n",
       "<table border=\"1\" class=\"dataframe\">\n",
       "  <thead>\n",
       "    <tr style=\"text-align: right;\">\n",
       "      <th></th>\n",
       "      <th>building_type</th>\n",
       "      <th>amount</th>\n",
       "      <th>%_of_total</th>\n",
       "    </tr>\n",
       "  </thead>\n",
       "  <tbody>\n",
       "    <tr>\n",
       "      <th>0</th>\n",
       "      <td>spaceport</td>\n",
       "      <td>31405</td>\n",
       "      <td>46.75</td>\n",
       "    </tr>\n",
       "    <tr>\n",
       "      <th>1</th>\n",
       "      <td>assembly_shop</td>\n",
       "      <td>29080</td>\n",
       "      <td>43.29</td>\n",
       "    </tr>\n",
       "    <tr>\n",
       "      <th>2</th>\n",
       "      <td>research_center</td>\n",
       "      <td>6685</td>\n",
       "      <td>9.95</td>\n",
       "    </tr>\n",
       "  </tbody>\n",
       "</table>\n",
       "</div>"
      ],
      "text/plain": [
       "     building_type  amount  %_of_total\n",
       "0        spaceport   31405       46.75\n",
       "1    assembly_shop   29080       43.29\n",
       "2  research_center    6685        9.95"
      ]
     },
     "metadata": {},
     "output_type": "display_data"
    },
    {
     "data": {
      "text/plain": [
       "<function matplotlib.pyplot.show(close=None, block=None)>"
      ]
     },
     "execution_count": 56,
     "metadata": {},
     "output_type": "execute_result"
    },
    {
     "data": {
      "image/png": "[encoded data removed]",
      "text/plain": [
       "<Figure size 360x360 with 1 Axes>"
      ]
     },
     "metadata": {},
     "output_type": "display_data"
    }
   ],
   "source": [
    "rems = remainers['building_type'].value_counts().reset_index()\n",
    "rems['%_of_total'] = round((rems['building_type']/rems['building_type'].sum()*100), 2)\n",
    "rems = rems.rename(columns = {'index':'building_type', 'building_type':'amount'})\n",
    "display(rems)\n",
    "\n",
    "sns.countplot(remainers['building_type'])\n",
    "plt.grid()\n",
    "plt.title('Распределение построек игроков, не завершивших уровень', fontsize = 14)\n",
    "plt.xlabel('Типы построек')\n",
    "plt.ylabel('Количество построек')\n",
    "plt.show"
   ]
  },
  {
   "cell_type": "markdown",
   "metadata": {},
   "source": [
    "Паттер распределения построек по типам ближе к агрессивным игрокам, но что-то помешало пользователям победить врага."
   ]
  },
  {
   "cell_type": "markdown",
   "metadata": {},
   "source": [
    "### Выводы"
   ]
  },
  {
   "cell_type": "markdown",
   "metadata": {},
   "source": [
    "Игроки, выбравшие агрессивный стиль игры, в среднем на два дня быстрее переходят на второй уровень, их общее количество составляет больше трети от всех пользователей. Их среднее время игры близко к среднему для всех игроков. Игроки, которые не перешли на второй уровень, похожи по стилю игры на агрессивных игроков."
   ]
  },
  {
   "cell_type": "markdown",
   "metadata": {},
   "source": [
    "## Проверка статистических гипотез"
   ]
  },
  {
   "cell_type": "markdown",
   "metadata": {},
   "source": [
    "Теперь нам нужно проверить статистическую гипотезу, выдвинутую заказчиком, об одинаковом времени прохождения игры путем реализации проекта и победой над врагом. В принципе, мы и так уже знаем, что это не так, но техзадание есть техзадание.\n",
    "\n",
    "Берем на рассмотрение следующие гипотезы:"
   ]
  },
  {
   "cell_type": "markdown",
   "metadata": {},
   "source": [
    "Н0 - Время прохождения уровня между пользователями, которые заканчивают уровень через реализацию проекта, и пользователями, которые заканчивают уровень победой над другим игроком, равны.\n",
    "\n",
    "Н1 - Время прохождения уровня между пользователями, которые заканчивают уровень через реализацию проекта, и пользователями, которые заканчивают уровень победой над другим игроком, не равны."
   ]
  },
  {
   "cell_type": "code",
   "execution_count": 57,
   "metadata": {
    "scrolled": true
   },
   "outputs": [
    {
     "name": "stdout",
     "output_type": "stream",
     "text": [
      "p-значение:  1.8882835392369192e-97\n",
      "Отвергаем нулевую гипотезу, различие между пользователями есть\n"
     ]
    }
   ],
   "source": [
    "alpha = 0.05 # задаем уровень статистической значимости\n",
    "\n",
    "results = st.ttest_ind(projectants['delta_days'], warriors['delta_days'])\n",
    "print('p-значение: ', results.pvalue)\n",
    "\n",
    "if (results.pvalue < alpha):\n",
    "    print(\"Отвергаем нулевую гипотезу, различие между пользователями есть\")\n",
    "else:\n",
    "    print(\"Не получилось отвергнуть нулевую гипотезу, различия между пользователями нет\")"
   ]
  },
  {
   "cell_type": "markdown",
   "metadata": {},
   "source": [
    "Теперь мы точно уверены, что 13 больше 11! Постройка спутниковой станции отнимает значительно больше времени.\n",
    "\n",
    "Теперь проверяем нашу гипотезу о том, что из разных источников приходят люди с разными навыками игры в компьютерные игры, и их время прохождения уровня может различаться. Чем больше они будут тратить времени, тем больше рекламы они посмотрят.\n",
    "\n",
    "Выдвигаем гипотезы:"
   ]
  },
  {
   "cell_type": "markdown",
   "metadata": {},
   "source": [
    "Н0 = Пользователи из различных источников тратят равное время на прохождение уровня.\n",
    "\n",
    "Н1 = Пользователи из различных источников тратят неравное время на прохождение уровня."
   ]
  },
  {
   "cell_type": "code",
   "execution_count": 58,
   "metadata": {},
   "outputs": [],
   "source": [
    "source_dates = events_time.merge(user_source, how = 'left', on = 'user_id')  # объединяем таблицы, чтобы видеь время прхождения"
   ]
  },
  {
   "cell_type": "markdown",
   "metadata": {},
   "source": [
    "Выделяем таблицы по источникам привлечения:"
   ]
  },
  {
   "cell_type": "code",
   "execution_count": 59,
   "metadata": {},
   "outputs": [],
   "source": [
    "yandex = source_dates.query('source==\"yandex_direct\"')\n",
    "instagram = source_dates.query('source==\"instagram_new_adverts\"')\n",
    "facebook = source_dates.query('source==\"facebook_ads\"')\n",
    "youtube = source_dates.query('source==\"youtube_channel_reklama\"')"
   ]
  },
  {
   "cell_type": "markdown",
   "metadata": {},
   "source": [
    "Напишем небольшую фнукцию для удобства, так как у нас 6 пар сравнений:"
   ]
  },
  {
   "cell_type": "code",
   "execution_count": 60,
   "metadata": {},
   "outputs": [],
   "source": [
    "def sources_comparison(df1, df2):  # подставляем таблицы\n",
    "    results = st.ttest_ind(df1['delta_days'], df2['delta_days'])\n",
    "    bonferroni_alpha = alpha / 6 \n",
    "    print('p-значение: ', results.pvalue)\n",
    "\n",
    "    if (results.pvalue < bonferroni_alpha):\n",
    "        print(f\"Отвергаем нулевую гипотезу, различие во времени прохождения уровня между пользователями источников есть\")\n",
    "    else:\n",
    "        print(f\"Не получилось отвергнуть нулевую гипотезу, различия во времени прохождения уровня между пользователями источников нет\")\n",
    "    "
   ]
  },
  {
   "cell_type": "code",
   "execution_count": 61,
   "metadata": {
    "scrolled": true
   },
   "outputs": [
    {
     "name": "stdout",
     "output_type": "stream",
     "text": [
      "p-значение:  0.5805443260669059\n",
      "Не получилось отвергнуть нулевую гипотезу, различия во времени прохождения уровня между пользователями источников нет\n"
     ]
    }
   ],
   "source": [
    "sources_comparison(yandex, youtube)"
   ]
  },
  {
   "cell_type": "code",
   "execution_count": 62,
   "metadata": {},
   "outputs": [
    {
     "name": "stdout",
     "output_type": "stream",
     "text": [
      "Среднее количество дней прохождения 11.18\n",
      "Среднее количество дней прохождения 11.2\n"
     ]
    }
   ],
   "source": [
    "print(f'Среднее количество дней прохождения {yandex[\"delta_days\"].mean().round(2)}')\n",
    "print(f'Среднее количество дней прохождения {youtube[\"delta_days\"].mean().round(2)}')"
   ]
  },
  {
   "cell_type": "code",
   "execution_count": 63,
   "metadata": {},
   "outputs": [
    {
     "name": "stdout",
     "output_type": "stream",
     "text": [
      "p-значение:  4.019047485269057e-08\n",
      "Отвергаем нулевую гипотезу, различие во времени прохождения уровня между пользователями источников есть\n"
     ]
    }
   ],
   "source": [
    "sources_comparison(yandex, instagram)"
   ]
  },
  {
   "cell_type": "code",
   "execution_count": 64,
   "metadata": {},
   "outputs": [
    {
     "name": "stdout",
     "output_type": "stream",
     "text": [
      "Среднее количество дней прохождения 11.18\n",
      "Среднее количество дней прохождения 11.34\n"
     ]
    }
   ],
   "source": [
    "print(f'Среднее количество дней прохождения {yandex[\"delta_days\"].mean().round(2)}')\n",
    "print(f'Среднее количество дней прохождения {instagram[\"delta_days\"].mean().round(2)}')"
   ]
  },
  {
   "cell_type": "code",
   "execution_count": 65,
   "metadata": {},
   "outputs": [
    {
     "name": "stdout",
     "output_type": "stream",
     "text": [
      "p-значение:  0.006424997020913236\n",
      "Отвергаем нулевую гипотезу, различие во времени прохождения уровня между пользователями источников есть\n"
     ]
    }
   ],
   "source": [
    "sources_comparison(yandex, facebook)"
   ]
  },
  {
   "cell_type": "code",
   "execution_count": 66,
   "metadata": {},
   "outputs": [
    {
     "name": "stdout",
     "output_type": "stream",
     "text": [
      "Среднее количество дней прохождения 11.18\n",
      "Среднее количество дней прохождения 11.26\n"
     ]
    }
   ],
   "source": [
    "print(f'Среднее количество дней прохождения {yandex[\"delta_days\"].mean().round(2)}')\n",
    "print(f'Среднее количество дней прохождения {facebook[\"delta_days\"].mean().round(2)}')"
   ]
  },
  {
   "cell_type": "code",
   "execution_count": 67,
   "metadata": {},
   "outputs": [
    {
     "name": "stdout",
     "output_type": "stream",
     "text": [
      "p-значение:  0.02274386140328288\n",
      "Не получилось отвергнуть нулевую гипотезу, различия во времени прохождения уровня между пользователями источников нет\n"
     ]
    }
   ],
   "source": [
    "sources_comparison(instagram, facebook)"
   ]
  },
  {
   "cell_type": "code",
   "execution_count": 68,
   "metadata": {},
   "outputs": [
    {
     "name": "stdout",
     "output_type": "stream",
     "text": [
      "Среднее количество дней прохождения 11.34\n",
      "Среднее количество дней прохождения 11.26\n"
     ]
    }
   ],
   "source": [
    "print(f'Среднее количество дней прохождения {instagram[\"delta_days\"].mean().round(2)}')\n",
    "print(f'Среднее количество дней прохождения {facebook[\"delta_days\"].mean().round(2)}')"
   ]
  },
  {
   "cell_type": "code",
   "execution_count": 69,
   "metadata": {},
   "outputs": [
    {
     "name": "stdout",
     "output_type": "stream",
     "text": [
      "p-значение:  2.0158229560877532e-05\n",
      "Отвергаем нулевую гипотезу, различие во времени прохождения уровня между пользователями источников есть\n"
     ]
    }
   ],
   "source": [
    "sources_comparison(instagram, youtube)"
   ]
  },
  {
   "cell_type": "code",
   "execution_count": 70,
   "metadata": {},
   "outputs": [
    {
     "name": "stdout",
     "output_type": "stream",
     "text": [
      "Среднее количество дней прохождения 11.34\n",
      "Среднее количество дней прохождения 11.2\n"
     ]
    }
   ],
   "source": [
    "print(f'Среднее количество дней прохождения {instagram[\"delta_days\"].mean().round(2)}')\n",
    "print(f'Среднее количество дней прохождения {youtube[\"delta_days\"].mean().round(2)}')"
   ]
  },
  {
   "cell_type": "code",
   "execution_count": 71,
   "metadata": {},
   "outputs": [
    {
     "name": "stdout",
     "output_type": "stream",
     "text": [
      "p-значение:  0.05550751145944763\n",
      "Не получилось отвергнуть нулевую гипотезу, различия во времени прохождения уровня между пользователями источников нет\n"
     ]
    }
   ],
   "source": [
    "sources_comparison(facebook, youtube)"
   ]
  },
  {
   "cell_type": "code",
   "execution_count": 72,
   "metadata": {
    "scrolled": true
   },
   "outputs": [
    {
     "name": "stdout",
     "output_type": "stream",
     "text": [
      "Среднее количество дней прохождения 11.26\n",
      "Среднее количество дней прохождения 11.2\n"
     ]
    }
   ],
   "source": [
    "print(f'Среднее количество дней прохождения {facebook[\"delta_days\"].mean().round(2)}')\n",
    "print(f'Среднее количество дней прохождения {youtube[\"delta_days\"].mean().round(2)}')"
   ]
  },
  {
   "cell_type": "markdown",
   "metadata": {},
   "source": [
    "И вот тут начинается самое интересное. Нет статистически значимой разницы для пар каналов Yandex - YouTube / Instagram - Facebook/Facebook - YouTube. Все остальные пары каналов показывают, что статистически значимая разница между ними есть.\n",
    "\n",
    "Посмотрим на среднее время прохождения пользователями из различных каналов привлечения:"
   ]
  },
  {
   "cell_type": "code",
   "execution_count": 73,
   "metadata": {},
   "outputs": [],
   "source": [
    "play_days = source_dates.groupby('source').agg({'delta_days':'mean'})"
   ]
  },
  {
   "cell_type": "code",
   "execution_count": 74,
   "metadata": {
    "scrolled": true
   },
   "outputs": [
    {
     "data": {
      "text/html": [
       "<div>\n",
       "<style scoped>\n",
       "    .dataframe tbody tr th:only-of-type {\n",
       "        vertical-align: middle;\n",
       "    }\n",
       "\n",
       "    .dataframe tbody tr th {\n",
       "        vertical-align: top;\n",
       "    }\n",
       "\n",
       "    .dataframe thead th {\n",
       "        text-align: right;\n",
       "    }\n",
       "</style>\n",
       "<table border=\"1\" class=\"dataframe\">\n",
       "  <thead>\n",
       "    <tr style=\"text-align: right;\">\n",
       "      <th></th>\n",
       "      <th>delta_days</th>\n",
       "    </tr>\n",
       "    <tr>\n",
       "      <th>source</th>\n",
       "      <th></th>\n",
       "    </tr>\n",
       "  </thead>\n",
       "  <tbody>\n",
       "    <tr>\n",
       "      <th>instagram_new_adverts</th>\n",
       "      <td>11.34</td>\n",
       "    </tr>\n",
       "    <tr>\n",
       "      <th>facebook_ads</th>\n",
       "      <td>11.26</td>\n",
       "    </tr>\n",
       "    <tr>\n",
       "      <th>youtube_channel_reklama</th>\n",
       "      <td>11.20</td>\n",
       "    </tr>\n",
       "    <tr>\n",
       "      <th>yandex_direct</th>\n",
       "      <td>11.18</td>\n",
       "    </tr>\n",
       "  </tbody>\n",
       "</table>\n",
       "</div>"
      ],
      "text/plain": [
       "                         delta_days\n",
       "source                             \n",
       "instagram_new_adverts         11.34\n",
       "facebook_ads                  11.26\n",
       "youtube_channel_reklama       11.20\n",
       "yandex_direct                 11.18"
      ]
     },
     "execution_count": 74,
     "metadata": {},
     "output_type": "execute_result"
    }
   ],
   "source": [
    "play_days.sort_values(by = 'delta_days', ascending = False).round(2)"
   ]
  },
  {
   "cell_type": "markdown",
   "metadata": {},
   "source": [
    "В целом разница не критичная, в пределах десятых долей, но она есть. Пользователи Яндекса проходят игру быстрее всех. Пользователи Instagram держатся позади всех."
   ]
  },
  {
   "cell_type": "markdown",
   "metadata": {},
   "source": [
    "### Выводы"
   ]
  },
  {
   "cell_type": "markdown",
   "metadata": {},
   "source": [
    "Мы убедились, что время прохождения уровня между пользователями, которые заканчивают уровень через реализацию проекта, и пользователями, которые заканчивают уровень победой над другим игроком, различается. Также мы обнаружили статистически значимую разницу во времени прохождения на второй уровень среди пользователей, привлеченных через разные каналы."
   ]
  },
  {
   "cell_type": "markdown",
   "metadata": {},
   "source": [
    "## Разработка модели монетизации"
   ]
  },
  {
   "cell_type": "markdown",
   "metadata": {},
   "source": [
    "Мы приступаем к самой интересной части - нужно посмотреть, как мы можем заработать на нашей игре. Мы знаем, что пока планируется показывать рекламу перед постройкой каждого здания. Для начала сделаем технический датафрейм - уберем всех игроков, которые уже завершили проект - мы не знаем, как и что они строили, эти данные нужно уточнять у разработчиков:"
   ]
  },
  {
   "cell_type": "markdown",
   "metadata": {},
   "source": [
    "И еще раз освежим в памяти наши расходы на привлечение пользователей с разбитием по источникам:"
   ]
  },
  {
   "cell_type": "code",
   "execution_count": 76,
   "metadata": {},
   "outputs": [
    {
     "name": "stdout",
     "output_type": "stream",
     "text": [
      "Общая сумма маркетинговых затрат: 7604.\n"
     ]
    }
   ],
   "source": [
    "print(f'Общая сумма маркетинговых затрат: {total}.')"
   ]
  },
  {
   "cell_type": "code",
   "execution_count": 77,
   "metadata": {
    "scrolled": true
   },
   "outputs": [
    {
     "data": {
      "text/html": [
       "<div>\n",
       "<style scoped>\n",
       "    .dataframe tbody tr th:only-of-type {\n",
       "        vertical-align: middle;\n",
       "    }\n",
       "\n",
       "    .dataframe tbody tr th {\n",
       "        vertical-align: top;\n",
       "    }\n",
       "\n",
       "    .dataframe thead th {\n",
       "        text-align: right;\n",
       "    }\n",
       "</style>\n",
       "<table border=\"1\" class=\"dataframe\">\n",
       "  <thead>\n",
       "    <tr style=\"text-align: right;\">\n",
       "      <th></th>\n",
       "      <th>source</th>\n",
       "      <th>users</th>\n",
       "      <th>%_of_total</th>\n",
       "    </tr>\n",
       "  </thead>\n",
       "  <tbody>\n",
       "    <tr>\n",
       "      <th>0</th>\n",
       "      <td>yandex_direct</td>\n",
       "      <td>4817</td>\n",
       "      <td>35.48</td>\n",
       "    </tr>\n",
       "    <tr>\n",
       "      <th>1</th>\n",
       "      <td>instagram_new_adverts</td>\n",
       "      <td>3347</td>\n",
       "      <td>24.65</td>\n",
       "    </tr>\n",
       "    <tr>\n",
       "      <th>2</th>\n",
       "      <td>facebook_ads</td>\n",
       "      <td>2726</td>\n",
       "      <td>20.08</td>\n",
       "    </tr>\n",
       "    <tr>\n",
       "      <th>3</th>\n",
       "      <td>youtube_channel_reklama</td>\n",
       "      <td>2686</td>\n",
       "      <td>19.78</td>\n",
       "    </tr>\n",
       "  </tbody>\n",
       "</table>\n",
       "</div>"
      ],
      "text/plain": [
       "                    source  users  %_of_total\n",
       "0            yandex_direct   4817       35.48\n",
       "1    instagram_new_adverts   3347       24.65\n",
       "2             facebook_ads   2726       20.08\n",
       "3  youtube_channel_reklama   2686       19.78"
      ]
     },
     "execution_count": 77,
     "metadata": {},
     "output_type": "execute_result"
    }
   ],
   "source": [
    "ad_sources"
   ]
  },
  {
   "cell_type": "markdown",
   "metadata": {},
   "source": [
    "По условиям нам известно, что за каждый показ рекламы мы получаем 7 центов, т.е. 0.07 условной единицы. Посмотрим, сколько нам удастся заработать, если мы будем показывать рекламу перед постройкой каждого здания:"
   ]
  },
  {
   "cell_type": "code",
   "execution_count": 78,
   "metadata": {},
   "outputs": [],
   "source": [
    "ad = 0.07  # сумма с одного объявления"
   ]
  },
  {
   "cell_type": "code",
   "execution_count": 79,
   "metadata": {},
   "outputs": [
    {
     "name": "stdout",
     "output_type": "stream",
     "text": [
      "Максимальная сумма выручки от показа рекламы перед всеми событиями: 8956.92.\n"
     ]
    }
   ],
   "source": [
    "max_gain = (events_time['building_type'].count())*ad\n",
    "print(f'Максимальная сумма выручки от показа рекламы перед всеми событиями: {max_gain}.')"
   ]
  },
  {
   "cell_type": "markdown",
   "metadata": {},
   "source": [
    "Что ж, нам удастся отбить расходы на привлечение и даже немного заработать. \n",
    "\n",
    "Напомним распределение типов построек:"
   ]
  },
  {
   "cell_type": "code",
   "execution_count": 80,
   "metadata": {},
   "outputs": [
    {
     "data": {
      "text/html": [
       "<div>\n",
       "<style scoped>\n",
       "    .dataframe tbody tr th:only-of-type {\n",
       "        vertical-align: middle;\n",
       "    }\n",
       "\n",
       "    .dataframe tbody tr th {\n",
       "        vertical-align: top;\n",
       "    }\n",
       "\n",
       "    .dataframe thead th {\n",
       "        text-align: right;\n",
       "    }\n",
       "</style>\n",
       "<table border=\"1\" class=\"dataframe\">\n",
       "  <thead>\n",
       "    <tr style=\"text-align: right;\">\n",
       "      <th></th>\n",
       "      <th>building_type</th>\n",
       "      <th>amount</th>\n",
       "      <th>%_of_total</th>\n",
       "    </tr>\n",
       "  </thead>\n",
       "  <tbody>\n",
       "    <tr>\n",
       "      <th>0</th>\n",
       "      <td>spaceport</td>\n",
       "      <td>59325</td>\n",
       "      <td>46.36</td>\n",
       "    </tr>\n",
       "    <tr>\n",
       "      <th>1</th>\n",
       "      <td>assembly_shop</td>\n",
       "      <td>54494</td>\n",
       "      <td>42.59</td>\n",
       "    </tr>\n",
       "    <tr>\n",
       "      <th>2</th>\n",
       "      <td>research_center</td>\n",
       "      <td>14137</td>\n",
       "      <td>11.05</td>\n",
       "    </tr>\n",
       "  </tbody>\n",
       "</table>\n",
       "</div>"
      ],
      "text/plain": [
       "     building_type  amount  %_of_total\n",
       "0        spaceport   59325       46.36\n",
       "1    assembly_shop   54494       42.59\n",
       "2  research_center   14137       11.05"
      ]
     },
     "execution_count": 80,
     "metadata": {},
     "output_type": "execute_result"
    }
   ],
   "source": [
    "buildings"
   ]
  },
  {
   "cell_type": "markdown",
   "metadata": {},
   "source": [
    "87% приходится на первые два типа построек, до третьего доходят всего 11%. Вероятно, постройка исследовательского центра более востребована при выборе тактики строительства орбитальной станции. \n",
    "\n",
    "Посмотрим, сколько зданий в среднем приходится на пользователя, если мы берем в расчет все постройки:"
   ]
  },
  {
   "cell_type": "code",
   "execution_count": 81,
   "metadata": {
    "scrolled": true
   },
   "outputs": [
    {
     "name": "stdout",
     "output_type": "stream",
     "text": [
      "Среднее количество всех типов зданий на пользователя: 9.43\n"
     ]
    }
   ],
   "source": [
    "buildings_per_users  = (events_time['building_type'].count()/events_time['user_id'].nunique()).round(2)\n",
    "print(f'Среднее количество всех типов зданий на пользователя: {buildings_per_users}')"
   ]
  },
  {
   "cell_type": "markdown",
   "metadata": {},
   "source": [
    "Если отбросить исследовательский центр, то количество построек на пользователя падает:"
   ]
  },
  {
   "cell_type": "code",
   "execution_count": 82,
   "metadata": {},
   "outputs": [
    {
     "name": "stdout",
     "output_type": "stream",
     "text": [
      "Среднее количество самых распространенных типов зданий на пользователя: 8.38\n"
     ]
    }
   ],
   "source": [
    "events_time_2 = events_time.query('building_type!=\"research_center\"')\n",
    "buildings_per_users_2 = (events_time_2['building_type'].count()/events_time_2['user_id'].nunique()).round(2)\n",
    "print(f'Среднее количество самых распространенных типов зданий на пользователя: {buildings_per_users_2}')"
   ]
  },
  {
   "cell_type": "markdown",
   "metadata": {},
   "source": [
    "Посмотрим, какое минимальное количество рекламных объявлений нам нужно показать, чтобы выйти в ноль:"
   ]
  },
  {
   "cell_type": "code",
   "execution_count": 83,
   "metadata": {
    "scrolled": false
   },
   "outputs": [
    {
     "name": "stdout",
     "output_type": "stream",
     "text": [
      "Необходимое для окупаемости количество показов рекламных объявлений: 108628.57.\n"
     ]
    }
   ],
   "source": [
    "min_ads = total/ad\n",
    "print(f'Необходимое для окупаемости количество показов рекламных объявлений: {round(min_ads, 2)}.')"
   ]
  },
  {
   "cell_type": "markdown",
   "metadata": {},
   "source": [
    "Получается больше 100 000 объявлений. \n",
    "\n",
    "Рассчитаем, с какой частотой надо их показать для всех построек и для первых двух типов, самых популярных в игре:"
   ]
  },
  {
   "cell_type": "code",
   "execution_count": 84,
   "metadata": {},
   "outputs": [
    {
     "name": "stdout",
     "output_type": "stream",
     "text": [
      "Необходимая частота показа рекламы для выхода в ноль каждую 1.18 постройку для всех построек.\n"
     ]
    }
   ],
   "source": [
    "all_buildings = buildings['amount'].sum()\n",
    "print(f'Необходимая частота показа рекламы для выхода в ноль каждую {(all_buildings/round(min_ads, 2)).round(2)} постройку для всех построек.')"
   ]
  },
  {
   "cell_type": "code",
   "execution_count": 85,
   "metadata": {
    "scrolled": true
   },
   "outputs": [
    {
     "name": "stdout",
     "output_type": "stream",
     "text": [
      "Необходимая частота показа рекламы для выхода в ноль каждую 1.05 постройку для самых популярных построек.\n"
     ]
    }
   ],
   "source": [
    "pop_buildings = buildings.query('building_type==\"spaceport\" or building_type==\"assembly_shop\"')['amount'].sum()\n",
    "print(f'Необходимая частота показа рекламы для выхода в ноль каждую {(pop_buildings/round(min_ads, 2)).round(2)} постройку для самых популярных построек.')"
   ]
  },
  {
   "cell_type": "markdown",
   "metadata": {},
   "source": [
    "Увы, пока получается так, что нам необходимо показывать рекламу при строительстве каждого здания, иначе выйти на окупаемость будет очень тяжело. Но вряд ли пользователи будут довольны, если они будут видеть рекламу каждый раз, на пользователя, как мы помним, придется минимум восемь показов рекламы. \n",
    "\n",
    "Даже если мы будем показывать рекламу на каждой второй постройке, что тоже много, мы провалимся значительно ниже уровня окупаемости:"
   ]
  },
  {
   "cell_type": "code",
   "execution_count": 86,
   "metadata": {},
   "outputs": [
    {
     "name": "stdout",
     "output_type": "stream",
     "text": [
      "Предполагаемая сумма выручки от показа рекламы при каждом втором строительстве: 4478.46.\n"
     ]
    }
   ],
   "source": [
    "moderate_gain = (buildings.query('building_type!=\"unknown\"')['amount'].sum()/2)*0.07\n",
    "print(f'Предполагаемая сумма выручки от показа рекламы при каждом втором строительстве: {moderate_gain}.')"
   ]
  },
  {
   "cell_type": "markdown",
   "metadata": {},
   "source": [
    "Если мы обратимся к нашим источникам привлечения, то мы увидим, что отчасти проблема кроется в высокой стоимости привлечения: только один источник дает нам стоимость привлечения, близкую к заработку на рекламе. Все остальные источники более, чем в два раза дороже."
   ]
  },
  {
   "cell_type": "code",
   "execution_count": 87,
   "metadata": {},
   "outputs": [
    {
     "data": {
      "text/html": [
       "<div>\n",
       "<style scoped>\n",
       "    .dataframe tbody tr th:only-of-type {\n",
       "        vertical-align: middle;\n",
       "    }\n",
       "\n",
       "    .dataframe tbody tr th {\n",
       "        vertical-align: top;\n",
       "    }\n",
       "\n",
       "    .dataframe thead th {\n",
       "        text-align: right;\n",
       "    }\n",
       "</style>\n",
       "<table border=\"1\" class=\"dataframe\">\n",
       "  <thead>\n",
       "    <tr style=\"text-align: right;\">\n",
       "      <th></th>\n",
       "      <th>source</th>\n",
       "      <th>cost</th>\n",
       "      <th>%_of_total</th>\n",
       "      <th>cac</th>\n",
       "    </tr>\n",
       "  </thead>\n",
       "  <tbody>\n",
       "    <tr>\n",
       "      <th>0</th>\n",
       "      <td>yandex_direct</td>\n",
       "      <td>2233.11</td>\n",
       "      <td>29.37</td>\n",
       "      <td>0.164490</td>\n",
       "    </tr>\n",
       "    <tr>\n",
       "      <th>1</th>\n",
       "      <td>instagram_new_adverts</td>\n",
       "      <td>2161.44</td>\n",
       "      <td>28.43</td>\n",
       "      <td>0.159210</td>\n",
       "    </tr>\n",
       "    <tr>\n",
       "      <th>2</th>\n",
       "      <td>facebook_ads</td>\n",
       "      <td>2140.90</td>\n",
       "      <td>28.16</td>\n",
       "      <td>0.157698</td>\n",
       "    </tr>\n",
       "    <tr>\n",
       "      <th>3</th>\n",
       "      <td>youtube_channel_reklama</td>\n",
       "      <td>1068.12</td>\n",
       "      <td>14.05</td>\n",
       "      <td>0.078677</td>\n",
       "    </tr>\n",
       "  </tbody>\n",
       "</table>\n",
       "</div>"
      ],
      "text/plain": [
       "                    source     cost  %_of_total       cac\n",
       "0            yandex_direct  2233.11       29.37  0.164490\n",
       "1    instagram_new_adverts  2161.44       28.43  0.159210\n",
       "2             facebook_ads  2140.90       28.16  0.157698\n",
       "3  youtube_channel_reklama  1068.12       14.05  0.078677"
      ]
     },
     "metadata": {},
     "output_type": "display_data"
    }
   ],
   "source": [
    "display(ads)"
   ]
  },
  {
   "cell_type": "markdown",
   "metadata": {},
   "source": [
    "### Выводы"
   ]
  },
  {
   "cell_type": "markdown",
   "metadata": {},
   "source": [
    "При текущей стоимости показа рекламы и нашем заработке с ее просмотра требуется показывать рекламу при постройке каждого здания, чтобы выйти на окупаемость. Скорее всего, это негативно скажется на оттоке пользователей, потому что реклама будет показываться очень часто, с учетом того, что большинство пользователей и так останавливается на постройке зданий первых двух типов."
   ]
  },
  {
   "cell_type": "markdown",
   "metadata": {},
   "source": [
    "## Общий вывод"
   ]
  },
  {
   "cell_type": "markdown",
   "metadata": {},
   "source": [
    "Итак, проведя исследование, мы пришли к следующим выводам:\n",
    "\n",
    "* у нас есть 13576 уникальных пользователей\n",
    "* активность пользователей в игре сохраняется на протяжении месяца \n",
    "* на второй уровень перешло менее половины игроков, а именно 5817 пользователей, или 42.85 %\n",
    "* наблюдается дисбаланс в количестве построек - большинство составляют постройки первых двух типов судя по всему, геймплей не требует строительства большого колчиества исследовательских центров\n",
    "* общая сумма маркетинговых затрат на четыре канала привлечения составляет 7604 условных единицы \n",
    "* самую низкую стоимость привлечения пользователей и наилучшую эффективность показывает канал YouTube: на 14% маркетингового бюджета приходится 20% привлеченных пользователей\n",
    "* игроки, выбирающие агрессивный геймплей проходят на второй уровень быстрее, чем те, кто строит орбитальную станцию: 11 дней против 13 в среднем\n",
    "* 13,74% игроков проходят уровень через постройку проекта, 29,1% через победу над первым врагом\n",
    "* для пар источников Yandex - YouTube / Instagram - Facebook /Facebook - YouTube присутствует статистически значимая разница во времени прохождения уровня игроками.\n",
    "\n",
    "\n",
    "Рекомендации и комментарии по игровому процессу:\n",
    "* необходима доработка таблицы в плане данных о постройках игроков, перешедших на второй уровень - эта информация теряется\n",
    "* значительно смещен количественный баланс в сторону двух первых типов построек\n",
    "* игра откровенно поощряет агрессивный геймплей - необходима корректировка баланса\n",
    "\n",
    "Комментарии по монетизации:\n",
    "* при существующих каналах привлечения пользователей и стоимости привлечения выход на окупаемость возможен только при показе рекламы при строительстве каждого здания\n",
    "* стоимость привлечения игроков для всех каналов привлечения, кроме YouTube - более, чем вдвое выше, чем сумма от показа рекламы. \n",
    "\n",
    "Предложения по модели монетизации:\n",
    "* увеличить инвестиции в канал привлечения YouTube: стоимость привлечения полльзователей самая низкая, а привлечение пользователей такое же, как у более, чем вдвое дорогих каналов.\n",
    "* стоит рассмотреть отказ от каналов Facebook/Instagram - они приносят меньше пользователей, чем Yandex, а стоят вдвое дороже YouTube, который приносит почти такое же количество пользователей.\n",
    "* показывать рекламу при каждом событии нельзя - это отпугнет пользователей, так как им придется в среднем просмотреть рекламу 8 раз\n",
    "* нужно пересмотреть баланс для того, чтобы люди больше строили  - в частности, исследовательский центр, тогда количество построек увеличится и можно будет показывать рекламу реже\n",
    "* стоит рассмотреть альтернативные механизмы монетизации - дропбоксы, премиум-аккаунты, подписку, внутриигровой магазин с бустерами, скинами и т.д."
   ]
  },
  {
   "cell_type": "markdown",
   "metadata": {},
   "source": [
    "## Презентация"
   ]
  },
  {
   "cell_type": "markdown",
   "metadata": {},
   "source": [
    "Основные тезисы и результаты исследования также оформлены в виде презентации, которую можно скачать по ссылке ниже."
   ]
  },
  {
   "cell_type": "markdown",
   "metadata": {},
   "source": [
    "[Презентация](https://drive.google.com/file/d/1VDpPV8Imt_vGBVEMjQ1gkDKlw_4nt2t4/view?usp=sharing)\n",
    "    "
   ]
  }
 ],
 "metadata": {
  "ExecuteTimeLog": [
   {
    "duration": 1254,
    "start_time": "2022-06-28T20:48:21.566Z"
   },
   {
    "duration": 149,
    "start_time": "2022-06-28T20:48:29.565Z"
   },
   {
    "duration": 1248,
    "start_time": "2022-06-28T20:50:03.090Z"
   },
   {
    "duration": 38,
    "start_time": "2022-06-28T20:50:14.133Z"
   },
   {
    "duration": 12,
    "start_time": "2022-06-28T20:50:55.119Z"
   },
   {
    "duration": 47,
    "start_time": "2022-06-28T20:51:04.371Z"
   },
   {
    "duration": 37,
    "start_time": "2022-06-28T20:51:21.911Z"
   },
   {
    "duration": 35,
    "start_time": "2022-06-28T20:51:33.065Z"
   },
   {
    "duration": 29,
    "start_time": "2022-06-28T20:52:53.410Z"
   },
   {
    "duration": 8,
    "start_time": "2022-06-28T20:55:50.429Z"
   },
   {
    "duration": 47,
    "start_time": "2022-06-28T20:56:01.309Z"
   },
   {
    "duration": 159,
    "start_time": "2022-06-28T20:56:02.885Z"
   },
   {
    "duration": 422,
    "start_time": "2022-06-28T20:56:04.587Z"
   },
   {
    "duration": 3,
    "start_time": "2022-06-28T20:57:21.276Z"
   },
   {
    "duration": 2,
    "start_time": "2022-06-28T20:57:21.867Z"
   },
   {
    "duration": 1545,
    "start_time": "2022-06-28T20:57:25.227Z"
   },
   {
    "duration": 345,
    "start_time": "2022-06-28T20:58:15.107Z"
   },
   {
    "duration": 11,
    "start_time": "2022-06-28T20:58:22.345Z"
   },
   {
    "duration": 42,
    "start_time": "2022-06-28T21:00:35.701Z"
   },
   {
    "duration": 2,
    "start_time": "2022-06-28T21:02:46.673Z"
   },
   {
    "duration": 1461,
    "start_time": "2022-06-28T21:02:48.661Z"
   },
   {
    "duration": 450,
    "start_time": "2022-06-28T21:03:15.757Z"
   },
   {
    "duration": 8,
    "start_time": "2022-06-28T21:03:19.862Z"
   },
   {
    "duration": 389,
    "start_time": "2022-06-28T21:04:14.252Z"
   },
   {
    "duration": 8,
    "start_time": "2022-06-28T21:04:17.309Z"
   },
   {
    "duration": 1085,
    "start_time": "2022-06-28T21:04:27.121Z"
   },
   {
    "duration": 3,
    "start_time": "2022-06-28T21:04:28.208Z"
   },
   {
    "duration": 396,
    "start_time": "2022-06-28T21:04:28.212Z"
   },
   {
    "duration": 10,
    "start_time": "2022-06-28T21:04:28.610Z"
   },
   {
    "duration": 2,
    "start_time": "2022-06-28T21:07:43.395Z"
   },
   {
    "duration": 857,
    "start_time": "2022-06-28T21:07:44.080Z"
   },
   {
    "duration": 27,
    "start_time": "2022-06-28T21:07:46.341Z"
   },
   {
    "duration": 700,
    "start_time": "2022-06-28T21:07:59.617Z"
   },
   {
    "duration": 12,
    "start_time": "2022-06-28T21:08:01.213Z"
   },
   {
    "duration": 913,
    "start_time": "2022-06-28T21:08:15.359Z"
   },
   {
    "duration": 33,
    "start_time": "2022-06-28T21:08:19.230Z"
   },
   {
    "duration": 1956,
    "start_time": "2022-06-28T21:09:10.670Z"
   },
   {
    "duration": 671,
    "start_time": "2022-06-28T21:09:21.062Z"
   },
   {
    "duration": 11,
    "start_time": "2022-06-28T21:09:22.973Z"
   },
   {
    "duration": 49,
    "start_time": "2022-06-28T21:13:05.103Z"
   },
   {
    "duration": 38,
    "start_time": "2022-06-28T21:13:27.082Z"
   },
   {
    "duration": 10,
    "start_time": "2022-06-28T21:13:39.601Z"
   },
   {
    "duration": 68,
    "start_time": "2022-06-28T21:14:01.721Z"
   },
   {
    "duration": 520,
    "start_time": "2022-06-28T21:14:05.691Z"
   },
   {
    "duration": 21,
    "start_time": "2022-06-28T21:14:11.334Z"
   },
   {
    "duration": 15,
    "start_time": "2022-06-28T21:14:18.421Z"
   },
   {
    "duration": 9,
    "start_time": "2022-06-28T21:14:24.406Z"
   },
   {
    "duration": 257,
    "start_time": "2022-06-28T21:15:54.018Z"
   },
   {
    "duration": 230,
    "start_time": "2022-06-28T21:15:57.192Z"
   },
   {
    "duration": 4,
    "start_time": "2022-06-28T21:16:39.345Z"
   },
   {
    "duration": 225,
    "start_time": "2022-06-28T21:17:03.257Z"
   },
   {
    "duration": 18,
    "start_time": "2022-06-28T21:17:29.314Z"
   },
   {
    "duration": 32,
    "start_time": "2022-06-28T21:17:50.360Z"
   },
   {
    "duration": 10,
    "start_time": "2022-06-28T21:18:45.764Z"
   },
   {
    "duration": 860,
    "start_time": "2022-06-28T21:18:53.160Z"
   },
   {
    "duration": 838,
    "start_time": "2022-06-28T21:19:03.550Z"
   },
   {
    "duration": 31,
    "start_time": "2022-06-28T21:19:14.261Z"
   },
   {
    "duration": 9,
    "start_time": "2022-06-28T21:19:22.405Z"
   },
   {
    "duration": 14,
    "start_time": "2022-06-28T21:19:33.200Z"
   },
   {
    "duration": 11,
    "start_time": "2022-06-28T21:19:50.342Z"
   },
   {
    "duration": 12,
    "start_time": "2022-06-28T21:20:02.295Z"
   },
   {
    "duration": 8,
    "start_time": "2022-06-28T21:20:13.718Z"
   },
   {
    "duration": 19,
    "start_time": "2022-06-28T21:20:22.649Z"
   },
   {
    "duration": 58,
    "start_time": "2022-06-28T21:20:27.474Z"
   },
   {
    "duration": 4,
    "start_time": "2022-06-28T21:20:35.605Z"
   },
   {
    "duration": 4,
    "start_time": "2022-06-28T21:20:43.937Z"
   },
   {
    "duration": 5,
    "start_time": "2022-06-28T21:20:52.185Z"
   },
   {
    "duration": 13,
    "start_time": "2022-06-28T21:21:00.969Z"
   },
   {
    "duration": 11,
    "start_time": "2022-06-28T21:21:12.187Z"
   },
   {
    "duration": 7,
    "start_time": "2022-06-28T21:21:18.765Z"
   },
   {
    "duration": 6,
    "start_time": "2022-06-28T21:21:24.156Z"
   },
   {
    "duration": 1569,
    "start_time": "2022-06-29T12:26:20.103Z"
   },
   {
    "duration": 610,
    "start_time": "2022-06-29T12:26:21.675Z"
   },
   {
    "duration": 7,
    "start_time": "2022-06-29T12:26:22.287Z"
   },
   {
    "duration": 10,
    "start_time": "2022-06-29T12:26:22.296Z"
   },
   {
    "duration": 263,
    "start_time": "2022-06-29T12:26:22.309Z"
   },
   {
    "duration": 23,
    "start_time": "2022-06-29T12:26:22.574Z"
   },
   {
    "duration": 36,
    "start_time": "2022-06-29T12:26:22.599Z"
   },
   {
    "duration": 118,
    "start_time": "2022-06-29T12:26:22.668Z"
   },
   {
    "duration": 0,
    "start_time": "2022-06-29T12:26:22.789Z"
   },
   {
    "duration": 0,
    "start_time": "2022-06-29T12:26:22.791Z"
   },
   {
    "duration": 0,
    "start_time": "2022-06-29T12:26:22.793Z"
   },
   {
    "duration": 0,
    "start_time": "2022-06-29T12:26:22.795Z"
   },
   {
    "duration": 0,
    "start_time": "2022-06-29T12:26:22.796Z"
   },
   {
    "duration": 0,
    "start_time": "2022-06-29T12:26:22.798Z"
   },
   {
    "duration": 0,
    "start_time": "2022-06-29T12:26:22.799Z"
   },
   {
    "duration": 0,
    "start_time": "2022-06-29T12:26:22.801Z"
   },
   {
    "duration": 0,
    "start_time": "2022-06-29T12:26:22.803Z"
   },
   {
    "duration": 0,
    "start_time": "2022-06-29T12:26:22.805Z"
   },
   {
    "duration": 0,
    "start_time": "2022-06-29T12:26:22.806Z"
   },
   {
    "duration": 1,
    "start_time": "2022-06-29T12:26:22.807Z"
   },
   {
    "duration": 0,
    "start_time": "2022-06-29T12:26:22.809Z"
   },
   {
    "duration": 33,
    "start_time": "2022-06-29T12:33:28.569Z"
   },
   {
    "duration": 52,
    "start_time": "2022-06-29T12:33:33.835Z"
   },
   {
    "duration": 41,
    "start_time": "2022-06-29T12:33:33.890Z"
   },
   {
    "duration": 12,
    "start_time": "2022-06-29T12:33:33.933Z"
   },
   {
    "duration": 19,
    "start_time": "2022-06-29T12:33:33.968Z"
   },
   {
    "duration": 14,
    "start_time": "2022-06-29T12:33:33.990Z"
   },
   {
    "duration": 25,
    "start_time": "2022-06-29T12:33:34.006Z"
   },
   {
    "duration": 125,
    "start_time": "2022-06-29T12:33:34.033Z"
   },
   {
    "duration": 17,
    "start_time": "2022-06-29T12:33:34.161Z"
   },
   {
    "duration": 0,
    "start_time": "2022-06-29T12:33:34.180Z"
   },
   {
    "duration": 0,
    "start_time": "2022-06-29T12:33:34.181Z"
   },
   {
    "duration": 0,
    "start_time": "2022-06-29T12:33:34.183Z"
   },
   {
    "duration": 0,
    "start_time": "2022-06-29T12:33:34.185Z"
   },
   {
    "duration": 0,
    "start_time": "2022-06-29T12:33:34.186Z"
   },
   {
    "duration": 0,
    "start_time": "2022-06-29T12:33:34.186Z"
   },
   {
    "duration": 9,
    "start_time": "2022-06-29T12:33:41.662Z"
   },
   {
    "duration": 76,
    "start_time": "2022-06-29T12:33:48.463Z"
   },
   {
    "duration": 65,
    "start_time": "2022-06-29T12:33:52.133Z"
   },
   {
    "duration": 11,
    "start_time": "2022-06-29T12:33:52.201Z"
   },
   {
    "duration": 9,
    "start_time": "2022-06-29T12:33:52.214Z"
   },
   {
    "duration": 21,
    "start_time": "2022-06-29T12:33:52.225Z"
   },
   {
    "duration": 15,
    "start_time": "2022-06-29T12:33:52.248Z"
   },
   {
    "duration": 9,
    "start_time": "2022-06-29T12:33:52.267Z"
   },
   {
    "duration": 9,
    "start_time": "2022-06-29T12:33:52.278Z"
   },
   {
    "duration": 30,
    "start_time": "2022-06-29T13:09:00.397Z"
   },
   {
    "duration": 76,
    "start_time": "2022-06-29T13:09:23.443Z"
   },
   {
    "duration": 56,
    "start_time": "2022-06-29T13:09:25.735Z"
   },
   {
    "duration": 38,
    "start_time": "2022-06-29T13:09:48.966Z"
   },
   {
    "duration": 26,
    "start_time": "2022-06-29T13:09:53.768Z"
   },
   {
    "duration": 8,
    "start_time": "2022-06-29T13:17:33.903Z"
   },
   {
    "duration": 14,
    "start_time": "2022-06-29T13:17:38.418Z"
   },
   {
    "duration": 123,
    "start_time": "2022-06-29T13:17:54.949Z"
   },
   {
    "duration": 21,
    "start_time": "2022-06-29T13:18:19.553Z"
   },
   {
    "duration": 166,
    "start_time": "2022-06-29T13:18:22.661Z"
   },
   {
    "duration": 197,
    "start_time": "2022-06-29T13:18:34.209Z"
   },
   {
    "duration": 174,
    "start_time": "2022-06-29T13:18:43.340Z"
   },
   {
    "duration": 168,
    "start_time": "2022-06-29T13:19:23.178Z"
   },
   {
    "duration": 169,
    "start_time": "2022-06-29T13:19:34.989Z"
   },
   {
    "duration": 193,
    "start_time": "2022-06-29T13:33:49.811Z"
   },
   {
    "duration": 4,
    "start_time": "2022-06-29T13:34:21.624Z"
   },
   {
    "duration": 207,
    "start_time": "2022-06-29T13:34:26.963Z"
   },
   {
    "duration": 248,
    "start_time": "2022-06-29T13:34:58.693Z"
   },
   {
    "duration": 20,
    "start_time": "2022-06-29T13:37:49.923Z"
   },
   {
    "duration": 6,
    "start_time": "2022-06-29T13:38:07.586Z"
   },
   {
    "duration": 238,
    "start_time": "2022-06-29T13:44:39.892Z"
   },
   {
    "duration": 172,
    "start_time": "2022-06-29T13:44:47.937Z"
   },
   {
    "duration": 173,
    "start_time": "2022-06-29T13:44:57.548Z"
   },
   {
    "duration": 176,
    "start_time": "2022-06-29T13:45:07.857Z"
   },
   {
    "duration": 185,
    "start_time": "2022-06-29T13:45:42.597Z"
   },
   {
    "duration": 169,
    "start_time": "2022-06-29T13:45:48.085Z"
   },
   {
    "duration": 184,
    "start_time": "2022-06-29T13:46:03.831Z"
   },
   {
    "duration": 198,
    "start_time": "2022-06-29T13:48:19.260Z"
   },
   {
    "duration": 182,
    "start_time": "2022-06-29T13:50:29.849Z"
   },
   {
    "duration": 184,
    "start_time": "2022-06-29T13:50:33.011Z"
   },
   {
    "duration": 15,
    "start_time": "2022-06-29T13:52:32.074Z"
   },
   {
    "duration": 14,
    "start_time": "2022-06-29T13:53:25.719Z"
   },
   {
    "duration": 20,
    "start_time": "2022-06-29T13:53:34.548Z"
   },
   {
    "duration": 6,
    "start_time": "2022-06-29T14:02:23.141Z"
   },
   {
    "duration": 4,
    "start_time": "2022-06-29T14:02:56.439Z"
   },
   {
    "duration": 7,
    "start_time": "2022-06-29T14:04:34.267Z"
   },
   {
    "duration": 10,
    "start_time": "2022-06-29T14:06:07.707Z"
   },
   {
    "duration": 11,
    "start_time": "2022-06-29T14:06:31.875Z"
   },
   {
    "duration": 13,
    "start_time": "2022-06-29T14:08:16.743Z"
   },
   {
    "duration": 14,
    "start_time": "2022-06-29T17:57:57.895Z"
   },
   {
    "duration": 14,
    "start_time": "2022-06-29T17:58:26.683Z"
   },
   {
    "duration": 177,
    "start_time": "2022-06-29T19:51:52.600Z"
   },
   {
    "duration": 189,
    "start_time": "2022-06-29T19:52:36.618Z"
   },
   {
    "duration": 5,
    "start_time": "2022-06-29T19:54:16.180Z"
   },
   {
    "duration": 13,
    "start_time": "2022-06-29T19:55:53.173Z"
   },
   {
    "duration": 10,
    "start_time": "2022-06-29T19:56:02.447Z"
   },
   {
    "duration": 150,
    "start_time": "2022-06-29T19:57:02.648Z"
   },
   {
    "duration": 216,
    "start_time": "2022-06-29T19:57:27.744Z"
   },
   {
    "duration": 144,
    "start_time": "2022-06-29T19:57:47.180Z"
   },
   {
    "duration": 19,
    "start_time": "2022-06-29T20:02:04.421Z"
   },
   {
    "duration": 18,
    "start_time": "2022-06-29T20:02:27.043Z"
   },
   {
    "duration": 1196,
    "start_time": "2022-06-29T20:02:32.511Z"
   },
   {
    "duration": 247,
    "start_time": "2022-06-29T20:02:33.709Z"
   },
   {
    "duration": 6,
    "start_time": "2022-06-29T20:02:33.957Z"
   },
   {
    "duration": 5,
    "start_time": "2022-06-29T20:02:33.966Z"
   },
   {
    "duration": 248,
    "start_time": "2022-06-29T20:02:33.973Z"
   },
   {
    "duration": 27,
    "start_time": "2022-06-29T20:02:34.223Z"
   },
   {
    "duration": 44,
    "start_time": "2022-06-29T20:02:34.252Z"
   },
   {
    "duration": 29,
    "start_time": "2022-06-29T20:02:34.298Z"
   },
   {
    "duration": 76,
    "start_time": "2022-06-29T20:02:34.329Z"
   },
   {
    "duration": 13,
    "start_time": "2022-06-29T20:02:34.408Z"
   },
   {
    "duration": 14,
    "start_time": "2022-06-29T20:02:34.423Z"
   },
   {
    "duration": 28,
    "start_time": "2022-06-29T20:02:34.439Z"
   },
   {
    "duration": 14,
    "start_time": "2022-06-29T20:02:34.469Z"
   },
   {
    "duration": 68,
    "start_time": "2022-06-29T20:02:34.485Z"
   },
   {
    "duration": 71,
    "start_time": "2022-06-29T20:02:34.555Z"
   },
   {
    "duration": 4,
    "start_time": "2022-06-29T20:02:34.628Z"
   },
   {
    "duration": 25,
    "start_time": "2022-06-29T20:02:34.633Z"
   },
   {
    "duration": 41,
    "start_time": "2022-06-29T20:02:34.667Z"
   },
   {
    "duration": 5,
    "start_time": "2022-06-29T20:02:34.710Z"
   },
   {
    "duration": 227,
    "start_time": "2022-06-29T20:02:34.717Z"
   },
   {
    "duration": 232,
    "start_time": "2022-06-29T20:02:34.946Z"
   },
   {
    "duration": 7,
    "start_time": "2022-06-29T20:02:35.180Z"
   },
   {
    "duration": 26,
    "start_time": "2022-06-29T20:02:35.188Z"
   },
   {
    "duration": 11,
    "start_time": "2022-06-29T20:02:35.215Z"
   },
   {
    "duration": 16,
    "start_time": "2022-06-29T20:02:35.228Z"
   },
   {
    "duration": 197,
    "start_time": "2022-06-29T20:02:35.245Z"
   },
   {
    "duration": 29,
    "start_time": "2022-06-29T20:02:35.444Z"
   },
   {
    "duration": 12,
    "start_time": "2022-06-29T20:05:42.261Z"
   },
   {
    "duration": 12,
    "start_time": "2022-06-29T20:05:46.322Z"
   },
   {
    "duration": 302,
    "start_time": "2022-06-29T20:06:11.496Z"
   },
   {
    "duration": 248,
    "start_time": "2022-06-29T20:06:32.241Z"
   },
   {
    "duration": 231,
    "start_time": "2022-06-29T20:07:17.128Z"
   },
   {
    "duration": 258,
    "start_time": "2022-06-29T20:08:03.604Z"
   },
   {
    "duration": 253,
    "start_time": "2022-06-29T20:08:57.304Z"
   },
   {
    "duration": 7,
    "start_time": "2022-06-29T20:10:05.656Z"
   },
   {
    "duration": 1128,
    "start_time": "2022-06-29T20:10:30.288Z"
   },
   {
    "duration": 10,
    "start_time": "2022-06-29T20:10:56.106Z"
   },
   {
    "duration": 11,
    "start_time": "2022-06-29T20:10:59.539Z"
   },
   {
    "duration": 13,
    "start_time": "2022-06-29T20:11:10.380Z"
   },
   {
    "duration": 9,
    "start_time": "2022-06-29T20:11:23.964Z"
   },
   {
    "duration": 14,
    "start_time": "2022-06-29T20:11:39.420Z"
   },
   {
    "duration": 14,
    "start_time": "2022-06-29T20:12:22.793Z"
   },
   {
    "duration": 16,
    "start_time": "2022-06-29T20:13:30.903Z"
   },
   {
    "duration": 135,
    "start_time": "2022-06-29T20:15:23.000Z"
   },
   {
    "duration": 329,
    "start_time": "2022-06-29T20:15:38.284Z"
   },
   {
    "duration": 19,
    "start_time": "2022-06-29T20:17:17.193Z"
   },
   {
    "duration": 11,
    "start_time": "2022-06-29T20:57:28.802Z"
   },
   {
    "duration": 12,
    "start_time": "2022-06-29T20:57:31.053Z"
   },
   {
    "duration": 15,
    "start_time": "2022-06-29T21:00:38.448Z"
   },
   {
    "duration": 15,
    "start_time": "2022-06-29T21:00:39.090Z"
   },
   {
    "duration": 7,
    "start_time": "2022-06-29T21:02:08.085Z"
   },
   {
    "duration": 14,
    "start_time": "2022-06-29T21:02:09.784Z"
   },
   {
    "duration": 9,
    "start_time": "2022-06-29T21:05:17.344Z"
   },
   {
    "duration": 9,
    "start_time": "2022-06-29T21:06:32.006Z"
   },
   {
    "duration": 17,
    "start_time": "2022-06-29T21:06:40.443Z"
   },
   {
    "duration": 14,
    "start_time": "2022-06-29T21:07:03.310Z"
   },
   {
    "duration": 72,
    "start_time": "2022-06-29T21:08:48.954Z"
   },
   {
    "duration": 16,
    "start_time": "2022-06-29T21:08:50.388Z"
   },
   {
    "duration": 1238,
    "start_time": "2022-06-29T21:08:58.214Z"
   },
   {
    "duration": 248,
    "start_time": "2022-06-29T21:08:59.454Z"
   },
   {
    "duration": 5,
    "start_time": "2022-06-29T21:08:59.704Z"
   },
   {
    "duration": 7,
    "start_time": "2022-06-29T21:08:59.711Z"
   },
   {
    "duration": 250,
    "start_time": "2022-06-29T21:08:59.720Z"
   },
   {
    "duration": 23,
    "start_time": "2022-06-29T21:08:59.972Z"
   },
   {
    "duration": 39,
    "start_time": "2022-06-29T21:08:59.997Z"
   },
   {
    "duration": 72,
    "start_time": "2022-06-29T21:09:00.039Z"
   },
   {
    "duration": 65,
    "start_time": "2022-06-29T21:09:00.113Z"
   },
   {
    "duration": 13,
    "start_time": "2022-06-29T21:09:00.181Z"
   },
   {
    "duration": 23,
    "start_time": "2022-06-29T21:09:00.196Z"
   },
   {
    "duration": 21,
    "start_time": "2022-06-29T21:09:00.220Z"
   },
   {
    "duration": 40,
    "start_time": "2022-06-29T21:09:00.243Z"
   },
   {
    "duration": 80,
    "start_time": "2022-06-29T21:09:00.285Z"
   },
   {
    "duration": 58,
    "start_time": "2022-06-29T21:09:00.366Z"
   },
   {
    "duration": 5,
    "start_time": "2022-06-29T21:09:00.425Z"
   },
   {
    "duration": 24,
    "start_time": "2022-06-29T21:09:00.431Z"
   },
   {
    "duration": 45,
    "start_time": "2022-06-29T21:09:00.458Z"
   },
   {
    "duration": 5,
    "start_time": "2022-06-29T21:09:00.505Z"
   },
   {
    "duration": 221,
    "start_time": "2022-06-29T21:09:00.512Z"
   },
   {
    "duration": 216,
    "start_time": "2022-06-29T21:09:00.736Z"
   },
   {
    "duration": 15,
    "start_time": "2022-06-29T21:09:00.953Z"
   },
   {
    "duration": 22,
    "start_time": "2022-06-29T21:09:00.970Z"
   },
   {
    "duration": 28,
    "start_time": "2022-06-29T21:09:00.994Z"
   },
   {
    "duration": 35,
    "start_time": "2022-06-29T21:09:01.023Z"
   },
   {
    "duration": 203,
    "start_time": "2022-06-29T21:09:01.060Z"
   },
   {
    "duration": 17,
    "start_time": "2022-06-29T21:09:01.265Z"
   },
   {
    "duration": 73,
    "start_time": "2022-06-29T21:09:01.286Z"
   },
   {
    "duration": 329,
    "start_time": "2022-06-29T21:09:01.361Z"
   },
   {
    "duration": 19,
    "start_time": "2022-06-29T21:09:01.692Z"
   },
   {
    "duration": 96,
    "start_time": "2022-06-29T21:09:01.713Z"
   },
   {
    "duration": 20,
    "start_time": "2022-06-29T21:09:01.812Z"
   },
   {
    "duration": 56,
    "start_time": "2022-06-29T21:09:01.834Z"
   },
   {
    "duration": 14,
    "start_time": "2022-06-29T21:09:01.893Z"
   },
   {
    "duration": 292,
    "start_time": "2022-06-29T21:09:19.345Z"
   },
   {
    "duration": 4,
    "start_time": "2022-06-29T21:09:26.960Z"
   },
   {
    "duration": 4,
    "start_time": "2022-06-29T21:09:29.502Z"
   },
   {
    "duration": 50,
    "start_time": "2022-06-29T21:11:13.794Z"
   },
   {
    "duration": 10,
    "start_time": "2022-06-29T21:11:18.246Z"
   },
   {
    "duration": 15,
    "start_time": "2022-06-29T21:11:26.062Z"
   },
   {
    "duration": 14,
    "start_time": "2022-06-29T21:12:17.933Z"
   },
   {
    "duration": 10,
    "start_time": "2022-06-29T21:12:23.934Z"
   },
   {
    "duration": 16,
    "start_time": "2022-06-29T21:12:38.462Z"
   },
   {
    "duration": 9,
    "start_time": "2022-06-29T21:12:55.701Z"
   },
   {
    "duration": 8,
    "start_time": "2022-06-29T21:13:01.533Z"
   },
   {
    "duration": 43,
    "start_time": "2022-06-29T21:13:04.648Z"
   },
   {
    "duration": 12,
    "start_time": "2022-06-29T21:13:05.062Z"
   },
   {
    "duration": 14,
    "start_time": "2022-06-29T21:13:09.264Z"
   },
   {
    "duration": 10,
    "start_time": "2022-06-29T21:13:21.029Z"
   },
   {
    "duration": 14,
    "start_time": "2022-06-29T21:13:26.086Z"
   },
   {
    "duration": 11,
    "start_time": "2022-06-29T21:13:47.965Z"
   },
   {
    "duration": 15,
    "start_time": "2022-06-29T21:13:57.545Z"
   },
   {
    "duration": 12,
    "start_time": "2022-06-29T21:14:12.562Z"
   },
   {
    "duration": 12,
    "start_time": "2022-06-29T21:14:28.954Z"
   },
   {
    "duration": 14,
    "start_time": "2022-06-29T21:15:10.812Z"
   },
   {
    "duration": 41,
    "start_time": "2022-06-29T21:15:23.863Z"
   },
   {
    "duration": 57,
    "start_time": "2022-06-29T21:15:58.255Z"
   },
   {
    "duration": 8,
    "start_time": "2022-06-29T21:16:43.386Z"
   },
   {
    "duration": 17,
    "start_time": "2022-06-29T21:16:49.864Z"
   },
   {
    "duration": 15,
    "start_time": "2022-06-29T21:17:03.523Z"
   },
   {
    "duration": 11,
    "start_time": "2022-06-29T21:17:15.831Z"
   },
   {
    "duration": 57,
    "start_time": "2022-06-29T21:17:21.327Z"
   },
   {
    "duration": 5,
    "start_time": "2022-06-29T21:17:57.378Z"
   },
   {
    "duration": 21,
    "start_time": "2022-06-29T21:18:04.534Z"
   },
   {
    "duration": 493,
    "start_time": "2022-06-29T21:18:28.674Z"
   },
   {
    "duration": 4,
    "start_time": "2022-06-29T21:18:34.822Z"
   },
   {
    "duration": 18,
    "start_time": "2022-06-29T21:18:40.946Z"
   },
   {
    "duration": 5,
    "start_time": "2022-06-29T21:20:38.163Z"
   },
   {
    "duration": 86,
    "start_time": "2022-06-29T21:20:52.320Z"
   },
   {
    "duration": 10,
    "start_time": "2022-06-29T21:21:02.087Z"
   },
   {
    "duration": 1069,
    "start_time": "2022-06-29T21:22:16.500Z"
   },
   {
    "duration": 233,
    "start_time": "2022-06-29T21:22:17.572Z"
   },
   {
    "duration": 5,
    "start_time": "2022-06-29T21:22:17.807Z"
   },
   {
    "duration": 10,
    "start_time": "2022-06-29T21:22:17.814Z"
   },
   {
    "duration": 207,
    "start_time": "2022-06-29T21:22:17.826Z"
   },
   {
    "duration": 19,
    "start_time": "2022-06-29T21:22:18.035Z"
   },
   {
    "duration": 39,
    "start_time": "2022-06-29T21:22:18.056Z"
   },
   {
    "duration": 29,
    "start_time": "2022-06-29T21:22:18.097Z"
   },
   {
    "duration": 54,
    "start_time": "2022-06-29T21:22:18.127Z"
   },
   {
    "duration": 9,
    "start_time": "2022-06-29T21:22:18.182Z"
   },
   {
    "duration": 24,
    "start_time": "2022-06-29T21:22:18.193Z"
   },
   {
    "duration": 26,
    "start_time": "2022-06-29T21:22:18.219Z"
   },
   {
    "duration": 14,
    "start_time": "2022-06-29T21:22:18.247Z"
   },
   {
    "duration": 79,
    "start_time": "2022-06-29T21:22:18.264Z"
   },
   {
    "duration": 63,
    "start_time": "2022-06-29T21:22:18.345Z"
   },
   {
    "duration": 5,
    "start_time": "2022-06-29T21:22:18.410Z"
   },
   {
    "duration": 45,
    "start_time": "2022-06-29T21:22:18.417Z"
   },
   {
    "duration": 46,
    "start_time": "2022-06-29T21:22:18.464Z"
   },
   {
    "duration": 6,
    "start_time": "2022-06-29T21:22:18.511Z"
   },
   {
    "duration": 207,
    "start_time": "2022-06-29T21:22:18.518Z"
   },
   {
    "duration": 231,
    "start_time": "2022-06-29T21:22:18.727Z"
   },
   {
    "duration": 6,
    "start_time": "2022-06-29T21:22:18.967Z"
   },
   {
    "duration": 20,
    "start_time": "2022-06-29T21:22:18.975Z"
   },
   {
    "duration": 9,
    "start_time": "2022-06-29T21:22:18.998Z"
   },
   {
    "duration": 19,
    "start_time": "2022-06-29T21:22:19.009Z"
   },
   {
    "duration": 161,
    "start_time": "2022-06-29T21:22:19.030Z"
   },
   {
    "duration": 16,
    "start_time": "2022-06-29T21:22:19.194Z"
   },
   {
    "duration": 15,
    "start_time": "2022-06-29T21:22:19.212Z"
   },
   {
    "duration": 293,
    "start_time": "2022-06-29T21:22:19.229Z"
   },
   {
    "duration": 16,
    "start_time": "2022-06-29T21:22:19.523Z"
   },
   {
    "duration": 131,
    "start_time": "2022-06-29T21:22:19.540Z"
   },
   {
    "duration": 0,
    "start_time": "2022-06-29T21:22:19.673Z"
   },
   {
    "duration": 0,
    "start_time": "2022-06-29T21:22:19.674Z"
   },
   {
    "duration": 0,
    "start_time": "2022-06-29T21:22:19.675Z"
   },
   {
    "duration": 0,
    "start_time": "2022-06-29T21:22:19.676Z"
   },
   {
    "duration": 0,
    "start_time": "2022-06-29T21:22:19.678Z"
   },
   {
    "duration": 0,
    "start_time": "2022-06-29T21:22:19.679Z"
   },
   {
    "duration": 0,
    "start_time": "2022-06-29T21:22:19.680Z"
   },
   {
    "duration": 0,
    "start_time": "2022-06-29T21:22:19.682Z"
   },
   {
    "duration": 0,
    "start_time": "2022-06-29T21:22:19.682Z"
   },
   {
    "duration": 45,
    "start_time": "2022-06-29T21:22:38.392Z"
   },
   {
    "duration": 51,
    "start_time": "2022-06-29T21:22:44.353Z"
   },
   {
    "duration": 16,
    "start_time": "2022-06-29T21:22:47.575Z"
   },
   {
    "duration": 8,
    "start_time": "2022-06-29T21:22:48.618Z"
   },
   {
    "duration": 5,
    "start_time": "2022-06-29T21:23:26.185Z"
   },
   {
    "duration": 5,
    "start_time": "2022-06-29T21:23:27.119Z"
   },
   {
    "duration": 10,
    "start_time": "2022-06-29T21:23:27.824Z"
   },
   {
    "duration": 50,
    "start_time": "2022-06-29T21:23:45.458Z"
   },
   {
    "duration": 12,
    "start_time": "2022-06-29T21:23:55.435Z"
   },
   {
    "duration": 1314,
    "start_time": "2022-06-30T13:48:29.848Z"
   },
   {
    "duration": 603,
    "start_time": "2022-06-30T13:48:31.164Z"
   },
   {
    "duration": 5,
    "start_time": "2022-06-30T13:48:31.770Z"
   },
   {
    "duration": 7,
    "start_time": "2022-06-30T13:48:31.777Z"
   },
   {
    "duration": 241,
    "start_time": "2022-06-30T13:48:31.786Z"
   },
   {
    "duration": 23,
    "start_time": "2022-06-30T13:48:32.029Z"
   },
   {
    "duration": 28,
    "start_time": "2022-06-30T13:48:32.053Z"
   },
   {
    "duration": 54,
    "start_time": "2022-06-30T13:48:32.082Z"
   },
   {
    "duration": 37,
    "start_time": "2022-06-30T13:48:32.138Z"
   },
   {
    "duration": 11,
    "start_time": "2022-06-30T13:48:32.177Z"
   },
   {
    "duration": 38,
    "start_time": "2022-06-30T13:48:32.189Z"
   },
   {
    "duration": 24,
    "start_time": "2022-06-30T13:48:32.228Z"
   },
   {
    "duration": 36,
    "start_time": "2022-06-30T13:48:32.254Z"
   },
   {
    "duration": 73,
    "start_time": "2022-06-30T13:48:32.292Z"
   },
   {
    "duration": 59,
    "start_time": "2022-06-30T13:48:32.366Z"
   },
   {
    "duration": 4,
    "start_time": "2022-06-30T13:48:32.427Z"
   },
   {
    "duration": 14,
    "start_time": "2022-06-30T13:48:32.432Z"
   },
   {
    "duration": 30,
    "start_time": "2022-06-30T13:48:32.448Z"
   },
   {
    "duration": 5,
    "start_time": "2022-06-30T13:48:32.480Z"
   },
   {
    "duration": 289,
    "start_time": "2022-06-30T13:48:32.486Z"
   },
   {
    "duration": 242,
    "start_time": "2022-06-30T13:48:32.778Z"
   },
   {
    "duration": 5,
    "start_time": "2022-06-30T13:48:33.023Z"
   },
   {
    "duration": 8,
    "start_time": "2022-06-30T13:48:33.030Z"
   },
   {
    "duration": 5,
    "start_time": "2022-06-30T13:48:33.040Z"
   },
   {
    "duration": 13,
    "start_time": "2022-06-30T13:48:33.047Z"
   },
   {
    "duration": 161,
    "start_time": "2022-06-30T13:48:33.062Z"
   },
   {
    "duration": 18,
    "start_time": "2022-06-30T13:48:33.224Z"
   },
   {
    "duration": 17,
    "start_time": "2022-06-30T13:48:33.246Z"
   },
   {
    "duration": 302,
    "start_time": "2022-06-30T13:48:33.265Z"
   },
   {
    "duration": 16,
    "start_time": "2022-06-30T13:48:33.569Z"
   },
   {
    "duration": 39,
    "start_time": "2022-06-30T13:48:33.586Z"
   },
   {
    "duration": 37,
    "start_time": "2022-06-30T13:48:33.626Z"
   },
   {
    "duration": 12,
    "start_time": "2022-06-30T13:48:33.665Z"
   },
   {
    "duration": 8,
    "start_time": "2022-06-30T13:48:33.679Z"
   },
   {
    "duration": 7,
    "start_time": "2022-06-30T13:48:33.688Z"
   },
   {
    "duration": 30,
    "start_time": "2022-06-30T13:48:33.697Z"
   },
   {
    "duration": 10,
    "start_time": "2022-06-30T13:48:33.729Z"
   },
   {
    "duration": 39,
    "start_time": "2022-06-30T13:48:33.741Z"
   },
   {
    "duration": 13,
    "start_time": "2022-06-30T13:48:33.782Z"
   },
   {
    "duration": 9,
    "start_time": "2022-06-30T13:48:33.796Z"
   },
   {
    "duration": 7,
    "start_time": "2022-06-30T13:48:33.824Z"
   },
   {
    "duration": 15,
    "start_time": "2022-06-30T13:57:50.560Z"
   },
   {
    "duration": 12,
    "start_time": "2022-06-30T13:57:58.396Z"
   },
   {
    "duration": 17,
    "start_time": "2022-06-30T13:58:42.667Z"
   },
   {
    "duration": 13,
    "start_time": "2022-06-30T13:59:11.753Z"
   },
   {
    "duration": 9,
    "start_time": "2022-06-30T13:59:12.088Z"
   },
   {
    "duration": 21,
    "start_time": "2022-06-30T13:59:12.546Z"
   },
   {
    "duration": 5,
    "start_time": "2022-06-30T14:01:30.216Z"
   },
   {
    "duration": 4,
    "start_time": "2022-06-30T14:01:36.123Z"
   },
   {
    "duration": 7,
    "start_time": "2022-06-30T14:01:43.947Z"
   },
   {
    "duration": 5,
    "start_time": "2022-06-30T14:01:54.166Z"
   },
   {
    "duration": 4,
    "start_time": "2022-06-30T14:01:56.076Z"
   },
   {
    "duration": 4,
    "start_time": "2022-06-30T14:02:49.107Z"
   },
   {
    "duration": 3,
    "start_time": "2022-06-30T14:03:03.991Z"
   },
   {
    "duration": 4,
    "start_time": "2022-06-30T14:03:30.416Z"
   },
   {
    "duration": 6,
    "start_time": "2022-06-30T14:06:17.875Z"
   },
   {
    "duration": 1029,
    "start_time": "2022-06-30T14:11:41.907Z"
   },
   {
    "duration": 1028,
    "start_time": "2022-06-30T14:12:49.506Z"
   },
   {
    "duration": 42390,
    "start_time": "2022-06-30T14:13:10.960Z"
   },
   {
    "duration": 22,
    "start_time": "2022-06-30T14:14:12.640Z"
   },
   {
    "duration": 17,
    "start_time": "2022-06-30T14:14:34.954Z"
   },
   {
    "duration": 15,
    "start_time": "2022-06-30T14:15:13.699Z"
   },
   {
    "duration": 16,
    "start_time": "2022-06-30T14:16:17.118Z"
   },
   {
    "duration": 10,
    "start_time": "2022-06-30T14:18:32.481Z"
   },
   {
    "duration": 538,
    "start_time": "2022-06-30T14:18:36.380Z"
   },
   {
    "duration": 318,
    "start_time": "2022-06-30T14:20:19.625Z"
   },
   {
    "duration": 236,
    "start_time": "2022-06-30T14:20:42.633Z"
   },
   {
    "duration": 13,
    "start_time": "2022-06-30T14:23:14.116Z"
   },
   {
    "duration": 195,
    "start_time": "2022-06-30T14:24:05.112Z"
   },
   {
    "duration": 1138,
    "start_time": "2022-06-30T14:24:18.051Z"
   },
   {
    "duration": 249,
    "start_time": "2022-06-30T14:24:19.191Z"
   },
   {
    "duration": 5,
    "start_time": "2022-06-30T14:24:19.442Z"
   },
   {
    "duration": 17,
    "start_time": "2022-06-30T14:24:19.448Z"
   },
   {
    "duration": 260,
    "start_time": "2022-06-30T14:24:19.467Z"
   },
   {
    "duration": 21,
    "start_time": "2022-06-30T14:24:19.729Z"
   },
   {
    "duration": 29,
    "start_time": "2022-06-30T14:24:19.751Z"
   },
   {
    "duration": 56,
    "start_time": "2022-06-30T14:24:19.782Z"
   },
   {
    "duration": 39,
    "start_time": "2022-06-30T14:24:19.840Z"
   },
   {
    "duration": 11,
    "start_time": "2022-06-30T14:24:19.881Z"
   },
   {
    "duration": 40,
    "start_time": "2022-06-30T14:24:19.894Z"
   },
   {
    "duration": 13,
    "start_time": "2022-06-30T14:24:19.935Z"
   },
   {
    "duration": 21,
    "start_time": "2022-06-30T14:24:19.950Z"
   },
   {
    "duration": 94,
    "start_time": "2022-06-30T14:24:19.974Z"
   },
   {
    "duration": 64,
    "start_time": "2022-06-30T14:24:20.069Z"
   },
   {
    "duration": 5,
    "start_time": "2022-06-30T14:24:20.134Z"
   },
   {
    "duration": 33,
    "start_time": "2022-06-30T14:24:20.140Z"
   },
   {
    "duration": 42,
    "start_time": "2022-06-30T14:24:20.174Z"
   },
   {
    "duration": 5,
    "start_time": "2022-06-30T14:24:20.217Z"
   },
   {
    "duration": 216,
    "start_time": "2022-06-30T14:24:20.224Z"
   },
   {
    "duration": 212,
    "start_time": "2022-06-30T14:24:20.441Z"
   },
   {
    "duration": 6,
    "start_time": "2022-06-30T14:24:20.655Z"
   },
   {
    "duration": 24,
    "start_time": "2022-06-30T14:24:20.663Z"
   },
   {
    "duration": 36,
    "start_time": "2022-06-30T14:24:20.689Z"
   },
   {
    "duration": 23,
    "start_time": "2022-06-30T14:24:20.727Z"
   },
   {
    "duration": 155,
    "start_time": "2022-06-30T14:24:20.751Z"
   },
   {
    "duration": 15,
    "start_time": "2022-06-30T14:24:20.909Z"
   },
   {
    "duration": 21,
    "start_time": "2022-06-30T14:24:20.926Z"
   },
   {
    "duration": 254,
    "start_time": "2022-06-30T14:24:20.949Z"
   },
   {
    "duration": 17,
    "start_time": "2022-06-30T14:24:21.205Z"
   },
   {
    "duration": 36,
    "start_time": "2022-06-30T14:24:21.224Z"
   },
   {
    "duration": 36,
    "start_time": "2022-06-30T14:24:21.262Z"
   },
   {
    "duration": 29,
    "start_time": "2022-06-30T14:24:21.299Z"
   },
   {
    "duration": 8,
    "start_time": "2022-06-30T14:24:21.330Z"
   },
   {
    "duration": 7,
    "start_time": "2022-06-30T14:24:21.340Z"
   },
   {
    "duration": 6,
    "start_time": "2022-06-30T14:24:21.348Z"
   },
   {
    "duration": 13,
    "start_time": "2022-06-30T14:24:21.355Z"
   },
   {
    "duration": 60,
    "start_time": "2022-06-30T14:24:21.370Z"
   },
   {
    "duration": 14,
    "start_time": "2022-06-30T14:24:21.432Z"
   },
   {
    "duration": 22,
    "start_time": "2022-06-30T14:24:21.447Z"
   },
   {
    "duration": 9,
    "start_time": "2022-06-30T14:24:21.472Z"
   },
   {
    "duration": 211,
    "start_time": "2022-06-30T14:24:21.482Z"
   },
   {
    "duration": 3,
    "start_time": "2022-06-30T14:24:21.695Z"
   },
   {
    "duration": 218,
    "start_time": "2022-06-30T14:29:21.743Z"
   },
   {
    "duration": 175,
    "start_time": "2022-06-30T14:29:33.404Z"
   },
   {
    "duration": 293,
    "start_time": "2022-06-30T14:30:06.351Z"
   },
   {
    "duration": 184,
    "start_time": "2022-06-30T14:30:26.444Z"
   },
   {
    "duration": 267,
    "start_time": "2022-06-30T14:30:50.839Z"
   },
   {
    "duration": 183,
    "start_time": "2022-06-30T14:31:03.329Z"
   },
   {
    "duration": 231,
    "start_time": "2022-06-30T14:32:23.739Z"
   },
   {
    "duration": 185,
    "start_time": "2022-06-30T14:32:32.961Z"
   },
   {
    "duration": 199,
    "start_time": "2022-06-30T14:34:08.081Z"
   },
   {
    "duration": 194,
    "start_time": "2022-06-30T14:36:42.839Z"
   },
   {
    "duration": 191,
    "start_time": "2022-06-30T14:36:51.634Z"
   },
   {
    "duration": 315,
    "start_time": "2022-06-30T14:38:27.635Z"
   },
   {
    "duration": 15,
    "start_time": "2022-06-30T14:47:15.464Z"
   },
   {
    "duration": 17,
    "start_time": "2022-06-30T14:47:18.154Z"
   },
   {
    "duration": 1012,
    "start_time": "2022-06-30T14:48:43.315Z"
   },
   {
    "duration": 12,
    "start_time": "2022-06-30T14:49:27.644Z"
   },
   {
    "duration": 9,
    "start_time": "2022-06-30T14:49:34.136Z"
   },
   {
    "duration": 7,
    "start_time": "2022-06-30T14:53:25.636Z"
   },
   {
    "duration": 8,
    "start_time": "2022-06-30T14:54:42.320Z"
   },
   {
    "duration": 8,
    "start_time": "2022-06-30T14:54:51.666Z"
   },
   {
    "duration": 68,
    "start_time": "2022-06-30T14:55:51.756Z"
   },
   {
    "duration": 62,
    "start_time": "2022-06-30T14:56:05.528Z"
   },
   {
    "duration": 9,
    "start_time": "2022-06-30T14:56:09.124Z"
   },
   {
    "duration": 9,
    "start_time": "2022-06-30T14:56:24.940Z"
   },
   {
    "duration": 8,
    "start_time": "2022-06-30T14:56:40.477Z"
   },
   {
    "duration": 8,
    "start_time": "2022-06-30T14:57:30.536Z"
   },
   {
    "duration": 11,
    "start_time": "2022-06-30T14:58:12.128Z"
   },
   {
    "duration": 11,
    "start_time": "2022-06-30T14:58:42.244Z"
   },
   {
    "duration": 11,
    "start_time": "2022-06-30T19:21:44.169Z"
   },
   {
    "duration": 1143,
    "start_time": "2022-06-30T19:44:46.587Z"
   },
   {
    "duration": 240,
    "start_time": "2022-06-30T19:44:47.732Z"
   },
   {
    "duration": 6,
    "start_time": "2022-06-30T19:44:47.983Z"
   },
   {
    "duration": 7,
    "start_time": "2022-06-30T19:44:47.991Z"
   },
   {
    "duration": 230,
    "start_time": "2022-06-30T19:44:48.000Z"
   },
   {
    "duration": 18,
    "start_time": "2022-06-30T19:44:48.232Z"
   },
   {
    "duration": 27,
    "start_time": "2022-06-30T19:44:48.251Z"
   },
   {
    "duration": 51,
    "start_time": "2022-06-30T19:44:48.280Z"
   },
   {
    "duration": 37,
    "start_time": "2022-06-30T19:44:48.333Z"
   },
   {
    "duration": 10,
    "start_time": "2022-06-30T19:44:48.371Z"
   },
   {
    "duration": 40,
    "start_time": "2022-06-30T19:44:48.383Z"
   },
   {
    "duration": 10,
    "start_time": "2022-06-30T19:44:48.424Z"
   },
   {
    "duration": 16,
    "start_time": "2022-06-30T19:44:48.436Z"
   },
   {
    "duration": 80,
    "start_time": "2022-06-30T19:44:48.455Z"
   },
   {
    "duration": 59,
    "start_time": "2022-06-30T19:44:48.536Z"
   },
   {
    "duration": 5,
    "start_time": "2022-06-30T19:44:48.597Z"
   },
   {
    "duration": 4,
    "start_time": "2022-06-30T19:45:04.198Z"
   },
   {
    "duration": 10,
    "start_time": "2022-06-30T19:45:05.063Z"
   },
   {
    "duration": 29,
    "start_time": "2022-06-30T19:45:08.781Z"
   },
   {
    "duration": 6,
    "start_time": "2022-06-30T19:45:09.797Z"
   },
   {
    "duration": 203,
    "start_time": "2022-06-30T19:45:11.164Z"
   },
   {
    "duration": 246,
    "start_time": "2022-06-30T19:45:22.961Z"
   },
   {
    "duration": 14,
    "start_time": "2022-06-30T19:47:27.140Z"
   },
   {
    "duration": 15,
    "start_time": "2022-06-30T19:47:33.772Z"
   },
   {
    "duration": 4,
    "start_time": "2022-06-30T19:47:33.789Z"
   },
   {
    "duration": 13,
    "start_time": "2022-06-30T19:47:33.794Z"
   },
   {
    "duration": 34,
    "start_time": "2022-06-30T19:47:33.808Z"
   },
   {
    "duration": 5,
    "start_time": "2022-06-30T19:47:33.844Z"
   },
   {
    "duration": 206,
    "start_time": "2022-06-30T19:47:33.851Z"
   },
   {
    "duration": 235,
    "start_time": "2022-06-30T19:47:34.059Z"
   },
   {
    "duration": 5,
    "start_time": "2022-06-30T19:47:34.296Z"
   },
   {
    "duration": 6,
    "start_time": "2022-06-30T19:47:34.303Z"
   },
   {
    "duration": 7,
    "start_time": "2022-06-30T19:47:34.324Z"
   },
   {
    "duration": 21,
    "start_time": "2022-06-30T19:47:34.333Z"
   },
   {
    "duration": 153,
    "start_time": "2022-06-30T19:47:34.355Z"
   },
   {
    "duration": 23,
    "start_time": "2022-06-30T19:47:34.510Z"
   },
   {
    "duration": 21,
    "start_time": "2022-06-30T19:47:34.539Z"
   },
   {
    "duration": 333,
    "start_time": "2022-06-30T19:47:34.562Z"
   },
   {
    "duration": 16,
    "start_time": "2022-06-30T19:47:34.897Z"
   },
   {
    "duration": 40,
    "start_time": "2022-06-30T19:47:34.915Z"
   },
   {
    "duration": 44,
    "start_time": "2022-06-30T19:47:34.957Z"
   },
   {
    "duration": 35,
    "start_time": "2022-06-30T19:47:35.003Z"
   },
   {
    "duration": 9,
    "start_time": "2022-06-30T19:47:35.060Z"
   },
   {
    "duration": 10,
    "start_time": "2022-06-30T19:47:35.070Z"
   },
   {
    "duration": 9,
    "start_time": "2022-06-30T19:47:35.082Z"
   },
   {
    "duration": 11,
    "start_time": "2022-06-30T19:47:35.093Z"
   },
   {
    "duration": 42,
    "start_time": "2022-06-30T19:47:35.106Z"
   },
   {
    "duration": 13,
    "start_time": "2022-06-30T19:47:35.149Z"
   },
   {
    "duration": 18,
    "start_time": "2022-06-30T19:47:35.164Z"
   },
   {
    "duration": 7,
    "start_time": "2022-06-30T19:47:35.183Z"
   },
   {
    "duration": 132,
    "start_time": "2022-06-30T19:47:35.191Z"
   },
   {
    "duration": 0,
    "start_time": "2022-06-30T19:47:35.326Z"
   },
   {
    "duration": 0,
    "start_time": "2022-06-30T19:47:35.329Z"
   },
   {
    "duration": 0,
    "start_time": "2022-06-30T19:47:35.331Z"
   },
   {
    "duration": 1104,
    "start_time": "2022-06-30T19:49:43.832Z"
   },
   {
    "duration": 249,
    "start_time": "2022-06-30T19:49:44.938Z"
   },
   {
    "duration": 4,
    "start_time": "2022-06-30T19:49:45.189Z"
   },
   {
    "duration": 13,
    "start_time": "2022-06-30T19:49:45.195Z"
   },
   {
    "duration": 260,
    "start_time": "2022-06-30T19:49:45.210Z"
   },
   {
    "duration": 19,
    "start_time": "2022-06-30T19:49:45.471Z"
   },
   {
    "duration": 50,
    "start_time": "2022-06-30T19:49:45.491Z"
   },
   {
    "duration": 34,
    "start_time": "2022-06-30T19:49:45.543Z"
   },
   {
    "duration": 62,
    "start_time": "2022-06-30T19:49:45.579Z"
   },
   {
    "duration": 10,
    "start_time": "2022-06-30T19:49:45.643Z"
   },
   {
    "duration": 30,
    "start_time": "2022-06-30T19:49:45.655Z"
   },
   {
    "duration": 13,
    "start_time": "2022-06-30T19:49:55.100Z"
   },
   {
    "duration": 15,
    "start_time": "2022-06-30T19:50:08.203Z"
   },
   {
    "duration": 12,
    "start_time": "2022-06-30T19:50:23.583Z"
   },
   {
    "duration": 15,
    "start_time": "2022-06-30T19:50:48.874Z"
   },
   {
    "duration": 14,
    "start_time": "2022-06-30T19:50:56.091Z"
   },
   {
    "duration": 11,
    "start_time": "2022-06-30T19:51:17.748Z"
   },
   {
    "duration": 15,
    "start_time": "2022-06-30T19:51:19.066Z"
   },
   {
    "duration": 1129,
    "start_time": "2022-06-30T19:51:59.871Z"
   },
   {
    "duration": 272,
    "start_time": "2022-06-30T19:52:01.002Z"
   },
   {
    "duration": 5,
    "start_time": "2022-06-30T19:52:01.275Z"
   },
   {
    "duration": 30,
    "start_time": "2022-06-30T19:52:01.283Z"
   },
   {
    "duration": 277,
    "start_time": "2022-06-30T19:52:01.315Z"
   },
   {
    "duration": 36,
    "start_time": "2022-06-30T19:52:01.594Z"
   },
   {
    "duration": 99,
    "start_time": "2022-06-30T19:52:01.635Z"
   },
   {
    "duration": 33,
    "start_time": "2022-06-30T19:52:01.736Z"
   },
   {
    "duration": 103,
    "start_time": "2022-06-30T19:52:01.771Z"
   },
   {
    "duration": 11,
    "start_time": "2022-06-30T19:52:01.877Z"
   },
   {
    "duration": 14,
    "start_time": "2022-06-30T19:52:01.889Z"
   },
   {
    "duration": 5,
    "start_time": "2022-06-30T19:52:01.905Z"
   },
   {
    "duration": 31,
    "start_time": "2022-06-30T19:52:01.912Z"
   },
   {
    "duration": 41,
    "start_time": "2022-06-30T19:52:01.945Z"
   },
   {
    "duration": 46,
    "start_time": "2022-06-30T19:52:01.988Z"
   },
   {
    "duration": 17,
    "start_time": "2022-06-30T19:52:02.036Z"
   },
   {
    "duration": 84,
    "start_time": "2022-06-30T19:52:02.055Z"
   },
   {
    "duration": 61,
    "start_time": "2022-06-30T19:52:02.140Z"
   },
   {
    "duration": 5,
    "start_time": "2022-06-30T19:52:02.203Z"
   },
   {
    "duration": 26,
    "start_time": "2022-06-30T19:52:02.209Z"
   },
   {
    "duration": 29,
    "start_time": "2022-06-30T19:52:02.236Z"
   },
   {
    "duration": 5,
    "start_time": "2022-06-30T19:52:02.267Z"
   },
   {
    "duration": 240,
    "start_time": "2022-06-30T19:52:02.273Z"
   },
   {
    "duration": 271,
    "start_time": "2022-06-30T19:52:02.516Z"
   },
   {
    "duration": 8,
    "start_time": "2022-06-30T19:52:02.789Z"
   },
   {
    "duration": 28,
    "start_time": "2022-06-30T19:52:02.799Z"
   },
   {
    "duration": 11,
    "start_time": "2022-06-30T19:52:02.833Z"
   },
   {
    "duration": 11,
    "start_time": "2022-06-30T19:52:02.850Z"
   },
   {
    "duration": 148,
    "start_time": "2022-06-30T19:52:02.862Z"
   },
   {
    "duration": 29,
    "start_time": "2022-06-30T19:52:03.012Z"
   },
   {
    "duration": 11,
    "start_time": "2022-06-30T19:52:03.043Z"
   },
   {
    "duration": 283,
    "start_time": "2022-06-30T19:52:03.056Z"
   },
   {
    "duration": 16,
    "start_time": "2022-06-30T19:52:03.341Z"
   },
   {
    "duration": 38,
    "start_time": "2022-06-30T19:52:03.359Z"
   },
   {
    "duration": 47,
    "start_time": "2022-06-30T19:52:03.398Z"
   },
   {
    "duration": 21,
    "start_time": "2022-06-30T19:52:03.447Z"
   },
   {
    "duration": 13,
    "start_time": "2022-06-30T19:52:03.470Z"
   },
   {
    "duration": 10,
    "start_time": "2022-06-30T19:52:03.484Z"
   },
   {
    "duration": 6,
    "start_time": "2022-06-30T19:52:03.495Z"
   },
   {
    "duration": 11,
    "start_time": "2022-06-30T19:52:03.503Z"
   },
   {
    "duration": 44,
    "start_time": "2022-06-30T19:52:03.515Z"
   },
   {
    "duration": 13,
    "start_time": "2022-06-30T19:52:03.561Z"
   },
   {
    "duration": 15,
    "start_time": "2022-06-30T19:52:03.575Z"
   },
   {
    "duration": 7,
    "start_time": "2022-06-30T19:52:03.592Z"
   },
   {
    "duration": 304,
    "start_time": "2022-06-30T19:52:03.601Z"
   },
   {
    "duration": 237,
    "start_time": "2022-06-30T19:52:03.907Z"
   },
   {
    "duration": 10,
    "start_time": "2022-06-30T19:52:04.145Z"
   },
   {
    "duration": 16,
    "start_time": "2022-06-30T19:52:04.157Z"
   },
   {
    "duration": 18,
    "start_time": "2022-06-30T19:52:43.501Z"
   },
   {
    "duration": 16,
    "start_time": "2022-06-30T19:53:34.878Z"
   },
   {
    "duration": 33,
    "start_time": "2022-06-30T19:53:56.333Z"
   },
   {
    "duration": 20,
    "start_time": "2022-06-30T19:54:05.461Z"
   },
   {
    "duration": 21,
    "start_time": "2022-06-30T19:54:43.048Z"
   },
   {
    "duration": 32,
    "start_time": "2022-06-30T19:54:52.611Z"
   },
   {
    "duration": 21,
    "start_time": "2022-06-30T19:55:06.513Z"
   },
   {
    "duration": 20,
    "start_time": "2022-06-30T19:55:37.136Z"
   },
   {
    "duration": 27,
    "start_time": "2022-06-30T19:55:43.470Z"
   },
   {
    "duration": 16,
    "start_time": "2022-06-30T19:55:50.481Z"
   },
   {
    "duration": 19,
    "start_time": "2022-06-30T19:56:49.177Z"
   },
   {
    "duration": 19,
    "start_time": "2022-06-30T19:57:29.749Z"
   },
   {
    "duration": 29,
    "start_time": "2022-06-30T19:57:55.480Z"
   },
   {
    "duration": 14,
    "start_time": "2022-06-30T20:00:28.448Z"
   },
   {
    "duration": 13,
    "start_time": "2022-06-30T20:00:42.974Z"
   },
   {
    "duration": 7,
    "start_time": "2022-06-30T20:01:11.543Z"
   },
   {
    "duration": 5,
    "start_time": "2022-06-30T20:02:18.231Z"
   },
   {
    "duration": 5,
    "start_time": "2022-06-30T20:02:31.335Z"
   },
   {
    "duration": 5,
    "start_time": "2022-06-30T20:04:57.803Z"
   },
   {
    "duration": 6,
    "start_time": "2022-06-30T20:14:54.011Z"
   },
   {
    "duration": 5,
    "start_time": "2022-06-30T20:21:19.411Z"
   },
   {
    "duration": 6,
    "start_time": "2022-06-30T20:21:52.567Z"
   },
   {
    "duration": 48,
    "start_time": "2022-06-30T20:27:27.622Z"
   },
   {
    "duration": 20,
    "start_time": "2022-06-30T20:27:33.878Z"
   },
   {
    "duration": 46,
    "start_time": "2022-06-30T20:31:41.978Z"
   },
   {
    "duration": 6,
    "start_time": "2022-06-30T20:31:59.064Z"
   },
   {
    "duration": 39,
    "start_time": "2022-06-30T20:35:16.654Z"
   },
   {
    "duration": 2,
    "start_time": "2022-06-30T20:36:06.362Z"
   },
   {
    "duration": 31,
    "start_time": "2022-06-30T20:36:13.501Z"
   },
   {
    "duration": 4,
    "start_time": "2022-06-30T20:36:28.298Z"
   },
   {
    "duration": 3,
    "start_time": "2022-06-30T20:38:08.721Z"
   },
   {
    "duration": 10,
    "start_time": "2022-06-30T20:38:22.667Z"
   },
   {
    "duration": 3,
    "start_time": "2022-06-30T20:39:53.097Z"
   },
   {
    "duration": 5,
    "start_time": "2022-06-30T20:40:31.230Z"
   },
   {
    "duration": 5,
    "start_time": "2022-06-30T20:40:43.813Z"
   },
   {
    "duration": 5,
    "start_time": "2022-06-30T20:41:03.435Z"
   },
   {
    "duration": 4,
    "start_time": "2022-06-30T20:41:57.785Z"
   },
   {
    "duration": 5,
    "start_time": "2022-06-30T20:41:59.068Z"
   },
   {
    "duration": 4,
    "start_time": "2022-06-30T20:42:18.609Z"
   },
   {
    "duration": 1021,
    "start_time": "2022-06-30T20:42:22.733Z"
   },
   {
    "duration": 3,
    "start_time": "2022-06-30T20:42:38.320Z"
   },
   {
    "duration": 5,
    "start_time": "2022-06-30T20:42:39.160Z"
   },
   {
    "duration": 4,
    "start_time": "2022-06-30T20:44:39.166Z"
   },
   {
    "duration": 6,
    "start_time": "2022-06-30T20:44:39.658Z"
   },
   {
    "duration": 3,
    "start_time": "2022-06-30T20:44:50.438Z"
   },
   {
    "duration": 6,
    "start_time": "2022-06-30T20:44:50.907Z"
   },
   {
    "duration": 4,
    "start_time": "2022-06-30T20:44:59.915Z"
   },
   {
    "duration": 2506,
    "start_time": "2022-06-30T20:45:01.037Z"
   },
   {
    "duration": 3,
    "start_time": "2022-06-30T20:45:59.058Z"
   },
   {
    "duration": 5,
    "start_time": "2022-06-30T20:46:00.588Z"
   },
   {
    "duration": 5,
    "start_time": "2022-06-30T20:46:44.645Z"
   },
   {
    "duration": 5,
    "start_time": "2022-06-30T20:46:56.985Z"
   },
   {
    "duration": 5,
    "start_time": "2022-06-30T20:47:39.720Z"
   },
   {
    "duration": 5,
    "start_time": "2022-06-30T20:47:50.425Z"
   },
   {
    "duration": 4,
    "start_time": "2022-06-30T20:48:12.205Z"
   },
   {
    "duration": 55,
    "start_time": "2022-06-30T20:51:50.585Z"
   },
   {
    "duration": 48,
    "start_time": "2022-06-30T20:52:01.104Z"
   },
   {
    "duration": 4,
    "start_time": "2022-06-30T20:52:12.146Z"
   },
   {
    "duration": 5,
    "start_time": "2022-06-30T20:52:23.436Z"
   },
   {
    "duration": 5,
    "start_time": "2022-06-30T20:53:30.207Z"
   },
   {
    "duration": 6,
    "start_time": "2022-06-30T20:54:02.534Z"
   },
   {
    "duration": 5,
    "start_time": "2022-06-30T20:54:30.127Z"
   },
   {
    "duration": 4,
    "start_time": "2022-06-30T20:54:40.023Z"
   },
   {
    "duration": 5,
    "start_time": "2022-06-30T20:54:48.716Z"
   },
   {
    "duration": 3,
    "start_time": "2022-06-30T20:54:58.678Z"
   },
   {
    "duration": 4,
    "start_time": "2022-06-30T20:55:08.095Z"
   },
   {
    "duration": 4,
    "start_time": "2022-06-30T20:56:15.875Z"
   },
   {
    "duration": 7,
    "start_time": "2022-06-30T20:56:15.881Z"
   },
   {
    "duration": 7,
    "start_time": "2022-06-30T20:56:15.889Z"
   },
   {
    "duration": 12,
    "start_time": "2022-06-30T20:56:15.897Z"
   },
   {
    "duration": 5,
    "start_time": "2022-06-30T20:56:15.910Z"
   },
   {
    "duration": 6,
    "start_time": "2022-06-30T20:56:15.916Z"
   },
   {
    "duration": 5,
    "start_time": "2022-06-30T20:56:15.923Z"
   },
   {
    "duration": 9,
    "start_time": "2022-06-30T20:56:15.929Z"
   },
   {
    "duration": 8,
    "start_time": "2022-06-30T20:56:15.939Z"
   },
   {
    "duration": 7,
    "start_time": "2022-06-30T20:56:15.949Z"
   },
   {
    "duration": 6,
    "start_time": "2022-06-30T20:56:15.958Z"
   },
   {
    "duration": 10,
    "start_time": "2022-06-30T20:56:15.965Z"
   },
   {
    "duration": 8,
    "start_time": "2022-06-30T20:56:15.976Z"
   },
   {
    "duration": 102,
    "start_time": "2022-06-30T20:58:17.790Z"
   },
   {
    "duration": 17,
    "start_time": "2022-06-30T20:58:26.391Z"
   },
   {
    "duration": 6,
    "start_time": "2022-06-30T20:58:32.454Z"
   },
   {
    "duration": 9,
    "start_time": "2022-06-30T20:59:06.116Z"
   },
   {
    "duration": 9,
    "start_time": "2022-06-30T20:59:10.676Z"
   },
   {
    "duration": 1334,
    "start_time": "2022-07-01T11:05:43.196Z"
   },
   {
    "duration": 585,
    "start_time": "2022-07-01T11:05:44.532Z"
   },
   {
    "duration": 5,
    "start_time": "2022-07-01T11:05:45.118Z"
   },
   {
    "duration": 28,
    "start_time": "2022-07-01T11:05:45.125Z"
   },
   {
    "duration": 217,
    "start_time": "2022-07-01T11:05:45.154Z"
   },
   {
    "duration": 19,
    "start_time": "2022-07-01T11:05:45.373Z"
   },
   {
    "duration": 45,
    "start_time": "2022-07-01T11:05:45.393Z"
   },
   {
    "duration": 34,
    "start_time": "2022-07-01T11:05:45.440Z"
   },
   {
    "duration": 63,
    "start_time": "2022-07-01T11:05:45.476Z"
   },
   {
    "duration": 21,
    "start_time": "2022-07-01T11:05:45.542Z"
   },
   {
    "duration": 13,
    "start_time": "2022-07-01T11:05:45.565Z"
   },
   {
    "duration": 24,
    "start_time": "2022-07-01T11:05:45.580Z"
   },
   {
    "duration": 31,
    "start_time": "2022-07-01T11:05:45.605Z"
   },
   {
    "duration": 47,
    "start_time": "2022-07-01T11:05:45.637Z"
   },
   {
    "duration": 45,
    "start_time": "2022-07-01T11:05:45.686Z"
   },
   {
    "duration": 37,
    "start_time": "2022-07-01T11:05:45.733Z"
   },
   {
    "duration": 100,
    "start_time": "2022-07-01T11:05:45.771Z"
   },
   {
    "duration": 68,
    "start_time": "2022-07-01T11:05:45.874Z"
   },
   {
    "duration": 5,
    "start_time": "2022-07-01T11:05:45.943Z"
   },
   {
    "duration": 33,
    "start_time": "2022-07-01T11:05:45.949Z"
   },
   {
    "duration": 40,
    "start_time": "2022-07-01T11:05:45.984Z"
   },
   {
    "duration": 16,
    "start_time": "2022-07-01T11:05:46.026Z"
   },
   {
    "duration": 260,
    "start_time": "2022-07-01T11:05:46.044Z"
   },
   {
    "duration": 214,
    "start_time": "2022-07-01T11:05:46.305Z"
   },
   {
    "duration": 10,
    "start_time": "2022-07-01T11:05:46.520Z"
   },
   {
    "duration": 17,
    "start_time": "2022-07-01T11:05:46.532Z"
   },
   {
    "duration": 18,
    "start_time": "2022-07-01T11:05:46.550Z"
   },
   {
    "duration": 46,
    "start_time": "2022-07-01T11:05:46.571Z"
   },
   {
    "duration": 184,
    "start_time": "2022-07-01T11:05:46.619Z"
   },
   {
    "duration": 22,
    "start_time": "2022-07-01T11:05:46.805Z"
   },
   {
    "duration": 36,
    "start_time": "2022-07-01T11:05:46.829Z"
   },
   {
    "duration": 271,
    "start_time": "2022-07-01T11:05:46.866Z"
   },
   {
    "duration": 18,
    "start_time": "2022-07-01T11:05:47.139Z"
   },
   {
    "duration": 49,
    "start_time": "2022-07-01T11:05:47.158Z"
   },
   {
    "duration": 35,
    "start_time": "2022-07-01T11:05:47.209Z"
   },
   {
    "duration": 13,
    "start_time": "2022-07-01T11:05:47.246Z"
   },
   {
    "duration": 33,
    "start_time": "2022-07-01T11:05:47.261Z"
   },
   {
    "duration": 27,
    "start_time": "2022-07-01T11:05:47.296Z"
   },
   {
    "duration": 37,
    "start_time": "2022-07-01T11:05:47.324Z"
   },
   {
    "duration": 39,
    "start_time": "2022-07-01T11:05:47.363Z"
   },
   {
    "duration": 64,
    "start_time": "2022-07-01T11:05:47.404Z"
   },
   {
    "duration": 13,
    "start_time": "2022-07-01T11:05:47.469Z"
   },
   {
    "duration": 39,
    "start_time": "2022-07-01T11:05:47.483Z"
   },
   {
    "duration": 15,
    "start_time": "2022-07-01T11:05:47.524Z"
   },
   {
    "duration": 40,
    "start_time": "2022-07-01T11:05:47.541Z"
   },
   {
    "duration": 22,
    "start_time": "2022-07-01T11:05:47.582Z"
   },
   {
    "duration": 272,
    "start_time": "2022-07-01T11:05:47.606Z"
   },
   {
    "duration": 216,
    "start_time": "2022-07-01T11:05:47.879Z"
   },
   {
    "duration": 9,
    "start_time": "2022-07-01T11:05:48.097Z"
   },
   {
    "duration": 27,
    "start_time": "2022-07-01T11:05:48.108Z"
   },
   {
    "duration": 5,
    "start_time": "2022-07-01T11:05:48.136Z"
   },
   {
    "duration": 47,
    "start_time": "2022-07-01T11:05:48.142Z"
   },
   {
    "duration": 67,
    "start_time": "2022-07-01T11:05:48.192Z"
   },
   {
    "duration": 3,
    "start_time": "2022-07-01T11:05:48.260Z"
   },
   {
    "duration": 7,
    "start_time": "2022-07-01T11:05:48.265Z"
   },
   {
    "duration": 9,
    "start_time": "2022-07-01T11:05:48.273Z"
   },
   {
    "duration": 7,
    "start_time": "2022-07-01T11:05:48.284Z"
   },
   {
    "duration": 6,
    "start_time": "2022-07-01T11:05:48.293Z"
   },
   {
    "duration": 26,
    "start_time": "2022-07-01T11:05:48.301Z"
   },
   {
    "duration": 5,
    "start_time": "2022-07-01T11:05:48.328Z"
   },
   {
    "duration": 5,
    "start_time": "2022-07-01T11:05:48.335Z"
   },
   {
    "duration": 16,
    "start_time": "2022-07-01T11:05:48.341Z"
   },
   {
    "duration": 12,
    "start_time": "2022-07-01T11:05:48.359Z"
   },
   {
    "duration": 7,
    "start_time": "2022-07-01T11:05:48.372Z"
   },
   {
    "duration": 11,
    "start_time": "2022-07-01T11:05:48.380Z"
   },
   {
    "duration": 8,
    "start_time": "2022-07-01T11:05:48.392Z"
   },
   {
    "duration": 7,
    "start_time": "2022-07-01T11:05:48.401Z"
   },
   {
    "duration": 27,
    "start_time": "2022-07-01T11:05:48.409Z"
   },
   {
    "duration": 8,
    "start_time": "2022-07-01T11:05:48.438Z"
   },
   {
    "duration": 186,
    "start_time": "2022-07-01T11:12:11.888Z"
   },
   {
    "duration": 299,
    "start_time": "2022-07-01T11:12:31.548Z"
   },
   {
    "duration": 7,
    "start_time": "2022-07-01T11:24:13.046Z"
   },
   {
    "duration": 99,
    "start_time": "2022-07-01T11:25:20.420Z"
   },
   {
    "duration": 101,
    "start_time": "2022-07-01T11:27:05.246Z"
   },
   {
    "duration": 116,
    "start_time": "2022-07-01T11:27:14.655Z"
   },
   {
    "duration": 13,
    "start_time": "2022-07-01T11:28:45.076Z"
   },
   {
    "duration": 30,
    "start_time": "2022-07-01T11:28:53.596Z"
   },
   {
    "duration": 11,
    "start_time": "2022-07-01T11:31:13.796Z"
   },
   {
    "duration": 8,
    "start_time": "2022-07-01T11:33:40.037Z"
   },
   {
    "duration": 3,
    "start_time": "2022-07-01T11:34:28.858Z"
   },
   {
    "duration": 8,
    "start_time": "2022-07-01T11:36:00.218Z"
   },
   {
    "duration": 15,
    "start_time": "2022-07-01T11:37:50.916Z"
   },
   {
    "duration": 15,
    "start_time": "2022-07-01T11:39:13.227Z"
   },
   {
    "duration": 20,
    "start_time": "2022-07-01T11:40:05.249Z"
   },
   {
    "duration": 1115,
    "start_time": "2022-07-01T11:40:14.033Z"
   },
   {
    "duration": 233,
    "start_time": "2022-07-01T11:40:15.150Z"
   },
   {
    "duration": 4,
    "start_time": "2022-07-01T11:40:15.385Z"
   },
   {
    "duration": 6,
    "start_time": "2022-07-01T11:40:15.391Z"
   },
   {
    "duration": 219,
    "start_time": "2022-07-01T11:40:15.399Z"
   },
   {
    "duration": 22,
    "start_time": "2022-07-01T11:40:15.619Z"
   },
   {
    "duration": 28,
    "start_time": "2022-07-01T11:40:15.643Z"
   },
   {
    "duration": 59,
    "start_time": "2022-07-01T11:40:15.674Z"
   },
   {
    "duration": 36,
    "start_time": "2022-07-01T11:40:15.735Z"
   },
   {
    "duration": 9,
    "start_time": "2022-07-01T11:40:15.774Z"
   },
   {
    "duration": 12,
    "start_time": "2022-07-01T11:40:15.785Z"
   },
   {
    "duration": 6,
    "start_time": "2022-07-01T11:40:15.799Z"
   },
   {
    "duration": 34,
    "start_time": "2022-07-01T11:40:15.807Z"
   },
   {
    "duration": 17,
    "start_time": "2022-07-01T11:40:15.843Z"
   },
   {
    "duration": 10,
    "start_time": "2022-07-01T11:40:15.861Z"
   },
   {
    "duration": 25,
    "start_time": "2022-07-01T11:40:15.873Z"
   },
   {
    "duration": 76,
    "start_time": "2022-07-01T11:40:15.899Z"
   },
   {
    "duration": 62,
    "start_time": "2022-07-01T11:40:15.977Z"
   },
   {
    "duration": 4,
    "start_time": "2022-07-01T11:40:16.041Z"
   },
   {
    "duration": 17,
    "start_time": "2022-07-01T11:40:16.046Z"
   },
   {
    "duration": 29,
    "start_time": "2022-07-01T11:40:16.064Z"
   },
   {
    "duration": 5,
    "start_time": "2022-07-01T11:40:16.094Z"
   },
   {
    "duration": 231,
    "start_time": "2022-07-01T11:40:16.101Z"
   },
   {
    "duration": 215,
    "start_time": "2022-07-01T11:40:16.334Z"
   },
   {
    "duration": 5,
    "start_time": "2022-07-01T11:40:16.551Z"
   },
   {
    "duration": 7,
    "start_time": "2022-07-01T11:40:16.557Z"
   },
   {
    "duration": 10,
    "start_time": "2022-07-01T11:40:16.566Z"
   },
   {
    "duration": 13,
    "start_time": "2022-07-01T11:40:16.580Z"
   },
   {
    "duration": 174,
    "start_time": "2022-07-01T11:40:16.595Z"
   },
   {
    "duration": 12,
    "start_time": "2022-07-01T11:40:16.771Z"
   },
   {
    "duration": 22,
    "start_time": "2022-07-01T11:40:16.785Z"
   },
   {
    "duration": 273,
    "start_time": "2022-07-01T11:40:16.808Z"
   },
   {
    "duration": 19,
    "start_time": "2022-07-01T11:40:17.083Z"
   },
   {
    "duration": 35,
    "start_time": "2022-07-01T11:40:17.104Z"
   },
   {
    "duration": 36,
    "start_time": "2022-07-01T11:40:17.141Z"
   },
   {
    "duration": 13,
    "start_time": "2022-07-01T11:40:17.179Z"
   },
   {
    "duration": 24,
    "start_time": "2022-07-01T11:40:17.194Z"
   },
   {
    "duration": 13,
    "start_time": "2022-07-01T11:40:17.227Z"
   },
   {
    "duration": 12,
    "start_time": "2022-07-01T11:40:17.242Z"
   },
   {
    "duration": 19,
    "start_time": "2022-07-01T11:40:17.256Z"
   },
   {
    "duration": 43,
    "start_time": "2022-07-01T11:40:17.277Z"
   },
   {
    "duration": 12,
    "start_time": "2022-07-01T11:40:17.321Z"
   },
   {
    "duration": 23,
    "start_time": "2022-07-01T11:40:17.335Z"
   },
   {
    "duration": 4,
    "start_time": "2022-07-01T11:40:17.360Z"
   },
   {
    "duration": 11,
    "start_time": "2022-07-01T11:40:17.365Z"
   },
   {
    "duration": 4,
    "start_time": "2022-07-01T11:40:17.378Z"
   },
   {
    "duration": 284,
    "start_time": "2022-07-01T11:40:17.384Z"
   },
   {
    "duration": 226,
    "start_time": "2022-07-01T11:40:17.670Z"
   },
   {
    "duration": 12,
    "start_time": "2022-07-01T11:40:17.898Z"
   },
   {
    "duration": 24,
    "start_time": "2022-07-01T11:40:17.912Z"
   },
   {
    "duration": 5,
    "start_time": "2022-07-01T11:40:17.938Z"
   },
   {
    "duration": 50,
    "start_time": "2022-07-01T11:40:17.945Z"
   },
   {
    "duration": 67,
    "start_time": "2022-07-01T11:40:17.997Z"
   },
   {
    "duration": 3,
    "start_time": "2022-07-01T11:40:18.066Z"
   },
   {
    "duration": 11,
    "start_time": "2022-07-01T11:40:18.071Z"
   },
   {
    "duration": 22,
    "start_time": "2022-07-01T11:40:18.083Z"
   },
   {
    "duration": 11,
    "start_time": "2022-07-01T11:40:18.107Z"
   },
   {
    "duration": 9,
    "start_time": "2022-07-01T11:40:18.119Z"
   },
   {
    "duration": 6,
    "start_time": "2022-07-01T11:40:18.130Z"
   },
   {
    "duration": 10,
    "start_time": "2022-07-01T11:40:18.137Z"
   },
   {
    "duration": 27,
    "start_time": "2022-07-01T11:40:18.148Z"
   },
   {
    "duration": 11,
    "start_time": "2022-07-01T11:40:18.177Z"
   },
   {
    "duration": 10,
    "start_time": "2022-07-01T11:40:18.190Z"
   },
   {
    "duration": 10,
    "start_time": "2022-07-01T11:40:18.201Z"
   },
   {
    "duration": 8,
    "start_time": "2022-07-01T11:40:18.213Z"
   },
   {
    "duration": 16,
    "start_time": "2022-07-01T11:40:18.222Z"
   },
   {
    "duration": 11,
    "start_time": "2022-07-01T11:40:18.239Z"
   },
   {
    "duration": 21,
    "start_time": "2022-07-01T11:40:18.252Z"
   },
   {
    "duration": 9,
    "start_time": "2022-07-01T11:40:18.274Z"
   },
   {
    "duration": 17,
    "start_time": "2022-07-01T11:40:18.285Z"
   },
   {
    "duration": 3,
    "start_time": "2022-07-01T11:40:18.303Z"
   },
   {
    "duration": 14,
    "start_time": "2022-07-01T11:40:18.307Z"
   },
   {
    "duration": 9,
    "start_time": "2022-07-01T11:41:04.493Z"
   },
   {
    "duration": 8,
    "start_time": "2022-07-01T11:43:03.775Z"
   },
   {
    "duration": 4,
    "start_time": "2022-07-01T11:44:39.093Z"
   },
   {
    "duration": 4,
    "start_time": "2022-07-01T11:44:43.693Z"
   },
   {
    "duration": 13,
    "start_time": "2022-07-01T11:44:52.576Z"
   },
   {
    "duration": 13,
    "start_time": "2022-07-01T11:45:10.615Z"
   },
   {
    "duration": 56,
    "start_time": "2022-07-01T11:45:29.705Z"
   },
   {
    "duration": 11,
    "start_time": "2022-07-01T11:45:33.536Z"
   },
   {
    "duration": 7,
    "start_time": "2022-07-01T11:45:35.534Z"
   },
   {
    "duration": 14,
    "start_time": "2022-07-01T11:45:49.943Z"
   },
   {
    "duration": 18,
    "start_time": "2022-07-01T11:45:50.663Z"
   },
   {
    "duration": 32,
    "start_time": "2022-07-01T11:46:01.346Z"
   },
   {
    "duration": 16,
    "start_time": "2022-07-01T11:46:01.955Z"
   },
   {
    "duration": 52,
    "start_time": "2022-07-01T11:46:13.286Z"
   },
   {
    "duration": 45,
    "start_time": "2022-07-01T11:46:29.703Z"
   },
   {
    "duration": 22,
    "start_time": "2022-07-01T11:46:47.953Z"
   },
   {
    "duration": 117,
    "start_time": "2022-07-01T11:46:58.897Z"
   },
   {
    "duration": 22,
    "start_time": "2022-07-01T11:47:10.704Z"
   },
   {
    "duration": 24,
    "start_time": "2022-07-01T12:02:25.613Z"
   },
   {
    "duration": 9,
    "start_time": "2022-07-01T12:02:42.275Z"
   },
   {
    "duration": 25,
    "start_time": "2022-07-01T12:03:00.266Z"
   },
   {
    "duration": 202,
    "start_time": "2022-07-01T12:09:52.797Z"
   },
   {
    "duration": 258,
    "start_time": "2022-07-01T12:10:04.609Z"
   },
   {
    "duration": 207,
    "start_time": "2022-07-01T12:10:13.158Z"
   },
   {
    "duration": 198,
    "start_time": "2022-07-01T12:13:37.047Z"
   },
   {
    "duration": 5,
    "start_time": "2022-07-01T12:14:03.622Z"
   },
   {
    "duration": 41,
    "start_time": "2022-07-01T12:16:26.099Z"
   },
   {
    "duration": 44,
    "start_time": "2022-07-01T12:17:34.507Z"
   },
   {
    "duration": 44,
    "start_time": "2022-07-01T12:18:00.898Z"
   },
   {
    "duration": 4,
    "start_time": "2022-07-01T12:25:49.219Z"
   },
   {
    "duration": 1311,
    "start_time": "2022-07-02T10:45:19.315Z"
   },
   {
    "duration": 579,
    "start_time": "2022-07-02T10:45:20.630Z"
   },
   {
    "duration": 5,
    "start_time": "2022-07-02T10:45:21.211Z"
   },
   {
    "duration": 7,
    "start_time": "2022-07-02T10:45:21.218Z"
   },
   {
    "duration": 233,
    "start_time": "2022-07-02T10:45:21.227Z"
   },
   {
    "duration": 16,
    "start_time": "2022-07-02T10:45:21.463Z"
   },
   {
    "duration": 44,
    "start_time": "2022-07-02T10:45:21.481Z"
   },
   {
    "duration": 32,
    "start_time": "2022-07-02T10:45:21.527Z"
   },
   {
    "duration": 35,
    "start_time": "2022-07-02T10:45:21.560Z"
   },
   {
    "duration": 27,
    "start_time": "2022-07-02T10:45:21.597Z"
   },
   {
    "duration": 2,
    "start_time": "2022-07-02T10:45:21.625Z"
   },
   {
    "duration": 6,
    "start_time": "2022-07-02T10:45:21.629Z"
   },
   {
    "duration": 17,
    "start_time": "2022-07-02T10:45:21.636Z"
   },
   {
    "duration": 29,
    "start_time": "2022-07-02T10:45:21.656Z"
   },
   {
    "duration": 12,
    "start_time": "2022-07-02T10:45:21.687Z"
   },
   {
    "duration": 23,
    "start_time": "2022-07-02T10:45:21.701Z"
   },
   {
    "duration": 65,
    "start_time": "2022-07-02T10:45:21.725Z"
   },
   {
    "duration": 67,
    "start_time": "2022-07-02T10:45:21.792Z"
   },
   {
    "duration": 5,
    "start_time": "2022-07-02T10:45:21.861Z"
   },
   {
    "duration": 19,
    "start_time": "2022-07-02T10:45:21.868Z"
   },
   {
    "duration": 36,
    "start_time": "2022-07-02T10:45:21.889Z"
   },
   {
    "duration": 6,
    "start_time": "2022-07-02T10:45:21.927Z"
   },
   {
    "duration": 221,
    "start_time": "2022-07-02T10:45:21.934Z"
   },
   {
    "duration": 206,
    "start_time": "2022-07-02T10:45:22.157Z"
   },
   {
    "duration": 5,
    "start_time": "2022-07-02T10:45:22.365Z"
   },
   {
    "duration": 7,
    "start_time": "2022-07-02T10:45:22.372Z"
   },
   {
    "duration": 9,
    "start_time": "2022-07-02T10:45:22.380Z"
   },
   {
    "duration": 34,
    "start_time": "2022-07-02T10:45:22.390Z"
   },
   {
    "duration": 165,
    "start_time": "2022-07-02T10:45:22.426Z"
   },
   {
    "duration": 16,
    "start_time": "2022-07-02T10:45:22.593Z"
   },
   {
    "duration": 27,
    "start_time": "2022-07-02T10:45:22.611Z"
   },
   {
    "duration": 248,
    "start_time": "2022-07-02T10:45:22.639Z"
   },
   {
    "duration": 18,
    "start_time": "2022-07-02T10:45:22.889Z"
   },
   {
    "duration": 52,
    "start_time": "2022-07-02T10:45:22.909Z"
   },
   {
    "duration": 42,
    "start_time": "2022-07-02T10:45:22.962Z"
   },
   {
    "duration": 24,
    "start_time": "2022-07-02T10:45:23.007Z"
   },
   {
    "duration": 9,
    "start_time": "2022-07-02T10:45:23.033Z"
   },
   {
    "duration": 20,
    "start_time": "2022-07-02T10:45:23.044Z"
   },
   {
    "duration": 4,
    "start_time": "2022-07-02T10:45:23.065Z"
   },
   {
    "duration": 10,
    "start_time": "2022-07-02T10:45:23.071Z"
   },
   {
    "duration": 56,
    "start_time": "2022-07-02T10:45:23.085Z"
   },
   {
    "duration": 13,
    "start_time": "2022-07-02T10:45:23.142Z"
   },
   {
    "duration": 16,
    "start_time": "2022-07-02T10:45:23.157Z"
   },
   {
    "duration": 5,
    "start_time": "2022-07-02T10:45:23.174Z"
   },
   {
    "duration": 11,
    "start_time": "2022-07-02T10:45:23.180Z"
   },
   {
    "duration": 4,
    "start_time": "2022-07-02T10:45:23.193Z"
   },
   {
    "duration": 280,
    "start_time": "2022-07-02T10:45:23.199Z"
   },
   {
    "duration": 208,
    "start_time": "2022-07-02T10:45:23.480Z"
   },
   {
    "duration": 9,
    "start_time": "2022-07-02T10:45:23.689Z"
   },
   {
    "duration": 23,
    "start_time": "2022-07-02T10:45:23.700Z"
   },
   {
    "duration": 5,
    "start_time": "2022-07-02T10:45:23.724Z"
   },
   {
    "duration": 43,
    "start_time": "2022-07-02T10:45:23.731Z"
   },
   {
    "duration": 75,
    "start_time": "2022-07-02T10:45:23.776Z"
   },
   {
    "duration": 3,
    "start_time": "2022-07-02T10:45:23.852Z"
   },
   {
    "duration": 6,
    "start_time": "2022-07-02T10:45:23.857Z"
   },
   {
    "duration": 7,
    "start_time": "2022-07-02T10:45:23.864Z"
   },
   {
    "duration": 7,
    "start_time": "2022-07-02T10:45:23.873Z"
   },
   {
    "duration": 6,
    "start_time": "2022-07-02T10:45:23.882Z"
   },
   {
    "duration": 5,
    "start_time": "2022-07-02T10:45:23.889Z"
   },
   {
    "duration": 28,
    "start_time": "2022-07-02T10:45:23.896Z"
   },
   {
    "duration": 4,
    "start_time": "2022-07-02T10:45:23.926Z"
   },
   {
    "duration": 7,
    "start_time": "2022-07-02T10:45:23.932Z"
   },
   {
    "duration": 6,
    "start_time": "2022-07-02T10:45:23.940Z"
   },
   {
    "duration": 5,
    "start_time": "2022-07-02T10:45:23.948Z"
   },
   {
    "duration": 7,
    "start_time": "2022-07-02T10:45:23.955Z"
   },
   {
    "duration": 9,
    "start_time": "2022-07-02T10:45:23.964Z"
   },
   {
    "duration": 6,
    "start_time": "2022-07-02T10:45:23.975Z"
   },
   {
    "duration": 51,
    "start_time": "2022-07-02T10:45:23.983Z"
   },
   {
    "duration": 12,
    "start_time": "2022-07-02T10:45:24.036Z"
   },
   {
    "duration": 20,
    "start_time": "2022-07-02T10:45:24.049Z"
   },
   {
    "duration": 3,
    "start_time": "2022-07-02T10:45:24.072Z"
   },
   {
    "duration": 11,
    "start_time": "2022-07-02T10:45:24.077Z"
   },
   {
    "duration": 34,
    "start_time": "2022-07-02T10:45:24.089Z"
   },
   {
    "duration": 7,
    "start_time": "2022-07-02T10:45:24.125Z"
   },
   {
    "duration": 33,
    "start_time": "2022-07-02T10:45:24.134Z"
   },
   {
    "duration": 57,
    "start_time": "2022-07-02T10:45:24.169Z"
   },
   {
    "duration": 4,
    "start_time": "2022-07-02T10:45:24.228Z"
   },
   {
    "duration": 205,
    "start_time": "2022-07-02T10:45:24.233Z"
   },
   {
    "duration": 271,
    "start_time": "2022-07-02T10:45:24.440Z"
   },
   {
    "duration": 13,
    "start_time": "2022-07-02T10:45:24.712Z"
   },
   {
    "duration": 1138,
    "start_time": "2022-07-02T10:59:57.537Z"
   },
   {
    "duration": 240,
    "start_time": "2022-07-02T10:59:58.677Z"
   },
   {
    "duration": 5,
    "start_time": "2022-07-02T10:59:58.919Z"
   },
   {
    "duration": 7,
    "start_time": "2022-07-02T10:59:58.926Z"
   },
   {
    "duration": 241,
    "start_time": "2022-07-02T10:59:58.936Z"
   },
   {
    "duration": 19,
    "start_time": "2022-07-02T10:59:59.179Z"
   },
   {
    "duration": 47,
    "start_time": "2022-07-02T10:59:59.200Z"
   },
   {
    "duration": 46,
    "start_time": "2022-07-02T10:59:59.249Z"
   },
   {
    "duration": 52,
    "start_time": "2022-07-02T10:59:59.296Z"
   },
   {
    "duration": 11,
    "start_time": "2022-07-02T10:59:59.350Z"
   },
   {
    "duration": 15,
    "start_time": "2022-07-02T10:59:59.362Z"
   },
   {
    "duration": 13,
    "start_time": "2022-07-02T10:59:59.379Z"
   },
   {
    "duration": 21,
    "start_time": "2022-07-02T10:59:59.394Z"
   },
   {
    "duration": 20,
    "start_time": "2022-07-02T10:59:59.418Z"
   },
   {
    "duration": 18,
    "start_time": "2022-07-02T10:59:59.439Z"
   },
   {
    "duration": 21,
    "start_time": "2022-07-02T10:59:59.459Z"
   },
   {
    "duration": 92,
    "start_time": "2022-07-02T10:59:59.481Z"
   },
   {
    "duration": 60,
    "start_time": "2022-07-02T10:59:59.575Z"
   },
   {
    "duration": 4,
    "start_time": "2022-07-02T10:59:59.636Z"
   },
   {
    "duration": 15,
    "start_time": "2022-07-02T10:59:59.641Z"
   },
   {
    "duration": 31,
    "start_time": "2022-07-02T10:59:59.658Z"
   },
   {
    "duration": 4,
    "start_time": "2022-07-02T10:59:59.691Z"
   },
   {
    "duration": 228,
    "start_time": "2022-07-02T10:59:59.697Z"
   },
   {
    "duration": 235,
    "start_time": "2022-07-02T10:59:59.927Z"
   },
   {
    "duration": 6,
    "start_time": "2022-07-02T11:00:00.164Z"
   },
   {
    "duration": 11,
    "start_time": "2022-07-02T11:00:00.173Z"
   },
   {
    "duration": 23,
    "start_time": "2022-07-02T11:00:00.186Z"
   },
   {
    "duration": 21,
    "start_time": "2022-07-02T11:00:00.211Z"
   },
   {
    "duration": 153,
    "start_time": "2022-07-02T11:00:00.234Z"
   },
   {
    "duration": 14,
    "start_time": "2022-07-02T11:00:00.389Z"
   },
   {
    "duration": 42,
    "start_time": "2022-07-02T11:00:00.405Z"
   },
   {
    "duration": 274,
    "start_time": "2022-07-02T11:00:00.449Z"
   },
   {
    "duration": 19,
    "start_time": "2022-07-02T11:00:00.725Z"
   },
   {
    "duration": 58,
    "start_time": "2022-07-02T11:00:00.745Z"
   },
   {
    "duration": 38,
    "start_time": "2022-07-02T11:00:00.804Z"
   },
   {
    "duration": 13,
    "start_time": "2022-07-02T11:00:00.843Z"
   },
   {
    "duration": 24,
    "start_time": "2022-07-02T11:00:00.857Z"
   },
   {
    "duration": 12,
    "start_time": "2022-07-02T11:00:00.882Z"
   },
   {
    "duration": 20,
    "start_time": "2022-07-02T11:00:00.896Z"
   },
   {
    "duration": 16,
    "start_time": "2022-07-02T11:00:00.918Z"
   },
   {
    "duration": 46,
    "start_time": "2022-07-02T11:00:00.938Z"
   },
   {
    "duration": 12,
    "start_time": "2022-07-02T11:00:00.986Z"
   },
   {
    "duration": 41,
    "start_time": "2022-07-02T11:00:00.999Z"
   },
   {
    "duration": 6,
    "start_time": "2022-07-02T11:00:01.041Z"
   },
   {
    "duration": 40,
    "start_time": "2022-07-02T11:00:01.049Z"
   },
   {
    "duration": 22,
    "start_time": "2022-07-02T11:00:01.091Z"
   },
   {
    "duration": 286,
    "start_time": "2022-07-02T11:00:01.115Z"
   },
   {
    "duration": 234,
    "start_time": "2022-07-02T11:00:01.403Z"
   },
   {
    "duration": 11,
    "start_time": "2022-07-02T11:00:01.638Z"
   },
   {
    "duration": 120,
    "start_time": "2022-07-02T11:00:01.650Z"
   },
   {
    "duration": 29,
    "start_time": "2022-07-02T11:00:01.771Z"
   },
   {
    "duration": 80,
    "start_time": "2022-07-02T11:00:01.802Z"
   },
   {
    "duration": 90,
    "start_time": "2022-07-02T11:00:01.884Z"
   },
   {
    "duration": 40,
    "start_time": "2022-07-02T11:00:01.975Z"
   },
   {
    "duration": 88,
    "start_time": "2022-07-02T11:00:02.017Z"
   },
   {
    "duration": 15,
    "start_time": "2022-07-02T11:00:02.106Z"
   },
   {
    "duration": 29,
    "start_time": "2022-07-02T11:00:02.122Z"
   },
   {
    "duration": 50,
    "start_time": "2022-07-02T11:00:02.153Z"
   },
   {
    "duration": 43,
    "start_time": "2022-07-02T11:00:02.204Z"
   },
   {
    "duration": 33,
    "start_time": "2022-07-02T11:00:02.249Z"
   },
   {
    "duration": 51,
    "start_time": "2022-07-02T11:00:02.283Z"
   },
   {
    "duration": 26,
    "start_time": "2022-07-02T11:00:02.336Z"
   },
   {
    "duration": 22,
    "start_time": "2022-07-02T11:00:02.364Z"
   },
   {
    "duration": 29,
    "start_time": "2022-07-02T11:00:02.388Z"
   },
   {
    "duration": 43,
    "start_time": "2022-07-02T11:00:02.419Z"
   },
   {
    "duration": 80,
    "start_time": "2022-07-02T11:00:02.464Z"
   },
   {
    "duration": 42,
    "start_time": "2022-07-02T11:00:02.547Z"
   },
   {
    "duration": 43,
    "start_time": "2022-07-02T11:00:02.591Z"
   },
   {
    "duration": 31,
    "start_time": "2022-07-02T11:00:02.636Z"
   },
   {
    "duration": 30,
    "start_time": "2022-07-02T11:00:02.669Z"
   },
   {
    "duration": 17,
    "start_time": "2022-07-02T11:00:02.700Z"
   },
   {
    "duration": 42,
    "start_time": "2022-07-02T11:00:02.718Z"
   },
   {
    "duration": 23,
    "start_time": "2022-07-02T11:00:02.762Z"
   },
   {
    "duration": 32,
    "start_time": "2022-07-02T11:00:02.787Z"
   },
   {
    "duration": 29,
    "start_time": "2022-07-02T11:00:02.820Z"
   },
   {
    "duration": 37,
    "start_time": "2022-07-02T11:00:02.851Z"
   },
   {
    "duration": 31,
    "start_time": "2022-07-02T11:00:02.890Z"
   },
   {
    "duration": 219,
    "start_time": "2022-07-02T11:00:02.923Z"
   },
   {
    "duration": 285,
    "start_time": "2022-07-02T11:00:03.144Z"
   },
   {
    "duration": 4,
    "start_time": "2022-07-02T11:00:03.431Z"
   },
   {
    "duration": 12,
    "start_time": "2022-07-02T11:02:49.729Z"
   },
   {
    "duration": 21,
    "start_time": "2022-07-02T11:03:09.523Z"
   },
   {
    "duration": 33,
    "start_time": "2022-07-02T11:04:28.952Z"
   },
   {
    "duration": 21,
    "start_time": "2022-07-02T11:04:54.539Z"
   },
   {
    "duration": 28,
    "start_time": "2022-07-02T11:05:35.685Z"
   },
   {
    "duration": 20,
    "start_time": "2022-07-02T11:07:36.884Z"
   },
   {
    "duration": 3,
    "start_time": "2022-07-02T11:07:36.906Z"
   },
   {
    "duration": 11,
    "start_time": "2022-07-02T11:07:36.911Z"
   },
   {
    "duration": 9,
    "start_time": "2022-07-02T11:07:36.924Z"
   },
   {
    "duration": 9,
    "start_time": "2022-07-02T11:07:36.934Z"
   },
   {
    "duration": 30,
    "start_time": "2022-07-02T11:07:36.945Z"
   },
   {
    "duration": 58,
    "start_time": "2022-07-02T11:07:36.977Z"
   },
   {
    "duration": 4,
    "start_time": "2022-07-02T11:07:37.037Z"
   },
   {
    "duration": 206,
    "start_time": "2022-07-02T11:07:37.043Z"
   },
   {
    "duration": 200,
    "start_time": "2022-07-02T11:07:37.252Z"
   },
   {
    "duration": 5,
    "start_time": "2022-07-02T11:07:37.453Z"
   },
   {
    "duration": 1070,
    "start_time": "2022-07-02T11:11:04.248Z"
   },
   {
    "duration": 223,
    "start_time": "2022-07-02T11:11:05.320Z"
   },
   {
    "duration": 4,
    "start_time": "2022-07-02T11:11:05.545Z"
   },
   {
    "duration": 6,
    "start_time": "2022-07-02T11:11:05.551Z"
   },
   {
    "duration": 216,
    "start_time": "2022-07-02T11:11:05.559Z"
   },
   {
    "duration": 18,
    "start_time": "2022-07-02T11:11:05.777Z"
   },
   {
    "duration": 39,
    "start_time": "2022-07-02T11:11:05.796Z"
   },
   {
    "duration": 32,
    "start_time": "2022-07-02T11:11:05.837Z"
   },
   {
    "duration": 36,
    "start_time": "2022-07-02T11:11:05.870Z"
   },
   {
    "duration": 10,
    "start_time": "2022-07-02T11:11:05.922Z"
   },
   {
    "duration": 6,
    "start_time": "2022-07-02T11:11:05.933Z"
   },
   {
    "duration": 8,
    "start_time": "2022-07-02T11:11:05.941Z"
   },
   {
    "duration": 23,
    "start_time": "2022-07-02T11:11:05.950Z"
   },
   {
    "duration": 17,
    "start_time": "2022-07-02T11:11:05.976Z"
   },
   {
    "duration": 26,
    "start_time": "2022-07-02T11:11:05.994Z"
   },
   {
    "duration": 22,
    "start_time": "2022-07-02T11:11:06.021Z"
   },
   {
    "duration": 69,
    "start_time": "2022-07-02T11:11:06.045Z"
   },
   {
    "duration": 55,
    "start_time": "2022-07-02T11:11:06.116Z"
   },
   {
    "duration": 4,
    "start_time": "2022-07-02T11:11:06.173Z"
   },
   {
    "duration": 12,
    "start_time": "2022-07-02T11:11:06.179Z"
   },
   {
    "duration": 36,
    "start_time": "2022-07-02T11:11:06.193Z"
   },
   {
    "duration": 5,
    "start_time": "2022-07-02T11:11:06.231Z"
   },
   {
    "duration": 211,
    "start_time": "2022-07-02T11:11:06.237Z"
   },
   {
    "duration": 209,
    "start_time": "2022-07-02T11:11:06.450Z"
   },
   {
    "duration": 6,
    "start_time": "2022-07-02T11:11:06.661Z"
   },
   {
    "duration": 10,
    "start_time": "2022-07-02T11:11:06.668Z"
   },
   {
    "duration": 11,
    "start_time": "2022-07-02T11:11:06.679Z"
   },
   {
    "duration": 12,
    "start_time": "2022-07-02T11:11:06.692Z"
   },
   {
    "duration": 152,
    "start_time": "2022-07-02T11:11:06.706Z"
   },
   {
    "duration": 13,
    "start_time": "2022-07-02T11:11:06.860Z"
   },
   {
    "duration": 14,
    "start_time": "2022-07-02T11:11:06.875Z"
   },
   {
    "duration": 277,
    "start_time": "2022-07-02T11:11:06.891Z"
   },
   {
    "duration": 20,
    "start_time": "2022-07-02T11:11:07.169Z"
   },
   {
    "duration": 42,
    "start_time": "2022-07-02T11:11:07.191Z"
   },
   {
    "duration": 37,
    "start_time": "2022-07-02T11:11:07.234Z"
   },
   {
    "duration": 15,
    "start_time": "2022-07-02T11:11:07.273Z"
   },
   {
    "duration": 33,
    "start_time": "2022-07-02T11:11:07.290Z"
   },
   {
    "duration": 5,
    "start_time": "2022-07-02T11:11:07.325Z"
   },
   {
    "duration": 9,
    "start_time": "2022-07-02T11:11:07.332Z"
   },
   {
    "duration": 11,
    "start_time": "2022-07-02T11:11:07.343Z"
   },
   {
    "duration": 46,
    "start_time": "2022-07-02T11:11:07.360Z"
   },
   {
    "duration": 13,
    "start_time": "2022-07-02T11:11:07.422Z"
   },
   {
    "duration": 16,
    "start_time": "2022-07-02T11:11:07.437Z"
   },
   {
    "duration": 5,
    "start_time": "2022-07-02T11:11:07.455Z"
   },
   {
    "duration": 11,
    "start_time": "2022-07-02T11:11:07.461Z"
   },
   {
    "duration": 4,
    "start_time": "2022-07-02T11:11:07.474Z"
   },
   {
    "duration": 299,
    "start_time": "2022-07-02T11:11:07.480Z"
   },
   {
    "duration": 223,
    "start_time": "2022-07-02T11:11:07.781Z"
   },
   {
    "duration": 24,
    "start_time": "2022-07-02T11:11:08.005Z"
   },
   {
    "duration": 12,
    "start_time": "2022-07-02T11:11:08.031Z"
   },
   {
    "duration": 7,
    "start_time": "2022-07-02T11:11:08.044Z"
   },
   {
    "duration": 50,
    "start_time": "2022-07-02T11:11:08.053Z"
   },
   {
    "duration": 73,
    "start_time": "2022-07-02T11:11:08.104Z"
   },
   {
    "duration": 2,
    "start_time": "2022-07-02T11:11:08.179Z"
   },
   {
    "duration": 6,
    "start_time": "2022-07-02T11:11:08.182Z"
   },
   {
    "duration": 7,
    "start_time": "2022-07-02T11:11:08.190Z"
   },
   {
    "duration": 5,
    "start_time": "2022-07-02T11:11:08.198Z"
   },
   {
    "duration": 4,
    "start_time": "2022-07-02T11:11:08.224Z"
   },
   {
    "duration": 7,
    "start_time": "2022-07-02T11:11:08.229Z"
   },
   {
    "duration": 9,
    "start_time": "2022-07-02T11:11:08.238Z"
   },
   {
    "duration": 14,
    "start_time": "2022-07-02T11:11:08.249Z"
   },
   {
    "duration": 13,
    "start_time": "2022-07-02T11:11:08.264Z"
   },
   {
    "duration": 5,
    "start_time": "2022-07-02T11:11:08.278Z"
   },
   {
    "duration": 7,
    "start_time": "2022-07-02T11:11:08.284Z"
   },
   {
    "duration": 5,
    "start_time": "2022-07-02T11:11:08.292Z"
   },
   {
    "duration": 6,
    "start_time": "2022-07-02T11:11:08.298Z"
   },
   {
    "duration": 20,
    "start_time": "2022-07-02T11:11:08.305Z"
   },
   {
    "duration": 17,
    "start_time": "2022-07-02T11:11:08.327Z"
   },
   {
    "duration": 8,
    "start_time": "2022-07-02T11:11:08.346Z"
   },
   {
    "duration": 19,
    "start_time": "2022-07-02T11:11:08.355Z"
   },
   {
    "duration": 3,
    "start_time": "2022-07-02T11:11:08.376Z"
   },
   {
    "duration": 11,
    "start_time": "2022-07-02T11:11:08.381Z"
   },
   {
    "duration": 32,
    "start_time": "2022-07-02T11:11:08.393Z"
   },
   {
    "duration": 13,
    "start_time": "2022-07-02T11:11:08.426Z"
   },
   {
    "duration": 30,
    "start_time": "2022-07-02T11:11:08.440Z"
   },
   {
    "duration": 27,
    "start_time": "2022-07-02T11:11:08.471Z"
   },
   {
    "duration": 53,
    "start_time": "2022-07-02T11:11:08.500Z"
   },
   {
    "duration": 4,
    "start_time": "2022-07-02T11:11:08.555Z"
   },
   {
    "duration": 203,
    "start_time": "2022-07-02T11:11:08.560Z"
   },
   {
    "duration": 276,
    "start_time": "2022-07-02T11:11:08.764Z"
   },
   {
    "duration": 5,
    "start_time": "2022-07-02T11:11:09.042Z"
   },
   {
    "duration": 40,
    "start_time": "2022-07-02T11:34:01.466Z"
   },
   {
    "duration": 31,
    "start_time": "2022-07-02T11:34:08.320Z"
   },
   {
    "duration": 4,
    "start_time": "2022-07-02T11:34:47.830Z"
   },
   {
    "duration": 4,
    "start_time": "2022-07-02T11:34:59.137Z"
   },
   {
    "duration": 31,
    "start_time": "2022-07-02T11:35:43.870Z"
   },
   {
    "duration": 887,
    "start_time": "2022-07-02T11:40:23.312Z"
   },
   {
    "duration": 20,
    "start_time": "2022-07-02T11:40:34.370Z"
   },
   {
    "duration": 1148,
    "start_time": "2022-07-02T11:40:45.016Z"
   },
   {
    "duration": 234,
    "start_time": "2022-07-02T11:40:46.166Z"
   },
   {
    "duration": 5,
    "start_time": "2022-07-02T11:40:46.404Z"
   },
   {
    "duration": 7,
    "start_time": "2022-07-02T11:40:46.411Z"
   },
   {
    "duration": 240,
    "start_time": "2022-07-02T11:40:46.419Z"
   },
   {
    "duration": 19,
    "start_time": "2022-07-02T11:40:46.660Z"
   },
   {
    "duration": 45,
    "start_time": "2022-07-02T11:40:46.681Z"
   },
   {
    "duration": 35,
    "start_time": "2022-07-02T11:40:46.728Z"
   },
   {
    "duration": 36,
    "start_time": "2022-07-02T11:40:46.766Z"
   },
   {
    "duration": 10,
    "start_time": "2022-07-02T11:40:46.823Z"
   },
   {
    "duration": 2,
    "start_time": "2022-07-02T11:40:46.835Z"
   },
   {
    "duration": 9,
    "start_time": "2022-07-02T11:40:46.839Z"
   },
   {
    "duration": 17,
    "start_time": "2022-07-02T11:40:46.850Z"
   },
   {
    "duration": 20,
    "start_time": "2022-07-02T11:40:46.869Z"
   },
   {
    "duration": 28,
    "start_time": "2022-07-02T11:40:46.891Z"
   },
   {
    "duration": 25,
    "start_time": "2022-07-02T11:40:46.921Z"
   },
   {
    "duration": 75,
    "start_time": "2022-07-02T11:40:46.948Z"
   },
   {
    "duration": 59,
    "start_time": "2022-07-02T11:40:47.025Z"
   },
   {
    "duration": 4,
    "start_time": "2022-07-02T11:40:47.086Z"
   },
   {
    "duration": 15,
    "start_time": "2022-07-02T11:40:47.091Z"
   },
   {
    "duration": 29,
    "start_time": "2022-07-02T11:40:47.124Z"
   },
   {
    "duration": 6,
    "start_time": "2022-07-02T11:40:47.154Z"
   },
   {
    "duration": 236,
    "start_time": "2022-07-02T11:40:47.162Z"
   },
   {
    "duration": 212,
    "start_time": "2022-07-02T11:40:47.400Z"
   },
   {
    "duration": 12,
    "start_time": "2022-07-02T11:40:47.613Z"
   },
   {
    "duration": 8,
    "start_time": "2022-07-02T11:40:47.627Z"
   },
   {
    "duration": 7,
    "start_time": "2022-07-02T11:40:47.640Z"
   },
   {
    "duration": 13,
    "start_time": "2022-07-02T11:40:47.648Z"
   },
   {
    "duration": 162,
    "start_time": "2022-07-02T11:40:47.662Z"
   },
   {
    "duration": 13,
    "start_time": "2022-07-02T11:40:47.827Z"
   },
   {
    "duration": 15,
    "start_time": "2022-07-02T11:40:47.842Z"
   },
   {
    "duration": 289,
    "start_time": "2022-07-02T11:40:47.858Z"
   },
   {
    "duration": 28,
    "start_time": "2022-07-02T11:40:48.150Z"
   },
   {
    "duration": 44,
    "start_time": "2022-07-02T11:40:48.180Z"
   },
   {
    "duration": 35,
    "start_time": "2022-07-02T11:40:48.225Z"
   },
   {
    "duration": 12,
    "start_time": "2022-07-02T11:40:48.261Z"
   },
   {
    "duration": 10,
    "start_time": "2022-07-02T11:40:48.274Z"
   },
   {
    "duration": 12,
    "start_time": "2022-07-02T11:40:48.285Z"
   },
   {
    "duration": 25,
    "start_time": "2022-07-02T11:40:48.299Z"
   },
   {
    "duration": 11,
    "start_time": "2022-07-02T11:40:48.326Z"
   },
   {
    "duration": 62,
    "start_time": "2022-07-02T11:40:48.339Z"
   },
   {
    "duration": 12,
    "start_time": "2022-07-02T11:40:48.403Z"
   },
   {
    "duration": 25,
    "start_time": "2022-07-02T11:40:48.416Z"
   },
   {
    "duration": 6,
    "start_time": "2022-07-02T11:40:48.443Z"
   },
   {
    "duration": 19,
    "start_time": "2022-07-02T11:40:48.451Z"
   },
   {
    "duration": 13,
    "start_time": "2022-07-02T11:40:48.472Z"
   },
   {
    "duration": 266,
    "start_time": "2022-07-02T11:40:48.487Z"
   },
   {
    "duration": 222,
    "start_time": "2022-07-02T11:40:48.754Z"
   },
   {
    "duration": 10,
    "start_time": "2022-07-02T11:40:48.978Z"
   },
   {
    "duration": 33,
    "start_time": "2022-07-02T11:40:48.990Z"
   },
   {
    "duration": 6,
    "start_time": "2022-07-02T11:40:49.025Z"
   },
   {
    "duration": 55,
    "start_time": "2022-07-02T11:40:49.033Z"
   },
   {
    "duration": 61,
    "start_time": "2022-07-02T11:40:49.090Z"
   },
   {
    "duration": 3,
    "start_time": "2022-07-02T11:40:49.153Z"
   },
   {
    "duration": 5,
    "start_time": "2022-07-02T11:40:49.158Z"
   },
   {
    "duration": 10,
    "start_time": "2022-07-02T11:40:49.165Z"
   },
   {
    "duration": 9,
    "start_time": "2022-07-02T11:40:49.177Z"
   },
   {
    "duration": 6,
    "start_time": "2022-07-02T11:40:49.187Z"
   },
   {
    "duration": 7,
    "start_time": "2022-07-02T11:40:49.194Z"
   },
   {
    "duration": 5,
    "start_time": "2022-07-02T11:40:49.223Z"
   },
   {
    "duration": 8,
    "start_time": "2022-07-02T11:40:49.230Z"
   },
   {
    "duration": 6,
    "start_time": "2022-07-02T11:40:49.239Z"
   },
   {
    "duration": 5,
    "start_time": "2022-07-02T11:40:49.247Z"
   },
   {
    "duration": 7,
    "start_time": "2022-07-02T11:40:49.254Z"
   },
   {
    "duration": 5,
    "start_time": "2022-07-02T11:40:49.265Z"
   },
   {
    "duration": 7,
    "start_time": "2022-07-02T11:40:49.272Z"
   },
   {
    "duration": 45,
    "start_time": "2022-07-02T11:40:49.280Z"
   },
   {
    "duration": 15,
    "start_time": "2022-07-02T11:40:49.327Z"
   },
   {
    "duration": 9,
    "start_time": "2022-07-02T11:40:49.343Z"
   },
   {
    "duration": 21,
    "start_time": "2022-07-02T11:40:49.353Z"
   },
   {
    "duration": 3,
    "start_time": "2022-07-02T11:40:49.375Z"
   },
   {
    "duration": 15,
    "start_time": "2022-07-02T11:40:49.380Z"
   },
   {
    "duration": 29,
    "start_time": "2022-07-02T11:40:49.396Z"
   },
   {
    "duration": 12,
    "start_time": "2022-07-02T11:40:49.426Z"
   },
   {
    "duration": 32,
    "start_time": "2022-07-02T11:40:49.439Z"
   },
   {
    "duration": 54,
    "start_time": "2022-07-02T11:40:49.473Z"
   },
   {
    "duration": 3,
    "start_time": "2022-07-02T11:40:49.529Z"
   },
   {
    "duration": 201,
    "start_time": "2022-07-02T11:40:49.534Z"
   },
   {
    "duration": 269,
    "start_time": "2022-07-02T11:40:49.736Z"
   },
   {
    "duration": 4,
    "start_time": "2022-07-02T11:40:50.007Z"
   },
   {
    "duration": 897,
    "start_time": "2022-07-02T11:41:33.596Z"
   },
   {
    "duration": 1145,
    "start_time": "2022-07-02T11:41:41.318Z"
   },
   {
    "duration": 253,
    "start_time": "2022-07-02T11:41:42.465Z"
   },
   {
    "duration": 6,
    "start_time": "2022-07-02T11:41:42.720Z"
   },
   {
    "duration": 11,
    "start_time": "2022-07-02T11:41:42.728Z"
   },
   {
    "duration": 234,
    "start_time": "2022-07-02T11:41:42.741Z"
   },
   {
    "duration": 19,
    "start_time": "2022-07-02T11:41:42.977Z"
   },
   {
    "duration": 46,
    "start_time": "2022-07-02T11:41:42.998Z"
   },
   {
    "duration": 32,
    "start_time": "2022-07-02T11:41:43.045Z"
   },
   {
    "duration": 52,
    "start_time": "2022-07-02T11:41:43.079Z"
   },
   {
    "duration": 10,
    "start_time": "2022-07-02T11:41:43.132Z"
   },
   {
    "duration": 4,
    "start_time": "2022-07-02T11:41:43.144Z"
   },
   {
    "duration": 5,
    "start_time": "2022-07-02T11:41:43.149Z"
   },
   {
    "duration": 16,
    "start_time": "2022-07-02T11:41:43.155Z"
   },
   {
    "duration": 14,
    "start_time": "2022-07-02T11:41:43.174Z"
   },
   {
    "duration": 34,
    "start_time": "2022-07-02T11:41:43.189Z"
   },
   {
    "duration": 13,
    "start_time": "2022-07-02T11:41:43.225Z"
   },
   {
    "duration": 87,
    "start_time": "2022-07-02T11:41:43.240Z"
   },
   {
    "duration": 57,
    "start_time": "2022-07-02T11:41:43.329Z"
   },
   {
    "duration": 4,
    "start_time": "2022-07-02T11:41:43.388Z"
   },
   {
    "duration": 14,
    "start_time": "2022-07-02T11:41:43.394Z"
   },
   {
    "duration": 32,
    "start_time": "2022-07-02T11:41:43.423Z"
   },
   {
    "duration": 6,
    "start_time": "2022-07-02T11:41:43.458Z"
   },
   {
    "duration": 232,
    "start_time": "2022-07-02T11:41:43.466Z"
   },
   {
    "duration": 205,
    "start_time": "2022-07-02T11:41:43.700Z"
   },
   {
    "duration": 6,
    "start_time": "2022-07-02T11:41:43.907Z"
   },
   {
    "duration": 4,
    "start_time": "2022-07-02T11:41:43.923Z"
   },
   {
    "duration": 6,
    "start_time": "2022-07-02T11:41:43.929Z"
   },
   {
    "duration": 13,
    "start_time": "2022-07-02T11:41:43.937Z"
   },
   {
    "duration": 163,
    "start_time": "2022-07-02T11:41:43.952Z"
   },
   {
    "duration": 18,
    "start_time": "2022-07-02T11:41:44.117Z"
   },
   {
    "duration": 29,
    "start_time": "2022-07-02T11:41:44.136Z"
   },
   {
    "duration": 244,
    "start_time": "2022-07-02T11:41:44.167Z"
   },
   {
    "duration": 19,
    "start_time": "2022-07-02T11:41:44.413Z"
   },
   {
    "duration": 39,
    "start_time": "2022-07-02T11:41:44.433Z"
   },
   {
    "duration": 37,
    "start_time": "2022-07-02T11:41:44.473Z"
   },
   {
    "duration": 26,
    "start_time": "2022-07-02T11:41:44.512Z"
   },
   {
    "duration": 11,
    "start_time": "2022-07-02T11:41:44.540Z"
   },
   {
    "duration": 7,
    "start_time": "2022-07-02T11:41:44.553Z"
   },
   {
    "duration": 4,
    "start_time": "2022-07-02T11:41:44.562Z"
   },
   {
    "duration": 14,
    "start_time": "2022-07-02T11:41:44.568Z"
   },
   {
    "duration": 58,
    "start_time": "2022-07-02T11:41:44.586Z"
   },
   {
    "duration": 12,
    "start_time": "2022-07-02T11:41:44.646Z"
   },
   {
    "duration": 19,
    "start_time": "2022-07-02T11:41:44.659Z"
   },
   {
    "duration": 5,
    "start_time": "2022-07-02T11:41:44.679Z"
   },
   {
    "duration": 11,
    "start_time": "2022-07-02T11:41:44.686Z"
   },
   {
    "duration": 24,
    "start_time": "2022-07-02T11:41:44.699Z"
   },
   {
    "duration": 268,
    "start_time": "2022-07-02T11:41:44.724Z"
   },
   {
    "duration": 238,
    "start_time": "2022-07-02T11:41:44.994Z"
   },
   {
    "duration": 11,
    "start_time": "2022-07-02T11:41:45.234Z"
   },
   {
    "duration": 11,
    "start_time": "2022-07-02T11:41:45.246Z"
   },
   {
    "duration": 4,
    "start_time": "2022-07-02T11:41:45.259Z"
   },
   {
    "duration": 77,
    "start_time": "2022-07-02T11:41:45.265Z"
   },
   {
    "duration": 61,
    "start_time": "2022-07-02T11:41:45.343Z"
   },
   {
    "duration": 3,
    "start_time": "2022-07-02T11:41:45.405Z"
   },
   {
    "duration": 4,
    "start_time": "2022-07-02T11:41:45.424Z"
   },
   {
    "duration": 7,
    "start_time": "2022-07-02T11:41:45.430Z"
   },
   {
    "duration": 13,
    "start_time": "2022-07-02T11:41:45.439Z"
   },
   {
    "duration": 6,
    "start_time": "2022-07-02T11:41:45.454Z"
   },
   {
    "duration": 5,
    "start_time": "2022-07-02T11:41:45.462Z"
   },
   {
    "duration": 9,
    "start_time": "2022-07-02T11:41:45.468Z"
   },
   {
    "duration": 5,
    "start_time": "2022-07-02T11:41:45.479Z"
   },
   {
    "duration": 9,
    "start_time": "2022-07-02T11:41:45.486Z"
   },
   {
    "duration": 5,
    "start_time": "2022-07-02T11:41:45.523Z"
   },
   {
    "duration": 11,
    "start_time": "2022-07-02T11:41:45.530Z"
   },
   {
    "duration": 4,
    "start_time": "2022-07-02T11:41:45.543Z"
   },
   {
    "duration": 5,
    "start_time": "2022-07-02T11:41:45.549Z"
   },
   {
    "duration": 7,
    "start_time": "2022-07-02T11:41:45.556Z"
   },
   {
    "duration": 16,
    "start_time": "2022-07-02T11:41:45.565Z"
   },
   {
    "duration": 9,
    "start_time": "2022-07-02T11:41:45.582Z"
   },
   {
    "duration": 46,
    "start_time": "2022-07-02T11:41:45.593Z"
   },
   {
    "duration": 3,
    "start_time": "2022-07-02T11:41:45.641Z"
   },
   {
    "duration": 12,
    "start_time": "2022-07-02T11:41:45.646Z"
   },
   {
    "duration": 11,
    "start_time": "2022-07-02T11:41:45.659Z"
   },
   {
    "duration": 11,
    "start_time": "2022-07-02T11:41:45.672Z"
   },
   {
    "duration": 55,
    "start_time": "2022-07-02T11:41:45.685Z"
   },
   {
    "duration": 30,
    "start_time": "2022-07-02T11:41:45.742Z"
   },
   {
    "duration": 3,
    "start_time": "2022-07-02T11:41:45.774Z"
   },
   {
    "duration": 221,
    "start_time": "2022-07-02T11:41:45.779Z"
   },
   {
    "duration": 265,
    "start_time": "2022-07-02T11:41:46.002Z"
   },
   {
    "duration": 5,
    "start_time": "2022-07-02T11:41:46.268Z"
   },
   {
    "duration": 978,
    "start_time": "2022-07-02T11:43:47.673Z"
   },
   {
    "duration": 1195,
    "start_time": "2022-07-02T11:43:54.495Z"
   },
   {
    "duration": 240,
    "start_time": "2022-07-02T11:43:55.692Z"
   },
   {
    "duration": 8,
    "start_time": "2022-07-02T11:43:55.935Z"
   },
   {
    "duration": 9,
    "start_time": "2022-07-02T11:43:55.946Z"
   },
   {
    "duration": 241,
    "start_time": "2022-07-02T11:43:55.957Z"
   },
   {
    "duration": 26,
    "start_time": "2022-07-02T11:43:56.200Z"
   },
   {
    "duration": 36,
    "start_time": "2022-07-02T11:43:56.229Z"
   },
   {
    "duration": 64,
    "start_time": "2022-07-02T11:43:56.267Z"
   },
   {
    "duration": 38,
    "start_time": "2022-07-02T11:43:56.333Z"
   },
   {
    "duration": 11,
    "start_time": "2022-07-02T11:43:56.373Z"
   },
   {
    "duration": 3,
    "start_time": "2022-07-02T11:43:56.385Z"
   },
   {
    "duration": 5,
    "start_time": "2022-07-02T11:43:56.390Z"
   },
   {
    "duration": 40,
    "start_time": "2022-07-02T11:43:56.397Z"
   },
   {
    "duration": 17,
    "start_time": "2022-07-02T11:43:56.439Z"
   },
   {
    "duration": 12,
    "start_time": "2022-07-02T11:43:56.458Z"
   },
   {
    "duration": 16,
    "start_time": "2022-07-02T11:43:56.472Z"
   },
   {
    "duration": 107,
    "start_time": "2022-07-02T11:43:56.490Z"
   },
   {
    "duration": 80,
    "start_time": "2022-07-02T11:43:56.599Z"
   },
   {
    "duration": 4,
    "start_time": "2022-07-02T11:43:56.680Z"
   },
   {
    "duration": 12,
    "start_time": "2022-07-02T11:43:56.685Z"
   },
   {
    "duration": 41,
    "start_time": "2022-07-02T11:43:56.698Z"
   },
   {
    "duration": 6,
    "start_time": "2022-07-02T11:43:56.741Z"
   },
   {
    "duration": 219,
    "start_time": "2022-07-02T11:43:56.748Z"
   },
   {
    "duration": 210,
    "start_time": "2022-07-02T11:43:56.969Z"
   },
   {
    "duration": 6,
    "start_time": "2022-07-02T11:43:57.181Z"
   },
   {
    "duration": 6,
    "start_time": "2022-07-02T11:43:57.189Z"
   },
   {
    "duration": 5,
    "start_time": "2022-07-02T11:43:57.197Z"
   },
   {
    "duration": 10,
    "start_time": "2022-07-02T11:43:57.224Z"
   },
   {
    "duration": 161,
    "start_time": "2022-07-02T11:43:57.236Z"
   },
   {
    "duration": 13,
    "start_time": "2022-07-02T11:43:57.398Z"
   },
   {
    "duration": 13,
    "start_time": "2022-07-02T11:43:57.423Z"
   },
   {
    "duration": 273,
    "start_time": "2022-07-02T11:43:57.438Z"
   },
   {
    "duration": 23,
    "start_time": "2022-07-02T11:43:57.714Z"
   },
   {
    "duration": 37,
    "start_time": "2022-07-02T11:43:57.739Z"
   },
   {
    "duration": 46,
    "start_time": "2022-07-02T11:43:57.778Z"
   },
   {
    "duration": 13,
    "start_time": "2022-07-02T11:43:57.826Z"
   },
   {
    "duration": 10,
    "start_time": "2022-07-02T11:43:57.840Z"
   },
   {
    "duration": 6,
    "start_time": "2022-07-02T11:43:57.852Z"
   },
   {
    "duration": 7,
    "start_time": "2022-07-02T11:43:57.860Z"
   },
   {
    "duration": 15,
    "start_time": "2022-07-02T11:43:57.868Z"
   },
   {
    "duration": 62,
    "start_time": "2022-07-02T11:43:57.884Z"
   },
   {
    "duration": 14,
    "start_time": "2022-07-02T11:43:57.948Z"
   },
   {
    "duration": 16,
    "start_time": "2022-07-02T11:43:57.963Z"
   },
   {
    "duration": 5,
    "start_time": "2022-07-02T11:43:57.981Z"
   },
   {
    "duration": 16,
    "start_time": "2022-07-02T11:43:57.988Z"
   },
   {
    "duration": 18,
    "start_time": "2022-07-02T11:43:58.006Z"
   },
   {
    "duration": 284,
    "start_time": "2022-07-02T11:43:58.026Z"
   },
   {
    "duration": 220,
    "start_time": "2022-07-02T11:43:58.312Z"
   },
   {
    "duration": 16,
    "start_time": "2022-07-02T11:43:58.534Z"
   },
   {
    "duration": 12,
    "start_time": "2022-07-02T11:43:58.552Z"
   },
   {
    "duration": 6,
    "start_time": "2022-07-02T11:43:58.566Z"
   },
   {
    "duration": 74,
    "start_time": "2022-07-02T11:43:58.573Z"
   },
   {
    "duration": 60,
    "start_time": "2022-07-02T11:43:58.648Z"
   },
   {
    "duration": 13,
    "start_time": "2022-07-02T11:43:58.710Z"
   },
   {
    "duration": 5,
    "start_time": "2022-07-02T11:43:58.725Z"
   },
   {
    "duration": 13,
    "start_time": "2022-07-02T11:43:58.732Z"
   },
   {
    "duration": 9,
    "start_time": "2022-07-02T11:43:58.747Z"
   },
   {
    "duration": 8,
    "start_time": "2022-07-02T11:43:58.757Z"
   },
   {
    "duration": 7,
    "start_time": "2022-07-02T11:43:58.766Z"
   },
   {
    "duration": 6,
    "start_time": "2022-07-02T11:43:58.775Z"
   },
   {
    "duration": 15,
    "start_time": "2022-07-02T11:43:58.783Z"
   },
   {
    "duration": 12,
    "start_time": "2022-07-02T11:43:58.799Z"
   },
   {
    "duration": 14,
    "start_time": "2022-07-02T11:43:58.813Z"
   },
   {
    "duration": 7,
    "start_time": "2022-07-02T11:43:58.829Z"
   },
   {
    "duration": 7,
    "start_time": "2022-07-02T11:43:58.837Z"
   },
   {
    "duration": 6,
    "start_time": "2022-07-02T11:43:58.846Z"
   },
   {
    "duration": 5,
    "start_time": "2022-07-02T11:43:58.853Z"
   },
   {
    "duration": 19,
    "start_time": "2022-07-02T11:43:58.859Z"
   },
   {
    "duration": 9,
    "start_time": "2022-07-02T11:43:58.879Z"
   },
   {
    "duration": 48,
    "start_time": "2022-07-02T11:43:58.890Z"
   },
   {
    "duration": 5,
    "start_time": "2022-07-02T11:43:58.940Z"
   },
   {
    "duration": 17,
    "start_time": "2022-07-02T11:43:58.947Z"
   },
   {
    "duration": 18,
    "start_time": "2022-07-02T11:43:58.966Z"
   },
   {
    "duration": 14,
    "start_time": "2022-07-02T11:43:58.986Z"
   },
   {
    "duration": 45,
    "start_time": "2022-07-02T11:43:59.002Z"
   },
   {
    "duration": 30,
    "start_time": "2022-07-02T11:43:59.049Z"
   },
   {
    "duration": 5,
    "start_time": "2022-07-02T11:43:59.081Z"
   },
   {
    "duration": 245,
    "start_time": "2022-07-02T11:43:59.088Z"
   },
   {
    "duration": 280,
    "start_time": "2022-07-02T11:43:59.335Z"
   },
   {
    "duration": 6,
    "start_time": "2022-07-02T11:43:59.617Z"
   },
   {
    "duration": 1196,
    "start_time": "2022-07-02T11:45:36.726Z"
   },
   {
    "duration": 274,
    "start_time": "2022-07-02T11:45:37.924Z"
   },
   {
    "duration": 6,
    "start_time": "2022-07-02T11:45:38.199Z"
   },
   {
    "duration": 13,
    "start_time": "2022-07-02T11:45:38.206Z"
   },
   {
    "duration": 256,
    "start_time": "2022-07-02T11:45:38.222Z"
   },
   {
    "duration": 21,
    "start_time": "2022-07-02T11:45:38.479Z"
   },
   {
    "duration": 43,
    "start_time": "2022-07-02T11:45:38.502Z"
   },
   {
    "duration": 32,
    "start_time": "2022-07-02T11:45:38.547Z"
   },
   {
    "duration": 54,
    "start_time": "2022-07-02T11:45:38.580Z"
   },
   {
    "duration": 11,
    "start_time": "2022-07-02T11:45:38.635Z"
   },
   {
    "duration": 9,
    "start_time": "2022-07-02T11:45:38.648Z"
   },
   {
    "duration": 26,
    "start_time": "2022-07-02T11:45:38.658Z"
   },
   {
    "duration": 18,
    "start_time": "2022-07-02T11:45:38.686Z"
   },
   {
    "duration": 14,
    "start_time": "2022-07-02T11:45:38.707Z"
   },
   {
    "duration": 13,
    "start_time": "2022-07-02T11:45:38.722Z"
   },
   {
    "duration": 17,
    "start_time": "2022-07-02T11:45:38.736Z"
   },
   {
    "duration": 73,
    "start_time": "2022-07-02T11:45:38.754Z"
   },
   {
    "duration": 60,
    "start_time": "2022-07-02T11:45:38.829Z"
   },
   {
    "duration": 4,
    "start_time": "2022-07-02T11:45:38.891Z"
   },
   {
    "duration": 27,
    "start_time": "2022-07-02T11:45:38.897Z"
   },
   {
    "duration": 41,
    "start_time": "2022-07-02T11:45:38.925Z"
   },
   {
    "duration": 5,
    "start_time": "2022-07-02T11:45:38.967Z"
   },
   {
    "duration": 235,
    "start_time": "2022-07-02T11:45:38.973Z"
   },
   {
    "duration": 255,
    "start_time": "2022-07-02T11:45:39.210Z"
   },
   {
    "duration": 6,
    "start_time": "2022-07-02T11:45:39.467Z"
   },
   {
    "duration": 16,
    "start_time": "2022-07-02T11:45:39.475Z"
   },
   {
    "duration": 11,
    "start_time": "2022-07-02T11:45:39.493Z"
   },
   {
    "duration": 25,
    "start_time": "2022-07-02T11:45:39.506Z"
   },
   {
    "duration": 167,
    "start_time": "2022-07-02T11:45:39.533Z"
   },
   {
    "duration": 25,
    "start_time": "2022-07-02T11:45:39.701Z"
   },
   {
    "duration": 26,
    "start_time": "2022-07-02T11:45:39.727Z"
   },
   {
    "duration": 312,
    "start_time": "2022-07-02T11:45:39.755Z"
   },
   {
    "duration": 25,
    "start_time": "2022-07-02T11:45:40.069Z"
   },
   {
    "duration": 40,
    "start_time": "2022-07-02T11:45:40.097Z"
   },
   {
    "duration": 57,
    "start_time": "2022-07-02T11:45:40.139Z"
   },
   {
    "duration": 28,
    "start_time": "2022-07-02T11:45:40.198Z"
   },
   {
    "duration": 8,
    "start_time": "2022-07-02T11:45:40.228Z"
   },
   {
    "duration": 7,
    "start_time": "2022-07-02T11:45:40.238Z"
   },
   {
    "duration": 9,
    "start_time": "2022-07-02T11:45:40.246Z"
   },
   {
    "duration": 13,
    "start_time": "2022-07-02T11:45:40.257Z"
   },
   {
    "duration": 54,
    "start_time": "2022-07-02T11:45:40.276Z"
   },
   {
    "duration": 15,
    "start_time": "2022-07-02T11:45:40.332Z"
   },
   {
    "duration": 16,
    "start_time": "2022-07-02T11:45:40.348Z"
   },
   {
    "duration": 5,
    "start_time": "2022-07-02T11:45:40.366Z"
   },
   {
    "duration": 21,
    "start_time": "2022-07-02T11:45:40.373Z"
   },
   {
    "duration": 29,
    "start_time": "2022-07-02T11:45:40.396Z"
   },
   {
    "duration": 337,
    "start_time": "2022-07-02T11:45:40.427Z"
   },
   {
    "duration": 270,
    "start_time": "2022-07-02T11:45:40.766Z"
   },
   {
    "duration": 13,
    "start_time": "2022-07-02T11:45:41.037Z"
   },
   {
    "duration": 19,
    "start_time": "2022-07-02T11:45:41.052Z"
   },
   {
    "duration": 6,
    "start_time": "2022-07-02T11:45:41.073Z"
   },
   {
    "duration": 69,
    "start_time": "2022-07-02T11:45:41.081Z"
   },
   {
    "duration": 60,
    "start_time": "2022-07-02T11:45:41.153Z"
   },
   {
    "duration": 9,
    "start_time": "2022-07-02T11:45:41.214Z"
   },
   {
    "duration": 9,
    "start_time": "2022-07-02T11:45:41.225Z"
   },
   {
    "duration": 9,
    "start_time": "2022-07-02T11:45:41.235Z"
   },
   {
    "duration": 6,
    "start_time": "2022-07-02T11:45:41.245Z"
   },
   {
    "duration": 7,
    "start_time": "2022-07-02T11:45:41.252Z"
   },
   {
    "duration": 7,
    "start_time": "2022-07-02T11:45:41.260Z"
   },
   {
    "duration": 7,
    "start_time": "2022-07-02T11:45:41.269Z"
   },
   {
    "duration": 9,
    "start_time": "2022-07-02T11:45:41.277Z"
   },
   {
    "duration": 7,
    "start_time": "2022-07-02T11:45:41.288Z"
   },
   {
    "duration": 34,
    "start_time": "2022-07-02T11:45:41.297Z"
   },
   {
    "duration": 7,
    "start_time": "2022-07-02T11:45:41.333Z"
   },
   {
    "duration": 7,
    "start_time": "2022-07-02T11:45:41.341Z"
   },
   {
    "duration": 10,
    "start_time": "2022-07-02T11:45:41.349Z"
   },
   {
    "duration": 6,
    "start_time": "2022-07-02T11:45:41.360Z"
   },
   {
    "duration": 16,
    "start_time": "2022-07-02T11:45:41.367Z"
   },
   {
    "duration": 9,
    "start_time": "2022-07-02T11:45:41.385Z"
   },
   {
    "duration": 36,
    "start_time": "2022-07-02T11:45:41.396Z"
   },
   {
    "duration": 3,
    "start_time": "2022-07-02T11:45:41.434Z"
   },
   {
    "duration": 16,
    "start_time": "2022-07-02T11:45:41.438Z"
   },
   {
    "duration": 11,
    "start_time": "2022-07-02T11:45:41.456Z"
   },
   {
    "duration": 9,
    "start_time": "2022-07-02T11:45:41.469Z"
   },
   {
    "duration": 55,
    "start_time": "2022-07-02T11:45:41.479Z"
   },
   {
    "duration": 32,
    "start_time": "2022-07-02T11:45:41.537Z"
   },
   {
    "duration": 3,
    "start_time": "2022-07-02T11:45:41.571Z"
   },
   {
    "duration": 218,
    "start_time": "2022-07-02T11:45:41.576Z"
   },
   {
    "duration": 306,
    "start_time": "2022-07-02T11:45:41.795Z"
   },
   {
    "duration": 4,
    "start_time": "2022-07-02T11:45:42.103Z"
   },
   {
    "duration": 34,
    "start_time": "2022-07-02T11:47:19.733Z"
   },
   {
    "duration": 99,
    "start_time": "2022-07-02T11:58:37.206Z"
   },
   {
    "duration": 15,
    "start_time": "2022-07-02T12:04:09.360Z"
   },
   {
    "duration": 19,
    "start_time": "2022-07-02T12:04:18.596Z"
   },
   {
    "duration": 148,
    "start_time": "2022-07-02T12:04:26.795Z"
   },
   {
    "duration": 139,
    "start_time": "2022-07-02T12:05:10.660Z"
   },
   {
    "duration": 33,
    "start_time": "2022-07-02T12:12:08.315Z"
   },
   {
    "duration": 13,
    "start_time": "2022-07-02T12:12:57.352Z"
   },
   {
    "duration": 106,
    "start_time": "2022-07-02T12:13:09.062Z"
   },
   {
    "duration": 227,
    "start_time": "2022-07-02T12:13:26.886Z"
   },
   {
    "duration": 205,
    "start_time": "2022-07-02T12:13:33.483Z"
   },
   {
    "duration": 13,
    "start_time": "2022-07-02T12:13:46.738Z"
   },
   {
    "duration": 15,
    "start_time": "2022-07-02T12:23:03.168Z"
   },
   {
    "duration": 1147,
    "start_time": "2022-07-02T12:24:34.598Z"
   },
   {
    "duration": 244,
    "start_time": "2022-07-02T12:24:35.747Z"
   },
   {
    "duration": 5,
    "start_time": "2022-07-02T12:24:35.993Z"
   },
   {
    "duration": 9,
    "start_time": "2022-07-02T12:24:35.999Z"
   },
   {
    "duration": 230,
    "start_time": "2022-07-02T12:24:36.010Z"
   },
   {
    "duration": 18,
    "start_time": "2022-07-02T12:24:36.242Z"
   },
   {
    "duration": 26,
    "start_time": "2022-07-02T12:24:36.262Z"
   },
   {
    "duration": 59,
    "start_time": "2022-07-02T12:24:36.290Z"
   },
   {
    "duration": 34,
    "start_time": "2022-07-02T12:24:36.351Z"
   },
   {
    "duration": 9,
    "start_time": "2022-07-02T12:24:36.387Z"
   },
   {
    "duration": 28,
    "start_time": "2022-07-02T12:24:36.398Z"
   },
   {
    "duration": 3,
    "start_time": "2022-07-02T12:24:36.436Z"
   },
   {
    "duration": 17,
    "start_time": "2022-07-02T12:24:36.440Z"
   },
   {
    "duration": 15,
    "start_time": "2022-07-02T12:24:36.459Z"
   },
   {
    "duration": 11,
    "start_time": "2022-07-02T12:24:36.475Z"
   },
   {
    "duration": 14,
    "start_time": "2022-07-02T12:24:36.487Z"
   },
   {
    "duration": 85,
    "start_time": "2022-07-02T12:24:36.503Z"
   },
   {
    "duration": 75,
    "start_time": "2022-07-02T12:24:36.589Z"
   },
   {
    "duration": 4,
    "start_time": "2022-07-02T12:24:36.665Z"
   },
   {
    "duration": 13,
    "start_time": "2022-07-02T12:24:36.671Z"
   },
   {
    "duration": 45,
    "start_time": "2022-07-02T12:24:36.685Z"
   },
   {
    "duration": 6,
    "start_time": "2022-07-02T12:24:36.735Z"
   },
   {
    "duration": 210,
    "start_time": "2022-07-02T12:24:36.743Z"
   },
   {
    "duration": 211,
    "start_time": "2022-07-02T12:24:36.955Z"
   },
   {
    "duration": 5,
    "start_time": "2022-07-02T12:24:37.168Z"
   },
   {
    "duration": 7,
    "start_time": "2022-07-02T12:24:37.174Z"
   },
   {
    "duration": 9,
    "start_time": "2022-07-02T12:24:37.183Z"
   },
   {
    "duration": 17,
    "start_time": "2022-07-02T12:24:37.193Z"
   },
   {
    "duration": 158,
    "start_time": "2022-07-02T12:24:37.212Z"
   },
   {
    "duration": 14,
    "start_time": "2022-07-02T12:24:37.371Z"
   },
   {
    "duration": 180,
    "start_time": "2022-07-02T12:24:37.386Z"
   },
   {
    "duration": 41,
    "start_time": "2022-07-02T12:24:37.568Z"
   },
   {
    "duration": 1058,
    "start_time": "2022-07-02T12:26:16.196Z"
   },
   {
    "duration": 246,
    "start_time": "2022-07-02T12:26:17.255Z"
   },
   {
    "duration": 5,
    "start_time": "2022-07-02T12:26:17.503Z"
   },
   {
    "duration": 11,
    "start_time": "2022-07-02T12:26:17.509Z"
   },
   {
    "duration": 243,
    "start_time": "2022-07-02T12:26:17.521Z"
   },
   {
    "duration": 20,
    "start_time": "2022-07-02T12:26:17.765Z"
   },
   {
    "duration": 46,
    "start_time": "2022-07-02T12:26:17.786Z"
   },
   {
    "duration": 36,
    "start_time": "2022-07-02T12:26:17.835Z"
   },
   {
    "duration": 64,
    "start_time": "2022-07-02T12:26:17.872Z"
   },
   {
    "duration": 12,
    "start_time": "2022-07-02T12:26:17.938Z"
   },
   {
    "duration": 16,
    "start_time": "2022-07-02T12:26:17.952Z"
   },
   {
    "duration": 6,
    "start_time": "2022-07-02T12:26:17.969Z"
   },
   {
    "duration": 25,
    "start_time": "2022-07-02T12:26:17.977Z"
   },
   {
    "duration": 29,
    "start_time": "2022-07-02T12:26:18.005Z"
   },
   {
    "duration": 10,
    "start_time": "2022-07-02T12:26:18.036Z"
   },
   {
    "duration": 16,
    "start_time": "2022-07-02T12:26:18.051Z"
   },
   {
    "duration": 71,
    "start_time": "2022-07-02T12:26:18.068Z"
   },
   {
    "duration": 58,
    "start_time": "2022-07-02T12:26:18.143Z"
   },
   {
    "duration": 4,
    "start_time": "2022-07-02T12:26:18.203Z"
   },
   {
    "duration": 27,
    "start_time": "2022-07-02T12:26:18.208Z"
   },
   {
    "duration": 30,
    "start_time": "2022-07-02T12:26:18.237Z"
   },
   {
    "duration": 5,
    "start_time": "2022-07-02T12:26:18.269Z"
   },
   {
    "duration": 230,
    "start_time": "2022-07-02T12:26:18.275Z"
   },
   {
    "duration": 227,
    "start_time": "2022-07-02T12:26:18.507Z"
   },
   {
    "duration": 6,
    "start_time": "2022-07-02T12:26:18.737Z"
   },
   {
    "duration": 7,
    "start_time": "2022-07-02T12:26:18.744Z"
   },
   {
    "duration": 8,
    "start_time": "2022-07-02T12:26:18.752Z"
   },
   {
    "duration": 16,
    "start_time": "2022-07-02T12:26:18.762Z"
   },
   {
    "duration": 163,
    "start_time": "2022-07-02T12:26:18.780Z"
   },
   {
    "duration": 17,
    "start_time": "2022-07-02T12:26:18.946Z"
   },
   {
    "duration": 174,
    "start_time": "2022-07-02T12:26:18.964Z"
   },
   {
    "duration": 37,
    "start_time": "2022-07-02T12:26:19.140Z"
   },
   {
    "duration": 132,
    "start_time": "2022-07-02T12:26:19.179Z"
   },
   {
    "duration": 0,
    "start_time": "2022-07-02T12:26:19.314Z"
   },
   {
    "duration": 0,
    "start_time": "2022-07-02T12:26:19.315Z"
   },
   {
    "duration": 0,
    "start_time": "2022-07-02T12:26:19.322Z"
   },
   {
    "duration": 0,
    "start_time": "2022-07-02T12:26:19.323Z"
   },
   {
    "duration": 0,
    "start_time": "2022-07-02T12:26:19.324Z"
   },
   {
    "duration": 0,
    "start_time": "2022-07-02T12:26:19.335Z"
   },
   {
    "duration": 0,
    "start_time": "2022-07-02T12:26:19.336Z"
   },
   {
    "duration": 0,
    "start_time": "2022-07-02T12:26:19.338Z"
   },
   {
    "duration": 0,
    "start_time": "2022-07-02T12:26:19.338Z"
   },
   {
    "duration": 0,
    "start_time": "2022-07-02T12:26:19.340Z"
   },
   {
    "duration": 0,
    "start_time": "2022-07-02T12:26:19.340Z"
   },
   {
    "duration": 0,
    "start_time": "2022-07-02T12:26:19.341Z"
   },
   {
    "duration": 0,
    "start_time": "2022-07-02T12:26:19.341Z"
   },
   {
    "duration": 0,
    "start_time": "2022-07-02T12:26:19.343Z"
   },
   {
    "duration": 0,
    "start_time": "2022-07-02T12:26:19.344Z"
   },
   {
    "duration": 0,
    "start_time": "2022-07-02T12:26:19.345Z"
   },
   {
    "duration": 0,
    "start_time": "2022-07-02T12:26:19.346Z"
   },
   {
    "duration": 0,
    "start_time": "2022-07-02T12:26:19.347Z"
   },
   {
    "duration": 0,
    "start_time": "2022-07-02T12:26:19.348Z"
   },
   {
    "duration": 0,
    "start_time": "2022-07-02T12:26:19.349Z"
   },
   {
    "duration": 0,
    "start_time": "2022-07-02T12:26:19.350Z"
   },
   {
    "duration": 0,
    "start_time": "2022-07-02T12:26:19.351Z"
   },
   {
    "duration": 0,
    "start_time": "2022-07-02T12:26:19.352Z"
   },
   {
    "duration": 0,
    "start_time": "2022-07-02T12:26:19.353Z"
   },
   {
    "duration": 0,
    "start_time": "2022-07-02T12:26:19.354Z"
   },
   {
    "duration": 0,
    "start_time": "2022-07-02T12:26:19.355Z"
   },
   {
    "duration": 0,
    "start_time": "2022-07-02T12:26:19.356Z"
   },
   {
    "duration": 0,
    "start_time": "2022-07-02T12:26:19.357Z"
   },
   {
    "duration": 0,
    "start_time": "2022-07-02T12:26:19.358Z"
   },
   {
    "duration": 0,
    "start_time": "2022-07-02T12:26:19.359Z"
   },
   {
    "duration": 0,
    "start_time": "2022-07-02T12:26:19.360Z"
   },
   {
    "duration": 0,
    "start_time": "2022-07-02T12:26:19.360Z"
   },
   {
    "duration": 0,
    "start_time": "2022-07-02T12:26:19.362Z"
   },
   {
    "duration": 0,
    "start_time": "2022-07-02T12:26:19.362Z"
   },
   {
    "duration": 0,
    "start_time": "2022-07-02T12:26:19.363Z"
   },
   {
    "duration": 0,
    "start_time": "2022-07-02T12:26:19.364Z"
   },
   {
    "duration": 0,
    "start_time": "2022-07-02T12:26:19.365Z"
   },
   {
    "duration": 0,
    "start_time": "2022-07-02T12:26:19.366Z"
   },
   {
    "duration": 0,
    "start_time": "2022-07-02T12:26:19.367Z"
   },
   {
    "duration": 0,
    "start_time": "2022-07-02T12:26:19.368Z"
   },
   {
    "duration": 0,
    "start_time": "2022-07-02T12:26:19.369Z"
   },
   {
    "duration": 0,
    "start_time": "2022-07-02T12:26:19.424Z"
   },
   {
    "duration": 0,
    "start_time": "2022-07-02T12:26:19.425Z"
   },
   {
    "duration": 0,
    "start_time": "2022-07-02T12:26:19.426Z"
   },
   {
    "duration": 0,
    "start_time": "2022-07-02T12:26:19.427Z"
   },
   {
    "duration": 0,
    "start_time": "2022-07-02T12:26:19.428Z"
   },
   {
    "duration": 0,
    "start_time": "2022-07-02T12:26:19.438Z"
   },
   {
    "duration": 0,
    "start_time": "2022-07-02T12:26:19.439Z"
   },
   {
    "duration": 0,
    "start_time": "2022-07-02T12:26:19.440Z"
   },
   {
    "duration": 12,
    "start_time": "2022-07-02T12:27:42.645Z"
   },
   {
    "duration": 70,
    "start_time": "2022-07-02T13:43:30.595Z"
   },
   {
    "duration": 10,
    "start_time": "2022-07-02T13:43:35.120Z"
   },
   {
    "duration": 4,
    "start_time": "2022-07-02T13:44:00.122Z"
   },
   {
    "duration": 15,
    "start_time": "2022-07-02T13:44:02.460Z"
   },
   {
    "duration": 65,
    "start_time": "2022-07-02T13:44:07.702Z"
   },
   {
    "duration": 203,
    "start_time": "2022-07-02T13:44:17.703Z"
   },
   {
    "duration": 195,
    "start_time": "2022-07-02T13:44:31.301Z"
   },
   {
    "duration": 45,
    "start_time": "2022-07-02T13:44:54.155Z"
   },
   {
    "duration": 208,
    "start_time": "2022-07-02T13:45:16.044Z"
   },
   {
    "duration": 86,
    "start_time": "2022-07-02T13:45:22.057Z"
   },
   {
    "duration": 86,
    "start_time": "2022-07-02T13:45:31.344Z"
   },
   {
    "duration": 86,
    "start_time": "2022-07-02T13:48:58.664Z"
   },
   {
    "duration": 70,
    "start_time": "2022-07-02T13:50:29.822Z"
   },
   {
    "duration": 5,
    "start_time": "2022-07-02T13:50:29.894Z"
   },
   {
    "duration": 13,
    "start_time": "2022-07-02T13:50:29.997Z"
   },
   {
    "duration": 1130,
    "start_time": "2022-07-02T13:55:44.306Z"
   },
   {
    "duration": 238,
    "start_time": "2022-07-02T13:55:45.438Z"
   },
   {
    "duration": 5,
    "start_time": "2022-07-02T13:55:45.677Z"
   },
   {
    "duration": 8,
    "start_time": "2022-07-02T13:55:45.683Z"
   },
   {
    "duration": 226,
    "start_time": "2022-07-02T13:55:45.693Z"
   },
   {
    "duration": 21,
    "start_time": "2022-07-02T13:55:45.920Z"
   },
   {
    "duration": 30,
    "start_time": "2022-07-02T13:55:45.942Z"
   },
   {
    "duration": 54,
    "start_time": "2022-07-02T13:55:45.974Z"
   },
   {
    "duration": 40,
    "start_time": "2022-07-02T13:55:46.030Z"
   },
   {
    "duration": 10,
    "start_time": "2022-07-02T13:55:46.072Z"
   },
   {
    "duration": 5,
    "start_time": "2022-07-02T13:55:46.083Z"
   },
   {
    "duration": 6,
    "start_time": "2022-07-02T13:55:46.090Z"
   },
   {
    "duration": 38,
    "start_time": "2022-07-02T13:55:46.097Z"
   },
   {
    "duration": 18,
    "start_time": "2022-07-02T13:55:46.139Z"
   },
   {
    "duration": 11,
    "start_time": "2022-07-02T13:55:46.159Z"
   },
   {
    "duration": 14,
    "start_time": "2022-07-02T13:55:46.171Z"
   },
   {
    "duration": 81,
    "start_time": "2022-07-02T13:55:46.186Z"
   },
   {
    "duration": 62,
    "start_time": "2022-07-02T13:55:46.269Z"
   },
   {
    "duration": 4,
    "start_time": "2022-07-02T13:55:46.332Z"
   },
   {
    "duration": 15,
    "start_time": "2022-07-02T13:55:46.337Z"
   },
   {
    "duration": 30,
    "start_time": "2022-07-02T13:55:46.353Z"
   },
   {
    "duration": 4,
    "start_time": "2022-07-02T13:55:46.385Z"
   },
   {
    "duration": 234,
    "start_time": "2022-07-02T13:55:46.391Z"
   },
   {
    "duration": 206,
    "start_time": "2022-07-02T13:55:46.626Z"
   },
   {
    "duration": 6,
    "start_time": "2022-07-02T13:55:46.833Z"
   },
   {
    "duration": 6,
    "start_time": "2022-07-02T13:55:46.840Z"
   },
   {
    "duration": 12,
    "start_time": "2022-07-02T13:55:46.848Z"
   },
   {
    "duration": 18,
    "start_time": "2022-07-02T13:55:46.862Z"
   },
   {
    "duration": 199,
    "start_time": "2022-07-02T13:55:46.882Z"
   },
   {
    "duration": 12,
    "start_time": "2022-07-02T13:55:47.083Z"
   },
   {
    "duration": 155,
    "start_time": "2022-07-02T13:55:47.097Z"
   },
   {
    "duration": 136,
    "start_time": "2022-07-02T13:55:47.254Z"
   },
   {
    "duration": 0,
    "start_time": "2022-07-02T13:55:47.394Z"
   },
   {
    "duration": 0,
    "start_time": "2022-07-02T13:55:47.395Z"
   },
   {
    "duration": 0,
    "start_time": "2022-07-02T13:55:47.396Z"
   },
   {
    "duration": 0,
    "start_time": "2022-07-02T13:55:47.397Z"
   },
   {
    "duration": 0,
    "start_time": "2022-07-02T13:55:47.398Z"
   },
   {
    "duration": 0,
    "start_time": "2022-07-02T13:55:47.399Z"
   },
   {
    "duration": 0,
    "start_time": "2022-07-02T13:55:47.400Z"
   },
   {
    "duration": 0,
    "start_time": "2022-07-02T13:55:47.401Z"
   },
   {
    "duration": 0,
    "start_time": "2022-07-02T13:55:47.403Z"
   },
   {
    "duration": 0,
    "start_time": "2022-07-02T13:55:47.403Z"
   },
   {
    "duration": 0,
    "start_time": "2022-07-02T13:55:47.423Z"
   },
   {
    "duration": 0,
    "start_time": "2022-07-02T13:55:47.424Z"
   },
   {
    "duration": 0,
    "start_time": "2022-07-02T13:55:47.425Z"
   },
   {
    "duration": 0,
    "start_time": "2022-07-02T13:55:47.426Z"
   },
   {
    "duration": 0,
    "start_time": "2022-07-02T13:55:47.427Z"
   },
   {
    "duration": 0,
    "start_time": "2022-07-02T13:55:47.428Z"
   },
   {
    "duration": 0,
    "start_time": "2022-07-02T13:55:47.429Z"
   },
   {
    "duration": 0,
    "start_time": "2022-07-02T13:55:47.429Z"
   },
   {
    "duration": 0,
    "start_time": "2022-07-02T13:55:47.430Z"
   },
   {
    "duration": 0,
    "start_time": "2022-07-02T13:55:47.431Z"
   },
   {
    "duration": 0,
    "start_time": "2022-07-02T13:55:47.432Z"
   },
   {
    "duration": 0,
    "start_time": "2022-07-02T13:55:47.433Z"
   },
   {
    "duration": 0,
    "start_time": "2022-07-02T13:55:47.434Z"
   },
   {
    "duration": 0,
    "start_time": "2022-07-02T13:55:47.435Z"
   },
   {
    "duration": 0,
    "start_time": "2022-07-02T13:55:47.436Z"
   },
   {
    "duration": 0,
    "start_time": "2022-07-02T13:55:47.437Z"
   },
   {
    "duration": 0,
    "start_time": "2022-07-02T13:55:47.438Z"
   },
   {
    "duration": 0,
    "start_time": "2022-07-02T13:55:47.439Z"
   },
   {
    "duration": 0,
    "start_time": "2022-07-02T13:55:47.439Z"
   },
   {
    "duration": 0,
    "start_time": "2022-07-02T13:55:47.441Z"
   },
   {
    "duration": 0,
    "start_time": "2022-07-02T13:55:47.441Z"
   },
   {
    "duration": 0,
    "start_time": "2022-07-02T13:55:47.442Z"
   },
   {
    "duration": 0,
    "start_time": "2022-07-02T13:55:47.444Z"
   },
   {
    "duration": 0,
    "start_time": "2022-07-02T13:55:47.444Z"
   },
   {
    "duration": 0,
    "start_time": "2022-07-02T13:55:47.445Z"
   },
   {
    "duration": 0,
    "start_time": "2022-07-02T13:55:47.446Z"
   },
   {
    "duration": 0,
    "start_time": "2022-07-02T13:55:47.447Z"
   },
   {
    "duration": 0,
    "start_time": "2022-07-02T13:55:47.448Z"
   },
   {
    "duration": 0,
    "start_time": "2022-07-02T13:55:47.449Z"
   },
   {
    "duration": 0,
    "start_time": "2022-07-02T13:55:47.450Z"
   },
   {
    "duration": 0,
    "start_time": "2022-07-02T13:55:47.451Z"
   },
   {
    "duration": 0,
    "start_time": "2022-07-02T13:55:47.452Z"
   },
   {
    "duration": 0,
    "start_time": "2022-07-02T13:55:47.453Z"
   },
   {
    "duration": 0,
    "start_time": "2022-07-02T13:55:47.454Z"
   },
   {
    "duration": 0,
    "start_time": "2022-07-02T13:55:47.455Z"
   },
   {
    "duration": 0,
    "start_time": "2022-07-02T13:55:47.455Z"
   },
   {
    "duration": 0,
    "start_time": "2022-07-02T13:55:47.456Z"
   },
   {
    "duration": 0,
    "start_time": "2022-07-02T13:55:47.457Z"
   },
   {
    "duration": 0,
    "start_time": "2022-07-02T13:55:47.458Z"
   },
   {
    "duration": 0,
    "start_time": "2022-07-02T13:55:47.459Z"
   },
   {
    "duration": 0,
    "start_time": "2022-07-02T13:55:47.460Z"
   },
   {
    "duration": 47,
    "start_time": "2022-07-02T13:57:10.047Z"
   },
   {
    "duration": 43,
    "start_time": "2022-07-02T14:00:09.830Z"
   },
   {
    "duration": 73,
    "start_time": "2022-07-02T14:00:13.932Z"
   },
   {
    "duration": 1124,
    "start_time": "2022-07-02T14:01:04.626Z"
   },
   {
    "duration": 250,
    "start_time": "2022-07-02T14:01:05.752Z"
   },
   {
    "duration": 5,
    "start_time": "2022-07-02T14:01:06.004Z"
   },
   {
    "duration": 6,
    "start_time": "2022-07-02T14:01:06.011Z"
   },
   {
    "duration": 237,
    "start_time": "2022-07-02T14:01:06.019Z"
   },
   {
    "duration": 19,
    "start_time": "2022-07-02T14:01:06.258Z"
   },
   {
    "duration": 44,
    "start_time": "2022-07-02T14:01:06.279Z"
   },
   {
    "duration": 34,
    "start_time": "2022-07-02T14:01:06.325Z"
   },
   {
    "duration": 38,
    "start_time": "2022-07-02T14:01:06.361Z"
   },
   {
    "duration": 25,
    "start_time": "2022-07-02T14:01:06.401Z"
   },
   {
    "duration": 3,
    "start_time": "2022-07-02T14:01:06.427Z"
   },
   {
    "duration": 6,
    "start_time": "2022-07-02T14:01:06.431Z"
   },
   {
    "duration": 20,
    "start_time": "2022-07-02T14:01:06.439Z"
   },
   {
    "duration": 17,
    "start_time": "2022-07-02T14:01:06.461Z"
   },
   {
    "duration": 12,
    "start_time": "2022-07-02T14:01:06.479Z"
   },
   {
    "duration": 30,
    "start_time": "2022-07-02T14:01:06.493Z"
   },
   {
    "duration": 63,
    "start_time": "2022-07-02T14:01:06.525Z"
   },
   {
    "duration": 71,
    "start_time": "2022-07-02T14:01:06.589Z"
   },
   {
    "duration": 4,
    "start_time": "2022-07-02T14:01:06.662Z"
   },
   {
    "duration": 14,
    "start_time": "2022-07-02T14:01:06.667Z"
   },
   {
    "duration": 31,
    "start_time": "2022-07-02T14:01:06.682Z"
   },
   {
    "duration": 5,
    "start_time": "2022-07-02T14:01:06.723Z"
   },
   {
    "duration": 224,
    "start_time": "2022-07-02T14:01:06.729Z"
   },
   {
    "duration": 237,
    "start_time": "2022-07-02T14:01:06.955Z"
   },
   {
    "duration": 6,
    "start_time": "2022-07-02T14:01:07.194Z"
   },
   {
    "duration": 12,
    "start_time": "2022-07-02T14:01:07.202Z"
   },
   {
    "duration": 7,
    "start_time": "2022-07-02T14:01:07.223Z"
   },
   {
    "duration": 17,
    "start_time": "2022-07-02T14:01:07.236Z"
   },
   {
    "duration": 250,
    "start_time": "2022-07-02T14:01:07.255Z"
   },
   {
    "duration": 25,
    "start_time": "2022-07-02T14:01:07.507Z"
   },
   {
    "duration": 240,
    "start_time": "2022-07-02T14:01:07.534Z"
   },
   {
    "duration": 57,
    "start_time": "2022-07-02T14:01:07.775Z"
   },
   {
    "duration": 14,
    "start_time": "2022-07-02T14:01:07.833Z"
   },
   {
    "duration": 82,
    "start_time": "2022-07-02T14:01:07.848Z"
   },
   {
    "duration": 1116,
    "start_time": "2022-07-02T14:01:35.632Z"
   },
   {
    "duration": 240,
    "start_time": "2022-07-02T14:01:36.750Z"
   },
   {
    "duration": 4,
    "start_time": "2022-07-02T14:01:36.992Z"
   },
   {
    "duration": 8,
    "start_time": "2022-07-02T14:01:36.998Z"
   },
   {
    "duration": 236,
    "start_time": "2022-07-02T14:01:37.008Z"
   },
   {
    "duration": 19,
    "start_time": "2022-07-02T14:01:37.246Z"
   },
   {
    "duration": 28,
    "start_time": "2022-07-02T14:01:37.267Z"
   },
   {
    "duration": 70,
    "start_time": "2022-07-02T14:01:37.296Z"
   },
   {
    "duration": 61,
    "start_time": "2022-07-02T14:01:37.368Z"
   },
   {
    "duration": 11,
    "start_time": "2022-07-02T14:01:37.432Z"
   },
   {
    "duration": 4,
    "start_time": "2022-07-02T14:01:37.444Z"
   },
   {
    "duration": 7,
    "start_time": "2022-07-02T14:01:37.449Z"
   },
   {
    "duration": 19,
    "start_time": "2022-07-02T14:01:37.457Z"
   },
   {
    "duration": 20,
    "start_time": "2022-07-02T14:01:37.478Z"
   },
   {
    "duration": 28,
    "start_time": "2022-07-02T14:01:37.500Z"
   },
   {
    "duration": 17,
    "start_time": "2022-07-02T14:01:37.530Z"
   },
   {
    "duration": 82,
    "start_time": "2022-07-02T14:01:37.548Z"
   },
   {
    "duration": 58,
    "start_time": "2022-07-02T14:01:37.631Z"
   },
   {
    "duration": 4,
    "start_time": "2022-07-02T14:01:37.690Z"
   },
   {
    "duration": 28,
    "start_time": "2022-07-02T14:01:37.696Z"
   },
   {
    "duration": 28,
    "start_time": "2022-07-02T14:01:37.726Z"
   },
   {
    "duration": 4,
    "start_time": "2022-07-02T14:01:37.756Z"
   },
   {
    "duration": 228,
    "start_time": "2022-07-02T14:01:37.762Z"
   },
   {
    "duration": 214,
    "start_time": "2022-07-02T14:01:37.992Z"
   },
   {
    "duration": 5,
    "start_time": "2022-07-02T14:01:38.207Z"
   },
   {
    "duration": 4,
    "start_time": "2022-07-02T14:01:38.223Z"
   },
   {
    "duration": 8,
    "start_time": "2022-07-02T14:01:38.228Z"
   },
   {
    "duration": 11,
    "start_time": "2022-07-02T14:01:38.239Z"
   },
   {
    "duration": 165,
    "start_time": "2022-07-02T14:01:38.251Z"
   },
   {
    "duration": 18,
    "start_time": "2022-07-02T14:01:38.417Z"
   },
   {
    "duration": 166,
    "start_time": "2022-07-02T14:01:38.436Z"
   },
   {
    "duration": 55,
    "start_time": "2022-07-02T14:01:38.604Z"
   },
   {
    "duration": 41,
    "start_time": "2022-07-02T14:01:38.661Z"
   },
   {
    "duration": 87,
    "start_time": "2022-07-02T14:01:38.703Z"
   },
   {
    "duration": 94,
    "start_time": "2022-07-02T14:01:38.791Z"
   },
   {
    "duration": 0,
    "start_time": "2022-07-02T14:01:38.887Z"
   },
   {
    "duration": 0,
    "start_time": "2022-07-02T14:01:38.889Z"
   },
   {
    "duration": 0,
    "start_time": "2022-07-02T14:01:38.890Z"
   },
   {
    "duration": 0,
    "start_time": "2022-07-02T14:01:38.892Z"
   },
   {
    "duration": 0,
    "start_time": "2022-07-02T14:01:38.893Z"
   },
   {
    "duration": 0,
    "start_time": "2022-07-02T14:01:38.895Z"
   },
   {
    "duration": 0,
    "start_time": "2022-07-02T14:01:38.896Z"
   },
   {
    "duration": 0,
    "start_time": "2022-07-02T14:01:38.897Z"
   },
   {
    "duration": 0,
    "start_time": "2022-07-02T14:01:38.897Z"
   },
   {
    "duration": 0,
    "start_time": "2022-07-02T14:01:38.899Z"
   },
   {
    "duration": 0,
    "start_time": "2022-07-02T14:01:38.900Z"
   },
   {
    "duration": 0,
    "start_time": "2022-07-02T14:01:38.901Z"
   },
   {
    "duration": 0,
    "start_time": "2022-07-02T14:01:38.902Z"
   },
   {
    "duration": 0,
    "start_time": "2022-07-02T14:01:38.903Z"
   },
   {
    "duration": 0,
    "start_time": "2022-07-02T14:01:38.904Z"
   },
   {
    "duration": 0,
    "start_time": "2022-07-02T14:01:38.905Z"
   },
   {
    "duration": 0,
    "start_time": "2022-07-02T14:01:38.906Z"
   },
   {
    "duration": 0,
    "start_time": "2022-07-02T14:01:38.907Z"
   },
   {
    "duration": 0,
    "start_time": "2022-07-02T14:01:38.908Z"
   },
   {
    "duration": 0,
    "start_time": "2022-07-02T14:01:38.909Z"
   },
   {
    "duration": 0,
    "start_time": "2022-07-02T14:01:38.910Z"
   },
   {
    "duration": 0,
    "start_time": "2022-07-02T14:01:38.911Z"
   },
   {
    "duration": 0,
    "start_time": "2022-07-02T14:01:38.912Z"
   },
   {
    "duration": 0,
    "start_time": "2022-07-02T14:01:38.913Z"
   },
   {
    "duration": 0,
    "start_time": "2022-07-02T14:01:38.914Z"
   },
   {
    "duration": 0,
    "start_time": "2022-07-02T14:01:38.915Z"
   },
   {
    "duration": 0,
    "start_time": "2022-07-02T14:01:38.916Z"
   },
   {
    "duration": 0,
    "start_time": "2022-07-02T14:01:38.918Z"
   },
   {
    "duration": 0,
    "start_time": "2022-07-02T14:01:38.919Z"
   },
   {
    "duration": 0,
    "start_time": "2022-07-02T14:01:38.921Z"
   },
   {
    "duration": 0,
    "start_time": "2022-07-02T14:01:38.923Z"
   },
   {
    "duration": 0,
    "start_time": "2022-07-02T14:01:38.924Z"
   },
   {
    "duration": 0,
    "start_time": "2022-07-02T14:01:38.926Z"
   },
   {
    "duration": 0,
    "start_time": "2022-07-02T14:01:38.927Z"
   },
   {
    "duration": 0,
    "start_time": "2022-07-02T14:01:38.929Z"
   },
   {
    "duration": 0,
    "start_time": "2022-07-02T14:01:38.930Z"
   },
   {
    "duration": 0,
    "start_time": "2022-07-02T14:01:38.931Z"
   },
   {
    "duration": 0,
    "start_time": "2022-07-02T14:01:38.932Z"
   },
   {
    "duration": 0,
    "start_time": "2022-07-02T14:01:38.933Z"
   },
   {
    "duration": 0,
    "start_time": "2022-07-02T14:01:38.935Z"
   },
   {
    "duration": 0,
    "start_time": "2022-07-02T14:01:38.936Z"
   },
   {
    "duration": 0,
    "start_time": "2022-07-02T14:01:38.937Z"
   },
   {
    "duration": 0,
    "start_time": "2022-07-02T14:01:38.938Z"
   },
   {
    "duration": 0,
    "start_time": "2022-07-02T14:01:38.939Z"
   },
   {
    "duration": 0,
    "start_time": "2022-07-02T14:01:38.940Z"
   },
   {
    "duration": 0,
    "start_time": "2022-07-02T14:01:38.942Z"
   },
   {
    "duration": 0,
    "start_time": "2022-07-02T14:01:38.943Z"
   },
   {
    "duration": 0,
    "start_time": "2022-07-02T14:01:38.944Z"
   },
   {
    "duration": 0,
    "start_time": "2022-07-02T14:01:38.945Z"
   },
   {
    "duration": 56,
    "start_time": "2022-07-02T14:03:04.810Z"
   },
   {
    "duration": 50,
    "start_time": "2022-07-02T14:03:28.913Z"
   },
   {
    "duration": 189,
    "start_time": "2022-07-02T14:03:32.568Z"
   },
   {
    "duration": 70,
    "start_time": "2022-07-02T14:03:51.614Z"
   },
   {
    "duration": 67,
    "start_time": "2022-07-02T14:03:57.903Z"
   },
   {
    "duration": 1196,
    "start_time": "2022-07-02T14:05:38.019Z"
   },
   {
    "duration": 247,
    "start_time": "2022-07-02T14:05:39.217Z"
   },
   {
    "duration": 5,
    "start_time": "2022-07-02T14:05:39.466Z"
   },
   {
    "duration": 7,
    "start_time": "2022-07-02T14:05:39.472Z"
   },
   {
    "duration": 225,
    "start_time": "2022-07-02T14:05:39.481Z"
   },
   {
    "duration": 25,
    "start_time": "2022-07-02T14:05:39.708Z"
   },
   {
    "duration": 28,
    "start_time": "2022-07-02T14:05:39.734Z"
   },
   {
    "duration": 34,
    "start_time": "2022-07-02T14:05:39.763Z"
   },
   {
    "duration": 58,
    "start_time": "2022-07-02T14:05:39.798Z"
   },
   {
    "duration": 11,
    "start_time": "2022-07-02T14:05:39.857Z"
   },
   {
    "duration": 5,
    "start_time": "2022-07-02T14:05:39.869Z"
   },
   {
    "duration": 5,
    "start_time": "2022-07-02T14:05:39.876Z"
   },
   {
    "duration": 18,
    "start_time": "2022-07-02T14:05:39.883Z"
   },
   {
    "duration": 41,
    "start_time": "2022-07-02T14:05:39.903Z"
   },
   {
    "duration": 11,
    "start_time": "2022-07-02T14:05:39.946Z"
   },
   {
    "duration": 23,
    "start_time": "2022-07-02T14:05:39.959Z"
   },
   {
    "duration": 86,
    "start_time": "2022-07-02T14:05:39.983Z"
   },
   {
    "duration": 66,
    "start_time": "2022-07-02T14:05:40.071Z"
   },
   {
    "duration": 3,
    "start_time": "2022-07-02T14:05:40.139Z"
   },
   {
    "duration": 14,
    "start_time": "2022-07-02T14:05:40.144Z"
   },
   {
    "duration": 31,
    "start_time": "2022-07-02T14:05:40.159Z"
   },
   {
    "duration": 5,
    "start_time": "2022-07-02T14:05:40.192Z"
   },
   {
    "duration": 219,
    "start_time": "2022-07-02T14:05:40.198Z"
   },
   {
    "duration": 207,
    "start_time": "2022-07-02T14:05:40.423Z"
   },
   {
    "duration": 5,
    "start_time": "2022-07-02T14:05:40.632Z"
   },
   {
    "duration": 5,
    "start_time": "2022-07-02T14:05:40.639Z"
   },
   {
    "duration": 5,
    "start_time": "2022-07-02T14:05:40.646Z"
   },
   {
    "duration": 12,
    "start_time": "2022-07-02T14:05:40.652Z"
   },
   {
    "duration": 160,
    "start_time": "2022-07-02T14:05:40.665Z"
   },
   {
    "duration": 12,
    "start_time": "2022-07-02T14:05:40.827Z"
   },
   {
    "duration": 152,
    "start_time": "2022-07-02T14:05:40.841Z"
   },
   {
    "duration": 2,
    "start_time": "2022-07-02T14:05:40.995Z"
   },
   {
    "duration": 9,
    "start_time": "2022-07-02T14:05:40.998Z"
   },
   {
    "duration": 10,
    "start_time": "2022-07-02T14:05:41.008Z"
   },
   {
    "duration": 58,
    "start_time": "2022-07-02T14:05:41.020Z"
   },
   {
    "duration": 0,
    "start_time": "2022-07-02T14:05:41.080Z"
   },
   {
    "duration": 0,
    "start_time": "2022-07-02T14:05:41.081Z"
   },
   {
    "duration": 0,
    "start_time": "2022-07-02T14:05:41.082Z"
   },
   {
    "duration": 0,
    "start_time": "2022-07-02T14:05:41.083Z"
   },
   {
    "duration": 0,
    "start_time": "2022-07-02T14:05:41.084Z"
   },
   {
    "duration": 0,
    "start_time": "2022-07-02T14:05:41.085Z"
   },
   {
    "duration": 0,
    "start_time": "2022-07-02T14:05:41.086Z"
   },
   {
    "duration": 0,
    "start_time": "2022-07-02T14:05:41.087Z"
   },
   {
    "duration": 0,
    "start_time": "2022-07-02T14:05:41.088Z"
   },
   {
    "duration": 0,
    "start_time": "2022-07-02T14:05:41.089Z"
   },
   {
    "duration": 0,
    "start_time": "2022-07-02T14:05:41.090Z"
   },
   {
    "duration": 0,
    "start_time": "2022-07-02T14:05:41.091Z"
   },
   {
    "duration": 0,
    "start_time": "2022-07-02T14:05:41.092Z"
   },
   {
    "duration": 0,
    "start_time": "2022-07-02T14:05:41.092Z"
   },
   {
    "duration": 0,
    "start_time": "2022-07-02T14:05:41.093Z"
   },
   {
    "duration": 0,
    "start_time": "2022-07-02T14:05:41.094Z"
   },
   {
    "duration": 0,
    "start_time": "2022-07-02T14:05:41.095Z"
   },
   {
    "duration": 0,
    "start_time": "2022-07-02T14:05:41.096Z"
   },
   {
    "duration": 0,
    "start_time": "2022-07-02T14:05:41.097Z"
   },
   {
    "duration": 0,
    "start_time": "2022-07-02T14:05:41.098Z"
   },
   {
    "duration": 0,
    "start_time": "2022-07-02T14:05:41.099Z"
   },
   {
    "duration": 0,
    "start_time": "2022-07-02T14:05:41.100Z"
   },
   {
    "duration": 0,
    "start_time": "2022-07-02T14:05:41.101Z"
   },
   {
    "duration": 0,
    "start_time": "2022-07-02T14:05:41.102Z"
   },
   {
    "duration": 0,
    "start_time": "2022-07-02T14:05:41.103Z"
   },
   {
    "duration": 0,
    "start_time": "2022-07-02T14:05:41.104Z"
   },
   {
    "duration": 0,
    "start_time": "2022-07-02T14:05:41.105Z"
   },
   {
    "duration": 0,
    "start_time": "2022-07-02T14:05:41.106Z"
   },
   {
    "duration": 0,
    "start_time": "2022-07-02T14:05:41.107Z"
   },
   {
    "duration": 0,
    "start_time": "2022-07-02T14:05:41.108Z"
   },
   {
    "duration": 0,
    "start_time": "2022-07-02T14:05:41.109Z"
   },
   {
    "duration": 0,
    "start_time": "2022-07-02T14:05:41.110Z"
   },
   {
    "duration": 0,
    "start_time": "2022-07-02T14:05:41.112Z"
   },
   {
    "duration": 0,
    "start_time": "2022-07-02T14:05:41.113Z"
   },
   {
    "duration": 0,
    "start_time": "2022-07-02T14:05:41.114Z"
   },
   {
    "duration": 0,
    "start_time": "2022-07-02T14:05:41.123Z"
   },
   {
    "duration": 0,
    "start_time": "2022-07-02T14:05:41.124Z"
   },
   {
    "duration": 0,
    "start_time": "2022-07-02T14:05:41.125Z"
   },
   {
    "duration": 0,
    "start_time": "2022-07-02T14:05:41.126Z"
   },
   {
    "duration": 0,
    "start_time": "2022-07-02T14:05:41.127Z"
   },
   {
    "duration": 0,
    "start_time": "2022-07-02T14:05:41.128Z"
   },
   {
    "duration": 0,
    "start_time": "2022-07-02T14:05:41.129Z"
   },
   {
    "duration": 0,
    "start_time": "2022-07-02T14:05:41.130Z"
   },
   {
    "duration": 0,
    "start_time": "2022-07-02T14:05:41.131Z"
   },
   {
    "duration": 0,
    "start_time": "2022-07-02T14:05:41.132Z"
   },
   {
    "duration": 0,
    "start_time": "2022-07-02T14:05:41.133Z"
   },
   {
    "duration": 0,
    "start_time": "2022-07-02T14:05:41.134Z"
   },
   {
    "duration": 0,
    "start_time": "2022-07-02T14:05:41.135Z"
   },
   {
    "duration": 0,
    "start_time": "2022-07-02T14:05:41.136Z"
   },
   {
    "duration": 2,
    "start_time": "2022-07-02T14:05:49.453Z"
   },
   {
    "duration": 13,
    "start_time": "2022-07-02T14:05:49.457Z"
   },
   {
    "duration": 267,
    "start_time": "2022-07-02T14:05:49.472Z"
   },
   {
    "duration": 24,
    "start_time": "2022-07-02T14:05:49.742Z"
   },
   {
    "duration": 37,
    "start_time": "2022-07-02T14:05:49.769Z"
   },
   {
    "duration": 40,
    "start_time": "2022-07-02T14:05:49.808Z"
   },
   {
    "duration": 11,
    "start_time": "2022-07-02T14:05:49.849Z"
   },
   {
    "duration": 12,
    "start_time": "2022-07-02T14:05:49.862Z"
   },
   {
    "duration": 12,
    "start_time": "2022-07-02T14:05:49.876Z"
   },
   {
    "duration": 8,
    "start_time": "2022-07-02T14:05:49.889Z"
   },
   {
    "duration": 13,
    "start_time": "2022-07-02T14:05:49.898Z"
   },
   {
    "duration": 48,
    "start_time": "2022-07-02T14:05:49.912Z"
   },
   {
    "duration": 13,
    "start_time": "2022-07-02T14:05:49.963Z"
   },
   {
    "duration": 15,
    "start_time": "2022-07-02T14:05:49.979Z"
   },
   {
    "duration": 5,
    "start_time": "2022-07-02T14:05:49.995Z"
   },
   {
    "duration": 27,
    "start_time": "2022-07-02T14:05:50.001Z"
   },
   {
    "duration": 5,
    "start_time": "2022-07-02T14:05:50.030Z"
   },
   {
    "duration": 280,
    "start_time": "2022-07-02T14:05:50.036Z"
   },
   {
    "duration": 216,
    "start_time": "2022-07-02T14:05:50.323Z"
   },
   {
    "duration": 10,
    "start_time": "2022-07-02T14:05:50.541Z"
   },
   {
    "duration": 16,
    "start_time": "2022-07-02T14:05:50.552Z"
   },
   {
    "duration": 5,
    "start_time": "2022-07-02T14:05:50.570Z"
   },
   {
    "duration": 60,
    "start_time": "2022-07-02T14:05:50.577Z"
   },
   {
    "duration": 146,
    "start_time": "2022-07-02T14:05:50.639Z"
   },
   {
    "duration": 3,
    "start_time": "2022-07-02T14:05:50.787Z"
   },
   {
    "duration": 7,
    "start_time": "2022-07-02T14:05:50.791Z"
   },
   {
    "duration": 8,
    "start_time": "2022-07-02T14:05:50.799Z"
   },
   {
    "duration": 21,
    "start_time": "2022-07-02T14:05:50.808Z"
   },
   {
    "duration": 8,
    "start_time": "2022-07-02T14:05:50.831Z"
   },
   {
    "duration": 6,
    "start_time": "2022-07-02T14:05:50.840Z"
   },
   {
    "duration": 8,
    "start_time": "2022-07-02T14:05:50.847Z"
   },
   {
    "duration": 5,
    "start_time": "2022-07-02T14:05:50.856Z"
   },
   {
    "duration": 5,
    "start_time": "2022-07-02T14:05:50.863Z"
   },
   {
    "duration": 5,
    "start_time": "2022-07-02T14:05:50.870Z"
   },
   {
    "duration": 8,
    "start_time": "2022-07-02T14:05:50.876Z"
   },
   {
    "duration": 5,
    "start_time": "2022-07-02T14:05:50.885Z"
   },
   {
    "duration": 31,
    "start_time": "2022-07-02T14:05:50.892Z"
   },
   {
    "duration": 8,
    "start_time": "2022-07-02T14:05:50.925Z"
   },
   {
    "duration": 34,
    "start_time": "2022-07-02T14:05:50.935Z"
   },
   {
    "duration": 9,
    "start_time": "2022-07-02T14:05:50.970Z"
   },
   {
    "duration": 17,
    "start_time": "2022-07-02T14:05:50.982Z"
   },
   {
    "duration": 3,
    "start_time": "2022-07-02T14:05:51.000Z"
   },
   {
    "duration": 13,
    "start_time": "2022-07-02T14:05:51.004Z"
   },
   {
    "duration": 10,
    "start_time": "2022-07-02T14:05:51.022Z"
   },
   {
    "duration": 13,
    "start_time": "2022-07-02T14:05:51.034Z"
   },
   {
    "duration": 32,
    "start_time": "2022-07-02T14:05:51.048Z"
   },
   {
    "duration": 3,
    "start_time": "2022-07-02T14:05:51.082Z"
   },
   {
    "duration": 207,
    "start_time": "2022-07-02T14:05:51.087Z"
   },
   {
    "duration": 185,
    "start_time": "2022-07-02T14:05:51.295Z"
   },
   {
    "duration": 4,
    "start_time": "2022-07-02T14:05:51.482Z"
   },
   {
    "duration": 36,
    "start_time": "2022-07-02T14:14:48.117Z"
   },
   {
    "duration": 8,
    "start_time": "2022-07-02T14:14:54.227Z"
   },
   {
    "duration": 14,
    "start_time": "2022-07-02T14:15:02.164Z"
   },
   {
    "duration": 16,
    "start_time": "2022-07-02T14:15:17.909Z"
   },
   {
    "duration": 11,
    "start_time": "2022-07-02T14:15:22.322Z"
   },
   {
    "duration": 5,
    "start_time": "2022-07-02T14:15:59.845Z"
   },
   {
    "duration": 687,
    "start_time": "2022-07-02T14:16:27.785Z"
   },
   {
    "duration": 14,
    "start_time": "2022-07-02T14:16:30.345Z"
   },
   {
    "duration": 6,
    "start_time": "2022-07-02T14:16:42.155Z"
   },
   {
    "duration": 27,
    "start_time": "2022-07-02T14:17:21.897Z"
   },
   {
    "duration": 37,
    "start_time": "2022-07-02T14:17:28.525Z"
   },
   {
    "duration": 11,
    "start_time": "2022-07-02T14:17:30.183Z"
   },
   {
    "duration": 6,
    "start_time": "2022-07-02T14:17:34.936Z"
   },
   {
    "duration": 5,
    "start_time": "2022-07-02T14:17:38.066Z"
   },
   {
    "duration": 1151,
    "start_time": "2022-07-02T14:21:42.252Z"
   },
   {
    "duration": 234,
    "start_time": "2022-07-02T14:21:43.406Z"
   },
   {
    "duration": 4,
    "start_time": "2022-07-02T14:21:43.642Z"
   },
   {
    "duration": 11,
    "start_time": "2022-07-02T14:21:43.648Z"
   },
   {
    "duration": 229,
    "start_time": "2022-07-02T14:21:43.661Z"
   },
   {
    "duration": 18,
    "start_time": "2022-07-02T14:21:43.892Z"
   },
   {
    "duration": 38,
    "start_time": "2022-07-02T14:21:43.912Z"
   },
   {
    "duration": 37,
    "start_time": "2022-07-02T14:21:43.953Z"
   },
   {
    "duration": 56,
    "start_time": "2022-07-02T14:21:43.991Z"
   },
   {
    "duration": 10,
    "start_time": "2022-07-02T14:21:44.049Z"
   },
   {
    "duration": 2,
    "start_time": "2022-07-02T14:21:44.061Z"
   },
   {
    "duration": 5,
    "start_time": "2022-07-02T14:21:44.065Z"
   },
   {
    "duration": 17,
    "start_time": "2022-07-02T14:21:44.072Z"
   },
   {
    "duration": 34,
    "start_time": "2022-07-02T14:21:44.090Z"
   },
   {
    "duration": 10,
    "start_time": "2022-07-02T14:21:44.125Z"
   },
   {
    "duration": 18,
    "start_time": "2022-07-02T14:21:44.137Z"
   },
   {
    "duration": 81,
    "start_time": "2022-07-02T14:21:44.156Z"
   },
   {
    "duration": 56,
    "start_time": "2022-07-02T14:21:44.238Z"
   },
   {
    "duration": 4,
    "start_time": "2022-07-02T14:21:44.296Z"
   },
   {
    "duration": 24,
    "start_time": "2022-07-02T14:21:44.301Z"
   },
   {
    "duration": 31,
    "start_time": "2022-07-02T14:21:44.326Z"
   },
   {
    "duration": 5,
    "start_time": "2022-07-02T14:21:44.358Z"
   },
   {
    "duration": 218,
    "start_time": "2022-07-02T14:21:44.364Z"
   },
   {
    "duration": 203,
    "start_time": "2022-07-02T14:21:44.584Z"
   },
   {
    "duration": 5,
    "start_time": "2022-07-02T14:21:44.789Z"
   },
   {
    "duration": 7,
    "start_time": "2022-07-02T14:21:44.795Z"
   },
   {
    "duration": 21,
    "start_time": "2022-07-02T14:21:44.803Z"
   },
   {
    "duration": 12,
    "start_time": "2022-07-02T14:21:44.828Z"
   },
   {
    "duration": 153,
    "start_time": "2022-07-02T14:21:44.842Z"
   },
   {
    "duration": 14,
    "start_time": "2022-07-02T14:21:44.996Z"
   },
   {
    "duration": 153,
    "start_time": "2022-07-02T14:21:45.022Z"
   },
   {
    "duration": 2,
    "start_time": "2022-07-02T14:21:45.177Z"
   },
   {
    "duration": 5,
    "start_time": "2022-07-02T14:21:45.180Z"
   },
   {
    "duration": 4,
    "start_time": "2022-07-02T14:21:45.187Z"
   },
   {
    "duration": 6,
    "start_time": "2022-07-02T14:21:45.192Z"
   },
   {
    "duration": 28,
    "start_time": "2022-07-02T14:21:45.200Z"
   },
   {
    "duration": 273,
    "start_time": "2022-07-02T14:21:45.230Z"
   },
   {
    "duration": 25,
    "start_time": "2022-07-02T14:21:45.505Z"
   },
   {
    "duration": 37,
    "start_time": "2022-07-02T14:21:45.532Z"
   },
   {
    "duration": 34,
    "start_time": "2022-07-02T14:21:45.570Z"
   },
   {
    "duration": 25,
    "start_time": "2022-07-02T14:21:45.605Z"
   },
   {
    "duration": 8,
    "start_time": "2022-07-02T14:21:45.632Z"
   },
   {
    "duration": 5,
    "start_time": "2022-07-02T14:21:45.642Z"
   },
   {
    "duration": 5,
    "start_time": "2022-07-02T14:21:45.648Z"
   },
   {
    "duration": 14,
    "start_time": "2022-07-02T14:21:45.655Z"
   },
   {
    "duration": 62,
    "start_time": "2022-07-02T14:21:45.670Z"
   },
   {
    "duration": 13,
    "start_time": "2022-07-02T14:21:45.734Z"
   },
   {
    "duration": 45,
    "start_time": "2022-07-02T14:21:45.748Z"
   },
   {
    "duration": 10,
    "start_time": "2022-07-02T14:21:45.795Z"
   },
   {
    "duration": 943,
    "start_time": "2022-07-02T14:21:45.823Z"
   },
   {
    "duration": 0,
    "start_time": "2022-07-02T14:21:46.768Z"
   },
   {
    "duration": 0,
    "start_time": "2022-07-02T14:21:46.769Z"
   },
   {
    "duration": 0,
    "start_time": "2022-07-02T14:21:46.770Z"
   },
   {
    "duration": 0,
    "start_time": "2022-07-02T14:21:46.771Z"
   },
   {
    "duration": 0,
    "start_time": "2022-07-02T14:21:46.773Z"
   },
   {
    "duration": 0,
    "start_time": "2022-07-02T14:21:46.774Z"
   },
   {
    "duration": 0,
    "start_time": "2022-07-02T14:21:46.776Z"
   },
   {
    "duration": 0,
    "start_time": "2022-07-02T14:21:46.777Z"
   },
   {
    "duration": 0,
    "start_time": "2022-07-02T14:21:46.778Z"
   },
   {
    "duration": 0,
    "start_time": "2022-07-02T14:21:46.779Z"
   },
   {
    "duration": 0,
    "start_time": "2022-07-02T14:21:46.781Z"
   },
   {
    "duration": 0,
    "start_time": "2022-07-02T14:21:46.783Z"
   },
   {
    "duration": 0,
    "start_time": "2022-07-02T14:21:46.784Z"
   },
   {
    "duration": 0,
    "start_time": "2022-07-02T14:21:46.785Z"
   },
   {
    "duration": 0,
    "start_time": "2022-07-02T14:21:46.786Z"
   },
   {
    "duration": 0,
    "start_time": "2022-07-02T14:21:46.788Z"
   },
   {
    "duration": 0,
    "start_time": "2022-07-02T14:21:46.789Z"
   },
   {
    "duration": 0,
    "start_time": "2022-07-02T14:21:46.790Z"
   },
   {
    "duration": 0,
    "start_time": "2022-07-02T14:21:46.791Z"
   },
   {
    "duration": 0,
    "start_time": "2022-07-02T14:21:46.793Z"
   },
   {
    "duration": 0,
    "start_time": "2022-07-02T14:21:46.794Z"
   },
   {
    "duration": 0,
    "start_time": "2022-07-02T14:21:46.795Z"
   },
   {
    "duration": 0,
    "start_time": "2022-07-02T14:21:46.797Z"
   },
   {
    "duration": 0,
    "start_time": "2022-07-02T14:21:46.798Z"
   },
   {
    "duration": 0,
    "start_time": "2022-07-02T14:21:46.799Z"
   },
   {
    "duration": 1,
    "start_time": "2022-07-02T14:21:46.800Z"
   },
   {
    "duration": 0,
    "start_time": "2022-07-02T14:21:46.802Z"
   },
   {
    "duration": 0,
    "start_time": "2022-07-02T14:21:46.803Z"
   },
   {
    "duration": 0,
    "start_time": "2022-07-02T14:21:46.805Z"
   },
   {
    "duration": 0,
    "start_time": "2022-07-02T14:21:46.806Z"
   },
   {
    "duration": 0,
    "start_time": "2022-07-02T14:21:46.807Z"
   },
   {
    "duration": 0,
    "start_time": "2022-07-02T14:21:46.808Z"
   },
   {
    "duration": 0,
    "start_time": "2022-07-02T14:21:46.809Z"
   },
   {
    "duration": 0,
    "start_time": "2022-07-02T14:21:46.823Z"
   },
   {
    "duration": 0,
    "start_time": "2022-07-02T14:21:46.824Z"
   },
   {
    "duration": 0,
    "start_time": "2022-07-02T14:21:46.826Z"
   },
   {
    "duration": 0,
    "start_time": "2022-07-02T14:21:46.827Z"
   },
   {
    "duration": 3,
    "start_time": "2022-07-02T14:24:21.154Z"
   },
   {
    "duration": 28,
    "start_time": "2022-07-02T14:24:21.159Z"
   },
   {
    "duration": 4,
    "start_time": "2022-07-02T14:24:21.189Z"
   },
   {
    "duration": 11,
    "start_time": "2022-07-02T14:24:21.195Z"
   },
   {
    "duration": 5,
    "start_time": "2022-07-02T14:24:21.207Z"
   },
   {
    "duration": 256,
    "start_time": "2022-07-02T14:24:21.213Z"
   },
   {
    "duration": 214,
    "start_time": "2022-07-02T14:24:21.471Z"
   },
   {
    "duration": 14,
    "start_time": "2022-07-02T14:24:21.686Z"
   },
   {
    "duration": 25,
    "start_time": "2022-07-02T14:24:21.702Z"
   },
   {
    "duration": 5,
    "start_time": "2022-07-02T14:24:21.731Z"
   },
   {
    "duration": 46,
    "start_time": "2022-07-02T14:24:21.738Z"
   },
   {
    "duration": 160,
    "start_time": "2022-07-02T14:24:21.785Z"
   },
   {
    "duration": 3,
    "start_time": "2022-07-02T14:24:21.947Z"
   },
   {
    "duration": 7,
    "start_time": "2022-07-02T14:24:21.952Z"
   },
   {
    "duration": 13,
    "start_time": "2022-07-02T14:24:21.961Z"
   },
   {
    "duration": 8,
    "start_time": "2022-07-02T14:24:21.975Z"
   },
   {
    "duration": 8,
    "start_time": "2022-07-02T14:24:21.984Z"
   },
   {
    "duration": 5,
    "start_time": "2022-07-02T14:24:21.994Z"
   },
   {
    "duration": 25,
    "start_time": "2022-07-02T14:24:22.000Z"
   },
   {
    "duration": 5,
    "start_time": "2022-07-02T14:24:22.026Z"
   },
   {
    "duration": 6,
    "start_time": "2022-07-02T14:24:22.033Z"
   },
   {
    "duration": 5,
    "start_time": "2022-07-02T14:24:22.041Z"
   },
   {
    "duration": 6,
    "start_time": "2022-07-02T14:24:22.048Z"
   },
   {
    "duration": 6,
    "start_time": "2022-07-02T14:24:22.055Z"
   },
   {
    "duration": 6,
    "start_time": "2022-07-02T14:24:22.062Z"
   },
   {
    "duration": 5,
    "start_time": "2022-07-02T14:24:22.069Z"
   },
   {
    "duration": 15,
    "start_time": "2022-07-02T14:24:22.076Z"
   },
   {
    "duration": 8,
    "start_time": "2022-07-02T14:24:22.123Z"
   },
   {
    "duration": 16,
    "start_time": "2022-07-02T14:24:22.133Z"
   },
   {
    "duration": 3,
    "start_time": "2022-07-02T14:24:22.151Z"
   },
   {
    "duration": 11,
    "start_time": "2022-07-02T14:24:22.156Z"
   },
   {
    "duration": 9,
    "start_time": "2022-07-02T14:24:22.169Z"
   },
   {
    "duration": 9,
    "start_time": "2022-07-02T14:24:22.180Z"
   },
   {
    "duration": 56,
    "start_time": "2022-07-02T14:24:22.190Z"
   },
   {
    "duration": 5,
    "start_time": "2022-07-02T14:24:22.247Z"
   },
   {
    "duration": 226,
    "start_time": "2022-07-02T14:24:22.254Z"
   },
   {
    "duration": 222,
    "start_time": "2022-07-02T14:24:22.482Z"
   },
   {
    "duration": 5,
    "start_time": "2022-07-02T14:24:22.706Z"
   },
   {
    "duration": 783,
    "start_time": "2022-07-02T14:25:41.097Z"
   },
   {
    "duration": 10,
    "start_time": "2022-07-02T14:26:42.286Z"
   },
   {
    "duration": 39,
    "start_time": "2022-07-02T14:26:44.867Z"
   },
   {
    "duration": 10,
    "start_time": "2022-07-02T14:26:46.070Z"
   },
   {
    "duration": 824,
    "start_time": "2022-07-02T14:26:49.821Z"
   },
   {
    "duration": 28,
    "start_time": "2022-07-02T14:30:05.496Z"
   },
   {
    "duration": 13,
    "start_time": "2022-07-02T14:30:12.120Z"
   },
   {
    "duration": 11,
    "start_time": "2022-07-02T14:30:50.131Z"
   },
   {
    "duration": 57,
    "start_time": "2022-07-02T14:31:48.583Z"
   },
   {
    "duration": 10,
    "start_time": "2022-07-02T14:31:49.846Z"
   },
   {
    "duration": 30,
    "start_time": "2022-07-02T14:32:25.615Z"
   },
   {
    "duration": 22,
    "start_time": "2022-07-02T14:32:34.818Z"
   },
   {
    "duration": 4,
    "start_time": "2022-07-02T14:32:46.267Z"
   },
   {
    "duration": 14,
    "start_time": "2022-07-02T14:41:30.233Z"
   },
   {
    "duration": 55,
    "start_time": "2022-07-02T14:41:33.367Z"
   },
   {
    "duration": 10,
    "start_time": "2022-07-02T14:41:34.311Z"
   },
   {
    "duration": 1092,
    "start_time": "2022-07-02T14:42:02.173Z"
   },
   {
    "duration": 236,
    "start_time": "2022-07-02T14:42:03.267Z"
   },
   {
    "duration": 5,
    "start_time": "2022-07-02T14:42:03.505Z"
   },
   {
    "duration": 5,
    "start_time": "2022-07-02T14:42:03.511Z"
   },
   {
    "duration": 216,
    "start_time": "2022-07-02T14:42:03.519Z"
   },
   {
    "duration": 22,
    "start_time": "2022-07-02T14:42:03.737Z"
   },
   {
    "duration": 28,
    "start_time": "2022-07-02T14:42:03.761Z"
   },
   {
    "duration": 62,
    "start_time": "2022-07-02T14:42:03.790Z"
   },
   {
    "duration": 38,
    "start_time": "2022-07-02T14:42:03.854Z"
   },
   {
    "duration": 10,
    "start_time": "2022-07-02T14:42:03.894Z"
   },
   {
    "duration": 17,
    "start_time": "2022-07-02T14:42:03.906Z"
   },
   {
    "duration": 2,
    "start_time": "2022-07-02T14:42:03.925Z"
   },
   {
    "duration": 18,
    "start_time": "2022-07-02T14:42:03.928Z"
   },
   {
    "duration": 17,
    "start_time": "2022-07-02T14:42:03.949Z"
   },
   {
    "duration": 13,
    "start_time": "2022-07-02T14:42:03.968Z"
   },
   {
    "duration": 15,
    "start_time": "2022-07-02T14:42:03.982Z"
   },
   {
    "duration": 67,
    "start_time": "2022-07-02T14:42:04.024Z"
   },
   {
    "duration": 73,
    "start_time": "2022-07-02T14:42:04.094Z"
   },
   {
    "duration": 4,
    "start_time": "2022-07-02T14:42:04.169Z"
   },
   {
    "duration": 13,
    "start_time": "2022-07-02T14:42:04.175Z"
   },
   {
    "duration": 44,
    "start_time": "2022-07-02T14:42:04.190Z"
   },
   {
    "duration": 6,
    "start_time": "2022-07-02T14:42:04.236Z"
   },
   {
    "duration": 218,
    "start_time": "2022-07-02T14:42:04.244Z"
   },
   {
    "duration": 214,
    "start_time": "2022-07-02T14:42:04.464Z"
   },
   {
    "duration": 6,
    "start_time": "2022-07-02T14:42:04.679Z"
   },
   {
    "duration": 7,
    "start_time": "2022-07-02T14:42:04.686Z"
   },
   {
    "duration": 8,
    "start_time": "2022-07-02T14:42:04.695Z"
   },
   {
    "duration": 23,
    "start_time": "2022-07-02T14:42:04.705Z"
   },
   {
    "duration": 148,
    "start_time": "2022-07-02T14:42:04.729Z"
   },
   {
    "duration": 14,
    "start_time": "2022-07-02T14:42:04.879Z"
   },
   {
    "duration": 153,
    "start_time": "2022-07-02T14:42:04.895Z"
   },
   {
    "duration": 2,
    "start_time": "2022-07-02T14:42:05.050Z"
   },
   {
    "duration": 5,
    "start_time": "2022-07-02T14:42:05.054Z"
   },
   {
    "duration": 6,
    "start_time": "2022-07-02T14:42:05.061Z"
   },
   {
    "duration": 5,
    "start_time": "2022-07-02T14:42:05.069Z"
   },
   {
    "duration": 15,
    "start_time": "2022-07-02T14:42:05.076Z"
   },
   {
    "duration": 279,
    "start_time": "2022-07-02T14:42:05.092Z"
   },
   {
    "duration": 23,
    "start_time": "2022-07-02T14:42:05.373Z"
   },
   {
    "duration": 38,
    "start_time": "2022-07-02T14:42:05.398Z"
   },
   {
    "duration": 36,
    "start_time": "2022-07-02T14:42:05.438Z"
   },
   {
    "duration": 13,
    "start_time": "2022-07-02T14:42:05.479Z"
   },
   {
    "duration": 8,
    "start_time": "2022-07-02T14:42:05.493Z"
   },
   {
    "duration": 5,
    "start_time": "2022-07-02T14:42:05.523Z"
   },
   {
    "duration": 10,
    "start_time": "2022-07-02T14:42:05.529Z"
   },
   {
    "duration": 12,
    "start_time": "2022-07-02T14:42:05.540Z"
   },
   {
    "duration": 41,
    "start_time": "2022-07-02T14:42:05.553Z"
   },
   {
    "duration": 12,
    "start_time": "2022-07-02T14:42:05.596Z"
   },
   {
    "duration": 15,
    "start_time": "2022-07-02T14:42:05.623Z"
   },
   {
    "duration": 60,
    "start_time": "2022-07-02T14:42:05.639Z"
   },
   {
    "duration": 27,
    "start_time": "2022-07-02T14:42:05.701Z"
   },
   {
    "duration": 27,
    "start_time": "2022-07-02T14:42:05.729Z"
   },
   {
    "duration": 4,
    "start_time": "2022-07-02T14:42:05.758Z"
   },
   {
    "duration": 17,
    "start_time": "2022-07-02T14:42:05.764Z"
   },
   {
    "duration": 18,
    "start_time": "2022-07-02T14:42:05.783Z"
   },
   {
    "duration": 17,
    "start_time": "2022-07-02T14:42:05.802Z"
   },
   {
    "duration": 8,
    "start_time": "2022-07-02T14:42:05.820Z"
   },
   {
    "duration": 270,
    "start_time": "2022-07-02T14:42:05.830Z"
   },
   {
    "duration": 222,
    "start_time": "2022-07-02T14:42:06.102Z"
   },
   {
    "duration": 12,
    "start_time": "2022-07-02T14:42:06.326Z"
   },
   {
    "duration": 12,
    "start_time": "2022-07-02T14:42:06.340Z"
   },
   {
    "duration": 5,
    "start_time": "2022-07-02T14:42:06.354Z"
   },
   {
    "duration": 76,
    "start_time": "2022-07-02T14:42:06.361Z"
   },
   {
    "duration": 149,
    "start_time": "2022-07-02T14:42:06.439Z"
   },
   {
    "duration": 2,
    "start_time": "2022-07-02T14:42:06.590Z"
   },
   {
    "duration": 7,
    "start_time": "2022-07-02T14:42:06.594Z"
   },
   {
    "duration": 21,
    "start_time": "2022-07-02T14:42:06.602Z"
   },
   {
    "duration": 4,
    "start_time": "2022-07-02T14:42:06.625Z"
   },
   {
    "duration": 7,
    "start_time": "2022-07-02T14:42:06.631Z"
   },
   {
    "duration": 5,
    "start_time": "2022-07-02T14:42:06.639Z"
   },
   {
    "duration": 10,
    "start_time": "2022-07-02T14:42:06.646Z"
   },
   {
    "duration": 6,
    "start_time": "2022-07-02T14:42:06.658Z"
   },
   {
    "duration": 7,
    "start_time": "2022-07-02T14:42:06.666Z"
   },
   {
    "duration": 4,
    "start_time": "2022-07-02T14:42:06.675Z"
   },
   {
    "duration": 6,
    "start_time": "2022-07-02T14:42:06.680Z"
   },
   {
    "duration": 37,
    "start_time": "2022-07-02T14:42:06.687Z"
   },
   {
    "duration": 9,
    "start_time": "2022-07-02T14:42:06.726Z"
   },
   {
    "duration": 8,
    "start_time": "2022-07-02T14:42:06.736Z"
   },
   {
    "duration": 21,
    "start_time": "2022-07-02T14:42:06.745Z"
   },
   {
    "duration": 9,
    "start_time": "2022-07-02T14:42:06.767Z"
   },
   {
    "duration": 17,
    "start_time": "2022-07-02T14:42:06.778Z"
   },
   {
    "duration": 3,
    "start_time": "2022-07-02T14:42:06.797Z"
   },
   {
    "duration": 30,
    "start_time": "2022-07-02T14:42:06.801Z"
   },
   {
    "duration": 10,
    "start_time": "2022-07-02T14:42:06.833Z"
   },
   {
    "duration": 9,
    "start_time": "2022-07-02T14:42:06.844Z"
   },
   {
    "duration": 34,
    "start_time": "2022-07-02T14:42:06.854Z"
   },
   {
    "duration": 4,
    "start_time": "2022-07-02T14:42:06.889Z"
   },
   {
    "duration": 243,
    "start_time": "2022-07-02T14:42:06.895Z"
   },
   {
    "duration": 199,
    "start_time": "2022-07-02T14:42:07.140Z"
   },
   {
    "duration": 4,
    "start_time": "2022-07-02T14:42:07.341Z"
   },
   {
    "duration": 14,
    "start_time": "2022-07-02T14:43:56.652Z"
   },
   {
    "duration": 43,
    "start_time": "2022-07-02T14:43:57.533Z"
   },
   {
    "duration": 9,
    "start_time": "2022-07-02T14:43:58.086Z"
   },
   {
    "duration": 14,
    "start_time": "2022-07-02T14:44:04.235Z"
   },
   {
    "duration": 37,
    "start_time": "2022-07-02T14:44:04.610Z"
   },
   {
    "duration": 7,
    "start_time": "2022-07-02T14:44:05.215Z"
   },
   {
    "duration": 1146,
    "start_time": "2022-07-02T14:44:11.327Z"
   },
   {
    "duration": 306,
    "start_time": "2022-07-02T14:44:12.475Z"
   },
   {
    "duration": 6,
    "start_time": "2022-07-02T14:44:12.783Z"
   },
   {
    "duration": 13,
    "start_time": "2022-07-02T14:44:12.791Z"
   },
   {
    "duration": 247,
    "start_time": "2022-07-02T14:44:12.807Z"
   },
   {
    "duration": 18,
    "start_time": "2022-07-02T14:44:13.056Z"
   },
   {
    "duration": 27,
    "start_time": "2022-07-02T14:44:13.075Z"
   },
   {
    "duration": 34,
    "start_time": "2022-07-02T14:44:13.122Z"
   },
   {
    "duration": 37,
    "start_time": "2022-07-02T14:44:13.157Z"
   },
   {
    "duration": 27,
    "start_time": "2022-07-02T14:44:13.196Z"
   },
   {
    "duration": 3,
    "start_time": "2022-07-02T14:44:13.224Z"
   },
   {
    "duration": 8,
    "start_time": "2022-07-02T14:44:13.229Z"
   },
   {
    "duration": 20,
    "start_time": "2022-07-02T14:44:13.239Z"
   },
   {
    "duration": 16,
    "start_time": "2022-07-02T14:44:13.263Z"
   },
   {
    "duration": 12,
    "start_time": "2022-07-02T14:44:13.281Z"
   },
   {
    "duration": 37,
    "start_time": "2022-07-02T14:44:13.295Z"
   },
   {
    "duration": 65,
    "start_time": "2022-07-02T14:44:13.334Z"
   },
   {
    "duration": 70,
    "start_time": "2022-07-02T14:44:13.400Z"
   },
   {
    "duration": 4,
    "start_time": "2022-07-02T14:44:13.471Z"
   },
   {
    "duration": 12,
    "start_time": "2022-07-02T14:44:13.477Z"
   },
   {
    "duration": 38,
    "start_time": "2022-07-02T14:44:13.491Z"
   },
   {
    "duration": 5,
    "start_time": "2022-07-02T14:44:13.530Z"
   },
   {
    "duration": 215,
    "start_time": "2022-07-02T14:44:13.537Z"
   },
   {
    "duration": 211,
    "start_time": "2022-07-02T14:44:13.753Z"
   },
   {
    "duration": 6,
    "start_time": "2022-07-02T14:44:13.966Z"
   },
   {
    "duration": 23,
    "start_time": "2022-07-02T14:44:13.974Z"
   },
   {
    "duration": 7,
    "start_time": "2022-07-02T14:44:13.999Z"
   },
   {
    "duration": 20,
    "start_time": "2022-07-02T14:44:14.008Z"
   },
   {
    "duration": 153,
    "start_time": "2022-07-02T14:44:14.029Z"
   },
   {
    "duration": 15,
    "start_time": "2022-07-02T14:44:14.184Z"
   },
   {
    "duration": 172,
    "start_time": "2022-07-02T14:44:14.201Z"
   },
   {
    "duration": 2,
    "start_time": "2022-07-02T14:44:14.375Z"
   },
   {
    "duration": 8,
    "start_time": "2022-07-02T14:44:14.380Z"
   },
   {
    "duration": 7,
    "start_time": "2022-07-02T14:44:14.390Z"
   },
   {
    "duration": 7,
    "start_time": "2022-07-02T14:44:14.398Z"
   },
   {
    "duration": 24,
    "start_time": "2022-07-02T14:44:14.407Z"
   },
   {
    "duration": 283,
    "start_time": "2022-07-02T14:44:14.432Z"
   },
   {
    "duration": 26,
    "start_time": "2022-07-02T14:44:14.717Z"
   },
   {
    "duration": 36,
    "start_time": "2022-07-02T14:44:14.745Z"
   },
   {
    "duration": 51,
    "start_time": "2022-07-02T14:44:14.783Z"
   },
   {
    "duration": 12,
    "start_time": "2022-07-02T14:44:14.839Z"
   },
   {
    "duration": 8,
    "start_time": "2022-07-02T14:44:14.852Z"
   },
   {
    "duration": 6,
    "start_time": "2022-07-02T14:44:14.862Z"
   },
   {
    "duration": 9,
    "start_time": "2022-07-02T14:44:14.869Z"
   },
   {
    "duration": 12,
    "start_time": "2022-07-02T14:44:14.879Z"
   },
   {
    "duration": 57,
    "start_time": "2022-07-02T14:44:14.893Z"
   },
   {
    "duration": 13,
    "start_time": "2022-07-02T14:44:14.951Z"
   },
   {
    "duration": 16,
    "start_time": "2022-07-02T14:44:14.965Z"
   },
   {
    "duration": 55,
    "start_time": "2022-07-02T14:44:14.982Z"
   },
   {
    "duration": 8,
    "start_time": "2022-07-02T14:44:15.038Z"
   },
   {
    "duration": 16,
    "start_time": "2022-07-02T14:44:15.048Z"
   },
   {
    "duration": 8,
    "start_time": "2022-07-02T14:44:15.066Z"
   },
   {
    "duration": 22,
    "start_time": "2022-07-02T14:44:15.075Z"
   },
   {
    "duration": 14,
    "start_time": "2022-07-02T14:44:15.099Z"
   },
   {
    "duration": 10,
    "start_time": "2022-07-02T14:44:15.114Z"
   },
   {
    "duration": 5,
    "start_time": "2022-07-02T14:44:15.126Z"
   },
   {
    "duration": 223,
    "start_time": "2022-07-02T14:44:15.132Z"
   },
   {
    "duration": 170,
    "start_time": "2022-07-02T14:44:15.357Z"
   },
   {
    "duration": 19,
    "start_time": "2022-07-02T14:44:15.529Z"
   },
   {
    "duration": 14,
    "start_time": "2022-07-02T14:44:15.550Z"
   },
   {
    "duration": 9,
    "start_time": "2022-07-02T14:44:15.565Z"
   },
   {
    "duration": 67,
    "start_time": "2022-07-02T14:44:15.576Z"
   },
   {
    "duration": 60,
    "start_time": "2022-07-02T14:44:15.645Z"
   },
   {
    "duration": 3,
    "start_time": "2022-07-02T14:44:15.707Z"
   },
   {
    "duration": 4,
    "start_time": "2022-07-02T14:44:15.726Z"
   },
   {
    "duration": 10,
    "start_time": "2022-07-02T14:44:15.732Z"
   },
   {
    "duration": 7,
    "start_time": "2022-07-02T14:44:15.744Z"
   },
   {
    "duration": 10,
    "start_time": "2022-07-02T14:44:15.752Z"
   },
   {
    "duration": 5,
    "start_time": "2022-07-02T14:44:15.764Z"
   },
   {
    "duration": 11,
    "start_time": "2022-07-02T14:44:15.770Z"
   },
   {
    "duration": 4,
    "start_time": "2022-07-02T14:44:15.782Z"
   },
   {
    "duration": 35,
    "start_time": "2022-07-02T14:44:15.788Z"
   },
   {
    "duration": 4,
    "start_time": "2022-07-02T14:44:15.825Z"
   },
   {
    "duration": 7,
    "start_time": "2022-07-02T14:44:15.830Z"
   },
   {
    "duration": 5,
    "start_time": "2022-07-02T14:44:15.838Z"
   },
   {
    "duration": 5,
    "start_time": "2022-07-02T14:44:15.845Z"
   },
   {
    "duration": 5,
    "start_time": "2022-07-02T14:44:15.851Z"
   },
   {
    "duration": 18,
    "start_time": "2022-07-02T14:44:15.857Z"
   },
   {
    "duration": 53,
    "start_time": "2022-07-02T14:44:15.876Z"
   },
   {
    "duration": 26,
    "start_time": "2022-07-02T14:44:15.931Z"
   },
   {
    "duration": 3,
    "start_time": "2022-07-02T14:44:15.959Z"
   },
   {
    "duration": 16,
    "start_time": "2022-07-02T14:44:15.964Z"
   },
   {
    "duration": 20,
    "start_time": "2022-07-02T14:44:15.982Z"
   },
   {
    "duration": 21,
    "start_time": "2022-07-02T14:44:16.004Z"
   },
   {
    "duration": 35,
    "start_time": "2022-07-02T14:44:16.026Z"
   },
   {
    "duration": 5,
    "start_time": "2022-07-02T14:44:16.063Z"
   },
   {
    "duration": 221,
    "start_time": "2022-07-02T14:44:16.069Z"
   },
   {
    "duration": 275,
    "start_time": "2022-07-02T14:44:16.291Z"
   },
   {
    "duration": 4,
    "start_time": "2022-07-02T14:44:16.568Z"
   },
   {
    "duration": 36,
    "start_time": "2022-07-02T15:00:38.342Z"
   },
   {
    "duration": 44,
    "start_time": "2022-07-02T15:00:39.327Z"
   },
   {
    "duration": 6,
    "start_time": "2022-07-02T15:00:40.228Z"
   },
   {
    "duration": 1132,
    "start_time": "2022-07-02T15:00:48.357Z"
   },
   {
    "duration": 247,
    "start_time": "2022-07-02T15:00:49.491Z"
   },
   {
    "duration": 5,
    "start_time": "2022-07-02T15:00:49.740Z"
   },
   {
    "duration": 3,
    "start_time": "2022-07-02T15:00:49.748Z"
   },
   {
    "duration": 225,
    "start_time": "2022-07-02T15:00:49.753Z"
   },
   {
    "duration": 20,
    "start_time": "2022-07-02T15:00:49.980Z"
   },
   {
    "duration": 44,
    "start_time": "2022-07-02T15:00:50.001Z"
   },
   {
    "duration": 33,
    "start_time": "2022-07-02T15:00:50.047Z"
   },
   {
    "duration": 55,
    "start_time": "2022-07-02T15:00:50.081Z"
   },
   {
    "duration": 11,
    "start_time": "2022-07-02T15:00:50.138Z"
   },
   {
    "duration": 7,
    "start_time": "2022-07-02T15:00:50.150Z"
   },
   {
    "duration": 27,
    "start_time": "2022-07-02T15:00:50.158Z"
   },
   {
    "duration": 25,
    "start_time": "2022-07-02T15:00:50.186Z"
   },
   {
    "duration": 17,
    "start_time": "2022-07-02T15:00:50.212Z"
   },
   {
    "duration": 12,
    "start_time": "2022-07-02T15:00:50.231Z"
   },
   {
    "duration": 14,
    "start_time": "2022-07-02T15:00:50.244Z"
   },
   {
    "duration": 75,
    "start_time": "2022-07-02T15:00:50.259Z"
   },
   {
    "duration": 56,
    "start_time": "2022-07-02T15:00:50.335Z"
   },
   {
    "duration": 4,
    "start_time": "2022-07-02T15:00:50.393Z"
   },
   {
    "duration": 14,
    "start_time": "2022-07-02T15:00:50.398Z"
   },
   {
    "duration": 25,
    "start_time": "2022-07-02T15:00:50.423Z"
   },
   {
    "duration": 5,
    "start_time": "2022-07-02T15:00:50.450Z"
   },
   {
    "duration": 215,
    "start_time": "2022-07-02T15:00:50.456Z"
   },
   {
    "duration": 204,
    "start_time": "2022-07-02T15:00:50.673Z"
   },
   {
    "duration": 6,
    "start_time": "2022-07-02T15:00:50.878Z"
   },
   {
    "duration": 8,
    "start_time": "2022-07-02T15:00:50.886Z"
   },
   {
    "duration": 13,
    "start_time": "2022-07-02T15:00:50.895Z"
   },
   {
    "duration": 17,
    "start_time": "2022-07-02T15:00:50.912Z"
   },
   {
    "duration": 147,
    "start_time": "2022-07-02T15:00:50.931Z"
   },
   {
    "duration": 13,
    "start_time": "2022-07-02T15:00:51.079Z"
   },
   {
    "duration": 160,
    "start_time": "2022-07-02T15:00:51.094Z"
   },
   {
    "duration": 3,
    "start_time": "2022-07-02T15:00:51.255Z"
   },
   {
    "duration": 10,
    "start_time": "2022-07-02T15:00:51.260Z"
   },
   {
    "duration": 7,
    "start_time": "2022-07-02T15:00:51.271Z"
   },
   {
    "duration": 9,
    "start_time": "2022-07-02T15:00:51.280Z"
   },
   {
    "duration": 19,
    "start_time": "2022-07-02T15:00:51.291Z"
   },
   {
    "duration": 268,
    "start_time": "2022-07-02T15:00:51.311Z"
   },
   {
    "duration": 23,
    "start_time": "2022-07-02T15:00:51.581Z"
   },
   {
    "duration": 36,
    "start_time": "2022-07-02T15:00:51.606Z"
   },
   {
    "duration": 35,
    "start_time": "2022-07-02T15:00:51.644Z"
   },
   {
    "duration": 12,
    "start_time": "2022-07-02T15:00:51.680Z"
   },
   {
    "duration": 8,
    "start_time": "2022-07-02T15:00:51.694Z"
   },
   {
    "duration": 22,
    "start_time": "2022-07-02T15:00:51.703Z"
   },
   {
    "duration": 4,
    "start_time": "2022-07-02T15:00:51.727Z"
   },
   {
    "duration": 11,
    "start_time": "2022-07-02T15:00:51.733Z"
   },
   {
    "duration": 39,
    "start_time": "2022-07-02T15:00:51.745Z"
   },
   {
    "duration": 13,
    "start_time": "2022-07-02T15:00:51.785Z"
   },
   {
    "duration": 36,
    "start_time": "2022-07-02T15:00:51.823Z"
   },
   {
    "duration": 66,
    "start_time": "2022-07-02T15:00:51.861Z"
   },
   {
    "duration": 10,
    "start_time": "2022-07-02T15:00:51.929Z"
   },
   {
    "duration": 7,
    "start_time": "2022-07-02T15:00:51.940Z"
   },
   {
    "duration": 7,
    "start_time": "2022-07-02T15:00:51.949Z"
   },
   {
    "duration": 28,
    "start_time": "2022-07-02T15:00:51.960Z"
   },
   {
    "duration": 4,
    "start_time": "2022-07-02T15:00:51.990Z"
   },
   {
    "duration": 35,
    "start_time": "2022-07-02T15:00:51.996Z"
   },
   {
    "duration": 5,
    "start_time": "2022-07-02T15:00:52.032Z"
   },
   {
    "duration": 266,
    "start_time": "2022-07-02T15:00:52.039Z"
   },
   {
    "duration": 219,
    "start_time": "2022-07-02T15:00:52.307Z"
   },
   {
    "duration": 12,
    "start_time": "2022-07-02T15:00:52.527Z"
   },
   {
    "duration": 22,
    "start_time": "2022-07-02T15:00:52.541Z"
   },
   {
    "duration": 7,
    "start_time": "2022-07-02T15:00:52.565Z"
   },
   {
    "duration": 73,
    "start_time": "2022-07-02T15:00:52.574Z"
   },
   {
    "duration": 95,
    "start_time": "2022-07-02T15:00:52.649Z"
   },
   {
    "duration": 4,
    "start_time": "2022-07-02T15:00:52.747Z"
   },
   {
    "duration": 20,
    "start_time": "2022-07-02T15:00:52.753Z"
   },
   {
    "duration": 13,
    "start_time": "2022-07-02T15:00:52.775Z"
   },
   {
    "duration": 8,
    "start_time": "2022-07-02T15:00:52.790Z"
   },
   {
    "duration": 7,
    "start_time": "2022-07-02T15:00:52.799Z"
   },
   {
    "duration": 6,
    "start_time": "2022-07-02T15:00:52.807Z"
   },
   {
    "duration": 9,
    "start_time": "2022-07-02T15:00:52.815Z"
   },
   {
    "duration": 6,
    "start_time": "2022-07-02T15:00:52.825Z"
   },
   {
    "duration": 5,
    "start_time": "2022-07-02T15:00:52.833Z"
   },
   {
    "duration": 7,
    "start_time": "2022-07-02T15:00:52.840Z"
   },
   {
    "duration": 7,
    "start_time": "2022-07-02T15:00:52.848Z"
   },
   {
    "duration": 5,
    "start_time": "2022-07-02T15:00:52.856Z"
   },
   {
    "duration": 10,
    "start_time": "2022-07-02T15:00:52.863Z"
   },
   {
    "duration": 6,
    "start_time": "2022-07-02T15:00:52.875Z"
   },
   {
    "duration": 41,
    "start_time": "2022-07-02T15:00:52.883Z"
   },
   {
    "duration": 9,
    "start_time": "2022-07-02T15:00:52.926Z"
   },
   {
    "duration": 24,
    "start_time": "2022-07-02T15:00:52.936Z"
   },
   {
    "duration": 3,
    "start_time": "2022-07-02T15:00:52.961Z"
   },
   {
    "duration": 11,
    "start_time": "2022-07-02T15:00:52.969Z"
   },
   {
    "duration": 13,
    "start_time": "2022-07-02T15:00:52.982Z"
   },
   {
    "duration": 28,
    "start_time": "2022-07-02T15:00:52.996Z"
   },
   {
    "duration": 33,
    "start_time": "2022-07-02T15:00:53.025Z"
   },
   {
    "duration": 3,
    "start_time": "2022-07-02T15:00:53.060Z"
   },
   {
    "duration": 213,
    "start_time": "2022-07-02T15:00:53.065Z"
   },
   {
    "duration": 266,
    "start_time": "2022-07-02T15:00:53.279Z"
   },
   {
    "duration": 5,
    "start_time": "2022-07-02T15:00:53.546Z"
   },
   {
    "duration": 891,
    "start_time": "2022-07-02T20:28:18.443Z"
   },
   {
    "duration": 110,
    "start_time": "2022-07-02T20:28:33.079Z"
   },
   {
    "duration": 48,
    "start_time": "2022-07-02T20:28:45.113Z"
   },
   {
    "duration": 9,
    "start_time": "2022-07-02T20:28:45.762Z"
   },
   {
    "duration": 129,
    "start_time": "2022-07-02T20:29:00.962Z"
   },
   {
    "duration": 733,
    "start_time": "2022-07-02T20:29:32.362Z"
   },
   {
    "duration": 40,
    "start_time": "2022-07-02T20:48:00.154Z"
   },
   {
    "duration": 1092,
    "start_time": "2022-07-02T20:48:24.163Z"
   },
   {
    "duration": 242,
    "start_time": "2022-07-02T20:48:25.257Z"
   },
   {
    "duration": 4,
    "start_time": "2022-07-02T20:48:25.501Z"
   },
   {
    "duration": 11,
    "start_time": "2022-07-02T20:48:25.507Z"
   },
   {
    "duration": 236,
    "start_time": "2022-07-02T20:48:25.520Z"
   },
   {
    "duration": 19,
    "start_time": "2022-07-02T20:48:25.758Z"
   },
   {
    "duration": 45,
    "start_time": "2022-07-02T20:48:25.778Z"
   },
   {
    "duration": 33,
    "start_time": "2022-07-02T20:48:25.825Z"
   },
   {
    "duration": 38,
    "start_time": "2022-07-02T20:48:25.860Z"
   },
   {
    "duration": 28,
    "start_time": "2022-07-02T20:48:25.899Z"
   },
   {
    "duration": 16,
    "start_time": "2022-07-02T20:48:25.928Z"
   },
   {
    "duration": 9,
    "start_time": "2022-07-02T20:48:25.946Z"
   },
   {
    "duration": 19,
    "start_time": "2022-07-02T20:48:25.957Z"
   },
   {
    "duration": 16,
    "start_time": "2022-07-02T20:48:25.978Z"
   },
   {
    "duration": 15,
    "start_time": "2022-07-02T20:48:25.995Z"
   },
   {
    "duration": 20,
    "start_time": "2022-07-02T20:48:26.011Z"
   },
   {
    "duration": 70,
    "start_time": "2022-07-02T20:48:26.032Z"
   },
   {
    "duration": 69,
    "start_time": "2022-07-02T20:48:26.103Z"
   },
   {
    "duration": 4,
    "start_time": "2022-07-02T20:48:26.174Z"
   },
   {
    "duration": 14,
    "start_time": "2022-07-02T20:48:26.179Z"
   },
   {
    "duration": 40,
    "start_time": "2022-07-02T20:48:26.194Z"
   },
   {
    "duration": 5,
    "start_time": "2022-07-02T20:48:26.235Z"
   },
   {
    "duration": 210,
    "start_time": "2022-07-02T20:48:26.242Z"
   },
   {
    "duration": 209,
    "start_time": "2022-07-02T20:48:26.454Z"
   },
   {
    "duration": 6,
    "start_time": "2022-07-02T20:48:26.665Z"
   },
   {
    "duration": 7,
    "start_time": "2022-07-02T20:48:26.672Z"
   },
   {
    "duration": 5,
    "start_time": "2022-07-02T20:48:26.680Z"
   },
   {
    "duration": 12,
    "start_time": "2022-07-02T20:48:26.687Z"
   },
   {
    "duration": 158,
    "start_time": "2022-07-02T20:48:26.701Z"
   },
   {
    "duration": 13,
    "start_time": "2022-07-02T20:48:26.861Z"
   },
   {
    "duration": 176,
    "start_time": "2022-07-02T20:48:26.876Z"
   },
   {
    "duration": 2,
    "start_time": "2022-07-02T20:48:27.054Z"
   },
   {
    "duration": 8,
    "start_time": "2022-07-02T20:48:27.058Z"
   },
   {
    "duration": 7,
    "start_time": "2022-07-02T20:48:27.067Z"
   },
   {
    "duration": 5,
    "start_time": "2022-07-02T20:48:27.075Z"
   },
   {
    "duration": 15,
    "start_time": "2022-07-02T20:48:27.081Z"
   },
   {
    "duration": 277,
    "start_time": "2022-07-02T20:48:27.098Z"
   },
   {
    "duration": 23,
    "start_time": "2022-07-02T20:48:27.377Z"
   },
   {
    "duration": 36,
    "start_time": "2022-07-02T20:48:27.402Z"
   },
   {
    "duration": 36,
    "start_time": "2022-07-02T20:48:27.440Z"
   },
   {
    "duration": 12,
    "start_time": "2022-07-02T20:48:27.480Z"
   },
   {
    "duration": 8,
    "start_time": "2022-07-02T20:48:27.494Z"
   },
   {
    "duration": 4,
    "start_time": "2022-07-02T20:48:27.523Z"
   },
   {
    "duration": 5,
    "start_time": "2022-07-02T20:48:27.529Z"
   },
   {
    "duration": 12,
    "start_time": "2022-07-02T20:48:27.536Z"
   },
   {
    "duration": 43,
    "start_time": "2022-07-02T20:48:27.549Z"
   },
   {
    "duration": 13,
    "start_time": "2022-07-02T20:48:27.593Z"
   },
   {
    "duration": 14,
    "start_time": "2022-07-02T20:48:27.623Z"
   },
   {
    "duration": 5,
    "start_time": "2022-07-02T20:48:27.638Z"
   },
   {
    "duration": 12,
    "start_time": "2022-07-02T20:48:27.644Z"
   },
   {
    "duration": 5,
    "start_time": "2022-07-02T20:48:27.657Z"
   },
   {
    "duration": 277,
    "start_time": "2022-07-02T20:48:27.663Z"
   },
   {
    "duration": 218,
    "start_time": "2022-07-02T20:48:27.942Z"
   },
   {
    "duration": 9,
    "start_time": "2022-07-02T20:48:28.162Z"
   },
   {
    "duration": 18,
    "start_time": "2022-07-02T20:48:28.173Z"
   },
   {
    "duration": 5,
    "start_time": "2022-07-02T20:48:28.193Z"
   },
   {
    "duration": 61,
    "start_time": "2022-07-02T20:48:28.199Z"
   },
   {
    "duration": 145,
    "start_time": "2022-07-02T20:48:28.262Z"
   },
   {
    "duration": 2,
    "start_time": "2022-07-02T20:48:28.409Z"
   },
   {
    "duration": 11,
    "start_time": "2022-07-02T20:48:28.413Z"
   },
   {
    "duration": 9,
    "start_time": "2022-07-02T20:48:28.426Z"
   },
   {
    "duration": 5,
    "start_time": "2022-07-02T20:48:28.436Z"
   },
   {
    "duration": 7,
    "start_time": "2022-07-02T20:48:28.443Z"
   },
   {
    "duration": 4,
    "start_time": "2022-07-02T20:48:28.451Z"
   },
   {
    "duration": 7,
    "start_time": "2022-07-02T20:48:28.456Z"
   },
   {
    "duration": 5,
    "start_time": "2022-07-02T20:48:28.465Z"
   },
   {
    "duration": 7,
    "start_time": "2022-07-02T20:48:28.471Z"
   },
   {
    "duration": 5,
    "start_time": "2022-07-02T20:48:28.479Z"
   },
   {
    "duration": 39,
    "start_time": "2022-07-02T20:48:28.486Z"
   },
   {
    "duration": 5,
    "start_time": "2022-07-02T20:48:28.527Z"
   },
   {
    "duration": 11,
    "start_time": "2022-07-02T20:48:28.534Z"
   },
   {
    "duration": 5,
    "start_time": "2022-07-02T20:48:28.547Z"
   },
   {
    "duration": 20,
    "start_time": "2022-07-02T20:48:28.554Z"
   },
   {
    "duration": 9,
    "start_time": "2022-07-02T20:48:28.575Z"
   },
   {
    "duration": 22,
    "start_time": "2022-07-02T20:48:28.585Z"
   },
   {
    "duration": 3,
    "start_time": "2022-07-02T20:48:28.623Z"
   },
   {
    "duration": 18,
    "start_time": "2022-07-02T20:48:28.628Z"
   },
   {
    "duration": 13,
    "start_time": "2022-07-02T20:48:28.648Z"
   },
   {
    "duration": 9,
    "start_time": "2022-07-02T20:48:28.662Z"
   },
   {
    "duration": 36,
    "start_time": "2022-07-02T20:48:28.672Z"
   },
   {
    "duration": 41,
    "start_time": "2022-07-02T20:48:28.722Z"
   },
   {
    "duration": 3,
    "start_time": "2022-07-02T20:48:28.765Z"
   },
   {
    "duration": 234,
    "start_time": "2022-07-02T20:48:28.770Z"
   },
   {
    "duration": 212,
    "start_time": "2022-07-02T20:48:29.006Z"
   },
   {
    "duration": 5,
    "start_time": "2022-07-02T20:48:29.220Z"
   },
   {
    "duration": 18,
    "start_time": "2022-07-02T20:48:41.588Z"
   },
   {
    "duration": 13,
    "start_time": "2022-07-02T20:49:02.005Z"
   },
   {
    "duration": 44,
    "start_time": "2022-07-02T20:49:13.387Z"
   },
   {
    "duration": 45,
    "start_time": "2022-07-02T20:49:26.172Z"
   },
   {
    "duration": 41,
    "start_time": "2022-07-02T20:49:36.687Z"
   },
   {
    "duration": 40,
    "start_time": "2022-07-02T20:49:46.630Z"
   },
   {
    "duration": 41,
    "start_time": "2022-07-02T20:49:57.678Z"
   },
   {
    "duration": 36,
    "start_time": "2022-07-02T20:50:24.385Z"
   },
   {
    "duration": 13,
    "start_time": "2022-07-02T20:50:40.277Z"
   },
   {
    "duration": 40,
    "start_time": "2022-07-02T20:51:27.985Z"
   },
   {
    "duration": 31,
    "start_time": "2022-07-02T20:51:30.094Z"
   },
   {
    "duration": 17,
    "start_time": "2022-07-02T20:51:57.232Z"
   },
   {
    "duration": 5,
    "start_time": "2022-07-02T20:52:26.778Z"
   },
   {
    "duration": 5,
    "start_time": "2022-07-02T20:52:37.278Z"
   },
   {
    "duration": 6,
    "start_time": "2022-07-02T20:52:49.218Z"
   },
   {
    "duration": 5,
    "start_time": "2022-07-02T20:52:53.775Z"
   },
   {
    "duration": 4,
    "start_time": "2022-07-02T20:53:38.678Z"
   },
   {
    "duration": 93,
    "start_time": "2022-07-02T20:54:03.032Z"
   },
   {
    "duration": 3,
    "start_time": "2022-07-02T20:54:17.405Z"
   },
   {
    "duration": 9,
    "start_time": "2022-07-02T20:55:50.780Z"
   },
   {
    "duration": 3,
    "start_time": "2022-07-02T20:56:01.988Z"
   },
   {
    "duration": 57,
    "start_time": "2022-07-02T20:56:18.286Z"
   },
   {
    "duration": 10,
    "start_time": "2022-07-02T20:56:22.088Z"
   },
   {
    "duration": 3,
    "start_time": "2022-07-02T20:57:26.807Z"
   },
   {
    "duration": 4,
    "start_time": "2022-07-02T20:57:31.545Z"
   },
   {
    "duration": 4,
    "start_time": "2022-07-02T20:57:49.793Z"
   },
   {
    "duration": 3,
    "start_time": "2022-07-02T20:59:39.981Z"
   },
   {
    "duration": 7,
    "start_time": "2022-07-02T21:03:51.723Z"
   },
   {
    "duration": 8,
    "start_time": "2022-07-02T21:03:59.079Z"
   },
   {
    "duration": 7,
    "start_time": "2022-07-02T21:04:20.642Z"
   },
   {
    "duration": 7,
    "start_time": "2022-07-02T21:05:08.014Z"
   },
   {
    "duration": 6,
    "start_time": "2022-07-02T21:05:19.879Z"
   },
   {
    "duration": 7,
    "start_time": "2022-07-02T21:06:09.627Z"
   },
   {
    "duration": 7,
    "start_time": "2022-07-02T21:06:20.431Z"
   },
   {
    "duration": 6,
    "start_time": "2022-07-02T21:06:38.843Z"
   },
   {
    "duration": 7,
    "start_time": "2022-07-02T21:06:43.520Z"
   },
   {
    "duration": 7,
    "start_time": "2022-07-02T21:09:11.526Z"
   },
   {
    "duration": 8,
    "start_time": "2022-07-02T21:09:42.678Z"
   },
   {
    "duration": 1102,
    "start_time": "2022-07-02T21:13:07.945Z"
   },
   {
    "duration": 244,
    "start_time": "2022-07-02T21:13:09.049Z"
   },
   {
    "duration": 6,
    "start_time": "2022-07-02T21:13:09.295Z"
   },
   {
    "duration": 8,
    "start_time": "2022-07-02T21:13:09.303Z"
   },
   {
    "duration": 231,
    "start_time": "2022-07-02T21:13:09.314Z"
   },
   {
    "duration": 19,
    "start_time": "2022-07-02T21:13:09.547Z"
   },
   {
    "duration": 27,
    "start_time": "2022-07-02T21:13:09.568Z"
   },
   {
    "duration": 55,
    "start_time": "2022-07-02T21:13:09.597Z"
   },
   {
    "duration": 37,
    "start_time": "2022-07-02T21:13:09.654Z"
   },
   {
    "duration": 34,
    "start_time": "2022-07-02T21:13:09.692Z"
   },
   {
    "duration": 3,
    "start_time": "2022-07-02T21:13:09.728Z"
   },
   {
    "duration": 6,
    "start_time": "2022-07-02T21:13:09.733Z"
   },
   {
    "duration": 23,
    "start_time": "2022-07-02T21:13:09.740Z"
   },
   {
    "duration": 15,
    "start_time": "2022-07-02T21:13:09.767Z"
   },
   {
    "duration": 13,
    "start_time": "2022-07-02T21:13:09.783Z"
   },
   {
    "duration": 32,
    "start_time": "2022-07-02T21:13:09.797Z"
   },
   {
    "duration": 81,
    "start_time": "2022-07-02T21:13:09.830Z"
   },
   {
    "duration": 58,
    "start_time": "2022-07-02T21:13:09.912Z"
   },
   {
    "duration": 4,
    "start_time": "2022-07-02T21:13:09.972Z"
   },
   {
    "duration": 16,
    "start_time": "2022-07-02T21:13:09.978Z"
   },
   {
    "duration": 35,
    "start_time": "2022-07-02T21:13:09.996Z"
   },
   {
    "duration": 6,
    "start_time": "2022-07-02T21:13:10.033Z"
   },
   {
    "duration": 217,
    "start_time": "2022-07-02T21:13:10.040Z"
   },
   {
    "duration": 204,
    "start_time": "2022-07-02T21:13:10.259Z"
   },
   {
    "duration": 5,
    "start_time": "2022-07-02T21:13:10.465Z"
   },
   {
    "duration": 8,
    "start_time": "2022-07-02T21:13:10.471Z"
   },
   {
    "duration": 7,
    "start_time": "2022-07-02T21:13:10.481Z"
   },
   {
    "duration": 13,
    "start_time": "2022-07-02T21:13:10.490Z"
   },
   {
    "duration": 153,
    "start_time": "2022-07-02T21:13:10.504Z"
   },
   {
    "duration": 13,
    "start_time": "2022-07-02T21:13:10.658Z"
   },
   {
    "duration": 156,
    "start_time": "2022-07-02T21:13:10.672Z"
   },
   {
    "duration": 2,
    "start_time": "2022-07-02T21:13:10.829Z"
   },
   {
    "duration": 8,
    "start_time": "2022-07-02T21:13:10.833Z"
   },
   {
    "duration": 8,
    "start_time": "2022-07-02T21:13:10.842Z"
   },
   {
    "duration": 7,
    "start_time": "2022-07-02T21:13:10.851Z"
   },
   {
    "duration": 16,
    "start_time": "2022-07-02T21:13:10.859Z"
   },
   {
    "duration": 303,
    "start_time": "2022-07-02T21:13:10.876Z"
   },
   {
    "duration": 23,
    "start_time": "2022-07-02T21:13:11.181Z"
   },
   {
    "duration": 37,
    "start_time": "2022-07-02T21:13:11.205Z"
   },
   {
    "duration": 36,
    "start_time": "2022-07-02T21:13:11.244Z"
   },
   {
    "duration": 12,
    "start_time": "2022-07-02T21:13:11.284Z"
   },
   {
    "duration": 36,
    "start_time": "2022-07-02T21:13:11.297Z"
   },
   {
    "duration": 8,
    "start_time": "2022-07-02T21:13:11.335Z"
   },
   {
    "duration": 6,
    "start_time": "2022-07-02T21:13:11.344Z"
   },
   {
    "duration": 10,
    "start_time": "2022-07-02T21:13:11.352Z"
   },
   {
    "duration": 40,
    "start_time": "2022-07-02T21:13:11.364Z"
   },
   {
    "duration": 13,
    "start_time": "2022-07-02T21:13:11.405Z"
   },
   {
    "duration": 17,
    "start_time": "2022-07-02T21:13:11.419Z"
   },
   {
    "duration": 4,
    "start_time": "2022-07-02T21:13:11.438Z"
   },
   {
    "duration": 11,
    "start_time": "2022-07-02T21:13:11.443Z"
   },
   {
    "duration": 5,
    "start_time": "2022-07-02T21:13:11.455Z"
   },
   {
    "duration": 369,
    "start_time": "2022-07-02T21:13:11.461Z"
   },
   {
    "duration": 296,
    "start_time": "2022-07-02T21:13:11.832Z"
   },
   {
    "duration": 10,
    "start_time": "2022-07-02T21:13:12.129Z"
   },
   {
    "duration": 14,
    "start_time": "2022-07-02T21:13:12.141Z"
   },
   {
    "duration": 14,
    "start_time": "2022-07-02T21:13:12.157Z"
   },
   {
    "duration": 54,
    "start_time": "2022-07-02T21:13:12.172Z"
   },
   {
    "duration": 156,
    "start_time": "2022-07-02T21:13:12.228Z"
   },
   {
    "duration": 3,
    "start_time": "2022-07-02T21:13:12.386Z"
   },
   {
    "duration": 26,
    "start_time": "2022-07-02T21:13:12.390Z"
   },
   {
    "duration": 20,
    "start_time": "2022-07-02T21:13:12.418Z"
   },
   {
    "duration": 18,
    "start_time": "2022-07-02T21:13:12.440Z"
   },
   {
    "duration": 11,
    "start_time": "2022-07-02T21:13:12.460Z"
   },
   {
    "duration": 9,
    "start_time": "2022-07-02T21:13:12.473Z"
   },
   {
    "duration": 28,
    "start_time": "2022-07-02T21:13:12.484Z"
   },
   {
    "duration": 21,
    "start_time": "2022-07-02T21:13:12.513Z"
   },
   {
    "duration": 18,
    "start_time": "2022-07-02T21:13:12.536Z"
   },
   {
    "duration": 26,
    "start_time": "2022-07-02T21:13:12.556Z"
   },
   {
    "duration": 25,
    "start_time": "2022-07-02T21:13:12.584Z"
   },
   {
    "duration": 20,
    "start_time": "2022-07-02T21:13:12.611Z"
   },
   {
    "duration": 13,
    "start_time": "2022-07-02T21:13:12.633Z"
   },
   {
    "duration": 16,
    "start_time": "2022-07-02T21:13:12.647Z"
   },
   {
    "duration": 19,
    "start_time": "2022-07-02T21:13:12.665Z"
   },
   {
    "duration": 30,
    "start_time": "2022-07-02T21:13:12.685Z"
   },
   {
    "duration": 26,
    "start_time": "2022-07-02T21:13:12.716Z"
   },
   {
    "duration": 11,
    "start_time": "2022-07-02T21:13:12.744Z"
   },
   {
    "duration": 17,
    "start_time": "2022-07-02T21:13:12.756Z"
   },
   {
    "duration": 13,
    "start_time": "2022-07-02T21:13:12.775Z"
   },
   {
    "duration": 12,
    "start_time": "2022-07-02T21:13:12.789Z"
   },
   {
    "duration": 32,
    "start_time": "2022-07-02T21:13:12.802Z"
   },
   {
    "duration": 39,
    "start_time": "2022-07-02T21:13:12.835Z"
   },
   {
    "duration": 3,
    "start_time": "2022-07-02T21:13:12.875Z"
   },
   {
    "duration": 8,
    "start_time": "2022-07-02T21:13:12.880Z"
   },
   {
    "duration": 9,
    "start_time": "2022-07-02T21:13:12.890Z"
   },
   {
    "duration": 31,
    "start_time": "2022-07-02T21:13:12.900Z"
   },
   {
    "duration": 7,
    "start_time": "2022-07-02T21:13:12.933Z"
   },
   {
    "duration": 4,
    "start_time": "2022-07-02T21:13:25.200Z"
   },
   {
    "duration": 4,
    "start_time": "2022-07-02T21:14:09.812Z"
   },
   {
    "duration": 1087,
    "start_time": "2022-07-02T21:20:03.236Z"
   },
   {
    "duration": 251,
    "start_time": "2022-07-02T21:20:34.905Z"
   },
   {
    "duration": 4,
    "start_time": "2022-07-02T21:21:07.815Z"
   },
   {
    "duration": 214,
    "start_time": "2022-07-02T21:21:36.982Z"
   },
   {
    "duration": 18,
    "start_time": "2022-07-02T21:22:29.147Z"
   },
   {
    "duration": 29,
    "start_time": "2022-07-02T21:22:44.854Z"
   },
   {
    "duration": 34,
    "start_time": "2022-07-02T21:24:24.914Z"
   },
   {
    "duration": 37,
    "start_time": "2022-07-02T21:25:04.118Z"
   },
   {
    "duration": 10,
    "start_time": "2022-07-02T21:26:42.918Z"
   },
   {
    "duration": 15,
    "start_time": "2022-07-02T21:27:04.183Z"
   },
   {
    "duration": 10,
    "start_time": "2022-07-02T21:27:57.179Z"
   },
   {
    "duration": 15,
    "start_time": "2022-07-02T21:27:58.110Z"
   },
   {
    "duration": 61,
    "start_time": "2022-07-02T21:29:23.507Z"
   },
   {
    "duration": 58,
    "start_time": "2022-07-02T21:29:57.861Z"
   },
   {
    "duration": 30,
    "start_time": "2022-07-02T21:30:17.413Z"
   },
   {
    "duration": 4,
    "start_time": "2022-07-02T21:31:49.388Z"
   },
   {
    "duration": 10,
    "start_time": "2022-07-02T21:31:51.554Z"
   },
   {
    "duration": 28,
    "start_time": "2022-07-02T21:44:31.232Z"
   },
   {
    "duration": 5,
    "start_time": "2022-07-02T21:45:17.148Z"
   },
   {
    "duration": 218,
    "start_time": "2022-07-02T21:46:18.847Z"
   },
   {
    "duration": 266,
    "start_time": "2022-07-02T21:51:44.707Z"
   },
   {
    "duration": 195,
    "start_time": "2022-07-02T21:51:52.535Z"
   },
   {
    "duration": 176,
    "start_time": "2022-07-02T21:52:08.353Z"
   },
   {
    "duration": 185,
    "start_time": "2022-07-02T21:52:14.032Z"
   },
   {
    "duration": 197,
    "start_time": "2022-07-02T21:52:25.783Z"
   },
   {
    "duration": 5,
    "start_time": "2022-07-02T21:59:04.043Z"
   },
   {
    "duration": 4,
    "start_time": "2022-07-02T21:59:08.227Z"
   },
   {
    "duration": 4,
    "start_time": "2022-07-02T22:06:20.693Z"
   },
   {
    "duration": 18,
    "start_time": "2022-07-02T22:06:20.699Z"
   },
   {
    "duration": 154,
    "start_time": "2022-07-02T22:06:20.719Z"
   },
   {
    "duration": 13,
    "start_time": "2022-07-02T22:06:20.875Z"
   },
   {
    "duration": 154,
    "start_time": "2022-07-02T22:06:20.890Z"
   },
   {
    "duration": 2,
    "start_time": "2022-07-02T22:06:21.046Z"
   },
   {
    "duration": 6,
    "start_time": "2022-07-02T22:06:21.049Z"
   },
   {
    "duration": 6,
    "start_time": "2022-07-02T22:06:21.056Z"
   },
   {
    "duration": 5,
    "start_time": "2022-07-02T22:06:21.063Z"
   },
   {
    "duration": 14,
    "start_time": "2022-07-02T22:06:21.070Z"
   },
   {
    "duration": 270,
    "start_time": "2022-07-02T22:06:21.085Z"
   },
   {
    "duration": 101,
    "start_time": "2022-07-02T22:06:21.357Z"
   },
   {
    "duration": 39,
    "start_time": "2022-07-02T22:06:21.459Z"
   },
   {
    "duration": 49,
    "start_time": "2022-07-02T22:06:21.500Z"
   },
   {
    "duration": 13,
    "start_time": "2022-07-02T22:06:21.550Z"
   },
   {
    "duration": 7,
    "start_time": "2022-07-02T22:06:21.565Z"
   },
   {
    "duration": 6,
    "start_time": "2022-07-02T22:06:21.574Z"
   },
   {
    "duration": 6,
    "start_time": "2022-07-02T22:06:21.581Z"
   },
   {
    "duration": 10,
    "start_time": "2022-07-02T22:06:21.588Z"
   },
   {
    "duration": 60,
    "start_time": "2022-07-02T22:06:21.600Z"
   },
   {
    "duration": 13,
    "start_time": "2022-07-02T22:06:21.661Z"
   },
   {
    "duration": 14,
    "start_time": "2022-07-02T22:06:21.675Z"
   },
   {
    "duration": 4,
    "start_time": "2022-07-02T22:06:21.691Z"
   },
   {
    "duration": 34,
    "start_time": "2022-07-02T22:06:21.696Z"
   },
   {
    "duration": 5,
    "start_time": "2022-07-02T22:06:21.731Z"
   },
   {
    "duration": 260,
    "start_time": "2022-07-02T22:06:21.738Z"
   },
   {
    "duration": 204,
    "start_time": "2022-07-02T22:06:22.000Z"
   },
   {
    "duration": 21,
    "start_time": "2022-07-02T22:06:22.206Z"
   },
   {
    "duration": 11,
    "start_time": "2022-07-02T22:06:22.228Z"
   },
   {
    "duration": 5,
    "start_time": "2022-07-02T22:06:22.240Z"
   },
   {
    "duration": 51,
    "start_time": "2022-07-02T22:06:22.247Z"
   },
   {
    "duration": 79,
    "start_time": "2022-07-02T22:06:22.300Z"
   },
   {
    "duration": 3,
    "start_time": "2022-07-02T22:06:22.380Z"
   },
   {
    "duration": 7,
    "start_time": "2022-07-02T22:06:22.384Z"
   },
   {
    "duration": 7,
    "start_time": "2022-07-02T22:06:22.393Z"
   },
   {
    "duration": 5,
    "start_time": "2022-07-02T22:06:22.401Z"
   },
   {
    "duration": 16,
    "start_time": "2022-07-02T22:06:22.407Z"
   },
   {
    "duration": 4,
    "start_time": "2022-07-02T22:06:22.425Z"
   },
   {
    "duration": 9,
    "start_time": "2022-07-02T22:06:22.430Z"
   },
   {
    "duration": 4,
    "start_time": "2022-07-02T22:06:22.440Z"
   },
   {
    "duration": 4,
    "start_time": "2022-07-02T22:06:22.447Z"
   },
   {
    "duration": 7,
    "start_time": "2022-07-02T22:06:22.452Z"
   },
   {
    "duration": 6,
    "start_time": "2022-07-02T22:06:22.460Z"
   },
   {
    "duration": 5,
    "start_time": "2022-07-02T22:06:22.467Z"
   },
   {
    "duration": 5,
    "start_time": "2022-07-02T22:06:22.474Z"
   },
   {
    "duration": 5,
    "start_time": "2022-07-02T22:06:22.480Z"
   },
   {
    "duration": 21,
    "start_time": "2022-07-02T22:06:22.526Z"
   },
   {
    "duration": 11,
    "start_time": "2022-07-02T22:06:22.549Z"
   },
   {
    "duration": 24,
    "start_time": "2022-07-02T22:06:22.561Z"
   },
   {
    "duration": 10,
    "start_time": "2022-07-02T22:06:22.586Z"
   },
   {
    "duration": 26,
    "start_time": "2022-07-02T22:06:22.598Z"
   },
   {
    "duration": 13,
    "start_time": "2022-07-02T22:06:22.626Z"
   },
   {
    "duration": 8,
    "start_time": "2022-07-02T22:06:22.640Z"
   },
   {
    "duration": 32,
    "start_time": "2022-07-02T22:06:22.650Z"
   },
   {
    "duration": 54,
    "start_time": "2022-07-02T22:06:22.683Z"
   },
   {
    "duration": 3,
    "start_time": "2022-07-02T22:06:22.738Z"
   },
   {
    "duration": 12,
    "start_time": "2022-07-02T22:06:22.743Z"
   },
   {
    "duration": 14,
    "start_time": "2022-07-02T22:06:22.757Z"
   },
   {
    "duration": 14,
    "start_time": "2022-07-02T22:06:22.772Z"
   },
   {
    "duration": 6,
    "start_time": "2022-07-02T22:06:22.788Z"
   },
   {
    "duration": 4,
    "start_time": "2022-07-02T22:07:12.927Z"
   },
   {
    "duration": 6,
    "start_time": "2022-07-02T22:07:18.779Z"
   },
   {
    "duration": 9,
    "start_time": "2022-07-02T22:07:24.129Z"
   },
   {
    "duration": 14,
    "start_time": "2022-07-02T22:07:25.748Z"
   },
   {
    "duration": 4,
    "start_time": "2022-07-02T22:07:29.003Z"
   },
   {
    "duration": 3,
    "start_time": "2022-07-02T22:10:12.190Z"
   },
   {
    "duration": 4,
    "start_time": "2022-07-02T22:10:24.638Z"
   },
   {
    "duration": 3,
    "start_time": "2022-07-02T22:10:47.007Z"
   },
   {
    "duration": 6,
    "start_time": "2022-07-02T22:12:33.842Z"
   },
   {
    "duration": 6,
    "start_time": "2022-07-02T22:12:52.797Z"
   },
   {
    "duration": 7,
    "start_time": "2022-07-02T22:13:04.479Z"
   },
   {
    "duration": 16,
    "start_time": "2022-07-02T22:14:06.513Z"
   },
   {
    "duration": 9,
    "start_time": "2022-07-02T22:14:48.824Z"
   },
   {
    "duration": 27,
    "start_time": "2022-07-02T22:19:44.942Z"
   },
   {
    "duration": 25,
    "start_time": "2022-07-02T22:20:18.929Z"
   },
   {
    "duration": 11,
    "start_time": "2022-07-02T22:20:38.523Z"
   },
   {
    "duration": 13,
    "start_time": "2022-07-02T22:21:04.141Z"
   },
   {
    "duration": 10,
    "start_time": "2022-07-02T22:21:08.209Z"
   },
   {
    "duration": 11,
    "start_time": "2022-07-02T22:21:20.824Z"
   },
   {
    "duration": 979,
    "start_time": "2022-07-02T22:22:12.226Z"
   },
   {
    "duration": 11,
    "start_time": "2022-07-02T22:22:23.723Z"
   },
   {
    "duration": 14,
    "start_time": "2022-07-02T22:22:37.065Z"
   },
   {
    "duration": 15,
    "start_time": "2022-07-02T22:22:54.707Z"
   },
   {
    "duration": 9,
    "start_time": "2022-07-02T22:43:17.197Z"
   },
   {
    "duration": 114,
    "start_time": "2022-07-02T22:43:23.009Z"
   },
   {
    "duration": 110,
    "start_time": "2022-07-02T22:43:31.844Z"
   },
   {
    "duration": 111,
    "start_time": "2022-07-02T22:43:42.198Z"
   },
   {
    "duration": 117,
    "start_time": "2022-07-02T22:47:23.606Z"
   },
   {
    "duration": 13,
    "start_time": "2022-07-02T22:49:23.981Z"
   },
   {
    "duration": 21,
    "start_time": "2022-07-02T22:51:30.546Z"
   },
   {
    "duration": 22,
    "start_time": "2022-07-02T22:52:20.638Z"
   },
   {
    "duration": 24,
    "start_time": "2022-07-02T22:52:55.098Z"
   },
   {
    "duration": 1098,
    "start_time": "2022-07-02T22:53:08.728Z"
   },
   {
    "duration": 241,
    "start_time": "2022-07-02T22:53:09.828Z"
   },
   {
    "duration": 4,
    "start_time": "2022-07-02T22:53:10.073Z"
   },
   {
    "duration": 222,
    "start_time": "2022-07-02T22:53:10.078Z"
   },
   {
    "duration": 26,
    "start_time": "2022-07-02T22:53:10.301Z"
   },
   {
    "duration": 26,
    "start_time": "2022-07-02T22:53:10.329Z"
   },
   {
    "duration": 32,
    "start_time": "2022-07-02T22:53:10.357Z"
   },
   {
    "duration": 63,
    "start_time": "2022-07-02T22:53:10.390Z"
   },
   {
    "duration": 10,
    "start_time": "2022-07-02T22:53:10.455Z"
   },
   {
    "duration": 14,
    "start_time": "2022-07-02T22:53:10.467Z"
   },
   {
    "duration": 10,
    "start_time": "2022-07-02T22:53:10.483Z"
   },
   {
    "duration": 33,
    "start_time": "2022-07-02T22:53:10.495Z"
   },
   {
    "duration": 63,
    "start_time": "2022-07-02T22:53:10.530Z"
   },
   {
    "duration": 68,
    "start_time": "2022-07-02T22:53:10.594Z"
   },
   {
    "duration": 28,
    "start_time": "2022-07-02T22:53:10.664Z"
   },
   {
    "duration": 3,
    "start_time": "2022-07-02T22:53:10.694Z"
   },
   {
    "duration": 25,
    "start_time": "2022-07-02T22:53:10.699Z"
   },
   {
    "duration": 28,
    "start_time": "2022-07-02T22:53:10.725Z"
   },
   {
    "duration": 5,
    "start_time": "2022-07-02T22:53:10.755Z"
   },
   {
    "duration": 208,
    "start_time": "2022-07-02T22:53:10.761Z"
   },
   {
    "duration": 209,
    "start_time": "2022-07-02T22:53:10.971Z"
   },
   {
    "duration": 5,
    "start_time": "2022-07-02T22:53:11.182Z"
   },
   {
    "duration": 8,
    "start_time": "2022-07-02T22:53:11.188Z"
   },
   {
    "duration": 7,
    "start_time": "2022-07-02T22:53:11.198Z"
   },
   {
    "duration": 24,
    "start_time": "2022-07-02T22:53:11.207Z"
   },
   {
    "duration": 121,
    "start_time": "2022-07-02T22:53:11.233Z"
   },
   {
    "duration": 13,
    "start_time": "2022-07-02T22:53:11.358Z"
   },
   {
    "duration": 195,
    "start_time": "2022-07-02T22:53:11.372Z"
   },
   {
    "duration": 14,
    "start_time": "2022-07-02T22:53:11.569Z"
   },
   {
    "duration": 323,
    "start_time": "2022-07-02T22:53:11.584Z"
   },
   {
    "duration": 23,
    "start_time": "2022-07-02T22:53:11.909Z"
   },
   {
    "duration": 38,
    "start_time": "2022-07-02T22:53:11.933Z"
   },
   {
    "duration": 35,
    "start_time": "2022-07-02T22:53:11.972Z"
   },
   {
    "duration": 12,
    "start_time": "2022-07-02T22:53:12.023Z"
   },
   {
    "duration": 7,
    "start_time": "2022-07-02T22:53:12.037Z"
   },
   {
    "duration": 5,
    "start_time": "2022-07-02T22:53:12.046Z"
   },
   {
    "duration": 4,
    "start_time": "2022-07-02T22:53:12.053Z"
   },
   {
    "duration": 12,
    "start_time": "2022-07-02T22:53:12.058Z"
   },
   {
    "duration": 62,
    "start_time": "2022-07-02T22:53:12.071Z"
   },
   {
    "duration": 14,
    "start_time": "2022-07-02T22:53:12.134Z"
   },
   {
    "duration": 19,
    "start_time": "2022-07-02T22:53:12.149Z"
   },
   {
    "duration": 4,
    "start_time": "2022-07-02T22:53:12.170Z"
   },
   {
    "duration": 11,
    "start_time": "2022-07-02T22:53:12.176Z"
   },
   {
    "duration": 4,
    "start_time": "2022-07-02T22:53:12.189Z"
   },
   {
    "duration": 287,
    "start_time": "2022-07-02T22:53:12.194Z"
   },
   {
    "duration": 228,
    "start_time": "2022-07-02T22:53:12.483Z"
   },
   {
    "duration": 15,
    "start_time": "2022-07-02T22:53:12.713Z"
   },
   {
    "duration": 12,
    "start_time": "2022-07-02T22:53:12.730Z"
   },
   {
    "duration": 4,
    "start_time": "2022-07-02T22:53:12.744Z"
   },
   {
    "duration": 51,
    "start_time": "2022-07-02T22:53:12.750Z"
   },
   {
    "duration": 162,
    "start_time": "2022-07-02T22:53:12.803Z"
   },
   {
    "duration": 2,
    "start_time": "2022-07-02T22:53:12.967Z"
   },
   {
    "duration": 5,
    "start_time": "2022-07-02T22:53:12.971Z"
   },
   {
    "duration": 7,
    "start_time": "2022-07-02T22:53:12.978Z"
   },
   {
    "duration": 7,
    "start_time": "2022-07-02T22:53:12.987Z"
   },
   {
    "duration": 7,
    "start_time": "2022-07-02T22:53:12.995Z"
   },
   {
    "duration": 21,
    "start_time": "2022-07-02T22:53:13.003Z"
   },
   {
    "duration": 6,
    "start_time": "2022-07-02T22:53:13.026Z"
   },
   {
    "duration": 7,
    "start_time": "2022-07-02T22:53:13.034Z"
   },
   {
    "duration": 8,
    "start_time": "2022-07-02T22:53:13.042Z"
   },
   {
    "duration": 5,
    "start_time": "2022-07-02T22:53:13.051Z"
   },
   {
    "duration": 5,
    "start_time": "2022-07-02T22:53:13.058Z"
   },
   {
    "duration": 5,
    "start_time": "2022-07-02T22:53:13.064Z"
   },
   {
    "duration": 4,
    "start_time": "2022-07-02T22:53:13.071Z"
   },
   {
    "duration": 48,
    "start_time": "2022-07-02T22:53:13.077Z"
   },
   {
    "duration": 15,
    "start_time": "2022-07-02T22:53:13.127Z"
   },
   {
    "duration": 8,
    "start_time": "2022-07-02T22:53:13.144Z"
   },
   {
    "duration": 15,
    "start_time": "2022-07-02T22:53:13.154Z"
   },
   {
    "duration": 4,
    "start_time": "2022-07-02T22:53:13.171Z"
   },
   {
    "duration": 14,
    "start_time": "2022-07-02T22:53:13.176Z"
   },
   {
    "duration": 35,
    "start_time": "2022-07-02T22:53:13.192Z"
   },
   {
    "duration": 16,
    "start_time": "2022-07-02T22:53:13.229Z"
   },
   {
    "duration": 34,
    "start_time": "2022-07-02T22:53:13.246Z"
   },
   {
    "duration": 56,
    "start_time": "2022-07-02T22:53:13.282Z"
   },
   {
    "duration": 3,
    "start_time": "2022-07-02T22:53:13.339Z"
   },
   {
    "duration": 7,
    "start_time": "2022-07-02T22:53:13.344Z"
   },
   {
    "duration": 9,
    "start_time": "2022-07-02T22:53:13.352Z"
   },
   {
    "duration": 5,
    "start_time": "2022-07-02T22:53:13.362Z"
   },
   {
    "duration": 22,
    "start_time": "2022-07-02T22:54:57.784Z"
   },
   {
    "duration": 1087,
    "start_time": "2022-07-02T22:55:36.334Z"
   },
   {
    "duration": 230,
    "start_time": "2022-07-02T22:55:37.423Z"
   },
   {
    "duration": 3,
    "start_time": "2022-07-02T22:55:37.655Z"
   },
   {
    "duration": 218,
    "start_time": "2022-07-02T22:55:37.660Z"
   },
   {
    "duration": 19,
    "start_time": "2022-07-02T22:55:37.880Z"
   },
   {
    "duration": 40,
    "start_time": "2022-07-02T22:55:37.900Z"
   },
   {
    "duration": 32,
    "start_time": "2022-07-02T22:55:37.942Z"
   },
   {
    "duration": 51,
    "start_time": "2022-07-02T22:55:37.976Z"
   },
   {
    "duration": 10,
    "start_time": "2022-07-02T22:55:38.029Z"
   },
   {
    "duration": 14,
    "start_time": "2022-07-02T22:55:38.042Z"
   },
   {
    "duration": 11,
    "start_time": "2022-07-02T22:55:38.057Z"
   },
   {
    "duration": 20,
    "start_time": "2022-07-02T22:55:38.069Z"
   },
   {
    "duration": 80,
    "start_time": "2022-07-02T22:55:38.090Z"
   },
   {
    "duration": 63,
    "start_time": "2022-07-02T22:55:38.171Z"
   },
   {
    "duration": 29,
    "start_time": "2022-07-02T22:55:38.236Z"
   },
   {
    "duration": 8,
    "start_time": "2022-07-02T22:55:38.267Z"
   },
   {
    "duration": 27,
    "start_time": "2022-07-02T22:55:38.277Z"
   },
   {
    "duration": 56,
    "start_time": "2022-07-02T22:55:38.305Z"
   },
   {
    "duration": 5,
    "start_time": "2022-07-02T22:55:38.362Z"
   },
   {
    "duration": 197,
    "start_time": "2022-07-02T22:55:38.368Z"
   },
   {
    "duration": 193,
    "start_time": "2022-07-02T22:55:38.567Z"
   },
   {
    "duration": 5,
    "start_time": "2022-07-02T22:55:38.762Z"
   },
   {
    "duration": 5,
    "start_time": "2022-07-02T22:55:38.769Z"
   },
   {
    "duration": 8,
    "start_time": "2022-07-02T22:55:38.776Z"
   },
   {
    "duration": 25,
    "start_time": "2022-07-02T22:55:38.786Z"
   },
   {
    "duration": 121,
    "start_time": "2022-07-02T22:55:38.813Z"
   },
   {
    "duration": 13,
    "start_time": "2022-07-02T22:55:38.936Z"
   },
   {
    "duration": 147,
    "start_time": "2022-07-02T22:55:38.953Z"
   },
   {
    "duration": 21,
    "start_time": "2022-07-02T22:55:39.102Z"
   },
   {
    "duration": 263,
    "start_time": "2022-07-02T22:55:39.124Z"
   },
   {
    "duration": 947,
    "start_time": "2022-07-02T22:55:39.389Z"
   },
   {
    "duration": 0,
    "start_time": "2022-07-02T22:55:40.338Z"
   },
   {
    "duration": 0,
    "start_time": "2022-07-02T22:55:40.339Z"
   },
   {
    "duration": 0,
    "start_time": "2022-07-02T22:55:40.340Z"
   },
   {
    "duration": 0,
    "start_time": "2022-07-02T22:55:40.341Z"
   },
   {
    "duration": 0,
    "start_time": "2022-07-02T22:55:40.342Z"
   },
   {
    "duration": 0,
    "start_time": "2022-07-02T22:55:40.343Z"
   },
   {
    "duration": 0,
    "start_time": "2022-07-02T22:55:40.344Z"
   },
   {
    "duration": 0,
    "start_time": "2022-07-02T22:55:40.344Z"
   },
   {
    "duration": 0,
    "start_time": "2022-07-02T22:55:40.346Z"
   },
   {
    "duration": 1,
    "start_time": "2022-07-02T22:55:40.346Z"
   },
   {
    "duration": 0,
    "start_time": "2022-07-02T22:55:40.348Z"
   },
   {
    "duration": 0,
    "start_time": "2022-07-02T22:55:40.348Z"
   },
   {
    "duration": 0,
    "start_time": "2022-07-02T22:55:40.349Z"
   },
   {
    "duration": 0,
    "start_time": "2022-07-02T22:55:40.350Z"
   },
   {
    "duration": 0,
    "start_time": "2022-07-02T22:55:40.351Z"
   },
   {
    "duration": 0,
    "start_time": "2022-07-02T22:55:40.352Z"
   },
   {
    "duration": 0,
    "start_time": "2022-07-02T22:55:40.353Z"
   },
   {
    "duration": 0,
    "start_time": "2022-07-02T22:55:40.357Z"
   },
   {
    "duration": 0,
    "start_time": "2022-07-02T22:55:40.359Z"
   },
   {
    "duration": 0,
    "start_time": "2022-07-02T22:55:40.360Z"
   },
   {
    "duration": 0,
    "start_time": "2022-07-02T22:55:40.362Z"
   },
   {
    "duration": 0,
    "start_time": "2022-07-02T22:55:40.363Z"
   },
   {
    "duration": 0,
    "start_time": "2022-07-02T22:55:40.365Z"
   },
   {
    "duration": 0,
    "start_time": "2022-07-02T22:55:40.366Z"
   },
   {
    "duration": 0,
    "start_time": "2022-07-02T22:55:40.368Z"
   },
   {
    "duration": 0,
    "start_time": "2022-07-02T22:55:40.369Z"
   },
   {
    "duration": 0,
    "start_time": "2022-07-02T22:55:40.370Z"
   },
   {
    "duration": 0,
    "start_time": "2022-07-02T22:55:40.371Z"
   },
   {
    "duration": 0,
    "start_time": "2022-07-02T22:55:40.373Z"
   },
   {
    "duration": 0,
    "start_time": "2022-07-02T22:55:40.374Z"
   },
   {
    "duration": 0,
    "start_time": "2022-07-02T22:55:40.422Z"
   },
   {
    "duration": 0,
    "start_time": "2022-07-02T22:55:40.424Z"
   },
   {
    "duration": 0,
    "start_time": "2022-07-02T22:55:40.426Z"
   },
   {
    "duration": 0,
    "start_time": "2022-07-02T22:55:40.427Z"
   },
   {
    "duration": 0,
    "start_time": "2022-07-02T22:55:40.429Z"
   },
   {
    "duration": 0,
    "start_time": "2022-07-02T22:55:40.430Z"
   },
   {
    "duration": 0,
    "start_time": "2022-07-02T22:55:40.431Z"
   },
   {
    "duration": 0,
    "start_time": "2022-07-02T22:55:40.432Z"
   },
   {
    "duration": 0,
    "start_time": "2022-07-02T22:55:40.434Z"
   },
   {
    "duration": 0,
    "start_time": "2022-07-02T22:55:40.435Z"
   },
   {
    "duration": 0,
    "start_time": "2022-07-02T22:55:40.436Z"
   },
   {
    "duration": 0,
    "start_time": "2022-07-02T22:55:40.437Z"
   },
   {
    "duration": 0,
    "start_time": "2022-07-02T22:55:40.439Z"
   },
   {
    "duration": 0,
    "start_time": "2022-07-02T22:55:40.440Z"
   },
   {
    "duration": 0,
    "start_time": "2022-07-02T22:55:40.441Z"
   },
   {
    "duration": 0,
    "start_time": "2022-07-02T22:55:40.443Z"
   },
   {
    "duration": 0,
    "start_time": "2022-07-02T22:55:40.445Z"
   },
   {
    "duration": 945,
    "start_time": "2022-07-02T22:55:58.611Z"
   },
   {
    "duration": 19,
    "start_time": "2022-07-02T22:56:16.177Z"
   },
   {
    "duration": 1124,
    "start_time": "2022-07-02T22:56:35.998Z"
   },
   {
    "duration": 233,
    "start_time": "2022-07-02T22:56:37.124Z"
   },
   {
    "duration": 5,
    "start_time": "2022-07-02T22:56:37.359Z"
   },
   {
    "duration": 225,
    "start_time": "2022-07-02T22:56:37.366Z"
   },
   {
    "duration": 19,
    "start_time": "2022-07-02T22:56:37.593Z"
   },
   {
    "duration": 34,
    "start_time": "2022-07-02T22:56:37.614Z"
   },
   {
    "duration": 32,
    "start_time": "2022-07-02T22:56:37.649Z"
   },
   {
    "duration": 53,
    "start_time": "2022-07-02T22:56:37.683Z"
   },
   {
    "duration": 10,
    "start_time": "2022-07-02T22:56:37.738Z"
   },
   {
    "duration": 13,
    "start_time": "2022-07-02T22:56:37.751Z"
   },
   {
    "duration": 10,
    "start_time": "2022-07-02T22:56:37.766Z"
   },
   {
    "duration": 13,
    "start_time": "2022-07-02T22:56:37.778Z"
   },
   {
    "duration": 88,
    "start_time": "2022-07-02T22:56:37.792Z"
   },
   {
    "duration": 70,
    "start_time": "2022-07-02T22:56:37.882Z"
   },
   {
    "duration": 36,
    "start_time": "2022-07-02T22:56:37.954Z"
   },
   {
    "duration": 4,
    "start_time": "2022-07-02T22:56:37.992Z"
   },
   {
    "duration": 30,
    "start_time": "2022-07-02T22:56:37.998Z"
   },
   {
    "duration": 25,
    "start_time": "2022-07-02T22:56:38.030Z"
   },
   {
    "duration": 5,
    "start_time": "2022-07-02T22:56:38.057Z"
   },
   {
    "duration": 212,
    "start_time": "2022-07-02T22:56:38.063Z"
   },
   {
    "duration": 204,
    "start_time": "2022-07-02T22:56:38.276Z"
   },
   {
    "duration": 5,
    "start_time": "2022-07-02T22:56:38.481Z"
   },
   {
    "duration": 5,
    "start_time": "2022-07-02T22:56:38.488Z"
   },
   {
    "duration": 5,
    "start_time": "2022-07-02T22:56:38.495Z"
   },
   {
    "duration": 31,
    "start_time": "2022-07-02T22:56:38.501Z"
   },
   {
    "duration": 115,
    "start_time": "2022-07-02T22:56:38.533Z"
   },
   {
    "duration": 13,
    "start_time": "2022-07-02T22:56:38.650Z"
   },
   {
    "duration": 132,
    "start_time": "2022-07-02T22:56:38.665Z"
   },
   {
    "duration": 13,
    "start_time": "2022-07-02T22:56:38.799Z"
   },
   {
    "duration": 268,
    "start_time": "2022-07-02T22:56:38.823Z"
   },
   {
    "duration": 18,
    "start_time": "2022-07-02T22:56:41.702Z"
   },
   {
    "duration": 19,
    "start_time": "2022-07-02T22:58:06.908Z"
   },
   {
    "duration": 1188,
    "start_time": "2022-07-02T22:58:17.889Z"
   },
   {
    "duration": 262,
    "start_time": "2022-07-02T22:58:19.079Z"
   },
   {
    "duration": 3,
    "start_time": "2022-07-02T22:58:19.343Z"
   },
   {
    "duration": 225,
    "start_time": "2022-07-02T22:58:19.347Z"
   },
   {
    "duration": 18,
    "start_time": "2022-07-02T22:58:19.574Z"
   },
   {
    "duration": 44,
    "start_time": "2022-07-02T22:58:19.594Z"
   },
   {
    "duration": 33,
    "start_time": "2022-07-02T22:58:19.639Z"
   },
   {
    "duration": 52,
    "start_time": "2022-07-02T22:58:19.674Z"
   },
   {
    "duration": 13,
    "start_time": "2022-07-02T22:58:19.728Z"
   },
   {
    "duration": 15,
    "start_time": "2022-07-02T22:58:19.742Z"
   },
   {
    "duration": 12,
    "start_time": "2022-07-02T22:58:19.758Z"
   },
   {
    "duration": 16,
    "start_time": "2022-07-02T22:58:19.771Z"
   },
   {
    "duration": 79,
    "start_time": "2022-07-02T22:58:19.788Z"
   },
   {
    "duration": 58,
    "start_time": "2022-07-02T22:58:19.870Z"
   },
   {
    "duration": 32,
    "start_time": "2022-07-02T22:58:19.930Z"
   },
   {
    "duration": 4,
    "start_time": "2022-07-02T22:58:19.963Z"
   },
   {
    "duration": 11,
    "start_time": "2022-07-02T22:58:19.968Z"
   },
   {
    "duration": 46,
    "start_time": "2022-07-02T22:58:19.981Z"
   },
   {
    "duration": 4,
    "start_time": "2022-07-02T22:58:20.029Z"
   },
   {
    "duration": 205,
    "start_time": "2022-07-02T22:58:20.035Z"
   },
   {
    "duration": 203,
    "start_time": "2022-07-02T22:58:20.242Z"
   },
   {
    "duration": 6,
    "start_time": "2022-07-02T22:58:20.447Z"
   },
   {
    "duration": 7,
    "start_time": "2022-07-02T22:58:20.455Z"
   },
   {
    "duration": 6,
    "start_time": "2022-07-02T22:58:20.464Z"
   },
   {
    "duration": 15,
    "start_time": "2022-07-02T22:58:20.471Z"
   },
   {
    "duration": 135,
    "start_time": "2022-07-02T22:58:20.488Z"
   },
   {
    "duration": 13,
    "start_time": "2022-07-02T22:58:20.624Z"
   },
   {
    "duration": 133,
    "start_time": "2022-07-02T22:58:20.639Z"
   },
   {
    "duration": 12,
    "start_time": "2022-07-02T22:58:20.773Z"
   },
   {
    "duration": 257,
    "start_time": "2022-07-02T22:58:20.786Z"
   },
   {
    "duration": 18,
    "start_time": "2022-07-02T22:58:24.186Z"
   },
   {
    "duration": 21,
    "start_time": "2022-07-02T22:59:32.396Z"
   },
   {
    "duration": 1105,
    "start_time": "2022-07-02T22:59:43.020Z"
   },
   {
    "duration": 227,
    "start_time": "2022-07-02T22:59:44.127Z"
   },
   {
    "duration": 3,
    "start_time": "2022-07-02T22:59:44.356Z"
   },
   {
    "duration": 206,
    "start_time": "2022-07-02T22:59:44.361Z"
   },
   {
    "duration": 20,
    "start_time": "2022-07-02T22:59:44.569Z"
   },
   {
    "duration": 40,
    "start_time": "2022-07-02T22:59:44.591Z"
   },
   {
    "duration": 31,
    "start_time": "2022-07-02T22:59:44.633Z"
   },
   {
    "duration": 57,
    "start_time": "2022-07-02T22:59:44.666Z"
   },
   {
    "duration": 11,
    "start_time": "2022-07-02T22:59:44.725Z"
   },
   {
    "duration": 15,
    "start_time": "2022-07-02T22:59:44.739Z"
   },
   {
    "duration": 12,
    "start_time": "2022-07-02T22:59:44.756Z"
   },
   {
    "duration": 14,
    "start_time": "2022-07-02T22:59:44.770Z"
   },
   {
    "duration": 84,
    "start_time": "2022-07-02T22:59:44.785Z"
   },
   {
    "duration": 63,
    "start_time": "2022-07-02T22:59:44.871Z"
   },
   {
    "duration": 29,
    "start_time": "2022-07-02T22:59:44.936Z"
   },
   {
    "duration": 4,
    "start_time": "2022-07-02T22:59:44.966Z"
   },
   {
    "duration": 12,
    "start_time": "2022-07-02T22:59:44.972Z"
   },
   {
    "duration": 49,
    "start_time": "2022-07-02T22:59:44.985Z"
   },
   {
    "duration": 6,
    "start_time": "2022-07-02T22:59:45.036Z"
   },
   {
    "duration": 218,
    "start_time": "2022-07-02T22:59:45.044Z"
   },
   {
    "duration": 200,
    "start_time": "2022-07-02T22:59:45.264Z"
   },
   {
    "duration": 5,
    "start_time": "2022-07-02T22:59:45.466Z"
   },
   {
    "duration": 6,
    "start_time": "2022-07-02T22:59:45.473Z"
   },
   {
    "duration": 7,
    "start_time": "2022-07-02T22:59:45.481Z"
   },
   {
    "duration": 34,
    "start_time": "2022-07-02T22:59:45.490Z"
   },
   {
    "duration": 120,
    "start_time": "2022-07-02T22:59:45.526Z"
   },
   {
    "duration": 14,
    "start_time": "2022-07-02T22:59:45.647Z"
   },
   {
    "duration": 135,
    "start_time": "2022-07-02T22:59:45.666Z"
   },
   {
    "duration": 24,
    "start_time": "2022-07-02T22:59:45.803Z"
   },
   {
    "duration": 259,
    "start_time": "2022-07-02T22:59:45.828Z"
   },
   {
    "duration": 20,
    "start_time": "2022-07-02T22:59:46.089Z"
   },
   {
    "duration": 36,
    "start_time": "2022-07-02T22:59:46.111Z"
   },
   {
    "duration": 33,
    "start_time": "2022-07-02T22:59:46.149Z"
   },
   {
    "duration": 11,
    "start_time": "2022-07-02T22:59:46.183Z"
   },
   {
    "duration": 28,
    "start_time": "2022-07-02T22:59:46.195Z"
   },
   {
    "duration": 4,
    "start_time": "2022-07-02T22:59:46.224Z"
   },
   {
    "duration": 6,
    "start_time": "2022-07-02T22:59:46.230Z"
   },
   {
    "duration": 9,
    "start_time": "2022-07-02T22:59:46.237Z"
   },
   {
    "duration": 36,
    "start_time": "2022-07-02T22:59:46.248Z"
   },
   {
    "duration": 12,
    "start_time": "2022-07-02T22:59:46.286Z"
   },
   {
    "duration": 14,
    "start_time": "2022-07-02T22:59:46.323Z"
   },
   {
    "duration": 4,
    "start_time": "2022-07-02T22:59:46.338Z"
   },
   {
    "duration": 10,
    "start_time": "2022-07-02T22:59:46.344Z"
   },
   {
    "duration": 4,
    "start_time": "2022-07-02T22:59:46.355Z"
   },
   {
    "duration": 276,
    "start_time": "2022-07-02T22:59:46.361Z"
   },
   {
    "duration": 208,
    "start_time": "2022-07-02T22:59:46.639Z"
   },
   {
    "duration": 11,
    "start_time": "2022-07-02T22:59:46.849Z"
   },
   {
    "duration": 11,
    "start_time": "2022-07-02T22:59:46.862Z"
   },
   {
    "duration": 5,
    "start_time": "2022-07-02T22:59:46.875Z"
   },
   {
    "duration": 74,
    "start_time": "2022-07-02T22:59:46.881Z"
   },
   {
    "duration": 149,
    "start_time": "2022-07-02T22:59:46.957Z"
   },
   {
    "duration": 3,
    "start_time": "2022-07-02T22:59:47.108Z"
   },
   {
    "duration": 3,
    "start_time": "2022-07-02T22:59:47.123Z"
   },
   {
    "duration": 6,
    "start_time": "2022-07-02T22:59:47.128Z"
   },
   {
    "duration": 6,
    "start_time": "2022-07-02T22:59:47.135Z"
   },
   {
    "duration": 5,
    "start_time": "2022-07-02T22:59:47.143Z"
   },
   {
    "duration": 6,
    "start_time": "2022-07-02T22:59:47.149Z"
   },
   {
    "duration": 6,
    "start_time": "2022-07-02T22:59:47.156Z"
   },
   {
    "duration": 5,
    "start_time": "2022-07-02T22:59:47.163Z"
   },
   {
    "duration": 5,
    "start_time": "2022-07-02T22:59:47.170Z"
   },
   {
    "duration": 5,
    "start_time": "2022-07-02T22:59:47.176Z"
   },
   {
    "duration": 43,
    "start_time": "2022-07-02T22:59:47.183Z"
   },
   {
    "duration": 5,
    "start_time": "2022-07-02T22:59:47.228Z"
   },
   {
    "duration": 5,
    "start_time": "2022-07-02T22:59:47.235Z"
   },
   {
    "duration": 4,
    "start_time": "2022-07-02T22:59:47.242Z"
   },
   {
    "duration": 19,
    "start_time": "2022-07-02T22:59:47.248Z"
   },
   {
    "duration": 9,
    "start_time": "2022-07-02T22:59:47.268Z"
   },
   {
    "duration": 53,
    "start_time": "2022-07-02T22:59:47.279Z"
   },
   {
    "duration": 4,
    "start_time": "2022-07-02T22:59:47.333Z"
   },
   {
    "duration": 9,
    "start_time": "2022-07-02T22:59:47.339Z"
   },
   {
    "duration": 9,
    "start_time": "2022-07-02T22:59:47.350Z"
   },
   {
    "duration": 12,
    "start_time": "2022-07-02T22:59:47.360Z"
   },
   {
    "duration": 51,
    "start_time": "2022-07-02T22:59:47.374Z"
   },
   {
    "duration": 39,
    "start_time": "2022-07-02T22:59:47.427Z"
   },
   {
    "duration": 3,
    "start_time": "2022-07-02T22:59:47.468Z"
   },
   {
    "duration": 8,
    "start_time": "2022-07-02T22:59:47.473Z"
   },
   {
    "duration": 6,
    "start_time": "2022-07-02T22:59:47.483Z"
   },
   {
    "duration": 5,
    "start_time": "2022-07-02T22:59:47.491Z"
   },
   {
    "duration": 1243,
    "start_time": "2022-07-03T10:33:48.571Z"
   },
   {
    "duration": 583,
    "start_time": "2022-07-03T10:33:49.816Z"
   },
   {
    "duration": 4,
    "start_time": "2022-07-03T10:33:50.400Z"
   },
   {
    "duration": 217,
    "start_time": "2022-07-03T10:33:50.406Z"
   },
   {
    "duration": 20,
    "start_time": "2022-07-03T10:33:50.625Z"
   },
   {
    "duration": 27,
    "start_time": "2022-07-03T10:33:50.646Z"
   },
   {
    "duration": 56,
    "start_time": "2022-07-03T10:33:50.674Z"
   },
   {
    "duration": 36,
    "start_time": "2022-07-03T10:33:50.732Z"
   },
   {
    "duration": 10,
    "start_time": "2022-07-03T10:33:50.770Z"
   },
   {
    "duration": 42,
    "start_time": "2022-07-03T10:33:50.781Z"
   },
   {
    "duration": 20,
    "start_time": "2022-07-03T10:33:50.824Z"
   },
   {
    "duration": 15,
    "start_time": "2022-07-03T10:33:50.846Z"
   },
   {
    "duration": 68,
    "start_time": "2022-07-03T10:33:50.863Z"
   },
   {
    "duration": 59,
    "start_time": "2022-07-03T10:33:50.934Z"
   },
   {
    "duration": 40,
    "start_time": "2022-07-03T10:33:50.994Z"
   },
   {
    "duration": 4,
    "start_time": "2022-07-03T10:33:51.036Z"
   },
   {
    "duration": 13,
    "start_time": "2022-07-03T10:33:51.041Z"
   },
   {
    "duration": 30,
    "start_time": "2022-07-03T10:33:51.056Z"
   },
   {
    "duration": 5,
    "start_time": "2022-07-03T10:33:51.087Z"
   },
   {
    "duration": 219,
    "start_time": "2022-07-03T10:33:51.093Z"
   },
   {
    "duration": 204,
    "start_time": "2022-07-03T10:33:51.313Z"
   },
   {
    "duration": 7,
    "start_time": "2022-07-03T10:33:51.519Z"
   },
   {
    "duration": 10,
    "start_time": "2022-07-03T10:33:51.527Z"
   },
   {
    "duration": 8,
    "start_time": "2022-07-03T10:33:51.538Z"
   },
   {
    "duration": 18,
    "start_time": "2022-07-03T10:33:51.547Z"
   },
   {
    "duration": 128,
    "start_time": "2022-07-03T10:33:51.567Z"
   },
   {
    "duration": 13,
    "start_time": "2022-07-03T10:33:51.697Z"
   },
   {
    "duration": 125,
    "start_time": "2022-07-03T10:33:51.723Z"
   },
   {
    "duration": 15,
    "start_time": "2022-07-03T10:33:51.849Z"
   },
   {
    "duration": 293,
    "start_time": "2022-07-03T10:33:51.866Z"
   },
   {
    "duration": 19,
    "start_time": "2022-07-03T10:33:52.161Z"
   },
   {
    "duration": 35,
    "start_time": "2022-07-03T10:33:52.181Z"
   },
   {
    "duration": 35,
    "start_time": "2022-07-03T10:33:52.217Z"
   },
   {
    "duration": 11,
    "start_time": "2022-07-03T10:33:52.253Z"
   },
   {
    "duration": 7,
    "start_time": "2022-07-03T10:33:52.265Z"
   },
   {
    "duration": 6,
    "start_time": "2022-07-03T10:33:52.274Z"
   },
   {
    "duration": 6,
    "start_time": "2022-07-03T10:33:52.282Z"
   },
   {
    "duration": 13,
    "start_time": "2022-07-03T10:33:52.289Z"
   },
   {
    "duration": 53,
    "start_time": "2022-07-03T10:33:52.303Z"
   },
   {
    "duration": 12,
    "start_time": "2022-07-03T10:33:52.358Z"
   },
   {
    "duration": 13,
    "start_time": "2022-07-03T10:33:52.375Z"
   },
   {
    "duration": 5,
    "start_time": "2022-07-03T10:33:52.390Z"
   },
   {
    "duration": 10,
    "start_time": "2022-07-03T10:33:52.422Z"
   },
   {
    "duration": 6,
    "start_time": "2022-07-03T10:33:52.433Z"
   },
   {
    "duration": 303,
    "start_time": "2022-07-03T10:33:52.440Z"
   },
   {
    "duration": 223,
    "start_time": "2022-07-03T10:33:52.746Z"
   },
   {
    "duration": 10,
    "start_time": "2022-07-03T10:33:52.971Z"
   },
   {
    "duration": 17,
    "start_time": "2022-07-03T10:33:52.982Z"
   },
   {
    "duration": 5,
    "start_time": "2022-07-03T10:33:53.001Z"
   },
   {
    "duration": 43,
    "start_time": "2022-07-03T10:33:53.022Z"
   },
   {
    "duration": 163,
    "start_time": "2022-07-03T10:33:53.066Z"
   },
   {
    "duration": 3,
    "start_time": "2022-07-03T10:33:53.231Z"
   },
   {
    "duration": 9,
    "start_time": "2022-07-03T10:33:53.235Z"
   },
   {
    "duration": 9,
    "start_time": "2022-07-03T10:33:53.246Z"
   },
   {
    "duration": 9,
    "start_time": "2022-07-03T10:33:53.256Z"
   },
   {
    "duration": 6,
    "start_time": "2022-07-03T10:33:53.267Z"
   },
   {
    "duration": 7,
    "start_time": "2022-07-03T10:33:53.275Z"
   },
   {
    "duration": 5,
    "start_time": "2022-07-03T10:33:53.284Z"
   },
   {
    "duration": 5,
    "start_time": "2022-07-03T10:33:53.290Z"
   },
   {
    "duration": 28,
    "start_time": "2022-07-03T10:33:53.296Z"
   },
   {
    "duration": 4,
    "start_time": "2022-07-03T10:33:53.325Z"
   },
   {
    "duration": 8,
    "start_time": "2022-07-03T10:33:53.331Z"
   },
   {
    "duration": 8,
    "start_time": "2022-07-03T10:33:53.340Z"
   },
   {
    "duration": 8,
    "start_time": "2022-07-03T10:33:53.350Z"
   },
   {
    "duration": 5,
    "start_time": "2022-07-03T10:33:53.359Z"
   },
   {
    "duration": 17,
    "start_time": "2022-07-03T10:33:53.365Z"
   },
   {
    "duration": 7,
    "start_time": "2022-07-03T10:33:53.384Z"
   },
   {
    "duration": 41,
    "start_time": "2022-07-03T10:33:53.392Z"
   },
   {
    "duration": 3,
    "start_time": "2022-07-03T10:33:53.435Z"
   },
   {
    "duration": 10,
    "start_time": "2022-07-03T10:33:53.439Z"
   },
   {
    "duration": 10,
    "start_time": "2022-07-03T10:33:53.451Z"
   },
   {
    "duration": 12,
    "start_time": "2022-07-03T10:33:53.462Z"
   },
   {
    "duration": 54,
    "start_time": "2022-07-03T10:33:53.476Z"
   },
   {
    "duration": 42,
    "start_time": "2022-07-03T10:33:53.532Z"
   },
   {
    "duration": 3,
    "start_time": "2022-07-03T10:33:53.576Z"
   },
   {
    "duration": 8,
    "start_time": "2022-07-03T10:33:53.580Z"
   },
   {
    "duration": 11,
    "start_time": "2022-07-03T10:33:53.590Z"
   },
   {
    "duration": 5,
    "start_time": "2022-07-03T10:33:53.603Z"
   },
   {
    "duration": 8,
    "start_time": "2022-07-03T10:46:27.479Z"
   },
   {
    "duration": 203,
    "start_time": "2022-07-03T10:49:14.005Z"
   },
   {
    "duration": 214,
    "start_time": "2022-07-03T10:49:16.654Z"
   },
   {
    "duration": 186,
    "start_time": "2022-07-03T10:51:16.117Z"
   },
   {
    "duration": 254,
    "start_time": "2022-07-03T10:51:44.623Z"
   },
   {
    "duration": 231,
    "start_time": "2022-07-03T10:51:59.934Z"
   },
   {
    "duration": 402,
    "start_time": "2022-07-03T10:54:04.775Z"
   },
   {
    "duration": 260,
    "start_time": "2022-07-03T10:54:25.931Z"
   },
   {
    "duration": 225,
    "start_time": "2022-07-03T10:54:29.999Z"
   },
   {
    "duration": 207,
    "start_time": "2022-07-03T10:54:45.967Z"
   },
   {
    "duration": 208,
    "start_time": "2022-07-03T10:54:50.875Z"
   },
   {
    "duration": 131,
    "start_time": "2022-07-03T10:56:43.742Z"
   },
   {
    "duration": 222,
    "start_time": "2022-07-03T10:56:50.699Z"
   },
   {
    "duration": 363,
    "start_time": "2022-07-03T10:57:11.175Z"
   },
   {
    "duration": 236,
    "start_time": "2022-07-03T11:00:43.507Z"
   },
   {
    "duration": 5,
    "start_time": "2022-07-03T11:14:37.987Z"
   },
   {
    "duration": 5,
    "start_time": "2022-07-03T11:14:42.506Z"
   },
   {
    "duration": 103,
    "start_time": "2022-07-03T11:15:19.605Z"
   },
   {
    "duration": 4,
    "start_time": "2022-07-03T11:15:38.163Z"
   },
   {
    "duration": 5,
    "start_time": "2022-07-03T11:23:05.200Z"
   },
   {
    "duration": 6,
    "start_time": "2022-07-03T12:02:07.492Z"
   },
   {
    "duration": 11,
    "start_time": "2022-07-03T12:02:46.934Z"
   },
   {
    "duration": 6,
    "start_time": "2022-07-03T12:05:49.376Z"
   },
   {
    "duration": 11,
    "start_time": "2022-07-03T12:11:44.972Z"
   },
   {
    "duration": 10,
    "start_time": "2022-07-03T12:11:51.480Z"
   },
   {
    "duration": 1219,
    "start_time": "2022-07-03T12:12:06.822Z"
   },
   {
    "duration": 243,
    "start_time": "2022-07-03T12:12:08.043Z"
   },
   {
    "duration": 14,
    "start_time": "2022-07-03T12:12:08.289Z"
   },
   {
    "duration": 4,
    "start_time": "2022-07-03T12:12:08.305Z"
   },
   {
    "duration": 229,
    "start_time": "2022-07-03T12:12:08.310Z"
   },
   {
    "duration": 20,
    "start_time": "2022-07-03T12:12:08.540Z"
   },
   {
    "duration": 35,
    "start_time": "2022-07-03T12:12:08.562Z"
   },
   {
    "duration": 51,
    "start_time": "2022-07-03T12:12:08.599Z"
   },
   {
    "duration": 35,
    "start_time": "2022-07-03T12:12:08.652Z"
   },
   {
    "duration": 12,
    "start_time": "2022-07-03T12:12:08.690Z"
   },
   {
    "duration": 31,
    "start_time": "2022-07-03T12:12:08.704Z"
   },
   {
    "duration": 14,
    "start_time": "2022-07-03T12:12:08.737Z"
   },
   {
    "duration": 14,
    "start_time": "2022-07-03T12:12:08.752Z"
   },
   {
    "duration": 83,
    "start_time": "2022-07-03T12:12:08.768Z"
   },
   {
    "duration": 56,
    "start_time": "2022-07-03T12:12:08.852Z"
   },
   {
    "duration": 41,
    "start_time": "2022-07-03T12:12:08.909Z"
   },
   {
    "duration": 9,
    "start_time": "2022-07-03T12:12:08.952Z"
   },
   {
    "duration": 15,
    "start_time": "2022-07-03T12:12:08.962Z"
   },
   {
    "duration": 47,
    "start_time": "2022-07-03T12:12:08.980Z"
   },
   {
    "duration": 4,
    "start_time": "2022-07-03T12:12:09.029Z"
   },
   {
    "duration": 214,
    "start_time": "2022-07-03T12:12:09.035Z"
   },
   {
    "duration": 231,
    "start_time": "2022-07-03T12:12:09.251Z"
   },
   {
    "duration": 5,
    "start_time": "2022-07-03T12:12:09.484Z"
   },
   {
    "duration": 14,
    "start_time": "2022-07-03T12:12:09.491Z"
   },
   {
    "duration": 13,
    "start_time": "2022-07-03T12:12:09.507Z"
   },
   {
    "duration": 23,
    "start_time": "2022-07-03T12:12:09.522Z"
   },
   {
    "duration": 152,
    "start_time": "2022-07-03T12:12:09.547Z"
   },
   {
    "duration": 21,
    "start_time": "2022-07-03T12:12:09.703Z"
   },
   {
    "duration": 133,
    "start_time": "2022-07-03T12:12:09.726Z"
   },
   {
    "duration": 13,
    "start_time": "2022-07-03T12:12:09.861Z"
   },
   {
    "duration": 295,
    "start_time": "2022-07-03T12:12:09.876Z"
   },
   {
    "duration": 19,
    "start_time": "2022-07-03T12:12:10.173Z"
   },
   {
    "duration": 36,
    "start_time": "2022-07-03T12:12:10.193Z"
   },
   {
    "duration": 35,
    "start_time": "2022-07-03T12:12:10.231Z"
   },
   {
    "duration": 17,
    "start_time": "2022-07-03T12:12:10.268Z"
   },
   {
    "duration": 4,
    "start_time": "2022-07-03T12:12:10.287Z"
   },
   {
    "duration": 10,
    "start_time": "2022-07-03T12:12:10.292Z"
   },
   {
    "duration": 25,
    "start_time": "2022-07-03T12:12:10.304Z"
   },
   {
    "duration": 41,
    "start_time": "2022-07-03T12:12:10.331Z"
   },
   {
    "duration": 12,
    "start_time": "2022-07-03T12:12:10.374Z"
   },
   {
    "duration": 6,
    "start_time": "2022-07-03T12:12:10.388Z"
   },
   {
    "duration": 32,
    "start_time": "2022-07-03T12:12:10.395Z"
   },
   {
    "duration": 4,
    "start_time": "2022-07-03T12:12:10.429Z"
   },
   {
    "duration": 16,
    "start_time": "2022-07-03T12:12:10.435Z"
   },
   {
    "duration": 5,
    "start_time": "2022-07-03T12:12:10.452Z"
   },
   {
    "duration": 303,
    "start_time": "2022-07-03T12:12:10.459Z"
   },
   {
    "duration": 321,
    "start_time": "2022-07-03T12:12:10.764Z"
   },
   {
    "duration": 11,
    "start_time": "2022-07-03T12:12:11.087Z"
   },
   {
    "duration": 23,
    "start_time": "2022-07-03T12:12:11.100Z"
   },
   {
    "duration": 5,
    "start_time": "2022-07-03T12:12:11.125Z"
   },
   {
    "duration": 44,
    "start_time": "2022-07-03T12:12:11.131Z"
   },
   {
    "duration": 71,
    "start_time": "2022-07-03T12:12:11.176Z"
   },
   {
    "duration": 4,
    "start_time": "2022-07-03T12:12:11.248Z"
   },
   {
    "duration": 10,
    "start_time": "2022-07-03T12:12:11.254Z"
   },
   {
    "duration": 9,
    "start_time": "2022-07-03T12:12:11.266Z"
   },
   {
    "duration": 8,
    "start_time": "2022-07-03T12:12:11.277Z"
   },
   {
    "duration": 15,
    "start_time": "2022-07-03T12:12:11.286Z"
   },
   {
    "duration": 20,
    "start_time": "2022-07-03T12:12:11.303Z"
   },
   {
    "duration": 4,
    "start_time": "2022-07-03T12:12:11.325Z"
   },
   {
    "duration": 8,
    "start_time": "2022-07-03T12:12:11.331Z"
   },
   {
    "duration": 5,
    "start_time": "2022-07-03T12:12:11.340Z"
   },
   {
    "duration": 7,
    "start_time": "2022-07-03T12:12:11.346Z"
   },
   {
    "duration": 6,
    "start_time": "2022-07-03T12:12:11.354Z"
   },
   {
    "duration": 6,
    "start_time": "2022-07-03T12:12:11.362Z"
   },
   {
    "duration": 4,
    "start_time": "2022-07-03T12:12:11.370Z"
   },
   {
    "duration": 51,
    "start_time": "2022-07-03T12:12:11.376Z"
   },
   {
    "duration": 8,
    "start_time": "2022-07-03T12:12:11.428Z"
   },
   {
    "duration": 17,
    "start_time": "2022-07-03T12:12:11.438Z"
   },
   {
    "duration": 2,
    "start_time": "2022-07-03T12:12:11.457Z"
   },
   {
    "duration": 9,
    "start_time": "2022-07-03T12:12:11.461Z"
   },
   {
    "duration": 19,
    "start_time": "2022-07-03T12:12:11.471Z"
   },
   {
    "duration": 12,
    "start_time": "2022-07-03T12:12:11.491Z"
   },
   {
    "duration": 44,
    "start_time": "2022-07-03T12:12:11.505Z"
   },
   {
    "duration": 38,
    "start_time": "2022-07-03T12:12:11.551Z"
   },
   {
    "duration": 4,
    "start_time": "2022-07-03T12:12:11.591Z"
   },
   {
    "duration": 43,
    "start_time": "2022-07-03T12:12:11.596Z"
   },
   {
    "duration": 10,
    "start_time": "2022-07-03T12:12:11.641Z"
   },
   {
    "duration": 12,
    "start_time": "2022-07-03T12:12:11.653Z"
   },
   {
    "duration": 11,
    "start_time": "2022-07-03T12:12:11.666Z"
   },
   {
    "duration": 17,
    "start_time": "2022-07-03T12:13:07.792Z"
   },
   {
    "duration": 12,
    "start_time": "2022-07-03T12:13:13.308Z"
   },
   {
    "duration": 6,
    "start_time": "2022-07-03T12:13:28.411Z"
   },
   {
    "duration": 15,
    "start_time": "2022-07-03T12:13:37.880Z"
   },
   {
    "duration": 23,
    "start_time": "2022-07-03T12:14:08.473Z"
   },
   {
    "duration": 23,
    "start_time": "2022-07-03T12:14:15.036Z"
   },
   {
    "duration": 16,
    "start_time": "2022-07-03T12:14:31.920Z"
   },
   {
    "duration": 11,
    "start_time": "2022-07-03T12:14:46.124Z"
   },
   {
    "duration": 16,
    "start_time": "2022-07-03T12:15:22.682Z"
   },
   {
    "duration": 35,
    "start_time": "2022-07-03T12:23:09.934Z"
   },
   {
    "duration": 37,
    "start_time": "2022-07-03T12:23:18.927Z"
   },
   {
    "duration": 4,
    "start_time": "2022-07-03T12:23:23.920Z"
   },
   {
    "duration": 114,
    "start_time": "2022-07-03T12:24:16.177Z"
   },
   {
    "duration": 30,
    "start_time": "2022-07-03T12:24:32.338Z"
   },
   {
    "duration": 29,
    "start_time": "2022-07-03T12:24:50.531Z"
   },
   {
    "duration": 245,
    "start_time": "2022-07-03T12:37:43.997Z"
   },
   {
    "duration": 233,
    "start_time": "2022-07-03T12:38:23.731Z"
   },
   {
    "duration": 254,
    "start_time": "2022-07-03T12:39:25.292Z"
   },
   {
    "duration": 102,
    "start_time": "2022-07-03T16:17:57.798Z"
   },
   {
    "duration": 1365,
    "start_time": "2022-07-03T16:18:06.412Z"
   },
   {
    "duration": 1515,
    "start_time": "2022-07-03T16:18:07.779Z"
   },
   {
    "duration": 4,
    "start_time": "2022-07-03T16:18:09.295Z"
   },
   {
    "duration": 230,
    "start_time": "2022-07-03T16:18:09.300Z"
   },
   {
    "duration": 30,
    "start_time": "2022-07-03T16:18:09.532Z"
   },
   {
    "duration": 25,
    "start_time": "2022-07-03T16:18:09.563Z"
   },
   {
    "duration": 47,
    "start_time": "2022-07-03T16:18:09.589Z"
   },
   {
    "duration": 40,
    "start_time": "2022-07-03T16:18:09.638Z"
   },
   {
    "duration": 9,
    "start_time": "2022-07-03T16:18:09.679Z"
   },
   {
    "duration": 16,
    "start_time": "2022-07-03T16:18:09.691Z"
   },
   {
    "duration": 22,
    "start_time": "2022-07-03T16:18:09.708Z"
   },
   {
    "duration": 30,
    "start_time": "2022-07-03T16:18:09.731Z"
   },
   {
    "duration": 86,
    "start_time": "2022-07-03T16:18:09.767Z"
   },
   {
    "duration": 59,
    "start_time": "2022-07-03T16:18:09.854Z"
   },
   {
    "duration": 40,
    "start_time": "2022-07-03T16:18:09.914Z"
   },
   {
    "duration": 5,
    "start_time": "2022-07-03T16:18:09.956Z"
   },
   {
    "duration": 14,
    "start_time": "2022-07-03T16:18:09.963Z"
   },
   {
    "duration": 32,
    "start_time": "2022-07-03T16:18:09.978Z"
   },
   {
    "duration": 23,
    "start_time": "2022-07-03T16:18:10.011Z"
   },
   {
    "duration": 224,
    "start_time": "2022-07-03T16:18:10.042Z"
   },
   {
    "duration": 26,
    "start_time": "2022-07-03T16:18:10.267Z"
   },
   {
    "duration": 221,
    "start_time": "2022-07-03T16:18:10.295Z"
   },
   {
    "duration": 12,
    "start_time": "2022-07-03T16:18:10.518Z"
   },
   {
    "duration": 27,
    "start_time": "2022-07-03T16:18:10.534Z"
   },
   {
    "duration": 11,
    "start_time": "2022-07-03T16:18:10.562Z"
   },
   {
    "duration": 17,
    "start_time": "2022-07-03T16:18:10.575Z"
   },
   {
    "duration": 129,
    "start_time": "2022-07-03T16:18:10.594Z"
   },
   {
    "duration": 18,
    "start_time": "2022-07-03T16:18:10.737Z"
   },
   {
    "duration": 159,
    "start_time": "2022-07-03T16:18:10.758Z"
   },
   {
    "duration": 17,
    "start_time": "2022-07-03T16:18:10.927Z"
   },
   {
    "duration": 337,
    "start_time": "2022-07-03T16:18:10.950Z"
   },
   {
    "duration": 26,
    "start_time": "2022-07-03T16:18:11.289Z"
   },
   {
    "duration": 55,
    "start_time": "2022-07-03T16:18:11.316Z"
   },
   {
    "duration": 35,
    "start_time": "2022-07-03T16:18:11.372Z"
   },
   {
    "duration": 41,
    "start_time": "2022-07-03T16:18:11.409Z"
   },
   {
    "duration": 4,
    "start_time": "2022-07-03T16:18:11.454Z"
   },
   {
    "duration": 10,
    "start_time": "2022-07-03T16:18:11.461Z"
   },
   {
    "duration": 12,
    "start_time": "2022-07-03T16:18:11.473Z"
   },
   {
    "duration": 45,
    "start_time": "2022-07-03T16:18:11.487Z"
   },
   {
    "duration": 23,
    "start_time": "2022-07-03T16:18:11.536Z"
   },
   {
    "duration": 5,
    "start_time": "2022-07-03T16:18:11.561Z"
   },
   {
    "duration": 15,
    "start_time": "2022-07-03T16:18:11.568Z"
   },
   {
    "duration": 5,
    "start_time": "2022-07-03T16:18:11.585Z"
   },
   {
    "duration": 10,
    "start_time": "2022-07-03T16:18:11.591Z"
   },
   {
    "duration": 4,
    "start_time": "2022-07-03T16:18:11.603Z"
   },
   {
    "duration": 374,
    "start_time": "2022-07-03T16:18:11.625Z"
   },
   {
    "duration": 392,
    "start_time": "2022-07-03T16:18:12.001Z"
   },
   {
    "duration": 11,
    "start_time": "2022-07-03T16:18:12.394Z"
   },
   {
    "duration": 32,
    "start_time": "2022-07-03T16:18:12.407Z"
   },
   {
    "duration": 9,
    "start_time": "2022-07-03T16:18:12.446Z"
   },
   {
    "duration": 40,
    "start_time": "2022-07-03T16:18:12.456Z"
   },
   {
    "duration": 72,
    "start_time": "2022-07-03T16:18:12.498Z"
   },
   {
    "duration": 3,
    "start_time": "2022-07-03T16:18:12.572Z"
   },
   {
    "duration": 8,
    "start_time": "2022-07-03T16:18:12.576Z"
   },
   {
    "duration": 5,
    "start_time": "2022-07-03T16:18:12.586Z"
   },
   {
    "duration": 5,
    "start_time": "2022-07-03T16:18:12.592Z"
   },
   {
    "duration": 3,
    "start_time": "2022-07-03T16:18:12.599Z"
   },
   {
    "duration": 31,
    "start_time": "2022-07-03T16:18:12.604Z"
   },
   {
    "duration": 20,
    "start_time": "2022-07-03T16:18:12.637Z"
   },
   {
    "duration": 6,
    "start_time": "2022-07-03T16:18:12.658Z"
   },
   {
    "duration": 5,
    "start_time": "2022-07-03T16:18:12.665Z"
   },
   {
    "duration": 12,
    "start_time": "2022-07-03T16:18:12.671Z"
   },
   {
    "duration": 8,
    "start_time": "2022-07-03T16:18:12.684Z"
   },
   {
    "duration": 10,
    "start_time": "2022-07-03T16:18:12.693Z"
   },
   {
    "duration": 6,
    "start_time": "2022-07-03T16:18:12.705Z"
   },
   {
    "duration": 28,
    "start_time": "2022-07-03T16:18:12.712Z"
   },
   {
    "duration": 14,
    "start_time": "2022-07-03T16:18:12.749Z"
   },
   {
    "duration": 15,
    "start_time": "2022-07-03T16:18:12.765Z"
   },
   {
    "duration": 3,
    "start_time": "2022-07-03T16:18:12.782Z"
   },
   {
    "duration": 9,
    "start_time": "2022-07-03T16:18:12.787Z"
   },
   {
    "duration": 13,
    "start_time": "2022-07-03T16:18:12.798Z"
   },
   {
    "duration": 28,
    "start_time": "2022-07-03T16:18:12.813Z"
   },
   {
    "duration": 42,
    "start_time": "2022-07-03T16:18:12.843Z"
   },
   {
    "duration": 47,
    "start_time": "2022-07-03T16:18:12.887Z"
   },
   {
    "duration": 6,
    "start_time": "2022-07-03T16:18:12.936Z"
   },
   {
    "duration": 23,
    "start_time": "2022-07-03T16:18:12.943Z"
   },
   {
    "duration": 8,
    "start_time": "2022-07-03T16:18:12.967Z"
   },
   {
    "duration": 6,
    "start_time": "2022-07-03T16:18:12.977Z"
   },
   {
    "duration": 9,
    "start_time": "2022-07-03T16:18:12.985Z"
   },
   {
    "duration": 70,
    "start_time": "2022-07-03T20:18:56.081Z"
   },
   {
    "duration": 78,
    "start_time": "2022-07-03T20:19:00.472Z"
   },
   {
    "duration": 71,
    "start_time": "2022-07-03T20:19:28.821Z"
   },
   {
    "duration": 1188,
    "start_time": "2022-07-03T20:19:50.689Z"
   },
   {
    "duration": 275,
    "start_time": "2022-07-03T20:19:51.879Z"
   },
   {
    "duration": 3,
    "start_time": "2022-07-03T20:19:52.156Z"
   },
   {
    "duration": 220,
    "start_time": "2022-07-03T20:19:52.162Z"
   },
   {
    "duration": 20,
    "start_time": "2022-07-03T20:19:52.384Z"
   },
   {
    "duration": 33,
    "start_time": "2022-07-03T20:19:52.406Z"
   },
   {
    "duration": 30,
    "start_time": "2022-07-03T20:19:52.441Z"
   },
   {
    "duration": 86,
    "start_time": "2022-07-03T20:19:52.473Z"
   },
   {
    "duration": 9,
    "start_time": "2022-07-03T20:19:52.561Z"
   },
   {
    "duration": 68,
    "start_time": "2022-07-03T20:19:52.573Z"
   },
   {
    "duration": 13,
    "start_time": "2022-07-03T20:19:52.642Z"
   },
   {
    "duration": 14,
    "start_time": "2022-07-03T20:19:52.657Z"
   },
   {
    "duration": 119,
    "start_time": "2022-07-03T20:19:52.672Z"
   },
   {
    "duration": 81,
    "start_time": "2022-07-03T20:19:52.793Z"
   },
   {
    "duration": 25,
    "start_time": "2022-07-03T20:19:52.876Z"
   },
   {
    "duration": 3,
    "start_time": "2022-07-03T20:19:52.903Z"
   },
   {
    "duration": 23,
    "start_time": "2022-07-03T20:19:52.908Z"
   },
   {
    "duration": 32,
    "start_time": "2022-07-03T20:19:52.932Z"
   },
   {
    "duration": 5,
    "start_time": "2022-07-03T20:19:52.966Z"
   },
   {
    "duration": 207,
    "start_time": "2022-07-03T20:19:52.973Z"
   },
   {
    "duration": 26,
    "start_time": "2022-07-03T20:19:53.182Z"
   },
   {
    "duration": 200,
    "start_time": "2022-07-03T20:19:53.210Z"
   },
   {
    "duration": 6,
    "start_time": "2022-07-03T20:19:53.411Z"
   },
   {
    "duration": 9,
    "start_time": "2022-07-03T20:19:53.418Z"
   },
   {
    "duration": 6,
    "start_time": "2022-07-03T20:19:53.429Z"
   },
   {
    "duration": 14,
    "start_time": "2022-07-03T20:19:53.436Z"
   },
   {
    "duration": 130,
    "start_time": "2022-07-03T20:19:53.452Z"
   },
   {
    "duration": 17,
    "start_time": "2022-07-03T20:19:53.587Z"
   },
   {
    "duration": 152,
    "start_time": "2022-07-03T20:19:53.606Z"
   },
   {
    "duration": 14,
    "start_time": "2022-07-03T20:19:53.760Z"
   },
   {
    "duration": 299,
    "start_time": "2022-07-03T20:19:53.776Z"
   },
   {
    "duration": 20,
    "start_time": "2022-07-03T20:19:54.076Z"
   },
   {
    "duration": 33,
    "start_time": "2022-07-03T20:19:54.097Z"
   },
   {
    "duration": 34,
    "start_time": "2022-07-03T20:19:54.131Z"
   },
   {
    "duration": 17,
    "start_time": "2022-07-03T20:19:54.166Z"
   },
   {
    "duration": 5,
    "start_time": "2022-07-03T20:19:54.185Z"
   },
   {
    "duration": 4,
    "start_time": "2022-07-03T20:19:54.192Z"
   },
   {
    "duration": 30,
    "start_time": "2022-07-03T20:19:54.197Z"
   },
   {
    "duration": 37,
    "start_time": "2022-07-03T20:19:54.228Z"
   },
   {
    "duration": 12,
    "start_time": "2022-07-03T20:19:54.267Z"
   },
   {
    "duration": 7,
    "start_time": "2022-07-03T20:19:54.280Z"
   },
   {
    "duration": 14,
    "start_time": "2022-07-03T20:19:54.289Z"
   },
   {
    "duration": 22,
    "start_time": "2022-07-03T20:19:54.305Z"
   },
   {
    "duration": 12,
    "start_time": "2022-07-03T20:19:54.329Z"
   },
   {
    "duration": 5,
    "start_time": "2022-07-03T20:19:54.342Z"
   },
   {
    "duration": 336,
    "start_time": "2022-07-03T20:19:54.349Z"
   },
   {
    "duration": 331,
    "start_time": "2022-07-03T20:19:54.686Z"
   },
   {
    "duration": 16,
    "start_time": "2022-07-03T20:19:55.018Z"
   },
   {
    "duration": 14,
    "start_time": "2022-07-03T20:19:55.036Z"
   },
   {
    "duration": 7,
    "start_time": "2022-07-03T20:19:55.051Z"
   },
   {
    "duration": 41,
    "start_time": "2022-07-03T20:19:55.059Z"
   },
   {
    "duration": 85,
    "start_time": "2022-07-03T20:19:55.101Z"
   },
   {
    "duration": 4,
    "start_time": "2022-07-03T20:19:55.187Z"
   },
   {
    "duration": 9,
    "start_time": "2022-07-03T20:19:55.193Z"
   },
   {
    "duration": 5,
    "start_time": "2022-07-03T20:19:55.203Z"
   },
   {
    "duration": 15,
    "start_time": "2022-07-03T20:19:55.210Z"
   },
   {
    "duration": 4,
    "start_time": "2022-07-03T20:19:55.227Z"
   },
   {
    "duration": 5,
    "start_time": "2022-07-03T20:19:55.233Z"
   },
   {
    "duration": 5,
    "start_time": "2022-07-03T20:19:55.239Z"
   },
   {
    "duration": 5,
    "start_time": "2022-07-03T20:19:55.246Z"
   },
   {
    "duration": 5,
    "start_time": "2022-07-03T20:19:55.252Z"
   },
   {
    "duration": 5,
    "start_time": "2022-07-03T20:19:55.259Z"
   },
   {
    "duration": 4,
    "start_time": "2022-07-03T20:19:55.266Z"
   },
   {
    "duration": 11,
    "start_time": "2022-07-03T20:19:55.272Z"
   },
   {
    "duration": 3,
    "start_time": "2022-07-03T20:19:55.285Z"
   },
   {
    "duration": 15,
    "start_time": "2022-07-03T20:19:55.325Z"
   },
   {
    "duration": 8,
    "start_time": "2022-07-03T20:19:55.341Z"
   },
   {
    "duration": 15,
    "start_time": "2022-07-03T20:19:55.351Z"
   },
   {
    "duration": 3,
    "start_time": "2022-07-03T20:19:55.368Z"
   },
   {
    "duration": 12,
    "start_time": "2022-07-03T20:19:55.372Z"
   },
   {
    "duration": 9,
    "start_time": "2022-07-03T20:19:55.386Z"
   },
   {
    "duration": 39,
    "start_time": "2022-07-03T20:19:55.396Z"
   },
   {
    "duration": 31,
    "start_time": "2022-07-03T20:19:55.436Z"
   },
   {
    "duration": 38,
    "start_time": "2022-07-03T20:19:55.468Z"
   },
   {
    "duration": 8,
    "start_time": "2022-07-03T20:19:55.525Z"
   },
   {
    "duration": 8,
    "start_time": "2022-07-03T20:19:55.535Z"
   },
   {
    "duration": 10,
    "start_time": "2022-07-03T20:19:55.544Z"
   },
   {
    "duration": 8,
    "start_time": "2022-07-03T20:19:55.555Z"
   },
   {
    "duration": 11,
    "start_time": "2022-07-03T20:19:55.565Z"
   },
   {
    "duration": 1467,
    "start_time": "2022-07-04T16:42:11.978Z"
   },
   {
    "duration": 659,
    "start_time": "2022-07-04T16:42:13.447Z"
   },
   {
    "duration": 4,
    "start_time": "2022-07-04T16:42:14.107Z"
   },
   {
    "duration": 267,
    "start_time": "2022-07-04T16:42:14.113Z"
   },
   {
    "duration": 27,
    "start_time": "2022-07-04T16:42:14.382Z"
   },
   {
    "duration": 50,
    "start_time": "2022-07-04T16:42:14.411Z"
   },
   {
    "duration": 40,
    "start_time": "2022-07-04T16:42:14.464Z"
   },
   {
    "duration": 37,
    "start_time": "2022-07-04T16:42:14.506Z"
   },
   {
    "duration": 16,
    "start_time": "2022-07-04T16:42:14.563Z"
   },
   {
    "duration": 16,
    "start_time": "2022-07-04T16:42:14.581Z"
   },
   {
    "duration": 16,
    "start_time": "2022-07-04T16:42:14.598Z"
   },
   {
    "duration": 22,
    "start_time": "2022-07-04T16:42:14.615Z"
   },
   {
    "duration": 112,
    "start_time": "2022-07-04T16:42:14.639Z"
   },
   {
    "duration": 70,
    "start_time": "2022-07-04T16:42:14.753Z"
   },
   {
    "duration": 44,
    "start_time": "2022-07-04T16:42:14.825Z"
   },
   {
    "duration": 4,
    "start_time": "2022-07-04T16:42:14.874Z"
   },
   {
    "duration": 16,
    "start_time": "2022-07-04T16:42:14.879Z"
   },
   {
    "duration": 32,
    "start_time": "2022-07-04T16:42:14.896Z"
   },
   {
    "duration": 5,
    "start_time": "2022-07-04T16:42:14.930Z"
   },
   {
    "duration": 265,
    "start_time": "2022-07-04T16:42:14.937Z"
   },
   {
    "duration": 25,
    "start_time": "2022-07-04T16:42:15.204Z"
   },
   {
    "duration": 250,
    "start_time": "2022-07-04T16:42:15.231Z"
   },
   {
    "duration": 6,
    "start_time": "2022-07-04T16:42:15.483Z"
   },
   {
    "duration": 7,
    "start_time": "2022-07-04T16:42:15.490Z"
   },
   {
    "duration": 5,
    "start_time": "2022-07-04T16:42:15.501Z"
   },
   {
    "duration": 20,
    "start_time": "2022-07-04T16:42:15.508Z"
   },
   {
    "duration": 166,
    "start_time": "2022-07-04T16:42:15.530Z"
   },
   {
    "duration": 14,
    "start_time": "2022-07-04T16:42:15.701Z"
   },
   {
    "duration": 144,
    "start_time": "2022-07-04T16:42:15.717Z"
   },
   {
    "duration": 14,
    "start_time": "2022-07-04T16:42:15.864Z"
   },
   {
    "duration": 299,
    "start_time": "2022-07-04T16:42:15.881Z"
   },
   {
    "duration": 26,
    "start_time": "2022-07-04T16:42:16.191Z"
   },
   {
    "duration": 39,
    "start_time": "2022-07-04T16:42:16.221Z"
   },
   {
    "duration": 48,
    "start_time": "2022-07-04T16:42:16.261Z"
   },
   {
    "duration": 23,
    "start_time": "2022-07-04T16:42:16.312Z"
   },
   {
    "duration": 33,
    "start_time": "2022-07-04T16:42:16.337Z"
   },
   {
    "duration": 22,
    "start_time": "2022-07-04T16:42:16.374Z"
   },
   {
    "duration": 25,
    "start_time": "2022-07-04T16:42:16.398Z"
   },
   {
    "duration": 52,
    "start_time": "2022-07-04T16:42:16.425Z"
   },
   {
    "duration": 16,
    "start_time": "2022-07-04T16:42:16.481Z"
   },
   {
    "duration": 15,
    "start_time": "2022-07-04T16:42:16.499Z"
   },
   {
    "duration": 24,
    "start_time": "2022-07-04T16:42:16.516Z"
   },
   {
    "duration": 13,
    "start_time": "2022-07-04T16:42:16.543Z"
   },
   {
    "duration": 40,
    "start_time": "2022-07-04T16:42:16.560Z"
   },
   {
    "duration": 20,
    "start_time": "2022-07-04T16:42:16.602Z"
   },
   {
    "duration": 353,
    "start_time": "2022-07-04T16:42:16.624Z"
   },
   {
    "duration": 373,
    "start_time": "2022-07-04T16:42:16.979Z"
   },
   {
    "duration": 22,
    "start_time": "2022-07-04T16:42:17.353Z"
   },
   {
    "duration": 15,
    "start_time": "2022-07-04T16:42:17.377Z"
   },
   {
    "duration": 6,
    "start_time": "2022-07-04T16:42:17.394Z"
   },
   {
    "duration": 70,
    "start_time": "2022-07-04T16:42:17.401Z"
   },
   {
    "duration": 62,
    "start_time": "2022-07-04T16:42:17.476Z"
   },
   {
    "duration": 5,
    "start_time": "2022-07-04T16:42:17.540Z"
   },
   {
    "duration": 9,
    "start_time": "2022-07-04T16:42:17.547Z"
   },
   {
    "duration": 14,
    "start_time": "2022-07-04T16:42:17.563Z"
   },
   {
    "duration": 14,
    "start_time": "2022-07-04T16:42:17.579Z"
   },
   {
    "duration": 4,
    "start_time": "2022-07-04T16:42:17.594Z"
   },
   {
    "duration": 6,
    "start_time": "2022-07-04T16:42:17.600Z"
   },
   {
    "duration": 7,
    "start_time": "2022-07-04T16:42:17.607Z"
   },
   {
    "duration": 6,
    "start_time": "2022-07-04T16:42:17.616Z"
   },
   {
    "duration": 4,
    "start_time": "2022-07-04T16:42:17.624Z"
   },
   {
    "duration": 7,
    "start_time": "2022-07-04T16:42:17.660Z"
   },
   {
    "duration": 17,
    "start_time": "2022-07-04T16:42:17.671Z"
   },
   {
    "duration": 9,
    "start_time": "2022-07-04T16:42:17.689Z"
   },
   {
    "duration": 9,
    "start_time": "2022-07-04T16:42:17.700Z"
   },
   {
    "duration": 18,
    "start_time": "2022-07-04T16:42:17.710Z"
   },
   {
    "duration": 11,
    "start_time": "2022-07-04T16:42:17.730Z"
   },
   {
    "duration": 33,
    "start_time": "2022-07-04T16:42:17.743Z"
   },
   {
    "duration": 4,
    "start_time": "2022-07-04T16:42:17.778Z"
   },
   {
    "duration": 12,
    "start_time": "2022-07-04T16:42:17.784Z"
   },
   {
    "duration": 15,
    "start_time": "2022-07-04T16:42:17.798Z"
   },
   {
    "duration": 11,
    "start_time": "2022-07-04T16:42:17.815Z"
   },
   {
    "duration": 62,
    "start_time": "2022-07-04T16:42:17.828Z"
   },
   {
    "duration": 44,
    "start_time": "2022-07-04T16:42:17.893Z"
   },
   {
    "duration": 3,
    "start_time": "2022-07-04T16:42:17.939Z"
   },
   {
    "duration": 14,
    "start_time": "2022-07-04T16:42:17.961Z"
   },
   {
    "duration": 21,
    "start_time": "2022-07-04T16:42:17.977Z"
   },
   {
    "duration": 10,
    "start_time": "2022-07-04T16:42:17.999Z"
   },
   {
    "duration": 12,
    "start_time": "2022-07-04T16:42:18.010Z"
   },
   {
    "duration": 5,
    "start_time": "2022-07-04T17:15:46.118Z"
   },
   {
    "duration": 4,
    "start_time": "2022-07-04T17:15:50.856Z"
   },
   {
    "duration": 1255,
    "start_time": "2022-07-04T18:50:49.538Z"
   },
   {
    "duration": 579,
    "start_time": "2022-07-04T18:50:53.740Z"
   },
   {
    "duration": 5,
    "start_time": "2022-07-04T18:50:57.336Z"
   },
   {
    "duration": 229,
    "start_time": "2022-07-04T18:50:59.044Z"
   },
   {
    "duration": 22,
    "start_time": "2022-07-04T18:51:02.169Z"
   },
   {
    "duration": 40,
    "start_time": "2022-07-04T18:51:05.655Z"
   },
   {
    "duration": 33,
    "start_time": "2022-07-04T18:51:43.957Z"
   },
   {
    "duration": 37,
    "start_time": "2022-07-04T18:51:46.118Z"
   },
   {
    "duration": 21,
    "start_time": "2022-07-04T18:53:35.674Z"
   },
   {
    "duration": 17,
    "start_time": "2022-07-04T18:53:47.153Z"
   },
   {
    "duration": 13,
    "start_time": "2022-07-04T18:54:01.628Z"
   },
   {
    "duration": 17,
    "start_time": "2022-07-04T18:54:13.403Z"
   },
   {
    "duration": 11,
    "start_time": "2022-07-04T18:56:50.908Z"
   },
   {
    "duration": 15,
    "start_time": "2022-07-04T18:56:52.145Z"
   },
   {
    "duration": 71,
    "start_time": "2022-07-04T18:59:58.172Z"
   },
   {
    "duration": 69,
    "start_time": "2022-07-04T19:00:01.029Z"
   },
   {
    "duration": 29,
    "start_time": "2022-07-04T19:00:02.186Z"
   },
   {
    "duration": 4,
    "start_time": "2022-07-04T19:00:05.021Z"
   },
   {
    "duration": 11,
    "start_time": "2022-07-04T19:00:05.437Z"
   },
   {
    "duration": 27,
    "start_time": "2022-07-04T19:00:13.796Z"
   },
   {
    "duration": 5,
    "start_time": "2022-07-04T19:00:15.049Z"
   },
   {
    "duration": 209,
    "start_time": "2022-07-04T19:00:23.339Z"
   },
   {
    "duration": 27,
    "start_time": "2022-07-04T19:00:33.569Z"
   },
   {
    "duration": 183,
    "start_time": "2022-07-04T19:01:10.127Z"
   },
   {
    "duration": 122,
    "start_time": "2022-07-04T19:03:09.101Z"
   },
   {
    "duration": 10,
    "start_time": "2022-07-04T19:03:20.221Z"
   },
   {
    "duration": 189,
    "start_time": "2022-07-04T19:03:26.965Z"
   },
   {
    "duration": 10,
    "start_time": "2022-07-04T19:03:49.829Z"
   },
   {
    "duration": 9,
    "start_time": "2022-07-04T19:04:01.380Z"
   },
   {
    "duration": 5,
    "start_time": "2022-07-04T19:04:20.429Z"
   },
   {
    "duration": 4,
    "start_time": "2022-07-04T19:04:31.576Z"
   },
   {
    "duration": 49,
    "start_time": "2022-07-04T19:04:45.972Z"
   },
   {
    "duration": 50,
    "start_time": "2022-07-04T19:04:55.551Z"
   },
   {
    "duration": 9,
    "start_time": "2022-07-04T19:05:15.996Z"
   },
   {
    "duration": 13,
    "start_time": "2022-07-04T19:06:30.670Z"
   },
   {
    "duration": 8,
    "start_time": "2022-07-04T19:06:40.192Z"
   },
   {
    "duration": 61,
    "start_time": "2022-07-04T19:07:13.031Z"
   },
   {
    "duration": 64,
    "start_time": "2022-07-04T19:07:24.735Z"
   },
   {
    "duration": 52,
    "start_time": "2022-07-04T19:07:34.379Z"
   },
   {
    "duration": 54,
    "start_time": "2022-07-04T19:07:53.615Z"
   },
   {
    "duration": 71,
    "start_time": "2022-07-04T19:08:20.146Z"
   },
   {
    "duration": 18,
    "start_time": "2022-07-04T19:08:25.802Z"
   },
   {
    "duration": 6,
    "start_time": "2022-07-04T19:08:31.812Z"
   },
   {
    "duration": 10,
    "start_time": "2022-07-04T19:08:38.273Z"
   },
   {
    "duration": 6,
    "start_time": "2022-07-04T19:09:08.277Z"
   },
   {
    "duration": 32,
    "start_time": "2022-07-04T19:09:42.442Z"
   },
   {
    "duration": 30,
    "start_time": "2022-07-04T19:09:46.127Z"
   },
   {
    "duration": 13,
    "start_time": "2022-07-04T19:12:44.329Z"
   },
   {
    "duration": 21,
    "start_time": "2022-07-04T19:12:51.884Z"
   },
   {
    "duration": 19,
    "start_time": "2022-07-04T19:13:02.627Z"
   },
   {
    "duration": 19,
    "start_time": "2022-07-04T19:16:01.602Z"
   },
   {
    "duration": 15,
    "start_time": "2022-07-04T19:16:24.849Z"
   },
   {
    "duration": 18,
    "start_time": "2022-07-04T19:19:27.320Z"
   },
   {
    "duration": 16,
    "start_time": "2022-07-04T19:19:41.530Z"
   },
   {
    "duration": 10,
    "start_time": "2022-07-04T19:19:47.439Z"
   },
   {
    "duration": 28,
    "start_time": "2022-07-04T19:25:02.125Z"
   },
   {
    "duration": 10,
    "start_time": "2022-07-04T19:25:09.370Z"
   },
   {
    "duration": 1118,
    "start_time": "2022-07-04T19:25:15.104Z"
   },
   {
    "duration": 216,
    "start_time": "2022-07-04T19:25:16.224Z"
   },
   {
    "duration": 4,
    "start_time": "2022-07-04T19:25:16.441Z"
   },
   {
    "duration": 216,
    "start_time": "2022-07-04T19:25:16.446Z"
   },
   {
    "duration": 20,
    "start_time": "2022-07-04T19:25:16.664Z"
   },
   {
    "duration": 38,
    "start_time": "2022-07-04T19:25:16.685Z"
   },
   {
    "duration": 31,
    "start_time": "2022-07-04T19:25:16.724Z"
   },
   {
    "duration": 51,
    "start_time": "2022-07-04T19:25:16.757Z"
   },
   {
    "duration": 106,
    "start_time": "2022-07-04T19:25:16.810Z"
   },
   {
    "duration": 0,
    "start_time": "2022-07-04T19:25:16.920Z"
   },
   {
    "duration": 0,
    "start_time": "2022-07-04T19:25:16.921Z"
   },
   {
    "duration": 0,
    "start_time": "2022-07-04T19:25:16.922Z"
   },
   {
    "duration": 0,
    "start_time": "2022-07-04T19:25:16.924Z"
   },
   {
    "duration": 0,
    "start_time": "2022-07-04T19:25:16.925Z"
   },
   {
    "duration": 0,
    "start_time": "2022-07-04T19:25:16.926Z"
   },
   {
    "duration": 0,
    "start_time": "2022-07-04T19:25:16.927Z"
   },
   {
    "duration": 0,
    "start_time": "2022-07-04T19:25:16.928Z"
   },
   {
    "duration": 0,
    "start_time": "2022-07-04T19:25:16.929Z"
   },
   {
    "duration": 0,
    "start_time": "2022-07-04T19:25:16.930Z"
   },
   {
    "duration": 0,
    "start_time": "2022-07-04T19:25:16.930Z"
   },
   {
    "duration": 0,
    "start_time": "2022-07-04T19:25:16.932Z"
   },
   {
    "duration": 0,
    "start_time": "2022-07-04T19:25:16.933Z"
   },
   {
    "duration": 0,
    "start_time": "2022-07-04T19:25:16.934Z"
   },
   {
    "duration": 0,
    "start_time": "2022-07-04T19:25:16.935Z"
   },
   {
    "duration": 0,
    "start_time": "2022-07-04T19:25:16.936Z"
   },
   {
    "duration": 0,
    "start_time": "2022-07-04T19:25:16.937Z"
   },
   {
    "duration": 0,
    "start_time": "2022-07-04T19:25:16.938Z"
   },
   {
    "duration": 0,
    "start_time": "2022-07-04T19:25:16.939Z"
   },
   {
    "duration": 0,
    "start_time": "2022-07-04T19:25:16.940Z"
   },
   {
    "duration": 0,
    "start_time": "2022-07-04T19:25:16.941Z"
   },
   {
    "duration": 0,
    "start_time": "2022-07-04T19:25:16.943Z"
   },
   {
    "duration": 0,
    "start_time": "2022-07-04T19:25:16.944Z"
   },
   {
    "duration": 0,
    "start_time": "2022-07-04T19:25:16.945Z"
   },
   {
    "duration": 0,
    "start_time": "2022-07-04T19:25:16.946Z"
   },
   {
    "duration": 0,
    "start_time": "2022-07-04T19:25:16.947Z"
   },
   {
    "duration": 0,
    "start_time": "2022-07-04T19:25:16.948Z"
   },
   {
    "duration": 0,
    "start_time": "2022-07-04T19:25:17.001Z"
   },
   {
    "duration": 0,
    "start_time": "2022-07-04T19:25:17.002Z"
   },
   {
    "duration": 0,
    "start_time": "2022-07-04T19:25:17.003Z"
   },
   {
    "duration": 0,
    "start_time": "2022-07-04T19:25:17.004Z"
   },
   {
    "duration": 0,
    "start_time": "2022-07-04T19:25:17.006Z"
   },
   {
    "duration": 0,
    "start_time": "2022-07-04T19:25:17.007Z"
   },
   {
    "duration": 0,
    "start_time": "2022-07-04T19:25:17.008Z"
   },
   {
    "duration": 0,
    "start_time": "2022-07-04T19:25:17.009Z"
   },
   {
    "duration": 0,
    "start_time": "2022-07-04T19:25:17.010Z"
   },
   {
    "duration": 0,
    "start_time": "2022-07-04T19:25:17.011Z"
   },
   {
    "duration": 0,
    "start_time": "2022-07-04T19:25:17.012Z"
   },
   {
    "duration": 0,
    "start_time": "2022-07-04T19:25:17.013Z"
   },
   {
    "duration": 0,
    "start_time": "2022-07-04T19:25:17.014Z"
   },
   {
    "duration": 0,
    "start_time": "2022-07-04T19:25:17.015Z"
   },
   {
    "duration": 0,
    "start_time": "2022-07-04T19:25:17.016Z"
   },
   {
    "duration": 0,
    "start_time": "2022-07-04T19:25:17.017Z"
   },
   {
    "duration": 0,
    "start_time": "2022-07-04T19:25:17.018Z"
   },
   {
    "duration": 0,
    "start_time": "2022-07-04T19:25:17.019Z"
   },
   {
    "duration": 0,
    "start_time": "2022-07-04T19:25:17.020Z"
   },
   {
    "duration": 0,
    "start_time": "2022-07-04T19:25:17.021Z"
   },
   {
    "duration": 0,
    "start_time": "2022-07-04T19:25:17.023Z"
   },
   {
    "duration": 0,
    "start_time": "2022-07-04T19:25:17.023Z"
   },
   {
    "duration": 0,
    "start_time": "2022-07-04T19:25:17.024Z"
   },
   {
    "duration": 0,
    "start_time": "2022-07-04T19:25:17.026Z"
   },
   {
    "duration": 0,
    "start_time": "2022-07-04T19:25:17.027Z"
   },
   {
    "duration": 0,
    "start_time": "2022-07-04T19:25:17.028Z"
   },
   {
    "duration": 0,
    "start_time": "2022-07-04T19:25:17.029Z"
   },
   {
    "duration": 0,
    "start_time": "2022-07-04T19:25:17.030Z"
   },
   {
    "duration": 0,
    "start_time": "2022-07-04T19:25:17.031Z"
   },
   {
    "duration": 0,
    "start_time": "2022-07-04T19:25:17.032Z"
   },
   {
    "duration": 0,
    "start_time": "2022-07-04T19:25:17.034Z"
   },
   {
    "duration": 0,
    "start_time": "2022-07-04T19:25:17.035Z"
   },
   {
    "duration": 0,
    "start_time": "2022-07-04T19:25:17.036Z"
   },
   {
    "duration": 0,
    "start_time": "2022-07-04T19:25:17.037Z"
   },
   {
    "duration": 0,
    "start_time": "2022-07-04T19:25:17.101Z"
   },
   {
    "duration": 0,
    "start_time": "2022-07-04T19:25:17.103Z"
   },
   {
    "duration": 0,
    "start_time": "2022-07-04T19:25:17.105Z"
   },
   {
    "duration": 0,
    "start_time": "2022-07-04T19:25:17.106Z"
   },
   {
    "duration": 0,
    "start_time": "2022-07-04T19:25:17.107Z"
   },
   {
    "duration": 0,
    "start_time": "2022-07-04T19:25:17.108Z"
   },
   {
    "duration": 0,
    "start_time": "2022-07-04T19:25:17.110Z"
   },
   {
    "duration": 0,
    "start_time": "2022-07-04T19:25:17.111Z"
   },
   {
    "duration": 0,
    "start_time": "2022-07-04T19:25:17.112Z"
   },
   {
    "duration": 1067,
    "start_time": "2022-07-04T19:25:41.134Z"
   },
   {
    "duration": 216,
    "start_time": "2022-07-04T19:25:42.203Z"
   },
   {
    "duration": 4,
    "start_time": "2022-07-04T19:25:42.420Z"
   },
   {
    "duration": 213,
    "start_time": "2022-07-04T19:25:42.427Z"
   },
   {
    "duration": 18,
    "start_time": "2022-07-04T19:25:42.642Z"
   },
   {
    "duration": 48,
    "start_time": "2022-07-04T19:25:42.661Z"
   },
   {
    "duration": 30,
    "start_time": "2022-07-04T19:25:42.710Z"
   },
   {
    "duration": 35,
    "start_time": "2022-07-04T19:25:42.742Z"
   },
   {
    "duration": 123,
    "start_time": "2022-07-04T19:25:42.779Z"
   },
   {
    "duration": 0,
    "start_time": "2022-07-04T19:25:42.905Z"
   },
   {
    "duration": 0,
    "start_time": "2022-07-04T19:25:42.907Z"
   },
   {
    "duration": 0,
    "start_time": "2022-07-04T19:25:42.907Z"
   },
   {
    "duration": 0,
    "start_time": "2022-07-04T19:25:42.908Z"
   },
   {
    "duration": 0,
    "start_time": "2022-07-04T19:25:42.909Z"
   },
   {
    "duration": 0,
    "start_time": "2022-07-04T19:25:42.910Z"
   },
   {
    "duration": 0,
    "start_time": "2022-07-04T19:25:42.911Z"
   },
   {
    "duration": 0,
    "start_time": "2022-07-04T19:25:42.912Z"
   },
   {
    "duration": 0,
    "start_time": "2022-07-04T19:25:42.913Z"
   },
   {
    "duration": 0,
    "start_time": "2022-07-04T19:25:42.914Z"
   },
   {
    "duration": 0,
    "start_time": "2022-07-04T19:25:42.915Z"
   },
   {
    "duration": 0,
    "start_time": "2022-07-04T19:25:42.916Z"
   },
   {
    "duration": 0,
    "start_time": "2022-07-04T19:25:42.917Z"
   },
   {
    "duration": 0,
    "start_time": "2022-07-04T19:25:42.918Z"
   },
   {
    "duration": 0,
    "start_time": "2022-07-04T19:25:42.919Z"
   },
   {
    "duration": 0,
    "start_time": "2022-07-04T19:25:42.920Z"
   },
   {
    "duration": 0,
    "start_time": "2022-07-04T19:25:42.921Z"
   },
   {
    "duration": 0,
    "start_time": "2022-07-04T19:25:42.922Z"
   },
   {
    "duration": 0,
    "start_time": "2022-07-04T19:25:42.923Z"
   },
   {
    "duration": 0,
    "start_time": "2022-07-04T19:25:42.924Z"
   },
   {
    "duration": 0,
    "start_time": "2022-07-04T19:25:42.925Z"
   },
   {
    "duration": 0,
    "start_time": "2022-07-04T19:25:42.927Z"
   },
   {
    "duration": 0,
    "start_time": "2022-07-04T19:25:42.927Z"
   },
   {
    "duration": 0,
    "start_time": "2022-07-04T19:25:42.929Z"
   },
   {
    "duration": 0,
    "start_time": "2022-07-04T19:25:42.930Z"
   },
   {
    "duration": 0,
    "start_time": "2022-07-04T19:25:42.931Z"
   },
   {
    "duration": 0,
    "start_time": "2022-07-04T19:25:42.932Z"
   },
   {
    "duration": 0,
    "start_time": "2022-07-04T19:25:42.933Z"
   },
   {
    "duration": 0,
    "start_time": "2022-07-04T19:25:42.935Z"
   },
   {
    "duration": 0,
    "start_time": "2022-07-04T19:25:42.936Z"
   },
   {
    "duration": 0,
    "start_time": "2022-07-04T19:25:42.937Z"
   },
   {
    "duration": 0,
    "start_time": "2022-07-04T19:25:42.938Z"
   },
   {
    "duration": 0,
    "start_time": "2022-07-04T19:25:42.939Z"
   },
   {
    "duration": 0,
    "start_time": "2022-07-04T19:25:42.940Z"
   },
   {
    "duration": 0,
    "start_time": "2022-07-04T19:25:42.941Z"
   },
   {
    "duration": 0,
    "start_time": "2022-07-04T19:25:42.942Z"
   },
   {
    "duration": 0,
    "start_time": "2022-07-04T19:25:43.002Z"
   },
   {
    "duration": 0,
    "start_time": "2022-07-04T19:25:43.003Z"
   },
   {
    "duration": 0,
    "start_time": "2022-07-04T19:25:43.004Z"
   },
   {
    "duration": 0,
    "start_time": "2022-07-04T19:25:43.005Z"
   },
   {
    "duration": 0,
    "start_time": "2022-07-04T19:25:43.006Z"
   },
   {
    "duration": 0,
    "start_time": "2022-07-04T19:25:43.007Z"
   },
   {
    "duration": 0,
    "start_time": "2022-07-04T19:25:43.008Z"
   },
   {
    "duration": 0,
    "start_time": "2022-07-04T19:25:43.009Z"
   },
   {
    "duration": 0,
    "start_time": "2022-07-04T19:25:43.010Z"
   },
   {
    "duration": 0,
    "start_time": "2022-07-04T19:25:43.011Z"
   },
   {
    "duration": 0,
    "start_time": "2022-07-04T19:25:43.012Z"
   },
   {
    "duration": 0,
    "start_time": "2022-07-04T19:25:43.013Z"
   },
   {
    "duration": 0,
    "start_time": "2022-07-04T19:25:43.014Z"
   },
   {
    "duration": 0,
    "start_time": "2022-07-04T19:25:43.015Z"
   },
   {
    "duration": 0,
    "start_time": "2022-07-04T19:25:43.018Z"
   },
   {
    "duration": 0,
    "start_time": "2022-07-04T19:25:43.019Z"
   },
   {
    "duration": 0,
    "start_time": "2022-07-04T19:25:43.020Z"
   },
   {
    "duration": 0,
    "start_time": "2022-07-04T19:25:43.022Z"
   },
   {
    "duration": 0,
    "start_time": "2022-07-04T19:25:43.023Z"
   },
   {
    "duration": 0,
    "start_time": "2022-07-04T19:25:43.024Z"
   },
   {
    "duration": 0,
    "start_time": "2022-07-04T19:25:43.025Z"
   },
   {
    "duration": 0,
    "start_time": "2022-07-04T19:25:43.026Z"
   },
   {
    "duration": 0,
    "start_time": "2022-07-04T19:25:43.027Z"
   },
   {
    "duration": 0,
    "start_time": "2022-07-04T19:25:43.028Z"
   },
   {
    "duration": 0,
    "start_time": "2022-07-04T19:25:43.029Z"
   },
   {
    "duration": 0,
    "start_time": "2022-07-04T19:25:43.030Z"
   },
   {
    "duration": 0,
    "start_time": "2022-07-04T19:25:43.031Z"
   },
   {
    "duration": 0,
    "start_time": "2022-07-04T19:25:43.032Z"
   },
   {
    "duration": 0,
    "start_time": "2022-07-04T19:25:43.033Z"
   },
   {
    "duration": 0,
    "start_time": "2022-07-04T19:25:43.034Z"
   },
   {
    "duration": 0,
    "start_time": "2022-07-04T19:25:43.035Z"
   },
   {
    "duration": 0,
    "start_time": "2022-07-04T19:25:43.036Z"
   },
   {
    "duration": 0,
    "start_time": "2022-07-04T19:25:43.037Z"
   },
   {
    "duration": 0,
    "start_time": "2022-07-04T19:25:43.038Z"
   },
   {
    "duration": 1142,
    "start_time": "2022-07-04T19:26:13.697Z"
   },
   {
    "duration": 215,
    "start_time": "2022-07-04T19:26:14.841Z"
   },
   {
    "duration": 3,
    "start_time": "2022-07-04T19:26:15.058Z"
   },
   {
    "duration": 264,
    "start_time": "2022-07-04T19:26:15.063Z"
   },
   {
    "duration": 20,
    "start_time": "2022-07-04T19:26:15.329Z"
   },
   {
    "duration": 27,
    "start_time": "2022-07-04T19:26:15.350Z"
   },
   {
    "duration": 47,
    "start_time": "2022-07-04T19:26:15.378Z"
   },
   {
    "duration": 33,
    "start_time": "2022-07-04T19:26:15.427Z"
   },
   {
    "duration": 124,
    "start_time": "2022-07-04T19:26:15.462Z"
   },
   {
    "duration": 0,
    "start_time": "2022-07-04T19:26:15.590Z"
   },
   {
    "duration": 0,
    "start_time": "2022-07-04T19:26:15.591Z"
   },
   {
    "duration": 0,
    "start_time": "2022-07-04T19:26:15.593Z"
   },
   {
    "duration": 0,
    "start_time": "2022-07-04T19:26:15.594Z"
   },
   {
    "duration": 0,
    "start_time": "2022-07-04T19:26:15.595Z"
   },
   {
    "duration": 0,
    "start_time": "2022-07-04T19:26:15.600Z"
   },
   {
    "duration": 0,
    "start_time": "2022-07-04T19:26:15.601Z"
   },
   {
    "duration": 0,
    "start_time": "2022-07-04T19:26:15.602Z"
   },
   {
    "duration": 0,
    "start_time": "2022-07-04T19:26:15.603Z"
   },
   {
    "duration": 0,
    "start_time": "2022-07-04T19:26:15.605Z"
   },
   {
    "duration": 0,
    "start_time": "2022-07-04T19:26:15.606Z"
   },
   {
    "duration": 0,
    "start_time": "2022-07-04T19:26:15.608Z"
   },
   {
    "duration": 0,
    "start_time": "2022-07-04T19:26:15.609Z"
   },
   {
    "duration": 0,
    "start_time": "2022-07-04T19:26:15.610Z"
   },
   {
    "duration": 0,
    "start_time": "2022-07-04T19:26:15.612Z"
   },
   {
    "duration": 0,
    "start_time": "2022-07-04T19:26:15.613Z"
   },
   {
    "duration": 0,
    "start_time": "2022-07-04T19:26:15.614Z"
   },
   {
    "duration": 0,
    "start_time": "2022-07-04T19:26:15.614Z"
   },
   {
    "duration": 0,
    "start_time": "2022-07-04T19:26:15.615Z"
   },
   {
    "duration": 0,
    "start_time": "2022-07-04T19:26:15.616Z"
   },
   {
    "duration": 0,
    "start_time": "2022-07-04T19:26:15.617Z"
   },
   {
    "duration": 0,
    "start_time": "2022-07-04T19:26:15.618Z"
   },
   {
    "duration": 0,
    "start_time": "2022-07-04T19:26:15.619Z"
   },
   {
    "duration": 0,
    "start_time": "2022-07-04T19:26:15.620Z"
   },
   {
    "duration": 0,
    "start_time": "2022-07-04T19:26:15.621Z"
   },
   {
    "duration": 0,
    "start_time": "2022-07-04T19:26:15.622Z"
   },
   {
    "duration": 0,
    "start_time": "2022-07-04T19:26:15.624Z"
   },
   {
    "duration": 0,
    "start_time": "2022-07-04T19:26:15.625Z"
   },
   {
    "duration": 0,
    "start_time": "2022-07-04T19:26:15.625Z"
   },
   {
    "duration": 0,
    "start_time": "2022-07-04T19:26:15.627Z"
   },
   {
    "duration": 0,
    "start_time": "2022-07-04T19:26:15.628Z"
   },
   {
    "duration": 0,
    "start_time": "2022-07-04T19:26:15.628Z"
   },
   {
    "duration": 0,
    "start_time": "2022-07-04T19:26:15.630Z"
   },
   {
    "duration": 0,
    "start_time": "2022-07-04T19:26:15.631Z"
   },
   {
    "duration": 0,
    "start_time": "2022-07-04T19:26:15.632Z"
   },
   {
    "duration": 0,
    "start_time": "2022-07-04T19:26:15.633Z"
   },
   {
    "duration": 0,
    "start_time": "2022-07-04T19:26:15.634Z"
   },
   {
    "duration": 0,
    "start_time": "2022-07-04T19:26:15.635Z"
   },
   {
    "duration": 0,
    "start_time": "2022-07-04T19:26:15.636Z"
   },
   {
    "duration": 0,
    "start_time": "2022-07-04T19:26:15.701Z"
   },
   {
    "duration": 0,
    "start_time": "2022-07-04T19:26:15.702Z"
   },
   {
    "duration": 0,
    "start_time": "2022-07-04T19:26:15.703Z"
   },
   {
    "duration": 0,
    "start_time": "2022-07-04T19:26:15.704Z"
   },
   {
    "duration": 0,
    "start_time": "2022-07-04T19:26:15.705Z"
   },
   {
    "duration": 0,
    "start_time": "2022-07-04T19:26:15.706Z"
   },
   {
    "duration": 0,
    "start_time": "2022-07-04T19:26:15.707Z"
   },
   {
    "duration": 0,
    "start_time": "2022-07-04T19:26:15.708Z"
   },
   {
    "duration": 0,
    "start_time": "2022-07-04T19:26:15.709Z"
   },
   {
    "duration": 0,
    "start_time": "2022-07-04T19:26:15.710Z"
   },
   {
    "duration": 0,
    "start_time": "2022-07-04T19:26:15.712Z"
   },
   {
    "duration": 0,
    "start_time": "2022-07-04T19:26:15.713Z"
   },
   {
    "duration": 0,
    "start_time": "2022-07-04T19:26:15.714Z"
   },
   {
    "duration": 0,
    "start_time": "2022-07-04T19:26:15.716Z"
   },
   {
    "duration": 0,
    "start_time": "2022-07-04T19:26:15.717Z"
   },
   {
    "duration": 0,
    "start_time": "2022-07-04T19:26:15.719Z"
   },
   {
    "duration": 0,
    "start_time": "2022-07-04T19:26:15.720Z"
   },
   {
    "duration": 0,
    "start_time": "2022-07-04T19:26:15.722Z"
   },
   {
    "duration": 0,
    "start_time": "2022-07-04T19:26:15.723Z"
   },
   {
    "duration": 0,
    "start_time": "2022-07-04T19:26:15.724Z"
   },
   {
    "duration": 0,
    "start_time": "2022-07-04T19:26:15.727Z"
   },
   {
    "duration": 0,
    "start_time": "2022-07-04T19:26:15.728Z"
   },
   {
    "duration": 0,
    "start_time": "2022-07-04T19:26:15.728Z"
   },
   {
    "duration": 0,
    "start_time": "2022-07-04T19:26:15.729Z"
   },
   {
    "duration": 0,
    "start_time": "2022-07-04T19:26:15.731Z"
   },
   {
    "duration": 0,
    "start_time": "2022-07-04T19:26:15.732Z"
   },
   {
    "duration": 0,
    "start_time": "2022-07-04T19:26:15.733Z"
   },
   {
    "duration": 0,
    "start_time": "2022-07-04T19:26:15.734Z"
   },
   {
    "duration": 0,
    "start_time": "2022-07-04T19:26:15.735Z"
   },
   {
    "duration": 0,
    "start_time": "2022-07-04T19:26:15.736Z"
   },
   {
    "duration": 0,
    "start_time": "2022-07-04T19:26:15.736Z"
   },
   {
    "duration": 16,
    "start_time": "2022-07-04T19:26:53.150Z"
   },
   {
    "duration": 786,
    "start_time": "2022-07-04T19:28:04.566Z"
   },
   {
    "duration": 17,
    "start_time": "2022-07-04T19:28:10.180Z"
   },
   {
    "duration": 11,
    "start_time": "2022-07-04T19:28:16.706Z"
   },
   {
    "duration": 25,
    "start_time": "2022-07-04T19:28:16.720Z"
   },
   {
    "duration": 86,
    "start_time": "2022-07-04T19:28:16.746Z"
   },
   {
    "duration": 85,
    "start_time": "2022-07-04T19:28:16.834Z"
   },
   {
    "duration": 27,
    "start_time": "2022-07-04T19:28:16.922Z"
   },
   {
    "duration": 3,
    "start_time": "2022-07-04T19:28:16.950Z"
   },
   {
    "duration": 15,
    "start_time": "2022-07-04T19:28:16.955Z"
   },
   {
    "duration": 45,
    "start_time": "2022-07-04T19:28:16.972Z"
   },
   {
    "duration": 5,
    "start_time": "2022-07-04T19:28:17.018Z"
   },
   {
    "duration": 201,
    "start_time": "2022-07-04T19:28:17.025Z"
   },
   {
    "duration": 11,
    "start_time": "2022-07-04T19:28:17.228Z"
   },
   {
    "duration": 28,
    "start_time": "2022-07-04T19:28:17.240Z"
   },
   {
    "duration": 198,
    "start_time": "2022-07-04T19:28:17.270Z"
   },
   {
    "duration": 6,
    "start_time": "2022-07-04T19:28:17.470Z"
   },
   {
    "duration": 23,
    "start_time": "2022-07-04T19:28:17.477Z"
   },
   {
    "duration": 8,
    "start_time": "2022-07-04T19:28:17.502Z"
   },
   {
    "duration": 18,
    "start_time": "2022-07-04T19:28:17.512Z"
   },
   {
    "duration": 121,
    "start_time": "2022-07-04T19:28:17.532Z"
   },
   {
    "duration": 13,
    "start_time": "2022-07-04T19:28:17.656Z"
   },
   {
    "duration": 148,
    "start_time": "2022-07-04T19:28:17.671Z"
   },
   {
    "duration": 13,
    "start_time": "2022-07-04T19:28:17.821Z"
   },
   {
    "duration": 318,
    "start_time": "2022-07-04T19:28:17.835Z"
   },
   {
    "duration": 22,
    "start_time": "2022-07-04T19:28:18.155Z"
   },
   {
    "duration": 38,
    "start_time": "2022-07-04T19:28:18.179Z"
   },
   {
    "duration": 36,
    "start_time": "2022-07-04T19:28:18.219Z"
   },
   {
    "duration": 19,
    "start_time": "2022-07-04T19:28:18.257Z"
   },
   {
    "duration": 26,
    "start_time": "2022-07-04T19:28:18.277Z"
   },
   {
    "duration": 8,
    "start_time": "2022-07-04T19:28:18.307Z"
   },
   {
    "duration": 12,
    "start_time": "2022-07-04T19:28:18.316Z"
   },
   {
    "duration": 37,
    "start_time": "2022-07-04T19:28:18.330Z"
   },
   {
    "duration": 13,
    "start_time": "2022-07-04T19:28:18.369Z"
   },
   {
    "duration": 4,
    "start_time": "2022-07-04T19:28:18.402Z"
   },
   {
    "duration": 17,
    "start_time": "2022-07-04T19:28:18.408Z"
   },
   {
    "duration": 5,
    "start_time": "2022-07-04T19:28:18.426Z"
   },
   {
    "duration": 18,
    "start_time": "2022-07-04T19:28:18.432Z"
   },
   {
    "duration": 4,
    "start_time": "2022-07-04T19:28:18.453Z"
   },
   {
    "duration": 343,
    "start_time": "2022-07-04T19:28:18.459Z"
   },
   {
    "duration": 343,
    "start_time": "2022-07-04T19:28:18.804Z"
   },
   {
    "duration": 10,
    "start_time": "2022-07-04T19:28:19.148Z"
   },
   {
    "duration": 12,
    "start_time": "2022-07-04T19:28:19.160Z"
   },
   {
    "duration": 4,
    "start_time": "2022-07-04T19:28:19.173Z"
   },
   {
    "duration": 58,
    "start_time": "2022-07-04T19:28:19.179Z"
   },
   {
    "duration": 71,
    "start_time": "2022-07-04T19:28:19.238Z"
   },
   {
    "duration": 4,
    "start_time": "2022-07-04T19:28:19.311Z"
   },
   {
    "duration": 9,
    "start_time": "2022-07-04T19:28:19.317Z"
   },
   {
    "duration": 6,
    "start_time": "2022-07-04T19:28:19.328Z"
   },
   {
    "duration": 7,
    "start_time": "2022-07-04T19:28:19.336Z"
   },
   {
    "duration": 6,
    "start_time": "2022-07-04T19:28:19.344Z"
   },
   {
    "duration": 7,
    "start_time": "2022-07-04T19:28:19.351Z"
   },
   {
    "duration": 5,
    "start_time": "2022-07-04T19:28:19.360Z"
   },
   {
    "duration": 5,
    "start_time": "2022-07-04T19:28:19.366Z"
   },
   {
    "duration": 4,
    "start_time": "2022-07-04T19:28:19.401Z"
   },
   {
    "duration": 6,
    "start_time": "2022-07-04T19:28:19.407Z"
   },
   {
    "duration": 5,
    "start_time": "2022-07-04T19:28:19.415Z"
   },
   {
    "duration": 8,
    "start_time": "2022-07-04T19:28:19.421Z"
   },
   {
    "duration": 4,
    "start_time": "2022-07-04T19:28:19.430Z"
   },
   {
    "duration": 15,
    "start_time": "2022-07-04T19:28:19.436Z"
   },
   {
    "duration": 8,
    "start_time": "2022-07-04T19:28:19.452Z"
   },
   {
    "duration": 15,
    "start_time": "2022-07-04T19:28:19.500Z"
   },
   {
    "duration": 3,
    "start_time": "2022-07-04T19:28:19.517Z"
   },
   {
    "duration": 9,
    "start_time": "2022-07-04T19:28:19.522Z"
   },
   {
    "duration": 9,
    "start_time": "2022-07-04T19:28:19.533Z"
   },
   {
    "duration": 11,
    "start_time": "2022-07-04T19:28:19.544Z"
   },
   {
    "duration": 64,
    "start_time": "2022-07-04T19:28:19.557Z"
   },
   {
    "duration": 41,
    "start_time": "2022-07-04T19:28:19.622Z"
   },
   {
    "duration": 4,
    "start_time": "2022-07-04T19:28:19.665Z"
   },
   {
    "duration": 13,
    "start_time": "2022-07-04T19:28:19.670Z"
   },
   {
    "duration": 6,
    "start_time": "2022-07-04T19:28:19.701Z"
   },
   {
    "duration": 13,
    "start_time": "2022-07-04T19:28:19.709Z"
   },
   {
    "duration": 11,
    "start_time": "2022-07-04T19:28:19.724Z"
   },
   {
    "duration": 9,
    "start_time": "2022-07-04T19:29:36.771Z"
   },
   {
    "duration": 15,
    "start_time": "2022-07-04T19:30:11.080Z"
   },
   {
    "duration": 13,
    "start_time": "2022-07-04T19:30:45.990Z"
   },
   {
    "duration": 776,
    "start_time": "2022-07-04T19:31:10.711Z"
   },
   {
    "duration": 21,
    "start_time": "2022-07-04T19:31:30.625Z"
   },
   {
    "duration": 9,
    "start_time": "2022-07-04T19:31:38.269Z"
   },
   {
    "duration": 19,
    "start_time": "2022-07-04T19:31:41.840Z"
   },
   {
    "duration": 36,
    "start_time": "2022-07-04T19:32:26.415Z"
   },
   {
    "duration": 28,
    "start_time": "2022-07-04T19:32:46.552Z"
   },
   {
    "duration": 37,
    "start_time": "2022-07-04T19:33:52.769Z"
   },
   {
    "duration": 15,
    "start_time": "2022-07-04T19:40:14.629Z"
   },
   {
    "duration": 5085,
    "start_time": "2022-07-04T19:40:34.646Z"
   },
   {
    "duration": 12,
    "start_time": "2022-07-04T19:40:54.416Z"
   },
   {
    "duration": 6032,
    "start_time": "2022-07-04T19:41:23.121Z"
   },
   {
    "duration": 5956,
    "start_time": "2022-07-04T19:41:47.644Z"
   },
   {
    "duration": 4780,
    "start_time": "2022-07-04T19:42:38.363Z"
   },
   {
    "duration": 4324,
    "start_time": "2022-07-04T19:44:43.504Z"
   },
   {
    "duration": 260,
    "start_time": "2022-07-04T19:44:55.682Z"
   },
   {
    "duration": 4153,
    "start_time": "2022-07-04T19:45:05.467Z"
   },
   {
    "duration": 6260,
    "start_time": "2022-07-04T19:45:48.409Z"
   },
   {
    "duration": 6011,
    "start_time": "2022-07-04T19:46:44.411Z"
   },
   {
    "duration": 56,
    "start_time": "2022-07-04T19:46:56.580Z"
   },
   {
    "duration": 1129,
    "start_time": "2022-07-04T19:47:32.806Z"
   },
   {
    "duration": 249,
    "start_time": "2022-07-04T19:47:33.937Z"
   },
   {
    "duration": 4,
    "start_time": "2022-07-04T19:47:34.188Z"
   },
   {
    "duration": 213,
    "start_time": "2022-07-04T19:47:34.194Z"
   },
   {
    "duration": 19,
    "start_time": "2022-07-04T19:47:34.409Z"
   },
   {
    "duration": 29,
    "start_time": "2022-07-04T19:47:34.429Z"
   },
   {
    "duration": 51,
    "start_time": "2022-07-04T19:47:34.460Z"
   },
   {
    "duration": 36,
    "start_time": "2022-07-04T19:47:34.513Z"
   },
   {
    "duration": 26,
    "start_time": "2022-07-04T19:47:34.551Z"
   },
   {
    "duration": 16,
    "start_time": "2022-07-04T19:47:34.602Z"
   },
   {
    "duration": 25,
    "start_time": "2022-07-04T19:47:34.620Z"
   },
   {
    "duration": 90,
    "start_time": "2022-07-04T19:47:34.647Z"
   },
   {
    "duration": 78,
    "start_time": "2022-07-04T19:47:34.739Z"
   },
   {
    "duration": 30,
    "start_time": "2022-07-04T19:47:34.818Z"
   },
   {
    "duration": 6,
    "start_time": "2022-07-04T19:47:34.850Z"
   },
   {
    "duration": 15,
    "start_time": "2022-07-04T19:47:34.857Z"
   },
   {
    "duration": 48,
    "start_time": "2022-07-04T19:47:34.874Z"
   },
   {
    "duration": 5,
    "start_time": "2022-07-04T19:47:34.924Z"
   },
   {
    "duration": 240,
    "start_time": "2022-07-04T19:47:34.931Z"
   },
   {
    "duration": 3,
    "start_time": "2022-07-04T19:47:35.173Z"
   },
   {
    "duration": 18,
    "start_time": "2022-07-04T19:47:35.178Z"
   },
   {
    "duration": 21,
    "start_time": "2022-07-04T19:47:35.198Z"
   },
   {
    "duration": 10,
    "start_time": "2022-07-04T19:47:35.221Z"
   },
   {
    "duration": 38,
    "start_time": "2022-07-04T19:47:35.235Z"
   },
   {
    "duration": 245,
    "start_time": "2022-07-04T19:47:35.276Z"
   },
   {
    "duration": 5086,
    "start_time": "2022-07-04T19:47:35.523Z"
   },
   {
    "duration": 14,
    "start_time": "2022-07-04T19:47:40.611Z"
   },
   {
    "duration": 7,
    "start_time": "2022-07-04T19:47:40.630Z"
   },
   {
    "duration": 14,
    "start_time": "2022-07-04T19:47:40.639Z"
   },
   {
    "duration": 9,
    "start_time": "2022-07-04T19:47:40.655Z"
   },
   {
    "duration": 36,
    "start_time": "2022-07-04T19:47:40.665Z"
   },
   {
    "duration": 150,
    "start_time": "2022-07-04T19:47:40.703Z"
   },
   {
    "duration": 13,
    "start_time": "2022-07-04T19:47:40.855Z"
   },
   {
    "duration": 142,
    "start_time": "2022-07-04T19:47:40.870Z"
   },
   {
    "duration": 11,
    "start_time": "2022-07-04T19:47:41.014Z"
   },
   {
    "duration": 317,
    "start_time": "2022-07-04T19:47:41.027Z"
   },
   {
    "duration": 20,
    "start_time": "2022-07-04T19:47:41.346Z"
   },
   {
    "duration": 37,
    "start_time": "2022-07-04T19:47:41.368Z"
   },
   {
    "duration": 35,
    "start_time": "2022-07-04T19:47:41.406Z"
   },
   {
    "duration": 17,
    "start_time": "2022-07-04T19:47:41.442Z"
   },
   {
    "duration": 4,
    "start_time": "2022-07-04T19:47:41.460Z"
   },
   {
    "duration": 9,
    "start_time": "2022-07-04T19:47:41.466Z"
   },
   {
    "duration": 31,
    "start_time": "2022-07-04T19:47:41.476Z"
   },
   {
    "duration": 37,
    "start_time": "2022-07-04T19:47:41.509Z"
   },
   {
    "duration": 13,
    "start_time": "2022-07-04T19:47:41.548Z"
   },
   {
    "duration": 7,
    "start_time": "2022-07-04T19:47:41.562Z"
   },
   {
    "duration": 37,
    "start_time": "2022-07-04T19:47:41.570Z"
   },
   {
    "duration": 4,
    "start_time": "2022-07-04T19:47:41.609Z"
   },
   {
    "duration": 16,
    "start_time": "2022-07-04T19:47:41.615Z"
   },
   {
    "duration": 8,
    "start_time": "2022-07-04T19:47:41.632Z"
   },
   {
    "duration": 560,
    "start_time": "2022-07-04T19:47:41.641Z"
   },
   {
    "duration": 904,
    "start_time": "2022-07-04T19:47:42.203Z"
   },
   {
    "duration": 17,
    "start_time": "2022-07-04T19:47:43.109Z"
   },
   {
    "duration": 75,
    "start_time": "2022-07-04T19:47:43.128Z"
   },
   {
    "duration": 7,
    "start_time": "2022-07-04T19:47:43.205Z"
   },
   {
    "duration": 116,
    "start_time": "2022-07-04T19:47:43.214Z"
   },
   {
    "duration": 171,
    "start_time": "2022-07-04T19:47:43.332Z"
   },
   {
    "duration": 5,
    "start_time": "2022-07-04T19:47:43.505Z"
   },
   {
    "duration": 15,
    "start_time": "2022-07-04T19:47:43.512Z"
   },
   {
    "duration": 8,
    "start_time": "2022-07-04T19:47:43.529Z"
   },
   {
    "duration": 8,
    "start_time": "2022-07-04T19:47:43.539Z"
   },
   {
    "duration": 54,
    "start_time": "2022-07-04T19:47:43.549Z"
   },
   {
    "duration": 6,
    "start_time": "2022-07-04T19:47:43.605Z"
   },
   {
    "duration": 7,
    "start_time": "2022-07-04T19:47:43.613Z"
   },
   {
    "duration": 9,
    "start_time": "2022-07-04T19:47:43.622Z"
   },
   {
    "duration": 8,
    "start_time": "2022-07-04T19:47:43.633Z"
   },
   {
    "duration": 8,
    "start_time": "2022-07-04T19:47:43.643Z"
   },
   {
    "duration": 6,
    "start_time": "2022-07-04T19:47:43.702Z"
   },
   {
    "duration": 8,
    "start_time": "2022-07-04T19:47:43.710Z"
   },
   {
    "duration": 8,
    "start_time": "2022-07-04T19:47:43.720Z"
   },
   {
    "duration": 74,
    "start_time": "2022-07-04T19:47:43.730Z"
   },
   {
    "duration": 13,
    "start_time": "2022-07-04T19:47:43.806Z"
   },
   {
    "duration": 93,
    "start_time": "2022-07-04T19:47:43.821Z"
   },
   {
    "duration": 3,
    "start_time": "2022-07-04T19:47:43.917Z"
   },
   {
    "duration": 10,
    "start_time": "2022-07-04T19:47:43.922Z"
   },
   {
    "duration": 69,
    "start_time": "2022-07-04T19:47:43.934Z"
   },
   {
    "duration": 37,
    "start_time": "2022-07-04T19:47:44.005Z"
   },
   {
    "duration": 60,
    "start_time": "2022-07-04T19:47:44.045Z"
   },
   {
    "duration": 44,
    "start_time": "2022-07-04T19:47:44.107Z"
   },
   {
    "duration": 3,
    "start_time": "2022-07-04T19:47:44.153Z"
   },
   {
    "duration": 18,
    "start_time": "2022-07-04T19:47:44.158Z"
   },
   {
    "duration": 7,
    "start_time": "2022-07-04T19:47:44.204Z"
   },
   {
    "duration": 11,
    "start_time": "2022-07-04T19:47:44.213Z"
   },
   {
    "duration": 16,
    "start_time": "2022-07-04T19:47:44.226Z"
   },
   {
    "duration": 5138,
    "start_time": "2022-07-04T19:49:47.709Z"
   },
   {
    "duration": 3199,
    "start_time": "2022-07-04T19:50:02.714Z"
   },
   {
    "duration": 3035,
    "start_time": "2022-07-04T19:50:34.191Z"
   },
   {
    "duration": 3337,
    "start_time": "2022-07-04T19:50:42.718Z"
   },
   {
    "duration": 2710,
    "start_time": "2022-07-04T19:50:55.746Z"
   },
   {
    "duration": 2309,
    "start_time": "2022-07-04T19:51:49.771Z"
   },
   {
    "duration": 2290,
    "start_time": "2022-07-04T19:52:48.091Z"
   },
   {
    "duration": 389,
    "start_time": "2022-07-04T19:53:06.620Z"
   },
   {
    "duration": 2311,
    "start_time": "2022-07-04T19:53:10.779Z"
   },
   {
    "duration": 2331,
    "start_time": "2022-07-04T19:54:16.815Z"
   },
   {
    "duration": 2323,
    "start_time": "2022-07-04T19:54:27.649Z"
   },
   {
    "duration": 2714,
    "start_time": "2022-07-04T19:56:12.525Z"
   },
   {
    "duration": 2693,
    "start_time": "2022-07-04T19:58:39.143Z"
   },
   {
    "duration": 2482,
    "start_time": "2022-07-04T19:59:24.258Z"
   },
   {
    "duration": 2416,
    "start_time": "2022-07-04T20:00:00.309Z"
   },
   {
    "duration": 2439,
    "start_time": "2022-07-04T20:00:14.448Z"
   },
   {
    "duration": 98,
    "start_time": "2022-07-04T20:01:09.695Z"
   },
   {
    "duration": 139,
    "start_time": "2022-07-04T20:02:01.502Z"
   },
   {
    "duration": 558,
    "start_time": "2022-07-04T20:02:13.260Z"
   },
   {
    "duration": 10,
    "start_time": "2022-07-04T20:02:50.056Z"
   },
   {
    "duration": 20,
    "start_time": "2022-07-04T20:02:53.924Z"
   },
   {
    "duration": 455,
    "start_time": "2022-07-04T20:04:32.395Z"
   },
   {
    "duration": 439,
    "start_time": "2022-07-04T20:04:36.195Z"
   },
   {
    "duration": 425,
    "start_time": "2022-07-04T20:05:26.258Z"
   },
   {
    "duration": 451,
    "start_time": "2022-07-04T20:11:24.000Z"
   },
   {
    "duration": 524,
    "start_time": "2022-07-04T20:11:27.895Z"
   },
   {
    "duration": 602,
    "start_time": "2022-07-04T20:11:34.929Z"
   },
   {
    "duration": 506,
    "start_time": "2022-07-04T20:11:38.095Z"
   },
   {
    "duration": 1086,
    "start_time": "2022-07-04T20:11:50.827Z"
   },
   {
    "duration": 255,
    "start_time": "2022-07-04T20:11:51.916Z"
   },
   {
    "duration": 4,
    "start_time": "2022-07-04T20:11:52.173Z"
   },
   {
    "duration": 221,
    "start_time": "2022-07-04T20:11:52.179Z"
   },
   {
    "duration": 21,
    "start_time": "2022-07-04T20:11:52.402Z"
   },
   {
    "duration": 27,
    "start_time": "2022-07-04T20:11:52.424Z"
   },
   {
    "duration": 59,
    "start_time": "2022-07-04T20:11:52.452Z"
   },
   {
    "duration": 43,
    "start_time": "2022-07-04T20:11:52.513Z"
   },
   {
    "duration": 18,
    "start_time": "2022-07-04T20:11:52.557Z"
   },
   {
    "duration": 37,
    "start_time": "2022-07-04T20:11:52.578Z"
   },
   {
    "duration": 19,
    "start_time": "2022-07-04T20:11:52.617Z"
   },
   {
    "duration": 97,
    "start_time": "2022-07-04T20:11:52.638Z"
   },
   {
    "duration": 112,
    "start_time": "2022-07-04T20:11:52.738Z"
   },
   {
    "duration": 48,
    "start_time": "2022-07-04T20:11:52.853Z"
   },
   {
    "duration": 6,
    "start_time": "2022-07-04T20:11:52.903Z"
   },
   {
    "duration": 20,
    "start_time": "2022-07-04T20:11:52.910Z"
   },
   {
    "duration": 47,
    "start_time": "2022-07-04T20:11:52.932Z"
   },
   {
    "duration": 24,
    "start_time": "2022-07-04T20:11:52.981Z"
   },
   {
    "duration": 273,
    "start_time": "2022-07-04T20:11:53.007Z"
   },
   {
    "duration": 3,
    "start_time": "2022-07-04T20:11:53.282Z"
   },
   {
    "duration": 20,
    "start_time": "2022-07-04T20:11:53.286Z"
   },
   {
    "duration": 12,
    "start_time": "2022-07-04T20:11:53.308Z"
   },
   {
    "duration": 8,
    "start_time": "2022-07-04T20:11:53.324Z"
   },
   {
    "duration": 49,
    "start_time": "2022-07-04T20:11:53.334Z"
   },
   {
    "duration": 274,
    "start_time": "2022-07-04T20:11:53.386Z"
   },
   {
    "duration": 631,
    "start_time": "2022-07-04T20:11:53.662Z"
   },
   {
    "duration": 9,
    "start_time": "2022-07-04T20:11:54.295Z"
   },
   {
    "duration": 12,
    "start_time": "2022-07-04T20:11:54.310Z"
   },
   {
    "duration": 15,
    "start_time": "2022-07-04T20:11:54.324Z"
   },
   {
    "duration": 26,
    "start_time": "2022-07-04T20:11:54.341Z"
   },
   {
    "duration": 226,
    "start_time": "2022-07-04T20:11:54.371Z"
   },
   {
    "duration": 17,
    "start_time": "2022-07-04T20:11:54.601Z"
   },
   {
    "duration": 232,
    "start_time": "2022-07-04T20:11:54.620Z"
   },
   {
    "duration": 18,
    "start_time": "2022-07-04T20:11:54.854Z"
   },
   {
    "duration": 386,
    "start_time": "2022-07-04T20:11:54.874Z"
   },
   {
    "duration": 25,
    "start_time": "2022-07-04T20:11:55.262Z"
   },
   {
    "duration": 53,
    "start_time": "2022-07-04T20:11:55.289Z"
   },
   {
    "duration": 49,
    "start_time": "2022-07-04T20:11:55.344Z"
   },
   {
    "duration": 22,
    "start_time": "2022-07-04T20:11:55.401Z"
   },
   {
    "duration": 20,
    "start_time": "2022-07-04T20:11:55.428Z"
   },
   {
    "duration": 40,
    "start_time": "2022-07-04T20:11:55.450Z"
   },
   {
    "duration": 47,
    "start_time": "2022-07-04T20:11:55.492Z"
   },
   {
    "duration": 49,
    "start_time": "2022-07-04T20:11:55.541Z"
   },
   {
    "duration": 18,
    "start_time": "2022-07-04T20:11:55.592Z"
   },
   {
    "duration": 13,
    "start_time": "2022-07-04T20:11:55.612Z"
   },
   {
    "duration": 44,
    "start_time": "2022-07-04T20:11:55.626Z"
   },
   {
    "duration": 7,
    "start_time": "2022-07-04T20:11:55.672Z"
   },
   {
    "duration": 20,
    "start_time": "2022-07-04T20:11:55.681Z"
   },
   {
    "duration": 6,
    "start_time": "2022-07-04T20:11:55.702Z"
   },
   {
    "duration": 454,
    "start_time": "2022-07-04T20:11:55.710Z"
   },
   {
    "duration": 639,
    "start_time": "2022-07-04T20:11:56.166Z"
   },
   {
    "duration": 12,
    "start_time": "2022-07-04T20:11:56.808Z"
   },
   {
    "duration": 23,
    "start_time": "2022-07-04T20:11:56.822Z"
   },
   {
    "duration": 8,
    "start_time": "2022-07-04T20:11:56.847Z"
   },
   {
    "duration": 57,
    "start_time": "2022-07-04T20:11:56.858Z"
   },
   {
    "duration": 67,
    "start_time": "2022-07-04T20:11:56.918Z"
   },
   {
    "duration": 14,
    "start_time": "2022-07-04T20:11:56.987Z"
   },
   {
    "duration": 14,
    "start_time": "2022-07-04T20:11:57.003Z"
   },
   {
    "duration": 11,
    "start_time": "2022-07-04T20:11:57.019Z"
   },
   {
    "duration": 6,
    "start_time": "2022-07-04T20:11:57.032Z"
   },
   {
    "duration": 8,
    "start_time": "2022-07-04T20:11:57.040Z"
   },
   {
    "duration": 9,
    "start_time": "2022-07-04T20:11:57.051Z"
   },
   {
    "duration": 8,
    "start_time": "2022-07-04T20:11:57.061Z"
   },
   {
    "duration": 9,
    "start_time": "2022-07-04T20:11:57.071Z"
   },
   {
    "duration": 6,
    "start_time": "2022-07-04T20:11:57.100Z"
   },
   {
    "duration": 14,
    "start_time": "2022-07-04T20:11:57.109Z"
   },
   {
    "duration": 14,
    "start_time": "2022-07-04T20:11:57.125Z"
   },
   {
    "duration": 17,
    "start_time": "2022-07-04T20:11:57.141Z"
   },
   {
    "duration": 11,
    "start_time": "2022-07-04T20:11:57.160Z"
   },
   {
    "duration": 35,
    "start_time": "2022-07-04T20:11:57.173Z"
   },
   {
    "duration": 16,
    "start_time": "2022-07-04T20:11:57.210Z"
   },
   {
    "duration": 33,
    "start_time": "2022-07-04T20:11:57.228Z"
   },
   {
    "duration": 4,
    "start_time": "2022-07-04T20:11:57.265Z"
   },
   {
    "duration": 15,
    "start_time": "2022-07-04T20:11:57.271Z"
   },
   {
    "duration": 16,
    "start_time": "2022-07-04T20:11:57.287Z"
   },
   {
    "duration": 25,
    "start_time": "2022-07-04T20:11:57.305Z"
   },
   {
    "duration": 38,
    "start_time": "2022-07-04T20:11:57.331Z"
   },
   {
    "duration": 42,
    "start_time": "2022-07-04T20:11:57.371Z"
   },
   {
    "duration": 4,
    "start_time": "2022-07-04T20:11:57.415Z"
   },
   {
    "duration": 18,
    "start_time": "2022-07-04T20:11:57.421Z"
   },
   {
    "duration": 13,
    "start_time": "2022-07-04T20:11:57.441Z"
   },
   {
    "duration": 10,
    "start_time": "2022-07-04T20:11:57.460Z"
   },
   {
    "duration": 28,
    "start_time": "2022-07-04T20:11:57.472Z"
   },
   {
    "duration": 193,
    "start_time": "2022-07-04T20:12:33.561Z"
   },
   {
    "duration": 228,
    "start_time": "2022-07-04T20:12:40.408Z"
   },
   {
    "duration": 158,
    "start_time": "2022-07-04T20:12:46.341Z"
   },
   {
    "duration": 141,
    "start_time": "2022-07-04T20:12:53.228Z"
   },
   {
    "duration": 193,
    "start_time": "2022-07-04T20:13:03.541Z"
   },
   {
    "duration": 327,
    "start_time": "2022-07-04T20:14:50.932Z"
   },
   {
    "duration": 521,
    "start_time": "2022-07-04T20:14:59.877Z"
   },
   {
    "duration": 73,
    "start_time": "2022-07-04T20:19:43.896Z"
   },
   {
    "duration": 20,
    "start_time": "2022-07-04T20:20:24.795Z"
   },
   {
    "duration": 35,
    "start_time": "2022-07-04T20:20:44.735Z"
   },
   {
    "duration": 32,
    "start_time": "2022-07-04T20:20:52.838Z"
   },
   {
    "duration": 3,
    "start_time": "2022-07-04T20:21:45.442Z"
   },
   {
    "duration": 32,
    "start_time": "2022-07-04T20:22:06.348Z"
   },
   {
    "duration": 17,
    "start_time": "2022-07-04T20:22:12.256Z"
   },
   {
    "duration": 1138,
    "start_time": "2022-07-04T20:24:51.365Z"
   },
   {
    "duration": 236,
    "start_time": "2022-07-04T20:24:52.505Z"
   },
   {
    "duration": 5,
    "start_time": "2022-07-04T20:24:52.743Z"
   },
   {
    "duration": 243,
    "start_time": "2022-07-04T20:24:52.750Z"
   },
   {
    "duration": 23,
    "start_time": "2022-07-04T20:24:52.995Z"
   },
   {
    "duration": 27,
    "start_time": "2022-07-04T20:24:53.020Z"
   },
   {
    "duration": 57,
    "start_time": "2022-07-04T20:24:53.049Z"
   },
   {
    "duration": 54,
    "start_time": "2022-07-04T20:24:53.108Z"
   },
   {
    "duration": 5,
    "start_time": "2022-07-04T20:25:07.036Z"
   },
   {
    "duration": 289,
    "start_time": "2022-07-04T20:25:07.043Z"
   },
   {
    "duration": 5,
    "start_time": "2022-07-04T20:25:07.335Z"
   },
   {
    "duration": 284,
    "start_time": "2022-07-04T20:25:07.343Z"
   },
   {
    "duration": 32,
    "start_time": "2022-07-04T20:25:07.631Z"
   },
   {
    "duration": 42,
    "start_time": "2022-07-04T20:25:07.667Z"
   },
   {
    "duration": 48,
    "start_time": "2022-07-04T20:25:07.711Z"
   },
   {
    "duration": 60,
    "start_time": "2022-07-04T20:25:07.761Z"
   },
   {
    "duration": 18,
    "start_time": "2022-07-04T20:25:38.539Z"
   },
   {
    "duration": 5,
    "start_time": "2022-07-04T20:25:51.477Z"
   },
   {
    "duration": 290,
    "start_time": "2022-07-04T20:25:51.484Z"
   },
   {
    "duration": 5,
    "start_time": "2022-07-04T20:25:51.775Z"
   },
   {
    "duration": 242,
    "start_time": "2022-07-04T20:25:51.782Z"
   },
   {
    "duration": 20,
    "start_time": "2022-07-04T20:25:52.026Z"
   },
   {
    "duration": 55,
    "start_time": "2022-07-04T20:25:52.049Z"
   },
   {
    "duration": 45,
    "start_time": "2022-07-04T20:25:52.107Z"
   },
   {
    "duration": 60,
    "start_time": "2022-07-04T20:25:52.154Z"
   },
   {
    "duration": 25,
    "start_time": "2022-07-04T20:25:52.217Z"
   },
   {
    "duration": 14,
    "start_time": "2022-07-04T20:25:52.243Z"
   },
   {
    "duration": 15,
    "start_time": "2022-07-04T20:25:52.258Z"
   },
   {
    "duration": 95,
    "start_time": "2022-07-04T20:25:52.276Z"
   },
   {
    "duration": 67,
    "start_time": "2022-07-04T20:25:52.373Z"
   },
   {
    "duration": 26,
    "start_time": "2022-07-04T20:25:52.442Z"
   },
   {
    "duration": 8,
    "start_time": "2022-07-04T20:25:52.469Z"
   },
   {
    "duration": 32,
    "start_time": "2022-07-04T20:25:52.479Z"
   },
   {
    "duration": 32,
    "start_time": "2022-07-04T20:25:52.514Z"
   },
   {
    "duration": 5,
    "start_time": "2022-07-04T20:25:52.548Z"
   },
   {
    "duration": 219,
    "start_time": "2022-07-04T20:25:52.555Z"
   },
   {
    "duration": 3,
    "start_time": "2022-07-04T20:25:52.777Z"
   },
   {
    "duration": 7,
    "start_time": "2022-07-04T20:25:52.782Z"
   },
   {
    "duration": 16,
    "start_time": "2022-07-04T20:25:52.791Z"
   },
   {
    "duration": 6,
    "start_time": "2022-07-04T20:25:52.809Z"
   },
   {
    "duration": 26,
    "start_time": "2022-07-04T20:25:52.820Z"
   },
   {
    "duration": 2,
    "start_time": "2022-07-04T20:25:52.848Z"
   },
   {
    "duration": 38,
    "start_time": "2022-07-04T20:25:52.852Z"
   },
   {
    "duration": 196,
    "start_time": "2022-07-04T20:25:52.892Z"
   },
   {
    "duration": 520,
    "start_time": "2022-07-04T20:25:53.090Z"
   },
   {
    "duration": 8,
    "start_time": "2022-07-04T20:25:53.612Z"
   },
   {
    "duration": 9,
    "start_time": "2022-07-04T20:25:53.621Z"
   },
   {
    "duration": 11,
    "start_time": "2022-07-04T20:25:53.632Z"
   },
   {
    "duration": 24,
    "start_time": "2022-07-04T20:25:53.645Z"
   },
   {
    "duration": 273,
    "start_time": "2022-07-04T20:25:53.671Z"
   },
   {
    "duration": 21,
    "start_time": "2022-07-04T20:25:53.947Z"
   },
   {
    "duration": 188,
    "start_time": "2022-07-04T20:25:53.970Z"
   },
   {
    "duration": 16,
    "start_time": "2022-07-04T20:25:54.160Z"
   },
   {
    "duration": 338,
    "start_time": "2022-07-04T20:25:54.179Z"
   },
   {
    "duration": 26,
    "start_time": "2022-07-04T20:25:54.519Z"
   },
   {
    "duration": 56,
    "start_time": "2022-07-04T20:25:54.547Z"
   },
   {
    "duration": 34,
    "start_time": "2022-07-04T20:25:54.605Z"
   },
   {
    "duration": 19,
    "start_time": "2022-07-04T20:25:54.642Z"
   },
   {
    "duration": 4,
    "start_time": "2022-07-04T20:25:54.663Z"
   },
   {
    "duration": 33,
    "start_time": "2022-07-04T20:25:54.669Z"
   },
   {
    "duration": 9,
    "start_time": "2022-07-04T20:25:54.704Z"
   },
   {
    "duration": 56,
    "start_time": "2022-07-04T20:25:54.714Z"
   },
   {
    "duration": 30,
    "start_time": "2022-07-04T20:25:54.772Z"
   },
   {
    "duration": 4,
    "start_time": "2022-07-04T20:25:54.803Z"
   },
   {
    "duration": 33,
    "start_time": "2022-07-04T20:25:54.809Z"
   },
   {
    "duration": 6,
    "start_time": "2022-07-04T20:25:54.845Z"
   },
   {
    "duration": 18,
    "start_time": "2022-07-04T20:25:54.860Z"
   },
   {
    "duration": 4,
    "start_time": "2022-07-04T20:25:54.880Z"
   },
   {
    "duration": 100,
    "start_time": "2022-07-04T20:25:54.886Z"
   },
   {
    "duration": 0,
    "start_time": "2022-07-04T20:25:55.001Z"
   },
   {
    "duration": 0,
    "start_time": "2022-07-04T20:25:55.002Z"
   },
   {
    "duration": 0,
    "start_time": "2022-07-04T20:25:55.004Z"
   },
   {
    "duration": 0,
    "start_time": "2022-07-04T20:25:55.005Z"
   },
   {
    "duration": 0,
    "start_time": "2022-07-04T20:25:55.006Z"
   },
   {
    "duration": 0,
    "start_time": "2022-07-04T20:25:55.008Z"
   },
   {
    "duration": 0,
    "start_time": "2022-07-04T20:25:55.010Z"
   },
   {
    "duration": 0,
    "start_time": "2022-07-04T20:25:55.011Z"
   },
   {
    "duration": 0,
    "start_time": "2022-07-04T20:25:55.013Z"
   },
   {
    "duration": 0,
    "start_time": "2022-07-04T20:25:55.014Z"
   },
   {
    "duration": 0,
    "start_time": "2022-07-04T20:25:55.016Z"
   },
   {
    "duration": 0,
    "start_time": "2022-07-04T20:25:55.017Z"
   },
   {
    "duration": 0,
    "start_time": "2022-07-04T20:25:55.018Z"
   },
   {
    "duration": 0,
    "start_time": "2022-07-04T20:25:55.020Z"
   },
   {
    "duration": 0,
    "start_time": "2022-07-04T20:25:55.022Z"
   },
   {
    "duration": 0,
    "start_time": "2022-07-04T20:25:55.023Z"
   },
   {
    "duration": 0,
    "start_time": "2022-07-04T20:25:55.024Z"
   },
   {
    "duration": 0,
    "start_time": "2022-07-04T20:25:55.025Z"
   },
   {
    "duration": 0,
    "start_time": "2022-07-04T20:25:55.027Z"
   },
   {
    "duration": 0,
    "start_time": "2022-07-04T20:25:55.029Z"
   },
   {
    "duration": 0,
    "start_time": "2022-07-04T20:25:55.030Z"
   },
   {
    "duration": 0,
    "start_time": "2022-07-04T20:25:55.032Z"
   },
   {
    "duration": 0,
    "start_time": "2022-07-04T20:25:55.033Z"
   },
   {
    "duration": 0,
    "start_time": "2022-07-04T20:25:55.034Z"
   },
   {
    "duration": 0,
    "start_time": "2022-07-04T20:25:55.036Z"
   },
   {
    "duration": 0,
    "start_time": "2022-07-04T20:25:55.038Z"
   },
   {
    "duration": 0,
    "start_time": "2022-07-04T20:25:55.039Z"
   },
   {
    "duration": 0,
    "start_time": "2022-07-04T20:25:55.040Z"
   },
   {
    "duration": 0,
    "start_time": "2022-07-04T20:25:55.042Z"
   },
   {
    "duration": 0,
    "start_time": "2022-07-04T20:25:55.101Z"
   },
   {
    "duration": 0,
    "start_time": "2022-07-04T20:25:55.102Z"
   },
   {
    "duration": 0,
    "start_time": "2022-07-04T20:25:55.103Z"
   },
   {
    "duration": 0,
    "start_time": "2022-07-04T20:25:55.104Z"
   },
   {
    "duration": 12,
    "start_time": "2022-07-04T20:26:45.805Z"
   },
   {
    "duration": 13,
    "start_time": "2022-07-04T20:27:00.259Z"
   },
   {
    "duration": 1383,
    "start_time": "2022-07-04T20:27:05.770Z"
   },
   {
    "duration": 305,
    "start_time": "2022-07-04T20:27:07.156Z"
   },
   {
    "duration": 5,
    "start_time": "2022-07-04T20:27:07.463Z"
   },
   {
    "duration": 376,
    "start_time": "2022-07-04T20:27:07.471Z"
   },
   {
    "duration": 24,
    "start_time": "2022-07-04T20:27:07.850Z"
   },
   {
    "duration": 47,
    "start_time": "2022-07-04T20:27:07.877Z"
   },
   {
    "duration": 47,
    "start_time": "2022-07-04T20:27:07.926Z"
   },
   {
    "duration": 70,
    "start_time": "2022-07-04T20:27:07.975Z"
   },
   {
    "duration": 17,
    "start_time": "2022-07-04T20:27:08.049Z"
   },
   {
    "duration": 31,
    "start_time": "2022-07-04T20:27:08.069Z"
   },
   {
    "duration": 23,
    "start_time": "2022-07-04T20:27:08.102Z"
   },
   {
    "duration": 103,
    "start_time": "2022-07-04T20:27:08.127Z"
   },
   {
    "duration": 100,
    "start_time": "2022-07-04T20:27:08.232Z"
   },
   {
    "duration": 43,
    "start_time": "2022-07-04T20:27:08.334Z"
   },
   {
    "duration": 5,
    "start_time": "2022-07-04T20:27:08.379Z"
   },
   {
    "duration": 25,
    "start_time": "2022-07-04T20:27:08.386Z"
   },
   {
    "duration": 30,
    "start_time": "2022-07-04T20:27:08.413Z"
   },
   {
    "duration": 6,
    "start_time": "2022-07-04T20:27:08.445Z"
   },
   {
    "duration": 216,
    "start_time": "2022-07-04T20:27:08.453Z"
   },
   {
    "duration": 3,
    "start_time": "2022-07-04T20:27:08.671Z"
   },
   {
    "duration": 7,
    "start_time": "2022-07-04T20:27:08.676Z"
   },
   {
    "duration": 6,
    "start_time": "2022-07-04T20:27:08.685Z"
   },
   {
    "duration": 2,
    "start_time": "2022-07-04T20:27:08.701Z"
   },
   {
    "duration": 24,
    "start_time": "2022-07-04T20:27:08.705Z"
   },
   {
    "duration": 3,
    "start_time": "2022-07-04T20:27:08.730Z"
   },
   {
    "duration": 32,
    "start_time": "2022-07-04T20:27:08.735Z"
   },
   {
    "duration": 206,
    "start_time": "2022-07-04T20:27:08.768Z"
   },
   {
    "duration": 676,
    "start_time": "2022-07-04T20:27:08.978Z"
   },
   {
    "duration": 7,
    "start_time": "2022-07-04T20:27:09.655Z"
   },
   {
    "duration": 11,
    "start_time": "2022-07-04T20:27:09.664Z"
   },
   {
    "duration": 5,
    "start_time": "2022-07-04T20:27:09.677Z"
   },
   {
    "duration": 27,
    "start_time": "2022-07-04T20:27:09.684Z"
   },
   {
    "duration": 197,
    "start_time": "2022-07-04T20:27:09.714Z"
   },
   {
    "duration": 15,
    "start_time": "2022-07-04T20:27:09.913Z"
   },
   {
    "duration": 184,
    "start_time": "2022-07-04T20:27:09.930Z"
   },
   {
    "duration": 13,
    "start_time": "2022-07-04T20:27:10.115Z"
   },
   {
    "duration": 330,
    "start_time": "2022-07-04T20:27:10.130Z"
   },
   {
    "duration": 21,
    "start_time": "2022-07-04T20:27:10.462Z"
   },
   {
    "duration": 47,
    "start_time": "2022-07-04T20:27:10.486Z"
   },
   {
    "duration": 50,
    "start_time": "2022-07-04T20:27:10.536Z"
   },
   {
    "duration": 32,
    "start_time": "2022-07-04T20:27:10.588Z"
   },
   {
    "duration": 5,
    "start_time": "2022-07-04T20:27:10.622Z"
   },
   {
    "duration": 6,
    "start_time": "2022-07-04T20:27:10.628Z"
   },
   {
    "duration": 11,
    "start_time": "2022-07-04T20:27:10.635Z"
   },
   {
    "duration": 71,
    "start_time": "2022-07-04T20:27:10.648Z"
   },
   {
    "duration": 13,
    "start_time": "2022-07-04T20:27:10.721Z"
   },
   {
    "duration": 10,
    "start_time": "2022-07-04T20:27:10.736Z"
   },
   {
    "duration": 36,
    "start_time": "2022-07-04T20:27:10.747Z"
   },
   {
    "duration": 17,
    "start_time": "2022-07-04T20:27:10.785Z"
   },
   {
    "duration": 15,
    "start_time": "2022-07-04T20:27:10.804Z"
   },
   {
    "duration": 5,
    "start_time": "2022-07-04T20:27:10.820Z"
   },
   {
    "duration": 156,
    "start_time": "2022-07-04T20:27:10.827Z"
   },
   {
    "duration": 0,
    "start_time": "2022-07-04T20:27:10.986Z"
   },
   {
    "duration": 0,
    "start_time": "2022-07-04T20:27:10.987Z"
   },
   {
    "duration": 0,
    "start_time": "2022-07-04T20:27:10.988Z"
   },
   {
    "duration": 0,
    "start_time": "2022-07-04T20:27:10.990Z"
   },
   {
    "duration": 0,
    "start_time": "2022-07-04T20:27:11.001Z"
   },
   {
    "duration": 0,
    "start_time": "2022-07-04T20:27:11.002Z"
   },
   {
    "duration": 0,
    "start_time": "2022-07-04T20:27:11.003Z"
   },
   {
    "duration": 0,
    "start_time": "2022-07-04T20:27:11.004Z"
   },
   {
    "duration": 0,
    "start_time": "2022-07-04T20:27:11.006Z"
   },
   {
    "duration": 0,
    "start_time": "2022-07-04T20:27:11.007Z"
   },
   {
    "duration": 0,
    "start_time": "2022-07-04T20:27:11.008Z"
   },
   {
    "duration": 0,
    "start_time": "2022-07-04T20:27:11.009Z"
   },
   {
    "duration": 0,
    "start_time": "2022-07-04T20:27:11.011Z"
   },
   {
    "duration": 0,
    "start_time": "2022-07-04T20:27:11.012Z"
   },
   {
    "duration": 0,
    "start_time": "2022-07-04T20:27:11.013Z"
   },
   {
    "duration": 0,
    "start_time": "2022-07-04T20:27:11.014Z"
   },
   {
    "duration": 0,
    "start_time": "2022-07-04T20:27:11.015Z"
   },
   {
    "duration": 0,
    "start_time": "2022-07-04T20:27:11.016Z"
   },
   {
    "duration": 0,
    "start_time": "2022-07-04T20:27:11.017Z"
   },
   {
    "duration": 0,
    "start_time": "2022-07-04T20:27:11.018Z"
   },
   {
    "duration": 0,
    "start_time": "2022-07-04T20:27:11.019Z"
   },
   {
    "duration": 0,
    "start_time": "2022-07-04T20:27:11.020Z"
   },
   {
    "duration": 0,
    "start_time": "2022-07-04T20:27:11.021Z"
   },
   {
    "duration": 0,
    "start_time": "2022-07-04T20:27:11.023Z"
   },
   {
    "duration": 0,
    "start_time": "2022-07-04T20:27:11.025Z"
   },
   {
    "duration": 0,
    "start_time": "2022-07-04T20:27:11.026Z"
   },
   {
    "duration": 0,
    "start_time": "2022-07-04T20:27:11.027Z"
   },
   {
    "duration": 0,
    "start_time": "2022-07-04T20:27:11.029Z"
   },
   {
    "duration": 0,
    "start_time": "2022-07-04T20:27:11.030Z"
   },
   {
    "duration": 0,
    "start_time": "2022-07-04T20:27:11.031Z"
   },
   {
    "duration": 0,
    "start_time": "2022-07-04T20:27:11.032Z"
   },
   {
    "duration": 0,
    "start_time": "2022-07-04T20:27:11.033Z"
   },
   {
    "duration": 0,
    "start_time": "2022-07-04T20:27:11.034Z"
   },
   {
    "duration": 44,
    "start_time": "2022-07-04T20:29:35.723Z"
   },
   {
    "duration": 33,
    "start_time": "2022-07-04T20:29:44.996Z"
   },
   {
    "duration": 139,
    "start_time": "2022-07-04T20:30:11.020Z"
   },
   {
    "duration": 10,
    "start_time": "2022-07-04T20:31:36.083Z"
   },
   {
    "duration": 6,
    "start_time": "2022-07-04T20:32:03.703Z"
   },
   {
    "duration": 10,
    "start_time": "2022-07-04T20:32:24.857Z"
   },
   {
    "duration": 9,
    "start_time": "2022-07-04T20:32:27.498Z"
   },
   {
    "duration": 1048,
    "start_time": "2022-07-04T20:33:54.751Z"
   },
   {
    "duration": 221,
    "start_time": "2022-07-04T20:33:55.802Z"
   },
   {
    "duration": 3,
    "start_time": "2022-07-04T20:33:56.025Z"
   },
   {
    "duration": 208,
    "start_time": "2022-07-04T20:33:56.031Z"
   },
   {
    "duration": 21,
    "start_time": "2022-07-04T20:33:56.241Z"
   },
   {
    "duration": 44,
    "start_time": "2022-07-04T20:33:56.264Z"
   },
   {
    "duration": 44,
    "start_time": "2022-07-04T20:33:56.310Z"
   },
   {
    "duration": 64,
    "start_time": "2022-07-04T20:33:56.356Z"
   },
   {
    "duration": 18,
    "start_time": "2022-07-04T20:33:56.421Z"
   },
   {
    "duration": 19,
    "start_time": "2022-07-04T20:33:56.442Z"
   },
   {
    "duration": 21,
    "start_time": "2022-07-04T20:33:56.463Z"
   },
   {
    "duration": 101,
    "start_time": "2022-07-04T20:33:56.501Z"
   },
   {
    "duration": 63,
    "start_time": "2022-07-04T20:33:56.604Z"
   },
   {
    "duration": 38,
    "start_time": "2022-07-04T20:33:56.669Z"
   },
   {
    "duration": 6,
    "start_time": "2022-07-04T20:33:56.709Z"
   },
   {
    "duration": 13,
    "start_time": "2022-07-04T20:33:56.716Z"
   },
   {
    "duration": 27,
    "start_time": "2022-07-04T20:33:56.731Z"
   },
   {
    "duration": 6,
    "start_time": "2022-07-04T20:33:56.760Z"
   },
   {
    "duration": 218,
    "start_time": "2022-07-04T20:33:56.767Z"
   },
   {
    "duration": 14,
    "start_time": "2022-07-04T20:33:56.987Z"
   },
   {
    "duration": 6,
    "start_time": "2022-07-04T20:33:57.003Z"
   },
   {
    "duration": 6,
    "start_time": "2022-07-04T20:33:57.010Z"
   },
   {
    "duration": 6,
    "start_time": "2022-07-04T20:33:57.017Z"
   },
   {
    "duration": 5,
    "start_time": "2022-07-04T20:33:57.025Z"
   },
   {
    "duration": 34,
    "start_time": "2022-07-04T20:33:57.031Z"
   },
   {
    "duration": 209,
    "start_time": "2022-07-04T20:33:57.067Z"
   },
   {
    "duration": 558,
    "start_time": "2022-07-04T20:33:57.278Z"
   },
   {
    "duration": 6,
    "start_time": "2022-07-04T20:33:57.841Z"
   },
   {
    "duration": 7,
    "start_time": "2022-07-04T20:33:57.848Z"
   },
   {
    "duration": 10,
    "start_time": "2022-07-04T20:33:57.857Z"
   },
   {
    "duration": 16,
    "start_time": "2022-07-04T20:33:57.868Z"
   },
   {
    "duration": 188,
    "start_time": "2022-07-04T20:33:57.900Z"
   },
   {
    "duration": 17,
    "start_time": "2022-07-04T20:33:58.090Z"
   },
   {
    "duration": 142,
    "start_time": "2022-07-04T20:33:58.109Z"
   },
   {
    "duration": 15,
    "start_time": "2022-07-04T20:33:58.253Z"
   },
   {
    "duration": 316,
    "start_time": "2022-07-04T20:33:58.269Z"
   },
   {
    "duration": 29,
    "start_time": "2022-07-04T20:33:58.587Z"
   },
   {
    "duration": 42,
    "start_time": "2022-07-04T20:33:58.618Z"
   },
   {
    "duration": 54,
    "start_time": "2022-07-04T20:33:58.661Z"
   },
   {
    "duration": 19,
    "start_time": "2022-07-04T20:33:58.717Z"
   },
   {
    "duration": 7,
    "start_time": "2022-07-04T20:33:58.739Z"
   },
   {
    "duration": 10,
    "start_time": "2022-07-04T20:33:58.748Z"
   },
   {
    "duration": 22,
    "start_time": "2022-07-04T20:33:58.759Z"
   },
   {
    "duration": 66,
    "start_time": "2022-07-04T20:33:58.782Z"
   },
   {
    "duration": 14,
    "start_time": "2022-07-04T20:33:58.850Z"
   },
   {
    "duration": 11,
    "start_time": "2022-07-04T20:33:58.866Z"
   },
   {
    "duration": 48,
    "start_time": "2022-07-04T20:33:58.879Z"
   },
   {
    "duration": 5,
    "start_time": "2022-07-04T20:33:58.929Z"
   },
   {
    "duration": 19,
    "start_time": "2022-07-04T20:33:58.936Z"
   },
   {
    "duration": 5,
    "start_time": "2022-07-04T20:33:58.957Z"
   },
   {
    "duration": 110,
    "start_time": "2022-07-04T20:33:58.965Z"
   },
   {
    "duration": 0,
    "start_time": "2022-07-04T20:33:59.077Z"
   },
   {
    "duration": 0,
    "start_time": "2022-07-04T20:33:59.078Z"
   },
   {
    "duration": 0,
    "start_time": "2022-07-04T20:33:59.079Z"
   },
   {
    "duration": 0,
    "start_time": "2022-07-04T20:33:59.081Z"
   },
   {
    "duration": 0,
    "start_time": "2022-07-04T20:33:59.081Z"
   },
   {
    "duration": 0,
    "start_time": "2022-07-04T20:33:59.082Z"
   },
   {
    "duration": 0,
    "start_time": "2022-07-04T20:33:59.083Z"
   },
   {
    "duration": 0,
    "start_time": "2022-07-04T20:33:59.084Z"
   },
   {
    "duration": 0,
    "start_time": "2022-07-04T20:33:59.100Z"
   },
   {
    "duration": 0,
    "start_time": "2022-07-04T20:33:59.101Z"
   },
   {
    "duration": 0,
    "start_time": "2022-07-04T20:33:59.102Z"
   },
   {
    "duration": 0,
    "start_time": "2022-07-04T20:33:59.103Z"
   },
   {
    "duration": 0,
    "start_time": "2022-07-04T20:33:59.104Z"
   },
   {
    "duration": 0,
    "start_time": "2022-07-04T20:33:59.105Z"
   },
   {
    "duration": 0,
    "start_time": "2022-07-04T20:33:59.106Z"
   },
   {
    "duration": 0,
    "start_time": "2022-07-04T20:33:59.107Z"
   },
   {
    "duration": 0,
    "start_time": "2022-07-04T20:33:59.108Z"
   },
   {
    "duration": 0,
    "start_time": "2022-07-04T20:33:59.108Z"
   },
   {
    "duration": 0,
    "start_time": "2022-07-04T20:33:59.110Z"
   },
   {
    "duration": 0,
    "start_time": "2022-07-04T20:33:59.111Z"
   },
   {
    "duration": 0,
    "start_time": "2022-07-04T20:33:59.112Z"
   },
   {
    "duration": 0,
    "start_time": "2022-07-04T20:33:59.113Z"
   },
   {
    "duration": 0,
    "start_time": "2022-07-04T20:33:59.114Z"
   },
   {
    "duration": 0,
    "start_time": "2022-07-04T20:33:59.115Z"
   },
   {
    "duration": 0,
    "start_time": "2022-07-04T20:33:59.116Z"
   },
   {
    "duration": 0,
    "start_time": "2022-07-04T20:33:59.117Z"
   },
   {
    "duration": 0,
    "start_time": "2022-07-04T20:33:59.118Z"
   },
   {
    "duration": 0,
    "start_time": "2022-07-04T20:33:59.120Z"
   },
   {
    "duration": 0,
    "start_time": "2022-07-04T20:33:59.120Z"
   },
   {
    "duration": 0,
    "start_time": "2022-07-04T20:33:59.122Z"
   },
   {
    "duration": 0,
    "start_time": "2022-07-04T20:33:59.123Z"
   },
   {
    "duration": 0,
    "start_time": "2022-07-04T20:33:59.124Z"
   },
   {
    "duration": 0,
    "start_time": "2022-07-04T20:33:59.125Z"
   },
   {
    "duration": 30,
    "start_time": "2022-07-04T20:36:05.681Z"
   },
   {
    "duration": 20,
    "start_time": "2022-07-04T20:36:11.731Z"
   },
   {
    "duration": 17,
    "start_time": "2022-07-04T20:36:23.149Z"
   },
   {
    "duration": 21,
    "start_time": "2022-07-04T20:36:33.602Z"
   },
   {
    "duration": 198,
    "start_time": "2022-07-04T20:39:01.665Z"
   },
   {
    "duration": 305,
    "start_time": "2022-07-04T20:39:12.817Z"
   },
   {
    "duration": 39,
    "start_time": "2022-07-04T20:41:25.988Z"
   },
   {
    "duration": 1097,
    "start_time": "2022-07-04T20:41:49.554Z"
   },
   {
    "duration": 231,
    "start_time": "2022-07-04T20:41:50.653Z"
   },
   {
    "duration": 4,
    "start_time": "2022-07-04T20:41:53.014Z"
   },
   {
    "duration": 236,
    "start_time": "2022-07-04T20:41:54.159Z"
   },
   {
    "duration": 20,
    "start_time": "2022-07-04T20:41:55.392Z"
   },
   {
    "duration": 28,
    "start_time": "2022-07-04T20:41:57.533Z"
   },
   {
    "duration": 29,
    "start_time": "2022-07-04T20:42:00.441Z"
   },
   {
    "duration": 41,
    "start_time": "2022-07-04T20:42:02.070Z"
   },
   {
    "duration": 16,
    "start_time": "2022-07-04T20:42:03.746Z"
   },
   {
    "duration": 11,
    "start_time": "2022-07-04T20:42:09.751Z"
   },
   {
    "duration": 12,
    "start_time": "2022-07-04T20:42:11.376Z"
   },
   {
    "duration": 99,
    "start_time": "2022-07-04T20:42:13.289Z"
   },
   {
    "duration": 63,
    "start_time": "2022-07-04T20:42:15.515Z"
   },
   {
    "duration": 27,
    "start_time": "2022-07-04T20:42:16.506Z"
   },
   {
    "duration": 5,
    "start_time": "2022-07-04T20:42:18.198Z"
   },
   {
    "duration": 12,
    "start_time": "2022-07-04T20:42:18.653Z"
   },
   {
    "duration": 40,
    "start_time": "2022-07-04T20:42:20.845Z"
   },
   {
    "duration": 6,
    "start_time": "2022-07-04T20:42:22.519Z"
   },
   {
    "duration": 299,
    "start_time": "2022-07-04T20:42:23.800Z"
   },
   {
    "duration": 41,
    "start_time": "2022-07-04T20:42:46.188Z"
   },
   {
    "duration": 201,
    "start_time": "2022-07-04T20:43:12.037Z"
   },
   {
    "duration": 504,
    "start_time": "2022-07-04T20:44:38.385Z"
   },
   {
    "duration": 6,
    "start_time": "2022-07-04T20:44:47.603Z"
   },
   {
    "duration": 5,
    "start_time": "2022-07-04T20:44:49.129Z"
   },
   {
    "duration": 4,
    "start_time": "2022-07-04T20:44:55.719Z"
   },
   {
    "duration": 15,
    "start_time": "2022-07-04T20:44:58.250Z"
   },
   {
    "duration": 180,
    "start_time": "2022-07-04T20:45:00.286Z"
   },
   {
    "duration": 160,
    "start_time": "2022-07-04T20:45:03.799Z"
   },
   {
    "duration": 13,
    "start_time": "2022-07-04T20:45:09.846Z"
   },
   {
    "duration": 151,
    "start_time": "2022-07-04T20:45:11.386Z"
   },
   {
    "duration": 13,
    "start_time": "2022-07-04T20:45:14.792Z"
   },
   {
    "duration": 15,
    "start_time": "2022-07-04T20:45:57.401Z"
   },
   {
    "duration": 359,
    "start_time": "2022-07-04T20:45:59.490Z"
   },
   {
    "duration": 19,
    "start_time": "2022-07-04T20:46:04.802Z"
   },
   {
    "duration": 34,
    "start_time": "2022-07-04T20:46:10.855Z"
   },
   {
    "duration": 37,
    "start_time": "2022-07-04T20:46:12.617Z"
   },
   {
    "duration": 19,
    "start_time": "2022-07-04T20:46:13.999Z"
   },
   {
    "duration": 5,
    "start_time": "2022-07-04T20:46:15.313Z"
   },
   {
    "duration": 4,
    "start_time": "2022-07-04T20:46:16.112Z"
   },
   {
    "duration": 10,
    "start_time": "2022-07-04T20:46:16.920Z"
   },
   {
    "duration": 48,
    "start_time": "2022-07-04T20:46:22.351Z"
   },
   {
    "duration": 14,
    "start_time": "2022-07-04T20:46:22.662Z"
   },
   {
    "duration": 4,
    "start_time": "2022-07-04T20:46:26.761Z"
   },
   {
    "duration": 13,
    "start_time": "2022-07-04T20:48:06.181Z"
   },
   {
    "duration": 49,
    "start_time": "2022-07-04T20:48:25.256Z"
   },
   {
    "duration": 24,
    "start_time": "2022-07-04T20:48:46.827Z"
   },
   {
    "duration": 24,
    "start_time": "2022-07-04T20:49:14.467Z"
   },
   {
    "duration": 23,
    "start_time": "2022-07-04T20:50:17.625Z"
   },
   {
    "duration": 22,
    "start_time": "2022-07-04T20:50:35.280Z"
   },
   {
    "duration": 25,
    "start_time": "2022-07-04T20:50:54.464Z"
   },
   {
    "duration": 3,
    "start_time": "2022-07-04T20:51:26.283Z"
   },
   {
    "duration": 3,
    "start_time": "2022-07-04T20:51:42.594Z"
   },
   {
    "duration": 89,
    "start_time": "2022-07-04T20:51:51.973Z"
   },
   {
    "duration": 5,
    "start_time": "2022-07-04T20:52:07.919Z"
   },
   {
    "duration": 29,
    "start_time": "2022-07-04T20:52:33.747Z"
   },
   {
    "duration": 32,
    "start_time": "2022-07-04T20:52:59.236Z"
   },
   {
    "duration": 5,
    "start_time": "2022-07-04T20:59:27.636Z"
   },
   {
    "duration": 20,
    "start_time": "2022-07-04T21:00:58.678Z"
   },
   {
    "duration": 22,
    "start_time": "2022-07-04T21:01:09.199Z"
   },
   {
    "duration": 23,
    "start_time": "2022-07-04T21:01:16.845Z"
   },
   {
    "duration": 28,
    "start_time": "2022-07-04T21:01:37.756Z"
   },
   {
    "duration": 30,
    "start_time": "2022-07-04T21:02:35.397Z"
   },
   {
    "duration": 41,
    "start_time": "2022-07-04T21:02:45.399Z"
   },
   {
    "duration": 24,
    "start_time": "2022-07-04T21:03:29.874Z"
   },
   {
    "duration": 19,
    "start_time": "2022-07-04T21:04:14.172Z"
   },
   {
    "duration": 9,
    "start_time": "2022-07-04T21:04:34.667Z"
   },
   {
    "duration": 442,
    "start_time": "2022-07-04T21:06:33.937Z"
   },
   {
    "duration": 338,
    "start_time": "2022-07-04T21:06:40.945Z"
   },
   {
    "duration": 1193,
    "start_time": "2022-07-04T21:10:22.722Z"
   },
   {
    "duration": 317,
    "start_time": "2022-07-04T21:10:23.918Z"
   },
   {
    "duration": 5,
    "start_time": "2022-07-04T21:10:24.237Z"
   },
   {
    "duration": 262,
    "start_time": "2022-07-04T21:10:24.245Z"
   },
   {
    "duration": 22,
    "start_time": "2022-07-04T21:10:24.510Z"
   },
   {
    "duration": 37,
    "start_time": "2022-07-04T21:10:24.535Z"
   },
   {
    "duration": 70,
    "start_time": "2022-07-04T21:10:24.574Z"
   },
   {
    "duration": 62,
    "start_time": "2022-07-04T21:10:24.646Z"
   },
   {
    "duration": 16,
    "start_time": "2022-07-04T21:10:24.710Z"
   },
   {
    "duration": 13,
    "start_time": "2022-07-04T21:10:24.729Z"
   },
   {
    "duration": 18,
    "start_time": "2022-07-04T21:10:24.744Z"
   },
   {
    "duration": 103,
    "start_time": "2022-07-04T21:10:24.764Z"
   },
   {
    "duration": 101,
    "start_time": "2022-07-04T21:10:24.869Z"
   },
   {
    "duration": 38,
    "start_time": "2022-07-04T21:10:24.972Z"
   },
   {
    "duration": 4,
    "start_time": "2022-07-04T21:10:25.013Z"
   },
   {
    "duration": 16,
    "start_time": "2022-07-04T21:10:25.019Z"
   },
   {
    "duration": 42,
    "start_time": "2022-07-04T21:10:25.037Z"
   },
   {
    "duration": 23,
    "start_time": "2022-07-04T21:10:25.081Z"
   },
   {
    "duration": 303,
    "start_time": "2022-07-04T21:10:25.106Z"
   },
   {
    "duration": 3,
    "start_time": "2022-07-04T21:10:25.411Z"
   },
   {
    "duration": 8,
    "start_time": "2022-07-04T21:10:25.416Z"
   },
   {
    "duration": 6,
    "start_time": "2022-07-04T21:10:25.426Z"
   },
   {
    "duration": 5,
    "start_time": "2022-07-04T21:10:25.433Z"
   },
   {
    "duration": 12,
    "start_time": "2022-07-04T21:10:25.440Z"
   },
   {
    "duration": 59,
    "start_time": "2022-07-04T21:10:25.454Z"
   },
   {
    "duration": 199,
    "start_time": "2022-07-04T21:10:25.515Z"
   },
   {
    "duration": 527,
    "start_time": "2022-07-04T21:10:25.716Z"
   },
   {
    "duration": 6,
    "start_time": "2022-07-04T21:10:26.247Z"
   },
   {
    "duration": 12,
    "start_time": "2022-07-04T21:10:26.255Z"
   },
   {
    "duration": 11,
    "start_time": "2022-07-04T21:10:26.269Z"
   },
   {
    "duration": 33,
    "start_time": "2022-07-04T21:10:26.282Z"
   },
   {
    "duration": 168,
    "start_time": "2022-07-04T21:10:26.317Z"
   },
   {
    "duration": 23,
    "start_time": "2022-07-04T21:10:26.487Z"
   },
   {
    "duration": 166,
    "start_time": "2022-07-04T21:10:26.512Z"
   },
   {
    "duration": 21,
    "start_time": "2022-07-04T21:10:26.680Z"
   },
   {
    "duration": 362,
    "start_time": "2022-07-04T21:10:26.703Z"
   },
   {
    "duration": 20,
    "start_time": "2022-07-04T21:10:27.067Z"
   },
   {
    "duration": 41,
    "start_time": "2022-07-04T21:10:27.088Z"
   },
   {
    "duration": 45,
    "start_time": "2022-07-04T21:10:27.131Z"
   },
   {
    "duration": 33,
    "start_time": "2022-07-04T21:10:27.177Z"
   },
   {
    "duration": 5,
    "start_time": "2022-07-04T21:10:27.212Z"
   },
   {
    "duration": 9,
    "start_time": "2022-07-04T21:10:27.219Z"
   },
   {
    "duration": 12,
    "start_time": "2022-07-04T21:10:27.230Z"
   },
   {
    "duration": 78,
    "start_time": "2022-07-04T21:10:27.243Z"
   },
   {
    "duration": 15,
    "start_time": "2022-07-04T21:10:27.323Z"
   },
   {
    "duration": 11,
    "start_time": "2022-07-04T21:10:27.340Z"
   },
   {
    "duration": 53,
    "start_time": "2022-07-04T21:10:27.354Z"
   },
   {
    "duration": 5,
    "start_time": "2022-07-04T21:10:27.409Z"
   },
   {
    "duration": 27,
    "start_time": "2022-07-04T21:10:27.416Z"
   },
   {
    "duration": 147,
    "start_time": "2022-07-04T21:10:27.445Z"
   },
   {
    "duration": 0,
    "start_time": "2022-07-04T21:10:27.594Z"
   },
   {
    "duration": 0,
    "start_time": "2022-07-04T21:10:27.596Z"
   },
   {
    "duration": 0,
    "start_time": "2022-07-04T21:10:27.601Z"
   },
   {
    "duration": 0,
    "start_time": "2022-07-04T21:10:27.602Z"
   },
   {
    "duration": 0,
    "start_time": "2022-07-04T21:10:27.604Z"
   },
   {
    "duration": 0,
    "start_time": "2022-07-04T21:10:27.605Z"
   },
   {
    "duration": 0,
    "start_time": "2022-07-04T21:10:27.606Z"
   },
   {
    "duration": 0,
    "start_time": "2022-07-04T21:10:27.607Z"
   },
   {
    "duration": 0,
    "start_time": "2022-07-04T21:10:27.608Z"
   },
   {
    "duration": 0,
    "start_time": "2022-07-04T21:10:27.609Z"
   },
   {
    "duration": 0,
    "start_time": "2022-07-04T21:10:27.611Z"
   },
   {
    "duration": 0,
    "start_time": "2022-07-04T21:10:27.612Z"
   },
   {
    "duration": 1,
    "start_time": "2022-07-04T21:10:27.613Z"
   },
   {
    "duration": 0,
    "start_time": "2022-07-04T21:10:27.615Z"
   },
   {
    "duration": 0,
    "start_time": "2022-07-04T21:10:27.616Z"
   },
   {
    "duration": 0,
    "start_time": "2022-07-04T21:10:27.617Z"
   },
   {
    "duration": 0,
    "start_time": "2022-07-04T21:10:27.619Z"
   },
   {
    "duration": 0,
    "start_time": "2022-07-04T21:10:27.620Z"
   },
   {
    "duration": 0,
    "start_time": "2022-07-04T21:10:27.622Z"
   },
   {
    "duration": 0,
    "start_time": "2022-07-04T21:10:27.623Z"
   },
   {
    "duration": 0,
    "start_time": "2022-07-04T21:10:27.625Z"
   },
   {
    "duration": 0,
    "start_time": "2022-07-04T21:10:27.626Z"
   },
   {
    "duration": 0,
    "start_time": "2022-07-04T21:10:27.627Z"
   },
   {
    "duration": 0,
    "start_time": "2022-07-04T21:10:27.628Z"
   },
   {
    "duration": 0,
    "start_time": "2022-07-04T21:10:27.630Z"
   },
   {
    "duration": 0,
    "start_time": "2022-07-04T21:10:27.631Z"
   },
   {
    "duration": 0,
    "start_time": "2022-07-04T21:10:27.633Z"
   },
   {
    "duration": 0,
    "start_time": "2022-07-04T21:10:27.634Z"
   },
   {
    "duration": 0,
    "start_time": "2022-07-04T21:10:27.636Z"
   },
   {
    "duration": 0,
    "start_time": "2022-07-04T21:10:27.637Z"
   },
   {
    "duration": 0,
    "start_time": "2022-07-04T21:10:27.701Z"
   },
   {
    "duration": 0,
    "start_time": "2022-07-04T21:10:27.702Z"
   },
   {
    "duration": 0,
    "start_time": "2022-07-04T21:10:27.704Z"
   },
   {
    "duration": 0,
    "start_time": "2022-07-04T21:10:27.705Z"
   },
   {
    "duration": 0,
    "start_time": "2022-07-04T21:10:27.706Z"
   },
   {
    "duration": 16,
    "start_time": "2022-07-04T21:10:58.543Z"
   },
   {
    "duration": 8,
    "start_time": "2022-07-04T21:11:00.185Z"
   },
   {
    "duration": 212,
    "start_time": "2022-07-04T21:11:45.278Z"
   },
   {
    "duration": 181,
    "start_time": "2022-07-04T21:13:32.424Z"
   },
   {
    "duration": 20,
    "start_time": "2022-07-04T21:13:48.665Z"
   },
   {
    "duration": 240,
    "start_time": "2022-07-04T21:13:49.610Z"
   },
   {
    "duration": 195,
    "start_time": "2022-07-04T21:14:27.943Z"
   },
   {
    "duration": 50,
    "start_time": "2022-07-04T21:14:55.067Z"
   },
   {
    "duration": 184,
    "start_time": "2022-07-04T21:15:03.525Z"
   },
   {
    "duration": 203,
    "start_time": "2022-07-04T21:15:25.426Z"
   },
   {
    "duration": 196,
    "start_time": "2022-07-04T21:15:39.339Z"
   },
   {
    "duration": 3,
    "start_time": "2022-07-04T21:18:00.985Z"
   },
   {
    "duration": 25,
    "start_time": "2022-07-04T21:18:30.234Z"
   },
   {
    "duration": 186,
    "start_time": "2022-07-04T21:19:46.736Z"
   },
   {
    "duration": 337,
    "start_time": "2022-07-04T21:23:58.898Z"
   },
   {
    "duration": 346,
    "start_time": "2022-07-04T21:24:07.457Z"
   },
   {
    "duration": 58,
    "start_time": "2022-07-04T21:28:44.408Z"
   },
   {
    "duration": 21,
    "start_time": "2022-07-04T21:29:02.109Z"
   },
   {
    "duration": 13,
    "start_time": "2022-07-04T21:29:33.287Z"
   },
   {
    "duration": 11,
    "start_time": "2022-07-04T21:30:05.842Z"
   },
   {
    "duration": 13,
    "start_time": "2022-07-04T21:30:09.114Z"
   },
   {
    "duration": 16,
    "start_time": "2022-07-04T21:30:21.815Z"
   },
   {
    "duration": 11,
    "start_time": "2022-07-04T21:30:33.096Z"
   },
   {
    "duration": 29,
    "start_time": "2022-07-04T21:35:32.101Z"
   },
   {
    "duration": 17,
    "start_time": "2022-07-04T21:35:38.837Z"
   },
   {
    "duration": 555,
    "start_time": "2022-07-04T21:37:06.791Z"
   },
   {
    "duration": 424,
    "start_time": "2022-07-04T21:38:06.410Z"
   },
   {
    "duration": 571,
    "start_time": "2022-07-04T21:39:00.497Z"
   },
   {
    "duration": 469,
    "start_time": "2022-07-04T21:40:02.904Z"
   },
   {
    "duration": 9,
    "start_time": "2022-07-04T21:40:28.559Z"
   },
   {
    "duration": 53,
    "start_time": "2022-07-04T21:40:31.491Z"
   },
   {
    "duration": 3,
    "start_time": "2022-07-04T21:40:33.453Z"
   },
   {
    "duration": 50,
    "start_time": "2022-07-04T21:40:53.341Z"
   },
   {
    "duration": 223,
    "start_time": "2022-07-04T21:40:58.245Z"
   },
   {
    "duration": 14,
    "start_time": "2022-07-04T21:41:07.575Z"
   },
   {
    "duration": 562,
    "start_time": "2022-07-04T21:41:17.295Z"
   },
   {
    "duration": 493,
    "start_time": "2022-07-04T21:41:34.145Z"
   },
   {
    "duration": 270,
    "start_time": "2022-07-04T21:42:43.782Z"
   },
   {
    "duration": 189,
    "start_time": "2022-07-04T21:43:07.709Z"
   },
   {
    "duration": 548,
    "start_time": "2022-07-04T21:46:59.002Z"
   },
   {
    "duration": 1125,
    "start_time": "2022-07-04T21:47:13.437Z"
   },
   {
    "duration": 218,
    "start_time": "2022-07-04T21:47:14.564Z"
   },
   {
    "duration": 3,
    "start_time": "2022-07-04T21:47:14.784Z"
   },
   {
    "duration": 225,
    "start_time": "2022-07-04T21:47:14.789Z"
   },
   {
    "duration": 20,
    "start_time": "2022-07-04T21:47:15.016Z"
   },
   {
    "duration": 37,
    "start_time": "2022-07-04T21:47:15.038Z"
   },
   {
    "duration": 30,
    "start_time": "2022-07-04T21:47:15.100Z"
   },
   {
    "duration": 35,
    "start_time": "2022-07-04T21:47:15.131Z"
   },
   {
    "duration": 41,
    "start_time": "2022-07-04T21:47:15.168Z"
   },
   {
    "duration": 14,
    "start_time": "2022-07-04T21:47:15.213Z"
   },
   {
    "duration": 24,
    "start_time": "2022-07-04T21:47:15.229Z"
   },
   {
    "duration": 116,
    "start_time": "2022-07-04T21:47:15.256Z"
   },
   {
    "duration": 81,
    "start_time": "2022-07-04T21:47:15.375Z"
   },
   {
    "duration": 28,
    "start_time": "2022-07-04T21:47:15.458Z"
   },
   {
    "duration": 4,
    "start_time": "2022-07-04T21:47:15.501Z"
   },
   {
    "duration": 19,
    "start_time": "2022-07-04T21:47:15.507Z"
   },
   {
    "duration": 28,
    "start_time": "2022-07-04T21:47:15.528Z"
   },
   {
    "duration": 5,
    "start_time": "2022-07-04T21:47:15.558Z"
   },
   {
    "duration": 213,
    "start_time": "2022-07-04T21:47:15.565Z"
   },
   {
    "duration": 2,
    "start_time": "2022-07-04T21:47:15.780Z"
   },
   {
    "duration": 5,
    "start_time": "2022-07-04T21:47:15.784Z"
   },
   {
    "duration": 3,
    "start_time": "2022-07-04T21:47:15.801Z"
   },
   {
    "duration": 27,
    "start_time": "2022-07-04T21:47:15.806Z"
   },
   {
    "duration": 7,
    "start_time": "2022-07-04T21:47:15.835Z"
   },
   {
    "duration": 35,
    "start_time": "2022-07-04T21:47:15.843Z"
   },
   {
    "duration": 177,
    "start_time": "2022-07-04T21:47:15.880Z"
   },
   {
    "duration": 531,
    "start_time": "2022-07-04T21:47:16.059Z"
   },
   {
    "duration": 8,
    "start_time": "2022-07-04T21:47:16.602Z"
   },
   {
    "duration": 7,
    "start_time": "2022-07-04T21:47:16.612Z"
   },
   {
    "duration": 8,
    "start_time": "2022-07-04T21:47:16.621Z"
   },
   {
    "duration": 17,
    "start_time": "2022-07-04T21:47:16.631Z"
   },
   {
    "duration": 186,
    "start_time": "2022-07-04T21:47:16.650Z"
   },
   {
    "duration": 17,
    "start_time": "2022-07-04T21:47:16.838Z"
   },
   {
    "duration": 225,
    "start_time": "2022-07-04T21:47:16.857Z"
   },
   {
    "duration": 26,
    "start_time": "2022-07-04T21:47:17.085Z"
   },
   {
    "duration": 359,
    "start_time": "2022-07-04T21:47:17.114Z"
   },
   {
    "duration": 24,
    "start_time": "2022-07-04T21:47:17.475Z"
   },
   {
    "duration": 48,
    "start_time": "2022-07-04T21:47:17.501Z"
   },
   {
    "duration": 38,
    "start_time": "2022-07-04T21:47:17.550Z"
   },
   {
    "duration": 30,
    "start_time": "2022-07-04T21:47:17.589Z"
   },
   {
    "duration": 8,
    "start_time": "2022-07-04T21:47:17.621Z"
   },
   {
    "duration": 6,
    "start_time": "2022-07-04T21:47:17.631Z"
   },
   {
    "duration": 12,
    "start_time": "2022-07-04T21:47:17.639Z"
   },
   {
    "duration": 84,
    "start_time": "2022-07-04T21:47:17.653Z"
   },
   {
    "duration": 16,
    "start_time": "2022-07-04T21:47:17.739Z"
   },
   {
    "duration": 9,
    "start_time": "2022-07-04T21:47:17.757Z"
   },
   {
    "duration": 46,
    "start_time": "2022-07-04T21:47:17.768Z"
   },
   {
    "duration": 3,
    "start_time": "2022-07-04T21:47:17.816Z"
   },
   {
    "duration": 21,
    "start_time": "2022-07-04T21:47:17.820Z"
   },
   {
    "duration": 28,
    "start_time": "2022-07-04T21:47:17.843Z"
   },
   {
    "duration": 203,
    "start_time": "2022-07-04T21:47:17.872Z"
   },
   {
    "duration": 3,
    "start_time": "2022-07-04T21:47:18.077Z"
   },
   {
    "duration": 32,
    "start_time": "2022-07-04T21:47:18.082Z"
   },
   {
    "duration": 188,
    "start_time": "2022-07-04T21:47:18.115Z"
   },
   {
    "duration": 416,
    "start_time": "2022-07-04T21:47:18.305Z"
   },
   {
    "duration": 338,
    "start_time": "2022-07-04T21:47:18.723Z"
   },
   {
    "duration": 11,
    "start_time": "2022-07-04T21:47:19.063Z"
   },
   {
    "duration": 42,
    "start_time": "2022-07-04T21:47:19.076Z"
   },
   {
    "duration": 526,
    "start_time": "2022-07-04T21:47:19.120Z"
   },
   {
    "duration": 223,
    "start_time": "2022-07-04T21:47:19.648Z"
   },
   {
    "duration": 107,
    "start_time": "2022-07-04T21:47:19.873Z"
   },
   {
    "duration": 0,
    "start_time": "2022-07-04T21:47:19.982Z"
   },
   {
    "duration": 0,
    "start_time": "2022-07-04T21:47:19.984Z"
   },
   {
    "duration": 0,
    "start_time": "2022-07-04T21:47:19.986Z"
   },
   {
    "duration": 0,
    "start_time": "2022-07-04T21:47:19.987Z"
   },
   {
    "duration": 0,
    "start_time": "2022-07-04T21:47:20.001Z"
   },
   {
    "duration": 0,
    "start_time": "2022-07-04T21:47:20.002Z"
   },
   {
    "duration": 0,
    "start_time": "2022-07-04T21:47:20.004Z"
   },
   {
    "duration": 0,
    "start_time": "2022-07-04T21:47:20.005Z"
   },
   {
    "duration": 0,
    "start_time": "2022-07-04T21:47:20.006Z"
   },
   {
    "duration": 0,
    "start_time": "2022-07-04T21:47:20.008Z"
   },
   {
    "duration": 0,
    "start_time": "2022-07-04T21:47:20.009Z"
   },
   {
    "duration": 0,
    "start_time": "2022-07-04T21:47:20.010Z"
   },
   {
    "duration": 0,
    "start_time": "2022-07-04T21:47:20.011Z"
   },
   {
    "duration": 0,
    "start_time": "2022-07-04T21:47:20.012Z"
   },
   {
    "duration": 0,
    "start_time": "2022-07-04T21:47:20.013Z"
   },
   {
    "duration": 0,
    "start_time": "2022-07-04T21:47:20.014Z"
   },
   {
    "duration": 0,
    "start_time": "2022-07-04T21:47:20.015Z"
   },
   {
    "duration": 0,
    "start_time": "2022-07-04T21:47:20.016Z"
   },
   {
    "duration": 0,
    "start_time": "2022-07-04T21:47:20.018Z"
   },
   {
    "duration": 0,
    "start_time": "2022-07-04T21:47:20.019Z"
   },
   {
    "duration": 0,
    "start_time": "2022-07-04T21:47:20.020Z"
   },
   {
    "duration": 0,
    "start_time": "2022-07-04T21:47:20.021Z"
   },
   {
    "duration": 0,
    "start_time": "2022-07-04T21:47:20.022Z"
   },
   {
    "duration": 0,
    "start_time": "2022-07-04T21:47:20.023Z"
   },
   {
    "duration": 0,
    "start_time": "2022-07-04T21:47:20.025Z"
   },
   {
    "duration": 0,
    "start_time": "2022-07-04T21:47:20.026Z"
   },
   {
    "duration": 0,
    "start_time": "2022-07-04T21:47:20.027Z"
   },
   {
    "duration": 0,
    "start_time": "2022-07-04T21:47:20.028Z"
   },
   {
    "duration": 0,
    "start_time": "2022-07-04T21:47:20.030Z"
   },
   {
    "duration": 29,
    "start_time": "2022-07-04T21:48:45.283Z"
   },
   {
    "duration": 585,
    "start_time": "2022-07-04T21:48:46.359Z"
   },
   {
    "duration": 25,
    "start_time": "2022-07-04T21:49:28.260Z"
   },
   {
    "duration": 38,
    "start_time": "2022-07-04T21:49:45.567Z"
   },
   {
    "duration": 15,
    "start_time": "2022-07-04T21:49:58.941Z"
   },
   {
    "duration": 40,
    "start_time": "2022-07-04T21:49:59.900Z"
   },
   {
    "duration": 27,
    "start_time": "2022-07-04T21:50:49.661Z"
   },
   {
    "duration": 29,
    "start_time": "2022-07-04T21:50:50.107Z"
   },
   {
    "duration": 32,
    "start_time": "2022-07-04T21:51:44.648Z"
   },
   {
    "duration": 32,
    "start_time": "2022-07-04T21:51:45.168Z"
   },
   {
    "duration": 48,
    "start_time": "2022-07-04T21:53:31.699Z"
   },
   {
    "duration": 23,
    "start_time": "2022-07-04T21:53:32.139Z"
   },
   {
    "duration": 700,
    "start_time": "2022-07-04T21:53:37.905Z"
   },
   {
    "duration": 247,
    "start_time": "2022-07-04T21:53:54.208Z"
   },
   {
    "duration": 1247,
    "start_time": "2022-07-04T21:55:39.584Z"
   },
   {
    "duration": 234,
    "start_time": "2022-07-04T21:55:40.833Z"
   },
   {
    "duration": 4,
    "start_time": "2022-07-04T21:55:41.068Z"
   },
   {
    "duration": 292,
    "start_time": "2022-07-04T21:55:41.075Z"
   },
   {
    "duration": 20,
    "start_time": "2022-07-04T21:55:41.368Z"
   },
   {
    "duration": 30,
    "start_time": "2022-07-04T21:55:41.401Z"
   },
   {
    "duration": 29,
    "start_time": "2022-07-04T21:55:41.432Z"
   },
   {
    "duration": 72,
    "start_time": "2022-07-04T21:55:41.462Z"
   },
   {
    "duration": 24,
    "start_time": "2022-07-04T21:55:41.535Z"
   },
   {
    "duration": 10,
    "start_time": "2022-07-04T21:55:41.562Z"
   },
   {
    "duration": 28,
    "start_time": "2022-07-04T21:55:41.574Z"
   },
   {
    "duration": 71,
    "start_time": "2022-07-04T21:55:41.609Z"
   },
   {
    "duration": 78,
    "start_time": "2022-07-04T21:55:41.682Z"
   },
   {
    "duration": 29,
    "start_time": "2022-07-04T21:55:41.762Z"
   },
   {
    "duration": 20,
    "start_time": "2022-07-04T21:55:41.793Z"
   },
   {
    "duration": 19,
    "start_time": "2022-07-04T21:55:41.818Z"
   },
   {
    "duration": 34,
    "start_time": "2022-07-04T21:55:41.838Z"
   },
   {
    "duration": 5,
    "start_time": "2022-07-04T21:55:41.874Z"
   },
   {
    "duration": 215,
    "start_time": "2022-07-04T21:55:41.881Z"
   },
   {
    "duration": 11,
    "start_time": "2022-07-04T21:55:42.099Z"
   },
   {
    "duration": 19,
    "start_time": "2022-07-04T21:55:42.112Z"
   },
   {
    "duration": 9,
    "start_time": "2022-07-04T21:55:42.133Z"
   },
   {
    "duration": 8,
    "start_time": "2022-07-04T21:55:42.144Z"
   },
   {
    "duration": 7,
    "start_time": "2022-07-04T21:55:42.154Z"
   },
   {
    "duration": 37,
    "start_time": "2022-07-04T21:55:42.163Z"
   },
   {
    "duration": 204,
    "start_time": "2022-07-04T21:55:42.203Z"
   },
   {
    "duration": 552,
    "start_time": "2022-07-04T21:55:42.410Z"
   },
   {
    "duration": 6,
    "start_time": "2022-07-04T21:55:42.966Z"
   },
   {
    "duration": 9,
    "start_time": "2022-07-04T21:55:42.973Z"
   },
   {
    "duration": 25,
    "start_time": "2022-07-04T21:55:42.985Z"
   },
   {
    "duration": 25,
    "start_time": "2022-07-04T21:55:43.015Z"
   },
   {
    "duration": 142,
    "start_time": "2022-07-04T21:55:43.042Z"
   },
   {
    "duration": 25,
    "start_time": "2022-07-04T21:55:43.186Z"
   },
   {
    "duration": 151,
    "start_time": "2022-07-04T21:55:43.212Z"
   },
   {
    "duration": 13,
    "start_time": "2022-07-04T21:55:43.365Z"
   },
   {
    "duration": 361,
    "start_time": "2022-07-04T21:55:43.380Z"
   },
   {
    "duration": 20,
    "start_time": "2022-07-04T21:55:43.743Z"
   },
   {
    "duration": 49,
    "start_time": "2022-07-04T21:55:43.765Z"
   },
   {
    "duration": 42,
    "start_time": "2022-07-04T21:55:43.820Z"
   },
   {
    "duration": 41,
    "start_time": "2022-07-04T21:55:43.864Z"
   },
   {
    "duration": 6,
    "start_time": "2022-07-04T21:55:43.907Z"
   },
   {
    "duration": 24,
    "start_time": "2022-07-04T21:55:43.915Z"
   },
   {
    "duration": 15,
    "start_time": "2022-07-04T21:55:43.942Z"
   },
   {
    "duration": 56,
    "start_time": "2022-07-04T21:55:43.959Z"
   },
   {
    "duration": 23,
    "start_time": "2022-07-04T21:55:44.017Z"
   },
   {
    "duration": 15,
    "start_time": "2022-07-04T21:55:44.042Z"
   },
   {
    "duration": 48,
    "start_time": "2022-07-04T21:55:44.060Z"
   },
   {
    "duration": 5,
    "start_time": "2022-07-04T21:55:44.117Z"
   },
   {
    "duration": 33,
    "start_time": "2022-07-04T21:55:44.124Z"
   },
   {
    "duration": 31,
    "start_time": "2022-07-04T21:55:44.159Z"
   },
   {
    "duration": 187,
    "start_time": "2022-07-04T21:55:44.192Z"
   },
   {
    "duration": 3,
    "start_time": "2022-07-04T21:55:44.381Z"
   },
   {
    "duration": 36,
    "start_time": "2022-07-04T21:55:44.385Z"
   },
   {
    "duration": 216,
    "start_time": "2022-07-04T21:55:44.423Z"
   },
   {
    "duration": 446,
    "start_time": "2022-07-04T21:55:44.641Z"
   },
   {
    "duration": 419,
    "start_time": "2022-07-04T21:55:45.089Z"
   },
   {
    "duration": 21,
    "start_time": "2022-07-04T21:55:45.510Z"
   },
   {
    "duration": 71,
    "start_time": "2022-07-04T21:55:45.533Z"
   },
   {
    "duration": 490,
    "start_time": "2022-07-04T21:55:45.610Z"
   },
   {
    "duration": 192,
    "start_time": "2022-07-04T21:55:46.105Z"
   },
   {
    "duration": 132,
    "start_time": "2022-07-04T21:55:46.300Z"
   },
   {
    "duration": 0,
    "start_time": "2022-07-04T21:55:46.434Z"
   },
   {
    "duration": 0,
    "start_time": "2022-07-04T21:55:46.436Z"
   },
   {
    "duration": 0,
    "start_time": "2022-07-04T21:55:46.437Z"
   },
   {
    "duration": 0,
    "start_time": "2022-07-04T21:55:46.438Z"
   },
   {
    "duration": 0,
    "start_time": "2022-07-04T21:55:46.440Z"
   },
   {
    "duration": 0,
    "start_time": "2022-07-04T21:55:46.441Z"
   },
   {
    "duration": 0,
    "start_time": "2022-07-04T21:55:46.443Z"
   },
   {
    "duration": 0,
    "start_time": "2022-07-04T21:55:46.444Z"
   },
   {
    "duration": 0,
    "start_time": "2022-07-04T21:55:46.445Z"
   },
   {
    "duration": 0,
    "start_time": "2022-07-04T21:55:46.446Z"
   },
   {
    "duration": 1,
    "start_time": "2022-07-04T21:55:46.446Z"
   },
   {
    "duration": 0,
    "start_time": "2022-07-04T21:55:46.448Z"
   },
   {
    "duration": 0,
    "start_time": "2022-07-04T21:55:46.449Z"
   },
   {
    "duration": 0,
    "start_time": "2022-07-04T21:55:46.450Z"
   },
   {
    "duration": 0,
    "start_time": "2022-07-04T21:55:46.451Z"
   },
   {
    "duration": 0,
    "start_time": "2022-07-04T21:55:46.452Z"
   },
   {
    "duration": 0,
    "start_time": "2022-07-04T21:55:46.453Z"
   },
   {
    "duration": 0,
    "start_time": "2022-07-04T21:55:46.454Z"
   },
   {
    "duration": 0,
    "start_time": "2022-07-04T21:55:46.455Z"
   },
   {
    "duration": 0,
    "start_time": "2022-07-04T21:55:46.456Z"
   },
   {
    "duration": 0,
    "start_time": "2022-07-04T21:55:46.458Z"
   },
   {
    "duration": 0,
    "start_time": "2022-07-04T21:55:46.459Z"
   },
   {
    "duration": 0,
    "start_time": "2022-07-04T21:55:46.460Z"
   },
   {
    "duration": 0,
    "start_time": "2022-07-04T21:55:46.501Z"
   },
   {
    "duration": 0,
    "start_time": "2022-07-04T21:55:46.502Z"
   },
   {
    "duration": 0,
    "start_time": "2022-07-04T21:55:46.503Z"
   },
   {
    "duration": 0,
    "start_time": "2022-07-04T21:55:46.503Z"
   },
   {
    "duration": 0,
    "start_time": "2022-07-04T21:55:46.504Z"
   },
   {
    "duration": 0,
    "start_time": "2022-07-04T21:55:46.505Z"
   },
   {
    "duration": 4,
    "start_time": "2022-07-04T21:58:21.543Z"
   },
   {
    "duration": 11,
    "start_time": "2022-07-04T21:58:49.292Z"
   },
   {
    "duration": 17,
    "start_time": "2022-07-04T21:58:56.578Z"
   },
   {
    "duration": 519,
    "start_time": "2022-07-04T21:59:48.032Z"
   },
   {
    "duration": 531,
    "start_time": "2022-07-04T22:00:00.355Z"
   },
   {
    "duration": 6,
    "start_time": "2022-07-04T22:02:29.515Z"
   },
   {
    "duration": 48,
    "start_time": "2022-07-04T22:03:50.187Z"
   },
   {
    "duration": 74,
    "start_time": "2022-07-04T22:03:51.512Z"
   },
   {
    "duration": 62,
    "start_time": "2022-07-04T22:14:27.168Z"
   },
   {
    "duration": 4,
    "start_time": "2022-07-04T22:14:55.821Z"
   },
   {
    "duration": 5,
    "start_time": "2022-07-04T22:14:58.451Z"
   },
   {
    "duration": 4,
    "start_time": "2022-07-04T22:15:01.141Z"
   },
   {
    "duration": 5,
    "start_time": "2022-07-04T22:15:03.822Z"
   },
   {
    "duration": 5,
    "start_time": "2022-07-04T22:15:05.920Z"
   },
   {
    "duration": 5,
    "start_time": "2022-07-04T22:15:06.251Z"
   },
   {
    "duration": 5,
    "start_time": "2022-07-04T22:15:06.713Z"
   },
   {
    "duration": 5,
    "start_time": "2022-07-04T22:15:08.161Z"
   },
   {
    "duration": 4,
    "start_time": "2022-07-04T22:15:08.520Z"
   },
   {
    "duration": 5,
    "start_time": "2022-07-04T22:15:08.873Z"
   },
   {
    "duration": 5,
    "start_time": "2022-07-04T22:15:09.992Z"
   },
   {
    "duration": 13,
    "start_time": "2022-07-04T22:15:10.300Z"
   },
   {
    "duration": 5,
    "start_time": "2022-07-04T22:15:10.818Z"
   },
   {
    "duration": 15,
    "start_time": "2022-07-04T22:15:12.554Z"
   },
   {
    "duration": 9,
    "start_time": "2022-07-04T22:15:13.171Z"
   },
   {
    "duration": 18,
    "start_time": "2022-07-04T22:19:25.832Z"
   },
   {
    "duration": 3,
    "start_time": "2022-07-04T22:19:44.661Z"
   },
   {
    "duration": 16,
    "start_time": "2022-07-04T22:19:45.299Z"
   },
   {
    "duration": 3,
    "start_time": "2022-07-04T22:20:23.282Z"
   },
   {
    "duration": 8,
    "start_time": "2022-07-04T22:20:30.735Z"
   },
   {
    "duration": 15,
    "start_time": "2022-07-04T22:21:26.515Z"
   },
   {
    "duration": 8,
    "start_time": "2022-07-04T22:23:46.180Z"
   },
   {
    "duration": 7,
    "start_time": "2022-07-04T22:25:16.659Z"
   },
   {
    "duration": 30,
    "start_time": "2022-07-04T22:25:41.748Z"
   },
   {
    "duration": 42,
    "start_time": "2022-07-04T22:26:02.152Z"
   },
   {
    "duration": 4,
    "start_time": "2022-07-04T22:26:10.915Z"
   },
   {
    "duration": 6,
    "start_time": "2022-07-04T22:26:19.631Z"
   },
   {
    "duration": 6,
    "start_time": "2022-07-04T22:26:23.157Z"
   },
   {
    "duration": 10,
    "start_time": "2022-07-04T22:27:33.061Z"
   },
   {
    "duration": 9,
    "start_time": "2022-07-04T22:28:03.645Z"
   },
   {
    "duration": 32,
    "start_time": "2022-07-04T22:28:31.917Z"
   },
   {
    "duration": 8,
    "start_time": "2022-07-04T22:29:00.082Z"
   },
   {
    "duration": 4,
    "start_time": "2022-07-04T22:29:15.161Z"
   },
   {
    "duration": 4,
    "start_time": "2022-07-04T22:29:50.613Z"
   },
   {
    "duration": 6,
    "start_time": "2022-07-04T22:31:16.779Z"
   },
   {
    "duration": 7,
    "start_time": "2022-07-04T22:31:47.666Z"
   },
   {
    "duration": 8,
    "start_time": "2022-07-04T22:31:48.537Z"
   },
   {
    "duration": 1152,
    "start_time": "2022-07-04T22:53:23.627Z"
   },
   {
    "duration": 247,
    "start_time": "2022-07-04T22:53:24.781Z"
   },
   {
    "duration": 4,
    "start_time": "2022-07-04T22:53:25.029Z"
   },
   {
    "duration": 255,
    "start_time": "2022-07-04T22:53:25.035Z"
   },
   {
    "duration": 39,
    "start_time": "2022-07-04T22:53:25.294Z"
   },
   {
    "duration": 30,
    "start_time": "2022-07-04T22:53:25.335Z"
   },
   {
    "duration": 50,
    "start_time": "2022-07-04T22:53:25.367Z"
   },
   {
    "duration": 39,
    "start_time": "2022-07-04T22:53:25.420Z"
   },
   {
    "duration": 16,
    "start_time": "2022-07-04T22:53:25.461Z"
   },
   {
    "duration": 35,
    "start_time": "2022-07-04T22:53:25.480Z"
   },
   {
    "duration": 24,
    "start_time": "2022-07-04T22:53:25.517Z"
   },
   {
    "duration": 93,
    "start_time": "2022-07-04T22:53:25.542Z"
   },
   {
    "duration": 62,
    "start_time": "2022-07-04T22:53:25.636Z"
   },
   {
    "duration": 32,
    "start_time": "2022-07-04T22:53:25.708Z"
   },
   {
    "duration": 4,
    "start_time": "2022-07-04T22:53:25.742Z"
   },
   {
    "duration": 14,
    "start_time": "2022-07-04T22:53:25.748Z"
   },
   {
    "duration": 26,
    "start_time": "2022-07-04T22:53:25.764Z"
   },
   {
    "duration": 20,
    "start_time": "2022-07-04T22:53:25.792Z"
   },
   {
    "duration": 200,
    "start_time": "2022-07-04T22:53:25.816Z"
   },
   {
    "duration": 28,
    "start_time": "2022-07-04T22:53:26.018Z"
   },
   {
    "duration": 194,
    "start_time": "2022-07-04T22:53:26.048Z"
   },
   {
    "duration": 514,
    "start_time": "2022-07-04T22:53:26.244Z"
   },
   {
    "duration": 5,
    "start_time": "2022-07-04T22:53:26.760Z"
   },
   {
    "duration": 5,
    "start_time": "2022-07-04T22:53:26.767Z"
   },
   {
    "duration": 44,
    "start_time": "2022-07-04T22:53:26.774Z"
   },
   {
    "duration": 19,
    "start_time": "2022-07-04T22:53:26.819Z"
   },
   {
    "duration": 176,
    "start_time": "2022-07-04T22:53:26.840Z"
   },
   {
    "duration": 13,
    "start_time": "2022-07-04T22:53:27.022Z"
   },
   {
    "duration": 157,
    "start_time": "2022-07-04T22:53:27.036Z"
   },
   {
    "duration": 20,
    "start_time": "2022-07-04T22:53:27.195Z"
   },
   {
    "duration": 323,
    "start_time": "2022-07-04T22:53:27.217Z"
   },
   {
    "duration": 18,
    "start_time": "2022-07-04T22:53:27.542Z"
   },
   {
    "duration": 32,
    "start_time": "2022-07-04T22:53:27.562Z"
   },
   {
    "duration": 48,
    "start_time": "2022-07-04T22:53:27.597Z"
   },
   {
    "duration": 18,
    "start_time": "2022-07-04T22:53:27.647Z"
   },
   {
    "duration": 5,
    "start_time": "2022-07-04T22:53:27.666Z"
   },
   {
    "duration": 7,
    "start_time": "2022-07-04T22:53:27.672Z"
   },
   {
    "duration": 12,
    "start_time": "2022-07-04T22:53:27.680Z"
   },
   {
    "duration": 43,
    "start_time": "2022-07-04T22:53:27.703Z"
   },
   {
    "duration": 12,
    "start_time": "2022-07-04T22:53:27.748Z"
   },
   {
    "duration": 19,
    "start_time": "2022-07-04T22:53:27.761Z"
   },
   {
    "duration": 44,
    "start_time": "2022-07-04T22:53:27.781Z"
   },
   {
    "duration": 3,
    "start_time": "2022-07-04T22:53:27.827Z"
   },
   {
    "duration": 21,
    "start_time": "2022-07-04T22:53:27.832Z"
   },
   {
    "duration": 44,
    "start_time": "2022-07-04T22:53:27.854Z"
   },
   {
    "duration": 151,
    "start_time": "2022-07-04T22:53:27.911Z"
   },
   {
    "duration": 3,
    "start_time": "2022-07-04T22:53:28.063Z"
   },
   {
    "duration": 21,
    "start_time": "2022-07-04T22:53:28.068Z"
   },
   {
    "duration": 191,
    "start_time": "2022-07-04T22:53:28.091Z"
   },
   {
    "duration": 389,
    "start_time": "2022-07-04T22:53:28.284Z"
   },
   {
    "duration": 323,
    "start_time": "2022-07-04T22:53:28.674Z"
   },
   {
    "duration": 14,
    "start_time": "2022-07-04T22:53:29.003Z"
   },
   {
    "duration": 51,
    "start_time": "2022-07-04T22:53:29.019Z"
   },
   {
    "duration": 449,
    "start_time": "2022-07-04T22:53:29.072Z"
   },
   {
    "duration": 174,
    "start_time": "2022-07-04T22:53:29.523Z"
   },
   {
    "duration": 5,
    "start_time": "2022-07-04T22:53:29.701Z"
   },
   {
    "duration": 54,
    "start_time": "2022-07-04T22:53:29.707Z"
   },
   {
    "duration": 68,
    "start_time": "2022-07-04T22:53:29.763Z"
   },
   {
    "duration": 4,
    "start_time": "2022-07-04T22:53:29.833Z"
   },
   {
    "duration": 8,
    "start_time": "2022-07-04T22:53:29.838Z"
   },
   {
    "duration": 6,
    "start_time": "2022-07-04T22:53:29.848Z"
   },
   {
    "duration": 6,
    "start_time": "2022-07-04T22:53:29.855Z"
   },
   {
    "duration": 12,
    "start_time": "2022-07-04T22:53:29.863Z"
   },
   {
    "duration": 9,
    "start_time": "2022-07-04T22:53:29.877Z"
   },
   {
    "duration": 5,
    "start_time": "2022-07-04T22:53:29.901Z"
   },
   {
    "duration": 9,
    "start_time": "2022-07-04T22:53:29.908Z"
   },
   {
    "duration": 8,
    "start_time": "2022-07-04T22:53:29.919Z"
   },
   {
    "duration": 9,
    "start_time": "2022-07-04T22:53:29.928Z"
   },
   {
    "duration": 5,
    "start_time": "2022-07-04T22:53:29.938Z"
   },
   {
    "duration": 7,
    "start_time": "2022-07-04T22:53:29.944Z"
   },
   {
    "duration": 7,
    "start_time": "2022-07-04T22:53:29.952Z"
   },
   {
    "duration": 43,
    "start_time": "2022-07-04T22:53:29.960Z"
   },
   {
    "duration": 11,
    "start_time": "2022-07-04T22:53:30.007Z"
   },
   {
    "duration": 18,
    "start_time": "2022-07-04T22:53:30.020Z"
   },
   {
    "duration": 8,
    "start_time": "2022-07-04T22:53:30.039Z"
   },
   {
    "duration": 12,
    "start_time": "2022-07-04T22:53:30.048Z"
   },
   {
    "duration": 7,
    "start_time": "2022-07-04T22:53:30.062Z"
   },
   {
    "duration": 13,
    "start_time": "2022-07-04T22:53:30.070Z"
   },
   {
    "duration": 10,
    "start_time": "2022-07-04T22:53:30.084Z"
   },
   {
    "duration": 100,
    "start_time": "2022-07-04T22:53:30.105Z"
   },
   {
    "duration": 0,
    "start_time": "2022-07-04T22:53:30.207Z"
   },
   {
    "duration": 0,
    "start_time": "2022-07-04T22:53:30.209Z"
   },
   {
    "duration": 0,
    "start_time": "2022-07-04T22:53:30.210Z"
   },
   {
    "duration": 0,
    "start_time": "2022-07-04T22:53:30.212Z"
   },
   {
    "duration": 0,
    "start_time": "2022-07-04T22:53:30.214Z"
   },
   {
    "duration": 0,
    "start_time": "2022-07-04T22:53:30.216Z"
   },
   {
    "duration": 38,
    "start_time": "2022-07-04T22:53:45.081Z"
   },
   {
    "duration": 1096,
    "start_time": "2022-07-04T22:53:49.980Z"
   },
   {
    "duration": 222,
    "start_time": "2022-07-04T22:53:51.077Z"
   },
   {
    "duration": 6,
    "start_time": "2022-07-04T22:53:51.300Z"
   },
   {
    "duration": 227,
    "start_time": "2022-07-04T22:53:51.309Z"
   },
   {
    "duration": 17,
    "start_time": "2022-07-04T22:53:51.538Z"
   },
   {
    "duration": 25,
    "start_time": "2022-07-04T22:53:51.557Z"
   },
   {
    "duration": 34,
    "start_time": "2022-07-04T22:53:51.603Z"
   },
   {
    "duration": 36,
    "start_time": "2022-07-04T22:53:51.639Z"
   },
   {
    "duration": 40,
    "start_time": "2022-07-04T22:53:51.677Z"
   },
   {
    "duration": 13,
    "start_time": "2022-07-04T22:53:51.720Z"
   },
   {
    "duration": 13,
    "start_time": "2022-07-04T22:53:51.734Z"
   },
   {
    "duration": 94,
    "start_time": "2022-07-04T22:53:51.749Z"
   },
   {
    "duration": 61,
    "start_time": "2022-07-04T22:53:51.845Z"
   },
   {
    "duration": 30,
    "start_time": "2022-07-04T22:53:51.914Z"
   },
   {
    "duration": 4,
    "start_time": "2022-07-04T22:53:51.945Z"
   },
   {
    "duration": 15,
    "start_time": "2022-07-04T22:53:51.950Z"
   },
   {
    "duration": 35,
    "start_time": "2022-07-04T22:53:51.966Z"
   },
   {
    "duration": 14,
    "start_time": "2022-07-04T22:53:52.004Z"
   },
   {
    "duration": 196,
    "start_time": "2022-07-04T22:53:52.019Z"
   },
   {
    "duration": 28,
    "start_time": "2022-07-04T22:53:52.216Z"
   },
   {
    "duration": 201,
    "start_time": "2022-07-04T22:53:52.245Z"
   },
   {
    "duration": 486,
    "start_time": "2022-07-04T22:53:52.450Z"
   },
   {
    "duration": 6,
    "start_time": "2022-07-04T22:53:52.937Z"
   },
   {
    "duration": 5,
    "start_time": "2022-07-04T22:53:52.944Z"
   },
   {
    "duration": 6,
    "start_time": "2022-07-04T22:53:52.950Z"
   },
   {
    "duration": 16,
    "start_time": "2022-07-04T22:53:52.957Z"
   },
   {
    "duration": 149,
    "start_time": "2022-07-04T22:53:52.975Z"
   },
   {
    "duration": 12,
    "start_time": "2022-07-04T22:53:53.128Z"
   },
   {
    "duration": 138,
    "start_time": "2022-07-04T22:53:53.142Z"
   },
   {
    "duration": 21,
    "start_time": "2022-07-04T22:53:53.282Z"
   },
   {
    "duration": 301,
    "start_time": "2022-07-04T22:53:53.311Z"
   },
   {
    "duration": 18,
    "start_time": "2022-07-04T22:53:53.614Z"
   },
   {
    "duration": 33,
    "start_time": "2022-07-04T22:53:53.633Z"
   },
   {
    "duration": 50,
    "start_time": "2022-07-04T22:53:53.667Z"
   },
   {
    "duration": 17,
    "start_time": "2022-07-04T22:53:53.719Z"
   },
   {
    "duration": 12,
    "start_time": "2022-07-04T22:53:53.737Z"
   },
   {
    "duration": 10,
    "start_time": "2022-07-04T22:53:53.750Z"
   },
   {
    "duration": 14,
    "start_time": "2022-07-04T22:53:53.761Z"
   },
   {
    "duration": 45,
    "start_time": "2022-07-04T22:53:53.776Z"
   },
   {
    "duration": 12,
    "start_time": "2022-07-04T22:53:53.822Z"
   },
   {
    "duration": 13,
    "start_time": "2022-07-04T22:53:53.836Z"
   },
   {
    "duration": 33,
    "start_time": "2022-07-04T22:53:53.851Z"
   },
   {
    "duration": 21,
    "start_time": "2022-07-04T22:53:53.886Z"
   },
   {
    "duration": 37,
    "start_time": "2022-07-04T22:53:53.913Z"
   },
   {
    "duration": 28,
    "start_time": "2022-07-04T22:53:53.952Z"
   },
   {
    "duration": 157,
    "start_time": "2022-07-04T22:53:53.983Z"
   },
   {
    "duration": 3,
    "start_time": "2022-07-04T22:53:54.141Z"
   },
   {
    "duration": 18,
    "start_time": "2022-07-04T22:53:54.146Z"
   },
   {
    "duration": 184,
    "start_time": "2022-07-04T22:53:54.166Z"
   },
   {
    "duration": 383,
    "start_time": "2022-07-04T22:53:54.352Z"
   },
   {
    "duration": 324,
    "start_time": "2022-07-04T22:53:54.737Z"
   },
   {
    "duration": 11,
    "start_time": "2022-07-04T22:53:55.062Z"
   },
   {
    "duration": 46,
    "start_time": "2022-07-04T22:53:55.075Z"
   },
   {
    "duration": 489,
    "start_time": "2022-07-04T22:53:55.123Z"
   },
   {
    "duration": 158,
    "start_time": "2022-07-04T22:53:55.613Z"
   },
   {
    "duration": 4,
    "start_time": "2022-07-04T22:53:55.773Z"
   },
   {
    "duration": 55,
    "start_time": "2022-07-04T22:53:55.779Z"
   },
   {
    "duration": 79,
    "start_time": "2022-07-04T22:53:55.836Z"
   },
   {
    "duration": 3,
    "start_time": "2022-07-04T22:53:55.917Z"
   },
   {
    "duration": 8,
    "start_time": "2022-07-04T22:53:55.922Z"
   },
   {
    "duration": 5,
    "start_time": "2022-07-04T22:53:55.932Z"
   },
   {
    "duration": 9,
    "start_time": "2022-07-04T22:53:55.939Z"
   },
   {
    "duration": 4,
    "start_time": "2022-07-04T22:53:55.950Z"
   },
   {
    "duration": 6,
    "start_time": "2022-07-04T22:53:55.956Z"
   },
   {
    "duration": 5,
    "start_time": "2022-07-04T22:53:55.964Z"
   },
   {
    "duration": 5,
    "start_time": "2022-07-04T22:53:55.971Z"
   },
   {
    "duration": 25,
    "start_time": "2022-07-04T22:53:55.977Z"
   },
   {
    "duration": 18,
    "start_time": "2022-07-04T22:53:56.004Z"
   },
   {
    "duration": 6,
    "start_time": "2022-07-04T22:53:56.023Z"
   },
   {
    "duration": 7,
    "start_time": "2022-07-04T22:53:56.030Z"
   },
   {
    "duration": 5,
    "start_time": "2022-07-04T22:53:56.039Z"
   },
   {
    "duration": 17,
    "start_time": "2022-07-04T22:53:56.045Z"
   },
   {
    "duration": 7,
    "start_time": "2022-07-04T22:53:56.064Z"
   },
   {
    "duration": 5,
    "start_time": "2022-07-04T22:53:56.072Z"
   },
   {
    "duration": 27,
    "start_time": "2022-07-04T22:53:56.078Z"
   },
   {
    "duration": 19,
    "start_time": "2022-07-04T22:53:56.111Z"
   },
   {
    "duration": 9,
    "start_time": "2022-07-04T22:53:56.132Z"
   },
   {
    "duration": 10,
    "start_time": "2022-07-04T22:53:56.142Z"
   },
   {
    "duration": 11,
    "start_time": "2022-07-04T22:53:56.153Z"
   },
   {
    "duration": 31,
    "start_time": "2022-07-04T22:53:56.166Z"
   },
   {
    "duration": 51,
    "start_time": "2022-07-04T22:53:56.198Z"
   },
   {
    "duration": 4,
    "start_time": "2022-07-04T22:53:56.254Z"
   },
   {
    "duration": 9,
    "start_time": "2022-07-04T22:53:56.259Z"
   },
   {
    "duration": 9,
    "start_time": "2022-07-04T22:53:56.270Z"
   },
   {
    "duration": 32,
    "start_time": "2022-07-04T22:53:56.281Z"
   },
   {
    "duration": 12,
    "start_time": "2022-07-04T22:53:56.316Z"
   },
   {
    "duration": 1351,
    "start_time": "2022-07-05T17:43:46.119Z"
   },
   {
    "duration": 607,
    "start_time": "2022-07-05T17:43:47.472Z"
   },
   {
    "duration": 5,
    "start_time": "2022-07-05T17:43:48.081Z"
   },
   {
    "duration": 253,
    "start_time": "2022-07-05T17:43:48.088Z"
   },
   {
    "duration": 28,
    "start_time": "2022-07-05T17:43:48.343Z"
   },
   {
    "duration": 28,
    "start_time": "2022-07-05T17:43:48.372Z"
   },
   {
    "duration": 60,
    "start_time": "2022-07-05T17:43:48.402Z"
   },
   {
    "duration": 51,
    "start_time": "2022-07-05T17:43:48.467Z"
   },
   {
    "duration": 27,
    "start_time": "2022-07-05T17:43:48.520Z"
   },
   {
    "duration": 35,
    "start_time": "2022-07-05T17:43:48.549Z"
   },
   {
    "duration": 40,
    "start_time": "2022-07-05T17:43:48.586Z"
   },
   {
    "duration": 108,
    "start_time": "2022-07-05T17:43:48.627Z"
   },
   {
    "duration": 85,
    "start_time": "2022-07-05T17:43:48.737Z"
   },
   {
    "duration": 42,
    "start_time": "2022-07-05T17:43:48.824Z"
   },
   {
    "duration": 17,
    "start_time": "2022-07-05T17:43:48.868Z"
   },
   {
    "duration": 35,
    "start_time": "2022-07-05T17:43:48.886Z"
   },
   {
    "duration": 39,
    "start_time": "2022-07-05T17:43:48.923Z"
   },
   {
    "duration": 29,
    "start_time": "2022-07-05T17:43:48.964Z"
   },
   {
    "duration": 296,
    "start_time": "2022-07-05T17:43:48.995Z"
   },
   {
    "duration": 42,
    "start_time": "2022-07-05T17:43:49.293Z"
   },
   {
    "duration": 255,
    "start_time": "2022-07-05T17:43:49.337Z"
   },
   {
    "duration": 520,
    "start_time": "2022-07-05T17:43:49.595Z"
   },
   {
    "duration": 9,
    "start_time": "2022-07-05T17:43:50.117Z"
   },
   {
    "duration": 23,
    "start_time": "2022-07-05T17:43:50.128Z"
   },
   {
    "duration": 28,
    "start_time": "2022-07-05T17:43:50.153Z"
   },
   {
    "duration": 42,
    "start_time": "2022-07-05T17:43:50.183Z"
   },
   {
    "duration": 150,
    "start_time": "2022-07-05T17:43:50.226Z"
   },
   {
    "duration": 14,
    "start_time": "2022-07-05T17:43:50.380Z"
   },
   {
    "duration": 167,
    "start_time": "2022-07-05T17:43:50.396Z"
   },
   {
    "duration": 12,
    "start_time": "2022-07-05T17:43:50.565Z"
   },
   {
    "duration": 334,
    "start_time": "2022-07-05T17:43:50.578Z"
   },
   {
    "duration": 19,
    "start_time": "2022-07-05T17:43:50.914Z"
   },
   {
    "duration": 56,
    "start_time": "2022-07-05T17:43:50.935Z"
   },
   {
    "duration": 51,
    "start_time": "2022-07-05T17:43:50.993Z"
   },
   {
    "duration": 32,
    "start_time": "2022-07-05T17:43:51.046Z"
   },
   {
    "duration": 19,
    "start_time": "2022-07-05T17:43:51.081Z"
   },
   {
    "duration": 23,
    "start_time": "2022-07-05T17:43:51.102Z"
   },
   {
    "duration": 35,
    "start_time": "2022-07-05T17:43:51.128Z"
   },
   {
    "duration": 57,
    "start_time": "2022-07-05T17:43:51.165Z"
   },
   {
    "duration": 15,
    "start_time": "2022-07-05T17:43:51.224Z"
   },
   {
    "duration": 27,
    "start_time": "2022-07-05T17:43:51.241Z"
   },
   {
    "duration": 61,
    "start_time": "2022-07-05T17:43:51.271Z"
   },
   {
    "duration": 3,
    "start_time": "2022-07-05T17:43:51.334Z"
   },
   {
    "duration": 22,
    "start_time": "2022-07-05T17:43:51.339Z"
   },
   {
    "duration": 56,
    "start_time": "2022-07-05T17:43:51.363Z"
   },
   {
    "duration": 150,
    "start_time": "2022-07-05T17:43:51.421Z"
   },
   {
    "duration": 4,
    "start_time": "2022-07-05T17:43:51.573Z"
   },
   {
    "duration": 49,
    "start_time": "2022-07-05T17:43:51.579Z"
   },
   {
    "duration": 178,
    "start_time": "2022-07-05T17:43:51.630Z"
   },
   {
    "duration": 385,
    "start_time": "2022-07-05T17:43:51.810Z"
   },
   {
    "duration": 367,
    "start_time": "2022-07-05T17:43:52.197Z"
   },
   {
    "duration": 11,
    "start_time": "2022-07-05T17:43:52.567Z"
   },
   {
    "duration": 62,
    "start_time": "2022-07-05T17:43:52.581Z"
   },
   {
    "duration": 446,
    "start_time": "2022-07-05T17:43:52.646Z"
   },
   {
    "duration": 205,
    "start_time": "2022-07-05T17:43:53.094Z"
   },
   {
    "duration": 9,
    "start_time": "2022-07-05T17:43:53.302Z"
   },
   {
    "duration": 75,
    "start_time": "2022-07-05T17:43:53.313Z"
   },
   {
    "duration": 75,
    "start_time": "2022-07-05T17:43:53.390Z"
   },
   {
    "duration": 3,
    "start_time": "2022-07-05T17:43:53.467Z"
   },
   {
    "duration": 39,
    "start_time": "2022-07-05T17:43:53.472Z"
   },
   {
    "duration": 23,
    "start_time": "2022-07-05T17:43:53.513Z"
   },
   {
    "duration": 22,
    "start_time": "2022-07-05T17:43:53.538Z"
   },
   {
    "duration": 34,
    "start_time": "2022-07-05T17:43:53.562Z"
   },
   {
    "duration": 33,
    "start_time": "2022-07-05T17:43:53.598Z"
   },
   {
    "duration": 27,
    "start_time": "2022-07-05T17:43:53.633Z"
   },
   {
    "duration": 20,
    "start_time": "2022-07-05T17:43:53.662Z"
   },
   {
    "duration": 20,
    "start_time": "2022-07-05T17:43:53.685Z"
   },
   {
    "duration": 32,
    "start_time": "2022-07-05T17:43:53.707Z"
   },
   {
    "duration": 19,
    "start_time": "2022-07-05T17:43:53.741Z"
   },
   {
    "duration": 19,
    "start_time": "2022-07-05T17:43:53.762Z"
   },
   {
    "duration": 15,
    "start_time": "2022-07-05T17:43:53.783Z"
   },
   {
    "duration": 45,
    "start_time": "2022-07-05T17:43:53.800Z"
   },
   {
    "duration": 11,
    "start_time": "2022-07-05T17:43:53.847Z"
   },
   {
    "duration": 25,
    "start_time": "2022-07-05T17:43:53.860Z"
   },
   {
    "duration": 25,
    "start_time": "2022-07-05T17:43:53.887Z"
   },
   {
    "duration": 24,
    "start_time": "2022-07-05T17:43:53.913Z"
   },
   {
    "duration": 31,
    "start_time": "2022-07-05T17:43:53.939Z"
   },
   {
    "duration": 39,
    "start_time": "2022-07-05T17:43:53.972Z"
   },
   {
    "duration": 15,
    "start_time": "2022-07-05T17:43:54.013Z"
   },
   {
    "duration": 82,
    "start_time": "2022-07-05T17:43:54.030Z"
   },
   {
    "duration": 56,
    "start_time": "2022-07-05T17:43:54.114Z"
   },
   {
    "duration": 4,
    "start_time": "2022-07-05T17:43:54.175Z"
   },
   {
    "duration": 28,
    "start_time": "2022-07-05T17:43:54.181Z"
   },
   {
    "duration": 15,
    "start_time": "2022-07-05T17:43:54.211Z"
   },
   {
    "duration": 8,
    "start_time": "2022-07-05T17:43:54.229Z"
   },
   {
    "duration": 10,
    "start_time": "2022-07-05T17:43:54.239Z"
   },
   {
    "duration": 484,
    "start_time": "2022-07-05T17:53:44.950Z"
   },
   {
    "duration": 432,
    "start_time": "2022-07-05T17:55:37.037Z"
   },
   {
    "duration": 1326,
    "start_time": "2022-07-05T19:43:59.527Z"
   },
   {
    "duration": 723,
    "start_time": "2022-07-05T19:44:00.855Z"
   },
   {
    "duration": 3,
    "start_time": "2022-07-05T19:44:01.580Z"
   },
   {
    "duration": 293,
    "start_time": "2022-07-05T19:44:01.585Z"
   },
   {
    "duration": 18,
    "start_time": "2022-07-05T19:44:01.880Z"
   },
   {
    "duration": 42,
    "start_time": "2022-07-05T19:44:01.900Z"
   },
   {
    "duration": 45,
    "start_time": "2022-07-05T19:44:01.943Z"
   },
   {
    "duration": 53,
    "start_time": "2022-07-05T19:44:01.990Z"
   },
   {
    "duration": 22,
    "start_time": "2022-07-05T19:44:02.044Z"
   },
   {
    "duration": 51,
    "start_time": "2022-07-05T19:44:02.069Z"
   },
   {
    "duration": 50,
    "start_time": "2022-07-05T19:44:02.122Z"
   },
   {
    "duration": 90,
    "start_time": "2022-07-05T19:44:02.174Z"
   },
   {
    "duration": 70,
    "start_time": "2022-07-05T19:44:02.266Z"
   },
   {
    "duration": 30,
    "start_time": "2022-07-05T19:44:02.338Z"
   },
   {
    "duration": 8,
    "start_time": "2022-07-05T19:44:02.370Z"
   },
   {
    "duration": 14,
    "start_time": "2022-07-05T19:44:02.380Z"
   },
   {
    "duration": 44,
    "start_time": "2022-07-05T19:44:02.396Z"
   },
   {
    "duration": 5,
    "start_time": "2022-07-05T19:44:02.441Z"
   },
   {
    "duration": 215,
    "start_time": "2022-07-05T19:44:02.448Z"
   },
   {
    "duration": 30,
    "start_time": "2022-07-05T19:44:02.665Z"
   },
   {
    "duration": 219,
    "start_time": "2022-07-05T19:44:02.697Z"
   },
   {
    "duration": 529,
    "start_time": "2022-07-05T19:44:02.923Z"
   },
   {
    "duration": 5,
    "start_time": "2022-07-05T19:44:03.454Z"
   },
   {
    "duration": 15,
    "start_time": "2022-07-05T19:44:03.461Z"
   },
   {
    "duration": 9,
    "start_time": "2022-07-05T19:44:03.477Z"
   },
   {
    "duration": 18,
    "start_time": "2022-07-05T19:44:03.487Z"
   },
   {
    "duration": 144,
    "start_time": "2022-07-05T19:44:03.506Z"
   },
   {
    "duration": 13,
    "start_time": "2022-07-05T19:44:03.654Z"
   },
   {
    "duration": 157,
    "start_time": "2022-07-05T19:44:03.668Z"
   },
   {
    "duration": 14,
    "start_time": "2022-07-05T19:44:03.826Z"
   },
   {
    "duration": 313,
    "start_time": "2022-07-05T19:44:03.841Z"
   },
   {
    "duration": 21,
    "start_time": "2022-07-05T19:44:04.156Z"
   },
   {
    "duration": 36,
    "start_time": "2022-07-05T19:44:04.179Z"
   },
   {
    "duration": 37,
    "start_time": "2022-07-05T19:44:04.217Z"
   },
   {
    "duration": 19,
    "start_time": "2022-07-05T19:44:04.255Z"
   },
   {
    "duration": 4,
    "start_time": "2022-07-05T19:44:04.276Z"
   },
   {
    "duration": 5,
    "start_time": "2022-07-05T19:44:04.282Z"
   },
   {
    "duration": 33,
    "start_time": "2022-07-05T19:44:04.289Z"
   },
   {
    "duration": 44,
    "start_time": "2022-07-05T19:44:04.324Z"
   },
   {
    "duration": 24,
    "start_time": "2022-07-05T19:44:04.369Z"
   },
   {
    "duration": 17,
    "start_time": "2022-07-05T19:44:04.395Z"
   },
   {
    "duration": 41,
    "start_time": "2022-07-05T19:44:04.414Z"
   },
   {
    "duration": 4,
    "start_time": "2022-07-05T19:44:04.457Z"
   },
   {
    "duration": 31,
    "start_time": "2022-07-05T19:44:04.462Z"
   },
   {
    "duration": 52,
    "start_time": "2022-07-05T19:44:04.495Z"
   },
   {
    "duration": 200,
    "start_time": "2022-07-05T19:44:04.550Z"
   },
   {
    "duration": 4,
    "start_time": "2022-07-05T19:44:04.752Z"
   },
   {
    "duration": 22,
    "start_time": "2022-07-05T19:44:04.757Z"
   },
   {
    "duration": 199,
    "start_time": "2022-07-05T19:44:04.781Z"
   },
   {
    "duration": 431,
    "start_time": "2022-07-05T19:44:04.981Z"
   },
   {
    "duration": 377,
    "start_time": "2022-07-05T19:44:05.413Z"
   },
   {
    "duration": 16,
    "start_time": "2022-07-05T19:44:05.791Z"
   },
   {
    "duration": 33,
    "start_time": "2022-07-05T19:44:05.822Z"
   },
   {
    "duration": 502,
    "start_time": "2022-07-05T19:44:05.857Z"
   },
   {
    "duration": 203,
    "start_time": "2022-07-05T19:44:06.362Z"
   },
   {
    "duration": 6,
    "start_time": "2022-07-05T19:44:06.567Z"
   },
   {
    "duration": 64,
    "start_time": "2022-07-05T19:44:06.575Z"
   },
   {
    "duration": 87,
    "start_time": "2022-07-05T19:44:06.641Z"
   },
   {
    "duration": 5,
    "start_time": "2022-07-05T19:44:06.730Z"
   },
   {
    "duration": 14,
    "start_time": "2022-07-05T19:44:06.737Z"
   },
   {
    "duration": 5,
    "start_time": "2022-07-05T19:44:06.753Z"
   },
   {
    "duration": 13,
    "start_time": "2022-07-05T19:44:06.760Z"
   },
   {
    "duration": 9,
    "start_time": "2022-07-05T19:44:06.775Z"
   },
   {
    "duration": 15,
    "start_time": "2022-07-05T19:44:06.786Z"
   },
   {
    "duration": 21,
    "start_time": "2022-07-05T19:44:06.803Z"
   },
   {
    "duration": 19,
    "start_time": "2022-07-05T19:44:06.827Z"
   },
   {
    "duration": 7,
    "start_time": "2022-07-05T19:44:06.849Z"
   },
   {
    "duration": 7,
    "start_time": "2022-07-05T19:44:06.857Z"
   },
   {
    "duration": 6,
    "start_time": "2022-07-05T19:44:06.866Z"
   },
   {
    "duration": 13,
    "start_time": "2022-07-05T19:44:06.874Z"
   },
   {
    "duration": 8,
    "start_time": "2022-07-05T19:44:06.889Z"
   },
   {
    "duration": 35,
    "start_time": "2022-07-05T19:44:06.899Z"
   },
   {
    "duration": 9,
    "start_time": "2022-07-05T19:44:06.937Z"
   },
   {
    "duration": 6,
    "start_time": "2022-07-05T19:44:06.948Z"
   },
   {
    "duration": 8,
    "start_time": "2022-07-05T19:44:06.956Z"
   },
   {
    "duration": 12,
    "start_time": "2022-07-05T19:44:06.965Z"
   },
   {
    "duration": 8,
    "start_time": "2022-07-05T19:44:06.979Z"
   },
   {
    "duration": 11,
    "start_time": "2022-07-05T19:44:06.989Z"
   },
   {
    "duration": 8,
    "start_time": "2022-07-05T19:44:07.023Z"
   },
   {
    "duration": 47,
    "start_time": "2022-07-05T19:44:07.033Z"
   },
   {
    "duration": 66,
    "start_time": "2022-07-05T19:44:07.082Z"
   },
   {
    "duration": 4,
    "start_time": "2022-07-05T19:44:07.155Z"
   },
   {
    "duration": 16,
    "start_time": "2022-07-05T19:44:07.160Z"
   },
   {
    "duration": 15,
    "start_time": "2022-07-05T19:44:07.178Z"
   },
   {
    "duration": 10,
    "start_time": "2022-07-05T19:44:07.195Z"
   },
   {
    "duration": 23,
    "start_time": "2022-07-05T19:44:07.207Z"
   },
   {
    "duration": 1097,
    "start_time": "2022-07-05T20:35:17.158Z"
   },
   {
    "duration": 255,
    "start_time": "2022-07-05T20:35:18.257Z"
   },
   {
    "duration": 5,
    "start_time": "2022-07-05T20:35:18.515Z"
   },
   {
    "duration": 246,
    "start_time": "2022-07-05T20:35:18.523Z"
   },
   {
    "duration": 19,
    "start_time": "2022-07-05T20:35:18.771Z"
   },
   {
    "duration": 49,
    "start_time": "2022-07-05T20:35:18.791Z"
   },
   {
    "duration": 33,
    "start_time": "2022-07-05T20:35:18.842Z"
   },
   {
    "duration": 54,
    "start_time": "2022-07-05T20:35:18.877Z"
   },
   {
    "duration": 24,
    "start_time": "2022-07-05T20:35:18.933Z"
   },
   {
    "duration": 11,
    "start_time": "2022-07-05T20:35:18.959Z"
   },
   {
    "duration": 16,
    "start_time": "2022-07-05T20:35:18.971Z"
   },
   {
    "duration": 92,
    "start_time": "2022-07-05T20:35:18.989Z"
   },
   {
    "duration": 86,
    "start_time": "2022-07-05T20:35:19.082Z"
   },
   {
    "duration": 34,
    "start_time": "2022-07-05T20:35:19.170Z"
   },
   {
    "duration": 19,
    "start_time": "2022-07-05T20:35:19.206Z"
   },
   {
    "duration": 23,
    "start_time": "2022-07-05T20:35:19.226Z"
   },
   {
    "duration": 34,
    "start_time": "2022-07-05T20:35:19.251Z"
   },
   {
    "duration": 6,
    "start_time": "2022-07-05T20:35:19.287Z"
   },
   {
    "duration": 240,
    "start_time": "2022-07-05T20:35:19.295Z"
   },
   {
    "duration": 30,
    "start_time": "2022-07-05T20:35:19.537Z"
   },
   {
    "duration": 205,
    "start_time": "2022-07-05T20:35:19.568Z"
   },
   {
    "duration": 528,
    "start_time": "2022-07-05T20:35:19.774Z"
   },
   {
    "duration": 5,
    "start_time": "2022-07-05T20:35:20.304Z"
   },
   {
    "duration": 14,
    "start_time": "2022-07-05T20:35:20.311Z"
   },
   {
    "duration": 14,
    "start_time": "2022-07-05T20:35:20.327Z"
   },
   {
    "duration": 21,
    "start_time": "2022-07-05T20:35:20.343Z"
   },
   {
    "duration": 147,
    "start_time": "2022-07-05T20:35:20.366Z"
   },
   {
    "duration": 15,
    "start_time": "2022-07-05T20:35:20.517Z"
   },
   {
    "duration": 172,
    "start_time": "2022-07-05T20:35:20.534Z"
   },
   {
    "duration": 22,
    "start_time": "2022-07-05T20:35:20.708Z"
   },
   {
    "duration": 321,
    "start_time": "2022-07-05T20:35:20.732Z"
   },
   {
    "duration": 20,
    "start_time": "2022-07-05T20:35:21.054Z"
   },
   {
    "duration": 57,
    "start_time": "2022-07-05T20:35:21.076Z"
   },
   {
    "duration": 36,
    "start_time": "2022-07-05T20:35:21.135Z"
   },
   {
    "duration": 17,
    "start_time": "2022-07-05T20:35:21.173Z"
   },
   {
    "duration": 4,
    "start_time": "2022-07-05T20:35:21.192Z"
   },
   {
    "duration": 6,
    "start_time": "2022-07-05T20:35:21.222Z"
   },
   {
    "duration": 13,
    "start_time": "2022-07-05T20:35:21.229Z"
   },
   {
    "duration": 49,
    "start_time": "2022-07-05T20:35:21.244Z"
   },
   {
    "duration": 28,
    "start_time": "2022-07-05T20:35:21.295Z"
   },
   {
    "duration": 4,
    "start_time": "2022-07-05T20:35:21.325Z"
   },
   {
    "duration": 47,
    "start_time": "2022-07-05T20:35:21.330Z"
   },
   {
    "duration": 4,
    "start_time": "2022-07-05T20:35:21.379Z"
   },
   {
    "duration": 44,
    "start_time": "2022-07-05T20:35:21.385Z"
   },
   {
    "duration": 31,
    "start_time": "2022-07-05T20:35:21.431Z"
   },
   {
    "duration": 181,
    "start_time": "2022-07-05T20:35:21.465Z"
   },
   {
    "duration": 3,
    "start_time": "2022-07-05T20:35:21.649Z"
   },
   {
    "duration": 24,
    "start_time": "2022-07-05T20:35:21.654Z"
   },
   {
    "duration": 199,
    "start_time": "2022-07-05T20:35:21.680Z"
   },
   {
    "duration": 396,
    "start_time": "2022-07-05T20:35:21.881Z"
   },
   {
    "duration": 338,
    "start_time": "2022-07-05T20:35:22.279Z"
   },
   {
    "duration": 11,
    "start_time": "2022-07-05T20:35:22.622Z"
   },
   {
    "duration": 33,
    "start_time": "2022-07-05T20:35:22.635Z"
   },
   {
    "duration": 487,
    "start_time": "2022-07-05T20:35:22.670Z"
   },
   {
    "duration": 207,
    "start_time": "2022-07-05T20:35:23.158Z"
   },
   {
    "duration": 5,
    "start_time": "2022-07-05T20:35:23.367Z"
   },
   {
    "duration": 65,
    "start_time": "2022-07-05T20:35:23.374Z"
   },
   {
    "duration": 82,
    "start_time": "2022-07-05T20:35:23.440Z"
   },
   {
    "duration": 4,
    "start_time": "2022-07-05T20:35:23.524Z"
   },
   {
    "duration": 9,
    "start_time": "2022-07-05T20:35:23.529Z"
   },
   {
    "duration": 5,
    "start_time": "2022-07-05T20:35:23.540Z"
   },
   {
    "duration": 10,
    "start_time": "2022-07-05T20:35:23.546Z"
   },
   {
    "duration": 9,
    "start_time": "2022-07-05T20:35:23.558Z"
   },
   {
    "duration": 16,
    "start_time": "2022-07-05T20:35:23.568Z"
   },
   {
    "duration": 10,
    "start_time": "2022-07-05T20:35:23.586Z"
   },
   {
    "duration": 26,
    "start_time": "2022-07-05T20:35:23.597Z"
   },
   {
    "duration": 3,
    "start_time": "2022-07-05T20:35:23.625Z"
   },
   {
    "duration": 13,
    "start_time": "2022-07-05T20:35:23.630Z"
   },
   {
    "duration": 7,
    "start_time": "2022-07-05T20:35:23.645Z"
   },
   {
    "duration": 6,
    "start_time": "2022-07-05T20:35:23.654Z"
   },
   {
    "duration": 5,
    "start_time": "2022-07-05T20:35:23.662Z"
   },
   {
    "duration": 18,
    "start_time": "2022-07-05T20:35:23.668Z"
   },
   {
    "duration": 34,
    "start_time": "2022-07-05T20:35:23.688Z"
   },
   {
    "duration": 2,
    "start_time": "2022-07-05T20:35:23.725Z"
   },
   {
    "duration": 8,
    "start_time": "2022-07-05T20:35:23.729Z"
   },
   {
    "duration": 10,
    "start_time": "2022-07-05T20:35:23.739Z"
   },
   {
    "duration": 7,
    "start_time": "2022-07-05T20:35:23.751Z"
   },
   {
    "duration": 18,
    "start_time": "2022-07-05T20:35:23.759Z"
   },
   {
    "duration": 17,
    "start_time": "2022-07-05T20:35:23.779Z"
   },
   {
    "duration": 50,
    "start_time": "2022-07-05T20:35:23.798Z"
   },
   {
    "duration": 45,
    "start_time": "2022-07-05T20:35:23.850Z"
   },
   {
    "duration": 3,
    "start_time": "2022-07-05T20:35:23.926Z"
   },
   {
    "duration": 12,
    "start_time": "2022-07-05T20:35:23.930Z"
   },
   {
    "duration": 9,
    "start_time": "2022-07-05T20:35:23.943Z"
   },
   {
    "duration": 11,
    "start_time": "2022-07-05T20:35:23.954Z"
   },
   {
    "duration": 28,
    "start_time": "2022-07-05T20:35:23.966Z"
   },
   {
    "duration": 2770,
    "start_time": "2022-07-05T20:51:28.647Z"
   },
   {
    "duration": 2843,
    "start_time": "2022-07-05T20:56:07.869Z"
   },
   {
    "duration": 1280,
    "start_time": "2022-09-07T20:57:44.575Z"
   },
   {
    "duration": 906,
    "start_time": "2022-09-07T20:57:45.857Z"
   },
   {
    "duration": 5,
    "start_time": "2022-09-07T20:57:46.765Z"
   },
   {
    "duration": 247,
    "start_time": "2022-09-07T20:57:46.773Z"
   },
   {
    "duration": 19,
    "start_time": "2022-09-07T20:57:47.022Z"
   },
   {
    "duration": 49,
    "start_time": "2022-09-07T20:57:47.043Z"
   },
   {
    "duration": 34,
    "start_time": "2022-09-07T20:57:47.094Z"
   },
   {
    "duration": 47,
    "start_time": "2022-09-07T20:57:47.130Z"
   },
   {
    "duration": 29,
    "start_time": "2022-09-07T20:57:47.179Z"
   },
   {
    "duration": 16,
    "start_time": "2022-09-07T20:57:47.210Z"
   },
   {
    "duration": 31,
    "start_time": "2022-09-07T20:57:47.228Z"
   },
   {
    "duration": 72,
    "start_time": "2022-09-07T20:57:47.260Z"
   },
   {
    "duration": 81,
    "start_time": "2022-09-07T20:57:47.333Z"
   },
   {
    "duration": 32,
    "start_time": "2022-09-07T20:57:47.416Z"
   },
   {
    "duration": 5,
    "start_time": "2022-09-07T20:57:47.449Z"
   },
   {
    "duration": 19,
    "start_time": "2022-09-07T20:57:47.455Z"
   },
   {
    "duration": 39,
    "start_time": "2022-09-07T20:57:47.476Z"
   },
   {
    "duration": 5,
    "start_time": "2022-09-07T20:57:47.517Z"
   },
   {
    "duration": 242,
    "start_time": "2022-09-07T20:57:47.524Z"
   },
   {
    "duration": 36,
    "start_time": "2022-09-07T20:57:47.767Z"
   },
   {
    "duration": 209,
    "start_time": "2022-09-07T20:57:47.805Z"
   },
   {
    "duration": 550,
    "start_time": "2022-09-07T20:57:48.016Z"
   },
   {
    "duration": 5,
    "start_time": "2022-09-07T20:57:48.568Z"
   },
   {
    "duration": 17,
    "start_time": "2022-09-07T20:57:48.574Z"
   },
   {
    "duration": 3,
    "start_time": "2022-09-07T20:57:48.593Z"
   },
   {
    "duration": 16,
    "start_time": "2022-09-07T20:57:48.598Z"
   },
   {
    "duration": 156,
    "start_time": "2022-09-07T20:57:48.615Z"
   },
   {
    "duration": 18,
    "start_time": "2022-09-07T20:57:48.775Z"
   },
   {
    "duration": 155,
    "start_time": "2022-09-07T20:57:48.794Z"
   },
   {
    "duration": 12,
    "start_time": "2022-09-07T20:57:48.951Z"
   },
   {
    "duration": 320,
    "start_time": "2022-09-07T20:57:48.964Z"
   },
   {
    "duration": 25,
    "start_time": "2022-09-07T20:57:49.286Z"
   },
   {
    "duration": 45,
    "start_time": "2022-09-07T20:57:49.312Z"
   },
   {
    "duration": 77,
    "start_time": "2022-09-07T20:57:49.359Z"
   },
   {
    "duration": 19,
    "start_time": "2022-09-07T20:57:49.438Z"
   },
   {
    "duration": 4,
    "start_time": "2022-09-07T20:57:49.458Z"
   },
   {
    "duration": 5,
    "start_time": "2022-09-07T20:57:49.464Z"
   },
   {
    "duration": 11,
    "start_time": "2022-09-07T20:57:49.492Z"
   },
   {
    "duration": 43,
    "start_time": "2022-09-07T20:57:49.505Z"
   },
   {
    "duration": 13,
    "start_time": "2022-09-07T20:57:49.550Z"
   },
   {
    "duration": 2956,
    "start_time": "2022-09-07T20:57:49.565Z"
   },
   {
    "duration": 5,
    "start_time": "2022-09-07T20:57:52.523Z"
   },
   {
    "duration": 293,
    "start_time": "2022-09-07T20:57:52.530Z"
   },
   {
    "duration": 3,
    "start_time": "2022-09-07T20:57:52.824Z"
   },
   {
    "duration": 25,
    "start_time": "2022-09-07T20:57:52.829Z"
   },
   {
    "duration": 46,
    "start_time": "2022-09-07T20:57:52.857Z"
   },
   {
    "duration": 170,
    "start_time": "2022-09-07T20:57:52.905Z"
   },
   {
    "duration": 3,
    "start_time": "2022-09-07T20:57:53.077Z"
   },
   {
    "duration": 15,
    "start_time": "2022-09-07T20:57:53.091Z"
   },
   {
    "duration": 193,
    "start_time": "2022-09-07T20:57:53.108Z"
   },
   {
    "duration": 398,
    "start_time": "2022-09-07T20:57:53.302Z"
   },
   {
    "duration": 365,
    "start_time": "2022-09-07T20:57:53.702Z"
   },
   {
    "duration": 11,
    "start_time": "2022-09-07T20:57:54.068Z"
   },
   {
    "duration": 30,
    "start_time": "2022-09-07T20:57:54.091Z"
   },
   {
    "duration": 456,
    "start_time": "2022-09-07T20:57:54.123Z"
   },
   {
    "duration": 196,
    "start_time": "2022-09-07T20:57:54.581Z"
   },
   {
    "duration": 13,
    "start_time": "2022-09-07T20:57:54.779Z"
   },
   {
    "duration": 45,
    "start_time": "2022-09-07T20:57:54.793Z"
   },
   {
    "duration": 86,
    "start_time": "2022-09-07T20:57:54.840Z"
   },
   {
    "duration": 5,
    "start_time": "2022-09-07T20:57:54.927Z"
   },
   {
    "duration": 9,
    "start_time": "2022-09-07T20:57:54.933Z"
   },
   {
    "duration": 10,
    "start_time": "2022-09-07T20:57:54.943Z"
   },
   {
    "duration": 9,
    "start_time": "2022-09-07T20:57:54.954Z"
   },
   {
    "duration": 5,
    "start_time": "2022-09-07T20:57:54.965Z"
   },
   {
    "duration": 22,
    "start_time": "2022-09-07T20:57:54.971Z"
   },
   {
    "duration": 4,
    "start_time": "2022-09-07T20:57:54.995Z"
   },
   {
    "duration": 6,
    "start_time": "2022-09-07T20:57:55.001Z"
   },
   {
    "duration": 6,
    "start_time": "2022-09-07T20:57:55.009Z"
   },
   {
    "duration": 11,
    "start_time": "2022-09-07T20:57:55.016Z"
   },
   {
    "duration": 5,
    "start_time": "2022-09-07T20:57:55.029Z"
   },
   {
    "duration": 8,
    "start_time": "2022-09-07T20:57:55.035Z"
   },
   {
    "duration": 5,
    "start_time": "2022-09-07T20:57:55.045Z"
   },
   {
    "duration": 50,
    "start_time": "2022-09-07T20:57:55.052Z"
   },
   {
    "duration": 9,
    "start_time": "2022-09-07T20:57:55.104Z"
   },
   {
    "duration": 5,
    "start_time": "2022-09-07T20:57:55.115Z"
   },
   {
    "duration": 7,
    "start_time": "2022-09-07T20:57:55.122Z"
   },
   {
    "duration": 10,
    "start_time": "2022-09-07T20:57:55.131Z"
   },
   {
    "duration": 6,
    "start_time": "2022-09-07T20:57:55.143Z"
   },
   {
    "duration": 20,
    "start_time": "2022-09-07T20:57:55.151Z"
   },
   {
    "duration": 24,
    "start_time": "2022-09-07T20:57:55.172Z"
   },
   {
    "duration": 34,
    "start_time": "2022-09-07T20:57:55.197Z"
   },
   {
    "duration": 58,
    "start_time": "2022-09-07T20:57:55.236Z"
   },
   {
    "duration": 4,
    "start_time": "2022-09-07T20:57:55.296Z"
   },
   {
    "duration": 10,
    "start_time": "2022-09-07T20:57:55.301Z"
   },
   {
    "duration": 9,
    "start_time": "2022-09-07T20:57:55.313Z"
   },
   {
    "duration": 10,
    "start_time": "2022-09-07T20:57:55.323Z"
   },
   {
    "duration": 13,
    "start_time": "2022-09-07T20:57:55.335Z"
   }
  ],
  "kernelspec": {
   "display_name": "Python 3 (ipykernel)",
   "language": "python",
   "name": "python3"
  },
  "language_info": {
   "codemirror_mode": {
    "name": "ipython",
    "version": 3
   },
   "file_extension": ".py",
   "mimetype": "text/x-python",
   "name": "python",
   "nbconvert_exporter": "python",
   "pygments_lexer": "ipython3",
   "version": "3.9.5"
  },
  "toc": {
   "base_numbering": 1,
   "nav_menu": {},
   "number_sections": true,
   "sideBar": true,
   "skip_h1_title": true,
   "title_cell": "Table of Contents",
   "title_sidebar": "Contents",
   "toc_cell": false,
   "toc_position": {
    "height": "calc(100% - 180px)",
    "left": "10px",
    "top": "150px",
    "width": "165px"
   },
   "toc_section_display": true,
   "toc_window_display": true
  }
 },
 "nbformat": 4,
 "nbformat_minor": 2
}
