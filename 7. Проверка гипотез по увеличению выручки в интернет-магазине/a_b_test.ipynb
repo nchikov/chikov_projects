{
 "cells": [
  {
   "cell_type": "markdown",
   "metadata": {},
   "source": [
    "# Проект \"Принятие решений в бизнесе\""
   ]
  },
  {
   "cell_type": "markdown",
   "metadata": {},
   "source": [
    "Итак, мы приступаем к новому проекту. Согласно легенде, вы — аналитик крупного интернет-магазина. Вместе с отделом маркетинга вы подготовили список гипотез для увеличения выручки.\n",
    "Приоритизируйте гипотезы, запустите A/B-тест и проанализируйте результаты."
   ]
  },
  {
   "cell_type": "markdown",
   "metadata": {},
   "source": [
    "## Первая часть"
   ]
  },
  {
   "cell_type": "markdown",
   "metadata": {},
   "source": [
    "В первой части проекта мы будем заниматься приоритизацией гипотез.\n",
    "\n",
    "Согласно легенде исследования, у нас есть файл с девятью гипотезами по увеличению выручки интернет-магазина  с указанными параметрами Reach, Impact, Confidence, Effort. "
   ]
  },
  {
   "cell_type": "markdown",
   "metadata": {},
   "source": [
    "Для начала импортируем все необходимые нам для исследования библиотеки, чтобы больше к этому не возвращаться:"
   ]
  },
  {
   "cell_type": "code",
   "execution_count": 1,
   "metadata": {},
   "outputs": [],
   "source": [
    "import pandas as pd\n",
    "import datetime as dt\n",
    "import numpy as np\n",
    "import matplotlib.pyplot as plt\n",
    "import scipy.stats as stats\n",
    "pd.set_option('display.max_colwidth', 150)"
   ]
  },
  {
   "cell_type": "markdown",
   "metadata": {},
   "source": [
    "И посмотрим на нашу таблицу:"
   ]
  },
  {
   "cell_type": "code",
   "execution_count": 2,
   "metadata": {},
   "outputs": [],
   "source": [
    "df = pd.read_csv('/datasets/hypothesis.csv')"
   ]
  },
  {
   "cell_type": "code",
   "execution_count": 3,
   "metadata": {},
   "outputs": [
    {
     "data": {
      "text/html": [
       "<div>\n",
       "<style scoped>\n",
       "    .dataframe tbody tr th:only-of-type {\n",
       "        vertical-align: middle;\n",
       "    }\n",
       "\n",
       "    .dataframe tbody tr th {\n",
       "        vertical-align: top;\n",
       "    }\n",
       "\n",
       "    .dataframe thead th {\n",
       "        text-align: right;\n",
       "    }\n",
       "</style>\n",
       "<table border=\"1\" class=\"dataframe\">\n",
       "  <thead>\n",
       "    <tr style=\"text-align: right;\">\n",
       "      <th></th>\n",
       "      <th>Hypothesis</th>\n",
       "      <th>Reach</th>\n",
       "      <th>Impact</th>\n",
       "      <th>Confidence</th>\n",
       "      <th>Efforts</th>\n",
       "    </tr>\n",
       "  </thead>\n",
       "  <tbody>\n",
       "    <tr>\n",
       "      <th>0</th>\n",
       "      <td>Добавить два новых канала привлечения трафика, что позволит привлекать на 30% больше пользователей</td>\n",
       "      <td>3</td>\n",
       "      <td>10</td>\n",
       "      <td>8</td>\n",
       "      <td>6</td>\n",
       "    </tr>\n",
       "    <tr>\n",
       "      <th>1</th>\n",
       "      <td>Запустить собственную службу доставки, что сократит срок доставки заказов</td>\n",
       "      <td>2</td>\n",
       "      <td>5</td>\n",
       "      <td>4</td>\n",
       "      <td>10</td>\n",
       "    </tr>\n",
       "    <tr>\n",
       "      <th>2</th>\n",
       "      <td>Добавить блоки рекомендаций товаров на сайт интернет магазина, чтобы повысить конверсию и средний чек заказа</td>\n",
       "      <td>8</td>\n",
       "      <td>3</td>\n",
       "      <td>7</td>\n",
       "      <td>3</td>\n",
       "    </tr>\n",
       "    <tr>\n",
       "      <th>3</th>\n",
       "      <td>Изменить структура категорий, что увеличит конверсию, т.к. пользователи быстрее найдут нужный товар</td>\n",
       "      <td>8</td>\n",
       "      <td>3</td>\n",
       "      <td>3</td>\n",
       "      <td>8</td>\n",
       "    </tr>\n",
       "    <tr>\n",
       "      <th>4</th>\n",
       "      <td>Изменить цвет фона главной страницы, чтобы увеличить вовлеченность пользователей</td>\n",
       "      <td>3</td>\n",
       "      <td>1</td>\n",
       "      <td>1</td>\n",
       "      <td>1</td>\n",
       "    </tr>\n",
       "    <tr>\n",
       "      <th>5</th>\n",
       "      <td>Добавить страницу отзывов клиентов о магазине, что позволит увеличить количество заказов</td>\n",
       "      <td>3</td>\n",
       "      <td>2</td>\n",
       "      <td>2</td>\n",
       "      <td>3</td>\n",
       "    </tr>\n",
       "    <tr>\n",
       "      <th>6</th>\n",
       "      <td>Показать на главной странице баннеры с актуальными акциями и распродажами, чтобы увеличить конверсию</td>\n",
       "      <td>5</td>\n",
       "      <td>3</td>\n",
       "      <td>8</td>\n",
       "      <td>3</td>\n",
       "    </tr>\n",
       "    <tr>\n",
       "      <th>7</th>\n",
       "      <td>Добавить форму подписки на все основные страницы, чтобы собрать базу клиентов для email-рассылок</td>\n",
       "      <td>10</td>\n",
       "      <td>7</td>\n",
       "      <td>8</td>\n",
       "      <td>5</td>\n",
       "    </tr>\n",
       "    <tr>\n",
       "      <th>8</th>\n",
       "      <td>Запустить акцию, дающую скидку на товар в день рождения</td>\n",
       "      <td>1</td>\n",
       "      <td>9</td>\n",
       "      <td>9</td>\n",
       "      <td>5</td>\n",
       "    </tr>\n",
       "  </tbody>\n",
       "</table>\n",
       "</div>"
      ],
      "text/plain": [
       "                                                                                                     Hypothesis  \\\n",
       "0            Добавить два новых канала привлечения трафика, что позволит привлекать на 30% больше пользователей   \n",
       "1                                     Запустить собственную службу доставки, что сократит срок доставки заказов   \n",
       "2  Добавить блоки рекомендаций товаров на сайт интернет магазина, чтобы повысить конверсию и средний чек заказа   \n",
       "3           Изменить структура категорий, что увеличит конверсию, т.к. пользователи быстрее найдут нужный товар   \n",
       "4                              Изменить цвет фона главной страницы, чтобы увеличить вовлеченность пользователей   \n",
       "5                      Добавить страницу отзывов клиентов о магазине, что позволит увеличить количество заказов   \n",
       "6          Показать на главной странице баннеры с актуальными акциями и распродажами, чтобы увеличить конверсию   \n",
       "7              Добавить форму подписки на все основные страницы, чтобы собрать базу клиентов для email-рассылок   \n",
       "8                                                       Запустить акцию, дающую скидку на товар в день рождения   \n",
       "\n",
       "   Reach  Impact  Confidence  Efforts  \n",
       "0      3      10           8        6  \n",
       "1      2       5           4       10  \n",
       "2      8       3           7        3  \n",
       "3      8       3           3        8  \n",
       "4      3       1           1        1  \n",
       "5      3       2           2        3  \n",
       "6      5       3           8        3  \n",
       "7     10       7           8        5  \n",
       "8      1       9           9        5  "
      ]
     },
     "metadata": {},
     "output_type": "display_data"
    },
    {
     "name": "stdout",
     "output_type": "stream",
     "text": [
      "\n",
      "<class 'pandas.core.frame.DataFrame'>\n",
      "RangeIndex: 9 entries, 0 to 8\n",
      "Data columns (total 5 columns):\n",
      " #   Column      Non-Null Count  Dtype \n",
      "---  ------      --------------  ----- \n",
      " 0   Hypothesis  9 non-null      object\n",
      " 1   Reach       9 non-null      int64 \n",
      " 2   Impact      9 non-null      int64 \n",
      " 3   Confidence  9 non-null      int64 \n",
      " 4   Efforts     9 non-null      int64 \n",
      "dtypes: int64(4), object(1)\n",
      "memory usage: 488.0+ bytes\n"
     ]
    }
   ],
   "source": [
    "display(df.head(10))\n",
    "print()\n",
    "df.info()"
   ]
  },
  {
   "cell_type": "markdown",
   "metadata": {},
   "source": [
    "Согласно легенде исследования, таблица состоит из следующих столбцов:\n",
    "\n",
    "* Hypothesis — краткое описание гипотезы;\n",
    "* Reach — охват пользователей по 10-балльной шкале;\n",
    "* Impact — влияние на пользователей по 10-балльной шкале;\n",
    "* Confidence — уверенность в гипотезе по 10-балльной шкале;\n",
    "* Efforts — затраты ресурсов на проверку гипотезы по 10-балльной шкале. Чем больше значение Efforts, тем дороже проверка гипотезы."
   ]
  },
  {
   "cell_type": "markdown",
   "metadata": {},
   "source": [
    "Все сходится с заявленной информацией, 9 гипотез, названия колонок тоже совпадают. Для удобства приведем названия к нижнему регистру:"
   ]
  },
  {
   "cell_type": "code",
   "execution_count": 4,
   "metadata": {},
   "outputs": [],
   "source": [
    "df.columns = df.columns.str.lower()"
   ]
  },
  {
   "cell_type": "markdown",
   "metadata": {},
   "source": [
    "Проверками на дубликаты и пропуски можно пренебречь, так как тут все достаточно очевидно."
   ]
  },
  {
   "cell_type": "markdown",
   "metadata": {},
   "source": [
    "Стоит также отметить, что выбрана десятибалльная шкала оценки параметров.\n",
    "\n",
    "Приступим к приоритизации гипотез. Добавим столбец `ICE` и проведем соответствующие вычисления:"
   ]
  },
  {
   "cell_type": "code",
   "execution_count": 5,
   "metadata": {},
   "outputs": [
    {
     "data": {
      "text/html": [
       "<div>\n",
       "<style scoped>\n",
       "    .dataframe tbody tr th:only-of-type {\n",
       "        vertical-align: middle;\n",
       "    }\n",
       "\n",
       "    .dataframe tbody tr th {\n",
       "        vertical-align: top;\n",
       "    }\n",
       "\n",
       "    .dataframe thead th {\n",
       "        text-align: right;\n",
       "    }\n",
       "</style>\n",
       "<table border=\"1\" class=\"dataframe\">\n",
       "  <thead>\n",
       "    <tr style=\"text-align: right;\">\n",
       "      <th></th>\n",
       "      <th>hypothesis</th>\n",
       "      <th>ICE</th>\n",
       "    </tr>\n",
       "  </thead>\n",
       "  <tbody>\n",
       "    <tr>\n",
       "      <th>8</th>\n",
       "      <td>Запустить акцию, дающую скидку на товар в день рождения</td>\n",
       "      <td>16.0</td>\n",
       "    </tr>\n",
       "    <tr>\n",
       "      <th>0</th>\n",
       "      <td>Добавить два новых канала привлечения трафика, что позволит привлекать на 30% больше пользователей</td>\n",
       "      <td>13.0</td>\n",
       "    </tr>\n",
       "    <tr>\n",
       "      <th>7</th>\n",
       "      <td>Добавить форму подписки на все основные страницы, чтобы собрать базу клиентов для email-рассылок</td>\n",
       "      <td>11.0</td>\n",
       "    </tr>\n",
       "    <tr>\n",
       "      <th>6</th>\n",
       "      <td>Показать на главной странице баннеры с актуальными акциями и распродажами, чтобы увеличить конверсию</td>\n",
       "      <td>8.0</td>\n",
       "    </tr>\n",
       "    <tr>\n",
       "      <th>2</th>\n",
       "      <td>Добавить блоки рекомендаций товаров на сайт интернет магазина, чтобы повысить конверсию и средний чек заказа</td>\n",
       "      <td>7.0</td>\n",
       "    </tr>\n",
       "    <tr>\n",
       "      <th>1</th>\n",
       "      <td>Запустить собственную службу доставки, что сократит срок доставки заказов</td>\n",
       "      <td>2.0</td>\n",
       "    </tr>\n",
       "    <tr>\n",
       "      <th>3</th>\n",
       "      <td>Изменить структура категорий, что увеличит конверсию, т.к. пользователи быстрее найдут нужный товар</td>\n",
       "      <td>1.0</td>\n",
       "    </tr>\n",
       "    <tr>\n",
       "      <th>4</th>\n",
       "      <td>Изменить цвет фона главной страницы, чтобы увеличить вовлеченность пользователей</td>\n",
       "      <td>1.0</td>\n",
       "    </tr>\n",
       "    <tr>\n",
       "      <th>5</th>\n",
       "      <td>Добавить страницу отзывов клиентов о магазине, что позволит увеличить количество заказов</td>\n",
       "      <td>1.0</td>\n",
       "    </tr>\n",
       "  </tbody>\n",
       "</table>\n",
       "</div>"
      ],
      "text/plain": [
       "                                                                                                     hypothesis  \\\n",
       "8                                                       Запустить акцию, дающую скидку на товар в день рождения   \n",
       "0            Добавить два новых канала привлечения трафика, что позволит привлекать на 30% больше пользователей   \n",
       "7              Добавить форму подписки на все основные страницы, чтобы собрать базу клиентов для email-рассылок   \n",
       "6          Показать на главной странице баннеры с актуальными акциями и распродажами, чтобы увеличить конверсию   \n",
       "2  Добавить блоки рекомендаций товаров на сайт интернет магазина, чтобы повысить конверсию и средний чек заказа   \n",
       "1                                     Запустить собственную службу доставки, что сократит срок доставки заказов   \n",
       "3           Изменить структура категорий, что увеличит конверсию, т.к. пользователи быстрее найдут нужный товар   \n",
       "4                              Изменить цвет фона главной страницы, чтобы увеличить вовлеченность пользователей   \n",
       "5                      Добавить страницу отзывов клиентов о магазине, что позволит увеличить количество заказов   \n",
       "\n",
       "    ICE  \n",
       "8  16.0  \n",
       "0  13.0  \n",
       "7  11.0  \n",
       "6   8.0  \n",
       "2   7.0  \n",
       "1   2.0  \n",
       "3   1.0  \n",
       "4   1.0  \n",
       "5   1.0  "
      ]
     },
     "metadata": {},
     "output_type": "display_data"
    }
   ],
   "source": [
    "df['ICE'] = round((df['impact']*df['confidence'])/df['efforts'])\n",
    "display(df[['hypothesis', 'ICE']].sort_values(by = 'ICE', ascending = False))"
   ]
  },
  {
   "cell_type": "markdown",
   "metadata": {},
   "source": [
    "Самыми перспективными выглядят гипотезы под номерами 8, 0, 7. Дальше с небольшим отрывом идут гипотезы 6 и 2. Гипотезы 1, 5, 3, 4 набирают меньше всего баллов. \n",
    "\n",
    "Теперь посмотрим, изменится ли картина, если добавить сюда значения охвата пользователей по методике `RICE`:"
   ]
  },
  {
   "cell_type": "code",
   "execution_count": 6,
   "metadata": {},
   "outputs": [
    {
     "data": {
      "text/html": [
       "<div>\n",
       "<style scoped>\n",
       "    .dataframe tbody tr th:only-of-type {\n",
       "        vertical-align: middle;\n",
       "    }\n",
       "\n",
       "    .dataframe tbody tr th {\n",
       "        vertical-align: top;\n",
       "    }\n",
       "\n",
       "    .dataframe thead th {\n",
       "        text-align: right;\n",
       "    }\n",
       "</style>\n",
       "<table border=\"1\" class=\"dataframe\">\n",
       "  <thead>\n",
       "    <tr style=\"text-align: right;\">\n",
       "      <th></th>\n",
       "      <th>hypothesis</th>\n",
       "      <th>RICE</th>\n",
       "    </tr>\n",
       "  </thead>\n",
       "  <tbody>\n",
       "    <tr>\n",
       "      <th>7</th>\n",
       "      <td>Добавить форму подписки на все основные страницы, чтобы собрать базу клиентов для email-рассылок</td>\n",
       "      <td>112.0</td>\n",
       "    </tr>\n",
       "    <tr>\n",
       "      <th>2</th>\n",
       "      <td>Добавить блоки рекомендаций товаров на сайт интернет магазина, чтобы повысить конверсию и средний чек заказа</td>\n",
       "      <td>56.0</td>\n",
       "    </tr>\n",
       "    <tr>\n",
       "      <th>0</th>\n",
       "      <td>Добавить два новых канала привлечения трафика, что позволит привлекать на 30% больше пользователей</td>\n",
       "      <td>40.0</td>\n",
       "    </tr>\n",
       "    <tr>\n",
       "      <th>6</th>\n",
       "      <td>Показать на главной странице баннеры с актуальными акциями и распродажами, чтобы увеличить конверсию</td>\n",
       "      <td>40.0</td>\n",
       "    </tr>\n",
       "    <tr>\n",
       "      <th>8</th>\n",
       "      <td>Запустить акцию, дающую скидку на товар в день рождения</td>\n",
       "      <td>16.0</td>\n",
       "    </tr>\n",
       "    <tr>\n",
       "      <th>3</th>\n",
       "      <td>Изменить структура категорий, что увеличит конверсию, т.к. пользователи быстрее найдут нужный товар</td>\n",
       "      <td>9.0</td>\n",
       "    </tr>\n",
       "    <tr>\n",
       "      <th>1</th>\n",
       "      <td>Запустить собственную службу доставки, что сократит срок доставки заказов</td>\n",
       "      <td>4.0</td>\n",
       "    </tr>\n",
       "    <tr>\n",
       "      <th>5</th>\n",
       "      <td>Добавить страницу отзывов клиентов о магазине, что позволит увеличить количество заказов</td>\n",
       "      <td>4.0</td>\n",
       "    </tr>\n",
       "    <tr>\n",
       "      <th>4</th>\n",
       "      <td>Изменить цвет фона главной страницы, чтобы увеличить вовлеченность пользователей</td>\n",
       "      <td>3.0</td>\n",
       "    </tr>\n",
       "  </tbody>\n",
       "</table>\n",
       "</div>"
      ],
      "text/plain": [
       "                                                                                                     hypothesis  \\\n",
       "7              Добавить форму подписки на все основные страницы, чтобы собрать базу клиентов для email-рассылок   \n",
       "2  Добавить блоки рекомендаций товаров на сайт интернет магазина, чтобы повысить конверсию и средний чек заказа   \n",
       "0            Добавить два новых канала привлечения трафика, что позволит привлекать на 30% больше пользователей   \n",
       "6          Показать на главной странице баннеры с актуальными акциями и распродажами, чтобы увеличить конверсию   \n",
       "8                                                       Запустить акцию, дающую скидку на товар в день рождения   \n",
       "3           Изменить структура категорий, что увеличит конверсию, т.к. пользователи быстрее найдут нужный товар   \n",
       "1                                     Запустить собственную службу доставки, что сократит срок доставки заказов   \n",
       "5                      Добавить страницу отзывов клиентов о магазине, что позволит увеличить количество заказов   \n",
       "4                              Изменить цвет фона главной страницы, чтобы увеличить вовлеченность пользователей   \n",
       "\n",
       "    RICE  \n",
       "7  112.0  \n",
       "2   56.0  \n",
       "0   40.0  \n",
       "6   40.0  \n",
       "8   16.0  \n",
       "3    9.0  \n",
       "1    4.0  \n",
       "5    4.0  \n",
       "4    3.0  "
      ]
     },
     "metadata": {},
     "output_type": "display_data"
    }
   ],
   "source": [
    "df['RICE'] = round((df['reach']*df['impact']*df['confidence'])/df['efforts'])\n",
    "display(df[['hypothesis', 'RICE']].sort_values(by='RICE', ascending=False))"
   ]
  },
  {
   "cell_type": "markdown",
   "metadata": {},
   "source": [
    "Картина значительно поменялась. Из предыдущей тройки лидеров остались только две гипотезы: номер 7 на первом месте и номер 0 на третьем. Причем гипотеза 7 опережает второе место практически вдвое, имея максимальный охват в 10 баллов.  Зато в тройке появилась гипотеза номер 2 за счет охвата, оцененного в 8 баллов. А гипотеза номер 8, которая была на первом месте, сместилась на четвертую позицию - и ее охват составляет всего 1 балл. Гипотеза номер 6 осталась на четвертой позиции, похоже, охват влияет на нее не так сильно. "
   ]
  },
  {
   "cell_type": "markdown",
   "metadata": {},
   "source": [
    "### Выводы по первой части"
   ]
  },
  {
   "cell_type": "markdown",
   "metadata": {},
   "source": [
    "При приоритизации гипотез лучше всегда учитывать потенциальный охват, это может сильно повлиять на итоговую расстановку мест. Стоит отметить, что в предложенном выше списке гипотез первая половина списка (1-5 места) и вторая (6-9 места) остались неизменными, поменялась лишь расстановка гипотез в порядке приоритетности."
   ]
  },
  {
   "cell_type": "markdown",
   "metadata": {},
   "source": [
    "# ВТОРАЯ ЧАСТЬ"
   ]
  },
  {
   "cell_type": "markdown",
   "metadata": {},
   "source": [
    "## Анализ А/В теста"
   ]
  },
  {
   "cell_type": "markdown",
   "metadata": {},
   "source": [
    "Приступаем ко второй части исследования, а именно, к анализу А/В теста.\n",
    "\n",
    "Загрузим таблицы с данными о заказах и посетителях:"
   ]
  },
  {
   "cell_type": "code",
   "execution_count": 7,
   "metadata": {},
   "outputs": [],
   "source": [
    "orders = pd.read_csv('/datasets/orders.csv')\n",
    "visitors = pd.read_csv('/datasets/visitors.csv')"
   ]
  },
  {
   "cell_type": "markdown",
   "metadata": {},
   "source": [
    "Ознакомимся с первой таблицей заказов:"
   ]
  },
  {
   "cell_type": "code",
   "execution_count": 8,
   "metadata": {},
   "outputs": [
    {
     "data": {
      "text/html": [
       "<div>\n",
       "<style scoped>\n",
       "    .dataframe tbody tr th:only-of-type {\n",
       "        vertical-align: middle;\n",
       "    }\n",
       "\n",
       "    .dataframe tbody tr th {\n",
       "        vertical-align: top;\n",
       "    }\n",
       "\n",
       "    .dataframe thead th {\n",
       "        text-align: right;\n",
       "    }\n",
       "</style>\n",
       "<table border=\"1\" class=\"dataframe\">\n",
       "  <thead>\n",
       "    <tr style=\"text-align: right;\">\n",
       "      <th></th>\n",
       "      <th>transactionId</th>\n",
       "      <th>visitorId</th>\n",
       "      <th>date</th>\n",
       "      <th>revenue</th>\n",
       "      <th>group</th>\n",
       "    </tr>\n",
       "  </thead>\n",
       "  <tbody>\n",
       "    <tr>\n",
       "      <th>0</th>\n",
       "      <td>3667963787</td>\n",
       "      <td>3312258926</td>\n",
       "      <td>2019-08-15</td>\n",
       "      <td>1650</td>\n",
       "      <td>B</td>\n",
       "    </tr>\n",
       "    <tr>\n",
       "      <th>1</th>\n",
       "      <td>2804400009</td>\n",
       "      <td>3642806036</td>\n",
       "      <td>2019-08-15</td>\n",
       "      <td>730</td>\n",
       "      <td>B</td>\n",
       "    </tr>\n",
       "    <tr>\n",
       "      <th>2</th>\n",
       "      <td>2961555356</td>\n",
       "      <td>4069496402</td>\n",
       "      <td>2019-08-15</td>\n",
       "      <td>400</td>\n",
       "      <td>A</td>\n",
       "    </tr>\n",
       "    <tr>\n",
       "      <th>3</th>\n",
       "      <td>3797467345</td>\n",
       "      <td>1196621759</td>\n",
       "      <td>2019-08-15</td>\n",
       "      <td>9759</td>\n",
       "      <td>B</td>\n",
       "    </tr>\n",
       "    <tr>\n",
       "      <th>4</th>\n",
       "      <td>2282983706</td>\n",
       "      <td>2322279887</td>\n",
       "      <td>2019-08-15</td>\n",
       "      <td>2308</td>\n",
       "      <td>B</td>\n",
       "    </tr>\n",
       "    <tr>\n",
       "      <th>5</th>\n",
       "      <td>182168103</td>\n",
       "      <td>935554773</td>\n",
       "      <td>2019-08-15</td>\n",
       "      <td>2210</td>\n",
       "      <td>B</td>\n",
       "    </tr>\n",
       "    <tr>\n",
       "      <th>6</th>\n",
       "      <td>398296753</td>\n",
       "      <td>2900797465</td>\n",
       "      <td>2019-08-15</td>\n",
       "      <td>1860</td>\n",
       "      <td>B</td>\n",
       "    </tr>\n",
       "    <tr>\n",
       "      <th>7</th>\n",
       "      <td>2626614568</td>\n",
       "      <td>78758296</td>\n",
       "      <td>2019-08-15</td>\n",
       "      <td>1044</td>\n",
       "      <td>A</td>\n",
       "    </tr>\n",
       "    <tr>\n",
       "      <th>8</th>\n",
       "      <td>1576988021</td>\n",
       "      <td>295230930</td>\n",
       "      <td>2019-08-15</td>\n",
       "      <td>13710</td>\n",
       "      <td>A</td>\n",
       "    </tr>\n",
       "    <tr>\n",
       "      <th>9</th>\n",
       "      <td>1506739906</td>\n",
       "      <td>1882260405</td>\n",
       "      <td>2019-08-15</td>\n",
       "      <td>1855</td>\n",
       "      <td>B</td>\n",
       "    </tr>\n",
       "  </tbody>\n",
       "</table>\n",
       "</div>"
      ],
      "text/plain": [
       "   transactionId   visitorId        date  revenue group\n",
       "0     3667963787  3312258926  2019-08-15     1650     B\n",
       "1     2804400009  3642806036  2019-08-15      730     B\n",
       "2     2961555356  4069496402  2019-08-15      400     A\n",
       "3     3797467345  1196621759  2019-08-15     9759     B\n",
       "4     2282983706  2322279887  2019-08-15     2308     B\n",
       "5      182168103   935554773  2019-08-15     2210     B\n",
       "6      398296753  2900797465  2019-08-15     1860     B\n",
       "7     2626614568    78758296  2019-08-15     1044     A\n",
       "8     1576988021   295230930  2019-08-15    13710     A\n",
       "9     1506739906  1882260405  2019-08-15     1855     B"
      ]
     },
     "metadata": {},
     "output_type": "display_data"
    },
    {
     "name": "stdout",
     "output_type": "stream",
     "text": [
      "\n",
      "<class 'pandas.core.frame.DataFrame'>\n",
      "RangeIndex: 1197 entries, 0 to 1196\n",
      "Data columns (total 5 columns):\n",
      " #   Column         Non-Null Count  Dtype \n",
      "---  ------         --------------  ----- \n",
      " 0   transactionId  1197 non-null   int64 \n",
      " 1   visitorId      1197 non-null   int64 \n",
      " 2   date           1197 non-null   object\n",
      " 3   revenue        1197 non-null   int64 \n",
      " 4   group          1197 non-null   object\n",
      "dtypes: int64(3), object(2)\n",
      "memory usage: 46.9+ KB\n"
     ]
    }
   ],
   "source": [
    "display(orders.head(10))\n",
    "print()\n",
    "orders.info()"
   ]
  },
  {
   "cell_type": "markdown",
   "metadata": {},
   "source": [
    "И приведем столбец `date` к формату `datetime`"
   ]
  },
  {
   "cell_type": "code",
   "execution_count": 9,
   "metadata": {},
   "outputs": [],
   "source": [
    "orders['date'] = orders['date'].map(lambda x: dt.datetime.strptime(x, '%Y-%m-%d'))"
   ]
  },
  {
   "cell_type": "code",
   "execution_count": 10,
   "metadata": {},
   "outputs": [
    {
     "name": "stdout",
     "output_type": "stream",
     "text": [
      "<class 'pandas.core.frame.DataFrame'>\n",
      "RangeIndex: 1197 entries, 0 to 1196\n",
      "Data columns (total 5 columns):\n",
      " #   Column         Non-Null Count  Dtype         \n",
      "---  ------         --------------  -----         \n",
      " 0   transactionId  1197 non-null   int64         \n",
      " 1   visitorId      1197 non-null   int64         \n",
      " 2   date           1197 non-null   datetime64[ns]\n",
      " 3   revenue        1197 non-null   int64         \n",
      " 4   group          1197 non-null   object        \n",
      "dtypes: datetime64[ns](1), int64(3), object(1)\n",
      "memory usage: 46.9+ KB\n"
     ]
    }
   ],
   "source": [
    "orders.info()"
   ]
  },
  {
   "cell_type": "markdown",
   "metadata": {},
   "source": [
    "Проверим, есть ли пропуски в данных:"
   ]
  },
  {
   "cell_type": "code",
   "execution_count": 11,
   "metadata": {},
   "outputs": [
    {
     "name": "stdout",
     "output_type": "stream",
     "text": [
      "Количество пропусков в таблице:\n",
      "transactionId    0\n",
      "visitorId        0\n",
      "date             0\n",
      "revenue          0\n",
      "group            0\n",
      "dtype: int64\n"
     ]
    }
   ],
   "source": [
    "print('Количество пропусков в таблице:')\n",
    "print(orders.isna().sum())"
   ]
  },
  {
   "cell_type": "markdown",
   "metadata": {},
   "source": [
    "Пропусков не наблюдается.\n",
    "\n",
    "Заодно проведем проверку на дубликаты:"
   ]
  },
  {
   "cell_type": "code",
   "execution_count": 12,
   "metadata": {},
   "outputs": [
    {
     "name": "stdout",
     "output_type": "stream",
     "text": [
      "Количество дубликатов в таблице: 0\n"
     ]
    }
   ],
   "source": [
    "print(f'Количество дубликатов в таблице: {orders.duplicated().sum()}')"
   ]
  },
  {
   "cell_type": "markdown",
   "metadata": {},
   "source": [
    "Переходим к таблице с посетителями:"
   ]
  },
  {
   "cell_type": "code",
   "execution_count": 13,
   "metadata": {},
   "outputs": [
    {
     "data": {
      "text/html": [
       "<div>\n",
       "<style scoped>\n",
       "    .dataframe tbody tr th:only-of-type {\n",
       "        vertical-align: middle;\n",
       "    }\n",
       "\n",
       "    .dataframe tbody tr th {\n",
       "        vertical-align: top;\n",
       "    }\n",
       "\n",
       "    .dataframe thead th {\n",
       "        text-align: right;\n",
       "    }\n",
       "</style>\n",
       "<table border=\"1\" class=\"dataframe\">\n",
       "  <thead>\n",
       "    <tr style=\"text-align: right;\">\n",
       "      <th></th>\n",
       "      <th>date</th>\n",
       "      <th>group</th>\n",
       "      <th>visitors</th>\n",
       "    </tr>\n",
       "  </thead>\n",
       "  <tbody>\n",
       "    <tr>\n",
       "      <th>0</th>\n",
       "      <td>2019-08-01</td>\n",
       "      <td>A</td>\n",
       "      <td>719</td>\n",
       "    </tr>\n",
       "    <tr>\n",
       "      <th>1</th>\n",
       "      <td>2019-08-02</td>\n",
       "      <td>A</td>\n",
       "      <td>619</td>\n",
       "    </tr>\n",
       "    <tr>\n",
       "      <th>2</th>\n",
       "      <td>2019-08-03</td>\n",
       "      <td>A</td>\n",
       "      <td>507</td>\n",
       "    </tr>\n",
       "    <tr>\n",
       "      <th>3</th>\n",
       "      <td>2019-08-04</td>\n",
       "      <td>A</td>\n",
       "      <td>717</td>\n",
       "    </tr>\n",
       "    <tr>\n",
       "      <th>4</th>\n",
       "      <td>2019-08-05</td>\n",
       "      <td>A</td>\n",
       "      <td>756</td>\n",
       "    </tr>\n",
       "    <tr>\n",
       "      <th>5</th>\n",
       "      <td>2019-08-06</td>\n",
       "      <td>A</td>\n",
       "      <td>667</td>\n",
       "    </tr>\n",
       "    <tr>\n",
       "      <th>6</th>\n",
       "      <td>2019-08-07</td>\n",
       "      <td>A</td>\n",
       "      <td>644</td>\n",
       "    </tr>\n",
       "    <tr>\n",
       "      <th>7</th>\n",
       "      <td>2019-08-08</td>\n",
       "      <td>A</td>\n",
       "      <td>610</td>\n",
       "    </tr>\n",
       "    <tr>\n",
       "      <th>8</th>\n",
       "      <td>2019-08-09</td>\n",
       "      <td>A</td>\n",
       "      <td>617</td>\n",
       "    </tr>\n",
       "    <tr>\n",
       "      <th>9</th>\n",
       "      <td>2019-08-10</td>\n",
       "      <td>A</td>\n",
       "      <td>406</td>\n",
       "    </tr>\n",
       "  </tbody>\n",
       "</table>\n",
       "</div>"
      ],
      "text/plain": [
       "         date group  visitors\n",
       "0  2019-08-01     A       719\n",
       "1  2019-08-02     A       619\n",
       "2  2019-08-03     A       507\n",
       "3  2019-08-04     A       717\n",
       "4  2019-08-05     A       756\n",
       "5  2019-08-06     A       667\n",
       "6  2019-08-07     A       644\n",
       "7  2019-08-08     A       610\n",
       "8  2019-08-09     A       617\n",
       "9  2019-08-10     A       406"
      ]
     },
     "metadata": {},
     "output_type": "display_data"
    },
    {
     "name": "stdout",
     "output_type": "stream",
     "text": [
      "\n",
      "<class 'pandas.core.frame.DataFrame'>\n",
      "RangeIndex: 62 entries, 0 to 61\n",
      "Data columns (total 3 columns):\n",
      " #   Column    Non-Null Count  Dtype \n",
      "---  ------    --------------  ----- \n",
      " 0   date      62 non-null     object\n",
      " 1   group     62 non-null     object\n",
      " 2   visitors  62 non-null     int64 \n",
      "dtypes: int64(1), object(2)\n",
      "memory usage: 1.6+ KB\n"
     ]
    }
   ],
   "source": [
    "display(visitors.head(10))\n",
    "print()\n",
    "visitors.info()"
   ]
  },
  {
   "cell_type": "markdown",
   "metadata": {},
   "source": [
    "Аналогично приведем столбец `date` к формату `datetime`:"
   ]
  },
  {
   "cell_type": "code",
   "execution_count": 14,
   "metadata": {},
   "outputs": [],
   "source": [
    "visitors['date'] = visitors['date'].map(lambda x: dt.datetime.strptime(x, '%Y-%m-%d'))"
   ]
  },
  {
   "cell_type": "markdown",
   "metadata": {},
   "source": [
    "И посчитаем пропуски:"
   ]
  },
  {
   "cell_type": "code",
   "execution_count": 15,
   "metadata": {},
   "outputs": [
    {
     "name": "stdout",
     "output_type": "stream",
     "text": [
      "Количество пропусков в таблице:\n",
      "date        0\n",
      "group       0\n",
      "visitors    0\n",
      "dtype: int64\n"
     ]
    }
   ],
   "source": [
    "print('Количество пропусков в таблице:')\n",
    "print(visitors.isna().sum())"
   ]
  },
  {
   "cell_type": "markdown",
   "metadata": {},
   "source": [
    "Также проверим на наличие дубликатов:"
   ]
  },
  {
   "cell_type": "code",
   "execution_count": 16,
   "metadata": {},
   "outputs": [
    {
     "name": "stdout",
     "output_type": "stream",
     "text": [
      "Количество дубликатов в таблице: 0\n"
     ]
    }
   ],
   "source": [
    "print(f'Количество дубликатов в таблице: {visitors.duplicated().sum()}')"
   ]
  },
  {
   "cell_type": "markdown",
   "metadata": {},
   "source": [
    "### Выводы"
   ]
  },
  {
   "cell_type": "markdown",
   "metadata": {},
   "source": [
    "Предобработка данных проведена успешно, дубликатов и пропусков не обнаружено. Теперь мы готовы приступать к дальнейшему анализу.\n"
   ]
  },
  {
   "cell_type": "markdown",
   "metadata": {},
   "source": [
    "## График кумулятивной выручки по группам"
   ]
  },
  {
   "cell_type": "markdown",
   "metadata": {},
   "source": [
    "\n",
    "Для начала соберем уникальные значения дат и групп теста по парам:"
   ]
  },
  {
   "cell_type": "code",
   "execution_count": 19,
   "metadata": {},
   "outputs": [],
   "source": [
    "datesGroups = orders[['date','group']].drop_duplicates() "
   ]
  },
  {
   "cell_type": "markdown",
   "metadata": {},
   "source": [
    "Соберем кумулятивные данные о заказах по дням: "
   ]
  },
  {
   "cell_type": "code",
   "execution_count": 20,
   "metadata": {},
   "outputs": [],
   "source": [
    "ordersAggregated = datesGroups.apply(lambda x: orders[np.logical_and(orders['date'] <= x['date'], orders['group'] == x['group'])]\\\n",
    ".agg({'date' : 'max', 'group' : 'max', 'transactionId' : 'nunique', 'visitorId' : 'nunique', 'revenue' : 'sum'}), axis=1)\\\n",
    ".sort_values(by=['date','group'])\n",
    "\n"
   ]
  },
  {
   "cell_type": "markdown",
   "metadata": {},
   "source": [
    "Похожим способом мы получаем кумулятивные данные о пользователях по дням:"
   ]
  },
  {
   "cell_type": "code",
   "execution_count": 21,
   "metadata": {},
   "outputs": [],
   "source": [
    "visitorsAggregated = datesGroups.apply(lambda x: visitors[np.logical_and(visitors['date'] <= x['date'], visitors['group'] == x['group'])]\\\n",
    ".agg({'date' : 'max', 'group' : 'max', 'visitors' : 'sum'}), axis=1).sort_values(by=['date','group'])"
   ]
  },
  {
   "cell_type": "markdown",
   "metadata": {},
   "source": [
    "Собранные данные мы объединяем в общую таблицу и переименовываем столбцы во избежание путаницы:"
   ]
  },
  {
   "cell_type": "code",
   "execution_count": 22,
   "metadata": {},
   "outputs": [],
   "source": [
    "cumulativeData = ordersAggregated.merge(visitorsAggregated, left_on=['date', 'group'], right_on=['date', 'group'])\n",
    "cumulativeData.columns = ['date', 'group', 'orders', 'buyers', 'revenue', 'visitors']"
   ]
  },
  {
   "cell_type": "markdown",
   "metadata": {},
   "source": [
    "Построим графики кумулятивной выручки по группам:"
   ]
  },
  {
   "cell_type": "markdown",
   "metadata": {},
   "source": [
    "Для начала объявим переменные, в которых мы сохраним кумулятивное количество заказов и выручки по датам:"
   ]
  },
  {
   "cell_type": "code",
   "execution_count": 23,
   "metadata": {},
   "outputs": [],
   "source": [
    "cumulativeRevenueA = cumulativeData[cumulativeData['group']=='A'][['date','revenue', 'orders']]  # для группы А\n",
    "\n",
    "cumulativeRevenueB = cumulativeData[cumulativeData['group']=='B'][['date','revenue', 'orders']]  # для группы В\n"
   ]
  },
  {
   "cell_type": "markdown",
   "metadata": {},
   "source": [
    "И теперь построим графики выручки по группам:"
   ]
  },
  {
   "cell_type": "code",
   "execution_count": 24,
   "metadata": {
    "scrolled": true
   },
   "outputs": [
    {
     "data": {
      "image/png": "[encoded data removed]",
      "text/plain": [
       "<Figure size 432x288 with 1 Axes>"
      ]
     },
     "metadata": {
      "needs_background": "light"
     },
     "output_type": "display_data"
    }
   ],
   "source": [
    "plt.plot(cumulativeRevenueA['date'], cumulativeRevenueA['revenue'], label='A')  # для группы А\n",
    "plt.plot(cumulativeRevenueB['date'], cumulativeRevenueB['revenue'], label='B')  # для группы В\n",
    "plt.plot(figsize=(15,7), grid = True)\n",
    "plt.legend()\n",
    "plt.ylabel('Выручка')\n",
    "plt.xlabel('Даты')\n",
    "plt.xticks(rotation=45)\n",
    "plt.title('График кумулятивной выручки по группам')\n",
    "plt.show()"
   ]
  },
  {
   "cell_type": "markdown",
   "metadata": {},
   "source": [
    "На графике видно, что в определенный момент группа В резко вырывается вперед. Либо в этот период было очень иного заказов, либо это выброс, который надо будет удалить. \n",
    "\n"
   ]
  },
  {
   "cell_type": "markdown",
   "metadata": {},
   "source": [
    "## График кумулятивного среднего чека"
   ]
  },
  {
   "cell_type": "markdown",
   "metadata": {},
   "source": [
    "\n",
    "Теперь построим график кумулятивного среднего чека по группам:"
   ]
  },
  {
   "cell_type": "code",
   "execution_count": 25,
   "metadata": {
    "scrolled": true
   },
   "outputs": [
    {
     "data": {
      "image/png": "[encoded data removed]",
      "text/plain": [
       "<Figure size 432x288 with 1 Axes>"
      ]
     },
     "metadata": {
      "needs_background": "light"
     },
     "output_type": "display_data"
    }
   ],
   "source": [
    "plt.plot(cumulativeRevenueA['date'], cumulativeRevenueA['revenue']/cumulativeRevenueA['orders'], label='A')\n",
    "plt.plot(cumulativeRevenueB['date'], cumulativeRevenueB['revenue']/cumulativeRevenueB['orders'], label='B')\n",
    "plt.title('График кумулятивного среднего чека по группам')\n",
    "plt.legend(loc = 'upper left')\n",
    "plt.ylabel('Выручка')\n",
    "plt.xlabel('Даты')\n",
    "plt.xticks(rotation=45)\n",
    "plt.show()"
   ]
  },
  {
   "cell_type": "markdown",
   "metadata": {},
   "source": [
    "Мы видим, что значения среднего чека колеблются весьма сильно в обеих группах, причем группа В опять показывает резкие скачки, которые требуют дальнейшего анализа. Группа А показывает признаки стабилизации ближе к концу теста. Скорее всего, нам потребуется дополнительный анализ выбросов по этой метрике.\n"
   ]
  },
  {
   "cell_type": "markdown",
   "metadata": {},
   "source": [
    "## График относительного изменения кумулятивного среднего чека группы B к группе A"
   ]
  },
  {
   "cell_type": "markdown",
   "metadata": {},
   "source": [
    "\n",
    "Также построим график относительного изменения кумулятивного среднего чека группы B к группе A. Для этого соберем данные в одном датафрейме и добавим линию ноля:"
   ]
  },
  {
   "cell_type": "code",
   "execution_count": 26,
   "metadata": {
    "scrolled": true
   },
   "outputs": [
    {
     "data": {
      "image/png": "[encoded data removed]",
      "text/plain": [
       "<Figure size 432x288 with 1 Axes>"
      ]
     },
     "metadata": {
      "needs_background": "light"
     },
     "output_type": "display_data"
    }
   ],
   "source": [
    "mergedCumulativeRevenue = cumulativeRevenueA.merge(cumulativeRevenueB, left_on='date', right_on='date', how='left', suffixes=['A', 'B'])\n",
    "\n",
    "plt.plot(mergedCumulativeRevenue['date'],(mergedCumulativeRevenue['revenueB']/mergedCumulativeRevenue['ordersB'])/(mergedCumulativeRevenue['revenueA']/mergedCumulativeRevenue['ordersA'])-1)\n",
    "plt.axhline(y=0, color='black', linestyle='--') \n",
    "plt.title('График относительного изменения кумулятивного среднего чека')\n",
    "plt.ylabel('Прирост')\n",
    "plt.xlabel('Даты')\n",
    "plt.xticks(rotation=45)\n",
    "plt.show()"
   ]
  },
  {
   "cell_type": "markdown",
   "metadata": {},
   "source": [
    "Значительные колебания на графике указывают нам на наличие выбросов или крупных заказов.\n",
    "\n"
   ]
  },
  {
   "cell_type": "markdown",
   "metadata": {},
   "source": [
    "## График кумулятивной конверсии по группам"
   ]
  },
  {
   "cell_type": "markdown",
   "metadata": {},
   "source": [
    "Теперь посмотрим на конверсию. Для начала добавим в общую таблицу столбец `conversion`, поделив `orders` на `visitors`:"
   ]
  },
  {
   "cell_type": "code",
   "execution_count": 27,
   "metadata": {
    "scrolled": true
   },
   "outputs": [],
   "source": [
    "cumulativeData['conversion'] = cumulativeData['orders']/cumulativeData['visitors']"
   ]
  },
  {
   "cell_type": "markdown",
   "metadata": {},
   "source": [
    "И сгруппируем по группам А/В:"
   ]
  },
  {
   "cell_type": "code",
   "execution_count": 28,
   "metadata": {},
   "outputs": [],
   "source": [
    "cumulativeDataA = cumulativeData[cumulativeData['group']=='A']  # группа А\n",
    "\n",
    "cumulativeDataB = cumulativeData[cumulativeData['group']=='B']  # группа В"
   ]
  },
  {
   "cell_type": "markdown",
   "metadata": {},
   "source": [
    "Построим график кумулятивной конверсии по группам:"
   ]
  },
  {
   "cell_type": "code",
   "execution_count": 29,
   "metadata": {},
   "outputs": [
    {
     "data": {
      "image/png": "[encoded data removed]",
      "text/plain": [
       "<Figure size 432x288 with 1 Axes>"
      ]
     },
     "metadata": {
      "needs_background": "light"
     },
     "output_type": "display_data"
    }
   ],
   "source": [
    "plt.plot(cumulativeDataA['date'], cumulativeDataA['conversion'], label='A')\n",
    "plt.plot(cumulativeDataB['date'], cumulativeDataB['conversion'], label='B')\n",
    "plt.legend()\n",
    "\n",
    "\n",
    "plt.axis([dt.datetime(2019, 8, 1), dt.datetime(2019, 9, 1), 0, 0.05]) \n",
    "plt.title('Графики кумулятивной конверсии по группам')\n",
    "plt.legend()\n",
    "plt.ylabel('Конверсия')\n",
    "plt.xlabel('Даты')\n",
    "plt.xticks(rotation=45)\n",
    "plt.show()"
   ]
  },
  {
   "cell_type": "markdown",
   "metadata": {},
   "source": [
    "На графике мы видим, что вначале в течение определенного времени конверсия группы А была выше, но затем группа В вырвалась вперед и ситуация стабилизировалась, теперь конверсия группы В стабильно выше.\n"
   ]
  },
  {
   "cell_type": "markdown",
   "metadata": {},
   "source": [
    "##  График относительного изменения кумулятивной конверсии по группам"
   ]
  },
  {
   "cell_type": "markdown",
   "metadata": {},
   "source": [
    "\n",
    "Посмотрим на относительное различие кумулятивной конверсии по группам:"
   ]
  },
  {
   "cell_type": "code",
   "execution_count": 30,
   "metadata": {
    "scrolled": true
   },
   "outputs": [
    {
     "data": {
      "image/png": "[encoded data removed]",
      "text/plain": [
       "<Figure size 432x288 with 1 Axes>"
      ]
     },
     "metadata": {
      "needs_background": "light"
     },
     "output_type": "display_data"
    }
   ],
   "source": [
    "mergedCumulativeConversions = cumulativeDataA[['date','conversion']].merge(cumulativeDataB[['date','conversion']], left_on='date', right_on='date', how='left', suffixes=['A', 'B']) \n",
    "\n",
    "plt.plot(mergedCumulativeConversions['date'], mergedCumulativeConversions['conversionB']/mergedCumulativeConversions['conversionA']-1, label=\"Прирост конверсии\")\n",
    "plt.legend()\n",
    "\n",
    "plt.axhline(y=0, color='black', linestyle='--')\n",
    "plt.axhline(y=0.2, color='grey', linestyle='--')\n",
    "plt.axis([dt.datetime(2019, 8, 1), dt.datetime(2019, 9, 1), -0.5, 0.5]) \n",
    "plt.title('Относительный прирост конверсии группы B относительно группы A')\n",
    "plt.ylabel('Прирост')\n",
    "plt.xlabel('Даты')\n",
    "plt.xticks(rotation=45)\n",
    "plt.show()"
   ]
  },
  {
   "cell_type": "markdown",
   "metadata": {},
   "source": [
    "Мы видим, что вначале конверсия группы В немного просела, но затем обошла группу А и ее прирост относительно группы А на данный момент составляет около 10%. В целом, можно сказать, что группа В стабильно конвертируется лучше и, вероятно, еще немного вырастет."
   ]
  },
  {
   "cell_type": "markdown",
   "metadata": {},
   "source": [
    "## Точечный график количества заказов по пользователям"
   ]
  },
  {
   "cell_type": "markdown",
   "metadata": {},
   "source": [
    "Далее мы присутпаем к анализу заказов. \n",
    "\n",
    "Найдем количество заказов по пользователям и переименуем столбцы для удобства анализа:"
   ]
  },
  {
   "cell_type": "code",
   "execution_count": 31,
   "metadata": {},
   "outputs": [
    {
     "name": "stdout",
     "output_type": "stream",
     "text": [
      "       visitorId  orders\n",
      "1023  4256040402      11\n",
      "591   2458001652      11\n",
      "569   2378935119       9\n",
      "487   2038680547       8\n",
      "44     199603092       5\n",
      "744   3062433592       5\n",
      "55     237748145       5\n",
      "917   3803269165       5\n",
      "299   1230306981       5\n",
      "897   3717692402       5\n"
     ]
    }
   ],
   "source": [
    "ordersByUsers = (\n",
    "    orders.groupby('visitorId', as_index=False)\n",
    "    .agg({'transactionId': 'nunique'})\n",
    ")\n",
    "ordersByUsers.columns = ['visitorId', 'orders']\n",
    "\n",
    "print(ordersByUsers.sort_values(by='orders', ascending=False).head(10))\n"
   ]
  },
  {
   "cell_type": "markdown",
   "metadata": {},
   "source": [
    "Два пользователя отметились 11 заказами в магазине, явно постоянные клиенты. \n",
    "\n",
    "Посмотрим на эту информацию на графике:"
   ]
  },
  {
   "cell_type": "code",
   "execution_count": 32,
   "metadata": {
    "scrolled": true
   },
   "outputs": [
    {
     "data": {
      "image/png": "[encoded data removed]",
      "text/plain": [
       "<Figure size 432x288 with 1 Axes>"
      ]
     },
     "metadata": {
      "needs_background": "light"
     },
     "output_type": "display_data"
    }
   ],
   "source": [
    "# серия из чисел от 0 до количества наблюдений в ordersByUsers\n",
    "x_values = pd.Series(range(0, len(ordersByUsers)))\n",
    "plt.scatter(x_values, ordersByUsers['orders']) \n",
    "plt.title('Количество заказов по пользователям')\n",
    "plt.ylabel('Заказы')\n",
    "plt.xlabel('Пользователи')\n",
    "plt.show()"
   ]
  },
  {
   "cell_type": "markdown",
   "metadata": {},
   "source": [
    "Диаграмма явно показывает нам, что количество пользователей, сделавших более двух заказов, невелико. Чтобы понять, какое количество заказов можно считать выбросами, нам необходимо посчитать 90, 95 и 99 процентили:"
   ]
  },
  {
   "cell_type": "markdown",
   "metadata": {},
   "source": [
    "## Расчет 90, 95 и 99 перцентилей количества заказов"
   ]
  },
  {
   "cell_type": "code",
   "execution_count": 33,
   "metadata": {},
   "outputs": [
    {
     "name": "stdout",
     "output_type": "stream",
     "text": [
      "90, 95 и 99 перцентили:[1. 2. 4.].\n"
     ]
    }
   ],
   "source": [
    "print('90, 95 и 99 перцентили:{}.'.format(np.percentile(ordersByUsers['orders'], [90, 95, 99])))"
   ]
  },
  {
   "cell_type": "markdown",
   "metadata": {},
   "source": [
    "То есть, мы видим, что только 1% пользователей оформил более 4 заказов, и только 5% более 2 заказов. \n",
    "\n",
    "Таким образом, будет разумно выбрать нижней границей 2 заказа и избавиться от тех пользователей, которые заказывали больше."
   ]
  },
  {
   "cell_type": "markdown",
   "metadata": {},
   "source": [
    "## Точечный график стоимости заказов по пользователям"
   ]
  },
  {
   "cell_type": "markdown",
   "metadata": {},
   "source": [
    "Теперь посмотрим на то, что у нас происходит со стоимостью заказов:"
   ]
  },
  {
   "cell_type": "code",
   "execution_count": 34,
   "metadata": {},
   "outputs": [
    {
     "data": {
      "image/png": "[encoded data removed]",
      "text/plain": [
       "<Figure size 432x288 with 1 Axes>"
      ]
     },
     "metadata": {
      "needs_background": "light"
     },
     "output_type": "display_data"
    }
   ],
   "source": [
    "x_values = pd.Series(range(0, len(orders['revenue'])))\n",
    "plt.scatter(x_values, orders['revenue'] )\n",
    "plt.title('Стоимость заказов по пользователям')\n",
    "plt.ylabel('Стоимость заказа')\n",
    "plt.xlabel('Пользователи')\n",
    "plt.show()"
   ]
  },
  {
   "cell_type": "markdown",
   "metadata": {},
   "source": [
    "В целом график выглядит вполне пристойно, но в глаза бросается очевидный выброс в 1,3 млн (ну или очень большая оптовая закупка) и заказ в 200 000 (тоже много, но не 1,3 млн).\n"
   ]
  },
  {
   "cell_type": "markdown",
   "metadata": {},
   "source": [
    "## Расчет 90, 95 и 99 перцентилей количества заказов"
   ]
  },
  {
   "cell_type": "markdown",
   "metadata": {},
   "source": [
    "\n",
    "Посмотрим на перцентили:"
   ]
  },
  {
   "cell_type": "code",
   "execution_count": 35,
   "metadata": {
    "scrolled": true
   },
   "outputs": [
    {
     "name": "stdout",
     "output_type": "stream",
     "text": [
      "90, 95 и 99 перцентили:[18168.  28000.  58233.2].\n"
     ]
    }
   ],
   "source": [
    "print('90, 95 и 99 перцентили:{}.'.format(np.percentile(orders['revenue'], [90, 95, 99])))"
   ]
  },
  {
   "cell_type": "markdown",
   "metadata": {},
   "source": [
    "Всего 1% пользователей сделал заказы на сумму более 58000 рублей, и всего 5% на сумму более 28000 рублей. \n",
    "Таким образом, выбираем нижнюю границу стоимости заказа в 58000 рублей. Для минимизации потерь уберем все заказы более 58000 рублей."
   ]
  },
  {
   "cell_type": "markdown",
   "metadata": {},
   "source": [
    "## Расчет статистической значимости различия в конверсии между группами по «сырым» данным"
   ]
  },
  {
   "cell_type": "markdown",
   "metadata": {},
   "source": [
    "Теперь посчитаем статистическую значимость различий в конверсии и среднем чеке между группами по «сырым» данным.\n",
    "\n",
    "Для начала сформулируем гипотезы:\n",
    "* Н0 - различий в конверсии между группами нет. \n",
    "* Н1 различия в конверсии между группами есть.\n",
    "\n",
    "Начнём с подготовки данных, объединив их в пригодную для анализа таблицу:"
   ]
  },
  {
   "cell_type": "code",
   "execution_count": 36,
   "metadata": {
    "scrolled": true
   },
   "outputs": [
    {
     "name": "stdout",
     "output_type": "stream",
     "text": [
      "        date  ordersPerDateA  revenuePerDateA  ordersPerDateB  \\\n",
      "0 2019-08-01              24           148579              20   \n",
      "1 2019-08-02              20            93822              23   \n",
      "2 2019-08-03              24           112473              16   \n",
      "3 2019-08-04              16            70825              16   \n",
      "4 2019-08-05              25           124218              23   \n",
      "\n",
      "   revenuePerDateB  ordersCummulativeA  revenueCummulativeA  \\\n",
      "0           101217                  24               148579   \n",
      "1           165531                  44               242401   \n",
      "2           114248                  68               354874   \n",
      "3           108571                  84               425699   \n",
      "4            92428                 109               549917   \n",
      "\n",
      "   ordersCummulativeB  revenueCummulativeB  visitorsPerDateA  \\\n",
      "0                  20               101217               719   \n",
      "1                  43               266748               619   \n",
      "2                  59               380996               507   \n",
      "3                  75               489567               717   \n",
      "4                  98               581995               756   \n",
      "\n",
      "   visitorsPerDateB  visitorsCummulativeA  visitorsCummulativeB  \n",
      "0               713                   719                   713  \n",
      "1               581                  1338                  1294  \n",
      "2               509                  1845                  1803  \n",
      "3               770                  2562                  2573  \n",
      "4               707                  3318                  3280  \n"
     ]
    }
   ],
   "source": [
    "visitorsADaily = visitors[visitors['group'] == 'A'][['date', 'visitors']]  # посетители по датам группы А\n",
    "visitorsADaily.columns = ['date', 'visitorsPerDateA']\n",
    "\n",
    "visitorsACummulative = visitorsADaily.apply(\n",
    "    lambda x: visitorsADaily[visitorsADaily['date'] <= x['date']].agg(\n",
    "        {'date': 'max', 'visitorsPerDateA': 'sum'}\n",
    "    ),\n",
    "    axis=1,\n",
    ")\n",
    "visitorsACummulative.columns = ['date', 'visitorsCummulativeA']\n",
    "\n",
    "visitorsBDaily = visitors[visitors['group'] == 'B'][['date', 'visitors']]  # посетители по датам группы В\n",
    "visitorsBDaily.columns = ['date', 'visitorsPerDateB']\n",
    "\n",
    "visitorsBCummulative = visitorsBDaily.apply(\n",
    "    lambda x: visitorsBDaily[visitorsBDaily['date'] <= x['date']].agg(\n",
    "        {'date': 'max', 'visitorsPerDateB': 'sum'}\n",
    "    ),\n",
    "    axis=1,\n",
    ")\n",
    "visitorsBCummulative.columns = ['date', 'visitorsCummulativeB']\n",
    "\n",
    "ordersADaily = (\n",
    "    orders[orders['group'] == 'A'][['date', 'transactionId', 'visitorId', 'revenue']]\n",
    "    .groupby('date', as_index=False)\n",
    "    .agg({'transactionId': pd.Series.nunique, 'revenue': 'sum'})   # заказы по датам группы А\n",
    ")\n",
    "ordersADaily.columns = ['date', 'ordersPerDateA', 'revenuePerDateA']\n",
    "\n",
    "ordersACummulative = ordersADaily.apply(\n",
    "    lambda x: ordersADaily[ordersADaily['date'] <= x['date']].agg(\n",
    "        {'date': 'max', 'ordersPerDateA': 'sum', 'revenuePerDateA': 'sum'}\n",
    "    ),\n",
    "    axis=1,\n",
    ").sort_values(by=['date'])\n",
    "ordersACummulative.columns = [\n",
    "    'date',\n",
    "    'ordersCummulativeA',\n",
    "    'revenueCummulativeA',\n",
    "]\n",
    "\n",
    "ordersBDaily = (\n",
    "    orders[orders['group'] == 'B'][['date', 'transactionId', 'visitorId', 'revenue']]\n",
    "    .groupby('date', as_index=False)\n",
    "    .agg({'visitorId': pd.Series.nunique, 'revenue': 'sum'})   # заказы по датам группы В\n",
    ")\n",
    "ordersBDaily.columns = ['date', 'ordersPerDateB', 'revenuePerDateB']\n",
    "\n",
    "ordersBCummulative = ordersBDaily.apply(\n",
    "    lambda x: ordersBDaily[ordersBDaily['date'] <= x['date']].agg(\n",
    "        {'date': 'max', 'ordersPerDateB': 'sum', 'revenuePerDateB': 'sum'}\n",
    "    ),\n",
    "    axis=1,\n",
    ").sort_values(by=['date'])\n",
    "ordersBCummulative.columns = [\n",
    "    'date',\n",
    "    'ordersCummulativeB',\n",
    "    'revenueCummulativeB',\n",
    "]\n",
    "# объединяем все в одну таблицу\n",
    "data = (\n",
    "    ordersADaily.merge(\n",
    "        ordersBDaily, left_on='date', right_on='date', how='left'\n",
    "    )\n",
    "    .merge(ordersACummulative, left_on='date', right_on='date', how='left')\n",
    "    .merge(ordersBCummulative, left_on='date', right_on='date', how='left')\n",
    "    .merge(visitorsADaily, left_on='date', right_on='date', how='left')\n",
    "    .merge(visitorsBDaily, left_on='date', right_on='date', how='left')\n",
    "    .merge(visitorsACummulative, left_on='date', right_on='date', how='left')\n",
    "    .merge(visitorsBCummulative, left_on='date', right_on='date', how='left')\n",
    ")\n",
    "\n",
    "print(data.head(5))  # проверка таблицы"
   ]
  },
  {
   "cell_type": "markdown",
   "metadata": {},
   "source": [
    "Теперь посчитаем статистическую значимость различий в конверсии между группами по «сырым» данным с применением теста Манна-Уитни и выведем значение p-value для сравнения конверсии между группами, а также относительное различие в конверсии между группами. "
   ]
  },
  {
   "cell_type": "code",
   "execution_count": 37,
   "metadata": {},
   "outputs": [
    {
     "name": "stdout",
     "output_type": "stream",
     "text": [
      "0.01679\n",
      "0.117\n"
     ]
    }
   ],
   "source": [
    "ordersByUsersA = (\n",
    "    orders[orders['group'] == 'A']\n",
    "    .groupby('visitorId', as_index=False)\n",
    "    .agg({'transactionId': pd.Series.nunique})\n",
    ")\n",
    "ordersByUsersA.columns = ['visitorId', 'orders']  # заказы группы А\n",
    "\n",
    "ordersByUsersB = (\n",
    "    orders[orders['group'] == 'B']\n",
    "    .groupby('visitorId', as_index=False)\n",
    "    .agg({'transactionId': pd.Series.nunique})\n",
    ")\n",
    "ordersByUsersB.columns = ['visitorId', 'orders']  # заказы группы В \n",
    "\n",
    "sampleA = pd.concat([ordersByUsersA['orders'],pd.Series(0, index=np.arange(data['visitorsPerDateA'].sum() - len(ordersByUsersA['orders'])), name='orders')],axis=0)\n",
    "\n",
    "sampleB = pd.concat([ordersByUsersB['orders'],pd.Series(0, index=np.arange(data['visitorsPerDateB'].sum() - len(ordersByUsersB['orders'])), name='orders')],axis=0) \n",
    "\n",
    "print(\"{0:.5f}\".format(stats.mannwhitneyu(sampleA, sampleB)[1]))\n",
    "\n",
    "print(\"{0:.3f}\".format((data['ordersPerDateB'].sum()/data['visitorsPerDateB'].sum())/(data['ordersPerDateA'].sum()/data['visitorsPerDateA'].sum())-1))"
   ]
  },
  {
   "cell_type": "markdown",
   "metadata": {},
   "source": [
    "Полученное нами p-value значительно меньше 0.05, поэтому мы отвергаем нулевую гипотезу, различия в конверсии присутствуют.\n",
    "\n",
    "Прирост конверсии группы В составляет 11,7%.\n",
    "\n"
   ]
  },
  {
   "cell_type": "markdown",
   "metadata": {},
   "source": [
    "## Расчет статистической значимости различия в среднем чеке между группами по «сырым» данным"
   ]
  },
  {
   "cell_type": "markdown",
   "metadata": {},
   "source": [
    "\n",
    "Теперь проверим статистическую значимость различий в среднем чеке между сегментами:\n",
    "* Н0 - различий в среднем чеке между группами нет. \n",
    "* Н1 - различия в среднем чеке между группами есть."
   ]
  },
  {
   "cell_type": "code",
   "execution_count": 38,
   "metadata": {
    "scrolled": true
   },
   "outputs": [
    {
     "name": "stdout",
     "output_type": "stream",
     "text": [
      "0.729\n",
      "0.259\n"
     ]
    }
   ],
   "source": [
    "# p-value \n",
    "print('{0:.3f}'.format(stats.mannwhitneyu(orders[orders['group']=='A']['revenue'], orders[orders['group']=='B']['revenue'])[1]))\n",
    "# прирост\n",
    "print('{0:.3f}'.format(orders[orders['group']=='B']['revenue'].mean()/orders[orders['group']=='A']['revenue'].mean()-1)) "
   ]
  },
  {
   "cell_type": "markdown",
   "metadata": {},
   "source": [
    "Полученное нами p-value значительно больше 0.05, поэтому мы можем сказать, что различий в среднем чеке в группах А и В нет.\n",
    "\n",
    "Но в то же время, средний чек группы В значительно больше, чем в группе А на 25,9%. "
   ]
  },
  {
   "cell_type": "markdown",
   "metadata": {},
   "source": [
    "## Расчет статистической значимости различия в конверсии между группами по «очищенным» данным"
   ]
  },
  {
   "cell_type": "markdown",
   "metadata": {},
   "source": [
    "Теперь очистим данные от аномальных значений. Мы приняли за аномалии всех пользователей, сделавших больше 2 заказов и всех, заказавших на сумму более 58000 рублей:"
   ]
  },
  {
   "cell_type": "code",
   "execution_count": 39,
   "metadata": {
    "scrolled": true
   },
   "outputs": [
    {
     "name": "stdout",
     "output_type": "stream",
     "text": [
      "1099    148427295\n",
      "18      199603092\n",
      "23      237748145\n",
      "37      249864742\n",
      "68      457167155\n",
      "Name: visitorId, dtype: int64\n",
      "(31,)\n"
     ]
    }
   ],
   "source": [
    "usersWithManyOrders = pd.concat(\n",
    "    [\n",
    "        ordersByUsersA[ordersByUsersA['orders'] > 2]['visitorId'],\n",
    "        ordersByUsersB[ordersByUsersB['orders'] > 2]['visitorId'],\n",
    "    ],\n",
    "    axis=0,\n",
    ")\n",
    "usersWithExpensiveOrders = orders[orders['revenue'] > 58000]['visitorId']\n",
    "abnormalUsers = (\n",
    "    pd.concat([usersWithManyOrders, usersWithExpensiveOrders], axis=0)\n",
    "    .drop_duplicates()\n",
    "    .sort_values()\n",
    ")\n",
    "print(abnormalUsers.head(5))  # проверка\n",
    "print(abnormalUsers.shape) \n"
   ]
  },
  {
   "cell_type": "markdown",
   "metadata": {},
   "source": [
    "Итого у нас 31 аномальный пользователь."
   ]
  },
  {
   "cell_type": "markdown",
   "metadata": {},
   "source": [
    "Посчитаем статистическую значимость различий в конверсии между группами теста по очищенным данным.Подготовим выборки количества заказов по пользователям по группам теста и применим статистический критерий Манна-Уитни:"
   ]
  },
  {
   "cell_type": "code",
   "execution_count": 40,
   "metadata": {},
   "outputs": [
    {
     "name": "stdout",
     "output_type": "stream",
     "text": [
      "0.01007\n",
      "0.174\n"
     ]
    }
   ],
   "source": [
    "\n",
    "sampleAFiltered = pd.concat(\n",
    "    [\n",
    "        ordersByUsersA[\n",
    "            np.logical_not(ordersByUsersA['visitorId'].isin(abnormalUsers))\n",
    "        ]['orders'],\n",
    "        pd.Series(\n",
    "            0,\n",
    "            index=np.arange(\n",
    "                data['visitorsPerDateA'].sum() - len(ordersByUsersA['orders'])\n",
    "            ),\n",
    "            name='orders',\n",
    "        ),\n",
    "    ],\n",
    "    axis=0,\n",
    ")\n",
    "\n",
    "sampleBFiltered = pd.concat(\n",
    "    [\n",
    "        ordersByUsersB[\n",
    "            np.logical_not(ordersByUsersB['visitorId'].isin(abnormalUsers))\n",
    "        ]['orders'],\n",
    "        pd.Series(\n",
    "            0,\n",
    "            index=np.arange(\n",
    "                data['visitorsPerDateB'].sum() - len(ordersByUsersB['orders'])\n",
    "            ),\n",
    "            name='orders',\n",
    "        ),\n",
    "    ],\n",
    "    axis=0,\n",
    ") \n",
    "\n",
    "print('{0:.5f}'.format(stats.mannwhitneyu(sampleAFiltered, sampleBFiltered)[1]))\n",
    "print('{0:.3f}'.format(sampleBFiltered.mean()/sampleAFiltered.mean()-1)) "
   ]
  },
  {
   "cell_type": "markdown",
   "metadata": {},
   "source": [
    "Различия в конверсии по-прежнему есть, но прирост конверсии группы В составляет уже 17,4%."
   ]
  },
  {
   "cell_type": "markdown",
   "metadata": {},
   "source": [
    "## Расчет статистической значимости различия в среднем чеке между группами по «очищенным» данным"
   ]
  },
  {
   "cell_type": "markdown",
   "metadata": {},
   "source": [
    "Теперь посмотрим, что произошло с данными по среднему чеку:"
   ]
  },
  {
   "cell_type": "code",
   "execution_count": 41,
   "metadata": {},
   "outputs": [
    {
     "name": "stdout",
     "output_type": "stream",
     "text": [
      "0.798\n",
      "-0.020\n"
     ]
    }
   ],
   "source": [
    "print(\n",
    "    '{0:.3f}'.format(\n",
    "        stats.mannwhitneyu(\n",
    "            orders[\n",
    "                np.logical_and(\n",
    "                    orders['group'] == 'A',\n",
    "                    np.logical_not(orders['visitorId'].isin(abnormalUsers)),\n",
    "                )\n",
    "            ]['revenue'],\n",
    "            orders[\n",
    "                np.logical_and(\n",
    "                    orders['group'] == 'B',\n",
    "                    np.logical_not(orders['visitorId'].isin(abnormalUsers)),\n",
    "                )\n",
    "            ]['revenue'],\n",
    "        )[1]\n",
    "    )\n",
    ")\n",
    "\n",
    "print(\n",
    "    \"{0:.3f}\".format(\n",
    "        orders[\n",
    "            np.logical_and(\n",
    "                orders['group'] == 'B',\n",
    "                np.logical_not(orders['visitorId'].isin(abnormalUsers)),\n",
    "            )\n",
    "        ]['revenue'].mean()\n",
    "        / orders[\n",
    "            np.logical_and(\n",
    "                orders['group'] == 'A',\n",
    "                np.logical_not(orders['visitorId'].isin(abnormalUsers)),\n",
    "            )\n",
    "        ]['revenue'].mean()\n",
    "        - 1\n",
    "    )\n",
    ") "
   ]
  },
  {
   "cell_type": "markdown",
   "metadata": {},
   "source": [
    "И снова мы можем сказать, что по очищенным данным различий в среднем чеке в группах А и В нет, но средний чек группы В стал ниже, чем в группе А на 2% (с 25%)."
   ]
  },
  {
   "cell_type": "markdown",
   "metadata": {},
   "source": [
    "### Выводы"
   ]
  },
  {
   "cell_type": "markdown",
   "metadata": {},
   "source": [
    "По итогам мы можем сделать следующие краткие выводы:\n",
    "\n",
    "* Присутствует статистически значимое различие по конверсии между группами и по «сырым», и отфильтрованным данным;\n",
    "* Нет статистически значимого различия по среднему чеку между группами ни по «сырым», ни по данным после фильтрации аномалий; "
   ]
  },
  {
   "cell_type": "markdown",
   "metadata": {},
   "source": [
    "# Выводы"
   ]
  },
  {
   "cell_type": "markdown",
   "metadata": {},
   "source": [
    "Часть 1:\n",
    "При проритизации гипотез большое значение имеет предполагаемый охват. Этот параметр может сильно повлиять на итоговую расстановку мест. \n",
    "\n",
    "Часть 2:\n",
    "\n",
    "После проведения А/В теста, у нас есть следующая информация:\n",
    "\n",
    "* Присутствует статистически значимое различие по конверсии между группами и по «сырым», и отфильтрованным данным;\n",
    "* Нет статистически значимого различия по среднему чеку между группами ни по «сырым», ни по данным после фильтрации аномалий;\n",
    "* График различия конверсии между группами сообщает, что результаты группы B лучше группы A и на настоящий момент есть незначительная тенденция к улучшению:\n",
    "* График различия среднего чека говорит о том, что результаты группы B понемногу ухудшаются, но все еще значительно лучше, чем у группы А.\n",
    "\n",
    "Исходя из вышесказанного, мы можем признать тест успешным и зафиксировать победу группы В."
   ]
  }
 ],
 "metadata": {
  "ExecuteTimeLog": [
   {
    "duration": 408,
    "start_time": "2022-04-13T08:30:02.211Z"
   },
   {
    "duration": 11,
    "start_time": "2022-04-13T08:30:37.216Z"
   },
   {
    "duration": 20,
    "start_time": "2022-04-13T08:30:55.619Z"
   },
   {
    "duration": 57,
    "start_time": "2022-04-13T08:32:52.100Z"
   },
   {
    "duration": 6,
    "start_time": "2022-04-13T08:32:55.482Z"
   },
   {
    "duration": 9,
    "start_time": "2022-04-13T08:32:58.056Z"
   },
   {
    "duration": 15,
    "start_time": "2022-04-13T08:32:58.272Z"
   },
   {
    "duration": 2420,
    "start_time": "2022-04-13T08:33:00.705Z"
   },
   {
    "duration": 3,
    "start_time": "2022-04-13T08:33:48.806Z"
   },
   {
    "duration": 12,
    "start_time": "2022-04-13T08:33:51.276Z"
   },
   {
    "duration": 4,
    "start_time": "2022-04-13T08:34:31.886Z"
   },
   {
    "duration": 11,
    "start_time": "2022-04-13T08:34:36.522Z"
   },
   {
    "duration": 12,
    "start_time": "2022-04-13T08:36:23.337Z"
   },
   {
    "duration": 11,
    "start_time": "2022-04-13T08:36:28.820Z"
   },
   {
    "duration": 10,
    "start_time": "2022-04-13T08:37:12.184Z"
   },
   {
    "duration": 411,
    "start_time": "2022-04-13T08:37:21.304Z"
   },
   {
    "duration": 15,
    "start_time": "2022-04-13T08:37:21.717Z"
   },
   {
    "duration": 21,
    "start_time": "2022-04-13T08:37:21.733Z"
   },
   {
    "duration": 3,
    "start_time": "2022-04-13T08:37:21.755Z"
   },
   {
    "duration": 76,
    "start_time": "2022-04-13T08:37:21.760Z"
   },
   {
    "duration": 0,
    "start_time": "2022-04-13T08:37:21.838Z"
   },
   {
    "duration": 12,
    "start_time": "2022-04-13T08:38:24.409Z"
   },
   {
    "duration": 7,
    "start_time": "2022-04-13T08:38:31.974Z"
   },
   {
    "duration": 10,
    "start_time": "2022-04-13T08:38:36.596Z"
   },
   {
    "duration": 11,
    "start_time": "2022-04-13T08:38:52.067Z"
   },
   {
    "duration": 18,
    "start_time": "2022-04-13T08:43:06.343Z"
   },
   {
    "duration": 4,
    "start_time": "2022-04-13T09:19:28.252Z"
   },
   {
    "duration": 5,
    "start_time": "2022-04-13T09:19:39.066Z"
   },
   {
    "duration": 501,
    "start_time": "2022-04-14T06:06:51.911Z"
   },
   {
    "duration": 29,
    "start_time": "2022-04-14T06:06:52.416Z"
   },
   {
    "duration": 34,
    "start_time": "2022-04-14T06:06:52.447Z"
   },
   {
    "duration": 14,
    "start_time": "2022-04-14T06:06:52.483Z"
   },
   {
    "duration": 20,
    "start_time": "2022-04-14T06:06:52.500Z"
   },
   {
    "duration": 34,
    "start_time": "2022-04-14T06:06:52.522Z"
   },
   {
    "duration": 16,
    "start_time": "2022-04-14T06:06:52.557Z"
   },
   {
    "duration": 52,
    "start_time": "2022-04-14T07:05:45.597Z"
   },
   {
    "duration": 23,
    "start_time": "2022-04-14T07:08:05.254Z"
   },
   {
    "duration": 194,
    "start_time": "2022-04-14T07:08:37.130Z"
   },
   {
    "duration": 8,
    "start_time": "2022-04-14T07:08:42.194Z"
   },
   {
    "duration": 92,
    "start_time": "2022-04-14T07:08:56.294Z"
   },
   {
    "duration": 7,
    "start_time": "2022-04-14T07:09:09.891Z"
   },
   {
    "duration": 21,
    "start_time": "2022-04-14T07:09:24.623Z"
   },
   {
    "duration": 6,
    "start_time": "2022-04-14T07:10:04.091Z"
   },
   {
    "duration": 7,
    "start_time": "2022-04-14T07:10:15.824Z"
   },
   {
    "duration": 190,
    "start_time": "2022-04-14T07:14:47.090Z"
   },
   {
    "duration": 810,
    "start_time": "2022-04-14T07:14:55.279Z"
   },
   {
    "duration": 779,
    "start_time": "2022-04-14T07:15:08.581Z"
   },
   {
    "duration": 461,
    "start_time": "2022-04-14T07:15:35.618Z"
   },
   {
    "duration": 28,
    "start_time": "2022-04-14T07:15:36.081Z"
   },
   {
    "duration": 34,
    "start_time": "2022-04-14T07:15:36.111Z"
   },
   {
    "duration": 4,
    "start_time": "2022-04-14T07:15:36.148Z"
   },
   {
    "duration": 23,
    "start_time": "2022-04-14T07:15:36.154Z"
   },
   {
    "duration": 26,
    "start_time": "2022-04-14T07:15:36.179Z"
   },
   {
    "duration": 53,
    "start_time": "2022-04-14T07:15:36.207Z"
   },
   {
    "duration": 23,
    "start_time": "2022-04-14T07:15:36.262Z"
   },
   {
    "duration": 20,
    "start_time": "2022-04-14T07:15:36.288Z"
   },
   {
    "duration": 8,
    "start_time": "2022-04-14T07:15:36.311Z"
   },
   {
    "duration": 8,
    "start_time": "2022-04-14T07:15:36.321Z"
   },
   {
    "duration": 22,
    "start_time": "2022-04-14T07:15:36.332Z"
   },
   {
    "duration": 41,
    "start_time": "2022-04-14T07:15:36.356Z"
   },
   {
    "duration": 12,
    "start_time": "2022-04-14T07:15:36.399Z"
   },
   {
    "duration": 900,
    "start_time": "2022-04-14T07:16:22.051Z"
   },
   {
    "duration": 200,
    "start_time": "2022-04-14T07:16:57.723Z"
   },
   {
    "duration": 816,
    "start_time": "2022-04-14T07:17:04.800Z"
   },
   {
    "duration": 849,
    "start_time": "2022-04-14T07:17:16.381Z"
   },
   {
    "duration": 6,
    "start_time": "2022-04-14T07:17:34.061Z"
   },
   {
    "duration": 16,
    "start_time": "2022-04-14T07:18:42.189Z"
   },
   {
    "duration": 17,
    "start_time": "2022-04-14T07:18:48.802Z"
   },
   {
    "duration": 1120,
    "start_time": "2022-04-14T07:21:23.568Z"
   },
   {
    "duration": 20,
    "start_time": "2022-04-14T07:21:24.691Z"
   },
   {
    "duration": 30,
    "start_time": "2022-04-14T07:21:24.713Z"
   },
   {
    "duration": 4,
    "start_time": "2022-04-14T07:21:24.745Z"
   },
   {
    "duration": 40,
    "start_time": "2022-04-14T07:21:24.753Z"
   },
   {
    "duration": 16,
    "start_time": "2022-04-14T07:21:24.795Z"
   },
   {
    "duration": 52,
    "start_time": "2022-04-14T07:21:24.813Z"
   },
   {
    "duration": 22,
    "start_time": "2022-04-14T07:21:24.868Z"
   },
   {
    "duration": 19,
    "start_time": "2022-04-14T07:21:24.893Z"
   },
   {
    "duration": 10,
    "start_time": "2022-04-14T07:21:24.914Z"
   },
   {
    "duration": 8,
    "start_time": "2022-04-14T07:21:24.926Z"
   },
   {
    "duration": 22,
    "start_time": "2022-04-14T07:21:24.936Z"
   },
   {
    "duration": 7,
    "start_time": "2022-04-14T07:21:24.993Z"
   },
   {
    "duration": 8,
    "start_time": "2022-04-14T07:21:25.003Z"
   },
   {
    "duration": 7,
    "start_time": "2022-04-14T07:21:25.013Z"
   },
   {
    "duration": 9,
    "start_time": "2022-04-14T07:23:42.459Z"
   },
   {
    "duration": 130,
    "start_time": "2022-04-14T07:28:09.169Z"
   },
   {
    "duration": 255,
    "start_time": "2022-04-14T07:28:48.740Z"
   },
   {
    "duration": 211,
    "start_time": "2022-04-14T07:28:58.255Z"
   },
   {
    "duration": 10,
    "start_time": "2022-04-14T07:33:49.091Z"
   },
   {
    "duration": 10,
    "start_time": "2022-04-14T07:34:07.267Z"
   },
   {
    "duration": 14,
    "start_time": "2022-04-14T07:34:11.626Z"
   },
   {
    "duration": 414,
    "start_time": "2022-04-14T08:16:09.481Z"
   },
   {
    "duration": 276,
    "start_time": "2022-04-14T08:17:04.589Z"
   },
   {
    "duration": 277,
    "start_time": "2022-04-14T08:17:38.965Z"
   },
   {
    "duration": 330,
    "start_time": "2022-04-14T08:17:56.715Z"
   },
   {
    "duration": 254,
    "start_time": "2022-04-14T08:18:07.402Z"
   },
   {
    "duration": 268,
    "start_time": "2022-04-14T08:18:16.111Z"
   },
   {
    "duration": 922,
    "start_time": "2022-04-14T08:18:21.759Z"
   },
   {
    "duration": 30,
    "start_time": "2022-04-14T08:18:22.684Z"
   },
   {
    "duration": 38,
    "start_time": "2022-04-14T08:18:22.716Z"
   },
   {
    "duration": 5,
    "start_time": "2022-04-14T08:18:22.757Z"
   },
   {
    "duration": 49,
    "start_time": "2022-04-14T08:18:22.766Z"
   },
   {
    "duration": 20,
    "start_time": "2022-04-14T08:18:22.817Z"
   },
   {
    "duration": 96,
    "start_time": "2022-04-14T08:18:22.839Z"
   },
   {
    "duration": 26,
    "start_time": "2022-04-14T08:18:22.937Z"
   },
   {
    "duration": 19,
    "start_time": "2022-04-14T08:18:22.965Z"
   },
   {
    "duration": 10,
    "start_time": "2022-04-14T08:18:22.986Z"
   },
   {
    "duration": 21,
    "start_time": "2022-04-14T08:18:23.000Z"
   },
   {
    "duration": 22,
    "start_time": "2022-04-14T08:18:23.023Z"
   },
   {
    "duration": 8,
    "start_time": "2022-04-14T08:18:23.047Z"
   },
   {
    "duration": 9,
    "start_time": "2022-04-14T08:18:23.058Z"
   },
   {
    "duration": 36,
    "start_time": "2022-04-14T08:18:23.069Z"
   },
   {
    "duration": 13,
    "start_time": "2022-04-14T08:18:23.109Z"
   },
   {
    "duration": 404,
    "start_time": "2022-04-14T08:18:23.125Z"
   },
   {
    "duration": 292,
    "start_time": "2022-04-14T08:18:23.531Z"
   },
   {
    "duration": 13,
    "start_time": "2022-04-14T08:18:23.825Z"
   },
   {
    "duration": 609,
    "start_time": "2022-04-14T08:18:23.840Z"
   },
   {
    "duration": 394,
    "start_time": "2022-04-14T08:18:24.451Z"
   },
   {
    "duration": 426,
    "start_time": "2022-04-14T08:19:43.406Z"
   },
   {
    "duration": 678,
    "start_time": "2022-04-14T08:21:08.117Z"
   },
   {
    "duration": 317,
    "start_time": "2022-04-14T08:22:50.353Z"
   },
   {
    "duration": 312,
    "start_time": "2022-04-14T08:23:06.505Z"
   },
   {
    "duration": 6,
    "start_time": "2022-04-14T08:23:25.686Z"
   },
   {
    "duration": 7,
    "start_time": "2022-04-14T08:23:31.378Z"
   },
   {
    "duration": 6,
    "start_time": "2022-04-14T08:23:48.922Z"
   },
   {
    "duration": 319,
    "start_time": "2022-04-14T08:24:08.386Z"
   },
   {
    "duration": 334,
    "start_time": "2022-04-14T08:25:00.844Z"
   },
   {
    "duration": 16,
    "start_time": "2022-04-14T08:26:07.787Z"
   },
   {
    "duration": 13,
    "start_time": "2022-04-14T08:26:21.199Z"
   },
   {
    "duration": 465,
    "start_time": "2022-04-14T08:26:40.340Z"
   },
   {
    "duration": 273,
    "start_time": "2022-04-14T08:26:56.560Z"
   },
   {
    "duration": 253,
    "start_time": "2022-04-14T08:28:14.728Z"
   },
   {
    "duration": 274,
    "start_time": "2022-04-14T08:28:22.899Z"
   },
   {
    "duration": 277,
    "start_time": "2022-04-14T08:28:27.391Z"
   },
   {
    "duration": 256,
    "start_time": "2022-04-14T08:28:31.328Z"
   },
   {
    "duration": 550,
    "start_time": "2022-04-14T08:37:18.379Z"
   },
   {
    "duration": 439,
    "start_time": "2022-04-14T08:38:35.265Z"
   },
   {
    "duration": 591,
    "start_time": "2022-04-14T08:38:52.981Z"
   },
   {
    "duration": 378,
    "start_time": "2022-04-14T08:39:08.991Z"
   },
   {
    "duration": 12,
    "start_time": "2022-04-14T09:54:04.111Z"
   },
   {
    "duration": 189,
    "start_time": "2022-04-14T09:54:15.325Z"
   },
   {
    "duration": 8,
    "start_time": "2022-04-14T10:09:17.863Z"
   },
   {
    "duration": 6,
    "start_time": "2022-04-14T10:18:43.083Z"
   },
   {
    "duration": 185,
    "start_time": "2022-04-14T10:19:54.348Z"
   },
   {
    "duration": 14,
    "start_time": "2022-04-14T10:24:47.391Z"
   },
   {
    "duration": 16,
    "start_time": "2022-04-14T10:24:58.788Z"
   },
   {
    "duration": 3377,
    "start_time": "2022-04-14T10:25:03.819Z"
   },
   {
    "duration": 207,
    "start_time": "2022-04-14T10:26:32.699Z"
   },
   {
    "duration": 8,
    "start_time": "2022-04-14T10:30:22.780Z"
   },
   {
    "duration": 10,
    "start_time": "2022-04-14T10:30:37.430Z"
   },
   {
    "duration": 8,
    "start_time": "2022-04-14T10:30:48.713Z"
   },
   {
    "duration": 9,
    "start_time": "2022-04-14T10:31:19.662Z"
   },
   {
    "duration": 8,
    "start_time": "2022-04-14T10:31:58.746Z"
   },
   {
    "duration": 941,
    "start_time": "2022-04-16T13:45:06.640Z"
   },
   {
    "duration": 18,
    "start_time": "2022-04-16T13:45:07.584Z"
   },
   {
    "duration": 31,
    "start_time": "2022-04-16T13:45:07.604Z"
   },
   {
    "duration": 4,
    "start_time": "2022-04-16T13:45:07.637Z"
   },
   {
    "duration": 23,
    "start_time": "2022-04-16T13:45:07.643Z"
   },
   {
    "duration": 14,
    "start_time": "2022-04-16T13:45:07.667Z"
   },
   {
    "duration": 52,
    "start_time": "2022-04-16T13:45:07.683Z"
   },
   {
    "duration": 20,
    "start_time": "2022-04-16T13:45:07.737Z"
   },
   {
    "duration": 14,
    "start_time": "2022-04-16T13:45:07.760Z"
   },
   {
    "duration": 12,
    "start_time": "2022-04-16T13:45:07.776Z"
   },
   {
    "duration": 7,
    "start_time": "2022-04-16T13:45:07.790Z"
   },
   {
    "duration": 44,
    "start_time": "2022-04-16T13:45:07.799Z"
   },
   {
    "duration": 5,
    "start_time": "2022-04-16T13:45:07.847Z"
   },
   {
    "duration": 14,
    "start_time": "2022-04-16T13:45:07.855Z"
   },
   {
    "duration": 12,
    "start_time": "2022-04-16T13:45:07.871Z"
   },
   {
    "duration": 12,
    "start_time": "2022-04-16T13:45:07.884Z"
   },
   {
    "duration": 212,
    "start_time": "2022-04-16T13:45:07.898Z"
   },
   {
    "duration": 145,
    "start_time": "2022-04-16T13:45:08.112Z"
   },
   {
    "duration": 12,
    "start_time": "2022-04-16T13:45:08.260Z"
   },
   {
    "duration": 313,
    "start_time": "2022-04-16T13:45:08.275Z"
   },
   {
    "duration": 249,
    "start_time": "2022-04-16T13:45:08.590Z"
   },
   {
    "duration": 326,
    "start_time": "2022-04-16T13:45:08.841Z"
   },
   {
    "duration": 10,
    "start_time": "2022-04-16T13:45:09.169Z"
   },
   {
    "duration": 276,
    "start_time": "2022-04-16T13:45:09.181Z"
   },
   {
    "duration": 306,
    "start_time": "2022-04-16T13:45:09.460Z"
   },
   {
    "duration": 158,
    "start_time": "2022-04-16T13:45:09.769Z"
   },
   {
    "duration": 8,
    "start_time": "2022-04-16T13:45:09.929Z"
   },
   {
    "duration": 10,
    "start_time": "2022-04-16T13:45:09.939Z"
   },
   {
    "duration": 192,
    "start_time": "2022-04-16T13:45:09.951Z"
   },
   {
    "duration": 7,
    "start_time": "2022-04-16T13:45:10.145Z"
   },
   {
    "duration": 13,
    "start_time": "2022-04-16T13:45:10.154Z"
   },
   {
    "duration": 76,
    "start_time": "2022-04-16T13:49:33.423Z"
   },
   {
    "duration": 20,
    "start_time": "2022-04-16T13:50:37.365Z"
   },
   {
    "duration": 21,
    "start_time": "2022-04-16T13:51:02.187Z"
   },
   {
    "duration": 150,
    "start_time": "2022-04-16T13:51:33.512Z"
   },
   {
    "duration": 10,
    "start_time": "2022-04-16T13:51:49.070Z"
   },
   {
    "duration": 10,
    "start_time": "2022-04-16T13:54:33.965Z"
   },
   {
    "duration": 104,
    "start_time": "2022-04-16T14:10:41.795Z"
   },
   {
    "duration": 108,
    "start_time": "2022-04-16T14:12:01.789Z"
   },
   {
    "duration": 212,
    "start_time": "2022-04-16T14:12:17.848Z"
   },
   {
    "duration": 142,
    "start_time": "2022-04-16T14:14:21.888Z"
   },
   {
    "duration": 1211,
    "start_time": "2022-04-16T14:14:55.693Z"
   },
   {
    "duration": 16,
    "start_time": "2022-04-16T14:14:56.906Z"
   },
   {
    "duration": 22,
    "start_time": "2022-04-16T14:14:56.923Z"
   },
   {
    "duration": 3,
    "start_time": "2022-04-16T14:14:56.947Z"
   },
   {
    "duration": 15,
    "start_time": "2022-04-16T14:14:56.952Z"
   },
   {
    "duration": 12,
    "start_time": "2022-04-16T14:14:56.969Z"
   },
   {
    "duration": 46,
    "start_time": "2022-04-16T14:14:56.982Z"
   },
   {
    "duration": 17,
    "start_time": "2022-04-16T14:14:57.030Z"
   },
   {
    "duration": 14,
    "start_time": "2022-04-16T14:14:57.049Z"
   },
   {
    "duration": 8,
    "start_time": "2022-04-16T14:14:57.065Z"
   },
   {
    "duration": 8,
    "start_time": "2022-04-16T14:14:57.074Z"
   },
   {
    "duration": 16,
    "start_time": "2022-04-16T14:14:57.083Z"
   },
   {
    "duration": 35,
    "start_time": "2022-04-16T14:14:57.101Z"
   },
   {
    "duration": 8,
    "start_time": "2022-04-16T14:14:57.139Z"
   },
   {
    "duration": 7,
    "start_time": "2022-04-16T14:14:57.149Z"
   },
   {
    "duration": 10,
    "start_time": "2022-04-16T14:14:57.157Z"
   },
   {
    "duration": 190,
    "start_time": "2022-04-16T14:14:57.169Z"
   },
   {
    "duration": 126,
    "start_time": "2022-04-16T14:14:57.361Z"
   },
   {
    "duration": 7,
    "start_time": "2022-04-16T14:14:57.489Z"
   },
   {
    "duration": 271,
    "start_time": "2022-04-16T14:14:57.498Z"
   },
   {
    "duration": 198,
    "start_time": "2022-04-16T14:14:57.771Z"
   },
   {
    "duration": 277,
    "start_time": "2022-04-16T14:14:57.971Z"
   },
   {
    "duration": 9,
    "start_time": "2022-04-16T14:14:58.250Z"
   },
   {
    "duration": 198,
    "start_time": "2022-04-16T14:14:58.261Z"
   },
   {
    "duration": 284,
    "start_time": "2022-04-16T14:14:58.461Z"
   },
   {
    "duration": 134,
    "start_time": "2022-04-16T14:14:58.747Z"
   },
   {
    "duration": 6,
    "start_time": "2022-04-16T14:14:58.882Z"
   },
   {
    "duration": 7,
    "start_time": "2022-04-16T14:14:58.889Z"
   },
   {
    "duration": 149,
    "start_time": "2022-04-16T14:14:58.897Z"
   },
   {
    "duration": 6,
    "start_time": "2022-04-16T14:14:59.047Z"
   },
   {
    "duration": 8,
    "start_time": "2022-04-16T14:14:59.054Z"
   },
   {
    "duration": 237,
    "start_time": "2022-04-16T14:14:59.063Z"
   },
   {
    "duration": 163,
    "start_time": "2022-04-16T14:14:59.302Z"
   },
   {
    "duration": 167,
    "start_time": "2022-04-16T14:18:28.502Z"
   },
   {
    "duration": 11,
    "start_time": "2022-04-16T14:19:41.443Z"
   },
   {
    "duration": 31,
    "start_time": "2022-04-16T14:20:50.859Z"
   },
   {
    "duration": 156,
    "start_time": "2022-04-16T14:45:20.866Z"
   },
   {
    "duration": 154,
    "start_time": "2022-04-16T14:46:13.426Z"
   },
   {
    "duration": 10,
    "start_time": "2022-04-16T14:46:46.773Z"
   },
   {
    "duration": 11,
    "start_time": "2022-04-16T14:47:53.332Z"
   },
   {
    "duration": 32,
    "start_time": "2022-04-16T14:49:52.417Z"
   },
   {
    "duration": 15,
    "start_time": "2022-04-16T14:51:35.217Z"
   },
   {
    "duration": 1290,
    "start_time": "2022-04-17T08:50:25.912Z"
   },
   {
    "duration": 16,
    "start_time": "2022-04-17T08:50:27.204Z"
   },
   {
    "duration": 20,
    "start_time": "2022-04-17T08:50:27.221Z"
   },
   {
    "duration": 12,
    "start_time": "2022-04-17T08:50:27.243Z"
   },
   {
    "duration": 26,
    "start_time": "2022-04-17T08:50:27.256Z"
   },
   {
    "duration": 10,
    "start_time": "2022-04-17T08:50:27.283Z"
   },
   {
    "duration": 29,
    "start_time": "2022-04-17T08:50:27.294Z"
   },
   {
    "duration": 16,
    "start_time": "2022-04-17T08:50:27.325Z"
   },
   {
    "duration": 17,
    "start_time": "2022-04-17T08:50:27.343Z"
   },
   {
    "duration": 9,
    "start_time": "2022-04-17T08:50:27.362Z"
   },
   {
    "duration": 9,
    "start_time": "2022-04-17T08:50:27.373Z"
   },
   {
    "duration": 16,
    "start_time": "2022-04-17T08:50:27.383Z"
   },
   {
    "duration": 4,
    "start_time": "2022-04-17T08:50:27.401Z"
   },
   {
    "duration": 10,
    "start_time": "2022-04-17T08:50:27.406Z"
   },
   {
    "duration": 8,
    "start_time": "2022-04-17T08:50:27.417Z"
   },
   {
    "duration": 31,
    "start_time": "2022-04-17T08:50:27.426Z"
   },
   {
    "duration": 163,
    "start_time": "2022-04-17T08:50:27.458Z"
   },
   {
    "duration": 120,
    "start_time": "2022-04-17T08:50:27.623Z"
   },
   {
    "duration": 16,
    "start_time": "2022-04-17T08:50:27.744Z"
   },
   {
    "duration": 286,
    "start_time": "2022-04-17T08:50:27.762Z"
   },
   {
    "duration": 170,
    "start_time": "2022-04-17T08:50:28.050Z"
   },
   {
    "duration": 344,
    "start_time": "2022-04-17T08:50:28.222Z"
   },
   {
    "duration": 9,
    "start_time": "2022-04-17T08:50:28.568Z"
   },
   {
    "duration": 202,
    "start_time": "2022-04-17T08:50:28.579Z"
   },
   {
    "duration": 263,
    "start_time": "2022-04-17T08:50:28.783Z"
   },
   {
    "duration": 127,
    "start_time": "2022-04-17T08:50:29.054Z"
   },
   {
    "duration": 7,
    "start_time": "2022-04-17T08:50:29.183Z"
   },
   {
    "duration": 13,
    "start_time": "2022-04-17T08:50:29.193Z"
   },
   {
    "duration": 134,
    "start_time": "2022-04-17T08:50:29.208Z"
   },
   {
    "duration": 13,
    "start_time": "2022-04-17T08:50:29.344Z"
   },
   {
    "duration": 10,
    "start_time": "2022-04-17T08:50:29.358Z"
   },
   {
    "duration": 224,
    "start_time": "2022-04-17T08:50:29.369Z"
   },
   {
    "duration": 171,
    "start_time": "2022-04-17T08:50:29.594Z"
   },
   {
    "duration": 12,
    "start_time": "2022-04-17T08:50:29.768Z"
   },
   {
    "duration": 12,
    "start_time": "2022-04-17T08:50:29.782Z"
   },
   {
    "duration": 32,
    "start_time": "2022-04-17T08:50:29.796Z"
   },
   {
    "duration": 29,
    "start_time": "2022-04-17T08:50:29.830Z"
   },
   {
    "duration": 15,
    "start_time": "2022-04-17T09:09:27.072Z"
   },
   {
    "duration": 8,
    "start_time": "2022-04-17T09:09:46.462Z"
   },
   {
    "duration": 2998,
    "start_time": "2022-04-17T09:10:03.144Z"
   },
   {
    "duration": 1076,
    "start_time": "2022-04-17T09:15:23.409Z"
   },
   {
    "duration": 10,
    "start_time": "2022-04-17T09:15:24.487Z"
   },
   {
    "duration": 18,
    "start_time": "2022-04-17T09:15:24.499Z"
   },
   {
    "duration": 2,
    "start_time": "2022-04-17T09:15:24.519Z"
   },
   {
    "duration": 32,
    "start_time": "2022-04-17T09:15:24.523Z"
   },
   {
    "duration": 10,
    "start_time": "2022-04-17T09:15:24.556Z"
   },
   {
    "duration": 28,
    "start_time": "2022-04-17T09:15:24.567Z"
   },
   {
    "duration": 34,
    "start_time": "2022-04-17T09:15:24.596Z"
   },
   {
    "duration": 11,
    "start_time": "2022-04-17T09:15:24.632Z"
   },
   {
    "duration": 7,
    "start_time": "2022-04-17T09:15:24.645Z"
   },
   {
    "duration": 9,
    "start_time": "2022-04-17T09:15:24.654Z"
   },
   {
    "duration": 14,
    "start_time": "2022-04-17T09:15:24.664Z"
   },
   {
    "duration": 4,
    "start_time": "2022-04-17T09:15:24.679Z"
   },
   {
    "duration": 5,
    "start_time": "2022-04-17T09:15:24.686Z"
   },
   {
    "duration": 11,
    "start_time": "2022-04-17T09:15:24.692Z"
   },
   {
    "duration": 7,
    "start_time": "2022-04-17T09:15:24.705Z"
   },
   {
    "duration": 173,
    "start_time": "2022-04-17T09:15:24.713Z"
   },
   {
    "duration": 120,
    "start_time": "2022-04-17T09:15:24.887Z"
   },
   {
    "duration": 6,
    "start_time": "2022-04-17T09:15:25.009Z"
   },
   {
    "duration": 239,
    "start_time": "2022-04-17T09:15:25.017Z"
   },
   {
    "duration": 161,
    "start_time": "2022-04-17T09:15:25.258Z"
   },
   {
    "duration": 282,
    "start_time": "2022-04-17T09:15:25.421Z"
   },
   {
    "duration": 9,
    "start_time": "2022-04-17T09:15:25.704Z"
   },
   {
    "duration": 170,
    "start_time": "2022-04-17T09:15:25.714Z"
   },
   {
    "duration": 248,
    "start_time": "2022-04-17T09:15:25.886Z"
   },
   {
    "duration": 118,
    "start_time": "2022-04-17T09:15:26.136Z"
   },
   {
    "duration": 5,
    "start_time": "2022-04-17T09:15:26.256Z"
   },
   {
    "duration": 7,
    "start_time": "2022-04-17T09:15:26.262Z"
   },
   {
    "duration": 132,
    "start_time": "2022-04-17T09:15:26.270Z"
   },
   {
    "duration": 5,
    "start_time": "2022-04-17T09:15:26.404Z"
   },
   {
    "duration": 5,
    "start_time": "2022-04-17T09:15:26.411Z"
   },
   {
    "duration": 227,
    "start_time": "2022-04-17T09:15:26.418Z"
   },
   {
    "duration": 168,
    "start_time": "2022-04-17T09:15:26.647Z"
   },
   {
    "duration": 10,
    "start_time": "2022-04-17T09:15:26.816Z"
   },
   {
    "duration": 8,
    "start_time": "2022-04-17T09:15:26.828Z"
   },
   {
    "duration": 36,
    "start_time": "2022-04-17T09:15:26.842Z"
   },
   {
    "duration": 14,
    "start_time": "2022-04-17T09:15:26.879Z"
   },
   {
    "duration": 10,
    "start_time": "2022-04-17T10:23:37.008Z"
   },
   {
    "duration": 5,
    "start_time": "2022-04-17T10:24:41.012Z"
   },
   {
    "duration": 176,
    "start_time": "2022-04-17T10:25:09.089Z"
   },
   {
    "duration": 159,
    "start_time": "2022-04-17T10:25:13.435Z"
   },
   {
    "duration": 5,
    "start_time": "2022-04-17T10:25:17.828Z"
   },
   {
    "duration": 6,
    "start_time": "2022-04-17T10:26:02.906Z"
   },
   {
    "duration": 5,
    "start_time": "2022-04-17T10:26:41.627Z"
   },
   {
    "duration": 5,
    "start_time": "2022-04-17T10:27:57.711Z"
   },
   {
    "duration": 151,
    "start_time": "2022-04-17T10:48:28.082Z"
   },
   {
    "duration": 209,
    "start_time": "2022-04-17T10:48:54.519Z"
   },
   {
    "duration": 6,
    "start_time": "2022-04-17T10:51:52.496Z"
   },
   {
    "duration": 138,
    "start_time": "2022-04-17T10:51:54.640Z"
   },
   {
    "duration": 230,
    "start_time": "2022-04-17T10:53:11.734Z"
   },
   {
    "duration": 1084,
    "start_time": "2022-04-17T10:53:22.708Z"
   },
   {
    "duration": 10,
    "start_time": "2022-04-17T10:53:23.794Z"
   },
   {
    "duration": 49,
    "start_time": "2022-04-17T10:53:23.808Z"
   },
   {
    "duration": 3,
    "start_time": "2022-04-17T10:53:23.859Z"
   },
   {
    "duration": 13,
    "start_time": "2022-04-17T10:53:23.863Z"
   },
   {
    "duration": 10,
    "start_time": "2022-04-17T10:53:23.877Z"
   },
   {
    "duration": 29,
    "start_time": "2022-04-17T10:53:23.888Z"
   },
   {
    "duration": 15,
    "start_time": "2022-04-17T10:53:23.918Z"
   },
   {
    "duration": 11,
    "start_time": "2022-04-17T10:53:23.954Z"
   },
   {
    "duration": 11,
    "start_time": "2022-04-17T10:53:23.968Z"
   },
   {
    "duration": 10,
    "start_time": "2022-04-17T10:53:23.981Z"
   },
   {
    "duration": 14,
    "start_time": "2022-04-17T10:53:23.992Z"
   },
   {
    "duration": 23,
    "start_time": "2022-04-17T10:53:24.008Z"
   },
   {
    "duration": 26,
    "start_time": "2022-04-17T10:53:24.033Z"
   },
   {
    "duration": 10,
    "start_time": "2022-04-17T10:53:24.061Z"
   },
   {
    "duration": 8,
    "start_time": "2022-04-17T10:53:24.073Z"
   },
   {
    "duration": 8,
    "start_time": "2022-04-17T10:53:24.083Z"
   },
   {
    "duration": 266,
    "start_time": "2022-04-17T10:53:24.093Z"
   },
   {
    "duration": 172,
    "start_time": "2022-04-17T10:53:24.361Z"
   },
   {
    "duration": 7,
    "start_time": "2022-04-17T10:53:24.536Z"
   },
   {
    "duration": 142,
    "start_time": "2022-04-17T10:53:24.545Z"
   },
   {
    "duration": 0,
    "start_time": "2022-04-17T10:53:24.690Z"
   },
   {
    "duration": 0,
    "start_time": "2022-04-17T10:53:24.691Z"
   },
   {
    "duration": 0,
    "start_time": "2022-04-17T10:53:24.692Z"
   },
   {
    "duration": 0,
    "start_time": "2022-04-17T10:53:24.694Z"
   },
   {
    "duration": 0,
    "start_time": "2022-04-17T10:53:24.695Z"
   },
   {
    "duration": 0,
    "start_time": "2022-04-17T10:53:24.697Z"
   },
   {
    "duration": 0,
    "start_time": "2022-04-17T10:53:24.698Z"
   },
   {
    "duration": 0,
    "start_time": "2022-04-17T10:53:24.699Z"
   },
   {
    "duration": 0,
    "start_time": "2022-04-17T10:53:24.701Z"
   },
   {
    "duration": 0,
    "start_time": "2022-04-17T10:53:24.702Z"
   },
   {
    "duration": 0,
    "start_time": "2022-04-17T10:53:24.703Z"
   },
   {
    "duration": 0,
    "start_time": "2022-04-17T10:53:24.704Z"
   },
   {
    "duration": 0,
    "start_time": "2022-04-17T10:53:24.706Z"
   },
   {
    "duration": 0,
    "start_time": "2022-04-17T10:53:24.708Z"
   },
   {
    "duration": 0,
    "start_time": "2022-04-17T10:53:24.709Z"
   },
   {
    "duration": 0,
    "start_time": "2022-04-17T10:53:24.710Z"
   },
   {
    "duration": 0,
    "start_time": "2022-04-17T10:53:24.712Z"
   },
   {
    "duration": 0,
    "start_time": "2022-04-17T10:53:24.713Z"
   },
   {
    "duration": 0,
    "start_time": "2022-04-17T10:53:24.714Z"
   },
   {
    "duration": 7,
    "start_time": "2022-04-17T10:53:48.060Z"
   },
   {
    "duration": 238,
    "start_time": "2022-04-17T10:53:48.068Z"
   },
   {
    "duration": 165,
    "start_time": "2022-04-17T10:53:48.307Z"
   },
   {
    "duration": 271,
    "start_time": "2022-04-17T10:53:48.474Z"
   },
   {
    "duration": 13,
    "start_time": "2022-04-17T10:53:48.748Z"
   },
   {
    "duration": 160,
    "start_time": "2022-04-17T10:53:48.763Z"
   },
   {
    "duration": 309,
    "start_time": "2022-04-17T10:53:48.925Z"
   },
   {
    "duration": 124,
    "start_time": "2022-04-17T10:53:49.236Z"
   },
   {
    "duration": 5,
    "start_time": "2022-04-17T10:53:49.362Z"
   },
   {
    "duration": 7,
    "start_time": "2022-04-17T10:53:49.368Z"
   },
   {
    "duration": 131,
    "start_time": "2022-04-17T10:53:49.376Z"
   },
   {
    "duration": 6,
    "start_time": "2022-04-17T10:53:49.509Z"
   },
   {
    "duration": 5,
    "start_time": "2022-04-17T10:53:49.517Z"
   },
   {
    "duration": 229,
    "start_time": "2022-04-17T10:53:49.525Z"
   },
   {
    "duration": 161,
    "start_time": "2022-04-17T10:53:49.756Z"
   },
   {
    "duration": 10,
    "start_time": "2022-04-17T10:53:49.919Z"
   },
   {
    "duration": 25,
    "start_time": "2022-04-17T10:53:49.931Z"
   },
   {
    "duration": 29,
    "start_time": "2022-04-17T10:53:49.958Z"
   },
   {
    "duration": 15,
    "start_time": "2022-04-17T10:53:49.989Z"
   },
   {
    "duration": 236,
    "start_time": "2022-04-17T10:55:14.833Z"
   },
   {
    "duration": 214,
    "start_time": "2022-04-17T10:58:51.357Z"
   },
   {
    "duration": 295,
    "start_time": "2022-04-17T11:07:50.891Z"
   },
   {
    "duration": 1432,
    "start_time": "2022-04-17T11:08:01.059Z"
   },
   {
    "duration": 13,
    "start_time": "2022-04-17T11:08:02.493Z"
   },
   {
    "duration": 29,
    "start_time": "2022-04-17T11:08:02.507Z"
   },
   {
    "duration": 15,
    "start_time": "2022-04-17T11:08:02.539Z"
   },
   {
    "duration": 24,
    "start_time": "2022-04-17T11:08:02.556Z"
   },
   {
    "duration": 15,
    "start_time": "2022-04-17T11:08:02.583Z"
   },
   {
    "duration": 41,
    "start_time": "2022-04-17T11:08:02.600Z"
   },
   {
    "duration": 27,
    "start_time": "2022-04-17T11:08:02.643Z"
   },
   {
    "duration": 14,
    "start_time": "2022-04-17T11:08:02.672Z"
   },
   {
    "duration": 13,
    "start_time": "2022-04-17T11:08:02.689Z"
   },
   {
    "duration": 11,
    "start_time": "2022-04-17T11:08:02.704Z"
   },
   {
    "duration": 11,
    "start_time": "2022-04-17T11:08:02.716Z"
   },
   {
    "duration": 36,
    "start_time": "2022-04-17T11:08:02.728Z"
   },
   {
    "duration": 11,
    "start_time": "2022-04-17T11:08:02.767Z"
   },
   {
    "duration": 19,
    "start_time": "2022-04-17T11:08:02.779Z"
   },
   {
    "duration": 13,
    "start_time": "2022-04-17T11:08:02.800Z"
   },
   {
    "duration": 7,
    "start_time": "2022-04-17T11:08:02.815Z"
   },
   {
    "duration": 220,
    "start_time": "2022-04-17T11:08:02.824Z"
   },
   {
    "duration": 160,
    "start_time": "2022-04-17T11:08:03.046Z"
   },
   {
    "duration": 9,
    "start_time": "2022-04-17T11:08:03.208Z"
   },
   {
    "duration": 21,
    "start_time": "2022-04-17T11:08:03.219Z"
   },
   {
    "duration": 366,
    "start_time": "2022-04-17T11:08:03.242Z"
   },
   {
    "duration": 246,
    "start_time": "2022-04-17T11:08:03.610Z"
   },
   {
    "duration": 307,
    "start_time": "2022-04-17T11:08:03.859Z"
   },
   {
    "duration": 9,
    "start_time": "2022-04-17T11:08:04.168Z"
   },
   {
    "duration": 177,
    "start_time": "2022-04-17T11:08:04.179Z"
   },
   {
    "duration": 284,
    "start_time": "2022-04-17T11:08:04.359Z"
   },
   {
    "duration": 120,
    "start_time": "2022-04-17T11:08:04.646Z"
   },
   {
    "duration": 6,
    "start_time": "2022-04-17T11:08:04.768Z"
   },
   {
    "duration": 6,
    "start_time": "2022-04-17T11:08:04.775Z"
   },
   {
    "duration": 151,
    "start_time": "2022-04-17T11:08:04.783Z"
   },
   {
    "duration": 19,
    "start_time": "2022-04-17T11:08:04.936Z"
   },
   {
    "duration": 5,
    "start_time": "2022-04-17T11:08:04.957Z"
   },
   {
    "duration": 234,
    "start_time": "2022-04-17T11:08:04.965Z"
   },
   {
    "duration": 177,
    "start_time": "2022-04-17T11:08:05.201Z"
   },
   {
    "duration": 9,
    "start_time": "2022-04-17T11:08:05.379Z"
   },
   {
    "duration": 8,
    "start_time": "2022-04-17T11:08:05.390Z"
   },
   {
    "duration": 27,
    "start_time": "2022-04-17T11:08:05.399Z"
   },
   {
    "duration": 37,
    "start_time": "2022-04-17T11:08:05.428Z"
   },
   {
    "duration": 1122,
    "start_time": "2022-04-17T11:17:27.601Z"
   },
   {
    "duration": 11,
    "start_time": "2022-04-17T11:17:28.725Z"
   },
   {
    "duration": 33,
    "start_time": "2022-04-17T11:17:28.737Z"
   },
   {
    "duration": 10,
    "start_time": "2022-04-17T11:17:28.773Z"
   },
   {
    "duration": 18,
    "start_time": "2022-04-17T11:17:28.784Z"
   },
   {
    "duration": 9,
    "start_time": "2022-04-17T11:17:28.803Z"
   },
   {
    "duration": 33,
    "start_time": "2022-04-17T11:17:28.813Z"
   },
   {
    "duration": 37,
    "start_time": "2022-04-17T11:17:28.847Z"
   },
   {
    "duration": 11,
    "start_time": "2022-04-17T11:17:28.885Z"
   },
   {
    "duration": 23,
    "start_time": "2022-04-17T11:17:28.899Z"
   },
   {
    "duration": 13,
    "start_time": "2022-04-17T11:17:28.923Z"
   },
   {
    "duration": 26,
    "start_time": "2022-04-17T11:17:28.937Z"
   },
   {
    "duration": 28,
    "start_time": "2022-04-17T11:17:28.965Z"
   },
   {
    "duration": 4,
    "start_time": "2022-04-17T11:17:28.994Z"
   },
   {
    "duration": 25,
    "start_time": "2022-04-17T11:17:29.000Z"
   },
   {
    "duration": 15,
    "start_time": "2022-04-17T11:17:29.027Z"
   },
   {
    "duration": 28,
    "start_time": "2022-04-17T11:17:29.043Z"
   },
   {
    "duration": 181,
    "start_time": "2022-04-17T11:17:29.073Z"
   },
   {
    "duration": 129,
    "start_time": "2022-04-17T11:17:29.263Z"
   },
   {
    "duration": 8,
    "start_time": "2022-04-17T11:17:29.394Z"
   },
   {
    "duration": 28,
    "start_time": "2022-04-17T11:17:29.404Z"
   },
   {
    "duration": 263,
    "start_time": "2022-04-17T11:17:29.433Z"
   },
   {
    "duration": 181,
    "start_time": "2022-04-17T11:17:29.698Z"
   },
   {
    "duration": 279,
    "start_time": "2022-04-17T11:17:29.882Z"
   },
   {
    "duration": 6,
    "start_time": "2022-04-17T11:17:30.163Z"
   },
   {
    "duration": 33,
    "start_time": "2022-04-17T11:17:30.171Z"
   },
   {
    "duration": 196,
    "start_time": "2022-04-17T11:17:30.206Z"
   },
   {
    "duration": 268,
    "start_time": "2022-04-17T11:17:30.405Z"
   },
   {
    "duration": 123,
    "start_time": "2022-04-17T11:17:30.674Z"
   },
   {
    "duration": 6,
    "start_time": "2022-04-17T11:17:30.799Z"
   },
   {
    "duration": 18,
    "start_time": "2022-04-17T11:17:30.807Z"
   },
   {
    "duration": 149,
    "start_time": "2022-04-17T11:17:30.827Z"
   },
   {
    "duration": 7,
    "start_time": "2022-04-17T11:17:30.979Z"
   },
   {
    "duration": 16,
    "start_time": "2022-04-17T11:17:30.988Z"
   },
   {
    "duration": 225,
    "start_time": "2022-04-17T11:17:31.006Z"
   },
   {
    "duration": 168,
    "start_time": "2022-04-17T11:17:31.232Z"
   },
   {
    "duration": 12,
    "start_time": "2022-04-17T11:17:31.402Z"
   },
   {
    "duration": 28,
    "start_time": "2022-04-17T11:17:31.417Z"
   },
   {
    "duration": 65,
    "start_time": "2022-04-17T11:17:31.447Z"
   },
   {
    "duration": 53,
    "start_time": "2022-04-17T11:17:31.513Z"
   },
   {
    "duration": 1079,
    "start_time": "2022-04-17T11:23:23.610Z"
   },
   {
    "duration": 15,
    "start_time": "2022-04-17T11:23:24.691Z"
   },
   {
    "duration": 37,
    "start_time": "2022-04-17T11:23:24.712Z"
   },
   {
    "duration": 4,
    "start_time": "2022-04-17T11:23:24.751Z"
   },
   {
    "duration": 13,
    "start_time": "2022-04-17T11:23:24.756Z"
   },
   {
    "duration": 12,
    "start_time": "2022-04-17T11:23:24.771Z"
   },
   {
    "duration": 26,
    "start_time": "2022-04-17T11:23:24.784Z"
   },
   {
    "duration": 15,
    "start_time": "2022-04-17T11:23:24.812Z"
   },
   {
    "duration": 33,
    "start_time": "2022-04-17T11:23:24.829Z"
   },
   {
    "duration": 11,
    "start_time": "2022-04-17T11:23:24.864Z"
   },
   {
    "duration": 9,
    "start_time": "2022-04-17T11:23:24.877Z"
   },
   {
    "duration": 6,
    "start_time": "2022-04-17T11:23:24.888Z"
   },
   {
    "duration": 13,
    "start_time": "2022-04-17T11:23:24.895Z"
   },
   {
    "duration": 4,
    "start_time": "2022-04-17T11:23:24.910Z"
   },
   {
    "duration": 41,
    "start_time": "2022-04-17T11:23:24.915Z"
   },
   {
    "duration": 5,
    "start_time": "2022-04-17T11:23:24.958Z"
   },
   {
    "duration": 8,
    "start_time": "2022-04-17T11:23:24.964Z"
   },
   {
    "duration": 168,
    "start_time": "2022-04-17T11:23:24.974Z"
   },
   {
    "duration": 138,
    "start_time": "2022-04-17T11:23:25.143Z"
   },
   {
    "duration": 9,
    "start_time": "2022-04-17T11:23:25.283Z"
   },
   {
    "duration": 11,
    "start_time": "2022-04-17T11:23:25.293Z"
   },
   {
    "duration": 239,
    "start_time": "2022-04-17T11:23:25.306Z"
   },
   {
    "duration": 168,
    "start_time": "2022-04-17T11:23:25.547Z"
   },
   {
    "duration": 288,
    "start_time": "2022-04-17T11:23:25.716Z"
   },
   {
    "duration": 4,
    "start_time": "2022-04-17T11:23:26.006Z"
   },
   {
    "duration": 12,
    "start_time": "2022-04-17T11:23:26.013Z"
   },
   {
    "duration": 158,
    "start_time": "2022-04-17T11:23:26.027Z"
   },
   {
    "duration": 257,
    "start_time": "2022-04-17T11:23:26.187Z"
   },
   {
    "duration": 120,
    "start_time": "2022-04-17T11:23:26.446Z"
   },
   {
    "duration": 6,
    "start_time": "2022-04-17T11:23:26.568Z"
   },
   {
    "duration": 7,
    "start_time": "2022-04-17T11:23:26.575Z"
   },
   {
    "duration": 139,
    "start_time": "2022-04-17T11:23:26.584Z"
   },
   {
    "duration": 6,
    "start_time": "2022-04-17T11:23:26.725Z"
   },
   {
    "duration": 6,
    "start_time": "2022-04-17T11:23:26.733Z"
   },
   {
    "duration": 226,
    "start_time": "2022-04-17T11:23:26.754Z"
   },
   {
    "duration": 157,
    "start_time": "2022-04-17T11:23:26.982Z"
   },
   {
    "duration": 17,
    "start_time": "2022-04-17T11:23:27.141Z"
   },
   {
    "duration": 7,
    "start_time": "2022-04-17T11:23:27.159Z"
   },
   {
    "duration": 25,
    "start_time": "2022-04-17T11:23:27.168Z"
   },
   {
    "duration": 14,
    "start_time": "2022-04-17T11:23:27.195Z"
   },
   {
    "duration": 108,
    "start_time": "2022-04-17T11:35:14.561Z"
   },
   {
    "duration": 179,
    "start_time": "2022-04-17T11:41:50.665Z"
   },
   {
    "duration": 144,
    "start_time": "2022-04-17T11:42:38.185Z"
   },
   {
    "duration": 138,
    "start_time": "2022-04-17T11:42:45.990Z"
   },
   {
    "duration": 128,
    "start_time": "2022-04-17T11:42:48.522Z"
   },
   {
    "duration": 4,
    "start_time": "2022-04-17T11:42:56.284Z"
   },
   {
    "duration": 115,
    "start_time": "2022-04-17T11:47:25.760Z"
   },
   {
    "duration": 2458,
    "start_time": "2022-04-17T11:50:24.733Z"
   },
   {
    "duration": 5,
    "start_time": "2022-04-17T11:51:04.787Z"
   },
   {
    "duration": 5,
    "start_time": "2022-04-17T11:51:34.746Z"
   },
   {
    "duration": 1461,
    "start_time": "2022-04-17T11:53:22.960Z"
   },
   {
    "duration": 19,
    "start_time": "2022-04-17T11:53:24.424Z"
   },
   {
    "duration": 27,
    "start_time": "2022-04-17T11:53:24.445Z"
   },
   {
    "duration": 6,
    "start_time": "2022-04-17T11:53:24.474Z"
   },
   {
    "duration": 24,
    "start_time": "2022-04-17T11:53:24.483Z"
   },
   {
    "duration": 11,
    "start_time": "2022-04-17T11:53:24.509Z"
   },
   {
    "duration": 28,
    "start_time": "2022-04-17T11:53:24.521Z"
   },
   {
    "duration": 22,
    "start_time": "2022-04-17T11:53:24.555Z"
   },
   {
    "duration": 12,
    "start_time": "2022-04-17T11:53:24.579Z"
   },
   {
    "duration": 12,
    "start_time": "2022-04-17T11:53:24.592Z"
   },
   {
    "duration": 6,
    "start_time": "2022-04-17T11:53:24.606Z"
   },
   {
    "duration": 6,
    "start_time": "2022-04-17T11:53:24.656Z"
   },
   {
    "duration": 24,
    "start_time": "2022-04-17T11:53:24.665Z"
   },
   {
    "duration": 7,
    "start_time": "2022-04-17T11:53:24.694Z"
   },
   {
    "duration": 9,
    "start_time": "2022-04-17T11:53:24.703Z"
   },
   {
    "duration": 7,
    "start_time": "2022-04-17T11:53:24.714Z"
   },
   {
    "duration": 36,
    "start_time": "2022-04-17T11:53:24.723Z"
   },
   {
    "duration": 252,
    "start_time": "2022-04-17T11:53:24.761Z"
   },
   {
    "duration": 144,
    "start_time": "2022-04-17T11:53:25.015Z"
   },
   {
    "duration": 7,
    "start_time": "2022-04-17T11:53:25.161Z"
   },
   {
    "duration": 14,
    "start_time": "2022-04-17T11:53:25.169Z"
   },
   {
    "duration": 266,
    "start_time": "2022-04-17T11:53:25.185Z"
   },
   {
    "duration": 187,
    "start_time": "2022-04-17T11:53:25.453Z"
   },
   {
    "duration": 287,
    "start_time": "2022-04-17T11:53:25.642Z"
   },
   {
    "duration": 4,
    "start_time": "2022-04-17T11:53:25.931Z"
   },
   {
    "duration": 23,
    "start_time": "2022-04-17T11:53:25.936Z"
   },
   {
    "duration": 177,
    "start_time": "2022-04-17T11:53:25.961Z"
   },
   {
    "duration": 315,
    "start_time": "2022-04-17T11:53:26.140Z"
   },
   {
    "duration": 14,
    "start_time": "2022-04-17T11:53:26.459Z"
   },
   {
    "duration": 126,
    "start_time": "2022-04-17T11:53:26.475Z"
   },
   {
    "duration": 4,
    "start_time": "2022-04-17T11:53:26.603Z"
   },
   {
    "duration": 149,
    "start_time": "2022-04-17T11:53:26.610Z"
   },
   {
    "duration": 9,
    "start_time": "2022-04-17T11:53:26.763Z"
   },
   {
    "duration": 344,
    "start_time": "2022-04-17T11:53:26.774Z"
   },
   {
    "duration": 309,
    "start_time": "2022-04-17T11:53:27.120Z"
   },
   {
    "duration": 27,
    "start_time": "2022-04-17T11:53:27.432Z"
   },
   {
    "duration": 12,
    "start_time": "2022-04-17T11:53:27.462Z"
   },
   {
    "duration": 31,
    "start_time": "2022-04-17T11:53:27.478Z"
   },
   {
    "duration": 14,
    "start_time": "2022-04-17T11:53:27.510Z"
   },
   {
    "duration": 10,
    "start_time": "2022-04-17T12:40:43.148Z"
   },
   {
    "duration": 10,
    "start_time": "2022-04-17T12:42:13.235Z"
   },
   {
    "duration": 30,
    "start_time": "2022-04-17T12:44:08.362Z"
   },
   {
    "duration": 15,
    "start_time": "2022-04-17T12:45:58.233Z"
   },
   {
    "duration": 1617,
    "start_time": "2022-04-18T07:19:34.214Z"
   },
   {
    "duration": 30,
    "start_time": "2022-04-18T07:19:35.834Z"
   },
   {
    "duration": 28,
    "start_time": "2022-04-18T07:19:35.866Z"
   },
   {
    "duration": 4,
    "start_time": "2022-04-18T07:19:35.897Z"
   },
   {
    "duration": 23,
    "start_time": "2022-04-18T07:19:35.903Z"
   },
   {
    "duration": 17,
    "start_time": "2022-04-18T07:19:35.928Z"
   },
   {
    "duration": 54,
    "start_time": "2022-04-18T07:19:35.947Z"
   },
   {
    "duration": 23,
    "start_time": "2022-04-18T07:19:36.003Z"
   },
   {
    "duration": 19,
    "start_time": "2022-04-18T07:19:36.028Z"
   },
   {
    "duration": 14,
    "start_time": "2022-04-18T07:19:36.051Z"
   },
   {
    "duration": 31,
    "start_time": "2022-04-18T07:19:36.067Z"
   },
   {
    "duration": 8,
    "start_time": "2022-04-18T07:19:36.100Z"
   },
   {
    "duration": 21,
    "start_time": "2022-04-18T07:19:36.110Z"
   },
   {
    "duration": 5,
    "start_time": "2022-04-18T07:19:36.133Z"
   },
   {
    "duration": 9,
    "start_time": "2022-04-18T07:19:36.140Z"
   },
   {
    "duration": 48,
    "start_time": "2022-04-18T07:19:36.151Z"
   },
   {
    "duration": 10,
    "start_time": "2022-04-18T07:19:36.202Z"
   },
   {
    "duration": 274,
    "start_time": "2022-04-18T07:19:36.214Z"
   },
   {
    "duration": 221,
    "start_time": "2022-04-18T07:19:36.491Z"
   },
   {
    "duration": 14,
    "start_time": "2022-04-18T07:19:36.714Z"
   },
   {
    "duration": 14,
    "start_time": "2022-04-18T07:19:36.730Z"
   },
   {
    "duration": 386,
    "start_time": "2022-04-18T07:19:36.746Z"
   },
   {
    "duration": 272,
    "start_time": "2022-04-18T07:19:37.134Z"
   },
   {
    "duration": 387,
    "start_time": "2022-04-18T07:19:37.408Z"
   },
   {
    "duration": 5,
    "start_time": "2022-04-18T07:19:37.797Z"
   },
   {
    "duration": 8,
    "start_time": "2022-04-18T07:19:37.804Z"
   },
   {
    "duration": 266,
    "start_time": "2022-04-18T07:19:37.815Z"
   },
   {
    "duration": 371,
    "start_time": "2022-04-18T07:19:38.086Z"
   },
   {
    "duration": 14,
    "start_time": "2022-04-18T07:19:38.459Z"
   },
   {
    "duration": 193,
    "start_time": "2022-04-18T07:19:38.475Z"
   },
   {
    "duration": 7,
    "start_time": "2022-04-18T07:19:38.670Z"
   },
   {
    "duration": 202,
    "start_time": "2022-04-18T07:19:38.693Z"
   },
   {
    "duration": 6,
    "start_time": "2022-04-18T07:19:38.897Z"
   },
   {
    "duration": 363,
    "start_time": "2022-04-18T07:19:38.905Z"
   },
   {
    "duration": 315,
    "start_time": "2022-04-18T07:19:39.270Z"
   },
   {
    "duration": 20,
    "start_time": "2022-04-18T07:19:39.587Z"
   },
   {
    "duration": 14,
    "start_time": "2022-04-18T07:19:39.609Z"
   },
   {
    "duration": 78,
    "start_time": "2022-04-18T07:19:39.626Z"
   },
   {
    "duration": 21,
    "start_time": "2022-04-18T07:19:39.707Z"
   },
   {
    "duration": 1482,
    "start_time": "2022-04-18T08:04:06.462Z"
   },
   {
    "duration": 29,
    "start_time": "2022-04-18T08:04:07.947Z"
   },
   {
    "duration": 27,
    "start_time": "2022-04-18T08:04:07.978Z"
   },
   {
    "duration": 4,
    "start_time": "2022-04-18T08:04:08.007Z"
   },
   {
    "duration": 26,
    "start_time": "2022-04-18T08:04:08.014Z"
   },
   {
    "duration": 14,
    "start_time": "2022-04-18T08:04:08.043Z"
   },
   {
    "duration": 2814,
    "start_time": "2022-04-18T08:04:08.059Z"
   },
   {
    "duration": 23,
    "start_time": "2022-04-18T08:04:10.875Z"
   },
   {
    "duration": 18,
    "start_time": "2022-04-18T08:04:10.900Z"
   },
   {
    "duration": 17,
    "start_time": "2022-04-18T08:04:10.922Z"
   },
   {
    "duration": 11,
    "start_time": "2022-04-18T08:04:10.942Z"
   },
   {
    "duration": 40,
    "start_time": "2022-04-18T08:04:10.956Z"
   },
   {
    "duration": 23,
    "start_time": "2022-04-18T08:04:10.998Z"
   },
   {
    "duration": 6,
    "start_time": "2022-04-18T08:04:11.023Z"
   },
   {
    "duration": 14,
    "start_time": "2022-04-18T08:04:11.031Z"
   },
   {
    "duration": 8,
    "start_time": "2022-04-18T08:04:11.047Z"
   },
   {
    "duration": 37,
    "start_time": "2022-04-18T08:04:11.057Z"
   },
   {
    "duration": 268,
    "start_time": "2022-04-18T08:04:11.097Z"
   },
   {
    "duration": 188,
    "start_time": "2022-04-18T08:04:11.367Z"
   },
   {
    "duration": 9,
    "start_time": "2022-04-18T08:04:11.558Z"
   },
   {
    "duration": 24,
    "start_time": "2022-04-18T08:04:11.569Z"
   },
   {
    "duration": 401,
    "start_time": "2022-04-18T08:04:11.596Z"
   },
   {
    "duration": 278,
    "start_time": "2022-04-18T08:04:11.999Z"
   },
   {
    "duration": 397,
    "start_time": "2022-04-18T08:04:12.280Z"
   },
   {
    "duration": 13,
    "start_time": "2022-04-18T08:04:12.680Z"
   },
   {
    "duration": 9,
    "start_time": "2022-04-18T08:04:12.695Z"
   },
   {
    "duration": 290,
    "start_time": "2022-04-18T08:04:12.706Z"
   },
   {
    "duration": 390,
    "start_time": "2022-04-18T08:04:13.003Z"
   },
   {
    "duration": 13,
    "start_time": "2022-04-18T08:04:13.395Z"
   },
   {
    "duration": 196,
    "start_time": "2022-04-18T08:04:13.410Z"
   },
   {
    "duration": 6,
    "start_time": "2022-04-18T08:04:13.608Z"
   },
   {
    "duration": 214,
    "start_time": "2022-04-18T08:04:13.616Z"
   },
   {
    "duration": 6,
    "start_time": "2022-04-18T08:04:13.832Z"
   },
   {
    "duration": 369,
    "start_time": "2022-04-18T08:04:13.840Z"
   },
   {
    "duration": 314,
    "start_time": "2022-04-18T08:04:14.212Z"
   },
   {
    "duration": 14,
    "start_time": "2022-04-18T08:04:14.528Z"
   },
   {
    "duration": 12,
    "start_time": "2022-04-18T08:04:14.544Z"
   },
   {
    "duration": 65,
    "start_time": "2022-04-18T08:04:14.558Z"
   },
   {
    "duration": 20,
    "start_time": "2022-04-18T08:04:14.626Z"
   },
   {
    "duration": 356,
    "start_time": "2022-04-18T11:46:52.520Z"
   },
   {
    "duration": 76,
    "start_time": "2022-04-19T10:09:11.559Z"
   },
   {
    "duration": 2096,
    "start_time": "2022-04-19T10:09:19.650Z"
   },
   {
    "duration": 19,
    "start_time": "2022-04-19T10:09:21.750Z"
   },
   {
    "duration": 37,
    "start_time": "2022-04-19T10:09:21.772Z"
   },
   {
    "duration": 8,
    "start_time": "2022-04-19T10:09:21.812Z"
   },
   {
    "duration": 18,
    "start_time": "2022-04-19T10:09:21.822Z"
   },
   {
    "duration": 52,
    "start_time": "2022-04-19T10:09:21.842Z"
   },
   {
    "duration": 42,
    "start_time": "2022-04-19T10:09:21.899Z"
   },
   {
    "duration": 23,
    "start_time": "2022-04-19T10:09:21.944Z"
   },
   {
    "duration": 22,
    "start_time": "2022-04-19T10:09:21.970Z"
   },
   {
    "duration": 21,
    "start_time": "2022-04-19T10:09:21.996Z"
   },
   {
    "duration": 8,
    "start_time": "2022-04-19T10:09:22.020Z"
   },
   {
    "duration": 9,
    "start_time": "2022-04-19T10:09:24.847Z"
   },
   {
    "duration": 8,
    "start_time": "2022-04-19T10:25:42.820Z"
   },
   {
    "duration": 7,
    "start_time": "2022-04-19T10:39:28.445Z"
   },
   {
    "duration": 8,
    "start_time": "2022-04-19T10:42:46.719Z"
   },
   {
    "duration": 1513,
    "start_time": "2022-04-19T12:45:59.137Z"
   },
   {
    "duration": 13,
    "start_time": "2022-04-19T12:46:38.324Z"
   },
   {
    "duration": 28,
    "start_time": "2022-04-19T12:46:39.117Z"
   },
   {
    "duration": 23,
    "start_time": "2022-04-19T12:46:44.716Z"
   },
   {
    "duration": 1716,
    "start_time": "2022-04-19T12:47:06.857Z"
   },
   {
    "duration": 5,
    "start_time": "2022-04-19T12:47:11.602Z"
   },
   {
    "duration": 19,
    "start_time": "2022-04-19T12:47:15.956Z"
   },
   {
    "duration": 17,
    "start_time": "2022-04-19T12:47:52.667Z"
   },
   {
    "duration": 33,
    "start_time": "2022-04-19T12:48:19.365Z"
   },
   {
    "duration": 23,
    "start_time": "2022-04-19T12:48:20.822Z"
   },
   {
    "duration": 20,
    "start_time": "2022-04-19T12:48:25.322Z"
   },
   {
    "duration": 16,
    "start_time": "2022-04-19T12:48:28.221Z"
   },
   {
    "duration": 8,
    "start_time": "2022-04-19T12:48:33.552Z"
   },
   {
    "duration": 8,
    "start_time": "2022-04-19T12:48:34.762Z"
   },
   {
    "duration": 7,
    "start_time": "2022-04-19T12:49:33.266Z"
   },
   {
    "duration": 21,
    "start_time": "2022-04-19T12:50:31.634Z"
   },
   {
    "duration": 6,
    "start_time": "2022-04-19T12:50:34.870Z"
   },
   {
    "duration": 7,
    "start_time": "2022-04-19T12:50:35.863Z"
   },
   {
    "duration": 8,
    "start_time": "2022-04-19T12:50:37.539Z"
   },
   {
    "duration": 6,
    "start_time": "2022-04-19T12:50:53.292Z"
   },
   {
    "duration": 8,
    "start_time": "2022-04-19T12:51:51.757Z"
   },
   {
    "duration": 7,
    "start_time": "2022-04-19T12:52:01.295Z"
   },
   {
    "duration": 57,
    "start_time": "2022-04-19T12:53:30.381Z"
   },
   {
    "duration": 57,
    "start_time": "2022-04-19T12:53:38.776Z"
   },
   {
    "duration": 49,
    "start_time": "2022-04-19T12:53:42.924Z"
   },
   {
    "duration": 5,
    "start_time": "2022-04-19T12:55:23.717Z"
   },
   {
    "duration": 8,
    "start_time": "2022-04-19T12:55:28.028Z"
   },
   {
    "duration": 8,
    "start_time": "2022-04-19T12:55:45.088Z"
   },
   {
    "duration": 12,
    "start_time": "2022-04-19T12:57:19.288Z"
   },
   {
    "duration": 11,
    "start_time": "2022-04-19T12:57:28.128Z"
   },
   {
    "duration": 17,
    "start_time": "2022-04-19T12:57:38.821Z"
   },
   {
    "duration": 15,
    "start_time": "2022-04-19T12:57:53.431Z"
   },
   {
    "duration": 44,
    "start_time": "2022-04-19T13:01:08.559Z"
   },
   {
    "duration": 22,
    "start_time": "2022-04-19T13:01:22.422Z"
   },
   {
    "duration": 43,
    "start_time": "2022-04-19T13:01:29.790Z"
   },
   {
    "duration": 21,
    "start_time": "2022-04-19T13:01:41.268Z"
   },
   {
    "duration": 1647,
    "start_time": "2022-04-19T13:03:09.520Z"
   },
   {
    "duration": 17,
    "start_time": "2022-04-19T13:03:19.208Z"
   },
   {
    "duration": 12,
    "start_time": "2022-04-19T13:03:27.115Z"
   },
   {
    "duration": 13,
    "start_time": "2022-04-19T13:03:36.851Z"
   },
   {
    "duration": 12,
    "start_time": "2022-04-19T13:04:30.492Z"
   },
   {
    "duration": 13,
    "start_time": "2022-04-19T13:04:44.436Z"
   },
   {
    "duration": 13,
    "start_time": "2022-04-19T13:05:03.046Z"
   },
   {
    "duration": 13,
    "start_time": "2022-04-19T13:05:10.785Z"
   },
   {
    "duration": 15,
    "start_time": "2022-04-19T13:05:50.113Z"
   },
   {
    "duration": 16,
    "start_time": "2022-04-19T13:07:01.272Z"
   },
   {
    "duration": 16,
    "start_time": "2022-04-19T13:07:24.579Z"
   },
   {
    "duration": 41,
    "start_time": "2022-04-19T13:08:41.900Z"
   },
   {
    "duration": 6,
    "start_time": "2022-04-19T13:08:53.540Z"
   },
   {
    "duration": 18,
    "start_time": "2022-04-19T13:08:59.057Z"
   },
   {
    "duration": 4,
    "start_time": "2022-04-19T13:09:17.800Z"
   },
   {
    "duration": 21,
    "start_time": "2022-04-19T13:09:20.870Z"
   },
   {
    "duration": 16,
    "start_time": "2022-04-19T13:11:40.308Z"
   },
   {
    "duration": 14,
    "start_time": "2022-04-19T13:13:38.198Z"
   },
   {
    "duration": 20,
    "start_time": "2022-04-19T13:14:16.658Z"
   },
   {
    "duration": 8,
    "start_time": "2022-04-19T13:14:30.617Z"
   },
   {
    "duration": 282,
    "start_time": "2022-04-19T13:15:34.622Z"
   },
   {
    "duration": 210,
    "start_time": "2022-04-19T13:15:38.920Z"
   },
   {
    "duration": 10,
    "start_time": "2022-04-19T13:15:39.909Z"
   },
   {
    "duration": 8,
    "start_time": "2022-04-19T13:15:41.223Z"
   },
   {
    "duration": 428,
    "start_time": "2022-04-19T13:15:53.010Z"
   },
   {
    "duration": 300,
    "start_time": "2022-04-19T13:16:23.217Z"
   },
   {
    "duration": 258,
    "start_time": "2022-04-19T13:16:38.005Z"
   },
   {
    "duration": 294,
    "start_time": "2022-04-19T13:16:48.554Z"
   },
   {
    "duration": 245,
    "start_time": "2022-04-19T13:16:56.514Z"
   },
   {
    "duration": 306,
    "start_time": "2022-04-19T13:17:09.008Z"
   },
   {
    "duration": 313,
    "start_time": "2022-04-19T13:19:14.355Z"
   },
   {
    "duration": 313,
    "start_time": "2022-04-19T13:19:49.169Z"
   },
   {
    "duration": 391,
    "start_time": "2022-04-19T13:19:57.536Z"
   },
   {
    "duration": 308,
    "start_time": "2022-04-19T13:20:01.056Z"
   },
   {
    "duration": 252,
    "start_time": "2022-04-19T13:20:11.368Z"
   },
   {
    "duration": 291,
    "start_time": "2022-04-19T13:21:52.449Z"
   },
   {
    "duration": 289,
    "start_time": "2022-04-19T13:22:34.940Z"
   },
   {
    "duration": 244,
    "start_time": "2022-04-19T13:23:01.025Z"
   },
   {
    "duration": 313,
    "start_time": "2022-04-19T13:23:10.467Z"
   },
   {
    "duration": 275,
    "start_time": "2022-04-19T13:30:13.909Z"
   },
   {
    "duration": 376,
    "start_time": "2022-04-19T13:30:19.293Z"
   },
   {
    "duration": 195,
    "start_time": "2022-04-19T13:30:27.618Z"
   },
   {
    "duration": 146,
    "start_time": "2022-04-19T13:30:31.347Z"
   },
   {
    "duration": 278,
    "start_time": "2022-04-19T13:30:35.528Z"
   },
   {
    "duration": 298,
    "start_time": "2022-04-19T13:31:44.401Z"
   },
   {
    "duration": 300,
    "start_time": "2022-04-19T13:34:18.215Z"
   },
   {
    "duration": 302,
    "start_time": "2022-04-19T13:34:27.370Z"
   },
   {
    "duration": 303,
    "start_time": "2022-04-19T13:34:42.306Z"
   },
   {
    "duration": 382,
    "start_time": "2022-04-19T13:35:18.118Z"
   },
   {
    "duration": 370,
    "start_time": "2022-04-19T13:35:29.184Z"
   },
   {
    "duration": 1449,
    "start_time": "2022-04-19T13:35:39.097Z"
   },
   {
    "duration": 18,
    "start_time": "2022-04-19T13:35:40.549Z"
   },
   {
    "duration": 33,
    "start_time": "2022-04-19T13:35:40.569Z"
   },
   {
    "duration": 4,
    "start_time": "2022-04-19T13:35:40.605Z"
   },
   {
    "duration": 21,
    "start_time": "2022-04-19T13:35:40.611Z"
   },
   {
    "duration": 15,
    "start_time": "2022-04-19T13:35:40.634Z"
   },
   {
    "duration": 40,
    "start_time": "2022-04-19T13:35:40.683Z"
   },
   {
    "duration": 24,
    "start_time": "2022-04-19T13:35:40.725Z"
   },
   {
    "duration": 20,
    "start_time": "2022-04-19T13:35:40.751Z"
   },
   {
    "duration": 34,
    "start_time": "2022-04-19T13:35:40.774Z"
   },
   {
    "duration": 20,
    "start_time": "2022-04-19T13:35:40.810Z"
   },
   {
    "duration": 12,
    "start_time": "2022-04-19T13:35:40.832Z"
   },
   {
    "duration": 25,
    "start_time": "2022-04-19T13:35:40.846Z"
   },
   {
    "duration": 12,
    "start_time": "2022-04-19T13:35:40.881Z"
   },
   {
    "duration": 12,
    "start_time": "2022-04-19T13:35:40.895Z"
   },
   {
    "duration": 8,
    "start_time": "2022-04-19T13:35:40.910Z"
   },
   {
    "duration": 10,
    "start_time": "2022-04-19T13:35:40.920Z"
   },
   {
    "duration": 18,
    "start_time": "2022-04-19T13:35:40.932Z"
   },
   {
    "duration": 41,
    "start_time": "2022-04-19T13:35:40.952Z"
   },
   {
    "duration": 291,
    "start_time": "2022-04-19T13:35:40.997Z"
   },
   {
    "duration": 276,
    "start_time": "2022-04-19T13:35:41.291Z"
   },
   {
    "duration": 24,
    "start_time": "2022-04-19T13:35:41.570Z"
   },
   {
    "duration": 10,
    "start_time": "2022-04-19T13:35:41.597Z"
   },
   {
    "duration": 450,
    "start_time": "2022-04-19T13:35:41.609Z"
   },
   {
    "duration": 321,
    "start_time": "2022-04-19T13:35:42.061Z"
   },
   {
    "duration": 384,
    "start_time": "2022-04-19T13:35:42.389Z"
   },
   {
    "duration": 10,
    "start_time": "2022-04-19T13:35:42.775Z"
   },
   {
    "duration": 13,
    "start_time": "2022-04-19T13:35:42.791Z"
   },
   {
    "duration": 291,
    "start_time": "2022-04-19T13:35:42.806Z"
   },
   {
    "duration": 373,
    "start_time": "2022-04-19T13:35:43.099Z"
   },
   {
    "duration": 20,
    "start_time": "2022-04-19T13:35:43.474Z"
   },
   {
    "duration": 203,
    "start_time": "2022-04-19T13:35:43.497Z"
   },
   {
    "duration": 6,
    "start_time": "2022-04-19T13:35:43.702Z"
   },
   {
    "duration": 237,
    "start_time": "2022-04-19T13:35:43.710Z"
   },
   {
    "duration": 5,
    "start_time": "2022-04-19T13:35:43.949Z"
   },
   {
    "duration": 402,
    "start_time": "2022-04-19T13:35:43.957Z"
   },
   {
    "duration": 337,
    "start_time": "2022-04-19T13:35:44.362Z"
   },
   {
    "duration": 14,
    "start_time": "2022-04-19T13:35:44.701Z"
   },
   {
    "duration": 12,
    "start_time": "2022-04-19T13:35:44.717Z"
   },
   {
    "duration": 66,
    "start_time": "2022-04-19T13:35:44.732Z"
   },
   {
    "duration": 19,
    "start_time": "2022-04-19T13:35:44.800Z"
   },
   {
    "duration": 409,
    "start_time": "2022-04-19T13:36:17.375Z"
   },
   {
    "duration": 487,
    "start_time": "2022-04-19T13:36:29.803Z"
   },
   {
    "duration": 377,
    "start_time": "2022-04-19T13:36:42.615Z"
   },
   {
    "duration": 1579,
    "start_time": "2022-04-19T13:41:32.369Z"
   },
   {
    "duration": 17,
    "start_time": "2022-04-19T13:41:33.951Z"
   },
   {
    "duration": 33,
    "start_time": "2022-04-19T13:41:33.970Z"
   },
   {
    "duration": 4,
    "start_time": "2022-04-19T13:41:34.006Z"
   },
   {
    "duration": 18,
    "start_time": "2022-04-19T13:41:34.012Z"
   },
   {
    "duration": 16,
    "start_time": "2022-04-19T13:41:34.032Z"
   },
   {
    "duration": 1209,
    "start_time": "2022-04-19T13:41:34.050Z"
   },
   {
    "duration": 24,
    "start_time": "2022-04-19T13:41:35.262Z"
   },
   {
    "duration": 25,
    "start_time": "2022-04-19T13:41:35.289Z"
   },
   {
    "duration": 21,
    "start_time": "2022-04-19T13:41:35.319Z"
   },
   {
    "duration": 18,
    "start_time": "2022-04-19T13:41:35.342Z"
   },
   {
    "duration": 23,
    "start_time": "2022-04-19T13:41:35.363Z"
   },
   {
    "duration": 35,
    "start_time": "2022-04-19T13:41:35.392Z"
   },
   {
    "duration": 8,
    "start_time": "2022-04-19T13:41:35.429Z"
   },
   {
    "duration": 13,
    "start_time": "2022-04-19T13:41:35.439Z"
   },
   {
    "duration": 52,
    "start_time": "2022-04-19T13:41:35.455Z"
   },
   {
    "duration": 20,
    "start_time": "2022-04-19T13:41:35.509Z"
   },
   {
    "duration": 8,
    "start_time": "2022-04-19T13:41:35.531Z"
   },
   {
    "duration": 14,
    "start_time": "2022-04-19T13:41:35.542Z"
   },
   {
    "duration": 280,
    "start_time": "2022-04-19T13:41:35.558Z"
   },
   {
    "duration": 221,
    "start_time": "2022-04-19T13:41:35.840Z"
   },
   {
    "duration": 31,
    "start_time": "2022-04-19T13:41:36.063Z"
   },
   {
    "duration": 15,
    "start_time": "2022-04-19T13:41:36.098Z"
   },
   {
    "duration": 463,
    "start_time": "2022-04-19T13:41:36.115Z"
   },
   {
    "duration": 451,
    "start_time": "2022-04-19T13:41:36.579Z"
   },
   {
    "duration": 432,
    "start_time": "2022-04-19T13:41:37.033Z"
   },
   {
    "duration": 15,
    "start_time": "2022-04-19T13:41:37.468Z"
   },
   {
    "duration": 21,
    "start_time": "2022-04-19T13:41:37.489Z"
   },
   {
    "duration": 281,
    "start_time": "2022-04-19T13:41:37.512Z"
   },
   {
    "duration": 384,
    "start_time": "2022-04-19T13:41:37.795Z"
   },
   {
    "duration": 18,
    "start_time": "2022-04-19T13:41:38.181Z"
   },
   {
    "duration": 215,
    "start_time": "2022-04-19T13:41:38.201Z"
   },
   {
    "duration": 7,
    "start_time": "2022-04-19T13:41:38.419Z"
   },
   {
    "duration": 295,
    "start_time": "2022-04-19T13:41:38.428Z"
   },
   {
    "duration": 6,
    "start_time": "2022-04-19T13:41:38.725Z"
   },
   {
    "duration": 493,
    "start_time": "2022-04-19T13:41:38.733Z"
   },
   {
    "duration": 355,
    "start_time": "2022-04-19T13:41:39.229Z"
   },
   {
    "duration": 20,
    "start_time": "2022-04-19T13:41:39.587Z"
   },
   {
    "duration": 13,
    "start_time": "2022-04-19T13:41:39.609Z"
   },
   {
    "duration": 72,
    "start_time": "2022-04-19T13:41:39.625Z"
   },
   {
    "duration": 21,
    "start_time": "2022-04-19T13:41:39.699Z"
   },
   {
    "duration": 294,
    "start_time": "2022-04-19T13:44:41.658Z"
   },
   {
    "duration": 481,
    "start_time": "2022-04-19T13:44:56.408Z"
   },
   {
    "duration": 197,
    "start_time": "2022-04-19T13:45:19.335Z"
   },
   {
    "duration": 234,
    "start_time": "2022-04-19T13:45:43.256Z"
   },
   {
    "duration": 235,
    "start_time": "2022-04-19T13:45:50.066Z"
   },
   {
    "duration": 388,
    "start_time": "2022-04-19T13:50:12.102Z"
   },
   {
    "duration": 412,
    "start_time": "2022-04-19T13:50:19.650Z"
   },
   {
    "duration": 273,
    "start_time": "2022-04-19T13:53:29.485Z"
   },
   {
    "duration": 288,
    "start_time": "2022-04-19T13:54:00.457Z"
   },
   {
    "duration": 1468,
    "start_time": "2022-04-19T13:54:14.782Z"
   },
   {
    "duration": 12,
    "start_time": "2022-04-19T13:54:16.252Z"
   },
   {
    "duration": 43,
    "start_time": "2022-04-19T13:54:16.267Z"
   },
   {
    "duration": 4,
    "start_time": "2022-04-19T13:54:16.313Z"
   },
   {
    "duration": 28,
    "start_time": "2022-04-19T13:54:16.319Z"
   },
   {
    "duration": 42,
    "start_time": "2022-04-19T13:54:16.349Z"
   },
   {
    "duration": 42,
    "start_time": "2022-04-19T13:54:16.393Z"
   },
   {
    "duration": 25,
    "start_time": "2022-04-19T13:54:16.437Z"
   },
   {
    "duration": 27,
    "start_time": "2022-04-19T13:54:16.464Z"
   },
   {
    "duration": 17,
    "start_time": "2022-04-19T13:54:16.496Z"
   },
   {
    "duration": 8,
    "start_time": "2022-04-19T13:54:16.515Z"
   },
   {
    "duration": 8,
    "start_time": "2022-04-19T13:54:16.525Z"
   },
   {
    "duration": 50,
    "start_time": "2022-04-19T13:54:16.535Z"
   },
   {
    "duration": 9,
    "start_time": "2022-04-19T13:54:16.587Z"
   },
   {
    "duration": 9,
    "start_time": "2022-04-19T13:54:16.601Z"
   },
   {
    "duration": 17,
    "start_time": "2022-04-19T13:54:16.612Z"
   },
   {
    "duration": 10,
    "start_time": "2022-04-19T13:54:16.631Z"
   },
   {
    "duration": 10,
    "start_time": "2022-04-19T13:54:16.643Z"
   },
   {
    "duration": 34,
    "start_time": "2022-04-19T13:54:16.656Z"
   },
   {
    "duration": 291,
    "start_time": "2022-04-19T13:54:16.693Z"
   },
   {
    "duration": 227,
    "start_time": "2022-04-19T13:54:16.987Z"
   },
   {
    "duration": 9,
    "start_time": "2022-04-19T13:54:17.216Z"
   },
   {
    "duration": 15,
    "start_time": "2022-04-19T13:54:17.228Z"
   },
   {
    "duration": 474,
    "start_time": "2022-04-19T13:54:17.246Z"
   },
   {
    "duration": 316,
    "start_time": "2022-04-19T13:54:17.722Z"
   },
   {
    "duration": 435,
    "start_time": "2022-04-19T13:54:18.040Z"
   },
   {
    "duration": 10,
    "start_time": "2022-04-19T13:54:18.477Z"
   },
   {
    "duration": 18,
    "start_time": "2022-04-19T13:54:18.493Z"
   },
   {
    "duration": 309,
    "start_time": "2022-04-19T13:54:18.514Z"
   },
   {
    "duration": 443,
    "start_time": "2022-04-19T13:54:18.826Z"
   },
   {
    "duration": 23,
    "start_time": "2022-04-19T13:54:19.271Z"
   },
   {
    "duration": 222,
    "start_time": "2022-04-19T13:54:19.297Z"
   },
   {
    "duration": 6,
    "start_time": "2022-04-19T13:54:19.521Z"
   },
   {
    "duration": 232,
    "start_time": "2022-04-19T13:54:19.529Z"
   },
   {
    "duration": 6,
    "start_time": "2022-04-19T13:54:19.763Z"
   },
   {
    "duration": 388,
    "start_time": "2022-04-19T13:54:19.782Z"
   },
   {
    "duration": 338,
    "start_time": "2022-04-19T13:54:20.172Z"
   },
   {
    "duration": 15,
    "start_time": "2022-04-19T13:54:20.513Z"
   },
   {
    "duration": 13,
    "start_time": "2022-04-19T13:54:20.530Z"
   },
   {
    "duration": 71,
    "start_time": "2022-04-19T13:54:20.545Z"
   },
   {
    "duration": 20,
    "start_time": "2022-04-19T13:54:20.618Z"
   },
   {
    "duration": 1241,
    "start_time": "2022-04-20T05:39:53.081Z"
   },
   {
    "duration": 15,
    "start_time": "2022-04-20T05:39:54.324Z"
   },
   {
    "duration": 18,
    "start_time": "2022-04-20T05:39:54.340Z"
   },
   {
    "duration": 3,
    "start_time": "2022-04-20T05:39:54.500Z"
   },
   {
    "duration": 11,
    "start_time": "2022-04-20T05:39:54.956Z"
   },
   {
    "duration": 10,
    "start_time": "2022-04-20T05:39:55.782Z"
   },
   {
    "duration": 49,
    "start_time": "2022-04-20T05:39:57.285Z"
   },
   {
    "duration": 15,
    "start_time": "2022-04-20T05:39:57.620Z"
   },
   {
    "duration": 11,
    "start_time": "2022-04-20T05:39:57.948Z"
   },
   {
    "duration": 11,
    "start_time": "2022-04-20T05:39:58.109Z"
   },
   {
    "duration": 5,
    "start_time": "2022-04-20T05:39:58.446Z"
   },
   {
    "duration": 5,
    "start_time": "2022-04-20T05:39:58.780Z"
   },
   {
    "duration": 14,
    "start_time": "2022-04-20T05:39:59.635Z"
   },
   {
    "duration": 4,
    "start_time": "2022-04-20T05:39:59.982Z"
   },
   {
    "duration": 5,
    "start_time": "2022-04-20T05:40:00.331Z"
   },
   {
    "duration": 4,
    "start_time": "2022-04-20T05:40:00.684Z"
   },
   {
    "duration": 2,
    "start_time": "2022-04-20T05:40:00.853Z"
   },
   {
    "duration": 2,
    "start_time": "2022-04-20T05:40:01.028Z"
   },
   {
    "duration": 5,
    "start_time": "2022-04-20T05:40:03.316Z"
   },
   {
    "duration": 146,
    "start_time": "2022-04-20T05:40:03.684Z"
   },
   {
    "duration": 109,
    "start_time": "2022-04-20T05:40:04.056Z"
   },
   {
    "duration": 7,
    "start_time": "2022-04-20T05:40:04.427Z"
   },
   {
    "duration": 6,
    "start_time": "2022-04-20T05:40:05.124Z"
   },
   {
    "duration": 229,
    "start_time": "2022-04-20T05:40:06.439Z"
   },
   {
    "duration": 157,
    "start_time": "2022-04-20T05:40:07.163Z"
   },
   {
    "duration": 317,
    "start_time": "2022-04-20T05:40:07.903Z"
   },
   {
    "duration": 4,
    "start_time": "2022-04-20T05:40:08.643Z"
   },
   {
    "duration": 4,
    "start_time": "2022-04-20T05:40:09.012Z"
   },
   {
    "duration": 152,
    "start_time": "2022-04-20T05:40:09.381Z"
   },
   {
    "duration": 302,
    "start_time": "2022-04-20T05:40:10.389Z"
   },
   {
    "duration": 8,
    "start_time": "2022-04-20T05:40:11.940Z"
   },
   {
    "duration": 102,
    "start_time": "2022-04-20T05:40:12.332Z"
   },
   {
    "duration": 4,
    "start_time": "2022-04-20T05:40:13.035Z"
   },
   {
    "duration": 115,
    "start_time": "2022-04-20T05:40:14.075Z"
   },
   {
    "duration": 4,
    "start_time": "2022-04-20T05:40:14.940Z"
   },
   {
    "duration": 196,
    "start_time": "2022-04-20T05:40:16.497Z"
   },
   {
    "duration": 145,
    "start_time": "2022-04-20T05:40:16.904Z"
   },
   {
    "duration": 10,
    "start_time": "2022-04-20T05:40:17.692Z"
   },
   {
    "duration": 8,
    "start_time": "2022-04-20T05:40:18.484Z"
   },
   {
    "duration": 5,
    "start_time": "2022-04-20T05:40:34.877Z"
   },
   {
    "duration": 5,
    "start_time": "2022-04-20T05:41:07.896Z"
   },
   {
    "duration": 1026,
    "start_time": "2022-09-05T21:00:50.600Z"
   },
   {
    "duration": 72,
    "start_time": "2022-09-05T21:00:51.628Z"
   },
   {
    "duration": 27,
    "start_time": "2022-09-05T21:00:51.702Z"
   },
   {
    "duration": 4,
    "start_time": "2022-09-05T21:00:51.731Z"
   },
   {
    "duration": 24,
    "start_time": "2022-09-05T21:00:51.736Z"
   },
   {
    "duration": 14,
    "start_time": "2022-09-05T21:00:51.761Z"
   },
   {
    "duration": 130,
    "start_time": "2022-09-05T21:00:51.776Z"
   },
   {
    "duration": 15,
    "start_time": "2022-09-05T21:00:51.908Z"
   },
   {
    "duration": 12,
    "start_time": "2022-09-05T21:00:51.925Z"
   },
   {
    "duration": 13,
    "start_time": "2022-09-05T21:00:51.939Z"
   },
   {
    "duration": 6,
    "start_time": "2022-09-05T21:00:51.954Z"
   },
   {
    "duration": 5,
    "start_time": "2022-09-05T21:00:51.961Z"
   },
   {
    "duration": 43,
    "start_time": "2022-09-05T21:00:51.968Z"
   },
   {
    "duration": 4,
    "start_time": "2022-09-05T21:00:52.012Z"
   },
   {
    "duration": 12,
    "start_time": "2022-09-05T21:00:52.017Z"
   },
   {
    "duration": 7,
    "start_time": "2022-09-05T21:00:52.030Z"
   },
   {
    "duration": 10,
    "start_time": "2022-09-05T21:00:52.038Z"
   },
   {
    "duration": 7,
    "start_time": "2022-09-05T21:00:52.049Z"
   },
   {
    "duration": 10,
    "start_time": "2022-09-05T21:00:52.057Z"
   },
   {
    "duration": 176,
    "start_time": "2022-09-05T21:00:52.069Z"
   },
   {
    "duration": 133,
    "start_time": "2022-09-05T21:00:52.247Z"
   },
   {
    "duration": 9,
    "start_time": "2022-09-05T21:00:52.382Z"
   },
   {
    "duration": 18,
    "start_time": "2022-09-05T21:00:52.393Z"
   },
   {
    "duration": 271,
    "start_time": "2022-09-05T21:00:52.413Z"
   },
   {
    "duration": 186,
    "start_time": "2022-09-05T21:00:52.686Z"
   },
   {
    "duration": 328,
    "start_time": "2022-09-05T21:00:52.874Z"
   },
   {
    "duration": 3,
    "start_time": "2022-09-05T21:00:53.205Z"
   },
   {
    "duration": 7,
    "start_time": "2022-09-05T21:00:53.211Z"
   },
   {
    "duration": 180,
    "start_time": "2022-09-05T21:00:53.219Z"
   },
   {
    "duration": 300,
    "start_time": "2022-09-05T21:00:53.406Z"
   },
   {
    "duration": 9,
    "start_time": "2022-09-05T21:00:53.707Z"
   },
   {
    "duration": 125,
    "start_time": "2022-09-05T21:00:53.718Z"
   },
   {
    "duration": 4,
    "start_time": "2022-09-05T21:00:53.844Z"
   },
   {
    "duration": 145,
    "start_time": "2022-09-05T21:00:53.849Z"
   },
   {
    "duration": 11,
    "start_time": "2022-09-05T21:00:53.995Z"
   },
   {
    "duration": 232,
    "start_time": "2022-09-05T21:00:54.009Z"
   },
   {
    "duration": 170,
    "start_time": "2022-09-05T21:00:54.243Z"
   },
   {
    "duration": 9,
    "start_time": "2022-09-05T21:00:54.415Z"
   },
   {
    "duration": 10,
    "start_time": "2022-09-05T21:00:54.426Z"
   },
   {
    "duration": 24,
    "start_time": "2022-09-05T21:00:54.437Z"
   },
   {
    "duration": 13,
    "start_time": "2022-09-05T21:00:54.462Z"
   }
  ],
  "kernelspec": {
   "display_name": "Python 3 (ipykernel)",
   "language": "python",
   "name": "python3"
  },
  "language_info": {
   "codemirror_mode": {
    "name": "ipython",
    "version": 3
   },
   "file_extension": ".py",
   "mimetype": "text/x-python",
   "name": "python",
   "nbconvert_exporter": "python",
   "pygments_lexer": "ipython3",
   "version": "3.9.5"
  },
  "toc": {
   "base_numbering": 1,
   "nav_menu": {},
   "number_sections": true,
   "sideBar": true,
   "skip_h1_title": true,
   "title_cell": "Table of Contents",
   "title_sidebar": "Contents",
   "toc_cell": false,
   "toc_position": {},
   "toc_section_display": true,
   "toc_window_display": true
  }
 },
 "nbformat": 4,
 "nbformat_minor": 2
}
