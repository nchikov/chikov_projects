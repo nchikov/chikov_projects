{
 "cells": [
  {
   "cell_type": "markdown",
   "metadata": {},
   "source": [
    "# Определение перспективного тарифа для телеком-компании\n",
    "\n",
    "# Описание проекта\n",
    "Вы аналитик компании «Мегалайн» — федерального оператора сотовой связи. Клиентам предлагают два тарифных плана: «Смарт» и «Ультра». Чтобы скорректировать рекламный бюджет, коммерческий департамент хочет понять, какой тариф приносит больше денег.\n",
    "Вам предстоит сделать предварительный анализ тарифов на небольшой выборке клиентов. В вашем распоряжении данные 500 пользователей «Мегалайна»: кто они, откуда, каким тарифом пользуются, сколько звонков и сообщений каждый отправил за 2018 год. Нужно проанализировать поведение клиентов и сделать вывод — какой тариф лучше.\n"
   ]
  },
  {
   "cell_type": "markdown",
   "metadata": {},
   "source": [
    "**Описание тарифов**\n",
    "\n",
    "Тариф «Смарт»\n",
    "1.\tЕжемесячная плата: 550 рублей\n",
    "2.\tВключено 500 минут разговора, 50 сообщений и 15 Гб интернет-трафика\n",
    "3.\tСтоимость услуг сверх тарифного пакета:\n",
    "    -\tминута разговора: 3 рубля\n",
    "    -\tсообщение: 3 рубля\n",
    "    -\t1 Гб интернет-трафика: 200 рублей\n",
    "\n",
    "Тариф «Ультра»\n",
    "1.\tЕжемесячная плата: 1950 рублей\n",
    "2.\tВключено 3000 минут разговора, 1000 сообщений и 30 Гб интернет-трафика\n",
    "3.\tСтоимость услуг сверх тарифного пакета:\n",
    "    -\tминута разговора: 1 рубль\n",
    "    -\tсообщение: 1 рубль\n",
    "    -\t1 Гб интернет-трафика: 150 рублей\n",
    "\n",
    "**Примечание:**\n",
    "«Мегалайн» всегда округляет секунды до минут, а мегабайты — до гигабайт. Каждый звонок округляется отдельно: даже если он длился всего 1 секунду, будет засчитан как 1 минута.\n",
    "Для веб-трафика отдельные сессии не считаются. Вместо этого общая сумма за месяц округляется в бо́льшую сторону. Если абонент использует 1025 мегабайт в этом месяце, с него возьмут плату за 2 гигабайта.\n"
   ]
  },
  {
   "cell_type": "markdown",
   "metadata": {},
   "source": [
    "## Изучение данных из файла"
   ]
  },
  {
   "cell_type": "markdown",
   "metadata": {},
   "source": [
    "Для начала импортируем необходимые библиотеки."
   ]
  },
  {
   "cell_type": "code",
   "execution_count": 1,
   "metadata": {},
   "outputs": [],
   "source": [
    "import pandas as pd\n",
    "import numpy as np"
   ]
  },
  {
   "cell_type": "markdown",
   "metadata": {},
   "source": [
    "Приступим к ознакомлению с материалами. Согласно легенде, таблица `users` содержит следующие данные:"
   ]
  },
  {
   "cell_type": "markdown",
   "metadata": {},
   "source": [
    "\n",
    "\n",
    "-\tuser_id — уникальный идентификатор пользователя\n",
    "-\tfirst_name — имя пользователя\n",
    "-\tlast_name — фамилия пользователя\n",
    "-\tage — возраст пользователя (годы)\n",
    "-\treg_date — дата подключения тарифа (день, месяц, год)\n",
    "-\tchurn_date — дата прекращения пользования тарифом (если значение пропущено, то тариф ещё действовал на момент выгрузки данных)\n",
    "-\tcity — город проживания пользователя\n",
    "-\ttarif — название тарифного плана\n"
   ]
  },
  {
   "cell_type": "code",
   "execution_count": 2,
   "metadata": {},
   "outputs": [],
   "source": [
    "users = pd.read_csv('/datasets/users.csv')"
   ]
  },
  {
   "cell_type": "markdown",
   "metadata": {},
   "source": [
    "Напишем небольшую функцию, чтобы не писать одинаковый код для каждого датасета."
   ]
  },
  {
   "cell_type": "code",
   "execution_count": 3,
   "metadata": {},
   "outputs": [],
   "source": [
    "def  head_info(df):\n",
    "    display(df.head(10))\n",
    "    df.info()"
   ]
  },
  {
   "cell_type": "code",
   "execution_count": 4,
   "metadata": {},
   "outputs": [
    {
     "data": {
      "text/html": [
       "<div>\n",
       "<style scoped>\n",
       "    .dataframe tbody tr th:only-of-type {\n",
       "        vertical-align: middle;\n",
       "    }\n",
       "\n",
       "    .dataframe tbody tr th {\n",
       "        vertical-align: top;\n",
       "    }\n",
       "\n",
       "    .dataframe thead th {\n",
       "        text-align: right;\n",
       "    }\n",
       "</style>\n",
       "<table border=\"1\" class=\"dataframe\">\n",
       "  <thead>\n",
       "    <tr style=\"text-align: right;\">\n",
       "      <th></th>\n",
       "      <th>user_id</th>\n",
       "      <th>age</th>\n",
       "      <th>churn_date</th>\n",
       "      <th>city</th>\n",
       "      <th>first_name</th>\n",
       "      <th>last_name</th>\n",
       "      <th>reg_date</th>\n",
       "      <th>tariff</th>\n",
       "    </tr>\n",
       "  </thead>\n",
       "  <tbody>\n",
       "    <tr>\n",
       "      <th>0</th>\n",
       "      <td>1000</td>\n",
       "      <td>52</td>\n",
       "      <td>NaN</td>\n",
       "      <td>Краснодар</td>\n",
       "      <td>Рафаил</td>\n",
       "      <td>Верещагин</td>\n",
       "      <td>2018-05-25</td>\n",
       "      <td>ultra</td>\n",
       "    </tr>\n",
       "    <tr>\n",
       "      <th>1</th>\n",
       "      <td>1001</td>\n",
       "      <td>41</td>\n",
       "      <td>NaN</td>\n",
       "      <td>Москва</td>\n",
       "      <td>Иван</td>\n",
       "      <td>Ежов</td>\n",
       "      <td>2018-11-01</td>\n",
       "      <td>smart</td>\n",
       "    </tr>\n",
       "    <tr>\n",
       "      <th>2</th>\n",
       "      <td>1002</td>\n",
       "      <td>59</td>\n",
       "      <td>NaN</td>\n",
       "      <td>Стерлитамак</td>\n",
       "      <td>Евгений</td>\n",
       "      <td>Абрамович</td>\n",
       "      <td>2018-06-17</td>\n",
       "      <td>smart</td>\n",
       "    </tr>\n",
       "    <tr>\n",
       "      <th>3</th>\n",
       "      <td>1003</td>\n",
       "      <td>23</td>\n",
       "      <td>NaN</td>\n",
       "      <td>Москва</td>\n",
       "      <td>Белла</td>\n",
       "      <td>Белякова</td>\n",
       "      <td>2018-08-17</td>\n",
       "      <td>ultra</td>\n",
       "    </tr>\n",
       "    <tr>\n",
       "      <th>4</th>\n",
       "      <td>1004</td>\n",
       "      <td>68</td>\n",
       "      <td>NaN</td>\n",
       "      <td>Новокузнецк</td>\n",
       "      <td>Татьяна</td>\n",
       "      <td>Авдеенко</td>\n",
       "      <td>2018-05-14</td>\n",
       "      <td>ultra</td>\n",
       "    </tr>\n",
       "    <tr>\n",
       "      <th>5</th>\n",
       "      <td>1005</td>\n",
       "      <td>67</td>\n",
       "      <td>NaN</td>\n",
       "      <td>Набережные Челны</td>\n",
       "      <td>Афанасий</td>\n",
       "      <td>Горлов</td>\n",
       "      <td>2018-01-25</td>\n",
       "      <td>smart</td>\n",
       "    </tr>\n",
       "    <tr>\n",
       "      <th>6</th>\n",
       "      <td>1006</td>\n",
       "      <td>21</td>\n",
       "      <td>NaN</td>\n",
       "      <td>Ульяновск</td>\n",
       "      <td>Леонид</td>\n",
       "      <td>Ермолаев</td>\n",
       "      <td>2018-02-26</td>\n",
       "      <td>smart</td>\n",
       "    </tr>\n",
       "    <tr>\n",
       "      <th>7</th>\n",
       "      <td>1007</td>\n",
       "      <td>65</td>\n",
       "      <td>NaN</td>\n",
       "      <td>Москва</td>\n",
       "      <td>Юна</td>\n",
       "      <td>Березина</td>\n",
       "      <td>2018-04-19</td>\n",
       "      <td>smart</td>\n",
       "    </tr>\n",
       "    <tr>\n",
       "      <th>8</th>\n",
       "      <td>1008</td>\n",
       "      <td>63</td>\n",
       "      <td>NaN</td>\n",
       "      <td>Челябинск</td>\n",
       "      <td>Рустэм</td>\n",
       "      <td>Пономарёв</td>\n",
       "      <td>2018-12-19</td>\n",
       "      <td>smart</td>\n",
       "    </tr>\n",
       "    <tr>\n",
       "      <th>9</th>\n",
       "      <td>1009</td>\n",
       "      <td>24</td>\n",
       "      <td>NaN</td>\n",
       "      <td>Пермь</td>\n",
       "      <td>Василиса</td>\n",
       "      <td>Блинова</td>\n",
       "      <td>2018-03-22</td>\n",
       "      <td>smart</td>\n",
       "    </tr>\n",
       "  </tbody>\n",
       "</table>\n",
       "</div>"
      ],
      "text/plain": [
       "   user_id  age churn_date              city first_name  last_name  \\\n",
       "0     1000   52        NaN         Краснодар     Рафаил  Верещагин   \n",
       "1     1001   41        NaN            Москва       Иван       Ежов   \n",
       "2     1002   59        NaN       Стерлитамак    Евгений  Абрамович   \n",
       "3     1003   23        NaN            Москва      Белла   Белякова   \n",
       "4     1004   68        NaN       Новокузнецк    Татьяна   Авдеенко   \n",
       "5     1005   67        NaN  Набережные Челны   Афанасий     Горлов   \n",
       "6     1006   21        NaN         Ульяновск     Леонид   Ермолаев   \n",
       "7     1007   65        NaN            Москва        Юна   Березина   \n",
       "8     1008   63        NaN         Челябинск     Рустэм  Пономарёв   \n",
       "9     1009   24        NaN             Пермь   Василиса    Блинова   \n",
       "\n",
       "     reg_date tariff  \n",
       "0  2018-05-25  ultra  \n",
       "1  2018-11-01  smart  \n",
       "2  2018-06-17  smart  \n",
       "3  2018-08-17  ultra  \n",
       "4  2018-05-14  ultra  \n",
       "5  2018-01-25  smart  \n",
       "6  2018-02-26  smart  \n",
       "7  2018-04-19  smart  \n",
       "8  2018-12-19  smart  \n",
       "9  2018-03-22  smart  "
      ]
     },
     "metadata": {},
     "output_type": "display_data"
    },
    {
     "name": "stdout",
     "output_type": "stream",
     "text": [
      "<class 'pandas.core.frame.DataFrame'>\n",
      "RangeIndex: 500 entries, 0 to 499\n",
      "Data columns (total 8 columns):\n",
      " #   Column      Non-Null Count  Dtype \n",
      "---  ------      --------------  ----- \n",
      " 0   user_id     500 non-null    int64 \n",
      " 1   age         500 non-null    int64 \n",
      " 2   churn_date  38 non-null     object\n",
      " 3   city        500 non-null    object\n",
      " 4   first_name  500 non-null    object\n",
      " 5   last_name   500 non-null    object\n",
      " 6   reg_date    500 non-null    object\n",
      " 7   tariff      500 non-null    object\n",
      "dtypes: int64(2), object(6)\n",
      "memory usage: 31.4+ KB\n"
     ]
    }
   ],
   "source": [
    "head_info(users)"
   ]
  },
  {
   "cell_type": "markdown",
   "metadata": {},
   "source": [
    "Очевидно, что придется провести работу по смене типа данных в столбцах.\n",
    "\n",
    "Следующая таблица `calls`:\n",
    "\n",
    "- id — уникальный номер звонка\n",
    "- call_date — дата звонка\n",
    "- duration — длительность звонка в минутах\n",
    "- user_id — идентификатор пользователя, сделавшего звонок\n"
   ]
  },
  {
   "cell_type": "code",
   "execution_count": 5,
   "metadata": {},
   "outputs": [],
   "source": [
    "calls = pd.read_csv('/datasets/calls.csv')"
   ]
  },
  {
   "cell_type": "code",
   "execution_count": 6,
   "metadata": {},
   "outputs": [
    {
     "data": {
      "text/html": [
       "<div>\n",
       "<style scoped>\n",
       "    .dataframe tbody tr th:only-of-type {\n",
       "        vertical-align: middle;\n",
       "    }\n",
       "\n",
       "    .dataframe tbody tr th {\n",
       "        vertical-align: top;\n",
       "    }\n",
       "\n",
       "    .dataframe thead th {\n",
       "        text-align: right;\n",
       "    }\n",
       "</style>\n",
       "<table border=\"1\" class=\"dataframe\">\n",
       "  <thead>\n",
       "    <tr style=\"text-align: right;\">\n",
       "      <th></th>\n",
       "      <th>id</th>\n",
       "      <th>call_date</th>\n",
       "      <th>duration</th>\n",
       "      <th>user_id</th>\n",
       "    </tr>\n",
       "  </thead>\n",
       "  <tbody>\n",
       "    <tr>\n",
       "      <th>0</th>\n",
       "      <td>1000_0</td>\n",
       "      <td>2018-07-25</td>\n",
       "      <td>0.00</td>\n",
       "      <td>1000</td>\n",
       "    </tr>\n",
       "    <tr>\n",
       "      <th>1</th>\n",
       "      <td>1000_1</td>\n",
       "      <td>2018-08-17</td>\n",
       "      <td>0.00</td>\n",
       "      <td>1000</td>\n",
       "    </tr>\n",
       "    <tr>\n",
       "      <th>2</th>\n",
       "      <td>1000_2</td>\n",
       "      <td>2018-06-11</td>\n",
       "      <td>2.85</td>\n",
       "      <td>1000</td>\n",
       "    </tr>\n",
       "    <tr>\n",
       "      <th>3</th>\n",
       "      <td>1000_3</td>\n",
       "      <td>2018-09-21</td>\n",
       "      <td>13.80</td>\n",
       "      <td>1000</td>\n",
       "    </tr>\n",
       "    <tr>\n",
       "      <th>4</th>\n",
       "      <td>1000_4</td>\n",
       "      <td>2018-12-15</td>\n",
       "      <td>5.18</td>\n",
       "      <td>1000</td>\n",
       "    </tr>\n",
       "    <tr>\n",
       "      <th>5</th>\n",
       "      <td>1000_5</td>\n",
       "      <td>2018-11-02</td>\n",
       "      <td>0.00</td>\n",
       "      <td>1000</td>\n",
       "    </tr>\n",
       "    <tr>\n",
       "      <th>6</th>\n",
       "      <td>1000_6</td>\n",
       "      <td>2018-10-18</td>\n",
       "      <td>0.00</td>\n",
       "      <td>1000</td>\n",
       "    </tr>\n",
       "    <tr>\n",
       "      <th>7</th>\n",
       "      <td>1000_7</td>\n",
       "      <td>2018-08-22</td>\n",
       "      <td>18.31</td>\n",
       "      <td>1000</td>\n",
       "    </tr>\n",
       "    <tr>\n",
       "      <th>8</th>\n",
       "      <td>1000_8</td>\n",
       "      <td>2018-09-15</td>\n",
       "      <td>18.44</td>\n",
       "      <td>1000</td>\n",
       "    </tr>\n",
       "    <tr>\n",
       "      <th>9</th>\n",
       "      <td>1000_9</td>\n",
       "      <td>2018-08-15</td>\n",
       "      <td>0.00</td>\n",
       "      <td>1000</td>\n",
       "    </tr>\n",
       "  </tbody>\n",
       "</table>\n",
       "</div>"
      ],
      "text/plain": [
       "       id   call_date  duration  user_id\n",
       "0  1000_0  2018-07-25      0.00     1000\n",
       "1  1000_1  2018-08-17      0.00     1000\n",
       "2  1000_2  2018-06-11      2.85     1000\n",
       "3  1000_3  2018-09-21     13.80     1000\n",
       "4  1000_4  2018-12-15      5.18     1000\n",
       "5  1000_5  2018-11-02      0.00     1000\n",
       "6  1000_6  2018-10-18      0.00     1000\n",
       "7  1000_7  2018-08-22     18.31     1000\n",
       "8  1000_8  2018-09-15     18.44     1000\n",
       "9  1000_9  2018-08-15      0.00     1000"
      ]
     },
     "metadata": {},
     "output_type": "display_data"
    },
    {
     "name": "stdout",
     "output_type": "stream",
     "text": [
      "<class 'pandas.core.frame.DataFrame'>\n",
      "RangeIndex: 202607 entries, 0 to 202606\n",
      "Data columns (total 4 columns):\n",
      " #   Column     Non-Null Count   Dtype  \n",
      "---  ------     --------------   -----  \n",
      " 0   id         202607 non-null  object \n",
      " 1   call_date  202607 non-null  object \n",
      " 2   duration   202607 non-null  float64\n",
      " 3   user_id    202607 non-null  int64  \n",
      "dtypes: float64(1), int64(1), object(2)\n",
      "memory usage: 6.2+ MB\n"
     ]
    }
   ],
   "source": [
    "head_info(calls)"
   ]
  },
  {
   "cell_type": "markdown",
   "metadata": {},
   "source": [
    "То же самое, необходима смена типа данных.\n",
    "\n",
    "\n",
    "Следующая таблица `messages`:\n",
    "\n",
    "- id — уникальный номер сообщения\n",
    "- message_date — дата сообщения\n",
    "- user_id — идентификатор пользователя, отправившего сообщение\n"
   ]
  },
  {
   "cell_type": "code",
   "execution_count": 7,
   "metadata": {},
   "outputs": [],
   "source": [
    "messages = pd.read_csv('/datasets/messages.csv')"
   ]
  },
  {
   "cell_type": "code",
   "execution_count": 8,
   "metadata": {},
   "outputs": [
    {
     "data": {
      "text/html": [
       "<div>\n",
       "<style scoped>\n",
       "    .dataframe tbody tr th:only-of-type {\n",
       "        vertical-align: middle;\n",
       "    }\n",
       "\n",
       "    .dataframe tbody tr th {\n",
       "        vertical-align: top;\n",
       "    }\n",
       "\n",
       "    .dataframe thead th {\n",
       "        text-align: right;\n",
       "    }\n",
       "</style>\n",
       "<table border=\"1\" class=\"dataframe\">\n",
       "  <thead>\n",
       "    <tr style=\"text-align: right;\">\n",
       "      <th></th>\n",
       "      <th>id</th>\n",
       "      <th>message_date</th>\n",
       "      <th>user_id</th>\n",
       "    </tr>\n",
       "  </thead>\n",
       "  <tbody>\n",
       "    <tr>\n",
       "      <th>0</th>\n",
       "      <td>1000_0</td>\n",
       "      <td>2018-06-27</td>\n",
       "      <td>1000</td>\n",
       "    </tr>\n",
       "    <tr>\n",
       "      <th>1</th>\n",
       "      <td>1000_1</td>\n",
       "      <td>2018-10-08</td>\n",
       "      <td>1000</td>\n",
       "    </tr>\n",
       "    <tr>\n",
       "      <th>2</th>\n",
       "      <td>1000_2</td>\n",
       "      <td>2018-08-04</td>\n",
       "      <td>1000</td>\n",
       "    </tr>\n",
       "    <tr>\n",
       "      <th>3</th>\n",
       "      <td>1000_3</td>\n",
       "      <td>2018-06-16</td>\n",
       "      <td>1000</td>\n",
       "    </tr>\n",
       "    <tr>\n",
       "      <th>4</th>\n",
       "      <td>1000_4</td>\n",
       "      <td>2018-12-05</td>\n",
       "      <td>1000</td>\n",
       "    </tr>\n",
       "    <tr>\n",
       "      <th>5</th>\n",
       "      <td>1000_5</td>\n",
       "      <td>2018-06-20</td>\n",
       "      <td>1000</td>\n",
       "    </tr>\n",
       "    <tr>\n",
       "      <th>6</th>\n",
       "      <td>1000_6</td>\n",
       "      <td>2018-11-19</td>\n",
       "      <td>1000</td>\n",
       "    </tr>\n",
       "    <tr>\n",
       "      <th>7</th>\n",
       "      <td>1000_7</td>\n",
       "      <td>2018-10-29</td>\n",
       "      <td>1000</td>\n",
       "    </tr>\n",
       "    <tr>\n",
       "      <th>8</th>\n",
       "      <td>1000_8</td>\n",
       "      <td>2018-06-25</td>\n",
       "      <td>1000</td>\n",
       "    </tr>\n",
       "    <tr>\n",
       "      <th>9</th>\n",
       "      <td>1000_9</td>\n",
       "      <td>2018-12-18</td>\n",
       "      <td>1000</td>\n",
       "    </tr>\n",
       "  </tbody>\n",
       "</table>\n",
       "</div>"
      ],
      "text/plain": [
       "       id message_date  user_id\n",
       "0  1000_0   2018-06-27     1000\n",
       "1  1000_1   2018-10-08     1000\n",
       "2  1000_2   2018-08-04     1000\n",
       "3  1000_3   2018-06-16     1000\n",
       "4  1000_4   2018-12-05     1000\n",
       "5  1000_5   2018-06-20     1000\n",
       "6  1000_6   2018-11-19     1000\n",
       "7  1000_7   2018-10-29     1000\n",
       "8  1000_8   2018-06-25     1000\n",
       "9  1000_9   2018-12-18     1000"
      ]
     },
     "metadata": {},
     "output_type": "display_data"
    },
    {
     "name": "stdout",
     "output_type": "stream",
     "text": [
      "<class 'pandas.core.frame.DataFrame'>\n",
      "RangeIndex: 123036 entries, 0 to 123035\n",
      "Data columns (total 3 columns):\n",
      " #   Column        Non-Null Count   Dtype \n",
      "---  ------        --------------   ----- \n",
      " 0   id            123036 non-null  object\n",
      " 1   message_date  123036 non-null  object\n",
      " 2   user_id       123036 non-null  int64 \n",
      "dtypes: int64(1), object(2)\n",
      "memory usage: 2.8+ MB\n"
     ]
    }
   ],
   "source": [
    "head_info(messages)"
   ]
  },
  {
   "cell_type": "markdown",
   "metadata": {},
   "source": [
    "Чуть позже произведем смену типа данных.\n",
    "\n",
    "Следующая таблица `internet`:\n",
    "\n",
    "- id — уникальный номер сессии\n",
    "- mb_used — объём потраченного за сессию интернет-трафика (в мегабайтах)\n",
    "- session_date — дата интернет-сессии\n",
    "- user_id — идентификатор пользователя\n"
   ]
  },
  {
   "cell_type": "code",
   "execution_count": 9,
   "metadata": {},
   "outputs": [],
   "source": [
    "internet = pd.read_csv('/datasets/internet.csv')"
   ]
  },
  {
   "cell_type": "code",
   "execution_count": 10,
   "metadata": {},
   "outputs": [
    {
     "data": {
      "text/html": [
       "<div>\n",
       "<style scoped>\n",
       "    .dataframe tbody tr th:only-of-type {\n",
       "        vertical-align: middle;\n",
       "    }\n",
       "\n",
       "    .dataframe tbody tr th {\n",
       "        vertical-align: top;\n",
       "    }\n",
       "\n",
       "    .dataframe thead th {\n",
       "        text-align: right;\n",
       "    }\n",
       "</style>\n",
       "<table border=\"1\" class=\"dataframe\">\n",
       "  <thead>\n",
       "    <tr style=\"text-align: right;\">\n",
       "      <th></th>\n",
       "      <th>Unnamed: 0</th>\n",
       "      <th>id</th>\n",
       "      <th>mb_used</th>\n",
       "      <th>session_date</th>\n",
       "      <th>user_id</th>\n",
       "    </tr>\n",
       "  </thead>\n",
       "  <tbody>\n",
       "    <tr>\n",
       "      <th>0</th>\n",
       "      <td>0</td>\n",
       "      <td>1000_0</td>\n",
       "      <td>112.95</td>\n",
       "      <td>2018-11-25</td>\n",
       "      <td>1000</td>\n",
       "    </tr>\n",
       "    <tr>\n",
       "      <th>1</th>\n",
       "      <td>1</td>\n",
       "      <td>1000_1</td>\n",
       "      <td>1052.81</td>\n",
       "      <td>2018-09-07</td>\n",
       "      <td>1000</td>\n",
       "    </tr>\n",
       "    <tr>\n",
       "      <th>2</th>\n",
       "      <td>2</td>\n",
       "      <td>1000_2</td>\n",
       "      <td>1197.26</td>\n",
       "      <td>2018-06-25</td>\n",
       "      <td>1000</td>\n",
       "    </tr>\n",
       "    <tr>\n",
       "      <th>3</th>\n",
       "      <td>3</td>\n",
       "      <td>1000_3</td>\n",
       "      <td>550.27</td>\n",
       "      <td>2018-08-22</td>\n",
       "      <td>1000</td>\n",
       "    </tr>\n",
       "    <tr>\n",
       "      <th>4</th>\n",
       "      <td>4</td>\n",
       "      <td>1000_4</td>\n",
       "      <td>302.56</td>\n",
       "      <td>2018-09-24</td>\n",
       "      <td>1000</td>\n",
       "    </tr>\n",
       "    <tr>\n",
       "      <th>5</th>\n",
       "      <td>5</td>\n",
       "      <td>1000_5</td>\n",
       "      <td>399.97</td>\n",
       "      <td>2018-10-02</td>\n",
       "      <td>1000</td>\n",
       "    </tr>\n",
       "    <tr>\n",
       "      <th>6</th>\n",
       "      <td>6</td>\n",
       "      <td>1000_6</td>\n",
       "      <td>540.08</td>\n",
       "      <td>2018-09-07</td>\n",
       "      <td>1000</td>\n",
       "    </tr>\n",
       "    <tr>\n",
       "      <th>7</th>\n",
       "      <td>7</td>\n",
       "      <td>1000_7</td>\n",
       "      <td>415.70</td>\n",
       "      <td>2018-07-11</td>\n",
       "      <td>1000</td>\n",
       "    </tr>\n",
       "    <tr>\n",
       "      <th>8</th>\n",
       "      <td>8</td>\n",
       "      <td>1000_8</td>\n",
       "      <td>505.40</td>\n",
       "      <td>2018-10-08</td>\n",
       "      <td>1000</td>\n",
       "    </tr>\n",
       "    <tr>\n",
       "      <th>9</th>\n",
       "      <td>9</td>\n",
       "      <td>1000_9</td>\n",
       "      <td>345.54</td>\n",
       "      <td>2018-09-03</td>\n",
       "      <td>1000</td>\n",
       "    </tr>\n",
       "  </tbody>\n",
       "</table>\n",
       "</div>"
      ],
      "text/plain": [
       "   Unnamed: 0      id  mb_used session_date  user_id\n",
       "0           0  1000_0   112.95   2018-11-25     1000\n",
       "1           1  1000_1  1052.81   2018-09-07     1000\n",
       "2           2  1000_2  1197.26   2018-06-25     1000\n",
       "3           3  1000_3   550.27   2018-08-22     1000\n",
       "4           4  1000_4   302.56   2018-09-24     1000\n",
       "5           5  1000_5   399.97   2018-10-02     1000\n",
       "6           6  1000_6   540.08   2018-09-07     1000\n",
       "7           7  1000_7   415.70   2018-07-11     1000\n",
       "8           8  1000_8   505.40   2018-10-08     1000\n",
       "9           9  1000_9   345.54   2018-09-03     1000"
      ]
     },
     "metadata": {},
     "output_type": "display_data"
    },
    {
     "name": "stdout",
     "output_type": "stream",
     "text": [
      "<class 'pandas.core.frame.DataFrame'>\n",
      "RangeIndex: 149396 entries, 0 to 149395\n",
      "Data columns (total 5 columns):\n",
      " #   Column        Non-Null Count   Dtype  \n",
      "---  ------        --------------   -----  \n",
      " 0   Unnamed: 0    149396 non-null  int64  \n",
      " 1   id            149396 non-null  object \n",
      " 2   mb_used       149396 non-null  float64\n",
      " 3   session_date  149396 non-null  object \n",
      " 4   user_id       149396 non-null  int64  \n",
      "dtypes: float64(1), int64(2), object(2)\n",
      "memory usage: 5.7+ MB\n"
     ]
    }
   ],
   "source": [
    "head_info(internet)"
   ]
  },
  {
   "cell_type": "markdown",
   "metadata": {},
   "source": [
    "Те же вопросы со сменой типа данных.\n",
    "\n",
    "И последняя таблица с описанием тарифов `tariffs`:\n",
    "\n",
    "- tariff_name — название тарифа\n",
    "- rub_monthly_fee — ежемесячная абонентская плата в рублях\n",
    "- minutes_included — количество минут разговора в месяц, включённых в абонентскую плату\n",
    "- messages_included — количество сообщений в месяц, включённых в абонентскую плату\n",
    "- mb_per_month_included — объём интернет-трафика, включённого в абонентскую плату (в мегабайтах)\n",
    "- rub_per_minute — стоимость минуты разговора сверх тарифного пакета (например, если в тарифе 100 минут разговора в месяц, то со 101 минуты будет взиматься плата)\n",
    "- rub_per_message — стоимость отправки сообщения сверх тарифного пакета\n",
    "- rub_per_gb — стоимость дополнительного гигабайта интернет-трафика сверх тарифного пакета (1 гигабайт = 1024 мегабайта)\n"
   ]
  },
  {
   "cell_type": "code",
   "execution_count": 11,
   "metadata": {},
   "outputs": [],
   "source": [
    "tariffs = pd.read_csv('/datasets/tariffs.csv')"
   ]
  },
  {
   "cell_type": "code",
   "execution_count": 12,
   "metadata": {},
   "outputs": [
    {
     "data": {
      "text/html": [
       "<div>\n",
       "<style scoped>\n",
       "    .dataframe tbody tr th:only-of-type {\n",
       "        vertical-align: middle;\n",
       "    }\n",
       "\n",
       "    .dataframe tbody tr th {\n",
       "        vertical-align: top;\n",
       "    }\n",
       "\n",
       "    .dataframe thead th {\n",
       "        text-align: right;\n",
       "    }\n",
       "</style>\n",
       "<table border=\"1\" class=\"dataframe\">\n",
       "  <thead>\n",
       "    <tr style=\"text-align: right;\">\n",
       "      <th></th>\n",
       "      <th>messages_included</th>\n",
       "      <th>mb_per_month_included</th>\n",
       "      <th>minutes_included</th>\n",
       "      <th>rub_monthly_fee</th>\n",
       "      <th>rub_per_gb</th>\n",
       "      <th>rub_per_message</th>\n",
       "      <th>rub_per_minute</th>\n",
       "      <th>tariff_name</th>\n",
       "    </tr>\n",
       "  </thead>\n",
       "  <tbody>\n",
       "    <tr>\n",
       "      <th>0</th>\n",
       "      <td>50</td>\n",
       "      <td>15360</td>\n",
       "      <td>500</td>\n",
       "      <td>550</td>\n",
       "      <td>200</td>\n",
       "      <td>3</td>\n",
       "      <td>3</td>\n",
       "      <td>smart</td>\n",
       "    </tr>\n",
       "    <tr>\n",
       "      <th>1</th>\n",
       "      <td>1000</td>\n",
       "      <td>30720</td>\n",
       "      <td>3000</td>\n",
       "      <td>1950</td>\n",
       "      <td>150</td>\n",
       "      <td>1</td>\n",
       "      <td>1</td>\n",
       "      <td>ultra</td>\n",
       "    </tr>\n",
       "  </tbody>\n",
       "</table>\n",
       "</div>"
      ],
      "text/plain": [
       "   messages_included  mb_per_month_included  minutes_included  \\\n",
       "0                 50                  15360               500   \n",
       "1               1000                  30720              3000   \n",
       "\n",
       "   rub_monthly_fee  rub_per_gb  rub_per_message  rub_per_minute tariff_name  \n",
       "0              550         200                3               3       smart  \n",
       "1             1950         150                1               1       ultra  "
      ]
     },
     "metadata": {},
     "output_type": "display_data"
    },
    {
     "name": "stdout",
     "output_type": "stream",
     "text": [
      "<class 'pandas.core.frame.DataFrame'>\n",
      "RangeIndex: 2 entries, 0 to 1\n",
      "Data columns (total 8 columns):\n",
      " #   Column                 Non-Null Count  Dtype \n",
      "---  ------                 --------------  ----- \n",
      " 0   messages_included      2 non-null      int64 \n",
      " 1   mb_per_month_included  2 non-null      int64 \n",
      " 2   minutes_included       2 non-null      int64 \n",
      " 3   rub_monthly_fee        2 non-null      int64 \n",
      " 4   rub_per_gb             2 non-null      int64 \n",
      " 5   rub_per_message        2 non-null      int64 \n",
      " 6   rub_per_minute         2 non-null      int64 \n",
      " 7   tariff_name            2 non-null      object\n",
      "dtypes: int64(7), object(1)\n",
      "memory usage: 256.0+ bytes\n"
     ]
    }
   ],
   "source": [
    "head_info(tariffs)"
   ]
  },
  {
   "cell_type": "markdown",
   "metadata": {},
   "source": [
    "Тут все в порядке, информация корректная."
   ]
  },
  {
   "cell_type": "markdown",
   "metadata": {},
   "source": [
    "### Вывод"
   ]
  },
  {
   "cell_type": "markdown",
   "metadata": {},
   "source": [
    "В целом, особых проблем по таблицам не наблюдается. Данные достаточно корректны и требуется минимальная предобработка, которой мы сейчас и займемся."
   ]
  },
  {
   "cell_type": "markdown",
   "metadata": {},
   "source": [
    "## Предобработка данных"
   ]
  },
  {
   "cell_type": "markdown",
   "metadata": {},
   "source": [
    "Немного освежим в памяти вид таблицы:"
   ]
  },
  {
   "cell_type": "code",
   "execution_count": 13,
   "metadata": {},
   "outputs": [
    {
     "data": {
      "text/html": [
       "<div>\n",
       "<style scoped>\n",
       "    .dataframe tbody tr th:only-of-type {\n",
       "        vertical-align: middle;\n",
       "    }\n",
       "\n",
       "    .dataframe tbody tr th {\n",
       "        vertical-align: top;\n",
       "    }\n",
       "\n",
       "    .dataframe thead th {\n",
       "        text-align: right;\n",
       "    }\n",
       "</style>\n",
       "<table border=\"1\" class=\"dataframe\">\n",
       "  <thead>\n",
       "    <tr style=\"text-align: right;\">\n",
       "      <th></th>\n",
       "      <th>user_id</th>\n",
       "      <th>age</th>\n",
       "      <th>churn_date</th>\n",
       "      <th>city</th>\n",
       "      <th>first_name</th>\n",
       "      <th>last_name</th>\n",
       "      <th>reg_date</th>\n",
       "      <th>tariff</th>\n",
       "    </tr>\n",
       "  </thead>\n",
       "  <tbody>\n",
       "    <tr>\n",
       "      <th>0</th>\n",
       "      <td>1000</td>\n",
       "      <td>52</td>\n",
       "      <td>NaN</td>\n",
       "      <td>Краснодар</td>\n",
       "      <td>Рафаил</td>\n",
       "      <td>Верещагин</td>\n",
       "      <td>2018-05-25</td>\n",
       "      <td>ultra</td>\n",
       "    </tr>\n",
       "    <tr>\n",
       "      <th>1</th>\n",
       "      <td>1001</td>\n",
       "      <td>41</td>\n",
       "      <td>NaN</td>\n",
       "      <td>Москва</td>\n",
       "      <td>Иван</td>\n",
       "      <td>Ежов</td>\n",
       "      <td>2018-11-01</td>\n",
       "      <td>smart</td>\n",
       "    </tr>\n",
       "    <tr>\n",
       "      <th>2</th>\n",
       "      <td>1002</td>\n",
       "      <td>59</td>\n",
       "      <td>NaN</td>\n",
       "      <td>Стерлитамак</td>\n",
       "      <td>Евгений</td>\n",
       "      <td>Абрамович</td>\n",
       "      <td>2018-06-17</td>\n",
       "      <td>smart</td>\n",
       "    </tr>\n",
       "    <tr>\n",
       "      <th>3</th>\n",
       "      <td>1003</td>\n",
       "      <td>23</td>\n",
       "      <td>NaN</td>\n",
       "      <td>Москва</td>\n",
       "      <td>Белла</td>\n",
       "      <td>Белякова</td>\n",
       "      <td>2018-08-17</td>\n",
       "      <td>ultra</td>\n",
       "    </tr>\n",
       "    <tr>\n",
       "      <th>4</th>\n",
       "      <td>1004</td>\n",
       "      <td>68</td>\n",
       "      <td>NaN</td>\n",
       "      <td>Новокузнецк</td>\n",
       "      <td>Татьяна</td>\n",
       "      <td>Авдеенко</td>\n",
       "      <td>2018-05-14</td>\n",
       "      <td>ultra</td>\n",
       "    </tr>\n",
       "  </tbody>\n",
       "</table>\n",
       "</div>"
      ],
      "text/plain": [
       "   user_id  age churn_date         city first_name  last_name    reg_date  \\\n",
       "0     1000   52        NaN    Краснодар     Рафаил  Верещагин  2018-05-25   \n",
       "1     1001   41        NaN       Москва       Иван       Ежов  2018-11-01   \n",
       "2     1002   59        NaN  Стерлитамак    Евгений  Абрамович  2018-06-17   \n",
       "3     1003   23        NaN       Москва      Белла   Белякова  2018-08-17   \n",
       "4     1004   68        NaN  Новокузнецк    Татьяна   Авдеенко  2018-05-14   \n",
       "\n",
       "  tariff  \n",
       "0  ultra  \n",
       "1  smart  \n",
       "2  smart  \n",
       "3  ultra  \n",
       "4  ultra  "
      ]
     },
     "execution_count": 13,
     "metadata": {},
     "output_type": "execute_result"
    }
   ],
   "source": [
    "users.head(5)"
   ]
  },
  {
   "cell_type": "code",
   "execution_count": 14,
   "metadata": {},
   "outputs": [
    {
     "name": "stdout",
     "output_type": "stream",
     "text": [
      "<class 'pandas.core.frame.DataFrame'>\n",
      "RangeIndex: 500 entries, 0 to 499\n",
      "Data columns (total 8 columns):\n",
      " #   Column      Non-Null Count  Dtype \n",
      "---  ------      --------------  ----- \n",
      " 0   user_id     500 non-null    int64 \n",
      " 1   age         500 non-null    int64 \n",
      " 2   churn_date  38 non-null     object\n",
      " 3   city        500 non-null    object\n",
      " 4   first_name  500 non-null    object\n",
      " 5   last_name   500 non-null    object\n",
      " 6   reg_date    500 non-null    object\n",
      " 7   tariff      500 non-null    object\n",
      "dtypes: int64(2), object(6)\n",
      "memory usage: 31.4+ KB\n"
     ]
    }
   ],
   "source": [
    "\n",
    "users.info()"
   ]
  },
  {
   "cell_type": "markdown",
   "metadata": {},
   "source": [
    "Сразу видно, что нужно поменять тип данных в столбцах `churn_date`/`reg_date` на формат даты.\n",
    "\n",
    "Например, вот так:"
   ]
  },
  {
   "cell_type": "code",
   "execution_count": 15,
   "metadata": {},
   "outputs": [],
   "source": [
    "users['churn_date'] = pd.to_datetime(users['churn_date'], format='%Y-%m-%d %H:%M')"
   ]
  },
  {
   "cell_type": "code",
   "execution_count": 16,
   "metadata": {},
   "outputs": [],
   "source": [
    "users['reg_date'] = pd.to_datetime(users['reg_date'], format='%Y-%m-%d %H:%M')"
   ]
  },
  {
   "cell_type": "code",
   "execution_count": 17,
   "metadata": {},
   "outputs": [
    {
     "name": "stdout",
     "output_type": "stream",
     "text": [
      "<class 'pandas.core.frame.DataFrame'>\n",
      "RangeIndex: 500 entries, 0 to 499\n",
      "Data columns (total 8 columns):\n",
      " #   Column      Non-Null Count  Dtype         \n",
      "---  ------      --------------  -----         \n",
      " 0   user_id     500 non-null    int64         \n",
      " 1   age         500 non-null    int64         \n",
      " 2   churn_date  38 non-null     datetime64[ns]\n",
      " 3   city        500 non-null    object        \n",
      " 4   first_name  500 non-null    object        \n",
      " 5   last_name   500 non-null    object        \n",
      " 6   reg_date    500 non-null    datetime64[ns]\n",
      " 7   tariff      500 non-null    object        \n",
      "dtypes: datetime64[ns](2), int64(2), object(4)\n",
      "memory usage: 31.4+ KB\n"
     ]
    }
   ],
   "source": [
    "users.info()"
   ]
  },
  {
   "cell_type": "markdown",
   "metadata": {},
   "source": [
    "Теперь все корректно.\n",
    "\n",
    "Пприступим к таблице со звонками:"
   ]
  },
  {
   "cell_type": "code",
   "execution_count": 18,
   "metadata": {},
   "outputs": [
    {
     "name": "stdout",
     "output_type": "stream",
     "text": [
      "<class 'pandas.core.frame.DataFrame'>\n",
      "RangeIndex: 202607 entries, 0 to 202606\n",
      "Data columns (total 4 columns):\n",
      " #   Column     Non-Null Count   Dtype  \n",
      "---  ------     --------------   -----  \n",
      " 0   id         202607 non-null  object \n",
      " 1   call_date  202607 non-null  object \n",
      " 2   duration   202607 non-null  float64\n",
      " 3   user_id    202607 non-null  int64  \n",
      "dtypes: float64(1), int64(1), object(2)\n",
      "memory usage: 6.2+ MB\n"
     ]
    }
   ],
   "source": [
    "calls.info()"
   ]
  },
  {
   "cell_type": "markdown",
   "metadata": {},
   "source": [
    "Аналогично сменим тип данных в столбце `call_date`:"
   ]
  },
  {
   "cell_type": "code",
   "execution_count": 19,
   "metadata": {},
   "outputs": [],
   "source": [
    "calls['call_date'] = pd.to_datetime(calls['call_date'], format='%Y-%m-%d %H:%M')"
   ]
  },
  {
   "cell_type": "code",
   "execution_count": 20,
   "metadata": {},
   "outputs": [
    {
     "data": {
      "text/plain": [
       "0        2018-07-25\n",
       "1        2018-08-17\n",
       "2        2018-06-11\n",
       "3        2018-09-21\n",
       "4        2018-12-15\n",
       "            ...    \n",
       "202602   2018-12-26\n",
       "202603   2018-10-18\n",
       "202604   2018-11-10\n",
       "202605   2018-10-06\n",
       "202606   2018-12-14\n",
       "Name: call_date, Length: 202607, dtype: datetime64[ns]"
      ]
     },
     "execution_count": 20,
     "metadata": {},
     "output_type": "execute_result"
    }
   ],
   "source": [
    "calls['call_date']"
   ]
  },
  {
   "cell_type": "markdown",
   "metadata": {},
   "source": [
    "Теперь порядок. \n",
    "\n",
    "Посмотрим что у нас с продолжительностью звонков:"
   ]
  },
  {
   "cell_type": "code",
   "execution_count": 21,
   "metadata": {},
   "outputs": [
    {
     "data": {
      "text/plain": [
       "count    202607.000000\n",
       "mean          6.755887\n",
       "std           5.843365\n",
       "min           0.000000\n",
       "25%           1.300000\n",
       "50%           6.000000\n",
       "75%          10.700000\n",
       "max          38.000000\n",
       "Name: duration, dtype: float64"
      ]
     },
     "execution_count": 21,
     "metadata": {},
     "output_type": "execute_result"
    }
   ],
   "source": [
    "calls['duration'].describe()"
   ]
  },
  {
   "cell_type": "markdown",
   "metadata": {},
   "source": [
    "В соответствии с условиями тарифа, округлим все минуты вверх и перевдем в целочисленный формат:"
   ]
  },
  {
   "cell_type": "code",
   "execution_count": 22,
   "metadata": {},
   "outputs": [],
   "source": [
    "calls['duration'] = calls['duration'].apply(np.ceil).astype('int')"
   ]
  },
  {
   "cell_type": "code",
   "execution_count": 23,
   "metadata": {},
   "outputs": [
    {
     "data": {
      "text/plain": [
       "0          0\n",
       "1          0\n",
       "2          3\n",
       "3         14\n",
       "4          6\n",
       "          ..\n",
       "202602     1\n",
       "202603    19\n",
       "202604    11\n",
       "202605     5\n",
       "202606    20\n",
       "Name: duration, Length: 202607, dtype: int64"
      ]
     },
     "execution_count": 23,
     "metadata": {},
     "output_type": "execute_result"
    }
   ],
   "source": [
    "calls['duration']"
   ]
  },
  {
   "cell_type": "markdown",
   "metadata": {},
   "source": [
    "Сделано.\n",
    "\n",
    "Теперь добавим колонку с месяцами, в который были сделаны звонки и сделаем сводную таблицу, просуммировав продолжительность и количество звонков для каждого абонента в каждом месяце согласно заданию:"
   ]
  },
  {
   "cell_type": "code",
   "execution_count": 24,
   "metadata": {},
   "outputs": [],
   "source": [
    "calls['month'] = calls['call_date'].dt.month  # добавление колонки"
   ]
  },
  {
   "cell_type": "code",
   "execution_count": 25,
   "metadata": {},
   "outputs": [],
   "source": [
    "total_calls = calls.groupby(['user_id', 'month']).agg({'duration':'sum','id':'count' }).reset_index()"
   ]
  },
  {
   "cell_type": "code",
   "execution_count": 26,
   "metadata": {},
   "outputs": [],
   "source": [
    "total_calls = total_calls.rename(columns={'duration':'month_duration', 'id':'month_calls'})  # переименуем столбец, чтобы было понятнее"
   ]
  },
  {
   "cell_type": "code",
   "execution_count": 27,
   "metadata": {},
   "outputs": [
    {
     "data": {
      "text/html": [
       "<div>\n",
       "<style scoped>\n",
       "    .dataframe tbody tr th:only-of-type {\n",
       "        vertical-align: middle;\n",
       "    }\n",
       "\n",
       "    .dataframe tbody tr th {\n",
       "        vertical-align: top;\n",
       "    }\n",
       "\n",
       "    .dataframe thead th {\n",
       "        text-align: right;\n",
       "    }\n",
       "</style>\n",
       "<table border=\"1\" class=\"dataframe\">\n",
       "  <thead>\n",
       "    <tr style=\"text-align: right;\">\n",
       "      <th></th>\n",
       "      <th>user_id</th>\n",
       "      <th>month</th>\n",
       "      <th>month_duration</th>\n",
       "      <th>month_calls</th>\n",
       "    </tr>\n",
       "  </thead>\n",
       "  <tbody>\n",
       "    <tr>\n",
       "      <th>0</th>\n",
       "      <td>1000</td>\n",
       "      <td>5</td>\n",
       "      <td>159</td>\n",
       "      <td>22</td>\n",
       "    </tr>\n",
       "    <tr>\n",
       "      <th>1</th>\n",
       "      <td>1000</td>\n",
       "      <td>6</td>\n",
       "      <td>172</td>\n",
       "      <td>43</td>\n",
       "    </tr>\n",
       "    <tr>\n",
       "      <th>2</th>\n",
       "      <td>1000</td>\n",
       "      <td>7</td>\n",
       "      <td>340</td>\n",
       "      <td>47</td>\n",
       "    </tr>\n",
       "    <tr>\n",
       "      <th>3</th>\n",
       "      <td>1000</td>\n",
       "      <td>8</td>\n",
       "      <td>408</td>\n",
       "      <td>52</td>\n",
       "    </tr>\n",
       "    <tr>\n",
       "      <th>4</th>\n",
       "      <td>1000</td>\n",
       "      <td>9</td>\n",
       "      <td>466</td>\n",
       "      <td>58</td>\n",
       "    </tr>\n",
       "    <tr>\n",
       "      <th>...</th>\n",
       "      <td>...</td>\n",
       "      <td>...</td>\n",
       "      <td>...</td>\n",
       "      <td>...</td>\n",
       "    </tr>\n",
       "    <tr>\n",
       "      <th>3169</th>\n",
       "      <td>1498</td>\n",
       "      <td>10</td>\n",
       "      <td>247</td>\n",
       "      <td>41</td>\n",
       "    </tr>\n",
       "    <tr>\n",
       "      <th>3170</th>\n",
       "      <td>1499</td>\n",
       "      <td>9</td>\n",
       "      <td>70</td>\n",
       "      <td>9</td>\n",
       "    </tr>\n",
       "    <tr>\n",
       "      <th>3171</th>\n",
       "      <td>1499</td>\n",
       "      <td>10</td>\n",
       "      <td>449</td>\n",
       "      <td>68</td>\n",
       "    </tr>\n",
       "    <tr>\n",
       "      <th>3172</th>\n",
       "      <td>1499</td>\n",
       "      <td>11</td>\n",
       "      <td>612</td>\n",
       "      <td>74</td>\n",
       "    </tr>\n",
       "    <tr>\n",
       "      <th>3173</th>\n",
       "      <td>1499</td>\n",
       "      <td>12</td>\n",
       "      <td>492</td>\n",
       "      <td>69</td>\n",
       "    </tr>\n",
       "  </tbody>\n",
       "</table>\n",
       "<p>3174 rows × 4 columns</p>\n",
       "</div>"
      ],
      "text/plain": [
       "      user_id  month  month_duration  month_calls\n",
       "0        1000      5             159           22\n",
       "1        1000      6             172           43\n",
       "2        1000      7             340           47\n",
       "3        1000      8             408           52\n",
       "4        1000      9             466           58\n",
       "...       ...    ...             ...          ...\n",
       "3169     1498     10             247           41\n",
       "3170     1499      9              70            9\n",
       "3171     1499     10             449           68\n",
       "3172     1499     11             612           74\n",
       "3173     1499     12             492           69\n",
       "\n",
       "[3174 rows x 4 columns]"
      ]
     },
     "execution_count": 27,
     "metadata": {},
     "output_type": "execute_result"
    }
   ],
   "source": [
    "total_calls "
   ]
  },
  {
   "cell_type": "markdown",
   "metadata": {},
   "source": [
    "Поработаем с таблицей `messages`, тут тоже надо сменить тип данных:"
   ]
  },
  {
   "cell_type": "code",
   "execution_count": 28,
   "metadata": {},
   "outputs": [
    {
     "name": "stdout",
     "output_type": "stream",
     "text": [
      "<class 'pandas.core.frame.DataFrame'>\n",
      "RangeIndex: 123036 entries, 0 to 123035\n",
      "Data columns (total 3 columns):\n",
      " #   Column        Non-Null Count   Dtype \n",
      "---  ------        --------------   ----- \n",
      " 0   id            123036 non-null  object\n",
      " 1   message_date  123036 non-null  object\n",
      " 2   user_id       123036 non-null  int64 \n",
      "dtypes: int64(1), object(2)\n",
      "memory usage: 2.8+ MB\n"
     ]
    }
   ],
   "source": [
    "messages.info()"
   ]
  },
  {
   "cell_type": "code",
   "execution_count": 29,
   "metadata": {},
   "outputs": [],
   "source": [
    "messages['message_date'] = pd.to_datetime(messages['message_date'],format='%Y-%m-%d %H:%M')  # меняем тип данных в колонке"
   ]
  },
  {
   "cell_type": "code",
   "execution_count": 30,
   "metadata": {},
   "outputs": [
    {
     "data": {
      "text/plain": [
       "0        2018-06-27\n",
       "1        2018-10-08\n",
       "2        2018-08-04\n",
       "3        2018-06-16\n",
       "4        2018-12-05\n",
       "            ...    \n",
       "123031   2018-12-12\n",
       "123032   2018-09-28\n",
       "123033   2018-09-27\n",
       "123034   2018-11-15\n",
       "123035   2018-11-16\n",
       "Name: message_date, Length: 123036, dtype: datetime64[ns]"
      ]
     },
     "execution_count": 30,
     "metadata": {},
     "output_type": "execute_result"
    }
   ],
   "source": [
    "messages['message_date']"
   ]
  },
  {
   "cell_type": "markdown",
   "metadata": {},
   "source": [
    "И так же добавляем стобец с месяцем и считаем, сколько сообщений абоненты отправляли каждый месяц:"
   ]
  },
  {
   "cell_type": "code",
   "execution_count": 31,
   "metadata": {},
   "outputs": [],
   "source": [
    "messages['month'] = messages['message_date'].dt.month"
   ]
  },
  {
   "cell_type": "code",
   "execution_count": 32,
   "metadata": {},
   "outputs": [],
   "source": [
    "total_messages = messages.groupby(['user_id', 'month']).agg({'id':'count'}).reset_index()"
   ]
  },
  {
   "cell_type": "code",
   "execution_count": 33,
   "metadata": {},
   "outputs": [],
   "source": [
    "total_messages = total_messages.rename(columns={'id':'month_messages'})  # переименуем чтобы не было путаницы"
   ]
  },
  {
   "cell_type": "code",
   "execution_count": 34,
   "metadata": {},
   "outputs": [
    {
     "data": {
      "text/html": [
       "<div>\n",
       "<style scoped>\n",
       "    .dataframe tbody tr th:only-of-type {\n",
       "        vertical-align: middle;\n",
       "    }\n",
       "\n",
       "    .dataframe tbody tr th {\n",
       "        vertical-align: top;\n",
       "    }\n",
       "\n",
       "    .dataframe thead th {\n",
       "        text-align: right;\n",
       "    }\n",
       "</style>\n",
       "<table border=\"1\" class=\"dataframe\">\n",
       "  <thead>\n",
       "    <tr style=\"text-align: right;\">\n",
       "      <th></th>\n",
       "      <th>user_id</th>\n",
       "      <th>month</th>\n",
       "      <th>month_messages</th>\n",
       "    </tr>\n",
       "  </thead>\n",
       "  <tbody>\n",
       "    <tr>\n",
       "      <th>0</th>\n",
       "      <td>1000</td>\n",
       "      <td>5</td>\n",
       "      <td>22</td>\n",
       "    </tr>\n",
       "    <tr>\n",
       "      <th>1</th>\n",
       "      <td>1000</td>\n",
       "      <td>6</td>\n",
       "      <td>60</td>\n",
       "    </tr>\n",
       "    <tr>\n",
       "      <th>2</th>\n",
       "      <td>1000</td>\n",
       "      <td>7</td>\n",
       "      <td>75</td>\n",
       "    </tr>\n",
       "    <tr>\n",
       "      <th>3</th>\n",
       "      <td>1000</td>\n",
       "      <td>8</td>\n",
       "      <td>81</td>\n",
       "    </tr>\n",
       "    <tr>\n",
       "      <th>4</th>\n",
       "      <td>1000</td>\n",
       "      <td>9</td>\n",
       "      <td>57</td>\n",
       "    </tr>\n",
       "  </tbody>\n",
       "</table>\n",
       "</div>"
      ],
      "text/plain": [
       "   user_id  month  month_messages\n",
       "0     1000      5              22\n",
       "1     1000      6              60\n",
       "2     1000      7              75\n",
       "3     1000      8              81\n",
       "4     1000      9              57"
      ]
     },
     "execution_count": 34,
     "metadata": {},
     "output_type": "execute_result"
    }
   ],
   "source": [
    "total_messages.head(5)  # проверка"
   ]
  },
  {
   "cell_type": "markdown",
   "metadata": {},
   "source": [
    "Посмотрим, что происходит с таблицей `internet`. "
   ]
  },
  {
   "cell_type": "code",
   "execution_count": 35,
   "metadata": {},
   "outputs": [
    {
     "name": "stdout",
     "output_type": "stream",
     "text": [
      "<class 'pandas.core.frame.DataFrame'>\n",
      "RangeIndex: 149396 entries, 0 to 149395\n",
      "Data columns (total 5 columns):\n",
      " #   Column        Non-Null Count   Dtype  \n",
      "---  ------        --------------   -----  \n",
      " 0   Unnamed: 0    149396 non-null  int64  \n",
      " 1   id            149396 non-null  object \n",
      " 2   mb_used       149396 non-null  float64\n",
      " 3   session_date  149396 non-null  object \n",
      " 4   user_id       149396 non-null  int64  \n",
      "dtypes: float64(1), int64(2), object(2)\n",
      "memory usage: 5.7+ MB\n"
     ]
    }
   ],
   "source": [
    "internet.info()"
   ]
  },
  {
   "cell_type": "markdown",
   "metadata": {},
   "source": [
    "Уберем столбец `Unnamed: 0`, так как он нам не нужен в дальнейшем, а в легенде про него ничег оне сказано."
   ]
  },
  {
   "cell_type": "code",
   "execution_count": 36,
   "metadata": {},
   "outputs": [],
   "source": [
    "internet = internet.drop(['Unnamed: 0'], axis=1)"
   ]
  },
  {
   "cell_type": "code",
   "execution_count": 37,
   "metadata": {},
   "outputs": [
    {
     "data": {
      "text/html": [
       "<div>\n",
       "<style scoped>\n",
       "    .dataframe tbody tr th:only-of-type {\n",
       "        vertical-align: middle;\n",
       "    }\n",
       "\n",
       "    .dataframe tbody tr th {\n",
       "        vertical-align: top;\n",
       "    }\n",
       "\n",
       "    .dataframe thead th {\n",
       "        text-align: right;\n",
       "    }\n",
       "</style>\n",
       "<table border=\"1\" class=\"dataframe\">\n",
       "  <thead>\n",
       "    <tr style=\"text-align: right;\">\n",
       "      <th></th>\n",
       "      <th>id</th>\n",
       "      <th>mb_used</th>\n",
       "      <th>session_date</th>\n",
       "      <th>user_id</th>\n",
       "    </tr>\n",
       "  </thead>\n",
       "  <tbody>\n",
       "    <tr>\n",
       "      <th>0</th>\n",
       "      <td>1000_0</td>\n",
       "      <td>112.95</td>\n",
       "      <td>2018-11-25</td>\n",
       "      <td>1000</td>\n",
       "    </tr>\n",
       "    <tr>\n",
       "      <th>1</th>\n",
       "      <td>1000_1</td>\n",
       "      <td>1052.81</td>\n",
       "      <td>2018-09-07</td>\n",
       "      <td>1000</td>\n",
       "    </tr>\n",
       "    <tr>\n",
       "      <th>2</th>\n",
       "      <td>1000_2</td>\n",
       "      <td>1197.26</td>\n",
       "      <td>2018-06-25</td>\n",
       "      <td>1000</td>\n",
       "    </tr>\n",
       "    <tr>\n",
       "      <th>3</th>\n",
       "      <td>1000_3</td>\n",
       "      <td>550.27</td>\n",
       "      <td>2018-08-22</td>\n",
       "      <td>1000</td>\n",
       "    </tr>\n",
       "    <tr>\n",
       "      <th>4</th>\n",
       "      <td>1000_4</td>\n",
       "      <td>302.56</td>\n",
       "      <td>2018-09-24</td>\n",
       "      <td>1000</td>\n",
       "    </tr>\n",
       "  </tbody>\n",
       "</table>\n",
       "</div>"
      ],
      "text/plain": [
       "       id  mb_used session_date  user_id\n",
       "0  1000_0   112.95   2018-11-25     1000\n",
       "1  1000_1  1052.81   2018-09-07     1000\n",
       "2  1000_2  1197.26   2018-06-25     1000\n",
       "3  1000_3   550.27   2018-08-22     1000\n",
       "4  1000_4   302.56   2018-09-24     1000"
      ]
     },
     "execution_count": 37,
     "metadata": {},
     "output_type": "execute_result"
    }
   ],
   "source": [
    "internet.head()  # проверка"
   ]
  },
  {
   "cell_type": "markdown",
   "metadata": {},
   "source": [
    "Меняем тип данных в столбце с датой:"
   ]
  },
  {
   "cell_type": "code",
   "execution_count": 38,
   "metadata": {},
   "outputs": [],
   "source": [
    "internet['session_date'] = pd.to_datetime(internet['session_date'],format='%Y-%m-%d %H:%M')"
   ]
  },
  {
   "cell_type": "markdown",
   "metadata": {},
   "source": [
    "И добавляем столбец с месяцем."
   ]
  },
  {
   "cell_type": "code",
   "execution_count": 39,
   "metadata": {},
   "outputs": [],
   "source": [
    "internet['month'] = internet['session_date'].dt.month"
   ]
  },
  {
   "cell_type": "markdown",
   "metadata": {},
   "source": [
    "Делаем сводную таблицу и переименовываем столбец со значениями трафика:"
   ]
  },
  {
   "cell_type": "code",
   "execution_count": 40,
   "metadata": {},
   "outputs": [],
   "source": [
    "total_internet = internet.groupby(['user_id', 'month']).agg({'mb_used':'sum'}).reset_index()"
   ]
  },
  {
   "cell_type": "code",
   "execution_count": 41,
   "metadata": {},
   "outputs": [],
   "source": [
    "total_internet = total_internet.rename(columns={'mb_used':'total_gb_used'})"
   ]
  },
  {
   "cell_type": "code",
   "execution_count": 42,
   "metadata": {},
   "outputs": [
    {
     "data": {
      "text/html": [
       "<div>\n",
       "<style scoped>\n",
       "    .dataframe tbody tr th:only-of-type {\n",
       "        vertical-align: middle;\n",
       "    }\n",
       "\n",
       "    .dataframe tbody tr th {\n",
       "        vertical-align: top;\n",
       "    }\n",
       "\n",
       "    .dataframe thead th {\n",
       "        text-align: right;\n",
       "    }\n",
       "</style>\n",
       "<table border=\"1\" class=\"dataframe\">\n",
       "  <thead>\n",
       "    <tr style=\"text-align: right;\">\n",
       "      <th></th>\n",
       "      <th>user_id</th>\n",
       "      <th>month</th>\n",
       "      <th>total_gb_used</th>\n",
       "    </tr>\n",
       "  </thead>\n",
       "  <tbody>\n",
       "    <tr>\n",
       "      <th>0</th>\n",
       "      <td>1000</td>\n",
       "      <td>5</td>\n",
       "      <td>2253.49</td>\n",
       "    </tr>\n",
       "    <tr>\n",
       "      <th>1</th>\n",
       "      <td>1000</td>\n",
       "      <td>6</td>\n",
       "      <td>23233.77</td>\n",
       "    </tr>\n",
       "    <tr>\n",
       "      <th>2</th>\n",
       "      <td>1000</td>\n",
       "      <td>7</td>\n",
       "      <td>14003.64</td>\n",
       "    </tr>\n",
       "    <tr>\n",
       "      <th>3</th>\n",
       "      <td>1000</td>\n",
       "      <td>8</td>\n",
       "      <td>14055.93</td>\n",
       "    </tr>\n",
       "    <tr>\n",
       "      <th>4</th>\n",
       "      <td>1000</td>\n",
       "      <td>9</td>\n",
       "      <td>14568.91</td>\n",
       "    </tr>\n",
       "    <tr>\n",
       "      <th>...</th>\n",
       "      <td>...</td>\n",
       "      <td>...</td>\n",
       "      <td>...</td>\n",
       "    </tr>\n",
       "    <tr>\n",
       "      <th>3198</th>\n",
       "      <td>1498</td>\n",
       "      <td>10</td>\n",
       "      <td>20579.36</td>\n",
       "    </tr>\n",
       "    <tr>\n",
       "      <th>3199</th>\n",
       "      <td>1499</td>\n",
       "      <td>9</td>\n",
       "      <td>1845.75</td>\n",
       "    </tr>\n",
       "    <tr>\n",
       "      <th>3200</th>\n",
       "      <td>1499</td>\n",
       "      <td>10</td>\n",
       "      <td>17788.51</td>\n",
       "    </tr>\n",
       "    <tr>\n",
       "      <th>3201</th>\n",
       "      <td>1499</td>\n",
       "      <td>11</td>\n",
       "      <td>17963.31</td>\n",
       "    </tr>\n",
       "    <tr>\n",
       "      <th>3202</th>\n",
       "      <td>1499</td>\n",
       "      <td>12</td>\n",
       "      <td>13055.58</td>\n",
       "    </tr>\n",
       "  </tbody>\n",
       "</table>\n",
       "<p>3203 rows × 3 columns</p>\n",
       "</div>"
      ],
      "text/plain": [
       "      user_id  month  total_gb_used\n",
       "0        1000      5        2253.49\n",
       "1        1000      6       23233.77\n",
       "2        1000      7       14003.64\n",
       "3        1000      8       14055.93\n",
       "4        1000      9       14568.91\n",
       "...       ...    ...            ...\n",
       "3198     1498     10       20579.36\n",
       "3199     1499      9        1845.75\n",
       "3200     1499     10       17788.51\n",
       "3201     1499     11       17963.31\n",
       "3202     1499     12       13055.58\n",
       "\n",
       "[3203 rows x 3 columns]"
      ]
     },
     "execution_count": 42,
     "metadata": {},
     "output_type": "execute_result"
    }
   ],
   "source": [
    "total_internet"
   ]
  },
  {
   "cell_type": "markdown",
   "metadata": {},
   "source": [
    "По заданию округляем использование трафика вверх и переводим в гигабайты."
   ]
  },
  {
   "cell_type": "code",
   "execution_count": 43,
   "metadata": {},
   "outputs": [],
   "source": [
    "total_internet['total_gb_used'] = total_internet['total_gb_used']/1024  # перевод в гигабайты"
   ]
  },
  {
   "cell_type": "code",
   "execution_count": 44,
   "metadata": {},
   "outputs": [],
   "source": [
    "total_internet['total_gb_used'] = total_internet['total_gb_used'].apply(np.ceil).astype('int')  # округление"
   ]
  },
  {
   "cell_type": "code",
   "execution_count": 45,
   "metadata": {},
   "outputs": [
    {
     "data": {
      "text/html": [
       "<div>\n",
       "<style scoped>\n",
       "    .dataframe tbody tr th:only-of-type {\n",
       "        vertical-align: middle;\n",
       "    }\n",
       "\n",
       "    .dataframe tbody tr th {\n",
       "        vertical-align: top;\n",
       "    }\n",
       "\n",
       "    .dataframe thead th {\n",
       "        text-align: right;\n",
       "    }\n",
       "</style>\n",
       "<table border=\"1\" class=\"dataframe\">\n",
       "  <thead>\n",
       "    <tr style=\"text-align: right;\">\n",
       "      <th></th>\n",
       "      <th>user_id</th>\n",
       "      <th>month</th>\n",
       "      <th>total_gb_used</th>\n",
       "    </tr>\n",
       "  </thead>\n",
       "  <tbody>\n",
       "    <tr>\n",
       "      <th>0</th>\n",
       "      <td>1000</td>\n",
       "      <td>5</td>\n",
       "      <td>3</td>\n",
       "    </tr>\n",
       "    <tr>\n",
       "      <th>1</th>\n",
       "      <td>1000</td>\n",
       "      <td>6</td>\n",
       "      <td>23</td>\n",
       "    </tr>\n",
       "    <tr>\n",
       "      <th>2</th>\n",
       "      <td>1000</td>\n",
       "      <td>7</td>\n",
       "      <td>14</td>\n",
       "    </tr>\n",
       "    <tr>\n",
       "      <th>3</th>\n",
       "      <td>1000</td>\n",
       "      <td>8</td>\n",
       "      <td>14</td>\n",
       "    </tr>\n",
       "    <tr>\n",
       "      <th>4</th>\n",
       "      <td>1000</td>\n",
       "      <td>9</td>\n",
       "      <td>15</td>\n",
       "    </tr>\n",
       "    <tr>\n",
       "      <th>...</th>\n",
       "      <td>...</td>\n",
       "      <td>...</td>\n",
       "      <td>...</td>\n",
       "    </tr>\n",
       "    <tr>\n",
       "      <th>3198</th>\n",
       "      <td>1498</td>\n",
       "      <td>10</td>\n",
       "      <td>21</td>\n",
       "    </tr>\n",
       "    <tr>\n",
       "      <th>3199</th>\n",
       "      <td>1499</td>\n",
       "      <td>9</td>\n",
       "      <td>2</td>\n",
       "    </tr>\n",
       "    <tr>\n",
       "      <th>3200</th>\n",
       "      <td>1499</td>\n",
       "      <td>10</td>\n",
       "      <td>18</td>\n",
       "    </tr>\n",
       "    <tr>\n",
       "      <th>3201</th>\n",
       "      <td>1499</td>\n",
       "      <td>11</td>\n",
       "      <td>18</td>\n",
       "    </tr>\n",
       "    <tr>\n",
       "      <th>3202</th>\n",
       "      <td>1499</td>\n",
       "      <td>12</td>\n",
       "      <td>13</td>\n",
       "    </tr>\n",
       "  </tbody>\n",
       "</table>\n",
       "<p>3203 rows × 3 columns</p>\n",
       "</div>"
      ],
      "text/plain": [
       "      user_id  month  total_gb_used\n",
       "0        1000      5              3\n",
       "1        1000      6             23\n",
       "2        1000      7             14\n",
       "3        1000      8             14\n",
       "4        1000      9             15\n",
       "...       ...    ...            ...\n",
       "3198     1498     10             21\n",
       "3199     1499      9              2\n",
       "3200     1499     10             18\n",
       "3201     1499     11             18\n",
       "3202     1499     12             13\n",
       "\n",
       "[3203 rows x 3 columns]"
      ]
     },
     "execution_count": 45,
     "metadata": {},
     "output_type": "execute_result"
    }
   ],
   "source": [
    "total_internet  # проверка"
   ]
  },
  {
   "cell_type": "markdown",
   "metadata": {},
   "source": [
    "И начинаем объединять таблицы в одну, через промежуточную таблицу `total`:"
   ]
  },
  {
   "cell_type": "code",
   "execution_count": 46,
   "metadata": {},
   "outputs": [],
   "source": [
    "total = total_calls.merge(total_messages, on=['user_id', 'month'], how = 'outer')"
   ]
  },
  {
   "cell_type": "code",
   "execution_count": 47,
   "metadata": {},
   "outputs": [
    {
     "data": {
      "text/html": [
       "<div>\n",
       "<style scoped>\n",
       "    .dataframe tbody tr th:only-of-type {\n",
       "        vertical-align: middle;\n",
       "    }\n",
       "\n",
       "    .dataframe tbody tr th {\n",
       "        vertical-align: top;\n",
       "    }\n",
       "\n",
       "    .dataframe thead th {\n",
       "        text-align: right;\n",
       "    }\n",
       "</style>\n",
       "<table border=\"1\" class=\"dataframe\">\n",
       "  <thead>\n",
       "    <tr style=\"text-align: right;\">\n",
       "      <th></th>\n",
       "      <th>user_id</th>\n",
       "      <th>month</th>\n",
       "      <th>month_duration</th>\n",
       "      <th>month_calls</th>\n",
       "      <th>month_messages</th>\n",
       "    </tr>\n",
       "  </thead>\n",
       "  <tbody>\n",
       "    <tr>\n",
       "      <th>0</th>\n",
       "      <td>1000</td>\n",
       "      <td>5</td>\n",
       "      <td>159.0</td>\n",
       "      <td>22.0</td>\n",
       "      <td>22.0</td>\n",
       "    </tr>\n",
       "    <tr>\n",
       "      <th>1</th>\n",
       "      <td>1000</td>\n",
       "      <td>6</td>\n",
       "      <td>172.0</td>\n",
       "      <td>43.0</td>\n",
       "      <td>60.0</td>\n",
       "    </tr>\n",
       "    <tr>\n",
       "      <th>2</th>\n",
       "      <td>1000</td>\n",
       "      <td>7</td>\n",
       "      <td>340.0</td>\n",
       "      <td>47.0</td>\n",
       "      <td>75.0</td>\n",
       "    </tr>\n",
       "    <tr>\n",
       "      <th>3</th>\n",
       "      <td>1000</td>\n",
       "      <td>8</td>\n",
       "      <td>408.0</td>\n",
       "      <td>52.0</td>\n",
       "      <td>81.0</td>\n",
       "    </tr>\n",
       "    <tr>\n",
       "      <th>4</th>\n",
       "      <td>1000</td>\n",
       "      <td>9</td>\n",
       "      <td>466.0</td>\n",
       "      <td>58.0</td>\n",
       "      <td>57.0</td>\n",
       "    </tr>\n",
       "    <tr>\n",
       "      <th>...</th>\n",
       "      <td>...</td>\n",
       "      <td>...</td>\n",
       "      <td>...</td>\n",
       "      <td>...</td>\n",
       "      <td>...</td>\n",
       "    </tr>\n",
       "    <tr>\n",
       "      <th>3208</th>\n",
       "      <td>1489</td>\n",
       "      <td>8</td>\n",
       "      <td>NaN</td>\n",
       "      <td>NaN</td>\n",
       "      <td>17.0</td>\n",
       "    </tr>\n",
       "    <tr>\n",
       "      <th>3209</th>\n",
       "      <td>1489</td>\n",
       "      <td>9</td>\n",
       "      <td>NaN</td>\n",
       "      <td>NaN</td>\n",
       "      <td>32.0</td>\n",
       "    </tr>\n",
       "    <tr>\n",
       "      <th>3210</th>\n",
       "      <td>1489</td>\n",
       "      <td>10</td>\n",
       "      <td>NaN</td>\n",
       "      <td>NaN</td>\n",
       "      <td>21.0</td>\n",
       "    </tr>\n",
       "    <tr>\n",
       "      <th>3211</th>\n",
       "      <td>1489</td>\n",
       "      <td>11</td>\n",
       "      <td>NaN</td>\n",
       "      <td>NaN</td>\n",
       "      <td>20.0</td>\n",
       "    </tr>\n",
       "    <tr>\n",
       "      <th>3212</th>\n",
       "      <td>1489</td>\n",
       "      <td>12</td>\n",
       "      <td>NaN</td>\n",
       "      <td>NaN</td>\n",
       "      <td>35.0</td>\n",
       "    </tr>\n",
       "  </tbody>\n",
       "</table>\n",
       "<p>3213 rows × 5 columns</p>\n",
       "</div>"
      ],
      "text/plain": [
       "      user_id  month  month_duration  month_calls  month_messages\n",
       "0        1000      5           159.0         22.0            22.0\n",
       "1        1000      6           172.0         43.0            60.0\n",
       "2        1000      7           340.0         47.0            75.0\n",
       "3        1000      8           408.0         52.0            81.0\n",
       "4        1000      9           466.0         58.0            57.0\n",
       "...       ...    ...             ...          ...             ...\n",
       "3208     1489      8             NaN          NaN            17.0\n",
       "3209     1489      9             NaN          NaN            32.0\n",
       "3210     1489     10             NaN          NaN            21.0\n",
       "3211     1489     11             NaN          NaN            20.0\n",
       "3212     1489     12             NaN          NaN            35.0\n",
       "\n",
       "[3213 rows x 5 columns]"
      ]
     },
     "execution_count": 47,
     "metadata": {},
     "output_type": "execute_result"
    }
   ],
   "source": [
    "total"
   ]
  },
  {
   "cell_type": "code",
   "execution_count": 48,
   "metadata": {},
   "outputs": [],
   "source": [
    "total = total.merge(total_internet, on=['user_id', 'month'], how = 'outer')"
   ]
  },
  {
   "cell_type": "code",
   "execution_count": 49,
   "metadata": {},
   "outputs": [
    {
     "data": {
      "text/html": [
       "<div>\n",
       "<style scoped>\n",
       "    .dataframe tbody tr th:only-of-type {\n",
       "        vertical-align: middle;\n",
       "    }\n",
       "\n",
       "    .dataframe tbody tr th {\n",
       "        vertical-align: top;\n",
       "    }\n",
       "\n",
       "    .dataframe thead th {\n",
       "        text-align: right;\n",
       "    }\n",
       "</style>\n",
       "<table border=\"1\" class=\"dataframe\">\n",
       "  <thead>\n",
       "    <tr style=\"text-align: right;\">\n",
       "      <th></th>\n",
       "      <th>user_id</th>\n",
       "      <th>month</th>\n",
       "      <th>month_duration</th>\n",
       "      <th>month_calls</th>\n",
       "      <th>month_messages</th>\n",
       "      <th>total_gb_used</th>\n",
       "    </tr>\n",
       "  </thead>\n",
       "  <tbody>\n",
       "    <tr>\n",
       "      <th>0</th>\n",
       "      <td>1000</td>\n",
       "      <td>5</td>\n",
       "      <td>159.0</td>\n",
       "      <td>22.0</td>\n",
       "      <td>22.0</td>\n",
       "      <td>3.0</td>\n",
       "    </tr>\n",
       "    <tr>\n",
       "      <th>1</th>\n",
       "      <td>1000</td>\n",
       "      <td>6</td>\n",
       "      <td>172.0</td>\n",
       "      <td>43.0</td>\n",
       "      <td>60.0</td>\n",
       "      <td>23.0</td>\n",
       "    </tr>\n",
       "    <tr>\n",
       "      <th>2</th>\n",
       "      <td>1000</td>\n",
       "      <td>7</td>\n",
       "      <td>340.0</td>\n",
       "      <td>47.0</td>\n",
       "      <td>75.0</td>\n",
       "      <td>14.0</td>\n",
       "    </tr>\n",
       "    <tr>\n",
       "      <th>3</th>\n",
       "      <td>1000</td>\n",
       "      <td>8</td>\n",
       "      <td>408.0</td>\n",
       "      <td>52.0</td>\n",
       "      <td>81.0</td>\n",
       "      <td>14.0</td>\n",
       "    </tr>\n",
       "    <tr>\n",
       "      <th>4</th>\n",
       "      <td>1000</td>\n",
       "      <td>9</td>\n",
       "      <td>466.0</td>\n",
       "      <td>58.0</td>\n",
       "      <td>57.0</td>\n",
       "      <td>15.0</td>\n",
       "    </tr>\n",
       "    <tr>\n",
       "      <th>...</th>\n",
       "      <td>...</td>\n",
       "      <td>...</td>\n",
       "      <td>...</td>\n",
       "      <td>...</td>\n",
       "      <td>...</td>\n",
       "      <td>...</td>\n",
       "    </tr>\n",
       "    <tr>\n",
       "      <th>3209</th>\n",
       "      <td>1489</td>\n",
       "      <td>9</td>\n",
       "      <td>NaN</td>\n",
       "      <td>NaN</td>\n",
       "      <td>32.0</td>\n",
       "      <td>17.0</td>\n",
       "    </tr>\n",
       "    <tr>\n",
       "      <th>3210</th>\n",
       "      <td>1489</td>\n",
       "      <td>10</td>\n",
       "      <td>NaN</td>\n",
       "      <td>NaN</td>\n",
       "      <td>21.0</td>\n",
       "      <td>20.0</td>\n",
       "    </tr>\n",
       "    <tr>\n",
       "      <th>3211</th>\n",
       "      <td>1489</td>\n",
       "      <td>11</td>\n",
       "      <td>NaN</td>\n",
       "      <td>NaN</td>\n",
       "      <td>20.0</td>\n",
       "      <td>18.0</td>\n",
       "    </tr>\n",
       "    <tr>\n",
       "      <th>3212</th>\n",
       "      <td>1489</td>\n",
       "      <td>12</td>\n",
       "      <td>NaN</td>\n",
       "      <td>NaN</td>\n",
       "      <td>35.0</td>\n",
       "      <td>17.0</td>\n",
       "    </tr>\n",
       "    <tr>\n",
       "      <th>3213</th>\n",
       "      <td>1476</td>\n",
       "      <td>4</td>\n",
       "      <td>NaN</td>\n",
       "      <td>NaN</td>\n",
       "      <td>NaN</td>\n",
       "      <td>1.0</td>\n",
       "    </tr>\n",
       "  </tbody>\n",
       "</table>\n",
       "<p>3214 rows × 6 columns</p>\n",
       "</div>"
      ],
      "text/plain": [
       "      user_id  month  month_duration  month_calls  month_messages  \\\n",
       "0        1000      5           159.0         22.0            22.0   \n",
       "1        1000      6           172.0         43.0            60.0   \n",
       "2        1000      7           340.0         47.0            75.0   \n",
       "3        1000      8           408.0         52.0            81.0   \n",
       "4        1000      9           466.0         58.0            57.0   \n",
       "...       ...    ...             ...          ...             ...   \n",
       "3209     1489      9             NaN          NaN            32.0   \n",
       "3210     1489     10             NaN          NaN            21.0   \n",
       "3211     1489     11             NaN          NaN            20.0   \n",
       "3212     1489     12             NaN          NaN            35.0   \n",
       "3213     1476      4             NaN          NaN             NaN   \n",
       "\n",
       "      total_gb_used  \n",
       "0               3.0  \n",
       "1              23.0  \n",
       "2              14.0  \n",
       "3              14.0  \n",
       "4              15.0  \n",
       "...             ...  \n",
       "3209           17.0  \n",
       "3210           20.0  \n",
       "3211           18.0  \n",
       "3212           17.0  \n",
       "3213            1.0  \n",
       "\n",
       "[3214 rows x 6 columns]"
      ]
     },
     "execution_count": 49,
     "metadata": {},
     "output_type": "execute_result"
    }
   ],
   "source": [
    "total"
   ]
  },
  {
   "cell_type": "code",
   "execution_count": 50,
   "metadata": {},
   "outputs": [],
   "source": [
    "users = users.merge(total, on=['user_id'], how = 'outer')"
   ]
  },
  {
   "cell_type": "code",
   "execution_count": 51,
   "metadata": {},
   "outputs": [
    {
     "data": {
      "text/html": [
       "<div>\n",
       "<style scoped>\n",
       "    .dataframe tbody tr th:only-of-type {\n",
       "        vertical-align: middle;\n",
       "    }\n",
       "\n",
       "    .dataframe tbody tr th {\n",
       "        vertical-align: top;\n",
       "    }\n",
       "\n",
       "    .dataframe thead th {\n",
       "        text-align: right;\n",
       "    }\n",
       "</style>\n",
       "<table border=\"1\" class=\"dataframe\">\n",
       "  <thead>\n",
       "    <tr style=\"text-align: right;\">\n",
       "      <th></th>\n",
       "      <th>user_id</th>\n",
       "      <th>age</th>\n",
       "      <th>churn_date</th>\n",
       "      <th>city</th>\n",
       "      <th>first_name</th>\n",
       "      <th>last_name</th>\n",
       "      <th>reg_date</th>\n",
       "      <th>tariff</th>\n",
       "      <th>month</th>\n",
       "      <th>month_duration</th>\n",
       "      <th>month_calls</th>\n",
       "      <th>month_messages</th>\n",
       "      <th>total_gb_used</th>\n",
       "    </tr>\n",
       "  </thead>\n",
       "  <tbody>\n",
       "    <tr>\n",
       "      <th>0</th>\n",
       "      <td>1000</td>\n",
       "      <td>52</td>\n",
       "      <td>NaT</td>\n",
       "      <td>Краснодар</td>\n",
       "      <td>Рафаил</td>\n",
       "      <td>Верещагин</td>\n",
       "      <td>2018-05-25</td>\n",
       "      <td>ultra</td>\n",
       "      <td>5.0</td>\n",
       "      <td>159.0</td>\n",
       "      <td>22.0</td>\n",
       "      <td>22.0</td>\n",
       "      <td>3.0</td>\n",
       "    </tr>\n",
       "    <tr>\n",
       "      <th>1</th>\n",
       "      <td>1000</td>\n",
       "      <td>52</td>\n",
       "      <td>NaT</td>\n",
       "      <td>Краснодар</td>\n",
       "      <td>Рафаил</td>\n",
       "      <td>Верещагин</td>\n",
       "      <td>2018-05-25</td>\n",
       "      <td>ultra</td>\n",
       "      <td>6.0</td>\n",
       "      <td>172.0</td>\n",
       "      <td>43.0</td>\n",
       "      <td>60.0</td>\n",
       "      <td>23.0</td>\n",
       "    </tr>\n",
       "    <tr>\n",
       "      <th>2</th>\n",
       "      <td>1000</td>\n",
       "      <td>52</td>\n",
       "      <td>NaT</td>\n",
       "      <td>Краснодар</td>\n",
       "      <td>Рафаил</td>\n",
       "      <td>Верещагин</td>\n",
       "      <td>2018-05-25</td>\n",
       "      <td>ultra</td>\n",
       "      <td>7.0</td>\n",
       "      <td>340.0</td>\n",
       "      <td>47.0</td>\n",
       "      <td>75.0</td>\n",
       "      <td>14.0</td>\n",
       "    </tr>\n",
       "    <tr>\n",
       "      <th>3</th>\n",
       "      <td>1000</td>\n",
       "      <td>52</td>\n",
       "      <td>NaT</td>\n",
       "      <td>Краснодар</td>\n",
       "      <td>Рафаил</td>\n",
       "      <td>Верещагин</td>\n",
       "      <td>2018-05-25</td>\n",
       "      <td>ultra</td>\n",
       "      <td>8.0</td>\n",
       "      <td>408.0</td>\n",
       "      <td>52.0</td>\n",
       "      <td>81.0</td>\n",
       "      <td>14.0</td>\n",
       "    </tr>\n",
       "    <tr>\n",
       "      <th>4</th>\n",
       "      <td>1000</td>\n",
       "      <td>52</td>\n",
       "      <td>NaT</td>\n",
       "      <td>Краснодар</td>\n",
       "      <td>Рафаил</td>\n",
       "      <td>Верещагин</td>\n",
       "      <td>2018-05-25</td>\n",
       "      <td>ultra</td>\n",
       "      <td>9.0</td>\n",
       "      <td>466.0</td>\n",
       "      <td>58.0</td>\n",
       "      <td>57.0</td>\n",
       "      <td>15.0</td>\n",
       "    </tr>\n",
       "    <tr>\n",
       "      <th>...</th>\n",
       "      <td>...</td>\n",
       "      <td>...</td>\n",
       "      <td>...</td>\n",
       "      <td>...</td>\n",
       "      <td>...</td>\n",
       "      <td>...</td>\n",
       "      <td>...</td>\n",
       "      <td>...</td>\n",
       "      <td>...</td>\n",
       "      <td>...</td>\n",
       "      <td>...</td>\n",
       "      <td>...</td>\n",
       "      <td>...</td>\n",
       "    </tr>\n",
       "    <tr>\n",
       "      <th>3211</th>\n",
       "      <td>1498</td>\n",
       "      <td>68</td>\n",
       "      <td>2018-10-25</td>\n",
       "      <td>Владикавказ</td>\n",
       "      <td>Всеволод</td>\n",
       "      <td>Акимчин</td>\n",
       "      <td>2018-07-19</td>\n",
       "      <td>smart</td>\n",
       "      <td>10.0</td>\n",
       "      <td>247.0</td>\n",
       "      <td>41.0</td>\n",
       "      <td>42.0</td>\n",
       "      <td>21.0</td>\n",
       "    </tr>\n",
       "    <tr>\n",
       "      <th>3212</th>\n",
       "      <td>1499</td>\n",
       "      <td>35</td>\n",
       "      <td>NaT</td>\n",
       "      <td>Пермь</td>\n",
       "      <td>Гектор</td>\n",
       "      <td>Корнилов</td>\n",
       "      <td>2018-09-27</td>\n",
       "      <td>smart</td>\n",
       "      <td>9.0</td>\n",
       "      <td>70.0</td>\n",
       "      <td>9.0</td>\n",
       "      <td>11.0</td>\n",
       "      <td>2.0</td>\n",
       "    </tr>\n",
       "    <tr>\n",
       "      <th>3213</th>\n",
       "      <td>1499</td>\n",
       "      <td>35</td>\n",
       "      <td>NaT</td>\n",
       "      <td>Пермь</td>\n",
       "      <td>Гектор</td>\n",
       "      <td>Корнилов</td>\n",
       "      <td>2018-09-27</td>\n",
       "      <td>smart</td>\n",
       "      <td>10.0</td>\n",
       "      <td>449.0</td>\n",
       "      <td>68.0</td>\n",
       "      <td>48.0</td>\n",
       "      <td>18.0</td>\n",
       "    </tr>\n",
       "    <tr>\n",
       "      <th>3214</th>\n",
       "      <td>1499</td>\n",
       "      <td>35</td>\n",
       "      <td>NaT</td>\n",
       "      <td>Пермь</td>\n",
       "      <td>Гектор</td>\n",
       "      <td>Корнилов</td>\n",
       "      <td>2018-09-27</td>\n",
       "      <td>smart</td>\n",
       "      <td>11.0</td>\n",
       "      <td>612.0</td>\n",
       "      <td>74.0</td>\n",
       "      <td>59.0</td>\n",
       "      <td>18.0</td>\n",
       "    </tr>\n",
       "    <tr>\n",
       "      <th>3215</th>\n",
       "      <td>1499</td>\n",
       "      <td>35</td>\n",
       "      <td>NaT</td>\n",
       "      <td>Пермь</td>\n",
       "      <td>Гектор</td>\n",
       "      <td>Корнилов</td>\n",
       "      <td>2018-09-27</td>\n",
       "      <td>smart</td>\n",
       "      <td>12.0</td>\n",
       "      <td>492.0</td>\n",
       "      <td>69.0</td>\n",
       "      <td>66.0</td>\n",
       "      <td>13.0</td>\n",
       "    </tr>\n",
       "  </tbody>\n",
       "</table>\n",
       "<p>3216 rows × 13 columns</p>\n",
       "</div>"
      ],
      "text/plain": [
       "      user_id  age churn_date         city first_name  last_name   reg_date  \\\n",
       "0        1000   52        NaT    Краснодар     Рафаил  Верещагин 2018-05-25   \n",
       "1        1000   52        NaT    Краснодар     Рафаил  Верещагин 2018-05-25   \n",
       "2        1000   52        NaT    Краснодар     Рафаил  Верещагин 2018-05-25   \n",
       "3        1000   52        NaT    Краснодар     Рафаил  Верещагин 2018-05-25   \n",
       "4        1000   52        NaT    Краснодар     Рафаил  Верещагин 2018-05-25   \n",
       "...       ...  ...        ...          ...        ...        ...        ...   \n",
       "3211     1498   68 2018-10-25  Владикавказ   Всеволод    Акимчин 2018-07-19   \n",
       "3212     1499   35        NaT        Пермь     Гектор   Корнилов 2018-09-27   \n",
       "3213     1499   35        NaT        Пермь     Гектор   Корнилов 2018-09-27   \n",
       "3214     1499   35        NaT        Пермь     Гектор   Корнилов 2018-09-27   \n",
       "3215     1499   35        NaT        Пермь     Гектор   Корнилов 2018-09-27   \n",
       "\n",
       "     tariff  month  month_duration  month_calls  month_messages  total_gb_used  \n",
       "0     ultra    5.0           159.0         22.0            22.0            3.0  \n",
       "1     ultra    6.0           172.0         43.0            60.0           23.0  \n",
       "2     ultra    7.0           340.0         47.0            75.0           14.0  \n",
       "3     ultra    8.0           408.0         52.0            81.0           14.0  \n",
       "4     ultra    9.0           466.0         58.0            57.0           15.0  \n",
       "...     ...    ...             ...          ...             ...            ...  \n",
       "3211  smart   10.0           247.0         41.0            42.0           21.0  \n",
       "3212  smart    9.0            70.0          9.0            11.0            2.0  \n",
       "3213  smart   10.0           449.0         68.0            48.0           18.0  \n",
       "3214  smart   11.0           612.0         74.0            59.0           18.0  \n",
       "3215  smart   12.0           492.0         69.0            66.0           13.0  \n",
       "\n",
       "[3216 rows x 13 columns]"
      ]
     },
     "execution_count": 51,
     "metadata": {},
     "output_type": "execute_result"
    }
   ],
   "source": [
    "users"
   ]
  },
  {
   "cell_type": "markdown",
   "metadata": {},
   "source": [
    "Теперь присоединяем таблицу с тарифами:"
   ]
  },
  {
   "cell_type": "code",
   "execution_count": 52,
   "metadata": {},
   "outputs": [],
   "source": [
    "tariffs = tariffs.rename(columns={'tariff_name':'tariff'})  # переименовал для удобства"
   ]
  },
  {
   "cell_type": "code",
   "execution_count": 53,
   "metadata": {},
   "outputs": [],
   "source": [
    "df = users.merge(tariffs, on = 'tariff', how = 'left')"
   ]
  },
  {
   "cell_type": "code",
   "execution_count": 54,
   "metadata": {},
   "outputs": [
    {
     "data": {
      "text/html": [
       "<div>\n",
       "<style scoped>\n",
       "    .dataframe tbody tr th:only-of-type {\n",
       "        vertical-align: middle;\n",
       "    }\n",
       "\n",
       "    .dataframe tbody tr th {\n",
       "        vertical-align: top;\n",
       "    }\n",
       "\n",
       "    .dataframe thead th {\n",
       "        text-align: right;\n",
       "    }\n",
       "</style>\n",
       "<table border=\"1\" class=\"dataframe\">\n",
       "  <thead>\n",
       "    <tr style=\"text-align: right;\">\n",
       "      <th></th>\n",
       "      <th>user_id</th>\n",
       "      <th>age</th>\n",
       "      <th>churn_date</th>\n",
       "      <th>city</th>\n",
       "      <th>first_name</th>\n",
       "      <th>last_name</th>\n",
       "      <th>reg_date</th>\n",
       "      <th>tariff</th>\n",
       "      <th>month</th>\n",
       "      <th>month_duration</th>\n",
       "      <th>month_calls</th>\n",
       "      <th>month_messages</th>\n",
       "      <th>total_gb_used</th>\n",
       "      <th>messages_included</th>\n",
       "      <th>mb_per_month_included</th>\n",
       "      <th>minutes_included</th>\n",
       "      <th>rub_monthly_fee</th>\n",
       "      <th>rub_per_gb</th>\n",
       "      <th>rub_per_message</th>\n",
       "      <th>rub_per_minute</th>\n",
       "    </tr>\n",
       "  </thead>\n",
       "  <tbody>\n",
       "    <tr>\n",
       "      <th>0</th>\n",
       "      <td>1000</td>\n",
       "      <td>52</td>\n",
       "      <td>NaT</td>\n",
       "      <td>Краснодар</td>\n",
       "      <td>Рафаил</td>\n",
       "      <td>Верещагин</td>\n",
       "      <td>2018-05-25</td>\n",
       "      <td>ultra</td>\n",
       "      <td>5.0</td>\n",
       "      <td>159.0</td>\n",
       "      <td>22.0</td>\n",
       "      <td>22.0</td>\n",
       "      <td>3.0</td>\n",
       "      <td>1000</td>\n",
       "      <td>30720</td>\n",
       "      <td>3000</td>\n",
       "      <td>1950</td>\n",
       "      <td>150</td>\n",
       "      <td>1</td>\n",
       "      <td>1</td>\n",
       "    </tr>\n",
       "    <tr>\n",
       "      <th>1</th>\n",
       "      <td>1000</td>\n",
       "      <td>52</td>\n",
       "      <td>NaT</td>\n",
       "      <td>Краснодар</td>\n",
       "      <td>Рафаил</td>\n",
       "      <td>Верещагин</td>\n",
       "      <td>2018-05-25</td>\n",
       "      <td>ultra</td>\n",
       "      <td>6.0</td>\n",
       "      <td>172.0</td>\n",
       "      <td>43.0</td>\n",
       "      <td>60.0</td>\n",
       "      <td>23.0</td>\n",
       "      <td>1000</td>\n",
       "      <td>30720</td>\n",
       "      <td>3000</td>\n",
       "      <td>1950</td>\n",
       "      <td>150</td>\n",
       "      <td>1</td>\n",
       "      <td>1</td>\n",
       "    </tr>\n",
       "    <tr>\n",
       "      <th>2</th>\n",
       "      <td>1000</td>\n",
       "      <td>52</td>\n",
       "      <td>NaT</td>\n",
       "      <td>Краснодар</td>\n",
       "      <td>Рафаил</td>\n",
       "      <td>Верещагин</td>\n",
       "      <td>2018-05-25</td>\n",
       "      <td>ultra</td>\n",
       "      <td>7.0</td>\n",
       "      <td>340.0</td>\n",
       "      <td>47.0</td>\n",
       "      <td>75.0</td>\n",
       "      <td>14.0</td>\n",
       "      <td>1000</td>\n",
       "      <td>30720</td>\n",
       "      <td>3000</td>\n",
       "      <td>1950</td>\n",
       "      <td>150</td>\n",
       "      <td>1</td>\n",
       "      <td>1</td>\n",
       "    </tr>\n",
       "    <tr>\n",
       "      <th>3</th>\n",
       "      <td>1000</td>\n",
       "      <td>52</td>\n",
       "      <td>NaT</td>\n",
       "      <td>Краснодар</td>\n",
       "      <td>Рафаил</td>\n",
       "      <td>Верещагин</td>\n",
       "      <td>2018-05-25</td>\n",
       "      <td>ultra</td>\n",
       "      <td>8.0</td>\n",
       "      <td>408.0</td>\n",
       "      <td>52.0</td>\n",
       "      <td>81.0</td>\n",
       "      <td>14.0</td>\n",
       "      <td>1000</td>\n",
       "      <td>30720</td>\n",
       "      <td>3000</td>\n",
       "      <td>1950</td>\n",
       "      <td>150</td>\n",
       "      <td>1</td>\n",
       "      <td>1</td>\n",
       "    </tr>\n",
       "    <tr>\n",
       "      <th>4</th>\n",
       "      <td>1000</td>\n",
       "      <td>52</td>\n",
       "      <td>NaT</td>\n",
       "      <td>Краснодар</td>\n",
       "      <td>Рафаил</td>\n",
       "      <td>Верещагин</td>\n",
       "      <td>2018-05-25</td>\n",
       "      <td>ultra</td>\n",
       "      <td>9.0</td>\n",
       "      <td>466.0</td>\n",
       "      <td>58.0</td>\n",
       "      <td>57.0</td>\n",
       "      <td>15.0</td>\n",
       "      <td>1000</td>\n",
       "      <td>30720</td>\n",
       "      <td>3000</td>\n",
       "      <td>1950</td>\n",
       "      <td>150</td>\n",
       "      <td>1</td>\n",
       "      <td>1</td>\n",
       "    </tr>\n",
       "    <tr>\n",
       "      <th>...</th>\n",
       "      <td>...</td>\n",
       "      <td>...</td>\n",
       "      <td>...</td>\n",
       "      <td>...</td>\n",
       "      <td>...</td>\n",
       "      <td>...</td>\n",
       "      <td>...</td>\n",
       "      <td>...</td>\n",
       "      <td>...</td>\n",
       "      <td>...</td>\n",
       "      <td>...</td>\n",
       "      <td>...</td>\n",
       "      <td>...</td>\n",
       "      <td>...</td>\n",
       "      <td>...</td>\n",
       "      <td>...</td>\n",
       "      <td>...</td>\n",
       "      <td>...</td>\n",
       "      <td>...</td>\n",
       "      <td>...</td>\n",
       "    </tr>\n",
       "    <tr>\n",
       "      <th>3211</th>\n",
       "      <td>1498</td>\n",
       "      <td>68</td>\n",
       "      <td>2018-10-25</td>\n",
       "      <td>Владикавказ</td>\n",
       "      <td>Всеволод</td>\n",
       "      <td>Акимчин</td>\n",
       "      <td>2018-07-19</td>\n",
       "      <td>smart</td>\n",
       "      <td>10.0</td>\n",
       "      <td>247.0</td>\n",
       "      <td>41.0</td>\n",
       "      <td>42.0</td>\n",
       "      <td>21.0</td>\n",
       "      <td>50</td>\n",
       "      <td>15360</td>\n",
       "      <td>500</td>\n",
       "      <td>550</td>\n",
       "      <td>200</td>\n",
       "      <td>3</td>\n",
       "      <td>3</td>\n",
       "    </tr>\n",
       "    <tr>\n",
       "      <th>3212</th>\n",
       "      <td>1499</td>\n",
       "      <td>35</td>\n",
       "      <td>NaT</td>\n",
       "      <td>Пермь</td>\n",
       "      <td>Гектор</td>\n",
       "      <td>Корнилов</td>\n",
       "      <td>2018-09-27</td>\n",
       "      <td>smart</td>\n",
       "      <td>9.0</td>\n",
       "      <td>70.0</td>\n",
       "      <td>9.0</td>\n",
       "      <td>11.0</td>\n",
       "      <td>2.0</td>\n",
       "      <td>50</td>\n",
       "      <td>15360</td>\n",
       "      <td>500</td>\n",
       "      <td>550</td>\n",
       "      <td>200</td>\n",
       "      <td>3</td>\n",
       "      <td>3</td>\n",
       "    </tr>\n",
       "    <tr>\n",
       "      <th>3213</th>\n",
       "      <td>1499</td>\n",
       "      <td>35</td>\n",
       "      <td>NaT</td>\n",
       "      <td>Пермь</td>\n",
       "      <td>Гектор</td>\n",
       "      <td>Корнилов</td>\n",
       "      <td>2018-09-27</td>\n",
       "      <td>smart</td>\n",
       "      <td>10.0</td>\n",
       "      <td>449.0</td>\n",
       "      <td>68.0</td>\n",
       "      <td>48.0</td>\n",
       "      <td>18.0</td>\n",
       "      <td>50</td>\n",
       "      <td>15360</td>\n",
       "      <td>500</td>\n",
       "      <td>550</td>\n",
       "      <td>200</td>\n",
       "      <td>3</td>\n",
       "      <td>3</td>\n",
       "    </tr>\n",
       "    <tr>\n",
       "      <th>3214</th>\n",
       "      <td>1499</td>\n",
       "      <td>35</td>\n",
       "      <td>NaT</td>\n",
       "      <td>Пермь</td>\n",
       "      <td>Гектор</td>\n",
       "      <td>Корнилов</td>\n",
       "      <td>2018-09-27</td>\n",
       "      <td>smart</td>\n",
       "      <td>11.0</td>\n",
       "      <td>612.0</td>\n",
       "      <td>74.0</td>\n",
       "      <td>59.0</td>\n",
       "      <td>18.0</td>\n",
       "      <td>50</td>\n",
       "      <td>15360</td>\n",
       "      <td>500</td>\n",
       "      <td>550</td>\n",
       "      <td>200</td>\n",
       "      <td>3</td>\n",
       "      <td>3</td>\n",
       "    </tr>\n",
       "    <tr>\n",
       "      <th>3215</th>\n",
       "      <td>1499</td>\n",
       "      <td>35</td>\n",
       "      <td>NaT</td>\n",
       "      <td>Пермь</td>\n",
       "      <td>Гектор</td>\n",
       "      <td>Корнилов</td>\n",
       "      <td>2018-09-27</td>\n",
       "      <td>smart</td>\n",
       "      <td>12.0</td>\n",
       "      <td>492.0</td>\n",
       "      <td>69.0</td>\n",
       "      <td>66.0</td>\n",
       "      <td>13.0</td>\n",
       "      <td>50</td>\n",
       "      <td>15360</td>\n",
       "      <td>500</td>\n",
       "      <td>550</td>\n",
       "      <td>200</td>\n",
       "      <td>3</td>\n",
       "      <td>3</td>\n",
       "    </tr>\n",
       "  </tbody>\n",
       "</table>\n",
       "<p>3216 rows × 20 columns</p>\n",
       "</div>"
      ],
      "text/plain": [
       "      user_id  age churn_date         city first_name  last_name   reg_date  \\\n",
       "0        1000   52        NaT    Краснодар     Рафаил  Верещагин 2018-05-25   \n",
       "1        1000   52        NaT    Краснодар     Рафаил  Верещагин 2018-05-25   \n",
       "2        1000   52        NaT    Краснодар     Рафаил  Верещагин 2018-05-25   \n",
       "3        1000   52        NaT    Краснодар     Рафаил  Верещагин 2018-05-25   \n",
       "4        1000   52        NaT    Краснодар     Рафаил  Верещагин 2018-05-25   \n",
       "...       ...  ...        ...          ...        ...        ...        ...   \n",
       "3211     1498   68 2018-10-25  Владикавказ   Всеволод    Акимчин 2018-07-19   \n",
       "3212     1499   35        NaT        Пермь     Гектор   Корнилов 2018-09-27   \n",
       "3213     1499   35        NaT        Пермь     Гектор   Корнилов 2018-09-27   \n",
       "3214     1499   35        NaT        Пермь     Гектор   Корнилов 2018-09-27   \n",
       "3215     1499   35        NaT        Пермь     Гектор   Корнилов 2018-09-27   \n",
       "\n",
       "     tariff  month  month_duration  month_calls  month_messages  \\\n",
       "0     ultra    5.0           159.0         22.0            22.0   \n",
       "1     ultra    6.0           172.0         43.0            60.0   \n",
       "2     ultra    7.0           340.0         47.0            75.0   \n",
       "3     ultra    8.0           408.0         52.0            81.0   \n",
       "4     ultra    9.0           466.0         58.0            57.0   \n",
       "...     ...    ...             ...          ...             ...   \n",
       "3211  smart   10.0           247.0         41.0            42.0   \n",
       "3212  smart    9.0            70.0          9.0            11.0   \n",
       "3213  smart   10.0           449.0         68.0            48.0   \n",
       "3214  smart   11.0           612.0         74.0            59.0   \n",
       "3215  smart   12.0           492.0         69.0            66.0   \n",
       "\n",
       "      total_gb_used  messages_included  mb_per_month_included  \\\n",
       "0               3.0               1000                  30720   \n",
       "1              23.0               1000                  30720   \n",
       "2              14.0               1000                  30720   \n",
       "3              14.0               1000                  30720   \n",
       "4              15.0               1000                  30720   \n",
       "...             ...                ...                    ...   \n",
       "3211           21.0                 50                  15360   \n",
       "3212            2.0                 50                  15360   \n",
       "3213           18.0                 50                  15360   \n",
       "3214           18.0                 50                  15360   \n",
       "3215           13.0                 50                  15360   \n",
       "\n",
       "      minutes_included  rub_monthly_fee  rub_per_gb  rub_per_message  \\\n",
       "0                 3000             1950         150                1   \n",
       "1                 3000             1950         150                1   \n",
       "2                 3000             1950         150                1   \n",
       "3                 3000             1950         150                1   \n",
       "4                 3000             1950         150                1   \n",
       "...                ...              ...         ...              ...   \n",
       "3211               500              550         200                3   \n",
       "3212               500              550         200                3   \n",
       "3213               500              550         200                3   \n",
       "3214               500              550         200                3   \n",
       "3215               500              550         200                3   \n",
       "\n",
       "      rub_per_minute  \n",
       "0                  1  \n",
       "1                  1  \n",
       "2                  1  \n",
       "3                  1  \n",
       "4                  1  \n",
       "...              ...  \n",
       "3211               3  \n",
       "3212               3  \n",
       "3213               3  \n",
       "3214               3  \n",
       "3215               3  \n",
       "\n",
       "[3216 rows x 20 columns]"
      ]
     },
     "execution_count": 54,
     "metadata": {},
     "output_type": "execute_result"
    }
   ],
   "source": [
    "df"
   ]
  },
  {
   "cell_type": "code",
   "execution_count": 55,
   "metadata": {},
   "outputs": [
    {
     "name": "stdout",
     "output_type": "stream",
     "text": [
      "<class 'pandas.core.frame.DataFrame'>\n",
      "Int64Index: 3216 entries, 0 to 3215\n",
      "Data columns (total 20 columns):\n",
      " #   Column                 Non-Null Count  Dtype         \n",
      "---  ------                 --------------  -----         \n",
      " 0   user_id                3216 non-null   int64         \n",
      " 1   age                    3216 non-null   int64         \n",
      " 2   churn_date             189 non-null    datetime64[ns]\n",
      " 3   city                   3216 non-null   object        \n",
      " 4   first_name             3216 non-null   object        \n",
      " 5   last_name              3216 non-null   object        \n",
      " 6   reg_date               3216 non-null   datetime64[ns]\n",
      " 7   tariff                 3216 non-null   object        \n",
      " 8   month                  3214 non-null   float64       \n",
      " 9   month_duration         3174 non-null   float64       \n",
      " 10  month_calls            3174 non-null   float64       \n",
      " 11  month_messages         2717 non-null   float64       \n",
      " 12  total_gb_used          3203 non-null   float64       \n",
      " 13  messages_included      3216 non-null   int64         \n",
      " 14  mb_per_month_included  3216 non-null   int64         \n",
      " 15  minutes_included       3216 non-null   int64         \n",
      " 16  rub_monthly_fee        3216 non-null   int64         \n",
      " 17  rub_per_gb             3216 non-null   int64         \n",
      " 18  rub_per_message        3216 non-null   int64         \n",
      " 19  rub_per_minute         3216 non-null   int64         \n",
      "dtypes: datetime64[ns](2), float64(5), int64(9), object(4)\n",
      "memory usage: 527.6+ KB\n"
     ]
    }
   ],
   "source": [
    "df.info()"
   ]
  },
  {
   "cell_type": "markdown",
   "metadata": {},
   "source": [
    "Проверим пропуски в итоговом датафрейме:\n"
   ]
  },
  {
   "cell_type": "code",
   "execution_count": 56,
   "metadata": {},
   "outputs": [
    {
     "data": {
      "text/plain": [
       "user_id                     0\n",
       "age                         0\n",
       "churn_date               3027\n",
       "city                        0\n",
       "first_name                  0\n",
       "last_name                   0\n",
       "reg_date                    0\n",
       "tariff                      0\n",
       "month                       2\n",
       "month_duration             42\n",
       "month_calls                42\n",
       "month_messages            499\n",
       "total_gb_used              13\n",
       "messages_included           0\n",
       "mb_per_month_included       0\n",
       "minutes_included            0\n",
       "rub_monthly_fee             0\n",
       "rub_per_gb                  0\n",
       "rub_per_message             0\n",
       "rub_per_minute              0\n",
       "dtype: int64"
      ]
     },
     "execution_count": 56,
     "metadata": {},
     "output_type": "execute_result"
    }
   ],
   "source": [
    "df.isna().sum()"
   ]
  },
  {
   "cell_type": "markdown",
   "metadata": {},
   "source": [
    "Как видим, они имеются - это те люди, которые не пользовались какими- то услугами. Заменим значения на ноль."
   ]
  },
  {
   "cell_type": "code",
   "execution_count": 57,
   "metadata": {},
   "outputs": [],
   "source": [
    "df['month'] = df['month'].fillna(0)\n",
    "df['month_duration'] = df['month_duration'].fillna(0)\n",
    "df['month_calls'] = df['month_calls'].fillna(0)\n",
    "df['month_messages'] = df['month_messages'].fillna(0)\n",
    "df['total_gb_used'] = df['total_gb_used'].fillna(0)"
   ]
  },
  {
   "cell_type": "code",
   "execution_count": 58,
   "metadata": {},
   "outputs": [
    {
     "data": {
      "text/plain": [
       "user_id                     0\n",
       "age                         0\n",
       "churn_date               3027\n",
       "city                        0\n",
       "first_name                  0\n",
       "last_name                   0\n",
       "reg_date                    0\n",
       "tariff                      0\n",
       "month                       0\n",
       "month_duration              0\n",
       "month_calls                 0\n",
       "month_messages              0\n",
       "total_gb_used               0\n",
       "messages_included           0\n",
       "mb_per_month_included       0\n",
       "minutes_included            0\n",
       "rub_monthly_fee             0\n",
       "rub_per_gb                  0\n",
       "rub_per_message             0\n",
       "rub_per_minute              0\n",
       "dtype: int64"
      ]
     },
     "execution_count": 58,
     "metadata": {},
     "output_type": "execute_result"
    }
   ],
   "source": [
    "df.isna().sum()"
   ]
  },
  {
   "cell_type": "markdown",
   "metadata": {},
   "source": [
    "Теперь все в порядке.\n",
    "\n",
    "Заодно приведем значения в некоторых столбцах к целочисленным для удобства."
   ]
  },
  {
   "cell_type": "code",
   "execution_count": 59,
   "metadata": {},
   "outputs": [],
   "source": [
    "df['month'] = df['month'].astype('int')\n",
    "df['month_duration'] = df['month_duration'].astype('int')\n",
    "df['month_calls'] = df['month_calls'].astype('int')\n",
    "df['month_messages'] = df['month_messages'].astype('int')\n",
    "df['total_gb_used'] = df['total_gb_used'].astype('int')"
   ]
  },
  {
   "cell_type": "code",
   "execution_count": 60,
   "metadata": {},
   "outputs": [
    {
     "name": "stdout",
     "output_type": "stream",
     "text": [
      "<class 'pandas.core.frame.DataFrame'>\n",
      "Int64Index: 3216 entries, 0 to 3215\n",
      "Data columns (total 20 columns):\n",
      " #   Column                 Non-Null Count  Dtype         \n",
      "---  ------                 --------------  -----         \n",
      " 0   user_id                3216 non-null   int64         \n",
      " 1   age                    3216 non-null   int64         \n",
      " 2   churn_date             189 non-null    datetime64[ns]\n",
      " 3   city                   3216 non-null   object        \n",
      " 4   first_name             3216 non-null   object        \n",
      " 5   last_name              3216 non-null   object        \n",
      " 6   reg_date               3216 non-null   datetime64[ns]\n",
      " 7   tariff                 3216 non-null   object        \n",
      " 8   month                  3216 non-null   int64         \n",
      " 9   month_duration         3216 non-null   int64         \n",
      " 10  month_calls            3216 non-null   int64         \n",
      " 11  month_messages         3216 non-null   int64         \n",
      " 12  total_gb_used          3216 non-null   int64         \n",
      " 13  messages_included      3216 non-null   int64         \n",
      " 14  mb_per_month_included  3216 non-null   int64         \n",
      " 15  minutes_included       3216 non-null   int64         \n",
      " 16  rub_monthly_fee        3216 non-null   int64         \n",
      " 17  rub_per_gb             3216 non-null   int64         \n",
      " 18  rub_per_message        3216 non-null   int64         \n",
      " 19  rub_per_minute         3216 non-null   int64         \n",
      "dtypes: datetime64[ns](2), int64(14), object(4)\n",
      "memory usage: 527.6+ KB\n"
     ]
    }
   ],
   "source": [
    "df.info()"
   ]
  },
  {
   "cell_type": "markdown",
   "metadata": {},
   "source": [
    "Вот такая красивая таблица у нас получилась."
   ]
  },
  {
   "cell_type": "code",
   "execution_count": 61,
   "metadata": {},
   "outputs": [
    {
     "data": {
      "text/html": [
       "<div>\n",
       "<style scoped>\n",
       "    .dataframe tbody tr th:only-of-type {\n",
       "        vertical-align: middle;\n",
       "    }\n",
       "\n",
       "    .dataframe tbody tr th {\n",
       "        vertical-align: top;\n",
       "    }\n",
       "\n",
       "    .dataframe thead th {\n",
       "        text-align: right;\n",
       "    }\n",
       "</style>\n",
       "<table border=\"1\" class=\"dataframe\">\n",
       "  <thead>\n",
       "    <tr style=\"text-align: right;\">\n",
       "      <th></th>\n",
       "      <th>user_id</th>\n",
       "      <th>age</th>\n",
       "      <th>churn_date</th>\n",
       "      <th>city</th>\n",
       "      <th>first_name</th>\n",
       "      <th>last_name</th>\n",
       "      <th>reg_date</th>\n",
       "      <th>tariff</th>\n",
       "      <th>month</th>\n",
       "      <th>month_duration</th>\n",
       "      <th>month_calls</th>\n",
       "      <th>month_messages</th>\n",
       "      <th>total_gb_used</th>\n",
       "      <th>messages_included</th>\n",
       "      <th>mb_per_month_included</th>\n",
       "      <th>minutes_included</th>\n",
       "      <th>rub_monthly_fee</th>\n",
       "      <th>rub_per_gb</th>\n",
       "      <th>rub_per_message</th>\n",
       "      <th>rub_per_minute</th>\n",
       "    </tr>\n",
       "  </thead>\n",
       "  <tbody>\n",
       "    <tr>\n",
       "      <th>0</th>\n",
       "      <td>1000</td>\n",
       "      <td>52</td>\n",
       "      <td>NaT</td>\n",
       "      <td>Краснодар</td>\n",
       "      <td>Рафаил</td>\n",
       "      <td>Верещагин</td>\n",
       "      <td>2018-05-25</td>\n",
       "      <td>ultra</td>\n",
       "      <td>5</td>\n",
       "      <td>159</td>\n",
       "      <td>22</td>\n",
       "      <td>22</td>\n",
       "      <td>3</td>\n",
       "      <td>1000</td>\n",
       "      <td>30720</td>\n",
       "      <td>3000</td>\n",
       "      <td>1950</td>\n",
       "      <td>150</td>\n",
       "      <td>1</td>\n",
       "      <td>1</td>\n",
       "    </tr>\n",
       "    <tr>\n",
       "      <th>1</th>\n",
       "      <td>1000</td>\n",
       "      <td>52</td>\n",
       "      <td>NaT</td>\n",
       "      <td>Краснодар</td>\n",
       "      <td>Рафаил</td>\n",
       "      <td>Верещагин</td>\n",
       "      <td>2018-05-25</td>\n",
       "      <td>ultra</td>\n",
       "      <td>6</td>\n",
       "      <td>172</td>\n",
       "      <td>43</td>\n",
       "      <td>60</td>\n",
       "      <td>23</td>\n",
       "      <td>1000</td>\n",
       "      <td>30720</td>\n",
       "      <td>3000</td>\n",
       "      <td>1950</td>\n",
       "      <td>150</td>\n",
       "      <td>1</td>\n",
       "      <td>1</td>\n",
       "    </tr>\n",
       "    <tr>\n",
       "      <th>2</th>\n",
       "      <td>1000</td>\n",
       "      <td>52</td>\n",
       "      <td>NaT</td>\n",
       "      <td>Краснодар</td>\n",
       "      <td>Рафаил</td>\n",
       "      <td>Верещагин</td>\n",
       "      <td>2018-05-25</td>\n",
       "      <td>ultra</td>\n",
       "      <td>7</td>\n",
       "      <td>340</td>\n",
       "      <td>47</td>\n",
       "      <td>75</td>\n",
       "      <td>14</td>\n",
       "      <td>1000</td>\n",
       "      <td>30720</td>\n",
       "      <td>3000</td>\n",
       "      <td>1950</td>\n",
       "      <td>150</td>\n",
       "      <td>1</td>\n",
       "      <td>1</td>\n",
       "    </tr>\n",
       "    <tr>\n",
       "      <th>3</th>\n",
       "      <td>1000</td>\n",
       "      <td>52</td>\n",
       "      <td>NaT</td>\n",
       "      <td>Краснодар</td>\n",
       "      <td>Рафаил</td>\n",
       "      <td>Верещагин</td>\n",
       "      <td>2018-05-25</td>\n",
       "      <td>ultra</td>\n",
       "      <td>8</td>\n",
       "      <td>408</td>\n",
       "      <td>52</td>\n",
       "      <td>81</td>\n",
       "      <td>14</td>\n",
       "      <td>1000</td>\n",
       "      <td>30720</td>\n",
       "      <td>3000</td>\n",
       "      <td>1950</td>\n",
       "      <td>150</td>\n",
       "      <td>1</td>\n",
       "      <td>1</td>\n",
       "    </tr>\n",
       "    <tr>\n",
       "      <th>4</th>\n",
       "      <td>1000</td>\n",
       "      <td>52</td>\n",
       "      <td>NaT</td>\n",
       "      <td>Краснодар</td>\n",
       "      <td>Рафаил</td>\n",
       "      <td>Верещагин</td>\n",
       "      <td>2018-05-25</td>\n",
       "      <td>ultra</td>\n",
       "      <td>9</td>\n",
       "      <td>466</td>\n",
       "      <td>58</td>\n",
       "      <td>57</td>\n",
       "      <td>15</td>\n",
       "      <td>1000</td>\n",
       "      <td>30720</td>\n",
       "      <td>3000</td>\n",
       "      <td>1950</td>\n",
       "      <td>150</td>\n",
       "      <td>1</td>\n",
       "      <td>1</td>\n",
       "    </tr>\n",
       "    <tr>\n",
       "      <th>...</th>\n",
       "      <td>...</td>\n",
       "      <td>...</td>\n",
       "      <td>...</td>\n",
       "      <td>...</td>\n",
       "      <td>...</td>\n",
       "      <td>...</td>\n",
       "      <td>...</td>\n",
       "      <td>...</td>\n",
       "      <td>...</td>\n",
       "      <td>...</td>\n",
       "      <td>...</td>\n",
       "      <td>...</td>\n",
       "      <td>...</td>\n",
       "      <td>...</td>\n",
       "      <td>...</td>\n",
       "      <td>...</td>\n",
       "      <td>...</td>\n",
       "      <td>...</td>\n",
       "      <td>...</td>\n",
       "      <td>...</td>\n",
       "    </tr>\n",
       "    <tr>\n",
       "      <th>3211</th>\n",
       "      <td>1498</td>\n",
       "      <td>68</td>\n",
       "      <td>2018-10-25</td>\n",
       "      <td>Владикавказ</td>\n",
       "      <td>Всеволод</td>\n",
       "      <td>Акимчин</td>\n",
       "      <td>2018-07-19</td>\n",
       "      <td>smart</td>\n",
       "      <td>10</td>\n",
       "      <td>247</td>\n",
       "      <td>41</td>\n",
       "      <td>42</td>\n",
       "      <td>21</td>\n",
       "      <td>50</td>\n",
       "      <td>15360</td>\n",
       "      <td>500</td>\n",
       "      <td>550</td>\n",
       "      <td>200</td>\n",
       "      <td>3</td>\n",
       "      <td>3</td>\n",
       "    </tr>\n",
       "    <tr>\n",
       "      <th>3212</th>\n",
       "      <td>1499</td>\n",
       "      <td>35</td>\n",
       "      <td>NaT</td>\n",
       "      <td>Пермь</td>\n",
       "      <td>Гектор</td>\n",
       "      <td>Корнилов</td>\n",
       "      <td>2018-09-27</td>\n",
       "      <td>smart</td>\n",
       "      <td>9</td>\n",
       "      <td>70</td>\n",
       "      <td>9</td>\n",
       "      <td>11</td>\n",
       "      <td>2</td>\n",
       "      <td>50</td>\n",
       "      <td>15360</td>\n",
       "      <td>500</td>\n",
       "      <td>550</td>\n",
       "      <td>200</td>\n",
       "      <td>3</td>\n",
       "      <td>3</td>\n",
       "    </tr>\n",
       "    <tr>\n",
       "      <th>3213</th>\n",
       "      <td>1499</td>\n",
       "      <td>35</td>\n",
       "      <td>NaT</td>\n",
       "      <td>Пермь</td>\n",
       "      <td>Гектор</td>\n",
       "      <td>Корнилов</td>\n",
       "      <td>2018-09-27</td>\n",
       "      <td>smart</td>\n",
       "      <td>10</td>\n",
       "      <td>449</td>\n",
       "      <td>68</td>\n",
       "      <td>48</td>\n",
       "      <td>18</td>\n",
       "      <td>50</td>\n",
       "      <td>15360</td>\n",
       "      <td>500</td>\n",
       "      <td>550</td>\n",
       "      <td>200</td>\n",
       "      <td>3</td>\n",
       "      <td>3</td>\n",
       "    </tr>\n",
       "    <tr>\n",
       "      <th>3214</th>\n",
       "      <td>1499</td>\n",
       "      <td>35</td>\n",
       "      <td>NaT</td>\n",
       "      <td>Пермь</td>\n",
       "      <td>Гектор</td>\n",
       "      <td>Корнилов</td>\n",
       "      <td>2018-09-27</td>\n",
       "      <td>smart</td>\n",
       "      <td>11</td>\n",
       "      <td>612</td>\n",
       "      <td>74</td>\n",
       "      <td>59</td>\n",
       "      <td>18</td>\n",
       "      <td>50</td>\n",
       "      <td>15360</td>\n",
       "      <td>500</td>\n",
       "      <td>550</td>\n",
       "      <td>200</td>\n",
       "      <td>3</td>\n",
       "      <td>3</td>\n",
       "    </tr>\n",
       "    <tr>\n",
       "      <th>3215</th>\n",
       "      <td>1499</td>\n",
       "      <td>35</td>\n",
       "      <td>NaT</td>\n",
       "      <td>Пермь</td>\n",
       "      <td>Гектор</td>\n",
       "      <td>Корнилов</td>\n",
       "      <td>2018-09-27</td>\n",
       "      <td>smart</td>\n",
       "      <td>12</td>\n",
       "      <td>492</td>\n",
       "      <td>69</td>\n",
       "      <td>66</td>\n",
       "      <td>13</td>\n",
       "      <td>50</td>\n",
       "      <td>15360</td>\n",
       "      <td>500</td>\n",
       "      <td>550</td>\n",
       "      <td>200</td>\n",
       "      <td>3</td>\n",
       "      <td>3</td>\n",
       "    </tr>\n",
       "  </tbody>\n",
       "</table>\n",
       "<p>3216 rows × 20 columns</p>\n",
       "</div>"
      ],
      "text/plain": [
       "      user_id  age churn_date         city first_name  last_name   reg_date  \\\n",
       "0        1000   52        NaT    Краснодар     Рафаил  Верещагин 2018-05-25   \n",
       "1        1000   52        NaT    Краснодар     Рафаил  Верещагин 2018-05-25   \n",
       "2        1000   52        NaT    Краснодар     Рафаил  Верещагин 2018-05-25   \n",
       "3        1000   52        NaT    Краснодар     Рафаил  Верещагин 2018-05-25   \n",
       "4        1000   52        NaT    Краснодар     Рафаил  Верещагин 2018-05-25   \n",
       "...       ...  ...        ...          ...        ...        ...        ...   \n",
       "3211     1498   68 2018-10-25  Владикавказ   Всеволод    Акимчин 2018-07-19   \n",
       "3212     1499   35        NaT        Пермь     Гектор   Корнилов 2018-09-27   \n",
       "3213     1499   35        NaT        Пермь     Гектор   Корнилов 2018-09-27   \n",
       "3214     1499   35        NaT        Пермь     Гектор   Корнилов 2018-09-27   \n",
       "3215     1499   35        NaT        Пермь     Гектор   Корнилов 2018-09-27   \n",
       "\n",
       "     tariff  month  month_duration  month_calls  month_messages  \\\n",
       "0     ultra      5             159           22              22   \n",
       "1     ultra      6             172           43              60   \n",
       "2     ultra      7             340           47              75   \n",
       "3     ultra      8             408           52              81   \n",
       "4     ultra      9             466           58              57   \n",
       "...     ...    ...             ...          ...             ...   \n",
       "3211  smart     10             247           41              42   \n",
       "3212  smart      9              70            9              11   \n",
       "3213  smart     10             449           68              48   \n",
       "3214  smart     11             612           74              59   \n",
       "3215  smart     12             492           69              66   \n",
       "\n",
       "      total_gb_used  messages_included  mb_per_month_included  \\\n",
       "0                 3               1000                  30720   \n",
       "1                23               1000                  30720   \n",
       "2                14               1000                  30720   \n",
       "3                14               1000                  30720   \n",
       "4                15               1000                  30720   \n",
       "...             ...                ...                    ...   \n",
       "3211             21                 50                  15360   \n",
       "3212              2                 50                  15360   \n",
       "3213             18                 50                  15360   \n",
       "3214             18                 50                  15360   \n",
       "3215             13                 50                  15360   \n",
       "\n",
       "      minutes_included  rub_monthly_fee  rub_per_gb  rub_per_message  \\\n",
       "0                 3000             1950         150                1   \n",
       "1                 3000             1950         150                1   \n",
       "2                 3000             1950         150                1   \n",
       "3                 3000             1950         150                1   \n",
       "4                 3000             1950         150                1   \n",
       "...                ...              ...         ...              ...   \n",
       "3211               500              550         200                3   \n",
       "3212               500              550         200                3   \n",
       "3213               500              550         200                3   \n",
       "3214               500              550         200                3   \n",
       "3215               500              550         200                3   \n",
       "\n",
       "      rub_per_minute  \n",
       "0                  1  \n",
       "1                  1  \n",
       "2                  1  \n",
       "3                  1  \n",
       "4                  1  \n",
       "...              ...  \n",
       "3211               3  \n",
       "3212               3  \n",
       "3213               3  \n",
       "3214               3  \n",
       "3215               3  \n",
       "\n",
       "[3216 rows x 20 columns]"
      ]
     },
     "execution_count": 61,
     "metadata": {},
     "output_type": "execute_result"
    }
   ],
   "source": [
    "df"
   ]
  },
  {
   "cell_type": "markdown",
   "metadata": {},
   "source": [
    "Чтобы не было разнобоя в данных, переведем заложенные в тарифы объемы трафика в гигабайты и переименуем столбец:"
   ]
  },
  {
   "cell_type": "code",
   "execution_count": 62,
   "metadata": {},
   "outputs": [],
   "source": [
    "df['mb_per_month_included'] = (df['mb_per_month_included']/1024).astype('int')"
   ]
  },
  {
   "cell_type": "code",
   "execution_count": 63,
   "metadata": {},
   "outputs": [
    {
     "data": {
      "text/html": [
       "<div>\n",
       "<style scoped>\n",
       "    .dataframe tbody tr th:only-of-type {\n",
       "        vertical-align: middle;\n",
       "    }\n",
       "\n",
       "    .dataframe tbody tr th {\n",
       "        vertical-align: top;\n",
       "    }\n",
       "\n",
       "    .dataframe thead th {\n",
       "        text-align: right;\n",
       "    }\n",
       "</style>\n",
       "<table border=\"1\" class=\"dataframe\">\n",
       "  <thead>\n",
       "    <tr style=\"text-align: right;\">\n",
       "      <th></th>\n",
       "      <th>user_id</th>\n",
       "      <th>age</th>\n",
       "      <th>churn_date</th>\n",
       "      <th>city</th>\n",
       "      <th>first_name</th>\n",
       "      <th>last_name</th>\n",
       "      <th>reg_date</th>\n",
       "      <th>tariff</th>\n",
       "      <th>month</th>\n",
       "      <th>month_duration</th>\n",
       "      <th>month_calls</th>\n",
       "      <th>month_messages</th>\n",
       "      <th>total_gb_used</th>\n",
       "      <th>messages_included</th>\n",
       "      <th>mb_per_month_included</th>\n",
       "      <th>minutes_included</th>\n",
       "      <th>rub_monthly_fee</th>\n",
       "      <th>rub_per_gb</th>\n",
       "      <th>rub_per_message</th>\n",
       "      <th>rub_per_minute</th>\n",
       "    </tr>\n",
       "  </thead>\n",
       "  <tbody>\n",
       "    <tr>\n",
       "      <th>0</th>\n",
       "      <td>1000</td>\n",
       "      <td>52</td>\n",
       "      <td>NaT</td>\n",
       "      <td>Краснодар</td>\n",
       "      <td>Рафаил</td>\n",
       "      <td>Верещагин</td>\n",
       "      <td>2018-05-25</td>\n",
       "      <td>ultra</td>\n",
       "      <td>5</td>\n",
       "      <td>159</td>\n",
       "      <td>22</td>\n",
       "      <td>22</td>\n",
       "      <td>3</td>\n",
       "      <td>1000</td>\n",
       "      <td>30</td>\n",
       "      <td>3000</td>\n",
       "      <td>1950</td>\n",
       "      <td>150</td>\n",
       "      <td>1</td>\n",
       "      <td>1</td>\n",
       "    </tr>\n",
       "    <tr>\n",
       "      <th>1</th>\n",
       "      <td>1000</td>\n",
       "      <td>52</td>\n",
       "      <td>NaT</td>\n",
       "      <td>Краснодар</td>\n",
       "      <td>Рафаил</td>\n",
       "      <td>Верещагин</td>\n",
       "      <td>2018-05-25</td>\n",
       "      <td>ultra</td>\n",
       "      <td>6</td>\n",
       "      <td>172</td>\n",
       "      <td>43</td>\n",
       "      <td>60</td>\n",
       "      <td>23</td>\n",
       "      <td>1000</td>\n",
       "      <td>30</td>\n",
       "      <td>3000</td>\n",
       "      <td>1950</td>\n",
       "      <td>150</td>\n",
       "      <td>1</td>\n",
       "      <td>1</td>\n",
       "    </tr>\n",
       "    <tr>\n",
       "      <th>2</th>\n",
       "      <td>1000</td>\n",
       "      <td>52</td>\n",
       "      <td>NaT</td>\n",
       "      <td>Краснодар</td>\n",
       "      <td>Рафаил</td>\n",
       "      <td>Верещагин</td>\n",
       "      <td>2018-05-25</td>\n",
       "      <td>ultra</td>\n",
       "      <td>7</td>\n",
       "      <td>340</td>\n",
       "      <td>47</td>\n",
       "      <td>75</td>\n",
       "      <td>14</td>\n",
       "      <td>1000</td>\n",
       "      <td>30</td>\n",
       "      <td>3000</td>\n",
       "      <td>1950</td>\n",
       "      <td>150</td>\n",
       "      <td>1</td>\n",
       "      <td>1</td>\n",
       "    </tr>\n",
       "    <tr>\n",
       "      <th>3</th>\n",
       "      <td>1000</td>\n",
       "      <td>52</td>\n",
       "      <td>NaT</td>\n",
       "      <td>Краснодар</td>\n",
       "      <td>Рафаил</td>\n",
       "      <td>Верещагин</td>\n",
       "      <td>2018-05-25</td>\n",
       "      <td>ultra</td>\n",
       "      <td>8</td>\n",
       "      <td>408</td>\n",
       "      <td>52</td>\n",
       "      <td>81</td>\n",
       "      <td>14</td>\n",
       "      <td>1000</td>\n",
       "      <td>30</td>\n",
       "      <td>3000</td>\n",
       "      <td>1950</td>\n",
       "      <td>150</td>\n",
       "      <td>1</td>\n",
       "      <td>1</td>\n",
       "    </tr>\n",
       "    <tr>\n",
       "      <th>4</th>\n",
       "      <td>1000</td>\n",
       "      <td>52</td>\n",
       "      <td>NaT</td>\n",
       "      <td>Краснодар</td>\n",
       "      <td>Рафаил</td>\n",
       "      <td>Верещагин</td>\n",
       "      <td>2018-05-25</td>\n",
       "      <td>ultra</td>\n",
       "      <td>9</td>\n",
       "      <td>466</td>\n",
       "      <td>58</td>\n",
       "      <td>57</td>\n",
       "      <td>15</td>\n",
       "      <td>1000</td>\n",
       "      <td>30</td>\n",
       "      <td>3000</td>\n",
       "      <td>1950</td>\n",
       "      <td>150</td>\n",
       "      <td>1</td>\n",
       "      <td>1</td>\n",
       "    </tr>\n",
       "  </tbody>\n",
       "</table>\n",
       "</div>"
      ],
      "text/plain": [
       "   user_id  age churn_date       city first_name  last_name   reg_date tariff  \\\n",
       "0     1000   52        NaT  Краснодар     Рафаил  Верещагин 2018-05-25  ultra   \n",
       "1     1000   52        NaT  Краснодар     Рафаил  Верещагин 2018-05-25  ultra   \n",
       "2     1000   52        NaT  Краснодар     Рафаил  Верещагин 2018-05-25  ultra   \n",
       "3     1000   52        NaT  Краснодар     Рафаил  Верещагин 2018-05-25  ultra   \n",
       "4     1000   52        NaT  Краснодар     Рафаил  Верещагин 2018-05-25  ultra   \n",
       "\n",
       "   month  month_duration  month_calls  month_messages  total_gb_used  \\\n",
       "0      5             159           22              22              3   \n",
       "1      6             172           43              60             23   \n",
       "2      7             340           47              75             14   \n",
       "3      8             408           52              81             14   \n",
       "4      9             466           58              57             15   \n",
       "\n",
       "   messages_included  mb_per_month_included  minutes_included  \\\n",
       "0               1000                     30              3000   \n",
       "1               1000                     30              3000   \n",
       "2               1000                     30              3000   \n",
       "3               1000                     30              3000   \n",
       "4               1000                     30              3000   \n",
       "\n",
       "   rub_monthly_fee  rub_per_gb  rub_per_message  rub_per_minute  \n",
       "0             1950         150                1               1  \n",
       "1             1950         150                1               1  \n",
       "2             1950         150                1               1  \n",
       "3             1950         150                1               1  \n",
       "4             1950         150                1               1  "
      ]
     },
     "execution_count": 63,
     "metadata": {},
     "output_type": "execute_result"
    }
   ],
   "source": [
    "df.head(5)"
   ]
  },
  {
   "cell_type": "code",
   "execution_count": 64,
   "metadata": {},
   "outputs": [],
   "source": [
    "df = df.rename(columns={'mb_per_month_included':'gb_per_month_included'})"
   ]
  },
  {
   "cell_type": "code",
   "execution_count": 65,
   "metadata": {},
   "outputs": [
    {
     "data": {
      "text/html": [
       "<div>\n",
       "<style scoped>\n",
       "    .dataframe tbody tr th:only-of-type {\n",
       "        vertical-align: middle;\n",
       "    }\n",
       "\n",
       "    .dataframe tbody tr th {\n",
       "        vertical-align: top;\n",
       "    }\n",
       "\n",
       "    .dataframe thead th {\n",
       "        text-align: right;\n",
       "    }\n",
       "</style>\n",
       "<table border=\"1\" class=\"dataframe\">\n",
       "  <thead>\n",
       "    <tr style=\"text-align: right;\">\n",
       "      <th></th>\n",
       "      <th>user_id</th>\n",
       "      <th>age</th>\n",
       "      <th>churn_date</th>\n",
       "      <th>city</th>\n",
       "      <th>first_name</th>\n",
       "      <th>last_name</th>\n",
       "      <th>reg_date</th>\n",
       "      <th>tariff</th>\n",
       "      <th>month</th>\n",
       "      <th>month_duration</th>\n",
       "      <th>month_calls</th>\n",
       "      <th>month_messages</th>\n",
       "      <th>total_gb_used</th>\n",
       "      <th>messages_included</th>\n",
       "      <th>gb_per_month_included</th>\n",
       "      <th>minutes_included</th>\n",
       "      <th>rub_monthly_fee</th>\n",
       "      <th>rub_per_gb</th>\n",
       "      <th>rub_per_message</th>\n",
       "      <th>rub_per_minute</th>\n",
       "    </tr>\n",
       "  </thead>\n",
       "  <tbody>\n",
       "    <tr>\n",
       "      <th>0</th>\n",
       "      <td>1000</td>\n",
       "      <td>52</td>\n",
       "      <td>NaT</td>\n",
       "      <td>Краснодар</td>\n",
       "      <td>Рафаил</td>\n",
       "      <td>Верещагин</td>\n",
       "      <td>2018-05-25</td>\n",
       "      <td>ultra</td>\n",
       "      <td>5</td>\n",
       "      <td>159</td>\n",
       "      <td>22</td>\n",
       "      <td>22</td>\n",
       "      <td>3</td>\n",
       "      <td>1000</td>\n",
       "      <td>30</td>\n",
       "      <td>3000</td>\n",
       "      <td>1950</td>\n",
       "      <td>150</td>\n",
       "      <td>1</td>\n",
       "      <td>1</td>\n",
       "    </tr>\n",
       "    <tr>\n",
       "      <th>1</th>\n",
       "      <td>1000</td>\n",
       "      <td>52</td>\n",
       "      <td>NaT</td>\n",
       "      <td>Краснодар</td>\n",
       "      <td>Рафаил</td>\n",
       "      <td>Верещагин</td>\n",
       "      <td>2018-05-25</td>\n",
       "      <td>ultra</td>\n",
       "      <td>6</td>\n",
       "      <td>172</td>\n",
       "      <td>43</td>\n",
       "      <td>60</td>\n",
       "      <td>23</td>\n",
       "      <td>1000</td>\n",
       "      <td>30</td>\n",
       "      <td>3000</td>\n",
       "      <td>1950</td>\n",
       "      <td>150</td>\n",
       "      <td>1</td>\n",
       "      <td>1</td>\n",
       "    </tr>\n",
       "    <tr>\n",
       "      <th>2</th>\n",
       "      <td>1000</td>\n",
       "      <td>52</td>\n",
       "      <td>NaT</td>\n",
       "      <td>Краснодар</td>\n",
       "      <td>Рафаил</td>\n",
       "      <td>Верещагин</td>\n",
       "      <td>2018-05-25</td>\n",
       "      <td>ultra</td>\n",
       "      <td>7</td>\n",
       "      <td>340</td>\n",
       "      <td>47</td>\n",
       "      <td>75</td>\n",
       "      <td>14</td>\n",
       "      <td>1000</td>\n",
       "      <td>30</td>\n",
       "      <td>3000</td>\n",
       "      <td>1950</td>\n",
       "      <td>150</td>\n",
       "      <td>1</td>\n",
       "      <td>1</td>\n",
       "    </tr>\n",
       "    <tr>\n",
       "      <th>3</th>\n",
       "      <td>1000</td>\n",
       "      <td>52</td>\n",
       "      <td>NaT</td>\n",
       "      <td>Краснодар</td>\n",
       "      <td>Рафаил</td>\n",
       "      <td>Верещагин</td>\n",
       "      <td>2018-05-25</td>\n",
       "      <td>ultra</td>\n",
       "      <td>8</td>\n",
       "      <td>408</td>\n",
       "      <td>52</td>\n",
       "      <td>81</td>\n",
       "      <td>14</td>\n",
       "      <td>1000</td>\n",
       "      <td>30</td>\n",
       "      <td>3000</td>\n",
       "      <td>1950</td>\n",
       "      <td>150</td>\n",
       "      <td>1</td>\n",
       "      <td>1</td>\n",
       "    </tr>\n",
       "    <tr>\n",
       "      <th>4</th>\n",
       "      <td>1000</td>\n",
       "      <td>52</td>\n",
       "      <td>NaT</td>\n",
       "      <td>Краснодар</td>\n",
       "      <td>Рафаил</td>\n",
       "      <td>Верещагин</td>\n",
       "      <td>2018-05-25</td>\n",
       "      <td>ultra</td>\n",
       "      <td>9</td>\n",
       "      <td>466</td>\n",
       "      <td>58</td>\n",
       "      <td>57</td>\n",
       "      <td>15</td>\n",
       "      <td>1000</td>\n",
       "      <td>30</td>\n",
       "      <td>3000</td>\n",
       "      <td>1950</td>\n",
       "      <td>150</td>\n",
       "      <td>1</td>\n",
       "      <td>1</td>\n",
       "    </tr>\n",
       "    <tr>\n",
       "      <th>...</th>\n",
       "      <td>...</td>\n",
       "      <td>...</td>\n",
       "      <td>...</td>\n",
       "      <td>...</td>\n",
       "      <td>...</td>\n",
       "      <td>...</td>\n",
       "      <td>...</td>\n",
       "      <td>...</td>\n",
       "      <td>...</td>\n",
       "      <td>...</td>\n",
       "      <td>...</td>\n",
       "      <td>...</td>\n",
       "      <td>...</td>\n",
       "      <td>...</td>\n",
       "      <td>...</td>\n",
       "      <td>...</td>\n",
       "      <td>...</td>\n",
       "      <td>...</td>\n",
       "      <td>...</td>\n",
       "      <td>...</td>\n",
       "    </tr>\n",
       "    <tr>\n",
       "      <th>3211</th>\n",
       "      <td>1498</td>\n",
       "      <td>68</td>\n",
       "      <td>2018-10-25</td>\n",
       "      <td>Владикавказ</td>\n",
       "      <td>Всеволод</td>\n",
       "      <td>Акимчин</td>\n",
       "      <td>2018-07-19</td>\n",
       "      <td>smart</td>\n",
       "      <td>10</td>\n",
       "      <td>247</td>\n",
       "      <td>41</td>\n",
       "      <td>42</td>\n",
       "      <td>21</td>\n",
       "      <td>50</td>\n",
       "      <td>15</td>\n",
       "      <td>500</td>\n",
       "      <td>550</td>\n",
       "      <td>200</td>\n",
       "      <td>3</td>\n",
       "      <td>3</td>\n",
       "    </tr>\n",
       "    <tr>\n",
       "      <th>3212</th>\n",
       "      <td>1499</td>\n",
       "      <td>35</td>\n",
       "      <td>NaT</td>\n",
       "      <td>Пермь</td>\n",
       "      <td>Гектор</td>\n",
       "      <td>Корнилов</td>\n",
       "      <td>2018-09-27</td>\n",
       "      <td>smart</td>\n",
       "      <td>9</td>\n",
       "      <td>70</td>\n",
       "      <td>9</td>\n",
       "      <td>11</td>\n",
       "      <td>2</td>\n",
       "      <td>50</td>\n",
       "      <td>15</td>\n",
       "      <td>500</td>\n",
       "      <td>550</td>\n",
       "      <td>200</td>\n",
       "      <td>3</td>\n",
       "      <td>3</td>\n",
       "    </tr>\n",
       "    <tr>\n",
       "      <th>3213</th>\n",
       "      <td>1499</td>\n",
       "      <td>35</td>\n",
       "      <td>NaT</td>\n",
       "      <td>Пермь</td>\n",
       "      <td>Гектор</td>\n",
       "      <td>Корнилов</td>\n",
       "      <td>2018-09-27</td>\n",
       "      <td>smart</td>\n",
       "      <td>10</td>\n",
       "      <td>449</td>\n",
       "      <td>68</td>\n",
       "      <td>48</td>\n",
       "      <td>18</td>\n",
       "      <td>50</td>\n",
       "      <td>15</td>\n",
       "      <td>500</td>\n",
       "      <td>550</td>\n",
       "      <td>200</td>\n",
       "      <td>3</td>\n",
       "      <td>3</td>\n",
       "    </tr>\n",
       "    <tr>\n",
       "      <th>3214</th>\n",
       "      <td>1499</td>\n",
       "      <td>35</td>\n",
       "      <td>NaT</td>\n",
       "      <td>Пермь</td>\n",
       "      <td>Гектор</td>\n",
       "      <td>Корнилов</td>\n",
       "      <td>2018-09-27</td>\n",
       "      <td>smart</td>\n",
       "      <td>11</td>\n",
       "      <td>612</td>\n",
       "      <td>74</td>\n",
       "      <td>59</td>\n",
       "      <td>18</td>\n",
       "      <td>50</td>\n",
       "      <td>15</td>\n",
       "      <td>500</td>\n",
       "      <td>550</td>\n",
       "      <td>200</td>\n",
       "      <td>3</td>\n",
       "      <td>3</td>\n",
       "    </tr>\n",
       "    <tr>\n",
       "      <th>3215</th>\n",
       "      <td>1499</td>\n",
       "      <td>35</td>\n",
       "      <td>NaT</td>\n",
       "      <td>Пермь</td>\n",
       "      <td>Гектор</td>\n",
       "      <td>Корнилов</td>\n",
       "      <td>2018-09-27</td>\n",
       "      <td>smart</td>\n",
       "      <td>12</td>\n",
       "      <td>492</td>\n",
       "      <td>69</td>\n",
       "      <td>66</td>\n",
       "      <td>13</td>\n",
       "      <td>50</td>\n",
       "      <td>15</td>\n",
       "      <td>500</td>\n",
       "      <td>550</td>\n",
       "      <td>200</td>\n",
       "      <td>3</td>\n",
       "      <td>3</td>\n",
       "    </tr>\n",
       "  </tbody>\n",
       "</table>\n",
       "<p>3216 rows × 20 columns</p>\n",
       "</div>"
      ],
      "text/plain": [
       "      user_id  age churn_date         city first_name  last_name   reg_date  \\\n",
       "0        1000   52        NaT    Краснодар     Рафаил  Верещагин 2018-05-25   \n",
       "1        1000   52        NaT    Краснодар     Рафаил  Верещагин 2018-05-25   \n",
       "2        1000   52        NaT    Краснодар     Рафаил  Верещагин 2018-05-25   \n",
       "3        1000   52        NaT    Краснодар     Рафаил  Верещагин 2018-05-25   \n",
       "4        1000   52        NaT    Краснодар     Рафаил  Верещагин 2018-05-25   \n",
       "...       ...  ...        ...          ...        ...        ...        ...   \n",
       "3211     1498   68 2018-10-25  Владикавказ   Всеволод    Акимчин 2018-07-19   \n",
       "3212     1499   35        NaT        Пермь     Гектор   Корнилов 2018-09-27   \n",
       "3213     1499   35        NaT        Пермь     Гектор   Корнилов 2018-09-27   \n",
       "3214     1499   35        NaT        Пермь     Гектор   Корнилов 2018-09-27   \n",
       "3215     1499   35        NaT        Пермь     Гектор   Корнилов 2018-09-27   \n",
       "\n",
       "     tariff  month  month_duration  month_calls  month_messages  \\\n",
       "0     ultra      5             159           22              22   \n",
       "1     ultra      6             172           43              60   \n",
       "2     ultra      7             340           47              75   \n",
       "3     ultra      8             408           52              81   \n",
       "4     ultra      9             466           58              57   \n",
       "...     ...    ...             ...          ...             ...   \n",
       "3211  smart     10             247           41              42   \n",
       "3212  smart      9              70            9              11   \n",
       "3213  smart     10             449           68              48   \n",
       "3214  smart     11             612           74              59   \n",
       "3215  smart     12             492           69              66   \n",
       "\n",
       "      total_gb_used  messages_included  gb_per_month_included  \\\n",
       "0                 3               1000                     30   \n",
       "1                23               1000                     30   \n",
       "2                14               1000                     30   \n",
       "3                14               1000                     30   \n",
       "4                15               1000                     30   \n",
       "...             ...                ...                    ...   \n",
       "3211             21                 50                     15   \n",
       "3212              2                 50                     15   \n",
       "3213             18                 50                     15   \n",
       "3214             18                 50                     15   \n",
       "3215             13                 50                     15   \n",
       "\n",
       "      minutes_included  rub_monthly_fee  rub_per_gb  rub_per_message  \\\n",
       "0                 3000             1950         150                1   \n",
       "1                 3000             1950         150                1   \n",
       "2                 3000             1950         150                1   \n",
       "3                 3000             1950         150                1   \n",
       "4                 3000             1950         150                1   \n",
       "...                ...              ...         ...              ...   \n",
       "3211               500              550         200                3   \n",
       "3212               500              550         200                3   \n",
       "3213               500              550         200                3   \n",
       "3214               500              550         200                3   \n",
       "3215               500              550         200                3   \n",
       "\n",
       "      rub_per_minute  \n",
       "0                  1  \n",
       "1                  1  \n",
       "2                  1  \n",
       "3                  1  \n",
       "4                  1  \n",
       "...              ...  \n",
       "3211               3  \n",
       "3212               3  \n",
       "3213               3  \n",
       "3214               3  \n",
       "3215               3  \n",
       "\n",
       "[3216 rows x 20 columns]"
      ]
     },
     "execution_count": 65,
     "metadata": {},
     "output_type": "execute_result"
    }
   ],
   "source": [
    "df"
   ]
  },
  {
   "cell_type": "markdown",
   "metadata": {},
   "source": [
    "Напишем небольшую функцию для того, чтобы вычислить ежемесячный доход с абонента:"
   ]
  },
  {
   "cell_type": "code",
   "execution_count": 66,
   "metadata": {},
   "outputs": [],
   "source": [
    "def month_revenue(row):\n",
    "    mins=(row['month_duration']-row['minutes_included'])*row['rub_per_minute']  # сумма перерасхода за разговоры\n",
    "    traf=(row['total_gb_used']-row['gb_per_month_included'])*row['rub_per_gb']  # сумма перерасхода за трафик\n",
    "    mess=(row['month_messages']-row['messages_included'])*row['rub_per_message']  # сумма перерасхода за сообщения\n",
    "    total = 0\n",
    "    for i in [mins, traf, mess]:\n",
    "        if i > 0:\n",
    "            total += i\n",
    "    return total+row['rub_monthly_fee']"
   ]
  },
  {
   "cell_type": "code",
   "execution_count": 67,
   "metadata": {},
   "outputs": [],
   "source": [
    "df['month_revenue'] = df.apply(month_revenue, axis=1)  # добавляем столбец с доходм в таблицу:"
   ]
  },
  {
   "cell_type": "markdown",
   "metadata": {},
   "source": [
    "Поделим датафрейм на два в зависимости от тарифа, выбранного пользователями:"
   ]
  },
  {
   "cell_type": "code",
   "execution_count": 68,
   "metadata": {},
   "outputs": [],
   "source": [
    "smart_users = df.query('tariff==\"smart\"')"
   ]
  },
  {
   "cell_type": "code",
   "execution_count": 69,
   "metadata": {},
   "outputs": [],
   "source": [
    "ultra_users = df.query('tariff==\"ultra\"')"
   ]
  },
  {
   "cell_type": "markdown",
   "metadata": {},
   "source": [
    "### Вывод"
   ]
  },
  {
   "cell_type": "markdown",
   "metadata": {},
   "source": [
    "Данные обработаны, созданы две новых таблицы, добавлена необходимая информация, можно приступать к анализу."
   ]
  },
  {
   "cell_type": "markdown",
   "metadata": {},
   "source": [
    "## Анализ данных"
   ]
  },
  {
   "cell_type": "markdown",
   "metadata": {},
   "source": [
    "Импортируем библиотеку для построения диаграмм:"
   ]
  },
  {
   "cell_type": "code",
   "execution_count": 70,
   "metadata": {},
   "outputs": [],
   "source": [
    "import matplotlib.pyplot as plt"
   ]
  },
  {
   "cell_type": "markdown",
   "metadata": {},
   "source": [
    "Сделаем сводную таблицу по тарифам, чтобы посмотреть среднее, медиану, дисперсию и стандартное отклонение для прибыли:"
   ]
  },
  {
   "cell_type": "code",
   "execution_count": 71,
   "metadata": {},
   "outputs": [
    {
     "data": {
      "text/html": [
       "<div>\n",
       "<style scoped>\n",
       "    .dataframe tbody tr th:only-of-type {\n",
       "        vertical-align: middle;\n",
       "    }\n",
       "\n",
       "    .dataframe tbody tr th {\n",
       "        vertical-align: top;\n",
       "    }\n",
       "\n",
       "    .dataframe thead tr th {\n",
       "        text-align: left;\n",
       "    }\n",
       "\n",
       "    .dataframe thead tr:last-of-type th {\n",
       "        text-align: right;\n",
       "    }\n",
       "</style>\n",
       "<table border=\"1\" class=\"dataframe\">\n",
       "  <thead>\n",
       "    <tr>\n",
       "      <th></th>\n",
       "      <th colspan=\"4\" halign=\"left\">month_revenue</th>\n",
       "    </tr>\n",
       "    <tr>\n",
       "      <th></th>\n",
       "      <th>median</th>\n",
       "      <th>mean</th>\n",
       "      <th>var</th>\n",
       "      <th>std</th>\n",
       "    </tr>\n",
       "    <tr>\n",
       "      <th>tariff</th>\n",
       "      <th></th>\n",
       "      <th></th>\n",
       "      <th></th>\n",
       "      <th></th>\n",
       "    </tr>\n",
       "  </thead>\n",
       "  <tbody>\n",
       "    <tr>\n",
       "      <th>smart</th>\n",
       "      <td>1021</td>\n",
       "      <td>1289.641704</td>\n",
       "      <td>669730.763895</td>\n",
       "      <td>818.370799</td>\n",
       "    </tr>\n",
       "    <tr>\n",
       "      <th>ultra</th>\n",
       "      <td>1950</td>\n",
       "      <td>2070.030426</td>\n",
       "      <td>141387.714809</td>\n",
       "      <td>376.015578</td>\n",
       "    </tr>\n",
       "  </tbody>\n",
       "</table>\n",
       "</div>"
      ],
      "text/plain": [
       "       month_revenue                                        \n",
       "              median         mean            var         std\n",
       "tariff                                                      \n",
       "smart           1021  1289.641704  669730.763895  818.370799\n",
       "ultra           1950  2070.030426  141387.714809  376.015578"
      ]
     },
     "execution_count": 71,
     "metadata": {},
     "output_type": "execute_result"
    }
   ],
   "source": [
    "df.groupby('tariff').agg({'month_revenue':['median','mean','var','std']})"
   ]
  },
  {
   "cell_type": "markdown",
   "metadata": {},
   "source": [
    "Построим диаграммы для каждого тарифа:"
   ]
  },
  {
   "cell_type": "code",
   "execution_count": 72,
   "metadata": {},
   "outputs": [
    {
     "data": {
      "image/png": "[encoded data removed]",
      "text/plain": [
       "<Figure size 576x360 with 1 Axes>"
      ]
     },
     "metadata": {
      "needs_background": "light"
     },
     "output_type": "display_data"
    }
   ],
   "source": [
    "smart_users['month_revenue'].hist(bins = 30, figsize=(8,5))\n",
    "plt.xlabel('Прибыль по тарифу Smart', size=14)\n",
    "plt.show()"
   ]
  },
  {
   "cell_type": "code",
   "execution_count": 73,
   "metadata": {},
   "outputs": [
    {
     "data": {
      "image/png": "[encoded data removed]",
      "text/plain": [
       "<Figure size 576x360 with 1 Axes>"
      ]
     },
     "metadata": {
      "needs_background": "light"
     },
     "output_type": "display_data"
    }
   ],
   "source": [
    "ultra_users['month_revenue'].hist(bins = 30, figsize=(8,5))\n",
    "plt.xlabel('Прибыль по тарифу Ultra', size=14)\n",
    "plt.show()"
   ]
  },
  {
   "cell_type": "markdown",
   "metadata": {},
   "source": [
    "Мы видим, что абоненты тарифа smart чаще выходят за рамки тарифа. Вероятно, не хватает пакета инернета или звонков.\n",
    "\n",
    "Посмотрим, как обстоят дела со звонками:"
   ]
  },
  {
   "cell_type": "code",
   "execution_count": 74,
   "metadata": {},
   "outputs": [
    {
     "data": {
      "text/html": [
       "<div>\n",
       "<style scoped>\n",
       "    .dataframe tbody tr th:only-of-type {\n",
       "        vertical-align: middle;\n",
       "    }\n",
       "\n",
       "    .dataframe tbody tr th {\n",
       "        vertical-align: top;\n",
       "    }\n",
       "\n",
       "    .dataframe thead tr th {\n",
       "        text-align: left;\n",
       "    }\n",
       "\n",
       "    .dataframe thead tr:last-of-type th {\n",
       "        text-align: right;\n",
       "    }\n",
       "</style>\n",
       "<table border=\"1\" class=\"dataframe\">\n",
       "  <thead>\n",
       "    <tr>\n",
       "      <th></th>\n",
       "      <th colspan=\"4\" halign=\"left\">month_duration</th>\n",
       "    </tr>\n",
       "    <tr>\n",
       "      <th></th>\n",
       "      <th>median</th>\n",
       "      <th>mean</th>\n",
       "      <th>var</th>\n",
       "      <th>std</th>\n",
       "    </tr>\n",
       "    <tr>\n",
       "      <th>tariff</th>\n",
       "      <th></th>\n",
       "      <th></th>\n",
       "      <th></th>\n",
       "      <th></th>\n",
       "    </tr>\n",
       "  </thead>\n",
       "  <tbody>\n",
       "    <tr>\n",
       "      <th>smart</th>\n",
       "      <td>421.5</td>\n",
       "      <td>417.747534</td>\n",
       "      <td>36281.393836</td>\n",
       "      <td>190.476754</td>\n",
       "    </tr>\n",
       "    <tr>\n",
       "      <th>ultra</th>\n",
       "      <td>518.0</td>\n",
       "      <td>526.089249</td>\n",
       "      <td>101052.493549</td>\n",
       "      <td>317.887549</td>\n",
       "    </tr>\n",
       "  </tbody>\n",
       "</table>\n",
       "</div>"
      ],
      "text/plain": [
       "       month_duration                                       \n",
       "               median        mean            var         std\n",
       "tariff                                                      \n",
       "smart           421.5  417.747534   36281.393836  190.476754\n",
       "ultra           518.0  526.089249  101052.493549  317.887549"
      ]
     },
     "execution_count": 74,
     "metadata": {},
     "output_type": "execute_result"
    }
   ],
   "source": [
    "df.groupby('tariff').agg({'month_duration':['median','mean','var','std']})"
   ]
  },
  {
   "cell_type": "code",
   "execution_count": 75,
   "metadata": {},
   "outputs": [
    {
     "data": {
      "image/png": "[encoded data removed]",
      "text/plain": [
       "<Figure size 576x360 with 1 Axes>"
      ]
     },
     "metadata": {
      "needs_background": "light"
     },
     "output_type": "display_data"
    }
   ],
   "source": [
    "smart_users['month_duration'].hist(bins = 20, figsize=(8,5))\n",
    "plt.title('Тариф Smart')\n",
    "plt.ylabel ('Количество абонентов', size=14)\n",
    "plt.xlabel('Количество минут', size=14)\n",
    "plt.show()"
   ]
  },
  {
   "cell_type": "code",
   "execution_count": 76,
   "metadata": {},
   "outputs": [
    {
     "data": {
      "image/png": "[encoded data removed]",
      "text/plain": [
       "<Figure size 576x360 with 1 Axes>"
      ]
     },
     "metadata": {
      "needs_background": "light"
     },
     "output_type": "display_data"
    }
   ],
   "source": [
    "ultra_users['month_duration'].hist(bins = 20, figsize=(8,5))\n",
    "plt.title('Тариф Ultra')\n",
    "plt.ylabel ('Количество абонентов', size=14)\n",
    "plt.xlabel('Количество минут', size=14)\n",
    "plt.show()"
   ]
  },
  {
   "cell_type": "markdown",
   "metadata": {},
   "source": [
    "Пользователи более дешевого тарифа билже подходят к лимиту по звонкам. У пользователей тарифа ultra остается еще большой запас.\n",
    "\n",
    "Посмотрим на выбросы тарифа smart:"
   ]
  },
  {
   "cell_type": "code",
   "execution_count": 77,
   "metadata": {},
   "outputs": [
    {
     "data": {
      "image/png": "[encoded data removed]",
      "text/plain": [
       "<Figure size 360x576 with 1 Axes>"
      ]
     },
     "metadata": {
      "needs_background": "light"
     },
     "output_type": "display_data"
    }
   ],
   "source": [
    "smart_users.boxplot(column = 'month_duration', figsize=(5,8))\n",
    "plt.ylabel('Количество минут', size=14)\n",
    "plt.show()"
   ]
  },
  {
   "cell_type": "markdown",
   "metadata": {},
   "source": [
    "Выбросы есть, их не так много. Отфильтруем все значения, которые можно считать выбросами (среднее + 3 сигмы):"
   ]
  },
  {
   "cell_type": "code",
   "execution_count": 78,
   "metadata": {},
   "outputs": [
    {
     "data": {
      "text/html": [
       "<div>\n",
       "<style scoped>\n",
       "    .dataframe tbody tr th:only-of-type {\n",
       "        vertical-align: middle;\n",
       "    }\n",
       "\n",
       "    .dataframe tbody tr th {\n",
       "        vertical-align: top;\n",
       "    }\n",
       "\n",
       "    .dataframe thead th {\n",
       "        text-align: right;\n",
       "    }\n",
       "</style>\n",
       "<table border=\"1\" class=\"dataframe\">\n",
       "  <thead>\n",
       "    <tr style=\"text-align: right;\">\n",
       "      <th></th>\n",
       "      <th>user_id</th>\n",
       "      <th>age</th>\n",
       "      <th>churn_date</th>\n",
       "      <th>city</th>\n",
       "      <th>first_name</th>\n",
       "      <th>last_name</th>\n",
       "      <th>reg_date</th>\n",
       "      <th>tariff</th>\n",
       "      <th>month</th>\n",
       "      <th>month_duration</th>\n",
       "      <th>...</th>\n",
       "      <th>month_messages</th>\n",
       "      <th>total_gb_used</th>\n",
       "      <th>messages_included</th>\n",
       "      <th>gb_per_month_included</th>\n",
       "      <th>minutes_included</th>\n",
       "      <th>rub_monthly_fee</th>\n",
       "      <th>rub_per_gb</th>\n",
       "      <th>rub_per_message</th>\n",
       "      <th>rub_per_minute</th>\n",
       "      <th>month_revenue</th>\n",
       "    </tr>\n",
       "  </thead>\n",
       "  <tbody>\n",
       "    <tr>\n",
       "      <th>1096</th>\n",
       "      <td>1173</td>\n",
       "      <td>46</td>\n",
       "      <td>NaT</td>\n",
       "      <td>Красноярск</td>\n",
       "      <td>Агафья</td>\n",
       "      <td>Григорьева</td>\n",
       "      <td>2018-06-21</td>\n",
       "      <td>smart</td>\n",
       "      <td>8</td>\n",
       "      <td>1000</td>\n",
       "      <td>...</td>\n",
       "      <td>13</td>\n",
       "      <td>16</td>\n",
       "      <td>50</td>\n",
       "      <td>15</td>\n",
       "      <td>500</td>\n",
       "      <td>550</td>\n",
       "      <td>200</td>\n",
       "      <td>3</td>\n",
       "      <td>3</td>\n",
       "      <td>2250</td>\n",
       "    </tr>\n",
       "    <tr>\n",
       "      <th>1377</th>\n",
       "      <td>1216</td>\n",
       "      <td>74</td>\n",
       "      <td>NaT</td>\n",
       "      <td>Волгоград</td>\n",
       "      <td>Рустам</td>\n",
       "      <td>Малинин</td>\n",
       "      <td>2018-11-23</td>\n",
       "      <td>smart</td>\n",
       "      <td>12</td>\n",
       "      <td>1435</td>\n",
       "      <td>...</td>\n",
       "      <td>64</td>\n",
       "      <td>20</td>\n",
       "      <td>50</td>\n",
       "      <td>15</td>\n",
       "      <td>500</td>\n",
       "      <td>550</td>\n",
       "      <td>200</td>\n",
       "      <td>3</td>\n",
       "      <td>3</td>\n",
       "      <td>4397</td>\n",
       "    </tr>\n",
       "    <tr>\n",
       "      <th>1470</th>\n",
       "      <td>1229</td>\n",
       "      <td>24</td>\n",
       "      <td>NaT</td>\n",
       "      <td>Москва</td>\n",
       "      <td>Нелли</td>\n",
       "      <td>Зубкова</td>\n",
       "      <td>2018-10-29</td>\n",
       "      <td>smart</td>\n",
       "      <td>12</td>\n",
       "      <td>1022</td>\n",
       "      <td>...</td>\n",
       "      <td>6</td>\n",
       "      <td>25</td>\n",
       "      <td>50</td>\n",
       "      <td>15</td>\n",
       "      <td>500</td>\n",
       "      <td>550</td>\n",
       "      <td>200</td>\n",
       "      <td>3</td>\n",
       "      <td>3</td>\n",
       "      <td>4116</td>\n",
       "    </tr>\n",
       "    <tr>\n",
       "      <th>1648</th>\n",
       "      <td>1261</td>\n",
       "      <td>46</td>\n",
       "      <td>NaT</td>\n",
       "      <td>Казань</td>\n",
       "      <td>Мадина</td>\n",
       "      <td>Пантелеева</td>\n",
       "      <td>2018-10-30</td>\n",
       "      <td>smart</td>\n",
       "      <td>12</td>\n",
       "      <td>1074</td>\n",
       "      <td>...</td>\n",
       "      <td>22</td>\n",
       "      <td>32</td>\n",
       "      <td>50</td>\n",
       "      <td>15</td>\n",
       "      <td>500</td>\n",
       "      <td>550</td>\n",
       "      <td>200</td>\n",
       "      <td>3</td>\n",
       "      <td>3</td>\n",
       "      <td>5672</td>\n",
       "    </tr>\n",
       "    <tr>\n",
       "      <th>2024</th>\n",
       "      <td>1319</td>\n",
       "      <td>70</td>\n",
       "      <td>NaT</td>\n",
       "      <td>Санкт-Петербург</td>\n",
       "      <td>Харитон</td>\n",
       "      <td>Парфенов</td>\n",
       "      <td>2018-08-24</td>\n",
       "      <td>smart</td>\n",
       "      <td>10</td>\n",
       "      <td>1005</td>\n",
       "      <td>...</td>\n",
       "      <td>48</td>\n",
       "      <td>18</td>\n",
       "      <td>50</td>\n",
       "      <td>15</td>\n",
       "      <td>500</td>\n",
       "      <td>550</td>\n",
       "      <td>200</td>\n",
       "      <td>3</td>\n",
       "      <td>3</td>\n",
       "      <td>2665</td>\n",
       "    </tr>\n",
       "    <tr>\n",
       "      <th>2886</th>\n",
       "      <td>1451</td>\n",
       "      <td>58</td>\n",
       "      <td>NaT</td>\n",
       "      <td>Набережные Челны</td>\n",
       "      <td>Виктория</td>\n",
       "      <td>Завьялова</td>\n",
       "      <td>2018-08-27</td>\n",
       "      <td>smart</td>\n",
       "      <td>12</td>\n",
       "      <td>1144</td>\n",
       "      <td>...</td>\n",
       "      <td>50</td>\n",
       "      <td>17</td>\n",
       "      <td>50</td>\n",
       "      <td>15</td>\n",
       "      <td>500</td>\n",
       "      <td>550</td>\n",
       "      <td>200</td>\n",
       "      <td>3</td>\n",
       "      <td>3</td>\n",
       "      <td>2882</td>\n",
       "    </tr>\n",
       "    <tr>\n",
       "      <th>3143</th>\n",
       "      <td>1486</td>\n",
       "      <td>35</td>\n",
       "      <td>NaT</td>\n",
       "      <td>Нижний Новгород</td>\n",
       "      <td>Матвей</td>\n",
       "      <td>Моргунов</td>\n",
       "      <td>2018-10-31</td>\n",
       "      <td>smart</td>\n",
       "      <td>12</td>\n",
       "      <td>1007</td>\n",
       "      <td>...</td>\n",
       "      <td>83</td>\n",
       "      <td>38</td>\n",
       "      <td>50</td>\n",
       "      <td>15</td>\n",
       "      <td>500</td>\n",
       "      <td>550</td>\n",
       "      <td>200</td>\n",
       "      <td>3</td>\n",
       "      <td>3</td>\n",
       "      <td>6770</td>\n",
       "    </tr>\n",
       "  </tbody>\n",
       "</table>\n",
       "<p>7 rows × 21 columns</p>\n",
       "</div>"
      ],
      "text/plain": [
       "      user_id  age churn_date              city first_name   last_name  \\\n",
       "1096     1173   46        NaT        Красноярск     Агафья  Григорьева   \n",
       "1377     1216   74        NaT         Волгоград     Рустам     Малинин   \n",
       "1470     1229   24        NaT            Москва      Нелли     Зубкова   \n",
       "1648     1261   46        NaT            Казань     Мадина  Пантелеева   \n",
       "2024     1319   70        NaT   Санкт-Петербург    Харитон    Парфенов   \n",
       "2886     1451   58        NaT  Набережные Челны   Виктория   Завьялова   \n",
       "3143     1486   35        NaT   Нижний Новгород     Матвей    Моргунов   \n",
       "\n",
       "       reg_date tariff  month  month_duration  ...  month_messages  \\\n",
       "1096 2018-06-21  smart      8            1000  ...              13   \n",
       "1377 2018-11-23  smart     12            1435  ...              64   \n",
       "1470 2018-10-29  smart     12            1022  ...               6   \n",
       "1648 2018-10-30  smart     12            1074  ...              22   \n",
       "2024 2018-08-24  smart     10            1005  ...              48   \n",
       "2886 2018-08-27  smart     12            1144  ...              50   \n",
       "3143 2018-10-31  smart     12            1007  ...              83   \n",
       "\n",
       "      total_gb_used  messages_included  gb_per_month_included  \\\n",
       "1096             16                 50                     15   \n",
       "1377             20                 50                     15   \n",
       "1470             25                 50                     15   \n",
       "1648             32                 50                     15   \n",
       "2024             18                 50                     15   \n",
       "2886             17                 50                     15   \n",
       "3143             38                 50                     15   \n",
       "\n",
       "      minutes_included  rub_monthly_fee  rub_per_gb  rub_per_message  \\\n",
       "1096               500              550         200                3   \n",
       "1377               500              550         200                3   \n",
       "1470               500              550         200                3   \n",
       "1648               500              550         200                3   \n",
       "2024               500              550         200                3   \n",
       "2886               500              550         200                3   \n",
       "3143               500              550         200                3   \n",
       "\n",
       "      rub_per_minute  month_revenue  \n",
       "1096               3           2250  \n",
       "1377               3           4397  \n",
       "1470               3           4116  \n",
       "1648               3           5672  \n",
       "2024               3           2665  \n",
       "2886               3           2882  \n",
       "3143               3           6770  \n",
       "\n",
       "[7 rows x 21 columns]"
      ]
     },
     "execution_count": 78,
     "metadata": {},
     "output_type": "execute_result"
    }
   ],
   "source": [
    "smart_users.query('month_duration>997')"
   ]
  },
  {
   "cell_type": "markdown",
   "metadata": {},
   "source": [
    "Всего семь значений, можно пренебречь."
   ]
  },
  {
   "cell_type": "code",
   "execution_count": 79,
   "metadata": {},
   "outputs": [],
   "source": [
    "smart_users = smart_users.query('month_duration<997')"
   ]
  },
  {
   "cell_type": "markdown",
   "metadata": {},
   "source": [
    "Посмотрим на выбросы тарифа ultra:"
   ]
  },
  {
   "cell_type": "code",
   "execution_count": 80,
   "metadata": {},
   "outputs": [
    {
     "data": {
      "image/png": "[encoded data removed]",
      "text/plain": [
       "<Figure size 360x576 with 1 Axes>"
      ]
     },
     "metadata": {
      "needs_background": "light"
     },
     "output_type": "display_data"
    }
   ],
   "source": [
    "ultra_users.boxplot(column = 'month_duration', figsize=(5,8))\n",
    "plt.ylabel('Количество минут', size=14)\n",
    "plt.show()"
   ]
  },
  {
   "cell_type": "markdown",
   "metadata": {},
   "source": [
    "Тут все еще проще. Также отфильтруем выбросы:"
   ]
  },
  {
   "cell_type": "code",
   "execution_count": 81,
   "metadata": {},
   "outputs": [],
   "source": [
    "ultra_users = ultra_users.query('month_duration<1477')"
   ]
  },
  {
   "cell_type": "markdown",
   "metadata": {},
   "source": [
    "Переходим к сообщениям:"
   ]
  },
  {
   "cell_type": "code",
   "execution_count": 82,
   "metadata": {},
   "outputs": [
    {
     "data": {
      "text/html": [
       "<div>\n",
       "<style scoped>\n",
       "    .dataframe tbody tr th:only-of-type {\n",
       "        vertical-align: middle;\n",
       "    }\n",
       "\n",
       "    .dataframe tbody tr th {\n",
       "        vertical-align: top;\n",
       "    }\n",
       "\n",
       "    .dataframe thead tr th {\n",
       "        text-align: left;\n",
       "    }\n",
       "\n",
       "    .dataframe thead tr:last-of-type th {\n",
       "        text-align: right;\n",
       "    }\n",
       "</style>\n",
       "<table border=\"1\" class=\"dataframe\">\n",
       "  <thead>\n",
       "    <tr>\n",
       "      <th></th>\n",
       "      <th colspan=\"4\" halign=\"left\">month_messages</th>\n",
       "    </tr>\n",
       "    <tr>\n",
       "      <th></th>\n",
       "      <th>median</th>\n",
       "      <th>mean</th>\n",
       "      <th>var</th>\n",
       "      <th>std</th>\n",
       "    </tr>\n",
       "    <tr>\n",
       "      <th>tariff</th>\n",
       "      <th></th>\n",
       "      <th></th>\n",
       "      <th></th>\n",
       "      <th></th>\n",
       "    </tr>\n",
       "  </thead>\n",
       "  <tbody>\n",
       "    <tr>\n",
       "      <th>smart</th>\n",
       "      <td>28</td>\n",
       "      <td>33.369058</td>\n",
       "      <td>796.955256</td>\n",
       "      <td>28.230396</td>\n",
       "    </tr>\n",
       "    <tr>\n",
       "      <th>ultra</th>\n",
       "      <td>38</td>\n",
       "      <td>49.313387</td>\n",
       "      <td>2285.417425</td>\n",
       "      <td>47.806040</td>\n",
       "    </tr>\n",
       "  </tbody>\n",
       "</table>\n",
       "</div>"
      ],
      "text/plain": [
       "       month_messages                                   \n",
       "               median       mean          var        std\n",
       "tariff                                                  \n",
       "smart              28  33.369058   796.955256  28.230396\n",
       "ultra              38  49.313387  2285.417425  47.806040"
      ]
     },
     "execution_count": 82,
     "metadata": {},
     "output_type": "execute_result"
    }
   ],
   "source": [
    "df.groupby('tariff').agg({'month_messages':['median','mean','var','std']})"
   ]
  },
  {
   "cell_type": "code",
   "execution_count": 83,
   "metadata": {},
   "outputs": [
    {
     "data": {
      "image/png": "[encoded data removed]",
      "text/plain": [
       "<Figure size 576x360 with 1 Axes>"
      ]
     },
     "metadata": {
      "needs_background": "light"
     },
     "output_type": "display_data"
    }
   ],
   "source": [
    "smart_users['month_messages'].hist(bins = 10, figsize=(8,5))\n",
    "plt.ylabel ('Количество абонентов', size=14)\n",
    "plt.xlabel('Количество сообщений', size=14)\n",
    "plt.show()"
   ]
  },
  {
   "cell_type": "code",
   "execution_count": 84,
   "metadata": {},
   "outputs": [
    {
     "data": {
      "image/png": "[encoded data removed]",
      "text/plain": [
       "<Figure size 576x360 with 1 Axes>"
      ]
     },
     "metadata": {
      "needs_background": "light"
     },
     "output_type": "display_data"
    }
   ],
   "source": [
    "ultra_users['month_messages'].hist(bins = 10, figsize=(8,5))\n",
    "plt.ylabel ('Количество абонентов', size=14)\n",
    "plt.xlabel('Количество сообщений', size=14)\n",
    "plt.show()"
   ]
  },
  {
   "cell_type": "markdown",
   "metadata": {},
   "source": [
    "Диаграммы очень похожи - основная часть абонентов редко пользуется сообщениями.\n",
    "\n",
    "Конечно, есть и исключения, сейчас мы на них посмотрим:"
   ]
  },
  {
   "cell_type": "code",
   "execution_count": 85,
   "metadata": {},
   "outputs": [
    {
     "data": {
      "image/png": "[encoded data removed]",
      "text/plain": [
       "<Figure size 360x576 with 1 Axes>"
      ]
     },
     "metadata": {
      "needs_background": "light"
     },
     "output_type": "display_data"
    }
   ],
   "source": [
    "smart_users.boxplot(column = 'month_messages', figsize=(5,8))\n",
    "plt.ylabel('Количество сообщений', size=14)\n",
    "plt.show()"
   ]
  },
  {
   "cell_type": "markdown",
   "metadata": {},
   "source": [
    "И отфильтруем лишнее:"
   ]
  },
  {
   "cell_type": "code",
   "execution_count": 86,
   "metadata": {},
   "outputs": [],
   "source": [
    "smart_users = smart_users.query('month_messages<115')"
   ]
  },
  {
   "cell_type": "markdown",
   "metadata": {},
   "source": [
    "То же самое сделаем для тарифа ultra:"
   ]
  },
  {
   "cell_type": "code",
   "execution_count": 87,
   "metadata": {},
   "outputs": [
    {
     "data": {
      "image/png": "[encoded data removed]",
      "text/plain": [
       "<Figure size 360x576 with 1 Axes>"
      ]
     },
     "metadata": {
      "needs_background": "light"
     },
     "output_type": "display_data"
    }
   ],
   "source": [
    "ultra_users.boxplot(column = 'month_messages', figsize=(5,8))\n",
    "plt.ylabel('Количество сообщений', size=14)\n",
    "plt.show()"
   ]
  },
  {
   "cell_type": "code",
   "execution_count": 88,
   "metadata": {},
   "outputs": [],
   "source": [
    "ultra_users = ultra_users.query('month_messages<170')"
   ]
  },
  {
   "cell_type": "markdown",
   "metadata": {},
   "source": [
    "Переходим к потреблению интернета:"
   ]
  },
  {
   "cell_type": "code",
   "execution_count": 89,
   "metadata": {},
   "outputs": [
    {
     "data": {
      "text/html": [
       "<div>\n",
       "<style scoped>\n",
       "    .dataframe tbody tr th:only-of-type {\n",
       "        vertical-align: middle;\n",
       "    }\n",
       "\n",
       "    .dataframe tbody tr th {\n",
       "        vertical-align: top;\n",
       "    }\n",
       "\n",
       "    .dataframe thead tr th {\n",
       "        text-align: left;\n",
       "    }\n",
       "\n",
       "    .dataframe thead tr:last-of-type th {\n",
       "        text-align: right;\n",
       "    }\n",
       "</style>\n",
       "<table border=\"1\" class=\"dataframe\">\n",
       "  <thead>\n",
       "    <tr>\n",
       "      <th></th>\n",
       "      <th colspan=\"4\" halign=\"left\">total_gb_used</th>\n",
       "    </tr>\n",
       "    <tr>\n",
       "      <th></th>\n",
       "      <th>median</th>\n",
       "      <th>mean</th>\n",
       "      <th>var</th>\n",
       "      <th>std</th>\n",
       "    </tr>\n",
       "    <tr>\n",
       "      <th>tariff</th>\n",
       "      <th></th>\n",
       "      <th></th>\n",
       "      <th></th>\n",
       "      <th></th>\n",
       "    </tr>\n",
       "  </thead>\n",
       "  <tbody>\n",
       "    <tr>\n",
       "      <th>smart</th>\n",
       "      <td>17</td>\n",
       "      <td>16.321525</td>\n",
       "      <td>33.133453</td>\n",
       "      <td>5.756167</td>\n",
       "    </tr>\n",
       "    <tr>\n",
       "      <th>ultra</th>\n",
       "      <td>19</td>\n",
       "      <td>19.474645</td>\n",
       "      <td>97.378544</td>\n",
       "      <td>9.868057</td>\n",
       "    </tr>\n",
       "  </tbody>\n",
       "</table>\n",
       "</div>"
      ],
      "text/plain": [
       "       total_gb_used                                \n",
       "              median       mean        var       std\n",
       "tariff                                              \n",
       "smart             17  16.321525  33.133453  5.756167\n",
       "ultra             19  19.474645  97.378544  9.868057"
      ]
     },
     "execution_count": 89,
     "metadata": {},
     "output_type": "execute_result"
    }
   ],
   "source": [
    "df.groupby('tariff').agg({'total_gb_used':['median','mean','var','std']})"
   ]
  },
  {
   "cell_type": "code",
   "execution_count": 90,
   "metadata": {},
   "outputs": [
    {
     "data": {
      "image/png": "[encoded data removed]",
      "text/plain": [
       "<Figure size 576x360 with 1 Axes>"
      ]
     },
     "metadata": {
      "needs_background": "light"
     },
     "output_type": "display_data"
    }
   ],
   "source": [
    "smart_users['total_gb_used'].hist(bins = 20, figsize=(8,5))\n",
    "plt.ylabel ('Количество абонентов', size=14)\n",
    "plt.xlabel('Количество гб', size=14)\n",
    "plt.show()"
   ]
  },
  {
   "cell_type": "code",
   "execution_count": 91,
   "metadata": {},
   "outputs": [
    {
     "data": {
      "image/png": "[encoded data removed]",
      "text/plain": [
       "<Figure size 576x360 with 1 Axes>"
      ]
     },
     "metadata": {
      "needs_background": "light"
     },
     "output_type": "display_data"
    }
   ],
   "source": [
    "ultra_users['total_gb_used'].hist(bins = 20, figsize=(8,5))\n",
    "plt.ylabel ('Количество абонентов', size=14)\n",
    "plt.xlabel('Количество гб', size=14)\n",
    "plt.show()"
   ]
  },
  {
   "cell_type": "markdown",
   "metadata": {},
   "source": [
    "Пользователи тарифа smart гораздо чаще выходят за установленные лимиты. \n",
    "\n",
    "Смотрим на выбросы и фильтруем. Для тарифа ultra оставляем все как есть, в три сигмы укладываются все значения."
   ]
  },
  {
   "cell_type": "code",
   "execution_count": 92,
   "metadata": {},
   "outputs": [
    {
     "data": {
      "image/png": "[encoded data removed]",
      "text/plain": [
       "<Figure size 360x576 with 1 Axes>"
      ]
     },
     "metadata": {
      "needs_background": "light"
     },
     "output_type": "display_data"
    }
   ],
   "source": [
    "smart_users.boxplot(column = 'total_gb_used', figsize=(5,8))\n",
    "plt.ylabel('Количество гб', size=14)\n",
    "plt.show()"
   ]
  },
  {
   "cell_type": "code",
   "execution_count": 93,
   "metadata": {},
   "outputs": [],
   "source": [
    "smart_users = smart_users.query('total_gb_used<32')"
   ]
  },
  {
   "cell_type": "code",
   "execution_count": 94,
   "metadata": {},
   "outputs": [
    {
     "data": {
      "image/png": "[encoded data removed]",
      "text/plain": [
       "<Figure size 360x576 with 1 Axes>"
      ]
     },
     "metadata": {
      "needs_background": "light"
     },
     "output_type": "display_data"
    }
   ],
   "source": [
    "ultra_users.boxplot(column = 'total_gb_used', figsize=(5,8))\n",
    "plt.ylabel('Количество гб', size=14)\n",
    "plt.show()\n"
   ]
  },
  {
   "cell_type": "markdown",
   "metadata": {},
   "source": [
    "### Вывод"
   ]
  },
  {
   "cell_type": "markdown",
   "metadata": {},
   "source": [
    "Пользователи тарифа smart чаще выходят за пределы тарифа, особенно в потреблении интернета. Наименьшим спросом пользуются сообщения - сказывается засилье соцсетей."
   ]
  },
  {
   "cell_type": "markdown",
   "metadata": {},
   "source": [
    "## Проверка гипотез"
   ]
  },
  {
   "cell_type": "markdown",
   "metadata": {},
   "source": [
    "Сформулируем гипотезы для проверки:"
   ]
  },
  {
   "cell_type": "markdown",
   "metadata": {},
   "source": [
    "H₀ - средняя выручка пользователей тарифов «Ультра» и «Смарт» не равны;\n",
    "\n",
    "H₁ - средняя выручка пользователей тарифов «Ультра» и «Смарт» равны"
   ]
  },
  {
   "cell_type": "markdown",
   "metadata": {},
   "source": [
    "Импортируем нужную библиотеку и зададим две независимые выборки по таблицам с тарифами:"
   ]
  },
  {
   "cell_type": "code",
   "execution_count": 95,
   "metadata": {},
   "outputs": [],
   "source": [
    "from scipy import stats as st"
   ]
  },
  {
   "cell_type": "code",
   "execution_count": 96,
   "metadata": {},
   "outputs": [],
   "source": [
    "smart = smart_users['month_revenue']"
   ]
  },
  {
   "cell_type": "code",
   "execution_count": 97,
   "metadata": {},
   "outputs": [],
   "source": [
    "ultra = ultra_users['month_revenue']"
   ]
  },
  {
   "cell_type": "code",
   "execution_count": 98,
   "metadata": {},
   "outputs": [],
   "source": [
    "alpha = 0.05  # пороговое значение стандартное"
   ]
  },
  {
   "cell_type": "code",
   "execution_count": 99,
   "metadata": {},
   "outputs": [],
   "source": [
    "results = st.ttest_ind (smart, ultra)"
   ]
  },
  {
   "cell_type": "code",
   "execution_count": 100,
   "metadata": {},
   "outputs": [
    {
     "name": "stdout",
     "output_type": "stream",
     "text": [
      "p-значение:  8.249342415867903e-188\n"
     ]
    }
   ],
   "source": [
    "print('p-значение: ', results.pvalue)"
   ]
  },
  {
   "cell_type": "code",
   "execution_count": 101,
   "metadata": {},
   "outputs": [
    {
     "name": "stdout",
     "output_type": "stream",
     "text": [
      "Отвергаем нулевую гипотезу\n"
     ]
    }
   ],
   "source": [
    "if results.pvalue < alpha:\n",
    "    print(\"Отвергаем нулевую гипотезу\")\n",
    "else:\n",
    "    print(\"Не получилось отвергнуть нулевую гипотезу\") "
   ]
  },
  {
   "cell_type": "code",
   "execution_count": 102,
   "metadata": {},
   "outputs": [
    {
     "name": "stdout",
     "output_type": "stream",
     "text": [
      "\n",
      "Средняя выручка абонента тарифа smart в месяц - 1259.682417083144\n",
      "Средняя выручка абонента тарифа ultra в месяц - 2064.293139293139\n"
     ]
    }
   ],
   "source": [
    "print()    \n",
    "print('Средняя выручка абонента тарифа smart в месяц -', smart_users['month_revenue'].mean())\n",
    "print('Средняя выручка абонента тарифа ultra в месяц -', ultra_users['month_revenue'].mean())"
   ]
  },
  {
   "cell_type": "markdown",
   "metadata": {},
   "source": [
    "Нулевую гипотезу пришлось отвергнуть - средняя выручка абонентов действительно не равна в зависимости от тарифа."
   ]
  },
  {
   "cell_type": "markdown",
   "metadata": {},
   "source": [
    "Теперь посмотрим, что у нас по регионам. Формулируем гипотезы:"
   ]
  },
  {
   "cell_type": "markdown",
   "metadata": {},
   "source": [
    "H₀ - средняя выручка пользователей из Москвы равна выручке пользователей из других регионов.\n",
    "\n",
    "H₁ - средняя выручка пользователей из Москвы не равна выручке пользователей из других регионов."
   ]
  },
  {
   "cell_type": "code",
   "execution_count": 103,
   "metadata": {},
   "outputs": [
    {
     "data": {
      "text/html": [
       "<div>\n",
       "<style scoped>\n",
       "    .dataframe tbody tr th:only-of-type {\n",
       "        vertical-align: middle;\n",
       "    }\n",
       "\n",
       "    .dataframe tbody tr th {\n",
       "        vertical-align: top;\n",
       "    }\n",
       "\n",
       "    .dataframe thead th {\n",
       "        text-align: right;\n",
       "    }\n",
       "</style>\n",
       "<table border=\"1\" class=\"dataframe\">\n",
       "  <thead>\n",
       "    <tr style=\"text-align: right;\">\n",
       "      <th></th>\n",
       "      <th>user_id</th>\n",
       "      <th>age</th>\n",
       "      <th>churn_date</th>\n",
       "      <th>city</th>\n",
       "      <th>first_name</th>\n",
       "      <th>last_name</th>\n",
       "      <th>reg_date</th>\n",
       "      <th>tariff</th>\n",
       "      <th>month</th>\n",
       "      <th>month_duration</th>\n",
       "      <th>...</th>\n",
       "      <th>month_messages</th>\n",
       "      <th>total_gb_used</th>\n",
       "      <th>messages_included</th>\n",
       "      <th>gb_per_month_included</th>\n",
       "      <th>minutes_included</th>\n",
       "      <th>rub_monthly_fee</th>\n",
       "      <th>rub_per_gb</th>\n",
       "      <th>rub_per_message</th>\n",
       "      <th>rub_per_minute</th>\n",
       "      <th>month_revenue</th>\n",
       "    </tr>\n",
       "  </thead>\n",
       "  <tbody>\n",
       "    <tr>\n",
       "      <th>0</th>\n",
       "      <td>1000</td>\n",
       "      <td>52</td>\n",
       "      <td>NaT</td>\n",
       "      <td>Краснодар</td>\n",
       "      <td>Рафаил</td>\n",
       "      <td>Верещагин</td>\n",
       "      <td>2018-05-25</td>\n",
       "      <td>ultra</td>\n",
       "      <td>5</td>\n",
       "      <td>159</td>\n",
       "      <td>...</td>\n",
       "      <td>22</td>\n",
       "      <td>3</td>\n",
       "      <td>1000</td>\n",
       "      <td>30</td>\n",
       "      <td>3000</td>\n",
       "      <td>1950</td>\n",
       "      <td>150</td>\n",
       "      <td>1</td>\n",
       "      <td>1</td>\n",
       "      <td>1950</td>\n",
       "    </tr>\n",
       "    <tr>\n",
       "      <th>1</th>\n",
       "      <td>1000</td>\n",
       "      <td>52</td>\n",
       "      <td>NaT</td>\n",
       "      <td>Краснодар</td>\n",
       "      <td>Рафаил</td>\n",
       "      <td>Верещагин</td>\n",
       "      <td>2018-05-25</td>\n",
       "      <td>ultra</td>\n",
       "      <td>6</td>\n",
       "      <td>172</td>\n",
       "      <td>...</td>\n",
       "      <td>60</td>\n",
       "      <td>23</td>\n",
       "      <td>1000</td>\n",
       "      <td>30</td>\n",
       "      <td>3000</td>\n",
       "      <td>1950</td>\n",
       "      <td>150</td>\n",
       "      <td>1</td>\n",
       "      <td>1</td>\n",
       "      <td>1950</td>\n",
       "    </tr>\n",
       "    <tr>\n",
       "      <th>2</th>\n",
       "      <td>1000</td>\n",
       "      <td>52</td>\n",
       "      <td>NaT</td>\n",
       "      <td>Краснодар</td>\n",
       "      <td>Рафаил</td>\n",
       "      <td>Верещагин</td>\n",
       "      <td>2018-05-25</td>\n",
       "      <td>ultra</td>\n",
       "      <td>7</td>\n",
       "      <td>340</td>\n",
       "      <td>...</td>\n",
       "      <td>75</td>\n",
       "      <td>14</td>\n",
       "      <td>1000</td>\n",
       "      <td>30</td>\n",
       "      <td>3000</td>\n",
       "      <td>1950</td>\n",
       "      <td>150</td>\n",
       "      <td>1</td>\n",
       "      <td>1</td>\n",
       "      <td>1950</td>\n",
       "    </tr>\n",
       "    <tr>\n",
       "      <th>3</th>\n",
       "      <td>1000</td>\n",
       "      <td>52</td>\n",
       "      <td>NaT</td>\n",
       "      <td>Краснодар</td>\n",
       "      <td>Рафаил</td>\n",
       "      <td>Верещагин</td>\n",
       "      <td>2018-05-25</td>\n",
       "      <td>ultra</td>\n",
       "      <td>8</td>\n",
       "      <td>408</td>\n",
       "      <td>...</td>\n",
       "      <td>81</td>\n",
       "      <td>14</td>\n",
       "      <td>1000</td>\n",
       "      <td>30</td>\n",
       "      <td>3000</td>\n",
       "      <td>1950</td>\n",
       "      <td>150</td>\n",
       "      <td>1</td>\n",
       "      <td>1</td>\n",
       "      <td>1950</td>\n",
       "    </tr>\n",
       "    <tr>\n",
       "      <th>4</th>\n",
       "      <td>1000</td>\n",
       "      <td>52</td>\n",
       "      <td>NaT</td>\n",
       "      <td>Краснодар</td>\n",
       "      <td>Рафаил</td>\n",
       "      <td>Верещагин</td>\n",
       "      <td>2018-05-25</td>\n",
       "      <td>ultra</td>\n",
       "      <td>9</td>\n",
       "      <td>466</td>\n",
       "      <td>...</td>\n",
       "      <td>57</td>\n",
       "      <td>15</td>\n",
       "      <td>1000</td>\n",
       "      <td>30</td>\n",
       "      <td>3000</td>\n",
       "      <td>1950</td>\n",
       "      <td>150</td>\n",
       "      <td>1</td>\n",
       "      <td>1</td>\n",
       "      <td>1950</td>\n",
       "    </tr>\n",
       "  </tbody>\n",
       "</table>\n",
       "<p>5 rows × 21 columns</p>\n",
       "</div>"
      ],
      "text/plain": [
       "   user_id  age churn_date       city first_name  last_name   reg_date tariff  \\\n",
       "0     1000   52        NaT  Краснодар     Рафаил  Верещагин 2018-05-25  ultra   \n",
       "1     1000   52        NaT  Краснодар     Рафаил  Верещагин 2018-05-25  ultra   \n",
       "2     1000   52        NaT  Краснодар     Рафаил  Верещагин 2018-05-25  ultra   \n",
       "3     1000   52        NaT  Краснодар     Рафаил  Верещагин 2018-05-25  ultra   \n",
       "4     1000   52        NaT  Краснодар     Рафаил  Верещагин 2018-05-25  ultra   \n",
       "\n",
       "   month  month_duration  ...  month_messages  total_gb_used  \\\n",
       "0      5             159  ...              22              3   \n",
       "1      6             172  ...              60             23   \n",
       "2      7             340  ...              75             14   \n",
       "3      8             408  ...              81             14   \n",
       "4      9             466  ...              57             15   \n",
       "\n",
       "   messages_included  gb_per_month_included  minutes_included  \\\n",
       "0               1000                     30              3000   \n",
       "1               1000                     30              3000   \n",
       "2               1000                     30              3000   \n",
       "3               1000                     30              3000   \n",
       "4               1000                     30              3000   \n",
       "\n",
       "   rub_monthly_fee  rub_per_gb  rub_per_message  rub_per_minute  month_revenue  \n",
       "0             1950         150                1               1           1950  \n",
       "1             1950         150                1               1           1950  \n",
       "2             1950         150                1               1           1950  \n",
       "3             1950         150                1               1           1950  \n",
       "4             1950         150                1               1           1950  \n",
       "\n",
       "[5 rows x 21 columns]"
      ]
     },
     "execution_count": 103,
     "metadata": {},
     "output_type": "execute_result"
    }
   ],
   "source": [
    "df.head(5)"
   ]
  },
  {
   "cell_type": "code",
   "execution_count": 104,
   "metadata": {},
   "outputs": [],
   "source": [
    "moscow = df[df['city']=='Москва']  # проводим разделение по регионам"
   ]
  },
  {
   "cell_type": "code",
   "execution_count": 105,
   "metadata": {},
   "outputs": [],
   "source": [
    "province = df[df['city']!='Москва']  # проводим разделение по регионам"
   ]
  },
  {
   "cell_type": "code",
   "execution_count": 106,
   "metadata": {},
   "outputs": [],
   "source": [
    "results = st.ttest_ind (moscow['month_revenue'], province['month_revenue'])"
   ]
  },
  {
   "cell_type": "code",
   "execution_count": 107,
   "metadata": {},
   "outputs": [
    {
     "name": "stdout",
     "output_type": "stream",
     "text": [
      "p-значение:  0.5400751614511182\n"
     ]
    }
   ],
   "source": [
    "print('p-значение: ', results.pvalue)"
   ]
  },
  {
   "cell_type": "code",
   "execution_count": 108,
   "metadata": {},
   "outputs": [
    {
     "name": "stdout",
     "output_type": "stream",
     "text": [
      "Не получилось отвергнуть нулевую гипотезу\n"
     ]
    }
   ],
   "source": [
    "if results.pvalue < alpha:\n",
    "    print(\"Отвергаем нулевую гипотезу\")\n",
    "else:\n",
    "    print(\"Не получилось отвергнуть нулевую гипотезу\") "
   ]
  },
  {
   "cell_type": "code",
   "execution_count": 109,
   "metadata": {},
   "outputs": [
    {
     "name": "stdout",
     "output_type": "stream",
     "text": [
      "\n",
      "Средняя выручка абонента из Москвы в месяц - 1546.7135842880523\n",
      "Средняя выручка абонента не из Москвы в месяц - 1524.7251439539348\n"
     ]
    }
   ],
   "source": [
    "print()    \n",
    "print('Средняя выручка абонента из Москвы в месяц -', moscow['month_revenue'].mean())\n",
    "print('Средняя выручка абонента не из Москвы в месяц -', province['month_revenue'].mean())"
   ]
  },
  {
   "cell_type": "markdown",
   "metadata": {},
   "source": [
    "А вот тут все не так очевидно, абоненты по все стране приносят примерно одинаковое количество денег."
   ]
  },
  {
   "cell_type": "markdown",
   "metadata": {},
   "source": [
    "### Выводы"
   ]
  },
  {
   "cell_type": "markdown",
   "metadata": {},
   "source": [
    "Проверили 2 гипотезы:\n",
    "\n",
    "Средняя выручка абонентов тарифов равна - не подтвердилась.\n",
    "\n",
    "Средняя выручка абонентов из Москвы равна выручке абонентов из регионов - подтвердилась."
   ]
  },
  {
   "cell_type": "markdown",
   "metadata": {},
   "source": [
    "## Итоговый вывод"
   ]
  },
  {
   "cell_type": "markdown",
   "metadata": {},
   "source": [
    "В ходе анализа выяснили следующее:\n",
    "\n",
    "- пользователи дешевого тарифа чаще выходят за рамки;\n",
    "- пользователи дешевого тарифа ближе подходят к пороговым значениям;\n",
    "- сообщения одинаково бесполезны в обоих тарифах, хотя есть и исключения;\n",
    "- абоненты более дорогого тарифа приносят больше денег;\n",
    "- средняя выручка по Москве и регионам примерно одинаковая.\n",
    "\n"
   ]
  },
  {
   "cell_type": "markdown",
   "metadata": {},
   "source": [
    "Вероятно, в перспективе стоит сосредоточиться на продвижении более дорогого тарифа."
   ]
  },
  {
   "cell_type": "code",
   "execution_count": null,
   "metadata": {},
   "outputs": [],
   "source": []
  }
 ],
 "metadata": {
  "ExecuteTimeLog": [
   {
    "duration": 151,
    "start_time": "2022-02-20T09:02:14.204Z"
   },
   {
    "duration": 774,
    "start_time": "2022-02-20T09:07:59.427Z"
   },
   {
    "duration": 145,
    "start_time": "2022-02-20T09:08:30.931Z"
   },
   {
    "duration": 593,
    "start_time": "2022-02-20T09:08:35.139Z"
   },
   {
    "duration": 32,
    "start_time": "2022-02-20T09:09:10.419Z"
   },
   {
    "duration": 31,
    "start_time": "2022-02-20T09:09:19.825Z"
   },
   {
    "duration": 23,
    "start_time": "2022-02-20T09:09:29.476Z"
   },
   {
    "duration": 11,
    "start_time": "2022-02-20T09:09:35.214Z"
   },
   {
    "duration": 280,
    "start_time": "2022-02-20T09:10:35.808Z"
   },
   {
    "duration": 18,
    "start_time": "2022-02-20T09:10:45.094Z"
   },
   {
    "duration": 28,
    "start_time": "2022-02-20T09:10:55.310Z"
   },
   {
    "duration": 3,
    "start_time": "2022-02-20T09:12:38.040Z"
   },
   {
    "duration": 120,
    "start_time": "2022-02-20T09:12:57.212Z"
   },
   {
    "duration": 116,
    "start_time": "2022-02-20T09:13:12.729Z"
   },
   {
    "duration": 385,
    "start_time": "2022-02-20T09:13:19.432Z"
   },
   {
    "duration": 30,
    "start_time": "2022-02-20T09:13:24.407Z"
   },
   {
    "duration": 770,
    "start_time": "2022-02-20T09:14:52.108Z"
   },
   {
    "duration": 45,
    "start_time": "2022-02-20T09:14:55.167Z"
   },
   {
    "duration": 4,
    "start_time": "2022-02-20T09:14:56.368Z"
   },
   {
    "duration": 27,
    "start_time": "2022-02-20T09:31:27.507Z"
   },
   {
    "duration": 21,
    "start_time": "2022-02-20T09:31:49.096Z"
   },
   {
    "duration": 515,
    "start_time": "2022-02-20T09:32:19.185Z"
   },
   {
    "duration": 206,
    "start_time": "2022-02-20T09:32:25.252Z"
   },
   {
    "duration": 35,
    "start_time": "2022-02-20T09:32:26.006Z"
   },
   {
    "duration": 108,
    "start_time": "2022-02-20T09:35:07.359Z"
   },
   {
    "duration": 33,
    "start_time": "2022-02-20T09:35:08.692Z"
   },
   {
    "duration": 184,
    "start_time": "2022-02-20T09:36:16.441Z"
   },
   {
    "duration": 37,
    "start_time": "2022-02-20T09:36:23.671Z"
   },
   {
    "duration": 19,
    "start_time": "2022-02-20T09:37:04.243Z"
   },
   {
    "duration": 17,
    "start_time": "2022-02-20T09:37:10.903Z"
   },
   {
    "duration": 14,
    "start_time": "2022-02-20T10:10:24.924Z"
   },
   {
    "duration": 9,
    "start_time": "2022-02-20T10:10:36.459Z"
   },
   {
    "duration": 8,
    "start_time": "2022-02-20T10:10:41.097Z"
   },
   {
    "duration": 1593,
    "start_time": "2022-02-20T10:11:06.576Z"
   },
   {
    "duration": 7,
    "start_time": "2022-02-20T10:11:25.654Z"
   },
   {
    "duration": 9,
    "start_time": "2022-02-20T10:14:39.384Z"
   },
   {
    "duration": 8,
    "start_time": "2022-02-20T10:14:49.284Z"
   },
   {
    "duration": 8,
    "start_time": "2022-02-20T10:15:21.900Z"
   },
   {
    "duration": 7,
    "start_time": "2022-02-20T10:15:34.087Z"
   },
   {
    "duration": 11,
    "start_time": "2022-02-20T10:15:43.761Z"
   },
   {
    "duration": 17,
    "start_time": "2022-02-20T10:16:01.536Z"
   },
   {
    "duration": 9,
    "start_time": "2022-02-20T10:16:02.956Z"
   },
   {
    "duration": 991,
    "start_time": "2022-02-20T10:16:10.782Z"
   },
   {
    "duration": 56,
    "start_time": "2022-02-20T10:16:11.776Z"
   },
   {
    "duration": 3,
    "start_time": "2022-02-20T10:16:11.836Z"
   },
   {
    "duration": 46,
    "start_time": "2022-02-20T10:16:11.842Z"
   },
   {
    "duration": 225,
    "start_time": "2022-02-20T10:16:11.891Z"
   },
   {
    "duration": 40,
    "start_time": "2022-02-20T10:16:12.119Z"
   },
   {
    "duration": 134,
    "start_time": "2022-02-20T10:16:12.163Z"
   },
   {
    "duration": 32,
    "start_time": "2022-02-20T10:16:12.300Z"
   },
   {
    "duration": 194,
    "start_time": "2022-02-20T10:16:12.338Z"
   },
   {
    "duration": 33,
    "start_time": "2022-02-20T10:16:12.535Z"
   },
   {
    "duration": 19,
    "start_time": "2022-02-20T10:16:12.572Z"
   },
   {
    "duration": 26,
    "start_time": "2022-02-20T10:16:12.593Z"
   },
   {
    "duration": 15,
    "start_time": "2022-02-20T10:16:12.622Z"
   },
   {
    "duration": 9,
    "start_time": "2022-02-20T10:16:12.640Z"
   },
   {
    "duration": 13,
    "start_time": "2022-02-20T10:16:12.652Z"
   },
   {
    "duration": 46,
    "start_time": "2022-02-20T10:16:12.668Z"
   },
   {
    "duration": 12,
    "start_time": "2022-02-20T10:16:12.717Z"
   },
   {
    "duration": 26,
    "start_time": "2022-02-20T10:19:12.848Z"
   },
   {
    "duration": 46,
    "start_time": "2022-02-20T10:19:55.024Z"
   },
   {
    "duration": 19,
    "start_time": "2022-02-20T10:20:01.527Z"
   },
   {
    "duration": 8,
    "start_time": "2022-02-20T10:20:32.884Z"
   },
   {
    "duration": 480,
    "start_time": "2022-02-20T10:21:24.447Z"
   },
   {
    "duration": 20,
    "start_time": "2022-02-20T10:21:27.017Z"
   },
   {
    "duration": 29,
    "start_time": "2022-02-20T10:22:04.752Z"
   },
   {
    "duration": 8,
    "start_time": "2022-02-20T10:22:13.504Z"
   },
   {
    "duration": 638,
    "start_time": "2022-02-20T10:23:09.142Z"
   },
   {
    "duration": 25,
    "start_time": "2022-02-20T10:23:13.214Z"
   },
   {
    "duration": 403,
    "start_time": "2022-02-20T10:23:58.120Z"
   },
   {
    "duration": 16,
    "start_time": "2022-02-20T10:25:01.027Z"
   },
   {
    "duration": 12,
    "start_time": "2022-02-20T10:25:10.800Z"
   },
   {
    "duration": 39,
    "start_time": "2022-02-20T10:25:53.114Z"
   },
   {
    "duration": 18,
    "start_time": "2022-02-20T10:26:03.363Z"
   },
   {
    "duration": 20,
    "start_time": "2022-02-20T12:22:06.378Z"
   },
   {
    "duration": 20,
    "start_time": "2022-02-20T12:22:47.014Z"
   },
   {
    "duration": 666,
    "start_time": "2022-02-20T12:31:36.245Z"
   },
   {
    "duration": 198,
    "start_time": "2022-02-20T12:32:01.970Z"
   },
   {
    "duration": 138,
    "start_time": "2022-02-20T12:32:05.625Z"
   },
   {
    "duration": 3,
    "start_time": "2022-02-20T12:33:05.691Z"
   },
   {
    "duration": 964,
    "start_time": "2022-02-20T12:33:32.142Z"
   },
   {
    "duration": 92,
    "start_time": "2022-02-20T12:33:33.109Z"
   },
   {
    "duration": 4,
    "start_time": "2022-02-20T12:33:33.205Z"
   },
   {
    "duration": 55,
    "start_time": "2022-02-20T12:33:33.212Z"
   },
   {
    "duration": 243,
    "start_time": "2022-02-20T12:33:33.270Z"
   },
   {
    "duration": 43,
    "start_time": "2022-02-20T12:33:33.517Z"
   },
   {
    "duration": 190,
    "start_time": "2022-02-20T12:33:33.563Z"
   },
   {
    "duration": 55,
    "start_time": "2022-02-20T12:33:33.756Z"
   },
   {
    "duration": 277,
    "start_time": "2022-02-20T12:33:33.818Z"
   },
   {
    "duration": 41,
    "start_time": "2022-02-20T12:33:34.099Z"
   },
   {
    "duration": 1751,
    "start_time": "2022-02-20T12:33:34.142Z"
   },
   {
    "duration": 24,
    "start_time": "2022-02-20T12:33:35.896Z"
   },
   {
    "duration": 17,
    "start_time": "2022-02-20T12:33:35.923Z"
   },
   {
    "duration": 17,
    "start_time": "2022-02-20T12:33:35.943Z"
   },
   {
    "duration": 19,
    "start_time": "2022-02-20T12:33:35.963Z"
   },
   {
    "duration": 31,
    "start_time": "2022-02-20T12:33:35.985Z"
   },
   {
    "duration": 22,
    "start_time": "2022-02-20T12:33:36.019Z"
   },
   {
    "duration": 67,
    "start_time": "2022-02-20T12:33:36.044Z"
   },
   {
    "duration": 63,
    "start_time": "2022-02-20T12:33:36.114Z"
   },
   {
    "duration": 32,
    "start_time": "2022-02-20T12:33:36.182Z"
   },
   {
    "duration": 34,
    "start_time": "2022-02-20T12:33:36.217Z"
   },
   {
    "duration": 2518,
    "start_time": "2022-02-20T12:35:35.394Z"
   },
   {
    "duration": 8,
    "start_time": "2022-02-20T12:35:56.871Z"
   },
   {
    "duration": 7,
    "start_time": "2022-02-20T12:36:05.810Z"
   },
   {
    "duration": 21,
    "start_time": "2022-02-20T12:37:18.093Z"
   },
   {
    "duration": 26,
    "start_time": "2022-02-20T12:37:19.531Z"
   },
   {
    "duration": 8,
    "start_time": "2022-02-20T12:37:20.542Z"
   },
   {
    "duration": 23,
    "start_time": "2022-02-20T12:37:24.877Z"
   },
   {
    "duration": 13,
    "start_time": "2022-02-20T12:37:26.233Z"
   },
   {
    "duration": 17,
    "start_time": "2022-02-20T12:37:30.650Z"
   },
   {
    "duration": 39,
    "start_time": "2022-02-20T12:37:31.543Z"
   },
   {
    "duration": 18,
    "start_time": "2022-02-20T12:37:33.509Z"
   },
   {
    "duration": 20,
    "start_time": "2022-02-20T12:37:35.956Z"
   },
   {
    "duration": 496,
    "start_time": "2022-02-20T12:38:48.887Z"
   },
   {
    "duration": 9,
    "start_time": "2022-02-20T12:38:55.504Z"
   },
   {
    "duration": 8,
    "start_time": "2022-02-20T12:39:02.470Z"
   },
   {
    "duration": 798,
    "start_time": "2022-02-20T12:53:07.609Z"
   },
   {
    "duration": 58,
    "start_time": "2022-02-20T12:53:08.412Z"
   },
   {
    "duration": 4,
    "start_time": "2022-02-20T12:53:08.474Z"
   },
   {
    "duration": 32,
    "start_time": "2022-02-20T12:53:08.480Z"
   },
   {
    "duration": 203,
    "start_time": "2022-02-20T12:53:08.514Z"
   },
   {
    "duration": 34,
    "start_time": "2022-02-20T12:53:08.720Z"
   },
   {
    "duration": 126,
    "start_time": "2022-02-20T12:53:08.757Z"
   },
   {
    "duration": 34,
    "start_time": "2022-02-20T12:53:08.886Z"
   },
   {
    "duration": 166,
    "start_time": "2022-02-20T12:53:08.924Z"
   },
   {
    "duration": 39,
    "start_time": "2022-02-20T12:53:09.093Z"
   },
   {
    "duration": 19,
    "start_time": "2022-02-20T12:53:09.134Z"
   },
   {
    "duration": 18,
    "start_time": "2022-02-20T12:53:09.156Z"
   },
   {
    "duration": 14,
    "start_time": "2022-02-20T12:53:09.177Z"
   },
   {
    "duration": 20,
    "start_time": "2022-02-20T12:53:09.193Z"
   },
   {
    "duration": 9,
    "start_time": "2022-02-20T12:53:09.215Z"
   },
   {
    "duration": 9,
    "start_time": "2022-02-20T12:53:09.226Z"
   },
   {
    "duration": 10,
    "start_time": "2022-02-20T12:53:09.237Z"
   },
   {
    "duration": 25,
    "start_time": "2022-02-20T12:53:09.250Z"
   },
   {
    "duration": 54,
    "start_time": "2022-02-20T12:53:09.277Z"
   },
   {
    "duration": 7,
    "start_time": "2022-02-20T12:53:09.333Z"
   },
   {
    "duration": 21,
    "start_time": "2022-02-20T12:53:09.342Z"
   },
   {
    "duration": 5,
    "start_time": "2022-02-20T12:53:09.365Z"
   },
   {
    "duration": 6,
    "start_time": "2022-02-20T12:53:09.373Z"
   },
   {
    "duration": 21,
    "start_time": "2022-02-20T12:53:09.382Z"
   },
   {
    "duration": 25,
    "start_time": "2022-02-20T12:53:09.411Z"
   },
   {
    "duration": 7,
    "start_time": "2022-02-20T12:53:09.439Z"
   },
   {
    "duration": 21,
    "start_time": "2022-02-20T12:53:09.451Z"
   },
   {
    "duration": 12,
    "start_time": "2022-02-20T12:53:09.475Z"
   },
   {
    "duration": 23,
    "start_time": "2022-02-20T12:53:09.491Z"
   },
   {
    "duration": 35,
    "start_time": "2022-02-20T12:53:09.517Z"
   },
   {
    "duration": 16,
    "start_time": "2022-02-20T12:53:09.554Z"
   },
   {
    "duration": 18,
    "start_time": "2022-02-20T12:53:09.573Z"
   },
   {
    "duration": 3,
    "start_time": "2022-02-20T12:53:09.594Z"
   },
   {
    "duration": 13,
    "start_time": "2022-02-20T12:53:09.599Z"
   },
   {
    "duration": 502,
    "start_time": "2022-02-20T12:56:32.754Z"
   },
   {
    "duration": 63,
    "start_time": "2022-02-20T12:57:24.770Z"
   },
   {
    "duration": 61,
    "start_time": "2022-02-20T12:57:36.873Z"
   },
   {
    "duration": 36,
    "start_time": "2022-02-20T12:57:43.559Z"
   },
   {
    "duration": 14,
    "start_time": "2022-02-20T12:58:04.459Z"
   },
   {
    "duration": 21,
    "start_time": "2022-02-20T12:58:49.826Z"
   },
   {
    "duration": 16,
    "start_time": "2022-02-20T12:58:56.456Z"
   },
   {
    "duration": 9409,
    "start_time": "2022-02-20T13:01:23.115Z"
   },
   {
    "duration": 18,
    "start_time": "2022-02-20T13:01:44.934Z"
   },
   {
    "duration": 443,
    "start_time": "2022-02-20T13:13:49.661Z"
   },
   {
    "duration": 531,
    "start_time": "2022-02-20T13:14:18.008Z"
   },
   {
    "duration": 464,
    "start_time": "2022-02-20T13:14:49.560Z"
   },
   {
    "duration": 57,
    "start_time": "2022-02-20T13:14:59.173Z"
   },
   {
    "duration": 20,
    "start_time": "2022-02-20T13:15:15.916Z"
   },
   {
    "duration": 382,
    "start_time": "2022-02-20T13:15:55.989Z"
   },
   {
    "duration": 384,
    "start_time": "2022-02-20T13:18:05.256Z"
   },
   {
    "duration": 1750,
    "start_time": "2022-02-20T13:20:27.831Z"
   },
   {
    "duration": 24,
    "start_time": "2022-02-20T13:21:35.323Z"
   },
   {
    "duration": 19,
    "start_time": "2022-02-20T13:21:39.292Z"
   },
   {
    "duration": 34,
    "start_time": "2022-02-20T13:23:40.545Z"
   },
   {
    "duration": 18,
    "start_time": "2022-02-20T13:23:48.272Z"
   },
   {
    "duration": 45,
    "start_time": "2022-02-20T13:28:48.321Z"
   },
   {
    "duration": 14,
    "start_time": "2022-02-20T13:28:53.364Z"
   },
   {
    "duration": 68,
    "start_time": "2022-02-20T13:29:34.716Z"
   },
   {
    "duration": 18,
    "start_time": "2022-02-20T13:29:36.871Z"
   },
   {
    "duration": 42,
    "start_time": "2022-02-20T13:30:33.111Z"
   },
   {
    "duration": 14,
    "start_time": "2022-02-20T13:30:34.126Z"
   },
   {
    "duration": 495,
    "start_time": "2022-02-20T13:30:57.026Z"
   },
   {
    "duration": 7,
    "start_time": "2022-02-20T13:31:29.450Z"
   },
   {
    "duration": 13,
    "start_time": "2022-02-20T13:31:37.137Z"
   },
   {
    "duration": 808,
    "start_time": "2022-02-20T13:32:21.088Z"
   },
   {
    "duration": 80,
    "start_time": "2022-02-20T13:32:21.900Z"
   },
   {
    "duration": 3,
    "start_time": "2022-02-20T13:32:21.984Z"
   },
   {
    "duration": 38,
    "start_time": "2022-02-20T13:32:21.990Z"
   },
   {
    "duration": 209,
    "start_time": "2022-02-20T13:32:22.030Z"
   },
   {
    "duration": 39,
    "start_time": "2022-02-20T13:32:22.242Z"
   },
   {
    "duration": 139,
    "start_time": "2022-02-20T13:32:22.284Z"
   },
   {
    "duration": 31,
    "start_time": "2022-02-20T13:32:22.425Z"
   },
   {
    "duration": 190,
    "start_time": "2022-02-20T13:32:22.460Z"
   },
   {
    "duration": 33,
    "start_time": "2022-02-20T13:32:22.653Z"
   },
   {
    "duration": 23,
    "start_time": "2022-02-20T13:32:22.689Z"
   },
   {
    "duration": 18,
    "start_time": "2022-02-20T13:32:22.715Z"
   },
   {
    "duration": 14,
    "start_time": "2022-02-20T13:32:22.735Z"
   },
   {
    "duration": 11,
    "start_time": "2022-02-20T13:32:22.751Z"
   },
   {
    "duration": 46,
    "start_time": "2022-02-20T13:32:22.764Z"
   },
   {
    "duration": 6,
    "start_time": "2022-02-20T13:32:22.813Z"
   },
   {
    "duration": 14,
    "start_time": "2022-02-20T13:32:22.822Z"
   },
   {
    "duration": 27,
    "start_time": "2022-02-20T13:32:22.839Z"
   },
   {
    "duration": 75,
    "start_time": "2022-02-20T13:32:22.869Z"
   },
   {
    "duration": 9,
    "start_time": "2022-02-20T13:32:22.947Z"
   },
   {
    "duration": 22,
    "start_time": "2022-02-20T13:32:22.958Z"
   },
   {
    "duration": 31,
    "start_time": "2022-02-20T13:32:22.983Z"
   },
   {
    "duration": 7,
    "start_time": "2022-02-20T13:32:23.017Z"
   },
   {
    "duration": 30,
    "start_time": "2022-02-20T13:32:46.047Z"
   },
   {
    "duration": 36,
    "start_time": "2022-02-20T13:32:47.384Z"
   },
   {
    "duration": 625,
    "start_time": "2022-02-20T13:32:48.480Z"
   },
   {
    "duration": 15,
    "start_time": "2022-02-20T13:32:56.389Z"
   },
   {
    "duration": 1000,
    "start_time": "2022-02-20T13:33:56.896Z"
   },
   {
    "duration": 375,
    "start_time": "2022-02-20T13:34:09.522Z"
   },
   {
    "duration": 9,
    "start_time": "2022-02-20T13:34:13.570Z"
   },
   {
    "duration": 1141,
    "start_time": "2022-02-20T13:35:56.372Z"
   },
   {
    "duration": 62,
    "start_time": "2022-02-20T13:35:57.517Z"
   },
   {
    "duration": 5,
    "start_time": "2022-02-20T13:35:57.583Z"
   },
   {
    "duration": 34,
    "start_time": "2022-02-20T13:35:57.591Z"
   },
   {
    "duration": 215,
    "start_time": "2022-02-20T13:35:57.628Z"
   },
   {
    "duration": 34,
    "start_time": "2022-02-20T13:35:57.846Z"
   },
   {
    "duration": 132,
    "start_time": "2022-02-20T13:35:57.882Z"
   },
   {
    "duration": 27,
    "start_time": "2022-02-20T13:35:58.016Z"
   },
   {
    "duration": 212,
    "start_time": "2022-02-20T13:35:58.047Z"
   },
   {
    "duration": 51,
    "start_time": "2022-02-20T13:35:58.262Z"
   },
   {
    "duration": 20,
    "start_time": "2022-02-20T13:35:58.316Z"
   },
   {
    "duration": 26,
    "start_time": "2022-02-20T13:35:58.338Z"
   },
   {
    "duration": 20,
    "start_time": "2022-02-20T13:35:58.367Z"
   },
   {
    "duration": 11,
    "start_time": "2022-02-20T13:35:58.411Z"
   },
   {
    "duration": 9,
    "start_time": "2022-02-20T13:35:58.425Z"
   },
   {
    "duration": 9,
    "start_time": "2022-02-20T13:35:58.436Z"
   },
   {
    "duration": 12,
    "start_time": "2022-02-20T13:35:58.448Z"
   },
   {
    "duration": 71,
    "start_time": "2022-02-20T13:35:58.463Z"
   },
   {
    "duration": 82,
    "start_time": "2022-02-20T13:35:58.537Z"
   },
   {
    "duration": 8,
    "start_time": "2022-02-20T13:35:58.621Z"
   },
   {
    "duration": 30,
    "start_time": "2022-02-20T13:35:58.631Z"
   },
   {
    "duration": 6,
    "start_time": "2022-02-20T13:35:58.663Z"
   },
   {
    "duration": 473,
    "start_time": "2022-02-20T13:36:23.656Z"
   },
   {
    "duration": 13,
    "start_time": "2022-02-20T13:36:27.967Z"
   },
   {
    "duration": 9,
    "start_time": "2022-02-20T13:36:33.875Z"
   },
   {
    "duration": 35,
    "start_time": "2022-02-20T13:36:35.657Z"
   },
   {
    "duration": 34,
    "start_time": "2022-02-20T13:36:37.571Z"
   },
   {
    "duration": 15,
    "start_time": "2022-02-20T13:36:38.515Z"
   },
   {
    "duration": 19,
    "start_time": "2022-02-20T13:36:51.340Z"
   },
   {
    "duration": 28,
    "start_time": "2022-02-20T13:36:52.834Z"
   },
   {
    "duration": 8,
    "start_time": "2022-02-20T13:36:54.345Z"
   },
   {
    "duration": 21,
    "start_time": "2022-02-20T13:36:58.176Z"
   },
   {
    "duration": 18,
    "start_time": "2022-02-20T13:36:58.504Z"
   },
   {
    "duration": 439,
    "start_time": "2022-02-20T13:39:24.618Z"
   },
   {
    "duration": 410,
    "start_time": "2022-02-20T13:39:47.653Z"
   },
   {
    "duration": 18,
    "start_time": "2022-02-20T13:40:17.103Z"
   },
   {
    "duration": 18,
    "start_time": "2022-02-20T13:40:22.416Z"
   },
   {
    "duration": 20,
    "start_time": "2022-02-20T13:40:57.325Z"
   },
   {
    "duration": 17,
    "start_time": "2022-02-20T13:40:59.115Z"
   },
   {
    "duration": 19,
    "start_time": "2022-02-20T13:41:42.210Z"
   },
   {
    "duration": 14,
    "start_time": "2022-02-20T13:41:44.433Z"
   },
   {
    "duration": 393,
    "start_time": "2022-02-20T13:42:36.559Z"
   },
   {
    "duration": 14,
    "start_time": "2022-02-20T13:42:43.131Z"
   },
   {
    "duration": 18,
    "start_time": "2022-02-20T13:42:50.704Z"
   },
   {
    "duration": 6,
    "start_time": "2022-02-20T13:43:13.507Z"
   },
   {
    "duration": 14,
    "start_time": "2022-02-20T13:43:13.985Z"
   },
   {
    "duration": 450,
    "start_time": "2022-02-20T13:43:48.509Z"
   },
   {
    "duration": 10,
    "start_time": "2022-02-20T13:43:48.952Z"
   },
   {
    "duration": 449,
    "start_time": "2022-02-20T13:44:41.091Z"
   },
   {
    "duration": 817,
    "start_time": "2022-02-20T13:44:54.470Z"
   },
   {
    "duration": 60,
    "start_time": "2022-02-20T13:44:55.290Z"
   },
   {
    "duration": 4,
    "start_time": "2022-02-20T13:44:55.354Z"
   },
   {
    "duration": 35,
    "start_time": "2022-02-20T13:44:55.361Z"
   },
   {
    "duration": 212,
    "start_time": "2022-02-20T13:44:55.399Z"
   },
   {
    "duration": 41,
    "start_time": "2022-02-20T13:44:55.614Z"
   },
   {
    "duration": 134,
    "start_time": "2022-02-20T13:44:55.657Z"
   },
   {
    "duration": 34,
    "start_time": "2022-02-20T13:44:55.794Z"
   },
   {
    "duration": 184,
    "start_time": "2022-02-20T13:44:55.832Z"
   },
   {
    "duration": 39,
    "start_time": "2022-02-20T13:44:56.019Z"
   },
   {
    "duration": 19,
    "start_time": "2022-02-20T13:44:56.060Z"
   },
   {
    "duration": 35,
    "start_time": "2022-02-20T13:44:56.082Z"
   },
   {
    "duration": 15,
    "start_time": "2022-02-20T13:44:56.119Z"
   },
   {
    "duration": 9,
    "start_time": "2022-02-20T13:44:56.137Z"
   },
   {
    "duration": 10,
    "start_time": "2022-02-20T13:44:56.149Z"
   },
   {
    "duration": 8,
    "start_time": "2022-02-20T13:44:56.161Z"
   },
   {
    "duration": 10,
    "start_time": "2022-02-20T13:44:56.211Z"
   },
   {
    "duration": 27,
    "start_time": "2022-02-20T13:44:56.224Z"
   },
   {
    "duration": 73,
    "start_time": "2022-02-20T13:44:56.253Z"
   },
   {
    "duration": 8,
    "start_time": "2022-02-20T13:44:56.328Z"
   },
   {
    "duration": 23,
    "start_time": "2022-02-20T13:44:56.338Z"
   },
   {
    "duration": 6,
    "start_time": "2022-02-20T13:44:56.363Z"
   },
   {
    "duration": 41,
    "start_time": "2022-02-20T13:44:56.372Z"
   },
   {
    "duration": 34,
    "start_time": "2022-02-20T13:44:56.416Z"
   },
   {
    "duration": 33,
    "start_time": "2022-02-20T13:45:00.468Z"
   },
   {
    "duration": 602,
    "start_time": "2022-02-20T13:45:01.652Z"
   },
   {
    "duration": 14,
    "start_time": "2022-02-20T13:45:18.302Z"
   },
   {
    "duration": 364,
    "start_time": "2022-02-20T13:45:26.006Z"
   },
   {
    "duration": 7,
    "start_time": "2022-02-20T13:45:44.095Z"
   },
   {
    "duration": 12,
    "start_time": "2022-02-20T13:45:53.718Z"
   },
   {
    "duration": 20,
    "start_time": "2022-02-20T13:46:06.850Z"
   },
   {
    "duration": 26,
    "start_time": "2022-02-20T13:46:07.482Z"
   },
   {
    "duration": 8,
    "start_time": "2022-02-20T13:46:08.028Z"
   },
   {
    "duration": 21,
    "start_time": "2022-02-20T13:46:10.732Z"
   },
   {
    "duration": 23,
    "start_time": "2022-02-20T13:46:11.479Z"
   },
   {
    "duration": 8,
    "start_time": "2022-02-20T13:46:12.389Z"
   },
   {
    "duration": 17,
    "start_time": "2022-02-20T13:46:13.005Z"
   },
   {
    "duration": 23,
    "start_time": "2022-02-20T13:46:20.255Z"
   },
   {
    "duration": 13,
    "start_time": "2022-02-20T13:46:20.888Z"
   },
   {
    "duration": 12,
    "start_time": "2022-02-20T13:46:21.465Z"
   },
   {
    "duration": 39,
    "start_time": "2022-02-20T13:46:28.409Z"
   },
   {
    "duration": 27,
    "start_time": "2022-02-20T13:46:28.747Z"
   },
   {
    "duration": 24,
    "start_time": "2022-02-20T13:52:38.756Z"
   },
   {
    "duration": 21,
    "start_time": "2022-02-20T13:52:45.134Z"
   },
   {
    "duration": 649,
    "start_time": "2022-02-20T13:53:29.381Z"
   },
   {
    "duration": 16,
    "start_time": "2022-02-20T13:53:30.638Z"
   },
   {
    "duration": 17,
    "start_time": "2022-02-20T13:53:51.434Z"
   },
   {
    "duration": 18,
    "start_time": "2022-02-20T13:53:52.550Z"
   },
   {
    "duration": 6,
    "start_time": "2022-02-20T13:54:24.722Z"
   },
   {
    "duration": 15,
    "start_time": "2022-02-20T13:54:28.900Z"
   },
   {
    "duration": 11,
    "start_time": "2022-02-20T13:54:37.510Z"
   },
   {
    "duration": 13,
    "start_time": "2022-02-20T13:54:50.113Z"
   },
   {
    "duration": 6,
    "start_time": "2022-02-20T13:55:33.998Z"
   },
   {
    "duration": 14,
    "start_time": "2022-02-20T13:55:39.630Z"
   },
   {
    "duration": 6,
    "start_time": "2022-02-20T13:56:31.197Z"
   },
   {
    "duration": 14,
    "start_time": "2022-02-20T13:56:42.700Z"
   },
   {
    "duration": 6,
    "start_time": "2022-02-20T13:56:57.842Z"
   },
   {
    "duration": 12,
    "start_time": "2022-02-20T13:56:58.476Z"
   },
   {
    "duration": 5,
    "start_time": "2022-02-20T13:57:00.270Z"
   },
   {
    "duration": 6,
    "start_time": "2022-02-20T13:57:00.741Z"
   },
   {
    "duration": 14,
    "start_time": "2022-02-20T13:57:01.411Z"
   },
   {
    "duration": 812,
    "start_time": "2022-02-20T13:57:08.195Z"
   },
   {
    "duration": 93,
    "start_time": "2022-02-20T13:57:09.011Z"
   },
   {
    "duration": 4,
    "start_time": "2022-02-20T13:57:09.107Z"
   },
   {
    "duration": 35,
    "start_time": "2022-02-20T13:57:09.114Z"
   },
   {
    "duration": 212,
    "start_time": "2022-02-20T13:57:09.152Z"
   },
   {
    "duration": 47,
    "start_time": "2022-02-20T13:57:09.366Z"
   },
   {
    "duration": 117,
    "start_time": "2022-02-20T13:57:09.415Z"
   },
   {
    "duration": 25,
    "start_time": "2022-02-20T13:57:09.535Z"
   },
   {
    "duration": 178,
    "start_time": "2022-02-20T13:57:09.563Z"
   },
   {
    "duration": 30,
    "start_time": "2022-02-20T13:57:09.743Z"
   },
   {
    "duration": 18,
    "start_time": "2022-02-20T13:57:09.776Z"
   },
   {
    "duration": 28,
    "start_time": "2022-02-20T13:57:09.796Z"
   },
   {
    "duration": 13,
    "start_time": "2022-02-20T13:57:09.827Z"
   },
   {
    "duration": 9,
    "start_time": "2022-02-20T13:57:09.843Z"
   },
   {
    "duration": 12,
    "start_time": "2022-02-20T13:57:09.854Z"
   },
   {
    "duration": 43,
    "start_time": "2022-02-20T13:57:09.868Z"
   },
   {
    "duration": 12,
    "start_time": "2022-02-20T13:57:09.913Z"
   },
   {
    "duration": 27,
    "start_time": "2022-02-20T13:57:09.928Z"
   },
   {
    "duration": 74,
    "start_time": "2022-02-20T13:57:09.957Z"
   },
   {
    "duration": 8,
    "start_time": "2022-02-20T13:57:10.033Z"
   },
   {
    "duration": 27,
    "start_time": "2022-02-20T13:57:10.044Z"
   },
   {
    "duration": 7,
    "start_time": "2022-02-20T13:57:10.074Z"
   },
   {
    "duration": 7,
    "start_time": "2022-02-20T13:57:10.130Z"
   },
   {
    "duration": 31,
    "start_time": "2022-02-20T13:57:10.141Z"
   },
   {
    "duration": 45,
    "start_time": "2022-02-20T13:57:10.175Z"
   },
   {
    "duration": 6,
    "start_time": "2022-02-20T13:57:10.223Z"
   },
   {
    "duration": 14,
    "start_time": "2022-02-20T13:57:10.232Z"
   },
   {
    "duration": 22,
    "start_time": "2022-02-20T13:57:10.248Z"
   },
   {
    "duration": 75,
    "start_time": "2022-02-20T13:57:10.273Z"
   },
   {
    "duration": 15,
    "start_time": "2022-02-20T13:57:10.351Z"
   },
   {
    "duration": 43,
    "start_time": "2022-02-20T13:57:10.368Z"
   },
   {
    "duration": 32,
    "start_time": "2022-02-20T13:57:10.414Z"
   },
   {
    "duration": 5,
    "start_time": "2022-02-20T13:57:10.448Z"
   },
   {
    "duration": 13,
    "start_time": "2022-02-20T13:57:10.456Z"
   },
   {
    "duration": 54,
    "start_time": "2022-02-20T13:57:10.472Z"
   },
   {
    "duration": 12,
    "start_time": "2022-02-20T13:57:10.529Z"
   },
   {
    "duration": 14,
    "start_time": "2022-02-20T13:57:10.543Z"
   },
   {
    "duration": 69,
    "start_time": "2022-02-20T13:57:10.561Z"
   },
   {
    "duration": 16,
    "start_time": "2022-02-20T13:57:10.633Z"
   },
   {
    "duration": 18,
    "start_time": "2022-02-20T13:57:10.652Z"
   },
   {
    "duration": 53,
    "start_time": "2022-02-20T13:57:10.672Z"
   },
   {
    "duration": 25,
    "start_time": "2022-02-20T13:57:10.727Z"
   },
   {
    "duration": 6,
    "start_time": "2022-02-20T13:57:10.754Z"
   },
   {
    "duration": 15,
    "start_time": "2022-02-20T13:57:10.763Z"
   },
   {
    "duration": 11012,
    "start_time": "2022-02-20T13:57:10.780Z"
   },
   {
    "duration": 1,
    "start_time": "2022-02-20T13:57:21.793Z"
   },
   {
    "duration": 2,
    "start_time": "2022-02-20T13:57:21.794Z"
   },
   {
    "duration": 12,
    "start_time": "2022-02-20T13:58:23.320Z"
   },
   {
    "duration": 5,
    "start_time": "2022-02-20T13:58:30.243Z"
   },
   {
    "duration": 14,
    "start_time": "2022-02-20T13:58:30.684Z"
   },
   {
    "duration": 36,
    "start_time": "2022-02-20T14:00:14.237Z"
   },
   {
    "duration": 7,
    "start_time": "2022-02-20T14:00:14.980Z"
   },
   {
    "duration": 13,
    "start_time": "2022-02-20T14:00:16.089Z"
   },
   {
    "duration": 9,
    "start_time": "2022-02-20T14:04:53.430Z"
   },
   {
    "duration": 12,
    "start_time": "2022-02-20T14:07:18.098Z"
   },
   {
    "duration": 20,
    "start_time": "2022-02-20T14:07:20.686Z"
   },
   {
    "duration": 750,
    "start_time": "2022-02-20T14:08:04.550Z"
   },
   {
    "duration": 67,
    "start_time": "2022-02-20T14:08:05.304Z"
   },
   {
    "duration": 4,
    "start_time": "2022-02-20T14:08:05.373Z"
   },
   {
    "duration": 36,
    "start_time": "2022-02-20T14:08:05.379Z"
   },
   {
    "duration": 210,
    "start_time": "2022-02-20T14:08:05.418Z"
   },
   {
    "duration": 37,
    "start_time": "2022-02-20T14:08:05.631Z"
   },
   {
    "duration": 128,
    "start_time": "2022-02-20T14:08:05.682Z"
   },
   {
    "duration": 29,
    "start_time": "2022-02-20T14:08:05.814Z"
   },
   {
    "duration": 193,
    "start_time": "2022-02-20T14:08:05.846Z"
   },
   {
    "duration": 36,
    "start_time": "2022-02-20T14:08:06.043Z"
   },
   {
    "duration": 33,
    "start_time": "2022-02-20T14:08:06.082Z"
   },
   {
    "duration": 23,
    "start_time": "2022-02-20T14:08:06.118Z"
   },
   {
    "duration": 16,
    "start_time": "2022-02-20T14:08:06.143Z"
   },
   {
    "duration": 49,
    "start_time": "2022-02-20T14:08:06.162Z"
   },
   {
    "duration": 12,
    "start_time": "2022-02-20T14:08:06.214Z"
   },
   {
    "duration": 9,
    "start_time": "2022-02-20T14:08:06.228Z"
   },
   {
    "duration": 16,
    "start_time": "2022-02-20T14:08:06.240Z"
   },
   {
    "duration": 52,
    "start_time": "2022-02-20T14:08:06.259Z"
   },
   {
    "duration": 51,
    "start_time": "2022-02-20T14:08:06.314Z"
   },
   {
    "duration": 7,
    "start_time": "2022-02-20T14:08:06.368Z"
   },
   {
    "duration": 49,
    "start_time": "2022-02-20T14:08:06.378Z"
   },
   {
    "duration": 5,
    "start_time": "2022-02-20T14:08:06.432Z"
   },
   {
    "duration": 16,
    "start_time": "2022-02-20T14:08:06.440Z"
   },
   {
    "duration": 53,
    "start_time": "2022-02-20T14:08:06.459Z"
   },
   {
    "duration": 46,
    "start_time": "2022-02-20T14:08:06.515Z"
   },
   {
    "duration": 7,
    "start_time": "2022-02-20T14:08:06.564Z"
   },
   {
    "duration": 44,
    "start_time": "2022-02-20T14:08:06.574Z"
   },
   {
    "duration": 24,
    "start_time": "2022-02-20T14:08:06.621Z"
   },
   {
    "duration": 28,
    "start_time": "2022-02-20T14:08:06.648Z"
   },
   {
    "duration": 38,
    "start_time": "2022-02-20T14:08:06.679Z"
   },
   {
    "duration": 22,
    "start_time": "2022-02-20T14:08:06.720Z"
   },
   {
    "duration": 24,
    "start_time": "2022-02-20T14:08:06.744Z"
   },
   {
    "duration": 39,
    "start_time": "2022-02-20T14:08:06.770Z"
   },
   {
    "duration": 11,
    "start_time": "2022-02-20T14:08:06.812Z"
   },
   {
    "duration": 26,
    "start_time": "2022-02-20T14:08:06.826Z"
   },
   {
    "duration": 12,
    "start_time": "2022-02-20T14:08:06.855Z"
   },
   {
    "duration": 46,
    "start_time": "2022-02-20T14:08:06.870Z"
   },
   {
    "duration": 29,
    "start_time": "2022-02-20T14:08:06.919Z"
   },
   {
    "duration": 16,
    "start_time": "2022-02-20T14:08:06.951Z"
   },
   {
    "duration": 55,
    "start_time": "2022-02-20T14:08:06.969Z"
   },
   {
    "duration": 25,
    "start_time": "2022-02-20T14:08:07.027Z"
   },
   {
    "duration": 26,
    "start_time": "2022-02-20T14:08:07.054Z"
   },
   {
    "duration": 32,
    "start_time": "2022-02-20T14:08:07.083Z"
   },
   {
    "duration": 17,
    "start_time": "2022-02-20T14:08:07.118Z"
   },
   {
    "duration": 27,
    "start_time": "2022-02-20T14:08:07.138Z"
   },
   {
    "duration": 4,
    "start_time": "2022-02-20T14:08:07.168Z"
   },
   {
    "duration": 17,
    "start_time": "2022-02-20T14:08:07.175Z"
   },
   {
    "duration": 25,
    "start_time": "2022-02-20T14:08:07.194Z"
   },
   {
    "duration": 21,
    "start_time": "2022-02-20T14:08:07.221Z"
   },
   {
    "duration": 939,
    "start_time": "2022-02-20T14:12:40.122Z"
   },
   {
    "duration": 69,
    "start_time": "2022-02-20T14:12:41.063Z"
   },
   {
    "duration": 4,
    "start_time": "2022-02-20T14:12:41.135Z"
   },
   {
    "duration": 38,
    "start_time": "2022-02-20T14:12:41.142Z"
   },
   {
    "duration": 211,
    "start_time": "2022-02-20T14:12:41.183Z"
   },
   {
    "duration": 49,
    "start_time": "2022-02-20T14:12:41.397Z"
   },
   {
    "duration": 120,
    "start_time": "2022-02-20T14:12:41.448Z"
   },
   {
    "duration": 43,
    "start_time": "2022-02-20T14:12:41.571Z"
   },
   {
    "duration": 182,
    "start_time": "2022-02-20T14:12:41.618Z"
   },
   {
    "duration": 38,
    "start_time": "2022-02-20T14:12:41.804Z"
   },
   {
    "duration": 18,
    "start_time": "2022-02-20T14:12:41.845Z"
   },
   {
    "duration": 18,
    "start_time": "2022-02-20T14:12:41.865Z"
   },
   {
    "duration": 37,
    "start_time": "2022-02-20T14:12:41.886Z"
   },
   {
    "duration": 9,
    "start_time": "2022-02-20T14:12:41.925Z"
   },
   {
    "duration": 8,
    "start_time": "2022-02-20T14:12:41.936Z"
   },
   {
    "duration": 7,
    "start_time": "2022-02-20T14:12:41.946Z"
   },
   {
    "duration": 14,
    "start_time": "2022-02-20T14:12:41.956Z"
   },
   {
    "duration": 65,
    "start_time": "2022-02-20T14:12:41.972Z"
   },
   {
    "duration": 72,
    "start_time": "2022-02-20T14:12:42.040Z"
   },
   {
    "duration": 10,
    "start_time": "2022-02-20T14:12:42.114Z"
   },
   {
    "duration": 21,
    "start_time": "2022-02-20T14:12:42.127Z"
   },
   {
    "duration": 5,
    "start_time": "2022-02-20T14:12:42.151Z"
   },
   {
    "duration": 10,
    "start_time": "2022-02-20T14:12:42.159Z"
   },
   {
    "duration": 33,
    "start_time": "2022-02-20T14:12:42.211Z"
   },
   {
    "duration": 40,
    "start_time": "2022-02-20T14:12:42.247Z"
   },
   {
    "duration": 21,
    "start_time": "2022-02-20T14:12:42.290Z"
   },
   {
    "duration": 12,
    "start_time": "2022-02-20T14:12:42.318Z"
   },
   {
    "duration": 23,
    "start_time": "2022-02-20T14:12:42.334Z"
   },
   {
    "duration": 66,
    "start_time": "2022-02-20T14:12:42.360Z"
   },
   {
    "duration": 10,
    "start_time": "2022-02-20T14:12:42.429Z"
   },
   {
    "duration": 34,
    "start_time": "2022-02-20T14:12:42.442Z"
   },
   {
    "duration": 53,
    "start_time": "2022-02-20T14:12:42.479Z"
   },
   {
    "duration": 7,
    "start_time": "2022-02-20T14:12:42.536Z"
   },
   {
    "duration": 16,
    "start_time": "2022-02-20T14:12:42.546Z"
   },
   {
    "duration": 59,
    "start_time": "2022-02-20T14:12:42.565Z"
   },
   {
    "duration": 14,
    "start_time": "2022-02-20T14:12:42.628Z"
   },
   {
    "duration": 28,
    "start_time": "2022-02-20T14:12:42.644Z"
   },
   {
    "duration": 52,
    "start_time": "2022-02-20T14:12:42.675Z"
   },
   {
    "duration": 20,
    "start_time": "2022-02-20T14:12:42.730Z"
   },
   {
    "duration": 19,
    "start_time": "2022-02-20T14:12:42.753Z"
   },
   {
    "duration": 66,
    "start_time": "2022-02-20T14:12:42.775Z"
   },
   {
    "duration": 29,
    "start_time": "2022-02-20T14:12:42.844Z"
   },
   {
    "duration": 6,
    "start_time": "2022-02-20T14:12:42.876Z"
   },
   {
    "duration": 14,
    "start_time": "2022-02-20T14:12:42.912Z"
   },
   {
    "duration": 12,
    "start_time": "2022-02-20T14:12:42.929Z"
   },
   {
    "duration": 6,
    "start_time": "2022-02-20T14:12:42.944Z"
   },
   {
    "duration": 16,
    "start_time": "2022-02-20T14:12:42.952Z"
   },
   {
    "duration": 46,
    "start_time": "2022-02-20T14:12:42.971Z"
   },
   {
    "duration": 20,
    "start_time": "2022-02-20T14:12:43.020Z"
   },
   {
    "duration": 14,
    "start_time": "2022-02-20T14:15:00.216Z"
   },
   {
    "duration": 20,
    "start_time": "2022-02-20T14:15:02.904Z"
   },
   {
    "duration": 12,
    "start_time": "2022-02-20T14:16:23.752Z"
   },
   {
    "duration": 36,
    "start_time": "2022-02-20T14:16:26.594Z"
   },
   {
    "duration": 8,
    "start_time": "2022-02-20T14:17:13.142Z"
   },
   {
    "duration": 12,
    "start_time": "2022-02-20T14:17:28.699Z"
   },
   {
    "duration": 524,
    "start_time": "2022-02-20T14:20:34.611Z"
   },
   {
    "duration": 390,
    "start_time": "2022-02-20T14:21:07.538Z"
   },
   {
    "duration": 392,
    "start_time": "2022-02-20T14:21:14.441Z"
   },
   {
    "duration": 8,
    "start_time": "2022-02-20T14:21:18.722Z"
   },
   {
    "duration": 416,
    "start_time": "2022-02-20T14:21:52.046Z"
   },
   {
    "duration": 767,
    "start_time": "2022-02-20T14:23:18.537Z"
   },
   {
    "duration": 69,
    "start_time": "2022-02-20T14:23:19.308Z"
   },
   {
    "duration": 4,
    "start_time": "2022-02-20T14:23:19.380Z"
   },
   {
    "duration": 35,
    "start_time": "2022-02-20T14:23:19.386Z"
   },
   {
    "duration": 211,
    "start_time": "2022-02-20T14:23:19.424Z"
   },
   {
    "duration": 35,
    "start_time": "2022-02-20T14:23:19.638Z"
   },
   {
    "duration": 130,
    "start_time": "2022-02-20T14:23:19.676Z"
   },
   {
    "duration": 28,
    "start_time": "2022-02-20T14:23:19.808Z"
   },
   {
    "duration": 184,
    "start_time": "2022-02-20T14:23:19.842Z"
   },
   {
    "duration": 35,
    "start_time": "2022-02-20T14:23:20.030Z"
   },
   {
    "duration": 20,
    "start_time": "2022-02-20T14:23:20.068Z"
   },
   {
    "duration": 33,
    "start_time": "2022-02-20T14:23:20.091Z"
   },
   {
    "duration": 16,
    "start_time": "2022-02-20T14:23:20.127Z"
   },
   {
    "duration": 8,
    "start_time": "2022-02-20T14:23:20.145Z"
   },
   {
    "duration": 11,
    "start_time": "2022-02-20T14:23:20.155Z"
   },
   {
    "duration": 46,
    "start_time": "2022-02-20T14:23:20.168Z"
   },
   {
    "duration": 15,
    "start_time": "2022-02-20T14:23:20.217Z"
   },
   {
    "duration": 27,
    "start_time": "2022-02-20T14:23:20.235Z"
   },
   {
    "duration": 77,
    "start_time": "2022-02-20T14:23:20.264Z"
   },
   {
    "duration": 9,
    "start_time": "2022-02-20T14:23:20.344Z"
   },
   {
    "duration": 24,
    "start_time": "2022-02-20T14:23:20.356Z"
   },
   {
    "duration": 32,
    "start_time": "2022-02-20T14:23:20.383Z"
   },
   {
    "duration": 10,
    "start_time": "2022-02-20T14:23:20.417Z"
   },
   {
    "duration": 33,
    "start_time": "2022-02-20T14:23:20.429Z"
   },
   {
    "duration": 76,
    "start_time": "2022-02-20T14:23:20.465Z"
   },
   {
    "duration": 7,
    "start_time": "2022-02-20T14:23:20.544Z"
   },
   {
    "duration": 12,
    "start_time": "2022-02-20T14:23:20.559Z"
   },
   {
    "duration": 52,
    "start_time": "2022-02-20T14:23:20.575Z"
   },
   {
    "duration": 28,
    "start_time": "2022-02-20T14:23:20.631Z"
   },
   {
    "duration": 8,
    "start_time": "2022-02-20T14:23:20.661Z"
   },
   {
    "duration": 51,
    "start_time": "2022-02-20T14:23:20.672Z"
   },
   {
    "duration": 22,
    "start_time": "2022-02-20T14:23:20.726Z"
   },
   {
    "duration": 4,
    "start_time": "2022-02-20T14:23:20.751Z"
   },
   {
    "duration": 9,
    "start_time": "2022-02-20T14:23:20.757Z"
   },
   {
    "duration": 60,
    "start_time": "2022-02-20T14:23:20.769Z"
   },
   {
    "duration": 13,
    "start_time": "2022-02-20T14:23:20.832Z"
   },
   {
    "duration": 17,
    "start_time": "2022-02-20T14:23:20.847Z"
   },
   {
    "duration": 54,
    "start_time": "2022-02-20T14:23:20.866Z"
   },
   {
    "duration": 18,
    "start_time": "2022-02-20T14:23:20.922Z"
   },
   {
    "duration": 17,
    "start_time": "2022-02-20T14:23:20.942Z"
   },
   {
    "duration": 52,
    "start_time": "2022-02-20T14:23:20.961Z"
   },
   {
    "duration": 24,
    "start_time": "2022-02-20T14:23:21.016Z"
   },
   {
    "duration": 7,
    "start_time": "2022-02-20T14:23:21.043Z"
   },
   {
    "duration": 14,
    "start_time": "2022-02-20T14:23:21.053Z"
   },
   {
    "duration": 41,
    "start_time": "2022-02-20T14:23:21.070Z"
   },
   {
    "duration": 6,
    "start_time": "2022-02-20T14:23:21.113Z"
   },
   {
    "duration": 18,
    "start_time": "2022-02-20T14:23:21.121Z"
   },
   {
    "duration": 12,
    "start_time": "2022-02-20T14:23:21.141Z"
   },
   {
    "duration": 17,
    "start_time": "2022-02-20T14:23:21.155Z"
   },
   {
    "duration": 46,
    "start_time": "2022-02-20T14:23:21.175Z"
   },
   {
    "duration": 19,
    "start_time": "2022-02-20T14:23:21.224Z"
   },
   {
    "duration": 496,
    "start_time": "2022-02-20T14:23:21.245Z"
   },
   {
    "duration": 6,
    "start_time": "2022-02-20T14:23:21.738Z"
   },
   {
    "duration": 6,
    "start_time": "2022-02-20T14:23:21.739Z"
   },
   {
    "duration": 6,
    "start_time": "2022-02-20T14:23:21.740Z"
   },
   {
    "duration": 10,
    "start_time": "2022-02-20T14:24:42.304Z"
   },
   {
    "duration": 21,
    "start_time": "2022-02-20T14:24:44.920Z"
   },
   {
    "duration": 867,
    "start_time": "2022-02-20T14:25:01.579Z"
   },
   {
    "duration": 44,
    "start_time": "2022-02-20T14:25:02.449Z"
   },
   {
    "duration": 3,
    "start_time": "2022-02-20T14:25:02.496Z"
   },
   {
    "duration": 32,
    "start_time": "2022-02-20T14:25:02.502Z"
   },
   {
    "duration": 275,
    "start_time": "2022-02-20T14:25:02.536Z"
   },
   {
    "duration": 41,
    "start_time": "2022-02-20T14:25:02.814Z"
   },
   {
    "duration": 135,
    "start_time": "2022-02-20T14:25:02.857Z"
   },
   {
    "duration": 42,
    "start_time": "2022-02-20T14:25:02.998Z"
   },
   {
    "duration": 199,
    "start_time": "2022-02-20T14:25:03.043Z"
   },
   {
    "duration": 35,
    "start_time": "2022-02-20T14:25:03.245Z"
   },
   {
    "duration": 29,
    "start_time": "2022-02-20T14:25:03.283Z"
   },
   {
    "duration": 21,
    "start_time": "2022-02-20T14:25:03.315Z"
   },
   {
    "duration": 18,
    "start_time": "2022-02-20T14:25:03.339Z"
   },
   {
    "duration": 9,
    "start_time": "2022-02-20T14:25:03.360Z"
   },
   {
    "duration": 46,
    "start_time": "2022-02-20T14:25:03.371Z"
   },
   {
    "duration": 9,
    "start_time": "2022-02-20T14:25:03.420Z"
   },
   {
    "duration": 25,
    "start_time": "2022-02-20T14:25:03.432Z"
   },
   {
    "duration": 32,
    "start_time": "2022-02-20T14:25:03.460Z"
   },
   {
    "duration": 58,
    "start_time": "2022-02-20T14:25:03.495Z"
   },
   {
    "duration": 8,
    "start_time": "2022-02-20T14:25:03.555Z"
   },
   {
    "duration": 22,
    "start_time": "2022-02-20T14:25:03.565Z"
   },
   {
    "duration": 5,
    "start_time": "2022-02-20T14:25:03.611Z"
   },
   {
    "duration": 7,
    "start_time": "2022-02-20T14:25:03.623Z"
   },
   {
    "duration": 37,
    "start_time": "2022-02-20T14:25:03.633Z"
   },
   {
    "duration": 74,
    "start_time": "2022-02-20T14:25:03.673Z"
   },
   {
    "duration": 6,
    "start_time": "2022-02-20T14:25:03.750Z"
   },
   {
    "duration": 21,
    "start_time": "2022-02-20T14:25:03.758Z"
   },
   {
    "duration": 43,
    "start_time": "2022-02-20T14:25:03.782Z"
   },
   {
    "duration": 27,
    "start_time": "2022-02-20T14:25:03.828Z"
   },
   {
    "duration": 10,
    "start_time": "2022-02-20T14:25:03.857Z"
   },
   {
    "duration": 50,
    "start_time": "2022-02-20T14:25:03.870Z"
   },
   {
    "duration": 22,
    "start_time": "2022-02-20T14:25:03.923Z"
   },
   {
    "duration": 6,
    "start_time": "2022-02-20T14:25:03.947Z"
   },
   {
    "duration": 11,
    "start_time": "2022-02-20T14:25:03.955Z"
   },
   {
    "duration": 64,
    "start_time": "2022-02-20T14:25:03.969Z"
   },
   {
    "duration": 12,
    "start_time": "2022-02-20T14:25:04.036Z"
   },
   {
    "duration": 15,
    "start_time": "2022-02-20T14:25:04.051Z"
   },
   {
    "duration": 59,
    "start_time": "2022-02-20T14:25:04.068Z"
   },
   {
    "duration": 20,
    "start_time": "2022-02-20T14:25:04.129Z"
   },
   {
    "duration": 20,
    "start_time": "2022-02-20T14:25:04.152Z"
   },
   {
    "duration": 57,
    "start_time": "2022-02-20T14:25:04.174Z"
   },
   {
    "duration": 27,
    "start_time": "2022-02-20T14:25:04.234Z"
   },
   {
    "duration": 8,
    "start_time": "2022-02-20T14:25:04.264Z"
   },
   {
    "duration": 44,
    "start_time": "2022-02-20T14:25:04.275Z"
   },
   {
    "duration": 16,
    "start_time": "2022-02-20T14:25:04.322Z"
   },
   {
    "duration": 5,
    "start_time": "2022-02-20T14:25:04.341Z"
   },
   {
    "duration": 18,
    "start_time": "2022-02-20T14:25:04.348Z"
   },
   {
    "duration": 11,
    "start_time": "2022-02-20T14:25:04.369Z"
   },
   {
    "duration": 45,
    "start_time": "2022-02-20T14:25:04.383Z"
   },
   {
    "duration": 14,
    "start_time": "2022-02-20T14:25:04.431Z"
   },
   {
    "duration": 26,
    "start_time": "2022-02-20T14:25:04.448Z"
   },
   {
    "duration": 44,
    "start_time": "2022-02-20T14:25:04.476Z"
   },
   {
    "duration": 38,
    "start_time": "2022-02-20T14:25:04.523Z"
   },
   {
    "duration": 4,
    "start_time": "2022-02-20T14:25:04.564Z"
   },
   {
    "duration": 955,
    "start_time": "2022-02-20T14:27:09.068Z"
   },
   {
    "duration": 15,
    "start_time": "2022-02-20T14:27:19.837Z"
   },
   {
    "duration": 35,
    "start_time": "2022-02-20T14:27:47.337Z"
   },
   {
    "duration": 468,
    "start_time": "2022-02-20T14:28:25.174Z"
   },
   {
    "duration": 386,
    "start_time": "2022-02-20T14:28:35.583Z"
   },
   {
    "duration": 10,
    "start_time": "2022-02-20T14:28:41.549Z"
   },
   {
    "duration": 400,
    "start_time": "2022-02-20T14:33:58.764Z"
   },
   {
    "duration": 2543,
    "start_time": "2022-02-20T14:35:28.414Z"
   },
   {
    "duration": 6,
    "start_time": "2022-02-20T14:35:36.831Z"
   },
   {
    "duration": 13,
    "start_time": "2022-02-20T14:35:37.600Z"
   },
   {
    "duration": 11,
    "start_time": "2022-02-20T14:35:48.793Z"
   },
   {
    "duration": 40,
    "start_time": "2022-02-20T14:35:53.472Z"
   },
   {
    "duration": 14,
    "start_time": "2022-02-20T14:36:15.451Z"
   },
   {
    "duration": 10,
    "start_time": "2022-02-20T14:36:52.227Z"
   },
   {
    "duration": 9,
    "start_time": "2022-02-20T14:38:40.598Z"
   },
   {
    "duration": 10,
    "start_time": "2022-02-20T14:38:49.507Z"
   },
   {
    "duration": 10,
    "start_time": "2022-02-20T14:39:27.700Z"
   },
   {
    "duration": 13,
    "start_time": "2022-02-20T14:39:31.088Z"
   },
   {
    "duration": 47,
    "start_time": "2022-02-20T14:40:39.524Z"
   },
   {
    "duration": 12,
    "start_time": "2022-02-20T14:40:55.911Z"
   },
   {
    "duration": 148,
    "start_time": "2022-02-20T14:41:17.120Z"
   },
   {
    "duration": 9,
    "start_time": "2022-02-20T14:41:24.158Z"
   },
   {
    "duration": 33,
    "start_time": "2022-02-20T16:05:19.143Z"
   },
   {
    "duration": 618,
    "start_time": "2022-02-24T08:44:57.618Z"
   },
   {
    "duration": 23,
    "start_time": "2022-02-24T08:44:58.950Z"
   },
   {
    "duration": 3,
    "start_time": "2022-02-24T08:44:59.774Z"
   },
   {
    "duration": 24,
    "start_time": "2022-02-24T08:45:01.046Z"
   },
   {
    "duration": 159,
    "start_time": "2022-02-24T08:45:05.450Z"
   },
   {
    "duration": 30,
    "start_time": "2022-02-24T08:45:06.458Z"
   },
   {
    "duration": 90,
    "start_time": "2022-02-24T08:45:08.459Z"
   },
   {
    "duration": 23,
    "start_time": "2022-02-24T08:45:09.136Z"
   },
   {
    "duration": 185,
    "start_time": "2022-02-24T08:45:10.969Z"
   },
   {
    "duration": 27,
    "start_time": "2022-02-24T08:45:11.469Z"
   },
   {
    "duration": 11,
    "start_time": "2022-02-24T08:45:14.668Z"
   },
   {
    "duration": 12,
    "start_time": "2022-02-24T08:45:15.246Z"
   },
   {
    "duration": 12,
    "start_time": "2022-02-24T08:45:19.454Z"
   },
   {
    "duration": 6,
    "start_time": "2022-02-24T08:45:23.273Z"
   },
   {
    "duration": 5,
    "start_time": "2022-02-24T08:45:26.017Z"
   },
   {
    "duration": 5,
    "start_time": "2022-02-24T08:45:26.549Z"
   },
   {
    "duration": 8,
    "start_time": "2022-02-24T08:45:27.773Z"
   },
   {
    "duration": 22,
    "start_time": "2022-02-24T08:45:30.804Z"
   },
   {
    "duration": 37,
    "start_time": "2022-02-24T08:45:32.560Z"
   },
   {
    "duration": 7,
    "start_time": "2022-02-24T08:45:33.505Z"
   },
   {
    "duration": 19,
    "start_time": "2022-02-24T08:45:35.689Z"
   },
   {
    "duration": 5,
    "start_time": "2022-02-24T08:47:11.998Z"
   },
   {
    "duration": 5,
    "start_time": "2022-02-24T08:47:19.655Z"
   },
   {
    "duration": 26,
    "start_time": "2022-02-24T08:47:38.625Z"
   },
   {
    "duration": 37,
    "start_time": "2022-02-24T08:47:39.598Z"
   },
   {
    "duration": 5,
    "start_time": "2022-02-24T08:47:40.687Z"
   },
   {
    "duration": 10,
    "start_time": "2022-02-24T08:47:55.935Z"
   },
   {
    "duration": 16,
    "start_time": "2022-02-24T08:47:58.603Z"
   },
   {
    "duration": 21,
    "start_time": "2022-02-24T08:47:59.193Z"
   },
   {
    "duration": 5,
    "start_time": "2022-02-24T08:47:59.606Z"
   },
   {
    "duration": 17,
    "start_time": "2022-02-24T08:48:00.540Z"
   },
   {
    "duration": 18,
    "start_time": "2022-02-24T08:48:01.353Z"
   },
   {
    "duration": 5,
    "start_time": "2022-02-24T08:48:02.088Z"
   },
   {
    "duration": 7,
    "start_time": "2022-02-24T08:48:03.461Z"
   },
   {
    "duration": 19,
    "start_time": "2022-02-24T08:48:05.436Z"
   },
   {
    "duration": 9,
    "start_time": "2022-02-24T08:48:09.581Z"
   },
   {
    "duration": 9,
    "start_time": "2022-02-24T08:48:37.145Z"
   },
   {
    "duration": 24,
    "start_time": "2022-02-24T08:48:38.896Z"
   },
   {
    "duration": 14,
    "start_time": "2022-02-24T08:48:40.940Z"
   },
   {
    "duration": 16,
    "start_time": "2022-02-24T08:48:42.799Z"
   },
   {
    "duration": 19,
    "start_time": "2022-02-24T08:48:46.080Z"
   },
   {
    "duration": 21,
    "start_time": "2022-02-24T08:48:46.723Z"
   },
   {
    "duration": 5,
    "start_time": "2022-02-24T08:48:47.603Z"
   },
   {
    "duration": 10,
    "start_time": "2022-02-24T08:48:48.865Z"
   },
   {
    "duration": 8,
    "start_time": "2022-02-24T08:48:51.433Z"
   },
   {
    "duration": 4,
    "start_time": "2022-02-24T08:48:53.094Z"
   },
   {
    "duration": 10,
    "start_time": "2022-02-24T08:48:56.149Z"
   },
   {
    "duration": 9,
    "start_time": "2022-02-24T08:50:08.264Z"
   },
   {
    "duration": 15,
    "start_time": "2022-02-24T08:50:08.925Z"
   },
   {
    "duration": 10,
    "start_time": "2022-02-24T08:50:10.718Z"
   },
   {
    "duration": 16,
    "start_time": "2022-02-24T08:50:11.475Z"
   },
   {
    "duration": 9,
    "start_time": "2022-02-24T08:50:13.523Z"
   },
   {
    "duration": 25,
    "start_time": "2022-02-24T08:50:15.566Z"
   },
   {
    "duration": 5,
    "start_time": "2022-02-24T08:50:18.773Z"
   },
   {
    "duration": 10,
    "start_time": "2022-02-24T08:50:19.510Z"
   },
   {
    "duration": 29,
    "start_time": "2022-02-24T08:50:23.693Z"
   },
   {
    "duration": 12,
    "start_time": "2022-02-24T08:50:33.951Z"
   },
   {
    "duration": 8,
    "start_time": "2022-02-24T08:50:34.928Z"
   },
   {
    "duration": 8,
    "start_time": "2022-02-24T08:50:35.956Z"
   },
   {
    "duration": 8,
    "start_time": "2022-02-24T08:50:39.940Z"
   },
   {
    "duration": 7,
    "start_time": "2022-02-24T08:50:43.272Z"
   },
   {
    "duration": 9,
    "start_time": "2022-02-24T08:50:44.188Z"
   },
   {
    "duration": 24,
    "start_time": "2022-02-24T08:50:49.648Z"
   },
   {
    "duration": 5,
    "start_time": "2022-02-24T08:55:15.887Z"
   },
   {
    "duration": 26,
    "start_time": "2022-02-24T08:55:19.505Z"
   },
   {
    "duration": 4,
    "start_time": "2022-02-24T08:55:39.069Z"
   },
   {
    "duration": 26,
    "start_time": "2022-02-24T08:55:39.912Z"
   },
   {
    "duration": 646,
    "start_time": "2022-02-24T08:56:01.197Z"
   },
   {
    "duration": 23,
    "start_time": "2022-02-24T08:56:01.846Z"
   },
   {
    "duration": 3,
    "start_time": "2022-02-24T08:56:01.872Z"
   },
   {
    "duration": 40,
    "start_time": "2022-02-24T08:56:01.877Z"
   },
   {
    "duration": 193,
    "start_time": "2022-02-24T08:56:01.920Z"
   },
   {
    "duration": 31,
    "start_time": "2022-02-24T08:56:02.115Z"
   },
   {
    "duration": 104,
    "start_time": "2022-02-24T08:56:02.148Z"
   },
   {
    "duration": 22,
    "start_time": "2022-02-24T08:56:02.255Z"
   },
   {
    "duration": 157,
    "start_time": "2022-02-24T08:56:02.280Z"
   },
   {
    "duration": 26,
    "start_time": "2022-02-24T08:56:02.440Z"
   },
   {
    "duration": 23,
    "start_time": "2022-02-24T08:56:02.468Z"
   },
   {
    "duration": 36,
    "start_time": "2022-02-24T08:56:02.494Z"
   },
   {
    "duration": 40,
    "start_time": "2022-02-24T08:56:02.532Z"
   },
   {
    "duration": 26,
    "start_time": "2022-02-24T08:56:02.574Z"
   },
   {
    "duration": 14,
    "start_time": "2022-02-24T08:56:02.603Z"
   },
   {
    "duration": 41,
    "start_time": "2022-02-24T08:56:02.620Z"
   },
   {
    "duration": 26,
    "start_time": "2022-02-24T08:56:02.664Z"
   },
   {
    "duration": 53,
    "start_time": "2022-02-24T08:56:02.692Z"
   },
   {
    "duration": 37,
    "start_time": "2022-02-24T08:56:02.748Z"
   },
   {
    "duration": 7,
    "start_time": "2022-02-24T08:56:02.787Z"
   },
   {
    "duration": 30,
    "start_time": "2022-02-24T08:56:02.796Z"
   },
   {
    "duration": 4,
    "start_time": "2022-02-24T08:56:02.828Z"
   },
   {
    "duration": 14,
    "start_time": "2022-02-24T08:56:02.834Z"
   },
   {
    "duration": 36,
    "start_time": "2022-02-24T08:56:02.850Z"
   },
   {
    "duration": 43,
    "start_time": "2022-02-24T08:56:02.888Z"
   },
   {
    "duration": 5,
    "start_time": "2022-02-24T08:56:02.934Z"
   },
   {
    "duration": 27,
    "start_time": "2022-02-24T08:56:02.943Z"
   },
   {
    "duration": 27,
    "start_time": "2022-02-24T08:56:02.973Z"
   },
   {
    "duration": 27,
    "start_time": "2022-02-24T08:56:03.003Z"
   },
   {
    "duration": 6,
    "start_time": "2022-02-24T08:56:03.032Z"
   },
   {
    "duration": 32,
    "start_time": "2022-02-24T08:56:03.040Z"
   },
   {
    "duration": 44,
    "start_time": "2022-02-24T08:56:03.074Z"
   },
   {
    "duration": 5,
    "start_time": "2022-02-24T08:56:03.120Z"
   },
   {
    "duration": 16,
    "start_time": "2022-02-24T08:56:03.127Z"
   },
   {
    "duration": 32,
    "start_time": "2022-02-24T08:56:03.145Z"
   },
   {
    "duration": 10,
    "start_time": "2022-02-24T08:56:03.180Z"
   },
   {
    "duration": 22,
    "start_time": "2022-02-24T08:56:03.192Z"
   },
   {
    "duration": 24,
    "start_time": "2022-02-24T08:56:03.215Z"
   },
   {
    "duration": 14,
    "start_time": "2022-02-24T08:56:03.241Z"
   },
   {
    "duration": 17,
    "start_time": "2022-02-24T08:56:03.257Z"
   },
   {
    "duration": 87,
    "start_time": "2022-02-24T08:56:03.275Z"
   },
   {
    "duration": 55,
    "start_time": "2022-02-24T08:56:03.365Z"
   },
   {
    "duration": 13,
    "start_time": "2022-02-24T08:56:03.423Z"
   },
   {
    "duration": 29,
    "start_time": "2022-02-24T08:56:03.438Z"
   },
   {
    "duration": 30,
    "start_time": "2022-02-24T08:56:03.470Z"
   },
   {
    "duration": 15,
    "start_time": "2022-02-24T08:56:03.502Z"
   },
   {
    "duration": 19,
    "start_time": "2022-02-24T08:56:03.519Z"
   },
   {
    "duration": 24,
    "start_time": "2022-02-24T08:56:03.540Z"
   },
   {
    "duration": 21,
    "start_time": "2022-02-24T08:56:03.566Z"
   },
   {
    "duration": 27,
    "start_time": "2022-02-24T08:56:03.589Z"
   },
   {
    "duration": 15,
    "start_time": "2022-02-24T08:56:03.618Z"
   },
   {
    "duration": 18,
    "start_time": "2022-02-24T08:56:03.635Z"
   },
   {
    "duration": 39,
    "start_time": "2022-02-24T08:56:03.655Z"
   },
   {
    "duration": 5,
    "start_time": "2022-02-24T08:56:03.696Z"
   },
   {
    "duration": 17,
    "start_time": "2022-02-24T08:56:03.708Z"
   },
   {
    "duration": 34,
    "start_time": "2022-02-24T08:56:03.727Z"
   },
   {
    "duration": 10,
    "start_time": "2022-02-24T08:56:03.763Z"
   },
   {
    "duration": 8,
    "start_time": "2022-02-24T08:56:03.775Z"
   },
   {
    "duration": 28,
    "start_time": "2022-02-24T08:56:03.785Z"
   },
   {
    "duration": 14,
    "start_time": "2022-02-24T08:56:03.814Z"
   },
   {
    "duration": 29,
    "start_time": "2022-02-24T08:56:03.830Z"
   },
   {
    "duration": 42,
    "start_time": "2022-02-24T08:56:03.861Z"
   },
   {
    "duration": 35,
    "start_time": "2022-02-24T08:56:03.905Z"
   },
   {
    "duration": 25,
    "start_time": "2022-02-24T08:56:03.943Z"
   },
   {
    "duration": 44,
    "start_time": "2022-02-24T08:56:03.970Z"
   },
   {
    "duration": 10,
    "start_time": "2022-02-24T08:57:05.935Z"
   },
   {
    "duration": 5,
    "start_time": "2022-02-24T08:57:38.059Z"
   },
   {
    "duration": 26,
    "start_time": "2022-02-24T08:57:41.053Z"
   },
   {
    "duration": 6,
    "start_time": "2022-02-24T09:15:35.211Z"
   },
   {
    "duration": 3782,
    "start_time": "2022-02-24T09:16:00.425Z"
   },
   {
    "duration": 7,
    "start_time": "2022-02-24T09:16:48.247Z"
   },
   {
    "duration": 6,
    "start_time": "2022-02-24T09:17:14.290Z"
   },
   {
    "duration": 3524,
    "start_time": "2022-02-24T09:17:16.309Z"
   },
   {
    "duration": 6,
    "start_time": "2022-02-24T09:31:53.136Z"
   },
   {
    "duration": 3571,
    "start_time": "2022-02-24T09:31:57.290Z"
   },
   {
    "duration": 325,
    "start_time": "2022-02-24T09:32:42.873Z"
   },
   {
    "duration": 6,
    "start_time": "2022-02-24T09:32:54.789Z"
   },
   {
    "duration": 36,
    "start_time": "2022-02-24T09:32:57.879Z"
   },
   {
    "duration": 5,
    "start_time": "2022-02-24T09:33:42.779Z"
   },
   {
    "duration": 3992,
    "start_time": "2022-02-24T09:33:43.539Z"
   },
   {
    "duration": 7316,
    "start_time": "2022-02-24T09:35:05.384Z"
   },
   {
    "duration": 3511,
    "start_time": "2022-02-24T09:35:41.633Z"
   },
   {
    "duration": 7258,
    "start_time": "2022-02-24T09:37:27.517Z"
   },
   {
    "duration": 3587,
    "start_time": "2022-02-24T09:38:21.451Z"
   },
   {
    "duration": 4,
    "start_time": "2022-02-24T09:39:09.958Z"
   },
   {
    "duration": 3508,
    "start_time": "2022-02-24T09:39:11.895Z"
   },
   {
    "duration": 8129,
    "start_time": "2022-02-24T09:39:31.735Z"
   },
   {
    "duration": 3478,
    "start_time": "2022-02-24T09:39:44.508Z"
   },
   {
    "duration": 7521,
    "start_time": "2022-02-24T09:43:10.510Z"
   },
   {
    "duration": 5,
    "start_time": "2022-02-24T09:52:05.012Z"
   },
   {
    "duration": 3438,
    "start_time": "2022-02-24T09:52:08.349Z"
   },
   {
    "duration": 4,
    "start_time": "2022-02-24T09:54:50.314Z"
   },
   {
    "duration": 3378,
    "start_time": "2022-02-24T09:54:52.095Z"
   },
   {
    "duration": 6,
    "start_time": "2022-02-24T09:57:04.362Z"
   },
   {
    "duration": 3620,
    "start_time": "2022-02-24T09:57:05.177Z"
   },
   {
    "duration": 82,
    "start_time": "2022-02-24T10:42:32.188Z"
   },
   {
    "duration": 4178,
    "start_time": "2022-02-24T10:42:34.649Z"
   },
   {
    "duration": 5,
    "start_time": "2022-02-24T10:42:44.268Z"
   },
   {
    "duration": 3776,
    "start_time": "2022-02-24T10:42:46.782Z"
   },
   {
    "duration": 8099,
    "start_time": "2022-02-24T10:43:14.177Z"
   },
   {
    "duration": 5,
    "start_time": "2022-02-24T10:44:05.850Z"
   },
   {
    "duration": 7347,
    "start_time": "2022-02-24T10:44:08.160Z"
   },
   {
    "duration": 5,
    "start_time": "2022-02-24T10:44:49.673Z"
   },
   {
    "duration": 248,
    "start_time": "2022-02-24T10:48:41.919Z"
   },
   {
    "duration": 6046,
    "start_time": "2022-02-24T10:49:12.686Z"
   },
   {
    "duration": 10,
    "start_time": "2022-02-24T10:49:30.459Z"
   },
   {
    "duration": 4,
    "start_time": "2022-02-24T10:49:50.424Z"
   },
   {
    "duration": 225,
    "start_time": "2022-02-24T10:49:52.783Z"
   },
   {
    "duration": 31,
    "start_time": "2022-02-24T10:49:57.201Z"
   },
   {
    "duration": 4,
    "start_time": "2022-02-24T10:51:30.131Z"
   },
   {
    "duration": 249,
    "start_time": "2022-02-24T10:51:32.602Z"
   },
   {
    "duration": 30,
    "start_time": "2022-02-24T10:51:34.683Z"
   },
   {
    "duration": 660,
    "start_time": "2022-02-24T10:52:47.677Z"
   },
   {
    "duration": 19,
    "start_time": "2022-02-24T10:52:48.340Z"
   },
   {
    "duration": 7,
    "start_time": "2022-02-24T10:52:48.362Z"
   },
   {
    "duration": 35,
    "start_time": "2022-02-24T10:52:48.371Z"
   },
   {
    "duration": 166,
    "start_time": "2022-02-24T10:52:48.409Z"
   },
   {
    "duration": 41,
    "start_time": "2022-02-24T10:52:48.578Z"
   },
   {
    "duration": 97,
    "start_time": "2022-02-24T10:52:48.621Z"
   },
   {
    "duration": 22,
    "start_time": "2022-02-24T10:52:48.720Z"
   },
   {
    "duration": 158,
    "start_time": "2022-02-24T10:52:48.745Z"
   },
   {
    "duration": 29,
    "start_time": "2022-02-24T10:52:48.907Z"
   },
   {
    "duration": 11,
    "start_time": "2022-02-24T10:52:48.939Z"
   },
   {
    "duration": 14,
    "start_time": "2022-02-24T10:52:48.952Z"
   },
   {
    "duration": 12,
    "start_time": "2022-02-24T10:52:48.968Z"
   },
   {
    "duration": 31,
    "start_time": "2022-02-24T10:52:48.982Z"
   },
   {
    "duration": 9,
    "start_time": "2022-02-24T10:52:49.015Z"
   },
   {
    "duration": 7,
    "start_time": "2022-02-24T10:52:49.027Z"
   },
   {
    "duration": 10,
    "start_time": "2022-02-24T10:52:49.036Z"
   },
   {
    "duration": 25,
    "start_time": "2022-02-24T10:52:49.048Z"
   },
   {
    "duration": 64,
    "start_time": "2022-02-24T10:52:49.075Z"
   },
   {
    "duration": 6,
    "start_time": "2022-02-24T10:52:49.141Z"
   },
   {
    "duration": 23,
    "start_time": "2022-02-24T10:52:49.149Z"
   },
   {
    "duration": 5,
    "start_time": "2022-02-24T10:52:49.173Z"
   },
   {
    "duration": 28,
    "start_time": "2022-02-24T10:52:49.180Z"
   },
   {
    "duration": 29,
    "start_time": "2022-02-24T10:52:49.211Z"
   },
   {
    "duration": 65,
    "start_time": "2022-02-24T10:52:49.242Z"
   },
   {
    "duration": 5,
    "start_time": "2022-02-24T10:52:49.310Z"
   },
   {
    "duration": 17,
    "start_time": "2022-02-24T10:52:49.320Z"
   },
   {
    "duration": 22,
    "start_time": "2022-02-24T10:52:49.339Z"
   },
   {
    "duration": 44,
    "start_time": "2022-02-24T10:52:49.363Z"
   },
   {
    "duration": 6,
    "start_time": "2022-02-24T10:52:49.410Z"
   },
   {
    "duration": 23,
    "start_time": "2022-02-24T10:52:49.418Z"
   },
   {
    "duration": 19,
    "start_time": "2022-02-24T10:52:49.443Z"
   },
   {
    "duration": 4,
    "start_time": "2022-02-24T10:52:49.464Z"
   },
   {
    "duration": 37,
    "start_time": "2022-02-24T10:52:49.470Z"
   },
   {
    "duration": 20,
    "start_time": "2022-02-24T10:52:49.510Z"
   },
   {
    "duration": 10,
    "start_time": "2022-02-24T10:52:49.533Z"
   },
   {
    "duration": 14,
    "start_time": "2022-02-24T10:52:49.545Z"
   },
   {
    "duration": 49,
    "start_time": "2022-02-24T10:52:49.561Z"
   },
   {
    "duration": 15,
    "start_time": "2022-02-24T10:52:49.612Z"
   },
   {
    "duration": 17,
    "start_time": "2022-02-24T10:52:49.629Z"
   },
   {
    "duration": 20,
    "start_time": "2022-02-24T10:52:49.649Z"
   },
   {
    "duration": 56,
    "start_time": "2022-02-24T10:52:49.671Z"
   },
   {
    "duration": 6,
    "start_time": "2022-02-24T10:52:49.729Z"
   },
   {
    "duration": 13,
    "start_time": "2022-02-24T10:52:49.737Z"
   },
   {
    "duration": 9,
    "start_time": "2022-02-24T10:52:49.752Z"
   },
   {
    "duration": 4,
    "start_time": "2022-02-24T10:52:49.763Z"
   },
   {
    "duration": 43,
    "start_time": "2022-02-24T10:52:49.769Z"
   },
   {
    "duration": 15,
    "start_time": "2022-02-24T10:52:49.814Z"
   },
   {
    "duration": 15,
    "start_time": "2022-02-24T10:52:49.831Z"
   },
   {
    "duration": 10,
    "start_time": "2022-02-24T10:52:49.848Z"
   },
   {
    "duration": 16,
    "start_time": "2022-02-24T10:52:49.860Z"
   },
   {
    "duration": 36,
    "start_time": "2022-02-24T10:52:49.878Z"
   },
   {
    "duration": 24,
    "start_time": "2022-02-24T10:52:49.916Z"
   },
   {
    "duration": 4,
    "start_time": "2022-02-24T10:52:49.942Z"
   },
   {
    "duration": 13,
    "start_time": "2022-02-24T10:52:49.948Z"
   },
   {
    "duration": 55,
    "start_time": "2022-02-24T10:52:49.964Z"
   },
   {
    "duration": 10,
    "start_time": "2022-02-24T10:52:50.021Z"
   },
   {
    "duration": 7,
    "start_time": "2022-02-24T10:52:50.033Z"
   },
   {
    "duration": 16,
    "start_time": "2022-02-24T10:52:50.042Z"
   },
   {
    "duration": 17,
    "start_time": "2022-02-24T10:52:50.060Z"
   },
   {
    "duration": 38,
    "start_time": "2022-02-24T10:52:50.080Z"
   },
   {
    "duration": 17,
    "start_time": "2022-02-24T10:52:50.120Z"
   },
   {
    "duration": 28,
    "start_time": "2022-02-24T10:52:50.139Z"
   },
   {
    "duration": 4,
    "start_time": "2022-02-24T10:52:50.169Z"
   },
   {
    "duration": 33,
    "start_time": "2022-02-24T10:52:50.175Z"
   },
   {
    "duration": 7,
    "start_time": "2022-02-24T10:52:50.211Z"
   },
   {
    "duration": 34,
    "start_time": "2022-02-24T10:52:50.220Z"
   },
   {
    "duration": 6,
    "start_time": "2022-02-24T10:52:50.256Z"
   },
   {
    "duration": 243,
    "start_time": "2022-02-24T10:52:50.264Z"
   },
   {
    "duration": 30,
    "start_time": "2022-02-24T10:52:50.509Z"
   },
   {
    "duration": 4,
    "start_time": "2022-02-24T11:02:23.013Z"
   },
   {
    "duration": 241,
    "start_time": "2022-02-24T11:02:24.390Z"
   },
   {
    "duration": 32,
    "start_time": "2022-02-24T11:02:26.926Z"
   },
   {
    "duration": 25,
    "start_time": "2022-02-24T11:03:00.922Z"
   },
   {
    "duration": 585,
    "start_time": "2022-02-24T11:03:10.264Z"
   },
   {
    "duration": 19,
    "start_time": "2022-02-24T11:03:10.852Z"
   },
   {
    "duration": 23,
    "start_time": "2022-02-24T11:03:10.874Z"
   },
   {
    "duration": 27,
    "start_time": "2022-02-24T11:03:10.900Z"
   },
   {
    "duration": 173,
    "start_time": "2022-02-24T11:03:10.929Z"
   },
   {
    "duration": 30,
    "start_time": "2022-02-24T11:03:11.104Z"
   },
   {
    "duration": 106,
    "start_time": "2022-02-24T11:03:11.136Z"
   },
   {
    "duration": 21,
    "start_time": "2022-02-24T11:03:11.244Z"
   },
   {
    "duration": 155,
    "start_time": "2022-02-24T11:03:11.269Z"
   },
   {
    "duration": 28,
    "start_time": "2022-02-24T11:03:11.427Z"
   },
   {
    "duration": 13,
    "start_time": "2022-02-24T11:03:11.457Z"
   },
   {
    "duration": 18,
    "start_time": "2022-02-24T11:03:11.472Z"
   },
   {
    "duration": 11,
    "start_time": "2022-02-24T11:03:11.508Z"
   },
   {
    "duration": 13,
    "start_time": "2022-02-24T11:03:11.520Z"
   },
   {
    "duration": 9,
    "start_time": "2022-02-24T11:03:11.535Z"
   },
   {
    "duration": 7,
    "start_time": "2022-02-24T11:03:11.546Z"
   },
   {
    "duration": 10,
    "start_time": "2022-02-24T11:03:11.555Z"
   },
   {
    "duration": 54,
    "start_time": "2022-02-24T11:03:11.567Z"
   },
   {
    "duration": 34,
    "start_time": "2022-02-24T11:03:11.623Z"
   },
   {
    "duration": 6,
    "start_time": "2022-02-24T11:03:11.659Z"
   },
   {
    "duration": 43,
    "start_time": "2022-02-24T11:03:11.667Z"
   },
   {
    "duration": 4,
    "start_time": "2022-02-24T11:03:11.712Z"
   },
   {
    "duration": 10,
    "start_time": "2022-02-24T11:03:11.718Z"
   },
   {
    "duration": 30,
    "start_time": "2022-02-24T11:03:11.729Z"
   },
   {
    "duration": 62,
    "start_time": "2022-02-24T11:03:11.761Z"
   },
   {
    "duration": 6,
    "start_time": "2022-02-24T11:03:11.825Z"
   },
   {
    "duration": 12,
    "start_time": "2022-02-24T11:03:11.836Z"
   },
   {
    "duration": 17,
    "start_time": "2022-02-24T11:03:11.851Z"
   },
   {
    "duration": 44,
    "start_time": "2022-02-24T11:03:11.871Z"
   },
   {
    "duration": 6,
    "start_time": "2022-02-24T11:03:11.917Z"
   },
   {
    "duration": 22,
    "start_time": "2022-02-24T11:03:11.925Z"
   },
   {
    "duration": 19,
    "start_time": "2022-02-24T11:03:11.949Z"
   },
   {
    "duration": 4,
    "start_time": "2022-02-24T11:03:11.971Z"
   },
   {
    "duration": 35,
    "start_time": "2022-02-24T11:03:11.977Z"
   },
   {
    "duration": 22,
    "start_time": "2022-02-24T11:03:12.014Z"
   },
   {
    "duration": 9,
    "start_time": "2022-02-24T11:03:12.039Z"
   },
   {
    "duration": 11,
    "start_time": "2022-02-24T11:03:12.050Z"
   },
   {
    "duration": 54,
    "start_time": "2022-02-24T11:03:12.063Z"
   },
   {
    "duration": 15,
    "start_time": "2022-02-24T11:03:12.120Z"
   },
   {
    "duration": 18,
    "start_time": "2022-02-24T11:03:12.137Z"
   },
   {
    "duration": 20,
    "start_time": "2022-02-24T11:03:12.157Z"
   },
   {
    "duration": 45,
    "start_time": "2022-02-24T11:03:12.180Z"
   },
   {
    "duration": 6,
    "start_time": "2022-02-24T11:03:12.227Z"
   },
   {
    "duration": 44,
    "start_time": "2022-02-24T11:03:12.235Z"
   },
   {
    "duration": 26,
    "start_time": "2022-02-24T11:03:12.281Z"
   },
   {
    "duration": 8,
    "start_time": "2022-02-24T11:03:12.308Z"
   },
   {
    "duration": 21,
    "start_time": "2022-02-24T11:03:12.318Z"
   },
   {
    "duration": 13,
    "start_time": "2022-02-24T11:03:12.342Z"
   },
   {
    "duration": 16,
    "start_time": "2022-02-24T11:03:12.357Z"
   },
   {
    "duration": 14,
    "start_time": "2022-02-24T11:03:12.376Z"
   },
   {
    "duration": 61,
    "start_time": "2022-02-24T11:03:12.392Z"
   },
   {
    "duration": 30,
    "start_time": "2022-02-24T11:03:12.455Z"
   },
   {
    "duration": 81,
    "start_time": "2022-02-24T11:03:12.487Z"
   },
   {
    "duration": 5,
    "start_time": "2022-02-24T11:03:12.569Z"
   },
   {
    "duration": 18,
    "start_time": "2022-02-24T11:03:12.575Z"
   },
   {
    "duration": 30,
    "start_time": "2022-02-24T11:03:12.595Z"
   },
   {
    "duration": 10,
    "start_time": "2022-02-24T11:03:12.627Z"
   },
   {
    "duration": 7,
    "start_time": "2022-02-24T11:03:12.639Z"
   },
   {
    "duration": 8,
    "start_time": "2022-02-24T11:03:12.648Z"
   },
   {
    "duration": 11,
    "start_time": "2022-02-24T11:03:12.658Z"
   },
   {
    "duration": 14,
    "start_time": "2022-02-24T11:03:12.672Z"
   },
   {
    "duration": 10,
    "start_time": "2022-02-24T11:03:12.708Z"
   },
   {
    "duration": 23,
    "start_time": "2022-02-24T11:03:12.720Z"
   },
   {
    "duration": 4,
    "start_time": "2022-02-24T11:03:12.745Z"
   },
   {
    "duration": 33,
    "start_time": "2022-02-24T11:03:12.751Z"
   },
   {
    "duration": 25,
    "start_time": "2022-02-24T11:03:12.786Z"
   },
   {
    "duration": 27,
    "start_time": "2022-02-24T11:03:12.813Z"
   },
   {
    "duration": 5,
    "start_time": "2022-02-24T11:03:12.842Z"
   },
   {
    "duration": 266,
    "start_time": "2022-02-24T11:03:12.849Z"
   },
   {
    "duration": 25,
    "start_time": "2022-02-24T11:03:13.117Z"
   },
   {
    "duration": 31,
    "start_time": "2022-02-24T11:04:37.410Z"
   },
   {
    "duration": 5,
    "start_time": "2022-02-24T11:08:36.150Z"
   },
   {
    "duration": 241,
    "start_time": "2022-02-24T11:08:37.289Z"
   },
   {
    "duration": 30,
    "start_time": "2022-02-24T11:08:38.419Z"
   },
   {
    "duration": 5,
    "start_time": "2022-02-24T11:18:19.401Z"
   },
   {
    "duration": 236,
    "start_time": "2022-02-24T11:18:20.339Z"
   },
   {
    "duration": 31,
    "start_time": "2022-02-24T11:18:21.202Z"
   },
   {
    "duration": 693,
    "start_time": "2022-02-24T11:18:30.299Z"
   },
   {
    "duration": 19,
    "start_time": "2022-02-24T11:18:30.995Z"
   },
   {
    "duration": 12,
    "start_time": "2022-02-24T11:18:31.016Z"
   },
   {
    "duration": 30,
    "start_time": "2022-02-24T11:18:31.030Z"
   },
   {
    "duration": 194,
    "start_time": "2022-02-24T11:18:31.062Z"
   },
   {
    "duration": 30,
    "start_time": "2022-02-24T11:18:31.258Z"
   },
   {
    "duration": 103,
    "start_time": "2022-02-24T11:18:31.290Z"
   },
   {
    "duration": 31,
    "start_time": "2022-02-24T11:18:31.395Z"
   },
   {
    "duration": 160,
    "start_time": "2022-02-24T11:18:31.429Z"
   },
   {
    "duration": 31,
    "start_time": "2022-02-24T11:18:31.592Z"
   },
   {
    "duration": 34,
    "start_time": "2022-02-24T11:18:31.625Z"
   },
   {
    "duration": 33,
    "start_time": "2022-02-24T11:18:31.661Z"
   },
   {
    "duration": 26,
    "start_time": "2022-02-24T11:18:31.696Z"
   },
   {
    "duration": 12,
    "start_time": "2022-02-24T11:18:31.724Z"
   },
   {
    "duration": 26,
    "start_time": "2022-02-24T11:18:31.738Z"
   },
   {
    "duration": 16,
    "start_time": "2022-02-24T11:18:31.766Z"
   },
   {
    "duration": 19,
    "start_time": "2022-02-24T11:18:31.784Z"
   },
   {
    "duration": 31,
    "start_time": "2022-02-24T11:18:31.805Z"
   },
   {
    "duration": 37,
    "start_time": "2022-02-24T11:18:31.839Z"
   },
   {
    "duration": 6,
    "start_time": "2022-02-24T11:18:31.879Z"
   },
   {
    "duration": 32,
    "start_time": "2022-02-24T11:18:31.887Z"
   },
   {
    "duration": 5,
    "start_time": "2022-02-24T11:18:31.921Z"
   },
   {
    "duration": 15,
    "start_time": "2022-02-24T11:18:31.928Z"
   },
   {
    "duration": 29,
    "start_time": "2022-02-24T11:18:31.945Z"
   },
   {
    "duration": 58,
    "start_time": "2022-02-24T11:18:31.976Z"
   },
   {
    "duration": 4,
    "start_time": "2022-02-24T11:18:32.036Z"
   },
   {
    "duration": 11,
    "start_time": "2022-02-24T11:18:32.045Z"
   },
   {
    "duration": 22,
    "start_time": "2022-02-24T11:18:32.059Z"
   },
   {
    "duration": 42,
    "start_time": "2022-02-24T11:18:32.083Z"
   },
   {
    "duration": 7,
    "start_time": "2022-02-24T11:18:32.127Z"
   },
   {
    "duration": 21,
    "start_time": "2022-02-24T11:18:32.136Z"
   },
   {
    "duration": 20,
    "start_time": "2022-02-24T11:18:32.160Z"
   },
   {
    "duration": 28,
    "start_time": "2022-02-24T11:18:32.182Z"
   },
   {
    "duration": 12,
    "start_time": "2022-02-24T11:18:32.212Z"
   },
   {
    "duration": 40,
    "start_time": "2022-02-24T11:18:32.226Z"
   },
   {
    "duration": 12,
    "start_time": "2022-02-24T11:18:32.268Z"
   },
   {
    "duration": 18,
    "start_time": "2022-02-24T11:18:32.282Z"
   },
   {
    "duration": 26,
    "start_time": "2022-02-24T11:18:32.307Z"
   },
   {
    "duration": 17,
    "start_time": "2022-02-24T11:18:32.335Z"
   },
   {
    "duration": 46,
    "start_time": "2022-02-24T11:18:32.355Z"
   },
   {
    "duration": 21,
    "start_time": "2022-02-24T11:18:32.404Z"
   },
   {
    "duration": 25,
    "start_time": "2022-02-24T11:18:32.427Z"
   },
   {
    "duration": 6,
    "start_time": "2022-02-24T11:18:32.454Z"
   },
   {
    "duration": 20,
    "start_time": "2022-02-24T11:18:32.463Z"
   },
   {
    "duration": 41,
    "start_time": "2022-02-24T11:18:32.486Z"
   },
   {
    "duration": 21,
    "start_time": "2022-02-24T11:18:32.529Z"
   },
   {
    "duration": 22,
    "start_time": "2022-02-24T11:18:32.552Z"
   },
   {
    "duration": 24,
    "start_time": "2022-02-24T11:18:32.576Z"
   },
   {
    "duration": 22,
    "start_time": "2022-02-24T11:18:32.603Z"
   },
   {
    "duration": 21,
    "start_time": "2022-02-24T11:18:32.627Z"
   },
   {
    "duration": 23,
    "start_time": "2022-02-24T11:18:32.650Z"
   },
   {
    "duration": 14,
    "start_time": "2022-02-24T11:18:32.675Z"
   },
   {
    "duration": 27,
    "start_time": "2022-02-24T11:18:32.691Z"
   },
   {
    "duration": 4,
    "start_time": "2022-02-24T11:18:32.720Z"
   },
   {
    "duration": 31,
    "start_time": "2022-02-24T11:18:32.726Z"
   },
   {
    "duration": 33,
    "start_time": "2022-02-24T11:18:32.759Z"
   },
   {
    "duration": 19,
    "start_time": "2022-02-24T11:18:32.794Z"
   },
   {
    "duration": 8,
    "start_time": "2022-02-24T11:18:32.815Z"
   },
   {
    "duration": 12,
    "start_time": "2022-02-24T11:18:32.825Z"
   },
   {
    "duration": 13,
    "start_time": "2022-02-24T11:18:32.839Z"
   },
   {
    "duration": 18,
    "start_time": "2022-02-24T11:18:32.854Z"
   },
   {
    "duration": 14,
    "start_time": "2022-02-24T11:18:32.875Z"
   },
   {
    "duration": 36,
    "start_time": "2022-02-24T11:18:32.891Z"
   },
   {
    "duration": 4,
    "start_time": "2022-02-24T11:18:32.929Z"
   },
   {
    "duration": 30,
    "start_time": "2022-02-24T11:18:32.935Z"
   },
   {
    "duration": 5,
    "start_time": "2022-02-24T11:18:32.967Z"
   },
   {
    "duration": 55,
    "start_time": "2022-02-24T11:18:32.974Z"
   },
   {
    "duration": 5,
    "start_time": "2022-02-24T11:18:33.031Z"
   },
   {
    "duration": 280,
    "start_time": "2022-02-24T11:18:33.038Z"
   },
   {
    "duration": 30,
    "start_time": "2022-02-24T11:18:33.320Z"
   },
   {
    "duration": 4,
    "start_time": "2022-02-24T11:21:45.413Z"
   },
   {
    "duration": 215,
    "start_time": "2022-02-24T11:21:46.423Z"
   },
   {
    "duration": 34,
    "start_time": "2022-02-24T11:21:47.323Z"
   },
   {
    "duration": 4,
    "start_time": "2022-02-24T11:24:35.152Z"
   },
   {
    "duration": 243,
    "start_time": "2022-02-24T11:24:35.541Z"
   },
   {
    "duration": 32,
    "start_time": "2022-02-24T11:24:35.921Z"
   },
   {
    "duration": 5,
    "start_time": "2022-02-24T11:25:45.029Z"
   },
   {
    "duration": 236,
    "start_time": "2022-02-24T11:25:45.484Z"
   },
   {
    "duration": 29,
    "start_time": "2022-02-24T11:25:45.902Z"
   },
   {
    "duration": 4,
    "start_time": "2022-02-24T11:26:13.847Z"
   },
   {
    "duration": 246,
    "start_time": "2022-02-24T11:26:15.782Z"
   },
   {
    "duration": 33,
    "start_time": "2022-02-24T11:26:16.030Z"
   },
   {
    "duration": 89,
    "start_time": "2022-02-24T11:26:55.426Z"
   },
   {
    "duration": 85,
    "start_time": "2022-02-24T11:27:07.602Z"
   },
   {
    "duration": 81,
    "start_time": "2022-02-24T11:27:11.364Z"
   },
   {
    "duration": 81,
    "start_time": "2022-02-24T11:27:15.638Z"
   },
   {
    "duration": 114,
    "start_time": "2022-02-24T11:28:10.972Z"
   },
   {
    "duration": 6,
    "start_time": "2022-02-24T11:28:19.062Z"
   },
   {
    "duration": 319,
    "start_time": "2022-02-24T11:28:21.078Z"
   },
   {
    "duration": 30,
    "start_time": "2022-02-24T11:28:21.548Z"
   },
   {
    "duration": 330,
    "start_time": "2022-02-24T11:32:36.836Z"
   },
   {
    "duration": 7,
    "start_time": "2022-02-24T11:32:49.117Z"
   },
   {
    "duration": 7,
    "start_time": "2022-02-24T11:33:06.444Z"
   },
   {
    "duration": 31,
    "start_time": "2022-02-24T11:33:11.093Z"
   },
   {
    "duration": 30,
    "start_time": "2022-02-24T11:34:08.461Z"
   },
   {
    "duration": 240,
    "start_time": "2022-02-24T11:40:35.422Z"
   },
   {
    "duration": 248,
    "start_time": "2022-02-24T11:41:11.510Z"
   },
   {
    "duration": 91,
    "start_time": "2022-02-24T11:41:19.465Z"
   },
   {
    "duration": 248,
    "start_time": "2022-02-24T11:41:41.714Z"
   },
   {
    "duration": 271,
    "start_time": "2022-02-24T11:41:57.304Z"
   },
   {
    "duration": 223,
    "start_time": "2022-02-24T11:43:03.668Z"
   },
   {
    "duration": 367,
    "start_time": "2022-02-24T11:43:16.494Z"
   },
   {
    "duration": 462,
    "start_time": "2022-02-24T11:44:01.941Z"
   },
   {
    "duration": 456,
    "start_time": "2022-02-24T11:44:49.902Z"
   },
   {
    "duration": 453,
    "start_time": "2022-02-24T11:48:42.005Z"
   },
   {
    "duration": 526,
    "start_time": "2022-02-24T11:48:54.959Z"
   },
   {
    "duration": 450,
    "start_time": "2022-02-24T11:49:01.917Z"
   },
   {
    "duration": 231,
    "start_time": "2022-02-24T11:49:16.318Z"
   },
   {
    "duration": 226,
    "start_time": "2022-02-24T11:49:33.021Z"
   },
   {
    "duration": 222,
    "start_time": "2022-02-24T11:53:31.261Z"
   },
   {
    "duration": 27,
    "start_time": "2022-02-24T11:54:11.761Z"
   },
   {
    "duration": 9,
    "start_time": "2022-02-24T11:54:24.832Z"
   },
   {
    "duration": 435,
    "start_time": "2022-02-24T12:33:21.789Z"
   },
   {
    "duration": 446,
    "start_time": "2022-02-24T12:33:36.080Z"
   },
   {
    "duration": 242,
    "start_time": "2022-02-24T12:34:01.976Z"
   },
   {
    "duration": 305,
    "start_time": "2022-02-24T12:34:18.478Z"
   },
   {
    "duration": 29,
    "start_time": "2022-02-24T12:34:40.949Z"
   },
   {
    "duration": 455,
    "start_time": "2022-02-24T12:35:20.118Z"
   },
   {
    "duration": 433,
    "start_time": "2022-02-24T12:35:36.887Z"
   },
   {
    "duration": 445,
    "start_time": "2022-02-24T12:37:58.053Z"
   },
   {
    "duration": 221,
    "start_time": "2022-02-24T12:38:18.514Z"
   },
   {
    "duration": 223,
    "start_time": "2022-02-24T12:38:26.690Z"
   },
   {
    "duration": 43,
    "start_time": "2022-02-24T12:38:57.587Z"
   },
   {
    "duration": 51,
    "start_time": "2022-02-24T12:39:49.540Z"
   },
   {
    "duration": 48,
    "start_time": "2022-02-24T12:40:00.482Z"
   },
   {
    "duration": 53,
    "start_time": "2022-02-24T12:40:07.856Z"
   },
   {
    "duration": 649,
    "start_time": "2022-02-24T12:40:20.558Z"
   },
   {
    "duration": 20,
    "start_time": "2022-02-24T12:40:21.210Z"
   },
   {
    "duration": 39,
    "start_time": "2022-02-24T12:40:21.233Z"
   },
   {
    "duration": 55,
    "start_time": "2022-02-24T12:40:21.274Z"
   },
   {
    "duration": 177,
    "start_time": "2022-02-24T12:40:21.331Z"
   },
   {
    "duration": 29,
    "start_time": "2022-02-24T12:40:21.510Z"
   },
   {
    "duration": 105,
    "start_time": "2022-02-24T12:40:21.541Z"
   },
   {
    "duration": 21,
    "start_time": "2022-02-24T12:40:21.650Z"
   },
   {
    "duration": 162,
    "start_time": "2022-02-24T12:40:21.674Z"
   },
   {
    "duration": 26,
    "start_time": "2022-02-24T12:40:21.838Z"
   },
   {
    "duration": 12,
    "start_time": "2022-02-24T12:40:21.867Z"
   },
   {
    "duration": 32,
    "start_time": "2022-02-24T12:40:21.881Z"
   },
   {
    "duration": 11,
    "start_time": "2022-02-24T12:40:21.916Z"
   },
   {
    "duration": 18,
    "start_time": "2022-02-24T12:40:21.929Z"
   },
   {
    "duration": 7,
    "start_time": "2022-02-24T12:40:21.949Z"
   },
   {
    "duration": 8,
    "start_time": "2022-02-24T12:40:21.958Z"
   },
   {
    "duration": 20,
    "start_time": "2022-02-24T12:40:21.968Z"
   },
   {
    "duration": 40,
    "start_time": "2022-02-24T12:40:21.991Z"
   },
   {
    "duration": 37,
    "start_time": "2022-02-24T12:40:22.033Z"
   },
   {
    "duration": 6,
    "start_time": "2022-02-24T12:40:22.072Z"
   },
   {
    "duration": 44,
    "start_time": "2022-02-24T12:40:22.080Z"
   },
   {
    "duration": 5,
    "start_time": "2022-02-24T12:40:22.126Z"
   },
   {
    "duration": 6,
    "start_time": "2022-02-24T12:40:22.135Z"
   },
   {
    "duration": 25,
    "start_time": "2022-02-24T12:40:22.144Z"
   },
   {
    "duration": 61,
    "start_time": "2022-02-24T12:40:22.171Z"
   },
   {
    "duration": 5,
    "start_time": "2022-02-24T12:40:22.233Z"
   },
   {
    "duration": 11,
    "start_time": "2022-02-24T12:40:22.240Z"
   },
   {
    "duration": 21,
    "start_time": "2022-02-24T12:40:22.253Z"
   },
   {
    "duration": 44,
    "start_time": "2022-02-24T12:40:22.276Z"
   },
   {
    "duration": 5,
    "start_time": "2022-02-24T12:40:22.322Z"
   },
   {
    "duration": 22,
    "start_time": "2022-02-24T12:40:22.330Z"
   },
   {
    "duration": 19,
    "start_time": "2022-02-24T12:40:22.354Z"
   },
   {
    "duration": 4,
    "start_time": "2022-02-24T12:40:22.375Z"
   },
   {
    "duration": 32,
    "start_time": "2022-02-24T12:40:22.381Z"
   },
   {
    "duration": 22,
    "start_time": "2022-02-24T12:40:22.416Z"
   },
   {
    "duration": 10,
    "start_time": "2022-02-24T12:40:22.440Z"
   },
   {
    "duration": 19,
    "start_time": "2022-02-24T12:40:22.452Z"
   },
   {
    "duration": 45,
    "start_time": "2022-02-24T12:40:22.473Z"
   },
   {
    "duration": 14,
    "start_time": "2022-02-24T12:40:22.520Z"
   },
   {
    "duration": 16,
    "start_time": "2022-02-24T12:40:22.536Z"
   },
   {
    "duration": 18,
    "start_time": "2022-02-24T12:40:22.554Z"
   },
   {
    "duration": 50,
    "start_time": "2022-02-24T12:40:22.575Z"
   },
   {
    "duration": 5,
    "start_time": "2022-02-24T12:40:22.627Z"
   },
   {
    "duration": 13,
    "start_time": "2022-02-24T12:40:22.634Z"
   },
   {
    "duration": 13,
    "start_time": "2022-02-24T12:40:22.649Z"
   },
   {
    "duration": 11,
    "start_time": "2022-02-24T12:40:22.664Z"
   },
   {
    "duration": 32,
    "start_time": "2022-02-24T12:40:22.677Z"
   },
   {
    "duration": 18,
    "start_time": "2022-02-24T12:40:22.711Z"
   },
   {
    "duration": 18,
    "start_time": "2022-02-24T12:40:22.731Z"
   },
   {
    "duration": 23,
    "start_time": "2022-02-24T12:40:22.752Z"
   },
   {
    "duration": 22,
    "start_time": "2022-02-24T12:40:22.777Z"
   },
   {
    "duration": 15,
    "start_time": "2022-02-24T12:40:22.801Z"
   },
   {
    "duration": 24,
    "start_time": "2022-02-24T12:40:22.818Z"
   },
   {
    "duration": 4,
    "start_time": "2022-02-24T12:40:22.845Z"
   },
   {
    "duration": 21,
    "start_time": "2022-02-24T12:40:22.850Z"
   },
   {
    "duration": 40,
    "start_time": "2022-02-24T12:40:22.873Z"
   },
   {
    "duration": 10,
    "start_time": "2022-02-24T12:40:22.915Z"
   },
   {
    "duration": 7,
    "start_time": "2022-02-24T12:40:22.927Z"
   },
   {
    "duration": 10,
    "start_time": "2022-02-24T12:40:22.936Z"
   },
   {
    "duration": 13,
    "start_time": "2022-02-24T12:40:22.948Z"
   },
   {
    "duration": 14,
    "start_time": "2022-02-24T12:40:22.963Z"
   },
   {
    "duration": 38,
    "start_time": "2022-02-24T12:40:22.979Z"
   },
   {
    "duration": 25,
    "start_time": "2022-02-24T12:40:23.019Z"
   },
   {
    "duration": 4,
    "start_time": "2022-02-24T12:40:23.045Z"
   },
   {
    "duration": 37,
    "start_time": "2022-02-24T12:40:23.051Z"
   },
   {
    "duration": 17,
    "start_time": "2022-02-24T12:40:23.090Z"
   },
   {
    "duration": 27,
    "start_time": "2022-02-24T12:40:23.109Z"
   },
   {
    "duration": 5,
    "start_time": "2022-02-24T12:40:23.141Z"
   },
   {
    "duration": 259,
    "start_time": "2022-02-24T12:40:23.149Z"
   },
   {
    "duration": 8,
    "start_time": "2022-02-24T12:40:23.410Z"
   },
   {
    "duration": 12,
    "start_time": "2022-02-24T12:40:23.420Z"
   },
   {
    "duration": 96,
    "start_time": "2022-02-24T12:40:23.434Z"
   },
   {
    "duration": 465,
    "start_time": "2022-02-24T12:40:23.532Z"
   },
   {
    "duration": 288,
    "start_time": "2022-02-24T12:40:24.007Z"
   },
   {
    "duration": 32,
    "start_time": "2022-02-24T12:40:24.297Z"
   },
   {
    "duration": 463,
    "start_time": "2022-02-24T12:40:24.331Z"
   },
   {
    "duration": 230,
    "start_time": "2022-02-24T12:40:24.796Z"
   },
   {
    "duration": 29,
    "start_time": "2022-02-24T12:40:25.029Z"
   },
   {
    "duration": 464,
    "start_time": "2022-02-24T12:40:25.060Z"
   },
   {
    "duration": 235,
    "start_time": "2022-02-24T12:40:25.525Z"
   },
   {
    "duration": 47,
    "start_time": "2022-02-24T12:40:25.762Z"
   },
   {
    "duration": 28,
    "start_time": "2022-02-24T12:40:46.373Z"
   },
   {
    "duration": 35,
    "start_time": "2022-02-24T12:40:56.932Z"
   },
   {
    "duration": 31,
    "start_time": "2022-02-24T12:41:29.252Z"
   },
   {
    "duration": 3,
    "start_time": "2022-02-24T12:41:45.986Z"
   },
   {
    "duration": 682,
    "start_time": "2022-02-25T07:28:13.901Z"
   },
   {
    "duration": 61,
    "start_time": "2022-02-25T07:28:14.586Z"
   },
   {
    "duration": 111,
    "start_time": "2022-02-25T07:28:14.649Z"
   },
   {
    "duration": 178,
    "start_time": "2022-02-25T07:28:14.763Z"
   },
   {
    "duration": 324,
    "start_time": "2022-02-25T07:28:14.943Z"
   },
   {
    "duration": 39,
    "start_time": "2022-02-25T07:28:15.269Z"
   },
   {
    "duration": 94,
    "start_time": "2022-02-25T07:28:15.310Z"
   },
   {
    "duration": 22,
    "start_time": "2022-02-25T07:28:15.407Z"
   },
   {
    "duration": 150,
    "start_time": "2022-02-25T07:28:15.431Z"
   },
   {
    "duration": 27,
    "start_time": "2022-02-25T07:28:15.583Z"
   },
   {
    "duration": 9,
    "start_time": "2022-02-25T07:28:15.611Z"
   },
   {
    "duration": 16,
    "start_time": "2022-02-25T07:28:15.622Z"
   },
   {
    "duration": 9,
    "start_time": "2022-02-25T07:28:15.639Z"
   },
   {
    "duration": 8,
    "start_time": "2022-02-25T07:28:15.650Z"
   },
   {
    "duration": 8,
    "start_time": "2022-02-25T07:28:15.659Z"
   },
   {
    "duration": 29,
    "start_time": "2022-02-25T07:28:15.668Z"
   },
   {
    "duration": 9,
    "start_time": "2022-02-25T07:28:15.699Z"
   },
   {
    "duration": 28,
    "start_time": "2022-02-25T07:28:15.710Z"
   },
   {
    "duration": 31,
    "start_time": "2022-02-25T07:28:15.740Z"
   },
   {
    "duration": 23,
    "start_time": "2022-02-25T07:28:15.773Z"
   },
   {
    "duration": 23,
    "start_time": "2022-02-25T07:28:15.797Z"
   },
   {
    "duration": 4,
    "start_time": "2022-02-25T07:28:15.822Z"
   },
   {
    "duration": 5,
    "start_time": "2022-02-25T07:28:15.830Z"
   },
   {
    "duration": 26,
    "start_time": "2022-02-25T07:28:15.838Z"
   },
   {
    "duration": 57,
    "start_time": "2022-02-25T07:28:15.866Z"
   },
   {
    "duration": 5,
    "start_time": "2022-02-25T07:28:15.924Z"
   },
   {
    "duration": 15,
    "start_time": "2022-02-25T07:28:15.930Z"
   },
   {
    "duration": 19,
    "start_time": "2022-02-25T07:28:15.947Z"
   },
   {
    "duration": 32,
    "start_time": "2022-02-25T07:28:15.968Z"
   },
   {
    "duration": 6,
    "start_time": "2022-02-25T07:28:16.002Z"
   },
   {
    "duration": 20,
    "start_time": "2022-02-25T07:28:16.010Z"
   },
   {
    "duration": 19,
    "start_time": "2022-02-25T07:28:16.032Z"
   },
   {
    "duration": 5,
    "start_time": "2022-02-25T07:28:16.053Z"
   },
   {
    "duration": 35,
    "start_time": "2022-02-25T07:28:16.059Z"
   },
   {
    "duration": 17,
    "start_time": "2022-02-25T07:28:16.096Z"
   },
   {
    "duration": 9,
    "start_time": "2022-02-25T07:28:16.114Z"
   },
   {
    "duration": 9,
    "start_time": "2022-02-25T07:28:16.125Z"
   },
   {
    "duration": 24,
    "start_time": "2022-02-25T07:28:16.135Z"
   },
   {
    "duration": 39,
    "start_time": "2022-02-25T07:28:16.161Z"
   },
   {
    "duration": 14,
    "start_time": "2022-02-25T07:28:16.201Z"
   },
   {
    "duration": 19,
    "start_time": "2022-02-25T07:28:16.217Z"
   },
   {
    "duration": 20,
    "start_time": "2022-02-25T07:28:16.237Z"
   },
   {
    "duration": 4,
    "start_time": "2022-02-25T07:28:16.259Z"
   },
   {
    "duration": 10,
    "start_time": "2022-02-25T07:28:16.295Z"
   },
   {
    "duration": 10,
    "start_time": "2022-02-25T07:28:16.307Z"
   },
   {
    "duration": 4,
    "start_time": "2022-02-25T07:28:16.319Z"
   },
   {
    "duration": 15,
    "start_time": "2022-02-25T07:28:16.325Z"
   },
   {
    "duration": 12,
    "start_time": "2022-02-25T07:28:16.342Z"
   },
   {
    "duration": 12,
    "start_time": "2022-02-25T07:28:16.356Z"
   },
   {
    "duration": 30,
    "start_time": "2022-02-25T07:28:16.370Z"
   },
   {
    "duration": 14,
    "start_time": "2022-02-25T07:28:16.402Z"
   },
   {
    "duration": 9,
    "start_time": "2022-02-25T07:28:16.419Z"
   },
   {
    "duration": 21,
    "start_time": "2022-02-25T07:28:16.430Z"
   },
   {
    "duration": 4,
    "start_time": "2022-02-25T07:28:16.453Z"
   },
   {
    "duration": 42,
    "start_time": "2022-02-25T07:28:16.458Z"
   },
   {
    "duration": 29,
    "start_time": "2022-02-25T07:28:16.503Z"
   },
   {
    "duration": 9,
    "start_time": "2022-02-25T07:28:16.533Z"
   },
   {
    "duration": 6,
    "start_time": "2022-02-25T07:28:16.543Z"
   },
   {
    "duration": 12,
    "start_time": "2022-02-25T07:28:16.551Z"
   },
   {
    "duration": 32,
    "start_time": "2022-02-25T07:28:16.565Z"
   },
   {
    "duration": 7,
    "start_time": "2022-02-25T07:28:16.599Z"
   },
   {
    "duration": 14,
    "start_time": "2022-02-25T07:28:16.608Z"
   },
   {
    "duration": 26,
    "start_time": "2022-02-25T07:28:16.624Z"
   },
   {
    "duration": 6,
    "start_time": "2022-02-25T07:28:16.651Z"
   },
   {
    "duration": 44,
    "start_time": "2022-02-25T07:28:16.659Z"
   },
   {
    "duration": 4,
    "start_time": "2022-02-25T07:28:16.705Z"
   },
   {
    "duration": 22,
    "start_time": "2022-02-25T07:28:16.710Z"
   },
   {
    "duration": 3,
    "start_time": "2022-02-25T07:28:16.737Z"
   },
   {
    "duration": 254,
    "start_time": "2022-02-25T07:28:16.742Z"
   },
   {
    "duration": 7,
    "start_time": "2022-02-25T07:28:16.998Z"
   },
   {
    "duration": 10,
    "start_time": "2022-02-25T07:28:17.006Z"
   },
   {
    "duration": 87,
    "start_time": "2022-02-25T07:28:17.017Z"
   },
   {
    "duration": 8,
    "start_time": "2022-02-25T07:28:17.106Z"
   },
   {
    "duration": 424,
    "start_time": "2022-02-25T07:28:17.116Z"
   },
   {
    "duration": 271,
    "start_time": "2022-02-25T07:28:17.542Z"
   },
   {
    "duration": 26,
    "start_time": "2022-02-25T07:28:17.814Z"
   },
   {
    "duration": 477,
    "start_time": "2022-02-25T07:28:17.842Z"
   },
   {
    "duration": 223,
    "start_time": "2022-02-25T07:28:18.321Z"
   },
   {
    "duration": 27,
    "start_time": "2022-02-25T07:28:18.545Z"
   },
   {
    "duration": 451,
    "start_time": "2022-02-25T07:28:18.574Z"
   },
   {
    "duration": 209,
    "start_time": "2022-02-25T07:28:19.027Z"
   },
   {
    "duration": 26,
    "start_time": "2022-02-25T07:28:19.239Z"
   },
   {
    "duration": 50,
    "start_time": "2022-02-25T07:28:19.267Z"
   },
   {
    "duration": 8,
    "start_time": "2022-02-25T07:31:23.700Z"
   },
   {
    "duration": 9,
    "start_time": "2022-02-25T07:32:00.948Z"
   },
   {
    "duration": 419,
    "start_time": "2022-02-25T07:32:01.027Z"
   },
   {
    "duration": 9,
    "start_time": "2022-02-25T07:35:53.831Z"
   },
   {
    "duration": 429,
    "start_time": "2022-02-25T07:36:00.636Z"
   },
   {
    "duration": 296,
    "start_time": "2022-02-25T07:36:22.392Z"
   },
   {
    "duration": 340,
    "start_time": "2022-02-25T07:36:59.338Z"
   },
   {
    "duration": 88,
    "start_time": "2022-02-25T07:37:05.141Z"
   },
   {
    "duration": 23,
    "start_time": "2022-02-25T07:37:08.961Z"
   },
   {
    "duration": 32,
    "start_time": "2022-02-25T07:37:27.361Z"
   },
   {
    "duration": 418,
    "start_time": "2022-02-25T07:38:10.368Z"
   },
   {
    "duration": 8,
    "start_time": "2022-02-25T07:38:26.764Z"
   },
   {
    "duration": 207,
    "start_time": "2022-02-25T07:38:52.578Z"
   },
   {
    "duration": 201,
    "start_time": "2022-02-25T07:38:57.357Z"
   },
   {
    "duration": 28,
    "start_time": "2022-02-25T07:39:27.857Z"
   },
   {
    "duration": 24,
    "start_time": "2022-02-25T07:39:41.179Z"
   },
   {
    "duration": 428,
    "start_time": "2022-02-25T07:40:00.066Z"
   },
   {
    "duration": 414,
    "start_time": "2022-02-25T07:40:05.069Z"
   },
   {
    "duration": 9,
    "start_time": "2022-02-25T07:40:15.475Z"
   },
   {
    "duration": 205,
    "start_time": "2022-02-25T07:40:51.236Z"
   },
   {
    "duration": 486,
    "start_time": "2022-02-25T07:46:58.488Z"
   },
   {
    "duration": 1211,
    "start_time": "2022-02-25T07:47:08.634Z"
   },
   {
    "duration": 365,
    "start_time": "2022-02-25T07:47:11.725Z"
   },
   {
    "duration": 341,
    "start_time": "2022-02-25T07:47:18.035Z"
   },
   {
    "duration": 207,
    "start_time": "2022-02-25T07:51:01.389Z"
   },
   {
    "duration": 522,
    "start_time": "2022-02-25T07:51:15.091Z"
   },
   {
    "duration": 323,
    "start_time": "2022-02-25T07:51:25.744Z"
   },
   {
    "duration": 285,
    "start_time": "2022-02-25T07:51:29.181Z"
   },
   {
    "duration": 256,
    "start_time": "2022-02-25T07:51:39.543Z"
   },
   {
    "duration": 400,
    "start_time": "2022-02-25T07:51:52.079Z"
   },
   {
    "duration": 332,
    "start_time": "2022-02-25T07:52:00.272Z"
   },
   {
    "duration": 310,
    "start_time": "2022-02-25T07:52:04.218Z"
   },
   {
    "duration": 204,
    "start_time": "2022-02-25T07:52:16.975Z"
   },
   {
    "duration": 563,
    "start_time": "2022-02-25T07:52:50.435Z"
   },
   {
    "duration": 18,
    "start_time": "2022-02-25T07:52:51.001Z"
   },
   {
    "duration": 7,
    "start_time": "2022-02-25T07:52:51.021Z"
   },
   {
    "duration": 26,
    "start_time": "2022-02-25T07:52:51.030Z"
   },
   {
    "duration": 158,
    "start_time": "2022-02-25T07:52:51.059Z"
   },
   {
    "duration": 27,
    "start_time": "2022-02-25T07:52:51.219Z"
   },
   {
    "duration": 99,
    "start_time": "2022-02-25T07:52:51.248Z"
   },
   {
    "duration": 20,
    "start_time": "2022-02-25T07:52:51.350Z"
   },
   {
    "duration": 143,
    "start_time": "2022-02-25T07:52:51.372Z"
   },
   {
    "duration": 25,
    "start_time": "2022-02-25T07:52:51.516Z"
   },
   {
    "duration": 9,
    "start_time": "2022-02-25T07:52:51.543Z"
   },
   {
    "duration": 15,
    "start_time": "2022-02-25T07:52:51.554Z"
   },
   {
    "duration": 26,
    "start_time": "2022-02-25T07:52:51.570Z"
   },
   {
    "duration": 8,
    "start_time": "2022-02-25T07:52:51.597Z"
   },
   {
    "duration": 10,
    "start_time": "2022-02-25T07:52:51.607Z"
   },
   {
    "duration": 10,
    "start_time": "2022-02-25T07:52:51.618Z"
   },
   {
    "duration": 10,
    "start_time": "2022-02-25T07:52:51.630Z"
   },
   {
    "duration": 24,
    "start_time": "2022-02-25T07:52:51.644Z"
   },
   {
    "duration": 53,
    "start_time": "2022-02-25T07:52:51.671Z"
   },
   {
    "duration": 6,
    "start_time": "2022-02-25T07:52:51.725Z"
   },
   {
    "duration": 23,
    "start_time": "2022-02-25T07:52:51.732Z"
   },
   {
    "duration": 4,
    "start_time": "2022-02-25T07:52:51.757Z"
   },
   {
    "duration": 11,
    "start_time": "2022-02-25T07:52:51.763Z"
   },
   {
    "duration": 37,
    "start_time": "2022-02-25T07:52:51.776Z"
   },
   {
    "duration": 35,
    "start_time": "2022-02-25T07:52:51.815Z"
   },
   {
    "duration": 4,
    "start_time": "2022-02-25T07:52:51.852Z"
   },
   {
    "duration": 11,
    "start_time": "2022-02-25T07:52:51.858Z"
   },
   {
    "duration": 35,
    "start_time": "2022-02-25T07:52:51.871Z"
   },
   {
    "duration": 20,
    "start_time": "2022-02-25T07:52:51.908Z"
   },
   {
    "duration": 5,
    "start_time": "2022-02-25T07:52:51.930Z"
   },
   {
    "duration": 19,
    "start_time": "2022-02-25T07:52:51.936Z"
   },
   {
    "duration": 42,
    "start_time": "2022-02-25T07:52:51.957Z"
   },
   {
    "duration": 5,
    "start_time": "2022-02-25T07:52:52.001Z"
   },
   {
    "duration": 11,
    "start_time": "2022-02-25T07:52:52.007Z"
   },
   {
    "duration": 20,
    "start_time": "2022-02-25T07:52:52.020Z"
   },
   {
    "duration": 8,
    "start_time": "2022-02-25T07:52:52.042Z"
   },
   {
    "duration": 9,
    "start_time": "2022-02-25T07:52:52.052Z"
   },
   {
    "duration": 53,
    "start_time": "2022-02-25T07:52:52.062Z"
   },
   {
    "duration": 12,
    "start_time": "2022-02-25T07:52:52.117Z"
   },
   {
    "duration": 13,
    "start_time": "2022-02-25T07:52:52.131Z"
   },
   {
    "duration": 18,
    "start_time": "2022-02-25T07:52:52.146Z"
   },
   {
    "duration": 41,
    "start_time": "2022-02-25T07:52:52.166Z"
   },
   {
    "duration": 5,
    "start_time": "2022-02-25T07:52:52.209Z"
   },
   {
    "duration": 14,
    "start_time": "2022-02-25T07:52:52.216Z"
   },
   {
    "duration": 9,
    "start_time": "2022-02-25T07:52:52.232Z"
   },
   {
    "duration": 3,
    "start_time": "2022-02-25T07:52:52.243Z"
   },
   {
    "duration": 11,
    "start_time": "2022-02-25T07:52:52.248Z"
   },
   {
    "duration": 34,
    "start_time": "2022-02-25T07:52:52.260Z"
   },
   {
    "duration": 12,
    "start_time": "2022-02-25T07:52:52.296Z"
   },
   {
    "duration": 12,
    "start_time": "2022-02-25T07:52:52.309Z"
   },
   {
    "duration": 16,
    "start_time": "2022-02-25T07:52:52.323Z"
   },
   {
    "duration": 9,
    "start_time": "2022-02-25T07:52:52.340Z"
   },
   {
    "duration": 47,
    "start_time": "2022-02-25T07:52:52.350Z"
   },
   {
    "duration": 4,
    "start_time": "2022-02-25T07:52:52.402Z"
   },
   {
    "duration": 9,
    "start_time": "2022-02-25T07:52:52.408Z"
   },
   {
    "duration": 29,
    "start_time": "2022-02-25T07:52:52.418Z"
   },
   {
    "duration": 9,
    "start_time": "2022-02-25T07:52:52.449Z"
   },
   {
    "duration": 36,
    "start_time": "2022-02-25T07:52:52.460Z"
   },
   {
    "duration": 7,
    "start_time": "2022-02-25T07:52:52.497Z"
   },
   {
    "duration": 12,
    "start_time": "2022-02-25T07:52:52.505Z"
   },
   {
    "duration": 6,
    "start_time": "2022-02-25T07:52:52.519Z"
   },
   {
    "duration": 10,
    "start_time": "2022-02-25T07:52:52.526Z"
   },
   {
    "duration": 21,
    "start_time": "2022-02-25T07:52:52.538Z"
   },
   {
    "duration": 36,
    "start_time": "2022-02-25T07:52:52.561Z"
   },
   {
    "duration": 24,
    "start_time": "2022-02-25T07:52:52.599Z"
   },
   {
    "duration": 5,
    "start_time": "2022-02-25T07:52:52.625Z"
   },
   {
    "duration": 24,
    "start_time": "2022-02-25T07:52:52.632Z"
   },
   {
    "duration": 7,
    "start_time": "2022-02-25T07:52:52.658Z"
   },
   {
    "duration": 336,
    "start_time": "2022-02-25T07:52:52.696Z"
   },
   {
    "duration": 7,
    "start_time": "2022-02-25T07:52:53.033Z"
   },
   {
    "duration": 23,
    "start_time": "2022-02-25T07:52:53.042Z"
   },
   {
    "duration": 85,
    "start_time": "2022-02-25T07:52:53.067Z"
   },
   {
    "duration": 8,
    "start_time": "2022-02-25T07:52:53.153Z"
   },
   {
    "duration": 343,
    "start_time": "2022-02-25T07:52:53.163Z"
   },
   {
    "duration": 325,
    "start_time": "2022-02-25T07:52:53.508Z"
   },
   {
    "duration": 268,
    "start_time": "2022-02-25T07:52:53.835Z"
   },
   {
    "duration": 223,
    "start_time": "2022-02-25T07:52:54.105Z"
   },
   {
    "duration": 8,
    "start_time": "2022-02-25T07:52:54.330Z"
   },
   {
    "duration": 346,
    "start_time": "2022-02-25T07:52:54.340Z"
   },
   {
    "duration": 309,
    "start_time": "2022-02-25T07:52:54.688Z"
   },
   {
    "duration": 226,
    "start_time": "2022-02-25T07:52:54.999Z"
   },
   {
    "duration": 203,
    "start_time": "2022-02-25T07:52:55.226Z"
   },
   {
    "duration": 10,
    "start_time": "2022-02-25T07:52:55.430Z"
   },
   {
    "duration": 364,
    "start_time": "2022-02-25T07:52:55.442Z"
   },
   {
    "duration": 319,
    "start_time": "2022-02-25T07:52:55.807Z"
   },
   {
    "duration": 220,
    "start_time": "2022-02-25T07:52:56.128Z"
   },
   {
    "duration": 202,
    "start_time": "2022-02-25T07:52:56.350Z"
   },
   {
    "duration": 3,
    "start_time": "2022-02-25T07:52:56.554Z"
   },
   {
    "duration": 375,
    "start_time": "2022-02-25T07:57:30.735Z"
   },
   {
    "duration": 284,
    "start_time": "2022-02-25T07:58:14.215Z"
   },
   {
    "duration": 333,
    "start_time": "2022-02-25T08:05:25.692Z"
   },
   {
    "duration": 19,
    "start_time": "2022-02-25T08:10:56.463Z"
   },
   {
    "duration": 7,
    "start_time": "2022-02-25T08:11:09.533Z"
   },
   {
    "duration": 5,
    "start_time": "2022-02-25T08:11:37.942Z"
   },
   {
    "duration": 29,
    "start_time": "2022-02-25T08:14:03.952Z"
   },
   {
    "duration": 401,
    "start_time": "2022-02-25T08:17:34.098Z"
   },
   {
    "duration": 676,
    "start_time": "2022-02-25T08:18:02.728Z"
   },
   {
    "duration": 18,
    "start_time": "2022-02-25T08:19:51.911Z"
   },
   {
    "duration": 14,
    "start_time": "2022-02-25T08:20:01.264Z"
   },
   {
    "duration": 17,
    "start_time": "2022-02-25T08:20:14.340Z"
   },
   {
    "duration": 289,
    "start_time": "2022-02-25T08:20:35.613Z"
   },
   {
    "duration": 291,
    "start_time": "2022-02-25T08:20:42.395Z"
   },
   {
    "duration": 239,
    "start_time": "2022-02-25T08:21:00.562Z"
   },
   {
    "duration": 231,
    "start_time": "2022-02-25T08:21:03.844Z"
   },
   {
    "duration": 168,
    "start_time": "2022-02-25T08:21:47.481Z"
   },
   {
    "duration": 15,
    "start_time": "2022-02-25T08:24:11.497Z"
   },
   {
    "duration": 9,
    "start_time": "2022-02-25T08:24:45.954Z"
   },
   {
    "duration": 217,
    "start_time": "2022-02-25T08:25:49.214Z"
   },
   {
    "duration": 336,
    "start_time": "2022-02-25T08:25:59.432Z"
   },
   {
    "duration": 197,
    "start_time": "2022-02-25T08:26:07.731Z"
   },
   {
    "duration": 223,
    "start_time": "2022-02-25T08:26:10.981Z"
   },
   {
    "duration": 170,
    "start_time": "2022-02-25T08:26:44.382Z"
   },
   {
    "duration": 17,
    "start_time": "2022-02-25T08:27:12.952Z"
   },
   {
    "duration": 268,
    "start_time": "2022-02-25T08:27:19.263Z"
   },
   {
    "duration": 307,
    "start_time": "2022-02-25T08:27:24.342Z"
   },
   {
    "duration": 197,
    "start_time": "2022-02-25T08:27:31.581Z"
   },
   {
    "duration": 304,
    "start_time": "2022-02-25T08:27:42.464Z"
   },
   {
    "duration": 164,
    "start_time": "2022-02-25T08:27:46.047Z"
   },
   {
    "duration": 157,
    "start_time": "2022-02-25T08:27:51.758Z"
   },
   {
    "duration": 17,
    "start_time": "2022-02-25T08:28:13.850Z"
   },
   {
    "duration": 226,
    "start_time": "2022-02-25T08:28:27.102Z"
   },
   {
    "duration": 226,
    "start_time": "2022-02-25T08:28:34.847Z"
   },
   {
    "duration": 243,
    "start_time": "2022-02-25T08:28:48.464Z"
   },
   {
    "duration": 147,
    "start_time": "2022-02-25T08:28:56.214Z"
   },
   {
    "duration": 24,
    "start_time": "2022-02-25T08:34:15.998Z"
   },
   {
    "duration": 23,
    "start_time": "2022-02-25T08:35:03.870Z"
   },
   {
    "duration": 265,
    "start_time": "2022-02-25T08:35:44.610Z"
   },
   {
    "duration": 247,
    "start_time": "2022-02-25T08:35:54.513Z"
   },
   {
    "duration": 6,
    "start_time": "2022-02-25T08:36:24.727Z"
   },
   {
    "duration": 6,
    "start_time": "2022-02-25T08:37:51.652Z"
   },
   {
    "duration": 241,
    "start_time": "2022-02-25T08:39:01.488Z"
   },
   {
    "duration": 7,
    "start_time": "2022-02-25T08:39:05.989Z"
   },
   {
    "duration": 6,
    "start_time": "2022-02-25T08:39:40.345Z"
   },
   {
    "duration": 7,
    "start_time": "2022-02-25T08:40:23.077Z"
   },
   {
    "duration": 29,
    "start_time": "2022-02-25T08:41:20.923Z"
   },
   {
    "duration": 29,
    "start_time": "2022-02-25T08:41:35.732Z"
   },
   {
    "duration": 83,
    "start_time": "2022-02-25T11:15:18.164Z"
   },
   {
    "duration": 3,
    "start_time": "2022-02-25T11:17:00.574Z"
   },
   {
    "duration": 3,
    "start_time": "2022-02-25T11:17:11.932Z"
   },
   {
    "duration": 5,
    "start_time": "2022-02-25T11:17:29.828Z"
   },
   {
    "duration": 367,
    "start_time": "2022-02-25T11:26:56.568Z"
   },
   {
    "duration": 448,
    "start_time": "2022-02-25T11:27:29.560Z"
   },
   {
    "duration": 508,
    "start_time": "2022-02-25T11:27:33.391Z"
   },
   {
    "duration": 3,
    "start_time": "2022-02-25T11:27:37.008Z"
   },
   {
    "duration": 3,
    "start_time": "2022-02-25T11:27:37.318Z"
   },
   {
    "duration": 3,
    "start_time": "2022-02-25T11:27:37.608Z"
   },
   {
    "duration": 245,
    "start_time": "2022-02-25T11:27:37.907Z"
   },
   {
    "duration": 679,
    "start_time": "2022-02-25T11:27:59.068Z"
   },
   {
    "duration": 23,
    "start_time": "2022-02-25T11:27:59.749Z"
   },
   {
    "duration": 3,
    "start_time": "2022-02-25T11:27:59.775Z"
   },
   {
    "duration": 28,
    "start_time": "2022-02-25T11:27:59.780Z"
   },
   {
    "duration": 170,
    "start_time": "2022-02-25T11:27:59.810Z"
   },
   {
    "duration": 34,
    "start_time": "2022-02-25T11:27:59.982Z"
   },
   {
    "duration": 102,
    "start_time": "2022-02-25T11:28:00.018Z"
   },
   {
    "duration": 21,
    "start_time": "2022-02-25T11:28:00.123Z"
   },
   {
    "duration": 149,
    "start_time": "2022-02-25T11:28:00.146Z"
   },
   {
    "duration": 26,
    "start_time": "2022-02-25T11:28:00.297Z"
   },
   {
    "duration": 16,
    "start_time": "2022-02-25T11:28:00.325Z"
   },
   {
    "duration": 23,
    "start_time": "2022-02-25T11:28:00.343Z"
   },
   {
    "duration": 21,
    "start_time": "2022-02-25T11:28:00.368Z"
   },
   {
    "duration": 11,
    "start_time": "2022-02-25T11:28:00.391Z"
   },
   {
    "duration": 12,
    "start_time": "2022-02-25T11:28:00.404Z"
   },
   {
    "duration": 10,
    "start_time": "2022-02-25T11:28:00.418Z"
   },
   {
    "duration": 15,
    "start_time": "2022-02-25T11:28:00.430Z"
   },
   {
    "duration": 34,
    "start_time": "2022-02-25T11:28:00.447Z"
   },
   {
    "duration": 40,
    "start_time": "2022-02-25T11:28:00.483Z"
   },
   {
    "duration": 6,
    "start_time": "2022-02-25T11:28:00.524Z"
   },
   {
    "duration": 24,
    "start_time": "2022-02-25T11:28:00.532Z"
   },
   {
    "duration": 5,
    "start_time": "2022-02-25T11:28:00.558Z"
   },
   {
    "duration": 28,
    "start_time": "2022-02-25T11:28:00.567Z"
   },
   {
    "duration": 25,
    "start_time": "2022-02-25T11:28:00.598Z"
   },
   {
    "duration": 41,
    "start_time": "2022-02-25T11:28:00.625Z"
   },
   {
    "duration": 29,
    "start_time": "2022-02-25T11:28:00.668Z"
   },
   {
    "duration": 14,
    "start_time": "2022-02-25T11:28:00.699Z"
   },
   {
    "duration": 23,
    "start_time": "2022-02-25T11:28:00.714Z"
   },
   {
    "duration": 26,
    "start_time": "2022-02-25T11:28:00.739Z"
   },
   {
    "duration": 6,
    "start_time": "2022-02-25T11:28:00.767Z"
   },
   {
    "duration": 34,
    "start_time": "2022-02-25T11:28:00.775Z"
   },
   {
    "duration": 17,
    "start_time": "2022-02-25T11:28:00.811Z"
   },
   {
    "duration": 10,
    "start_time": "2022-02-25T11:28:00.830Z"
   },
   {
    "duration": 11,
    "start_time": "2022-02-25T11:28:00.841Z"
   },
   {
    "duration": 19,
    "start_time": "2022-02-25T11:28:00.854Z"
   },
   {
    "duration": 29,
    "start_time": "2022-02-25T11:28:00.875Z"
   },
   {
    "duration": 24,
    "start_time": "2022-02-25T11:28:00.906Z"
   },
   {
    "duration": 35,
    "start_time": "2022-02-25T11:28:00.932Z"
   },
   {
    "duration": 16,
    "start_time": "2022-02-25T11:28:00.969Z"
   },
   {
    "duration": 29,
    "start_time": "2022-02-25T11:28:00.987Z"
   },
   {
    "duration": 19,
    "start_time": "2022-02-25T11:28:01.018Z"
   },
   {
    "duration": 22,
    "start_time": "2022-02-25T11:28:01.039Z"
   },
   {
    "duration": 4,
    "start_time": "2022-02-25T11:28:01.063Z"
   },
   {
    "duration": 30,
    "start_time": "2022-02-25T11:28:01.069Z"
   },
   {
    "duration": 40,
    "start_time": "2022-02-25T11:28:01.101Z"
   },
   {
    "duration": 16,
    "start_time": "2022-02-25T11:28:01.143Z"
   },
   {
    "duration": 37,
    "start_time": "2022-02-25T11:28:01.161Z"
   },
   {
    "duration": 14,
    "start_time": "2022-02-25T11:28:01.200Z"
   },
   {
    "duration": 22,
    "start_time": "2022-02-25T11:28:01.216Z"
   },
   {
    "duration": 29,
    "start_time": "2022-02-25T11:28:01.239Z"
   },
   {
    "duration": 18,
    "start_time": "2022-02-25T11:28:01.270Z"
   },
   {
    "duration": 34,
    "start_time": "2022-02-25T11:28:01.290Z"
   },
   {
    "duration": 43,
    "start_time": "2022-02-25T11:28:01.326Z"
   },
   {
    "duration": 4,
    "start_time": "2022-02-25T11:28:01.371Z"
   },
   {
    "duration": 26,
    "start_time": "2022-02-25T11:28:01.377Z"
   },
   {
    "duration": 48,
    "start_time": "2022-02-25T11:28:01.405Z"
   },
   {
    "duration": 10,
    "start_time": "2022-02-25T11:28:01.454Z"
   },
   {
    "duration": 13,
    "start_time": "2022-02-25T11:28:01.466Z"
   },
   {
    "duration": 21,
    "start_time": "2022-02-25T11:28:01.480Z"
   },
   {
    "duration": 46,
    "start_time": "2022-02-25T11:28:01.503Z"
   },
   {
    "duration": 20,
    "start_time": "2022-02-25T11:28:01.550Z"
   },
   {
    "duration": 30,
    "start_time": "2022-02-25T11:28:01.572Z"
   },
   {
    "duration": 49,
    "start_time": "2022-02-25T11:28:01.604Z"
   },
   {
    "duration": 22,
    "start_time": "2022-02-25T11:28:01.655Z"
   },
   {
    "duration": 71,
    "start_time": "2022-02-25T11:28:01.679Z"
   },
   {
    "duration": 28,
    "start_time": "2022-02-25T11:28:01.752Z"
   },
   {
    "duration": 34,
    "start_time": "2022-02-25T11:28:01.781Z"
   },
   {
    "duration": 26,
    "start_time": "2022-02-25T11:28:01.821Z"
   },
   {
    "duration": 295,
    "start_time": "2022-02-25T11:28:01.849Z"
   },
   {
    "duration": 7,
    "start_time": "2022-02-25T11:28:02.146Z"
   },
   {
    "duration": 30,
    "start_time": "2022-02-25T11:28:02.155Z"
   },
   {
    "duration": 102,
    "start_time": "2022-02-25T11:28:02.187Z"
   },
   {
    "duration": 16,
    "start_time": "2022-02-25T11:28:02.291Z"
   },
   {
    "duration": 241,
    "start_time": "2022-02-25T11:28:02.309Z"
   },
   {
    "duration": 210,
    "start_time": "2022-02-25T11:28:02.551Z"
   },
   {
    "duration": 17,
    "start_time": "2022-02-25T11:28:02.764Z"
   },
   {
    "duration": 301,
    "start_time": "2022-02-25T11:28:02.794Z"
   },
   {
    "duration": 233,
    "start_time": "2022-02-25T11:28:03.097Z"
   },
   {
    "duration": 175,
    "start_time": "2022-02-25T11:28:03.332Z"
   },
   {
    "duration": 24,
    "start_time": "2022-02-25T11:28:03.509Z"
   },
   {
    "duration": 12,
    "start_time": "2022-02-25T11:28:03.536Z"
   },
   {
    "duration": 190,
    "start_time": "2022-02-25T11:28:03.550Z"
   },
   {
    "duration": 7,
    "start_time": "2022-02-25T11:28:03.742Z"
   },
   {
    "duration": 37,
    "start_time": "2022-02-25T11:28:03.751Z"
   },
   {
    "duration": 226,
    "start_time": "2022-02-25T11:28:03.791Z"
   },
   {
    "duration": 218,
    "start_time": "2022-02-25T11:28:04.020Z"
   },
   {
    "duration": 180,
    "start_time": "2022-02-25T11:28:04.240Z"
   },
   {
    "duration": 7,
    "start_time": "2022-02-25T11:28:04.422Z"
   },
   {
    "duration": 192,
    "start_time": "2022-02-25T11:28:04.431Z"
   },
   {
    "duration": 6,
    "start_time": "2022-02-25T11:28:04.625Z"
   },
   {
    "duration": 22,
    "start_time": "2022-02-25T11:28:04.632Z"
   },
   {
    "duration": 246,
    "start_time": "2022-02-25T11:28:04.656Z"
   },
   {
    "duration": 237,
    "start_time": "2022-02-25T11:28:04.904Z"
   },
   {
    "duration": 182,
    "start_time": "2022-02-25T11:28:05.143Z"
   },
   {
    "duration": 8,
    "start_time": "2022-02-25T11:28:05.327Z"
   },
   {
    "duration": 272,
    "start_time": "2022-02-25T11:28:05.337Z"
   },
   {
    "duration": 342,
    "start_time": "2022-02-25T11:28:05.611Z"
   },
   {
    "duration": 4,
    "start_time": "2022-02-25T11:28:05.955Z"
   },
   {
    "duration": 7,
    "start_time": "2022-02-25T11:28:05.961Z"
   },
   {
    "duration": 9,
    "start_time": "2022-02-25T11:28:05.969Z"
   },
   {
    "duration": 353,
    "start_time": "2022-02-25T11:28:05.980Z"
   },
   {
    "duration": 904,
    "start_time": "2022-02-25T11:28:05.431Z"
   },
   {
    "duration": 4,
    "start_time": "2022-02-25T11:30:59.162Z"
   },
   {
    "duration": 5,
    "start_time": "2022-02-25T11:31:00.857Z"
   },
   {
    "duration": 4,
    "start_time": "2022-02-25T11:31:26.806Z"
   },
   {
    "duration": 6,
    "start_time": "2022-02-25T11:33:47.738Z"
   },
   {
    "duration": 5,
    "start_time": "2022-02-25T11:40:11.136Z"
   },
   {
    "duration": 23,
    "start_time": "2022-02-25T11:42:12.747Z"
   },
   {
    "duration": 5,
    "start_time": "2022-02-25T11:42:43.151Z"
   },
   {
    "duration": 6,
    "start_time": "2022-02-25T11:42:59.137Z"
   },
   {
    "duration": 4,
    "start_time": "2022-02-25T11:44:13.665Z"
   },
   {
    "duration": 3,
    "start_time": "2022-02-25T11:44:25.797Z"
   },
   {
    "duration": 3,
    "start_time": "2022-02-25T11:44:35.377Z"
   },
   {
    "duration": 5,
    "start_time": "2022-02-25T11:45:05.070Z"
   },
   {
    "duration": 5,
    "start_time": "2022-02-25T11:45:19.167Z"
   },
   {
    "duration": 5,
    "start_time": "2022-02-25T11:45:21.849Z"
   },
   {
    "duration": 6,
    "start_time": "2022-02-25T11:45:23.712Z"
   },
   {
    "duration": 600,
    "start_time": "2022-02-26T12:41:19.632Z"
   },
   {
    "duration": 329,
    "start_time": "2022-02-26T12:43:39.009Z"
   },
   {
    "duration": 2,
    "start_time": "2022-02-26T12:43:47.801Z"
   },
   {
    "duration": 31,
    "start_time": "2022-02-26T12:43:49.245Z"
   },
   {
    "duration": 3,
    "start_time": "2022-02-26T12:43:50.911Z"
   },
   {
    "duration": 21,
    "start_time": "2022-02-26T12:43:53.736Z"
   },
   {
    "duration": 202,
    "start_time": "2022-02-26T12:45:25.864Z"
   },
   {
    "duration": 26,
    "start_time": "2022-02-26T12:45:28.278Z"
   },
   {
    "duration": 122,
    "start_time": "2022-02-26T12:46:38.981Z"
   },
   {
    "duration": 21,
    "start_time": "2022-02-26T12:46:39.686Z"
   },
   {
    "duration": 361,
    "start_time": "2022-02-26T12:47:42.468Z"
   },
   {
    "duration": 23,
    "start_time": "2022-02-26T12:47:43.070Z"
   },
   {
    "duration": 20,
    "start_time": "2022-02-26T12:48:47.113Z"
   },
   {
    "duration": 11,
    "start_time": "2022-02-26T12:48:47.785Z"
   },
   {
    "duration": 56,
    "start_time": "2022-02-26T12:49:47.264Z"
   },
   {
    "duration": 10,
    "start_time": "2022-02-26T13:00:07.787Z"
   },
   {
    "duration": 6,
    "start_time": "2022-02-26T13:00:13.342Z"
   },
   {
    "duration": 6,
    "start_time": "2022-02-26T13:01:13.281Z"
   },
   {
    "duration": 4,
    "start_time": "2022-02-26T13:01:13.900Z"
   },
   {
    "duration": 9,
    "start_time": "2022-02-26T13:01:14.737Z"
   },
   {
    "duration": 254,
    "start_time": "2022-02-26T13:02:01.706Z"
   },
   {
    "duration": 7,
    "start_time": "2022-02-26T13:02:06.189Z"
   },
   {
    "duration": 5,
    "start_time": "2022-02-26T13:02:15.613Z"
   },
   {
    "duration": 189,
    "start_time": "2022-02-26T13:02:23.340Z"
   },
   {
    "duration": 5,
    "start_time": "2022-02-26T13:02:27.667Z"
   },
   {
    "duration": 21,
    "start_time": "2022-02-26T13:02:58.741Z"
   },
   {
    "duration": 33,
    "start_time": "2022-02-26T13:03:25.622Z"
   },
   {
    "duration": 7,
    "start_time": "2022-02-26T13:03:27.116Z"
   },
   {
    "duration": 17,
    "start_time": "2022-02-26T13:04:33.502Z"
   },
   {
    "duration": 6,
    "start_time": "2022-02-26T13:05:03.934Z"
   },
   {
    "duration": 5,
    "start_time": "2022-02-26T13:05:04.532Z"
   },
   {
    "duration": 22,
    "start_time": "2022-02-26T13:07:29.761Z"
   },
   {
    "duration": 24,
    "start_time": "2022-02-26T13:07:43.799Z"
   },
   {
    "duration": 31,
    "start_time": "2022-02-26T13:07:56.352Z"
   },
   {
    "duration": 5,
    "start_time": "2022-02-26T13:07:58.081Z"
   },
   {
    "duration": 4,
    "start_time": "2022-02-26T13:08:13.531Z"
   },
   {
    "duration": 5,
    "start_time": "2022-02-26T13:09:03.014Z"
   },
   {
    "duration": 9,
    "start_time": "2022-02-26T13:09:04.542Z"
   },
   {
    "duration": 14,
    "start_time": "2022-02-26T13:09:50.787Z"
   },
   {
    "duration": 19,
    "start_time": "2022-02-26T13:10:05.157Z"
   },
   {
    "duration": 6,
    "start_time": "2022-02-26T13:10:06.223Z"
   },
   {
    "duration": 15,
    "start_time": "2022-02-26T13:11:14.876Z"
   },
   {
    "duration": 17,
    "start_time": "2022-02-26T13:11:21.456Z"
   },
   {
    "duration": 5,
    "start_time": "2022-02-26T13:11:22.664Z"
   },
   {
    "duration": 4,
    "start_time": "2022-02-26T13:11:36.440Z"
   },
   {
    "duration": 7,
    "start_time": "2022-02-26T13:11:37.555Z"
   },
   {
    "duration": 7,
    "start_time": "2022-02-26T13:11:54.832Z"
   },
   {
    "duration": 7,
    "start_time": "2022-02-26T13:12:03.617Z"
   },
   {
    "duration": 17,
    "start_time": "2022-02-26T16:15:15.338Z"
   },
   {
    "duration": 8,
    "start_time": "2022-02-26T16:16:19.508Z"
   },
   {
    "duration": 8,
    "start_time": "2022-02-26T16:16:21.278Z"
   },
   {
    "duration": 10,
    "start_time": "2022-02-26T16:16:29.146Z"
   },
   {
    "duration": 21,
    "start_time": "2022-02-26T16:16:51.592Z"
   },
   {
    "duration": 203,
    "start_time": "2022-02-26T16:18:03.238Z"
   },
   {
    "duration": 574,
    "start_time": "2022-02-26T16:18:31.187Z"
   },
   {
    "duration": 17,
    "start_time": "2022-02-26T16:18:31.763Z"
   },
   {
    "duration": 9,
    "start_time": "2022-02-26T16:18:31.782Z"
   },
   {
    "duration": 29,
    "start_time": "2022-02-26T16:18:31.793Z"
   },
   {
    "duration": 145,
    "start_time": "2022-02-26T16:18:31.824Z"
   },
   {
    "duration": 25,
    "start_time": "2022-02-26T16:18:31.971Z"
   },
   {
    "duration": 95,
    "start_time": "2022-02-26T16:18:31.998Z"
   },
   {
    "duration": 20,
    "start_time": "2022-02-26T16:18:32.095Z"
   },
   {
    "duration": 128,
    "start_time": "2022-02-26T16:18:32.117Z"
   },
   {
    "duration": 28,
    "start_time": "2022-02-26T16:18:32.246Z"
   },
   {
    "duration": 9,
    "start_time": "2022-02-26T16:18:32.276Z"
   },
   {
    "duration": 15,
    "start_time": "2022-02-26T16:18:32.287Z"
   },
   {
    "duration": 11,
    "start_time": "2022-02-26T16:18:32.303Z"
   },
   {
    "duration": 11,
    "start_time": "2022-02-26T16:18:32.316Z"
   },
   {
    "duration": 11,
    "start_time": "2022-02-26T16:18:32.329Z"
   },
   {
    "duration": 21,
    "start_time": "2022-02-26T16:18:32.342Z"
   },
   {
    "duration": 17,
    "start_time": "2022-02-26T16:18:32.365Z"
   },
   {
    "duration": 25,
    "start_time": "2022-02-26T16:18:32.384Z"
   },
   {
    "duration": 31,
    "start_time": "2022-02-26T16:18:32.411Z"
   },
   {
    "duration": 6,
    "start_time": "2022-02-26T16:18:32.443Z"
   },
   {
    "duration": 27,
    "start_time": "2022-02-26T16:18:32.450Z"
   },
   {
    "duration": 4,
    "start_time": "2022-02-26T16:18:32.479Z"
   },
   {
    "duration": 10,
    "start_time": "2022-02-26T16:18:32.486Z"
   },
   {
    "duration": 35,
    "start_time": "2022-02-26T16:18:32.498Z"
   },
   {
    "duration": 40,
    "start_time": "2022-02-26T16:18:32.534Z"
   },
   {
    "duration": 3,
    "start_time": "2022-02-26T16:18:32.576Z"
   },
   {
    "duration": 12,
    "start_time": "2022-02-26T16:18:32.581Z"
   },
   {
    "duration": 16,
    "start_time": "2022-02-26T16:18:32.595Z"
   },
   {
    "duration": 19,
    "start_time": "2022-02-26T16:18:32.612Z"
   },
   {
    "duration": 6,
    "start_time": "2022-02-26T16:18:32.632Z"
   },
   {
    "duration": 18,
    "start_time": "2022-02-26T16:18:32.662Z"
   },
   {
    "duration": 18,
    "start_time": "2022-02-26T16:18:32.681Z"
   },
   {
    "duration": 5,
    "start_time": "2022-02-26T16:18:32.700Z"
   },
   {
    "duration": 8,
    "start_time": "2022-02-26T16:18:32.707Z"
   },
   {
    "duration": 51,
    "start_time": "2022-02-26T16:18:32.717Z"
   },
   {
    "duration": 9,
    "start_time": "2022-02-26T16:18:32.770Z"
   },
   {
    "duration": 12,
    "start_time": "2022-02-26T16:18:32.781Z"
   },
   {
    "duration": 26,
    "start_time": "2022-02-26T16:18:32.795Z"
   },
   {
    "duration": 19,
    "start_time": "2022-02-26T16:18:32.822Z"
   },
   {
    "duration": 18,
    "start_time": "2022-02-26T16:18:37.533Z"
   },
   {
    "duration": 5,
    "start_time": "2022-02-26T16:18:40.596Z"
   },
   {
    "duration": 10,
    "start_time": "2022-02-26T16:18:41.727Z"
   },
   {
    "duration": 6,
    "start_time": "2022-02-26T16:19:31.625Z"
   },
   {
    "duration": 4,
    "start_time": "2022-02-26T16:19:33.015Z"
   },
   {
    "duration": 3,
    "start_time": "2022-02-26T16:19:44.080Z"
   },
   {
    "duration": 4,
    "start_time": "2022-02-26T16:19:54.692Z"
   },
   {
    "duration": 10,
    "start_time": "2022-02-26T16:19:55.569Z"
   },
   {
    "duration": 11,
    "start_time": "2022-02-26T16:20:01.931Z"
   },
   {
    "duration": 9,
    "start_time": "2022-02-26T16:21:21.846Z"
   },
   {
    "duration": 14,
    "start_time": "2022-02-26T16:21:22.725Z"
   },
   {
    "duration": 9,
    "start_time": "2022-02-26T16:21:26.299Z"
   },
   {
    "duration": 14,
    "start_time": "2022-02-26T16:21:26.878Z"
   },
   {
    "duration": 8,
    "start_time": "2022-02-26T16:21:29.094Z"
   },
   {
    "duration": 12,
    "start_time": "2022-02-26T16:22:09.723Z"
   },
   {
    "duration": 7,
    "start_time": "2022-02-26T16:22:10.301Z"
   },
   {
    "duration": 15,
    "start_time": "2022-02-26T16:22:13.747Z"
   },
   {
    "duration": 12,
    "start_time": "2022-02-26T16:22:19.803Z"
   },
   {
    "duration": 25,
    "start_time": "2022-02-26T16:22:20.278Z"
   },
   {
    "duration": 4,
    "start_time": "2022-02-26T16:22:59.234Z"
   },
   {
    "duration": 17,
    "start_time": "2022-02-26T16:23:01.350Z"
   },
   {
    "duration": 58,
    "start_time": "2022-02-26T16:23:03.039Z"
   },
   {
    "duration": 15,
    "start_time": "2022-02-26T16:23:12.753Z"
   },
   {
    "duration": 11,
    "start_time": "2022-02-26T16:23:42.691Z"
   },
   {
    "duration": 5277,
    "start_time": "2022-02-26T16:24:14.423Z"
   },
   {
    "duration": 11,
    "start_time": "2022-02-26T16:24:21.077Z"
   },
   {
    "duration": 5500,
    "start_time": "2022-02-26T16:24:50.715Z"
   },
   {
    "duration": -3,
    "start_time": "2022-02-26T16:24:56.220Z"
   },
   {
    "duration": 603,
    "start_time": "2022-02-26T16:25:07.945Z"
   },
   {
    "duration": 17,
    "start_time": "2022-02-26T16:25:08.550Z"
   },
   {
    "duration": 13,
    "start_time": "2022-02-26T16:25:08.569Z"
   },
   {
    "duration": 44,
    "start_time": "2022-02-26T16:25:08.584Z"
   },
   {
    "duration": 150,
    "start_time": "2022-02-26T16:25:08.630Z"
   },
   {
    "duration": 26,
    "start_time": "2022-02-26T16:25:08.782Z"
   },
   {
    "duration": 88,
    "start_time": "2022-02-26T16:25:08.810Z"
   },
   {
    "duration": 20,
    "start_time": "2022-02-26T16:25:08.900Z"
   },
   {
    "duration": 142,
    "start_time": "2022-02-26T16:25:08.922Z"
   },
   {
    "duration": 36,
    "start_time": "2022-02-26T16:25:09.066Z"
   },
   {
    "duration": 14,
    "start_time": "2022-02-26T16:25:09.104Z"
   },
   {
    "duration": 23,
    "start_time": "2022-02-26T16:25:09.120Z"
   },
   {
    "duration": 19,
    "start_time": "2022-02-26T16:25:09.145Z"
   },
   {
    "duration": 18,
    "start_time": "2022-02-26T16:25:09.166Z"
   },
   {
    "duration": 22,
    "start_time": "2022-02-26T16:25:09.185Z"
   },
   {
    "duration": 22,
    "start_time": "2022-02-26T16:25:09.209Z"
   },
   {
    "duration": 36,
    "start_time": "2022-02-26T16:25:09.232Z"
   },
   {
    "duration": 34,
    "start_time": "2022-02-26T16:25:09.270Z"
   },
   {
    "duration": 32,
    "start_time": "2022-02-26T16:25:09.306Z"
   },
   {
    "duration": 6,
    "start_time": "2022-02-26T16:25:09.340Z"
   },
   {
    "duration": 29,
    "start_time": "2022-02-26T16:25:09.348Z"
   },
   {
    "duration": 34,
    "start_time": "2022-02-26T16:25:09.380Z"
   },
   {
    "duration": 19,
    "start_time": "2022-02-26T16:25:09.417Z"
   },
   {
    "duration": 36,
    "start_time": "2022-02-26T16:25:09.438Z"
   },
   {
    "duration": 36,
    "start_time": "2022-02-26T16:25:09.476Z"
   },
   {
    "duration": 4,
    "start_time": "2022-02-26T16:25:09.514Z"
   },
   {
    "duration": 10,
    "start_time": "2022-02-26T16:25:09.520Z"
   },
   {
    "duration": 32,
    "start_time": "2022-02-26T16:25:09.531Z"
   },
   {
    "duration": 20,
    "start_time": "2022-02-26T16:25:09.565Z"
   },
   {
    "duration": 6,
    "start_time": "2022-02-26T16:25:09.587Z"
   },
   {
    "duration": 18,
    "start_time": "2022-02-26T16:25:09.595Z"
   },
   {
    "duration": 48,
    "start_time": "2022-02-26T16:25:09.615Z"
   },
   {
    "duration": 5,
    "start_time": "2022-02-26T16:25:09.665Z"
   },
   {
    "duration": 9,
    "start_time": "2022-02-26T16:25:09.671Z"
   },
   {
    "duration": 28,
    "start_time": "2022-02-26T16:25:09.682Z"
   },
   {
    "duration": 8,
    "start_time": "2022-02-26T16:25:09.712Z"
   },
   {
    "duration": 7,
    "start_time": "2022-02-26T16:25:09.722Z"
   },
   {
    "duration": 43,
    "start_time": "2022-02-26T16:25:09.731Z"
   },
   {
    "duration": 18,
    "start_time": "2022-02-26T16:25:09.776Z"
   },
   {
    "duration": 19,
    "start_time": "2022-02-26T16:25:09.795Z"
   },
   {
    "duration": 5,
    "start_time": "2022-02-26T16:25:09.815Z"
   },
   {
    "duration": 13,
    "start_time": "2022-02-26T16:25:09.821Z"
   },
   {
    "duration": 10,
    "start_time": "2022-02-26T16:25:09.835Z"
   },
   {
    "duration": 19,
    "start_time": "2022-02-26T16:25:09.846Z"
   },
   {
    "duration": 13,
    "start_time": "2022-02-26T16:25:09.867Z"
   },
   {
    "duration": 9,
    "start_time": "2022-02-26T16:25:09.882Z"
   },
   {
    "duration": 13,
    "start_time": "2022-02-26T16:25:09.892Z"
   },
   {
    "duration": 8,
    "start_time": "2022-02-26T16:25:09.907Z"
   },
   {
    "duration": 13,
    "start_time": "2022-02-26T16:25:09.916Z"
   },
   {
    "duration": 38,
    "start_time": "2022-02-26T16:25:09.931Z"
   },
   {
    "duration": 21,
    "start_time": "2022-02-26T16:25:09.971Z"
   },
   {
    "duration": 3,
    "start_time": "2022-02-26T16:25:09.994Z"
   },
   {
    "duration": 10,
    "start_time": "2022-02-26T16:25:09.999Z"
   },
   {
    "duration": 25,
    "start_time": "2022-02-26T16:25:10.011Z"
   },
   {
    "duration": 10,
    "start_time": "2022-02-26T16:25:10.063Z"
   },
   {
    "duration": 7,
    "start_time": "2022-02-26T16:25:10.076Z"
   },
   {
    "duration": 9,
    "start_time": "2022-02-26T16:25:10.085Z"
   },
   {
    "duration": 9,
    "start_time": "2022-02-26T16:25:10.096Z"
   },
   {
    "duration": 7,
    "start_time": "2022-02-26T16:25:13.086Z"
   },
   {
    "duration": 8,
    "start_time": "2022-02-26T16:25:15.490Z"
   },
   {
    "duration": 22,
    "start_time": "2022-02-26T16:25:15.687Z"
   },
   {
    "duration": 4,
    "start_time": "2022-02-26T18:24:17.559Z"
   },
   {
    "duration": 22,
    "start_time": "2022-02-26T18:24:20.186Z"
   },
   {
    "duration": 260,
    "start_time": "2022-02-26T18:24:25.402Z"
   },
   {
    "duration": 14,
    "start_time": "2022-02-26T18:24:30.617Z"
   },
   {
    "duration": 14,
    "start_time": "2022-02-26T18:24:54.546Z"
   },
   {
    "duration": 4,
    "start_time": "2022-02-26T18:24:55.731Z"
   },
   {
    "duration": 22,
    "start_time": "2022-02-26T18:24:57.189Z"
   },
   {
    "duration": 4,
    "start_time": "2022-02-26T18:26:05.800Z"
   },
   {
    "duration": 223,
    "start_time": "2022-02-26T18:26:11.002Z"
   },
   {
    "duration": 221,
    "start_time": "2022-02-26T18:26:32.284Z"
   },
   {
    "duration": 6,
    "start_time": "2022-02-26T18:27:04.783Z"
   },
   {
    "duration": 7,
    "start_time": "2022-02-26T18:27:05.020Z"
   },
   {
    "duration": 658,
    "start_time": "2022-02-27T08:03:33.436Z"
   },
   {
    "duration": 40,
    "start_time": "2022-02-27T08:03:34.096Z"
   },
   {
    "duration": 3,
    "start_time": "2022-02-27T08:03:34.139Z"
   },
   {
    "duration": 25,
    "start_time": "2022-02-27T08:03:34.144Z"
   },
   {
    "duration": 147,
    "start_time": "2022-02-27T08:03:34.171Z"
   },
   {
    "duration": 48,
    "start_time": "2022-02-27T08:03:34.320Z"
   },
   {
    "duration": 76,
    "start_time": "2022-02-27T08:03:34.369Z"
   },
   {
    "duration": 17,
    "start_time": "2022-02-27T08:03:34.448Z"
   },
   {
    "duration": 122,
    "start_time": "2022-02-27T08:03:34.467Z"
   },
   {
    "duration": 20,
    "start_time": "2022-02-27T08:03:34.591Z"
   },
   {
    "duration": 10,
    "start_time": "2022-02-27T08:03:34.613Z"
   },
   {
    "duration": 10,
    "start_time": "2022-02-27T08:03:34.637Z"
   },
   {
    "duration": 12,
    "start_time": "2022-02-27T08:03:34.649Z"
   },
   {
    "duration": 7,
    "start_time": "2022-02-27T08:03:34.663Z"
   },
   {
    "duration": 7,
    "start_time": "2022-02-27T08:03:34.671Z"
   },
   {
    "duration": 7,
    "start_time": "2022-02-27T08:03:34.680Z"
   },
   {
    "duration": 11,
    "start_time": "2022-02-27T08:03:34.689Z"
   },
   {
    "duration": 36,
    "start_time": "2022-02-27T08:03:34.701Z"
   },
   {
    "duration": 30,
    "start_time": "2022-02-27T08:03:34.739Z"
   },
   {
    "duration": 4,
    "start_time": "2022-02-27T08:03:34.771Z"
   },
   {
    "duration": 20,
    "start_time": "2022-02-27T08:03:34.777Z"
   },
   {
    "duration": 4,
    "start_time": "2022-02-27T08:03:34.799Z"
   },
   {
    "duration": 6,
    "start_time": "2022-02-27T08:03:34.806Z"
   },
   {
    "duration": 43,
    "start_time": "2022-02-27T08:03:34.814Z"
   },
   {
    "duration": 31,
    "start_time": "2022-02-27T08:03:34.859Z"
   },
   {
    "duration": 4,
    "start_time": "2022-02-27T08:03:34.891Z"
   },
   {
    "duration": 11,
    "start_time": "2022-02-27T08:03:34.896Z"
   },
   {
    "duration": 36,
    "start_time": "2022-02-27T08:03:34.909Z"
   },
   {
    "duration": 19,
    "start_time": "2022-02-27T08:03:34.947Z"
   },
   {
    "duration": 6,
    "start_time": "2022-02-27T08:03:34.967Z"
   },
   {
    "duration": 24,
    "start_time": "2022-02-27T08:03:34.974Z"
   },
   {
    "duration": 20,
    "start_time": "2022-02-27T08:03:35.000Z"
   },
   {
    "duration": 5,
    "start_time": "2022-02-27T08:03:35.038Z"
   },
   {
    "duration": 13,
    "start_time": "2022-02-27T08:03:35.045Z"
   },
   {
    "duration": 21,
    "start_time": "2022-02-27T08:03:35.060Z"
   },
   {
    "duration": 7,
    "start_time": "2022-02-27T08:03:35.083Z"
   },
   {
    "duration": 11,
    "start_time": "2022-02-27T08:03:35.092Z"
   },
   {
    "duration": 39,
    "start_time": "2022-02-27T08:03:35.104Z"
   },
   {
    "duration": 17,
    "start_time": "2022-02-27T08:03:35.145Z"
   },
   {
    "duration": 19,
    "start_time": "2022-02-27T08:03:35.163Z"
   },
   {
    "duration": 5,
    "start_time": "2022-02-27T08:03:35.183Z"
   },
   {
    "duration": 14,
    "start_time": "2022-02-27T08:03:35.189Z"
   },
   {
    "duration": 6,
    "start_time": "2022-02-27T08:03:35.205Z"
   },
   {
    "duration": 27,
    "start_time": "2022-02-27T08:03:35.213Z"
   },
   {
    "duration": 12,
    "start_time": "2022-02-27T08:03:35.241Z"
   },
   {
    "duration": 9,
    "start_time": "2022-02-27T08:03:35.254Z"
   },
   {
    "duration": 16,
    "start_time": "2022-02-27T08:03:35.265Z"
   },
   {
    "duration": 7,
    "start_time": "2022-02-27T08:03:35.283Z"
   },
   {
    "duration": 11,
    "start_time": "2022-02-27T08:03:35.292Z"
   },
   {
    "duration": 36,
    "start_time": "2022-02-27T08:03:35.304Z"
   },
   {
    "duration": 21,
    "start_time": "2022-02-27T08:03:35.342Z"
   },
   {
    "duration": 3,
    "start_time": "2022-02-27T08:03:35.364Z"
   },
   {
    "duration": 15,
    "start_time": "2022-02-27T08:03:35.369Z"
   },
   {
    "duration": 29,
    "start_time": "2022-02-27T08:03:35.385Z"
   },
   {
    "duration": 23,
    "start_time": "2022-02-27T08:03:35.415Z"
   },
   {
    "duration": 6,
    "start_time": "2022-02-27T08:03:35.440Z"
   },
   {
    "duration": 13,
    "start_time": "2022-02-27T08:03:35.448Z"
   },
   {
    "duration": 20,
    "start_time": "2022-02-27T08:03:35.463Z"
   },
   {
    "duration": 8,
    "start_time": "2022-02-27T08:03:35.485Z"
   },
   {
    "duration": 15,
    "start_time": "2022-02-27T08:03:35.494Z"
   },
   {
    "duration": 21,
    "start_time": "2022-02-27T08:03:35.510Z"
   },
   {
    "duration": 4,
    "start_time": "2022-02-27T08:03:35.537Z"
   },
   {
    "duration": 17,
    "start_time": "2022-02-27T08:03:35.543Z"
   },
   {
    "duration": 11,
    "start_time": "2022-02-27T08:03:35.562Z"
   },
   {
    "duration": 23,
    "start_time": "2022-02-27T08:03:35.575Z"
   },
   {
    "duration": 14,
    "start_time": "2022-02-27T08:03:35.600Z"
   },
   {
    "duration": 217,
    "start_time": "2022-02-27T08:03:35.615Z"
   },
   {
    "duration": 7,
    "start_time": "2022-02-27T08:03:35.837Z"
   },
   {
    "duration": 9,
    "start_time": "2022-02-27T08:03:35.845Z"
   },
   {
    "duration": 72,
    "start_time": "2022-02-27T08:03:54.249Z"
   },
   {
    "duration": 15,
    "start_time": "2022-02-27T08:06:00.234Z"
   },
   {
    "duration": 195,
    "start_time": "2022-02-27T08:11:03.555Z"
   },
   {
    "duration": 191,
    "start_time": "2022-02-27T08:11:20.157Z"
   },
   {
    "duration": 279,
    "start_time": "2022-02-27T08:11:38.162Z"
   },
   {
    "duration": 226,
    "start_time": "2022-02-27T08:11:43.532Z"
   },
   {
    "duration": 21,
    "start_time": "2022-02-27T08:21:38.909Z"
   },
   {
    "duration": 5,
    "start_time": "2022-02-27T08:22:00.366Z"
   },
   {
    "duration": 6,
    "start_time": "2022-02-27T08:22:41.967Z"
   },
   {
    "duration": 14,
    "start_time": "2022-02-27T08:22:59.528Z"
   },
   {
    "duration": 212,
    "start_time": "2022-02-27T08:23:10.244Z"
   },
   {
    "duration": 193,
    "start_time": "2022-02-27T08:23:12.421Z"
   },
   {
    "duration": 152,
    "start_time": "2022-02-27T08:24:24.065Z"
   },
   {
    "duration": 138,
    "start_time": "2022-02-27T08:24:39.466Z"
   },
   {
    "duration": 6,
    "start_time": "2022-02-27T08:24:55.853Z"
   },
   {
    "duration": 15,
    "start_time": "2022-02-27T08:25:52.474Z"
   },
   {
    "duration": 212,
    "start_time": "2022-02-27T08:25:53.273Z"
   },
   {
    "duration": 214,
    "start_time": "2022-02-27T08:25:56.202Z"
   },
   {
    "duration": 153,
    "start_time": "2022-02-27T08:26:47.891Z"
   },
   {
    "duration": 6,
    "start_time": "2022-02-27T08:26:57.043Z"
   },
   {
    "duration": 149,
    "start_time": "2022-02-27T08:26:58.400Z"
   },
   {
    "duration": 154,
    "start_time": "2022-02-27T08:27:45.873Z"
   },
   {
    "duration": 7,
    "start_time": "2022-02-27T08:27:46.333Z"
   },
   {
    "duration": 225,
    "start_time": "2022-02-27T08:27:48.210Z"
   },
   {
    "duration": 417,
    "start_time": "2022-02-27T08:34:49.745Z"
   },
   {
    "duration": 3,
    "start_time": "2022-02-27T08:34:51.427Z"
   },
   {
    "duration": 3,
    "start_time": "2022-02-27T08:34:53.003Z"
   },
   {
    "duration": 3,
    "start_time": "2022-02-27T08:35:02.376Z"
   },
   {
    "duration": 3,
    "start_time": "2022-02-27T08:35:04.169Z"
   },
   {
    "duration": 3,
    "start_time": "2022-02-27T08:35:05.671Z"
   },
   {
    "duration": 3,
    "start_time": "2022-02-27T08:35:08.655Z"
   },
   {
    "duration": 4,
    "start_time": "2022-02-27T08:35:16.731Z"
   },
   {
    "duration": 19,
    "start_time": "2022-02-27T08:36:53.294Z"
   },
   {
    "duration": 5,
    "start_time": "2022-02-27T08:37:01.164Z"
   },
   {
    "duration": 5,
    "start_time": "2022-02-27T08:37:18.184Z"
   },
   {
    "duration": 4,
    "start_time": "2022-02-27T08:37:19.469Z"
   },
   {
    "duration": 3,
    "start_time": "2022-02-27T08:37:20.073Z"
   },
   {
    "duration": 3,
    "start_time": "2022-02-27T08:37:20.792Z"
   },
   {
    "duration": 5,
    "start_time": "2022-02-27T08:37:26.711Z"
   },
   {
    "duration": 70,
    "start_time": "2022-02-27T08:37:58.390Z"
   },
   {
    "duration": 577,
    "start_time": "2022-02-27T11:43:28.571Z"
   },
   {
    "duration": 22,
    "start_time": "2022-02-27T11:43:29.150Z"
   },
   {
    "duration": 3,
    "start_time": "2022-02-27T11:43:29.176Z"
   },
   {
    "duration": 22,
    "start_time": "2022-02-27T11:43:29.180Z"
   },
   {
    "duration": 142,
    "start_time": "2022-02-27T11:43:29.203Z"
   },
   {
    "duration": 25,
    "start_time": "2022-02-27T11:43:29.347Z"
   },
   {
    "duration": 84,
    "start_time": "2022-02-27T11:43:29.374Z"
   },
   {
    "duration": 18,
    "start_time": "2022-02-27T11:43:29.460Z"
   },
   {
    "duration": 129,
    "start_time": "2022-02-27T11:43:29.480Z"
   },
   {
    "duration": 26,
    "start_time": "2022-02-27T11:43:29.611Z"
   },
   {
    "duration": 10,
    "start_time": "2022-02-27T11:43:29.639Z"
   },
   {
    "duration": 14,
    "start_time": "2022-02-27T11:43:29.651Z"
   },
   {
    "duration": 8,
    "start_time": "2022-02-27T11:43:29.667Z"
   },
   {
    "duration": 8,
    "start_time": "2022-02-27T11:43:29.677Z"
   },
   {
    "duration": 7,
    "start_time": "2022-02-27T11:43:29.687Z"
   },
   {
    "duration": 6,
    "start_time": "2022-02-27T11:43:29.695Z"
   },
   {
    "duration": 9,
    "start_time": "2022-02-27T11:43:29.703Z"
   },
   {
    "duration": 42,
    "start_time": "2022-02-27T11:43:29.713Z"
   },
   {
    "duration": 28,
    "start_time": "2022-02-27T11:43:29.757Z"
   },
   {
    "duration": 5,
    "start_time": "2022-02-27T11:43:29.787Z"
   },
   {
    "duration": 20,
    "start_time": "2022-02-27T11:43:29.793Z"
   },
   {
    "duration": 5,
    "start_time": "2022-02-27T11:43:29.838Z"
   },
   {
    "duration": 9,
    "start_time": "2022-02-27T11:43:29.845Z"
   },
   {
    "duration": 23,
    "start_time": "2022-02-27T11:43:29.856Z"
   },
   {
    "duration": 31,
    "start_time": "2022-02-27T11:43:29.880Z"
   },
   {
    "duration": 24,
    "start_time": "2022-02-27T11:43:29.913Z"
   },
   {
    "duration": 9,
    "start_time": "2022-02-27T11:43:29.939Z"
   },
   {
    "duration": 19,
    "start_time": "2022-02-27T11:43:29.949Z"
   },
   {
    "duration": 19,
    "start_time": "2022-02-27T11:43:29.969Z"
   },
   {
    "duration": 4,
    "start_time": "2022-02-27T11:43:29.990Z"
   },
   {
    "duration": 47,
    "start_time": "2022-02-27T11:43:29.996Z"
   },
   {
    "duration": 24,
    "start_time": "2022-02-27T11:43:30.046Z"
   },
   {
    "duration": 4,
    "start_time": "2022-02-27T11:43:30.073Z"
   },
   {
    "duration": 17,
    "start_time": "2022-02-27T11:43:30.079Z"
   },
   {
    "duration": 36,
    "start_time": "2022-02-27T11:43:30.101Z"
   },
   {
    "duration": 9,
    "start_time": "2022-02-27T11:43:30.139Z"
   },
   {
    "duration": 18,
    "start_time": "2022-02-27T11:43:30.149Z"
   },
   {
    "duration": 25,
    "start_time": "2022-02-27T11:43:30.168Z"
   },
   {
    "duration": 17,
    "start_time": "2022-02-27T11:43:30.195Z"
   },
   {
    "duration": 35,
    "start_time": "2022-02-27T11:43:30.214Z"
   },
   {
    "duration": 4,
    "start_time": "2022-02-27T11:43:30.251Z"
   },
   {
    "duration": 16,
    "start_time": "2022-02-27T11:43:30.256Z"
   },
   {
    "duration": 7,
    "start_time": "2022-02-27T11:43:30.274Z"
   },
   {
    "duration": 9,
    "start_time": "2022-02-27T11:43:30.283Z"
   },
   {
    "duration": 15,
    "start_time": "2022-02-27T11:43:30.293Z"
   },
   {
    "duration": 16,
    "start_time": "2022-02-27T11:43:30.310Z"
   },
   {
    "duration": 19,
    "start_time": "2022-02-27T11:43:30.328Z"
   },
   {
    "duration": 8,
    "start_time": "2022-02-27T11:43:30.348Z"
   },
   {
    "duration": 14,
    "start_time": "2022-02-27T11:43:30.358Z"
   },
   {
    "duration": 12,
    "start_time": "2022-02-27T11:43:30.374Z"
   },
   {
    "duration": 18,
    "start_time": "2022-02-27T11:43:30.388Z"
   },
   {
    "duration": 3,
    "start_time": "2022-02-27T11:43:30.408Z"
   },
   {
    "duration": 15,
    "start_time": "2022-02-27T11:43:30.438Z"
   },
   {
    "duration": 25,
    "start_time": "2022-02-27T11:43:30.454Z"
   },
   {
    "duration": 8,
    "start_time": "2022-02-27T11:43:30.481Z"
   },
   {
    "duration": 6,
    "start_time": "2022-02-27T11:43:30.491Z"
   },
   {
    "duration": 10,
    "start_time": "2022-02-27T11:43:30.499Z"
   },
   {
    "duration": 36,
    "start_time": "2022-02-27T11:43:30.510Z"
   },
   {
    "duration": 11,
    "start_time": "2022-02-27T11:43:30.547Z"
   },
   {
    "duration": 8,
    "start_time": "2022-02-27T11:43:30.559Z"
   },
   {
    "duration": 20,
    "start_time": "2022-02-27T11:43:30.569Z"
   },
   {
    "duration": 3,
    "start_time": "2022-02-27T11:43:30.591Z"
   },
   {
    "duration": 21,
    "start_time": "2022-02-27T11:43:30.596Z"
   },
   {
    "duration": 21,
    "start_time": "2022-02-27T11:43:30.619Z"
   },
   {
    "duration": 27,
    "start_time": "2022-02-27T11:43:30.642Z"
   },
   {
    "duration": 9,
    "start_time": "2022-02-27T11:43:30.670Z"
   },
   {
    "duration": 216,
    "start_time": "2022-02-27T11:43:30.685Z"
   },
   {
    "duration": 6,
    "start_time": "2022-02-27T11:43:30.904Z"
   },
   {
    "duration": 17,
    "start_time": "2022-02-27T11:43:30.911Z"
   },
   {
    "duration": 74,
    "start_time": "2022-02-27T11:43:30.929Z"
   },
   {
    "duration": 17,
    "start_time": "2022-02-27T11:43:31.005Z"
   },
   {
    "duration": 259,
    "start_time": "2022-02-27T11:43:31.037Z"
   },
   {
    "duration": 255,
    "start_time": "2022-02-27T11:43:31.298Z"
   },
   {
    "duration": 15,
    "start_time": "2022-02-27T11:43:31.555Z"
   },
   {
    "duration": 293,
    "start_time": "2022-02-27T11:43:31.572Z"
   },
   {
    "duration": 237,
    "start_time": "2022-02-27T11:43:31.867Z"
   },
   {
    "duration": 163,
    "start_time": "2022-02-27T11:43:32.106Z"
   },
   {
    "duration": 19,
    "start_time": "2022-02-27T11:43:32.270Z"
   },
   {
    "duration": 8,
    "start_time": "2022-02-27T11:43:32.291Z"
   },
   {
    "duration": 171,
    "start_time": "2022-02-27T11:43:32.300Z"
   },
   {
    "duration": 5,
    "start_time": "2022-02-27T11:43:32.473Z"
   },
   {
    "duration": 46,
    "start_time": "2022-02-27T11:43:32.479Z"
   },
   {
    "duration": 215,
    "start_time": "2022-02-27T11:43:32.527Z"
   },
   {
    "duration": 210,
    "start_time": "2022-02-27T11:43:32.744Z"
   },
   {
    "duration": 167,
    "start_time": "2022-02-27T11:43:32.956Z"
   },
   {
    "duration": 14,
    "start_time": "2022-02-27T11:43:33.125Z"
   },
   {
    "duration": 156,
    "start_time": "2022-02-27T11:43:33.141Z"
   },
   {
    "duration": 6,
    "start_time": "2022-02-27T11:43:33.299Z"
   },
   {
    "duration": 23,
    "start_time": "2022-02-27T11:43:33.306Z"
   },
   {
    "duration": 245,
    "start_time": "2022-02-27T11:43:33.331Z"
   },
   {
    "duration": 215,
    "start_time": "2022-02-27T11:43:33.578Z"
   },
   {
    "duration": 168,
    "start_time": "2022-02-27T11:43:33.794Z"
   },
   {
    "duration": 5,
    "start_time": "2022-02-27T11:43:33.964Z"
   },
   {
    "duration": 245,
    "start_time": "2022-02-27T11:43:33.971Z"
   },
   {
    "duration": 351,
    "start_time": "2022-02-27T11:43:34.218Z"
   },
   {
    "duration": 3,
    "start_time": "2022-02-27T11:43:34.570Z"
   },
   {
    "duration": 32,
    "start_time": "2022-02-27T11:43:34.575Z"
   },
   {
    "duration": 14,
    "start_time": "2022-02-27T11:43:34.608Z"
   },
   {
    "duration": 37,
    "start_time": "2022-02-27T11:43:34.624Z"
   },
   {
    "duration": 37,
    "start_time": "2022-02-27T11:43:34.663Z"
   },
   {
    "duration": 24,
    "start_time": "2022-02-27T11:43:34.702Z"
   },
   {
    "duration": 35,
    "start_time": "2022-02-27T11:43:34.728Z"
   },
   {
    "duration": 33,
    "start_time": "2022-02-27T11:43:34.764Z"
   },
   {
    "duration": 38,
    "start_time": "2022-02-27T11:43:34.799Z"
   },
   {
    "duration": 34,
    "start_time": "2022-02-27T11:43:34.839Z"
   },
   {
    "duration": 34,
    "start_time": "2022-02-27T11:43:34.875Z"
   },
   {
    "duration": 39,
    "start_time": "2022-02-27T11:43:34.911Z"
   },
   {
    "duration": 24,
    "start_time": "2022-02-27T11:43:34.951Z"
   },
   {
    "duration": 43,
    "start_time": "2022-02-27T11:43:34.977Z"
   },
   {
    "duration": 593,
    "start_time": "2022-03-07T12:17:46.760Z"
   },
   {
    "duration": 32,
    "start_time": "2022-03-07T12:17:47.355Z"
   },
   {
    "duration": 2,
    "start_time": "2022-03-07T12:17:47.390Z"
   },
   {
    "duration": 21,
    "start_time": "2022-03-07T12:17:47.394Z"
   },
   {
    "duration": 141,
    "start_time": "2022-03-07T12:17:47.417Z"
   },
   {
    "duration": 26,
    "start_time": "2022-03-07T12:17:47.559Z"
   },
   {
    "duration": 91,
    "start_time": "2022-03-07T12:17:47.587Z"
   },
   {
    "duration": 19,
    "start_time": "2022-03-07T12:17:47.681Z"
   },
   {
    "duration": 165,
    "start_time": "2022-03-07T12:17:47.702Z"
   },
   {
    "duration": 74,
    "start_time": "2022-03-07T12:17:47.868Z"
   },
   {
    "duration": 11,
    "start_time": "2022-03-07T12:17:47.944Z"
   },
   {
    "duration": 21,
    "start_time": "2022-03-07T12:17:47.956Z"
   },
   {
    "duration": 9,
    "start_time": "2022-03-07T12:17:47.979Z"
   },
   {
    "duration": 54,
    "start_time": "2022-03-07T12:17:47.989Z"
   },
   {
    "duration": 9,
    "start_time": "2022-03-07T12:17:48.044Z"
   },
   {
    "duration": 6,
    "start_time": "2022-03-07T12:17:48.055Z"
   },
   {
    "duration": 16,
    "start_time": "2022-03-07T12:17:48.062Z"
   },
   {
    "duration": 68,
    "start_time": "2022-03-07T12:17:48.079Z"
   },
   {
    "duration": 32,
    "start_time": "2022-03-07T12:17:48.149Z"
   },
   {
    "duration": 56,
    "start_time": "2022-03-07T12:17:48.183Z"
   },
   {
    "duration": 18,
    "start_time": "2022-03-07T12:17:48.240Z"
   },
   {
    "duration": 4,
    "start_time": "2022-03-07T12:17:48.259Z"
   },
   {
    "duration": 10,
    "start_time": "2022-03-07T12:17:48.267Z"
   },
   {
    "duration": 74,
    "start_time": "2022-03-07T12:17:48.279Z"
   },
   {
    "duration": 84,
    "start_time": "2022-03-07T12:17:48.354Z"
   },
   {
    "duration": 4,
    "start_time": "2022-03-07T12:17:48.440Z"
   },
   {
    "duration": 11,
    "start_time": "2022-03-07T12:17:48.445Z"
   },
   {
    "duration": 18,
    "start_time": "2022-03-07T12:17:48.458Z"
   },
   {
    "duration": 18,
    "start_time": "2022-03-07T12:17:48.478Z"
   },
   {
    "duration": 5,
    "start_time": "2022-03-07T12:17:48.498Z"
   },
   {
    "duration": 47,
    "start_time": "2022-03-07T12:17:48.504Z"
   },
   {
    "duration": 17,
    "start_time": "2022-03-07T12:17:48.553Z"
   },
   {
    "duration": 4,
    "start_time": "2022-03-07T12:17:48.571Z"
   },
   {
    "duration": 7,
    "start_time": "2022-03-07T12:17:48.577Z"
   },
   {
    "duration": 27,
    "start_time": "2022-03-07T12:17:48.585Z"
   },
   {
    "duration": 8,
    "start_time": "2022-03-07T12:17:48.638Z"
   },
   {
    "duration": 11,
    "start_time": "2022-03-07T12:17:48.648Z"
   },
   {
    "duration": 21,
    "start_time": "2022-03-07T12:17:48.660Z"
   },
   {
    "duration": 17,
    "start_time": "2022-03-07T12:17:48.683Z"
   },
   {
    "duration": 47,
    "start_time": "2022-03-07T12:17:48.702Z"
   },
   {
    "duration": 4,
    "start_time": "2022-03-07T12:17:48.751Z"
   },
   {
    "duration": 12,
    "start_time": "2022-03-07T12:17:48.756Z"
   },
   {
    "duration": 6,
    "start_time": "2022-03-07T12:17:48.770Z"
   },
   {
    "duration": 5,
    "start_time": "2022-03-07T12:17:48.777Z"
   },
   {
    "duration": 12,
    "start_time": "2022-03-07T12:17:48.784Z"
   },
   {
    "duration": 42,
    "start_time": "2022-03-07T12:17:48.797Z"
   },
   {
    "duration": 12,
    "start_time": "2022-03-07T12:17:48.841Z"
   },
   {
    "duration": 9,
    "start_time": "2022-03-07T12:17:48.854Z"
   },
   {
    "duration": 14,
    "start_time": "2022-03-07T12:17:48.864Z"
   },
   {
    "duration": 8,
    "start_time": "2022-03-07T12:17:48.879Z"
   },
   {
    "duration": 62,
    "start_time": "2022-03-07T12:17:48.889Z"
   },
   {
    "duration": 3,
    "start_time": "2022-03-07T12:17:48.953Z"
   },
   {
    "duration": 10,
    "start_time": "2022-03-07T12:17:48.958Z"
   },
   {
    "duration": 27,
    "start_time": "2022-03-07T12:17:48.970Z"
   },
   {
    "duration": 9,
    "start_time": "2022-03-07T12:17:48.999Z"
   },
   {
    "duration": 8,
    "start_time": "2022-03-07T12:17:49.037Z"
   },
   {
    "duration": 8,
    "start_time": "2022-03-07T12:17:49.046Z"
   },
   {
    "duration": 15,
    "start_time": "2022-03-07T12:17:49.055Z"
   },
   {
    "duration": 13,
    "start_time": "2022-03-07T12:17:49.072Z"
   },
   {
    "duration": 12,
    "start_time": "2022-03-07T12:17:49.087Z"
   },
   {
    "duration": 45,
    "start_time": "2022-03-07T12:17:49.101Z"
   },
   {
    "duration": 5,
    "start_time": "2022-03-07T12:17:49.148Z"
   },
   {
    "duration": 15,
    "start_time": "2022-03-07T12:17:49.155Z"
   },
   {
    "duration": 9,
    "start_time": "2022-03-07T12:17:49.172Z"
   },
   {
    "duration": 23,
    "start_time": "2022-03-07T12:17:49.182Z"
   },
   {
    "duration": 5,
    "start_time": "2022-03-07T12:17:49.207Z"
   },
   {
    "duration": 232,
    "start_time": "2022-03-07T12:17:49.237Z"
   },
   {
    "duration": 6,
    "start_time": "2022-03-07T12:17:49.475Z"
   },
   {
    "duration": 7,
    "start_time": "2022-03-07T12:17:49.483Z"
   },
   {
    "duration": 90,
    "start_time": "2022-03-07T12:17:49.491Z"
   },
   {
    "duration": 15,
    "start_time": "2022-03-07T12:17:49.584Z"
   },
   {
    "duration": 272,
    "start_time": "2022-03-07T12:17:49.601Z"
   },
   {
    "duration": 250,
    "start_time": "2022-03-07T12:17:49.875Z"
   },
   {
    "duration": 19,
    "start_time": "2022-03-07T12:17:50.127Z"
   },
   {
    "duration": 299,
    "start_time": "2022-03-07T12:17:50.147Z"
   },
   {
    "duration": 228,
    "start_time": "2022-03-07T12:17:50.448Z"
   },
   {
    "duration": 167,
    "start_time": "2022-03-07T12:17:50.678Z"
   },
   {
    "duration": 21,
    "start_time": "2022-03-07T12:17:50.847Z"
   },
   {
    "duration": 7,
    "start_time": "2022-03-07T12:17:50.870Z"
   },
   {
    "duration": 185,
    "start_time": "2022-03-07T12:17:50.878Z"
   },
   {
    "duration": 6,
    "start_time": "2022-03-07T12:17:51.065Z"
   },
   {
    "duration": 28,
    "start_time": "2022-03-07T12:17:51.072Z"
   },
   {
    "duration": 223,
    "start_time": "2022-03-07T12:17:51.102Z"
   },
   {
    "duration": 212,
    "start_time": "2022-03-07T12:17:51.327Z"
   },
   {
    "duration": 176,
    "start_time": "2022-03-07T12:17:51.541Z"
   },
   {
    "duration": 6,
    "start_time": "2022-03-07T12:17:51.719Z"
   },
   {
    "duration": 166,
    "start_time": "2022-03-07T12:17:51.726Z"
   },
   {
    "duration": 5,
    "start_time": "2022-03-07T12:17:51.894Z"
   },
   {
    "duration": 16,
    "start_time": "2022-03-07T12:17:51.901Z"
   },
   {
    "duration": 253,
    "start_time": "2022-03-07T12:17:51.918Z"
   },
   {
    "duration": 217,
    "start_time": "2022-03-07T12:17:52.172Z"
   },
   {
    "duration": 170,
    "start_time": "2022-03-07T12:17:52.391Z"
   },
   {
    "duration": 5,
    "start_time": "2022-03-07T12:17:52.563Z"
   },
   {
    "duration": 246,
    "start_time": "2022-03-07T12:17:52.570Z"
   },
   {
    "duration": 360,
    "start_time": "2022-03-07T12:17:52.817Z"
   },
   {
    "duration": 2,
    "start_time": "2022-03-07T12:17:53.179Z"
   },
   {
    "duration": 7,
    "start_time": "2022-03-07T12:17:53.183Z"
   },
   {
    "duration": 6,
    "start_time": "2022-03-07T12:17:53.192Z"
   },
   {
    "duration": 7,
    "start_time": "2022-03-07T12:17:53.199Z"
   },
   {
    "duration": 7,
    "start_time": "2022-03-07T12:17:53.207Z"
   },
   {
    "duration": 23,
    "start_time": "2022-03-07T12:17:53.215Z"
   },
   {
    "duration": 5,
    "start_time": "2022-03-07T12:17:53.240Z"
   },
   {
    "duration": 21,
    "start_time": "2022-03-07T12:17:53.246Z"
   },
   {
    "duration": 6,
    "start_time": "2022-03-07T12:17:53.268Z"
   },
   {
    "duration": 10,
    "start_time": "2022-03-07T12:17:53.275Z"
   },
   {
    "duration": 9,
    "start_time": "2022-03-07T12:17:53.287Z"
   },
   {
    "duration": 7,
    "start_time": "2022-03-07T12:17:53.297Z"
   },
   {
    "duration": 33,
    "start_time": "2022-03-07T12:17:53.306Z"
   },
   {
    "duration": 8,
    "start_time": "2022-03-07T12:17:53.341Z"
   },
   {
    "duration": 314,
    "start_time": "2022-03-07T13:07:59.147Z"
   },
   {
    "duration": 297,
    "start_time": "2022-03-07T13:08:41.535Z"
   },
   {
    "duration": 92,
    "start_time": "2022-03-07T13:09:06.403Z"
   },
   {
    "duration": 109,
    "start_time": "2022-03-07T13:09:18.323Z"
   },
   {
    "duration": 583,
    "start_time": "2022-03-07T13:09:31.634Z"
   },
   {
    "duration": 35,
    "start_time": "2022-03-07T13:09:32.219Z"
   },
   {
    "duration": 5,
    "start_time": "2022-03-07T13:09:32.256Z"
   },
   {
    "duration": 19,
    "start_time": "2022-03-07T13:09:32.262Z"
   },
   {
    "duration": 134,
    "start_time": "2022-03-07T13:09:32.283Z"
   },
   {
    "duration": 23,
    "start_time": "2022-03-07T13:09:32.419Z"
   },
   {
    "duration": 76,
    "start_time": "2022-03-07T13:09:32.444Z"
   },
   {
    "duration": 17,
    "start_time": "2022-03-07T13:09:32.523Z"
   },
   {
    "duration": 115,
    "start_time": "2022-03-07T13:09:32.542Z"
   },
   {
    "duration": 20,
    "start_time": "2022-03-07T13:09:32.659Z"
   },
   {
    "duration": 16,
    "start_time": "2022-03-07T13:09:32.680Z"
   },
   {
    "duration": 14,
    "start_time": "2022-03-07T13:09:32.697Z"
   },
   {
    "duration": 8,
    "start_time": "2022-03-07T13:09:32.713Z"
   },
   {
    "duration": 7,
    "start_time": "2022-03-07T13:09:32.723Z"
   },
   {
    "duration": 6,
    "start_time": "2022-03-07T13:09:32.731Z"
   },
   {
    "duration": 5,
    "start_time": "2022-03-07T13:09:32.739Z"
   },
   {
    "duration": 7,
    "start_time": "2022-03-07T13:09:32.745Z"
   },
   {
    "duration": 48,
    "start_time": "2022-03-07T13:09:32.753Z"
   },
   {
    "duration": 31,
    "start_time": "2022-03-07T13:09:32.802Z"
   },
   {
    "duration": 5,
    "start_time": "2022-03-07T13:09:32.834Z"
   },
   {
    "duration": 18,
    "start_time": "2022-03-07T13:09:32.840Z"
   },
   {
    "duration": 4,
    "start_time": "2022-03-07T13:09:32.859Z"
   },
   {
    "duration": 4,
    "start_time": "2022-03-07T13:09:32.866Z"
   },
   {
    "duration": 48,
    "start_time": "2022-03-07T13:09:32.872Z"
   },
   {
    "duration": 27,
    "start_time": "2022-03-07T13:09:32.922Z"
   },
   {
    "duration": 4,
    "start_time": "2022-03-07T13:09:32.951Z"
   },
   {
    "duration": 11,
    "start_time": "2022-03-07T13:09:32.956Z"
   },
   {
    "duration": 32,
    "start_time": "2022-03-07T13:09:32.969Z"
   },
   {
    "duration": 17,
    "start_time": "2022-03-07T13:09:33.003Z"
   },
   {
    "duration": 4,
    "start_time": "2022-03-07T13:09:33.022Z"
   },
   {
    "duration": 17,
    "start_time": "2022-03-07T13:09:33.028Z"
   },
   {
    "duration": 15,
    "start_time": "2022-03-07T13:09:33.046Z"
   },
   {
    "duration": 4,
    "start_time": "2022-03-07T13:09:33.062Z"
   },
   {
    "duration": 10,
    "start_time": "2022-03-07T13:09:33.067Z"
   },
   {
    "duration": 36,
    "start_time": "2022-03-07T13:09:33.078Z"
   },
   {
    "duration": 7,
    "start_time": "2022-03-07T13:09:33.115Z"
   },
   {
    "duration": 10,
    "start_time": "2022-03-07T13:09:33.124Z"
   },
   {
    "duration": 23,
    "start_time": "2022-03-07T13:09:33.135Z"
   },
   {
    "duration": 15,
    "start_time": "2022-03-07T13:09:33.159Z"
   },
   {
    "duration": 36,
    "start_time": "2022-03-07T13:09:33.176Z"
   },
   {
    "duration": 4,
    "start_time": "2022-03-07T13:09:33.213Z"
   },
   {
    "duration": 11,
    "start_time": "2022-03-07T13:09:33.218Z"
   },
   {
    "duration": 8,
    "start_time": "2022-03-07T13:09:33.231Z"
   },
   {
    "duration": 8,
    "start_time": "2022-03-07T13:09:33.240Z"
   },
   {
    "duration": 13,
    "start_time": "2022-03-07T13:09:33.249Z"
   },
   {
    "duration": 9,
    "start_time": "2022-03-07T13:09:33.264Z"
   },
   {
    "duration": 12,
    "start_time": "2022-03-07T13:09:33.274Z"
   },
   {
    "duration": 16,
    "start_time": "2022-03-07T13:09:33.287Z"
   },
   {
    "duration": 11,
    "start_time": "2022-03-07T13:09:33.305Z"
   },
   {
    "duration": 7,
    "start_time": "2022-03-07T13:09:33.318Z"
   },
   {
    "duration": 18,
    "start_time": "2022-03-07T13:09:33.326Z"
   },
   {
    "duration": 3,
    "start_time": "2022-03-07T13:09:33.346Z"
   },
   {
    "duration": 10,
    "start_time": "2022-03-07T13:09:33.351Z"
   },
   {
    "duration": 44,
    "start_time": "2022-03-07T13:09:33.363Z"
   },
   {
    "duration": 9,
    "start_time": "2022-03-07T13:09:33.408Z"
   },
   {
    "duration": 7,
    "start_time": "2022-03-07T13:09:33.418Z"
   },
   {
    "duration": 6,
    "start_time": "2022-03-07T13:09:33.427Z"
   },
   {
    "duration": 14,
    "start_time": "2022-03-07T13:09:33.434Z"
   },
   {
    "duration": 9,
    "start_time": "2022-03-07T13:09:33.450Z"
   },
   {
    "duration": 11,
    "start_time": "2022-03-07T13:09:33.461Z"
   },
   {
    "duration": 42,
    "start_time": "2022-03-07T13:09:33.473Z"
   },
   {
    "duration": 4,
    "start_time": "2022-03-07T13:09:33.517Z"
   },
   {
    "duration": 15,
    "start_time": "2022-03-07T13:09:33.523Z"
   },
   {
    "duration": 5,
    "start_time": "2022-03-07T13:09:33.540Z"
   },
   {
    "duration": 22,
    "start_time": "2022-03-07T13:09:33.547Z"
   },
   {
    "duration": 4,
    "start_time": "2022-03-07T13:09:33.571Z"
   },
   {
    "duration": 234,
    "start_time": "2022-03-07T13:09:33.576Z"
   },
   {
    "duration": 7,
    "start_time": "2022-03-07T13:09:33.816Z"
   },
   {
    "duration": 6,
    "start_time": "2022-03-07T13:09:33.825Z"
   },
   {
    "duration": 77,
    "start_time": "2022-03-07T13:09:33.832Z"
   },
   {
    "duration": 14,
    "start_time": "2022-03-07T13:09:33.910Z"
   },
   {
    "duration": 225,
    "start_time": "2022-03-07T13:09:33.926Z"
   },
   {
    "duration": 216,
    "start_time": "2022-03-07T13:09:34.153Z"
   },
   {
    "duration": 14,
    "start_time": "2022-03-07T13:09:34.371Z"
   },
   {
    "duration": 254,
    "start_time": "2022-03-07T13:09:34.386Z"
   },
   {
    "duration": 201,
    "start_time": "2022-03-07T13:09:34.641Z"
   },
   {
    "duration": 149,
    "start_time": "2022-03-07T13:09:34.844Z"
   },
   {
    "duration": 23,
    "start_time": "2022-03-07T13:09:34.994Z"
   },
   {
    "duration": 6,
    "start_time": "2022-03-07T13:09:35.019Z"
   },
   {
    "duration": 150,
    "start_time": "2022-03-07T13:09:35.026Z"
   },
   {
    "duration": 5,
    "start_time": "2022-03-07T13:09:35.178Z"
   },
   {
    "duration": 20,
    "start_time": "2022-03-07T13:09:35.184Z"
   },
   {
    "duration": 187,
    "start_time": "2022-03-07T13:09:35.205Z"
   },
   {
    "duration": 184,
    "start_time": "2022-03-07T13:09:35.393Z"
   },
   {
    "duration": 147,
    "start_time": "2022-03-07T13:09:35.578Z"
   },
   {
    "duration": 5,
    "start_time": "2022-03-07T13:09:35.727Z"
   },
   {
    "duration": 152,
    "start_time": "2022-03-07T13:09:35.733Z"
   },
   {
    "duration": 5,
    "start_time": "2022-03-07T13:09:35.886Z"
   },
   {
    "duration": 18,
    "start_time": "2022-03-07T13:09:35.893Z"
   },
   {
    "duration": 204,
    "start_time": "2022-03-07T13:09:35.913Z"
   },
   {
    "duration": 196,
    "start_time": "2022-03-07T13:09:36.119Z"
   },
   {
    "duration": 154,
    "start_time": "2022-03-07T13:09:36.317Z"
   },
   {
    "duration": 5,
    "start_time": "2022-03-07T13:09:36.473Z"
   },
   {
    "duration": 209,
    "start_time": "2022-03-07T13:09:36.480Z"
   },
   {
    "duration": 335,
    "start_time": "2022-03-07T13:09:36.691Z"
   },
   {
    "duration": 2,
    "start_time": "2022-03-07T13:09:37.028Z"
   },
   {
    "duration": 8,
    "start_time": "2022-03-07T13:09:37.031Z"
   },
   {
    "duration": 3,
    "start_time": "2022-03-07T13:09:37.040Z"
   },
   {
    "duration": 4,
    "start_time": "2022-03-07T13:09:37.045Z"
   },
   {
    "duration": 7,
    "start_time": "2022-03-07T13:09:37.050Z"
   },
   {
    "duration": 4,
    "start_time": "2022-03-07T13:09:37.058Z"
   },
   {
    "duration": 11,
    "start_time": "2022-03-07T13:09:37.063Z"
   },
   {
    "duration": 31,
    "start_time": "2022-03-07T13:09:37.075Z"
   },
   {
    "duration": 4,
    "start_time": "2022-03-07T13:09:37.107Z"
   },
   {
    "duration": 7,
    "start_time": "2022-03-07T13:09:37.112Z"
   },
   {
    "duration": 7,
    "start_time": "2022-03-07T13:09:37.121Z"
   },
   {
    "duration": 9,
    "start_time": "2022-03-07T13:09:37.129Z"
   },
   {
    "duration": 8,
    "start_time": "2022-03-07T13:09:37.139Z"
   },
   {
    "duration": 9,
    "start_time": "2022-03-07T13:09:37.148Z"
   },
   {
    "duration": 399,
    "start_time": "2022-09-04T19:37:20.134Z"
   },
   {
    "duration": 76,
    "start_time": "2022-09-04T19:37:20.535Z"
   },
   {
    "duration": 3,
    "start_time": "2022-09-04T19:37:20.612Z"
   },
   {
    "duration": 27,
    "start_time": "2022-09-04T19:37:20.617Z"
   },
   {
    "duration": 439,
    "start_time": "2022-09-04T19:37:20.645Z"
   },
   {
    "duration": 26,
    "start_time": "2022-09-04T19:37:21.085Z"
   },
   {
    "duration": 132,
    "start_time": "2022-09-04T19:37:21.113Z"
   },
   {
    "duration": 22,
    "start_time": "2022-09-04T19:37:21.247Z"
   },
   {
    "duration": 372,
    "start_time": "2022-09-04T19:37:21.271Z"
   },
   {
    "duration": 25,
    "start_time": "2022-09-04T19:37:21.646Z"
   },
   {
    "duration": 55,
    "start_time": "2022-09-04T19:37:21.672Z"
   },
   {
    "duration": 22,
    "start_time": "2022-09-04T19:37:21.729Z"
   },
   {
    "duration": 9,
    "start_time": "2022-09-04T19:37:21.753Z"
   },
   {
    "duration": 15,
    "start_time": "2022-09-04T19:37:21.764Z"
   },
   {
    "duration": 8,
    "start_time": "2022-09-04T19:37:21.780Z"
   },
   {
    "duration": 5,
    "start_time": "2022-09-04T19:37:21.789Z"
   },
   {
    "duration": 15,
    "start_time": "2022-09-04T19:37:21.796Z"
   },
   {
    "duration": 21,
    "start_time": "2022-09-04T19:37:21.812Z"
   },
   {
    "duration": 28,
    "start_time": "2022-09-04T19:37:21.834Z"
   },
   {
    "duration": 6,
    "start_time": "2022-09-04T19:37:21.863Z"
   },
   {
    "duration": 36,
    "start_time": "2022-09-04T19:37:21.870Z"
   },
   {
    "duration": 3,
    "start_time": "2022-09-04T19:37:21.908Z"
   },
   {
    "duration": 8,
    "start_time": "2022-09-04T19:37:21.913Z"
   },
   {
    "duration": 23,
    "start_time": "2022-09-04T19:37:21.922Z"
   },
   {
    "duration": 26,
    "start_time": "2022-09-04T19:37:21.946Z"
   },
   {
    "duration": 3,
    "start_time": "2022-09-04T19:37:21.974Z"
   },
   {
    "duration": 33,
    "start_time": "2022-09-04T19:37:21.979Z"
   },
   {
    "duration": 15,
    "start_time": "2022-09-04T19:37:22.016Z"
   },
   {
    "duration": 22,
    "start_time": "2022-09-04T19:37:22.033Z"
   },
   {
    "duration": 6,
    "start_time": "2022-09-04T19:37:22.057Z"
   },
   {
    "duration": 41,
    "start_time": "2022-09-04T19:37:22.065Z"
   },
   {
    "duration": 24,
    "start_time": "2022-09-04T19:37:22.108Z"
   },
   {
    "duration": 4,
    "start_time": "2022-09-04T19:37:22.134Z"
   },
   {
    "duration": 10,
    "start_time": "2022-09-04T19:37:22.140Z"
   },
   {
    "duration": 27,
    "start_time": "2022-09-04T19:37:22.151Z"
   },
   {
    "duration": 7,
    "start_time": "2022-09-04T19:37:22.180Z"
   },
   {
    "duration": 29,
    "start_time": "2022-09-04T19:37:22.188Z"
   },
   {
    "duration": 24,
    "start_time": "2022-09-04T19:37:22.218Z"
   },
   {
    "duration": 16,
    "start_time": "2022-09-04T19:37:22.243Z"
   },
   {
    "duration": 15,
    "start_time": "2022-09-04T19:37:22.260Z"
   },
   {
    "duration": 2,
    "start_time": "2022-09-04T19:37:22.277Z"
   },
   {
    "duration": 31,
    "start_time": "2022-09-04T19:37:22.281Z"
   },
   {
    "duration": 18,
    "start_time": "2022-09-04T19:37:22.314Z"
   },
   {
    "duration": 4,
    "start_time": "2022-09-04T19:37:22.334Z"
   },
   {
    "duration": 10,
    "start_time": "2022-09-04T19:37:22.340Z"
   },
   {
    "duration": 9,
    "start_time": "2022-09-04T19:37:22.351Z"
   },
   {
    "duration": 11,
    "start_time": "2022-09-04T19:37:22.361Z"
   },
   {
    "duration": 10,
    "start_time": "2022-09-04T19:37:22.373Z"
   },
   {
    "duration": 15,
    "start_time": "2022-09-04T19:37:22.384Z"
   },
   {
    "duration": 7,
    "start_time": "2022-09-04T19:37:22.405Z"
   },
   {
    "duration": 20,
    "start_time": "2022-09-04T19:37:22.413Z"
   },
   {
    "duration": 3,
    "start_time": "2022-09-04T19:37:22.434Z"
   },
   {
    "duration": 7,
    "start_time": "2022-09-04T19:37:22.439Z"
   },
   {
    "duration": 27,
    "start_time": "2022-09-04T19:37:22.448Z"
   },
   {
    "duration": 38,
    "start_time": "2022-09-04T19:37:22.477Z"
   },
   {
    "duration": 7,
    "start_time": "2022-09-04T19:37:22.516Z"
   },
   {
    "duration": 6,
    "start_time": "2022-09-04T19:37:22.524Z"
   },
   {
    "duration": 8,
    "start_time": "2022-09-04T19:37:22.531Z"
   },
   {
    "duration": 6,
    "start_time": "2022-09-04T19:37:22.541Z"
   },
   {
    "duration": 12,
    "start_time": "2022-09-04T19:37:22.549Z"
   },
   {
    "duration": 55,
    "start_time": "2022-09-04T19:37:22.563Z"
   },
   {
    "duration": 3,
    "start_time": "2022-09-04T19:37:22.620Z"
   },
   {
    "duration": 15,
    "start_time": "2022-09-04T19:37:22.625Z"
   },
   {
    "duration": 4,
    "start_time": "2022-09-04T19:37:22.642Z"
   },
   {
    "duration": 22,
    "start_time": "2022-09-04T19:37:22.647Z"
   },
   {
    "duration": 4,
    "start_time": "2022-09-04T19:37:22.671Z"
   },
   {
    "duration": 131,
    "start_time": "2022-09-04T19:37:22.677Z"
   },
   {
    "duration": 8,
    "start_time": "2022-09-04T19:37:22.810Z"
   },
   {
    "duration": 8,
    "start_time": "2022-09-04T19:37:22.820Z"
   },
   {
    "duration": 363,
    "start_time": "2022-09-04T19:37:22.830Z"
   },
   {
    "duration": 18,
    "start_time": "2022-09-04T19:37:23.194Z"
   },
   {
    "duration": 168,
    "start_time": "2022-09-04T19:37:23.214Z"
   },
   {
    "duration": 147,
    "start_time": "2022-09-04T19:37:23.384Z"
   },
   {
    "duration": 13,
    "start_time": "2022-09-04T19:37:23.532Z"
   },
   {
    "duration": 204,
    "start_time": "2022-09-04T19:37:23.547Z"
   },
   {
    "duration": 146,
    "start_time": "2022-09-04T19:37:23.753Z"
   },
   {
    "duration": 111,
    "start_time": "2022-09-04T19:37:23.901Z"
   },
   {
    "duration": 20,
    "start_time": "2022-09-04T19:37:24.014Z"
   },
   {
    "duration": 6,
    "start_time": "2022-09-04T19:37:24.036Z"
   },
   {
    "duration": 139,
    "start_time": "2022-09-04T19:37:24.044Z"
   },
   {
    "duration": 6,
    "start_time": "2022-09-04T19:37:24.184Z"
   },
   {
    "duration": 21,
    "start_time": "2022-09-04T19:37:24.195Z"
   },
   {
    "duration": 149,
    "start_time": "2022-09-04T19:37:24.218Z"
   },
   {
    "duration": 126,
    "start_time": "2022-09-04T19:37:24.369Z"
   },
   {
    "duration": 114,
    "start_time": "2022-09-04T19:37:24.497Z"
   },
   {
    "duration": 6,
    "start_time": "2022-09-04T19:37:24.613Z"
   },
   {
    "duration": 102,
    "start_time": "2022-09-04T19:37:24.621Z"
   },
   {
    "duration": 7,
    "start_time": "2022-09-04T19:37:24.725Z"
   },
   {
    "duration": 35,
    "start_time": "2022-09-04T19:37:24.734Z"
   },
   {
    "duration": 158,
    "start_time": "2022-09-04T19:37:24.771Z"
   },
   {
    "duration": 144,
    "start_time": "2022-09-04T19:37:24.931Z"
   },
   {
    "duration": 104,
    "start_time": "2022-09-04T19:37:25.076Z"
   },
   {
    "duration": 5,
    "start_time": "2022-09-04T19:37:25.182Z"
   },
   {
    "duration": 205,
    "start_time": "2022-09-04T19:37:25.188Z"
   },
   {
    "duration": 400,
    "start_time": "2022-09-04T19:37:25.395Z"
   },
   {
    "duration": 4,
    "start_time": "2022-09-04T19:37:25.796Z"
   },
   {
    "duration": 2,
    "start_time": "2022-09-04T19:37:25.806Z"
   },
   {
    "duration": 3,
    "start_time": "2022-09-04T19:37:25.810Z"
   },
   {
    "duration": 8,
    "start_time": "2022-09-04T19:37:25.815Z"
   },
   {
    "duration": 9,
    "start_time": "2022-09-04T19:37:25.825Z"
   },
   {
    "duration": 6,
    "start_time": "2022-09-04T19:37:25.835Z"
   },
   {
    "duration": 10,
    "start_time": "2022-09-04T19:37:25.843Z"
   },
   {
    "duration": 21,
    "start_time": "2022-09-04T19:37:25.854Z"
   },
   {
    "duration": 5,
    "start_time": "2022-09-04T19:37:25.877Z"
   },
   {
    "duration": 6,
    "start_time": "2022-09-04T19:37:25.884Z"
   },
   {
    "duration": 15,
    "start_time": "2022-09-04T19:37:25.891Z"
   },
   {
    "duration": 2,
    "start_time": "2022-09-04T19:37:25.908Z"
   },
   {
    "duration": 13,
    "start_time": "2022-09-04T19:37:25.912Z"
   },
   {
    "duration": 7,
    "start_time": "2022-09-04T19:37:25.927Z"
   }
  ],
  "kernelspec": {
   "display_name": "Python 3 (ipykernel)",
   "language": "python",
   "name": "python3"
  },
  "language_info": {
   "codemirror_mode": {
    "name": "ipython",
    "version": 3
   },
   "file_extension": ".py",
   "mimetype": "text/x-python",
   "name": "python",
   "nbconvert_exporter": "python",
   "pygments_lexer": "ipython3",
   "version": "3.9.5"
  },
  "toc": {
   "base_numbering": 1,
   "nav_menu": {},
   "number_sections": true,
   "sideBar": true,
   "skip_h1_title": true,
   "title_cell": "Table of Contents",
   "title_sidebar": "Contents",
   "toc_cell": false,
   "toc_position": {},
   "toc_section_display": true,
   "toc_window_display": true
  }
 },
 "nbformat": 4,
 "nbformat_minor": 2
}
