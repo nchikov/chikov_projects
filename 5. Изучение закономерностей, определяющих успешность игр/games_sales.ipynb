{
 "cells": [
  {
   "cell_type": "markdown",
   "metadata": {
    "id": "r1y9izQNqnja"
   },
   "source": [
    "# **Сборный проект №1**\n",
    "\n",
    "# Описание проекта\n",
    "Вы работаете в интернет-магазине «Стримчик», который продаёт по всему миру\n",
    "компьютерные игры. Из открытых источников доступны исторические данные о\n",
    "продажах игр, оценки пользователей и экспертов, жанры и платформы\n",
    "(например, Xboxили PlayStation). Вам нужно выявить определяющие успешность\n",
    "игры закономерности. Это позволит сделать ставку на потенциально популярный\n",
    "продукт и спланировать рекламные кампании.\n",
    "\n",
    "Перед вами данные до 2016 года. Представим, что сейчас декабрь 2016 г., и вы\n",
    "планируете кампанию на 2017-й. Нужно отработать принцип работы с данными.\n",
    "Неважно, прогнозируете ли вы продажи на 2017 год по данным 2016-го или же\n",
    "2027-й — по данным 2026 года.\n",
    "\n",
    "В наборе данных попадается аббревиатура ESRB (Entertainment Software Rating\n",
    "Board) — это ассоциация, определяющая возрастной рейтинг компьютерных\n",
    "игр. ESRB оценивает игровой контент и присваивает ему подходящую возрастную\n",
    "категорию, например, «Для взрослых», «Для детей младшего возраста» или «Для\n",
    "подростков»."
   ]
  },
  {
   "cell_type": "markdown",
   "metadata": {
    "id": "Kik7JogFslBe"
   },
   "source": [
    "## Изучение данных из файла"
   ]
  },
  {
   "cell_type": "markdown",
   "metadata": {
    "id": "UIkEolTa0Kqv"
   },
   "source": [
    "Для начала импортируем необходимые библиотеки:"
   ]
  },
  {
   "cell_type": "code",
   "execution_count": 1,
   "metadata": {
    "id": "FxxC_L5gqEUe"
   },
   "outputs": [],
   "source": [
    "import pandas as pd\n",
    "import numpy as np\n",
    "import matplotlib.pyplot as plt\n"
   ]
  },
  {
   "cell_type": "markdown",
   "metadata": {
    "id": "sMFcWwjQ0Vjd"
   },
   "source": [
    "Открываем таблицу с данными:"
   ]
  },
  {
   "cell_type": "code",
   "execution_count": 2,
   "metadata": {
    "id": "sGkHY9YGqP-n"
   },
   "outputs": [],
   "source": [
    "df = pd.read_csv('/datasets/games.csv') "
   ]
  },
  {
   "cell_type": "markdown",
   "metadata": {
    "id": "YwCnLujk03yz"
   },
   "source": [
    "Посмотрим, что из себя представляет наш датасет."
   ]
  },
  {
   "cell_type": "code",
   "execution_count": 3,
   "metadata": {
    "colab": {
     "base_uri": "https://localhost:8080/",
     "height": 693
    },
    "id": "_vQF4aa1rOk4",
    "outputId": "feafb052-e0c2-445f-d721-a2ba97c3c586"
   },
   "outputs": [
    {
     "data": {
      "text/html": [
       "<div>\n",
       "<style scoped>\n",
       "    .dataframe tbody tr th:only-of-type {\n",
       "        vertical-align: middle;\n",
       "    }\n",
       "\n",
       "    .dataframe tbody tr th {\n",
       "        vertical-align: top;\n",
       "    }\n",
       "\n",
       "    .dataframe thead th {\n",
       "        text-align: right;\n",
       "    }\n",
       "</style>\n",
       "<table border=\"1\" class=\"dataframe\">\n",
       "  <thead>\n",
       "    <tr style=\"text-align: right;\">\n",
       "      <th></th>\n",
       "      <th>Name</th>\n",
       "      <th>Platform</th>\n",
       "      <th>Year_of_Release</th>\n",
       "      <th>Genre</th>\n",
       "      <th>NA_sales</th>\n",
       "      <th>EU_sales</th>\n",
       "      <th>JP_sales</th>\n",
       "      <th>Other_sales</th>\n",
       "      <th>Critic_Score</th>\n",
       "      <th>User_Score</th>\n",
       "      <th>Rating</th>\n",
       "    </tr>\n",
       "  </thead>\n",
       "  <tbody>\n",
       "    <tr>\n",
       "      <th>0</th>\n",
       "      <td>Wii Sports</td>\n",
       "      <td>Wii</td>\n",
       "      <td>2006.0</td>\n",
       "      <td>Sports</td>\n",
       "      <td>41.36</td>\n",
       "      <td>28.96</td>\n",
       "      <td>3.77</td>\n",
       "      <td>8.45</td>\n",
       "      <td>76.0</td>\n",
       "      <td>8</td>\n",
       "      <td>E</td>\n",
       "    </tr>\n",
       "    <tr>\n",
       "      <th>1</th>\n",
       "      <td>Super Mario Bros.</td>\n",
       "      <td>NES</td>\n",
       "      <td>1985.0</td>\n",
       "      <td>Platform</td>\n",
       "      <td>29.08</td>\n",
       "      <td>3.58</td>\n",
       "      <td>6.81</td>\n",
       "      <td>0.77</td>\n",
       "      <td>NaN</td>\n",
       "      <td>NaN</td>\n",
       "      <td>NaN</td>\n",
       "    </tr>\n",
       "    <tr>\n",
       "      <th>2</th>\n",
       "      <td>Mario Kart Wii</td>\n",
       "      <td>Wii</td>\n",
       "      <td>2008.0</td>\n",
       "      <td>Racing</td>\n",
       "      <td>15.68</td>\n",
       "      <td>12.76</td>\n",
       "      <td>3.79</td>\n",
       "      <td>3.29</td>\n",
       "      <td>82.0</td>\n",
       "      <td>8.3</td>\n",
       "      <td>E</td>\n",
       "    </tr>\n",
       "    <tr>\n",
       "      <th>3</th>\n",
       "      <td>Wii Sports Resort</td>\n",
       "      <td>Wii</td>\n",
       "      <td>2009.0</td>\n",
       "      <td>Sports</td>\n",
       "      <td>15.61</td>\n",
       "      <td>10.93</td>\n",
       "      <td>3.28</td>\n",
       "      <td>2.95</td>\n",
       "      <td>80.0</td>\n",
       "      <td>8</td>\n",
       "      <td>E</td>\n",
       "    </tr>\n",
       "    <tr>\n",
       "      <th>4</th>\n",
       "      <td>Pokemon Red/Pokemon Blue</td>\n",
       "      <td>GB</td>\n",
       "      <td>1996.0</td>\n",
       "      <td>Role-Playing</td>\n",
       "      <td>11.27</td>\n",
       "      <td>8.89</td>\n",
       "      <td>10.22</td>\n",
       "      <td>1.00</td>\n",
       "      <td>NaN</td>\n",
       "      <td>NaN</td>\n",
       "      <td>NaN</td>\n",
       "    </tr>\n",
       "    <tr>\n",
       "      <th>5</th>\n",
       "      <td>Tetris</td>\n",
       "      <td>GB</td>\n",
       "      <td>1989.0</td>\n",
       "      <td>Puzzle</td>\n",
       "      <td>23.20</td>\n",
       "      <td>2.26</td>\n",
       "      <td>4.22</td>\n",
       "      <td>0.58</td>\n",
       "      <td>NaN</td>\n",
       "      <td>NaN</td>\n",
       "      <td>NaN</td>\n",
       "    </tr>\n",
       "    <tr>\n",
       "      <th>6</th>\n",
       "      <td>New Super Mario Bros.</td>\n",
       "      <td>DS</td>\n",
       "      <td>2006.0</td>\n",
       "      <td>Platform</td>\n",
       "      <td>11.28</td>\n",
       "      <td>9.14</td>\n",
       "      <td>6.50</td>\n",
       "      <td>2.88</td>\n",
       "      <td>89.0</td>\n",
       "      <td>8.5</td>\n",
       "      <td>E</td>\n",
       "    </tr>\n",
       "    <tr>\n",
       "      <th>7</th>\n",
       "      <td>Wii Play</td>\n",
       "      <td>Wii</td>\n",
       "      <td>2006.0</td>\n",
       "      <td>Misc</td>\n",
       "      <td>13.96</td>\n",
       "      <td>9.18</td>\n",
       "      <td>2.93</td>\n",
       "      <td>2.84</td>\n",
       "      <td>58.0</td>\n",
       "      <td>6.6</td>\n",
       "      <td>E</td>\n",
       "    </tr>\n",
       "    <tr>\n",
       "      <th>8</th>\n",
       "      <td>New Super Mario Bros. Wii</td>\n",
       "      <td>Wii</td>\n",
       "      <td>2009.0</td>\n",
       "      <td>Platform</td>\n",
       "      <td>14.44</td>\n",
       "      <td>6.94</td>\n",
       "      <td>4.70</td>\n",
       "      <td>2.24</td>\n",
       "      <td>87.0</td>\n",
       "      <td>8.4</td>\n",
       "      <td>E</td>\n",
       "    </tr>\n",
       "    <tr>\n",
       "      <th>9</th>\n",
       "      <td>Duck Hunt</td>\n",
       "      <td>NES</td>\n",
       "      <td>1984.0</td>\n",
       "      <td>Shooter</td>\n",
       "      <td>26.93</td>\n",
       "      <td>0.63</td>\n",
       "      <td>0.28</td>\n",
       "      <td>0.47</td>\n",
       "      <td>NaN</td>\n",
       "      <td>NaN</td>\n",
       "      <td>NaN</td>\n",
       "    </tr>\n",
       "  </tbody>\n",
       "</table>\n",
       "</div>"
      ],
      "text/plain": [
       "                        Name Platform  Year_of_Release         Genre  \\\n",
       "0                 Wii Sports      Wii           2006.0        Sports   \n",
       "1          Super Mario Bros.      NES           1985.0      Platform   \n",
       "2             Mario Kart Wii      Wii           2008.0        Racing   \n",
       "3          Wii Sports Resort      Wii           2009.0        Sports   \n",
       "4   Pokemon Red/Pokemon Blue       GB           1996.0  Role-Playing   \n",
       "5                     Tetris       GB           1989.0        Puzzle   \n",
       "6      New Super Mario Bros.       DS           2006.0      Platform   \n",
       "7                   Wii Play      Wii           2006.0          Misc   \n",
       "8  New Super Mario Bros. Wii      Wii           2009.0      Platform   \n",
       "9                  Duck Hunt      NES           1984.0       Shooter   \n",
       "\n",
       "   NA_sales  EU_sales  JP_sales  Other_sales  Critic_Score User_Score Rating  \n",
       "0     41.36     28.96      3.77         8.45          76.0          8      E  \n",
       "1     29.08      3.58      6.81         0.77           NaN        NaN    NaN  \n",
       "2     15.68     12.76      3.79         3.29          82.0        8.3      E  \n",
       "3     15.61     10.93      3.28         2.95          80.0          8      E  \n",
       "4     11.27      8.89     10.22         1.00           NaN        NaN    NaN  \n",
       "5     23.20      2.26      4.22         0.58           NaN        NaN    NaN  \n",
       "6     11.28      9.14      6.50         2.88          89.0        8.5      E  \n",
       "7     13.96      9.18      2.93         2.84          58.0        6.6      E  \n",
       "8     14.44      6.94      4.70         2.24          87.0        8.4      E  \n",
       "9     26.93      0.63      0.28         0.47           NaN        NaN    NaN  "
      ]
     },
     "metadata": {},
     "output_type": "display_data"
    },
    {
     "name": "stdout",
     "output_type": "stream",
     "text": [
      "\n",
      "<class 'pandas.core.frame.DataFrame'>\n",
      "RangeIndex: 16715 entries, 0 to 16714\n",
      "Data columns (total 11 columns):\n",
      " #   Column           Non-Null Count  Dtype  \n",
      "---  ------           --------------  -----  \n",
      " 0   Name             16713 non-null  object \n",
      " 1   Platform         16715 non-null  object \n",
      " 2   Year_of_Release  16446 non-null  float64\n",
      " 3   Genre            16713 non-null  object \n",
      " 4   NA_sales         16715 non-null  float64\n",
      " 5   EU_sales         16715 non-null  float64\n",
      " 6   JP_sales         16715 non-null  float64\n",
      " 7   Other_sales      16715 non-null  float64\n",
      " 8   Critic_Score     8137 non-null   float64\n",
      " 9   User_Score       10014 non-null  object \n",
      " 10  Rating           9949 non-null   object \n",
      "dtypes: float64(6), object(5)\n",
      "memory usage: 1.4+ MB\n"
     ]
    }
   ],
   "source": [
    "display(df.head(10))\n",
    "print()\n",
    "df.info()"
   ]
  },
  {
   "cell_type": "markdown",
   "metadata": {
    "id": "ixsI_CFq0-eN"
   },
   "source": [
    "В глаза сразу бросается некорректное оформление названий столбцов и текстовой информации в них."
   ]
  },
  {
   "cell_type": "markdown",
   "metadata": {
    "id": "bU2xKwk4tOmT"
   },
   "source": [
    "Согласно легенде исследования, столбцы несут в себе следующую информацию:\n",
    "\n",
    "* Name — название игры\n",
    "* Platform — платформа\n",
    "* Year_of_Release — год выпуска\n",
    "* Genre — жанр игры\n",
    "* NA_sales — продажи в Северной Америке (миллионы проданных копий)\n",
    "* EU_sales — продажи в Европе (миллионы проданных копий)\n",
    "* JP_sales — продажи в Японии (миллионы проданных копий)\n",
    "* Other_sales — продажи в других странах (миллионы проданных копий)\n",
    "* Critic_Score — оценка критиков (максимум 100)\n",
    "* User_Score — оценка пользователей (максимум 10)\n",
    "* Rating — рейтинг от организации ESRB (англ. Entertainment Software Rating\n",
    "Board). Эта ассоциация определяет рейтинг компьютерных игр и присваивает\n",
    "им подходящую возрастную категорию.\n",
    "\n",
    "Данные за 2016 год могут быть неполными"
   ]
  },
  {
   "cell_type": "markdown",
   "metadata": {
    "id": "9ULb6LwP1aVK"
   },
   "source": [
    "Для начала переименуем все столбцы:"
   ]
  },
  {
   "cell_type": "code",
   "execution_count": 4,
   "metadata": {
    "id": "CDjpDzeMtotq"
   },
   "outputs": [],
   "source": [
    "df = df.rename(columns={\n",
    "    'Name':'name', 'Platform':'platform', 'Year_of_Release':'year_of_release', 'Genre':'genre', 'NA_sales':'na_sales',\n",
    "    'EU_sales':'eu_sales', 'JP_sales':'jp_sales', 'Other_sales':'other_sales', 'Critic_Score':'critic_score', 'User_Score':'user_score', 'Rating':'rating'})"
   ]
  },
  {
   "cell_type": "markdown",
   "metadata": {
    "id": "sxzBywU71fUN"
   },
   "source": [
    "И проверим, все ли удалось:"
   ]
  },
  {
   "cell_type": "code",
   "execution_count": 5,
   "metadata": {
    "colab": {
     "base_uri": "https://localhost:8080/"
    },
    "id": "uY2Zu_ePvHx6",
    "outputId": "b8a95880-e754-4543-fd49-5ed38aede8e8"
   },
   "outputs": [
    {
     "data": {
      "text/plain": [
       "Index(['name', 'platform', 'year_of_release', 'genre', 'na_sales', 'eu_sales',\n",
       "       'jp_sales', 'other_sales', 'critic_score', 'user_score', 'rating'],\n",
       "      dtype='object')"
      ]
     },
     "execution_count": 5,
     "metadata": {},
     "output_type": "execute_result"
    }
   ],
   "source": [
    "df.columns"
   ]
  },
  {
   "cell_type": "markdown",
   "metadata": {
    "id": "DKmANhrM1hw5"
   },
   "source": [
    "Вроде работает. Теперь переведем всю текстовую информацию в нижний регистр для удобства:"
   ]
  },
  {
   "cell_type": "code",
   "execution_count": 6,
   "metadata": {
    "id": "P7IjdnHTaeI2"
   },
   "outputs": [],
   "source": [
    "cols = ['name', 'platform', 'genre', 'rating']\n",
    "\n",
    "for col in cols:\n",
    "    df[col] = df[col].str.lower()\n"
   ]
  },
  {
   "cell_type": "markdown",
   "metadata": {
    "id": "-aIeabQF1pPE"
   },
   "source": [
    "Проверяем:"
   ]
  },
  {
   "cell_type": "code",
   "execution_count": 7,
   "metadata": {
    "colab": {
     "base_uri": "https://localhost:8080/",
     "height": 206
    },
    "id": "y8lR1v8EbiRG",
    "outputId": "251a0ba1-c8ce-4d0d-9da6-84a8c3262a87"
   },
   "outputs": [
    {
     "data": {
      "text/html": [
       "<div>\n",
       "<style scoped>\n",
       "    .dataframe tbody tr th:only-of-type {\n",
       "        vertical-align: middle;\n",
       "    }\n",
       "\n",
       "    .dataframe tbody tr th {\n",
       "        vertical-align: top;\n",
       "    }\n",
       "\n",
       "    .dataframe thead th {\n",
       "        text-align: right;\n",
       "    }\n",
       "</style>\n",
       "<table border=\"1\" class=\"dataframe\">\n",
       "  <thead>\n",
       "    <tr style=\"text-align: right;\">\n",
       "      <th></th>\n",
       "      <th>name</th>\n",
       "      <th>platform</th>\n",
       "      <th>year_of_release</th>\n",
       "      <th>genre</th>\n",
       "      <th>na_sales</th>\n",
       "      <th>eu_sales</th>\n",
       "      <th>jp_sales</th>\n",
       "      <th>other_sales</th>\n",
       "      <th>critic_score</th>\n",
       "      <th>user_score</th>\n",
       "      <th>rating</th>\n",
       "    </tr>\n",
       "  </thead>\n",
       "  <tbody>\n",
       "    <tr>\n",
       "      <th>0</th>\n",
       "      <td>wii sports</td>\n",
       "      <td>wii</td>\n",
       "      <td>2006.0</td>\n",
       "      <td>sports</td>\n",
       "      <td>41.36</td>\n",
       "      <td>28.96</td>\n",
       "      <td>3.77</td>\n",
       "      <td>8.45</td>\n",
       "      <td>76.0</td>\n",
       "      <td>8</td>\n",
       "      <td>e</td>\n",
       "    </tr>\n",
       "    <tr>\n",
       "      <th>1</th>\n",
       "      <td>super mario bros.</td>\n",
       "      <td>nes</td>\n",
       "      <td>1985.0</td>\n",
       "      <td>platform</td>\n",
       "      <td>29.08</td>\n",
       "      <td>3.58</td>\n",
       "      <td>6.81</td>\n",
       "      <td>0.77</td>\n",
       "      <td>NaN</td>\n",
       "      <td>NaN</td>\n",
       "      <td>NaN</td>\n",
       "    </tr>\n",
       "    <tr>\n",
       "      <th>2</th>\n",
       "      <td>mario kart wii</td>\n",
       "      <td>wii</td>\n",
       "      <td>2008.0</td>\n",
       "      <td>racing</td>\n",
       "      <td>15.68</td>\n",
       "      <td>12.76</td>\n",
       "      <td>3.79</td>\n",
       "      <td>3.29</td>\n",
       "      <td>82.0</td>\n",
       "      <td>8.3</td>\n",
       "      <td>e</td>\n",
       "    </tr>\n",
       "    <tr>\n",
       "      <th>3</th>\n",
       "      <td>wii sports resort</td>\n",
       "      <td>wii</td>\n",
       "      <td>2009.0</td>\n",
       "      <td>sports</td>\n",
       "      <td>15.61</td>\n",
       "      <td>10.93</td>\n",
       "      <td>3.28</td>\n",
       "      <td>2.95</td>\n",
       "      <td>80.0</td>\n",
       "      <td>8</td>\n",
       "      <td>e</td>\n",
       "    </tr>\n",
       "    <tr>\n",
       "      <th>4</th>\n",
       "      <td>pokemon red/pokemon blue</td>\n",
       "      <td>gb</td>\n",
       "      <td>1996.0</td>\n",
       "      <td>role-playing</td>\n",
       "      <td>11.27</td>\n",
       "      <td>8.89</td>\n",
       "      <td>10.22</td>\n",
       "      <td>1.00</td>\n",
       "      <td>NaN</td>\n",
       "      <td>NaN</td>\n",
       "      <td>NaN</td>\n",
       "    </tr>\n",
       "  </tbody>\n",
       "</table>\n",
       "</div>"
      ],
      "text/plain": [
       "                       name platform  year_of_release         genre  na_sales  \\\n",
       "0                wii sports      wii           2006.0        sports     41.36   \n",
       "1         super mario bros.      nes           1985.0      platform     29.08   \n",
       "2            mario kart wii      wii           2008.0        racing     15.68   \n",
       "3         wii sports resort      wii           2009.0        sports     15.61   \n",
       "4  pokemon red/pokemon blue       gb           1996.0  role-playing     11.27   \n",
       "\n",
       "   eu_sales  jp_sales  other_sales  critic_score user_score rating  \n",
       "0     28.96      3.77         8.45          76.0          8      e  \n",
       "1      3.58      6.81         0.77           NaN        NaN    NaN  \n",
       "2     12.76      3.79         3.29          82.0        8.3      e  \n",
       "3     10.93      3.28         2.95          80.0          8      e  \n",
       "4      8.89     10.22         1.00           NaN        NaN    NaN  "
      ]
     },
     "execution_count": 7,
     "metadata": {},
     "output_type": "execute_result"
    }
   ],
   "source": [
    "df.head(5)"
   ]
  },
  {
   "cell_type": "markdown",
   "metadata": {
    "id": "QsYFCf1W1syf"
   },
   "source": [
    "Значительно лучше."
   ]
  },
  {
   "cell_type": "markdown",
   "metadata": {
    "id": "bXttH3g2wWcC"
   },
   "source": [
    "### Вывод"
   ]
  },
  {
   "cell_type": "markdown",
   "metadata": {
    "id": "w-c6e8mR1wSj"
   },
   "source": [
    "На этом этапе мы ознакомились с таблицей, чтобы получить первоначальное представление о структуре и объемах данных, а также провели переименование столбцов для соответствия правилам хорошего стиля и удобству чтения. В тех же целях мы привели к нижнему регистру остальную текстовую информацию в таблице. Теперь данные готовы к предобработке."
   ]
  },
  {
   "cell_type": "markdown",
   "metadata": {
    "id": "c8sUaTHcwx2X"
   },
   "source": [
    "## Предобработка данных"
   ]
  },
  {
   "cell_type": "markdown",
   "metadata": {
    "id": "5Nk7l4Z-13J1"
   },
   "source": [
    "Посмотрим на количество пропусков в таблице:"
   ]
  },
  {
   "cell_type": "code",
   "execution_count": 8,
   "metadata": {
    "colab": {
     "base_uri": "https://localhost:8080/"
    },
    "id": "ZU1YmZxAPBGA",
    "outputId": "2083d428-c41e-4127-936e-9ecebe204a14"
   },
   "outputs": [
    {
     "data": {
      "text/plain": [
       "name                  2\n",
       "platform              0\n",
       "year_of_release     269\n",
       "genre                 2\n",
       "na_sales              0\n",
       "eu_sales              0\n",
       "jp_sales              0\n",
       "other_sales           0\n",
       "critic_score       8578\n",
       "user_score         6701\n",
       "rating             6766\n",
       "dtype: int64"
      ]
     },
     "execution_count": 8,
     "metadata": {},
     "output_type": "execute_result"
    }
   ],
   "source": [
    "df.isna().sum()"
   ]
  },
  {
   "cell_type": "markdown",
   "metadata": {
    "id": "b6xKiCxc6N8B"
   },
   "source": [
    "И приступим к предобработке по порядку. \n",
    "\n",
    "Строки с пропусками в названиях удаляем - совершенно непонятно, что это за игры. К тому же, тут получится убить двух зайцев одним ударом - пропущены еще названия жанров. "
   ]
  },
  {
   "cell_type": "code",
   "execution_count": 9,
   "metadata": {
    "colab": {
     "base_uri": "https://localhost:8080/",
     "height": 112
    },
    "id": "w2kFQBG_1b6j",
    "outputId": "e607c853-996f-4295-f75b-da6ae1bb9779"
   },
   "outputs": [
    {
     "data": {
      "text/html": [
       "<div>\n",
       "<style scoped>\n",
       "    .dataframe tbody tr th:only-of-type {\n",
       "        vertical-align: middle;\n",
       "    }\n",
       "\n",
       "    .dataframe tbody tr th {\n",
       "        vertical-align: top;\n",
       "    }\n",
       "\n",
       "    .dataframe thead th {\n",
       "        text-align: right;\n",
       "    }\n",
       "</style>\n",
       "<table border=\"1\" class=\"dataframe\">\n",
       "  <thead>\n",
       "    <tr style=\"text-align: right;\">\n",
       "      <th></th>\n",
       "      <th>name</th>\n",
       "      <th>platform</th>\n",
       "      <th>year_of_release</th>\n",
       "      <th>genre</th>\n",
       "      <th>na_sales</th>\n",
       "      <th>eu_sales</th>\n",
       "      <th>jp_sales</th>\n",
       "      <th>other_sales</th>\n",
       "      <th>critic_score</th>\n",
       "      <th>user_score</th>\n",
       "      <th>rating</th>\n",
       "    </tr>\n",
       "  </thead>\n",
       "  <tbody>\n",
       "    <tr>\n",
       "      <th>659</th>\n",
       "      <td>NaN</td>\n",
       "      <td>gen</td>\n",
       "      <td>1993.0</td>\n",
       "      <td>NaN</td>\n",
       "      <td>1.78</td>\n",
       "      <td>0.53</td>\n",
       "      <td>0.00</td>\n",
       "      <td>0.08</td>\n",
       "      <td>NaN</td>\n",
       "      <td>NaN</td>\n",
       "      <td>NaN</td>\n",
       "    </tr>\n",
       "    <tr>\n",
       "      <th>14244</th>\n",
       "      <td>NaN</td>\n",
       "      <td>gen</td>\n",
       "      <td>1993.0</td>\n",
       "      <td>NaN</td>\n",
       "      <td>0.00</td>\n",
       "      <td>0.00</td>\n",
       "      <td>0.03</td>\n",
       "      <td>0.00</td>\n",
       "      <td>NaN</td>\n",
       "      <td>NaN</td>\n",
       "      <td>NaN</td>\n",
       "    </tr>\n",
       "  </tbody>\n",
       "</table>\n",
       "</div>"
      ],
      "text/plain": [
       "      name platform  year_of_release genre  na_sales  eu_sales  jp_sales  \\\n",
       "659    NaN      gen           1993.0   NaN      1.78      0.53      0.00   \n",
       "14244  NaN      gen           1993.0   NaN      0.00      0.00      0.03   \n",
       "\n",
       "       other_sales  critic_score user_score rating  \n",
       "659           0.08           NaN        NaN    NaN  \n",
       "14244         0.00           NaN        NaN    NaN  "
      ]
     },
     "metadata": {},
     "output_type": "display_data"
    }
   ],
   "source": [
    "display(df[df['name'].isna()])"
   ]
  },
  {
   "cell_type": "code",
   "execution_count": 10,
   "metadata": {
    "id": "QFTNUuU31fcG"
   },
   "outputs": [],
   "source": [
    "df.dropna(subset=['name'],inplace=True)"
   ]
  },
  {
   "cell_type": "markdown",
   "metadata": {
    "id": "eOXMGiyH6uo0"
   },
   "source": [
    "Теперь смотрим на пропуски в годах релиза:"
   ]
  },
  {
   "cell_type": "code",
   "execution_count": 11,
   "metadata": {
    "colab": {
     "base_uri": "https://localhost:8080/",
     "height": 423
    },
    "id": "b-8b82LhxjwL",
    "outputId": "93fcff25-eb35-4654-fdba-884de311f30f"
   },
   "outputs": [
    {
     "data": {
      "text/html": [
       "<div>\n",
       "<style scoped>\n",
       "    .dataframe tbody tr th:only-of-type {\n",
       "        vertical-align: middle;\n",
       "    }\n",
       "\n",
       "    .dataframe tbody tr th {\n",
       "        vertical-align: top;\n",
       "    }\n",
       "\n",
       "    .dataframe thead th {\n",
       "        text-align: right;\n",
       "    }\n",
       "</style>\n",
       "<table border=\"1\" class=\"dataframe\">\n",
       "  <thead>\n",
       "    <tr style=\"text-align: right;\">\n",
       "      <th></th>\n",
       "      <th>name</th>\n",
       "      <th>platform</th>\n",
       "      <th>year_of_release</th>\n",
       "      <th>genre</th>\n",
       "      <th>na_sales</th>\n",
       "      <th>eu_sales</th>\n",
       "      <th>jp_sales</th>\n",
       "      <th>other_sales</th>\n",
       "      <th>critic_score</th>\n",
       "      <th>user_score</th>\n",
       "      <th>rating</th>\n",
       "    </tr>\n",
       "  </thead>\n",
       "  <tbody>\n",
       "    <tr>\n",
       "      <th>183</th>\n",
       "      <td>madden nfl 2004</td>\n",
       "      <td>ps2</td>\n",
       "      <td>NaN</td>\n",
       "      <td>sports</td>\n",
       "      <td>4.26</td>\n",
       "      <td>0.26</td>\n",
       "      <td>0.01</td>\n",
       "      <td>0.71</td>\n",
       "      <td>94.0</td>\n",
       "      <td>8.5</td>\n",
       "      <td>e</td>\n",
       "    </tr>\n",
       "    <tr>\n",
       "      <th>377</th>\n",
       "      <td>fifa soccer 2004</td>\n",
       "      <td>ps2</td>\n",
       "      <td>NaN</td>\n",
       "      <td>sports</td>\n",
       "      <td>0.59</td>\n",
       "      <td>2.36</td>\n",
       "      <td>0.04</td>\n",
       "      <td>0.51</td>\n",
       "      <td>84.0</td>\n",
       "      <td>6.4</td>\n",
       "      <td>e</td>\n",
       "    </tr>\n",
       "    <tr>\n",
       "      <th>456</th>\n",
       "      <td>lego batman: the videogame</td>\n",
       "      <td>wii</td>\n",
       "      <td>NaN</td>\n",
       "      <td>action</td>\n",
       "      <td>1.80</td>\n",
       "      <td>0.97</td>\n",
       "      <td>0.00</td>\n",
       "      <td>0.29</td>\n",
       "      <td>74.0</td>\n",
       "      <td>7.9</td>\n",
       "      <td>e10+</td>\n",
       "    </tr>\n",
       "    <tr>\n",
       "      <th>475</th>\n",
       "      <td>wwe smackdown vs. raw 2006</td>\n",
       "      <td>ps2</td>\n",
       "      <td>NaN</td>\n",
       "      <td>fighting</td>\n",
       "      <td>1.57</td>\n",
       "      <td>1.02</td>\n",
       "      <td>0.00</td>\n",
       "      <td>0.41</td>\n",
       "      <td>NaN</td>\n",
       "      <td>NaN</td>\n",
       "      <td>NaN</td>\n",
       "    </tr>\n",
       "    <tr>\n",
       "      <th>609</th>\n",
       "      <td>space invaders</td>\n",
       "      <td>2600</td>\n",
       "      <td>NaN</td>\n",
       "      <td>shooter</td>\n",
       "      <td>2.36</td>\n",
       "      <td>0.14</td>\n",
       "      <td>0.00</td>\n",
       "      <td>0.03</td>\n",
       "      <td>NaN</td>\n",
       "      <td>NaN</td>\n",
       "      <td>NaN</td>\n",
       "    </tr>\n",
       "    <tr>\n",
       "      <th>...</th>\n",
       "      <td>...</td>\n",
       "      <td>...</td>\n",
       "      <td>...</td>\n",
       "      <td>...</td>\n",
       "      <td>...</td>\n",
       "      <td>...</td>\n",
       "      <td>...</td>\n",
       "      <td>...</td>\n",
       "      <td>...</td>\n",
       "      <td>...</td>\n",
       "      <td>...</td>\n",
       "    </tr>\n",
       "    <tr>\n",
       "      <th>16373</th>\n",
       "      <td>pdc world championship darts 2008</td>\n",
       "      <td>psp</td>\n",
       "      <td>NaN</td>\n",
       "      <td>sports</td>\n",
       "      <td>0.01</td>\n",
       "      <td>0.00</td>\n",
       "      <td>0.00</td>\n",
       "      <td>0.00</td>\n",
       "      <td>43.0</td>\n",
       "      <td>tbd</td>\n",
       "      <td>e10+</td>\n",
       "    </tr>\n",
       "    <tr>\n",
       "      <th>16405</th>\n",
       "      <td>freaky flyers</td>\n",
       "      <td>gc</td>\n",
       "      <td>NaN</td>\n",
       "      <td>racing</td>\n",
       "      <td>0.01</td>\n",
       "      <td>0.00</td>\n",
       "      <td>0.00</td>\n",
       "      <td>0.00</td>\n",
       "      <td>69.0</td>\n",
       "      <td>6.5</td>\n",
       "      <td>t</td>\n",
       "    </tr>\n",
       "    <tr>\n",
       "      <th>16448</th>\n",
       "      <td>inversion</td>\n",
       "      <td>pc</td>\n",
       "      <td>NaN</td>\n",
       "      <td>shooter</td>\n",
       "      <td>0.01</td>\n",
       "      <td>0.00</td>\n",
       "      <td>0.00</td>\n",
       "      <td>0.00</td>\n",
       "      <td>59.0</td>\n",
       "      <td>6.7</td>\n",
       "      <td>m</td>\n",
       "    </tr>\n",
       "    <tr>\n",
       "      <th>16458</th>\n",
       "      <td>hakuouki: shinsengumi kitan</td>\n",
       "      <td>ps3</td>\n",
       "      <td>NaN</td>\n",
       "      <td>adventure</td>\n",
       "      <td>0.01</td>\n",
       "      <td>0.00</td>\n",
       "      <td>0.00</td>\n",
       "      <td>0.00</td>\n",
       "      <td>NaN</td>\n",
       "      <td>NaN</td>\n",
       "      <td>NaN</td>\n",
       "    </tr>\n",
       "    <tr>\n",
       "      <th>16522</th>\n",
       "      <td>virtua quest</td>\n",
       "      <td>gc</td>\n",
       "      <td>NaN</td>\n",
       "      <td>role-playing</td>\n",
       "      <td>0.01</td>\n",
       "      <td>0.00</td>\n",
       "      <td>0.00</td>\n",
       "      <td>0.00</td>\n",
       "      <td>55.0</td>\n",
       "      <td>5.5</td>\n",
       "      <td>t</td>\n",
       "    </tr>\n",
       "  </tbody>\n",
       "</table>\n",
       "<p>269 rows × 11 columns</p>\n",
       "</div>"
      ],
      "text/plain": [
       "                                    name platform  year_of_release  \\\n",
       "183                      madden nfl 2004      ps2              NaN   \n",
       "377                     fifa soccer 2004      ps2              NaN   \n",
       "456           lego batman: the videogame      wii              NaN   \n",
       "475           wwe smackdown vs. raw 2006      ps2              NaN   \n",
       "609                       space invaders     2600              NaN   \n",
       "...                                  ...      ...              ...   \n",
       "16373  pdc world championship darts 2008      psp              NaN   \n",
       "16405                      freaky flyers       gc              NaN   \n",
       "16448                          inversion       pc              NaN   \n",
       "16458        hakuouki: shinsengumi kitan      ps3              NaN   \n",
       "16522                       virtua quest       gc              NaN   \n",
       "\n",
       "              genre  na_sales  eu_sales  jp_sales  other_sales  critic_score  \\\n",
       "183          sports      4.26      0.26      0.01         0.71          94.0   \n",
       "377          sports      0.59      2.36      0.04         0.51          84.0   \n",
       "456          action      1.80      0.97      0.00         0.29          74.0   \n",
       "475        fighting      1.57      1.02      0.00         0.41           NaN   \n",
       "609         shooter      2.36      0.14      0.00         0.03           NaN   \n",
       "...             ...       ...       ...       ...          ...           ...   \n",
       "16373        sports      0.01      0.00      0.00         0.00          43.0   \n",
       "16405        racing      0.01      0.00      0.00         0.00          69.0   \n",
       "16448       shooter      0.01      0.00      0.00         0.00          59.0   \n",
       "16458     adventure      0.01      0.00      0.00         0.00           NaN   \n",
       "16522  role-playing      0.01      0.00      0.00         0.00          55.0   \n",
       "\n",
       "      user_score rating  \n",
       "183          8.5      e  \n",
       "377          6.4      e  \n",
       "456          7.9   e10+  \n",
       "475          NaN    NaN  \n",
       "609          NaN    NaN  \n",
       "...          ...    ...  \n",
       "16373        tbd   e10+  \n",
       "16405        6.5      t  \n",
       "16448        6.7      m  \n",
       "16458        NaN    NaN  \n",
       "16522        5.5      t  \n",
       "\n",
       "[269 rows x 11 columns]"
      ]
     },
     "metadata": {},
     "output_type": "display_data"
    }
   ],
   "source": [
    "display(df[df['year_of_release'].isna()])"
   ]
  },
  {
   "cell_type": "markdown",
   "metadata": {
    "id": "XAi6m93c60kr"
   },
   "source": [
    "269 пропусков это немало, но информация для исследования критически важная, поэтому лучше удалить, чтобы не портить картину. Если прям вот совсем серьезно браться за дело, то у некотрых игр можно добавить год релиза, лемматизировав названия - в спортивных симуляторах, например, часто указывается год выхода той или иной части."
   ]
  },
  {
   "cell_type": "code",
   "execution_count": 12,
   "metadata": {
    "id": "aMV9PvfL5gcI"
   },
   "outputs": [],
   "source": [
    "df.dropna(subset=['year_of_release'],inplace=True)  # удаляем пропуски"
   ]
  },
  {
   "cell_type": "markdown",
   "metadata": {
    "id": "7ID7JxAv7NtU"
   },
   "source": [
    "Также сменим тип данных в столбце с годом. "
   ]
  },
  {
   "cell_type": "code",
   "execution_count": 13,
   "metadata": {
    "id": "F4Pjpayi0R4c"
   },
   "outputs": [],
   "source": [
    "df['year_of_release'] = df['year_of_release'].astype('int') "
   ]
  },
  {
   "cell_type": "markdown",
   "metadata": {
    "id": "INsjEXu97jKG"
   },
   "source": [
    "Переходим к столбцам с оценками. Посмотрим, есть ли какие-то аномалии в оценках критиков:"
   ]
  },
  {
   "cell_type": "code",
   "execution_count": 14,
   "metadata": {
    "colab": {
     "base_uri": "https://localhost:8080/"
    },
    "id": "9xM29vkhZJNS",
    "outputId": "985b5e1e-4efe-4162-de96-47b3c85eb2bd"
   },
   "outputs": [
    {
     "data": {
      "text/plain": [
       "array([76., nan, 82., 80., 89., 58., 87., 91., 61., 97., 95., 77., 88.,\n",
       "       83., 94., 93., 85., 86., 98., 96., 90., 84., 73., 74., 78., 92.,\n",
       "       71., 72., 68., 62., 49., 67., 81., 66., 56., 79., 70., 59., 64.,\n",
       "       75., 60., 63., 69., 50., 25., 42., 44., 55., 48., 57., 29., 47.,\n",
       "       65., 54., 20., 53., 37., 38., 33., 52., 30., 32., 43., 45., 51.,\n",
       "       40., 46., 39., 34., 41., 36., 31., 27., 35., 26., 19., 28., 23.,\n",
       "       24., 21., 17., 13.])"
      ]
     },
     "execution_count": 14,
     "metadata": {},
     "output_type": "execute_result"
    }
   ],
   "source": [
    "df['critic_score'].unique()"
   ]
  },
  {
   "cell_type": "markdown",
   "metadata": {
    "id": "RT5Wqcoj7qdL"
   },
   "source": [
    "Ничего страшного и непонятного не видно. Я не буду заполнять значения NaN ничем, потому что заполнить нулями нельзя, отсутствие рейтинга не равно нулевому рейтингу, заполнять средним тоже такое себе. Пусть все остается как есть."
   ]
  },
  {
   "cell_type": "markdown",
   "metadata": {
    "id": "mMwIQKT-77YG"
   },
   "source": [
    "Теперь пройдемся по оценкам пользователей:"
   ]
  },
  {
   "cell_type": "code",
   "execution_count": 15,
   "metadata": {
    "colab": {
     "base_uri": "https://localhost:8080/"
    },
    "id": "E91SaBROw4Xa",
    "outputId": "3a854abd-7437-4e3a-bff4-68ada95681f2"
   },
   "outputs": [
    {
     "data": {
      "text/plain": [
       "tbd    2376\n",
       "7.8     322\n",
       "8       285\n",
       "8.2     276\n",
       "8.3     252\n",
       "       ... \n",
       "9.6       2\n",
       "1.9       2\n",
       "0.6       2\n",
       "0         1\n",
       "9.7       1\n",
       "Name: user_score, Length: 96, dtype: int64"
      ]
     },
     "execution_count": 15,
     "metadata": {},
     "output_type": "execute_result"
    }
   ],
   "source": [
    "df['user_score'].value_counts()"
   ]
  },
  {
   "cell_type": "markdown",
   "metadata": {
    "id": "SDbVeoUJ8jac"
   },
   "source": [
    "Загадочное значение tbd означает, что отзывов у игры пока еще нет. Я решил заменить эти значения на NaN, потому что для исследования значение имеют только конкретные цифры."
   ]
  },
  {
   "cell_type": "code",
   "execution_count": 16,
   "metadata": {
    "id": "IlJ8YYiYw8gD"
   },
   "outputs": [],
   "source": [
    "df.loc[df['user_score'] == 'tbd','user_score'] = np.nan"
   ]
  },
  {
   "cell_type": "markdown",
   "metadata": {
    "id": "_DIwd4Ku84ke"
   },
   "source": [
    "А вот тут, кстати, интересно, нулевой рейтинг-таки есть, видимо, очень плохая игра была."
   ]
  },
  {
   "cell_type": "code",
   "execution_count": 17,
   "metadata": {
    "colab": {
     "base_uri": "https://localhost:8080/"
    },
    "id": "ueam5gRLW0_v",
    "outputId": "a8d08b9f-1ee0-4366-db98-8cf4b8ea775b"
   },
   "outputs": [
    {
     "data": {
      "text/plain": [
       "array(['8', nan, '8.3', '8.5', '6.6', '8.4', '8.6', '7.7', '6.3', '7.4',\n",
       "       '8.2', '9', '7.9', '8.1', '8.7', '7.1', '3.4', '5.3', '4.8', '3.2',\n",
       "       '8.9', '6.4', '7.8', '7.5', '2.6', '7.2', '9.2', '7', '7.3', '4.3',\n",
       "       '7.6', '5.7', '5', '9.1', '6.5', '8.8', '6.9', '9.4', '6.8', '6.1',\n",
       "       '6.7', '5.4', '4', '4.9', '4.5', '9.3', '6.2', '4.2', '6', '3.7',\n",
       "       '4.1', '5.8', '5.6', '5.5', '4.4', '4.6', '5.9', '3.9', '3.1',\n",
       "       '2.9', '5.2', '3.3', '4.7', '5.1', '3.5', '2.5', '1.9', '3', '2.7',\n",
       "       '2.2', '2', '9.5', '2.1', '3.6', '2.8', '1.8', '3.8', '0', '1.6',\n",
       "       '9.6', '2.4', '1.7', '1.1', '0.3', '1.5', '0.7', '1.2', '2.3',\n",
       "       '0.5', '1.3', '0.2', '0.6', '1.4', '0.9', '1', '9.7'], dtype=object)"
      ]
     },
     "execution_count": 17,
     "metadata": {},
     "output_type": "execute_result"
    }
   ],
   "source": [
    "df['user_score'].unique()"
   ]
  },
  {
   "cell_type": "markdown",
   "metadata": {
    "id": "kid1BqMX9Bt6"
   },
   "source": [
    "Поменяем тип данных в столбце с оценками пользователей:"
   ]
  },
  {
   "cell_type": "code",
   "execution_count": 18,
   "metadata": {
    "id": "FxRjHuvcihHB"
   },
   "outputs": [],
   "source": [
    "df['user_score'] = df['user_score'].astype('float')"
   ]
  },
  {
   "cell_type": "markdown",
   "metadata": {
    "id": "VTf0gfyD9N-6"
   },
   "source": [
    "Посмотрим, что у нас с рейтингами:"
   ]
  },
  {
   "cell_type": "code",
   "execution_count": 19,
   "metadata": {
    "colab": {
     "base_uri": "https://localhost:8080/"
    },
    "id": "WHg9yukvg_rt",
    "outputId": "293c40a5-e566-4493-a799-c3f845147c5c"
   },
   "outputs": [
    {
     "data": {
      "text/plain": [
       "e       3921\n",
       "t       2905\n",
       "m       1536\n",
       "e10+    1393\n",
       "ec         8\n",
       "k-a        3\n",
       "rp         1\n",
       "ao         1\n",
       "Name: rating, dtype: int64"
      ]
     },
     "execution_count": 19,
     "metadata": {},
     "output_type": "execute_result"
    }
   ],
   "source": [
    "df['rating'].value_counts()"
   ]
  },
  {
   "cell_type": "markdown",
   "metadata": {
    "id": "HADVCbPV9VGV"
   },
   "source": [
    "В целом все в порядке. Чтобы не оставлять пропуски, заполню их значениями `'n/a'`"
   ]
  },
  {
   "cell_type": "code",
   "execution_count": 20,
   "metadata": {
    "id": "GE4N3EKRW9Ud"
   },
   "outputs": [],
   "source": [
    "df['rating'] = df['rating'].fillna('n/a')"
   ]
  },
  {
   "cell_type": "markdown",
   "metadata": {
    "id": "mRHuKDpy9ifW"
   },
   "source": [
    "Добавим столбец с суммарными продажами:"
   ]
  },
  {
   "cell_type": "code",
   "execution_count": 21,
   "metadata": {
    "id": "m1OGvnAeTSR3"
   },
   "outputs": [],
   "source": [
    "df['total_sales'] = df['na_sales']+df['eu_sales']+df['jp_sales']+df['other_sales']"
   ]
  },
  {
   "cell_type": "markdown",
   "metadata": {
    "id": "vzW4VaP09mJV"
   },
   "source": [
    "Уберем дубликаты:"
   ]
  },
  {
   "cell_type": "code",
   "execution_count": 22,
   "metadata": {
    "id": "GTpXn5tvic0A"
   },
   "outputs": [],
   "source": [
    "df = df.drop_duplicates()"
   ]
  },
  {
   "cell_type": "markdown",
   "metadata": {
    "id": "uJlG-Xqr-P81"
   },
   "source": [
    "И проверим:"
   ]
  },
  {
   "cell_type": "code",
   "execution_count": 23,
   "metadata": {
    "colab": {
     "base_uri": "https://localhost:8080/"
    },
    "id": "VjMWy4I4dEab",
    "outputId": "7851cbcc-3937-4167-afb3-832e0e790b5f"
   },
   "outputs": [
    {
     "name": "stdout",
     "output_type": "stream",
     "text": [
      "Количество дубликатов: 0\n"
     ]
    }
   ],
   "source": [
    "print(\"Количество дубликатов: {}\".format(df.duplicated().sum()))"
   ]
  },
  {
   "cell_type": "markdown",
   "metadata": {
    "id": "Cpa_0WLr9rBY"
   },
   "source": [
    "Смотрим, что получилось:"
   ]
  },
  {
   "cell_type": "code",
   "execution_count": 24,
   "metadata": {
    "colab": {
     "base_uri": "https://localhost:8080/",
     "height": 206
    },
    "id": "7SXmxU-Dj2NR",
    "outputId": "aaaa8abc-4215-4d27-8c5e-c47e25316a53"
   },
   "outputs": [
    {
     "data": {
      "text/html": [
       "<div>\n",
       "<style scoped>\n",
       "    .dataframe tbody tr th:only-of-type {\n",
       "        vertical-align: middle;\n",
       "    }\n",
       "\n",
       "    .dataframe tbody tr th {\n",
       "        vertical-align: top;\n",
       "    }\n",
       "\n",
       "    .dataframe thead th {\n",
       "        text-align: right;\n",
       "    }\n",
       "</style>\n",
       "<table border=\"1\" class=\"dataframe\">\n",
       "  <thead>\n",
       "    <tr style=\"text-align: right;\">\n",
       "      <th></th>\n",
       "      <th>name</th>\n",
       "      <th>platform</th>\n",
       "      <th>year_of_release</th>\n",
       "      <th>genre</th>\n",
       "      <th>na_sales</th>\n",
       "      <th>eu_sales</th>\n",
       "      <th>jp_sales</th>\n",
       "      <th>other_sales</th>\n",
       "      <th>critic_score</th>\n",
       "      <th>user_score</th>\n",
       "      <th>rating</th>\n",
       "      <th>total_sales</th>\n",
       "    </tr>\n",
       "  </thead>\n",
       "  <tbody>\n",
       "    <tr>\n",
       "      <th>0</th>\n",
       "      <td>wii sports</td>\n",
       "      <td>wii</td>\n",
       "      <td>2006</td>\n",
       "      <td>sports</td>\n",
       "      <td>41.36</td>\n",
       "      <td>28.96</td>\n",
       "      <td>3.77</td>\n",
       "      <td>8.45</td>\n",
       "      <td>76.0</td>\n",
       "      <td>8.0</td>\n",
       "      <td>e</td>\n",
       "      <td>82.54</td>\n",
       "    </tr>\n",
       "    <tr>\n",
       "      <th>1</th>\n",
       "      <td>super mario bros.</td>\n",
       "      <td>nes</td>\n",
       "      <td>1985</td>\n",
       "      <td>platform</td>\n",
       "      <td>29.08</td>\n",
       "      <td>3.58</td>\n",
       "      <td>6.81</td>\n",
       "      <td>0.77</td>\n",
       "      <td>NaN</td>\n",
       "      <td>NaN</td>\n",
       "      <td>n/a</td>\n",
       "      <td>40.24</td>\n",
       "    </tr>\n",
       "    <tr>\n",
       "      <th>2</th>\n",
       "      <td>mario kart wii</td>\n",
       "      <td>wii</td>\n",
       "      <td>2008</td>\n",
       "      <td>racing</td>\n",
       "      <td>15.68</td>\n",
       "      <td>12.76</td>\n",
       "      <td>3.79</td>\n",
       "      <td>3.29</td>\n",
       "      <td>82.0</td>\n",
       "      <td>8.3</td>\n",
       "      <td>e</td>\n",
       "      <td>35.52</td>\n",
       "    </tr>\n",
       "    <tr>\n",
       "      <th>3</th>\n",
       "      <td>wii sports resort</td>\n",
       "      <td>wii</td>\n",
       "      <td>2009</td>\n",
       "      <td>sports</td>\n",
       "      <td>15.61</td>\n",
       "      <td>10.93</td>\n",
       "      <td>3.28</td>\n",
       "      <td>2.95</td>\n",
       "      <td>80.0</td>\n",
       "      <td>8.0</td>\n",
       "      <td>e</td>\n",
       "      <td>32.77</td>\n",
       "    </tr>\n",
       "    <tr>\n",
       "      <th>4</th>\n",
       "      <td>pokemon red/pokemon blue</td>\n",
       "      <td>gb</td>\n",
       "      <td>1996</td>\n",
       "      <td>role-playing</td>\n",
       "      <td>11.27</td>\n",
       "      <td>8.89</td>\n",
       "      <td>10.22</td>\n",
       "      <td>1.00</td>\n",
       "      <td>NaN</td>\n",
       "      <td>NaN</td>\n",
       "      <td>n/a</td>\n",
       "      <td>31.38</td>\n",
       "    </tr>\n",
       "  </tbody>\n",
       "</table>\n",
       "</div>"
      ],
      "text/plain": [
       "                       name platform  year_of_release         genre  na_sales  \\\n",
       "0                wii sports      wii             2006        sports     41.36   \n",
       "1         super mario bros.      nes             1985      platform     29.08   \n",
       "2            mario kart wii      wii             2008        racing     15.68   \n",
       "3         wii sports resort      wii             2009        sports     15.61   \n",
       "4  pokemon red/pokemon blue       gb             1996  role-playing     11.27   \n",
       "\n",
       "   eu_sales  jp_sales  other_sales  critic_score  user_score rating  \\\n",
       "0     28.96      3.77         8.45          76.0         8.0      e   \n",
       "1      3.58      6.81         0.77           NaN         NaN    n/a   \n",
       "2     12.76      3.79         3.29          82.0         8.3      e   \n",
       "3     10.93      3.28         2.95          80.0         8.0      e   \n",
       "4      8.89     10.22         1.00           NaN         NaN    n/a   \n",
       "\n",
       "   total_sales  \n",
       "0        82.54  \n",
       "1        40.24  \n",
       "2        35.52  \n",
       "3        32.77  \n",
       "4        31.38  "
      ]
     },
     "execution_count": 24,
     "metadata": {},
     "output_type": "execute_result"
    }
   ],
   "source": [
    "df.head(5)\n"
   ]
  },
  {
   "cell_type": "code",
   "execution_count": 25,
   "metadata": {
    "colab": {
     "base_uri": "https://localhost:8080/"
    },
    "id": "U7zP2fO0kiGp",
    "outputId": "9142ae00-f37e-4dc8-c0e8-38968e16b956"
   },
   "outputs": [
    {
     "name": "stdout",
     "output_type": "stream",
     "text": [
      "<class 'pandas.core.frame.DataFrame'>\n",
      "Int64Index: 16444 entries, 0 to 16714\n",
      "Data columns (total 12 columns):\n",
      " #   Column           Non-Null Count  Dtype  \n",
      "---  ------           --------------  -----  \n",
      " 0   name             16444 non-null  object \n",
      " 1   platform         16444 non-null  object \n",
      " 2   year_of_release  16444 non-null  int64  \n",
      " 3   genre            16444 non-null  object \n",
      " 4   na_sales         16444 non-null  float64\n",
      " 5   eu_sales         16444 non-null  float64\n",
      " 6   jp_sales         16444 non-null  float64\n",
      " 7   other_sales      16444 non-null  float64\n",
      " 8   critic_score     7983 non-null   float64\n",
      " 9   user_score       7463 non-null   float64\n",
      " 10  rating           16444 non-null  object \n",
      " 11  total_sales      16444 non-null  float64\n",
      "dtypes: float64(7), int64(1), object(4)\n",
      "memory usage: 1.6+ MB\n"
     ]
    }
   ],
   "source": [
    "df.info()"
   ]
  },
  {
   "cell_type": "markdown",
   "metadata": {
    "id": "wBoTOByCj7ek"
   },
   "source": [
    "### Вывод"
   ]
  },
  {
   "cell_type": "markdown",
   "metadata": {
    "id": "4IsheySj-Z5R"
   },
   "source": [
    "В рамках предобработки данных, мы избавились от пропущенных значений в таблице. Пропущенные значения рейтинга заполнили новым значением `n/a`, потому что отсутствие рейтинга это не показатель, она может просто продаваться в регионе, где он не нужен. Также были заменены отсутствующие оценки на значение `NaN`, так как нулевая оценка не равна отсутствию оценки.  Также добавили столбец с общими продажами. Теперь можно приступать к анализу."
   ]
  },
  {
   "cell_type": "markdown",
   "metadata": {
    "id": "GKJqXvx8kDjF"
   },
   "source": [
    "## Исследовательский анализ\n"
   ]
  },
  {
   "cell_type": "markdown",
   "metadata": {
    "id": "L0d8XQ2HAJYV"
   },
   "source": [
    "Сначала построим гистограмму, показывающую количество продаж игр по годам релиза:"
   ]
  },
  {
   "cell_type": "code",
   "execution_count": 26,
   "metadata": {
    "colab": {
     "base_uri": "https://localhost:8080/",
     "height": 354
    },
    "id": "QsMPL7-LmYHS",
    "outputId": "bca34015-5a1d-43bf-f7ed-f3abddb938d0"
   },
   "outputs": [
    {
     "data": {
      "text/plain": [
       "Text(0.5, 1.0, 'Распределение игр по годам релиза')"
      ]
     },
     "execution_count": 26,
     "metadata": {},
     "output_type": "execute_result"
    },
    {
     "data": {
      "image/png": "[encoded data removed]",
      "text/plain": [
       "<Figure size 576x360 with 1 Axes>"
      ]
     },
     "metadata": {
      "needs_background": "light"
     },
     "output_type": "display_data"
    }
   ],
   "source": [
    "df['year_of_release'].hist(bins = 40, figsize = (8, 5))\n",
    "plt.title('Распределение игр по годам релиза')\n"
   ]
  },
  {
   "cell_type": "markdown",
   "metadata": {
    "id": "gEbj32UfA99v"
   },
   "source": [
    "Я решил отбросить все данные до 1994 года. В 1994 году состоялся релиз первого поколения Sony PlayStation, которое смогло перевести игры из категории развлечения для гиков в досуг для всех - отличные игры, новое слово в графике и бешеная популярность."
   ]
  },
  {
   "cell_type": "code",
   "execution_count": 27,
   "metadata": {
    "id": "cjM6G944O4Ag"
   },
   "outputs": [],
   "source": [
    "games = df.query('year_of_release>=1994')  # отбрасываем лишнее"
   ]
  },
  {
   "cell_type": "markdown",
   "metadata": {
    "id": "FmZUTlNsBfk1"
   },
   "source": [
    "Посмотрим, как у нас дела с продажами по платформам:"
   ]
  },
  {
   "cell_type": "code",
   "execution_count": 28,
   "metadata": {
    "id": "MdYOtfR9mZSd"
   },
   "outputs": [],
   "source": [
    "platforms = games.pivot_table(index = ('platform'), values = 'total_sales', aggfunc = 'sum')"
   ]
  },
  {
   "cell_type": "code",
   "execution_count": 29,
   "metadata": {
    "colab": {
     "base_uri": "https://localhost:8080/",
     "height": 990
    },
    "id": "mJs1AX-or6wG",
    "outputId": "3be04de1-70f1-4724-c9f4-6f97aa1f8708"
   },
   "outputs": [
    {
     "data": {
      "text/html": [
       "<div>\n",
       "<style scoped>\n",
       "    .dataframe tbody tr th:only-of-type {\n",
       "        vertical-align: middle;\n",
       "    }\n",
       "\n",
       "    .dataframe tbody tr th {\n",
       "        vertical-align: top;\n",
       "    }\n",
       "\n",
       "    .dataframe thead th {\n",
       "        text-align: right;\n",
       "    }\n",
       "</style>\n",
       "<table border=\"1\" class=\"dataframe\">\n",
       "  <thead>\n",
       "    <tr style=\"text-align: right;\">\n",
       "      <th></th>\n",
       "      <th>total_sales</th>\n",
       "    </tr>\n",
       "    <tr>\n",
       "      <th>platform</th>\n",
       "      <th></th>\n",
       "    </tr>\n",
       "  </thead>\n",
       "  <tbody>\n",
       "    <tr>\n",
       "      <th>ps2</th>\n",
       "      <td>1233.56</td>\n",
       "    </tr>\n",
       "    <tr>\n",
       "      <th>x360</th>\n",
       "      <td>961.24</td>\n",
       "    </tr>\n",
       "    <tr>\n",
       "      <th>ps3</th>\n",
       "      <td>931.34</td>\n",
       "    </tr>\n",
       "    <tr>\n",
       "      <th>wii</th>\n",
       "      <td>891.18</td>\n",
       "    </tr>\n",
       "    <tr>\n",
       "      <th>ds</th>\n",
       "      <td>802.76</td>\n",
       "    </tr>\n",
       "    <tr>\n",
       "      <th>ps</th>\n",
       "      <td>727.58</td>\n",
       "    </tr>\n",
       "    <tr>\n",
       "      <th>ps4</th>\n",
       "      <td>314.14</td>\n",
       "    </tr>\n",
       "    <tr>\n",
       "      <th>gba</th>\n",
       "      <td>312.88</td>\n",
       "    </tr>\n",
       "    <tr>\n",
       "      <th>psp</th>\n",
       "      <td>289.53</td>\n",
       "    </tr>\n",
       "    <tr>\n",
       "      <th>3ds</th>\n",
       "      <td>257.81</td>\n",
       "    </tr>\n",
       "    <tr>\n",
       "      <th>pc</th>\n",
       "      <td>252.66</td>\n",
       "    </tr>\n",
       "    <tr>\n",
       "      <th>xb</th>\n",
       "      <td>251.57</td>\n",
       "    </tr>\n",
       "    <tr>\n",
       "      <th>n64</th>\n",
       "      <td>218.01</td>\n",
       "    </tr>\n",
       "    <tr>\n",
       "      <th>gc</th>\n",
       "      <td>196.73</td>\n",
       "    </tr>\n",
       "    <tr>\n",
       "      <th>xone</th>\n",
       "      <td>159.32</td>\n",
       "    </tr>\n",
       "    <tr>\n",
       "      <th>gb</th>\n",
       "      <td>152.08</td>\n",
       "    </tr>\n",
       "    <tr>\n",
       "      <th>snes</th>\n",
       "      <td>84.67</td>\n",
       "    </tr>\n",
       "    <tr>\n",
       "      <th>wiiu</th>\n",
       "      <td>82.19</td>\n",
       "    </tr>\n",
       "    <tr>\n",
       "      <th>psv</th>\n",
       "      <td>53.81</td>\n",
       "    </tr>\n",
       "    <tr>\n",
       "      <th>sat</th>\n",
       "      <td>33.59</td>\n",
       "    </tr>\n",
       "    <tr>\n",
       "      <th>dc</th>\n",
       "      <td>15.95</td>\n",
       "    </tr>\n",
       "    <tr>\n",
       "      <th>gen</th>\n",
       "      <td>8.13</td>\n",
       "    </tr>\n",
       "    <tr>\n",
       "      <th>ws</th>\n",
       "      <td>1.42</td>\n",
       "    </tr>\n",
       "    <tr>\n",
       "      <th>ng</th>\n",
       "      <td>1.23</td>\n",
       "    </tr>\n",
       "    <tr>\n",
       "      <th>scd</th>\n",
       "      <td>0.36</td>\n",
       "    </tr>\n",
       "    <tr>\n",
       "      <th>tg16</th>\n",
       "      <td>0.16</td>\n",
       "    </tr>\n",
       "    <tr>\n",
       "      <th>nes</th>\n",
       "      <td>0.11</td>\n",
       "    </tr>\n",
       "    <tr>\n",
       "      <th>3do</th>\n",
       "      <td>0.10</td>\n",
       "    </tr>\n",
       "    <tr>\n",
       "      <th>pcfx</th>\n",
       "      <td>0.03</td>\n",
       "    </tr>\n",
       "  </tbody>\n",
       "</table>\n",
       "</div>"
      ],
      "text/plain": [
       "          total_sales\n",
       "platform             \n",
       "ps2           1233.56\n",
       "x360           961.24\n",
       "ps3            931.34\n",
       "wii            891.18\n",
       "ds             802.76\n",
       "ps             727.58\n",
       "ps4            314.14\n",
       "gba            312.88\n",
       "psp            289.53\n",
       "3ds            257.81\n",
       "pc             252.66\n",
       "xb             251.57\n",
       "n64            218.01\n",
       "gc             196.73\n",
       "xone           159.32\n",
       "gb             152.08\n",
       "snes            84.67\n",
       "wiiu            82.19\n",
       "psv             53.81\n",
       "sat             33.59\n",
       "dc              15.95\n",
       "gen              8.13\n",
       "ws               1.42\n",
       "ng               1.23\n",
       "scd              0.36\n",
       "tg16             0.16\n",
       "nes              0.11\n",
       "3do              0.10\n",
       "pcfx             0.03"
      ]
     },
     "execution_count": 29,
     "metadata": {},
     "output_type": "execute_result"
    }
   ],
   "source": [
    "platforms.sort_values(by = 'total_sales', ascending = False)"
   ]
  },
  {
   "cell_type": "markdown",
   "metadata": {
    "id": "hp4GXcjVCaF8"
   },
   "source": [
    "Консольщики заполонили все. Посмотрим данные по продажам основных производителей приставок, чтобы определить жизненный цикл приставки на рынке."
   ]
  },
  {
   "cell_type": "code",
   "execution_count": 30,
   "metadata": {
    "colab": {
     "base_uri": "https://localhost:8080/",
     "height": 298
    },
    "id": "YD_gwxYP1ZZu",
    "outputId": "2cc631c1-2f0c-4411-df6d-3d43d9568915"
   },
   "outputs": [
    {
     "data": {
      "text/plain": [
       "Text(0.5, 1.0, 'PlayStation')"
      ]
     },
     "execution_count": 30,
     "metadata": {},
     "output_type": "execute_result"
    },
    {
     "data": {
      "image/png": "[encoded data removed]",
      "text/plain": [
       "<Figure size 432x288 with 1 Axes>"
      ]
     },
     "metadata": {
      "needs_background": "light"
     },
     "output_type": "display_data"
    }
   ],
   "source": [
    "df[df['platform']=='ps']['year_of_release'].hist(bins = 50)\n",
    "plt.title('PlayStation')"
   ]
  },
  {
   "cell_type": "code",
   "execution_count": 31,
   "metadata": {
    "colab": {
     "base_uri": "https://localhost:8080/",
     "height": 298
    },
    "id": "Ib7CutzeRKnj",
    "outputId": "f9182e40-5db1-4987-8fa0-b5fbb48296c1"
   },
   "outputs": [
    {
     "data": {
      "text/plain": [
       "Text(0.5, 1.0, 'PlayStation 2')"
      ]
     },
     "execution_count": 31,
     "metadata": {},
     "output_type": "execute_result"
    },
    {
     "data": {
      "image/png": "[encoded data removed]",
      "text/plain": [
       "<Figure size 432x288 with 1 Axes>"
      ]
     },
     "metadata": {
      "needs_background": "light"
     },
     "output_type": "display_data"
    }
   ],
   "source": [
    "df[df['platform']=='ps2']['year_of_release'].hist(bins = 50)\n",
    "plt.title('PlayStation 2')"
   ]
  },
  {
   "cell_type": "code",
   "execution_count": 32,
   "metadata": {
    "colab": {
     "base_uri": "https://localhost:8080/",
     "height": 298
    },
    "id": "-F_ao40qRMRO",
    "outputId": "35e2c824-af0a-4082-de7e-90f0793bf354"
   },
   "outputs": [
    {
     "data": {
      "text/plain": [
       "Text(0.5, 1.0, 'PlayStation 3')"
      ]
     },
     "execution_count": 32,
     "metadata": {},
     "output_type": "execute_result"
    },
    {
     "data": {
      "image/png": "[encoded data removed]",
      "text/plain": [
       "<Figure size 432x288 with 1 Axes>"
      ]
     },
     "metadata": {
      "needs_background": "light"
     },
     "output_type": "display_data"
    }
   ],
   "source": [
    "df[df['platform']=='ps3']['year_of_release'].hist(bins = 40)\n",
    "plt.title('PlayStation 3')"
   ]
  },
  {
   "cell_type": "code",
   "execution_count": 33,
   "metadata": {
    "colab": {
     "base_uri": "https://localhost:8080/",
     "height": 298
    },
    "id": "JCeoLj6YUBRZ",
    "outputId": "ed15e33d-956e-406b-8ad5-ab38b7dfee72"
   },
   "outputs": [
    {
     "data": {
      "text/plain": [
       "Text(0.5, 1.0, 'PlayStation 4')"
      ]
     },
     "execution_count": 33,
     "metadata": {},
     "output_type": "execute_result"
    },
    {
     "data": {
      "image/png": "[encoded data removed]",
      "text/plain": [
       "<Figure size 432x288 with 1 Axes>"
      ]
     },
     "metadata": {
      "needs_background": "light"
     },
     "output_type": "display_data"
    }
   ],
   "source": [
    "df[df['platform']=='ps4']['year_of_release'].hist(bins = 20)\n",
    "plt.title('PlayStation 4')"
   ]
  },
  {
   "cell_type": "markdown",
   "metadata": {
    "id": "rcT6LKxkEisb"
   },
   "source": [
    "Получается около десяти лет на каждое поколение приставок. Следующее поколение выводится через 5 лет после релиза предыдущего.\n",
    "\n",
    "Также можно посмотреть, что там с мобильным геймингом:"
   ]
  },
  {
   "cell_type": "code",
   "execution_count": 34,
   "metadata": {
    "colab": {
     "base_uri": "https://localhost:8080/",
     "height": 298
    },
    "id": "M_o6o8hZRoVI",
    "outputId": "073ce172-b486-4101-ed05-1bf823256402"
   },
   "outputs": [
    {
     "data": {
      "text/plain": [
       "Text(0.5, 1.0, 'PlayStation Portable')"
      ]
     },
     "execution_count": 34,
     "metadata": {},
     "output_type": "execute_result"
    },
    {
     "data": {
      "image/png": "[encoded data removed]",
      "text/plain": [
       "<Figure size 432x288 with 1 Axes>"
      ]
     },
     "metadata": {
      "needs_background": "light"
     },
     "output_type": "display_data"
    }
   ],
   "source": [
    "df[df['platform']=='psp']['year_of_release'].hist(bins = 50)  # 2009 выпуск PSP Go\n",
    "plt.title('PlayStation Portable')"
   ]
  },
  {
   "cell_type": "markdown",
   "metadata": {
    "id": "N-YkLW0LE2lV"
   },
   "source": [
    "Посмотрим на конкурентов от Microsoft:"
   ]
  },
  {
   "cell_type": "code",
   "execution_count": 35,
   "metadata": {
    "colab": {
     "base_uri": "https://localhost:8080/",
     "height": 298
    },
    "id": "6Wu7ZeixSeRH",
    "outputId": "561f8302-59a1-476d-bd46-49b514c25bdf"
   },
   "outputs": [
    {
     "data": {
      "text/plain": [
       "Text(0.5, 1.0, 'Xbox')"
      ]
     },
     "execution_count": 35,
     "metadata": {},
     "output_type": "execute_result"
    },
    {
     "data": {
      "image/png": "[encoded data removed]",
      "text/plain": [
       "<Figure size 432x288 with 1 Axes>"
      ]
     },
     "metadata": {
      "needs_background": "light"
     },
     "output_type": "display_data"
    }
   ],
   "source": [
    "df[df['platform']=='xb']['year_of_release'].hist(bins = 50)\n",
    "plt.title('Xbox')"
   ]
  },
  {
   "cell_type": "code",
   "execution_count": 36,
   "metadata": {
    "colab": {
     "base_uri": "https://localhost:8080/",
     "height": 298
    },
    "id": "ik7xtBbe5t7o",
    "outputId": "2c6df719-e6fc-4153-ff89-8deacdbaa393"
   },
   "outputs": [
    {
     "data": {
      "text/plain": [
       "Text(0.5, 1.0, 'Xbox 360')"
      ]
     },
     "execution_count": 36,
     "metadata": {},
     "output_type": "execute_result"
    },
    {
     "data": {
      "image/png": "[encoded data removed]",
      "text/plain": [
       "<Figure size 432x288 with 1 Axes>"
      ]
     },
     "metadata": {
      "needs_background": "light"
     },
     "output_type": "display_data"
    }
   ],
   "source": [
    "df[df['platform']=='x360']['year_of_release'].hist(bins = 50)\n",
    "plt.title('Xbox 360')"
   ]
  },
  {
   "cell_type": "code",
   "execution_count": 37,
   "metadata": {
    "colab": {
     "base_uri": "https://localhost:8080/",
     "height": 298
    },
    "id": "G-VXlK_7cCnN",
    "outputId": "a2feb104-62a0-4652-ad67-e7929106d5ad"
   },
   "outputs": [
    {
     "data": {
      "text/plain": [
       "Text(0.5, 1.0, 'Xbox One')"
      ]
     },
     "execution_count": 37,
     "metadata": {},
     "output_type": "execute_result"
    },
    {
     "data": {
      "image/png": "[encoded data removed]",
      "text/plain": [
       "<Figure size 432x288 with 1 Axes>"
      ]
     },
     "metadata": {
      "needs_background": "light"
     },
     "output_type": "display_data"
    }
   ],
   "source": [
    "df[df['platform']=='xone']['year_of_release'].hist(bins = 20)\n",
    "plt.title('Xbox One')"
   ]
  },
  {
   "cell_type": "markdown",
   "metadata": {
    "id": "V_5dvEIkFGcV"
   },
   "source": [
    "Первое поколение Xbox было не очень удачным, но, в целом, временные рамки как и конкурента."
   ]
  },
  {
   "cell_type": "markdown",
   "metadata": {
    "id": "w3SfLGnAFNcB"
   },
   "source": [
    "Посмотрим на Nintendo:"
   ]
  },
  {
   "cell_type": "code",
   "execution_count": 38,
   "metadata": {
    "colab": {
     "base_uri": "https://localhost:8080/",
     "height": 298
    },
    "id": "t-K2Ype9Qtqk",
    "outputId": "eb7bf075-94e8-4173-90bd-9108a2cade49"
   },
   "outputs": [
    {
     "data": {
      "text/plain": [
       "Text(0.5, 1.0, 'Wii')"
      ]
     },
     "execution_count": 38,
     "metadata": {},
     "output_type": "execute_result"
    },
    {
     "data": {
      "image/png": "[encoded data removed]",
      "text/plain": [
       "<Figure size 432x288 with 1 Axes>"
      ]
     },
     "metadata": {
      "needs_background": "light"
     },
     "output_type": "display_data"
    }
   ],
   "source": [
    "df[df['platform']=='wii']['year_of_release'].hist(bins = 50)\n",
    "plt.title('Wii')"
   ]
  },
  {
   "cell_type": "code",
   "execution_count": 39,
   "metadata": {
    "colab": {
     "base_uri": "https://localhost:8080/",
     "height": 298
    },
    "id": "lPdyyzEdJE4D",
    "outputId": "5f98300c-d271-478e-cabb-206f7470fcfc"
   },
   "outputs": [
    {
     "data": {
      "text/plain": [
       "Text(0.5, 1.0, 'Nintendo DS')"
      ]
     },
     "execution_count": 39,
     "metadata": {},
     "output_type": "execute_result"
    },
    {
     "data": {
      "image/png": "[encoded data removed]",
      "text/plain": [
       "<Figure size 432x288 with 1 Axes>"
      ]
     },
     "metadata": {
      "needs_background": "light"
     },
     "output_type": "display_data"
    }
   ],
   "source": [
    "games[games['platform']=='ds']['year_of_release'].hist(bins = 50)\n",
    "plt.title('Nintendo DS')"
   ]
  },
  {
   "cell_type": "code",
   "execution_count": 40,
   "metadata": {
    "colab": {
     "base_uri": "https://localhost:8080/",
     "height": 298
    },
    "id": "JzogCmd0JGw_",
    "outputId": "8c8f6742-f66e-4b0c-ff6f-7c72ade8bca9"
   },
   "outputs": [
    {
     "data": {
      "text/plain": [
       "Text(0.5, 1.0, 'GameBoy Advanced')"
      ]
     },
     "execution_count": 40,
     "metadata": {},
     "output_type": "execute_result"
    },
    {
     "data": {
      "image/png": "[encoded data removed]",
      "text/plain": [
       "<Figure size 432x288 with 1 Axes>"
      ]
     },
     "metadata": {
      "needs_background": "light"
     },
     "output_type": "display_data"
    }
   ],
   "source": [
    "df[df['platform']=='gba']['year_of_release'].hist(bins = 50)\n",
    "plt.title('GameBoy Advanced')"
   ]
  },
  {
   "cell_type": "code",
   "execution_count": 41,
   "metadata": {
    "colab": {
     "base_uri": "https://localhost:8080/",
     "height": 298
    },
    "id": "8wpoW4f1JIe8",
    "outputId": "d8b75f9c-facf-4368-d05a-1fe29aa96566"
   },
   "outputs": [
    {
     "data": {
      "text/plain": [
       "Text(0.5, 1.0, 'nintendo 3DS')"
      ]
     },
     "execution_count": 41,
     "metadata": {},
     "output_type": "execute_result"
    },
    {
     "data": {
      "image/png": "[encoded data removed]",
      "text/plain": [
       "<Figure size 432x288 with 1 Axes>"
      ]
     },
     "metadata": {
      "needs_background": "light"
     },
     "output_type": "display_data"
    }
   ],
   "source": [
    "df[df['platform']=='3ds']['year_of_release'].hist(bins = 50)\n",
    "plt.title('nintendo 3DS')"
   ]
  },
  {
   "cell_type": "markdown",
   "metadata": {
    "id": "6o0mY1FvG5Lh"
   },
   "source": [
    "В целом, десятилетние циклы работают и здесь."
   ]
  },
  {
   "cell_type": "markdown",
   "metadata": {
    "id": "6F7K-e8rG9Bf"
   },
   "source": [
    "Самое интересное - игры на ПК:"
   ]
  },
  {
   "cell_type": "code",
   "execution_count": 42,
   "metadata": {
    "colab": {
     "base_uri": "https://localhost:8080/",
     "height": 298
    },
    "id": "RbGknFpTTKoY",
    "outputId": "c2349f92-3e9a-42c1-e606-fcfc9bd991fe"
   },
   "outputs": [
    {
     "data": {
      "text/plain": [
       "Text(0.5, 1.0, 'PС')"
      ]
     },
     "execution_count": 42,
     "metadata": {},
     "output_type": "execute_result"
    },
    {
     "data": {
      "image/png": "[encoded data removed]",
      "text/plain": [
       "<Figure size 432x288 with 1 Axes>"
      ]
     },
     "metadata": {
      "needs_background": "light"
     },
     "output_type": "display_data"
    }
   ],
   "source": [
    "df[df['platform']=='pc']['year_of_release'].hist(bins = 50)\n",
    "plt.title('PС')"
   ]
  },
  {
   "cell_type": "markdown",
   "metadata": {
    "id": "oUePUxPMHC2b"
   },
   "source": [
    "Подъем до 2010 года, затем начинается спад. "
   ]
  },
  {
   "cell_type": "markdown",
   "metadata": {
    "id": "fLe_kIZY4iua"
   },
   "source": [
    "Впрочем, с 2013 года статистика продаж опять идет вверх.\n",
    "\n",
    "Именно поэтому отправной точкой исследования я выбрал именно 2013 год, а также в 2013 году была выпущена PS4 и Xbox One - то есть, эти консоли подходят к пику популярности, и с большой долей вероятности еще какое-то время продажи будут высокими."
   ]
  },
  {
   "cell_type": "code",
   "execution_count": 43,
   "metadata": {
    "id": "zitBOMi_Uu6g"
   },
   "outputs": [],
   "source": [
    "new_games = df.query('year_of_release>2013')  # отфильтруем еще раз по году"
   ]
  },
  {
   "cell_type": "markdown",
   "metadata": {},
   "source": [
    "В качестве перспективных платформ я выбрал те, которые находятся на пике популярности: PS4, Xbox One, Nintendo 3DS - у них еще есть потенциал для роста до выхода нового поколения приставок, и ПК - продажи тоже растут, и, скорее всего, в следующем году тенденция сохранится. \n",
    "\n",
    "Оформим в новую таблицу:"
   ]
  },
  {
   "cell_type": "code",
   "execution_count": 44,
   "metadata": {},
   "outputs": [],
   "source": [
    "platforms_new = new_games.query('platform==\"ps4\" or platform==\"xone\" or platform==\"pc\" or platform==\"3ds\"')"
   ]
  },
  {
   "cell_type": "code",
   "execution_count": 45,
   "metadata": {
    "colab": {
     "base_uri": "https://localhost:8080/",
     "height": 394
    },
    "id": "agSWtfxiW6sh",
    "outputId": "259fe051-cd82-4ab1-b310-2a7b56dbe8f6"
   },
   "outputs": [
    {
     "data": {
      "text/html": [
       "<div>\n",
       "<style scoped>\n",
       "    .dataframe tbody tr th:only-of-type {\n",
       "        vertical-align: middle;\n",
       "    }\n",
       "\n",
       "    .dataframe tbody tr th {\n",
       "        vertical-align: top;\n",
       "    }\n",
       "\n",
       "    .dataframe thead th {\n",
       "        text-align: right;\n",
       "    }\n",
       "</style>\n",
       "<table border=\"1\" class=\"dataframe\">\n",
       "  <thead>\n",
       "    <tr style=\"text-align: right;\">\n",
       "      <th></th>\n",
       "      <th>name</th>\n",
       "      <th>platform</th>\n",
       "      <th>year_of_release</th>\n",
       "      <th>genre</th>\n",
       "      <th>na_sales</th>\n",
       "      <th>eu_sales</th>\n",
       "      <th>jp_sales</th>\n",
       "      <th>other_sales</th>\n",
       "      <th>critic_score</th>\n",
       "      <th>user_score</th>\n",
       "      <th>rating</th>\n",
       "      <th>total_sales</th>\n",
       "    </tr>\n",
       "  </thead>\n",
       "  <tbody>\n",
       "    <tr>\n",
       "      <th>31</th>\n",
       "      <td>call of duty: black ops 3</td>\n",
       "      <td>ps4</td>\n",
       "      <td>2015</td>\n",
       "      <td>shooter</td>\n",
       "      <td>6.03</td>\n",
       "      <td>5.86</td>\n",
       "      <td>0.36</td>\n",
       "      <td>2.38</td>\n",
       "      <td>NaN</td>\n",
       "      <td>NaN</td>\n",
       "      <td>n/a</td>\n",
       "      <td>14.63</td>\n",
       "    </tr>\n",
       "    <tr>\n",
       "      <th>42</th>\n",
       "      <td>grand theft auto v</td>\n",
       "      <td>ps4</td>\n",
       "      <td>2014</td>\n",
       "      <td>action</td>\n",
       "      <td>3.96</td>\n",
       "      <td>6.31</td>\n",
       "      <td>0.38</td>\n",
       "      <td>1.97</td>\n",
       "      <td>97.0</td>\n",
       "      <td>8.3</td>\n",
       "      <td>m</td>\n",
       "      <td>12.62</td>\n",
       "    </tr>\n",
       "    <tr>\n",
       "      <th>47</th>\n",
       "      <td>pokemon omega ruby/pokemon alpha sapphire</td>\n",
       "      <td>3ds</td>\n",
       "      <td>2014</td>\n",
       "      <td>role-playing</td>\n",
       "      <td>4.35</td>\n",
       "      <td>3.49</td>\n",
       "      <td>3.10</td>\n",
       "      <td>0.74</td>\n",
       "      <td>NaN</td>\n",
       "      <td>NaN</td>\n",
       "      <td>n/a</td>\n",
       "      <td>11.68</td>\n",
       "    </tr>\n",
       "    <tr>\n",
       "      <th>77</th>\n",
       "      <td>fifa 16</td>\n",
       "      <td>ps4</td>\n",
       "      <td>2015</td>\n",
       "      <td>sports</td>\n",
       "      <td>1.12</td>\n",
       "      <td>6.12</td>\n",
       "      <td>0.06</td>\n",
       "      <td>1.28</td>\n",
       "      <td>82.0</td>\n",
       "      <td>4.3</td>\n",
       "      <td>e</td>\n",
       "      <td>8.58</td>\n",
       "    </tr>\n",
       "    <tr>\n",
       "      <th>87</th>\n",
       "      <td>star wars battlefront (2015)</td>\n",
       "      <td>ps4</td>\n",
       "      <td>2015</td>\n",
       "      <td>shooter</td>\n",
       "      <td>2.99</td>\n",
       "      <td>3.49</td>\n",
       "      <td>0.22</td>\n",
       "      <td>1.28</td>\n",
       "      <td>NaN</td>\n",
       "      <td>NaN</td>\n",
       "      <td>n/a</td>\n",
       "      <td>7.98</td>\n",
       "    </tr>\n",
       "  </tbody>\n",
       "</table>\n",
       "</div>"
      ],
      "text/plain": [
       "                                         name platform  year_of_release  \\\n",
       "31                  call of duty: black ops 3      ps4             2015   \n",
       "42                         grand theft auto v      ps4             2014   \n",
       "47  pokemon omega ruby/pokemon alpha sapphire      3ds             2014   \n",
       "77                                    fifa 16      ps4             2015   \n",
       "87               star wars battlefront (2015)      ps4             2015   \n",
       "\n",
       "           genre  na_sales  eu_sales  jp_sales  other_sales  critic_score  \\\n",
       "31       shooter      6.03      5.86      0.36         2.38           NaN   \n",
       "42        action      3.96      6.31      0.38         1.97          97.0   \n",
       "47  role-playing      4.35      3.49      3.10         0.74           NaN   \n",
       "77        sports      1.12      6.12      0.06         1.28          82.0   \n",
       "87       shooter      2.99      3.49      0.22         1.28           NaN   \n",
       "\n",
       "    user_score rating  total_sales  \n",
       "31         NaN    n/a        14.63  \n",
       "42         8.3      m        12.62  \n",
       "47         NaN    n/a        11.68  \n",
       "77         4.3      e         8.58  \n",
       "87         NaN    n/a         7.98  "
      ]
     },
     "execution_count": 45,
     "metadata": {},
     "output_type": "execute_result"
    }
   ],
   "source": [
    "platforms_new.head(5) "
   ]
  },
  {
   "cell_type": "markdown",
   "metadata": {},
   "source": [
    "Поосмотрим, как продаются наши теоретически перспективные платформы:"
   ]
  },
  {
   "cell_type": "code",
   "execution_count": 46,
   "metadata": {},
   "outputs": [
    {
     "data": {
      "text/html": [
       "<div>\n",
       "<style scoped>\n",
       "    .dataframe tbody tr th:only-of-type {\n",
       "        vertical-align: middle;\n",
       "    }\n",
       "\n",
       "    .dataframe tbody tr th {\n",
       "        vertical-align: top;\n",
       "    }\n",
       "\n",
       "    .dataframe thead th {\n",
       "        text-align: right;\n",
       "    }\n",
       "</style>\n",
       "<table border=\"1\" class=\"dataframe\">\n",
       "  <thead>\n",
       "    <tr style=\"text-align: right;\">\n",
       "      <th></th>\n",
       "      <th>total_sales</th>\n",
       "    </tr>\n",
       "    <tr>\n",
       "      <th>platform</th>\n",
       "      <th></th>\n",
       "    </tr>\n",
       "  </thead>\n",
       "  <tbody>\n",
       "    <tr>\n",
       "      <th>ps4</th>\n",
       "      <td>288.15</td>\n",
       "    </tr>\n",
       "    <tr>\n",
       "      <th>xone</th>\n",
       "      <td>140.36</td>\n",
       "    </tr>\n",
       "    <tr>\n",
       "      <th>3ds</th>\n",
       "      <td>86.68</td>\n",
       "    </tr>\n",
       "    <tr>\n",
       "      <th>pc</th>\n",
       "      <td>27.05</td>\n",
       "    </tr>\n",
       "  </tbody>\n",
       "</table>\n",
       "</div>"
      ],
      "text/plain": [
       "          total_sales\n",
       "platform             \n",
       "ps4            288.15\n",
       "xone           140.36\n",
       "3ds             86.68\n",
       "pc              27.05"
      ]
     },
     "execution_count": 46,
     "metadata": {},
     "output_type": "execute_result"
    }
   ],
   "source": [
    "platforms_new_sales = platforms_new.pivot_table(index = 'platform', values = 'total_sales', aggfunc = 'sum')\n",
    "platforms_new_sales.sort_values(by = 'total_sales', ascending = False)"
   ]
  },
  {
   "cell_type": "markdown",
   "metadata": {},
   "source": [
    "PS4 определенно на коне!\n",
    "\n",
    "Теперь посмотрим, что у нас с выбросами для перспективных платформ:"
   ]
  },
  {
   "cell_type": "code",
   "execution_count": 47,
   "metadata": {},
   "outputs": [
    {
     "data": {
      "image/png": "[encoded data removed]",
      "text/plain": [
       "<Figure size 792x576 with 1 Axes>"
      ]
     },
     "metadata": {
      "needs_background": "light"
     },
     "output_type": "display_data"
    }
   ],
   "source": [
    "import seaborn as sns\n",
    "\n",
    "plt.figure(figsize=(11,8))\n",
    "sns.boxplot(x='platform', y='total_sales',  data=platforms_new, notch=False)\n",
    "plt.title('Глобальные продажи перспективных платформ')\n",
    "plt.xlabel('Платформы')\n",
    "plt.ylabel('Продажи')\n",
    "plt.ylim(0, 2)\n",
    "plt.show()"
   ]
  },
  {
   "cell_type": "markdown",
   "metadata": {},
   "source": [
    "На выходе мы получаем следующую картину:\n",
    "\n",
    "* для ведущих приставок PS4/Xbox One границы нормального распределения почти одинаковые - до 1,5 млн копий, но у PS4 гораздо чаще бывают еще более высокие продажи - я думаю, это происходит за счет обширного набора эксклюзивных игр с большой аудиторией фанатов;\n",
    "* продажи Nintendo 3DS  и РС также показывают близкие границы в районе 500 тыс. проданных копий. Но и выбросов намного больше - иногда по количеству проданных копий игр она даже догоняет серьезных конкурентов в лице PS4 и Xbox. Я думаю, это можно объяснить разнообразием игр на мобильной платформе. А еще они проще и их много, рассчитанных на широкий охват. "
   ]
  },
  {
   "cell_type": "markdown",
   "metadata": {
    "id": "ruswHAOn7WYr"
   },
   "source": [
    "Я буду рассматривать платформу ПК, как наиболее близкую мне. "
   ]
  },
  {
   "cell_type": "code",
   "execution_count": 49,
   "metadata": {
    "id": "4cgFyOAIBzWz"
   },
   "outputs": [],
   "source": [
    "pc_games = df.query('platform==\"pc\"')  # делаем отдельную таблицу"
   ]
  },
  {
   "cell_type": "markdown",
   "metadata": {
    "id": "yY_5LmBr79if"
   },
   "source": [
    "Избавимся от пропущенных значений в столбцах с оценками для чистоты эксперимента."
   ]
  },
  {
   "cell_type": "code",
   "execution_count": 50,
   "metadata": {},
   "outputs": [],
   "source": [
    "import warnings\n",
    "warnings.filterwarnings('ignore')"
   ]
  },
  {
   "cell_type": "code",
   "execution_count": 51,
   "metadata": {
    "colab": {
     "base_uri": "https://localhost:8080/"
    },
    "id": "t7J8HX3GKOC6",
    "outputId": "011c0765-c16a-4363-8e45-935f6ef138ec"
   },
   "outputs": [],
   "source": [
    "pc_games.dropna(subset=['critic_score'],inplace=True)\n"
   ]
  },
  {
   "cell_type": "code",
   "execution_count": 52,
   "metadata": {
    "colab": {
     "base_uri": "https://localhost:8080/"
    },
    "id": "d784mkysRGwZ",
    "outputId": "4ea7ad37-6763-4dea-d176-d60f3c42267f"
   },
   "outputs": [],
   "source": [
    "pc_games.dropna(subset=['user_score'],inplace=True)"
   ]
  },
  {
   "cell_type": "markdown",
   "metadata": {
    "id": "m_mC9WxQ8GS5"
   },
   "source": [
    "Никаких пропусков, типа данных корректный, можно анализировать."
   ]
  },
  {
   "cell_type": "code",
   "execution_count": 53,
   "metadata": {
    "colab": {
     "base_uri": "https://localhost:8080/"
    },
    "id": "SKYsqGMDRIlm",
    "outputId": "58b05067-2652-4407-9878-281f60b5ef89"
   },
   "outputs": [
    {
     "name": "stdout",
     "output_type": "stream",
     "text": [
      "<class 'pandas.core.frame.DataFrame'>\n",
      "Int64Index: 688 entries, 85 to 16705\n",
      "Data columns (total 12 columns):\n",
      " #   Column           Non-Null Count  Dtype  \n",
      "---  ------           --------------  -----  \n",
      " 0   name             688 non-null    object \n",
      " 1   platform         688 non-null    object \n",
      " 2   year_of_release  688 non-null    int64  \n",
      " 3   genre            688 non-null    object \n",
      " 4   na_sales         688 non-null    float64\n",
      " 5   eu_sales         688 non-null    float64\n",
      " 6   jp_sales         688 non-null    float64\n",
      " 7   other_sales      688 non-null    float64\n",
      " 8   critic_score     688 non-null    float64\n",
      " 9   user_score       688 non-null    float64\n",
      " 10  rating           688 non-null    object \n",
      " 11  total_sales      688 non-null    float64\n",
      "dtypes: float64(7), int64(1), object(4)\n",
      "memory usage: 69.9+ KB\n"
     ]
    }
   ],
   "source": [
    "pc_games.info()"
   ]
  },
  {
   "cell_type": "markdown",
   "metadata": {
    "id": "_KR1D9Cd8MmO"
   },
   "source": [
    "Посмотрим, как соотносятся наличие отзывов от критиков и продажи:"
   ]
  },
  {
   "cell_type": "code",
   "execution_count": 54,
   "metadata": {
    "colab": {
     "base_uri": "https://localhost:8080/",
     "height": 459
    },
    "id": "Dc_HWlprKSGi",
    "outputId": "321847e1-62d6-4ec3-9b94-83dcb2a81319"
   },
   "outputs": [
    {
     "data": {
      "image/png": "[encoded data removed]",
      "text/plain": [
       "<Figure size 1008x504 with 1 Axes>"
      ]
     },
     "metadata": {
      "needs_background": "light"
     },
     "output_type": "display_data"
    }
   ],
   "source": [
    "pc_games.plot(x='critic_score', y='total_sales', kind='scatter', grid=True, figsize=(14,7), alpha=0.5)\n",
    "plt.title('Соотношение отзывов критиков и продаж', size=14)\n",
    "plt.xlabel('Отзывы критиков')\n",
    "plt.ylabel('Продажи')\n",
    "plt.show()"
   ]
  },
  {
   "cell_type": "code",
   "execution_count": 55,
   "metadata": {
    "colab": {
     "base_uri": "https://localhost:8080/"
    },
    "id": "SRCtCs89L4Hz",
    "outputId": "b6ef2201-993d-42a0-c514-555203d52eee"
   },
   "outputs": [
    {
     "name": "stdout",
     "output_type": "stream",
     "text": [
      "Соотношение отзывов критиков и продаж: 0.257260981042733.\n"
     ]
    }
   ],
   "source": [
    "print('Соотношение отзывов критиков и продаж: {}.'.format(pc_games['critic_score'].corr(pc_games['total_sales'])))"
   ]
  },
  {
   "cell_type": "markdown",
   "metadata": {
    "id": "ABH3WdJJ9C7Q"
   },
   "source": [
    "Неожиданно, но почти никак. Видимо, критики тоже люди и им свойственно ошибаться.\n",
    "\n",
    "Посмотрим, как обстоят дела с другими популярными платформами:"
   ]
  },
  {
   "cell_type": "code",
   "execution_count": 56,
   "metadata": {
    "colab": {
     "base_uri": "https://localhost:8080/"
    },
    "id": "QpTrO8ejgnD_",
    "outputId": "e8e0ed9a-3d1d-4898-f57f-07fa621fad16"
   },
   "outputs": [
    {
     "name": "stdout",
     "output_type": "stream",
     "text": [
      "Соотношение отзывов критиков и продаж PS4: 0.40656790206178095.\n"
     ]
    }
   ],
   "source": [
    "ps4_games = df.query('platform==\"ps4\"')\n",
    "print('Соотношение отзывов критиков и продаж PS4: {}.'.format(ps4_games['critic_score'].corr(ps4_games['total_sales'])))"
   ]
  },
  {
   "cell_type": "code",
   "execution_count": 57,
   "metadata": {
    "colab": {
     "base_uri": "https://localhost:8080/"
    },
    "id": "TzaZKYlEg4x_",
    "outputId": "442dec5b-2da3-4c8d-95b5-ee737c1b0673"
   },
   "outputs": [
    {
     "name": "stdout",
     "output_type": "stream",
     "text": [
      "Соотношение отзывов критиков и продаж Xbox One: 0.4169983280084017.\n"
     ]
    }
   ],
   "source": [
    "xone_games = df.query('platform==\"xone\"')\n",
    "print('Соотношение отзывов критиков и продаж Xbox One: {}.'.format(xone_games['critic_score'].corr(xone_games['total_sales'])))"
   ]
  },
  {
   "cell_type": "code",
   "execution_count": 58,
   "metadata": {
    "colab": {
     "base_uri": "https://localhost:8080/"
    },
    "id": "WeJbuV5Eg-sK",
    "outputId": "bf6f229c-eeec-4359-ed98-1d25acad01ec"
   },
   "outputs": [
    {
     "name": "stdout",
     "output_type": "stream",
     "text": [
      "Соотношение отзывов критиков и продаж Nintendo 3DS: 0.3487397305984834.\n"
     ]
    }
   ],
   "source": [
    "ds_games = df.query('platform==\"3ds\"')\n",
    "print('Соотношение отзывов критиков и продаж Nintendo 3DS: {}.'.format(ds_games['critic_score'].corr(ds_games['total_sales'])))"
   ]
  },
  {
   "cell_type": "markdown",
   "metadata": {
    "id": "C_yQY_Be9V5p"
   },
   "source": [
    "И на других популярных платформах зависимость тоже весьма слабая, хотя и выше, чем с ПК."
   ]
  },
  {
   "cell_type": "markdown",
   "metadata": {
    "id": "p7hqA0vp9jmr"
   },
   "source": [
    "А как соотносятся отзывы игроков с продажами?"
   ]
  },
  {
   "cell_type": "code",
   "execution_count": 59,
   "metadata": {
    "colab": {
     "base_uri": "https://localhost:8080/",
     "height": 459
    },
    "id": "j9LZI-s_KsNL",
    "outputId": "ca8710c3-8190-48f7-eb1f-c3a3fea2a314"
   },
   "outputs": [
    {
     "data": {
      "image/png": "[encoded data removed]",
      "text/plain": [
       "<Figure size 1008x504 with 1 Axes>"
      ]
     },
     "metadata": {
      "needs_background": "light"
     },
     "output_type": "display_data"
    }
   ],
   "source": [
    "pc_games.plot(x='user_score', y='total_sales', kind='scatter', grid=True, figsize=(14,7), alpha=0.5)\n",
    "plt.title('Соотношение отзывов игроков и продаж', size=14)\n",
    "plt.xlabel('Отзывы игроков')\n",
    "plt.ylabel('Продажи')\n",
    "plt.show()"
   ]
  },
  {
   "cell_type": "code",
   "execution_count": 60,
   "metadata": {
    "colab": {
     "base_uri": "https://localhost:8080/"
    },
    "id": "vDchxLsNMEdl",
    "outputId": "b59d7286-8106-4726-9707-f3aba942251d"
   },
   "outputs": [
    {
     "name": "stdout",
     "output_type": "stream",
     "text": [
      "Соотношение отзывов игроков и продаж: 0.0035962323378451056.\n"
     ]
    }
   ],
   "source": [
    "print('Соотношение отзывов игроков и продаж: {}.'.format(pc_games['user_score'].corr(pc_games['total_sales'])))"
   ]
  },
  {
   "cell_type": "markdown",
   "metadata": {
    "id": "i_azvdC29tw1"
   },
   "source": [
    "Соотносятся чуть меньше, чем никак. Но, справедливости ради, стоит заметить, что в диаграмме с отзывами критиков в правой части больше выбросов с большим количеством проданных копий игры. Видимо, за счет большого опыта критики иногда могут предсказать успех той или иной игры."
   ]
  },
  {
   "cell_type": "code",
   "execution_count": 61,
   "metadata": {
    "colab": {
     "base_uri": "https://localhost:8080/"
    },
    "id": "s0BcuNhdmAb2",
    "outputId": "f3cb386e-03ab-4347-94a4-af6331947456"
   },
   "outputs": [
    {
     "name": "stdout",
     "output_type": "stream",
     "text": [
      "Соотношение отзывов критиков и продаж PS4: -0.031957110204556376.\n"
     ]
    }
   ],
   "source": [
    "print('Соотношение отзывов критиков и продаж PS4: {}.'.format(ps4_games['user_score'].corr(ps4_games['total_sales'])))"
   ]
  },
  {
   "cell_type": "code",
   "execution_count": 62,
   "metadata": {
    "colab": {
     "base_uri": "https://localhost:8080/"
    },
    "id": "NCKFRUWpmI_N",
    "outputId": "6e661e65-8972-4176-eee5-ef6db7f0deab"
   },
   "outputs": [
    {
     "name": "stdout",
     "output_type": "stream",
     "text": [
      "Соотношение отзывов критиков и продаж Xbox One: -0.06892505328279414.\n"
     ]
    }
   ],
   "source": [
    "print('Соотношение отзывов критиков и продаж Xbox One: {}.'.format(xone_games['user_score'].corr(xone_games['total_sales'])))"
   ]
  },
  {
   "cell_type": "code",
   "execution_count": 63,
   "metadata": {
    "colab": {
     "base_uri": "https://localhost:8080/"
    },
    "id": "N3is2wWkmR0L",
    "outputId": "8a56a433-f408-41e6-df21-25dc380498d0"
   },
   "outputs": [
    {
     "name": "stdout",
     "output_type": "stream",
     "text": [
      "Соотношение отзывов критиков и продаж Nintendo 3DS: 0.22207843643390882.\n"
     ]
    }
   ],
   "source": [
    "print('Соотношение отзывов критиков и продаж Nintendo 3DS: {}.'.format(ds_games['user_score'].corr(ds_games['total_sales'])))"
   ]
  },
  {
   "cell_type": "markdown",
   "metadata": {
    "id": "fS4WzXfG-IEj"
   },
   "source": [
    "Теперь посмотрим, игры каких жанров пользуются наибольшей популярностью у игроков:"
   ]
  },
  {
   "cell_type": "code",
   "execution_count": 64,
   "metadata": {
    "colab": {
     "base_uri": "https://localhost:8080/",
     "height": 457
    },
    "id": "Keyb6B5DQvza",
    "outputId": "8c0b924f-638d-4cbd-8c09-f7b3624313ac"
   },
   "outputs": [
    {
     "data": {
      "text/html": [
       "<div>\n",
       "<style scoped>\n",
       "    .dataframe tbody tr th:only-of-type {\n",
       "        vertical-align: middle;\n",
       "    }\n",
       "\n",
       "    .dataframe tbody tr th {\n",
       "        vertical-align: top;\n",
       "    }\n",
       "\n",
       "    .dataframe thead th {\n",
       "        text-align: right;\n",
       "    }\n",
       "</style>\n",
       "<table border=\"1\" class=\"dataframe\">\n",
       "  <thead>\n",
       "    <tr style=\"text-align: right;\">\n",
       "      <th></th>\n",
       "      <th>total_sales</th>\n",
       "    </tr>\n",
       "    <tr>\n",
       "      <th>genre</th>\n",
       "      <th></th>\n",
       "    </tr>\n",
       "  </thead>\n",
       "  <tbody>\n",
       "    <tr>\n",
       "      <th>shooter</th>\n",
       "      <td>1.335469</td>\n",
       "    </tr>\n",
       "    <tr>\n",
       "      <th>sports</th>\n",
       "      <td>0.680000</td>\n",
       "    </tr>\n",
       "    <tr>\n",
       "      <th>platform</th>\n",
       "      <td>0.476053</td>\n",
       "    </tr>\n",
       "    <tr>\n",
       "      <th>fighting</th>\n",
       "      <td>0.470333</td>\n",
       "    </tr>\n",
       "    <tr>\n",
       "      <th>role-playing</th>\n",
       "      <td>0.459005</td>\n",
       "    </tr>\n",
       "    <tr>\n",
       "      <th>racing</th>\n",
       "      <td>0.398841</td>\n",
       "    </tr>\n",
       "    <tr>\n",
       "      <th>misc</th>\n",
       "      <td>0.332301</td>\n",
       "    </tr>\n",
       "    <tr>\n",
       "      <th>action</th>\n",
       "      <td>0.322068</td>\n",
       "    </tr>\n",
       "    <tr>\n",
       "      <th>simulation</th>\n",
       "      <td>0.298409</td>\n",
       "    </tr>\n",
       "    <tr>\n",
       "      <th>puzzle</th>\n",
       "      <td>0.157857</td>\n",
       "    </tr>\n",
       "    <tr>\n",
       "      <th>strategy</th>\n",
       "      <td>0.107027</td>\n",
       "    </tr>\n",
       "    <tr>\n",
       "      <th>adventure</th>\n",
       "      <td>0.094865</td>\n",
       "    </tr>\n",
       "  </tbody>\n",
       "</table>\n",
       "</div>"
      ],
      "text/plain": [
       "              total_sales\n",
       "genre                    \n",
       "shooter          1.335469\n",
       "sports           0.680000\n",
       "platform         0.476053\n",
       "fighting         0.470333\n",
       "role-playing     0.459005\n",
       "racing           0.398841\n",
       "misc             0.332301\n",
       "action           0.322068\n",
       "simulation       0.298409\n",
       "puzzle           0.157857\n",
       "strategy         0.107027\n",
       "adventure        0.094865"
      ]
     },
     "execution_count": 64,
     "metadata": {},
     "output_type": "execute_result"
    }
   ],
   "source": [
    "genre_sales = new_games.pivot_table(index = 'genre', values = ('total_sales'), aggfunc = 'mean')\n",
    "genre_sales.sort_values(by = 'total_sales', ascending = False)"
   ]
  },
  {
   "cell_type": "markdown",
   "metadata": {
    "id": "1yV7d-md-O3k"
   },
   "source": [
    "С большим отрывом лидируют игры жанров `shooter`/`sports`. На третьем месте спортивные платформеры, очень близко подобрались файтинги и ролевые игры. Видимо, людям нравится динамичный игровой процесс. Ну или что-то, чтобы просто отвлечься, или представить себя в роли другого человека(или не совсем человека, если мы про ролевые игры). \n",
    "\n",
    "Хуже всего дела обстоят у головоломок и стратегий - запрос на игры, требующие больших усилий и концентрации падает."
   ]
  },
  {
   "cell_type": "markdown",
   "metadata": {
    "id": "ELRuWZDk-lKj"
   },
   "source": [
    "Но это актуально для новых игр. Можно сравнить с глобальной картиной, чтобы понять, меняются ли тренды со временем:"
   ]
  },
  {
   "cell_type": "code",
   "execution_count": 65,
   "metadata": {
    "colab": {
     "base_uri": "https://localhost:8080/",
     "height": 457
    },
    "id": "2odyBwQNenrj",
    "outputId": "7c261036-ea87-4d87-cd61-2923a6180b6a"
   },
   "outputs": [
    {
     "data": {
      "text/html": [
       "<div>\n",
       "<style scoped>\n",
       "    .dataframe tbody tr th:only-of-type {\n",
       "        vertical-align: middle;\n",
       "    }\n",
       "\n",
       "    .dataframe tbody tr th {\n",
       "        vertical-align: top;\n",
       "    }\n",
       "\n",
       "    .dataframe thead th {\n",
       "        text-align: right;\n",
       "    }\n",
       "</style>\n",
       "<table border=\"1\" class=\"dataframe\">\n",
       "  <thead>\n",
       "    <tr style=\"text-align: right;\">\n",
       "      <th></th>\n",
       "      <th>total_sales</th>\n",
       "    </tr>\n",
       "    <tr>\n",
       "      <th>genre</th>\n",
       "      <th></th>\n",
       "    </tr>\n",
       "  </thead>\n",
       "  <tbody>\n",
       "    <tr>\n",
       "      <th>platform</th>\n",
       "      <td>0.940262</td>\n",
       "    </tr>\n",
       "    <tr>\n",
       "      <th>shooter</th>\n",
       "      <td>0.803519</td>\n",
       "    </tr>\n",
       "    <tr>\n",
       "      <th>role-playing</th>\n",
       "      <td>0.628683</td>\n",
       "    </tr>\n",
       "    <tr>\n",
       "      <th>racing</th>\n",
       "      <td>0.590122</td>\n",
       "    </tr>\n",
       "    <tr>\n",
       "      <th>sports</th>\n",
       "      <td>0.567940</td>\n",
       "    </tr>\n",
       "    <tr>\n",
       "      <th>fighting</th>\n",
       "      <td>0.528865</td>\n",
       "    </tr>\n",
       "    <tr>\n",
       "      <th>action</th>\n",
       "      <td>0.519057</td>\n",
       "    </tr>\n",
       "    <tr>\n",
       "      <th>misc</th>\n",
       "      <td>0.459204</td>\n",
       "    </tr>\n",
       "    <tr>\n",
       "      <th>simulation</th>\n",
       "      <td>0.452695</td>\n",
       "    </tr>\n",
       "    <tr>\n",
       "      <th>puzzle</th>\n",
       "      <td>0.421599</td>\n",
       "    </tr>\n",
       "    <tr>\n",
       "      <th>strategy</th>\n",
       "      <td>0.256419</td>\n",
       "    </tr>\n",
       "    <tr>\n",
       "      <th>adventure</th>\n",
       "      <td>0.180456</td>\n",
       "    </tr>\n",
       "  </tbody>\n",
       "</table>\n",
       "</div>"
      ],
      "text/plain": [
       "              total_sales\n",
       "genre                    \n",
       "platform         0.940262\n",
       "shooter          0.803519\n",
       "role-playing     0.628683\n",
       "racing           0.590122\n",
       "sports           0.567940\n",
       "fighting         0.528865\n",
       "action           0.519057\n",
       "misc             0.459204\n",
       "simulation       0.452695\n",
       "puzzle           0.421599\n",
       "strategy         0.256419\n",
       "adventure        0.180456"
      ]
     },
     "execution_count": 65,
     "metadata": {},
     "output_type": "execute_result"
    }
   ],
   "source": [
    "total_genre_sales = df.pivot_table(index = 'genre', values = ('total_sales'), aggfunc = 'mean')  # сделаем такую же таблицу, но за все время\n",
    "total_genre_sales.sort_values(by = 'total_sales', ascending = False)"
   ]
  },
  {
   "cell_type": "markdown",
   "metadata": {
    "id": "RVGW156--5RC"
   },
   "source": [
    "Я думаю, первое место платформеров обусловлено тем, что они были популярны на первых игровых приставках и РС. Вспомнить хотя бы Марио и Принца Персии. Но шутеры быстро все наверстали. Но стратегии и головоломки все же лучше не разрабатывать, очень нишевая вещь)) \n"
   ]
  },
  {
   "cell_type": "markdown",
   "metadata": {
    "id": "TakQfB-E--4a"
   },
   "source": [
    "Каких-то выбросов по жанровым продажам не наблюдается, все укладывается в нормальные рамки."
   ]
  },
  {
   "cell_type": "code",
   "execution_count": 66,
   "metadata": {
    "colab": {
     "base_uri": "https://localhost:8080/",
     "height": 299
    },
    "id": "WQsKobqoeQAU",
    "outputId": "81d4d853-32e7-44d8-9727-796c4bbfdb98"
   },
   "outputs": [
    {
     "data": {
      "text/plain": [
       "Text(0.5, 1.0, 'Продажи по жанрам')"
      ]
     },
     "execution_count": 66,
     "metadata": {},
     "output_type": "execute_result"
    },
    {
     "data": {
      "image/png": "[encoded data removed]",
      "text/plain": [
       "<Figure size 432x288 with 1 Axes>"
      ]
     },
     "metadata": {
      "needs_background": "light"
     },
     "output_type": "display_data"
    }
   ],
   "source": [
    "genre_sales.boxplot()\n",
    "plt.title('Продажи по жанрам')"
   ]
  },
  {
   "cell_type": "markdown",
   "metadata": {
    "id": "rjXoDBAQjW_k"
   },
   "source": [
    "###  Вывод"
   ]
  },
  {
   "cell_type": "markdown",
   "metadata": {
    "id": "nSCpesOZ_lgM"
   },
   "source": [
    "Цикл жизни игровой приставки составляет около 10 лет, новое поколение игровых платформ выходит примерно раз в 5 лет (кроме ПК). Наличие отзывов игроков и критиков слабо связано с объемами продаж. Популярность жанров с течением времени измеилась слабо. Самый прибыльный жанр в текущих реалиях это `shooter`. Людям нравится изничтожать кого-то."
   ]
  },
  {
   "cell_type": "markdown",
   "metadata": {
    "id": "_cN4ISmCjbWI"
   },
   "source": [
    "## Особенности региональных продаж"
   ]
  },
  {
   "cell_type": "markdown",
   "metadata": {
    "id": "DMairQ34AV4t"
   },
   "source": [
    "Теперь посмотрим, как на продажи влияет география.\n",
    "\n",
    "Ниже рейтинг по продажам в Северной Америке с сортировкой по платформам:"
   ]
  },
  {
   "cell_type": "code",
   "execution_count": 67,
   "metadata": {
    "colab": {
     "base_uri": "https://localhost:8080/",
     "height": 238
    },
    "id": "wWwhQFX0jk7c",
    "outputId": "f2310f53-fdce-499b-bd5f-1199de4bbee3"
   },
   "outputs": [
    {
     "data": {
      "text/html": [
       "<div>\n",
       "<style scoped>\n",
       "    .dataframe tbody tr th:only-of-type {\n",
       "        vertical-align: middle;\n",
       "    }\n",
       "\n",
       "    .dataframe tbody tr th {\n",
       "        vertical-align: top;\n",
       "    }\n",
       "\n",
       "    .dataframe thead th {\n",
       "        text-align: right;\n",
       "    }\n",
       "</style>\n",
       "<table border=\"1\" class=\"dataframe\">\n",
       "  <thead>\n",
       "    <tr style=\"text-align: right;\">\n",
       "      <th></th>\n",
       "      <th>na_sales</th>\n",
       "    </tr>\n",
       "    <tr>\n",
       "      <th>platform</th>\n",
       "      <th></th>\n",
       "    </tr>\n",
       "  </thead>\n",
       "  <tbody>\n",
       "    <tr>\n",
       "      <th>ps4</th>\n",
       "      <td>98.61</td>\n",
       "    </tr>\n",
       "    <tr>\n",
       "      <th>xone</th>\n",
       "      <td>81.27</td>\n",
       "    </tr>\n",
       "    <tr>\n",
       "      <th>x360</th>\n",
       "      <td>28.30</td>\n",
       "    </tr>\n",
       "    <tr>\n",
       "      <th>3ds</th>\n",
       "      <td>22.64</td>\n",
       "    </tr>\n",
       "    <tr>\n",
       "      <th>ps3</th>\n",
       "      <td>22.05</td>\n",
       "    </tr>\n",
       "  </tbody>\n",
       "</table>\n",
       "</div>"
      ],
      "text/plain": [
       "          na_sales\n",
       "platform          \n",
       "ps4          98.61\n",
       "xone         81.27\n",
       "x360         28.30\n",
       "3ds          22.64\n",
       "ps3          22.05"
      ]
     },
     "metadata": {},
     "output_type": "display_data"
    }
   ],
   "source": [
    "na_platforms = new_games.pivot_table(index = 'platform', values = 'na_sales', aggfunc = 'sum')\n",
    "display(na_platforms.sort_values(by = 'na_sales', ascending=False).head(5))\n"
   ]
  },
  {
   "cell_type": "code",
   "execution_count": 68,
   "metadata": {
    "colab": {
     "base_uri": "https://localhost:8080/",
     "height": 365
    },
    "id": "Zsv8ThzJAfFE",
    "outputId": "65a6d546-8694-4c88-88b9-94f99edac556"
   },
   "outputs": [
    {
     "data": {
      "image/png": "[encoded data removed]",
      "text/plain": [
       "<Figure size 576x360 with 1 Axes>"
      ]
     },
     "metadata": {
      "needs_background": "light"
     },
     "output_type": "display_data"
    }
   ],
   "source": [
    "na_platforms.sort_values(by = 'na_sales', ascending=False).head(5).plot(kind = 'bar', grid = True, figsize = (8, 5))\n",
    "plt.title('Продажи в Северной Америке по платформам', size=14)\n",
    "plt.ylabel('Продажи')\n",
    "plt.show()"
   ]
  },
  {
   "cell_type": "markdown",
   "metadata": {
    "id": "vNgvkftkBUF6"
   },
   "source": [
    "Топ-5 оккупирован приставками. В том числе, немало и мобильных геймеров - Nintendo 3DS на 4 месте. Но суммарные продажи с 3 по 5 место не дотягивают до 1 или 2 по отдельности.\n",
    "\n",
    "Посмотрим, в какие игры чаще всего играют:"
   ]
  },
  {
   "cell_type": "code",
   "execution_count": 69,
   "metadata": {
    "colab": {
     "base_uri": "https://localhost:8080/",
     "height": 238
    },
    "id": "r8xWLNTXnRds",
    "outputId": "50f1f114-2094-4719-a078-e54eecd99de6"
   },
   "outputs": [
    {
     "data": {
      "text/html": [
       "<div>\n",
       "<style scoped>\n",
       "    .dataframe tbody tr th:only-of-type {\n",
       "        vertical-align: middle;\n",
       "    }\n",
       "\n",
       "    .dataframe tbody tr th {\n",
       "        vertical-align: top;\n",
       "    }\n",
       "\n",
       "    .dataframe thead th {\n",
       "        text-align: right;\n",
       "    }\n",
       "</style>\n",
       "<table border=\"1\" class=\"dataframe\">\n",
       "  <thead>\n",
       "    <tr style=\"text-align: right;\">\n",
       "      <th></th>\n",
       "      <th>na_sales</th>\n",
       "    </tr>\n",
       "    <tr>\n",
       "      <th>genre</th>\n",
       "      <th></th>\n",
       "    </tr>\n",
       "  </thead>\n",
       "  <tbody>\n",
       "    <tr>\n",
       "      <th>shooter</th>\n",
       "      <td>79.02</td>\n",
       "    </tr>\n",
       "    <tr>\n",
       "      <th>action</th>\n",
       "      <td>72.53</td>\n",
       "    </tr>\n",
       "    <tr>\n",
       "      <th>sports</th>\n",
       "      <td>46.13</td>\n",
       "    </tr>\n",
       "    <tr>\n",
       "      <th>role-playing</th>\n",
       "      <td>33.47</td>\n",
       "    </tr>\n",
       "    <tr>\n",
       "      <th>misc</th>\n",
       "      <td>15.05</td>\n",
       "    </tr>\n",
       "  </tbody>\n",
       "</table>\n",
       "</div>"
      ],
      "text/plain": [
       "              na_sales\n",
       "genre                 \n",
       "shooter          79.02\n",
       "action           72.53\n",
       "sports           46.13\n",
       "role-playing     33.47\n",
       "misc             15.05"
      ]
     },
     "metadata": {},
     "output_type": "display_data"
    }
   ],
   "source": [
    "na_genres = new_games.pivot_table(index = 'genre', values = 'na_sales', aggfunc = 'sum')\n",
    "display(na_genres.sort_values(by = 'na_sales', ascending=False).head(5))\n"
   ]
  },
  {
   "cell_type": "code",
   "execution_count": 70,
   "metadata": {
    "colab": {
     "base_uri": "https://localhost:8080/",
     "height": 400
    },
    "id": "WL6RTqy95lfj",
    "outputId": "25461f80-a18f-4fe1-dc05-288a99bf43ca"
   },
   "outputs": [
    {
     "data": {
      "image/png": "[encoded data removed]",
      "text/plain": [
       "<Figure size 576x360 with 1 Axes>"
      ]
     },
     "metadata": {
      "needs_background": "light"
     },
     "output_type": "display_data"
    }
   ],
   "source": [
    "na_genres.sort_values(by = 'na_sales', ascending=False).head(5).plot(kind = 'bar', grid = True, figsize = (8, 5))\n",
    "plt.title('Продажи в Северной Америке по жанрам', size=14)\n",
    "plt.ylabel('Продажи')\n",
    "plt.show()"
   ]
  },
  {
   "cell_type": "markdown",
   "metadata": {
    "id": "tnf2nADXBte6"
   },
   "source": [
    "Полное совпадение с глобальным рейтингом.\n",
    "\n",
    "Смотрим на геймеров из Европы:"
   ]
  },
  {
   "cell_type": "code",
   "execution_count": 71,
   "metadata": {
    "colab": {
     "base_uri": "https://localhost:8080/",
     "height": 238
    },
    "id": "rYlbNQ4fnlmK",
    "outputId": "e8961ea8-d1ba-4c64-843b-77272ed251ee"
   },
   "outputs": [
    {
     "data": {
      "text/html": [
       "<div>\n",
       "<style scoped>\n",
       "    .dataframe tbody tr th:only-of-type {\n",
       "        vertical-align: middle;\n",
       "    }\n",
       "\n",
       "    .dataframe tbody tr th {\n",
       "        vertical-align: top;\n",
       "    }\n",
       "\n",
       "    .dataframe thead th {\n",
       "        text-align: right;\n",
       "    }\n",
       "</style>\n",
       "<table border=\"1\" class=\"dataframe\">\n",
       "  <thead>\n",
       "    <tr style=\"text-align: right;\">\n",
       "      <th></th>\n",
       "      <th>eu_sales</th>\n",
       "    </tr>\n",
       "    <tr>\n",
       "      <th>platform</th>\n",
       "      <th></th>\n",
       "    </tr>\n",
       "  </thead>\n",
       "  <tbody>\n",
       "    <tr>\n",
       "      <th>ps4</th>\n",
       "      <td>130.04</td>\n",
       "    </tr>\n",
       "    <tr>\n",
       "      <th>xone</th>\n",
       "      <td>46.25</td>\n",
       "    </tr>\n",
       "    <tr>\n",
       "      <th>ps3</th>\n",
       "      <td>25.54</td>\n",
       "    </tr>\n",
       "    <tr>\n",
       "      <th>pc</th>\n",
       "      <td>17.97</td>\n",
       "    </tr>\n",
       "    <tr>\n",
       "      <th>3ds</th>\n",
       "      <td>16.12</td>\n",
       "    </tr>\n",
       "  </tbody>\n",
       "</table>\n",
       "</div>"
      ],
      "text/plain": [
       "          eu_sales\n",
       "platform          \n",
       "ps4         130.04\n",
       "xone         46.25\n",
       "ps3          25.54\n",
       "pc           17.97\n",
       "3ds          16.12"
      ]
     },
     "metadata": {},
     "output_type": "display_data"
    }
   ],
   "source": [
    "eu_platforms = new_games.pivot_table(index = 'platform', values = 'eu_sales', aggfunc = 'sum')\n",
    "display(eu_platforms.sort_values(by = 'eu_sales', ascending=False).head(5))\n"
   ]
  },
  {
   "cell_type": "code",
   "execution_count": 72,
   "metadata": {
    "colab": {
     "base_uri": "https://localhost:8080/",
     "height": 365
    },
    "id": "BC4t-wo0BVKX",
    "outputId": "a2639c6c-fcec-4483-b19e-0849710a82b0"
   },
   "outputs": [
    {
     "data": {
      "image/png": "[encoded data removed]",
      "text/plain": [
       "<Figure size 576x360 with 1 Axes>"
      ]
     },
     "metadata": {
      "needs_background": "light"
     },
     "output_type": "display_data"
    }
   ],
   "source": [
    "eu_platforms.sort_values(by = 'eu_sales', ascending=False).head(5).plot(kind = 'bar', grid = True, figsize = (8, 5))\n",
    "plt.title('Продажи в Европе по платформам', size=14)\n",
    "plt.ylabel('Продажи')\n",
    "plt.show()"
   ]
  },
  {
   "cell_type": "markdown",
   "metadata": {
    "id": "z4hxf6vuCTBh"
   },
   "source": [
    "С огромным перевесом лидирует PS4 - больше, чем все остальные участники топ-5 вместе взятые! Ближе везти из Японии? Агрессивный маркетинг? Непонятное. \n",
    "\n",
    "Что по жанрам?"
   ]
  },
  {
   "cell_type": "code",
   "execution_count": 73,
   "metadata": {
    "colab": {
     "base_uri": "https://localhost:8080/",
     "height": 238
    },
    "id": "inqhlQwopNLh",
    "outputId": "52ed10f6-f1a0-45eb-8d8e-9a52a2413b6a"
   },
   "outputs": [
    {
     "data": {
      "text/html": [
       "<div>\n",
       "<style scoped>\n",
       "    .dataframe tbody tr th:only-of-type {\n",
       "        vertical-align: middle;\n",
       "    }\n",
       "\n",
       "    .dataframe tbody tr th {\n",
       "        vertical-align: top;\n",
       "    }\n",
       "\n",
       "    .dataframe thead th {\n",
       "        text-align: right;\n",
       "    }\n",
       "</style>\n",
       "<table border=\"1\" class=\"dataframe\">\n",
       "  <thead>\n",
       "    <tr style=\"text-align: right;\">\n",
       "      <th></th>\n",
       "      <th>eu_sales</th>\n",
       "    </tr>\n",
       "    <tr>\n",
       "      <th>genre</th>\n",
       "      <th></th>\n",
       "    </tr>\n",
       "  </thead>\n",
       "  <tbody>\n",
       "    <tr>\n",
       "      <th>action</th>\n",
       "      <td>74.68</td>\n",
       "    </tr>\n",
       "    <tr>\n",
       "      <th>shooter</th>\n",
       "      <td>65.52</td>\n",
       "    </tr>\n",
       "    <tr>\n",
       "      <th>sports</th>\n",
       "      <td>45.73</td>\n",
       "    </tr>\n",
       "    <tr>\n",
       "      <th>role-playing</th>\n",
       "      <td>28.17</td>\n",
       "    </tr>\n",
       "    <tr>\n",
       "      <th>racing</th>\n",
       "      <td>14.13</td>\n",
       "    </tr>\n",
       "  </tbody>\n",
       "</table>\n",
       "</div>"
      ],
      "text/plain": [
       "              eu_sales\n",
       "genre                 \n",
       "action           74.68\n",
       "shooter          65.52\n",
       "sports           45.73\n",
       "role-playing     28.17\n",
       "racing           14.13"
      ]
     },
     "metadata": {},
     "output_type": "display_data"
    }
   ],
   "source": [
    "eu_genres = new_games.pivot_table(index = 'genre', values = 'eu_sales', aggfunc = 'sum')\n",
    "display(eu_genres.sort_values(by = 'eu_sales', ascending=False).head(5))\n"
   ]
  },
  {
   "cell_type": "code",
   "execution_count": 74,
   "metadata": {
    "colab": {
     "base_uri": "https://localhost:8080/",
     "height": 400
    },
    "id": "XorjZoTIBgta",
    "outputId": "e9c2172c-4ed1-4369-eff2-f3690cea535e"
   },
   "outputs": [
    {
     "data": {
      "image/png": "[encoded data removed]",
      "text/plain": [
       "<Figure size 576x360 with 1 Axes>"
      ]
     },
     "metadata": {
      "needs_background": "light"
     },
     "output_type": "display_data"
    }
   ],
   "source": [
    "eu_genres.sort_values(by = 'eu_sales', ascending=False).head(5).plot(kind = 'bar', grid = True, figsize = (8, 5))\n",
    "plt.title('Продажи в Европе по жанрам', size=14)\n",
    "plt.ylabel('Продажи')\n",
    "plt.show()"
   ]
  },
  {
   "cell_type": "markdown",
   "metadata": {
    "id": "ezx_U7ANCjQK"
   },
   "source": [
    "Неожиданно в топ-5 врываются гоночные симуляторы. Вероятно, сказывается богатая история автоспорта и высокая концентрация гоночных трасс.\n",
    "\n",
    "Удивят ли нас геймеры из Японии?"
   ]
  },
  {
   "cell_type": "code",
   "execution_count": 75,
   "metadata": {
    "colab": {
     "base_uri": "https://localhost:8080/",
     "height": 238
    },
    "id": "_5NPUZoa5DZo",
    "outputId": "90f845fd-3ca1-429a-e6a6-26b418593ba8"
   },
   "outputs": [
    {
     "data": {
      "text/html": [
       "<div>\n",
       "<style scoped>\n",
       "    .dataframe tbody tr th:only-of-type {\n",
       "        vertical-align: middle;\n",
       "    }\n",
       "\n",
       "    .dataframe tbody tr th {\n",
       "        vertical-align: top;\n",
       "    }\n",
       "\n",
       "    .dataframe thead th {\n",
       "        text-align: right;\n",
       "    }\n",
       "</style>\n",
       "<table border=\"1\" class=\"dataframe\">\n",
       "  <thead>\n",
       "    <tr style=\"text-align: right;\">\n",
       "      <th></th>\n",
       "      <th>jp_sales</th>\n",
       "    </tr>\n",
       "    <tr>\n",
       "      <th>platform</th>\n",
       "      <th></th>\n",
       "    </tr>\n",
       "  </thead>\n",
       "  <tbody>\n",
       "    <tr>\n",
       "      <th>3ds</th>\n",
       "      <td>44.24</td>\n",
       "    </tr>\n",
       "    <tr>\n",
       "      <th>ps4</th>\n",
       "      <td>15.02</td>\n",
       "    </tr>\n",
       "    <tr>\n",
       "      <th>psv</th>\n",
       "      <td>14.54</td>\n",
       "    </tr>\n",
       "    <tr>\n",
       "      <th>ps3</th>\n",
       "      <td>11.22</td>\n",
       "    </tr>\n",
       "    <tr>\n",
       "      <th>wiiu</th>\n",
       "      <td>7.31</td>\n",
       "    </tr>\n",
       "  </tbody>\n",
       "</table>\n",
       "</div>"
      ],
      "text/plain": [
       "          jp_sales\n",
       "platform          \n",
       "3ds          44.24\n",
       "ps4          15.02\n",
       "psv          14.54\n",
       "ps3          11.22\n",
       "wiiu          7.31"
      ]
     },
     "metadata": {},
     "output_type": "display_data"
    }
   ],
   "source": [
    "jp_platforms = new_games.pivot_table(index = 'platform', values = 'jp_sales', aggfunc = 'sum')\n",
    "display(jp_platforms.sort_values(by = 'jp_sales', ascending=False).head(5))\n"
   ]
  },
  {
   "cell_type": "code",
   "execution_count": 76,
   "metadata": {
    "colab": {
     "base_uri": "https://localhost:8080/",
     "height": 361
    },
    "id": "s-VScgP5G9zW",
    "outputId": "0cf578e5-121c-4f4b-c53b-58607a9fee14"
   },
   "outputs": [
    {
     "data": {
      "image/png": "[encoded data removed]",
      "text/plain": [
       "<Figure size 576x360 with 1 Axes>"
      ]
     },
     "metadata": {
      "needs_background": "light"
     },
     "output_type": "display_data"
    }
   ],
   "source": [
    "jp_platforms.sort_values(by = 'jp_sales', ascending=False).head(5).plot(kind = 'bar', grid = True, figsize = (8, 5))\n",
    "plt.title('Продажи в Японии по платформам', size=14)\n",
    "plt.ylabel('Продажи')\n",
    "plt.show()"
   ]
  },
  {
   "cell_type": "markdown",
   "metadata": {
    "id": "EED5QyM0CwY8"
   },
   "source": [
    "Удивят. Три позиции из пяти это мобильные игровые платформы. Причем, опять же, продажи на Nintendo 3DS практически равны сумме продаж на остальных платформах."
   ]
  },
  {
   "cell_type": "code",
   "execution_count": 77,
   "metadata": {
    "colab": {
     "base_uri": "https://localhost:8080/",
     "height": 238
    },
    "id": "1kvLVQGXHJVF",
    "outputId": "364ff2a7-d676-4def-f465-39c0dace3e94"
   },
   "outputs": [
    {
     "data": {
      "text/html": [
       "<div>\n",
       "<style scoped>\n",
       "    .dataframe tbody tr th:only-of-type {\n",
       "        vertical-align: middle;\n",
       "    }\n",
       "\n",
       "    .dataframe tbody tr th {\n",
       "        vertical-align: top;\n",
       "    }\n",
       "\n",
       "    .dataframe thead th {\n",
       "        text-align: right;\n",
       "    }\n",
       "</style>\n",
       "<table border=\"1\" class=\"dataframe\">\n",
       "  <thead>\n",
       "    <tr style=\"text-align: right;\">\n",
       "      <th></th>\n",
       "      <th>jp_sales</th>\n",
       "    </tr>\n",
       "    <tr>\n",
       "      <th>genre</th>\n",
       "      <th></th>\n",
       "    </tr>\n",
       "  </thead>\n",
       "  <tbody>\n",
       "    <tr>\n",
       "      <th>role-playing</th>\n",
       "      <td>31.16</td>\n",
       "    </tr>\n",
       "    <tr>\n",
       "      <th>action</th>\n",
       "      <td>29.58</td>\n",
       "    </tr>\n",
       "    <tr>\n",
       "      <th>fighting</th>\n",
       "      <td>6.37</td>\n",
       "    </tr>\n",
       "    <tr>\n",
       "      <th>misc</th>\n",
       "      <td>5.61</td>\n",
       "    </tr>\n",
       "    <tr>\n",
       "      <th>shooter</th>\n",
       "      <td>4.87</td>\n",
       "    </tr>\n",
       "  </tbody>\n",
       "</table>\n",
       "</div>"
      ],
      "text/plain": [
       "              jp_sales\n",
       "genre                 \n",
       "role-playing     31.16\n",
       "action           29.58\n",
       "fighting          6.37\n",
       "misc              5.61\n",
       "shooter           4.87"
      ]
     },
     "metadata": {},
     "output_type": "display_data"
    }
   ],
   "source": [
    "jp_genres = new_games.pivot_table(index = 'genre', values = 'jp_sales', aggfunc = 'sum')\n",
    "display(jp_genres.sort_values(by = 'jp_sales', ascending=False).head(5))\n"
   ]
  },
  {
   "cell_type": "code",
   "execution_count": 78,
   "metadata": {
    "colab": {
     "base_uri": "https://localhost:8080/",
     "height": 400
    },
    "id": "PPZUtc-DHSUg",
    "outputId": "0d258f25-9768-4676-b2e6-2b6897b8ffde"
   },
   "outputs": [
    {
     "data": {
      "image/png": "[encoded data removed]",
      "text/plain": [
       "<Figure size 576x360 with 1 Axes>"
      ]
     },
     "metadata": {
      "needs_background": "light"
     },
     "output_type": "display_data"
    }
   ],
   "source": [
    "jp_genres.sort_values(by = 'jp_sales', ascending=False).head(5).plot(kind = 'bar', grid = True, figsize = (8, 5))\n",
    "plt.title('Продажи в Японии по жанрам', size=14)\n",
    "plt.ylabel('Продажи')\n",
    "plt.show()"
   ]
  },
  {
   "cell_type": "markdown",
   "metadata": {
    "id": "7voJoC2kDQIX"
   },
   "source": [
    "И по жанрам тоже удивят - первое место по популярности занимают ролевые игры! Также в тройку просочились файтинги."
   ]
  },
  {
   "cell_type": "markdown",
   "metadata": {
    "id": "ewbaalRoDWUf"
   },
   "source": [
    "Посмотрим на продажи игр в зависимоти от рейтинга ESRB:"
   ]
  },
  {
   "cell_type": "code",
   "execution_count": 79,
   "metadata": {
    "colab": {
     "base_uri": "https://localhost:8080/",
     "height": 238
    },
    "id": "JS6xdJs95Euq",
    "outputId": "4c6f3457-73f4-49c2-a419-064bc2b758b0"
   },
   "outputs": [
    {
     "data": {
      "text/html": [
       "<div>\n",
       "<style scoped>\n",
       "    .dataframe tbody tr th:only-of-type {\n",
       "        vertical-align: middle;\n",
       "    }\n",
       "\n",
       "    .dataframe tbody tr th {\n",
       "        vertical-align: top;\n",
       "    }\n",
       "\n",
       "    .dataframe thead th {\n",
       "        text-align: right;\n",
       "    }\n",
       "</style>\n",
       "<table border=\"1\" class=\"dataframe\">\n",
       "  <thead>\n",
       "    <tr style=\"text-align: right;\">\n",
       "      <th></th>\n",
       "      <th>eu_sales</th>\n",
       "      <th>jp_sales</th>\n",
       "      <th>na_sales</th>\n",
       "    </tr>\n",
       "    <tr>\n",
       "      <th>rating</th>\n",
       "      <th></th>\n",
       "      <th></th>\n",
       "      <th></th>\n",
       "    </tr>\n",
       "  </thead>\n",
       "  <tbody>\n",
       "    <tr>\n",
       "      <th>e</th>\n",
       "      <td>58.06</td>\n",
       "      <td>8.94</td>\n",
       "      <td>50.74</td>\n",
       "    </tr>\n",
       "    <tr>\n",
       "      <th>e10+</th>\n",
       "      <td>26.16</td>\n",
       "      <td>4.46</td>\n",
       "      <td>33.23</td>\n",
       "    </tr>\n",
       "    <tr>\n",
       "      <th>m</th>\n",
       "      <td>93.44</td>\n",
       "      <td>8.01</td>\n",
       "      <td>96.42</td>\n",
       "    </tr>\n",
       "    <tr>\n",
       "      <th>n/a</th>\n",
       "      <td>58.95</td>\n",
       "      <td>56.90</td>\n",
       "      <td>64.72</td>\n",
       "    </tr>\n",
       "    <tr>\n",
       "      <th>t</th>\n",
       "      <td>34.07</td>\n",
       "      <td>14.78</td>\n",
       "      <td>38.95</td>\n",
       "    </tr>\n",
       "  </tbody>\n",
       "</table>\n",
       "</div>"
      ],
      "text/plain": [
       "        eu_sales  jp_sales  na_sales\n",
       "rating                              \n",
       "e          58.06      8.94     50.74\n",
       "e10+       26.16      4.46     33.23\n",
       "m          93.44      8.01     96.42\n",
       "n/a        58.95     56.90     64.72\n",
       "t          34.07     14.78     38.95"
      ]
     },
     "execution_count": 79,
     "metadata": {},
     "output_type": "execute_result"
    }
   ],
   "source": [
    "total_rating = new_games.pivot_table(index = 'rating', values = ('na_sales', 'eu_sales', 'jp_sales'), aggfunc = 'sum')\n",
    "total_rating"
   ]
  },
  {
   "cell_type": "markdown",
   "metadata": {
    "id": "mtg4PyfmDol_"
   },
   "source": [
    "Посмотрим на продажи игр с присвоенным рейтингом:"
   ]
  },
  {
   "cell_type": "code",
   "execution_count": 80,
   "metadata": {
    "colab": {
     "base_uri": "https://localhost:8080/",
     "height": 143
    },
    "id": "aCKMBidKJJ5Q",
    "outputId": "95d54b31-d999-406d-c64e-9e423806be24"
   },
   "outputs": [
    {
     "data": {
      "text/html": [
       "<div>\n",
       "<style scoped>\n",
       "    .dataframe tbody tr th:only-of-type {\n",
       "        vertical-align: middle;\n",
       "    }\n",
       "\n",
       "    .dataframe tbody tr th {\n",
       "        vertical-align: top;\n",
       "    }\n",
       "\n",
       "    .dataframe thead th {\n",
       "        text-align: right;\n",
       "    }\n",
       "</style>\n",
       "<table border=\"1\" class=\"dataframe\">\n",
       "  <thead>\n",
       "    <tr style=\"text-align: right;\">\n",
       "      <th></th>\n",
       "      <th>index</th>\n",
       "      <th>rated_sales</th>\n",
       "    </tr>\n",
       "  </thead>\n",
       "  <tbody>\n",
       "    <tr>\n",
       "      <th>0</th>\n",
       "      <td>eu_sales</td>\n",
       "      <td>211.73</td>\n",
       "    </tr>\n",
       "    <tr>\n",
       "      <th>1</th>\n",
       "      <td>na_sales</td>\n",
       "      <td>219.34</td>\n",
       "    </tr>\n",
       "    <tr>\n",
       "      <th>2</th>\n",
       "      <td>jp_sales</td>\n",
       "      <td>36.19</td>\n",
       "    </tr>\n",
       "  </tbody>\n",
       "</table>\n",
       "</div>"
      ],
      "text/plain": [
       "      index  rated_sales\n",
       "0  eu_sales       211.73\n",
       "1  na_sales       219.34\n",
       "2  jp_sales        36.19"
      ]
     },
     "execution_count": 80,
     "metadata": {},
     "output_type": "execute_result"
    }
   ],
   "source": [
    "temp = total_rating.query('rating!=\"n/a\"')[['eu_sales', 'na_sales', 'jp_sales']].sum()  # тиблица чисто в технических целях\n",
    "temp_sales = temp.to_frame(name='rated_sales').reset_index()\n",
    "temp_sales"
   ]
  },
  {
   "cell_type": "markdown",
   "metadata": {
    "id": "tcZ76j9YDts7"
   },
   "source": [
    "Впечатляет, но сколько игр без рейтинга было продано?"
   ]
  },
  {
   "cell_type": "code",
   "execution_count": 81,
   "metadata": {
    "id": "59t62hL-NJ2u"
   },
   "outputs": [],
   "source": [
    "eu = total_rating.query('rating==\"n/a\"')['eu_sales'].sum()  # суммируем безрейтинговые продажи"
   ]
  },
  {
   "cell_type": "code",
   "execution_count": 82,
   "metadata": {
    "id": "JYeDbkiFqS2n"
   },
   "outputs": [],
   "source": [
    "na = total_rating.query('rating==\"n/a\"')['na_sales'].sum()  # суммируем безрейтинговые продажи\n"
   ]
  },
  {
   "cell_type": "code",
   "execution_count": 83,
   "metadata": {
    "id": "PXtXLEpyqcDx"
   },
   "outputs": [],
   "source": [
    "jp = total_rating.query('rating==\"n/a\"')['jp_sales'].sum()  # суммируем безрейтинговые продажи\n"
   ]
  },
  {
   "cell_type": "code",
   "execution_count": 84,
   "metadata": {
    "id": "7Ghc1tc6spYA"
   },
   "outputs": [],
   "source": [
    "nonrated = [eu, na, jp]  # сделаем список"
   ]
  },
  {
   "cell_type": "markdown",
   "metadata": {
    "id": "R7CpKfkcECAB"
   },
   "source": [
    "Мы видим, что игры без рейтинга лучше продаются только в Японии. Но я думаю, что это связано с тем, что ESRB это американское рейтинговое агентство, и игры для американского/европейского рынков разрабатываются плюс-минус одними и теми же студиями, и рейтинг часто получают, чтобы продвинуть продажи в США, а в Европе он идет как сопутствующий фактор.\n",
    "\n",
    "Япония же, как мы видели, весьма специфический рынок, и американские рейтинги им не особо нужны, под мобильные платформы разрабатывают игры в основном местные студии."
   ]
  },
  {
   "cell_type": "code",
   "execution_count": 85,
   "metadata": {
    "colab": {
     "base_uri": "https://localhost:8080/",
     "height": 143
    },
    "id": "phJLK4XmrpKE",
    "outputId": "860dcdab-2213-435d-a0ff-c96bd0b3be68"
   },
   "outputs": [
    {
     "data": {
      "text/html": [
       "<div>\n",
       "<style scoped>\n",
       "    .dataframe tbody tr th:only-of-type {\n",
       "        vertical-align: middle;\n",
       "    }\n",
       "\n",
       "    .dataframe tbody tr th {\n",
       "        vertical-align: top;\n",
       "    }\n",
       "\n",
       "    .dataframe thead th {\n",
       "        text-align: right;\n",
       "    }\n",
       "</style>\n",
       "<table border=\"1\" class=\"dataframe\">\n",
       "  <thead>\n",
       "    <tr style=\"text-align: right;\">\n",
       "      <th></th>\n",
       "      <th>index</th>\n",
       "      <th>rated_sales</th>\n",
       "      <th>non_rated_sales</th>\n",
       "    </tr>\n",
       "  </thead>\n",
       "  <tbody>\n",
       "    <tr>\n",
       "      <th>0</th>\n",
       "      <td>eu_sales</td>\n",
       "      <td>211.73</td>\n",
       "      <td>58.95</td>\n",
       "    </tr>\n",
       "    <tr>\n",
       "      <th>1</th>\n",
       "      <td>na_sales</td>\n",
       "      <td>219.34</td>\n",
       "      <td>64.72</td>\n",
       "    </tr>\n",
       "    <tr>\n",
       "      <th>2</th>\n",
       "      <td>jp_sales</td>\n",
       "      <td>36.19</td>\n",
       "      <td>56.90</td>\n",
       "    </tr>\n",
       "  </tbody>\n",
       "</table>\n",
       "</div>"
      ],
      "text/plain": [
       "      index  rated_sales  non_rated_sales\n",
       "0  eu_sales       211.73            58.95\n",
       "1  na_sales       219.34            64.72\n",
       "2  jp_sales        36.19            56.90"
      ]
     },
     "execution_count": 85,
     "metadata": {},
     "output_type": "execute_result"
    }
   ],
   "source": [
    "temp_sales['non_rated_sales'] = nonrated\n",
    "temp_sales"
   ]
  },
  {
   "cell_type": "markdown",
   "metadata": {
    "id": "TqqpkAheEpOA"
   },
   "source": [
    "Да, корреляция заметная, но я считаю, что она обсулавливается вышесказанными причинами."
   ]
  },
  {
   "cell_type": "code",
   "execution_count": 86,
   "metadata": {
    "colab": {
     "base_uri": "https://localhost:8080/"
    },
    "id": "Pq-Fw0hcSkna",
    "outputId": "0057bcfe-38eb-4805-ba6e-7b5ce2114b65"
   },
   "outputs": [
    {
     "data": {
      "text/plain": [
       "0.728335706637137"
      ]
     },
     "execution_count": 86,
     "metadata": {},
     "output_type": "execute_result"
    }
   ],
   "source": [
    "temp_sales['rated_sales'].corr(temp_sales['non_rated_sales'])"
   ]
  },
  {
   "cell_type": "markdown",
   "metadata": {
    "id": "aiKkg8LhWDaM"
   },
   "source": [
    "### Вывод"
   ]
  },
  {
   "cell_type": "markdown",
   "metadata": {
    "id": "rtLAL-wrEwue"
   },
   "source": [
    "Американский и европейский рынки во многом похожи - доминируют приставки, только в Европе на 4 месте расположился РС. Много студий и сильная компьютеризация? Сильно выделяется Япония - популярны мобильные платформы. \n",
    "\n",
    "Также в Европе и Америке люят играть в штуеры, спортивные игры и экшены. В Японии уверенно лидируют ролевые игры, экшены и файтинги.\n",
    "\n",
    "Рейтинг ESRB в Японии не имеет значения, вероятно, в силу географии. В других странах продажи с ним выше."
   ]
  },
  {
   "cell_type": "markdown",
   "metadata": {
    "id": "834N6Q1GWQ9n"
   },
   "source": [
    "## Проверка гипотез"
   ]
  },
  {
   "cell_type": "markdown",
   "metadata": {
    "id": "Z2bzU32sFvs8"
   },
   "source": [
    "Итак, проверим гипотезы:"
   ]
  },
  {
   "cell_type": "markdown",
   "metadata": {
    "id": "vJY2giNqWT5t"
   },
   "source": [
    "Н0 - Средние пользовательские рейтинги платформ Xbox One и PC равны\n",
    "\n",
    "Н1 - Средние пользовательские рейтинги платформ Xbox One и PC не равны"
   ]
  },
  {
   "cell_type": "code",
   "execution_count": 87,
   "metadata": {
    "id": "mbTAbEKTatLA"
   },
   "outputs": [],
   "source": [
    "from scipy import stats as st  # импорт библиотеки"
   ]
  },
  {
   "cell_type": "markdown",
   "metadata": {
    "id": "6rq0F6DwF6tb"
   },
   "source": [
    "Формируем материал для анализа:"
   ]
  },
  {
   "cell_type": "code",
   "execution_count": 88,
   "metadata": {
    "id": "YmSDpThdWHNa"
   },
   "outputs": [],
   "source": [
    "xone = new_games.query('platform == \"xone\"')\n",
    "xone_rate = xone['user_score'].dropna()\n"
   ]
  },
  {
   "cell_type": "code",
   "execution_count": 89,
   "metadata": {
    "id": "7djynkeHaHEr"
   },
   "outputs": [],
   "source": [
    "pc = new_games.query('platform == \"pc\"')\n",
    "pc_rate = pc['user_score'].dropna()"
   ]
  },
  {
   "cell_type": "code",
   "execution_count": 90,
   "metadata": {
    "colab": {
     "base_uri": "https://localhost:8080/"
    },
    "id": "6aC8SV7wawr-",
    "outputId": "70b6f94e-f309-456c-9e6a-f51c84b063f8"
   },
   "outputs": [
    {
     "name": "stdout",
     "output_type": "stream",
     "text": [
      "p-значение:  0.10450507919348415\n",
      "Не получилось отвергнуть нулевую гипотезу\n"
     ]
    }
   ],
   "source": [
    "alpha = .05\n",
    "results = st.ttest_ind(xone_rate, pc_rate)\n",
    "\n",
    "print('p-значение: ', results.pvalue)\n",
    "\n",
    "if results.pvalue < alpha:\n",
    "    print(\"Отвергаем нулевую гипотезу\")\n",
    "else:\n",
    "    print(\"Не получилось отвергнуть нулевую гипотезу\") "
   ]
  },
  {
   "cell_type": "markdown",
   "metadata": {
    "id": "dbwrVq3tGFDO"
   },
   "source": [
    "Оказывается, да, рейтинги различаются незначительно. Может быть, приставочники тоже люди, надо будет присмотреться=)"
   ]
  },
  {
   "cell_type": "code",
   "execution_count": 91,
   "metadata": {
    "colab": {
     "base_uri": "https://localhost:8080/"
    },
    "id": "KssUlwm6cFqP",
    "outputId": "67857e4b-66c6-4173-fbc5-fe7bcff11389"
   },
   "outputs": [
    {
     "name": "stdout",
     "output_type": "stream",
     "text": [
      "Средний пользовательский рейтинг на X-box One: 6.594545454545456\n"
     ]
    }
   ],
   "source": [
    "print(f'Средний пользовательский рейтинг на X-box One: {xone_rate.mean()}')\n",
    "\n"
   ]
  },
  {
   "cell_type": "code",
   "execution_count": 92,
   "metadata": {
    "colab": {
     "base_uri": "https://localhost:8080/"
    },
    "id": "UAJPFLN4chbc",
    "outputId": "d2c546ae-b7be-4e96-c4dd-5af97aa890b9"
   },
   "outputs": [
    {
     "name": "stdout",
     "output_type": "stream",
     "text": [
      "Средний пользовательский рейтинг на PC: 6.298360655737705\n"
     ]
    }
   ],
   "source": [
    "print(f'Средний пользовательский рейтинг на PC: {pc_rate.mean()}')"
   ]
  },
  {
   "cell_type": "markdown",
   "metadata": {
    "id": "vSnvRYQyGQtA"
   },
   "source": [
    "Теперь проверим гипотезы по жанровым предпочтениям:"
   ]
  },
  {
   "cell_type": "markdown",
   "metadata": {
    "id": "InrFzQwTfYcQ"
   },
   "source": [
    "Н0 - Средние пользовательские рейтинги игр жанров Action и Sports равные\n",
    "\n",
    "Н1 - Средние пользовательские рейтинги игр жанров Action и Sports не равные"
   ]
  },
  {
   "cell_type": "markdown",
   "metadata": {
    "id": "AW5r0FDvGYCE"
   },
   "source": [
    "Формируем материал для анализа:"
   ]
  },
  {
   "cell_type": "code",
   "execution_count": 93,
   "metadata": {
    "id": "Vmw5XUK2f5T2"
   },
   "outputs": [],
   "source": [
    "action = new_games.query('genre == \"action\"')\n",
    "action_rate = action['user_score'].dropna()"
   ]
  },
  {
   "cell_type": "code",
   "execution_count": 94,
   "metadata": {
    "id": "SBkFDvf7vKn8"
   },
   "outputs": [],
   "source": [
    "sports = new_games.query('genre == \"sports\"')\n",
    "sports_rate = sports['user_score'].dropna()"
   ]
  },
  {
   "cell_type": "code",
   "execution_count": 95,
   "metadata": {
    "colab": {
     "base_uri": "https://localhost:8080/"
    },
    "id": "DRi2JM-RvVtp",
    "outputId": "026fdbb7-9af7-4932-c21d-815ce55ce6bd"
   },
   "outputs": [
    {
     "name": "stdout",
     "output_type": "stream",
     "text": [
      "p-значение:  2.8711147985105864e-19\n",
      "Отвергаем нулевую гипотезу\n"
     ]
    }
   ],
   "source": [
    "results = st.ttest_ind(action_rate, sports_rate)\n",
    "\n",
    "print('p-значение: ', results.pvalue)\n",
    "\n",
    "if results.pvalue < alpha:\n",
    "    print(\"Отвергаем нулевую гипотезу\")\n",
    "else:\n",
    "    print(\"Не получилось отвергнуть нулевую гипотезу\") "
   ]
  },
  {
   "cell_type": "markdown",
   "metadata": {
    "id": "LWfoepBEGeYj"
   },
   "source": [
    "А вот рейтинги по жанрам отличаются - геймеры чаще недовольны спортивными симуляторами. "
   ]
  },
  {
   "cell_type": "code",
   "execution_count": 96,
   "metadata": {
    "colab": {
     "base_uri": "https://localhost:8080/"
    },
    "id": "Qgcw_xyNvdhx",
    "outputId": "e091c065-5b7a-4773-abc8-41606ef5388a"
   },
   "outputs": [
    {
     "name": "stdout",
     "output_type": "stream",
     "text": [
      "Средний пользовательский рейтинг игр жанра Action: 6.760606060606061\n"
     ]
    }
   ],
   "source": [
    "print(f'Средний пользовательский рейтинг игр жанра Action: {action_rate.mean()}')"
   ]
  },
  {
   "cell_type": "code",
   "execution_count": 97,
   "metadata": {
    "colab": {
     "base_uri": "https://localhost:8080/"
    },
    "id": "1JGWhc2yvkuD",
    "outputId": "5f3053dd-0747-4c3e-a4df-92865281392c"
   },
   "outputs": [
    {
     "name": "stdout",
     "output_type": "stream",
     "text": [
      "Средний пользовательский рейтинг игр жанра Sports: 5.2251968503937\n"
     ]
    }
   ],
   "source": [
    "print(f'Средний пользовательский рейтинг игр жанра Sports: {sports_rate.mean()}')"
   ]
  },
  {
   "cell_type": "markdown",
   "metadata": {
    "id": "NxGz3UvKGr88"
   },
   "source": [
    "###  Вывод"
   ]
  },
  {
   "cell_type": "markdown",
   "metadata": {
    "id": "IwArVDodG7nj"
   },
   "source": [
    "Средние рейтинги платформ Xbox One и PC примерно равны.\n",
    "\n",
    "Средние рейтинги игра жанров Action и Sports не равны, спортивные симуляторы чаще получают негативные оценки."
   ]
  },
  {
   "cell_type": "markdown",
   "metadata": {
    "id": "fpjc39AUHi1y"
   },
   "source": [
    "# 6 Общий вывод"
   ]
  },
  {
   "cell_type": "markdown",
   "metadata": {
    "id": "1HaanYiHHpXm"
   },
   "source": [
    "В рамках исследования была проведена достаточно масштабная работа, а именно:\n",
    "\n",
    "* мы провели переименование столбцов для соответствия правилам хорошего стиля и удобства, и привели к нижнему регистру текстовую информацию в таблице\n",
    "\n",
    "* в рамках предобработки данных мы избавились от пропущенных значений в таблице. Пропущенные значения рейтинга заполнили новым значением `n/a`, также были заменены отсутствующие оценки на значение `NaN`, так как нулевая оценка не равна отсутствию оценки.\n",
    "\n",
    "* добавили столбец с общими продажами\n",
    "\n",
    "* мы увидели, что цикл жизни игровой приставки составляет около 10 лет, новое поколение игровых платформ выходит примерно раз в 5 лет (кроме ПК) \n",
    "\n",
    "* наличие отзывов игроков и критиков слабо связано с объемами продаж. \n",
    "\n",
    "* популярность жанров с течением времени изменилась слабо. \n",
    "\n",
    "* самый прибыльный жанр в текущих реалиях это `shooter`. \n",
    "\n",
    "* американский и европейский рынки во многом похожи - доминируют приставки, только в Европе на 4 месте расположился РС. Сильно выделяется Япония - популярны мобильные платформы. \n",
    "\n",
    "* в Европе и Америке люят играть в штуеры, спортивные игры и экшены. В Японии уверенно лидируют ролевые игры, экшены и файтинги.\n",
    "\n",
    "* рейтинг ESRB в Японии не имеет значения, вероятно, в силу географии. В других странах продажи с ним выше.\n",
    "\n",
    "* средние рейтинги платформ Xbox One и PC равны.\n",
    "\n",
    "* средние рейтинги игра жанров Action и Sports не равны, спортивные симуляторы чаще получают негативные оценки."
   ]
  },
  {
   "cell_type": "markdown",
   "metadata": {},
   "source": [
    "На основании этой информации можно предположить, что стоит провести рекламные кампании выходящих на приставках игр в жанрах `shooter`, '`sports`, `role-playing`, `action`. С высокой вероятностью они будут пользоваться популярностью во всех регионах. Если планируются продажи не в Японии, стоит озаботиться получением рейтинга ESRB. "
   ]
  }
 ],
 "metadata": {
  "ExecuteTimeLog": [
   {
    "duration": 674,
    "start_time": "2022-03-16T12:59:28.388Z"
   },
   {
    "duration": 1778,
    "start_time": "2022-03-16T12:59:29.064Z"
   },
   {
    "duration": -814,
    "start_time": "2022-03-16T12:59:31.662Z"
   },
   {
    "duration": -819,
    "start_time": "2022-03-16T12:59:31.668Z"
   },
   {
    "duration": -824,
    "start_time": "2022-03-16T12:59:31.674Z"
   },
   {
    "duration": -826,
    "start_time": "2022-03-16T12:59:31.678Z"
   },
   {
    "duration": -831,
    "start_time": "2022-03-16T12:59:31.684Z"
   },
   {
    "duration": -834,
    "start_time": "2022-03-16T12:59:31.688Z"
   },
   {
    "duration": -838,
    "start_time": "2022-03-16T12:59:31.694Z"
   },
   {
    "duration": -842,
    "start_time": "2022-03-16T12:59:31.699Z"
   },
   {
    "duration": -846,
    "start_time": "2022-03-16T12:59:31.704Z"
   },
   {
    "duration": -848,
    "start_time": "2022-03-16T12:59:31.708Z"
   },
   {
    "duration": -851,
    "start_time": "2022-03-16T12:59:31.712Z"
   },
   {
    "duration": -855,
    "start_time": "2022-03-16T12:59:31.717Z"
   },
   {
    "duration": -857,
    "start_time": "2022-03-16T12:59:31.721Z"
   },
   {
    "duration": -860,
    "start_time": "2022-03-16T12:59:31.725Z"
   },
   {
    "duration": -863,
    "start_time": "2022-03-16T12:59:31.729Z"
   },
   {
    "duration": -864,
    "start_time": "2022-03-16T12:59:31.732Z"
   },
   {
    "duration": -865,
    "start_time": "2022-03-16T12:59:31.735Z"
   },
   {
    "duration": -866,
    "start_time": "2022-03-16T12:59:31.738Z"
   },
   {
    "duration": -869,
    "start_time": "2022-03-16T12:59:31.742Z"
   },
   {
    "duration": -871,
    "start_time": "2022-03-16T12:59:31.745Z"
   },
   {
    "duration": -873,
    "start_time": "2022-03-16T12:59:31.748Z"
   },
   {
    "duration": -875,
    "start_time": "2022-03-16T12:59:31.752Z"
   },
   {
    "duration": -883,
    "start_time": "2022-03-16T12:59:31.761Z"
   },
   {
    "duration": -885,
    "start_time": "2022-03-16T12:59:31.765Z"
   },
   {
    "duration": -888,
    "start_time": "2022-03-16T12:59:31.769Z"
   },
   {
    "duration": -890,
    "start_time": "2022-03-16T12:59:31.772Z"
   },
   {
    "duration": -892,
    "start_time": "2022-03-16T12:59:31.776Z"
   },
   {
    "duration": -894,
    "start_time": "2022-03-16T12:59:31.779Z"
   },
   {
    "duration": -897,
    "start_time": "2022-03-16T12:59:31.783Z"
   },
   {
    "duration": -899,
    "start_time": "2022-03-16T12:59:31.786Z"
   },
   {
    "duration": -902,
    "start_time": "2022-03-16T12:59:31.790Z"
   },
   {
    "duration": -904,
    "start_time": "2022-03-16T12:59:31.793Z"
   },
   {
    "duration": -906,
    "start_time": "2022-03-16T12:59:31.797Z"
   },
   {
    "duration": -909,
    "start_time": "2022-03-16T12:59:31.801Z"
   },
   {
    "duration": -912,
    "start_time": "2022-03-16T12:59:31.805Z"
   },
   {
    "duration": -914,
    "start_time": "2022-03-16T12:59:31.808Z"
   },
   {
    "duration": -918,
    "start_time": "2022-03-16T12:59:31.813Z"
   },
   {
    "duration": -921,
    "start_time": "2022-03-16T12:59:31.817Z"
   },
   {
    "duration": -924,
    "start_time": "2022-03-16T12:59:31.821Z"
   },
   {
    "duration": -926,
    "start_time": "2022-03-16T12:59:31.824Z"
   },
   {
    "duration": -928,
    "start_time": "2022-03-16T12:59:31.828Z"
   },
   {
    "duration": -930,
    "start_time": "2022-03-16T12:59:31.831Z"
   },
   {
    "duration": -932,
    "start_time": "2022-03-16T12:59:31.835Z"
   },
   {
    "duration": -934,
    "start_time": "2022-03-16T12:59:31.838Z"
   },
   {
    "duration": -935,
    "start_time": "2022-03-16T12:59:31.841Z"
   },
   {
    "duration": -882,
    "start_time": "2022-03-16T12:59:31.845Z"
   },
   {
    "duration": -883,
    "start_time": "2022-03-16T12:59:31.848Z"
   },
   {
    "duration": -886,
    "start_time": "2022-03-16T12:59:31.852Z"
   },
   {
    "duration": -888,
    "start_time": "2022-03-16T12:59:31.855Z"
   },
   {
    "duration": -889,
    "start_time": "2022-03-16T12:59:31.858Z"
   },
   {
    "duration": -898,
    "start_time": "2022-03-16T12:59:31.868Z"
   },
   {
    "duration": -900,
    "start_time": "2022-03-16T12:59:31.871Z"
   },
   {
    "duration": -904,
    "start_time": "2022-03-16T12:59:31.876Z"
   },
   {
    "duration": -905,
    "start_time": "2022-03-16T12:59:31.879Z"
   },
   {
    "duration": -908,
    "start_time": "2022-03-16T12:59:31.883Z"
   },
   {
    "duration": -911,
    "start_time": "2022-03-16T12:59:31.887Z"
   },
   {
    "duration": -913,
    "start_time": "2022-03-16T12:59:31.890Z"
   },
   {
    "duration": -915,
    "start_time": "2022-03-16T12:59:31.894Z"
   },
   {
    "duration": -918,
    "start_time": "2022-03-16T12:59:31.898Z"
   },
   {
    "duration": -920,
    "start_time": "2022-03-16T12:59:31.901Z"
   },
   {
    "duration": -921,
    "start_time": "2022-03-16T12:59:31.904Z"
   },
   {
    "duration": -923,
    "start_time": "2022-03-16T12:59:31.907Z"
   },
   {
    "duration": -926,
    "start_time": "2022-03-16T12:59:31.911Z"
   },
   {
    "duration": -927,
    "start_time": "2022-03-16T12:59:31.914Z"
   },
   {
    "duration": -931,
    "start_time": "2022-03-16T12:59:31.919Z"
   },
   {
    "duration": -1025,
    "start_time": "2022-03-16T12:59:32.014Z"
   },
   {
    "duration": -1027,
    "start_time": "2022-03-16T12:59:32.017Z"
   },
   {
    "duration": -1040,
    "start_time": "2022-03-16T12:59:32.031Z"
   },
   {
    "duration": -1042,
    "start_time": "2022-03-16T12:59:32.035Z"
   },
   {
    "duration": -1055,
    "start_time": "2022-03-16T12:59:32.049Z"
   },
   {
    "duration": -1058,
    "start_time": "2022-03-16T12:59:32.053Z"
   },
   {
    "duration": -1060,
    "start_time": "2022-03-16T12:59:32.056Z"
   },
   {
    "duration": -1062,
    "start_time": "2022-03-16T12:59:32.060Z"
   },
   {
    "duration": -1065,
    "start_time": "2022-03-16T12:59:32.064Z"
   },
   {
    "duration": -1067,
    "start_time": "2022-03-16T12:59:32.067Z"
   },
   {
    "duration": -1077,
    "start_time": "2022-03-16T12:59:32.078Z"
   },
   {
    "duration": -1084,
    "start_time": "2022-03-16T12:59:32.087Z"
   },
   {
    "duration": -1094,
    "start_time": "2022-03-16T12:59:32.098Z"
   },
   {
    "duration": -1097,
    "start_time": "2022-03-16T12:59:32.102Z"
   },
   {
    "duration": -1044,
    "start_time": "2022-03-16T12:59:32.106Z"
   },
   {
    "duration": -1051,
    "start_time": "2022-03-16T12:59:32.115Z"
   },
   {
    "duration": -1053,
    "start_time": "2022-03-16T12:59:32.118Z"
   },
   {
    "duration": -1054,
    "start_time": "2022-03-16T12:59:32.121Z"
   },
   {
    "duration": -1061,
    "start_time": "2022-03-16T12:59:32.129Z"
   },
   {
    "duration": -1063,
    "start_time": "2022-03-16T12:59:32.132Z"
   },
   {
    "duration": -1065,
    "start_time": "2022-03-16T12:59:32.135Z"
   },
   {
    "duration": -1070,
    "start_time": "2022-03-16T12:59:32.142Z"
   },
   {
    "duration": -1072,
    "start_time": "2022-03-16T12:59:32.145Z"
   },
   {
    "duration": -1074,
    "start_time": "2022-03-16T12:59:32.148Z"
   },
   {
    "duration": -1078,
    "start_time": "2022-03-16T12:59:32.153Z"
   },
   {
    "duration": -1080,
    "start_time": "2022-03-16T12:59:32.157Z"
   },
   {
    "duration": -1082,
    "start_time": "2022-03-16T12:59:32.161Z"
   },
   {
    "duration": 31,
    "start_time": "2022-03-16T13:00:42.219Z"
   },
   {
    "duration": 634,
    "start_time": "2022-03-16T13:00:47.822Z"
   },
   {
    "duration": 33,
    "start_time": "2022-03-16T13:00:48.458Z"
   },
   {
    "duration": 22,
    "start_time": "2022-03-16T13:00:48.493Z"
   },
   {
    "duration": 7,
    "start_time": "2022-03-16T13:00:48.517Z"
   },
   {
    "duration": 4,
    "start_time": "2022-03-16T13:00:48.526Z"
   },
   {
    "duration": 49,
    "start_time": "2022-03-16T13:00:48.532Z"
   },
   {
    "duration": 13,
    "start_time": "2022-03-16T13:00:48.583Z"
   },
   {
    "duration": 10,
    "start_time": "2022-03-16T13:00:48.599Z"
   },
   {
    "duration": 11,
    "start_time": "2022-03-16T13:00:48.611Z"
   },
   {
    "duration": 12,
    "start_time": "2022-03-16T13:00:48.624Z"
   },
   {
    "duration": 27,
    "start_time": "2022-03-16T13:00:48.663Z"
   },
   {
    "duration": 12,
    "start_time": "2022-03-16T13:00:48.692Z"
   },
   {
    "duration": 4,
    "start_time": "2022-03-16T13:00:48.706Z"
   },
   {
    "duration": 14,
    "start_time": "2022-03-16T13:00:48.711Z"
   },
   {
    "duration": 8,
    "start_time": "2022-03-16T13:00:48.727Z"
   },
   {
    "duration": 26,
    "start_time": "2022-03-16T13:00:48.737Z"
   },
   {
    "duration": 6,
    "start_time": "2022-03-16T13:00:48.765Z"
   },
   {
    "duration": 6,
    "start_time": "2022-03-16T13:00:48.773Z"
   },
   {
    "duration": 8,
    "start_time": "2022-03-16T13:00:48.780Z"
   },
   {
    "duration": 5,
    "start_time": "2022-03-16T13:00:48.790Z"
   },
   {
    "duration": 8,
    "start_time": "2022-03-16T13:00:48.797Z"
   },
   {
    "duration": 18,
    "start_time": "2022-03-16T13:00:48.807Z"
   },
   {
    "duration": 43,
    "start_time": "2022-03-16T13:00:48.829Z"
   },
   {
    "duration": 12,
    "start_time": "2022-03-16T13:00:48.875Z"
   },
   {
    "duration": 9,
    "start_time": "2022-03-16T13:00:48.889Z"
   },
   {
    "duration": 285,
    "start_time": "2022-03-16T13:00:48.900Z"
   },
   {
    "duration": 7,
    "start_time": "2022-03-16T13:00:49.186Z"
   },
   {
    "duration": 14,
    "start_time": "2022-03-16T13:00:49.194Z"
   },
   {
    "duration": 6,
    "start_time": "2022-03-16T13:00:49.210Z"
   },
   {
    "duration": 248,
    "start_time": "2022-03-16T13:00:49.218Z"
   },
   {
    "duration": 249,
    "start_time": "2022-03-16T13:00:49.468Z"
   },
   {
    "duration": 282,
    "start_time": "2022-03-16T13:00:49.719Z"
   },
   {
    "duration": 229,
    "start_time": "2022-03-16T13:00:50.003Z"
   },
   {
    "duration": 266,
    "start_time": "2022-03-16T13:00:50.233Z"
   },
   {
    "duration": 397,
    "start_time": "2022-03-16T13:00:50.501Z"
   },
   {
    "duration": 382,
    "start_time": "2022-03-16T13:00:50.900Z"
   },
   {
    "duration": 287,
    "start_time": "2022-03-16T13:00:51.284Z"
   },
   {
    "duration": 358,
    "start_time": "2022-03-16T13:00:51.573Z"
   },
   {
    "duration": 239,
    "start_time": "2022-03-16T13:00:51.933Z"
   },
   {
    "duration": 260,
    "start_time": "2022-03-16T13:00:52.174Z"
   },
   {
    "duration": 252,
    "start_time": "2022-03-16T13:00:52.436Z"
   },
   {
    "duration": 266,
    "start_time": "2022-03-16T13:00:52.689Z"
   },
   {
    "duration": 10,
    "start_time": "2022-03-16T13:00:52.957Z"
   },
   {
    "duration": 15,
    "start_time": "2022-03-16T13:00:52.968Z"
   },
   {
    "duration": 239,
    "start_time": "2022-03-16T13:00:52.985Z"
   },
   {
    "duration": 145,
    "start_time": "2022-03-16T13:00:53.226Z"
   },
   {
    "duration": 6,
    "start_time": "2022-03-16T13:00:53.373Z"
   },
   {
    "duration": 8,
    "start_time": "2022-03-16T13:00:53.380Z"
   },
   {
    "duration": 12,
    "start_time": "2022-03-16T13:00:53.390Z"
   },
   {
    "duration": 14,
    "start_time": "2022-03-16T13:00:53.403Z"
   },
   {
    "duration": 534,
    "start_time": "2022-03-16T13:00:53.419Z"
   },
   {
    "duration": 5,
    "start_time": "2022-03-16T13:00:53.962Z"
   },
   {
    "duration": 9,
    "start_time": "2022-03-16T13:00:53.969Z"
   },
   {
    "duration": 8,
    "start_time": "2022-03-16T13:00:53.980Z"
   },
   {
    "duration": 8,
    "start_time": "2022-03-16T13:00:53.990Z"
   },
   {
    "duration": 388,
    "start_time": "2022-03-16T13:00:54.000Z"
   },
   {
    "duration": 5,
    "start_time": "2022-03-16T13:00:54.389Z"
   },
   {
    "duration": 6,
    "start_time": "2022-03-16T13:00:54.396Z"
   },
   {
    "duration": 8,
    "start_time": "2022-03-16T13:00:54.403Z"
   },
   {
    "duration": 5,
    "start_time": "2022-03-16T13:00:54.413Z"
   },
   {
    "duration": 17,
    "start_time": "2022-03-16T13:00:54.419Z"
   },
   {
    "duration": 38,
    "start_time": "2022-03-16T13:00:54.438Z"
   },
   {
    "duration": 163,
    "start_time": "2022-03-16T13:00:54.477Z"
   },
   {
    "duration": 23,
    "start_time": "2022-03-16T13:00:54.641Z"
   },
   {
    "duration": 183,
    "start_time": "2022-03-16T13:00:54.666Z"
   },
   {
    "duration": 20,
    "start_time": "2022-03-16T13:00:54.851Z"
   },
   {
    "duration": 199,
    "start_time": "2022-03-16T13:00:54.873Z"
   },
   {
    "duration": 13,
    "start_time": "2022-03-16T13:00:55.079Z"
   },
   {
    "duration": 193,
    "start_time": "2022-03-16T13:00:55.094Z"
   },
   {
    "duration": 15,
    "start_time": "2022-03-16T13:00:55.289Z"
   },
   {
    "duration": 209,
    "start_time": "2022-03-16T13:00:55.306Z"
   },
   {
    "duration": 14,
    "start_time": "2022-03-16T13:00:55.517Z"
   },
   {
    "duration": 186,
    "start_time": "2022-03-16T13:00:55.533Z"
   },
   {
    "duration": 13,
    "start_time": "2022-03-16T13:00:55.721Z"
   },
   {
    "duration": 197,
    "start_time": "2022-03-16T13:00:55.736Z"
   },
   {
    "duration": 14,
    "start_time": "2022-03-16T13:00:55.935Z"
   },
   {
    "duration": 21,
    "start_time": "2022-03-16T13:00:55.951Z"
   },
   {
    "duration": 6,
    "start_time": "2022-03-16T13:00:55.974Z"
   },
   {
    "duration": 11,
    "start_time": "2022-03-16T13:00:55.982Z"
   },
   {
    "duration": 12,
    "start_time": "2022-03-16T13:00:55.995Z"
   },
   {
    "duration": 5,
    "start_time": "2022-03-16T13:00:56.009Z"
   },
   {
    "duration": 14,
    "start_time": "2022-03-16T13:00:56.016Z"
   },
   {
    "duration": 14,
    "start_time": "2022-03-16T13:00:56.031Z"
   },
   {
    "duration": 449,
    "start_time": "2022-03-16T13:00:56.047Z"
   },
   {
    "duration": 8,
    "start_time": "2022-03-16T13:00:56.498Z"
   },
   {
    "duration": 7,
    "start_time": "2022-03-16T13:00:56.508Z"
   },
   {
    "duration": 7,
    "start_time": "2022-03-16T13:00:56.517Z"
   },
   {
    "duration": 9,
    "start_time": "2022-03-16T13:00:56.525Z"
   },
   {
    "duration": 7,
    "start_time": "2022-03-16T13:00:56.535Z"
   },
   {
    "duration": 24,
    "start_time": "2022-03-16T13:00:56.544Z"
   },
   {
    "duration": 11,
    "start_time": "2022-03-16T13:00:56.570Z"
   },
   {
    "duration": 5,
    "start_time": "2022-03-16T13:00:56.583Z"
   },
   {
    "duration": 5,
    "start_time": "2022-03-16T13:00:56.590Z"
   },
   {
    "duration": 5,
    "start_time": "2022-03-16T13:00:56.597Z"
   },
   {
    "duration": 636,
    "start_time": "2022-03-16T17:06:35.604Z"
   },
   {
    "duration": 37,
    "start_time": "2022-03-16T17:06:39.010Z"
   },
   {
    "duration": 34,
    "start_time": "2022-03-16T17:06:49.854Z"
   },
   {
    "duration": 7,
    "start_time": "2022-03-16T17:06:54.104Z"
   },
   {
    "duration": 5,
    "start_time": "2022-03-16T17:06:55.805Z"
   },
   {
    "duration": 6,
    "start_time": "2022-03-16T17:07:39.978Z"
   },
   {
    "duration": 6,
    "start_time": "2022-03-16T17:07:41.841Z"
   },
   {
    "duration": 23,
    "start_time": "2022-03-16T17:07:47.883Z"
   },
   {
    "duration": 13,
    "start_time": "2022-03-16T17:07:49.691Z"
   },
   {
    "duration": 9,
    "start_time": "2022-03-16T17:09:11.612Z"
   },
   {
    "duration": 15,
    "start_time": "2022-03-16T17:09:15.546Z"
   },
   {
    "duration": 8,
    "start_time": "2022-03-16T17:09:17.184Z"
   },
   {
    "duration": 19,
    "start_time": "2022-03-16T17:09:22.949Z"
   },
   {
    "duration": 10,
    "start_time": "2022-03-16T17:11:20.118Z"
   },
   {
    "duration": 4,
    "start_time": "2022-03-16T17:11:22.069Z"
   },
   {
    "duration": 7,
    "start_time": "2022-03-16T17:11:23.767Z"
   },
   {
    "duration": 8,
    "start_time": "2022-03-16T17:11:27.423Z"
   },
   {
    "duration": 7,
    "start_time": "2022-03-16T17:11:32.135Z"
   },
   {
    "duration": 6,
    "start_time": "2022-03-16T17:11:56.748Z"
   },
   {
    "duration": 6,
    "start_time": "2022-03-16T17:12:04.971Z"
   },
   {
    "duration": 7,
    "start_time": "2022-03-16T17:12:27.395Z"
   },
   {
    "duration": 5,
    "start_time": "2022-03-16T17:12:28.876Z"
   },
   {
    "duration": 7,
    "start_time": "2022-03-16T17:12:33.464Z"
   },
   {
    "duration": 19,
    "start_time": "2022-03-16T17:12:45.132Z"
   },
   {
    "duration": 19,
    "start_time": "2022-03-16T17:12:46.596Z"
   },
   {
    "duration": 13,
    "start_time": "2022-03-16T17:12:49.796Z"
   },
   {
    "duration": 10,
    "start_time": "2022-03-16T17:12:53.523Z"
   },
   {
    "duration": 287,
    "start_time": "2022-03-16T17:17:31.700Z"
   },
   {
    "duration": 8,
    "start_time": "2022-03-16T17:18:45.185Z"
   },
   {
    "duration": 14,
    "start_time": "2022-03-16T17:18:47.578Z"
   },
   {
    "duration": 12,
    "start_time": "2022-03-16T17:18:48.878Z"
   },
   {
    "duration": 364,
    "start_time": "2022-03-16T17:18:52.731Z"
   },
   {
    "duration": 272,
    "start_time": "2022-03-16T17:18:54.221Z"
   },
   {
    "duration": 298,
    "start_time": "2022-03-16T17:18:57.277Z"
   },
   {
    "duration": 225,
    "start_time": "2022-03-16T17:18:57.867Z"
   },
   {
    "duration": 273,
    "start_time": "2022-03-16T17:18:59.409Z"
   },
   {
    "duration": 308,
    "start_time": "2022-03-16T17:19:01.487Z"
   },
   {
    "duration": 305,
    "start_time": "2022-03-16T17:19:01.835Z"
   },
   {
    "duration": 236,
    "start_time": "2022-03-16T17:19:02.332Z"
   },
   {
    "duration": 266,
    "start_time": "2022-03-16T17:19:05.568Z"
   },
   {
    "duration": 266,
    "start_time": "2022-03-16T17:19:06.272Z"
   },
   {
    "duration": 298,
    "start_time": "2022-03-16T17:19:07.127Z"
   },
   {
    "duration": 269,
    "start_time": "2022-03-16T17:19:13.190Z"
   },
   {
    "duration": 267,
    "start_time": "2022-03-16T17:19:15.914Z"
   },
   {
    "duration": 6,
    "start_time": "2022-03-16T17:19:28.170Z"
   },
   {
    "duration": 20,
    "start_time": "2022-03-16T17:20:32.857Z"
   },
   {
    "duration": 55,
    "start_time": "2022-03-16T17:21:38.150Z"
   },
   {
    "duration": 56,
    "start_time": "2022-03-16T17:21:42.337Z"
   },
   {
    "duration": 56,
    "start_time": "2022-03-16T17:21:48.190Z"
   },
   {
    "duration": 24,
    "start_time": "2022-03-16T17:21:51.922Z"
   },
   {
    "duration": 110,
    "start_time": "2022-03-16T17:22:47.373Z"
   },
   {
    "duration": 8,
    "start_time": "2022-03-16T17:23:18.344Z"
   },
   {
    "duration": 23,
    "start_time": "2022-03-16T17:23:24.920Z"
   },
   {
    "duration": 14,
    "start_time": "2022-03-16T17:26:48.396Z"
   },
   {
    "duration": 14,
    "start_time": "2022-03-16T17:29:41.524Z"
   },
   {
    "duration": 12,
    "start_time": "2022-03-16T17:29:52.318Z"
   },
   {
    "duration": 14,
    "start_time": "2022-03-16T17:30:16.051Z"
   },
   {
    "duration": 139,
    "start_time": "2022-03-16T17:31:17.219Z"
   },
   {
    "duration": 4173,
    "start_time": "2022-03-16T17:40:33.019Z"
   },
   {
    "duration": 169,
    "start_time": "2022-03-16T17:40:49.552Z"
   },
   {
    "duration": 288,
    "start_time": "2022-03-16T17:40:55.162Z"
   },
   {
    "duration": 136,
    "start_time": "2022-03-16T17:42:55.226Z"
   },
   {
    "duration": 193,
    "start_time": "2022-03-16T17:43:12.896Z"
   },
   {
    "duration": 265,
    "start_time": "2022-03-16T17:43:30.476Z"
   },
   {
    "duration": 2670,
    "start_time": "2022-03-16T17:43:54.964Z"
   },
   {
    "duration": 200,
    "start_time": "2022-03-16T17:46:11.811Z"
   },
   {
    "duration": 172,
    "start_time": "2022-03-16T17:46:19.033Z"
   },
   {
    "duration": 136813,
    "start_time": "2022-03-16T17:47:02.762Z"
   },
   {
    "duration": 196,
    "start_time": "2022-03-16T17:50:30.299Z"
   },
   {
    "duration": 497,
    "start_time": "2022-03-16T17:51:18.935Z"
   },
   {
    "duration": 463,
    "start_time": "2022-03-16T17:51:31.740Z"
   },
   {
    "duration": 180,
    "start_time": "2022-03-16T17:53:02.669Z"
   },
   {
    "duration": 766,
    "start_time": "2022-03-16T17:55:30.470Z"
   },
   {
    "duration": 1091,
    "start_time": "2022-03-16T17:55:43.427Z"
   },
   {
    "duration": 319,
    "start_time": "2022-03-16T17:55:48.584Z"
   },
   {
    "duration": 333,
    "start_time": "2022-03-16T18:05:41.660Z"
   },
   {
    "duration": 350,
    "start_time": "2022-03-16T18:06:51.829Z"
   },
   {
    "duration": 369,
    "start_time": "2022-03-16T18:07:45.204Z"
   },
   {
    "duration": 54,
    "start_time": "2022-03-16T18:07:57.166Z"
   },
   {
    "duration": 548,
    "start_time": "2022-03-16T18:08:09.326Z"
   },
   {
    "duration": 433,
    "start_time": "2022-03-16T18:08:14.633Z"
   },
   {
    "duration": 280,
    "start_time": "2022-03-16T18:13:51.006Z"
   },
   {
    "duration": 260,
    "start_time": "2022-03-16T18:14:01.156Z"
   },
   {
    "duration": 279,
    "start_time": "2022-03-16T18:14:07.853Z"
   },
   {
    "duration": 7,
    "start_time": "2022-03-16T18:22:25.934Z"
   },
   {
    "duration": 50,
    "start_time": "2022-03-16T18:22:38.448Z"
   },
   {
    "duration": 3,
    "start_time": "2022-03-16T18:22:43.588Z"
   },
   {
    "duration": 6,
    "start_time": "2022-03-16T18:22:45.302Z"
   },
   {
    "duration": 7,
    "start_time": "2022-03-16T18:22:46.178Z"
   },
   {
    "duration": 7,
    "start_time": "2022-03-16T18:23:10.352Z"
   },
   {
    "duration": 441,
    "start_time": "2022-03-16T18:23:13.526Z"
   },
   {
    "duration": 4,
    "start_time": "2022-03-16T18:23:20.781Z"
   },
   {
    "duration": 8,
    "start_time": "2022-03-16T18:23:21.614Z"
   },
   {
    "duration": 7,
    "start_time": "2022-03-16T18:23:22.049Z"
   },
   {
    "duration": 8,
    "start_time": "2022-03-16T18:23:22.412Z"
   },
   {
    "duration": 370,
    "start_time": "2022-03-16T18:23:23.786Z"
   },
   {
    "duration": 5,
    "start_time": "2022-03-16T18:23:24.804Z"
   },
   {
    "duration": 5,
    "start_time": "2022-03-16T18:23:25.748Z"
   },
   {
    "duration": 5,
    "start_time": "2022-03-16T18:23:26.137Z"
   },
   {
    "duration": 5,
    "start_time": "2022-03-16T18:23:26.562Z"
   },
   {
    "duration": 16,
    "start_time": "2022-03-16T18:23:39.841Z"
   },
   {
    "duration": 15,
    "start_time": "2022-03-16T18:29:39.084Z"
   },
   {
    "duration": 14,
    "start_time": "2022-03-16T18:29:56.722Z"
   },
   {
    "duration": 16,
    "start_time": "2022-03-16T18:30:01.596Z"
   },
   {
    "duration": 14,
    "start_time": "2022-03-16T18:30:46.758Z"
   },
   {
    "duration": 155,
    "start_time": "2022-03-16T18:33:13.099Z"
   },
   {
    "duration": 678,
    "start_time": "2022-03-16T18:47:22.903Z"
   },
   {
    "duration": 52,
    "start_time": "2022-03-16T18:47:23.584Z"
   },
   {
    "duration": 34,
    "start_time": "2022-03-16T18:47:23.639Z"
   },
   {
    "duration": 8,
    "start_time": "2022-03-16T18:47:23.676Z"
   },
   {
    "duration": 12,
    "start_time": "2022-03-16T18:47:23.686Z"
   },
   {
    "duration": 55,
    "start_time": "2022-03-16T18:47:23.699Z"
   },
   {
    "duration": 18,
    "start_time": "2022-03-16T18:47:23.756Z"
   },
   {
    "duration": 21,
    "start_time": "2022-03-16T18:47:23.777Z"
   },
   {
    "duration": 17,
    "start_time": "2022-03-16T18:47:23.800Z"
   },
   {
    "duration": 26,
    "start_time": "2022-03-16T18:47:23.819Z"
   },
   {
    "duration": 29,
    "start_time": "2022-03-16T18:47:23.847Z"
   },
   {
    "duration": 14,
    "start_time": "2022-03-16T18:47:23.878Z"
   },
   {
    "duration": 5,
    "start_time": "2022-03-16T18:47:23.894Z"
   },
   {
    "duration": 10,
    "start_time": "2022-03-16T18:47:23.901Z"
   },
   {
    "duration": 28,
    "start_time": "2022-03-16T18:47:23.913Z"
   },
   {
    "duration": 20,
    "start_time": "2022-03-16T18:47:23.943Z"
   },
   {
    "duration": 21,
    "start_time": "2022-03-16T18:47:23.965Z"
   },
   {
    "duration": 28,
    "start_time": "2022-03-16T18:47:23.988Z"
   },
   {
    "duration": 26,
    "start_time": "2022-03-16T18:47:24.018Z"
   },
   {
    "duration": 16,
    "start_time": "2022-03-16T18:47:24.045Z"
   },
   {
    "duration": 18,
    "start_time": "2022-03-16T18:47:24.063Z"
   },
   {
    "duration": 29,
    "start_time": "2022-03-16T18:47:24.083Z"
   },
   {
    "duration": 15,
    "start_time": "2022-03-16T18:47:24.115Z"
   },
   {
    "duration": 13,
    "start_time": "2022-03-16T18:47:24.132Z"
   },
   {
    "duration": 19,
    "start_time": "2022-03-16T18:47:24.147Z"
   },
   {
    "duration": 306,
    "start_time": "2022-03-16T18:47:24.168Z"
   },
   {
    "duration": 7,
    "start_time": "2022-03-16T18:47:24.476Z"
   },
   {
    "duration": 17,
    "start_time": "2022-03-16T18:47:24.485Z"
   },
   {
    "duration": 29,
    "start_time": "2022-03-16T18:47:24.504Z"
   },
   {
    "duration": 274,
    "start_time": "2022-03-16T18:47:24.536Z"
   },
   {
    "duration": 268,
    "start_time": "2022-03-16T18:47:24.812Z"
   },
   {
    "duration": 311,
    "start_time": "2022-03-16T18:47:25.082Z"
   },
   {
    "duration": 243,
    "start_time": "2022-03-16T18:47:25.396Z"
   },
   {
    "duration": 281,
    "start_time": "2022-03-16T18:47:25.642Z"
   },
   {
    "duration": 315,
    "start_time": "2022-03-16T18:47:25.925Z"
   },
   {
    "duration": 300,
    "start_time": "2022-03-16T18:47:26.242Z"
   },
   {
    "duration": 230,
    "start_time": "2022-03-16T18:47:26.544Z"
   },
   {
    "duration": 275,
    "start_time": "2022-03-16T18:47:26.776Z"
   },
   {
    "duration": 283,
    "start_time": "2022-03-16T18:47:27.053Z"
   },
   {
    "duration": 307,
    "start_time": "2022-03-16T18:47:27.338Z"
   },
   {
    "duration": 299,
    "start_time": "2022-03-16T18:47:27.647Z"
   },
   {
    "duration": 273,
    "start_time": "2022-03-16T18:47:27.948Z"
   },
   {
    "duration": 15,
    "start_time": "2022-03-16T18:47:28.223Z"
   },
   {
    "duration": 13,
    "start_time": "2022-03-16T18:47:28.240Z"
   },
   {
    "duration": 28,
    "start_time": "2022-03-16T18:47:28.255Z"
   },
   {
    "duration": 14,
    "start_time": "2022-03-16T18:47:28.285Z"
   },
   {
    "duration": 826,
    "start_time": "2022-03-16T18:47:28.301Z"
   },
   {
    "duration": 13,
    "start_time": "2022-03-16T18:47:29.129Z"
   },
   {
    "duration": 4,
    "start_time": "2022-03-16T18:47:29.144Z"
   },
   {
    "duration": 8,
    "start_time": "2022-03-16T18:47:29.150Z"
   },
   {
    "duration": 8,
    "start_time": "2022-03-16T18:47:29.160Z"
   },
   {
    "duration": 15,
    "start_time": "2022-03-16T18:47:29.170Z"
   },
   {
    "duration": 485,
    "start_time": "2022-03-16T18:47:29.188Z"
   },
   {
    "duration": 5,
    "start_time": "2022-03-16T18:47:29.676Z"
   },
   {
    "duration": 40,
    "start_time": "2022-03-16T18:47:29.683Z"
   },
   {
    "duration": 27,
    "start_time": "2022-03-16T18:47:29.725Z"
   },
   {
    "duration": 23,
    "start_time": "2022-03-16T18:47:29.755Z"
   },
   {
    "duration": 514,
    "start_time": "2022-03-16T18:47:29.780Z"
   },
   {
    "duration": 4,
    "start_time": "2022-03-16T18:47:30.296Z"
   },
   {
    "duration": 33,
    "start_time": "2022-03-16T18:47:30.301Z"
   },
   {
    "duration": 21,
    "start_time": "2022-03-16T18:47:30.336Z"
   },
   {
    "duration": 12,
    "start_time": "2022-03-16T18:47:30.359Z"
   },
   {
    "duration": 34,
    "start_time": "2022-03-16T18:47:30.373Z"
   },
   {
    "duration": 58,
    "start_time": "2022-03-16T18:47:30.409Z"
   },
   {
    "duration": 160,
    "start_time": "2022-03-16T18:47:30.469Z"
   },
   {
    "duration": 14,
    "start_time": "2022-03-16T18:47:30.631Z"
   },
   {
    "duration": 336,
    "start_time": "2022-03-16T18:47:30.647Z"
   },
   {
    "duration": 16,
    "start_time": "2022-03-16T18:47:30.989Z"
   },
   {
    "duration": 243,
    "start_time": "2022-03-16T18:47:31.008Z"
   },
   {
    "duration": 15,
    "start_time": "2022-03-16T18:47:31.254Z"
   },
   {
    "duration": 221,
    "start_time": "2022-03-16T18:47:31.271Z"
   },
   {
    "duration": 20,
    "start_time": "2022-03-16T18:47:31.495Z"
   },
   {
    "duration": 238,
    "start_time": "2022-03-16T18:47:31.518Z"
   },
   {
    "duration": 14,
    "start_time": "2022-03-16T18:47:31.758Z"
   },
   {
    "duration": 204,
    "start_time": "2022-03-16T18:47:31.774Z"
   },
   {
    "duration": 15,
    "start_time": "2022-03-16T18:47:31.979Z"
   },
   {
    "duration": 219,
    "start_time": "2022-03-16T18:47:31.996Z"
   },
   {
    "duration": 27,
    "start_time": "2022-03-16T18:47:32.217Z"
   },
   {
    "duration": 53,
    "start_time": "2022-03-16T18:47:32.246Z"
   },
   {
    "duration": 43,
    "start_time": "2022-03-16T18:47:32.302Z"
   },
   {
    "duration": 26,
    "start_time": "2022-03-16T18:47:32.348Z"
   },
   {
    "duration": 25,
    "start_time": "2022-03-16T18:47:32.377Z"
   },
   {
    "duration": 10,
    "start_time": "2022-03-16T18:47:32.406Z"
   },
   {
    "duration": 22,
    "start_time": "2022-03-16T18:47:32.418Z"
   },
   {
    "duration": 19,
    "start_time": "2022-03-16T18:47:32.442Z"
   },
   {
    "duration": 14,
    "start_time": "2022-03-16T18:47:32.463Z"
   },
   {
    "duration": 22,
    "start_time": "2022-03-16T18:47:32.479Z"
   },
   {
    "duration": 18,
    "start_time": "2022-03-16T18:47:32.503Z"
   },
   {
    "duration": 19,
    "start_time": "2022-03-16T18:47:32.523Z"
   },
   {
    "duration": 24,
    "start_time": "2022-03-16T18:47:32.544Z"
   },
   {
    "duration": 16,
    "start_time": "2022-03-16T18:47:32.570Z"
   },
   {
    "duration": 31,
    "start_time": "2022-03-16T18:47:32.588Z"
   },
   {
    "duration": 15,
    "start_time": "2022-03-16T18:47:32.621Z"
   },
   {
    "duration": 23,
    "start_time": "2022-03-16T18:47:32.637Z"
   },
   {
    "duration": 23,
    "start_time": "2022-03-16T18:47:32.662Z"
   },
   {
    "duration": 12,
    "start_time": "2022-03-16T18:47:32.687Z"
   },
   {
    "duration": 646,
    "start_time": "2022-03-16T19:08:52.997Z"
   },
   {
    "duration": 34,
    "start_time": "2022-03-16T19:08:53.645Z"
   },
   {
    "duration": 24,
    "start_time": "2022-03-16T19:08:53.681Z"
   },
   {
    "duration": 8,
    "start_time": "2022-03-16T19:08:53.707Z"
   },
   {
    "duration": 23,
    "start_time": "2022-03-16T19:08:53.717Z"
   },
   {
    "duration": 30,
    "start_time": "2022-03-16T19:08:53.742Z"
   },
   {
    "duration": 20,
    "start_time": "2022-03-16T19:08:53.774Z"
   },
   {
    "duration": 13,
    "start_time": "2022-03-16T19:08:53.796Z"
   },
   {
    "duration": 40,
    "start_time": "2022-03-16T19:08:53.812Z"
   },
   {
    "duration": 11,
    "start_time": "2022-03-16T19:08:53.854Z"
   },
   {
    "duration": 30,
    "start_time": "2022-03-16T19:08:53.867Z"
   },
   {
    "duration": 15,
    "start_time": "2022-03-16T19:08:53.899Z"
   },
   {
    "duration": 24,
    "start_time": "2022-03-16T19:08:53.916Z"
   },
   {
    "duration": 15,
    "start_time": "2022-03-16T19:08:53.942Z"
   },
   {
    "duration": 11,
    "start_time": "2022-03-16T19:08:53.959Z"
   },
   {
    "duration": 10,
    "start_time": "2022-03-16T19:08:53.972Z"
   },
   {
    "duration": 12,
    "start_time": "2022-03-16T19:08:53.984Z"
   },
   {
    "duration": 9,
    "start_time": "2022-03-16T19:08:53.998Z"
   },
   {
    "duration": 10,
    "start_time": "2022-03-16T19:08:54.009Z"
   },
   {
    "duration": 18,
    "start_time": "2022-03-16T19:08:54.021Z"
   },
   {
    "duration": 8,
    "start_time": "2022-03-16T19:08:54.041Z"
   },
   {
    "duration": 25,
    "start_time": "2022-03-16T19:08:54.051Z"
   },
   {
    "duration": 17,
    "start_time": "2022-03-16T19:08:54.081Z"
   },
   {
    "duration": 14,
    "start_time": "2022-03-16T19:08:54.101Z"
   },
   {
    "duration": 28,
    "start_time": "2022-03-16T19:08:54.117Z"
   },
   {
    "duration": 306,
    "start_time": "2022-03-16T19:08:54.147Z"
   },
   {
    "duration": 8,
    "start_time": "2022-03-16T19:08:54.456Z"
   },
   {
    "duration": 12,
    "start_time": "2022-03-16T19:08:54.466Z"
   },
   {
    "duration": 9,
    "start_time": "2022-03-16T19:08:54.480Z"
   },
   {
    "duration": 289,
    "start_time": "2022-03-16T19:08:54.491Z"
   },
   {
    "duration": 283,
    "start_time": "2022-03-16T19:08:54.782Z"
   },
   {
    "duration": 317,
    "start_time": "2022-03-16T19:08:55.067Z"
   },
   {
    "duration": 242,
    "start_time": "2022-03-16T19:08:55.386Z"
   },
   {
    "duration": 288,
    "start_time": "2022-03-16T19:08:55.630Z"
   },
   {
    "duration": 311,
    "start_time": "2022-03-16T19:08:55.920Z"
   },
   {
    "duration": 286,
    "start_time": "2022-03-16T19:08:56.237Z"
   },
   {
    "duration": 252,
    "start_time": "2022-03-16T19:08:56.525Z"
   },
   {
    "duration": 279,
    "start_time": "2022-03-16T19:08:56.780Z"
   },
   {
    "duration": 264,
    "start_time": "2022-03-16T19:08:57.061Z"
   },
   {
    "duration": 310,
    "start_time": "2022-03-16T19:08:57.327Z"
   },
   {
    "duration": 270,
    "start_time": "2022-03-16T19:08:57.639Z"
   },
   {
    "duration": 280,
    "start_time": "2022-03-16T19:08:57.911Z"
   },
   {
    "duration": 6,
    "start_time": "2022-03-16T19:08:58.193Z"
   },
   {
    "duration": 18,
    "start_time": "2022-03-16T19:08:58.201Z"
   },
   {
    "duration": 25,
    "start_time": "2022-03-16T19:08:58.221Z"
   },
   {
    "duration": 21,
    "start_time": "2022-03-16T19:08:58.248Z"
   },
   {
    "duration": 835,
    "start_time": "2022-03-16T19:08:58.271Z"
   },
   {
    "duration": 8,
    "start_time": "2022-03-16T19:08:59.109Z"
   },
   {
    "duration": 4,
    "start_time": "2022-03-16T19:08:59.119Z"
   },
   {
    "duration": 16,
    "start_time": "2022-03-16T19:08:59.125Z"
   },
   {
    "duration": 9,
    "start_time": "2022-03-16T19:08:59.143Z"
   },
   {
    "duration": 13,
    "start_time": "2022-03-16T19:08:59.154Z"
   },
   {
    "duration": 386,
    "start_time": "2022-03-16T19:08:59.169Z"
   },
   {
    "duration": 5,
    "start_time": "2022-03-16T19:08:59.557Z"
   },
   {
    "duration": 13,
    "start_time": "2022-03-16T19:08:59.563Z"
   },
   {
    "duration": 8,
    "start_time": "2022-03-16T19:08:59.578Z"
   },
   {
    "duration": 12,
    "start_time": "2022-03-16T19:08:59.588Z"
   },
   {
    "duration": 462,
    "start_time": "2022-03-16T19:08:59.602Z"
   },
   {
    "duration": 5,
    "start_time": "2022-03-16T19:09:00.066Z"
   },
   {
    "duration": 11,
    "start_time": "2022-03-16T19:09:00.073Z"
   },
   {
    "duration": 26,
    "start_time": "2022-03-16T19:09:00.085Z"
   },
   {
    "duration": 16,
    "start_time": "2022-03-16T19:09:00.113Z"
   },
   {
    "duration": 25,
    "start_time": "2022-03-16T19:09:00.130Z"
   },
   {
    "duration": 34,
    "start_time": "2022-03-16T19:09:00.158Z"
   },
   {
    "duration": 181,
    "start_time": "2022-03-16T19:09:00.195Z"
   },
   {
    "duration": 16,
    "start_time": "2022-03-16T19:09:00.379Z"
   },
   {
    "duration": 334,
    "start_time": "2022-03-16T19:09:00.397Z"
   },
   {
    "duration": 15,
    "start_time": "2022-03-16T19:09:00.737Z"
   },
   {
    "duration": 243,
    "start_time": "2022-03-16T19:09:00.754Z"
   },
   {
    "duration": 18,
    "start_time": "2022-03-16T19:09:00.998Z"
   },
   {
    "duration": 237,
    "start_time": "2022-03-16T19:09:01.018Z"
   },
   {
    "duration": 17,
    "start_time": "2022-03-16T19:09:01.257Z"
   },
   {
    "duration": 257,
    "start_time": "2022-03-16T19:09:01.276Z"
   },
   {
    "duration": 17,
    "start_time": "2022-03-16T19:09:01.535Z"
   },
   {
    "duration": 269,
    "start_time": "2022-03-16T19:09:01.554Z"
   },
   {
    "duration": 22,
    "start_time": "2022-03-16T19:09:01.825Z"
   },
   {
    "duration": 249,
    "start_time": "2022-03-16T19:09:01.850Z"
   },
   {
    "duration": 25,
    "start_time": "2022-03-16T19:09:02.102Z"
   },
   {
    "duration": 26,
    "start_time": "2022-03-16T19:09:02.139Z"
   },
   {
    "duration": 35,
    "start_time": "2022-03-16T19:09:02.168Z"
   },
   {
    "duration": 24,
    "start_time": "2022-03-16T19:09:02.205Z"
   },
   {
    "duration": 25,
    "start_time": "2022-03-16T19:09:02.232Z"
   },
   {
    "duration": 14,
    "start_time": "2022-03-16T19:09:02.260Z"
   },
   {
    "duration": 35,
    "start_time": "2022-03-16T19:09:02.277Z"
   },
   {
    "duration": 19,
    "start_time": "2022-03-16T19:09:02.314Z"
   },
   {
    "duration": 23,
    "start_time": "2022-03-16T19:09:02.335Z"
   },
   {
    "duration": 34,
    "start_time": "2022-03-16T19:09:02.361Z"
   },
   {
    "duration": 32,
    "start_time": "2022-03-16T19:09:02.397Z"
   },
   {
    "duration": 28,
    "start_time": "2022-03-16T19:09:02.431Z"
   },
   {
    "duration": 19,
    "start_time": "2022-03-16T19:09:02.462Z"
   },
   {
    "duration": 26,
    "start_time": "2022-03-16T19:09:02.483Z"
   },
   {
    "duration": 39,
    "start_time": "2022-03-16T19:09:02.511Z"
   },
   {
    "duration": 22,
    "start_time": "2022-03-16T19:09:02.552Z"
   },
   {
    "duration": 22,
    "start_time": "2022-03-16T19:09:02.577Z"
   },
   {
    "duration": 37,
    "start_time": "2022-03-16T19:09:02.602Z"
   },
   {
    "duration": 27,
    "start_time": "2022-03-16T19:09:02.642Z"
   },
   {
    "duration": 647,
    "start_time": "2022-03-17T07:26:47.949Z"
   },
   {
    "duration": 40,
    "start_time": "2022-03-17T07:26:48.598Z"
   },
   {
    "duration": 29,
    "start_time": "2022-03-17T07:26:48.639Z"
   },
   {
    "duration": 6,
    "start_time": "2022-03-17T07:26:48.670Z"
   },
   {
    "duration": 9,
    "start_time": "2022-03-17T07:26:48.677Z"
   },
   {
    "duration": 23,
    "start_time": "2022-03-17T07:26:48.687Z"
   },
   {
    "duration": 30,
    "start_time": "2022-03-17T07:26:48.712Z"
   },
   {
    "duration": 14,
    "start_time": "2022-03-17T07:26:48.744Z"
   },
   {
    "duration": 23,
    "start_time": "2022-03-17T07:26:48.759Z"
   },
   {
    "duration": 14,
    "start_time": "2022-03-17T07:26:48.784Z"
   },
   {
    "duration": 38,
    "start_time": "2022-03-17T07:26:48.799Z"
   },
   {
    "duration": 8,
    "start_time": "2022-03-17T07:26:48.839Z"
   },
   {
    "duration": 7,
    "start_time": "2022-03-17T07:26:48.849Z"
   },
   {
    "duration": 6,
    "start_time": "2022-03-17T07:26:48.858Z"
   },
   {
    "duration": 9,
    "start_time": "2022-03-17T07:26:48.866Z"
   },
   {
    "duration": 7,
    "start_time": "2022-03-17T07:26:48.877Z"
   },
   {
    "duration": 10,
    "start_time": "2022-03-17T07:26:48.886Z"
   },
   {
    "duration": 10,
    "start_time": "2022-03-17T07:26:48.897Z"
   },
   {
    "duration": 7,
    "start_time": "2022-03-17T07:26:48.934Z"
   },
   {
    "duration": 8,
    "start_time": "2022-03-17T07:26:48.943Z"
   },
   {
    "duration": 6,
    "start_time": "2022-03-17T07:26:48.953Z"
   },
   {
    "duration": 24,
    "start_time": "2022-03-17T07:26:48.960Z"
   },
   {
    "duration": 16,
    "start_time": "2022-03-17T07:26:48.986Z"
   },
   {
    "duration": 32,
    "start_time": "2022-03-17T07:26:49.003Z"
   },
   {
    "duration": 13,
    "start_time": "2022-03-17T07:26:49.037Z"
   },
   {
    "duration": 204,
    "start_time": "2022-03-17T07:26:49.053Z"
   },
   {
    "duration": 8,
    "start_time": "2022-03-17T07:26:49.258Z"
   },
   {
    "duration": 10,
    "start_time": "2022-03-17T07:26:49.271Z"
   },
   {
    "duration": 12,
    "start_time": "2022-03-17T07:26:49.282Z"
   },
   {
    "duration": 191,
    "start_time": "2022-03-17T07:26:49.295Z"
   },
   {
    "duration": 166,
    "start_time": "2022-03-17T07:26:49.488Z"
   },
   {
    "duration": 206,
    "start_time": "2022-03-17T07:26:49.656Z"
   },
   {
    "duration": 152,
    "start_time": "2022-03-17T07:26:49.864Z"
   },
   {
    "duration": 186,
    "start_time": "2022-03-17T07:26:50.018Z"
   },
   {
    "duration": 191,
    "start_time": "2022-03-17T07:26:50.206Z"
   },
   {
    "duration": 178,
    "start_time": "2022-03-17T07:26:50.399Z"
   },
   {
    "duration": 137,
    "start_time": "2022-03-17T07:26:50.578Z"
   },
   {
    "duration": 172,
    "start_time": "2022-03-17T07:26:50.718Z"
   },
   {
    "duration": 164,
    "start_time": "2022-03-17T07:26:50.892Z"
   },
   {
    "duration": 188,
    "start_time": "2022-03-17T07:26:51.058Z"
   },
   {
    "duration": 167,
    "start_time": "2022-03-17T07:26:51.248Z"
   },
   {
    "duration": 242,
    "start_time": "2022-03-17T07:26:51.416Z"
   },
   {
    "duration": 6,
    "start_time": "2022-03-17T07:26:51.659Z"
   },
   {
    "duration": 13,
    "start_time": "2022-03-17T07:26:51.667Z"
   },
   {
    "duration": 18,
    "start_time": "2022-03-17T07:26:51.682Z"
   },
   {
    "duration": 40,
    "start_time": "2022-03-17T07:26:51.702Z"
   },
   {
    "duration": 593,
    "start_time": "2022-03-17T07:26:51.744Z"
   },
   {
    "duration": 6,
    "start_time": "2022-03-17T07:26:52.339Z"
   },
   {
    "duration": 7,
    "start_time": "2022-03-17T07:26:52.346Z"
   },
   {
    "duration": 8,
    "start_time": "2022-03-17T07:26:52.354Z"
   },
   {
    "duration": 7,
    "start_time": "2022-03-17T07:26:52.363Z"
   },
   {
    "duration": 14,
    "start_time": "2022-03-17T07:26:52.372Z"
   },
   {
    "duration": 184,
    "start_time": "2022-03-17T07:26:52.387Z"
   },
   {
    "duration": 5,
    "start_time": "2022-03-17T07:26:52.572Z"
   },
   {
    "duration": 10,
    "start_time": "2022-03-17T07:26:52.578Z"
   },
   {
    "duration": 8,
    "start_time": "2022-03-17T07:26:52.589Z"
   },
   {
    "duration": 8,
    "start_time": "2022-03-17T07:26:52.599Z"
   },
   {
    "duration": 171,
    "start_time": "2022-03-17T07:26:52.632Z"
   },
   {
    "duration": 5,
    "start_time": "2022-03-17T07:26:52.805Z"
   },
   {
    "duration": 5,
    "start_time": "2022-03-17T07:26:52.812Z"
   },
   {
    "duration": 4,
    "start_time": "2022-03-17T07:26:52.833Z"
   },
   {
    "duration": 6,
    "start_time": "2022-03-17T07:26:52.839Z"
   },
   {
    "duration": 14,
    "start_time": "2022-03-17T07:26:52.847Z"
   },
   {
    "duration": 13,
    "start_time": "2022-03-17T07:26:52.862Z"
   },
   {
    "duration": 119,
    "start_time": "2022-03-17T07:26:52.876Z"
   },
   {
    "duration": 13,
    "start_time": "2022-03-17T07:26:52.997Z"
   },
   {
    "duration": 242,
    "start_time": "2022-03-17T07:26:53.011Z"
   },
   {
    "duration": 12,
    "start_time": "2022-03-17T07:26:53.255Z"
   },
   {
    "duration": 161,
    "start_time": "2022-03-17T07:26:53.269Z"
   },
   {
    "duration": 13,
    "start_time": "2022-03-17T07:26:53.432Z"
   },
   {
    "duration": 226,
    "start_time": "2022-03-17T07:26:53.447Z"
   },
   {
    "duration": 16,
    "start_time": "2022-03-17T07:26:53.675Z"
   },
   {
    "duration": 152,
    "start_time": "2022-03-17T07:26:53.693Z"
   },
   {
    "duration": 13,
    "start_time": "2022-03-17T07:26:53.847Z"
   },
   {
    "duration": 138,
    "start_time": "2022-03-17T07:26:53.861Z"
   },
   {
    "duration": 13,
    "start_time": "2022-03-17T07:26:54.000Z"
   },
   {
    "duration": 164,
    "start_time": "2022-03-17T07:26:54.014Z"
   },
   {
    "duration": 14,
    "start_time": "2022-03-17T07:26:54.180Z"
   },
   {
    "duration": 11,
    "start_time": "2022-03-17T07:26:54.196Z"
   },
   {
    "duration": 28,
    "start_time": "2022-03-17T07:26:54.208Z"
   },
   {
    "duration": 9,
    "start_time": "2022-03-17T07:26:54.238Z"
   },
   {
    "duration": 5,
    "start_time": "2022-03-17T07:26:54.252Z"
   },
   {
    "duration": 4,
    "start_time": "2022-03-17T07:26:54.259Z"
   },
   {
    "duration": 11,
    "start_time": "2022-03-17T07:26:54.265Z"
   },
   {
    "duration": 5,
    "start_time": "2022-03-17T07:26:54.277Z"
   },
   {
    "duration": 3,
    "start_time": "2022-03-17T07:26:54.284Z"
   },
   {
    "duration": 7,
    "start_time": "2022-03-17T07:26:54.289Z"
   },
   {
    "duration": 36,
    "start_time": "2022-03-17T07:26:54.297Z"
   },
   {
    "duration": 5,
    "start_time": "2022-03-17T07:26:54.335Z"
   },
   {
    "duration": 5,
    "start_time": "2022-03-17T07:26:54.342Z"
   },
   {
    "duration": 6,
    "start_time": "2022-03-17T07:26:54.348Z"
   },
   {
    "duration": 9,
    "start_time": "2022-03-17T07:26:54.356Z"
   },
   {
    "duration": 9,
    "start_time": "2022-03-17T07:26:54.366Z"
   },
   {
    "duration": 5,
    "start_time": "2022-03-17T07:26:54.376Z"
   },
   {
    "duration": 4,
    "start_time": "2022-03-17T07:26:54.383Z"
   },
   {
    "duration": 46,
    "start_time": "2022-03-17T07:26:54.388Z"
   },
   {
    "duration": 132,
    "start_time": "2022-03-17T07:34:47.215Z"
   },
   {
    "duration": 138,
    "start_time": "2022-03-17T07:34:57.348Z"
   },
   {
    "duration": 139,
    "start_time": "2022-03-17T07:36:13.692Z"
   },
   {
    "duration": 589,
    "start_time": "2022-09-04T20:03:24.731Z"
   },
   {
    "duration": 170,
    "start_time": "2022-09-04T20:03:25.322Z"
   },
   {
    "duration": 28,
    "start_time": "2022-09-04T20:03:25.494Z"
   },
   {
    "duration": 4,
    "start_time": "2022-09-04T20:03:25.524Z"
   },
   {
    "duration": 9,
    "start_time": "2022-09-04T20:03:25.529Z"
   },
   {
    "duration": 24,
    "start_time": "2022-09-04T20:03:25.539Z"
   },
   {
    "duration": 13,
    "start_time": "2022-09-04T20:03:25.564Z"
   },
   {
    "duration": 11,
    "start_time": "2022-09-04T20:03:25.578Z"
   },
   {
    "duration": 13,
    "start_time": "2022-09-04T20:03:25.606Z"
   },
   {
    "duration": 8,
    "start_time": "2022-09-04T20:03:25.622Z"
   },
   {
    "duration": 19,
    "start_time": "2022-09-04T20:03:25.632Z"
   },
   {
    "duration": 7,
    "start_time": "2022-09-04T20:03:25.653Z"
   },
   {
    "duration": 4,
    "start_time": "2022-09-04T20:03:25.662Z"
   },
   {
    "duration": 39,
    "start_time": "2022-09-04T20:03:25.668Z"
   },
   {
    "duration": 8,
    "start_time": "2022-09-04T20:03:25.709Z"
   },
   {
    "duration": 6,
    "start_time": "2022-09-04T20:03:25.719Z"
   },
   {
    "duration": 8,
    "start_time": "2022-09-04T20:03:25.726Z"
   },
   {
    "duration": 7,
    "start_time": "2022-09-04T20:03:25.735Z"
   },
   {
    "duration": 7,
    "start_time": "2022-09-04T20:03:25.744Z"
   },
   {
    "duration": 6,
    "start_time": "2022-09-04T20:03:25.753Z"
   },
   {
    "duration": 6,
    "start_time": "2022-09-04T20:03:25.760Z"
   },
   {
    "duration": 48,
    "start_time": "2022-09-04T20:03:25.767Z"
   },
   {
    "duration": 17,
    "start_time": "2022-09-04T20:03:25.817Z"
   },
   {
    "duration": 14,
    "start_time": "2022-09-04T20:03:25.836Z"
   },
   {
    "duration": 15,
    "start_time": "2022-09-04T20:03:25.851Z"
   },
   {
    "duration": 243,
    "start_time": "2022-09-04T20:03:25.867Z"
   },
   {
    "duration": 8,
    "start_time": "2022-09-04T20:03:26.112Z"
   },
   {
    "duration": 16,
    "start_time": "2022-09-04T20:03:26.125Z"
   },
   {
    "duration": 15,
    "start_time": "2022-09-04T20:03:26.142Z"
   },
   {
    "duration": 206,
    "start_time": "2022-09-04T20:03:26.159Z"
   },
   {
    "duration": 177,
    "start_time": "2022-09-04T20:03:26.367Z"
   },
   {
    "duration": 209,
    "start_time": "2022-09-04T20:03:26.545Z"
   },
   {
    "duration": 156,
    "start_time": "2022-09-04T20:03:26.756Z"
   },
   {
    "duration": 185,
    "start_time": "2022-09-04T20:03:26.914Z"
   },
   {
    "duration": 186,
    "start_time": "2022-09-04T20:03:27.105Z"
   },
   {
    "duration": 188,
    "start_time": "2022-09-04T20:03:27.293Z"
   },
   {
    "duration": 145,
    "start_time": "2022-09-04T20:03:27.482Z"
   },
   {
    "duration": 180,
    "start_time": "2022-09-04T20:03:27.629Z"
   },
   {
    "duration": 167,
    "start_time": "2022-09-04T20:03:27.811Z"
   },
   {
    "duration": 203,
    "start_time": "2022-09-04T20:03:27.980Z"
   },
   {
    "duration": 169,
    "start_time": "2022-09-04T20:03:28.185Z"
   },
   {
    "duration": 228,
    "start_time": "2022-09-04T20:03:28.356Z"
   },
   {
    "duration": 5,
    "start_time": "2022-09-04T20:03:28.586Z"
   },
   {
    "duration": 15,
    "start_time": "2022-09-04T20:03:28.592Z"
   },
   {
    "duration": 15,
    "start_time": "2022-09-04T20:03:28.609Z"
   },
   {
    "duration": 14,
    "start_time": "2022-09-04T20:03:28.625Z"
   },
   {
    "duration": 577,
    "start_time": "2022-09-04T20:03:28.640Z"
   },
   {
    "duration": 146,
    "start_time": "2022-09-04T20:03:29.218Z"
   },
   {
    "duration": 6,
    "start_time": "2022-09-04T20:03:29.365Z"
   },
   {
    "duration": 4,
    "start_time": "2022-09-04T20:03:29.373Z"
   },
   {
    "duration": 7,
    "start_time": "2022-09-04T20:03:29.379Z"
   },
   {
    "duration": 20,
    "start_time": "2022-09-04T20:03:29.388Z"
   },
   {
    "duration": 29,
    "start_time": "2022-09-04T20:03:29.410Z"
   },
   {
    "duration": 252,
    "start_time": "2022-09-04T20:03:29.441Z"
   },
   {
    "duration": 12,
    "start_time": "2022-09-04T20:03:29.695Z"
   },
   {
    "duration": 11,
    "start_time": "2022-09-04T20:03:29.709Z"
   },
   {
    "duration": 12,
    "start_time": "2022-09-04T20:03:29.721Z"
   },
   {
    "duration": 6,
    "start_time": "2022-09-04T20:03:29.735Z"
   },
   {
    "duration": 179,
    "start_time": "2022-09-04T20:03:29.743Z"
   },
   {
    "duration": 4,
    "start_time": "2022-09-04T20:03:29.924Z"
   },
   {
    "duration": 7,
    "start_time": "2022-09-04T20:03:29.929Z"
   },
   {
    "duration": 5,
    "start_time": "2022-09-04T20:03:29.937Z"
   },
   {
    "duration": 5,
    "start_time": "2022-09-04T20:03:29.943Z"
   },
   {
    "duration": 12,
    "start_time": "2022-09-04T20:03:29.950Z"
   },
   {
    "duration": 44,
    "start_time": "2022-09-04T20:03:29.963Z"
   },
   {
    "duration": 102,
    "start_time": "2022-09-04T20:03:30.008Z"
   },
   {
    "duration": 13,
    "start_time": "2022-09-04T20:03:30.111Z"
   },
   {
    "duration": 138,
    "start_time": "2022-09-04T20:03:30.125Z"
   },
   {
    "duration": 13,
    "start_time": "2022-09-04T20:03:30.264Z"
   },
   {
    "duration": 163,
    "start_time": "2022-09-04T20:03:30.279Z"
   },
   {
    "duration": 13,
    "start_time": "2022-09-04T20:03:30.443Z"
   },
   {
    "duration": 140,
    "start_time": "2022-09-04T20:03:30.458Z"
   },
   {
    "duration": 12,
    "start_time": "2022-09-04T20:03:30.605Z"
   },
   {
    "duration": 153,
    "start_time": "2022-09-04T20:03:30.619Z"
   },
   {
    "duration": 14,
    "start_time": "2022-09-04T20:03:30.773Z"
   },
   {
    "duration": 148,
    "start_time": "2022-09-04T20:03:30.788Z"
   },
   {
    "duration": 13,
    "start_time": "2022-09-04T20:03:30.938Z"
   },
   {
    "duration": 149,
    "start_time": "2022-09-04T20:03:30.952Z"
   },
   {
    "duration": 13,
    "start_time": "2022-09-04T20:03:31.103Z"
   },
   {
    "duration": 26,
    "start_time": "2022-09-04T20:03:31.117Z"
   },
   {
    "duration": 31,
    "start_time": "2022-09-04T20:03:31.144Z"
   },
   {
    "duration": 19,
    "start_time": "2022-09-04T20:03:31.179Z"
   },
   {
    "duration": 23,
    "start_time": "2022-09-04T20:03:31.199Z"
   },
   {
    "duration": 17,
    "start_time": "2022-09-04T20:03:31.223Z"
   },
   {
    "duration": 24,
    "start_time": "2022-09-04T20:03:31.241Z"
   },
   {
    "duration": 8,
    "start_time": "2022-09-04T20:03:31.266Z"
   },
   {
    "duration": 8,
    "start_time": "2022-09-04T20:03:31.275Z"
   },
   {
    "duration": 14,
    "start_time": "2022-09-04T20:03:31.284Z"
   },
   {
    "duration": 13,
    "start_time": "2022-09-04T20:03:31.299Z"
   },
   {
    "duration": 14,
    "start_time": "2022-09-04T20:03:31.313Z"
   },
   {
    "duration": 17,
    "start_time": "2022-09-04T20:03:31.328Z"
   },
   {
    "duration": 16,
    "start_time": "2022-09-04T20:03:31.346Z"
   },
   {
    "duration": 10,
    "start_time": "2022-09-04T20:03:31.363Z"
   },
   {
    "duration": 15,
    "start_time": "2022-09-04T20:03:31.375Z"
   },
   {
    "duration": 17,
    "start_time": "2022-09-04T20:03:31.392Z"
   },
   {
    "duration": 9,
    "start_time": "2022-09-04T20:03:31.410Z"
   },
   {
    "duration": 10,
    "start_time": "2022-09-04T20:03:31.421Z"
   }
  ],
  "colab": {
   "collapsed_sections": [],
   "name": "Untitled0.ipynb",
   "provenance": []
  },
  "kernelspec": {
   "display_name": "Python 3 (ipykernel)",
   "language": "python",
   "name": "python3"
  },
  "language_info": {
   "codemirror_mode": {
    "name": "ipython",
    "version": 3
   },
   "file_extension": ".py",
   "mimetype": "text/x-python",
   "name": "python",
   "nbconvert_exporter": "python",
   "pygments_lexer": "ipython3",
   "version": "3.9.5"
  },
  "toc": {
   "base_numbering": 1,
   "nav_menu": {},
   "number_sections": true,
   "sideBar": true,
   "skip_h1_title": true,
   "title_cell": "Table of Contents",
   "title_sidebar": "Contents",
   "toc_cell": false,
   "toc_position": {},
   "toc_section_display": true,
   "toc_window_display": true
  }
 },
 "nbformat": 4,
 "nbformat_minor": 1
}
