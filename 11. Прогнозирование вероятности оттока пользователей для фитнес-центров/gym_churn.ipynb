{
 "cells": [
  {
   "cell_type": "markdown",
   "metadata": {},
   "source": [
    "# Введение\n"
   ]
  },
  {
   "cell_type": "markdown",
   "metadata": {},
   "source": [
    "Сеть фитнес-центров «Культурист-датасаентист» разрабатывает стратегию взаимодействия с клиентами на основе аналитических данных.\n",
    "\n",
    "Чтобы бороться с оттоком, отдел по работе с клиентами «Культуриста-датасаентиста» перевёл в электронный вид множество клиентских анкет. Ваша задача — провести анализ и подготовить план действий по удержанию клиентов.\n",
    "\n",
    "А именно:\n",
    "* научиться прогнозировать вероятность оттока (на уровне следующего месяца) для каждого клиента;\n",
    "* сформировать типичные портреты клиентов: выделить несколько наиболее ярких групп и охарактеризовать их основные свойства;\n",
    "* проанализировать основные признаки, наиболее сильно влияющие на отток;\n",
    "* сформулировать основные выводы и разработать рекомендации по повышению качества работы с клиентами:\n",
    "\n",
    "    1) выделить целевые группы клиентов;\n",
    "    \n",
    "    2) предложить меры по снижению оттока;\n",
    "    \n",
    "    3) определить другие особенности взаимодействия с клиентами."
   ]
  },
  {
   "cell_type": "markdown",
   "metadata": {},
   "source": [
    "## Загрузка данных"
   ]
  },
  {
   "cell_type": "markdown",
   "metadata": {},
   "source": [
    "Для начала ознакомимся с данными, которые у нас есть. Согласно легенде исследования, заказчик подготовил данные, которые содержат данные на месяц до оттока и факт оттока на определённый месяц. Набор данных включает следующие поля:\n",
    "Данные клиента за предыдущий до проверки факта оттока месяц:\n",
    "* 'gender' — пол;\n",
    "* 'Near_Location' — проживание или работа в районе, где находится фитнес-центр;\n",
    "* 'Partner' — сотрудник компании-партнёра клуба (сотрудничество с компаниями, чьи сотрудники могут получать скидки на абонемент — в таком случае фитнес-центр хранит информацию о работодателе клиента);\n",
    "* Promo_friends — факт первоначальной записи в рамках акции «приведи друга» (использовал промо-код от знакомого при оплате первого абонемента);\n",
    "* 'Phone' — наличие контактного телефона;\n",
    "* 'Age' — возраст;\n",
    "* 'Lifetime' — время с момента первого обращения в фитнес-центр (в месяцах).\n",
    "\n",
    "Информация на основе журнала посещений, покупок и информация о текущем статусе абонемента клиента:\n",
    "* 'Contract_period' — длительность текущего действующего абонемента (месяц, 6 месяцев, год);\n",
    "* 'Month_to_end_contract' — срок до окончания текущего действующего абонемента (в месяцах);\n",
    "* 'Group_visits' — факт посещения групповых занятий;\n",
    "* 'Avg_class_frequency_total' — средняя частота посещений в неделю за все время с начала действия абонемента;\n",
    "* 'Avg_class_frequency_current_month' — средняя частота посещений в неделю за предыдущий месяц;\n",
    "* 'Avg_additional_charges_total' — суммарная выручка от других услуг фитнес-центра: кафе, спорттовары, косметический и массажный салон.\n",
    "* 'Churn' — факт оттока в текущем месяце."
   ]
  },
  {
   "cell_type": "markdown",
   "metadata": {},
   "source": [
    "Что ж, приступим к исследованию. Для начала импортируем все необходимые библиотеки и немного поменяем стиль оформления. "
   ]
  },
  {
   "cell_type": "code",
   "execution_count": 1,
   "metadata": {},
   "outputs": [],
   "source": [
    "import pandas as pd\n",
    "import seaborn as sns\n",
    "import matplotlib.pyplot as plt\n",
    "from sklearn.model_selection import train_test_split\n",
    "from sklearn.linear_model import LogisticRegression\n",
    "from sklearn.preprocessing import StandardScaler\n",
    "from sklearn.ensemble import RandomForestClassifier\n",
    "from sklearn.metrics import accuracy_score, precision_score, recall_score, f1_score\n",
    "from scipy.cluster.hierarchy import dendrogram, linkage \n",
    "from sklearn.cluster import KMeans\n",
    "plt.style.use('seaborn-dark')"
   ]
  },
  {
   "cell_type": "markdown",
   "metadata": {},
   "source": [
    "И, собственно, загрузим наш датафрейм."
   ]
  },
  {
   "cell_type": "code",
   "execution_count": 2,
   "metadata": {},
   "outputs": [],
   "source": [
    "df = pd.read_csv('/datasets/gym_churn.csv')"
   ]
  },
  {
   "cell_type": "markdown",
   "metadata": {
    "scrolled": true
   },
   "source": [
    "### Выводы"
   ]
  },
  {
   "cell_type": "markdown",
   "metadata": {},
   "source": [
    "Мы ознакомились с легендой исследования, задачами, которые нам предстоит решить, а также провели импорт необходимых библиотек и загрузили таблицу, с которой нам предстоит работать."
   ]
  },
  {
   "cell_type": "markdown",
   "metadata": {},
   "source": [
    "## Исследовательский анализ данных"
   ]
  },
  {
   "cell_type": "markdown",
   "metadata": {},
   "source": [
    "Выведем шапку таблицы и общую информацию по ней, чтобы понять, что нас ожидает впереди:"
   ]
  },
  {
   "cell_type": "code",
   "execution_count": 3,
   "metadata": {},
   "outputs": [
    {
     "data": {
      "text/html": [
       "<div>\n",
       "<style scoped>\n",
       "    .dataframe tbody tr th:only-of-type {\n",
       "        vertical-align: middle;\n",
       "    }\n",
       "\n",
       "    .dataframe tbody tr th {\n",
       "        vertical-align: top;\n",
       "    }\n",
       "\n",
       "    .dataframe thead th {\n",
       "        text-align: right;\n",
       "    }\n",
       "</style>\n",
       "<table border=\"1\" class=\"dataframe\">\n",
       "  <thead>\n",
       "    <tr style=\"text-align: right;\">\n",
       "      <th></th>\n",
       "      <th>gender</th>\n",
       "      <th>Near_Location</th>\n",
       "      <th>Partner</th>\n",
       "      <th>Promo_friends</th>\n",
       "      <th>Phone</th>\n",
       "      <th>Contract_period</th>\n",
       "      <th>Group_visits</th>\n",
       "      <th>Age</th>\n",
       "      <th>Avg_additional_charges_total</th>\n",
       "      <th>Month_to_end_contract</th>\n",
       "      <th>Lifetime</th>\n",
       "      <th>Avg_class_frequency_total</th>\n",
       "      <th>Avg_class_frequency_current_month</th>\n",
       "      <th>Churn</th>\n",
       "    </tr>\n",
       "  </thead>\n",
       "  <tbody>\n",
       "    <tr>\n",
       "      <th>0</th>\n",
       "      <td>1</td>\n",
       "      <td>1</td>\n",
       "      <td>1</td>\n",
       "      <td>1</td>\n",
       "      <td>0</td>\n",
       "      <td>6</td>\n",
       "      <td>1</td>\n",
       "      <td>29</td>\n",
       "      <td>14.227470</td>\n",
       "      <td>5.0</td>\n",
       "      <td>3</td>\n",
       "      <td>0.020398</td>\n",
       "      <td>0.000000</td>\n",
       "      <td>0</td>\n",
       "    </tr>\n",
       "    <tr>\n",
       "      <th>1</th>\n",
       "      <td>0</td>\n",
       "      <td>1</td>\n",
       "      <td>0</td>\n",
       "      <td>0</td>\n",
       "      <td>1</td>\n",
       "      <td>12</td>\n",
       "      <td>1</td>\n",
       "      <td>31</td>\n",
       "      <td>113.202938</td>\n",
       "      <td>12.0</td>\n",
       "      <td>7</td>\n",
       "      <td>1.922936</td>\n",
       "      <td>1.910244</td>\n",
       "      <td>0</td>\n",
       "    </tr>\n",
       "    <tr>\n",
       "      <th>2</th>\n",
       "      <td>0</td>\n",
       "      <td>1</td>\n",
       "      <td>1</td>\n",
       "      <td>0</td>\n",
       "      <td>1</td>\n",
       "      <td>1</td>\n",
       "      <td>0</td>\n",
       "      <td>28</td>\n",
       "      <td>129.448479</td>\n",
       "      <td>1.0</td>\n",
       "      <td>2</td>\n",
       "      <td>1.859098</td>\n",
       "      <td>1.736502</td>\n",
       "      <td>0</td>\n",
       "    </tr>\n",
       "    <tr>\n",
       "      <th>3</th>\n",
       "      <td>0</td>\n",
       "      <td>1</td>\n",
       "      <td>1</td>\n",
       "      <td>1</td>\n",
       "      <td>1</td>\n",
       "      <td>12</td>\n",
       "      <td>1</td>\n",
       "      <td>33</td>\n",
       "      <td>62.669863</td>\n",
       "      <td>12.0</td>\n",
       "      <td>2</td>\n",
       "      <td>3.205633</td>\n",
       "      <td>3.357215</td>\n",
       "      <td>0</td>\n",
       "    </tr>\n",
       "    <tr>\n",
       "      <th>4</th>\n",
       "      <td>1</td>\n",
       "      <td>1</td>\n",
       "      <td>1</td>\n",
       "      <td>1</td>\n",
       "      <td>1</td>\n",
       "      <td>1</td>\n",
       "      <td>0</td>\n",
       "      <td>26</td>\n",
       "      <td>198.362265</td>\n",
       "      <td>1.0</td>\n",
       "      <td>3</td>\n",
       "      <td>1.113884</td>\n",
       "      <td>1.120078</td>\n",
       "      <td>0</td>\n",
       "    </tr>\n",
       "  </tbody>\n",
       "</table>\n",
       "</div>"
      ],
      "text/plain": [
       "   gender  Near_Location  Partner  Promo_friends  Phone  Contract_period  \\\n",
       "0       1              1        1              1      0                6   \n",
       "1       0              1        0              0      1               12   \n",
       "2       0              1        1              0      1                1   \n",
       "3       0              1        1              1      1               12   \n",
       "4       1              1        1              1      1                1   \n",
       "\n",
       "   Group_visits  Age  Avg_additional_charges_total  Month_to_end_contract  \\\n",
       "0             1   29                     14.227470                    5.0   \n",
       "1             1   31                    113.202938                   12.0   \n",
       "2             0   28                    129.448479                    1.0   \n",
       "3             1   33                     62.669863                   12.0   \n",
       "4             0   26                    198.362265                    1.0   \n",
       "\n",
       "   Lifetime  Avg_class_frequency_total  Avg_class_frequency_current_month  \\\n",
       "0         3                   0.020398                           0.000000   \n",
       "1         7                   1.922936                           1.910244   \n",
       "2         2                   1.859098                           1.736502   \n",
       "3         2                   3.205633                           3.357215   \n",
       "4         3                   1.113884                           1.120078   \n",
       "\n",
       "   Churn  \n",
       "0      0  \n",
       "1      0  \n",
       "2      0  \n",
       "3      0  \n",
       "4      0  "
      ]
     },
     "execution_count": 3,
     "metadata": {},
     "output_type": "execute_result"
    }
   ],
   "source": [
    "df.head(5)"
   ]
  },
  {
   "cell_type": "code",
   "execution_count": 4,
   "metadata": {
    "scrolled": false
   },
   "outputs": [
    {
     "name": "stdout",
     "output_type": "stream",
     "text": [
      "(4000, 14)\n",
      "<class 'pandas.core.frame.DataFrame'>\n",
      "RangeIndex: 4000 entries, 0 to 3999\n",
      "Data columns (total 14 columns):\n",
      " #   Column                             Non-Null Count  Dtype  \n",
      "---  ------                             --------------  -----  \n",
      " 0   gender                             4000 non-null   int64  \n",
      " 1   Near_Location                      4000 non-null   int64  \n",
      " 2   Partner                            4000 non-null   int64  \n",
      " 3   Promo_friends                      4000 non-null   int64  \n",
      " 4   Phone                              4000 non-null   int64  \n",
      " 5   Contract_period                    4000 non-null   int64  \n",
      " 6   Group_visits                       4000 non-null   int64  \n",
      " 7   Age                                4000 non-null   int64  \n",
      " 8   Avg_additional_charges_total       4000 non-null   float64\n",
      " 9   Month_to_end_contract              4000 non-null   float64\n",
      " 10  Lifetime                           4000 non-null   int64  \n",
      " 11  Avg_class_frequency_total          4000 non-null   float64\n",
      " 12  Avg_class_frequency_current_month  4000 non-null   float64\n",
      " 13  Churn                              4000 non-null   int64  \n",
      "dtypes: float64(4), int64(10)\n",
      "memory usage: 437.6 KB\n"
     ]
    }
   ],
   "source": [
    "print(df.shape)\n",
    "df.info()"
   ]
  },
  {
   "cell_type": "markdown",
   "metadata": {},
   "source": [
    "4000 строк, 14 столбцов, только числовые значения, на первый взгляд пропусков нет. В целом, неплохо.\n",
    "\n",
    "Переведем названия столбцов в нижний регистр для удобства:"
   ]
  },
  {
   "cell_type": "code",
   "execution_count": 5,
   "metadata": {
    "scrolled": false
   },
   "outputs": [
    {
     "data": {
      "text/plain": [
       "Index(['gender', 'near_location', 'partner', 'promo_friends', 'phone',\n",
       "       'contract_period', 'group_visits', 'age',\n",
       "       'avg_additional_charges_total', 'month_to_end_contract', 'lifetime',\n",
       "       'avg_class_frequency_total', 'avg_class_frequency_current_month',\n",
       "       'churn'],\n",
       "      dtype='object')"
      ]
     },
     "execution_count": 5,
     "metadata": {},
     "output_type": "execute_result"
    }
   ],
   "source": [
    "df.columns = df.columns.str.lower()\n",
    "df.columns"
   ]
  },
  {
   "cell_type": "markdown",
   "metadata": {},
   "source": [
    "Отлично. Так как у нас нет строковых данных, посмотрим на таблицу методом `describe()`:"
   ]
  },
  {
   "cell_type": "code",
   "execution_count": 6,
   "metadata": {},
   "outputs": [
    {
     "data": {
      "text/html": [
       "<div>\n",
       "<style scoped>\n",
       "    .dataframe tbody tr th:only-of-type {\n",
       "        vertical-align: middle;\n",
       "    }\n",
       "\n",
       "    .dataframe tbody tr th {\n",
       "        vertical-align: top;\n",
       "    }\n",
       "\n",
       "    .dataframe thead th {\n",
       "        text-align: right;\n",
       "    }\n",
       "</style>\n",
       "<table border=\"1\" class=\"dataframe\">\n",
       "  <thead>\n",
       "    <tr style=\"text-align: right;\">\n",
       "      <th></th>\n",
       "      <th>gender</th>\n",
       "      <th>near_location</th>\n",
       "      <th>partner</th>\n",
       "      <th>promo_friends</th>\n",
       "      <th>phone</th>\n",
       "      <th>contract_period</th>\n",
       "      <th>group_visits</th>\n",
       "      <th>age</th>\n",
       "      <th>avg_additional_charges_total</th>\n",
       "      <th>month_to_end_contract</th>\n",
       "      <th>lifetime</th>\n",
       "      <th>avg_class_frequency_total</th>\n",
       "      <th>avg_class_frequency_current_month</th>\n",
       "      <th>churn</th>\n",
       "    </tr>\n",
       "  </thead>\n",
       "  <tbody>\n",
       "    <tr>\n",
       "      <th>count</th>\n",
       "      <td>4000.000000</td>\n",
       "      <td>4000.000000</td>\n",
       "      <td>4000.000000</td>\n",
       "      <td>4000.000000</td>\n",
       "      <td>4000.000000</td>\n",
       "      <td>4000.000000</td>\n",
       "      <td>4000.000000</td>\n",
       "      <td>4000.000000</td>\n",
       "      <td>4000.000000</td>\n",
       "      <td>4000.000000</td>\n",
       "      <td>4000.000000</td>\n",
       "      <td>4000.000000</td>\n",
       "      <td>4000.000000</td>\n",
       "      <td>4000.000000</td>\n",
       "    </tr>\n",
       "    <tr>\n",
       "      <th>mean</th>\n",
       "      <td>0.510250</td>\n",
       "      <td>0.845250</td>\n",
       "      <td>0.486750</td>\n",
       "      <td>0.308500</td>\n",
       "      <td>0.903500</td>\n",
       "      <td>4.681250</td>\n",
       "      <td>0.412250</td>\n",
       "      <td>29.184250</td>\n",
       "      <td>146.943728</td>\n",
       "      <td>4.322750</td>\n",
       "      <td>3.724750</td>\n",
       "      <td>1.879020</td>\n",
       "      <td>1.767052</td>\n",
       "      <td>0.265250</td>\n",
       "    </tr>\n",
       "    <tr>\n",
       "      <th>std</th>\n",
       "      <td>0.499957</td>\n",
       "      <td>0.361711</td>\n",
       "      <td>0.499887</td>\n",
       "      <td>0.461932</td>\n",
       "      <td>0.295313</td>\n",
       "      <td>4.549706</td>\n",
       "      <td>0.492301</td>\n",
       "      <td>3.258367</td>\n",
       "      <td>96.355602</td>\n",
       "      <td>4.191297</td>\n",
       "      <td>3.749267</td>\n",
       "      <td>0.972245</td>\n",
       "      <td>1.052906</td>\n",
       "      <td>0.441521</td>\n",
       "    </tr>\n",
       "    <tr>\n",
       "      <th>min</th>\n",
       "      <td>0.000000</td>\n",
       "      <td>0.000000</td>\n",
       "      <td>0.000000</td>\n",
       "      <td>0.000000</td>\n",
       "      <td>0.000000</td>\n",
       "      <td>1.000000</td>\n",
       "      <td>0.000000</td>\n",
       "      <td>18.000000</td>\n",
       "      <td>0.148205</td>\n",
       "      <td>1.000000</td>\n",
       "      <td>0.000000</td>\n",
       "      <td>0.000000</td>\n",
       "      <td>0.000000</td>\n",
       "      <td>0.000000</td>\n",
       "    </tr>\n",
       "    <tr>\n",
       "      <th>25%</th>\n",
       "      <td>0.000000</td>\n",
       "      <td>1.000000</td>\n",
       "      <td>0.000000</td>\n",
       "      <td>0.000000</td>\n",
       "      <td>1.000000</td>\n",
       "      <td>1.000000</td>\n",
       "      <td>0.000000</td>\n",
       "      <td>27.000000</td>\n",
       "      <td>68.868830</td>\n",
       "      <td>1.000000</td>\n",
       "      <td>1.000000</td>\n",
       "      <td>1.180875</td>\n",
       "      <td>0.963003</td>\n",
       "      <td>0.000000</td>\n",
       "    </tr>\n",
       "    <tr>\n",
       "      <th>50%</th>\n",
       "      <td>1.000000</td>\n",
       "      <td>1.000000</td>\n",
       "      <td>0.000000</td>\n",
       "      <td>0.000000</td>\n",
       "      <td>1.000000</td>\n",
       "      <td>1.000000</td>\n",
       "      <td>0.000000</td>\n",
       "      <td>29.000000</td>\n",
       "      <td>136.220159</td>\n",
       "      <td>1.000000</td>\n",
       "      <td>3.000000</td>\n",
       "      <td>1.832768</td>\n",
       "      <td>1.719574</td>\n",
       "      <td>0.000000</td>\n",
       "    </tr>\n",
       "    <tr>\n",
       "      <th>75%</th>\n",
       "      <td>1.000000</td>\n",
       "      <td>1.000000</td>\n",
       "      <td>1.000000</td>\n",
       "      <td>1.000000</td>\n",
       "      <td>1.000000</td>\n",
       "      <td>6.000000</td>\n",
       "      <td>1.000000</td>\n",
       "      <td>31.000000</td>\n",
       "      <td>210.949625</td>\n",
       "      <td>6.000000</td>\n",
       "      <td>5.000000</td>\n",
       "      <td>2.536078</td>\n",
       "      <td>2.510336</td>\n",
       "      <td>1.000000</td>\n",
       "    </tr>\n",
       "    <tr>\n",
       "      <th>max</th>\n",
       "      <td>1.000000</td>\n",
       "      <td>1.000000</td>\n",
       "      <td>1.000000</td>\n",
       "      <td>1.000000</td>\n",
       "      <td>1.000000</td>\n",
       "      <td>12.000000</td>\n",
       "      <td>1.000000</td>\n",
       "      <td>41.000000</td>\n",
       "      <td>552.590740</td>\n",
       "      <td>12.000000</td>\n",
       "      <td>31.000000</td>\n",
       "      <td>6.023668</td>\n",
       "      <td>6.146783</td>\n",
       "      <td>1.000000</td>\n",
       "    </tr>\n",
       "  </tbody>\n",
       "</table>\n",
       "</div>"
      ],
      "text/plain": [
       "            gender  near_location      partner  promo_friends        phone  \\\n",
       "count  4000.000000    4000.000000  4000.000000    4000.000000  4000.000000   \n",
       "mean      0.510250       0.845250     0.486750       0.308500     0.903500   \n",
       "std       0.499957       0.361711     0.499887       0.461932     0.295313   \n",
       "min       0.000000       0.000000     0.000000       0.000000     0.000000   \n",
       "25%       0.000000       1.000000     0.000000       0.000000     1.000000   \n",
       "50%       1.000000       1.000000     0.000000       0.000000     1.000000   \n",
       "75%       1.000000       1.000000     1.000000       1.000000     1.000000   \n",
       "max       1.000000       1.000000     1.000000       1.000000     1.000000   \n",
       "\n",
       "       contract_period  group_visits          age  \\\n",
       "count      4000.000000   4000.000000  4000.000000   \n",
       "mean          4.681250      0.412250    29.184250   \n",
       "std           4.549706      0.492301     3.258367   \n",
       "min           1.000000      0.000000    18.000000   \n",
       "25%           1.000000      0.000000    27.000000   \n",
       "50%           1.000000      0.000000    29.000000   \n",
       "75%           6.000000      1.000000    31.000000   \n",
       "max          12.000000      1.000000    41.000000   \n",
       "\n",
       "       avg_additional_charges_total  month_to_end_contract     lifetime  \\\n",
       "count                   4000.000000            4000.000000  4000.000000   \n",
       "mean                     146.943728               4.322750     3.724750   \n",
       "std                       96.355602               4.191297     3.749267   \n",
       "min                        0.148205               1.000000     0.000000   \n",
       "25%                       68.868830               1.000000     1.000000   \n",
       "50%                      136.220159               1.000000     3.000000   \n",
       "75%                      210.949625               6.000000     5.000000   \n",
       "max                      552.590740              12.000000    31.000000   \n",
       "\n",
       "       avg_class_frequency_total  avg_class_frequency_current_month  \\\n",
       "count                4000.000000                        4000.000000   \n",
       "mean                    1.879020                           1.767052   \n",
       "std                     0.972245                           1.052906   \n",
       "min                     0.000000                           0.000000   \n",
       "25%                     1.180875                           0.963003   \n",
       "50%                     1.832768                           1.719574   \n",
       "75%                     2.536078                           2.510336   \n",
       "max                     6.023668                           6.146783   \n",
       "\n",
       "             churn  \n",
       "count  4000.000000  \n",
       "mean      0.265250  \n",
       "std       0.441521  \n",
       "min       0.000000  \n",
       "25%       0.000000  \n",
       "50%       0.000000  \n",
       "75%       1.000000  \n",
       "max       1.000000  "
      ]
     },
     "execution_count": 6,
     "metadata": {},
     "output_type": "execute_result"
    }
   ],
   "source": [
    "df.describe()"
   ]
  },
  {
   "cell_type": "markdown",
   "metadata": {},
   "source": [
    "Мы можем сказать, что нас есть числовые признаки `age`, `avg_additional_charges_total`, `avg_class_frequency_total`, `month_to_end_contract`, `lifetime`,  `avg_class_frequency_current_month`. Все остальные относятся к категориальным.\n",
    "\n",
    "Судя по данным, спортзал предлагает абонементы на 1, 6 и 12 месяцев. Возраст посетителей от 18 до 41 года, средний возраст 29 лет. Средний посетитель ходит в зал почти 4 месяца, и при этом также тратит 146 рублей в неделю на дополнительные услуги, вероятно, какие-нибудь кислородные коктейли или вода.  \n",
    "\n",
    "Для очистки совести проверим датафрейм на дубликаты:"
   ]
  },
  {
   "cell_type": "code",
   "execution_count": 7,
   "metadata": {
    "scrolled": false
   },
   "outputs": [
    {
     "name": "stdout",
     "output_type": "stream",
     "text": [
      "Количество дубликатов: 0.\n"
     ]
    }
   ],
   "source": [
    "print(f'Количество дубликатов: {df.duplicated().sum()}.')"
   ]
  },
  {
   "cell_type": "markdown",
   "metadata": {},
   "source": [
    "И на пропуски:"
   ]
  },
  {
   "cell_type": "code",
   "execution_count": 8,
   "metadata": {
    "scrolled": true
   },
   "outputs": [
    {
     "name": "stdout",
     "output_type": "stream",
     "text": [
      "Количество пропусков: gender                               0\n",
      "near_location                        0\n",
      "partner                              0\n",
      "promo_friends                        0\n",
      "phone                                0\n",
      "contract_period                      0\n",
      "group_visits                         0\n",
      "age                                  0\n",
      "avg_additional_charges_total         0\n",
      "month_to_end_contract                0\n",
      "lifetime                             0\n",
      "avg_class_frequency_total            0\n",
      "avg_class_frequency_current_month    0\n",
      "churn                                0\n",
      "dtype: int64.\n"
     ]
    }
   ],
   "source": [
    "print(f'Количество пропусков: {df.isna().sum()}.')"
   ]
  },
  {
   "cell_type": "markdown",
   "metadata": {},
   "source": [
    "Таковых не обнаружено, двигаемся дальше. \n",
    "\n",
    "Посмотрим на средние значения среди ушедших клиентов и оставшихся спортсменов:"
   ]
  },
  {
   "cell_type": "code",
   "execution_count": 9,
   "metadata": {},
   "outputs": [],
   "source": [
    "churns = df.groupby('churn').agg('mean')  #временный датафрейм"
   ]
  },
  {
   "cell_type": "markdown",
   "metadata": {},
   "source": [
    "Группировка работает, но разобраться в этом очень сложно."
   ]
  },
  {
   "cell_type": "code",
   "execution_count": 10,
   "metadata": {},
   "outputs": [
    {
     "data": {
      "text/html": [
       "<div>\n",
       "<style scoped>\n",
       "    .dataframe tbody tr th:only-of-type {\n",
       "        vertical-align: middle;\n",
       "    }\n",
       "\n",
       "    .dataframe tbody tr th {\n",
       "        vertical-align: top;\n",
       "    }\n",
       "\n",
       "    .dataframe thead th {\n",
       "        text-align: right;\n",
       "    }\n",
       "</style>\n",
       "<table border=\"1\" class=\"dataframe\">\n",
       "  <thead>\n",
       "    <tr style=\"text-align: right;\">\n",
       "      <th></th>\n",
       "      <th>gender</th>\n",
       "      <th>near_location</th>\n",
       "      <th>partner</th>\n",
       "      <th>promo_friends</th>\n",
       "      <th>phone</th>\n",
       "      <th>contract_period</th>\n",
       "      <th>group_visits</th>\n",
       "      <th>age</th>\n",
       "      <th>avg_additional_charges_total</th>\n",
       "      <th>month_to_end_contract</th>\n",
       "      <th>lifetime</th>\n",
       "      <th>avg_class_frequency_total</th>\n",
       "      <th>avg_class_frequency_current_month</th>\n",
       "    </tr>\n",
       "    <tr>\n",
       "      <th>churn</th>\n",
       "      <th></th>\n",
       "      <th></th>\n",
       "      <th></th>\n",
       "      <th></th>\n",
       "      <th></th>\n",
       "      <th></th>\n",
       "      <th></th>\n",
       "      <th></th>\n",
       "      <th></th>\n",
       "      <th></th>\n",
       "      <th></th>\n",
       "      <th></th>\n",
       "      <th></th>\n",
       "    </tr>\n",
       "  </thead>\n",
       "  <tbody>\n",
       "    <tr>\n",
       "      <th>0</th>\n",
       "      <td>0.510037</td>\n",
       "      <td>0.873086</td>\n",
       "      <td>0.534195</td>\n",
       "      <td>0.353522</td>\n",
       "      <td>0.903709</td>\n",
       "      <td>5.747193</td>\n",
       "      <td>0.464103</td>\n",
       "      <td>29.976523</td>\n",
       "      <td>158.445715</td>\n",
       "      <td>5.283089</td>\n",
       "      <td>4.711807</td>\n",
       "      <td>2.024876</td>\n",
       "      <td>2.027882</td>\n",
       "    </tr>\n",
       "    <tr>\n",
       "      <th>1</th>\n",
       "      <td>0.510839</td>\n",
       "      <td>0.768143</td>\n",
       "      <td>0.355325</td>\n",
       "      <td>0.183789</td>\n",
       "      <td>0.902922</td>\n",
       "      <td>1.728558</td>\n",
       "      <td>0.268615</td>\n",
       "      <td>26.989632</td>\n",
       "      <td>115.082899</td>\n",
       "      <td>1.662582</td>\n",
       "      <td>0.990575</td>\n",
       "      <td>1.474995</td>\n",
       "      <td>1.044546</td>\n",
       "    </tr>\n",
       "  </tbody>\n",
       "</table>\n",
       "</div>"
      ],
      "text/plain": [
       "         gender  near_location   partner  promo_friends     phone  \\\n",
       "churn                                                               \n",
       "0      0.510037       0.873086  0.534195       0.353522  0.903709   \n",
       "1      0.510839       0.768143  0.355325       0.183789  0.902922   \n",
       "\n",
       "       contract_period  group_visits        age  avg_additional_charges_total  \\\n",
       "churn                                                                           \n",
       "0             5.747193      0.464103  29.976523                    158.445715   \n",
       "1             1.728558      0.268615  26.989632                    115.082899   \n",
       "\n",
       "       month_to_end_contract  lifetime  avg_class_frequency_total  \\\n",
       "churn                                                               \n",
       "0                   5.283089  4.711807                   2.024876   \n",
       "1                   1.662582  0.990575                   1.474995   \n",
       "\n",
       "       avg_class_frequency_current_month  \n",
       "churn                                     \n",
       "0                               2.027882  \n",
       "1                               1.044546  "
      ]
     },
     "execution_count": 10,
     "metadata": {},
     "output_type": "execute_result"
    }
   ],
   "source": [
    "churns.head()"
   ]
  },
  {
   "cell_type": "markdown",
   "metadata": {},
   "source": [
    "Перегруппируем таблицу. Теперь намного удобнее."
   ]
  },
  {
   "cell_type": "code",
   "execution_count": 11,
   "metadata": {
    "scrolled": false
   },
   "outputs": [
    {
     "data": {
      "text/html": [
       "<div>\n",
       "<style scoped>\n",
       "    .dataframe tbody tr th:only-of-type {\n",
       "        vertical-align: middle;\n",
       "    }\n",
       "\n",
       "    .dataframe tbody tr th {\n",
       "        vertical-align: top;\n",
       "    }\n",
       "\n",
       "    .dataframe thead th {\n",
       "        text-align: right;\n",
       "    }\n",
       "</style>\n",
       "<table border=\"1\" class=\"dataframe\">\n",
       "  <thead>\n",
       "    <tr style=\"text-align: right;\">\n",
       "      <th>churn</th>\n",
       "      <th>0</th>\n",
       "      <th>1</th>\n",
       "    </tr>\n",
       "  </thead>\n",
       "  <tbody>\n",
       "    <tr>\n",
       "      <th>gender</th>\n",
       "      <td>0.510037</td>\n",
       "      <td>0.510839</td>\n",
       "    </tr>\n",
       "    <tr>\n",
       "      <th>near_location</th>\n",
       "      <td>0.873086</td>\n",
       "      <td>0.768143</td>\n",
       "    </tr>\n",
       "    <tr>\n",
       "      <th>partner</th>\n",
       "      <td>0.534195</td>\n",
       "      <td>0.355325</td>\n",
       "    </tr>\n",
       "    <tr>\n",
       "      <th>promo_friends</th>\n",
       "      <td>0.353522</td>\n",
       "      <td>0.183789</td>\n",
       "    </tr>\n",
       "    <tr>\n",
       "      <th>phone</th>\n",
       "      <td>0.903709</td>\n",
       "      <td>0.902922</td>\n",
       "    </tr>\n",
       "    <tr>\n",
       "      <th>contract_period</th>\n",
       "      <td>5.747193</td>\n",
       "      <td>1.728558</td>\n",
       "    </tr>\n",
       "    <tr>\n",
       "      <th>group_visits</th>\n",
       "      <td>0.464103</td>\n",
       "      <td>0.268615</td>\n",
       "    </tr>\n",
       "    <tr>\n",
       "      <th>age</th>\n",
       "      <td>29.976523</td>\n",
       "      <td>26.989632</td>\n",
       "    </tr>\n",
       "    <tr>\n",
       "      <th>avg_additional_charges_total</th>\n",
       "      <td>158.445715</td>\n",
       "      <td>115.082899</td>\n",
       "    </tr>\n",
       "    <tr>\n",
       "      <th>month_to_end_contract</th>\n",
       "      <td>5.283089</td>\n",
       "      <td>1.662582</td>\n",
       "    </tr>\n",
       "    <tr>\n",
       "      <th>lifetime</th>\n",
       "      <td>4.711807</td>\n",
       "      <td>0.990575</td>\n",
       "    </tr>\n",
       "    <tr>\n",
       "      <th>avg_class_frequency_total</th>\n",
       "      <td>2.024876</td>\n",
       "      <td>1.474995</td>\n",
       "    </tr>\n",
       "    <tr>\n",
       "      <th>avg_class_frequency_current_month</th>\n",
       "      <td>2.027882</td>\n",
       "      <td>1.044546</td>\n",
       "    </tr>\n",
       "  </tbody>\n",
       "</table>\n",
       "</div>"
      ],
      "text/plain": [
       "churn                                       0           1\n",
       "gender                               0.510037    0.510839\n",
       "near_location                        0.873086    0.768143\n",
       "partner                              0.534195    0.355325\n",
       "promo_friends                        0.353522    0.183789\n",
       "phone                                0.903709    0.902922\n",
       "contract_period                      5.747193    1.728558\n",
       "group_visits                         0.464103    0.268615\n",
       "age                                 29.976523   26.989632\n",
       "avg_additional_charges_total       158.445715  115.082899\n",
       "month_to_end_contract                5.283089    1.662582\n",
       "lifetime                             4.711807    0.990575\n",
       "avg_class_frequency_total            2.024876    1.474995\n",
       "avg_class_frequency_current_month    2.027882    1.044546"
      ]
     },
     "execution_count": 11,
     "metadata": {},
     "output_type": "execute_result"
    }
   ],
   "source": [
    "churns.T"
   ]
  },
  {
   "cell_type": "markdown",
   "metadata": {},
   "source": [
    "Итак, что мы можем сказать, глядя на средние значения для групп ушедших и оставшихся клиентов:\n",
    "* чаще ушедшие клиенты живут в другом районе\n",
    "* их время с первого посещения зала почти в пять раз меньше\n",
    "* они намного реже ходят на групповые занятия\n",
    "* они немного моложе, чем постоянные клиенты\n",
    "* они тратят меньше денег на допуслуги\n",
    "* и в зал они ходят значительно реже (причем, в месяц, когда они собираются бросать, средняя частота посещений снижается еще на 30%)"
   ]
  },
  {
   "cell_type": "markdown",
   "metadata": {},
   "source": [
    "Сделаем списки столбцов по признакам для построения диаграмм:"
   ]
  },
  {
   "cell_type": "code",
   "execution_count": 12,
   "metadata": {},
   "outputs": [],
   "source": [
    "columns = df.columns.tolist()\n",
    "counts = ['age', 'avg_additional_charges_total', 'month_to_end_contract', \n",
    "          'lifetime', 'avg_class_frequency_total', 'avg_class_frequency_current_month']  # числовые\n",
    "categories = ['gender', 'near_location', 'partner', 'promo_friends', \n",
    "                'phone', 'contract_period', 'group_visits']  # категории"
   ]
  },
  {
   "cell_type": "code",
   "execution_count": 13,
   "metadata": {},
   "outputs": [],
   "source": [
    "import warnings  # чтобы не выдавало предупреждения и не портило вид\n",
    "warnings.simplefilter(action='ignore', category=FutureWarning)"
   ]
  },
  {
   "cell_type": "markdown",
   "metadata": {},
   "source": [
    "Построим столбчатые гистограммы и распределения признаков для тех, кто ушёл и тех, кто остался:"
   ]
  },
  {
   "cell_type": "code",
   "execution_count": 14,
   "metadata": {
    "scrolled": true
   },
   "outputs": [
    {
     "data": {
      "image/png": "[encoded data removed]",
      "text/plain": [
       "<Figure size 864x360 with 2 Axes>"
      ]
     },
     "metadata": {},
     "output_type": "display_data"
    },
    {
     "data": {
      "image/png": "[encoded data removed]",
      "text/plain": [
       "<Figure size 864x360 with 2 Axes>"
      ]
     },
     "metadata": {},
     "output_type": "display_data"
    },
    {
     "data": {
      "image/png": "[encoded data removed]",
      "text/plain": [
       "<Figure size 864x360 with 2 Axes>"
      ]
     },
     "metadata": {},
     "output_type": "display_data"
    },
    {
     "data": {
      "image/png": "[encoded data removed]",
      "text/plain": [
       "<Figure size 864x360 with 2 Axes>"
      ]
     },
     "metadata": {},
     "output_type": "display_data"
    },
    {
     "data": {
      "image/png": "[encoded data removed]",
      "text/plain": [
       "<Figure size 864x360 with 2 Axes>"
      ]
     },
     "metadata": {},
     "output_type": "display_data"
    },
    {
     "data": {
      "image/png": "[encoded data removed]",
      "text/plain": [
       "<Figure size 864x360 with 2 Axes>"
      ]
     },
     "metadata": {},
     "output_type": "display_data"
    }
   ],
   "source": [
    "for col in counts:\n",
    "    df.groupby('churn')[col]\n",
    "    fig, ax =plt.subplots(1,2, figsize = (12, 5))\n",
    "    sns.distplot(df[df['churn']==1][col], ax=ax[0])\n",
    "    sns.distplot(df[df['churn']==0][col], ax=ax[0])\n",
    "    sns.boxplot(x = 'churn', y = df[col], data = df, ax=ax[1])\n",
    "    plt.grid()\n",
    "    plt.title(col)\n",
    "    fig.show()"
   ]
  },
  {
   "cell_type": "markdown",
   "metadata": {},
   "source": [
    "Наши предварительные выводы по средним значениям подтверждаются графиками. Можно добавить, что у постоянных клиентов в среднем остается полгода до окончания абонемента, и время с момента первого посещения у них около года.\n",
    "\n",
    "Теперь посмотрим на категориальные признаки:"
   ]
  },
  {
   "cell_type": "code",
   "execution_count": 15,
   "metadata": {
    "scrolled": true
   },
   "outputs": [
    {
     "data": {
      "image/png": "[encoded data removed]",
      "text/plain": [
       "<Figure size 432x288 with 1 Axes>"
      ]
     },
     "metadata": {},
     "output_type": "display_data"
    },
    {
     "data": {
      "image/png": "[encoded data removed]",
      "text/plain": [
       "<Figure size 432x288 with 1 Axes>"
      ]
     },
     "metadata": {},
     "output_type": "display_data"
    },
    {
     "data": {
      "image/png": "[encoded data removed]",
      "text/plain": [
       "<Figure size 432x288 with 1 Axes>"
      ]
     },
     "metadata": {},
     "output_type": "display_data"
    },
    {
     "data": {
      "image/png": "[encoded data removed]",
      "text/plain": [
       "<Figure size 432x288 with 1 Axes>"
      ]
     },
     "metadata": {},
     "output_type": "display_data"
    },
    {
     "data": {
      "image/png": "[encoded data removed]",
      "text/plain": [
       "<Figure size 432x288 with 1 Axes>"
      ]
     },
     "metadata": {},
     "output_type": "display_data"
    },
    {
     "data": {
      "image/png": "[encoded data removed]",
      "text/plain": [
       "<Figure size 432x288 with 1 Axes>"
      ]
     },
     "metadata": {},
     "output_type": "display_data"
    },
    {
     "data": {
      "image/png": "[encoded data removed]",
      "text/plain": [
       "<Figure size 432x288 with 1 Axes>"
      ]
     },
     "metadata": {},
     "output_type": "display_data"
    }
   ],
   "source": [
    "for col in categories:\n",
    "    #df.groupby('churn')[col]\n",
    "    #fig, ax =plt.subplots(1,2, figsize = (12, 4))\n",
    "    sns.countplot(x = df[col], hue='churn', data=df)\n",
    "    #sns.boxplot(x = 'churn', y = df[col], data = df, ax=ax[1])\n",
    "    plt.grid()\n",
    "    plt.title(col)\n",
    "    plt.show()"
   ]
  },
  {
   "cell_type": "markdown",
   "metadata": {},
   "source": [
    "Лояльные клиенты живут поблизости, не боятся оставить контактный телефон, и чаще берут годовые абонементы, чем полугодовые, смотрят в будущее, так сказать. "
   ]
  },
  {
   "cell_type": "code",
   "execution_count": 16,
   "metadata": {},
   "outputs": [],
   "source": [
    "# оставил на тот случай, если надо будет переделать на русскоязычный вариант для удобства работы.\n",
    "\n",
    "\n",
    "#df_rus = df\n",
    "#df_rus.columns =[\n",
    "#    'пол', 'проживание рядом', 'сотрудник партнера', 'приведен другом', 'телефон', 'срок абонемента',\n",
    "#    'групповые занятия', 'возраст', 'выручка от других услуг', 'срок до окончания абонемента', 'время с первого обращения',\n",
    "#    'посещений в неделю', 'посещений в неделю за прошлы месяц', 'отток'\n",
    "#]\n"
   ]
  },
  {
   "cell_type": "markdown",
   "metadata": {},
   "source": [
    "Создадим и визулизируем матрицу корреляций средствами `seaborn`:"
   ]
  },
  {
   "cell_type": "code",
   "execution_count": 17,
   "metadata": {},
   "outputs": [],
   "source": [
    "cm = df.corr()"
   ]
  },
  {
   "cell_type": "code",
   "execution_count": 18,
   "metadata": {
    "scrolled": false
   },
   "outputs": [
    {
     "data": {
      "image/png": "[encoded data removed]",
      "text/plain": [
       "<Figure size 864x720 with 2 Axes>"
      ]
     },
     "metadata": {},
     "output_type": "display_data"
    }
   ],
   "source": [
    "plt.figure(figsize=(12, 10))\n",
    "sns.heatmap(cm, annot=True, square=True)\n",
    "plt.show()"
   ]
  },
  {
   "cell_type": "markdown",
   "metadata": {},
   "source": [
    "По матрице мы видим, что есть сильная взаимосвязь между сроком до окончания абонемента и временем с момента первого визита, и между частотой посещения групповых занятий. Это сильно похоже на мультиколлинеарные признаки, и во избежание ошибок при обучении мы удалим столбцы `month_to_end_contract` и `avg_class_frequency_total`."
   ]
  },
  {
   "cell_type": "code",
   "execution_count": 19,
   "metadata": {},
   "outputs": [],
   "source": [
    "df.drop('month_to_end_contract', axis = 1, inplace = True)"
   ]
  },
  {
   "cell_type": "code",
   "execution_count": 20,
   "metadata": {},
   "outputs": [],
   "source": [
    "df.drop('avg_class_frequency_total', axis = 1, inplace = True)"
   ]
  },
  {
   "cell_type": "markdown",
   "metadata": {},
   "source": [
    "Никак не влияют на отток пользователей параметры пола и наличия контактного телефона. \n",
    "\n",
    "Более сильна связь с продолжительностью абонемента, возрастом, временем посещения зала и частотой визитов."
   ]
  },
  {
   "cell_type": "markdown",
   "metadata": {},
   "source": [
    "### Выводы"
   ]
  },
  {
   "cell_type": "markdown",
   "metadata": {},
   "source": [
    "После проведения исследовательского анализа мы можем сделать следующие выводы:\n",
    "* чаще ушедшие пользователи живут в другом районе\n",
    "* их время с первого посещения зала почти в пять раз меньше\n",
    "* они намного реже ходят на групповые занятия\n",
    "* они немного моложе, чем постоянные клиенты\n",
    "* они тратят меньше денег на допуслуги\n",
    "* и в зал они ходят значительно реже (причем, в месяц, когда они собираются бросать, средняя частота посещений снижается еще на 30%)\n",
    "* постоянные клиенты посещают зал около года\n",
    "* остаток абонемента у них около 6 месяцев\n",
    "* они чаще живут поблизости\n",
    "* они чаще покупают годовые абонементы\n",
    "\n",
    "Также мы избавились от двух мультиколлинеарных признаков, чтобы повысить эффективность обучения."
   ]
  },
  {
   "cell_type": "markdown",
   "metadata": {},
   "source": [
    "## Модель прогнозирования оттока клиентов"
   ]
  },
  {
   "cell_type": "markdown",
   "metadata": {},
   "source": [
    "Приступим к построению моделей.\n",
    "\n",
    "Для начала напишем функцию для вывода признаков:"
   ]
  },
  {
   "cell_type": "code",
   "execution_count": 21,
   "metadata": {},
   "outputs": [],
   "source": [
    "def print_all_metrics(y_true, y_pred, title):\n",
    "    print(title)\n",
    "    print('\\tAccuracy: {:.2f}'.format(accuracy_score(y_true, y_pred)))\n",
    "    print('\\tPrecision: {:.2f}'.format(precision_score(y_true, y_pred)))\n",
    "    print('\\tRecall: {:.2f}'.format(recall_score(y_true, y_pred)))\n",
    "    print('\\tF1: {:.2f}'.format(f1_score(y_true, y_pred)))\n",
    "    #print('\\tROC_AUC: {:.2f}'.format(roc_auc_score(y_true, y_proba)))"
   ]
  },
  {
   "cell_type": "markdown",
   "metadata": {},
   "source": [
    "Обучаем модель логистической регрессией:"
   ]
  },
  {
   "cell_type": "code",
   "execution_count": 22,
   "metadata": {
    "scrolled": false
   },
   "outputs": [],
   "source": [
    "\n",
    "# разделите наши данные на признаки (матрица X) и целевую переменную (y)\n",
    "X = df.drop('churn', axis = 1)\n",
    "y = df['churn']\n",
    "\n",
    "# разделите модель на обучающую и валидационную выборку\n",
    "X_train, X_test, y_train, y_test = train_test_split(X, y, test_size=0.2, random_state=0)\n",
    "\n",
    "\n",
    "# задайте алгоритм для нашей модели\n",
    "model = LogisticRegression(solver='liblinear')\n",
    "\n",
    "# обучите модель\n",
    "model.fit(X_train, y_train)\n",
    "\n",
    "# воспользуйтесь уже обученной моделью, чтобы сделать прогнозы\n",
    "predictions = model.predict(X_test)\n",
    "#probabilities =  model.predict_proba(X_test)[:,1]"
   ]
  },
  {
   "cell_type": "markdown",
   "metadata": {},
   "source": [
    "Обучаем модель случайным лесом:"
   ]
  },
  {
   "cell_type": "code",
   "execution_count": 23,
   "metadata": {},
   "outputs": [],
   "source": [
    "# обучите StandartScaler на обучающей выборке\n",
    "scaler = StandardScaler()\n",
    "scaler.fit(X_train)\n",
    "\n",
    "# Преобразуйте обучающий и валидационные наборы данных\n",
    "X_train_st = scaler.transform(X_train)\n",
    "X_test_st = scaler.transform(X_test)\n",
    "# зададим алгоритм для новой модели на основе алгоритма случайного леса\n",
    "rf_model = RandomForestClassifier(n_estimators = 100, random_state = 0) # Ваш код здесь\n",
    "# обучим модель случайного леса\n",
    "rf_model.fit(X_train_st, y_train)\n",
    "# воспользуемся уже обученной моделью, чтобы сделать прогнозы\n",
    "rf_predictions = rf_model.predict(X_test_st) # Ваш код здесь\n",
    "#rf_probabilities = rf_model.predict_proba(X_test_st)[:,1]"
   ]
  },
  {
   "cell_type": "markdown",
   "metadata": {},
   "source": [
    "И выводим результаты:"
   ]
  },
  {
   "cell_type": "code",
   "execution_count": 24,
   "metadata": {},
   "outputs": [
    {
     "name": "stdout",
     "output_type": "stream",
     "text": [
      "Метрики логистической регрессии:\n",
      "\tAccuracy: 0.90\n",
      "\tPrecision: 0.79\n",
      "\tRecall: 0.79\n",
      "\tF1: 0.79\n",
      "Метрики случайного леса:\n",
      "\tAccuracy: 0.90\n",
      "\tPrecision: 0.81\n",
      "\tRecall: 0.75\n",
      "\tF1: 0.78\n"
     ]
    }
   ],
   "source": [
    "print_all_metrics(y_test, predictions, 'Метрики логистической регрессии:')\n",
    "print_all_metrics(y_test, rf_predictions,'Метрики случайного леса:')"
   ]
  },
  {
   "cell_type": "markdown",
   "metadata": {},
   "source": [
    "### Выводы"
   ]
  },
  {
   "cell_type": "markdown",
   "metadata": {},
   "source": [
    "Обе модели показали равную долю верных ответов (0,9). Случайный лес показывает более высокую точность (0,81 против 0,79), но логистическая регрессия более сбалансирована - 0,79 против 0,78. На основании этих данных делаем вывод, что для прогнозирвоания оттока нам больше подойдет модель логистической регрессии."
   ]
  },
  {
   "cell_type": "markdown",
   "metadata": {},
   "source": [
    "## Кластеризация"
   ]
  },
  {
   "cell_type": "markdown",
   "metadata": {},
   "source": [
    "Проведем стандартизацию и кластеризацию данных, составив матрицу расстояний:"
   ]
  },
  {
   "cell_type": "code",
   "execution_count": 25,
   "metadata": {},
   "outputs": [],
   "source": [
    "X = df.drop('churn', axis = 1)  # избавляемся от целевой переменной\n",
    "sc = StandardScaler()\n",
    "X_sc = sc.fit_transform(X)\n",
    "\n",
    "linked = linkage(X_sc, method = 'ward') "
   ]
  },
  {
   "cell_type": "markdown",
   "metadata": {},
   "source": [
    "И отобразим дендрограмму:"
   ]
  },
  {
   "cell_type": "code",
   "execution_count": 26,
   "metadata": {
    "scrolled": false
   },
   "outputs": [
    {
     "data": {
      "image/png": "[encoded data removed]",
      "text/plain": [
       "<Figure size 1080x720 with 1 Axes>"
      ]
     },
     "metadata": {},
     "output_type": "display_data"
    }
   ],
   "source": [
    "plt.figure(figsize=(15, 10))  \n",
    "dendrogram(linked, orientation='top')\n",
    "plt.title('Кластеризация')\n",
    "plt.show() "
   ]
  },
  {
   "cell_type": "markdown",
   "metadata": {},
   "source": [
    "Получилось четыре кластера. Добавим еще один, согласно заданию:"
   ]
  },
  {
   "cell_type": "code",
   "execution_count": 27,
   "metadata": {},
   "outputs": [],
   "source": [
    "km = KMeans(n_clusters=5, random_state=0) # задаём число кластеров, равное 5, и фиксируем значение random_state для воспроизводимости результата\n",
    "labels = km.fit_predict(X_sc) # применяем алгоритм к данным и формируем вектор кластеров "
   ]
  },
  {
   "cell_type": "markdown",
   "metadata": {},
   "source": [
    "Сохраняем метки кластера в таблице:"
   ]
  },
  {
   "cell_type": "code",
   "execution_count": 28,
   "metadata": {},
   "outputs": [],
   "source": [
    "df['clusters'] = labels"
   ]
  },
  {
   "cell_type": "markdown",
   "metadata": {},
   "source": [
    "Посмотрим, как распределились кластеры:"
   ]
  },
  {
   "cell_type": "code",
   "execution_count": 29,
   "metadata": {
    "scrolled": false
   },
   "outputs": [
    {
     "data": {
      "text/html": [
       "<div>\n",
       "<style scoped>\n",
       "    .dataframe tbody tr th:only-of-type {\n",
       "        vertical-align: middle;\n",
       "    }\n",
       "\n",
       "    .dataframe tbody tr th {\n",
       "        vertical-align: top;\n",
       "    }\n",
       "\n",
       "    .dataframe thead th {\n",
       "        text-align: right;\n",
       "    }\n",
       "</style>\n",
       "<table border=\"1\" class=\"dataframe\">\n",
       "  <thead>\n",
       "    <tr style=\"text-align: right;\">\n",
       "      <th></th>\n",
       "      <th>count</th>\n",
       "    </tr>\n",
       "    <tr>\n",
       "      <th>clusters</th>\n",
       "      <th></th>\n",
       "    </tr>\n",
       "  </thead>\n",
       "  <tbody>\n",
       "    <tr>\n",
       "      <th>0</th>\n",
       "      <td>985</td>\n",
       "    </tr>\n",
       "    <tr>\n",
       "      <th>1</th>\n",
       "      <td>558</td>\n",
       "    </tr>\n",
       "    <tr>\n",
       "      <th>2</th>\n",
       "      <td>1064</td>\n",
       "    </tr>\n",
       "    <tr>\n",
       "      <th>3</th>\n",
       "      <td>1007</td>\n",
       "    </tr>\n",
       "    <tr>\n",
       "      <th>4</th>\n",
       "      <td>386</td>\n",
       "    </tr>\n",
       "  </tbody>\n",
       "</table>\n",
       "</div>"
      ],
      "text/plain": [
       "          count\n",
       "clusters       \n",
       "0           985\n",
       "1           558\n",
       "2          1064\n",
       "3          1007\n",
       "4           386"
      ]
     },
     "metadata": {},
     "output_type": "display_data"
    }
   ],
   "source": [
    "display(df.groupby(['clusters']).agg(count = ('gender','count')))"
   ]
  },
  {
   "cell_type": "markdown",
   "metadata": {},
   "source": [
    "Кластеры `0`, `2`, `3` значительно крупнее остальных.\n",
    "\n",
    "Посмотрим на средние значения по кластерам:"
   ]
  },
  {
   "cell_type": "code",
   "execution_count": 30,
   "metadata": {
    "scrolled": false
   },
   "outputs": [
    {
     "data": {
      "text/html": [
       "<div>\n",
       "<style scoped>\n",
       "    .dataframe tbody tr th:only-of-type {\n",
       "        vertical-align: middle;\n",
       "    }\n",
       "\n",
       "    .dataframe tbody tr th {\n",
       "        vertical-align: top;\n",
       "    }\n",
       "\n",
       "    .dataframe thead th {\n",
       "        text-align: right;\n",
       "    }\n",
       "</style>\n",
       "<table border=\"1\" class=\"dataframe\">\n",
       "  <thead>\n",
       "    <tr style=\"text-align: right;\">\n",
       "      <th>clusters</th>\n",
       "      <th>0</th>\n",
       "      <th>1</th>\n",
       "      <th>2</th>\n",
       "      <th>3</th>\n",
       "      <th>4</th>\n",
       "    </tr>\n",
       "  </thead>\n",
       "  <tbody>\n",
       "    <tr>\n",
       "      <th>gender</th>\n",
       "      <td>0.496447</td>\n",
       "      <td>0.500000</td>\n",
       "      <td>0.500940</td>\n",
       "      <td>0.534260</td>\n",
       "      <td>0.523316</td>\n",
       "    </tr>\n",
       "    <tr>\n",
       "      <th>near_location</th>\n",
       "      <td>0.995939</td>\n",
       "      <td>0.000000</td>\n",
       "      <td>1.000000</td>\n",
       "      <td>0.996028</td>\n",
       "      <td>0.862694</td>\n",
       "    </tr>\n",
       "    <tr>\n",
       "      <th>partner</th>\n",
       "      <td>0.892386</td>\n",
       "      <td>0.489247</td>\n",
       "      <td>0.217105</td>\n",
       "      <td>0.379345</td>\n",
       "      <td>0.471503</td>\n",
       "    </tr>\n",
       "    <tr>\n",
       "      <th>promo_friends</th>\n",
       "      <td>1.000000</td>\n",
       "      <td>0.078853</td>\n",
       "      <td>0.072368</td>\n",
       "      <td>0.009930</td>\n",
       "      <td>0.305699</td>\n",
       "    </tr>\n",
       "    <tr>\n",
       "      <th>phone</th>\n",
       "      <td>1.000000</td>\n",
       "      <td>1.000000</td>\n",
       "      <td>1.000000</td>\n",
       "      <td>1.000000</td>\n",
       "      <td>0.000000</td>\n",
       "    </tr>\n",
       "    <tr>\n",
       "      <th>contract_period</th>\n",
       "      <td>6.922843</td>\n",
       "      <td>2.994624</td>\n",
       "      <td>2.010338</td>\n",
       "      <td>6.208540</td>\n",
       "      <td>4.777202</td>\n",
       "    </tr>\n",
       "    <tr>\n",
       "      <th>group_visits</th>\n",
       "      <td>0.524873</td>\n",
       "      <td>0.232975</td>\n",
       "      <td>0.277256</td>\n",
       "      <td>0.538232</td>\n",
       "      <td>0.427461</td>\n",
       "    </tr>\n",
       "    <tr>\n",
       "      <th>age</th>\n",
       "      <td>29.606091</td>\n",
       "      <td>28.679211</td>\n",
       "      <td>27.583647</td>\n",
       "      <td>30.699106</td>\n",
       "      <td>29.297927</td>\n",
       "    </tr>\n",
       "    <tr>\n",
       "      <th>avg_additional_charges_total</th>\n",
       "      <td>153.424651</td>\n",
       "      <td>137.125763</td>\n",
       "      <td>119.339956</td>\n",
       "      <td>176.259567</td>\n",
       "      <td>144.208179</td>\n",
       "    </tr>\n",
       "    <tr>\n",
       "      <th>lifetime</th>\n",
       "      <td>4.283249</td>\n",
       "      <td>2.974910</td>\n",
       "      <td>1.922932</td>\n",
       "      <td>5.415094</td>\n",
       "      <td>3.940415</td>\n",
       "    </tr>\n",
       "    <tr>\n",
       "      <th>avg_class_frequency_current_month</th>\n",
       "      <td>1.919520</td>\n",
       "      <td>1.597146</td>\n",
       "      <td>1.203319</td>\n",
       "      <td>2.324220</td>\n",
       "      <td>1.723967</td>\n",
       "    </tr>\n",
       "    <tr>\n",
       "      <th>churn</th>\n",
       "      <td>0.119797</td>\n",
       "      <td>0.403226</td>\n",
       "      <td>0.563910</td>\n",
       "      <td>0.014896</td>\n",
       "      <td>0.266839</td>\n",
       "    </tr>\n",
       "  </tbody>\n",
       "</table>\n",
       "</div>"
      ],
      "text/plain": [
       "clusters                                    0           1           2  \\\n",
       "gender                               0.496447    0.500000    0.500940   \n",
       "near_location                        0.995939    0.000000    1.000000   \n",
       "partner                              0.892386    0.489247    0.217105   \n",
       "promo_friends                        1.000000    0.078853    0.072368   \n",
       "phone                                1.000000    1.000000    1.000000   \n",
       "contract_period                      6.922843    2.994624    2.010338   \n",
       "group_visits                         0.524873    0.232975    0.277256   \n",
       "age                                 29.606091   28.679211   27.583647   \n",
       "avg_additional_charges_total       153.424651  137.125763  119.339956   \n",
       "lifetime                             4.283249    2.974910    1.922932   \n",
       "avg_class_frequency_current_month    1.919520    1.597146    1.203319   \n",
       "churn                                0.119797    0.403226    0.563910   \n",
       "\n",
       "clusters                                    3           4  \n",
       "gender                               0.534260    0.523316  \n",
       "near_location                        0.996028    0.862694  \n",
       "partner                              0.379345    0.471503  \n",
       "promo_friends                        0.009930    0.305699  \n",
       "phone                                1.000000    0.000000  \n",
       "contract_period                      6.208540    4.777202  \n",
       "group_visits                         0.538232    0.427461  \n",
       "age                                 30.699106   29.297927  \n",
       "avg_additional_charges_total       176.259567  144.208179  \n",
       "lifetime                             5.415094    3.940415  \n",
       "avg_class_frequency_current_month    2.324220    1.723967  \n",
       "churn                                0.014896    0.266839  "
      ]
     },
     "metadata": {},
     "output_type": "display_data"
    }
   ],
   "source": [
    "display(df.groupby(['clusters']).mean().T)  # не стал два раза писать одно и то же, сразу развернул"
   ]
  },
  {
   "cell_type": "markdown",
   "metadata": {},
   "source": [
    "И мы сразу видим, что наиболее высок риск оттока в кластерах 2 - целых 56% и 1 - 40%.\n",
    "* в этих кластерах самый короткий средний период действия абонемента от 2 до 3 месяцев\n",
    "* самый молодой контингент - 27-28 лет\n",
    "* они меньше всех тратят деньги на сопутствующие услуги\n",
    "* они относительно недавно начали ходить в зал - 2-3 месяца назад\n",
    "\n",
    "Кластеры самых лояльных пользователей 0 - 11% оттока и 3 - 1% отока, они составляют почти половину от всех пользователей.\n",
    "* клиенты живут недалеко\n",
    "* в среднем приобретают полугодовые абонементы\n",
    "* половина клиентов посещает групповые занятия\n",
    "* более возрастной контингент: 29-30 лет\n",
    "* ходят в зал уже давно, 4-5 лет\n",
    "* больше всех тратят деньги на сопутствующие услуги"
   ]
  },
  {
   "cell_type": "markdown",
   "metadata": {},
   "source": [
    "Построим диаграммы распределения по кластерам.\n",
    "\n",
    "Обновим список числовых и категориальных признаков:"
   ]
  },
  {
   "cell_type": "code",
   "execution_count": 31,
   "metadata": {},
   "outputs": [],
   "source": [
    "counts_new = ['age', 'avg_additional_charges_total',\n",
    "          'lifetime', 'avg_class_frequency_current_month']  # числовые\n",
    "categories_new = ['gender', 'near_location', 'partner', 'promo_friends', \n",
    "                'phone', 'contract_period', 'group_visits']  # категории"
   ]
  },
  {
   "cell_type": "code",
   "execution_count": 32,
   "metadata": {},
   "outputs": [
    {
     "data": {
      "image/png": "[encoded data removed]",
      "text/plain": [
       "<Figure size 432x288 with 1 Axes>"
      ]
     },
     "metadata": {},
     "output_type": "display_data"
    },
    {
     "data": {
      "image/png": "[encoded data removed]",
      "text/plain": [
       "<Figure size 432x288 with 1 Axes>"
      ]
     },
     "metadata": {},
     "output_type": "display_data"
    },
    {
     "data": {
      "image/png": "[encoded data removed]",
      "text/plain": [
       "<Figure size 432x288 with 1 Axes>"
      ]
     },
     "metadata": {},
     "output_type": "display_data"
    },
    {
     "data": {
      "image/png": "[encoded data removed]",
      "text/plain": [
       "<Figure size 432x288 with 1 Axes>"
      ]
     },
     "metadata": {},
     "output_type": "display_data"
    }
   ],
   "source": [
    "for col in counts_new:\n",
    "    sns.boxplot(x = 'clusters', y = df[col], data = df)\n",
    "    plt.grid()\n",
    "    plt.title(col)\n",
    "    plt.show()"
   ]
  },
  {
   "cell_type": "markdown",
   "metadata": {},
   "source": [
    "Наши выводы подтверждаются графиками. Интересно, что есть люди, которые ходят в этот зал больше двух лет - самый лояльный 3 кластер. Они же чаще всех занимаются, больше всех тратят на сопутствующие услуги."
   ]
  },
  {
   "cell_type": "code",
   "execution_count": 33,
   "metadata": {
    "scrolled": false
   },
   "outputs": [
    {
     "data": {
      "image/png": "[encoded data removed]",
      "text/plain": [
       "<Figure size 432x288 with 1 Axes>"
      ]
     },
     "metadata": {},
     "output_type": "display_data"
    },
    {
     "data": {
      "image/png": "[encoded data removed]",
      "text/plain": [
       "<Figure size 432x288 with 1 Axes>"
      ]
     },
     "metadata": {},
     "output_type": "display_data"
    },
    {
     "data": {
      "image/png": "[encoded data removed]",
      "text/plain": [
       "<Figure size 432x288 with 1 Axes>"
      ]
     },
     "metadata": {},
     "output_type": "display_data"
    },
    {
     "data": {
      "image/png": "[encoded data removed]",
      "text/plain": [
       "<Figure size 432x288 with 1 Axes>"
      ]
     },
     "metadata": {},
     "output_type": "display_data"
    },
    {
     "data": {
      "image/png": "[encoded data removed]",
      "text/plain": [
       "<Figure size 432x288 with 1 Axes>"
      ]
     },
     "metadata": {},
     "output_type": "display_data"
    },
    {
     "data": {
      "image/png": "[encoded data removed]",
      "text/plain": [
       "<Figure size 432x288 with 1 Axes>"
      ]
     },
     "metadata": {},
     "output_type": "display_data"
    },
    {
     "data": {
      "image/png": "[encoded data removed]",
      "text/plain": [
       "<Figure size 432x288 with 1 Axes>"
      ]
     },
     "metadata": {},
     "output_type": "display_data"
    }
   ],
   "source": [
    "for col in categories:\n",
    "    sns.countplot(x = df[col], hue='clusters', data=df)\n",
    "    plt.grid()\n",
    "    plt.title(col)\n",
    "    plt.show()"
   ]
  },
  {
   "cell_type": "markdown",
   "metadata": {},
   "source": [
    "Не живут в районе расположения зала только клиенты кластера 1 и частично 4. Также клиенты 4 кластера крайне неохотно оставляют номер телефона. Также клиенты с высокой вероятностью оттока часто являются сотрудниками компании-партнера."
   ]
  },
  {
   "cell_type": "code",
   "execution_count": 34,
   "metadata": {},
   "outputs": [],
   "source": [
    "#cluster = df.query('clusters == 1')"
   ]
  },
  {
   "cell_type": "code",
   "execution_count": 35,
   "metadata": {
    "scrolled": true
   },
   "outputs": [],
   "source": [
    "#cluster.groupby('churn')['age'].agg('count').T"
   ]
  },
  {
   "cell_type": "markdown",
   "metadata": {},
   "source": [
    "И еще раз взглянем на вероятность оттока клиентов по кластерам.\n",
    "\n",
    "Кластеры рассположены в порядке возрастания вероятности оттока:"
   ]
  },
  {
   "cell_type": "code",
   "execution_count": 36,
   "metadata": {},
   "outputs": [
    {
     "data": {
      "text/plain": [
       "clusters\n",
       "3    0.014896\n",
       "0    0.119797\n",
       "4    0.266839\n",
       "1    0.403226\n",
       "2    0.563910\n",
       "Name: churn, dtype: float64"
      ]
     },
     "execution_count": 36,
     "metadata": {},
     "output_type": "execute_result"
    }
   ],
   "source": [
    "df.groupby('clusters')['churn'].agg('mean').sort_values()"
   ]
  },
  {
   "cell_type": "markdown",
   "metadata": {},
   "source": [
    "### Выводы"
   ]
  },
  {
   "cell_type": "markdown",
   "metadata": {},
   "source": [
    "По итогам проведенной кластеризации мы имеем 5 кластеров с вероятностью оттока от 1% до 56%.\n",
    "\n",
    "Наиболее высок риск оттока в кластерах 2 - целых 56% и 1 - 40%.\n",
    "* в этих кластерах самый короткий средний период действия абонемента от 2 до 3 месяцев\n",
    "* самый молодой контингент - 27-28 лет\n",
    "* они меньше всех тратят деньги на сопутствующие услуги\n",
    "* они относительно недавно начали ходить в зал - 2-3 месяца назад\n",
    "\n",
    "Кластеры самых лояльных пользователей 0 - 11% оттока и 3 - 1% отока, они составляют почти половину от всех пользователей.\n",
    "* клиенты живут недалеко\n",
    "* в среднем приобретают полугодовые абонементы\n",
    "* половина клиентов посещает групповые занятия\n",
    "* более возрастной контингент: 29-30 лет\n",
    "* ходят в зал уже давно, 4-5 лет\n",
    "* больше всех тратят деньги на сопутствующие услуги"
   ]
  },
  {
   "cell_type": "markdown",
   "metadata": {},
   "source": [
    "## Результаты исследования:"
   ]
  },
  {
   "cell_type": "markdown",
   "metadata": {},
   "source": [
    "После проведения исследовательского анализа в целом, мы можем сделать следующие выводы:\n",
    "\n",
    "* чаще ушедшие пользователи живут в другом районе\n",
    "* их время с первого посещения зала почти в пять раз меньше\n",
    "* они намного реже ходят на групповые занятия\n",
    "* они немного моложе, чем постоянные клиенты\n",
    "* они тратят меньше денег на допуслуги значительно реже посещают зал \n",
    "* в месяц, когда клиент собирается бросить зал, средняя частота посещений снижается еще на 30%\n",
    "\n",
    "В то время как:\n",
    "\n",
    "* постоянные клиенты посещают зал более года\n",
    "* остаток абонемента у них около 6 месяцев\n",
    "* они чаще живут поблизости\n",
    "* они чаще покупают годовые абонементы\n",
    "\n",
    "Никак не влияют на отток пользователей параметры пола и наличия контактного телефона.\n",
    "\n",
    "Ярко выражена связь с продолжительностью абонемента, возрастом, временем посещения зала и частотой визитов.\n",
    "\n",
    "\n",
    "Обе модели прогнозирования оттока показали равную долю верных ответов (0,9). Случайный лес показывает более высокую точность (0,81 против 0,79), но логистическая регрессия более сбалансирована - 0,79 против 0,78. На основании этих данных деалем вывод, что нам больше подойдет модель логистической регрессии.\n",
    "\n",
    "Проведенная кластеризация дала нам 5 кластеров с вероятностью оттока от 1% до 56%.\n",
    "\n",
    "Наиболее высок риск оттока в кластерах 2 - целых 56% и 1 - 40%.\n",
    "\n",
    "* в этих кластерах самый короткий средний период действия абонемента от 2 до 3 месяцев\n",
    "* самый молодой контингент - 27-28 лет\n",
    "* они меньше всех тратят деньги на сопутствующие услуги\n",
    "* они относительно недавно начали ходить в зал - 2-3 месяца назад\n",
    "* реже ходят на групповые тренировки\n",
    "\n",
    "Кластеры самых лояльных пользователей 0 - 11% оттока и 3 - 1% отока, они составляют почти половину от всех пользователей.\n",
    "\n",
    "* клиенты живут недалеко\n",
    "* в среднем приобретают полугодовые абонементы\n",
    "* половина клиентов посещает групповые занятия\n",
    "* более возрастной контингент: 29-30 лет\n",
    "* ходят в зал уже давно, более полутора лет\n",
    "* больше всех тратят деньги на сопутствующие услуги\n",
    "* есть люди, которые ходят в этот зал больше двух лет - самый лояльный 3 кластер\n",
    "* они же чаще всех занимаются, больше всех тратят на сопутствующие услуги"
   ]
  },
  {
   "cell_type": "markdown",
   "metadata": {},
   "source": [
    "### Рекомендации"
   ]
  },
  {
   "cell_type": "markdown",
   "metadata": {},
   "source": [
    "Судя по всему, наблюдаются проблемы с людьми, только начинающими свой путь в фитнесе. Это люди младше 29 лет, которые берут кратковременный абонемент на пробу, но что-то их отталкивает на начальном этапе, и они его не продлевают. Они редко ходят на групповые тренировки, не тратят дополнительные средства в зале.Также они часто ездят из другого района.\n",
    "\n",
    "Так как многие клиенты ходят в зал достаточно давно, можно предположить, что проблемы начались недавно.\n",
    "\n",
    "Что можно предложить для исправления ситуации:\n",
    "* необходимо проанализировать изменения в политике клуба за последний год - проблемы с тренерами, затянувшийся ремонт, резкий рост цен\n",
    "* надо попробовать простимулировать клиентов на продление абонементов - скидки при покупке годовых программ, подарки\n",
    "* почему клиенты не хотят продлевать абонементы? им не нравится интерьер, тренеры, цены? туда же, к первому пункту, анализ изменений\n",
    "* возможно, не все пробовали групповые занятия? Провести рассылку с коротким и завлекающим описанием программ\n",
    "* вероятно, люди не тратят деньги в зале, потому что им некомфортно, или дорого. Предложить скидку на бар или бесплатный пробный период, комплименты от зала.\n",
    "* людям неудобно добираться до зала? частичная компенсация проезда при продлении абонемента на год, анализ схемы проезда, может быть, открылась новая станция общественного транспорта поблизости?"
   ]
  }
 ],
 "metadata": {
  "ExecuteTimeLog": [
   {
    "duration": 413,
    "start_time": "2022-06-10T12:10:09.667Z"
   },
   {
    "duration": 73,
    "start_time": "2022-06-10T12:10:23.446Z"
   },
   {
    "duration": 17,
    "start_time": "2022-06-10T12:10:27.911Z"
   },
   {
    "duration": 14,
    "start_time": "2022-06-10T12:10:45.237Z"
   },
   {
    "duration": 435,
    "start_time": "2022-06-11T09:01:50.940Z"
   },
   {
    "duration": 69,
    "start_time": "2022-06-11T09:01:51.377Z"
   },
   {
    "duration": 18,
    "start_time": "2022-06-11T09:01:51.449Z"
   },
   {
    "duration": 11,
    "start_time": "2022-06-11T09:01:51.468Z"
   },
   {
    "duration": 66,
    "start_time": "2022-06-11T09:07:26.197Z"
   },
   {
    "duration": 9,
    "start_time": "2022-06-11T09:07:35.032Z"
   },
   {
    "duration": 6,
    "start_time": "2022-06-11T09:07:38.471Z"
   },
   {
    "duration": 8,
    "start_time": "2022-06-11T09:07:44.180Z"
   },
   {
    "duration": 8,
    "start_time": "2022-06-11T09:08:03.965Z"
   },
   {
    "duration": 6,
    "start_time": "2022-06-11T09:08:07.557Z"
   },
   {
    "duration": 7,
    "start_time": "2022-06-11T09:12:04.427Z"
   },
   {
    "duration": 3,
    "start_time": "2022-06-11T09:12:14.765Z"
   },
   {
    "duration": 5,
    "start_time": "2022-06-11T09:12:21.483Z"
   },
   {
    "duration": 6,
    "start_time": "2022-06-11T09:12:48.857Z"
   },
   {
    "duration": 7,
    "start_time": "2022-06-11T09:14:16.504Z"
   },
   {
    "duration": 9,
    "start_time": "2022-06-11T09:14:37.256Z"
   },
   {
    "duration": 7,
    "start_time": "2022-06-11T09:18:49.810Z"
   },
   {
    "duration": 4,
    "start_time": "2022-06-11T09:18:51.953Z"
   },
   {
    "duration": 10,
    "start_time": "2022-06-11T09:19:03.863Z"
   },
   {
    "duration": 12,
    "start_time": "2022-06-11T09:19:14.795Z"
   },
   {
    "duration": 47,
    "start_time": "2022-06-11T09:19:33.295Z"
   },
   {
    "duration": 8,
    "start_time": "2022-06-11T09:20:27.619Z"
   },
   {
    "duration": 7,
    "start_time": "2022-06-11T10:02:05.555Z"
   },
   {
    "duration": 928,
    "start_time": "2022-06-11T10:02:32.633Z"
   },
   {
    "duration": 1458,
    "start_time": "2022-06-11T10:02:36.381Z"
   },
   {
    "duration": 1447,
    "start_time": "2022-06-11T10:03:24.677Z"
   },
   {
    "duration": 10,
    "start_time": "2022-06-11T10:03:52.183Z"
   },
   {
    "duration": 3,
    "start_time": "2022-06-11T10:04:11.838Z"
   },
   {
    "duration": 104,
    "start_time": "2022-06-11T10:04:16.178Z"
   },
   {
    "duration": 1568,
    "start_time": "2022-06-11T10:04:19.040Z"
   },
   {
    "duration": 6,
    "start_time": "2022-06-11T10:09:32.884Z"
   },
   {
    "duration": 1492,
    "start_time": "2022-06-11T10:09:33.878Z"
   },
   {
    "duration": 39,
    "start_time": "2022-06-11T10:42:09.524Z"
   },
   {
    "duration": 17,
    "start_time": "2022-06-11T10:42:16.687Z"
   },
   {
    "duration": 3,
    "start_time": "2022-06-11T10:43:05.530Z"
   },
   {
    "duration": 15,
    "start_time": "2022-06-11T10:43:14.377Z"
   },
   {
    "duration": 6,
    "start_time": "2022-06-11T10:44:07.743Z"
   },
   {
    "duration": 17,
    "start_time": "2022-06-11T10:44:08.889Z"
   },
   {
    "duration": 11,
    "start_time": "2022-06-11T10:44:15.177Z"
   },
   {
    "duration": 6,
    "start_time": "2022-06-11T10:44:21.179Z"
   },
   {
    "duration": 56,
    "start_time": "2022-06-11T10:44:56.133Z"
   },
   {
    "duration": 13,
    "start_time": "2022-06-11T10:45:03.058Z"
   },
   {
    "duration": 9,
    "start_time": "2022-06-11T10:45:39.577Z"
   },
   {
    "duration": 9,
    "start_time": "2022-06-11T14:28:49.849Z"
   },
   {
    "duration": 3,
    "start_time": "2022-06-11T14:33:51.932Z"
   },
   {
    "duration": 10,
    "start_time": "2022-06-11T14:33:56.123Z"
   },
   {
    "duration": 2700,
    "start_time": "2022-06-11T14:34:08.650Z"
   },
   {
    "duration": 3,
    "start_time": "2022-06-11T14:35:52.503Z"
   },
   {
    "duration": 2831,
    "start_time": "2022-06-11T14:35:56.404Z"
   },
   {
    "duration": 3,
    "start_time": "2022-06-11T14:41:44.830Z"
   },
   {
    "duration": 2439,
    "start_time": "2022-06-11T14:41:48.265Z"
   },
   {
    "duration": 10,
    "start_time": "2022-06-11T14:43:42.445Z"
   },
   {
    "duration": 2658,
    "start_time": "2022-06-11T14:43:55.346Z"
   },
   {
    "duration": 2785,
    "start_time": "2022-06-11T15:01:09.962Z"
   },
   {
    "duration": 2725,
    "start_time": "2022-06-11T15:01:46.578Z"
   },
   {
    "duration": 285,
    "start_time": "2022-06-11T15:11:03.394Z"
   },
   {
    "duration": 161,
    "start_time": "2022-06-11T15:11:19.555Z"
   },
   {
    "duration": 149,
    "start_time": "2022-06-11T15:11:35.792Z"
   },
   {
    "duration": 165,
    "start_time": "2022-06-11T15:12:10.128Z"
   },
   {
    "duration": 4277,
    "start_time": "2022-06-11T15:12:30.662Z"
   },
   {
    "duration": 215303,
    "start_time": "2022-06-11T15:12:44.279Z"
   },
   {
    "duration": 215635,
    "start_time": "2022-06-11T15:20:36.342Z"
   },
   {
    "duration": 3167,
    "start_time": "2022-06-11T15:31:23.078Z"
   },
   {
    "duration": 4,
    "start_time": "2022-06-11T15:31:36.926Z"
   },
   {
    "duration": 2237,
    "start_time": "2022-06-11T15:31:39.860Z"
   },
   {
    "duration": 102,
    "start_time": "2022-06-11T15:32:23.752Z"
   },
   {
    "duration": 6771,
    "start_time": "2022-06-11T15:33:00.927Z"
   },
   {
    "duration": 211,
    "start_time": "2022-06-11T15:33:12.205Z"
   },
   {
    "duration": 3241,
    "start_time": "2022-06-11T15:33:17.190Z"
   },
   {
    "duration": 3589,
    "start_time": "2022-06-11T15:35:34.508Z"
   },
   {
    "duration": 3685,
    "start_time": "2022-06-11T15:40:06.427Z"
   },
   {
    "duration": 3754,
    "start_time": "2022-06-11T15:40:14.243Z"
   },
   {
    "duration": 3,
    "start_time": "2022-06-11T15:48:15.794Z"
   },
   {
    "duration": 4,
    "start_time": "2022-06-11T15:48:53.617Z"
   },
   {
    "duration": 1762,
    "start_time": "2022-06-11T15:49:08.181Z"
   },
   {
    "duration": 568,
    "start_time": "2022-06-11T15:49:44.718Z"
   },
   {
    "duration": 1862,
    "start_time": "2022-06-11T15:50:14.250Z"
   },
   {
    "duration": 195,
    "start_time": "2022-06-11T15:50:36.224Z"
   },
   {
    "duration": 1877,
    "start_time": "2022-06-11T15:50:41.358Z"
   },
   {
    "duration": 2152,
    "start_time": "2022-06-11T15:54:18.060Z"
   },
   {
    "duration": 4,
    "start_time": "2022-06-11T15:56:49.063Z"
   },
   {
    "duration": 36629,
    "start_time": "2022-06-11T15:57:04.523Z"
   },
   {
    "duration": 45982,
    "start_time": "2022-06-11T15:58:09.382Z"
   },
   {
    "duration": 1305,
    "start_time": "2022-06-11T16:03:03.614Z"
   },
   {
    "duration": 32,
    "start_time": "2022-06-11T16:03:04.921Z"
   },
   {
    "duration": 19,
    "start_time": "2022-06-11T16:03:04.955Z"
   },
   {
    "duration": 47,
    "start_time": "2022-06-11T16:03:04.977Z"
   },
   {
    "duration": 18,
    "start_time": "2022-06-11T16:03:05.027Z"
   },
   {
    "duration": 79,
    "start_time": "2022-06-11T16:03:05.047Z"
   },
   {
    "duration": 9,
    "start_time": "2022-06-11T16:03:05.127Z"
   },
   {
    "duration": 6,
    "start_time": "2022-06-11T16:03:05.138Z"
   },
   {
    "duration": 25,
    "start_time": "2022-06-11T16:03:05.146Z"
   },
   {
    "duration": 54,
    "start_time": "2022-06-11T16:03:05.174Z"
   },
   {
    "duration": 16,
    "start_time": "2022-06-11T16:03:05.229Z"
   },
   {
    "duration": 7,
    "start_time": "2022-06-11T16:03:05.247Z"
   },
   {
    "duration": 10,
    "start_time": "2022-06-11T16:03:05.255Z"
   },
   {
    "duration": 53,
    "start_time": "2022-06-11T16:03:05.269Z"
   },
   {
    "duration": 2115,
    "start_time": "2022-06-11T16:03:05.324Z"
   },
   {
    "duration": 1337,
    "start_time": "2022-06-11T16:04:28.341Z"
   },
   {
    "duration": 39,
    "start_time": "2022-06-11T16:04:29.680Z"
   },
   {
    "duration": 19,
    "start_time": "2022-06-11T16:04:29.721Z"
   },
   {
    "duration": 20,
    "start_time": "2022-06-11T16:04:29.749Z"
   },
   {
    "duration": 39,
    "start_time": "2022-06-11T16:04:29.772Z"
   },
   {
    "duration": 49,
    "start_time": "2022-06-11T16:04:29.813Z"
   },
   {
    "duration": 20,
    "start_time": "2022-06-11T16:04:29.864Z"
   },
   {
    "duration": 25,
    "start_time": "2022-06-11T16:04:29.886Z"
   },
   {
    "duration": 14,
    "start_time": "2022-06-11T16:04:29.916Z"
   },
   {
    "duration": 11,
    "start_time": "2022-06-11T16:04:29.932Z"
   },
   {
    "duration": 5,
    "start_time": "2022-06-11T16:04:29.945Z"
   },
   {
    "duration": 7,
    "start_time": "2022-06-11T16:04:29.951Z"
   },
   {
    "duration": 42,
    "start_time": "2022-06-11T16:04:29.959Z"
   },
   {
    "duration": 15,
    "start_time": "2022-06-11T16:04:30.005Z"
   },
   {
    "duration": 2206,
    "start_time": "2022-06-11T16:04:30.022Z"
   },
   {
    "duration": 1169,
    "start_time": "2022-06-11T16:04:32.230Z"
   },
   {
    "duration": 6,
    "start_time": "2022-06-11T16:04:33.406Z"
   },
   {
    "duration": 1661,
    "start_time": "2022-06-11T16:04:33.413Z"
   },
   {
    "duration": 3,
    "start_time": "2022-06-11T16:25:51.012Z"
   },
   {
    "duration": 4,
    "start_time": "2022-06-11T16:25:58.248Z"
   },
   {
    "duration": 110,
    "start_time": "2022-06-11T16:28:26.881Z"
   },
   {
    "duration": 3,
    "start_time": "2022-06-11T16:29:40.425Z"
   },
   {
    "duration": 6,
    "start_time": "2022-06-11T16:29:51.358Z"
   },
   {
    "duration": 1581,
    "start_time": "2022-06-11T16:29:56.090Z"
   },
   {
    "duration": 1447,
    "start_time": "2022-06-12T08:14:00.843Z"
   },
   {
    "duration": 91,
    "start_time": "2022-06-12T08:14:02.293Z"
   },
   {
    "duration": 23,
    "start_time": "2022-06-12T08:14:02.386Z"
   },
   {
    "duration": 16,
    "start_time": "2022-06-12T08:14:02.411Z"
   },
   {
    "duration": 7,
    "start_time": "2022-06-12T08:14:02.429Z"
   },
   {
    "duration": 69,
    "start_time": "2022-06-12T08:14:02.439Z"
   },
   {
    "duration": 9,
    "start_time": "2022-06-12T08:14:02.510Z"
   },
   {
    "duration": 19,
    "start_time": "2022-06-12T08:14:02.521Z"
   },
   {
    "duration": 33,
    "start_time": "2022-06-12T08:14:02.542Z"
   },
   {
    "duration": 26,
    "start_time": "2022-06-12T08:14:02.579Z"
   },
   {
    "duration": 11,
    "start_time": "2022-06-12T08:14:02.607Z"
   },
   {
    "duration": 11,
    "start_time": "2022-06-12T08:14:02.619Z"
   },
   {
    "duration": 20,
    "start_time": "2022-06-12T08:14:02.631Z"
   },
   {
    "duration": 28,
    "start_time": "2022-06-12T08:14:02.653Z"
   },
   {
    "duration": 20,
    "start_time": "2022-06-12T08:14:02.682Z"
   },
   {
    "duration": 1764,
    "start_time": "2022-06-12T08:14:02.704Z"
   },
   {
    "duration": 1043,
    "start_time": "2022-06-12T08:14:04.469Z"
   },
   {
    "duration": 4,
    "start_time": "2022-06-12T08:14:05.514Z"
   },
   {
    "duration": 16,
    "start_time": "2022-06-12T08:14:05.520Z"
   },
   {
    "duration": 1523,
    "start_time": "2022-06-12T08:14:05.538Z"
   },
   {
    "duration": 324,
    "start_time": "2022-06-12T08:45:11.257Z"
   },
   {
    "duration": 123,
    "start_time": "2022-06-12T08:47:48.386Z"
   },
   {
    "duration": 1465,
    "start_time": "2022-06-12T08:48:28.315Z"
   },
   {
    "duration": 44,
    "start_time": "2022-06-12T08:48:29.782Z"
   },
   {
    "duration": 18,
    "start_time": "2022-06-12T08:48:29.828Z"
   },
   {
    "duration": 15,
    "start_time": "2022-06-12T08:48:29.848Z"
   },
   {
    "duration": 5,
    "start_time": "2022-06-12T08:48:29.866Z"
   },
   {
    "duration": 66,
    "start_time": "2022-06-12T08:48:29.873Z"
   },
   {
    "duration": 9,
    "start_time": "2022-06-12T08:48:29.941Z"
   },
   {
    "duration": 11,
    "start_time": "2022-06-12T08:48:29.952Z"
   },
   {
    "duration": 38,
    "start_time": "2022-06-12T08:48:29.965Z"
   },
   {
    "duration": 14,
    "start_time": "2022-06-12T08:48:30.008Z"
   },
   {
    "duration": 22,
    "start_time": "2022-06-12T08:48:30.024Z"
   },
   {
    "duration": 35,
    "start_time": "2022-06-12T08:48:30.048Z"
   },
   {
    "duration": 15,
    "start_time": "2022-06-12T08:48:30.086Z"
   },
   {
    "duration": 26,
    "start_time": "2022-06-12T08:48:30.104Z"
   },
   {
    "duration": 16,
    "start_time": "2022-06-12T08:48:30.132Z"
   },
   {
    "duration": 2073,
    "start_time": "2022-06-12T08:48:30.150Z"
   },
   {
    "duration": 999,
    "start_time": "2022-06-12T08:48:32.225Z"
   },
   {
    "duration": 5,
    "start_time": "2022-06-12T08:48:33.226Z"
   },
   {
    "duration": 12,
    "start_time": "2022-06-12T08:48:33.233Z"
   },
   {
    "duration": 1722,
    "start_time": "2022-06-12T08:48:33.247Z"
   },
   {
    "duration": 143,
    "start_time": "2022-06-12T08:48:34.972Z"
   },
   {
    "duration": 19,
    "start_time": "2022-06-12T08:49:15.587Z"
   },
   {
    "duration": 1515,
    "start_time": "2022-06-12T08:49:55.722Z"
   },
   {
    "duration": 34,
    "start_time": "2022-06-12T08:49:57.240Z"
   },
   {
    "duration": 23,
    "start_time": "2022-06-12T08:49:57.276Z"
   },
   {
    "duration": 23,
    "start_time": "2022-06-12T08:49:57.301Z"
   },
   {
    "duration": 11,
    "start_time": "2022-06-12T08:49:57.326Z"
   },
   {
    "duration": 60,
    "start_time": "2022-06-12T08:49:57.339Z"
   },
   {
    "duration": 16,
    "start_time": "2022-06-12T08:49:57.401Z"
   },
   {
    "duration": 8,
    "start_time": "2022-06-12T08:49:57.419Z"
   },
   {
    "duration": 18,
    "start_time": "2022-06-12T08:49:57.429Z"
   },
   {
    "duration": 13,
    "start_time": "2022-06-12T08:49:57.449Z"
   },
   {
    "duration": 16,
    "start_time": "2022-06-12T08:49:57.464Z"
   },
   {
    "duration": 8,
    "start_time": "2022-06-12T08:49:57.482Z"
   },
   {
    "duration": 6,
    "start_time": "2022-06-12T08:49:57.494Z"
   },
   {
    "duration": 13,
    "start_time": "2022-06-12T08:49:57.505Z"
   },
   {
    "duration": 7,
    "start_time": "2022-06-12T08:49:57.520Z"
   },
   {
    "duration": 2051,
    "start_time": "2022-06-12T08:49:57.528Z"
   },
   {
    "duration": 989,
    "start_time": "2022-06-12T08:49:59.581Z"
   },
   {
    "duration": 150,
    "start_time": "2022-06-12T08:50:00.572Z"
   },
   {
    "duration": 0,
    "start_time": "2022-06-12T08:50:00.724Z"
   },
   {
    "duration": 0,
    "start_time": "2022-06-12T08:50:00.726Z"
   },
   {
    "duration": 0,
    "start_time": "2022-06-12T08:50:00.726Z"
   },
   {
    "duration": 0,
    "start_time": "2022-06-12T08:50:00.727Z"
   },
   {
    "duration": 4,
    "start_time": "2022-06-12T08:50:18.991Z"
   },
   {
    "duration": 5,
    "start_time": "2022-06-12T08:50:22.737Z"
   },
   {
    "duration": 1586,
    "start_time": "2022-06-12T08:50:23.165Z"
   },
   {
    "duration": 13,
    "start_time": "2022-06-12T08:50:28.208Z"
   },
   {
    "duration": 17,
    "start_time": "2022-06-12T08:52:11.815Z"
   },
   {
    "duration": 1425,
    "start_time": "2022-06-12T08:52:21.112Z"
   },
   {
    "duration": 39,
    "start_time": "2022-06-12T08:52:22.541Z"
   },
   {
    "duration": 30,
    "start_time": "2022-06-12T08:52:22.582Z"
   },
   {
    "duration": 21,
    "start_time": "2022-06-12T08:52:22.615Z"
   },
   {
    "duration": 5,
    "start_time": "2022-06-12T08:52:22.640Z"
   },
   {
    "duration": 52,
    "start_time": "2022-06-12T08:52:22.646Z"
   },
   {
    "duration": 11,
    "start_time": "2022-06-12T08:52:22.700Z"
   },
   {
    "duration": 18,
    "start_time": "2022-06-12T08:52:22.714Z"
   },
   {
    "duration": 25,
    "start_time": "2022-06-12T08:52:22.734Z"
   },
   {
    "duration": 13,
    "start_time": "2022-06-12T08:52:22.762Z"
   },
   {
    "duration": 13,
    "start_time": "2022-06-12T08:52:22.777Z"
   },
   {
    "duration": 36,
    "start_time": "2022-06-12T08:52:22.792Z"
   },
   {
    "duration": 11,
    "start_time": "2022-06-12T08:52:22.830Z"
   },
   {
    "duration": 7,
    "start_time": "2022-06-12T08:52:22.845Z"
   },
   {
    "duration": 7,
    "start_time": "2022-06-12T08:52:22.854Z"
   },
   {
    "duration": 2679,
    "start_time": "2022-06-12T08:52:22.863Z"
   },
   {
    "duration": 1241,
    "start_time": "2022-06-12T08:52:25.544Z"
   },
   {
    "duration": 9,
    "start_time": "2022-06-12T08:52:26.786Z"
   },
   {
    "duration": 28,
    "start_time": "2022-06-12T08:52:26.799Z"
   },
   {
    "duration": 1636,
    "start_time": "2022-06-12T08:52:26.829Z"
   },
   {
    "duration": 13,
    "start_time": "2022-06-12T08:52:28.467Z"
   },
   {
    "duration": 161,
    "start_time": "2022-06-12T08:52:28.483Z"
   },
   {
    "duration": 16,
    "start_time": "2022-06-12T08:53:47.208Z"
   },
   {
    "duration": 1410,
    "start_time": "2022-06-12T08:53:53.171Z"
   },
   {
    "duration": 35,
    "start_time": "2022-06-12T08:53:54.584Z"
   },
   {
    "duration": 17,
    "start_time": "2022-06-12T08:53:54.621Z"
   },
   {
    "duration": 14,
    "start_time": "2022-06-12T08:53:54.640Z"
   },
   {
    "duration": 5,
    "start_time": "2022-06-12T08:53:54.656Z"
   },
   {
    "duration": 58,
    "start_time": "2022-06-12T08:53:54.663Z"
   },
   {
    "duration": 8,
    "start_time": "2022-06-12T08:53:54.723Z"
   },
   {
    "duration": 7,
    "start_time": "2022-06-12T08:53:54.732Z"
   },
   {
    "duration": 19,
    "start_time": "2022-06-12T08:53:54.741Z"
   },
   {
    "duration": 12,
    "start_time": "2022-06-12T08:53:54.762Z"
   },
   {
    "duration": 9,
    "start_time": "2022-06-12T08:53:54.803Z"
   },
   {
    "duration": 9,
    "start_time": "2022-06-12T08:53:54.813Z"
   },
   {
    "duration": 7,
    "start_time": "2022-06-12T08:53:54.823Z"
   },
   {
    "duration": 3,
    "start_time": "2022-06-12T08:53:54.833Z"
   },
   {
    "duration": 5,
    "start_time": "2022-06-12T08:53:54.838Z"
   },
   {
    "duration": 2284,
    "start_time": "2022-06-12T08:53:54.845Z"
   },
   {
    "duration": 1052,
    "start_time": "2022-06-12T08:53:57.130Z"
   },
   {
    "duration": 3,
    "start_time": "2022-06-12T08:53:58.185Z"
   },
   {
    "duration": 27,
    "start_time": "2022-06-12T08:53:58.190Z"
   },
   {
    "duration": 1849,
    "start_time": "2022-06-12T08:53:58.220Z"
   },
   {
    "duration": 15,
    "start_time": "2022-06-12T08:54:00.072Z"
   },
   {
    "duration": 165,
    "start_time": "2022-06-12T08:54:00.089Z"
   },
   {
    "duration": 1446,
    "start_time": "2022-06-12T08:55:18.874Z"
   },
   {
    "duration": 34,
    "start_time": "2022-06-12T08:55:20.323Z"
   },
   {
    "duration": 16,
    "start_time": "2022-06-12T08:55:20.358Z"
   },
   {
    "duration": 23,
    "start_time": "2022-06-12T08:55:20.376Z"
   },
   {
    "duration": 9,
    "start_time": "2022-06-12T08:55:20.406Z"
   },
   {
    "duration": 48,
    "start_time": "2022-06-12T08:55:20.416Z"
   },
   {
    "duration": 6,
    "start_time": "2022-06-12T08:55:20.466Z"
   },
   {
    "duration": 9,
    "start_time": "2022-06-12T08:55:20.474Z"
   },
   {
    "duration": 29,
    "start_time": "2022-06-12T08:55:20.484Z"
   },
   {
    "duration": 10,
    "start_time": "2022-06-12T08:55:20.515Z"
   },
   {
    "duration": 11,
    "start_time": "2022-06-12T08:55:20.526Z"
   },
   {
    "duration": 12,
    "start_time": "2022-06-12T08:55:20.539Z"
   },
   {
    "duration": 8,
    "start_time": "2022-06-12T08:55:20.553Z"
   },
   {
    "duration": 7,
    "start_time": "2022-06-12T08:55:20.564Z"
   },
   {
    "duration": 5,
    "start_time": "2022-06-12T08:55:20.572Z"
   },
   {
    "duration": 2262,
    "start_time": "2022-06-12T08:55:20.579Z"
   },
   {
    "duration": 1045,
    "start_time": "2022-06-12T08:55:22.843Z"
   },
   {
    "duration": 16,
    "start_time": "2022-06-12T08:55:23.894Z"
   },
   {
    "duration": 0,
    "start_time": "2022-06-12T08:55:23.911Z"
   },
   {
    "duration": 0,
    "start_time": "2022-06-12T08:55:23.912Z"
   },
   {
    "duration": 0,
    "start_time": "2022-06-12T08:55:23.914Z"
   },
   {
    "duration": 0,
    "start_time": "2022-06-12T08:55:23.914Z"
   },
   {
    "duration": 7,
    "start_time": "2022-06-12T08:55:37.855Z"
   },
   {
    "duration": 1665,
    "start_time": "2022-06-12T08:55:38.780Z"
   },
   {
    "duration": 3835,
    "start_time": "2022-06-12T08:55:56.086Z"
   },
   {
    "duration": 110,
    "start_time": "2022-06-12T08:56:15.216Z"
   },
   {
    "duration": 4,
    "start_time": "2022-06-12T08:56:36.541Z"
   },
   {
    "duration": 11,
    "start_time": "2022-06-12T08:56:41.681Z"
   },
   {
    "duration": 28,
    "start_time": "2022-06-12T08:58:50.559Z"
   },
   {
    "duration": 3,
    "start_time": "2022-06-12T09:11:20.946Z"
   },
   {
    "duration": 12,
    "start_time": "2022-06-12T09:12:23.006Z"
   },
   {
    "duration": 5,
    "start_time": "2022-06-12T09:12:38.217Z"
   },
   {
    "duration": 14,
    "start_time": "2022-06-12T09:12:38.693Z"
   },
   {
    "duration": 14,
    "start_time": "2022-06-12T09:14:17.071Z"
   },
   {
    "duration": 383,
    "start_time": "2022-06-12T09:14:39.810Z"
   },
   {
    "duration": 19,
    "start_time": "2022-06-12T09:15:09.593Z"
   },
   {
    "duration": 2688,
    "start_time": "2022-06-12T09:15:35.521Z"
   },
   {
    "duration": 88,
    "start_time": "2022-06-12T09:15:38.215Z"
   },
   {
    "duration": 12,
    "start_time": "2022-06-12T09:15:39.606Z"
   },
   {
    "duration": 350,
    "start_time": "2022-06-12T09:15:44.855Z"
   },
   {
    "duration": 8,
    "start_time": "2022-06-12T09:15:46.560Z"
   },
   {
    "duration": 8,
    "start_time": "2022-06-12T09:16:21.131Z"
   },
   {
    "duration": 4,
    "start_time": "2022-06-12T09:16:41.833Z"
   },
   {
    "duration": 9,
    "start_time": "2022-06-12T09:16:42.564Z"
   },
   {
    "duration": 9,
    "start_time": "2022-06-12T09:16:53.337Z"
   },
   {
    "duration": 9,
    "start_time": "2022-06-12T09:17:10.774Z"
   },
   {
    "duration": 3,
    "start_time": "2022-06-12T09:17:41.225Z"
   },
   {
    "duration": 9,
    "start_time": "2022-06-12T09:17:41.647Z"
   },
   {
    "duration": 375,
    "start_time": "2022-06-12T09:17:42.759Z"
   },
   {
    "duration": 8,
    "start_time": "2022-06-12T09:17:43.136Z"
   },
   {
    "duration": 2600,
    "start_time": "2022-06-12T09:21:23.314Z"
   },
   {
    "duration": 82,
    "start_time": "2022-06-12T09:21:25.916Z"
   },
   {
    "duration": 8,
    "start_time": "2022-06-12T09:21:27.020Z"
   },
   {
    "duration": 367,
    "start_time": "2022-06-12T09:21:40.754Z"
   },
   {
    "duration": 8,
    "start_time": "2022-06-12T09:21:41.647Z"
   },
   {
    "duration": 16,
    "start_time": "2022-06-12T09:25:00.734Z"
   },
   {
    "duration": 5,
    "start_time": "2022-06-12T09:41:39.495Z"
   },
   {
    "duration": 635,
    "start_time": "2022-06-12T09:42:21.145Z"
   },
   {
    "duration": 109906,
    "start_time": "2022-06-12T09:42:37.860Z"
   },
   {
    "duration": 191,
    "start_time": "2022-06-12T09:59:21.672Z"
   },
   {
    "duration": 1238,
    "start_time": "2022-06-12T09:59:52.258Z"
   },
   {
    "duration": 4,
    "start_time": "2022-06-12T10:00:49.723Z"
   },
   {
    "duration": 14,
    "start_time": "2022-06-12T10:01:08.629Z"
   },
   {
    "duration": 21,
    "start_time": "2022-06-12T10:01:24.335Z"
   },
   {
    "duration": 16,
    "start_time": "2022-06-12T10:01:34.179Z"
   },
   {
    "duration": 36,
    "start_time": "2022-06-12T10:07:00.732Z"
   },
   {
    "duration": 18,
    "start_time": "2022-06-12T10:07:03.516Z"
   },
   {
    "duration": 52,
    "start_time": "2022-06-12T10:07:29.887Z"
   },
   {
    "duration": 10,
    "start_time": "2022-06-12T10:07:37.534Z"
   },
   {
    "duration": 24,
    "start_time": "2022-06-12T10:08:11.008Z"
   },
   {
    "duration": 40,
    "start_time": "2022-06-12T10:08:31.352Z"
   },
   {
    "duration": 29,
    "start_time": "2022-06-12T10:08:46.061Z"
   },
   {
    "duration": 32,
    "start_time": "2022-06-12T10:09:18.413Z"
   },
   {
    "duration": 1355,
    "start_time": "2022-06-12T10:16:33.752Z"
   },
   {
    "duration": 34,
    "start_time": "2022-06-12T10:16:35.122Z"
   },
   {
    "duration": 16,
    "start_time": "2022-06-12T10:16:35.158Z"
   },
   {
    "duration": 12,
    "start_time": "2022-06-12T10:16:35.176Z"
   },
   {
    "duration": 16,
    "start_time": "2022-06-12T10:16:35.190Z"
   },
   {
    "duration": 56,
    "start_time": "2022-06-12T10:16:35.211Z"
   },
   {
    "duration": 7,
    "start_time": "2022-06-12T10:16:35.269Z"
   },
   {
    "duration": 7,
    "start_time": "2022-06-12T10:16:35.277Z"
   },
   {
    "duration": 22,
    "start_time": "2022-06-12T10:16:35.286Z"
   },
   {
    "duration": 16,
    "start_time": "2022-06-12T10:16:35.318Z"
   },
   {
    "duration": 5,
    "start_time": "2022-06-12T10:16:35.336Z"
   },
   {
    "duration": 9,
    "start_time": "2022-06-12T10:16:35.342Z"
   },
   {
    "duration": 8,
    "start_time": "2022-06-12T10:16:35.353Z"
   },
   {
    "duration": 9,
    "start_time": "2022-06-12T10:16:35.364Z"
   },
   {
    "duration": 9,
    "start_time": "2022-06-12T10:16:35.374Z"
   },
   {
    "duration": 2264,
    "start_time": "2022-06-12T10:16:35.384Z"
   },
   {
    "duration": 1088,
    "start_time": "2022-06-12T10:16:37.649Z"
   },
   {
    "duration": 2,
    "start_time": "2022-06-12T10:16:38.739Z"
   },
   {
    "duration": 11,
    "start_time": "2022-06-12T10:16:38.743Z"
   },
   {
    "duration": 1529,
    "start_time": "2022-06-12T10:16:38.755Z"
   },
   {
    "duration": 4,
    "start_time": "2022-06-12T10:16:40.286Z"
   },
   {
    "duration": 4127,
    "start_time": "2022-06-12T10:16:40.291Z"
   },
   {
    "duration": 561,
    "start_time": "2022-06-12T10:16:44.420Z"
   },
   {
    "duration": 29,
    "start_time": "2022-06-12T10:16:44.983Z"
   },
   {
    "duration": 705,
    "start_time": "2022-06-12T10:16:45.014Z"
   },
   {
    "duration": 105837,
    "start_time": "2022-06-12T10:16:45.724Z"
   },
   {
    "duration": 1238,
    "start_time": "2022-06-12T10:18:31.562Z"
   },
   {
    "duration": 4,
    "start_time": "2022-06-12T10:18:32.802Z"
   },
   {
    "duration": 133,
    "start_time": "2022-06-12T10:18:32.808Z"
   },
   {
    "duration": 16,
    "start_time": "2022-06-12T10:18:32.943Z"
   },
   {
    "duration": 287,
    "start_time": "2022-06-12T11:37:41.071Z"
   },
   {
    "duration": 170,
    "start_time": "2022-06-12T11:37:50.189Z"
   },
   {
    "duration": 379485,
    "start_time": "2022-06-12T11:37:56.877Z"
   },
   {
    "duration": 1243,
    "start_time": "2022-06-12T18:51:22.069Z"
   },
   {
    "duration": 11198,
    "start_time": "2022-06-12T18:54:57.691Z"
   },
   {
    "duration": 199,
    "start_time": "2022-06-12T19:00:11.532Z"
   },
   {
    "duration": 190,
    "start_time": "2022-06-12T19:06:22.944Z"
   },
   {
    "duration": 1422,
    "start_time": "2022-06-12T19:07:43.437Z"
   },
   {
    "duration": 33,
    "start_time": "2022-06-12T19:07:44.861Z"
   },
   {
    "duration": 18,
    "start_time": "2022-06-12T19:07:44.900Z"
   },
   {
    "duration": 13,
    "start_time": "2022-06-12T19:07:44.921Z"
   },
   {
    "duration": 5,
    "start_time": "2022-06-12T19:07:44.937Z"
   },
   {
    "duration": 74,
    "start_time": "2022-06-12T19:07:44.944Z"
   },
   {
    "duration": 9,
    "start_time": "2022-06-12T19:07:45.019Z"
   },
   {
    "duration": 6,
    "start_time": "2022-06-12T19:07:45.030Z"
   },
   {
    "duration": 15,
    "start_time": "2022-06-12T19:07:45.038Z"
   },
   {
    "duration": 17,
    "start_time": "2022-06-12T19:07:45.054Z"
   },
   {
    "duration": 40,
    "start_time": "2022-06-12T19:07:45.073Z"
   },
   {
    "duration": 8,
    "start_time": "2022-06-12T19:07:45.114Z"
   },
   {
    "duration": 6,
    "start_time": "2022-06-12T19:07:45.124Z"
   },
   {
    "duration": 7,
    "start_time": "2022-06-12T19:07:45.133Z"
   },
   {
    "duration": 5,
    "start_time": "2022-06-12T19:07:45.142Z"
   },
   {
    "duration": 2278,
    "start_time": "2022-06-12T19:07:45.149Z"
   },
   {
    "duration": 1070,
    "start_time": "2022-06-12T19:07:47.429Z"
   },
   {
    "duration": 3,
    "start_time": "2022-06-12T19:07:48.503Z"
   },
   {
    "duration": 15,
    "start_time": "2022-06-12T19:07:48.509Z"
   },
   {
    "duration": 1431,
    "start_time": "2022-06-12T19:07:48.526Z"
   },
   {
    "duration": 4,
    "start_time": "2022-06-12T19:07:49.958Z"
   },
   {
    "duration": 2832,
    "start_time": "2022-06-12T19:07:49.964Z"
   },
   {
    "duration": 504,
    "start_time": "2022-06-12T19:07:52.798Z"
   },
   {
    "duration": 13,
    "start_time": "2022-06-12T19:07:53.309Z"
   },
   {
    "duration": 699,
    "start_time": "2022-06-12T19:07:53.324Z"
   },
   {
    "duration": 104944,
    "start_time": "2022-06-12T19:07:54.025Z"
   },
   {
    "duration": 1046,
    "start_time": "2022-06-12T19:09:38.971Z"
   },
   {
    "duration": 84,
    "start_time": "2022-06-12T19:09:40.019Z"
   },
   {
    "duration": 24,
    "start_time": "2022-06-12T19:09:40.107Z"
   },
   {
    "duration": 14,
    "start_time": "2022-06-12T19:09:40.133Z"
   },
   {
    "duration": 409408,
    "start_time": "2022-06-12T19:09:40.148Z"
   },
   {
    "duration": 1436,
    "start_time": "2022-06-12T19:16:29.558Z"
   },
   {
    "duration": 362,
    "start_time": "2022-06-12T19:26:06.412Z"
   },
   {
    "duration": 116,
    "start_time": "2022-06-12T19:27:57.449Z"
   },
   {
    "duration": 139,
    "start_time": "2022-06-12T19:28:15.394Z"
   },
   {
    "duration": 16,
    "start_time": "2022-06-12T20:00:53.421Z"
   },
   {
    "duration": 438,
    "start_time": "2022-06-12T20:00:59.404Z"
   },
   {
    "duration": 462,
    "start_time": "2022-06-12T20:02:04.851Z"
   },
   {
    "duration": 4,
    "start_time": "2022-06-12T20:02:25.903Z"
   },
   {
    "duration": 12548,
    "start_time": "2022-06-12T20:02:33.166Z"
   },
   {
    "duration": 1269,
    "start_time": "2022-06-12T20:04:44.856Z"
   },
   {
    "duration": 535,
    "start_time": "2022-06-12T20:04:57.619Z"
   },
   {
    "duration": 13,
    "start_time": "2022-06-12T20:06:14.514Z"
   },
   {
    "duration": 419,
    "start_time": "2022-06-12T20:06:20.572Z"
   },
   {
    "duration": 413,
    "start_time": "2022-06-12T20:06:33.370Z"
   },
   {
    "duration": 449,
    "start_time": "2022-06-12T20:06:46.850Z"
   },
   {
    "duration": 1224,
    "start_time": "2022-06-12T20:07:11.352Z"
   },
   {
    "duration": 230,
    "start_time": "2022-06-12T20:12:46.980Z"
   },
   {
    "duration": 22,
    "start_time": "2022-06-12T20:13:03.586Z"
   },
   {
    "duration": 31,
    "start_time": "2022-06-12T20:13:29.603Z"
   },
   {
    "duration": 112,
    "start_time": "2022-06-12T20:13:37.709Z"
   },
   {
    "duration": 44,
    "start_time": "2022-06-12T20:13:43.361Z"
   },
   {
    "duration": 335,
    "start_time": "2022-06-12T20:13:55.134Z"
   },
   {
    "duration": 4,
    "start_time": "2022-06-12T20:14:15.209Z"
   },
   {
    "duration": 748,
    "start_time": "2022-06-12T20:18:11.077Z"
   },
   {
    "duration": 900,
    "start_time": "2022-06-12T20:19:04.184Z"
   },
   {
    "duration": 175,
    "start_time": "2022-06-12T20:19:22.432Z"
   },
   {
    "duration": 1058,
    "start_time": "2022-06-12T20:19:36.331Z"
   },
   {
    "duration": 1254,
    "start_time": "2022-06-12T20:23:53.206Z"
   },
   {
    "duration": 7,
    "start_time": "2022-06-12T20:27:28.984Z"
   },
   {
    "duration": 20,
    "start_time": "2022-06-12T20:27:52.697Z"
   },
   {
    "duration": 9,
    "start_time": "2022-06-12T20:27:56.753Z"
   },
   {
    "duration": 5,
    "start_time": "2022-06-12T20:30:06.840Z"
   },
   {
    "duration": 14,
    "start_time": "2022-06-12T20:30:23.318Z"
   },
   {
    "duration": 12,
    "start_time": "2022-06-12T20:30:41.306Z"
   },
   {
    "duration": 6,
    "start_time": "2022-06-12T20:31:09.433Z"
   },
   {
    "duration": 11,
    "start_time": "2022-06-12T20:31:13.502Z"
   },
   {
    "duration": 6,
    "start_time": "2022-06-12T20:31:45.877Z"
   },
   {
    "duration": 9,
    "start_time": "2022-06-12T20:31:51.323Z"
   },
   {
    "duration": 1768,
    "start_time": "2022-06-14T07:01:50.226Z"
   },
   {
    "duration": 70,
    "start_time": "2022-06-14T07:01:53.488Z"
   },
   {
    "duration": 19,
    "start_time": "2022-06-14T07:01:55.659Z"
   },
   {
    "duration": 8,
    "start_time": "2022-06-14T07:28:18.195Z"
   },
   {
    "duration": 6,
    "start_time": "2022-06-14T07:28:21.235Z"
   },
   {
    "duration": 120,
    "start_time": "2022-06-14T07:33:31.576Z"
   },
   {
    "duration": 1408,
    "start_time": "2022-06-14T07:33:47.575Z"
   },
   {
    "duration": 37,
    "start_time": "2022-06-14T07:33:48.985Z"
   },
   {
    "duration": 20,
    "start_time": "2022-06-14T07:33:49.024Z"
   },
   {
    "duration": 33,
    "start_time": "2022-06-14T07:33:49.047Z"
   },
   {
    "duration": 6,
    "start_time": "2022-06-14T07:33:49.082Z"
   },
   {
    "duration": 70,
    "start_time": "2022-06-14T07:33:49.090Z"
   },
   {
    "duration": 8,
    "start_time": "2022-06-14T07:33:49.162Z"
   },
   {
    "duration": 16,
    "start_time": "2022-06-14T07:33:49.171Z"
   },
   {
    "duration": 20,
    "start_time": "2022-06-14T07:33:49.189Z"
   },
   {
    "duration": 17,
    "start_time": "2022-06-14T07:33:49.213Z"
   },
   {
    "duration": 29,
    "start_time": "2022-06-14T07:33:49.232Z"
   },
   {
    "duration": 18,
    "start_time": "2022-06-14T07:33:49.264Z"
   },
   {
    "duration": 35,
    "start_time": "2022-06-14T07:33:49.284Z"
   },
   {
    "duration": 9,
    "start_time": "2022-06-14T07:33:49.320Z"
   },
   {
    "duration": 30,
    "start_time": "2022-06-14T07:33:49.330Z"
   },
   {
    "duration": 24,
    "start_time": "2022-06-14T07:33:49.361Z"
   },
   {
    "duration": 2169,
    "start_time": "2022-06-14T07:33:49.387Z"
   },
   {
    "duration": 1016,
    "start_time": "2022-06-14T07:33:51.558Z"
   },
   {
    "duration": 2,
    "start_time": "2022-06-14T07:33:52.576Z"
   },
   {
    "duration": 11,
    "start_time": "2022-06-14T07:33:52.580Z"
   },
   {
    "duration": 1410,
    "start_time": "2022-06-14T07:33:52.593Z"
   },
   {
    "duration": 4,
    "start_time": "2022-06-14T07:33:54.004Z"
   },
   {
    "duration": 760,
    "start_time": "2022-06-14T07:33:54.010Z"
   },
   {
    "duration": 560,
    "start_time": "2022-06-14T07:33:54.774Z"
   },
   {
    "duration": 13,
    "start_time": "2022-06-14T07:33:55.336Z"
   },
   {
    "duration": 581,
    "start_time": "2022-06-14T07:33:55.351Z"
   },
   {
    "duration": 101637,
    "start_time": "2022-06-14T07:33:55.934Z"
   },
   {
    "duration": 1291,
    "start_time": "2022-06-14T07:35:37.574Z"
   },
   {
    "duration": 3,
    "start_time": "2022-06-14T07:35:38.867Z"
   },
   {
    "duration": 18,
    "start_time": "2022-06-14T07:35:38.871Z"
   },
   {
    "duration": 21,
    "start_time": "2022-06-14T07:35:38.891Z"
   },
   {
    "duration": 1002,
    "start_time": "2022-06-14T07:35:38.914Z"
   },
   {
    "duration": 1379,
    "start_time": "2022-06-14T07:35:39.918Z"
   },
   {
    "duration": 6,
    "start_time": "2022-06-14T07:35:41.299Z"
   },
   {
    "duration": 13,
    "start_time": "2022-06-14T07:35:41.306Z"
   },
   {
    "duration": 8,
    "start_time": "2022-06-14T07:35:41.320Z"
   },
   {
    "duration": 4,
    "start_time": "2022-06-14T07:49:27.713Z"
   },
   {
    "duration": 4,
    "start_time": "2022-06-14T07:55:42.664Z"
   },
   {
    "duration": 2179,
    "start_time": "2022-06-14T07:58:27.425Z"
   },
   {
    "duration": 1324,
    "start_time": "2022-06-14T07:59:44.814Z"
   },
   {
    "duration": 34,
    "start_time": "2022-06-14T07:59:46.140Z"
   },
   {
    "duration": 15,
    "start_time": "2022-06-14T07:59:46.176Z"
   },
   {
    "duration": 18,
    "start_time": "2022-06-14T07:59:46.194Z"
   },
   {
    "duration": 20,
    "start_time": "2022-06-14T07:59:46.213Z"
   },
   {
    "duration": 62,
    "start_time": "2022-06-14T07:59:46.235Z"
   },
   {
    "duration": 7,
    "start_time": "2022-06-14T07:59:46.299Z"
   },
   {
    "duration": 10,
    "start_time": "2022-06-14T07:59:46.307Z"
   },
   {
    "duration": 22,
    "start_time": "2022-06-14T07:59:46.319Z"
   },
   {
    "duration": 29,
    "start_time": "2022-06-14T07:59:46.344Z"
   },
   {
    "duration": 18,
    "start_time": "2022-06-14T07:59:46.375Z"
   },
   {
    "duration": 18,
    "start_time": "2022-06-14T07:59:46.394Z"
   },
   {
    "duration": 18,
    "start_time": "2022-06-14T07:59:46.413Z"
   },
   {
    "duration": 2080,
    "start_time": "2022-06-14T07:59:46.432Z"
   },
   {
    "duration": 1202,
    "start_time": "2022-06-14T07:59:48.513Z"
   },
   {
    "duration": 3,
    "start_time": "2022-06-14T07:59:49.717Z"
   },
   {
    "duration": 18,
    "start_time": "2022-06-14T07:59:49.723Z"
   },
   {
    "duration": 1420,
    "start_time": "2022-06-14T07:59:49.743Z"
   },
   {
    "duration": 4,
    "start_time": "2022-06-14T07:59:51.165Z"
   },
   {
    "duration": 995,
    "start_time": "2022-06-14T07:59:51.170Z"
   },
   {
    "duration": 527,
    "start_time": "2022-06-14T07:59:52.168Z"
   },
   {
    "duration": 14,
    "start_time": "2022-06-14T07:59:52.697Z"
   },
   {
    "duration": 613,
    "start_time": "2022-06-14T07:59:52.712Z"
   },
   {
    "duration": 105211,
    "start_time": "2022-06-14T07:59:53.327Z"
   },
   {
    "duration": 1327,
    "start_time": "2022-06-14T08:01:38.540Z"
   },
   {
    "duration": 3,
    "start_time": "2022-06-14T08:01:39.964Z"
   },
   {
    "duration": 16,
    "start_time": "2022-06-14T08:01:39.970Z"
   },
   {
    "duration": 24,
    "start_time": "2022-06-14T08:01:39.989Z"
   },
   {
    "duration": 958,
    "start_time": "2022-06-14T08:01:40.015Z"
   },
   {
    "duration": 1357,
    "start_time": "2022-06-14T08:01:40.975Z"
   },
   {
    "duration": 6,
    "start_time": "2022-06-14T08:01:42.334Z"
   },
   {
    "duration": 54,
    "start_time": "2022-06-14T08:01:42.343Z"
   },
   {
    "duration": 8,
    "start_time": "2022-06-14T08:01:42.400Z"
   },
   {
    "duration": 1372,
    "start_time": "2022-06-14T08:33:25.012Z"
   },
   {
    "duration": 1459,
    "start_time": "2022-06-14T08:33:51.142Z"
   },
   {
    "duration": 1425,
    "start_time": "2022-06-14T08:34:04.045Z"
   },
   {
    "duration": 5,
    "start_time": "2022-06-14T08:43:37.921Z"
   },
   {
    "duration": 5,
    "start_time": "2022-06-14T08:43:56.093Z"
   },
   {
    "duration": 113,
    "start_time": "2022-06-14T08:45:41.132Z"
   },
   {
    "duration": 1359,
    "start_time": "2022-06-14T08:46:02.950Z"
   },
   {
    "duration": 33,
    "start_time": "2022-06-14T08:46:04.311Z"
   },
   {
    "duration": 42,
    "start_time": "2022-06-14T08:46:04.345Z"
   },
   {
    "duration": 12,
    "start_time": "2022-06-14T08:46:04.390Z"
   },
   {
    "duration": 8,
    "start_time": "2022-06-14T08:46:04.404Z"
   },
   {
    "duration": 53,
    "start_time": "2022-06-14T08:46:04.414Z"
   },
   {
    "duration": 9,
    "start_time": "2022-06-14T08:46:04.469Z"
   },
   {
    "duration": 6,
    "start_time": "2022-06-14T08:46:04.480Z"
   },
   {
    "duration": 8,
    "start_time": "2022-06-14T08:46:04.488Z"
   },
   {
    "duration": 13,
    "start_time": "2022-06-14T08:46:04.498Z"
   },
   {
    "duration": 14,
    "start_time": "2022-06-14T08:46:04.512Z"
   },
   {
    "duration": 6,
    "start_time": "2022-06-14T08:46:04.527Z"
   },
   {
    "duration": 30,
    "start_time": "2022-06-14T08:46:04.535Z"
   },
   {
    "duration": 2022,
    "start_time": "2022-06-14T08:46:04.567Z"
   },
   {
    "duration": 1007,
    "start_time": "2022-06-14T08:46:06.591Z"
   },
   {
    "duration": 3,
    "start_time": "2022-06-14T08:46:07.600Z"
   },
   {
    "duration": 10,
    "start_time": "2022-06-14T08:46:07.605Z"
   },
   {
    "duration": 1402,
    "start_time": "2022-06-14T08:46:07.617Z"
   },
   {
    "duration": 8,
    "start_time": "2022-06-14T08:46:09.021Z"
   },
   {
    "duration": 10,
    "start_time": "2022-06-14T08:46:09.031Z"
   },
   {
    "duration": 10,
    "start_time": "2022-06-14T08:46:09.043Z"
   },
   {
    "duration": 125,
    "start_time": "2022-06-14T08:46:09.055Z"
   },
   {
    "duration": 0,
    "start_time": "2022-06-14T08:46:09.182Z"
   },
   {
    "duration": 0,
    "start_time": "2022-06-14T08:46:09.183Z"
   },
   {
    "duration": 0,
    "start_time": "2022-06-14T08:46:09.184Z"
   },
   {
    "duration": 0,
    "start_time": "2022-06-14T08:46:09.186Z"
   },
   {
    "duration": 0,
    "start_time": "2022-06-14T08:46:09.186Z"
   },
   {
    "duration": 0,
    "start_time": "2022-06-14T08:46:09.188Z"
   },
   {
    "duration": 0,
    "start_time": "2022-06-14T08:46:09.188Z"
   },
   {
    "duration": 0,
    "start_time": "2022-06-14T08:46:09.189Z"
   },
   {
    "duration": 0,
    "start_time": "2022-06-14T08:46:09.190Z"
   },
   {
    "duration": 0,
    "start_time": "2022-06-14T08:46:09.191Z"
   },
   {
    "duration": 0,
    "start_time": "2022-06-14T08:46:09.192Z"
   },
   {
    "duration": 0,
    "start_time": "2022-06-14T08:46:09.193Z"
   },
   {
    "duration": 0,
    "start_time": "2022-06-14T08:46:09.194Z"
   },
   {
    "duration": 10,
    "start_time": "2022-06-14T08:46:31.575Z"
   },
   {
    "duration": 9,
    "start_time": "2022-06-14T08:46:34.984Z"
   },
   {
    "duration": 18,
    "start_time": "2022-06-14T08:46:46.724Z"
   },
   {
    "duration": 1349,
    "start_time": "2022-06-14T08:47:01.685Z"
   },
   {
    "duration": 35,
    "start_time": "2022-06-14T08:47:03.036Z"
   },
   {
    "duration": 18,
    "start_time": "2022-06-14T08:47:03.073Z"
   },
   {
    "duration": 12,
    "start_time": "2022-06-14T08:47:03.093Z"
   },
   {
    "duration": 18,
    "start_time": "2022-06-14T08:47:03.107Z"
   },
   {
    "duration": 76,
    "start_time": "2022-06-14T08:47:03.127Z"
   },
   {
    "duration": 11,
    "start_time": "2022-06-14T08:47:03.206Z"
   },
   {
    "duration": 16,
    "start_time": "2022-06-14T08:47:03.221Z"
   },
   {
    "duration": 14,
    "start_time": "2022-06-14T08:47:03.239Z"
   },
   {
    "duration": 26,
    "start_time": "2022-06-14T08:47:03.256Z"
   },
   {
    "duration": 40,
    "start_time": "2022-06-14T08:47:03.284Z"
   },
   {
    "duration": 7,
    "start_time": "2022-06-14T08:47:03.326Z"
   },
   {
    "duration": 20,
    "start_time": "2022-06-14T08:47:03.335Z"
   },
   {
    "duration": 2082,
    "start_time": "2022-06-14T08:47:03.357Z"
   },
   {
    "duration": 1002,
    "start_time": "2022-06-14T08:47:05.440Z"
   },
   {
    "duration": 2,
    "start_time": "2022-06-14T08:47:06.444Z"
   },
   {
    "duration": 19,
    "start_time": "2022-06-14T08:47:06.448Z"
   },
   {
    "duration": 1411,
    "start_time": "2022-06-14T08:47:06.468Z"
   },
   {
    "duration": 5,
    "start_time": "2022-06-14T08:47:07.880Z"
   },
   {
    "duration": 13,
    "start_time": "2022-06-14T08:47:07.886Z"
   },
   {
    "duration": 114,
    "start_time": "2022-06-14T08:47:07.902Z"
   },
   {
    "duration": 0,
    "start_time": "2022-06-14T08:47:08.018Z"
   },
   {
    "duration": 0,
    "start_time": "2022-06-14T08:47:08.019Z"
   },
   {
    "duration": 0,
    "start_time": "2022-06-14T08:47:08.021Z"
   },
   {
    "duration": 0,
    "start_time": "2022-06-14T08:47:08.022Z"
   },
   {
    "duration": 0,
    "start_time": "2022-06-14T08:47:08.024Z"
   },
   {
    "duration": 0,
    "start_time": "2022-06-14T08:47:08.025Z"
   },
   {
    "duration": 0,
    "start_time": "2022-06-14T08:47:08.026Z"
   },
   {
    "duration": 0,
    "start_time": "2022-06-14T08:47:08.027Z"
   },
   {
    "duration": 0,
    "start_time": "2022-06-14T08:47:08.028Z"
   },
   {
    "duration": 0,
    "start_time": "2022-06-14T08:47:08.030Z"
   },
   {
    "duration": 0,
    "start_time": "2022-06-14T08:47:08.031Z"
   },
   {
    "duration": 0,
    "start_time": "2022-06-14T08:47:08.032Z"
   },
   {
    "duration": 0,
    "start_time": "2022-06-14T08:47:08.033Z"
   },
   {
    "duration": 0,
    "start_time": "2022-06-14T08:47:08.034Z"
   },
   {
    "duration": 0,
    "start_time": "2022-06-14T08:47:08.036Z"
   },
   {
    "duration": 16,
    "start_time": "2022-06-14T08:47:35.859Z"
   },
   {
    "duration": 1378,
    "start_time": "2022-06-14T08:47:45.880Z"
   },
   {
    "duration": 33,
    "start_time": "2022-06-14T08:47:47.260Z"
   },
   {
    "duration": 15,
    "start_time": "2022-06-14T08:47:47.295Z"
   },
   {
    "duration": 13,
    "start_time": "2022-06-14T08:47:47.312Z"
   },
   {
    "duration": 4,
    "start_time": "2022-06-14T08:47:47.327Z"
   },
   {
    "duration": 52,
    "start_time": "2022-06-14T08:47:47.332Z"
   },
   {
    "duration": 9,
    "start_time": "2022-06-14T08:47:47.387Z"
   },
   {
    "duration": 6,
    "start_time": "2022-06-14T08:47:47.398Z"
   },
   {
    "duration": 10,
    "start_time": "2022-06-14T08:47:47.406Z"
   },
   {
    "duration": 15,
    "start_time": "2022-06-14T08:47:47.419Z"
   },
   {
    "duration": 39,
    "start_time": "2022-06-14T08:47:47.436Z"
   },
   {
    "duration": 9,
    "start_time": "2022-06-14T08:47:47.478Z"
   },
   {
    "duration": 11,
    "start_time": "2022-06-14T08:47:47.489Z"
   },
   {
    "duration": 2140,
    "start_time": "2022-06-14T08:47:47.501Z"
   },
   {
    "duration": 1048,
    "start_time": "2022-06-14T08:47:49.643Z"
   },
   {
    "duration": 2,
    "start_time": "2022-06-14T08:47:50.693Z"
   },
   {
    "duration": 11,
    "start_time": "2022-06-14T08:47:50.697Z"
   },
   {
    "duration": 1349,
    "start_time": "2022-06-14T08:47:50.710Z"
   },
   {
    "duration": 4,
    "start_time": "2022-06-14T08:47:52.060Z"
   },
   {
    "duration": 119,
    "start_time": "2022-06-14T08:47:52.066Z"
   },
   {
    "duration": 0,
    "start_time": "2022-06-14T08:47:52.187Z"
   },
   {
    "duration": 0,
    "start_time": "2022-06-14T08:47:52.189Z"
   },
   {
    "duration": 0,
    "start_time": "2022-06-14T08:47:52.190Z"
   },
   {
    "duration": 0,
    "start_time": "2022-06-14T08:47:52.192Z"
   },
   {
    "duration": 0,
    "start_time": "2022-06-14T08:47:52.193Z"
   },
   {
    "duration": 0,
    "start_time": "2022-06-14T08:47:52.195Z"
   },
   {
    "duration": 0,
    "start_time": "2022-06-14T08:47:52.196Z"
   },
   {
    "duration": 0,
    "start_time": "2022-06-14T08:47:52.197Z"
   },
   {
    "duration": 0,
    "start_time": "2022-06-14T08:47:52.199Z"
   },
   {
    "duration": 0,
    "start_time": "2022-06-14T08:47:52.200Z"
   },
   {
    "duration": 0,
    "start_time": "2022-06-14T08:47:52.202Z"
   },
   {
    "duration": 0,
    "start_time": "2022-06-14T08:47:52.203Z"
   },
   {
    "duration": 0,
    "start_time": "2022-06-14T08:47:52.204Z"
   },
   {
    "duration": 0,
    "start_time": "2022-06-14T08:47:52.206Z"
   },
   {
    "duration": 0,
    "start_time": "2022-06-14T08:47:52.207Z"
   },
   {
    "duration": 0,
    "start_time": "2022-06-14T08:47:52.209Z"
   },
   {
    "duration": 1297,
    "start_time": "2022-06-14T08:48:54.595Z"
   },
   {
    "duration": 34,
    "start_time": "2022-06-14T08:48:55.894Z"
   },
   {
    "duration": 15,
    "start_time": "2022-06-14T08:48:55.929Z"
   },
   {
    "duration": 12,
    "start_time": "2022-06-14T08:48:55.946Z"
   },
   {
    "duration": 5,
    "start_time": "2022-06-14T08:48:55.960Z"
   },
   {
    "duration": 48,
    "start_time": "2022-06-14T08:48:55.967Z"
   },
   {
    "duration": 7,
    "start_time": "2022-06-14T08:48:56.017Z"
   },
   {
    "duration": 5,
    "start_time": "2022-06-14T08:48:56.026Z"
   },
   {
    "duration": 32,
    "start_time": "2022-06-14T08:48:56.033Z"
   },
   {
    "duration": 13,
    "start_time": "2022-06-14T08:48:56.067Z"
   },
   {
    "duration": 16,
    "start_time": "2022-06-14T08:48:56.082Z"
   },
   {
    "duration": 5,
    "start_time": "2022-06-14T08:48:56.099Z"
   },
   {
    "duration": 6,
    "start_time": "2022-06-14T08:48:56.106Z"
   },
   {
    "duration": 2124,
    "start_time": "2022-06-14T08:48:56.115Z"
   },
   {
    "duration": 1080,
    "start_time": "2022-06-14T08:48:58.241Z"
   },
   {
    "duration": 3,
    "start_time": "2022-06-14T08:48:59.322Z"
   },
   {
    "duration": 10,
    "start_time": "2022-06-14T08:48:59.326Z"
   },
   {
    "duration": 1382,
    "start_time": "2022-06-14T08:48:59.337Z"
   },
   {
    "duration": 4,
    "start_time": "2022-06-14T08:49:00.721Z"
   },
   {
    "duration": 20,
    "start_time": "2022-06-14T08:49:00.727Z"
   },
   {
    "duration": 29,
    "start_time": "2022-06-14T08:49:00.749Z"
   },
   {
    "duration": 28,
    "start_time": "2022-06-14T08:49:00.779Z"
   },
   {
    "duration": 135,
    "start_time": "2022-06-14T08:49:00.809Z"
   },
   {
    "duration": 0,
    "start_time": "2022-06-14T08:49:00.946Z"
   },
   {
    "duration": 0,
    "start_time": "2022-06-14T08:49:00.947Z"
   },
   {
    "duration": 0,
    "start_time": "2022-06-14T08:49:00.948Z"
   },
   {
    "duration": 0,
    "start_time": "2022-06-14T08:49:00.949Z"
   },
   {
    "duration": 0,
    "start_time": "2022-06-14T08:49:00.950Z"
   },
   {
    "duration": 0,
    "start_time": "2022-06-14T08:49:00.951Z"
   },
   {
    "duration": 0,
    "start_time": "2022-06-14T08:49:00.952Z"
   },
   {
    "duration": 0,
    "start_time": "2022-06-14T08:49:00.953Z"
   },
   {
    "duration": 0,
    "start_time": "2022-06-14T08:49:00.965Z"
   },
   {
    "duration": 0,
    "start_time": "2022-06-14T08:49:00.966Z"
   },
   {
    "duration": 0,
    "start_time": "2022-06-14T08:49:00.967Z"
   },
   {
    "duration": 0,
    "start_time": "2022-06-14T08:49:00.969Z"
   },
   {
    "duration": 0,
    "start_time": "2022-06-14T08:49:00.970Z"
   },
   {
    "duration": 11,
    "start_time": "2022-06-14T08:49:22.946Z"
   },
   {
    "duration": 1022,
    "start_time": "2022-06-14T08:49:37.445Z"
   },
   {
    "duration": 348,
    "start_time": "2022-06-14T08:49:42.846Z"
   },
   {
    "duration": 12,
    "start_time": "2022-06-14T08:49:44.487Z"
   },
   {
    "duration": 3,
    "start_time": "2022-06-14T09:01:36.400Z"
   },
   {
    "duration": 765,
    "start_time": "2022-06-14T09:02:50.901Z"
   },
   {
    "duration": 16,
    "start_time": "2022-06-14T09:03:30.152Z"
   },
   {
    "duration": 26,
    "start_time": "2022-06-14T09:11:47.582Z"
   },
   {
    "duration": 347,
    "start_time": "2022-06-14T09:11:54.867Z"
   },
   {
    "duration": 5,
    "start_time": "2022-06-14T09:13:22.517Z"
   },
   {
    "duration": 559,
    "start_time": "2022-06-14T09:13:35.619Z"
   },
   {
    "duration": 557,
    "start_time": "2022-06-14T09:13:42.267Z"
   },
   {
    "duration": 23,
    "start_time": "2022-06-14T09:13:44.839Z"
   },
   {
    "duration": 387,
    "start_time": "2022-06-14T09:13:58.717Z"
   },
   {
    "duration": 13,
    "start_time": "2022-06-14T09:14:00.499Z"
   },
   {
    "duration": 6,
    "start_time": "2022-06-14T09:14:15.028Z"
   },
   {
    "duration": 4,
    "start_time": "2022-06-14T09:15:26.469Z"
   },
   {
    "duration": 881,
    "start_time": "2022-06-14T09:15:30.287Z"
   },
   {
    "duration": 349,
    "start_time": "2022-06-14T09:15:34.017Z"
   },
   {
    "duration": 3,
    "start_time": "2022-06-14T09:16:01.379Z"
   },
   {
    "duration": 9,
    "start_time": "2022-06-14T09:16:04.188Z"
   },
   {
    "duration": 17,
    "start_time": "2022-06-14T09:16:20.669Z"
   },
   {
    "duration": 27,
    "start_time": "2022-06-14T09:20:42.527Z"
   },
   {
    "duration": 16,
    "start_time": "2022-06-14T09:20:45.735Z"
   },
   {
    "duration": 4,
    "start_time": "2022-06-14T09:26:57.286Z"
   },
   {
    "duration": 9,
    "start_time": "2022-06-14T09:26:59.168Z"
   },
   {
    "duration": 3,
    "start_time": "2022-06-14T09:27:08.166Z"
   },
   {
    "duration": 14,
    "start_time": "2022-06-14T09:27:10.372Z"
   },
   {
    "duration": 619,
    "start_time": "2022-06-14T09:30:28.574Z"
   },
   {
    "duration": 97686,
    "start_time": "2022-06-14T09:31:13.884Z"
   },
   {
    "duration": 1290,
    "start_time": "2022-06-14T09:35:03.776Z"
   },
   {
    "duration": 3,
    "start_time": "2022-06-14T09:39:39.433Z"
   },
   {
    "duration": 14,
    "start_time": "2022-06-14T09:39:58.612Z"
   },
   {
    "duration": 14,
    "start_time": "2022-06-14T09:41:10.023Z"
   },
   {
    "duration": 14,
    "start_time": "2022-06-14T09:41:33.473Z"
   },
   {
    "duration": 728,
    "start_time": "2022-06-14T11:45:10.283Z"
   },
   {
    "duration": 3,
    "start_time": "2022-06-14T11:47:43.276Z"
   },
   {
    "duration": 629,
    "start_time": "2022-06-14T11:47:44.169Z"
   },
   {
    "duration": 774,
    "start_time": "2022-06-14T11:47:52.383Z"
   },
   {
    "duration": 3,
    "start_time": "2022-06-14T11:48:09.902Z"
   },
   {
    "duration": 3,
    "start_time": "2022-06-14T11:48:27.936Z"
   },
   {
    "duration": 1348,
    "start_time": "2022-06-14T11:49:14.083Z"
   },
   {
    "duration": 46,
    "start_time": "2022-06-14T11:49:15.434Z"
   },
   {
    "duration": 15,
    "start_time": "2022-06-14T11:49:15.482Z"
   },
   {
    "duration": 22,
    "start_time": "2022-06-14T11:49:15.499Z"
   },
   {
    "duration": 4,
    "start_time": "2022-06-14T11:49:15.523Z"
   },
   {
    "duration": 46,
    "start_time": "2022-06-14T11:49:15.528Z"
   },
   {
    "duration": 8,
    "start_time": "2022-06-14T11:49:15.576Z"
   },
   {
    "duration": 6,
    "start_time": "2022-06-14T11:49:15.585Z"
   },
   {
    "duration": 6,
    "start_time": "2022-06-14T11:49:15.593Z"
   },
   {
    "duration": 15,
    "start_time": "2022-06-14T11:49:15.602Z"
   },
   {
    "duration": 9,
    "start_time": "2022-06-14T11:49:15.619Z"
   },
   {
    "duration": 36,
    "start_time": "2022-06-14T11:49:15.630Z"
   },
   {
    "duration": 7,
    "start_time": "2022-06-14T11:49:15.668Z"
   },
   {
    "duration": 2174,
    "start_time": "2022-06-14T11:49:15.677Z"
   },
   {
    "duration": 1053,
    "start_time": "2022-06-14T11:49:17.854Z"
   },
   {
    "duration": 3,
    "start_time": "2022-06-14T11:49:18.909Z"
   },
   {
    "duration": 10,
    "start_time": "2022-06-14T11:49:18.914Z"
   },
   {
    "duration": 1449,
    "start_time": "2022-06-14T11:49:18.926Z"
   },
   {
    "duration": 5,
    "start_time": "2022-06-14T11:49:20.376Z"
   },
   {
    "duration": 14,
    "start_time": "2022-06-14T11:49:20.383Z"
   },
   {
    "duration": 7,
    "start_time": "2022-06-14T11:49:20.399Z"
   },
   {
    "duration": 36,
    "start_time": "2022-06-14T11:49:20.408Z"
   },
   {
    "duration": 319,
    "start_time": "2022-06-14T11:49:20.445Z"
   },
   {
    "duration": 12,
    "start_time": "2022-06-14T11:49:20.766Z"
   },
   {
    "duration": 605,
    "start_time": "2022-06-14T11:49:20.780Z"
   },
   {
    "duration": 100300,
    "start_time": "2022-06-14T11:49:21.387Z"
   },
   {
    "duration": 1183,
    "start_time": "2022-06-14T11:51:01.689Z"
   },
   {
    "duration": 4,
    "start_time": "2022-06-14T11:51:02.966Z"
   },
   {
    "duration": 16,
    "start_time": "2022-06-14T11:51:02.972Z"
   },
   {
    "duration": 13,
    "start_time": "2022-06-14T11:51:02.989Z"
   },
   {
    "duration": 3,
    "start_time": "2022-06-14T11:51:03.004Z"
   },
   {
    "duration": 634,
    "start_time": "2022-06-14T11:51:03.009Z"
   },
   {
    "duration": 1355,
    "start_time": "2022-06-14T11:51:03.645Z"
   },
   {
    "duration": 9,
    "start_time": "2022-06-14T11:51:05.001Z"
   },
   {
    "duration": 29,
    "start_time": "2022-06-14T11:51:05.011Z"
   },
   {
    "duration": 31,
    "start_time": "2022-06-14T11:51:05.041Z"
   },
   {
    "duration": 6,
    "start_time": "2022-06-14T11:59:01.711Z"
   },
   {
    "duration": 7,
    "start_time": "2022-06-14T12:28:59.431Z"
   },
   {
    "duration": 1338,
    "start_time": "2022-06-14T13:05:28.674Z"
   },
   {
    "duration": 36,
    "start_time": "2022-06-14T13:05:30.014Z"
   },
   {
    "duration": 16,
    "start_time": "2022-06-14T13:05:30.052Z"
   },
   {
    "duration": 10,
    "start_time": "2022-06-14T13:05:30.070Z"
   },
   {
    "duration": 4,
    "start_time": "2022-06-14T13:05:30.082Z"
   },
   {
    "duration": 47,
    "start_time": "2022-06-14T13:05:30.088Z"
   },
   {
    "duration": 28,
    "start_time": "2022-06-14T13:05:30.137Z"
   },
   {
    "duration": 6,
    "start_time": "2022-06-14T13:05:30.166Z"
   },
   {
    "duration": 15,
    "start_time": "2022-06-14T13:05:30.174Z"
   },
   {
    "duration": 28,
    "start_time": "2022-06-14T13:05:30.191Z"
   },
   {
    "duration": 28,
    "start_time": "2022-06-14T13:05:30.220Z"
   },
   {
    "duration": 15,
    "start_time": "2022-06-14T13:05:30.250Z"
   },
   {
    "duration": 17,
    "start_time": "2022-06-14T13:05:30.267Z"
   },
   {
    "duration": 2110,
    "start_time": "2022-06-14T13:05:30.285Z"
   },
   {
    "duration": 1007,
    "start_time": "2022-06-14T13:05:32.396Z"
   },
   {
    "duration": 3,
    "start_time": "2022-06-14T13:05:33.404Z"
   },
   {
    "duration": 15,
    "start_time": "2022-06-14T13:05:33.409Z"
   },
   {
    "duration": 1362,
    "start_time": "2022-06-14T13:05:33.425Z"
   },
   {
    "duration": 5,
    "start_time": "2022-06-14T13:05:34.789Z"
   },
   {
    "duration": 12,
    "start_time": "2022-06-14T13:05:34.795Z"
   },
   {
    "duration": 6,
    "start_time": "2022-06-14T13:05:34.808Z"
   },
   {
    "duration": 759,
    "start_time": "2022-06-14T13:05:34.815Z"
   },
   {
    "duration": 414,
    "start_time": "2022-06-14T13:05:35.666Z"
   },
   {
    "duration": 12,
    "start_time": "2022-06-14T13:05:36.081Z"
   },
   {
    "duration": 613,
    "start_time": "2022-06-14T13:05:36.095Z"
   },
   {
    "duration": 98994,
    "start_time": "2022-06-14T13:05:36.710Z"
   },
   {
    "duration": 1363,
    "start_time": "2022-06-14T13:07:15.706Z"
   },
   {
    "duration": 91,
    "start_time": "2022-06-14T13:07:17.076Z"
   },
   {
    "duration": 16,
    "start_time": "2022-06-14T13:07:17.169Z"
   },
   {
    "duration": 13,
    "start_time": "2022-06-14T13:07:17.186Z"
   },
   {
    "duration": 3,
    "start_time": "2022-06-14T13:07:17.200Z"
   },
   {
    "duration": 622,
    "start_time": "2022-06-14T13:07:17.205Z"
   },
   {
    "duration": 1386,
    "start_time": "2022-06-14T13:07:17.829Z"
   },
   {
    "duration": 2,
    "start_time": "2022-06-14T13:07:19.217Z"
   },
   {
    "duration": 7,
    "start_time": "2022-06-14T13:07:19.221Z"
   },
   {
    "duration": 9,
    "start_time": "2022-06-14T13:07:19.230Z"
   },
   {
    "duration": 1362,
    "start_time": "2022-06-14T13:07:31.745Z"
   },
   {
    "duration": 34,
    "start_time": "2022-06-14T13:07:33.109Z"
   },
   {
    "duration": 16,
    "start_time": "2022-06-14T13:07:33.145Z"
   },
   {
    "duration": 13,
    "start_time": "2022-06-14T13:07:33.162Z"
   },
   {
    "duration": 6,
    "start_time": "2022-06-14T13:07:33.177Z"
   },
   {
    "duration": 49,
    "start_time": "2022-06-14T13:07:33.184Z"
   },
   {
    "duration": 7,
    "start_time": "2022-06-14T13:07:33.235Z"
   },
   {
    "duration": 24,
    "start_time": "2022-06-14T13:07:33.243Z"
   },
   {
    "duration": 7,
    "start_time": "2022-06-14T13:07:33.269Z"
   },
   {
    "duration": 20,
    "start_time": "2022-06-14T13:07:33.278Z"
   },
   {
    "duration": 13,
    "start_time": "2022-06-14T13:07:33.300Z"
   },
   {
    "duration": 7,
    "start_time": "2022-06-14T13:07:33.314Z"
   },
   {
    "duration": 8,
    "start_time": "2022-06-14T13:07:33.323Z"
   },
   {
    "duration": 2082,
    "start_time": "2022-06-14T13:07:33.334Z"
   },
   {
    "duration": 984,
    "start_time": "2022-06-14T13:07:35.418Z"
   },
   {
    "duration": 3,
    "start_time": "2022-06-14T13:07:36.403Z"
   },
   {
    "duration": 9,
    "start_time": "2022-06-14T13:07:36.407Z"
   },
   {
    "duration": 1366,
    "start_time": "2022-06-14T13:07:36.417Z"
   },
   {
    "duration": 4,
    "start_time": "2022-06-14T13:07:37.785Z"
   },
   {
    "duration": 9,
    "start_time": "2022-06-14T13:07:37.790Z"
   },
   {
    "duration": 4,
    "start_time": "2022-06-14T13:07:37.801Z"
   },
   {
    "duration": 28,
    "start_time": "2022-06-14T13:07:37.807Z"
   },
   {
    "duration": 341,
    "start_time": "2022-06-14T13:07:37.837Z"
   },
   {
    "duration": 13,
    "start_time": "2022-06-14T13:07:38.180Z"
   },
   {
    "duration": 620,
    "start_time": "2022-06-14T13:07:38.195Z"
   },
   {
    "duration": 100692,
    "start_time": "2022-06-14T13:07:38.817Z"
   },
   {
    "duration": 1359,
    "start_time": "2022-06-14T13:09:19.510Z"
   },
   {
    "duration": 94,
    "start_time": "2022-06-14T13:09:20.871Z"
   },
   {
    "duration": 17,
    "start_time": "2022-06-14T13:09:20.967Z"
   },
   {
    "duration": 16,
    "start_time": "2022-06-14T13:09:20.986Z"
   },
   {
    "duration": 3,
    "start_time": "2022-06-14T13:09:21.004Z"
   },
   {
    "duration": 657,
    "start_time": "2022-06-14T13:09:21.008Z"
   },
   {
    "duration": 1326,
    "start_time": "2022-06-14T13:09:21.667Z"
   },
   {
    "duration": 3,
    "start_time": "2022-06-14T13:09:22.994Z"
   },
   {
    "duration": 7,
    "start_time": "2022-06-14T13:09:22.998Z"
   },
   {
    "duration": 11,
    "start_time": "2022-06-14T13:09:23.006Z"
   },
   {
    "duration": 1405,
    "start_time": "2022-06-14T20:21:01.660Z"
   },
   {
    "duration": 128,
    "start_time": "2022-06-14T20:21:03.067Z"
   },
   {
    "duration": 16,
    "start_time": "2022-06-14T20:21:03.196Z"
   },
   {
    "duration": 11,
    "start_time": "2022-06-14T20:21:03.214Z"
   },
   {
    "duration": 4,
    "start_time": "2022-06-14T20:21:03.227Z"
   },
   {
    "duration": 42,
    "start_time": "2022-06-14T20:21:03.233Z"
   },
   {
    "duration": 7,
    "start_time": "2022-06-14T20:21:03.276Z"
   },
   {
    "duration": 6,
    "start_time": "2022-06-14T20:21:03.285Z"
   },
   {
    "duration": 8,
    "start_time": "2022-06-14T20:21:03.292Z"
   },
   {
    "duration": 29,
    "start_time": "2022-06-14T20:21:03.302Z"
   },
   {
    "duration": 14,
    "start_time": "2022-06-14T20:21:03.332Z"
   },
   {
    "duration": 12,
    "start_time": "2022-06-14T20:21:03.348Z"
   },
   {
    "duration": 5,
    "start_time": "2022-06-14T20:21:03.361Z"
   },
   {
    "duration": 1788,
    "start_time": "2022-06-14T20:21:03.368Z"
   },
   {
    "duration": 876,
    "start_time": "2022-06-14T20:21:05.158Z"
   },
   {
    "duration": 2,
    "start_time": "2022-06-14T20:21:06.036Z"
   },
   {
    "duration": 10,
    "start_time": "2022-06-14T20:21:06.040Z"
   },
   {
    "duration": 1351,
    "start_time": "2022-06-14T20:21:06.052Z"
   },
   {
    "duration": 5,
    "start_time": "2022-06-14T20:21:07.404Z"
   },
   {
    "duration": 7,
    "start_time": "2022-06-14T20:21:07.410Z"
   },
   {
    "duration": 5,
    "start_time": "2022-06-14T20:21:07.418Z"
   },
   {
    "duration": 27,
    "start_time": "2022-06-14T20:21:07.425Z"
   },
   {
    "duration": 298,
    "start_time": "2022-06-14T20:21:07.454Z"
   },
   {
    "duration": 12,
    "start_time": "2022-06-14T20:21:07.754Z"
   },
   {
    "duration": 576,
    "start_time": "2022-06-14T20:21:07.768Z"
   },
   {
    "duration": 86900,
    "start_time": "2022-06-14T20:21:08.346Z"
   },
   {
    "duration": 695,
    "start_time": "2022-06-14T20:22:35.248Z"
   },
   {
    "duration": 6,
    "start_time": "2022-06-14T20:22:36.027Z"
   },
   {
    "duration": 94,
    "start_time": "2022-06-14T20:22:36.035Z"
   },
   {
    "duration": 17,
    "start_time": "2022-06-14T20:22:36.130Z"
   },
   {
    "duration": 2,
    "start_time": "2022-06-14T20:22:36.149Z"
   },
   {
    "duration": 587,
    "start_time": "2022-06-14T20:22:36.153Z"
   },
   {
    "duration": 1176,
    "start_time": "2022-06-14T20:22:36.742Z"
   },
   {
    "duration": 7,
    "start_time": "2022-06-14T20:22:37.920Z"
   },
   {
    "duration": 2,
    "start_time": "2022-06-14T20:22:37.939Z"
   },
   {
    "duration": 11,
    "start_time": "2022-06-14T20:22:37.943Z"
   },
   {
    "duration": 1313,
    "start_time": "2022-06-15T03:42:02.488Z"
   },
   {
    "duration": 124,
    "start_time": "2022-06-15T03:42:03.804Z"
   },
   {
    "duration": 14,
    "start_time": "2022-06-15T03:42:03.930Z"
   },
   {
    "duration": 22,
    "start_time": "2022-06-15T03:42:03.946Z"
   },
   {
    "duration": 11,
    "start_time": "2022-06-15T03:42:03.969Z"
   },
   {
    "duration": 57,
    "start_time": "2022-06-15T03:42:03.982Z"
   },
   {
    "duration": 7,
    "start_time": "2022-06-15T03:42:04.041Z"
   },
   {
    "duration": 12,
    "start_time": "2022-06-15T03:42:04.050Z"
   },
   {
    "duration": 16,
    "start_time": "2022-06-15T03:42:04.063Z"
   },
   {
    "duration": 19,
    "start_time": "2022-06-15T03:42:04.082Z"
   },
   {
    "duration": 22,
    "start_time": "2022-06-15T03:42:04.103Z"
   },
   {
    "duration": 19,
    "start_time": "2022-06-15T03:42:04.126Z"
   },
   {
    "duration": 15,
    "start_time": "2022-06-15T03:42:04.146Z"
   },
   {
    "duration": 1857,
    "start_time": "2022-06-15T03:42:04.162Z"
   },
   {
    "duration": 886,
    "start_time": "2022-06-15T03:42:06.021Z"
   },
   {
    "duration": 3,
    "start_time": "2022-06-15T03:42:06.908Z"
   },
   {
    "duration": 18,
    "start_time": "2022-06-15T03:42:06.912Z"
   },
   {
    "duration": 1261,
    "start_time": "2022-06-15T03:42:06.931Z"
   },
   {
    "duration": 4,
    "start_time": "2022-06-15T03:42:08.193Z"
   },
   {
    "duration": 29,
    "start_time": "2022-06-15T03:42:08.199Z"
   },
   {
    "duration": 15,
    "start_time": "2022-06-15T03:42:08.231Z"
   },
   {
    "duration": 44,
    "start_time": "2022-06-15T03:42:08.248Z"
   },
   {
    "duration": 291,
    "start_time": "2022-06-15T03:42:08.294Z"
   },
   {
    "duration": 13,
    "start_time": "2022-06-15T03:42:08.586Z"
   },
   {
    "duration": 528,
    "start_time": "2022-06-15T03:42:08.600Z"
   },
   {
    "duration": 85976,
    "start_time": "2022-06-15T03:42:09.130Z"
   },
   {
    "duration": 971,
    "start_time": "2022-06-15T03:43:35.107Z"
   },
   {
    "duration": 4,
    "start_time": "2022-06-15T03:43:36.081Z"
   },
   {
    "duration": 115,
    "start_time": "2022-06-15T03:43:36.087Z"
   },
   {
    "duration": 15,
    "start_time": "2022-06-15T03:43:36.204Z"
   },
   {
    "duration": 3,
    "start_time": "2022-06-15T03:43:36.220Z"
   },
   {
    "duration": 559,
    "start_time": "2022-06-15T03:43:36.224Z"
   },
   {
    "duration": 1382,
    "start_time": "2022-06-15T03:43:36.785Z"
   },
   {
    "duration": 3,
    "start_time": "2022-06-15T03:43:38.168Z"
   },
   {
    "duration": 12,
    "start_time": "2022-06-15T03:43:38.178Z"
   },
   {
    "duration": 13,
    "start_time": "2022-06-15T03:43:38.192Z"
   },
   {
    "duration": 2656,
    "start_time": "2022-09-07T20:43:32.740Z"
   },
   {
    "duration": 35,
    "start_time": "2022-09-07T20:43:35.398Z"
   },
   {
    "duration": 64,
    "start_time": "2022-09-07T20:43:35.435Z"
   },
   {
    "duration": 14,
    "start_time": "2022-09-07T20:43:35.501Z"
   },
   {
    "duration": 7,
    "start_time": "2022-09-07T20:43:35.516Z"
   },
   {
    "duration": 109,
    "start_time": "2022-09-07T20:43:35.525Z"
   },
   {
    "duration": 9,
    "start_time": "2022-09-07T20:43:35.692Z"
   },
   {
    "duration": 5,
    "start_time": "2022-09-07T20:43:35.702Z"
   },
   {
    "duration": 6,
    "start_time": "2022-09-07T20:43:35.709Z"
   },
   {
    "duration": 78,
    "start_time": "2022-09-07T20:43:35.718Z"
   },
   {
    "duration": 11,
    "start_time": "2022-09-07T20:43:35.798Z"
   },
   {
    "duration": 7,
    "start_time": "2022-09-07T20:43:35.811Z"
   },
   {
    "duration": 6,
    "start_time": "2022-09-07T20:43:35.819Z"
   },
   {
    "duration": 4409,
    "start_time": "2022-09-07T20:43:35.827Z"
   },
   {
    "duration": 2320,
    "start_time": "2022-09-07T20:43:40.291Z"
   },
   {
    "duration": 3,
    "start_time": "2022-09-07T20:43:42.613Z"
   },
   {
    "duration": 9,
    "start_time": "2022-09-07T20:43:42.617Z"
   },
   {
    "duration": 2889,
    "start_time": "2022-09-07T20:43:42.627Z"
   },
   {
    "duration": 5,
    "start_time": "2022-09-07T20:43:45.517Z"
   },
   {
    "duration": 13,
    "start_time": "2022-09-07T20:43:45.524Z"
   },
   {
    "duration": 57,
    "start_time": "2022-09-07T20:43:45.539Z"
   },
   {
    "duration": 94,
    "start_time": "2022-09-07T20:43:45.599Z"
   },
   {
    "duration": 715,
    "start_time": "2022-09-07T20:43:45.696Z"
   },
   {
    "duration": 14,
    "start_time": "2022-09-07T20:43:46.412Z"
   },
   {
    "duration": 1275,
    "start_time": "2022-09-07T20:43:46.428Z"
   },
   {
    "duration": 2535,
    "start_time": "2022-09-07T20:47:16.600Z"
   },
   {
    "duration": 76,
    "start_time": "2022-09-07T20:47:19.137Z"
   },
   {
    "duration": 16,
    "start_time": "2022-09-07T20:47:19.215Z"
   },
   {
    "duration": 65,
    "start_time": "2022-09-07T20:47:19.233Z"
   },
   {
    "duration": 5,
    "start_time": "2022-09-07T20:47:19.302Z"
   },
   {
    "duration": 112,
    "start_time": "2022-09-07T20:47:19.309Z"
   },
   {
    "duration": 10,
    "start_time": "2022-09-07T20:47:19.423Z"
   },
   {
    "duration": 6,
    "start_time": "2022-09-07T20:47:19.491Z"
   },
   {
    "duration": 21,
    "start_time": "2022-09-07T20:47:19.499Z"
   },
   {
    "duration": 71,
    "start_time": "2022-09-07T20:47:19.522Z"
   },
   {
    "duration": 27,
    "start_time": "2022-09-07T20:47:19.595Z"
   },
   {
    "duration": 6,
    "start_time": "2022-09-07T20:47:19.624Z"
   },
   {
    "duration": 60,
    "start_time": "2022-09-07T20:47:19.632Z"
   },
   {
    "duration": 4325,
    "start_time": "2022-09-07T20:47:19.695Z"
   },
   {
    "duration": 2285,
    "start_time": "2022-09-07T20:47:24.023Z"
   },
   {
    "duration": 3,
    "start_time": "2022-09-07T20:47:26.310Z"
   },
   {
    "duration": 23,
    "start_time": "2022-09-07T20:47:26.315Z"
   },
   {
    "duration": 2779,
    "start_time": "2022-09-07T20:47:26.340Z"
   },
   {
    "duration": 4,
    "start_time": "2022-09-07T20:47:29.121Z"
   },
   {
    "duration": 10,
    "start_time": "2022-09-07T20:47:29.127Z"
   },
   {
    "duration": 51,
    "start_time": "2022-09-07T20:47:29.140Z"
   },
   {
    "duration": 31,
    "start_time": "2022-09-07T20:47:29.193Z"
   },
   {
    "duration": 775,
    "start_time": "2022-09-07T20:47:29.226Z"
   },
   {
    "duration": 14,
    "start_time": "2022-09-07T20:47:30.003Z"
   },
   {
    "duration": 1278,
    "start_time": "2022-09-07T20:47:30.019Z"
   },
   {
    "duration": 218694,
    "start_time": "2022-09-07T20:47:31.299Z"
   },
   {
    "duration": 1402,
    "start_time": "2022-09-07T20:51:09.995Z"
   },
   {
    "duration": 92,
    "start_time": "2022-09-07T20:51:11.399Z"
   },
   {
    "duration": 13,
    "start_time": "2022-09-07T20:51:11.493Z"
   },
   {
    "duration": 14,
    "start_time": "2022-09-07T20:51:11.508Z"
   },
   {
    "duration": 9,
    "start_time": "2022-09-07T20:51:11.524Z"
   },
   {
    "duration": 1372,
    "start_time": "2022-09-07T20:51:11.535Z"
   },
   {
    "duration": 2815,
    "start_time": "2022-09-07T20:51:12.909Z"
   },
   {
    "duration": 2,
    "start_time": "2022-09-07T20:51:15.726Z"
   },
   {
    "duration": 62,
    "start_time": "2022-09-07T20:51:15.730Z"
   },
   {
    "duration": 9,
    "start_time": "2022-09-07T20:51:15.795Z"
   }
  ],
  "kernelspec": {
   "display_name": "Python 3 (ipykernel)",
   "language": "python",
   "name": "python3"
  },
  "language_info": {
   "codemirror_mode": {
    "name": "ipython",
    "version": 3
   },
   "file_extension": ".py",
   "mimetype": "text/x-python",
   "name": "python",
   "nbconvert_exporter": "python",
   "pygments_lexer": "ipython3",
   "version": "3.9.5"
  },
  "toc": {
   "base_numbering": 1,
   "nav_menu": {},
   "number_sections": true,
   "sideBar": true,
   "skip_h1_title": true,
   "title_cell": "Table of Contents",
   "title_sidebar": "Contents",
   "toc_cell": false,
   "toc_position": {
    "height": "calc(100% - 180px)",
    "left": "10px",
    "top": "150px",
    "width": "226px"
   },
   "toc_section_display": true,
   "toc_window_display": true
  }
 },
 "nbformat": 4,
 "nbformat_minor": 2
}
