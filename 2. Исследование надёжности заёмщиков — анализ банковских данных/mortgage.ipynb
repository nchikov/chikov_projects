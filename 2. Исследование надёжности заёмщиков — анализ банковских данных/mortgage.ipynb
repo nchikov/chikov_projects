{
 "cells": [
  {
   "cell_type": "markdown",
   "metadata": {},
   "source": [
    "# Исследование надёжности заёмщиков\n",
    "\n",
    "Заказчик — кредитный отдел банка. Нужно разобраться, влияет ли семейное положение и количество детей клиента на факт погашения кредита в срок. Входные данные от банка — статистика о платёжеспособности клиентов.\n",
    "\n",
    "Результаты исследования будут учтены при построении модели **кредитного скоринга** — специальной системы, которая оценивает способность потенциального заёмщика вернуть кредит банку."
   ]
  },
  {
   "cell_type": "markdown",
   "metadata": {},
   "source": [
    "##  Изучение общей информации"
   ]
  },
  {
   "cell_type": "markdown",
   "metadata": {},
   "source": [
    "Начнем знакомство с данными с импорта библиотеки pandas, затем прочитаем таблицу и сохраним ее в переменной `df`. Выведем первые десять строк таблицы, чтобы иметь общее представление о происходящем. Также выведем общую информацию о таблице командой `df.info()`"
   ]
  },
  {
   "cell_type": "code",
   "execution_count": 1,
   "metadata": {},
   "outputs": [
    {
     "data": {
      "text/html": [
       "<div>\n",
       "<style scoped>\n",
       "    .dataframe tbody tr th:only-of-type {\n",
       "        vertical-align: middle;\n",
       "    }\n",
       "\n",
       "    .dataframe tbody tr th {\n",
       "        vertical-align: top;\n",
       "    }\n",
       "\n",
       "    .dataframe thead th {\n",
       "        text-align: right;\n",
       "    }\n",
       "</style>\n",
       "<table border=\"1\" class=\"dataframe\">\n",
       "  <thead>\n",
       "    <tr style=\"text-align: right;\">\n",
       "      <th></th>\n",
       "      <th>children</th>\n",
       "      <th>days_employed</th>\n",
       "      <th>dob_years</th>\n",
       "      <th>education</th>\n",
       "      <th>education_id</th>\n",
       "      <th>family_status</th>\n",
       "      <th>family_status_id</th>\n",
       "      <th>gender</th>\n",
       "      <th>income_type</th>\n",
       "      <th>debt</th>\n",
       "      <th>total_income</th>\n",
       "      <th>purpose</th>\n",
       "    </tr>\n",
       "  </thead>\n",
       "  <tbody>\n",
       "    <tr>\n",
       "      <th>0</th>\n",
       "      <td>1</td>\n",
       "      <td>-8437.673028</td>\n",
       "      <td>42</td>\n",
       "      <td>высшее</td>\n",
       "      <td>0</td>\n",
       "      <td>женат / замужем</td>\n",
       "      <td>0</td>\n",
       "      <td>F</td>\n",
       "      <td>сотрудник</td>\n",
       "      <td>0</td>\n",
       "      <td>253875.639453</td>\n",
       "      <td>покупка жилья</td>\n",
       "    </tr>\n",
       "    <tr>\n",
       "      <th>1</th>\n",
       "      <td>1</td>\n",
       "      <td>-4024.803754</td>\n",
       "      <td>36</td>\n",
       "      <td>среднее</td>\n",
       "      <td>1</td>\n",
       "      <td>женат / замужем</td>\n",
       "      <td>0</td>\n",
       "      <td>F</td>\n",
       "      <td>сотрудник</td>\n",
       "      <td>0</td>\n",
       "      <td>112080.014102</td>\n",
       "      <td>приобретение автомобиля</td>\n",
       "    </tr>\n",
       "    <tr>\n",
       "      <th>2</th>\n",
       "      <td>0</td>\n",
       "      <td>-5623.422610</td>\n",
       "      <td>33</td>\n",
       "      <td>Среднее</td>\n",
       "      <td>1</td>\n",
       "      <td>женат / замужем</td>\n",
       "      <td>0</td>\n",
       "      <td>M</td>\n",
       "      <td>сотрудник</td>\n",
       "      <td>0</td>\n",
       "      <td>145885.952297</td>\n",
       "      <td>покупка жилья</td>\n",
       "    </tr>\n",
       "    <tr>\n",
       "      <th>3</th>\n",
       "      <td>3</td>\n",
       "      <td>-4124.747207</td>\n",
       "      <td>32</td>\n",
       "      <td>среднее</td>\n",
       "      <td>1</td>\n",
       "      <td>женат / замужем</td>\n",
       "      <td>0</td>\n",
       "      <td>M</td>\n",
       "      <td>сотрудник</td>\n",
       "      <td>0</td>\n",
       "      <td>267628.550329</td>\n",
       "      <td>дополнительное образование</td>\n",
       "    </tr>\n",
       "    <tr>\n",
       "      <th>4</th>\n",
       "      <td>0</td>\n",
       "      <td>340266.072047</td>\n",
       "      <td>53</td>\n",
       "      <td>среднее</td>\n",
       "      <td>1</td>\n",
       "      <td>гражданский брак</td>\n",
       "      <td>1</td>\n",
       "      <td>F</td>\n",
       "      <td>пенсионер</td>\n",
       "      <td>0</td>\n",
       "      <td>158616.077870</td>\n",
       "      <td>сыграть свадьбу</td>\n",
       "    </tr>\n",
       "    <tr>\n",
       "      <th>5</th>\n",
       "      <td>0</td>\n",
       "      <td>-926.185831</td>\n",
       "      <td>27</td>\n",
       "      <td>высшее</td>\n",
       "      <td>0</td>\n",
       "      <td>гражданский брак</td>\n",
       "      <td>1</td>\n",
       "      <td>M</td>\n",
       "      <td>компаньон</td>\n",
       "      <td>0</td>\n",
       "      <td>255763.565419</td>\n",
       "      <td>покупка жилья</td>\n",
       "    </tr>\n",
       "    <tr>\n",
       "      <th>6</th>\n",
       "      <td>0</td>\n",
       "      <td>-2879.202052</td>\n",
       "      <td>43</td>\n",
       "      <td>высшее</td>\n",
       "      <td>0</td>\n",
       "      <td>женат / замужем</td>\n",
       "      <td>0</td>\n",
       "      <td>F</td>\n",
       "      <td>компаньон</td>\n",
       "      <td>0</td>\n",
       "      <td>240525.971920</td>\n",
       "      <td>операции с жильем</td>\n",
       "    </tr>\n",
       "    <tr>\n",
       "      <th>7</th>\n",
       "      <td>0</td>\n",
       "      <td>-152.779569</td>\n",
       "      <td>50</td>\n",
       "      <td>СРЕДНЕЕ</td>\n",
       "      <td>1</td>\n",
       "      <td>женат / замужем</td>\n",
       "      <td>0</td>\n",
       "      <td>M</td>\n",
       "      <td>сотрудник</td>\n",
       "      <td>0</td>\n",
       "      <td>135823.934197</td>\n",
       "      <td>образование</td>\n",
       "    </tr>\n",
       "    <tr>\n",
       "      <th>8</th>\n",
       "      <td>2</td>\n",
       "      <td>-6929.865299</td>\n",
       "      <td>35</td>\n",
       "      <td>ВЫСШЕЕ</td>\n",
       "      <td>0</td>\n",
       "      <td>гражданский брак</td>\n",
       "      <td>1</td>\n",
       "      <td>F</td>\n",
       "      <td>сотрудник</td>\n",
       "      <td>0</td>\n",
       "      <td>95856.832424</td>\n",
       "      <td>на проведение свадьбы</td>\n",
       "    </tr>\n",
       "    <tr>\n",
       "      <th>9</th>\n",
       "      <td>0</td>\n",
       "      <td>-2188.756445</td>\n",
       "      <td>41</td>\n",
       "      <td>среднее</td>\n",
       "      <td>1</td>\n",
       "      <td>женат / замужем</td>\n",
       "      <td>0</td>\n",
       "      <td>M</td>\n",
       "      <td>сотрудник</td>\n",
       "      <td>0</td>\n",
       "      <td>144425.938277</td>\n",
       "      <td>покупка жилья для семьи</td>\n",
       "    </tr>\n",
       "  </tbody>\n",
       "</table>\n",
       "</div>"
      ],
      "text/plain": [
       "   children  days_employed  dob_years education  education_id  \\\n",
       "0         1   -8437.673028         42    высшее             0   \n",
       "1         1   -4024.803754         36   среднее             1   \n",
       "2         0   -5623.422610         33   Среднее             1   \n",
       "3         3   -4124.747207         32   среднее             1   \n",
       "4         0  340266.072047         53   среднее             1   \n",
       "5         0    -926.185831         27    высшее             0   \n",
       "6         0   -2879.202052         43    высшее             0   \n",
       "7         0    -152.779569         50   СРЕДНЕЕ             1   \n",
       "8         2   -6929.865299         35    ВЫСШЕЕ             0   \n",
       "9         0   -2188.756445         41   среднее             1   \n",
       "\n",
       "      family_status  family_status_id gender income_type  debt   total_income  \\\n",
       "0   женат / замужем                 0      F   сотрудник     0  253875.639453   \n",
       "1   женат / замужем                 0      F   сотрудник     0  112080.014102   \n",
       "2   женат / замужем                 0      M   сотрудник     0  145885.952297   \n",
       "3   женат / замужем                 0      M   сотрудник     0  267628.550329   \n",
       "4  гражданский брак                 1      F   пенсионер     0  158616.077870   \n",
       "5  гражданский брак                 1      M   компаньон     0  255763.565419   \n",
       "6   женат / замужем                 0      F   компаньон     0  240525.971920   \n",
       "7   женат / замужем                 0      M   сотрудник     0  135823.934197   \n",
       "8  гражданский брак                 1      F   сотрудник     0   95856.832424   \n",
       "9   женат / замужем                 0      M   сотрудник     0  144425.938277   \n",
       "\n",
       "                      purpose  \n",
       "0               покупка жилья  \n",
       "1     приобретение автомобиля  \n",
       "2               покупка жилья  \n",
       "3  дополнительное образование  \n",
       "4             сыграть свадьбу  \n",
       "5               покупка жилья  \n",
       "6           операции с жильем  \n",
       "7                 образование  \n",
       "8       на проведение свадьбы  \n",
       "9     покупка жилья для семьи  "
      ]
     },
     "metadata": {},
     "output_type": "display_data"
    },
    {
     "name": "stdout",
     "output_type": "stream",
     "text": [
      "\n",
      "<class 'pandas.core.frame.DataFrame'>\n",
      "RangeIndex: 21525 entries, 0 to 21524\n",
      "Data columns (total 12 columns):\n",
      " #   Column            Non-Null Count  Dtype  \n",
      "---  ------            --------------  -----  \n",
      " 0   children          21525 non-null  int64  \n",
      " 1   days_employed     19351 non-null  float64\n",
      " 2   dob_years         21525 non-null  int64  \n",
      " 3   education         21525 non-null  object \n",
      " 4   education_id      21525 non-null  int64  \n",
      " 5   family_status     21525 non-null  object \n",
      " 6   family_status_id  21525 non-null  int64  \n",
      " 7   gender            21525 non-null  object \n",
      " 8   income_type       21525 non-null  object \n",
      " 9   debt              21525 non-null  int64  \n",
      " 10  total_income      19351 non-null  float64\n",
      " 11  purpose           21525 non-null  object \n",
      "dtypes: float64(2), int64(5), object(5)\n",
      "memory usage: 2.0+ MB\n"
     ]
    }
   ],
   "source": [
    "import pandas as pd\n",
    "df = pd.read_csv('/datasets/data.csv')\n",
    "display(df.head(10))\n",
    "print()\n",
    "df.info()\n"
   ]
  },
  {
   "cell_type": "markdown",
   "metadata": {},
   "source": [
    "Итак, мы имеем таблицу из 12 столбцов и 21525 строк. Типы данных: `int64`, `float64`, `object`.\n",
    "\n",
    "Согласно документации, столбцы имеют следующее значение:\n",
    "* children — количество детей в семье\n",
    "* days_employed — общий трудовой стаж в днях\n",
    "* dob_years — возраст клиента в годах\n",
    "* education — уровень образования клиента\n",
    "* education_id — идентификатор уровня образования\n",
    "* family_status — семейное положение\n",
    "* family_status_id — идентификатор семейного положения\n",
    "* gender — пол клиента\n",
    "* income_type — тип занятости\n",
    "* debt — имел ли задолженность по возврату кредитов\n",
    "* total_income — ежемесячный доход\n",
    "* purpose — цель получения кредита\n",
    "\n",
    "Все столбцы названы в рамках хорошего стиля, коррекция не требуется."
   ]
  },
  {
   "cell_type": "markdown",
   "metadata": {},
   "source": [
    "Теперь ознакомимся с содержанием каждого столбца, чтобы выявить задачи для предобработки данных.\n",
    "\n",
    "\n",
    "Столбец `'children'` содержит 8 уникальных значений. Среди них явно выделяются значения `-1` и `20`. Отрицательного количества детей быть не может, да и 20 детей на семью это перебор, тем более, для 76 семей. Значит, будем разбираться."
   ]
  },
  {
   "cell_type": "code",
   "execution_count": 2,
   "metadata": {},
   "outputs": [
    {
     "name": "stdout",
     "output_type": "stream",
     "text": [
      " 0     14149\n",
      " 1      4818\n",
      " 2      2055\n",
      " 3       330\n",
      " 20       76\n",
      "-1        47\n",
      " 4        41\n",
      " 5         9\n",
      "Name: children, dtype: int64\n"
     ]
    }
   ],
   "source": [
    "print(df['children'].value_counts())"
   ]
  },
  {
   "cell_type": "markdown",
   "metadata": {},
   "source": [
    "В колонке `'days_employed'` сразу бросаются в глаза три момента - отрицательные зачения, тип данных `float` и шестизначные числа. \n",
    "\n",
    "Посчитаем, сколько у нас отрицательных значений в столбце:"
   ]
  },
  {
   "cell_type": "code",
   "execution_count": 3,
   "metadata": {},
   "outputs": [
    {
     "name": "stdout",
     "output_type": "stream",
     "text": [
      "15906\n"
     ]
    }
   ],
   "source": [
    "print(df[df['days_employed']<0]['days_employed'].count())\n"
   ]
  },
  {
   "cell_type": "markdown",
   "metadata": {},
   "source": [
    "Получилось почти 16000, это явно какая-то недоработка при составлении таблицы, вероятно, неправильная формула при вводе стажа. \n",
    "\n",
    "Теперь шестизначные числа. Немного забегая вперед, даже если предположить, что человек работал с 18 до 75 лет (возраст самого старого заемщика) без перерывов, то его максимальный стаж в днях составит `365*56=20440` дней(плюс-минус, високосные года не берем). \n",
    "\n",
    "Посмотрим, сколько у нас таких заемщиков:"
   ]
  },
  {
   "cell_type": "code",
   "execution_count": 4,
   "metadata": {},
   "outputs": [
    {
     "name": "stdout",
     "output_type": "stream",
     "text": [
      "3445\n"
     ]
    }
   ],
   "source": [
    "print(df[df['days_employed']>20440]['days_employed'].count())"
   ]
  },
  {
   "cell_type": "markdown",
   "metadata": {},
   "source": [
    "Почти 3500 человек. Явно что-то пошло не так. Пренебречь этими данными мы не можем, так как их слишком много. В идеале надо разбираться с составителями таблицы, откуда взялись эти значения. Вероятно, это стаж в часах, или неправильно внесенные из других источников данные. Но так как для нашего исследования этот столбец не представляет интереса, можно оставить все как есть.\n",
    "\n",
    "Третья странность - это некорректный тип данных, потому что учитываются только целые дни. В рамках выполнения задания дальше по ходу исследования мы поменяем тип данных в этом столбце.\n",
    "\n",
    "Теперь обратимся к столбцу `'dob_years'`. Посчитав значения, мы увидим, что 101 человек у нас без возраста. Так не бывает, по какой-то причине данные были заполнены нолями, разберемся с этим на этапе предобработки."
   ]
  },
  {
   "cell_type": "code",
   "execution_count": 5,
   "metadata": {
    "scrolled": true
   },
   "outputs": [
    {
     "name": "stdout",
     "output_type": "stream",
     "text": [
      "0     101\n",
      "19     14\n",
      "20     51\n",
      "21    111\n",
      "22    183\n",
      "23    254\n",
      "24    264\n",
      "25    357\n",
      "26    408\n",
      "27    493\n",
      "28    503\n",
      "29    545\n",
      "30    540\n",
      "31    560\n",
      "32    510\n",
      "33    581\n",
      "34    603\n",
      "35    617\n",
      "36    555\n",
      "37    537\n",
      "38    598\n",
      "39    573\n",
      "40    609\n",
      "41    607\n",
      "42    597\n",
      "43    513\n",
      "44    547\n",
      "45    497\n",
      "46    475\n",
      "47    480\n",
      "48    538\n",
      "49    508\n",
      "50    514\n",
      "51    448\n",
      "52    484\n",
      "53    459\n",
      "54    479\n",
      "55    443\n",
      "56    487\n",
      "57    460\n",
      "58    461\n",
      "59    444\n",
      "60    377\n",
      "61    355\n",
      "62    352\n",
      "63    269\n",
      "64    265\n",
      "65    194\n",
      "66    183\n",
      "67    167\n",
      "68     99\n",
      "69     85\n",
      "70     65\n",
      "71     58\n",
      "72     33\n",
      "73      8\n",
      "74      6\n",
      "75      1\n",
      "Name: dob_years, dtype: int64\n"
     ]
    }
   ],
   "source": [
    "print(df['dob_years'].value_counts().sort_index())"
   ]
  },
  {
   "cell_type": "markdown",
   "metadata": {},
   "source": [
    "Переходим к столбцу `'education'`. Сразу бросается в глаза разный регистр написания. Еще одна задача на предобработку."
   ]
  },
  {
   "cell_type": "code",
   "execution_count": 6,
   "metadata": {},
   "outputs": [
    {
     "name": "stdout",
     "output_type": "stream",
     "text": [
      "среднее                13750\n",
      "высшее                  4718\n",
      "СРЕДНЕЕ                  772\n",
      "Среднее                  711\n",
      "неоконченное высшее      668\n",
      "ВЫСШЕЕ                   274\n",
      "Высшее                   268\n",
      "начальное                250\n",
      "Неоконченное высшее       47\n",
      "НЕОКОНЧЕННОЕ ВЫСШЕЕ       29\n",
      "НАЧАЛЬНОЕ                 17\n",
      "Начальное                 15\n",
      "ученая степень             4\n",
      "УЧЕНАЯ СТЕПЕНЬ             1\n",
      "Ученая степень             1\n",
      "Name: education, dtype: int64\n"
     ]
    }
   ],
   "source": [
    "print(df['education'].value_counts())"
   ]
  },
  {
   "cell_type": "markdown",
   "metadata": {},
   "source": [
    "Значений в столбце `'education_id'` у нас 5, что совпадает с уникальными значениями из предыдущего столбца (среднее, неоконченное высшее, высшее, начальное, ученая степень), тут все в порядке."
   ]
  },
  {
   "cell_type": "code",
   "execution_count": 7,
   "metadata": {},
   "outputs": [
    {
     "name": "stdout",
     "output_type": "stream",
     "text": [
      "0     5260\n",
      "1    15233\n",
      "2      744\n",
      "3      282\n",
      "4        6\n",
      "Name: education_id, dtype: int64\n"
     ]
    }
   ],
   "source": [
    "print(df['education_id'].value_counts().sort_index())"
   ]
  },
  {
   "cell_type": "markdown",
   "metadata": {},
   "source": [
    "Посчитаем уникальные значения семейного положения в столбце `'family_status'`. Все логично, все понятно. Мелкая помарка - статус `Не женат / не замужем` начинается с заглавной буквы, уберем на предобработке."
   ]
  },
  {
   "cell_type": "code",
   "execution_count": 8,
   "metadata": {},
   "outputs": [
    {
     "name": "stdout",
     "output_type": "stream",
     "text": [
      "женат / замужем          12380\n",
      "гражданский брак          4177\n",
      "Не женат / не замужем     2813\n",
      "в разводе                 1195\n",
      "вдовец / вдова             960\n",
      "Name: family_status, dtype: int64\n"
     ]
    }
   ],
   "source": [
    "print(df['family_status'].value_counts()) "
   ]
  },
  {
   "cell_type": "markdown",
   "metadata": {},
   "source": [
    "Значений у нас 5, что совпадает с предыдущим столбцом, тут все в порядке."
   ]
  },
  {
   "cell_type": "code",
   "execution_count": 9,
   "metadata": {},
   "outputs": [
    {
     "name": "stdout",
     "output_type": "stream",
     "text": [
      "0    12380\n",
      "1     4177\n",
      "2      960\n",
      "3     1195\n",
      "4     2813\n",
      "Name: family_status_id, dtype: int64\n"
     ]
    }
   ],
   "source": [
    "print(df['family_status_id'].value_counts().sort_index())"
   ]
  },
  {
   "cell_type": "markdown",
   "metadata": {},
   "source": [
    "В столбце со значениями пола есть только одно пропущенное значение. Одной строкой можно пренебречь."
   ]
  },
  {
   "cell_type": "code",
   "execution_count": 10,
   "metadata": {},
   "outputs": [
    {
     "name": "stdout",
     "output_type": "stream",
     "text": [
      "F      14236\n",
      "M       7288\n",
      "XNA        1\n",
      "Name: gender, dtype: int64\n"
     ]
    }
   ],
   "source": [
    "print(df['gender'].value_counts())"
   ]
  },
  {
   "cell_type": "markdown",
   "metadata": {},
   "source": [
    "По столбцу с типом занятости никаких странных моментов тоже не наблюдается. В основном, наемные работники."
   ]
  },
  {
   "cell_type": "code",
   "execution_count": 11,
   "metadata": {},
   "outputs": [
    {
     "name": "stdout",
     "output_type": "stream",
     "text": [
      "сотрудник          11119\n",
      "компаньон           5085\n",
      "пенсионер           3856\n",
      "госслужащий         1459\n",
      "безработный            2\n",
      "предприниматель        2\n",
      "студент                1\n",
      "в декрете              1\n",
      "Name: income_type, dtype: int64\n"
     ]
    }
   ],
   "source": [
    "print(df['income_type'].value_counts())"
   ]
  },
  {
   "cell_type": "markdown",
   "metadata": {},
   "source": [
    "В столбце с задолженностями все сходится. Должников не так уж и много."
   ]
  },
  {
   "cell_type": "code",
   "execution_count": 12,
   "metadata": {},
   "outputs": [
    {
     "name": "stdout",
     "output_type": "stream",
     "text": [
      "0    19784\n",
      "1     1741\n",
      "Name: debt, dtype: int64\n"
     ]
    }
   ],
   "source": [
    "print(df['debt'].value_counts())"
   ]
  },
  {
   "cell_type": "markdown",
   "metadata": {},
   "source": [
    "В столбце с ежемесячным доходом нет смысла считать уникальные значения, доход у всех разный. Проверим только, чтобы не было отрицательных или нулевых значений."
   ]
  },
  {
   "cell_type": "code",
   "execution_count": 13,
   "metadata": {},
   "outputs": [
    {
     "name": "stdout",
     "output_type": "stream",
     "text": [
      "Заемщиков с нулевым доходом: 0\n"
     ]
    }
   ],
   "source": [
    "print(\"Заемщиков с нулевым доходом: {}\".format(df[df['total_income']<=0]['total_income'].count()))\n"
   ]
  },
  {
   "cell_type": "markdown",
   "metadata": {},
   "source": [
    "По значениям столбца `'purpose'` мы можем узнать, на что же берутся кредиты. На первый взгляд, есть много повторяющихся целей, сформулированных по-разному. Уточнить цели нам поможет лемматизация."
   ]
  },
  {
   "cell_type": "code",
   "execution_count": 14,
   "metadata": {},
   "outputs": [
    {
     "name": "stdout",
     "output_type": "stream",
     "text": [
      "свадьба                                   797\n",
      "на проведение свадьбы                     777\n",
      "сыграть свадьбу                           774\n",
      "операции с недвижимостью                  676\n",
      "покупка коммерческой недвижимости         664\n",
      "операции с жильем                         653\n",
      "покупка жилья для сдачи                   653\n",
      "операции с коммерческой недвижимостью     651\n",
      "покупка жилья                             647\n",
      "жилье                                     647\n",
      "покупка жилья для семьи                   641\n",
      "строительство собственной недвижимости    635\n",
      "недвижимость                              634\n",
      "операции со своей недвижимостью           630\n",
      "строительство жилой недвижимости          626\n",
      "покупка недвижимости                      624\n",
      "покупка своего жилья                      620\n",
      "строительство недвижимости                620\n",
      "ремонт жилью                              612\n",
      "покупка жилой недвижимости                607\n",
      "на покупку своего автомобиля              505\n",
      "заняться высшим образованием              496\n",
      "автомобиль                                495\n",
      "сделка с подержанным автомобилем          489\n",
      "свой автомобиль                           480\n",
      "на покупку подержанного автомобиля        479\n",
      "автомобили                                478\n",
      "на покупку автомобиля                     472\n",
      "приобретение автомобиля                   462\n",
      "дополнительное образование                462\n",
      "сделка с автомобилем                      455\n",
      "высшее образование                        453\n",
      "образование                               447\n",
      "получение дополнительного образования     447\n",
      "получение образования                     443\n",
      "профильное образование                    436\n",
      "получение высшего образования             426\n",
      "заняться образованием                     412\n",
      "Name: purpose, dtype: int64\n"
     ]
    }
   ],
   "source": [
    "print(df['purpose'].value_counts())"
   ]
  },
  {
   "cell_type": "markdown",
   "metadata": {},
   "source": [
    "**Вывод**"
   ]
  },
  {
   "cell_type": "markdown",
   "metadata": {},
   "source": [
    "Таблица для исследования содержит в себе большой массив данных, в котором, к сожалению, встречаются пропуски в критичных для исследования столбцах (количество детей, доход). Также для успешного решения поставленных задач необходимо провести работу по выделению целей кредита. "
   ]
  },
  {
   "cell_type": "markdown",
   "metadata": {},
   "source": [
    "## Предобработка данных"
   ]
  },
  {
   "cell_type": "markdown",
   "metadata": {},
   "source": [
    "### Обработка пропусков"
   ]
  },
  {
   "cell_type": "markdown",
   "metadata": {},
   "source": [
    "Приступим к обработке пропущенных значений проверим количество пропусков в таблице через `isna()`."
   ]
  },
  {
   "cell_type": "code",
   "execution_count": 15,
   "metadata": {},
   "outputs": [
    {
     "data": {
      "text/plain": [
       "children               0\n",
       "days_employed       2174\n",
       "dob_years              0\n",
       "education              0\n",
       "education_id           0\n",
       "family_status          0\n",
       "family_status_id       0\n",
       "gender                 0\n",
       "income_type            0\n",
       "debt                   0\n",
       "total_income        2174\n",
       "purpose                0\n",
       "dtype: int64"
      ]
     },
     "execution_count": 15,
     "metadata": {},
     "output_type": "execute_result"
    }
   ],
   "source": [
    "df.isna().sum()"
   ]
  },
  {
   "cell_type": "markdown",
   "metadata": {},
   "source": [
    "Мы видим одинаковое количество пропусков в столбцах `'days_employed'` и `'total_income'`. Вряд ли такое совпадение случайно. попробуем вывести на экран строки, в которых пропущено значение в столбце `'days_employed'`."
   ]
  },
  {
   "cell_type": "code",
   "execution_count": 16,
   "metadata": {
    "scrolled": true
   },
   "outputs": [
    {
     "data": {
      "text/html": [
       "<div>\n",
       "<style scoped>\n",
       "    .dataframe tbody tr th:only-of-type {\n",
       "        vertical-align: middle;\n",
       "    }\n",
       "\n",
       "    .dataframe tbody tr th {\n",
       "        vertical-align: top;\n",
       "    }\n",
       "\n",
       "    .dataframe thead th {\n",
       "        text-align: right;\n",
       "    }\n",
       "</style>\n",
       "<table border=\"1\" class=\"dataframe\">\n",
       "  <thead>\n",
       "    <tr style=\"text-align: right;\">\n",
       "      <th></th>\n",
       "      <th>children</th>\n",
       "      <th>days_employed</th>\n",
       "      <th>dob_years</th>\n",
       "      <th>education</th>\n",
       "      <th>education_id</th>\n",
       "      <th>family_status</th>\n",
       "      <th>family_status_id</th>\n",
       "      <th>gender</th>\n",
       "      <th>income_type</th>\n",
       "      <th>debt</th>\n",
       "      <th>total_income</th>\n",
       "      <th>purpose</th>\n",
       "    </tr>\n",
       "  </thead>\n",
       "  <tbody>\n",
       "    <tr>\n",
       "      <th>12</th>\n",
       "      <td>0</td>\n",
       "      <td>NaN</td>\n",
       "      <td>65</td>\n",
       "      <td>среднее</td>\n",
       "      <td>1</td>\n",
       "      <td>гражданский брак</td>\n",
       "      <td>1</td>\n",
       "      <td>M</td>\n",
       "      <td>пенсионер</td>\n",
       "      <td>0</td>\n",
       "      <td>NaN</td>\n",
       "      <td>сыграть свадьбу</td>\n",
       "    </tr>\n",
       "    <tr>\n",
       "      <th>26</th>\n",
       "      <td>0</td>\n",
       "      <td>NaN</td>\n",
       "      <td>41</td>\n",
       "      <td>среднее</td>\n",
       "      <td>1</td>\n",
       "      <td>женат / замужем</td>\n",
       "      <td>0</td>\n",
       "      <td>M</td>\n",
       "      <td>госслужащий</td>\n",
       "      <td>0</td>\n",
       "      <td>NaN</td>\n",
       "      <td>образование</td>\n",
       "    </tr>\n",
       "    <tr>\n",
       "      <th>29</th>\n",
       "      <td>0</td>\n",
       "      <td>NaN</td>\n",
       "      <td>63</td>\n",
       "      <td>среднее</td>\n",
       "      <td>1</td>\n",
       "      <td>Не женат / не замужем</td>\n",
       "      <td>4</td>\n",
       "      <td>F</td>\n",
       "      <td>пенсионер</td>\n",
       "      <td>0</td>\n",
       "      <td>NaN</td>\n",
       "      <td>строительство жилой недвижимости</td>\n",
       "    </tr>\n",
       "    <tr>\n",
       "      <th>41</th>\n",
       "      <td>0</td>\n",
       "      <td>NaN</td>\n",
       "      <td>50</td>\n",
       "      <td>среднее</td>\n",
       "      <td>1</td>\n",
       "      <td>женат / замужем</td>\n",
       "      <td>0</td>\n",
       "      <td>F</td>\n",
       "      <td>госслужащий</td>\n",
       "      <td>0</td>\n",
       "      <td>NaN</td>\n",
       "      <td>сделка с подержанным автомобилем</td>\n",
       "    </tr>\n",
       "    <tr>\n",
       "      <th>55</th>\n",
       "      <td>0</td>\n",
       "      <td>NaN</td>\n",
       "      <td>54</td>\n",
       "      <td>среднее</td>\n",
       "      <td>1</td>\n",
       "      <td>гражданский брак</td>\n",
       "      <td>1</td>\n",
       "      <td>F</td>\n",
       "      <td>пенсионер</td>\n",
       "      <td>1</td>\n",
       "      <td>NaN</td>\n",
       "      <td>сыграть свадьбу</td>\n",
       "    </tr>\n",
       "    <tr>\n",
       "      <th>...</th>\n",
       "      <td>...</td>\n",
       "      <td>...</td>\n",
       "      <td>...</td>\n",
       "      <td>...</td>\n",
       "      <td>...</td>\n",
       "      <td>...</td>\n",
       "      <td>...</td>\n",
       "      <td>...</td>\n",
       "      <td>...</td>\n",
       "      <td>...</td>\n",
       "      <td>...</td>\n",
       "      <td>...</td>\n",
       "    </tr>\n",
       "    <tr>\n",
       "      <th>21489</th>\n",
       "      <td>2</td>\n",
       "      <td>NaN</td>\n",
       "      <td>47</td>\n",
       "      <td>Среднее</td>\n",
       "      <td>1</td>\n",
       "      <td>женат / замужем</td>\n",
       "      <td>0</td>\n",
       "      <td>M</td>\n",
       "      <td>компаньон</td>\n",
       "      <td>0</td>\n",
       "      <td>NaN</td>\n",
       "      <td>сделка с автомобилем</td>\n",
       "    </tr>\n",
       "    <tr>\n",
       "      <th>21495</th>\n",
       "      <td>1</td>\n",
       "      <td>NaN</td>\n",
       "      <td>50</td>\n",
       "      <td>среднее</td>\n",
       "      <td>1</td>\n",
       "      <td>гражданский брак</td>\n",
       "      <td>1</td>\n",
       "      <td>F</td>\n",
       "      <td>сотрудник</td>\n",
       "      <td>0</td>\n",
       "      <td>NaN</td>\n",
       "      <td>свадьба</td>\n",
       "    </tr>\n",
       "    <tr>\n",
       "      <th>21497</th>\n",
       "      <td>0</td>\n",
       "      <td>NaN</td>\n",
       "      <td>48</td>\n",
       "      <td>ВЫСШЕЕ</td>\n",
       "      <td>0</td>\n",
       "      <td>женат / замужем</td>\n",
       "      <td>0</td>\n",
       "      <td>F</td>\n",
       "      <td>компаньон</td>\n",
       "      <td>0</td>\n",
       "      <td>NaN</td>\n",
       "      <td>строительство недвижимости</td>\n",
       "    </tr>\n",
       "    <tr>\n",
       "      <th>21502</th>\n",
       "      <td>1</td>\n",
       "      <td>NaN</td>\n",
       "      <td>42</td>\n",
       "      <td>среднее</td>\n",
       "      <td>1</td>\n",
       "      <td>женат / замужем</td>\n",
       "      <td>0</td>\n",
       "      <td>F</td>\n",
       "      <td>сотрудник</td>\n",
       "      <td>0</td>\n",
       "      <td>NaN</td>\n",
       "      <td>строительство жилой недвижимости</td>\n",
       "    </tr>\n",
       "    <tr>\n",
       "      <th>21510</th>\n",
       "      <td>2</td>\n",
       "      <td>NaN</td>\n",
       "      <td>28</td>\n",
       "      <td>среднее</td>\n",
       "      <td>1</td>\n",
       "      <td>женат / замужем</td>\n",
       "      <td>0</td>\n",
       "      <td>F</td>\n",
       "      <td>сотрудник</td>\n",
       "      <td>0</td>\n",
       "      <td>NaN</td>\n",
       "      <td>приобретение автомобиля</td>\n",
       "    </tr>\n",
       "  </tbody>\n",
       "</table>\n",
       "<p>2174 rows × 12 columns</p>\n",
       "</div>"
      ],
      "text/plain": [
       "       children  days_employed  dob_years education  education_id  \\\n",
       "12            0            NaN         65   среднее             1   \n",
       "26            0            NaN         41   среднее             1   \n",
       "29            0            NaN         63   среднее             1   \n",
       "41            0            NaN         50   среднее             1   \n",
       "55            0            NaN         54   среднее             1   \n",
       "...         ...            ...        ...       ...           ...   \n",
       "21489         2            NaN         47   Среднее             1   \n",
       "21495         1            NaN         50   среднее             1   \n",
       "21497         0            NaN         48    ВЫСШЕЕ             0   \n",
       "21502         1            NaN         42   среднее             1   \n",
       "21510         2            NaN         28   среднее             1   \n",
       "\n",
       "               family_status  family_status_id gender  income_type  debt  \\\n",
       "12          гражданский брак                 1      M    пенсионер     0   \n",
       "26           женат / замужем                 0      M  госслужащий     0   \n",
       "29     Не женат / не замужем                 4      F    пенсионер     0   \n",
       "41           женат / замужем                 0      F  госслужащий     0   \n",
       "55          гражданский брак                 1      F    пенсионер     1   \n",
       "...                      ...               ...    ...          ...   ...   \n",
       "21489        женат / замужем                 0      M    компаньон     0   \n",
       "21495       гражданский брак                 1      F    сотрудник     0   \n",
       "21497        женат / замужем                 0      F    компаньон     0   \n",
       "21502        женат / замужем                 0      F    сотрудник     0   \n",
       "21510        женат / замужем                 0      F    сотрудник     0   \n",
       "\n",
       "       total_income                           purpose  \n",
       "12              NaN                   сыграть свадьбу  \n",
       "26              NaN                       образование  \n",
       "29              NaN  строительство жилой недвижимости  \n",
       "41              NaN  сделка с подержанным автомобилем  \n",
       "55              NaN                   сыграть свадьбу  \n",
       "...             ...                               ...  \n",
       "21489           NaN              сделка с автомобилем  \n",
       "21495           NaN                           свадьба  \n",
       "21497           NaN        строительство недвижимости  \n",
       "21502           NaN  строительство жилой недвижимости  \n",
       "21510           NaN           приобретение автомобиля  \n",
       "\n",
       "[2174 rows x 12 columns]"
      ]
     },
     "metadata": {},
     "output_type": "display_data"
    }
   ],
   "source": [
    "display(df[df['days_employed'].isna()])"
   ]
  },
  {
   "cell_type": "markdown",
   "metadata": {},
   "source": [
    "И правда, мы видим, что значения в столбце `'total_income'` тоже пропущены. \n",
    "\n",
    "Прежде, чем заполнять пропуски, приведем все значения столбца `'days_employed'` к положительным значениям, применив `.abs` ко столбцу: "
   ]
  },
  {
   "cell_type": "code",
   "execution_count": 17,
   "metadata": {
    "scrolled": true
   },
   "outputs": [
    {
     "data": {
      "text/html": [
       "<div>\n",
       "<style scoped>\n",
       "    .dataframe tbody tr th:only-of-type {\n",
       "        vertical-align: middle;\n",
       "    }\n",
       "\n",
       "    .dataframe tbody tr th {\n",
       "        vertical-align: top;\n",
       "    }\n",
       "\n",
       "    .dataframe thead th {\n",
       "        text-align: right;\n",
       "    }\n",
       "</style>\n",
       "<table border=\"1\" class=\"dataframe\">\n",
       "  <thead>\n",
       "    <tr style=\"text-align: right;\">\n",
       "      <th></th>\n",
       "      <th>children</th>\n",
       "      <th>days_employed</th>\n",
       "      <th>dob_years</th>\n",
       "      <th>education</th>\n",
       "      <th>education_id</th>\n",
       "      <th>family_status</th>\n",
       "      <th>family_status_id</th>\n",
       "      <th>gender</th>\n",
       "      <th>income_type</th>\n",
       "      <th>debt</th>\n",
       "      <th>total_income</th>\n",
       "      <th>purpose</th>\n",
       "    </tr>\n",
       "  </thead>\n",
       "  <tbody>\n",
       "    <tr>\n",
       "      <th>0</th>\n",
       "      <td>1</td>\n",
       "      <td>8437.673028</td>\n",
       "      <td>42</td>\n",
       "      <td>высшее</td>\n",
       "      <td>0</td>\n",
       "      <td>женат / замужем</td>\n",
       "      <td>0</td>\n",
       "      <td>F</td>\n",
       "      <td>сотрудник</td>\n",
       "      <td>0</td>\n",
       "      <td>253875.639453</td>\n",
       "      <td>покупка жилья</td>\n",
       "    </tr>\n",
       "    <tr>\n",
       "      <th>1</th>\n",
       "      <td>1</td>\n",
       "      <td>4024.803754</td>\n",
       "      <td>36</td>\n",
       "      <td>среднее</td>\n",
       "      <td>1</td>\n",
       "      <td>женат / замужем</td>\n",
       "      <td>0</td>\n",
       "      <td>F</td>\n",
       "      <td>сотрудник</td>\n",
       "      <td>0</td>\n",
       "      <td>112080.014102</td>\n",
       "      <td>приобретение автомобиля</td>\n",
       "    </tr>\n",
       "    <tr>\n",
       "      <th>2</th>\n",
       "      <td>0</td>\n",
       "      <td>5623.422610</td>\n",
       "      <td>33</td>\n",
       "      <td>Среднее</td>\n",
       "      <td>1</td>\n",
       "      <td>женат / замужем</td>\n",
       "      <td>0</td>\n",
       "      <td>M</td>\n",
       "      <td>сотрудник</td>\n",
       "      <td>0</td>\n",
       "      <td>145885.952297</td>\n",
       "      <td>покупка жилья</td>\n",
       "    </tr>\n",
       "    <tr>\n",
       "      <th>3</th>\n",
       "      <td>3</td>\n",
       "      <td>4124.747207</td>\n",
       "      <td>32</td>\n",
       "      <td>среднее</td>\n",
       "      <td>1</td>\n",
       "      <td>женат / замужем</td>\n",
       "      <td>0</td>\n",
       "      <td>M</td>\n",
       "      <td>сотрудник</td>\n",
       "      <td>0</td>\n",
       "      <td>267628.550329</td>\n",
       "      <td>дополнительное образование</td>\n",
       "    </tr>\n",
       "    <tr>\n",
       "      <th>4</th>\n",
       "      <td>0</td>\n",
       "      <td>340266.072047</td>\n",
       "      <td>53</td>\n",
       "      <td>среднее</td>\n",
       "      <td>1</td>\n",
       "      <td>гражданский брак</td>\n",
       "      <td>1</td>\n",
       "      <td>F</td>\n",
       "      <td>пенсионер</td>\n",
       "      <td>0</td>\n",
       "      <td>158616.077870</td>\n",
       "      <td>сыграть свадьбу</td>\n",
       "    </tr>\n",
       "    <tr>\n",
       "      <th>5</th>\n",
       "      <td>0</td>\n",
       "      <td>926.185831</td>\n",
       "      <td>27</td>\n",
       "      <td>высшее</td>\n",
       "      <td>0</td>\n",
       "      <td>гражданский брак</td>\n",
       "      <td>1</td>\n",
       "      <td>M</td>\n",
       "      <td>компаньон</td>\n",
       "      <td>0</td>\n",
       "      <td>255763.565419</td>\n",
       "      <td>покупка жилья</td>\n",
       "    </tr>\n",
       "    <tr>\n",
       "      <th>6</th>\n",
       "      <td>0</td>\n",
       "      <td>2879.202052</td>\n",
       "      <td>43</td>\n",
       "      <td>высшее</td>\n",
       "      <td>0</td>\n",
       "      <td>женат / замужем</td>\n",
       "      <td>0</td>\n",
       "      <td>F</td>\n",
       "      <td>компаньон</td>\n",
       "      <td>0</td>\n",
       "      <td>240525.971920</td>\n",
       "      <td>операции с жильем</td>\n",
       "    </tr>\n",
       "    <tr>\n",
       "      <th>7</th>\n",
       "      <td>0</td>\n",
       "      <td>152.779569</td>\n",
       "      <td>50</td>\n",
       "      <td>СРЕДНЕЕ</td>\n",
       "      <td>1</td>\n",
       "      <td>женат / замужем</td>\n",
       "      <td>0</td>\n",
       "      <td>M</td>\n",
       "      <td>сотрудник</td>\n",
       "      <td>0</td>\n",
       "      <td>135823.934197</td>\n",
       "      <td>образование</td>\n",
       "    </tr>\n",
       "    <tr>\n",
       "      <th>8</th>\n",
       "      <td>2</td>\n",
       "      <td>6929.865299</td>\n",
       "      <td>35</td>\n",
       "      <td>ВЫСШЕЕ</td>\n",
       "      <td>0</td>\n",
       "      <td>гражданский брак</td>\n",
       "      <td>1</td>\n",
       "      <td>F</td>\n",
       "      <td>сотрудник</td>\n",
       "      <td>0</td>\n",
       "      <td>95856.832424</td>\n",
       "      <td>на проведение свадьбы</td>\n",
       "    </tr>\n",
       "    <tr>\n",
       "      <th>9</th>\n",
       "      <td>0</td>\n",
       "      <td>2188.756445</td>\n",
       "      <td>41</td>\n",
       "      <td>среднее</td>\n",
       "      <td>1</td>\n",
       "      <td>женат / замужем</td>\n",
       "      <td>0</td>\n",
       "      <td>M</td>\n",
       "      <td>сотрудник</td>\n",
       "      <td>0</td>\n",
       "      <td>144425.938277</td>\n",
       "      <td>покупка жилья для семьи</td>\n",
       "    </tr>\n",
       "  </tbody>\n",
       "</table>\n",
       "</div>"
      ],
      "text/plain": [
       "   children  days_employed  dob_years education  education_id  \\\n",
       "0         1    8437.673028         42    высшее             0   \n",
       "1         1    4024.803754         36   среднее             1   \n",
       "2         0    5623.422610         33   Среднее             1   \n",
       "3         3    4124.747207         32   среднее             1   \n",
       "4         0  340266.072047         53   среднее             1   \n",
       "5         0     926.185831         27    высшее             0   \n",
       "6         0    2879.202052         43    высшее             0   \n",
       "7         0     152.779569         50   СРЕДНЕЕ             1   \n",
       "8         2    6929.865299         35    ВЫСШЕЕ             0   \n",
       "9         0    2188.756445         41   среднее             1   \n",
       "\n",
       "      family_status  family_status_id gender income_type  debt   total_income  \\\n",
       "0   женат / замужем                 0      F   сотрудник     0  253875.639453   \n",
       "1   женат / замужем                 0      F   сотрудник     0  112080.014102   \n",
       "2   женат / замужем                 0      M   сотрудник     0  145885.952297   \n",
       "3   женат / замужем                 0      M   сотрудник     0  267628.550329   \n",
       "4  гражданский брак                 1      F   пенсионер     0  158616.077870   \n",
       "5  гражданский брак                 1      M   компаньон     0  255763.565419   \n",
       "6   женат / замужем                 0      F   компаньон     0  240525.971920   \n",
       "7   женат / замужем                 0      M   сотрудник     0  135823.934197   \n",
       "8  гражданский брак                 1      F   сотрудник     0   95856.832424   \n",
       "9   женат / замужем                 0      M   сотрудник     0  144425.938277   \n",
       "\n",
       "                      purpose  \n",
       "0               покупка жилья  \n",
       "1     приобретение автомобиля  \n",
       "2               покупка жилья  \n",
       "3  дополнительное образование  \n",
       "4             сыграть свадьбу  \n",
       "5               покупка жилья  \n",
       "6           операции с жильем  \n",
       "7                 образование  \n",
       "8       на проведение свадьбы  \n",
       "9     покупка жилья для семьи  "
      ]
     },
     "metadata": {},
     "output_type": "display_data"
    },
    {
     "name": "stdout",
     "output_type": "stream",
     "text": [
      "\n",
      "Максимальное количество дней стажа: 401755.40047533\n",
      "\n",
      "Минимальное количество дней стажа: 24.14163324048118\n"
     ]
    }
   ],
   "source": [
    "df['days_employed'] = df['days_employed'].abs()\n",
    "display(df.head(10))\n",
    "print()\n",
    "print(\"Максимальное количество дней стажа: {}\".format(df['days_employed'].max()))\n",
    "print()\n",
    "print(\"Минимальное количество дней стажа: {}\".format(df['days_employed'].min()))"
   ]
  },
  {
   "cell_type": "markdown",
   "metadata": {},
   "source": [
    "И опять-таки мы видим, что максимальное значения явно нереальное: 401755 дней это 1100 лет. Данные требуют уточнения.\n",
    "\n",
    "В принципе, этот столбец можно удалить, так как он явно не нужен в нашем исследовании, и данные в нем некорректны, но мы его оставим - он может помочь коллегам, которые будут работать с этой таблицей, так как корректные данные в нем тоже наверняка есть. Заполним пропуски в столбце медианным значением:"
   ]
  },
  {
   "cell_type": "code",
   "execution_count": 18,
   "metadata": {},
   "outputs": [
    {
     "name": "stdout",
     "output_type": "stream",
     "text": [
      "Количество пропусков в столбце:'days_employed':0\n"
     ]
    }
   ],
   "source": [
    "total_days_avg = df['days_employed'].median()\n",
    "df['days_employed'] = df['days_employed'].fillna(total_days_avg)\n",
    "print(\"Количество пропусков в столбце:'days_employed':{}\".format(df['days_employed'].isna().sum()))"
   ]
  },
  {
   "cell_type": "markdown",
   "metadata": {},
   "source": [
    "У нас есть 101 нулевое значение в столбце `'dob_years'`. Удалим эти строки и проверим, с какого возраста теперь начинается возраст заемщиков:"
   ]
  },
  {
   "cell_type": "code",
   "execution_count": 19,
   "metadata": {},
   "outputs": [
    {
     "name": "stdout",
     "output_type": "stream",
     "text": [
      "19     14\n",
      "20     51\n",
      "21    111\n",
      "22    183\n",
      "23    254\n",
      "Name: dob_years, dtype: int64\n"
     ]
    }
   ],
   "source": [
    "df = df.drop(df[df['dob_years']==0].index)\n",
    "print(df['dob_years'].value_counts().sort_index().head())"
   ]
  },
  {
   "cell_type": "markdown",
   "metadata": {},
   "source": [
    "Теперь возраст начинается с 19 лет, все в порядке.\n",
    "\n",
    "Теперь займемся пропусками в столбце `'total_income'`. Взять среднее значение по столбцу будет не совсем корректно, потому что доходы у разных катеогрий замещиков могут различаться, поэтому сначала посчитаем средний доход для каждой группы и составим небольшой датафрейм:"
   ]
  },
  {
   "cell_type": "code",
   "execution_count": 20,
   "metadata": {
    "scrolled": true
   },
   "outputs": [
    {
     "name": "stdout",
     "output_type": "stream",
     "text": [
      "       income_type    mean_income\n",
      "0      безработный  131339.751676\n",
      "1        в декрете   53829.130729\n",
      "2      госслужащий  171008.225815\n",
      "3        компаньон  202483.482019\n",
      "4        пенсионер  137120.690001\n",
      "5  предприниматель  499163.144947\n",
      "6        сотрудник  161404.247418\n",
      "7          студент   98201.625314\n"
     ]
    }
   ],
   "source": [
    "mean_income_group = df.groupby('income_type')['total_income'].mean()\n",
    "mean_income = pd.DataFrame({'mean_income':mean_income_group}).reset_index()\n",
    "print(mean_income)"
   ]
  },
  {
   "cell_type": "markdown",
   "metadata": {},
   "source": [
    "И правда, мы видим, что средний доход в зависимости от категории заемщика, достаточно сильно различается. \n",
    "\n",
    "Теперь присоединим этот датафрейм к таблице `df` отдельным столбцом:"
   ]
  },
  {
   "cell_type": "code",
   "execution_count": 21,
   "metadata": {
    "scrolled": false
   },
   "outputs": [
    {
     "data": {
      "text/html": [
       "<div>\n",
       "<style scoped>\n",
       "    .dataframe tbody tr th:only-of-type {\n",
       "        vertical-align: middle;\n",
       "    }\n",
       "\n",
       "    .dataframe tbody tr th {\n",
       "        vertical-align: top;\n",
       "    }\n",
       "\n",
       "    .dataframe thead th {\n",
       "        text-align: right;\n",
       "    }\n",
       "</style>\n",
       "<table border=\"1\" class=\"dataframe\">\n",
       "  <thead>\n",
       "    <tr style=\"text-align: right;\">\n",
       "      <th></th>\n",
       "      <th>children</th>\n",
       "      <th>days_employed</th>\n",
       "      <th>dob_years</th>\n",
       "      <th>education</th>\n",
       "      <th>education_id</th>\n",
       "      <th>family_status</th>\n",
       "      <th>family_status_id</th>\n",
       "      <th>gender</th>\n",
       "      <th>income_type</th>\n",
       "      <th>debt</th>\n",
       "      <th>total_income</th>\n",
       "      <th>purpose</th>\n",
       "      <th>mean_income</th>\n",
       "    </tr>\n",
       "  </thead>\n",
       "  <tbody>\n",
       "    <tr>\n",
       "      <th>0</th>\n",
       "      <td>1</td>\n",
       "      <td>8437.673028</td>\n",
       "      <td>42</td>\n",
       "      <td>высшее</td>\n",
       "      <td>0</td>\n",
       "      <td>женат / замужем</td>\n",
       "      <td>0</td>\n",
       "      <td>F</td>\n",
       "      <td>сотрудник</td>\n",
       "      <td>0</td>\n",
       "      <td>253875.639453</td>\n",
       "      <td>покупка жилья</td>\n",
       "      <td>161404.247418</td>\n",
       "    </tr>\n",
       "    <tr>\n",
       "      <th>1</th>\n",
       "      <td>1</td>\n",
       "      <td>4024.803754</td>\n",
       "      <td>36</td>\n",
       "      <td>среднее</td>\n",
       "      <td>1</td>\n",
       "      <td>женат / замужем</td>\n",
       "      <td>0</td>\n",
       "      <td>F</td>\n",
       "      <td>сотрудник</td>\n",
       "      <td>0</td>\n",
       "      <td>112080.014102</td>\n",
       "      <td>приобретение автомобиля</td>\n",
       "      <td>161404.247418</td>\n",
       "    </tr>\n",
       "    <tr>\n",
       "      <th>2</th>\n",
       "      <td>0</td>\n",
       "      <td>5623.422610</td>\n",
       "      <td>33</td>\n",
       "      <td>Среднее</td>\n",
       "      <td>1</td>\n",
       "      <td>женат / замужем</td>\n",
       "      <td>0</td>\n",
       "      <td>M</td>\n",
       "      <td>сотрудник</td>\n",
       "      <td>0</td>\n",
       "      <td>145885.952297</td>\n",
       "      <td>покупка жилья</td>\n",
       "      <td>161404.247418</td>\n",
       "    </tr>\n",
       "    <tr>\n",
       "      <th>3</th>\n",
       "      <td>3</td>\n",
       "      <td>4124.747207</td>\n",
       "      <td>32</td>\n",
       "      <td>среднее</td>\n",
       "      <td>1</td>\n",
       "      <td>женат / замужем</td>\n",
       "      <td>0</td>\n",
       "      <td>M</td>\n",
       "      <td>сотрудник</td>\n",
       "      <td>0</td>\n",
       "      <td>267628.550329</td>\n",
       "      <td>дополнительное образование</td>\n",
       "      <td>161404.247418</td>\n",
       "    </tr>\n",
       "    <tr>\n",
       "      <th>4</th>\n",
       "      <td>0</td>\n",
       "      <td>340266.072047</td>\n",
       "      <td>53</td>\n",
       "      <td>среднее</td>\n",
       "      <td>1</td>\n",
       "      <td>гражданский брак</td>\n",
       "      <td>1</td>\n",
       "      <td>F</td>\n",
       "      <td>пенсионер</td>\n",
       "      <td>0</td>\n",
       "      <td>158616.077870</td>\n",
       "      <td>сыграть свадьбу</td>\n",
       "      <td>137120.690001</td>\n",
       "    </tr>\n",
       "  </tbody>\n",
       "</table>\n",
       "</div>"
      ],
      "text/plain": [
       "   children  days_employed  dob_years education  education_id  \\\n",
       "0         1    8437.673028         42    высшее             0   \n",
       "1         1    4024.803754         36   среднее             1   \n",
       "2         0    5623.422610         33   Среднее             1   \n",
       "3         3    4124.747207         32   среднее             1   \n",
       "4         0  340266.072047         53   среднее             1   \n",
       "\n",
       "      family_status  family_status_id gender income_type  debt   total_income  \\\n",
       "0   женат / замужем                 0      F   сотрудник     0  253875.639453   \n",
       "1   женат / замужем                 0      F   сотрудник     0  112080.014102   \n",
       "2   женат / замужем                 0      M   сотрудник     0  145885.952297   \n",
       "3   женат / замужем                 0      M   сотрудник     0  267628.550329   \n",
       "4  гражданский брак                 1      F   пенсионер     0  158616.077870   \n",
       "\n",
       "                      purpose    mean_income  \n",
       "0               покупка жилья  161404.247418  \n",
       "1     приобретение автомобиля  161404.247418  \n",
       "2               покупка жилья  161404.247418  \n",
       "3  дополнительное образование  161404.247418  \n",
       "4             сыграть свадьбу  137120.690001  "
      ]
     },
     "metadata": {},
     "output_type": "display_data"
    }
   ],
   "source": [
    "df = df.merge(mean_income, on='income_type', how='left')  # слияние таблиц\n",
    "display(df.head(5))\n"
   ]
  },
  {
   "cell_type": "markdown",
   "metadata": {},
   "source": [
    " Заполним пропуски в столбце `'total_income'` значениями из `'mean_income'` и проведем быструю проверку на наличие пропусков:"
   ]
  },
  {
   "cell_type": "code",
   "execution_count": 22,
   "metadata": {},
   "outputs": [
    {
     "name": "stdout",
     "output_type": "stream",
     "text": [
      "Количество пропусков в столбце:'total_income':0\n"
     ]
    }
   ],
   "source": [
    "df['total_income'] = df['total_income'].fillna(df['mean_income'])\n",
    "print(\"Количество пропусков в столбце:'total_income':{}\".format(df['total_income'].isna().sum()))\n"
   ]
  },
  {
   "cell_type": "markdown",
   "metadata": {},
   "source": [
    "Удалим единственную строку с отсутствующим значением в столбце `'gender'`:"
   ]
  },
  {
   "cell_type": "code",
   "execution_count": 23,
   "metadata": {},
   "outputs": [
    {
     "name": "stdout",
     "output_type": "stream",
     "text": [
      "F    14164\n",
      "M     7259\n",
      "Name: gender, dtype: int64\n"
     ]
    }
   ],
   "source": [
    "df = df.drop(df[df['gender']=='XNA'].index)\n",
    "print(df['gender'].value_counts())"
   ]
  },
  {
   "cell_type": "markdown",
   "metadata": {},
   "source": [
    "Значение `20` в столбце с количеством детей теоретически можно объяснить опечаткой при наборе: 2 и 0 на цифровой клавиатре расположены рядом, но мы не знаем, что там было на самом деле, поэтому заменим на среднее значение. А вот с `-1` непонятно, потому что опечататься так достаточно сложно, а что имели в виду авторы таблицы, мы не знаем. Поэтому удаляем строки - там всего 47 позиций, допустимая погрешность."
   ]
  },
  {
   "cell_type": "code",
   "execution_count": 24,
   "metadata": {},
   "outputs": [
    {
     "data": {
      "text/html": [
       "<div>\n",
       "<style scoped>\n",
       "    .dataframe tbody tr th:only-of-type {\n",
       "        vertical-align: middle;\n",
       "    }\n",
       "\n",
       "    .dataframe tbody tr th {\n",
       "        vertical-align: top;\n",
       "    }\n",
       "\n",
       "    .dataframe thead th {\n",
       "        text-align: right;\n",
       "    }\n",
       "</style>\n",
       "<table border=\"1\" class=\"dataframe\">\n",
       "  <thead>\n",
       "    <tr style=\"text-align: right;\">\n",
       "      <th></th>\n",
       "      <th>Количество детей</th>\n",
       "    </tr>\n",
       "  </thead>\n",
       "  <tbody>\n",
       "    <tr>\n",
       "      <th>0.0</th>\n",
       "      <td>14154</td>\n",
       "    </tr>\n",
       "    <tr>\n",
       "      <th>1.0</th>\n",
       "      <td>4802</td>\n",
       "    </tr>\n",
       "    <tr>\n",
       "      <th>2.0</th>\n",
       "      <td>2042</td>\n",
       "    </tr>\n",
       "    <tr>\n",
       "      <th>3.0</th>\n",
       "      <td>328</td>\n",
       "    </tr>\n",
       "    <tr>\n",
       "      <th>4.0</th>\n",
       "      <td>41</td>\n",
       "    </tr>\n",
       "    <tr>\n",
       "      <th>5.0</th>\n",
       "      <td>9</td>\n",
       "    </tr>\n",
       "  </tbody>\n",
       "</table>\n",
       "</div>"
      ],
      "text/plain": [
       "     Количество детей\n",
       "0.0             14154\n",
       "1.0              4802\n",
       "2.0              2042\n",
       "3.0               328\n",
       "4.0                41\n",
       "5.0                 9"
      ]
     },
     "execution_count": 24,
     "metadata": {},
     "output_type": "execute_result"
    }
   ],
   "source": [
    "df = df.drop(df[df['children']== -1].index)\n",
    "children_median = df.loc[df.loc[:, 'children'] != 20]['children'].median()\n",
    "df['children'] = df['children'].replace(20, children_median)\n",
    "pd.DataFrame({'Количество детей':df['children'].value_counts()})"
   ]
  },
  {
   "cell_type": "markdown",
   "metadata": {},
   "source": [
    "Выводим таблицу после заполнения пропусков, проверяем. По итогу потеряли 347 позиций, при общем количестве более 21000 допустимо."
   ]
  },
  {
   "cell_type": "code",
   "execution_count": 25,
   "metadata": {
    "scrolled": true
   },
   "outputs": [
    {
     "data": {
      "text/html": [
       "<div>\n",
       "<style scoped>\n",
       "    .dataframe tbody tr th:only-of-type {\n",
       "        vertical-align: middle;\n",
       "    }\n",
       "\n",
       "    .dataframe tbody tr th {\n",
       "        vertical-align: top;\n",
       "    }\n",
       "\n",
       "    .dataframe thead th {\n",
       "        text-align: right;\n",
       "    }\n",
       "</style>\n",
       "<table border=\"1\" class=\"dataframe\">\n",
       "  <thead>\n",
       "    <tr style=\"text-align: right;\">\n",
       "      <th></th>\n",
       "      <th>children</th>\n",
       "      <th>days_employed</th>\n",
       "      <th>dob_years</th>\n",
       "      <th>education</th>\n",
       "      <th>education_id</th>\n",
       "      <th>family_status</th>\n",
       "      <th>family_status_id</th>\n",
       "      <th>gender</th>\n",
       "      <th>income_type</th>\n",
       "      <th>debt</th>\n",
       "      <th>total_income</th>\n",
       "      <th>purpose</th>\n",
       "      <th>mean_income</th>\n",
       "    </tr>\n",
       "  </thead>\n",
       "  <tbody>\n",
       "    <tr>\n",
       "      <th>0</th>\n",
       "      <td>1.0</td>\n",
       "      <td>8437.673028</td>\n",
       "      <td>42</td>\n",
       "      <td>высшее</td>\n",
       "      <td>0</td>\n",
       "      <td>женат / замужем</td>\n",
       "      <td>0</td>\n",
       "      <td>F</td>\n",
       "      <td>сотрудник</td>\n",
       "      <td>0</td>\n",
       "      <td>253875.639453</td>\n",
       "      <td>покупка жилья</td>\n",
       "      <td>161404.247418</td>\n",
       "    </tr>\n",
       "    <tr>\n",
       "      <th>1</th>\n",
       "      <td>1.0</td>\n",
       "      <td>4024.803754</td>\n",
       "      <td>36</td>\n",
       "      <td>среднее</td>\n",
       "      <td>1</td>\n",
       "      <td>женат / замужем</td>\n",
       "      <td>0</td>\n",
       "      <td>F</td>\n",
       "      <td>сотрудник</td>\n",
       "      <td>0</td>\n",
       "      <td>112080.014102</td>\n",
       "      <td>приобретение автомобиля</td>\n",
       "      <td>161404.247418</td>\n",
       "    </tr>\n",
       "    <tr>\n",
       "      <th>2</th>\n",
       "      <td>0.0</td>\n",
       "      <td>5623.422610</td>\n",
       "      <td>33</td>\n",
       "      <td>Среднее</td>\n",
       "      <td>1</td>\n",
       "      <td>женат / замужем</td>\n",
       "      <td>0</td>\n",
       "      <td>M</td>\n",
       "      <td>сотрудник</td>\n",
       "      <td>0</td>\n",
       "      <td>145885.952297</td>\n",
       "      <td>покупка жилья</td>\n",
       "      <td>161404.247418</td>\n",
       "    </tr>\n",
       "    <tr>\n",
       "      <th>3</th>\n",
       "      <td>3.0</td>\n",
       "      <td>4124.747207</td>\n",
       "      <td>32</td>\n",
       "      <td>среднее</td>\n",
       "      <td>1</td>\n",
       "      <td>женат / замужем</td>\n",
       "      <td>0</td>\n",
       "      <td>M</td>\n",
       "      <td>сотрудник</td>\n",
       "      <td>0</td>\n",
       "      <td>267628.550329</td>\n",
       "      <td>дополнительное образование</td>\n",
       "      <td>161404.247418</td>\n",
       "    </tr>\n",
       "    <tr>\n",
       "      <th>4</th>\n",
       "      <td>0.0</td>\n",
       "      <td>340266.072047</td>\n",
       "      <td>53</td>\n",
       "      <td>среднее</td>\n",
       "      <td>1</td>\n",
       "      <td>гражданский брак</td>\n",
       "      <td>1</td>\n",
       "      <td>F</td>\n",
       "      <td>пенсионер</td>\n",
       "      <td>0</td>\n",
       "      <td>158616.077870</td>\n",
       "      <td>сыграть свадьбу</td>\n",
       "      <td>137120.690001</td>\n",
       "    </tr>\n",
       "    <tr>\n",
       "      <th>5</th>\n",
       "      <td>0.0</td>\n",
       "      <td>926.185831</td>\n",
       "      <td>27</td>\n",
       "      <td>высшее</td>\n",
       "      <td>0</td>\n",
       "      <td>гражданский брак</td>\n",
       "      <td>1</td>\n",
       "      <td>M</td>\n",
       "      <td>компаньон</td>\n",
       "      <td>0</td>\n",
       "      <td>255763.565419</td>\n",
       "      <td>покупка жилья</td>\n",
       "      <td>202483.482019</td>\n",
       "    </tr>\n",
       "    <tr>\n",
       "      <th>6</th>\n",
       "      <td>0.0</td>\n",
       "      <td>2879.202052</td>\n",
       "      <td>43</td>\n",
       "      <td>высшее</td>\n",
       "      <td>0</td>\n",
       "      <td>женат / замужем</td>\n",
       "      <td>0</td>\n",
       "      <td>F</td>\n",
       "      <td>компаньон</td>\n",
       "      <td>0</td>\n",
       "      <td>240525.971920</td>\n",
       "      <td>операции с жильем</td>\n",
       "      <td>202483.482019</td>\n",
       "    </tr>\n",
       "    <tr>\n",
       "      <th>7</th>\n",
       "      <td>0.0</td>\n",
       "      <td>152.779569</td>\n",
       "      <td>50</td>\n",
       "      <td>СРЕДНЕЕ</td>\n",
       "      <td>1</td>\n",
       "      <td>женат / замужем</td>\n",
       "      <td>0</td>\n",
       "      <td>M</td>\n",
       "      <td>сотрудник</td>\n",
       "      <td>0</td>\n",
       "      <td>135823.934197</td>\n",
       "      <td>образование</td>\n",
       "      <td>161404.247418</td>\n",
       "    </tr>\n",
       "    <tr>\n",
       "      <th>8</th>\n",
       "      <td>2.0</td>\n",
       "      <td>6929.865299</td>\n",
       "      <td>35</td>\n",
       "      <td>ВЫСШЕЕ</td>\n",
       "      <td>0</td>\n",
       "      <td>гражданский брак</td>\n",
       "      <td>1</td>\n",
       "      <td>F</td>\n",
       "      <td>сотрудник</td>\n",
       "      <td>0</td>\n",
       "      <td>95856.832424</td>\n",
       "      <td>на проведение свадьбы</td>\n",
       "      <td>161404.247418</td>\n",
       "    </tr>\n",
       "    <tr>\n",
       "      <th>9</th>\n",
       "      <td>0.0</td>\n",
       "      <td>2188.756445</td>\n",
       "      <td>41</td>\n",
       "      <td>среднее</td>\n",
       "      <td>1</td>\n",
       "      <td>женат / замужем</td>\n",
       "      <td>0</td>\n",
       "      <td>M</td>\n",
       "      <td>сотрудник</td>\n",
       "      <td>0</td>\n",
       "      <td>144425.938277</td>\n",
       "      <td>покупка жилья для семьи</td>\n",
       "      <td>161404.247418</td>\n",
       "    </tr>\n",
       "    <tr>\n",
       "      <th>10</th>\n",
       "      <td>2.0</td>\n",
       "      <td>4171.483647</td>\n",
       "      <td>36</td>\n",
       "      <td>высшее</td>\n",
       "      <td>0</td>\n",
       "      <td>женат / замужем</td>\n",
       "      <td>0</td>\n",
       "      <td>M</td>\n",
       "      <td>компаньон</td>\n",
       "      <td>0</td>\n",
       "      <td>113943.491460</td>\n",
       "      <td>покупка недвижимости</td>\n",
       "      <td>202483.482019</td>\n",
       "    </tr>\n",
       "    <tr>\n",
       "      <th>11</th>\n",
       "      <td>0.0</td>\n",
       "      <td>792.701887</td>\n",
       "      <td>40</td>\n",
       "      <td>среднее</td>\n",
       "      <td>1</td>\n",
       "      <td>женат / замужем</td>\n",
       "      <td>0</td>\n",
       "      <td>F</td>\n",
       "      <td>сотрудник</td>\n",
       "      <td>0</td>\n",
       "      <td>77069.234271</td>\n",
       "      <td>покупка коммерческой недвижимости</td>\n",
       "      <td>161404.247418</td>\n",
       "    </tr>\n",
       "    <tr>\n",
       "      <th>12</th>\n",
       "      <td>0.0</td>\n",
       "      <td>2194.220567</td>\n",
       "      <td>65</td>\n",
       "      <td>среднее</td>\n",
       "      <td>1</td>\n",
       "      <td>гражданский брак</td>\n",
       "      <td>1</td>\n",
       "      <td>M</td>\n",
       "      <td>пенсионер</td>\n",
       "      <td>0</td>\n",
       "      <td>137120.690001</td>\n",
       "      <td>сыграть свадьбу</td>\n",
       "      <td>137120.690001</td>\n",
       "    </tr>\n",
       "    <tr>\n",
       "      <th>13</th>\n",
       "      <td>0.0</td>\n",
       "      <td>1846.641941</td>\n",
       "      <td>54</td>\n",
       "      <td>неоконченное высшее</td>\n",
       "      <td>2</td>\n",
       "      <td>женат / замужем</td>\n",
       "      <td>0</td>\n",
       "      <td>F</td>\n",
       "      <td>сотрудник</td>\n",
       "      <td>0</td>\n",
       "      <td>130458.228857</td>\n",
       "      <td>приобретение автомобиля</td>\n",
       "      <td>161404.247418</td>\n",
       "    </tr>\n",
       "    <tr>\n",
       "      <th>14</th>\n",
       "      <td>0.0</td>\n",
       "      <td>1844.956182</td>\n",
       "      <td>56</td>\n",
       "      <td>высшее</td>\n",
       "      <td>0</td>\n",
       "      <td>гражданский брак</td>\n",
       "      <td>1</td>\n",
       "      <td>F</td>\n",
       "      <td>компаньон</td>\n",
       "      <td>1</td>\n",
       "      <td>165127.911772</td>\n",
       "      <td>покупка жилой недвижимости</td>\n",
       "      <td>202483.482019</td>\n",
       "    </tr>\n",
       "  </tbody>\n",
       "</table>\n",
       "</div>"
      ],
      "text/plain": [
       "    children  days_employed  dob_years            education  education_id  \\\n",
       "0        1.0    8437.673028         42               высшее             0   \n",
       "1        1.0    4024.803754         36              среднее             1   \n",
       "2        0.0    5623.422610         33              Среднее             1   \n",
       "3        3.0    4124.747207         32              среднее             1   \n",
       "4        0.0  340266.072047         53              среднее             1   \n",
       "5        0.0     926.185831         27               высшее             0   \n",
       "6        0.0    2879.202052         43               высшее             0   \n",
       "7        0.0     152.779569         50              СРЕДНЕЕ             1   \n",
       "8        2.0    6929.865299         35               ВЫСШЕЕ             0   \n",
       "9        0.0    2188.756445         41              среднее             1   \n",
       "10       2.0    4171.483647         36               высшее             0   \n",
       "11       0.0     792.701887         40              среднее             1   \n",
       "12       0.0    2194.220567         65              среднее             1   \n",
       "13       0.0    1846.641941         54  неоконченное высшее             2   \n",
       "14       0.0    1844.956182         56               высшее             0   \n",
       "\n",
       "       family_status  family_status_id gender income_type  debt  \\\n",
       "0    женат / замужем                 0      F   сотрудник     0   \n",
       "1    женат / замужем                 0      F   сотрудник     0   \n",
       "2    женат / замужем                 0      M   сотрудник     0   \n",
       "3    женат / замужем                 0      M   сотрудник     0   \n",
       "4   гражданский брак                 1      F   пенсионер     0   \n",
       "5   гражданский брак                 1      M   компаньон     0   \n",
       "6    женат / замужем                 0      F   компаньон     0   \n",
       "7    женат / замужем                 0      M   сотрудник     0   \n",
       "8   гражданский брак                 1      F   сотрудник     0   \n",
       "9    женат / замужем                 0      M   сотрудник     0   \n",
       "10   женат / замужем                 0      M   компаньон     0   \n",
       "11   женат / замужем                 0      F   сотрудник     0   \n",
       "12  гражданский брак                 1      M   пенсионер     0   \n",
       "13   женат / замужем                 0      F   сотрудник     0   \n",
       "14  гражданский брак                 1      F   компаньон     1   \n",
       "\n",
       "     total_income                            purpose    mean_income  \n",
       "0   253875.639453                      покупка жилья  161404.247418  \n",
       "1   112080.014102            приобретение автомобиля  161404.247418  \n",
       "2   145885.952297                      покупка жилья  161404.247418  \n",
       "3   267628.550329         дополнительное образование  161404.247418  \n",
       "4   158616.077870                    сыграть свадьбу  137120.690001  \n",
       "5   255763.565419                      покупка жилья  202483.482019  \n",
       "6   240525.971920                  операции с жильем  202483.482019  \n",
       "7   135823.934197                        образование  161404.247418  \n",
       "8    95856.832424              на проведение свадьбы  161404.247418  \n",
       "9   144425.938277            покупка жилья для семьи  161404.247418  \n",
       "10  113943.491460               покупка недвижимости  202483.482019  \n",
       "11   77069.234271  покупка коммерческой недвижимости  161404.247418  \n",
       "12  137120.690001                    сыграть свадьбу  137120.690001  \n",
       "13  130458.228857            приобретение автомобиля  161404.247418  \n",
       "14  165127.911772         покупка жилой недвижимости  202483.482019  "
      ]
     },
     "metadata": {},
     "output_type": "display_data"
    },
    {
     "name": "stdout",
     "output_type": "stream",
     "text": [
      "<class 'pandas.core.frame.DataFrame'>\n",
      "Int64Index: 21376 entries, 0 to 21423\n",
      "Data columns (total 13 columns):\n",
      " #   Column            Non-Null Count  Dtype  \n",
      "---  ------            --------------  -----  \n",
      " 0   children          21376 non-null  float64\n",
      " 1   days_employed     21376 non-null  float64\n",
      " 2   dob_years         21376 non-null  int64  \n",
      " 3   education         21376 non-null  object \n",
      " 4   education_id      21376 non-null  int64  \n",
      " 5   family_status     21376 non-null  object \n",
      " 6   family_status_id  21376 non-null  int64  \n",
      " 7   gender            21376 non-null  object \n",
      " 8   income_type       21376 non-null  object \n",
      " 9   debt              21376 non-null  int64  \n",
      " 10  total_income      21376 non-null  float64\n",
      " 11  purpose           21376 non-null  object \n",
      " 12  mean_income       21376 non-null  float64\n",
      "dtypes: float64(4), int64(4), object(5)\n",
      "memory usage: 2.3+ MB\n"
     ]
    }
   ],
   "source": [
    "display(df.head(15))\n",
    "df.info()"
   ]
  },
  {
   "cell_type": "markdown",
   "metadata": {},
   "source": [
    "**Вывод**"
   ]
  },
  {
   "cell_type": "markdown",
   "metadata": {},
   "source": [
    "Итого пропусков оказалось не так много, все они нами заполнены, таблица готова к дальнейшему анализу."
   ]
  },
  {
   "cell_type": "markdown",
   "metadata": {},
   "source": [
    "### Замена типа данных"
   ]
  },
  {
   "cell_type": "markdown",
   "metadata": {},
   "source": [
    "Заменим тип данных в столбцах `'days_employed'`, `'total_income'`, `'mean_income'` и выведем информацию. \n",
    "Столбец со стажем выбран потому, что нас интересует количество целых дней, столбцы с доходом для упрощения восприятия информации, и потому что копейки в суммах не несут в себе важной информации на общем фоне. Используем метод `astype`, потому что он проще."
   ]
  },
  {
   "cell_type": "code",
   "execution_count": 26,
   "metadata": {},
   "outputs": [
    {
     "name": "stdout",
     "output_type": "stream",
     "text": [
      "\n",
      "<class 'pandas.core.frame.DataFrame'>\n",
      "Int64Index: 21376 entries, 0 to 21423\n",
      "Data columns (total 13 columns):\n",
      " #   Column            Non-Null Count  Dtype  \n",
      "---  ------            --------------  -----  \n",
      " 0   children          21376 non-null  float64\n",
      " 1   days_employed     21376 non-null  int64  \n",
      " 2   dob_years         21376 non-null  int64  \n",
      " 3   education         21376 non-null  object \n",
      " 4   education_id      21376 non-null  int64  \n",
      " 5   family_status     21376 non-null  object \n",
      " 6   family_status_id  21376 non-null  int64  \n",
      " 7   gender            21376 non-null  object \n",
      " 8   income_type       21376 non-null  object \n",
      " 9   debt              21376 non-null  int64  \n",
      " 10  total_income      21376 non-null  int64  \n",
      " 11  purpose           21376 non-null  object \n",
      " 12  mean_income       21376 non-null  int64  \n",
      "dtypes: float64(1), int64(7), object(5)\n",
      "memory usage: 2.3+ MB\n"
     ]
    }
   ],
   "source": [
    "df['days_employed'] = df['days_employed'].astype('int')\n",
    "df['total_income'] = df['total_income'].astype('int')\n",
    "df['mean_income'] = df['mean_income'].astype('int')\n",
    "print()\n",
    "df.info()"
   ]
  },
  {
   "cell_type": "markdown",
   "metadata": {},
   "source": [
    "**Вывод**"
   ]
  },
  {
   "cell_type": "markdown",
   "metadata": {},
   "source": [
    "Смена типа данных прошла успешно, в нужных нам столбцах стоит `int64`."
   ]
  },
  {
   "cell_type": "markdown",
   "metadata": {},
   "source": [
    "### Обработка дубликатов"
   ]
  },
  {
   "cell_type": "markdown",
   "metadata": {},
   "source": [
    "Для начала выделим и удалим явные дубликаты с последующей проверкой:"
   ]
  },
  {
   "cell_type": "code",
   "execution_count": 27,
   "metadata": {},
   "outputs": [
    {
     "name": "stdout",
     "output_type": "stream",
     "text": [
      "Количество пропусков: 0\n"
     ]
    }
   ],
   "source": [
    "df = df.drop_duplicates().reset_index(drop=True)\n",
    "print(\"Количество пропусков: {}\".format(df.duplicated().sum()))"
   ]
  },
  {
   "cell_type": "markdown",
   "metadata": {},
   "source": [
    "Теперь займемся столбцом `'education'`. Всего в нем присутствует три варианта заполнения - строчные буквы, заглавные буквы, и одна заглавная буква в начале. Вероятно, таблица заполнялась разными людьми, или в какой-то период времени менялись требования к оформлению. Приведем все в единообразный вид и проверим:"
   ]
  },
  {
   "cell_type": "code",
   "execution_count": 28,
   "metadata": {},
   "outputs": [
    {
     "data": {
      "text/plain": [
       "0     высшее\n",
       "1    среднее\n",
       "2    среднее\n",
       "3    среднее\n",
       "4    среднее\n",
       "5     высшее\n",
       "6     высшее\n",
       "7    среднее\n",
       "8     высшее\n",
       "9    среднее\n",
       "Name: education, dtype: object"
      ]
     },
     "metadata": {},
     "output_type": "display_data"
    }
   ],
   "source": [
    "df['education'] = df['education'].str.lower()  # приведение к нижнему регистру\n",
    "display(df['education'].head(10))"
   ]
  },
  {
   "cell_type": "code",
   "execution_count": 29,
   "metadata": {},
   "outputs": [
    {
     "name": "stdout",
     "output_type": "stream",
     "text": [
      "Количество пропусков: 0\n"
     ]
    }
   ],
   "source": [
    "df = df.drop_duplicates().reset_index(drop=True)  # еще раз прогоняем проверку, чтобы не появилось новых дубликатов\n",
    "print(\"Количество пропусков: {}\".format(df.duplicated().sum()))"
   ]
  },
  {
   "cell_type": "markdown",
   "metadata": {},
   "source": [
    "Похожая проблема у нас была в столбце `'family_status'` со статусом `Не женат / не замужем`. Тут это больше похожа на опечатку, потому что встречается только в одном месте. Тем не менее, аналогично поправляем и этот столбец, затем проверяем. "
   ]
  },
  {
   "cell_type": "code",
   "execution_count": 30,
   "metadata": {},
   "outputs": [
    {
     "data": {
      "text/plain": [
       "21290          женат / замужем\n",
       "21291         гражданский брак\n",
       "21292    не женат / не замужем\n",
       "21293          женат / замужем\n",
       "21294    не женат / не замужем\n",
       "21295          женат / замужем\n",
       "21296          женат / замужем\n",
       "21297         гражданский брак\n",
       "21298          женат / замужем\n",
       "21299                в разводе\n",
       "21300         гражданский брак\n",
       "21301          женат / замужем\n",
       "21302         гражданский брак\n",
       "21303          женат / замужем\n",
       "21304          женат / замужем\n",
       "Name: family_status, dtype: object"
      ]
     },
     "metadata": {},
     "output_type": "display_data"
    }
   ],
   "source": [
    "df['family_status'] = df['family_status'].str.lower()  # приведение к нижнему регистру\n",
    "display(df['family_status'].tail(15))"
   ]
  },
  {
   "cell_type": "markdown",
   "metadata": {},
   "source": [
    "**Вывод**"
   ]
  },
  {
   "cell_type": "markdown",
   "metadata": {},
   "source": [
    "Дубликаты успешно обработаны, таблица приведена к единообразию. Часть дубликатов возникла, по всей видимости, из-за причин организационного характера, часть из-за невнимательности."
   ]
  },
  {
   "cell_type": "markdown",
   "metadata": {},
   "source": [
    "### Лемматизация"
   ]
  },
  {
   "cell_type": "markdown",
   "metadata": {},
   "source": [
    "Проведем лемматизацию столбца `'purpose'`, чтобы посмотреть, на что чаще всего люди берут кредит:"
   ]
  },
  {
   "cell_type": "code",
   "execution_count": 31,
   "metadata": {},
   "outputs": [
    {
     "name": "stdout",
     "output_type": "stream",
     "text": [
      "Counter({' ': 33366, ', ': 21304, 'недвижимость': 6311, 'покупка': 5856, 'жилье': 4428, 'автомобиль': 4273, 'образование': 3985, 'с': 2899, 'операция': 2586, 'свадьба': 2308, 'свой': 2216, 'на': 2206, 'строительство': 1869, 'высокий': 1365, 'получение': 1307, 'коммерческий': 1305, 'для': 1285, 'жилой': 1219, 'сделка': 937, 'заниматься': 900, 'дополнительный': 899, 'подержать': 847, 'проведение': 763, 'сыграть': 759, 'сдача': 648, 'семья': 637, 'собственный': 632, 'со': 624, 'ремонт': 604, 'приобретение': 457, 'профильный': 433, 'подержанный': 113, '\\n': 1})\n"
     ]
    }
   ],
   "source": [
    "from pymystem3 import Mystem  # импорт необходимых библиотек\n",
    "m = Mystem() \n",
    "\n",
    "from collections import Counter # импорт необходимых библиотек\n",
    "print(Counter(m.lemmatize(', '.join(df['purpose']))))\n",
    "\n"
   ]
  },
  {
   "cell_type": "markdown",
   "metadata": {},
   "source": [
    "Мы видим, что наиболее часто встречающиеся леммы, отражающие суть цели кредита, это покупка жилья, транспорта, получение образования и проведение свадьбы. Выведем итоговую цель кредита в отдельный столбец `'end_purpose'` через функцию и посчитаем количество целей:"
   ]
  },
  {
   "cell_type": "code",
   "execution_count": 32,
   "metadata": {
    "scrolled": true
   },
   "outputs": [
    {
     "name": "stdout",
     "output_type": "stream",
     "text": [
      "\n",
      "недвижимость    10739\n",
      "автомобиль       4273\n",
      "образование      3985\n",
      "свадьба          2308\n",
      "Name: end_purpose, dtype: int64\n",
      "\n"
     ]
    },
    {
     "data": {
      "text/html": [
       "<div>\n",
       "<style scoped>\n",
       "    .dataframe tbody tr th:only-of-type {\n",
       "        vertical-align: middle;\n",
       "    }\n",
       "\n",
       "    .dataframe tbody tr th {\n",
       "        vertical-align: top;\n",
       "    }\n",
       "\n",
       "    .dataframe thead th {\n",
       "        text-align: right;\n",
       "    }\n",
       "</style>\n",
       "<table border=\"1\" class=\"dataframe\">\n",
       "  <thead>\n",
       "    <tr style=\"text-align: right;\">\n",
       "      <th></th>\n",
       "      <th>children</th>\n",
       "      <th>days_employed</th>\n",
       "      <th>dob_years</th>\n",
       "      <th>education</th>\n",
       "      <th>education_id</th>\n",
       "      <th>family_status</th>\n",
       "      <th>family_status_id</th>\n",
       "      <th>gender</th>\n",
       "      <th>income_type</th>\n",
       "      <th>debt</th>\n",
       "      <th>total_income</th>\n",
       "      <th>purpose</th>\n",
       "      <th>mean_income</th>\n",
       "      <th>lemmas_purpose</th>\n",
       "      <th>end_purpose</th>\n",
       "    </tr>\n",
       "  </thead>\n",
       "  <tbody>\n",
       "    <tr>\n",
       "      <th>0</th>\n",
       "      <td>1.0</td>\n",
       "      <td>8437</td>\n",
       "      <td>42</td>\n",
       "      <td>высшее</td>\n",
       "      <td>0</td>\n",
       "      <td>женат / замужем</td>\n",
       "      <td>0</td>\n",
       "      <td>F</td>\n",
       "      <td>сотрудник</td>\n",
       "      <td>0</td>\n",
       "      <td>253875</td>\n",
       "      <td>покупка жилья</td>\n",
       "      <td>161404</td>\n",
       "      <td>[покупка,  , жилье, \\n]</td>\n",
       "      <td>недвижимость</td>\n",
       "    </tr>\n",
       "    <tr>\n",
       "      <th>1</th>\n",
       "      <td>1.0</td>\n",
       "      <td>4024</td>\n",
       "      <td>36</td>\n",
       "      <td>среднее</td>\n",
       "      <td>1</td>\n",
       "      <td>женат / замужем</td>\n",
       "      <td>0</td>\n",
       "      <td>F</td>\n",
       "      <td>сотрудник</td>\n",
       "      <td>0</td>\n",
       "      <td>112080</td>\n",
       "      <td>приобретение автомобиля</td>\n",
       "      <td>161404</td>\n",
       "      <td>[приобретение,  , автомобиль, \\n]</td>\n",
       "      <td>автомобиль</td>\n",
       "    </tr>\n",
       "    <tr>\n",
       "      <th>2</th>\n",
       "      <td>0.0</td>\n",
       "      <td>5623</td>\n",
       "      <td>33</td>\n",
       "      <td>среднее</td>\n",
       "      <td>1</td>\n",
       "      <td>женат / замужем</td>\n",
       "      <td>0</td>\n",
       "      <td>M</td>\n",
       "      <td>сотрудник</td>\n",
       "      <td>0</td>\n",
       "      <td>145885</td>\n",
       "      <td>покупка жилья</td>\n",
       "      <td>161404</td>\n",
       "      <td>[покупка,  , жилье, \\n]</td>\n",
       "      <td>недвижимость</td>\n",
       "    </tr>\n",
       "    <tr>\n",
       "      <th>3</th>\n",
       "      <td>3.0</td>\n",
       "      <td>4124</td>\n",
       "      <td>32</td>\n",
       "      <td>среднее</td>\n",
       "      <td>1</td>\n",
       "      <td>женат / замужем</td>\n",
       "      <td>0</td>\n",
       "      <td>M</td>\n",
       "      <td>сотрудник</td>\n",
       "      <td>0</td>\n",
       "      <td>267628</td>\n",
       "      <td>дополнительное образование</td>\n",
       "      <td>161404</td>\n",
       "      <td>[дополнительный,  , образование, \\n]</td>\n",
       "      <td>образование</td>\n",
       "    </tr>\n",
       "    <tr>\n",
       "      <th>4</th>\n",
       "      <td>0.0</td>\n",
       "      <td>340266</td>\n",
       "      <td>53</td>\n",
       "      <td>среднее</td>\n",
       "      <td>1</td>\n",
       "      <td>гражданский брак</td>\n",
       "      <td>1</td>\n",
       "      <td>F</td>\n",
       "      <td>пенсионер</td>\n",
       "      <td>0</td>\n",
       "      <td>158616</td>\n",
       "      <td>сыграть свадьбу</td>\n",
       "      <td>137120</td>\n",
       "      <td>[сыграть,  , свадьба, \\n]</td>\n",
       "      <td>свадьба</td>\n",
       "    </tr>\n",
       "    <tr>\n",
       "      <th>5</th>\n",
       "      <td>0.0</td>\n",
       "      <td>926</td>\n",
       "      <td>27</td>\n",
       "      <td>высшее</td>\n",
       "      <td>0</td>\n",
       "      <td>гражданский брак</td>\n",
       "      <td>1</td>\n",
       "      <td>M</td>\n",
       "      <td>компаньон</td>\n",
       "      <td>0</td>\n",
       "      <td>255763</td>\n",
       "      <td>покупка жилья</td>\n",
       "      <td>202483</td>\n",
       "      <td>[покупка,  , жилье, \\n]</td>\n",
       "      <td>недвижимость</td>\n",
       "    </tr>\n",
       "    <tr>\n",
       "      <th>6</th>\n",
       "      <td>0.0</td>\n",
       "      <td>2879</td>\n",
       "      <td>43</td>\n",
       "      <td>высшее</td>\n",
       "      <td>0</td>\n",
       "      <td>женат / замужем</td>\n",
       "      <td>0</td>\n",
       "      <td>F</td>\n",
       "      <td>компаньон</td>\n",
       "      <td>0</td>\n",
       "      <td>240525</td>\n",
       "      <td>операции с жильем</td>\n",
       "      <td>202483</td>\n",
       "      <td>[операция,  , с,  , жилье, \\n]</td>\n",
       "      <td>недвижимость</td>\n",
       "    </tr>\n",
       "    <tr>\n",
       "      <th>7</th>\n",
       "      <td>0.0</td>\n",
       "      <td>152</td>\n",
       "      <td>50</td>\n",
       "      <td>среднее</td>\n",
       "      <td>1</td>\n",
       "      <td>женат / замужем</td>\n",
       "      <td>0</td>\n",
       "      <td>M</td>\n",
       "      <td>сотрудник</td>\n",
       "      <td>0</td>\n",
       "      <td>135823</td>\n",
       "      <td>образование</td>\n",
       "      <td>161404</td>\n",
       "      <td>[образование, \\n]</td>\n",
       "      <td>образование</td>\n",
       "    </tr>\n",
       "    <tr>\n",
       "      <th>8</th>\n",
       "      <td>2.0</td>\n",
       "      <td>6929</td>\n",
       "      <td>35</td>\n",
       "      <td>высшее</td>\n",
       "      <td>0</td>\n",
       "      <td>гражданский брак</td>\n",
       "      <td>1</td>\n",
       "      <td>F</td>\n",
       "      <td>сотрудник</td>\n",
       "      <td>0</td>\n",
       "      <td>95856</td>\n",
       "      <td>на проведение свадьбы</td>\n",
       "      <td>161404</td>\n",
       "      <td>[на,  , проведение,  , свадьба, \\n]</td>\n",
       "      <td>свадьба</td>\n",
       "    </tr>\n",
       "    <tr>\n",
       "      <th>9</th>\n",
       "      <td>0.0</td>\n",
       "      <td>2188</td>\n",
       "      <td>41</td>\n",
       "      <td>среднее</td>\n",
       "      <td>1</td>\n",
       "      <td>женат / замужем</td>\n",
       "      <td>0</td>\n",
       "      <td>M</td>\n",
       "      <td>сотрудник</td>\n",
       "      <td>0</td>\n",
       "      <td>144425</td>\n",
       "      <td>покупка жилья для семьи</td>\n",
       "      <td>161404</td>\n",
       "      <td>[покупка,  , жилье,  , для,  , семья, \\n]</td>\n",
       "      <td>недвижимость</td>\n",
       "    </tr>\n",
       "  </tbody>\n",
       "</table>\n",
       "</div>"
      ],
      "text/plain": [
       "   children  days_employed  dob_years education  education_id  \\\n",
       "0       1.0           8437         42    высшее             0   \n",
       "1       1.0           4024         36   среднее             1   \n",
       "2       0.0           5623         33   среднее             1   \n",
       "3       3.0           4124         32   среднее             1   \n",
       "4       0.0         340266         53   среднее             1   \n",
       "5       0.0            926         27    высшее             0   \n",
       "6       0.0           2879         43    высшее             0   \n",
       "7       0.0            152         50   среднее             1   \n",
       "8       2.0           6929         35    высшее             0   \n",
       "9       0.0           2188         41   среднее             1   \n",
       "\n",
       "      family_status  family_status_id gender income_type  debt  total_income  \\\n",
       "0   женат / замужем                 0      F   сотрудник     0        253875   \n",
       "1   женат / замужем                 0      F   сотрудник     0        112080   \n",
       "2   женат / замужем                 0      M   сотрудник     0        145885   \n",
       "3   женат / замужем                 0      M   сотрудник     0        267628   \n",
       "4  гражданский брак                 1      F   пенсионер     0        158616   \n",
       "5  гражданский брак                 1      M   компаньон     0        255763   \n",
       "6   женат / замужем                 0      F   компаньон     0        240525   \n",
       "7   женат / замужем                 0      M   сотрудник     0        135823   \n",
       "8  гражданский брак                 1      F   сотрудник     0         95856   \n",
       "9   женат / замужем                 0      M   сотрудник     0        144425   \n",
       "\n",
       "                      purpose  mean_income  \\\n",
       "0               покупка жилья       161404   \n",
       "1     приобретение автомобиля       161404   \n",
       "2               покупка жилья       161404   \n",
       "3  дополнительное образование       161404   \n",
       "4             сыграть свадьбу       137120   \n",
       "5               покупка жилья       202483   \n",
       "6           операции с жильем       202483   \n",
       "7                 образование       161404   \n",
       "8       на проведение свадьбы       161404   \n",
       "9     покупка жилья для семьи       161404   \n",
       "\n",
       "                              lemmas_purpose   end_purpose  \n",
       "0                    [покупка,  , жилье, \\n]  недвижимость  \n",
       "1          [приобретение,  , автомобиль, \\n]    автомобиль  \n",
       "2                    [покупка,  , жилье, \\n]  недвижимость  \n",
       "3       [дополнительный,  , образование, \\n]   образование  \n",
       "4                  [сыграть,  , свадьба, \\n]       свадьба  \n",
       "5                    [покупка,  , жилье, \\n]  недвижимость  \n",
       "6             [операция,  , с,  , жилье, \\n]  недвижимость  \n",
       "7                          [образование, \\n]   образование  \n",
       "8        [на,  , проведение,  , свадьба, \\n]       свадьба  \n",
       "9  [покупка,  , жилье,  , для,  , семья, \\n]  недвижимость  "
      ]
     },
     "metadata": {},
     "output_type": "display_data"
    }
   ],
   "source": [
    "df['lemmas_purpose'] = df['purpose'].apply(m.lemmatize)  # столбец с леммами для наглядности\n",
    "def end_purpose(row):\n",
    "        if 'недвижимость' in row or 'жилье' in row:\n",
    "            return 'недвижимость'\n",
    "        if 'автомобиль' in row:\n",
    "            return 'автомобиль' \n",
    "        if 'свадьба' in row:\n",
    "            return 'свадьба'\n",
    "        if 'образование' in row:\n",
    "            return 'образование'\n",
    "        return 'другое'    \n",
    "df['end_purpose'] = df['lemmas_purpose'].apply(end_purpose)\n",
    "print()\n",
    "print(df['end_purpose'].value_counts())\n",
    "print()\n",
    "display(df.head(10))"
   ]
  },
  {
   "cell_type": "markdown",
   "metadata": {},
   "source": [
    "**Вывод**"
   ]
  },
  {
   "cell_type": "markdown",
   "metadata": {},
   "source": [
    "Все многобразие целей кредита мы свели в четыре основных, благодаря лемматизации. Так намного понятнее, зачем люди берут кредит."
   ]
  },
  {
   "cell_type": "markdown",
   "metadata": {},
   "source": [
    "### Категоризация данных"
   ]
  },
  {
   "cell_type": "markdown",
   "metadata": {},
   "source": [
    "Теперь приступим к категоризации данных. Первый столбец для категоризации - `'children'`. Очевидно, что первой категорией будут бездетные люди. Остальных мы поделили на две категории: многодетные и обычные семьи,и сходя из того, что в РФ многодетной семьей считается семья с тремя и более детьми. Посмотрим сначала распределение количества семей в зависимости от количества детей в целом:"
   ]
  },
  {
   "cell_type": "code",
   "execution_count": 33,
   "metadata": {},
   "outputs": [
    {
     "name": "stdout",
     "output_type": "stream",
     "text": [
      "0.0    14096\n",
      "1.0     4792\n",
      "2.0     2039\n",
      "3.0      328\n",
      "4.0       41\n",
      "5.0        9\n",
      "Name: children, dtype: int64\n"
     ]
    }
   ],
   "source": [
    "print(df['children'].value_counts().head(10))"
   ]
  },
  {
   "cell_type": "markdown",
   "metadata": {},
   "source": [
    "Напишем функцию для решения задачи категоризации в соответствии с вышеупомянутыми критериями:"
   ]
  },
  {
   "cell_type": "code",
   "execution_count": 34,
   "metadata": {},
   "outputs": [
    {
     "name": "stdout",
     "output_type": "stream",
     "text": [
      "многодетная\n"
     ]
    }
   ],
   "source": [
    "def family_type (num):\n",
    "    if num == 0:\n",
    "        return 'бездетная'\n",
    "    if num == 1 or num==2:\n",
    "        return 'обычная'\n",
    "    if num>=3:\n",
    "        return 'многодетная'\n",
    "    \n",
    "print(family_type(3))  # проверка работоспособности"
   ]
  },
  {
   "cell_type": "markdown",
   "metadata": {},
   "source": [
    "Добавим столбец в таблицу для наглядности."
   ]
  },
  {
   "cell_type": "code",
   "execution_count": 35,
   "metadata": {},
   "outputs": [
    {
     "data": {
      "text/html": [
       "<div>\n",
       "<style scoped>\n",
       "    .dataframe tbody tr th:only-of-type {\n",
       "        vertical-align: middle;\n",
       "    }\n",
       "\n",
       "    .dataframe tbody tr th {\n",
       "        vertical-align: top;\n",
       "    }\n",
       "\n",
       "    .dataframe thead th {\n",
       "        text-align: right;\n",
       "    }\n",
       "</style>\n",
       "<table border=\"1\" class=\"dataframe\">\n",
       "  <thead>\n",
       "    <tr style=\"text-align: right;\">\n",
       "      <th></th>\n",
       "      <th>children</th>\n",
       "      <th>days_employed</th>\n",
       "      <th>dob_years</th>\n",
       "      <th>education</th>\n",
       "      <th>education_id</th>\n",
       "      <th>family_status</th>\n",
       "      <th>family_status_id</th>\n",
       "      <th>gender</th>\n",
       "      <th>income_type</th>\n",
       "      <th>debt</th>\n",
       "      <th>total_income</th>\n",
       "      <th>purpose</th>\n",
       "      <th>mean_income</th>\n",
       "      <th>lemmas_purpose</th>\n",
       "      <th>end_purpose</th>\n",
       "      <th>family_type</th>\n",
       "    </tr>\n",
       "  </thead>\n",
       "  <tbody>\n",
       "    <tr>\n",
       "      <th>0</th>\n",
       "      <td>1.0</td>\n",
       "      <td>8437</td>\n",
       "      <td>42</td>\n",
       "      <td>высшее</td>\n",
       "      <td>0</td>\n",
       "      <td>женат / замужем</td>\n",
       "      <td>0</td>\n",
       "      <td>F</td>\n",
       "      <td>сотрудник</td>\n",
       "      <td>0</td>\n",
       "      <td>253875</td>\n",
       "      <td>покупка жилья</td>\n",
       "      <td>161404</td>\n",
       "      <td>[покупка,  , жилье, \\n]</td>\n",
       "      <td>недвижимость</td>\n",
       "      <td>обычная</td>\n",
       "    </tr>\n",
       "    <tr>\n",
       "      <th>1</th>\n",
       "      <td>1.0</td>\n",
       "      <td>4024</td>\n",
       "      <td>36</td>\n",
       "      <td>среднее</td>\n",
       "      <td>1</td>\n",
       "      <td>женат / замужем</td>\n",
       "      <td>0</td>\n",
       "      <td>F</td>\n",
       "      <td>сотрудник</td>\n",
       "      <td>0</td>\n",
       "      <td>112080</td>\n",
       "      <td>приобретение автомобиля</td>\n",
       "      <td>161404</td>\n",
       "      <td>[приобретение,  , автомобиль, \\n]</td>\n",
       "      <td>автомобиль</td>\n",
       "      <td>обычная</td>\n",
       "    </tr>\n",
       "    <tr>\n",
       "      <th>2</th>\n",
       "      <td>0.0</td>\n",
       "      <td>5623</td>\n",
       "      <td>33</td>\n",
       "      <td>среднее</td>\n",
       "      <td>1</td>\n",
       "      <td>женат / замужем</td>\n",
       "      <td>0</td>\n",
       "      <td>M</td>\n",
       "      <td>сотрудник</td>\n",
       "      <td>0</td>\n",
       "      <td>145885</td>\n",
       "      <td>покупка жилья</td>\n",
       "      <td>161404</td>\n",
       "      <td>[покупка,  , жилье, \\n]</td>\n",
       "      <td>недвижимость</td>\n",
       "      <td>бездетная</td>\n",
       "    </tr>\n",
       "    <tr>\n",
       "      <th>3</th>\n",
       "      <td>3.0</td>\n",
       "      <td>4124</td>\n",
       "      <td>32</td>\n",
       "      <td>среднее</td>\n",
       "      <td>1</td>\n",
       "      <td>женат / замужем</td>\n",
       "      <td>0</td>\n",
       "      <td>M</td>\n",
       "      <td>сотрудник</td>\n",
       "      <td>0</td>\n",
       "      <td>267628</td>\n",
       "      <td>дополнительное образование</td>\n",
       "      <td>161404</td>\n",
       "      <td>[дополнительный,  , образование, \\n]</td>\n",
       "      <td>образование</td>\n",
       "      <td>многодетная</td>\n",
       "    </tr>\n",
       "    <tr>\n",
       "      <th>4</th>\n",
       "      <td>0.0</td>\n",
       "      <td>340266</td>\n",
       "      <td>53</td>\n",
       "      <td>среднее</td>\n",
       "      <td>1</td>\n",
       "      <td>гражданский брак</td>\n",
       "      <td>1</td>\n",
       "      <td>F</td>\n",
       "      <td>пенсионер</td>\n",
       "      <td>0</td>\n",
       "      <td>158616</td>\n",
       "      <td>сыграть свадьбу</td>\n",
       "      <td>137120</td>\n",
       "      <td>[сыграть,  , свадьба, \\n]</td>\n",
       "      <td>свадьба</td>\n",
       "      <td>бездетная</td>\n",
       "    </tr>\n",
       "    <tr>\n",
       "      <th>5</th>\n",
       "      <td>0.0</td>\n",
       "      <td>926</td>\n",
       "      <td>27</td>\n",
       "      <td>высшее</td>\n",
       "      <td>0</td>\n",
       "      <td>гражданский брак</td>\n",
       "      <td>1</td>\n",
       "      <td>M</td>\n",
       "      <td>компаньон</td>\n",
       "      <td>0</td>\n",
       "      <td>255763</td>\n",
       "      <td>покупка жилья</td>\n",
       "      <td>202483</td>\n",
       "      <td>[покупка,  , жилье, \\n]</td>\n",
       "      <td>недвижимость</td>\n",
       "      <td>бездетная</td>\n",
       "    </tr>\n",
       "    <tr>\n",
       "      <th>6</th>\n",
       "      <td>0.0</td>\n",
       "      <td>2879</td>\n",
       "      <td>43</td>\n",
       "      <td>высшее</td>\n",
       "      <td>0</td>\n",
       "      <td>женат / замужем</td>\n",
       "      <td>0</td>\n",
       "      <td>F</td>\n",
       "      <td>компаньон</td>\n",
       "      <td>0</td>\n",
       "      <td>240525</td>\n",
       "      <td>операции с жильем</td>\n",
       "      <td>202483</td>\n",
       "      <td>[операция,  , с,  , жилье, \\n]</td>\n",
       "      <td>недвижимость</td>\n",
       "      <td>бездетная</td>\n",
       "    </tr>\n",
       "    <tr>\n",
       "      <th>7</th>\n",
       "      <td>0.0</td>\n",
       "      <td>152</td>\n",
       "      <td>50</td>\n",
       "      <td>среднее</td>\n",
       "      <td>1</td>\n",
       "      <td>женат / замужем</td>\n",
       "      <td>0</td>\n",
       "      <td>M</td>\n",
       "      <td>сотрудник</td>\n",
       "      <td>0</td>\n",
       "      <td>135823</td>\n",
       "      <td>образование</td>\n",
       "      <td>161404</td>\n",
       "      <td>[образование, \\n]</td>\n",
       "      <td>образование</td>\n",
       "      <td>бездетная</td>\n",
       "    </tr>\n",
       "    <tr>\n",
       "      <th>8</th>\n",
       "      <td>2.0</td>\n",
       "      <td>6929</td>\n",
       "      <td>35</td>\n",
       "      <td>высшее</td>\n",
       "      <td>0</td>\n",
       "      <td>гражданский брак</td>\n",
       "      <td>1</td>\n",
       "      <td>F</td>\n",
       "      <td>сотрудник</td>\n",
       "      <td>0</td>\n",
       "      <td>95856</td>\n",
       "      <td>на проведение свадьбы</td>\n",
       "      <td>161404</td>\n",
       "      <td>[на,  , проведение,  , свадьба, \\n]</td>\n",
       "      <td>свадьба</td>\n",
       "      <td>обычная</td>\n",
       "    </tr>\n",
       "    <tr>\n",
       "      <th>9</th>\n",
       "      <td>0.0</td>\n",
       "      <td>2188</td>\n",
       "      <td>41</td>\n",
       "      <td>среднее</td>\n",
       "      <td>1</td>\n",
       "      <td>женат / замужем</td>\n",
       "      <td>0</td>\n",
       "      <td>M</td>\n",
       "      <td>сотрудник</td>\n",
       "      <td>0</td>\n",
       "      <td>144425</td>\n",
       "      <td>покупка жилья для семьи</td>\n",
       "      <td>161404</td>\n",
       "      <td>[покупка,  , жилье,  , для,  , семья, \\n]</td>\n",
       "      <td>недвижимость</td>\n",
       "      <td>бездетная</td>\n",
       "    </tr>\n",
       "  </tbody>\n",
       "</table>\n",
       "</div>"
      ],
      "text/plain": [
       "   children  days_employed  dob_years education  education_id  \\\n",
       "0       1.0           8437         42    высшее             0   \n",
       "1       1.0           4024         36   среднее             1   \n",
       "2       0.0           5623         33   среднее             1   \n",
       "3       3.0           4124         32   среднее             1   \n",
       "4       0.0         340266         53   среднее             1   \n",
       "5       0.0            926         27    высшее             0   \n",
       "6       0.0           2879         43    высшее             0   \n",
       "7       0.0            152         50   среднее             1   \n",
       "8       2.0           6929         35    высшее             0   \n",
       "9       0.0           2188         41   среднее             1   \n",
       "\n",
       "      family_status  family_status_id gender income_type  debt  total_income  \\\n",
       "0   женат / замужем                 0      F   сотрудник     0        253875   \n",
       "1   женат / замужем                 0      F   сотрудник     0        112080   \n",
       "2   женат / замужем                 0      M   сотрудник     0        145885   \n",
       "3   женат / замужем                 0      M   сотрудник     0        267628   \n",
       "4  гражданский брак                 1      F   пенсионер     0        158616   \n",
       "5  гражданский брак                 1      M   компаньон     0        255763   \n",
       "6   женат / замужем                 0      F   компаньон     0        240525   \n",
       "7   женат / замужем                 0      M   сотрудник     0        135823   \n",
       "8  гражданский брак                 1      F   сотрудник     0         95856   \n",
       "9   женат / замужем                 0      M   сотрудник     0        144425   \n",
       "\n",
       "                      purpose  mean_income  \\\n",
       "0               покупка жилья       161404   \n",
       "1     приобретение автомобиля       161404   \n",
       "2               покупка жилья       161404   \n",
       "3  дополнительное образование       161404   \n",
       "4             сыграть свадьбу       137120   \n",
       "5               покупка жилья       202483   \n",
       "6           операции с жильем       202483   \n",
       "7                 образование       161404   \n",
       "8       на проведение свадьбы       161404   \n",
       "9     покупка жилья для семьи       161404   \n",
       "\n",
       "                              lemmas_purpose   end_purpose  family_type  \n",
       "0                    [покупка,  , жилье, \\n]  недвижимость      обычная  \n",
       "1          [приобретение,  , автомобиль, \\n]    автомобиль      обычная  \n",
       "2                    [покупка,  , жилье, \\n]  недвижимость    бездетная  \n",
       "3       [дополнительный,  , образование, \\n]   образование  многодетная  \n",
       "4                  [сыграть,  , свадьба, \\n]       свадьба    бездетная  \n",
       "5                    [покупка,  , жилье, \\n]  недвижимость    бездетная  \n",
       "6             [операция,  , с,  , жилье, \\n]  недвижимость    бездетная  \n",
       "7                          [образование, \\n]   образование    бездетная  \n",
       "8        [на,  , проведение,  , свадьба, \\n]       свадьба      обычная  \n",
       "9  [покупка,  , жилье,  , для,  , семья, \\n]  недвижимость    бездетная  "
      ]
     },
     "metadata": {},
     "output_type": "display_data"
    }
   ],
   "source": [
    "df['family_type'] = df['children'].apply(family_type)\n",
    "display(df.head(10))"
   ]
  },
  {
   "cell_type": "markdown",
   "metadata": {},
   "source": [
    "Подсчитаем значение в каждой категории:"
   ]
  },
  {
   "cell_type": "code",
   "execution_count": 36,
   "metadata": {},
   "outputs": [
    {
     "data": {
      "text/plain": [
       "бездетная      14096\n",
       "обычная         6831\n",
       "многодетная      378\n",
       "Name: family_type, dtype: int64"
      ]
     },
     "execution_count": 36,
     "metadata": {},
     "output_type": "execute_result"
    }
   ],
   "source": [
    "df['family_type'].value_counts()"
   ]
  },
  {
   "cell_type": "markdown",
   "metadata": {},
   "source": [
    "Также нам нужно разбить замещиков на категории по уровню дохода. Для начала посмотрим размер максимального, минимального и медианного дохода. Медианный доход выбран из-за очень большой дельты между минимумом и максимумом."
   ]
  },
  {
   "cell_type": "code",
   "execution_count": 37,
   "metadata": {},
   "outputs": [
    {
     "name": "stdout",
     "output_type": "stream",
     "text": [
      "Максимальный доход: 2265604\n",
      "\n",
      "Минимальный доход: 20667\n",
      "\n",
      "Медианный доход: 151876.0\n"
     ]
    }
   ],
   "source": [
    "print(\"Максимальный доход: {}\".format(df['total_income'].max()))\n",
    "print()\n",
    "print(\"Минимальный доход: {}\".format(df['total_income'].min()))\n",
    "print()\n",
    "print(\"Медианный доход: {}\".format(df['total_income'].median()))"
   ]
  },
  {
   "cell_type": "markdown",
   "metadata": {},
   "source": [
    "Согласно статистическим данным, медианный доход в РФ составляет около 40000 рублей. Возьмем все, что ниже, за первую категорию. Следующей планкой мы решили взять 150000, потому что это медианное значение. Далее идут планки 300000 и свыше 300000, так как эти значения позволяют нам не слишком сильно раздувать количество категорий, и при этом получить определенный статистически достоверный материал, потому что экстремумы достаточно немногочисленны по отношению к двум другим категориям. Тем не менее, деление условное и может быть пересмотренно с заданным шагом.\n",
    "\n",
    "Напишем функцию для категоризации в соответствии с заданными параметрами:"
   ]
  },
  {
   "cell_type": "code",
   "execution_count": 38,
   "metadata": {},
   "outputs": [
    {
     "name": "stdout",
     "output_type": "stream",
     "text": [
      "От 40000 до 150000\n"
     ]
    }
   ],
   "source": [
    "def income_type (num):\n",
    "    if num < 40000:\n",
    "        return 'Менее 40000'\n",
    "    if 40000<num<150000:\n",
    "        return 'От 40000 до 150000'\n",
    "    if 150000<num<300000:\n",
    "        return 'От 150000 до 300000'\n",
    "    if num>300000:\n",
    "        return 'Свыше 300000'\n",
    "    \n",
    "    \n",
    "print(income_type (112000))  # тест функции"
   ]
  },
  {
   "cell_type": "markdown",
   "metadata": {},
   "source": [
    "Добавим столбец в таблицу для наглядности."
   ]
  },
  {
   "cell_type": "code",
   "execution_count": 39,
   "metadata": {},
   "outputs": [
    {
     "data": {
      "text/html": [
       "<div>\n",
       "<style scoped>\n",
       "    .dataframe tbody tr th:only-of-type {\n",
       "        vertical-align: middle;\n",
       "    }\n",
       "\n",
       "    .dataframe tbody tr th {\n",
       "        vertical-align: top;\n",
       "    }\n",
       "\n",
       "    .dataframe thead th {\n",
       "        text-align: right;\n",
       "    }\n",
       "</style>\n",
       "<table border=\"1\" class=\"dataframe\">\n",
       "  <thead>\n",
       "    <tr style=\"text-align: right;\">\n",
       "      <th></th>\n",
       "      <th>children</th>\n",
       "      <th>days_employed</th>\n",
       "      <th>dob_years</th>\n",
       "      <th>education</th>\n",
       "      <th>education_id</th>\n",
       "      <th>family_status</th>\n",
       "      <th>family_status_id</th>\n",
       "      <th>gender</th>\n",
       "      <th>income_type</th>\n",
       "      <th>debt</th>\n",
       "      <th>total_income</th>\n",
       "      <th>purpose</th>\n",
       "      <th>mean_income</th>\n",
       "      <th>lemmas_purpose</th>\n",
       "      <th>end_purpose</th>\n",
       "      <th>family_type</th>\n",
       "      <th>income_level</th>\n",
       "    </tr>\n",
       "  </thead>\n",
       "  <tbody>\n",
       "    <tr>\n",
       "      <th>0</th>\n",
       "      <td>1.0</td>\n",
       "      <td>8437</td>\n",
       "      <td>42</td>\n",
       "      <td>высшее</td>\n",
       "      <td>0</td>\n",
       "      <td>женат / замужем</td>\n",
       "      <td>0</td>\n",
       "      <td>F</td>\n",
       "      <td>сотрудник</td>\n",
       "      <td>0</td>\n",
       "      <td>253875</td>\n",
       "      <td>покупка жилья</td>\n",
       "      <td>161404</td>\n",
       "      <td>[покупка,  , жилье, \\n]</td>\n",
       "      <td>недвижимость</td>\n",
       "      <td>обычная</td>\n",
       "      <td>От 150000 до 300000</td>\n",
       "    </tr>\n",
       "    <tr>\n",
       "      <th>1</th>\n",
       "      <td>1.0</td>\n",
       "      <td>4024</td>\n",
       "      <td>36</td>\n",
       "      <td>среднее</td>\n",
       "      <td>1</td>\n",
       "      <td>женат / замужем</td>\n",
       "      <td>0</td>\n",
       "      <td>F</td>\n",
       "      <td>сотрудник</td>\n",
       "      <td>0</td>\n",
       "      <td>112080</td>\n",
       "      <td>приобретение автомобиля</td>\n",
       "      <td>161404</td>\n",
       "      <td>[приобретение,  , автомобиль, \\n]</td>\n",
       "      <td>автомобиль</td>\n",
       "      <td>обычная</td>\n",
       "      <td>От 40000 до 150000</td>\n",
       "    </tr>\n",
       "    <tr>\n",
       "      <th>2</th>\n",
       "      <td>0.0</td>\n",
       "      <td>5623</td>\n",
       "      <td>33</td>\n",
       "      <td>среднее</td>\n",
       "      <td>1</td>\n",
       "      <td>женат / замужем</td>\n",
       "      <td>0</td>\n",
       "      <td>M</td>\n",
       "      <td>сотрудник</td>\n",
       "      <td>0</td>\n",
       "      <td>145885</td>\n",
       "      <td>покупка жилья</td>\n",
       "      <td>161404</td>\n",
       "      <td>[покупка,  , жилье, \\n]</td>\n",
       "      <td>недвижимость</td>\n",
       "      <td>бездетная</td>\n",
       "      <td>От 40000 до 150000</td>\n",
       "    </tr>\n",
       "    <tr>\n",
       "      <th>3</th>\n",
       "      <td>3.0</td>\n",
       "      <td>4124</td>\n",
       "      <td>32</td>\n",
       "      <td>среднее</td>\n",
       "      <td>1</td>\n",
       "      <td>женат / замужем</td>\n",
       "      <td>0</td>\n",
       "      <td>M</td>\n",
       "      <td>сотрудник</td>\n",
       "      <td>0</td>\n",
       "      <td>267628</td>\n",
       "      <td>дополнительное образование</td>\n",
       "      <td>161404</td>\n",
       "      <td>[дополнительный,  , образование, \\n]</td>\n",
       "      <td>образование</td>\n",
       "      <td>многодетная</td>\n",
       "      <td>От 150000 до 300000</td>\n",
       "    </tr>\n",
       "    <tr>\n",
       "      <th>4</th>\n",
       "      <td>0.0</td>\n",
       "      <td>340266</td>\n",
       "      <td>53</td>\n",
       "      <td>среднее</td>\n",
       "      <td>1</td>\n",
       "      <td>гражданский брак</td>\n",
       "      <td>1</td>\n",
       "      <td>F</td>\n",
       "      <td>пенсионер</td>\n",
       "      <td>0</td>\n",
       "      <td>158616</td>\n",
       "      <td>сыграть свадьбу</td>\n",
       "      <td>137120</td>\n",
       "      <td>[сыграть,  , свадьба, \\n]</td>\n",
       "      <td>свадьба</td>\n",
       "      <td>бездетная</td>\n",
       "      <td>От 150000 до 300000</td>\n",
       "    </tr>\n",
       "    <tr>\n",
       "      <th>5</th>\n",
       "      <td>0.0</td>\n",
       "      <td>926</td>\n",
       "      <td>27</td>\n",
       "      <td>высшее</td>\n",
       "      <td>0</td>\n",
       "      <td>гражданский брак</td>\n",
       "      <td>1</td>\n",
       "      <td>M</td>\n",
       "      <td>компаньон</td>\n",
       "      <td>0</td>\n",
       "      <td>255763</td>\n",
       "      <td>покупка жилья</td>\n",
       "      <td>202483</td>\n",
       "      <td>[покупка,  , жилье, \\n]</td>\n",
       "      <td>недвижимость</td>\n",
       "      <td>бездетная</td>\n",
       "      <td>От 150000 до 300000</td>\n",
       "    </tr>\n",
       "    <tr>\n",
       "      <th>6</th>\n",
       "      <td>0.0</td>\n",
       "      <td>2879</td>\n",
       "      <td>43</td>\n",
       "      <td>высшее</td>\n",
       "      <td>0</td>\n",
       "      <td>женат / замужем</td>\n",
       "      <td>0</td>\n",
       "      <td>F</td>\n",
       "      <td>компаньон</td>\n",
       "      <td>0</td>\n",
       "      <td>240525</td>\n",
       "      <td>операции с жильем</td>\n",
       "      <td>202483</td>\n",
       "      <td>[операция,  , с,  , жилье, \\n]</td>\n",
       "      <td>недвижимость</td>\n",
       "      <td>бездетная</td>\n",
       "      <td>От 150000 до 300000</td>\n",
       "    </tr>\n",
       "    <tr>\n",
       "      <th>7</th>\n",
       "      <td>0.0</td>\n",
       "      <td>152</td>\n",
       "      <td>50</td>\n",
       "      <td>среднее</td>\n",
       "      <td>1</td>\n",
       "      <td>женат / замужем</td>\n",
       "      <td>0</td>\n",
       "      <td>M</td>\n",
       "      <td>сотрудник</td>\n",
       "      <td>0</td>\n",
       "      <td>135823</td>\n",
       "      <td>образование</td>\n",
       "      <td>161404</td>\n",
       "      <td>[образование, \\n]</td>\n",
       "      <td>образование</td>\n",
       "      <td>бездетная</td>\n",
       "      <td>От 40000 до 150000</td>\n",
       "    </tr>\n",
       "    <tr>\n",
       "      <th>8</th>\n",
       "      <td>2.0</td>\n",
       "      <td>6929</td>\n",
       "      <td>35</td>\n",
       "      <td>высшее</td>\n",
       "      <td>0</td>\n",
       "      <td>гражданский брак</td>\n",
       "      <td>1</td>\n",
       "      <td>F</td>\n",
       "      <td>сотрудник</td>\n",
       "      <td>0</td>\n",
       "      <td>95856</td>\n",
       "      <td>на проведение свадьбы</td>\n",
       "      <td>161404</td>\n",
       "      <td>[на,  , проведение,  , свадьба, \\n]</td>\n",
       "      <td>свадьба</td>\n",
       "      <td>обычная</td>\n",
       "      <td>От 40000 до 150000</td>\n",
       "    </tr>\n",
       "    <tr>\n",
       "      <th>9</th>\n",
       "      <td>0.0</td>\n",
       "      <td>2188</td>\n",
       "      <td>41</td>\n",
       "      <td>среднее</td>\n",
       "      <td>1</td>\n",
       "      <td>женат / замужем</td>\n",
       "      <td>0</td>\n",
       "      <td>M</td>\n",
       "      <td>сотрудник</td>\n",
       "      <td>0</td>\n",
       "      <td>144425</td>\n",
       "      <td>покупка жилья для семьи</td>\n",
       "      <td>161404</td>\n",
       "      <td>[покупка,  , жилье,  , для,  , семья, \\n]</td>\n",
       "      <td>недвижимость</td>\n",
       "      <td>бездетная</td>\n",
       "      <td>От 40000 до 150000</td>\n",
       "    </tr>\n",
       "  </tbody>\n",
       "</table>\n",
       "</div>"
      ],
      "text/plain": [
       "   children  days_employed  dob_years education  education_id  \\\n",
       "0       1.0           8437         42    высшее             0   \n",
       "1       1.0           4024         36   среднее             1   \n",
       "2       0.0           5623         33   среднее             1   \n",
       "3       3.0           4124         32   среднее             1   \n",
       "4       0.0         340266         53   среднее             1   \n",
       "5       0.0            926         27    высшее             0   \n",
       "6       0.0           2879         43    высшее             0   \n",
       "7       0.0            152         50   среднее             1   \n",
       "8       2.0           6929         35    высшее             0   \n",
       "9       0.0           2188         41   среднее             1   \n",
       "\n",
       "      family_status  family_status_id gender income_type  debt  total_income  \\\n",
       "0   женат / замужем                 0      F   сотрудник     0        253875   \n",
       "1   женат / замужем                 0      F   сотрудник     0        112080   \n",
       "2   женат / замужем                 0      M   сотрудник     0        145885   \n",
       "3   женат / замужем                 0      M   сотрудник     0        267628   \n",
       "4  гражданский брак                 1      F   пенсионер     0        158616   \n",
       "5  гражданский брак                 1      M   компаньон     0        255763   \n",
       "6   женат / замужем                 0      F   компаньон     0        240525   \n",
       "7   женат / замужем                 0      M   сотрудник     0        135823   \n",
       "8  гражданский брак                 1      F   сотрудник     0         95856   \n",
       "9   женат / замужем                 0      M   сотрудник     0        144425   \n",
       "\n",
       "                      purpose  mean_income  \\\n",
       "0               покупка жилья       161404   \n",
       "1     приобретение автомобиля       161404   \n",
       "2               покупка жилья       161404   \n",
       "3  дополнительное образование       161404   \n",
       "4             сыграть свадьбу       137120   \n",
       "5               покупка жилья       202483   \n",
       "6           операции с жильем       202483   \n",
       "7                 образование       161404   \n",
       "8       на проведение свадьбы       161404   \n",
       "9     покупка жилья для семьи       161404   \n",
       "\n",
       "                              lemmas_purpose   end_purpose  family_type  \\\n",
       "0                    [покупка,  , жилье, \\n]  недвижимость      обычная   \n",
       "1          [приобретение,  , автомобиль, \\n]    автомобиль      обычная   \n",
       "2                    [покупка,  , жилье, \\n]  недвижимость    бездетная   \n",
       "3       [дополнительный,  , образование, \\n]   образование  многодетная   \n",
       "4                  [сыграть,  , свадьба, \\n]       свадьба    бездетная   \n",
       "5                    [покупка,  , жилье, \\n]  недвижимость    бездетная   \n",
       "6             [операция,  , с,  , жилье, \\n]  недвижимость    бездетная   \n",
       "7                          [образование, \\n]   образование    бездетная   \n",
       "8        [на,  , проведение,  , свадьба, \\n]       свадьба      обычная   \n",
       "9  [покупка,  , жилье,  , для,  , семья, \\n]  недвижимость    бездетная   \n",
       "\n",
       "          income_level  \n",
       "0  От 150000 до 300000  \n",
       "1   От 40000 до 150000  \n",
       "2   От 40000 до 150000  \n",
       "3  От 150000 до 300000  \n",
       "4  От 150000 до 300000  \n",
       "5  От 150000 до 300000  \n",
       "6  От 150000 до 300000  \n",
       "7   От 40000 до 150000  \n",
       "8   От 40000 до 150000  \n",
       "9   От 40000 до 150000  "
      ]
     },
     "metadata": {},
     "output_type": "display_data"
    }
   ],
   "source": [
    "df['income_level'] = df['total_income'].apply(income_type)\n",
    "display(df.head(10))"
   ]
  },
  {
   "cell_type": "markdown",
   "metadata": {},
   "source": [
    "**Вывод**"
   ]
  },
  {
   "cell_type": "markdown",
   "metadata": {},
   "source": [
    "Мы провели категоризацю, которой нам недоставало (по уровню дохода, количеству детей в семье) и теперь готовы постараться ответить на вопросы исследования."
   ]
  },
  {
   "cell_type": "markdown",
   "metadata": {},
   "source": [
    "## Ответы на вопросы исследования"
   ]
  },
  {
   "cell_type": "markdown",
   "metadata": {},
   "source": [
    "- Есть ли зависимость между наличием детей и возвратом кредита в срок?"
   ]
  },
  {
   "cell_type": "markdown",
   "metadata": {},
   "source": [
    "Составим сводную таблицу с группировкой по количеству детей в семье, и посмотрим, каков уровень задолженности в каждой из них."
   ]
  },
  {
   "cell_type": "code",
   "execution_count": 40,
   "metadata": {},
   "outputs": [
    {
     "data": {
      "text/html": [
       "<div>\n",
       "<style scoped>\n",
       "    .dataframe tbody tr th:only-of-type {\n",
       "        vertical-align: middle;\n",
       "    }\n",
       "\n",
       "    .dataframe tbody tr th {\n",
       "        vertical-align: top;\n",
       "    }\n",
       "\n",
       "    .dataframe thead th {\n",
       "        text-align: right;\n",
       "    }\n",
       "</style>\n",
       "<table border=\"1\" class=\"dataframe\">\n",
       "  <thead>\n",
       "    <tr style=\"text-align: right;\">\n",
       "      <th></th>\n",
       "      <th>debt</th>\n",
       "      <th>total</th>\n",
       "      <th>ratio</th>\n",
       "    </tr>\n",
       "    <tr>\n",
       "      <th>family_type</th>\n",
       "      <th></th>\n",
       "      <th></th>\n",
       "      <th></th>\n",
       "    </tr>\n",
       "  </thead>\n",
       "  <tbody>\n",
       "    <tr>\n",
       "      <th>бездетная</th>\n",
       "      <td>1066</td>\n",
       "      <td>14096</td>\n",
       "      <td>0.924376</td>\n",
       "    </tr>\n",
       "    <tr>\n",
       "      <th>многодетная</th>\n",
       "      <td>31</td>\n",
       "      <td>378</td>\n",
       "      <td>0.917989</td>\n",
       "    </tr>\n",
       "    <tr>\n",
       "      <th>обычная</th>\n",
       "      <td>635</td>\n",
       "      <td>6831</td>\n",
       "      <td>0.907041</td>\n",
       "    </tr>\n",
       "  </tbody>\n",
       "</table>\n",
       "</div>"
      ],
      "text/plain": [
       "             debt  total     ratio\n",
       "family_type                       \n",
       "бездетная    1066  14096  0.924376\n",
       "многодетная    31    378  0.917989\n",
       "обычная       635   6831  0.907041"
      ]
     },
     "metadata": {},
     "output_type": "display_data"
    }
   ],
   "source": [
    "df_children_debts = df.pivot_table(index=['family_type'], values='debt', aggfunc='sum')  # считаем количество должников\n",
    "df_children_debts['total'] = df.groupby('family_type')['debt'].count()  # считаем, сколько всего людей\n",
    "df_children_debts['ratio'] = (df_children_debts['total']-df_children_debts['debt'])/df_children_debts['total']  # коэффициент возврата\n",
    "display(df_children_debts.head(10))\n"
   ]
  },
  {
   "cell_type": "markdown",
   "metadata": {},
   "source": [
    "**Вывод**"
   ]
  },
  {
   "cell_type": "markdown",
   "metadata": {},
   "source": [
    "Из таблицы мы видим, что люди, не имеющие детей, чаще возвращают кредиты вовремя. Вероятно, это связано с отсутствием лишних затрат на содержание детей и бОльшим количеством свободных средств. Также мы видим, что многодетные семьи лучше возвращают кредиты, чем семьи с одним-двумя детьми. Вероятно, многодетные семьи уже лучше научились распределять финансы и планировать расходы, чем те, для кого дети это новый опыт."
   ]
  },
  {
   "cell_type": "markdown",
   "metadata": {},
   "source": [
    "- Есть ли зависимость между семейным положением и возвратом кредита в срок?"
   ]
  },
  {
   "cell_type": "markdown",
   "metadata": {},
   "source": [
    "Составим сводную таблицу с группировкой по семейному положению, и посмотрим, каков уровень задолженности в каждой из них."
   ]
  },
  {
   "cell_type": "code",
   "execution_count": 41,
   "metadata": {},
   "outputs": [
    {
     "data": {
      "text/html": [
       "<div>\n",
       "<style scoped>\n",
       "    .dataframe tbody tr th:only-of-type {\n",
       "        vertical-align: middle;\n",
       "    }\n",
       "\n",
       "    .dataframe tbody tr th {\n",
       "        vertical-align: top;\n",
       "    }\n",
       "\n",
       "    .dataframe thead th {\n",
       "        text-align: right;\n",
       "    }\n",
       "</style>\n",
       "<table border=\"1\" class=\"dataframe\">\n",
       "  <thead>\n",
       "    <tr style=\"text-align: right;\">\n",
       "      <th></th>\n",
       "      <th>debt</th>\n",
       "      <th>total</th>\n",
       "      <th>ratio</th>\n",
       "    </tr>\n",
       "    <tr>\n",
       "      <th>family_status</th>\n",
       "      <th></th>\n",
       "      <th></th>\n",
       "      <th></th>\n",
       "    </tr>\n",
       "  </thead>\n",
       "  <tbody>\n",
       "    <tr>\n",
       "      <th>в разводе</th>\n",
       "      <td>85</td>\n",
       "      <td>1181</td>\n",
       "      <td>0.928027</td>\n",
       "    </tr>\n",
       "    <tr>\n",
       "      <th>вдовец / вдова</th>\n",
       "      <td>62</td>\n",
       "      <td>950</td>\n",
       "      <td>0.934737</td>\n",
       "    </tr>\n",
       "    <tr>\n",
       "      <th>гражданский брак</th>\n",
       "      <td>386</td>\n",
       "      <td>4124</td>\n",
       "      <td>0.906402</td>\n",
       "    </tr>\n",
       "    <tr>\n",
       "      <th>женат / замужем</th>\n",
       "      <td>926</td>\n",
       "      <td>12261</td>\n",
       "      <td>0.924476</td>\n",
       "    </tr>\n",
       "    <tr>\n",
       "      <th>не женат / не замужем</th>\n",
       "      <td>273</td>\n",
       "      <td>2789</td>\n",
       "      <td>0.902115</td>\n",
       "    </tr>\n",
       "  </tbody>\n",
       "</table>\n",
       "</div>"
      ],
      "text/plain": [
       "                       debt  total     ratio\n",
       "family_status                               \n",
       "в разводе                85   1181  0.928027\n",
       "вдовец / вдова           62    950  0.934737\n",
       "гражданский брак        386   4124  0.906402\n",
       "женат / замужем         926  12261  0.924476\n",
       "не женат / не замужем   273   2789  0.902115"
      ]
     },
     "metadata": {},
     "output_type": "display_data"
    }
   ],
   "source": [
    "df_family_debts = df.pivot_table(index=['family_status'], values='debt', aggfunc='sum')  # считаем количество должников\n",
    "df_family_debts['total'] = df.groupby('family_status')['debt'].count()  # считаем, сколько всего людей\n",
    "df_family_debts['ratio'] = (df_family_debts['total']-df_family_debts['debt'])/df_family_debts['total']  # коэффициент возврата\n",
    "display(df_family_debts.head(10))"
   ]
  },
  {
   "cell_type": "markdown",
   "metadata": {},
   "source": [
    "**Вывод**"
   ]
  },
  {
   "cell_type": "markdown",
   "metadata": {},
   "source": [
    "Люди, которые не состоят в браке или состоят в гражданском браке, хуже возвращают кредиты. Семейные люди выплачивают кредиты лучше. \n",
    "\n",
    "Также интересно, что разведенные и овдовевшие имеют наилучший коэффициент выплат. Возможно, это происходит потому, что в семейной жизни люди привыкают иметь финансовую подушку и планировать затраты лучше, и когдла остаются одни, продолжают закладывать этот запас на себя по привычке."
   ]
  },
  {
   "cell_type": "markdown",
   "metadata": {},
   "source": [
    "- Есть ли зависимость между уровнем дохода и возвратом кредита в срок?"
   ]
  },
  {
   "cell_type": "markdown",
   "metadata": {},
   "source": [
    "Составим сводную таблицу с группировкой по категориям дохода, и посмотрим, каков уровень задолженности в каждой из них."
   ]
  },
  {
   "cell_type": "code",
   "execution_count": 42,
   "metadata": {},
   "outputs": [
    {
     "data": {
      "text/html": [
       "<div>\n",
       "<style scoped>\n",
       "    .dataframe tbody tr th:only-of-type {\n",
       "        vertical-align: middle;\n",
       "    }\n",
       "\n",
       "    .dataframe tbody tr th {\n",
       "        vertical-align: top;\n",
       "    }\n",
       "\n",
       "    .dataframe thead th {\n",
       "        text-align: right;\n",
       "    }\n",
       "</style>\n",
       "<table border=\"1\" class=\"dataframe\">\n",
       "  <thead>\n",
       "    <tr style=\"text-align: right;\">\n",
       "      <th></th>\n",
       "      <th>debt</th>\n",
       "      <th>total</th>\n",
       "      <th>ratio</th>\n",
       "    </tr>\n",
       "    <tr>\n",
       "      <th>income_level</th>\n",
       "      <th></th>\n",
       "      <th></th>\n",
       "      <th></th>\n",
       "    </tr>\n",
       "  </thead>\n",
       "  <tbody>\n",
       "    <tr>\n",
       "      <th>Менее 40000</th>\n",
       "      <td>10</td>\n",
       "      <td>123</td>\n",
       "      <td>0.918699</td>\n",
       "    </tr>\n",
       "    <tr>\n",
       "      <th>От 150000 до 300000</th>\n",
       "      <td>751</td>\n",
       "      <td>9351</td>\n",
       "      <td>0.919688</td>\n",
       "    </tr>\n",
       "    <tr>\n",
       "      <th>От 40000 до 150000</th>\n",
       "      <td>865</td>\n",
       "      <td>10356</td>\n",
       "      <td>0.916474</td>\n",
       "    </tr>\n",
       "    <tr>\n",
       "      <th>Свыше 300000</th>\n",
       "      <td>106</td>\n",
       "      <td>1475</td>\n",
       "      <td>0.928136</td>\n",
       "    </tr>\n",
       "  </tbody>\n",
       "</table>\n",
       "</div>"
      ],
      "text/plain": [
       "                     debt  total     ratio\n",
       "income_level                              \n",
       "Менее 40000            10    123  0.918699\n",
       "От 150000 до 300000   751   9351  0.919688\n",
       "От 40000 до 150000    865  10356  0.916474\n",
       "Свыше 300000          106   1475  0.928136"
      ]
     },
     "metadata": {},
     "output_type": "display_data"
    }
   ],
   "source": [
    "df_income_debts = df.pivot_table(index=['income_level'], values='debt', aggfunc='sum')  # считаем количество должников\n",
    "df_income_debts['total'] = df.groupby('income_level')['debt'].count()  # считаем, сколько всего людей\n",
    "df_income_debts['ratio'] = (df_income_debts['total']-df_income_debts['debt'])/df_income_debts['total']  # коэффициент возврата\n",
    "display(df_income_debts.head(10))"
   ]
  },
  {
   "cell_type": "markdown",
   "metadata": {},
   "source": [
    "**Вывод**"
   ]
  },
  {
   "cell_type": "markdown",
   "metadata": {},
   "source": [
    "Нет ярко выраженной взаимосвязи между уровнем дохода и возвратом кредита в срок. Интересно, что люди с  доходом ниже медианного по России выплачивают кредиты с таким же коэффициентом, как и люди с доходом в несколько раз больше. Вероятно, вопрос самодисциплины. \n",
    "\n",
    "Люди с высокими доходами выплачивают кредиты лучше, вероятно, потому что у них просто остаются незадействованные средства."
   ]
  },
  {
   "cell_type": "markdown",
   "metadata": {},
   "source": [
    "- Как разные цели кредита влияют на его возврат в срок?"
   ]
  },
  {
   "cell_type": "markdown",
   "metadata": {},
   "source": [
    "Составим сводную таблицу с группировкой по целям кредита, и посмотрим, каков уровень задолженности в каждой из них."
   ]
  },
  {
   "cell_type": "code",
   "execution_count": 43,
   "metadata": {},
   "outputs": [
    {
     "data": {
      "text/html": [
       "<div>\n",
       "<style scoped>\n",
       "    .dataframe tbody tr th:only-of-type {\n",
       "        vertical-align: middle;\n",
       "    }\n",
       "\n",
       "    .dataframe tbody tr th {\n",
       "        vertical-align: top;\n",
       "    }\n",
       "\n",
       "    .dataframe thead th {\n",
       "        text-align: right;\n",
       "    }\n",
       "</style>\n",
       "<table border=\"1\" class=\"dataframe\">\n",
       "  <thead>\n",
       "    <tr style=\"text-align: right;\">\n",
       "      <th></th>\n",
       "      <th>debt</th>\n",
       "      <th>total</th>\n",
       "      <th>ratio</th>\n",
       "    </tr>\n",
       "    <tr>\n",
       "      <th>end_purpose</th>\n",
       "      <th></th>\n",
       "      <th></th>\n",
       "      <th></th>\n",
       "    </tr>\n",
       "  </thead>\n",
       "  <tbody>\n",
       "    <tr>\n",
       "      <th>автомобиль</th>\n",
       "      <td>399</td>\n",
       "      <td>4273</td>\n",
       "      <td>0.906623</td>\n",
       "    </tr>\n",
       "    <tr>\n",
       "      <th>недвижимость</th>\n",
       "      <td>779</td>\n",
       "      <td>10739</td>\n",
       "      <td>0.927461</td>\n",
       "    </tr>\n",
       "    <tr>\n",
       "      <th>образование</th>\n",
       "      <td>370</td>\n",
       "      <td>3985</td>\n",
       "      <td>0.907152</td>\n",
       "    </tr>\n",
       "    <tr>\n",
       "      <th>свадьба</th>\n",
       "      <td>184</td>\n",
       "      <td>2308</td>\n",
       "      <td>0.920277</td>\n",
       "    </tr>\n",
       "  </tbody>\n",
       "</table>\n",
       "</div>"
      ],
      "text/plain": [
       "              debt  total     ratio\n",
       "end_purpose                        \n",
       "автомобиль     399   4273  0.906623\n",
       "недвижимость   779  10739  0.927461\n",
       "образование    370   3985  0.907152\n",
       "свадьба        184   2308  0.920277"
      ]
     },
     "metadata": {},
     "output_type": "display_data"
    }
   ],
   "source": [
    "df_end_purpose_debts = df.pivot_table(index=['end_purpose'], values='debt', aggfunc='sum')  # считаем количество должников\n",
    "df_end_purpose_debts['total'] = df.groupby('end_purpose')['debt'].count()  # считаем, сколько всего людей\n",
    "df_end_purpose_debts['ratio'] = (df_end_purpose_debts['total']-df_end_purpose_debts['debt'])/df_end_purpose_debts['total']  # коэффициент возврата\n",
    "display(df_end_purpose_debts.head(10))\n"
   ]
  },
  {
   "cell_type": "markdown",
   "metadata": {},
   "source": [
    "**Вывод**"
   ]
  },
  {
   "cell_type": "markdown",
   "metadata": {},
   "source": [
    "Лучше всего выплачивают ипотеку, и это понятно, потому что это очень важная покупка и люди дорожат приобретенным жильем. Удивительно, что люди хорошо выплачивают свадебные кредиты, учитывая статистику разводов в РФ.\n",
    "\n",
    "Хуже платят автокредиты и образовательные кредиты. Вероятно, в случае с автомобилями сказывается доступность автокредитов, люди берут их, не просчитывая наперед возможные последствия, и потом просто не могут платить. Образовательные кредиты могут платить хуже, потому что люди берут кредиты в расчете найти потом высокооплачиваемую работу, но это удается не всем."
   ]
  },
  {
   "cell_type": "markdown",
   "metadata": {},
   "source": [
    "## Шаг 4. Общий вывод"
   ]
  },
  {
   "cell_type": "markdown",
   "metadata": {},
   "source": [
    "Бездетные люди чаще возвращают кредиты вовремя. Вероятно, это связано с отсутствием лишних затрат на содержание детей и бОльшим количеством свободных средств. \n",
    "\n",
    "Многодетные семьи лучше возвращают кредиты, чем семьи с одним-двумя детьми. Вероятно, многодетные семьи уже лучше научились распределять финансы и планировать расходы, чем те, для кого дети это новый опыт.\n",
    "\n",
    "Люди, которые не состоят в браке или состоят в гражданском браке, хуже возвращают кредиты. Семейные люди выплачивают кредиты лучше. \n",
    "\n",
    "Разведенные и овдовевшие имеют наилучший коэффициент выплат. Возможно, это происходит потому, что в семейной жизни люди привыкают иметь финансовую подушку и планировать затраты лучше, и когда остаются одни, продолжают закладывать этот запас на себя по привычке.\n",
    "\n",
    "Нет ярко выраженной взаимосвязи между уровнем дохода и возвратом кредита в срок. Интересно, что люди с  доходом ниже медианного по России выплачивают кредиты с таким же коэффициентом, как и люди с доходом в несколько раз больше. Вероятно, вопрос самодисциплины. \n",
    "\n",
    "Люди с высокими доходами выплачивают кредиты лучше, вероятно, потому что у них просто остаются незадействованные средства.\n",
    "\n",
    "Лучше всего выплачивают ипотеку, и это понятно, потому что это очень важная покупка и люди дорожат приобретенным жильем. Удивительно, что люди хорошо выплачивают свадебные кредиты, учитывая статистику разводов в РФ.\n",
    "\n",
    "Хуже платят автокредиты и образовательные кредиты. Вероятно, в случае с автомобилями сказывается доступность автокредитов, люди берут их, не просчитывая наперед возможные последствия, и потом просто не могут платить. Образовательные кредиты могут платить хуже, потому что люди берут кредиты в расчете найти потом высокооплачиваемую работу, но это удается не всем."
   ]
  }
 ],
 "metadata": {
  "ExecuteTimeLog": [
   {
    "duration": 69,
    "start_time": "2022-01-19T20:00:13.410Z"
   },
   {
    "duration": 318,
    "start_time": "2022-01-22T11:29:50.771Z"
   },
   {
    "duration": 724,
    "start_time": "2022-01-22T11:30:00.135Z"
   },
   {
    "duration": 7,
    "start_time": "2022-01-22T11:30:04.475Z"
   },
   {
    "duration": 5,
    "start_time": "2022-01-22T11:30:54.042Z"
   },
   {
    "duration": 306,
    "start_time": "2022-01-22T11:32:10.041Z"
   },
   {
    "duration": 5,
    "start_time": "2022-01-22T11:32:24.826Z"
   },
   {
    "duration": 9,
    "start_time": "2022-01-22T11:32:37.456Z"
   },
   {
    "duration": 4,
    "start_time": "2022-01-22T11:35:51.666Z"
   },
   {
    "duration": 4,
    "start_time": "2022-01-22T11:36:20.880Z"
   },
   {
    "duration": 4,
    "start_time": "2022-01-22T11:36:25.914Z"
   },
   {
    "duration": 4,
    "start_time": "2022-01-22T11:36:33.668Z"
   },
   {
    "duration": 575,
    "start_time": "2022-01-22T11:38:01.278Z"
   },
   {
    "duration": 69,
    "start_time": "2022-01-22T11:40:37.589Z"
   },
   {
    "duration": 9,
    "start_time": "2022-01-22T11:40:44.202Z"
   },
   {
    "duration": 10,
    "start_time": "2022-01-22T11:47:30.125Z"
   },
   {
    "duration": 13,
    "start_time": "2022-01-22T11:49:58.517Z"
   },
   {
    "duration": 4,
    "start_time": "2022-01-22T11:50:12.690Z"
   },
   {
    "duration": 5,
    "start_time": "2022-01-22T11:50:27.082Z"
   },
   {
    "duration": 6,
    "start_time": "2022-01-22T11:50:48.514Z"
   },
   {
    "duration": 5,
    "start_time": "2022-01-22T11:50:55.262Z"
   },
   {
    "duration": 5,
    "start_time": "2022-01-22T11:51:11.504Z"
   },
   {
    "duration": 5,
    "start_time": "2022-01-22T11:53:43.812Z"
   },
   {
    "duration": 5,
    "start_time": "2022-01-22T11:53:59.018Z"
   },
   {
    "duration": 6,
    "start_time": "2022-01-22T11:54:13.412Z"
   },
   {
    "duration": 3,
    "start_time": "2022-01-22T11:55:15.468Z"
   },
   {
    "duration": 5,
    "start_time": "2022-01-22T11:55:34.715Z"
   },
   {
    "duration": 5,
    "start_time": "2022-01-22T11:55:42.224Z"
   },
   {
    "duration": 249,
    "start_time": "2022-01-22T11:56:08.754Z"
   },
   {
    "duration": 6,
    "start_time": "2022-01-22T11:56:13.627Z"
   },
   {
    "duration": 6,
    "start_time": "2022-01-22T12:01:02.296Z"
   },
   {
    "duration": 7523,
    "start_time": "2022-01-22T12:04:56.428Z"
   },
   {
    "duration": -28,
    "start_time": "2022-01-22T12:05:14.933Z"
   },
   {
    "duration": 6,
    "start_time": "2022-01-22T12:05:18.339Z"
   },
   {
    "duration": 69,
    "start_time": "2022-01-22T12:05:24.414Z"
   },
   {
    "duration": 9,
    "start_time": "2022-01-22T12:05:28.270Z"
   },
   {
    "duration": 16,
    "start_time": "2022-01-22T12:05:30.106Z"
   },
   {
    "duration": 15,
    "start_time": "2022-01-22T12:07:53.888Z"
   },
   {
    "duration": 324,
    "start_time": "2022-01-22T12:08:15.667Z"
   },
   {
    "duration": 15,
    "start_time": "2022-01-22T12:12:22.905Z"
   },
   {
    "duration": 272,
    "start_time": "2022-01-22T12:12:48.059Z"
   },
   {
    "duration": 21,
    "start_time": "2022-01-22T12:13:00.920Z"
   },
   {
    "duration": 249,
    "start_time": "2022-01-22T12:14:17.278Z"
   },
   {
    "duration": 67,
    "start_time": "2022-01-22T12:14:42.064Z"
   },
   {
    "duration": 10,
    "start_time": "2022-01-22T12:14:45.880Z"
   },
   {
    "duration": 16,
    "start_time": "2022-01-22T12:14:52.252Z"
   },
   {
    "duration": 6,
    "start_time": "2022-01-22T12:14:54.429Z"
   },
   {
    "duration": 4,
    "start_time": "2022-01-22T12:14:56.171Z"
   },
   {
    "duration": 276,
    "start_time": "2022-01-22T12:14:58.055Z"
   },
   {
    "duration": 4,
    "start_time": "2022-01-22T12:17:10.504Z"
   },
   {
    "duration": 5,
    "start_time": "2022-01-22T12:17:19.871Z"
   },
   {
    "duration": 13,
    "start_time": "2022-01-22T12:17:28.917Z"
   },
   {
    "duration": 366,
    "start_time": "2022-01-22T12:18:07.013Z"
   },
   {
    "duration": 10,
    "start_time": "2022-01-22T12:18:36.236Z"
   },
   {
    "duration": 260,
    "start_time": "2022-01-22T12:19:45.305Z"
   },
   {
    "duration": 294,
    "start_time": "2022-01-22T12:21:26.486Z"
   },
   {
    "duration": 257,
    "start_time": "2022-01-22T12:21:34.642Z"
   },
   {
    "duration": 68,
    "start_time": "2022-01-22T12:34:20.844Z"
   },
   {
    "duration": 6,
    "start_time": "2022-01-22T12:36:03.848Z"
   },
   {
    "duration": 6,
    "start_time": "2022-01-22T12:36:29.329Z"
   },
   {
    "duration": 135,
    "start_time": "2022-01-22T12:38:26.565Z"
   },
   {
    "duration": 84,
    "start_time": "2022-01-22T12:39:09.605Z"
   },
   {
    "duration": 270,
    "start_time": "2022-01-22T12:39:41.271Z"
   },
   {
    "duration": 261,
    "start_time": "2022-01-22T12:40:16.433Z"
   },
   {
    "duration": 10,
    "start_time": "2022-01-22T12:40:49.854Z"
   },
   {
    "duration": 251,
    "start_time": "2022-01-22T12:41:05.506Z"
   },
   {
    "duration": 8,
    "start_time": "2022-01-22T12:41:07.965Z"
   },
   {
    "duration": 6,
    "start_time": "2022-01-22T12:41:27.049Z"
   },
   {
    "duration": 14,
    "start_time": "2022-01-22T12:42:28.892Z"
   },
   {
    "duration": 7,
    "start_time": "2022-01-22T12:42:48.606Z"
   },
   {
    "duration": 93,
    "start_time": "2022-01-22T12:43:13.726Z"
   },
   {
    "duration": 6,
    "start_time": "2022-01-22T12:43:26.050Z"
   },
   {
    "duration": 252,
    "start_time": "2022-01-22T12:44:38.228Z"
   },
   {
    "duration": 268,
    "start_time": "2022-01-22T12:44:44.995Z"
   },
   {
    "duration": 301,
    "start_time": "2022-01-22T12:44:57.837Z"
   },
   {
    "duration": 399,
    "start_time": "2022-01-22T12:45:00.654Z"
   },
   {
    "duration": 6,
    "start_time": "2022-01-22T12:45:19.935Z"
   },
   {
    "duration": 242,
    "start_time": "2022-01-22T12:46:24.480Z"
   },
   {
    "duration": 7,
    "start_time": "2022-01-22T12:46:30.225Z"
   },
   {
    "duration": 5,
    "start_time": "2022-01-22T12:47:31.492Z"
   },
   {
    "duration": 6,
    "start_time": "2022-01-22T12:47:45.852Z"
   },
   {
    "duration": 274,
    "start_time": "2022-01-22T12:49:39.177Z"
   },
   {
    "duration": 10,
    "start_time": "2022-01-22T12:49:43.545Z"
   },
   {
    "duration": -25,
    "start_time": "2022-01-22T12:50:12.399Z"
   },
   {
    "duration": 7248,
    "start_time": "2022-01-22T12:50:15.080Z"
   },
   {
    "duration": -25,
    "start_time": "2022-01-22T12:50:22.356Z"
   },
   {
    "duration": 7,
    "start_time": "2022-01-22T12:50:24.675Z"
   },
   {
    "duration": 7413,
    "start_time": "2022-01-22T12:50:30.078Z"
   },
   {
    "duration": 5,
    "start_time": "2022-01-22T12:50:48.124Z"
   },
   {
    "duration": 6,
    "start_time": "2022-01-22T12:51:13.629Z"
   },
   {
    "duration": 7,
    "start_time": "2022-01-22T12:55:49.851Z"
   },
   {
    "duration": 5,
    "start_time": "2022-01-22T12:56:07.355Z"
   },
   {
    "duration": 12,
    "start_time": "2022-01-22T13:00:28.552Z"
   },
   {
    "duration": 6,
    "start_time": "2022-01-22T13:00:44.338Z"
   },
   {
    "duration": 7,
    "start_time": "2022-01-22T13:02:19.186Z"
   },
   {
    "duration": 6938,
    "start_time": "2022-01-22T13:02:59.574Z"
   },
   {
    "duration": 7161,
    "start_time": "2022-01-22T13:03:16.160Z"
   },
   {
    "duration": 6,
    "start_time": "2022-01-22T13:03:30.744Z"
   },
   {
    "duration": 267,
    "start_time": "2022-01-22T13:04:14.538Z"
   },
   {
    "duration": 5,
    "start_time": "2022-01-22T13:04:24.239Z"
   },
   {
    "duration": 7,
    "start_time": "2022-01-22T13:04:42.178Z"
   },
   {
    "duration": 8,
    "start_time": "2022-01-22T13:07:46.679Z"
   },
   {
    "duration": 23,
    "start_time": "2022-01-22T13:16:47.320Z"
   },
   {
    "duration": 6,
    "start_time": "2022-01-22T13:25:49.284Z"
   },
   {
    "duration": 6,
    "start_time": "2022-01-22T13:25:56.891Z"
   },
   {
    "duration": 6,
    "start_time": "2022-01-22T13:25:59.174Z"
   },
   {
    "duration": 15,
    "start_time": "2022-01-22T13:26:11.739Z"
   },
   {
    "duration": 260,
    "start_time": "2022-01-22T13:28:35.252Z"
   },
   {
    "duration": 273,
    "start_time": "2022-01-22T13:28:52.317Z"
   },
   {
    "duration": 239,
    "start_time": "2022-01-22T13:29:34.367Z"
   },
   {
    "duration": 267,
    "start_time": "2022-01-22T13:33:56.060Z"
   },
   {
    "duration": 357,
    "start_time": "2022-01-22T13:35:09.594Z"
   },
   {
    "duration": 67,
    "start_time": "2022-01-22T13:35:18.284Z"
   },
   {
    "duration": 5,
    "start_time": "2022-01-22T13:35:22.974Z"
   },
   {
    "duration": 7,
    "start_time": "2022-01-22T13:35:24.345Z"
   },
   {
    "duration": 7,
    "start_time": "2022-01-22T13:35:25.308Z"
   },
   {
    "duration": 7,
    "start_time": "2022-01-22T13:35:27.586Z"
   },
   {
    "duration": 6,
    "start_time": "2022-01-22T13:35:29.318Z"
   },
   {
    "duration": 10,
    "start_time": "2022-01-22T13:35:30.322Z"
   },
   {
    "duration": 7,
    "start_time": "2022-01-22T13:35:31.426Z"
   },
   {
    "duration": 9,
    "start_time": "2022-01-22T13:35:33.966Z"
   },
   {
    "duration": 9,
    "start_time": "2022-01-22T13:35:36.152Z"
   },
   {
    "duration": 23,
    "start_time": "2022-01-22T13:35:38.400Z"
   },
   {
    "duration": 6,
    "start_time": "2022-01-22T13:35:39.401Z"
   },
   {
    "duration": 7,
    "start_time": "2022-01-22T13:35:40.141Z"
   },
   {
    "duration": 10,
    "start_time": "2022-01-22T13:35:44.324Z"
   },
   {
    "duration": 22,
    "start_time": "2022-01-22T13:35:45.433Z"
   },
   {
    "duration": 6,
    "start_time": "2022-01-22T13:35:47.528Z"
   },
   {
    "duration": 6,
    "start_time": "2022-01-22T13:35:48.326Z"
   },
   {
    "duration": 5,
    "start_time": "2022-01-22T13:35:49.894Z"
   },
   {
    "duration": 15,
    "start_time": "2022-01-22T13:35:50.849Z"
   },
   {
    "duration": 6,
    "start_time": "2022-01-22T13:43:44.163Z"
   },
   {
    "duration": 281,
    "start_time": "2022-01-22T13:46:15.501Z"
   },
   {
    "duration": 266,
    "start_time": "2022-01-22T13:48:28.648Z"
   },
   {
    "duration": 255,
    "start_time": "2022-01-22T13:48:49.538Z"
   },
   {
    "duration": 252,
    "start_time": "2022-01-22T13:53:04.931Z"
   },
   {
    "duration": 8,
    "start_time": "2022-01-22T13:53:56.709Z"
   },
   {
    "duration": 7,
    "start_time": "2022-01-22T13:54:03.267Z"
   },
   {
    "duration": 278,
    "start_time": "2022-01-22T13:54:20.398Z"
   },
   {
    "duration": 15,
    "start_time": "2022-01-22T13:54:24.856Z"
   },
   {
    "duration": 4,
    "start_time": "2022-01-22T13:55:30.221Z"
   },
   {
    "duration": 8,
    "start_time": "2022-01-22T13:56:33.161Z"
   },
   {
    "duration": 126,
    "start_time": "2022-01-22T13:57:45.701Z"
   },
   {
    "duration": 94,
    "start_time": "2022-01-22T13:57:56.670Z"
   },
   {
    "duration": 90,
    "start_time": "2022-01-22T13:58:15.780Z"
   },
   {
    "duration": 16,
    "start_time": "2022-01-22T13:58:25.001Z"
   },
   {
    "duration": 14,
    "start_time": "2022-01-22T13:58:47.970Z"
   },
   {
    "duration": 5,
    "start_time": "2022-01-22T14:03:09.803Z"
   },
   {
    "duration": 7,
    "start_time": "2022-01-22T14:03:26.932Z"
   },
   {
    "duration": 79,
    "start_time": "2022-01-22T14:05:03.597Z"
   },
   {
    "duration": 8,
    "start_time": "2022-01-22T14:05:22.205Z"
   },
   {
    "duration": 10,
    "start_time": "2022-01-22T14:09:07.043Z"
   },
   {
    "duration": 7,
    "start_time": "2022-01-22T14:09:23.456Z"
   },
   {
    "duration": 80,
    "start_time": "2022-01-22T14:11:10.956Z"
   },
   {
    "duration": 27,
    "start_time": "2022-01-22T14:11:14.586Z"
   },
   {
    "duration": 5,
    "start_time": "2022-01-22T14:12:12.212Z"
   },
   {
    "duration": 67,
    "start_time": "2022-01-22T14:13:00.884Z"
   },
   {
    "duration": 332,
    "start_time": "2022-01-22T14:15:01.207Z"
   },
   {
    "duration": 281,
    "start_time": "2022-01-22T14:16:16.591Z"
   },
   {
    "duration": 5,
    "start_time": "2022-01-22T14:16:27.478Z"
   },
   {
    "duration": 7,
    "start_time": "2022-01-22T14:17:41.444Z"
   },
   {
    "duration": 24,
    "start_time": "2022-01-22T14:17:44.111Z"
   },
   {
    "duration": 7,
    "start_time": "2022-01-22T14:25:57.868Z"
   },
   {
    "duration": 17,
    "start_time": "2022-01-22T14:26:01.800Z"
   },
   {
    "duration": 14,
    "start_time": "2022-01-22T14:26:02.672Z"
   },
   {
    "duration": 259,
    "start_time": "2022-01-22T14:26:09.485Z"
   },
   {
    "duration": 6,
    "start_time": "2022-01-22T14:26:35.300Z"
   },
   {
    "duration": 8,
    "start_time": "2022-01-22T14:26:47.908Z"
   },
   {
    "duration": 84,
    "start_time": "2022-01-22T14:27:34.636Z"
   },
   {
    "duration": 6,
    "start_time": "2022-01-22T14:27:45.342Z"
   },
   {
    "duration": 6,
    "start_time": "2022-01-22T14:28:00.732Z"
   },
   {
    "duration": 1752,
    "start_time": "2022-01-22T14:28:20.131Z"
   },
   {
    "duration": 11,
    "start_time": "2022-01-22T14:28:28.152Z"
   },
   {
    "duration": 4,
    "start_time": "2022-01-22T14:28:49.556Z"
   },
   {
    "duration": 4,
    "start_time": "2022-01-22T14:28:56.720Z"
   },
   {
    "duration": 280,
    "start_time": "2022-01-22T14:29:25.745Z"
   },
   {
    "duration": 15,
    "start_time": "2022-01-22T14:31:51.611Z"
   },
   {
    "duration": -11,
    "start_time": "2022-01-22T14:32:12.908Z"
   },
   {
    "duration": 6876,
    "start_time": "2022-01-22T14:32:16.027Z"
   },
   {
    "duration": 13,
    "start_time": "2022-01-22T14:32:58.950Z"
   },
   {
    "duration": 6,
    "start_time": "2022-01-22T14:33:20.985Z"
   },
   {
    "duration": 15,
    "start_time": "2022-01-22T14:33:26.394Z"
   },
   {
    "duration": 14,
    "start_time": "2022-01-22T14:36:05.861Z"
   },
   {
    "duration": 24,
    "start_time": "2022-01-22T14:36:32.110Z"
   },
   {
    "duration": 14,
    "start_time": "2022-01-22T14:36:37.622Z"
   },
   {
    "duration": 17,
    "start_time": "2022-01-22T15:02:54.258Z"
   },
   {
    "duration": 28,
    "start_time": "2022-01-22T15:03:16.645Z"
   },
   {
    "duration": 26,
    "start_time": "2022-01-22T15:03:22.403Z"
   },
   {
    "duration": 57,
    "start_time": "2022-01-22T15:03:25.862Z"
   },
   {
    "duration": 39,
    "start_time": "2022-01-22T15:03:53.210Z"
   },
   {
    "duration": 270,
    "start_time": "2022-01-22T15:18:47.900Z"
   },
   {
    "duration": 119,
    "start_time": "2022-01-22T15:19:06.939Z"
   },
   {
    "duration": 324,
    "start_time": "2022-01-22T15:19:11.253Z"
   },
   {
    "duration": 85,
    "start_time": "2022-01-22T15:19:15.106Z"
   },
   {
    "duration": 8,
    "start_time": "2022-01-22T15:19:15.332Z"
   },
   {
    "duration": 114,
    "start_time": "2022-01-22T15:19:17.899Z"
   },
   {
    "duration": 298,
    "start_time": "2022-01-22T15:24:32.639Z"
   },
   {
    "duration": 6,
    "start_time": "2022-01-22T15:25:20.725Z"
   },
   {
    "duration": 10,
    "start_time": "2022-01-22T15:25:44.300Z"
   },
   {
    "duration": 10,
    "start_time": "2022-01-22T15:25:59.859Z"
   },
   {
    "duration": 10,
    "start_time": "2022-01-22T18:41:57.273Z"
   },
   {
    "duration": 10,
    "start_time": "2022-01-22T18:42:02.302Z"
   },
   {
    "duration": 13,
    "start_time": "2022-01-22T20:51:06.525Z"
   },
   {
    "duration": 76,
    "start_time": "2022-01-22T20:52:18.023Z"
   },
   {
    "duration": 5,
    "start_time": "2022-01-22T20:52:18.101Z"
   },
   {
    "duration": 39,
    "start_time": "2022-01-22T20:52:18.108Z"
   },
   {
    "duration": 17,
    "start_time": "2022-01-22T20:52:18.149Z"
   },
   {
    "duration": 23,
    "start_time": "2022-01-22T20:52:18.168Z"
   },
   {
    "duration": 19,
    "start_time": "2022-01-22T20:52:18.193Z"
   },
   {
    "duration": 12,
    "start_time": "2022-01-22T20:52:18.214Z"
   },
   {
    "duration": 24,
    "start_time": "2022-01-22T20:52:18.230Z"
   },
   {
    "duration": 15,
    "start_time": "2022-01-22T20:52:18.256Z"
   },
   {
    "duration": 24,
    "start_time": "2022-01-22T20:52:18.273Z"
   },
   {
    "duration": 21,
    "start_time": "2022-01-22T20:52:18.299Z"
   },
   {
    "duration": 31,
    "start_time": "2022-01-22T20:52:18.322Z"
   },
   {
    "duration": 21,
    "start_time": "2022-01-22T20:52:18.355Z"
   },
   {
    "duration": 37,
    "start_time": "2022-01-22T20:52:18.378Z"
   },
   {
    "duration": 21,
    "start_time": "2022-01-22T20:52:18.417Z"
   },
   {
    "duration": 24,
    "start_time": "2022-01-22T20:52:18.439Z"
   },
   {
    "duration": 23,
    "start_time": "2022-01-22T20:52:18.465Z"
   },
   {
    "duration": 12,
    "start_time": "2022-01-22T20:52:18.490Z"
   },
   {
    "duration": 54,
    "start_time": "2022-01-22T20:52:18.504Z"
   },
   {
    "duration": 7,
    "start_time": "2022-01-22T20:52:18.560Z"
   },
   {
    "duration": 46,
    "start_time": "2022-01-22T20:52:18.569Z"
   },
   {
    "duration": 24,
    "start_time": "2022-01-22T20:52:18.617Z"
   },
   {
    "duration": 20,
    "start_time": "2022-01-22T20:52:18.644Z"
   },
   {
    "duration": 440,
    "start_time": "2022-01-22T20:52:18.666Z"
   },
   {
    "duration": 48,
    "start_time": "2022-01-22T20:52:19.060Z"
   },
   {
    "duration": 48,
    "start_time": "2022-01-22T20:52:19.061Z"
   },
   {
    "duration": 13,
    "start_time": "2022-01-22T20:52:40.562Z"
   },
   {
    "duration": 252,
    "start_time": "2022-01-22T20:52:56.895Z"
   },
   {
    "duration": 689,
    "start_time": "2022-01-22T20:54:35.137Z"
   },
   {
    "duration": 6,
    "start_time": "2022-01-22T20:54:38.752Z"
   },
   {
    "duration": 7,
    "start_time": "2022-01-22T20:54:39.516Z"
   },
   {
    "duration": 6,
    "start_time": "2022-01-22T20:54:40.144Z"
   },
   {
    "duration": 7,
    "start_time": "2022-01-22T20:54:41.965Z"
   },
   {
    "duration": 6,
    "start_time": "2022-01-22T20:54:43.283Z"
   },
   {
    "duration": 7,
    "start_time": "2022-01-22T20:54:44.508Z"
   },
   {
    "duration": 6,
    "start_time": "2022-01-22T20:54:45.452Z"
   },
   {
    "duration": 7,
    "start_time": "2022-01-22T20:54:46.182Z"
   },
   {
    "duration": 6,
    "start_time": "2022-01-22T20:54:47.329Z"
   },
   {
    "duration": 5,
    "start_time": "2022-01-22T20:54:47.927Z"
   },
   {
    "duration": 5,
    "start_time": "2022-01-22T20:54:48.540Z"
   },
   {
    "duration": 7,
    "start_time": "2022-01-22T20:54:53.603Z"
   },
   {
    "duration": 10,
    "start_time": "2022-01-22T20:54:59.580Z"
   },
   {
    "duration": 23,
    "start_time": "2022-01-22T20:55:01.133Z"
   },
   {
    "duration": 6,
    "start_time": "2022-01-22T20:55:03.192Z"
   },
   {
    "duration": 10,
    "start_time": "2022-01-22T20:55:04.675Z"
   },
   {
    "duration": 291,
    "start_time": "2022-01-22T20:55:14.674Z"
   },
   {
    "duration": 11,
    "start_time": "2022-01-22T20:55:28.479Z"
   },
   {
    "duration": 26,
    "start_time": "2022-01-22T20:55:30.428Z"
   },
   {
    "duration": 10,
    "start_time": "2022-01-22T20:55:34.299Z"
   },
   {
    "duration": 9,
    "start_time": "2022-01-22T20:55:35.978Z"
   },
   {
    "duration": 15,
    "start_time": "2022-01-22T20:55:43.574Z"
   },
   {
    "duration": 33,
    "start_time": "2022-01-22T20:55:44.538Z"
   },
   {
    "duration": 14,
    "start_time": "2022-01-22T20:55:45.485Z"
   },
   {
    "duration": 14,
    "start_time": "2022-01-22T20:55:55.839Z"
   },
   {
    "duration": 630,
    "start_time": "2022-01-22T20:56:28.688Z"
   },
   {
    "duration": 6,
    "start_time": "2022-01-22T20:56:33.169Z"
   },
   {
    "duration": 6,
    "start_time": "2022-01-22T20:56:34.488Z"
   },
   {
    "duration": 6,
    "start_time": "2022-01-22T20:56:35.760Z"
   },
   {
    "duration": 7,
    "start_time": "2022-01-22T20:56:37.570Z"
   },
   {
    "duration": 6,
    "start_time": "2022-01-22T20:56:38.303Z"
   },
   {
    "duration": 7,
    "start_time": "2022-01-22T20:56:39.805Z"
   },
   {
    "duration": 6,
    "start_time": "2022-01-22T20:56:40.451Z"
   },
   {
    "duration": 7,
    "start_time": "2022-01-22T20:56:41.572Z"
   },
   {
    "duration": 9,
    "start_time": "2022-01-22T20:56:42.568Z"
   },
   {
    "duration": 6,
    "start_time": "2022-01-22T20:56:43.597Z"
   },
   {
    "duration": 6,
    "start_time": "2022-01-22T20:56:44.472Z"
   },
   {
    "duration": 10,
    "start_time": "2022-01-22T20:56:45.614Z"
   },
   {
    "duration": 12,
    "start_time": "2022-01-22T20:56:48.567Z"
   },
   {
    "duration": 21,
    "start_time": "2022-01-22T20:56:50.138Z"
   },
   {
    "duration": 7,
    "start_time": "2022-01-22T20:56:52.456Z"
   },
   {
    "duration": 9,
    "start_time": "2022-01-22T20:56:54.165Z"
   },
   {
    "duration": 8,
    "start_time": "2022-01-22T20:56:58.310Z"
   },
   {
    "duration": 26,
    "start_time": "2022-01-22T20:56:59.801Z"
   },
   {
    "duration": 8,
    "start_time": "2022-01-22T20:57:06.161Z"
   },
   {
    "duration": 13,
    "start_time": "2022-01-22T20:57:11.791Z"
   },
   {
    "duration": 13,
    "start_time": "2022-01-22T20:57:14.377Z"
   },
   {
    "duration": 15,
    "start_time": "2022-01-22T20:57:15.651Z"
   },
   {
    "duration": 320,
    "start_time": "2022-01-22T20:57:21.758Z"
   },
   {
    "duration": 260,
    "start_time": "2022-01-22T20:57:38.607Z"
   },
   {
    "duration": 12,
    "start_time": "2022-01-22T20:57:46.751Z"
   },
   {
    "duration": 257,
    "start_time": "2022-01-22T20:58:06.670Z"
   },
   {
    "duration": 13,
    "start_time": "2022-01-22T20:58:50.523Z"
   },
   {
    "duration": 10,
    "start_time": "2022-01-22T21:00:01.896Z"
   },
   {
    "duration": 14,
    "start_time": "2022-01-22T21:00:16.860Z"
   },
   {
    "duration": 15,
    "start_time": "2022-01-22T21:00:17.969Z"
   },
   {
    "duration": 14,
    "start_time": "2022-01-22T21:00:18.744Z"
   },
   {
    "duration": 13,
    "start_time": "2022-01-22T21:00:27.804Z"
   },
   {
    "duration": 41,
    "start_time": "2022-01-22T21:00:37.288Z"
   },
   {
    "duration": 8,
    "start_time": "2022-01-22T21:00:53.787Z"
   },
   {
    "duration": 10,
    "start_time": "2022-01-22T21:00:57.213Z"
   },
   {
    "duration": 14,
    "start_time": "2022-01-22T21:00:58.861Z"
   },
   {
    "duration": 13,
    "start_time": "2022-01-22T21:01:00.475Z"
   },
   {
    "duration": 681,
    "start_time": "2022-01-22T21:01:29.394Z"
   },
   {
    "duration": 5,
    "start_time": "2022-01-22T21:01:30.077Z"
   },
   {
    "duration": 8,
    "start_time": "2022-01-22T21:01:33.455Z"
   },
   {
    "duration": 7,
    "start_time": "2022-01-22T21:01:34.324Z"
   },
   {
    "duration": 8,
    "start_time": "2022-01-22T21:01:36.105Z"
   },
   {
    "duration": 7,
    "start_time": "2022-01-22T21:01:36.850Z"
   },
   {
    "duration": 7,
    "start_time": "2022-01-22T21:01:37.756Z"
   },
   {
    "duration": 6,
    "start_time": "2022-01-22T21:01:38.812Z"
   },
   {
    "duration": 7,
    "start_time": "2022-01-22T21:01:39.642Z"
   },
   {
    "duration": 8,
    "start_time": "2022-01-22T21:01:40.545Z"
   },
   {
    "duration": 6,
    "start_time": "2022-01-22T21:01:41.495Z"
   },
   {
    "duration": 5,
    "start_time": "2022-01-22T21:01:42.384Z"
   },
   {
    "duration": 7,
    "start_time": "2022-01-22T21:01:43.325Z"
   },
   {
    "duration": 10,
    "start_time": "2022-01-22T21:01:45.685Z"
   },
   {
    "duration": 22,
    "start_time": "2022-01-22T21:01:47.265Z"
   },
   {
    "duration": 6,
    "start_time": "2022-01-22T21:01:49.119Z"
   },
   {
    "duration": 11,
    "start_time": "2022-01-22T21:01:50.020Z"
   },
   {
    "duration": 8,
    "start_time": "2022-01-22T21:01:50.816Z"
   },
   {
    "duration": 7,
    "start_time": "2022-01-22T21:03:15.682Z"
   },
   {
    "duration": 25,
    "start_time": "2022-01-22T21:03:23.090Z"
   },
   {
    "duration": 315,
    "start_time": "2022-01-22T21:03:39.536Z"
   },
   {
    "duration": 12,
    "start_time": "2022-01-22T21:04:08.999Z"
   },
   {
    "duration": 27,
    "start_time": "2022-01-22T21:04:12.083Z"
   },
   {
    "duration": 704,
    "start_time": "2022-01-22T21:04:37.252Z"
   },
   {
    "duration": 6,
    "start_time": "2022-01-22T21:04:37.957Z"
   },
   {
    "duration": 46,
    "start_time": "2022-01-22T21:04:37.965Z"
   },
   {
    "duration": 25,
    "start_time": "2022-01-22T21:04:38.013Z"
   },
   {
    "duration": 30,
    "start_time": "2022-01-22T21:04:38.040Z"
   },
   {
    "duration": 28,
    "start_time": "2022-01-22T21:04:38.072Z"
   },
   {
    "duration": 29,
    "start_time": "2022-01-22T21:04:38.101Z"
   },
   {
    "duration": 41,
    "start_time": "2022-01-22T21:04:38.131Z"
   },
   {
    "duration": 24,
    "start_time": "2022-01-22T21:04:38.175Z"
   },
   {
    "duration": 32,
    "start_time": "2022-01-22T21:04:38.201Z"
   },
   {
    "duration": 13,
    "start_time": "2022-01-22T21:04:38.235Z"
   },
   {
    "duration": 28,
    "start_time": "2022-01-22T21:04:38.250Z"
   },
   {
    "duration": 30,
    "start_time": "2022-01-22T21:04:38.279Z"
   },
   {
    "duration": 40,
    "start_time": "2022-01-22T21:04:38.311Z"
   },
   {
    "duration": 44,
    "start_time": "2022-01-22T21:04:38.352Z"
   },
   {
    "duration": 10,
    "start_time": "2022-01-22T21:04:38.398Z"
   },
   {
    "duration": 26,
    "start_time": "2022-01-22T21:04:38.410Z"
   },
   {
    "duration": 44,
    "start_time": "2022-01-22T21:04:38.438Z"
   },
   {
    "duration": 320,
    "start_time": "2022-01-22T21:04:38.483Z"
   },
   {
    "duration": 54,
    "start_time": "2022-01-22T21:04:38.751Z"
   },
   {
    "duration": 53,
    "start_time": "2022-01-22T21:04:38.752Z"
   },
   {
    "duration": 51,
    "start_time": "2022-01-22T21:04:38.755Z"
   },
   {
    "duration": 47,
    "start_time": "2022-01-22T21:04:38.760Z"
   },
   {
    "duration": 46,
    "start_time": "2022-01-22T21:04:38.762Z"
   },
   {
    "duration": 46,
    "start_time": "2022-01-22T21:04:38.763Z"
   },
   {
    "duration": 44,
    "start_time": "2022-01-22T21:04:38.765Z"
   },
   {
    "duration": 28,
    "start_time": "2022-01-22T21:05:04.561Z"
   },
   {
    "duration": 604,
    "start_time": "2022-01-22T21:05:10.852Z"
   },
   {
    "duration": 9,
    "start_time": "2022-01-22T21:06:38.631Z"
   },
   {
    "duration": 5,
    "start_time": "2022-01-22T21:08:01.706Z"
   },
   {
    "duration": 12,
    "start_time": "2022-01-22T21:11:27.178Z"
   },
   {
    "duration": 8,
    "start_time": "2022-01-22T21:11:32.351Z"
   },
   {
    "duration": 17,
    "start_time": "2022-01-22T21:13:32.027Z"
   },
   {
    "duration": 661,
    "start_time": "2022-01-23T08:06:45.859Z"
   },
   {
    "duration": 828,
    "start_time": "2022-01-23T08:06:52.454Z"
   },
   {
    "duration": 7,
    "start_time": "2022-01-23T08:06:53.284Z"
   },
   {
    "duration": 9,
    "start_time": "2022-01-23T08:06:53.294Z"
   },
   {
    "duration": 7,
    "start_time": "2022-01-23T08:06:53.306Z"
   },
   {
    "duration": 13,
    "start_time": "2022-01-23T08:06:53.316Z"
   },
   {
    "duration": 41,
    "start_time": "2022-01-23T08:06:53.331Z"
   },
   {
    "duration": 10,
    "start_time": "2022-01-23T08:06:53.374Z"
   },
   {
    "duration": 9,
    "start_time": "2022-01-23T08:06:53.387Z"
   },
   {
    "duration": 11,
    "start_time": "2022-01-23T08:06:53.399Z"
   },
   {
    "duration": 9,
    "start_time": "2022-01-23T08:06:53.413Z"
   },
   {
    "duration": 8,
    "start_time": "2022-01-23T08:06:53.466Z"
   },
   {
    "duration": 7,
    "start_time": "2022-01-23T08:06:53.476Z"
   },
   {
    "duration": 9,
    "start_time": "2022-01-23T08:06:53.486Z"
   },
   {
    "duration": 14,
    "start_time": "2022-01-23T08:06:53.497Z"
   },
   {
    "duration": 77,
    "start_time": "2022-01-23T08:06:53.513Z"
   },
   {
    "duration": 10,
    "start_time": "2022-01-23T08:06:53.593Z"
   },
   {
    "duration": 15,
    "start_time": "2022-01-23T08:06:53.606Z"
   },
   {
    "duration": 14,
    "start_time": "2022-01-23T08:06:53.665Z"
   },
   {
    "duration": 25,
    "start_time": "2022-01-23T08:06:53.682Z"
   },
   {
    "duration": 11,
    "start_time": "2022-01-23T08:06:53.710Z"
   },
   {
    "duration": 57,
    "start_time": "2022-01-23T08:06:53.724Z"
   },
   {
    "duration": 20,
    "start_time": "2022-01-23T08:06:53.784Z"
   },
   {
    "duration": 21,
    "start_time": "2022-01-23T08:06:53.807Z"
   },
   {
    "duration": 324,
    "start_time": "2022-01-23T08:06:53.865Z"
   },
   {
    "duration": 943,
    "start_time": "2022-01-23T08:06:53.248Z"
   },
   {
    "duration": 931,
    "start_time": "2022-01-23T08:06:53.262Z"
   },
   {
    "duration": 12,
    "start_time": "2022-01-23T08:07:57.308Z"
   },
   {
    "duration": 26,
    "start_time": "2022-01-23T08:07:58.208Z"
   },
   {
    "duration": 11,
    "start_time": "2022-01-23T08:07:59.733Z"
   },
   {
    "duration": 28,
    "start_time": "2022-01-23T08:08:57.500Z"
   },
   {
    "duration": 784,
    "start_time": "2022-01-23T08:09:17.706Z"
   },
   {
    "duration": 6,
    "start_time": "2022-01-23T08:09:18.493Z"
   },
   {
    "duration": 9,
    "start_time": "2022-01-23T08:09:18.503Z"
   },
   {
    "duration": 8,
    "start_time": "2022-01-23T08:09:18.514Z"
   },
   {
    "duration": 43,
    "start_time": "2022-01-23T08:09:18.524Z"
   },
   {
    "duration": 17,
    "start_time": "2022-01-23T08:09:18.570Z"
   },
   {
    "duration": 9,
    "start_time": "2022-01-23T08:09:18.590Z"
   },
   {
    "duration": 12,
    "start_time": "2022-01-23T08:09:18.602Z"
   },
   {
    "duration": 9,
    "start_time": "2022-01-23T08:09:18.619Z"
   },
   {
    "duration": 37,
    "start_time": "2022-01-23T08:09:18.631Z"
   },
   {
    "duration": 9,
    "start_time": "2022-01-23T08:09:18.671Z"
   },
   {
    "duration": 6,
    "start_time": "2022-01-23T08:09:18.683Z"
   },
   {
    "duration": 12,
    "start_time": "2022-01-23T08:09:18.692Z"
   },
   {
    "duration": 58,
    "start_time": "2022-01-23T08:09:18.707Z"
   },
   {
    "duration": 36,
    "start_time": "2022-01-23T08:09:18.767Z"
   },
   {
    "duration": 10,
    "start_time": "2022-01-23T08:09:18.806Z"
   },
   {
    "duration": 50,
    "start_time": "2022-01-23T08:09:18.819Z"
   },
   {
    "duration": 13,
    "start_time": "2022-01-23T08:09:18.872Z"
   },
   {
    "duration": 48,
    "start_time": "2022-01-23T08:09:18.887Z"
   },
   {
    "duration": 31,
    "start_time": "2022-01-23T08:09:18.938Z"
   },
   {
    "duration": 24,
    "start_time": "2022-01-23T08:09:18.971Z"
   },
   {
    "duration": 18,
    "start_time": "2022-01-23T08:09:18.998Z"
   },
   {
    "duration": 50,
    "start_time": "2022-01-23T08:09:19.018Z"
   },
   {
    "duration": 525,
    "start_time": "2022-01-23T08:09:19.071Z"
   },
   {
    "duration": 2306,
    "start_time": "2022-01-23T08:09:17.293Z"
   },
   {
    "duration": 2289,
    "start_time": "2022-01-23T08:09:17.311Z"
   },
   {
    "duration": 43,
    "start_time": "2022-01-23T08:09:42.727Z"
   },
   {
    "duration": 823,
    "start_time": "2022-01-23T08:10:40.373Z"
   },
   {
    "duration": 8,
    "start_time": "2022-01-23T08:10:46.843Z"
   },
   {
    "duration": 9,
    "start_time": "2022-01-23T08:11:08.069Z"
   },
   {
    "duration": 8,
    "start_time": "2022-01-23T08:11:13.532Z"
   },
   {
    "duration": 8,
    "start_time": "2022-01-23T08:11:16.651Z"
   },
   {
    "duration": 8,
    "start_time": "2022-01-23T08:11:18.930Z"
   },
   {
    "duration": 9,
    "start_time": "2022-01-23T08:11:21.328Z"
   },
   {
    "duration": 9,
    "start_time": "2022-01-23T08:11:22.404Z"
   },
   {
    "duration": 9,
    "start_time": "2022-01-23T08:11:23.670Z"
   },
   {
    "duration": 11,
    "start_time": "2022-01-23T08:11:26.900Z"
   },
   {
    "duration": 8,
    "start_time": "2022-01-23T08:11:38.678Z"
   },
   {
    "duration": 7,
    "start_time": "2022-01-23T08:11:40.738Z"
   },
   {
    "duration": 8,
    "start_time": "2022-01-23T08:11:42.314Z"
   },
   {
    "duration": 14,
    "start_time": "2022-01-23T08:11:55.686Z"
   },
   {
    "duration": 30,
    "start_time": "2022-01-23T08:11:57.604Z"
   },
   {
    "duration": 9,
    "start_time": "2022-01-23T08:12:01.589Z"
   },
   {
    "duration": 13,
    "start_time": "2022-01-23T08:12:05.011Z"
   },
   {
    "duration": 12,
    "start_time": "2022-01-23T08:12:17.701Z"
   },
   {
    "duration": 43,
    "start_time": "2022-01-23T08:12:22.240Z"
   },
   {
    "duration": 10,
    "start_time": "2022-01-23T08:12:28.797Z"
   },
   {
    "duration": 36,
    "start_time": "2022-01-23T08:14:08.463Z"
   },
   {
    "duration": 860,
    "start_time": "2022-01-23T08:14:50.888Z"
   },
   {
    "duration": 15,
    "start_time": "2022-01-23T08:14:51.751Z"
   },
   {
    "duration": 13,
    "start_time": "2022-01-23T08:14:51.769Z"
   },
   {
    "duration": 12,
    "start_time": "2022-01-23T08:14:51.784Z"
   },
   {
    "duration": 11,
    "start_time": "2022-01-23T08:14:51.799Z"
   },
   {
    "duration": 12,
    "start_time": "2022-01-23T08:14:51.813Z"
   },
   {
    "duration": 37,
    "start_time": "2022-01-23T08:14:51.828Z"
   },
   {
    "duration": 9,
    "start_time": "2022-01-23T08:14:51.869Z"
   },
   {
    "duration": 14,
    "start_time": "2022-01-23T08:14:51.881Z"
   },
   {
    "duration": 10,
    "start_time": "2022-01-23T08:14:51.898Z"
   },
   {
    "duration": 13,
    "start_time": "2022-01-23T08:14:51.911Z"
   },
   {
    "duration": 42,
    "start_time": "2022-01-23T08:14:51.926Z"
   },
   {
    "duration": 10,
    "start_time": "2022-01-23T08:14:51.971Z"
   },
   {
    "duration": 18,
    "start_time": "2022-01-23T08:14:51.984Z"
   },
   {
    "duration": 61,
    "start_time": "2022-01-23T08:14:52.005Z"
   },
   {
    "duration": 11,
    "start_time": "2022-01-23T08:14:52.069Z"
   },
   {
    "duration": 17,
    "start_time": "2022-01-23T08:14:52.083Z"
   },
   {
    "duration": 13,
    "start_time": "2022-01-23T08:14:52.102Z"
   },
   {
    "duration": 73,
    "start_time": "2022-01-23T08:14:52.118Z"
   },
   {
    "duration": 9,
    "start_time": "2022-01-23T08:14:52.193Z"
   },
   {
    "duration": 18,
    "start_time": "2022-01-23T08:14:52.204Z"
   },
   {
    "duration": 55,
    "start_time": "2022-01-23T08:14:52.225Z"
   },
   {
    "duration": 20,
    "start_time": "2022-01-23T08:14:52.284Z"
   },
   {
    "duration": 502,
    "start_time": "2022-01-23T08:14:52.306Z"
   },
   {
    "duration": 2350,
    "start_time": "2022-01-23T08:14:50.461Z"
   },
   {
    "duration": 2350,
    "start_time": "2022-01-23T08:14:50.463Z"
   },
   {
    "duration": 20,
    "start_time": "2022-01-23T08:17:55.014Z"
   },
   {
    "duration": 10,
    "start_time": "2022-01-23T08:18:12.661Z"
   },
   {
    "duration": 16,
    "start_time": "2022-01-23T08:18:15.865Z"
   },
   {
    "duration": 28,
    "start_time": "2022-01-23T08:18:21.533Z"
   },
   {
    "duration": 17,
    "start_time": "2022-01-23T08:19:17.250Z"
   },
   {
    "duration": 113,
    "start_time": "2022-01-23T08:23:32.964Z"
   },
   {
    "duration": 28,
    "start_time": "2022-01-23T08:23:48.326Z"
   },
   {
    "duration": 26,
    "start_time": "2022-01-23T08:23:57.618Z"
   },
   {
    "duration": 22,
    "start_time": "2022-01-23T08:24:09.080Z"
   },
   {
    "duration": 41,
    "start_time": "2022-01-23T08:24:25.020Z"
   },
   {
    "duration": 34,
    "start_time": "2022-01-23T08:24:56.364Z"
   },
   {
    "duration": 57,
    "start_time": "2022-01-23T08:25:34.471Z"
   },
   {
    "duration": 38,
    "start_time": "2022-01-23T08:52:51.834Z"
   },
   {
    "duration": 855,
    "start_time": "2022-01-23T08:53:46.036Z"
   },
   {
    "duration": 9,
    "start_time": "2022-01-23T08:53:46.894Z"
   },
   {
    "duration": 9,
    "start_time": "2022-01-23T08:53:46.907Z"
   },
   {
    "duration": 45,
    "start_time": "2022-01-23T08:53:46.920Z"
   },
   {
    "duration": 10,
    "start_time": "2022-01-23T08:53:46.968Z"
   },
   {
    "duration": 11,
    "start_time": "2022-01-23T08:53:46.981Z"
   },
   {
    "duration": 10,
    "start_time": "2022-01-23T08:53:46.994Z"
   },
   {
    "duration": 7,
    "start_time": "2022-01-23T08:53:47.010Z"
   },
   {
    "duration": 11,
    "start_time": "2022-01-23T08:53:47.066Z"
   },
   {
    "duration": 11,
    "start_time": "2022-01-23T08:53:47.080Z"
   },
   {
    "duration": 10,
    "start_time": "2022-01-23T08:53:47.094Z"
   },
   {
    "duration": 8,
    "start_time": "2022-01-23T08:53:47.106Z"
   },
   {
    "duration": 10,
    "start_time": "2022-01-23T08:53:47.164Z"
   },
   {
    "duration": 17,
    "start_time": "2022-01-23T08:53:47.176Z"
   },
   {
    "duration": 30,
    "start_time": "2022-01-23T08:53:47.196Z"
   },
   {
    "duration": 40,
    "start_time": "2022-01-23T08:53:47.228Z"
   },
   {
    "duration": 15,
    "start_time": "2022-01-23T08:53:47.271Z"
   },
   {
    "duration": 14,
    "start_time": "2022-01-23T08:53:47.289Z"
   },
   {
    "duration": 72,
    "start_time": "2022-01-23T08:53:47.305Z"
   },
   {
    "duration": 9,
    "start_time": "2022-01-23T08:53:47.380Z"
   },
   {
    "duration": 21,
    "start_time": "2022-01-23T08:53:47.392Z"
   },
   {
    "duration": 20,
    "start_time": "2022-01-23T08:53:47.416Z"
   },
   {
    "duration": 34,
    "start_time": "2022-01-23T08:53:47.472Z"
   },
   {
    "duration": 388,
    "start_time": "2022-01-23T08:53:47.508Z"
   },
   {
    "duration": 2353,
    "start_time": "2022-01-23T08:53:45.545Z"
   },
   {
    "duration": 2353,
    "start_time": "2022-01-23T08:53:45.547Z"
   },
   {
    "duration": 27,
    "start_time": "2022-01-23T08:58:04.293Z"
   },
   {
    "duration": 951,
    "start_time": "2022-01-23T12:42:29.020Z"
   },
   {
    "duration": 91,
    "start_time": "2022-01-23T12:42:37.098Z"
   },
   {
    "duration": 85,
    "start_time": "2022-01-23T12:42:52.884Z"
   },
   {
    "duration": 7,
    "start_time": "2022-01-23T12:42:52.971Z"
   },
   {
    "duration": 9,
    "start_time": "2022-01-23T12:42:52.981Z"
   },
   {
    "duration": 7,
    "start_time": "2022-01-23T12:42:52.993Z"
   },
   {
    "duration": 10,
    "start_time": "2022-01-23T12:42:53.002Z"
   },
   {
    "duration": 52,
    "start_time": "2022-01-23T12:42:53.014Z"
   },
   {
    "duration": 8,
    "start_time": "2022-01-23T12:42:53.069Z"
   },
   {
    "duration": 8,
    "start_time": "2022-01-23T12:42:53.079Z"
   },
   {
    "duration": 7,
    "start_time": "2022-01-23T12:42:53.093Z"
   },
   {
    "duration": 9,
    "start_time": "2022-01-23T12:42:53.103Z"
   },
   {
    "duration": 9,
    "start_time": "2022-01-23T12:42:53.114Z"
   },
   {
    "duration": 6,
    "start_time": "2022-01-23T12:42:53.165Z"
   },
   {
    "duration": 11,
    "start_time": "2022-01-23T12:42:53.174Z"
   },
   {
    "duration": 13,
    "start_time": "2022-01-23T12:42:53.187Z"
   },
   {
    "duration": 66,
    "start_time": "2022-01-23T12:42:53.202Z"
   },
   {
    "duration": 7,
    "start_time": "2022-01-23T12:42:53.271Z"
   },
   {
    "duration": 14,
    "start_time": "2022-01-23T12:42:53.280Z"
   },
   {
    "duration": 12,
    "start_time": "2022-01-23T12:42:53.296Z"
   },
   {
    "duration": 80,
    "start_time": "2022-01-23T12:42:53.310Z"
   },
   {
    "duration": 11,
    "start_time": "2022-01-23T12:42:53.393Z"
   },
   {
    "duration": 20,
    "start_time": "2022-01-23T12:42:53.408Z"
   },
   {
    "duration": 24,
    "start_time": "2022-01-23T12:42:53.464Z"
   },
   {
    "duration": 35,
    "start_time": "2022-01-23T12:42:53.491Z"
   },
   {
    "duration": 50,
    "start_time": "2022-01-23T12:42:53.529Z"
   },
   {
    "duration": 53,
    "start_time": "2022-01-23T12:42:53.582Z"
   },
   {
    "duration": 42,
    "start_time": "2022-01-23T12:42:53.638Z"
   },
   {
    "duration": 150,
    "start_time": "2022-01-23T13:35:34.358Z"
   },
   {
    "duration": 8,
    "start_time": "2022-01-23T13:35:34.511Z"
   },
   {
    "duration": 10,
    "start_time": "2022-01-23T13:35:34.523Z"
   },
   {
    "duration": 8,
    "start_time": "2022-01-23T13:35:34.564Z"
   },
   {
    "duration": 10,
    "start_time": "2022-01-23T13:35:34.575Z"
   },
   {
    "duration": 15,
    "start_time": "2022-01-23T13:35:34.588Z"
   },
   {
    "duration": 13,
    "start_time": "2022-01-23T13:35:34.606Z"
   },
   {
    "duration": 9,
    "start_time": "2022-01-23T13:35:34.665Z"
   },
   {
    "duration": 11,
    "start_time": "2022-01-23T13:35:34.678Z"
   },
   {
    "duration": 17,
    "start_time": "2022-01-23T13:35:34.692Z"
   },
   {
    "duration": 14,
    "start_time": "2022-01-23T13:35:34.712Z"
   },
   {
    "duration": 39,
    "start_time": "2022-01-23T13:35:34.729Z"
   },
   {
    "duration": 14,
    "start_time": "2022-01-23T13:35:34.770Z"
   },
   {
    "duration": 21,
    "start_time": "2022-01-23T13:35:34.787Z"
   },
   {
    "duration": 65,
    "start_time": "2022-01-23T13:35:34.811Z"
   },
   {
    "duration": 8,
    "start_time": "2022-01-23T13:35:34.879Z"
   },
   {
    "duration": 20,
    "start_time": "2022-01-23T13:35:34.889Z"
   },
   {
    "duration": 12,
    "start_time": "2022-01-23T13:35:34.912Z"
   },
   {
    "duration": 53,
    "start_time": "2022-01-23T13:35:34.965Z"
   },
   {
    "duration": 8,
    "start_time": "2022-01-23T13:35:35.020Z"
   },
   {
    "duration": 56,
    "start_time": "2022-01-23T13:35:35.030Z"
   },
   {
    "duration": 35,
    "start_time": "2022-01-23T13:35:35.090Z"
   },
   {
    "duration": 38,
    "start_time": "2022-01-23T13:35:35.164Z"
   },
   {
    "duration": 26,
    "start_time": "2022-01-23T13:35:35.206Z"
   },
   {
    "duration": 86,
    "start_time": "2022-01-23T13:35:35.264Z"
   },
   {
    "duration": 24,
    "start_time": "2022-01-23T13:35:35.366Z"
   },
   {
    "duration": 18,
    "start_time": "2022-01-23T15:07:17.457Z"
   },
   {
    "duration": 9,
    "start_time": "2022-01-23T15:07:22.846Z"
   },
   {
    "duration": 20,
    "start_time": "2022-01-23T19:16:33.657Z"
   },
   {
    "duration": 19,
    "start_time": "2022-01-23T19:19:32.454Z"
   },
   {
    "duration": 469,
    "start_time": "2022-01-23T19:23:00.280Z"
   },
   {
    "duration": 326,
    "start_time": "2022-01-23T19:23:24.844Z"
   },
   {
    "duration": 295,
    "start_time": "2022-01-23T19:24:08.091Z"
   },
   {
    "duration": 95,
    "start_time": "2022-01-23T19:24:21.036Z"
   },
   {
    "duration": 103,
    "start_time": "2022-01-23T19:24:32.267Z"
   },
   {
    "duration": 281,
    "start_time": "2022-01-23T19:28:36.067Z"
   },
   {
    "duration": 941,
    "start_time": "2022-01-23T19:28:43.352Z"
   },
   {
    "duration": 30,
    "start_time": "2022-01-23T19:31:51.151Z"
   },
   {
    "duration": 282,
    "start_time": "2022-01-23T19:32:48.125Z"
   },
   {
    "duration": 916,
    "start_time": "2022-01-23T19:32:56.000Z"
   },
   {
    "duration": 486,
    "start_time": "2022-01-23T19:52:16.689Z"
   },
   {
    "duration": 291,
    "start_time": "2022-01-23T19:52:27.228Z"
   },
   {
    "duration": 1344,
    "start_time": "2022-01-23T19:52:55.179Z"
   },
   {
    "duration": 2285,
    "start_time": "2022-01-23T19:53:23.864Z"
   },
   {
    "duration": 299,
    "start_time": "2022-01-23T19:54:35.361Z"
   },
   {
    "duration": 2366,
    "start_time": "2022-01-23T19:55:32.919Z"
   },
   {
    "duration": 2062,
    "start_time": "2022-01-23T19:56:57.779Z"
   },
   {
    "duration": 89,
    "start_time": "2022-01-23T19:57:27.474Z"
   },
   {
    "duration": 95,
    "start_time": "2022-01-23T19:57:32.350Z"
   },
   {
    "duration": 9,
    "start_time": "2022-01-23T19:57:32.465Z"
   },
   {
    "duration": 16,
    "start_time": "2022-01-23T19:57:32.478Z"
   },
   {
    "duration": 12,
    "start_time": "2022-01-23T19:57:32.497Z"
   },
   {
    "duration": 8,
    "start_time": "2022-01-23T19:57:32.513Z"
   },
   {
    "duration": 47,
    "start_time": "2022-01-23T19:57:32.524Z"
   },
   {
    "duration": 15,
    "start_time": "2022-01-23T19:57:32.574Z"
   },
   {
    "duration": 16,
    "start_time": "2022-01-23T19:57:32.592Z"
   },
   {
    "duration": 7,
    "start_time": "2022-01-23T19:57:32.615Z"
   },
   {
    "duration": 49,
    "start_time": "2022-01-23T19:57:32.626Z"
   },
   {
    "duration": 20,
    "start_time": "2022-01-23T19:57:32.678Z"
   },
   {
    "duration": 18,
    "start_time": "2022-01-23T19:57:32.700Z"
   },
   {
    "duration": 22,
    "start_time": "2022-01-23T19:57:32.721Z"
   },
   {
    "duration": 26,
    "start_time": "2022-01-23T19:57:32.746Z"
   },
   {
    "duration": 35,
    "start_time": "2022-01-23T19:57:32.776Z"
   },
   {
    "duration": 7,
    "start_time": "2022-01-23T19:57:32.814Z"
   },
   {
    "duration": 52,
    "start_time": "2022-01-23T19:57:32.823Z"
   },
   {
    "duration": 12,
    "start_time": "2022-01-23T19:57:32.880Z"
   },
   {
    "duration": 37,
    "start_time": "2022-01-23T19:57:32.895Z"
   },
   {
    "duration": 8,
    "start_time": "2022-01-23T19:57:32.964Z"
   },
   {
    "duration": 28,
    "start_time": "2022-01-23T19:57:32.975Z"
   },
   {
    "duration": 23,
    "start_time": "2022-01-23T19:57:33.006Z"
   },
   {
    "duration": 65,
    "start_time": "2022-01-23T19:57:33.031Z"
   },
   {
    "duration": 19,
    "start_time": "2022-01-23T19:57:33.099Z"
   },
   {
    "duration": 91,
    "start_time": "2022-01-23T19:57:33.121Z"
   },
   {
    "duration": 19,
    "start_time": "2022-01-23T19:57:33.214Z"
   },
   {
    "duration": 1041,
    "start_time": "2022-01-23T19:57:33.238Z"
   },
   {
    "duration": 4341,
    "start_time": "2022-01-23T19:57:34.283Z"
   },
   {
    "duration": 2286,
    "start_time": "2022-01-23T19:57:57.111Z"
   },
   {
    "duration": 1313,
    "start_time": "2022-01-23T20:05:55.123Z"
   },
   {
    "duration": 1269,
    "start_time": "2022-01-23T20:07:08.488Z"
   },
   {
    "duration": 1265,
    "start_time": "2022-01-23T20:08:20.827Z"
   },
   {
    "duration": 1345,
    "start_time": "2022-01-23T20:10:06.048Z"
   },
   {
    "duration": 392,
    "start_time": "2022-01-23T20:10:50.856Z"
   },
   {
    "duration": 2116,
    "start_time": "2022-01-23T20:11:02.231Z"
   },
   {
    "duration": 1381,
    "start_time": "2022-01-23T20:12:14.962Z"
   },
   {
    "duration": 14,
    "start_time": "2022-01-23T20:12:48.094Z"
   },
   {
    "duration": 291,
    "start_time": "2022-01-23T20:14:03.123Z"
   },
   {
    "duration": 1379,
    "start_time": "2022-01-23T20:14:12.156Z"
   },
   {
    "duration": 16,
    "start_time": "2022-01-23T20:14:39.378Z"
   },
   {
    "duration": 1421,
    "start_time": "2022-01-23T20:15:49.004Z"
   },
   {
    "duration": 7421,
    "start_time": "2022-01-23T20:18:23.459Z"
   },
   {
    "duration": 815,
    "start_time": "2022-01-23T20:23:21.959Z"
   },
   {
    "duration": 8,
    "start_time": "2022-01-23T20:23:28.820Z"
   },
   {
    "duration": 99,
    "start_time": "2022-01-23T20:24:14.798Z"
   },
   {
    "duration": 7,
    "start_time": "2022-01-23T20:24:14.899Z"
   },
   {
    "duration": 16,
    "start_time": "2022-01-23T20:24:14.909Z"
   },
   {
    "duration": 18,
    "start_time": "2022-01-23T20:24:14.928Z"
   },
   {
    "duration": 25,
    "start_time": "2022-01-23T20:24:14.949Z"
   },
   {
    "duration": 31,
    "start_time": "2022-01-23T20:24:14.978Z"
   },
   {
    "duration": 19,
    "start_time": "2022-01-23T20:24:15.012Z"
   },
   {
    "duration": 22,
    "start_time": "2022-01-23T20:24:15.034Z"
   },
   {
    "duration": 13,
    "start_time": "2022-01-23T20:24:15.066Z"
   },
   {
    "duration": 29,
    "start_time": "2022-01-23T20:24:15.083Z"
   },
   {
    "duration": 23,
    "start_time": "2022-01-23T20:24:15.115Z"
   },
   {
    "duration": 22,
    "start_time": "2022-01-23T20:24:15.140Z"
   },
   {
    "duration": 32,
    "start_time": "2022-01-23T20:24:15.166Z"
   },
   {
    "duration": 23,
    "start_time": "2022-01-23T20:24:15.201Z"
   },
   {
    "duration": 56,
    "start_time": "2022-01-23T20:24:15.227Z"
   },
   {
    "duration": 10,
    "start_time": "2022-01-23T20:24:15.287Z"
   },
   {
    "duration": 29,
    "start_time": "2022-01-23T20:24:15.300Z"
   },
   {
    "duration": 46,
    "start_time": "2022-01-23T20:24:15.332Z"
   },
   {
    "duration": 43,
    "start_time": "2022-01-23T20:24:15.384Z"
   },
   {
    "duration": 7,
    "start_time": "2022-01-23T20:24:15.430Z"
   },
   {
    "duration": 28,
    "start_time": "2022-01-23T20:24:15.467Z"
   },
   {
    "duration": 24,
    "start_time": "2022-01-23T20:24:15.497Z"
   },
   {
    "duration": 70,
    "start_time": "2022-01-23T20:24:15.524Z"
   },
   {
    "duration": 19,
    "start_time": "2022-01-23T20:24:15.597Z"
   },
   {
    "duration": 104,
    "start_time": "2022-01-23T20:24:15.620Z"
   },
   {
    "duration": 20,
    "start_time": "2022-01-23T20:24:15.727Z"
   },
   {
    "duration": 10,
    "start_time": "2022-01-23T20:24:15.768Z"
   },
   {
    "duration": 1034,
    "start_time": "2022-01-23T20:24:15.780Z"
   },
   {
    "duration": 8568,
    "start_time": "2022-01-23T20:24:16.817Z"
   },
   {
    "duration": 1268,
    "start_time": "2022-01-23T20:26:35.883Z"
   },
   {
    "duration": 1362,
    "start_time": "2022-01-23T20:26:45.131Z"
   },
   {
    "duration": 1000,
    "start_time": "2022-01-23T20:27:43.948Z"
   },
   {
    "duration": 1441,
    "start_time": "2022-01-23T20:28:32.638Z"
   },
   {
    "duration": 1086,
    "start_time": "2022-01-23T20:35:33.486Z"
   },
   {
    "duration": 1000,
    "start_time": "2022-01-23T20:35:41.765Z"
   },
   {
    "duration": 1312,
    "start_time": "2022-01-23T20:36:27.794Z"
   },
   {
    "duration": 2108,
    "start_time": "2022-01-23T20:36:35.594Z"
   },
   {
    "duration": 1370,
    "start_time": "2022-01-23T20:37:18.179Z"
   },
   {
    "duration": 393,
    "start_time": "2022-01-23T20:41:51.695Z"
   },
   {
    "duration": 20,
    "start_time": "2022-01-23T20:41:59.155Z"
   },
   {
    "duration": 1246,
    "start_time": "2022-01-23T20:44:07.179Z"
   },
   {
    "duration": 1372,
    "start_time": "2022-01-23T20:45:48.051Z"
   },
   {
    "duration": 5400,
    "start_time": "2022-01-23T20:46:08.256Z"
   },
   {
    "duration": 1191,
    "start_time": "2022-01-23T20:51:26.620Z"
   },
   {
    "duration": 976,
    "start_time": "2022-01-23T20:52:32.822Z"
   },
   {
    "duration": 1000,
    "start_time": "2022-01-23T20:53:02.699Z"
   },
   {
    "duration": 1061,
    "start_time": "2022-01-23T20:54:17.735Z"
   },
   {
    "duration": 746,
    "start_time": "2022-01-24T07:35:00.328Z"
   },
   {
    "duration": 5,
    "start_time": "2022-01-24T07:35:01.076Z"
   },
   {
    "duration": 20,
    "start_time": "2022-01-24T07:35:01.083Z"
   },
   {
    "duration": 9,
    "start_time": "2022-01-24T07:35:01.105Z"
   },
   {
    "duration": 35,
    "start_time": "2022-01-24T07:35:01.116Z"
   },
   {
    "duration": 17,
    "start_time": "2022-01-24T07:35:01.153Z"
   },
   {
    "duration": 16,
    "start_time": "2022-01-24T07:35:01.171Z"
   },
   {
    "duration": 15,
    "start_time": "2022-01-24T07:35:01.189Z"
   },
   {
    "duration": 26,
    "start_time": "2022-01-24T07:35:01.206Z"
   },
   {
    "duration": 10,
    "start_time": "2022-01-24T07:35:01.234Z"
   },
   {
    "duration": 22,
    "start_time": "2022-01-24T07:35:01.246Z"
   },
   {
    "duration": 12,
    "start_time": "2022-01-24T07:35:01.270Z"
   },
   {
    "duration": 18,
    "start_time": "2022-01-24T07:35:01.285Z"
   },
   {
    "duration": 19,
    "start_time": "2022-01-24T07:35:01.305Z"
   },
   {
    "duration": 28,
    "start_time": "2022-01-24T07:35:01.325Z"
   },
   {
    "duration": 7,
    "start_time": "2022-01-24T07:35:01.359Z"
   },
   {
    "duration": 12,
    "start_time": "2022-01-24T07:35:01.368Z"
   },
   {
    "duration": 12,
    "start_time": "2022-01-24T07:35:01.382Z"
   },
   {
    "duration": 42,
    "start_time": "2022-01-24T07:35:01.396Z"
   },
   {
    "duration": 24,
    "start_time": "2022-01-24T07:35:01.440Z"
   },
   {
    "duration": 20,
    "start_time": "2022-01-24T07:35:01.466Z"
   },
   {
    "duration": 22,
    "start_time": "2022-01-24T07:35:01.488Z"
   },
   {
    "duration": 56,
    "start_time": "2022-01-24T07:35:01.512Z"
   },
   {
    "duration": 15,
    "start_time": "2022-01-24T07:35:01.570Z"
   },
   {
    "duration": 43,
    "start_time": "2022-01-24T07:35:01.587Z"
   },
   {
    "duration": 45,
    "start_time": "2022-01-24T07:35:01.632Z"
   },
   {
    "duration": 760,
    "start_time": "2022-01-24T07:35:01.682Z"
   },
   {
    "duration": 8706,
    "start_time": "2022-01-24T07:35:02.444Z"
   },
   {
    "duration": 432,
    "start_time": "2022-01-24T07:37:38.550Z"
   },
   {
    "duration": 11,
    "start_time": "2022-01-24T07:37:47.690Z"
   },
   {
    "duration": 621,
    "start_time": "2022-01-24T07:39:32.572Z"
   },
   {
    "duration": 685,
    "start_time": "2022-01-24T07:39:49.754Z"
   },
   {
    "duration": 671,
    "start_time": "2022-01-24T07:41:31.680Z"
   },
   {
    "duration": 2828,
    "start_time": "2022-01-24T07:53:08.316Z"
   },
   {
    "duration": 1241,
    "start_time": "2022-01-24T07:57:41.880Z"
   },
   {
    "duration": 1308,
    "start_time": "2022-01-24T07:58:30.565Z"
   },
   {
    "duration": 1624,
    "start_time": "2022-01-24T07:58:45.979Z"
   },
   {
    "duration": 1448,
    "start_time": "2022-01-24T07:58:56.964Z"
   },
   {
    "duration": 71,
    "start_time": "2022-01-24T07:59:23.386Z"
   },
   {
    "duration": 5,
    "start_time": "2022-01-24T07:59:23.459Z"
   },
   {
    "duration": 17,
    "start_time": "2022-01-24T07:59:23.467Z"
   },
   {
    "duration": 6,
    "start_time": "2022-01-24T07:59:23.667Z"
   },
   {
    "duration": 8,
    "start_time": "2022-01-24T07:59:23.675Z"
   },
   {
    "duration": 6,
    "start_time": "2022-01-24T07:59:23.686Z"
   },
   {
    "duration": 8,
    "start_time": "2022-01-24T07:59:23.694Z"
   },
   {
    "duration": 6,
    "start_time": "2022-01-24T07:59:23.704Z"
   },
   {
    "duration": 7,
    "start_time": "2022-01-24T07:59:23.712Z"
   },
   {
    "duration": 40,
    "start_time": "2022-01-24T07:59:23.721Z"
   },
   {
    "duration": 8,
    "start_time": "2022-01-24T07:59:23.764Z"
   },
   {
    "duration": 5,
    "start_time": "2022-01-24T07:59:23.774Z"
   },
   {
    "duration": 14,
    "start_time": "2022-01-24T07:59:23.781Z"
   },
   {
    "duration": 13,
    "start_time": "2022-01-24T07:59:23.797Z"
   },
   {
    "duration": 53,
    "start_time": "2022-01-24T07:59:23.813Z"
   },
   {
    "duration": 6,
    "start_time": "2022-01-24T07:59:23.868Z"
   },
   {
    "duration": 11,
    "start_time": "2022-01-24T07:59:23.875Z"
   },
   {
    "duration": 10,
    "start_time": "2022-01-24T07:59:23.887Z"
   },
   {
    "duration": 26,
    "start_time": "2022-01-24T07:59:23.899Z"
   },
   {
    "duration": 39,
    "start_time": "2022-01-24T07:59:23.927Z"
   },
   {
    "duration": 16,
    "start_time": "2022-01-24T07:59:23.968Z"
   },
   {
    "duration": 16,
    "start_time": "2022-01-24T07:59:23.986Z"
   },
   {
    "duration": 24,
    "start_time": "2022-01-24T07:59:24.004Z"
   },
   {
    "duration": 16,
    "start_time": "2022-01-24T07:59:24.061Z"
   },
   {
    "duration": 40,
    "start_time": "2022-01-24T07:59:24.078Z"
   },
   {
    "duration": 13,
    "start_time": "2022-01-24T07:59:24.119Z"
   },
   {
    "duration": 731,
    "start_time": "2022-01-24T07:59:24.134Z"
   },
   {
    "duration": 3203,
    "start_time": "2022-01-24T07:59:24.868Z"
   },
   {
    "duration": 1341,
    "start_time": "2022-01-24T08:25:58.436Z"
   },
   {
    "duration": 1309,
    "start_time": "2022-01-24T08:26:39.556Z"
   },
   {
    "duration": 712,
    "start_time": "2022-01-24T08:27:02.331Z"
   },
   {
    "duration": 73,
    "start_time": "2022-01-24T08:27:07.045Z"
   },
   {
    "duration": 6,
    "start_time": "2022-01-24T08:27:07.120Z"
   },
   {
    "duration": 13,
    "start_time": "2022-01-24T08:27:07.129Z"
   },
   {
    "duration": 7,
    "start_time": "2022-01-24T08:27:07.164Z"
   },
   {
    "duration": 20,
    "start_time": "2022-01-24T08:27:07.173Z"
   },
   {
    "duration": 18,
    "start_time": "2022-01-24T08:27:07.196Z"
   },
   {
    "duration": 36,
    "start_time": "2022-01-24T08:27:07.217Z"
   },
   {
    "duration": 24,
    "start_time": "2022-01-24T08:27:07.255Z"
   },
   {
    "duration": 23,
    "start_time": "2022-01-24T08:27:07.280Z"
   },
   {
    "duration": 27,
    "start_time": "2022-01-24T08:27:07.305Z"
   },
   {
    "duration": 8,
    "start_time": "2022-01-24T08:27:07.334Z"
   },
   {
    "duration": 26,
    "start_time": "2022-01-24T08:27:07.345Z"
   },
   {
    "duration": 13,
    "start_time": "2022-01-24T08:27:07.373Z"
   },
   {
    "duration": 22,
    "start_time": "2022-01-24T08:27:07.388Z"
   },
   {
    "duration": 29,
    "start_time": "2022-01-24T08:27:07.412Z"
   },
   {
    "duration": 6,
    "start_time": "2022-01-24T08:27:07.443Z"
   },
   {
    "duration": 22,
    "start_time": "2022-01-24T08:27:07.450Z"
   },
   {
    "duration": 12,
    "start_time": "2022-01-24T08:27:07.474Z"
   },
   {
    "duration": 27,
    "start_time": "2022-01-24T08:27:07.487Z"
   },
   {
    "duration": 6,
    "start_time": "2022-01-24T08:27:07.515Z"
   },
   {
    "duration": 27,
    "start_time": "2022-01-24T08:27:07.523Z"
   },
   {
    "duration": 22,
    "start_time": "2022-01-24T08:27:07.552Z"
   },
   {
    "duration": 22,
    "start_time": "2022-01-24T08:27:07.576Z"
   },
   {
    "duration": 31,
    "start_time": "2022-01-24T08:27:07.600Z"
   },
   {
    "duration": 53,
    "start_time": "2022-01-24T08:27:07.633Z"
   },
   {
    "duration": 13,
    "start_time": "2022-01-24T08:27:07.688Z"
   },
   {
    "duration": 684,
    "start_time": "2022-01-24T08:27:07.703Z"
   },
   {
    "duration": 301,
    "start_time": "2022-01-24T08:27:08.389Z"
   },
   {
    "duration": 1144,
    "start_time": "2022-01-24T08:27:53.743Z"
   },
   {
    "duration": 1409,
    "start_time": "2022-01-24T08:28:10.182Z"
   },
   {
    "duration": 128,
    "start_time": "2022-01-24T09:25:15.068Z"
   },
   {
    "duration": 140,
    "start_time": "2022-01-24T09:26:09.753Z"
   },
   {
    "duration": 123,
    "start_time": "2022-01-24T09:27:35.881Z"
   },
   {
    "duration": 125,
    "start_time": "2022-01-24T09:37:38.979Z"
   },
   {
    "duration": 129,
    "start_time": "2022-01-24T09:37:54.420Z"
   },
   {
    "duration": 780,
    "start_time": "2022-01-24T09:38:24.164Z"
   },
   {
    "duration": 4,
    "start_time": "2022-01-24T09:38:24.946Z"
   },
   {
    "duration": 14,
    "start_time": "2022-01-24T09:38:24.953Z"
   },
   {
    "duration": 10,
    "start_time": "2022-01-24T09:38:24.969Z"
   },
   {
    "duration": 15,
    "start_time": "2022-01-24T09:38:24.981Z"
   },
   {
    "duration": 10,
    "start_time": "2022-01-24T09:38:24.998Z"
   },
   {
    "duration": 11,
    "start_time": "2022-01-24T09:38:25.010Z"
   },
   {
    "duration": 9,
    "start_time": "2022-01-24T09:38:25.023Z"
   },
   {
    "duration": 13,
    "start_time": "2022-01-24T09:38:25.035Z"
   },
   {
    "duration": 23,
    "start_time": "2022-01-24T09:38:25.050Z"
   },
   {
    "duration": 14,
    "start_time": "2022-01-24T09:38:25.075Z"
   },
   {
    "duration": 13,
    "start_time": "2022-01-24T09:38:25.091Z"
   },
   {
    "duration": 11,
    "start_time": "2022-01-24T09:38:25.106Z"
   },
   {
    "duration": 22,
    "start_time": "2022-01-24T09:38:25.119Z"
   },
   {
    "duration": 23,
    "start_time": "2022-01-24T09:38:25.143Z"
   },
   {
    "duration": 18,
    "start_time": "2022-01-24T09:38:25.167Z"
   },
   {
    "duration": 26,
    "start_time": "2022-01-24T09:38:25.187Z"
   },
   {
    "duration": 14,
    "start_time": "2022-01-24T09:38:25.214Z"
   },
   {
    "duration": 37,
    "start_time": "2022-01-24T09:38:25.230Z"
   },
   {
    "duration": 5,
    "start_time": "2022-01-24T09:38:25.269Z"
   },
   {
    "duration": 28,
    "start_time": "2022-01-24T09:38:25.275Z"
   },
   {
    "duration": 23,
    "start_time": "2022-01-24T09:38:25.305Z"
   },
   {
    "duration": 22,
    "start_time": "2022-01-24T09:38:25.330Z"
   },
   {
    "duration": 21,
    "start_time": "2022-01-24T09:38:25.354Z"
   },
   {
    "duration": 41,
    "start_time": "2022-01-24T09:38:25.377Z"
   },
   {
    "duration": 14,
    "start_time": "2022-01-24T09:38:25.420Z"
   },
   {
    "duration": 858,
    "start_time": "2022-01-24T09:38:25.437Z"
   },
   {
    "duration": 143,
    "start_time": "2022-01-24T09:38:26.297Z"
   },
   {
    "duration": 130,
    "start_time": "2022-01-24T09:39:20.691Z"
   },
   {
    "duration": 5,
    "start_time": "2022-01-24T09:41:43.793Z"
   },
   {
    "duration": 707,
    "start_time": "2022-01-24T09:42:07.057Z"
   },
   {
    "duration": 5,
    "start_time": "2022-01-24T09:42:07.766Z"
   },
   {
    "duration": 55,
    "start_time": "2022-01-24T09:42:07.773Z"
   },
   {
    "duration": 25,
    "start_time": "2022-01-24T09:42:07.830Z"
   },
   {
    "duration": 40,
    "start_time": "2022-01-24T09:42:07.857Z"
   },
   {
    "duration": 45,
    "start_time": "2022-01-24T09:42:07.899Z"
   },
   {
    "duration": 48,
    "start_time": "2022-01-24T09:42:07.946Z"
   },
   {
    "duration": 53,
    "start_time": "2022-01-24T09:42:07.996Z"
   },
   {
    "duration": 45,
    "start_time": "2022-01-24T09:42:08.052Z"
   },
   {
    "duration": 43,
    "start_time": "2022-01-24T09:42:08.099Z"
   },
   {
    "duration": 33,
    "start_time": "2022-01-24T09:42:08.144Z"
   },
   {
    "duration": 38,
    "start_time": "2022-01-24T09:42:08.178Z"
   },
   {
    "duration": 48,
    "start_time": "2022-01-24T09:42:08.217Z"
   },
   {
    "duration": 58,
    "start_time": "2022-01-24T09:42:08.267Z"
   },
   {
    "duration": 67,
    "start_time": "2022-01-24T09:42:08.326Z"
   },
   {
    "duration": 30,
    "start_time": "2022-01-24T09:42:08.395Z"
   },
   {
    "duration": 49,
    "start_time": "2022-01-24T09:42:08.427Z"
   },
   {
    "duration": 60,
    "start_time": "2022-01-24T09:42:08.478Z"
   },
   {
    "duration": 44,
    "start_time": "2022-01-24T09:42:08.540Z"
   },
   {
    "duration": 31,
    "start_time": "2022-01-24T09:42:08.585Z"
   },
   {
    "duration": 48,
    "start_time": "2022-01-24T09:42:08.618Z"
   },
   {
    "duration": 40,
    "start_time": "2022-01-24T09:42:08.668Z"
   },
   {
    "duration": 45,
    "start_time": "2022-01-24T09:42:08.711Z"
   },
   {
    "duration": 39,
    "start_time": "2022-01-24T09:42:08.758Z"
   },
   {
    "duration": 73,
    "start_time": "2022-01-24T09:42:08.799Z"
   },
   {
    "duration": 19,
    "start_time": "2022-01-24T09:42:08.874Z"
   },
   {
    "duration": 892,
    "start_time": "2022-01-24T09:42:08.897Z"
   },
   {
    "duration": 6,
    "start_time": "2022-01-24T09:42:09.791Z"
   },
   {
    "duration": 25,
    "start_time": "2022-01-24T09:52:08.059Z"
   },
   {
    "duration": 6,
    "start_time": "2022-01-24T09:52:33.223Z"
   },
   {
    "duration": 7,
    "start_time": "2022-01-24T09:53:16.843Z"
   },
   {
    "duration": 7,
    "start_time": "2022-01-24T09:53:28.446Z"
   },
   {
    "duration": 993,
    "start_time": "2022-01-24T09:53:56.001Z"
   },
   {
    "duration": 666,
    "start_time": "2022-01-24T09:54:07.876Z"
   },
   {
    "duration": 7,
    "start_time": "2022-01-24T09:54:40.084Z"
   },
   {
    "duration": 129,
    "start_time": "2022-01-24T09:54:48.159Z"
   },
   {
    "duration": 677,
    "start_time": "2022-01-24T09:55:06.002Z"
   },
   {
    "duration": 65,
    "start_time": "2022-01-24T09:55:12.058Z"
   },
   {
    "duration": 5,
    "start_time": "2022-01-24T09:55:12.125Z"
   },
   {
    "duration": 30,
    "start_time": "2022-01-24T09:55:12.132Z"
   },
   {
    "duration": 36,
    "start_time": "2022-01-24T09:55:12.165Z"
   },
   {
    "duration": 23,
    "start_time": "2022-01-24T09:55:12.203Z"
   },
   {
    "duration": 7,
    "start_time": "2022-01-24T09:55:12.227Z"
   },
   {
    "duration": 8,
    "start_time": "2022-01-24T09:55:12.235Z"
   },
   {
    "duration": 6,
    "start_time": "2022-01-24T09:55:12.245Z"
   },
   {
    "duration": 8,
    "start_time": "2022-01-24T09:55:12.254Z"
   },
   {
    "duration": 8,
    "start_time": "2022-01-24T09:55:12.264Z"
   },
   {
    "duration": 6,
    "start_time": "2022-01-24T09:55:12.274Z"
   },
   {
    "duration": 5,
    "start_time": "2022-01-24T09:55:12.281Z"
   },
   {
    "duration": 8,
    "start_time": "2022-01-24T09:55:12.287Z"
   },
   {
    "duration": 14,
    "start_time": "2022-01-24T09:55:12.297Z"
   },
   {
    "duration": 23,
    "start_time": "2022-01-24T09:55:12.312Z"
   },
   {
    "duration": 6,
    "start_time": "2022-01-24T09:55:12.360Z"
   },
   {
    "duration": 33,
    "start_time": "2022-01-24T09:55:12.368Z"
   },
   {
    "duration": 8,
    "start_time": "2022-01-24T09:55:12.403Z"
   },
   {
    "duration": 25,
    "start_time": "2022-01-24T09:55:12.413Z"
   },
   {
    "duration": 5,
    "start_time": "2022-01-24T09:55:12.439Z"
   },
   {
    "duration": 37,
    "start_time": "2022-01-24T09:55:12.446Z"
   },
   {
    "duration": 15,
    "start_time": "2022-01-24T09:55:12.485Z"
   },
   {
    "duration": 21,
    "start_time": "2022-01-24T09:55:12.502Z"
   },
   {
    "duration": 14,
    "start_time": "2022-01-24T09:55:12.524Z"
   },
   {
    "duration": 58,
    "start_time": "2022-01-24T09:55:12.539Z"
   },
   {
    "duration": 13,
    "start_time": "2022-01-24T09:55:12.599Z"
   },
   {
    "duration": 979,
    "start_time": "2022-01-24T09:55:12.614Z"
   },
   {
    "duration": -491,
    "start_time": "2022-01-24T09:55:14.086Z"
   },
   {
    "duration": 917,
    "start_time": "2022-01-24T09:55:28.953Z"
   },
   {
    "duration": 685,
    "start_time": "2022-01-24T09:55:57.465Z"
   },
   {
    "duration": 787,
    "start_time": "2022-01-24T09:56:33.974Z"
   },
   {
    "duration": 1098,
    "start_time": "2022-01-24T09:58:56.381Z"
   },
   {
    "duration": 734,
    "start_time": "2022-01-24T09:59:03.067Z"
   },
   {
    "duration": 1040,
    "start_time": "2022-01-24T09:59:13.227Z"
   },
   {
    "duration": 723,
    "start_time": "2022-01-24T09:59:19.821Z"
   },
   {
    "duration": 866,
    "start_time": "2022-01-24T10:44:36.704Z"
   },
   {
    "duration": 712,
    "start_time": "2022-01-24T10:44:47.097Z"
   },
   {
    "duration": 737,
    "start_time": "2022-01-24T10:45:00.844Z"
   },
   {
    "duration": 71,
    "start_time": "2022-01-24T10:45:04.888Z"
   },
   {
    "duration": 71,
    "start_time": "2022-01-24T10:45:09.965Z"
   },
   {
    "duration": 5,
    "start_time": "2022-01-24T10:45:10.038Z"
   },
   {
    "duration": 27,
    "start_time": "2022-01-24T10:45:10.045Z"
   },
   {
    "duration": 7,
    "start_time": "2022-01-24T10:45:10.243Z"
   },
   {
    "duration": 28,
    "start_time": "2022-01-24T10:45:10.253Z"
   },
   {
    "duration": 18,
    "start_time": "2022-01-24T10:45:10.284Z"
   },
   {
    "duration": 17,
    "start_time": "2022-01-24T10:45:10.304Z"
   },
   {
    "duration": 33,
    "start_time": "2022-01-24T10:45:10.324Z"
   },
   {
    "duration": 26,
    "start_time": "2022-01-24T10:45:10.360Z"
   },
   {
    "duration": 17,
    "start_time": "2022-01-24T10:45:10.388Z"
   },
   {
    "duration": 5,
    "start_time": "2022-01-24T10:45:10.446Z"
   },
   {
    "duration": 24,
    "start_time": "2022-01-24T10:45:10.453Z"
   },
   {
    "duration": 24,
    "start_time": "2022-01-24T10:45:10.479Z"
   },
   {
    "duration": 27,
    "start_time": "2022-01-24T10:45:10.505Z"
   },
   {
    "duration": 33,
    "start_time": "2022-01-24T10:45:10.534Z"
   },
   {
    "duration": 22,
    "start_time": "2022-01-24T10:45:10.568Z"
   },
   {
    "duration": 14,
    "start_time": "2022-01-24T10:45:10.592Z"
   },
   {
    "duration": 22,
    "start_time": "2022-01-24T10:45:10.608Z"
   },
   {
    "duration": 32,
    "start_time": "2022-01-24T10:45:10.633Z"
   },
   {
    "duration": 5,
    "start_time": "2022-01-24T10:45:10.666Z"
   },
   {
    "duration": 43,
    "start_time": "2022-01-24T10:45:10.673Z"
   },
   {
    "duration": 16,
    "start_time": "2022-01-24T10:45:10.717Z"
   },
   {
    "duration": 54,
    "start_time": "2022-01-24T10:45:10.735Z"
   },
   {
    "duration": 16,
    "start_time": "2022-01-24T10:45:10.907Z"
   },
   {
    "duration": 49,
    "start_time": "2022-01-24T10:45:10.925Z"
   },
   {
    "duration": 15,
    "start_time": "2022-01-24T10:45:10.976Z"
   },
   {
    "duration": 732,
    "start_time": "2022-01-24T10:45:10.993Z"
   },
   {
    "duration": 188,
    "start_time": "2022-01-24T10:45:11.727Z"
   },
   {
    "duration": 427,
    "start_time": "2022-01-24T10:48:36.440Z"
   },
   {
    "duration": 761,
    "start_time": "2022-01-24T10:48:49.266Z"
   },
   {
    "duration": 5,
    "start_time": "2022-01-24T10:48:50.030Z"
   },
   {
    "duration": 28,
    "start_time": "2022-01-24T10:48:50.037Z"
   },
   {
    "duration": 30,
    "start_time": "2022-01-24T10:48:50.067Z"
   },
   {
    "duration": 17,
    "start_time": "2022-01-24T10:48:50.099Z"
   },
   {
    "duration": 40,
    "start_time": "2022-01-24T10:48:50.118Z"
   },
   {
    "duration": 31,
    "start_time": "2022-01-24T10:48:50.160Z"
   },
   {
    "duration": 28,
    "start_time": "2022-01-24T10:48:50.194Z"
   },
   {
    "duration": 35,
    "start_time": "2022-01-24T10:48:50.225Z"
   },
   {
    "duration": 25,
    "start_time": "2022-01-24T10:48:50.262Z"
   },
   {
    "duration": 23,
    "start_time": "2022-01-24T10:48:50.289Z"
   },
   {
    "duration": 31,
    "start_time": "2022-01-24T10:48:50.314Z"
   },
   {
    "duration": 27,
    "start_time": "2022-01-24T10:48:50.348Z"
   },
   {
    "duration": 34,
    "start_time": "2022-01-24T10:48:50.377Z"
   },
   {
    "duration": 38,
    "start_time": "2022-01-24T10:48:50.413Z"
   },
   {
    "duration": 25,
    "start_time": "2022-01-24T10:48:50.453Z"
   },
   {
    "duration": 33,
    "start_time": "2022-01-24T10:48:50.480Z"
   },
   {
    "duration": 38,
    "start_time": "2022-01-24T10:48:50.516Z"
   },
   {
    "duration": 60,
    "start_time": "2022-01-24T10:48:50.556Z"
   },
   {
    "duration": 7,
    "start_time": "2022-01-24T10:48:50.618Z"
   },
   {
    "duration": 53,
    "start_time": "2022-01-24T10:48:50.627Z"
   },
   {
    "duration": 25,
    "start_time": "2022-01-24T10:48:50.683Z"
   },
   {
    "duration": 47,
    "start_time": "2022-01-24T10:48:50.713Z"
   },
   {
    "duration": 24,
    "start_time": "2022-01-24T10:48:50.763Z"
   },
   {
    "duration": 74,
    "start_time": "2022-01-24T10:48:50.790Z"
   },
   {
    "duration": 23,
    "start_time": "2022-01-24T10:48:50.866Z"
   },
   {
    "duration": 1036,
    "start_time": "2022-01-24T10:48:50.890Z"
   },
   {
    "duration": 288,
    "start_time": "2022-01-24T10:50:08.160Z"
   },
   {
    "duration": 723,
    "start_time": "2022-01-24T10:50:42.244Z"
   },
   {
    "duration": 71,
    "start_time": "2022-01-24T10:50:47.576Z"
   },
   {
    "duration": 5,
    "start_time": "2022-01-24T10:50:47.649Z"
   },
   {
    "duration": 32,
    "start_time": "2022-01-24T10:50:47.656Z"
   },
   {
    "duration": 38,
    "start_time": "2022-01-24T10:50:47.690Z"
   },
   {
    "duration": 30,
    "start_time": "2022-01-24T10:50:47.730Z"
   },
   {
    "duration": 31,
    "start_time": "2022-01-24T10:50:47.762Z"
   },
   {
    "duration": 26,
    "start_time": "2022-01-24T10:50:47.795Z"
   },
   {
    "duration": 40,
    "start_time": "2022-01-24T10:50:47.824Z"
   },
   {
    "duration": 40,
    "start_time": "2022-01-24T10:50:47.866Z"
   },
   {
    "duration": 48,
    "start_time": "2022-01-24T10:50:47.908Z"
   },
   {
    "duration": 38,
    "start_time": "2022-01-24T10:50:47.958Z"
   },
   {
    "duration": 41,
    "start_time": "2022-01-24T10:50:47.998Z"
   },
   {
    "duration": 53,
    "start_time": "2022-01-24T10:50:48.041Z"
   },
   {
    "duration": 54,
    "start_time": "2022-01-24T10:50:48.096Z"
   },
   {
    "duration": 46,
    "start_time": "2022-01-24T10:50:48.152Z"
   },
   {
    "duration": 34,
    "start_time": "2022-01-24T10:50:48.200Z"
   },
   {
    "duration": 38,
    "start_time": "2022-01-24T10:50:48.236Z"
   },
   {
    "duration": 31,
    "start_time": "2022-01-24T10:50:48.276Z"
   },
   {
    "duration": 66,
    "start_time": "2022-01-24T10:50:48.308Z"
   },
   {
    "duration": 25,
    "start_time": "2022-01-24T10:50:48.376Z"
   },
   {
    "duration": 39,
    "start_time": "2022-01-24T10:50:48.403Z"
   },
   {
    "duration": 36,
    "start_time": "2022-01-24T10:50:48.444Z"
   },
   {
    "duration": 42,
    "start_time": "2022-01-24T10:50:48.483Z"
   },
   {
    "duration": 36,
    "start_time": "2022-01-24T10:50:48.527Z"
   },
   {
    "duration": 66,
    "start_time": "2022-01-24T10:50:48.565Z"
   },
   {
    "duration": 14,
    "start_time": "2022-01-24T10:50:48.633Z"
   },
   {
    "duration": 702,
    "start_time": "2022-01-24T10:50:48.648Z"
   },
   {
    "duration": 547,
    "start_time": "2022-01-24T10:51:17.126Z"
   },
   {
    "duration": 256,
    "start_time": "2022-01-24T10:51:23.700Z"
   },
   {
    "duration": 373,
    "start_time": "2022-01-24T10:51:32.915Z"
   },
   {
    "duration": 652,
    "start_time": "2022-01-24T10:52:07.501Z"
   },
   {
    "duration": 5,
    "start_time": "2022-01-24T10:52:08.154Z"
   },
   {
    "duration": 27,
    "start_time": "2022-01-24T10:52:08.161Z"
   },
   {
    "duration": 29,
    "start_time": "2022-01-24T10:52:08.190Z"
   },
   {
    "duration": 26,
    "start_time": "2022-01-24T10:52:08.221Z"
   },
   {
    "duration": 30,
    "start_time": "2022-01-24T10:52:08.249Z"
   },
   {
    "duration": 38,
    "start_time": "2022-01-24T10:52:08.281Z"
   },
   {
    "duration": 21,
    "start_time": "2022-01-24T10:52:08.320Z"
   },
   {
    "duration": 28,
    "start_time": "2022-01-24T10:52:08.343Z"
   },
   {
    "duration": 41,
    "start_time": "2022-01-24T10:52:08.373Z"
   },
   {
    "duration": 25,
    "start_time": "2022-01-24T10:52:08.416Z"
   },
   {
    "duration": 32,
    "start_time": "2022-01-24T10:52:08.443Z"
   },
   {
    "duration": 31,
    "start_time": "2022-01-24T10:52:08.477Z"
   },
   {
    "duration": 39,
    "start_time": "2022-01-24T10:52:08.510Z"
   },
   {
    "duration": 47,
    "start_time": "2022-01-24T10:52:08.550Z"
   },
   {
    "duration": 17,
    "start_time": "2022-01-24T10:52:08.599Z"
   },
   {
    "duration": 42,
    "start_time": "2022-01-24T10:52:08.617Z"
   },
   {
    "duration": 30,
    "start_time": "2022-01-24T10:52:08.661Z"
   },
   {
    "duration": 35,
    "start_time": "2022-01-24T10:52:08.693Z"
   },
   {
    "duration": 23,
    "start_time": "2022-01-24T10:52:08.730Z"
   },
   {
    "duration": 41,
    "start_time": "2022-01-24T10:52:08.755Z"
   },
   {
    "duration": 44,
    "start_time": "2022-01-24T10:52:08.798Z"
   },
   {
    "duration": 38,
    "start_time": "2022-01-24T10:52:08.844Z"
   },
   {
    "duration": 40,
    "start_time": "2022-01-24T10:52:08.884Z"
   },
   {
    "duration": 53,
    "start_time": "2022-01-24T10:52:08.926Z"
   },
   {
    "duration": 14,
    "start_time": "2022-01-24T10:52:08.981Z"
   },
   {
    "duration": 703,
    "start_time": "2022-01-24T10:52:08.998Z"
   },
   {
    "duration": 137,
    "start_time": "2022-01-24T10:52:09.703Z"
   },
   {
    "duration": 305,
    "start_time": "2022-01-24T10:52:51.949Z"
   },
   {
    "duration": 717,
    "start_time": "2022-01-24T10:53:06.722Z"
   },
   {
    "duration": 5,
    "start_time": "2022-01-24T10:53:07.440Z"
   },
   {
    "duration": 33,
    "start_time": "2022-01-24T10:53:07.447Z"
   },
   {
    "duration": 20,
    "start_time": "2022-01-24T10:53:07.482Z"
   },
   {
    "duration": 56,
    "start_time": "2022-01-24T10:53:07.503Z"
   },
   {
    "duration": 13,
    "start_time": "2022-01-24T10:53:07.561Z"
   },
   {
    "duration": 10,
    "start_time": "2022-01-24T10:53:07.577Z"
   },
   {
    "duration": 40,
    "start_time": "2022-01-24T10:53:07.589Z"
   },
   {
    "duration": 24,
    "start_time": "2022-01-24T10:53:07.632Z"
   },
   {
    "duration": 30,
    "start_time": "2022-01-24T10:53:07.658Z"
   },
   {
    "duration": 10,
    "start_time": "2022-01-24T10:53:07.690Z"
   },
   {
    "duration": 17,
    "start_time": "2022-01-24T10:53:07.701Z"
   },
   {
    "duration": 26,
    "start_time": "2022-01-24T10:53:07.720Z"
   },
   {
    "duration": 16,
    "start_time": "2022-01-24T10:53:07.748Z"
   },
   {
    "duration": 23,
    "start_time": "2022-01-24T10:53:07.766Z"
   },
   {
    "duration": 6,
    "start_time": "2022-01-24T10:53:07.791Z"
   },
   {
    "duration": 13,
    "start_time": "2022-01-24T10:53:07.798Z"
   },
   {
    "duration": 19,
    "start_time": "2022-01-24T10:53:07.813Z"
   },
   {
    "duration": 38,
    "start_time": "2022-01-24T10:53:07.834Z"
   },
   {
    "duration": 5,
    "start_time": "2022-01-24T10:53:07.873Z"
   },
   {
    "duration": 23,
    "start_time": "2022-01-24T10:53:07.880Z"
   },
   {
    "duration": 28,
    "start_time": "2022-01-24T10:53:07.905Z"
   },
   {
    "duration": 30,
    "start_time": "2022-01-24T10:53:07.935Z"
   },
   {
    "duration": 13,
    "start_time": "2022-01-24T10:53:07.967Z"
   },
   {
    "duration": 41,
    "start_time": "2022-01-24T10:53:07.982Z"
   },
   {
    "duration": 36,
    "start_time": "2022-01-24T10:53:08.025Z"
   },
   {
    "duration": 682,
    "start_time": "2022-01-24T10:53:08.062Z"
   },
   {
    "duration": 137,
    "start_time": "2022-01-24T10:53:08.746Z"
   },
   {
    "duration": 5,
    "start_time": "2022-01-24T11:08:26.582Z"
   },
   {
    "duration": 1178,
    "start_time": "2022-01-24T11:09:14.028Z"
   },
   {
    "duration": 6,
    "start_time": "2022-01-24T11:09:15.208Z"
   },
   {
    "duration": 29,
    "start_time": "2022-01-24T11:09:15.216Z"
   },
   {
    "duration": 29,
    "start_time": "2022-01-24T11:09:15.248Z"
   },
   {
    "duration": 34,
    "start_time": "2022-01-24T11:09:15.279Z"
   },
   {
    "duration": 29,
    "start_time": "2022-01-24T11:09:15.315Z"
   },
   {
    "duration": 25,
    "start_time": "2022-01-24T11:09:15.346Z"
   },
   {
    "duration": 34,
    "start_time": "2022-01-24T11:09:15.373Z"
   },
   {
    "duration": 33,
    "start_time": "2022-01-24T11:09:15.410Z"
   },
   {
    "duration": 34,
    "start_time": "2022-01-24T11:09:15.445Z"
   },
   {
    "duration": 35,
    "start_time": "2022-01-24T11:09:15.481Z"
   },
   {
    "duration": 32,
    "start_time": "2022-01-24T11:09:15.517Z"
   },
   {
    "duration": 32,
    "start_time": "2022-01-24T11:09:15.550Z"
   },
   {
    "duration": 46,
    "start_time": "2022-01-24T11:09:15.584Z"
   },
   {
    "duration": 43,
    "start_time": "2022-01-24T11:09:15.632Z"
   },
   {
    "duration": 24,
    "start_time": "2022-01-24T11:09:15.677Z"
   },
   {
    "duration": 35,
    "start_time": "2022-01-24T11:09:15.703Z"
   },
   {
    "duration": 39,
    "start_time": "2022-01-24T11:09:15.740Z"
   },
   {
    "duration": 75,
    "start_time": "2022-01-24T11:09:15.781Z"
   },
   {
    "duration": 18,
    "start_time": "2022-01-24T11:09:15.858Z"
   },
   {
    "duration": 41,
    "start_time": "2022-01-24T11:09:15.877Z"
   },
   {
    "duration": 35,
    "start_time": "2022-01-24T11:09:15.919Z"
   },
   {
    "duration": 40,
    "start_time": "2022-01-24T11:09:15.956Z"
   },
   {
    "duration": 69,
    "start_time": "2022-01-24T11:09:15.998Z"
   },
   {
    "duration": 57,
    "start_time": "2022-01-24T11:09:16.069Z"
   },
   {
    "duration": 13,
    "start_time": "2022-01-24T11:09:16.128Z"
   },
   {
    "duration": 699,
    "start_time": "2022-01-24T11:09:16.144Z"
   },
   {
    "duration": 14,
    "start_time": "2022-01-24T11:09:16.846Z"
   },
   {
    "duration": 563,
    "start_time": "2022-01-24T11:21:27.538Z"
   },
   {
    "duration": 9,
    "start_time": "2022-01-24T11:21:52.972Z"
   },
   {
    "duration": 7,
    "start_time": "2022-01-24T11:22:14.078Z"
   },
   {
    "duration": 7,
    "start_time": "2022-01-24T11:22:25.914Z"
   },
   {
    "duration": 8,
    "start_time": "2022-01-24T11:22:39.233Z"
   },
   {
    "duration": 8,
    "start_time": "2022-01-24T11:22:48.705Z"
   },
   {
    "duration": 12529,
    "start_time": "2022-01-24T11:38:34.727Z"
   },
   {
    "duration": 2904,
    "start_time": "2022-01-24T11:39:53.147Z"
   },
   {
    "duration": 3195,
    "start_time": "2022-01-24T11:41:53.121Z"
   },
   {
    "duration": 3321,
    "start_time": "2022-01-24T11:42:09.521Z"
   },
   {
    "duration": 3309,
    "start_time": "2022-01-24T11:42:38.352Z"
   },
   {
    "duration": 2959,
    "start_time": "2022-01-24T11:43:15.902Z"
   },
   {
    "duration": 3138,
    "start_time": "2022-01-24T11:43:49.304Z"
   },
   {
    "duration": 3064,
    "start_time": "2022-01-24T11:44:08.697Z"
   },
   {
    "duration": 696,
    "start_time": "2022-01-24T11:45:30.662Z"
   },
   {
    "duration": 7,
    "start_time": "2022-01-24T11:45:31.360Z"
   },
   {
    "duration": 20,
    "start_time": "2022-01-24T11:45:31.370Z"
   },
   {
    "duration": 21,
    "start_time": "2022-01-24T11:45:31.393Z"
   },
   {
    "duration": 28,
    "start_time": "2022-01-24T11:45:31.416Z"
   },
   {
    "duration": 24,
    "start_time": "2022-01-24T11:45:31.446Z"
   },
   {
    "duration": 34,
    "start_time": "2022-01-24T11:45:31.471Z"
   },
   {
    "duration": 33,
    "start_time": "2022-01-24T11:45:31.506Z"
   },
   {
    "duration": 36,
    "start_time": "2022-01-24T11:45:31.542Z"
   },
   {
    "duration": 42,
    "start_time": "2022-01-24T11:45:31.580Z"
   },
   {
    "duration": 32,
    "start_time": "2022-01-24T11:45:31.624Z"
   },
   {
    "duration": 32,
    "start_time": "2022-01-24T11:45:31.658Z"
   },
   {
    "duration": 33,
    "start_time": "2022-01-24T11:45:31.692Z"
   },
   {
    "duration": 38,
    "start_time": "2022-01-24T11:45:31.727Z"
   },
   {
    "duration": 42,
    "start_time": "2022-01-24T11:45:31.767Z"
   },
   {
    "duration": 28,
    "start_time": "2022-01-24T11:45:31.811Z"
   },
   {
    "duration": 38,
    "start_time": "2022-01-24T11:45:31.842Z"
   },
   {
    "duration": 34,
    "start_time": "2022-01-24T11:45:31.882Z"
   },
   {
    "duration": 52,
    "start_time": "2022-01-24T11:45:31.918Z"
   },
   {
    "duration": 13,
    "start_time": "2022-01-24T11:45:31.972Z"
   },
   {
    "duration": 37,
    "start_time": "2022-01-24T11:45:31.987Z"
   },
   {
    "duration": 46,
    "start_time": "2022-01-24T11:45:32.026Z"
   },
   {
    "duration": 35,
    "start_time": "2022-01-24T11:45:32.074Z"
   },
   {
    "duration": 18,
    "start_time": "2022-01-24T11:45:32.111Z"
   },
   {
    "duration": 48,
    "start_time": "2022-01-24T11:45:32.131Z"
   },
   {
    "duration": 15,
    "start_time": "2022-01-24T11:45:32.181Z"
   },
   {
    "duration": 2592,
    "start_time": "2022-01-24T11:45:32.199Z"
   },
   {
    "duration": 3183,
    "start_time": "2022-01-24T11:45:34.793Z"
   },
   {
    "duration": 3146,
    "start_time": "2022-01-24T11:49:56.324Z"
   },
   {
    "duration": 3184,
    "start_time": "2022-01-24T11:50:23.123Z"
   },
   {
    "duration": 3145,
    "start_time": "2022-01-24T11:51:07.476Z"
   },
   {
    "duration": 3172,
    "start_time": "2022-01-24T11:52:05.252Z"
   },
   {
    "duration": 3060,
    "start_time": "2022-01-24T11:52:30.300Z"
   },
   {
    "duration": 3775,
    "start_time": "2022-01-24T11:52:56.644Z"
   },
   {
    "duration": 3750,
    "start_time": "2022-01-24T11:53:07.457Z"
   },
   {
    "duration": 3476,
    "start_time": "2022-01-24T11:53:19.471Z"
   },
   {
    "duration": 3339,
    "start_time": "2022-01-24T11:53:32.333Z"
   },
   {
    "duration": 9,
    "start_time": "2022-01-24T12:27:32.088Z"
   },
   {
    "duration": 8,
    "start_time": "2022-01-24T12:27:43.957Z"
   },
   {
    "duration": 6,
    "start_time": "2022-01-24T12:27:56.870Z"
   },
   {
    "duration": 708,
    "start_time": "2022-01-24T12:28:07.346Z"
   },
   {
    "duration": 5,
    "start_time": "2022-01-24T12:28:08.056Z"
   },
   {
    "duration": 26,
    "start_time": "2022-01-24T12:28:08.063Z"
   },
   {
    "duration": 28,
    "start_time": "2022-01-24T12:28:08.091Z"
   },
   {
    "duration": 23,
    "start_time": "2022-01-24T12:28:08.121Z"
   },
   {
    "duration": 40,
    "start_time": "2022-01-24T12:28:08.146Z"
   },
   {
    "duration": 39,
    "start_time": "2022-01-24T12:28:08.188Z"
   },
   {
    "duration": 36,
    "start_time": "2022-01-24T12:28:08.229Z"
   },
   {
    "duration": 22,
    "start_time": "2022-01-24T12:28:08.267Z"
   },
   {
    "duration": 46,
    "start_time": "2022-01-24T12:28:08.291Z"
   },
   {
    "duration": 46,
    "start_time": "2022-01-24T12:28:08.339Z"
   },
   {
    "duration": 30,
    "start_time": "2022-01-24T12:28:08.387Z"
   },
   {
    "duration": 39,
    "start_time": "2022-01-24T12:28:08.419Z"
   },
   {
    "duration": 35,
    "start_time": "2022-01-24T12:28:08.460Z"
   },
   {
    "duration": 42,
    "start_time": "2022-01-24T12:28:08.497Z"
   },
   {
    "duration": 44,
    "start_time": "2022-01-24T12:28:08.541Z"
   },
   {
    "duration": 18,
    "start_time": "2022-01-24T12:28:08.587Z"
   },
   {
    "duration": 45,
    "start_time": "2022-01-24T12:28:08.607Z"
   },
   {
    "duration": 44,
    "start_time": "2022-01-24T12:28:08.654Z"
   },
   {
    "duration": 7,
    "start_time": "2022-01-24T12:28:08.700Z"
   },
   {
    "duration": 51,
    "start_time": "2022-01-24T12:28:08.708Z"
   },
   {
    "duration": 41,
    "start_time": "2022-01-24T12:28:08.760Z"
   },
   {
    "duration": 49,
    "start_time": "2022-01-24T12:28:08.803Z"
   },
   {
    "duration": 32,
    "start_time": "2022-01-24T12:28:08.853Z"
   },
   {
    "duration": 55,
    "start_time": "2022-01-24T12:28:08.887Z"
   },
   {
    "duration": 13,
    "start_time": "2022-01-24T12:28:08.944Z"
   },
   {
    "duration": 2619,
    "start_time": "2022-01-24T12:28:08.961Z"
   },
   {
    "duration": 3039,
    "start_time": "2022-01-24T12:28:11.582Z"
   },
   {
    "duration": 10,
    "start_time": "2022-01-24T12:28:34.369Z"
   },
   {
    "duration": 10,
    "start_time": "2022-01-24T12:28:37.780Z"
   },
   {
    "duration": 6,
    "start_time": "2022-01-24T12:29:27.015Z"
   },
   {
    "duration": 656,
    "start_time": "2022-01-24T12:29:37.387Z"
   },
   {
    "duration": 5,
    "start_time": "2022-01-24T12:29:38.045Z"
   },
   {
    "duration": 22,
    "start_time": "2022-01-24T12:29:38.052Z"
   },
   {
    "duration": 27,
    "start_time": "2022-01-24T12:29:38.076Z"
   },
   {
    "duration": 35,
    "start_time": "2022-01-24T12:29:38.105Z"
   },
   {
    "duration": 24,
    "start_time": "2022-01-24T12:29:38.142Z"
   },
   {
    "duration": 17,
    "start_time": "2022-01-24T12:29:38.168Z"
   },
   {
    "duration": 19,
    "start_time": "2022-01-24T12:29:38.187Z"
   },
   {
    "duration": 23,
    "start_time": "2022-01-24T12:29:38.209Z"
   },
   {
    "duration": 31,
    "start_time": "2022-01-24T12:29:38.234Z"
   },
   {
    "duration": 18,
    "start_time": "2022-01-24T12:29:38.267Z"
   },
   {
    "duration": 28,
    "start_time": "2022-01-24T12:29:38.287Z"
   },
   {
    "duration": 17,
    "start_time": "2022-01-24T12:29:38.317Z"
   },
   {
    "duration": 17,
    "start_time": "2022-01-24T12:29:38.335Z"
   },
   {
    "duration": 27,
    "start_time": "2022-01-24T12:29:38.354Z"
   },
   {
    "duration": 32,
    "start_time": "2022-01-24T12:29:38.383Z"
   },
   {
    "duration": 29,
    "start_time": "2022-01-24T12:29:38.416Z"
   },
   {
    "duration": 43,
    "start_time": "2022-01-24T12:29:38.447Z"
   },
   {
    "duration": 10,
    "start_time": "2022-01-24T12:29:38.492Z"
   },
   {
    "duration": 51,
    "start_time": "2022-01-24T12:29:38.504Z"
   },
   {
    "duration": 5,
    "start_time": "2022-01-24T12:29:38.557Z"
   },
   {
    "duration": 30,
    "start_time": "2022-01-24T12:29:38.563Z"
   },
   {
    "duration": 31,
    "start_time": "2022-01-24T12:29:38.595Z"
   },
   {
    "duration": 22,
    "start_time": "2022-01-24T12:29:38.629Z"
   },
   {
    "duration": 23,
    "start_time": "2022-01-24T12:29:38.653Z"
   },
   {
    "duration": 56,
    "start_time": "2022-01-24T12:29:38.678Z"
   },
   {
    "duration": 14,
    "start_time": "2022-01-24T12:29:38.736Z"
   },
   {
    "duration": 2551,
    "start_time": "2022-01-24T12:29:38.752Z"
   },
   {
    "duration": 3088,
    "start_time": "2022-01-24T12:29:41.305Z"
   },
   {
    "duration": 327,
    "start_time": "2022-01-24T16:13:40.935Z"
   },
   {
    "duration": 898,
    "start_time": "2022-01-24T16:13:45.432Z"
   },
   {
    "duration": 7,
    "start_time": "2022-01-24T16:13:46.333Z"
   },
   {
    "duration": 31,
    "start_time": "2022-01-24T16:13:46.343Z"
   },
   {
    "duration": 13,
    "start_time": "2022-01-24T16:13:46.376Z"
   },
   {
    "duration": 12,
    "start_time": "2022-01-24T16:13:46.392Z"
   },
   {
    "duration": 9,
    "start_time": "2022-01-24T16:13:46.407Z"
   },
   {
    "duration": 18,
    "start_time": "2022-01-24T16:13:46.419Z"
   },
   {
    "duration": 34,
    "start_time": "2022-01-24T16:13:46.439Z"
   },
   {
    "duration": 14,
    "start_time": "2022-01-24T16:13:46.477Z"
   },
   {
    "duration": 7,
    "start_time": "2022-01-24T16:13:46.494Z"
   },
   {
    "duration": 10,
    "start_time": "2022-01-24T16:13:46.504Z"
   },
   {
    "duration": 11,
    "start_time": "2022-01-24T16:13:46.517Z"
   },
   {
    "duration": 41,
    "start_time": "2022-01-24T16:13:46.530Z"
   },
   {
    "duration": 24,
    "start_time": "2022-01-24T16:13:46.573Z"
   },
   {
    "duration": 15,
    "start_time": "2022-01-24T16:13:46.599Z"
   },
   {
    "duration": 6641,
    "start_time": "2022-01-24T16:13:46.617Z"
   },
   {
    "duration": 2225,
    "start_time": "2022-01-24T16:13:51.035Z"
   },
   {
    "duration": 2221,
    "start_time": "2022-01-24T16:13:51.041Z"
   },
   {
    "duration": 2221,
    "start_time": "2022-01-24T16:13:51.043Z"
   },
   {
    "duration": 2217,
    "start_time": "2022-01-24T16:13:51.048Z"
   },
   {
    "duration": 2216,
    "start_time": "2022-01-24T16:13:51.050Z"
   },
   {
    "duration": 2214,
    "start_time": "2022-01-24T16:13:51.054Z"
   },
   {
    "duration": 2214,
    "start_time": "2022-01-24T16:13:51.056Z"
   },
   {
    "duration": 2210,
    "start_time": "2022-01-24T16:13:51.062Z"
   },
   {
    "duration": 2209,
    "start_time": "2022-01-24T16:13:51.064Z"
   },
   {
    "duration": 2205,
    "start_time": "2022-01-24T16:13:51.069Z"
   },
   {
    "duration": 2206,
    "start_time": "2022-01-24T16:13:51.070Z"
   },
   {
    "duration": 2201,
    "start_time": "2022-01-24T16:13:51.076Z"
   },
   {
    "duration": 2202,
    "start_time": "2022-01-24T16:13:51.077Z"
   },
   {
    "duration": 2198,
    "start_time": "2022-01-24T16:13:51.082Z"
   },
   {
    "duration": 7944,
    "start_time": "2022-01-24T16:14:16.508Z"
   },
   {
    "duration": 6654,
    "start_time": "2022-01-24T16:14:39.414Z"
   },
   {
    "duration": 6690,
    "start_time": "2022-01-24T16:15:04.652Z"
   },
   {
    "duration": 129,
    "start_time": "2022-01-24T16:16:33.353Z"
   },
   {
    "duration": 6754,
    "start_time": "2022-01-24T16:16:39.506Z"
   },
   {
    "duration": 36,
    "start_time": "2022-01-24T16:16:48.235Z"
   },
   {
    "duration": 32,
    "start_time": "2022-01-24T16:17:32.212Z"
   },
   {
    "duration": 877,
    "start_time": "2022-01-25T07:08:40.179Z"
   },
   {
    "duration": 14,
    "start_time": "2022-01-25T07:08:41.059Z"
   },
   {
    "duration": 14,
    "start_time": "2022-01-25T07:08:41.077Z"
   },
   {
    "duration": 10,
    "start_time": "2022-01-25T07:08:41.094Z"
   },
   {
    "duration": 10,
    "start_time": "2022-01-25T07:08:41.107Z"
   },
   {
    "duration": 50,
    "start_time": "2022-01-25T07:08:41.120Z"
   },
   {
    "duration": 11,
    "start_time": "2022-01-25T07:08:41.172Z"
   },
   {
    "duration": 8,
    "start_time": "2022-01-25T07:08:41.185Z"
   },
   {
    "duration": 10,
    "start_time": "2022-01-25T07:08:41.197Z"
   },
   {
    "duration": 8,
    "start_time": "2022-01-25T07:08:41.210Z"
   },
   {
    "duration": 11,
    "start_time": "2022-01-25T07:08:41.220Z"
   },
   {
    "duration": 12,
    "start_time": "2022-01-25T07:08:41.270Z"
   },
   {
    "duration": 17,
    "start_time": "2022-01-25T07:08:41.284Z"
   },
   {
    "duration": 17,
    "start_time": "2022-01-25T07:08:41.303Z"
   },
   {
    "duration": 21,
    "start_time": "2022-01-25T07:08:41.323Z"
   },
   {
    "duration": 51,
    "start_time": "2022-01-25T07:08:41.346Z"
   },
   {
    "duration": 33,
    "start_time": "2022-01-25T07:08:41.400Z"
   },
   {
    "duration": 35,
    "start_time": "2022-01-25T07:08:41.436Z"
   },
   {
    "duration": 13,
    "start_time": "2022-01-25T07:08:41.474Z"
   },
   {
    "duration": 12,
    "start_time": "2022-01-25T07:08:41.490Z"
   },
   {
    "duration": 78,
    "start_time": "2022-01-25T07:08:41.504Z"
   },
   {
    "duration": 8,
    "start_time": "2022-01-25T07:08:41.585Z"
   },
   {
    "duration": 23,
    "start_time": "2022-01-25T07:08:41.595Z"
   },
   {
    "duration": 59,
    "start_time": "2022-01-25T07:08:41.620Z"
   },
   {
    "duration": 33,
    "start_time": "2022-01-25T07:08:41.681Z"
   },
   {
    "duration": 20,
    "start_time": "2022-01-25T07:08:41.716Z"
   },
   {
    "duration": 58,
    "start_time": "2022-01-25T07:08:41.768Z"
   },
   {
    "duration": 19,
    "start_time": "2022-01-25T07:08:41.829Z"
   },
   {
    "duration": 3533,
    "start_time": "2022-01-25T07:08:41.870Z"
   },
   {
    "duration": 4082,
    "start_time": "2022-01-25T07:08:45.405Z"
   },
   {
    "duration": 117,
    "start_time": "2022-01-25T07:17:51.146Z"
   },
   {
    "duration": 7027,
    "start_time": "2022-01-25T07:18:00.063Z"
   },
   {
    "duration": 8,
    "start_time": "2022-01-25T07:18:15.482Z"
   },
   {
    "duration": 8,
    "start_time": "2022-01-25T07:18:37.544Z"
   },
   {
    "duration": 291,
    "start_time": "2022-01-25T07:28:55.685Z"
   },
   {
    "duration": 286,
    "start_time": "2022-01-25T07:29:17.833Z"
   },
   {
    "duration": 5,
    "start_time": "2022-01-25T07:29:26.701Z"
   },
   {
    "duration": 6,
    "start_time": "2022-01-25T07:29:36.379Z"
   },
   {
    "duration": 35,
    "start_time": "2022-01-25T07:31:30.139Z"
   },
   {
    "duration": 7,
    "start_time": "2022-01-25T07:42:18.160Z"
   },
   {
    "duration": 11,
    "start_time": "2022-01-25T07:42:36.856Z"
   },
   {
    "duration": 327,
    "start_time": "2022-01-25T07:50:51.165Z"
   },
   {
    "duration": 297,
    "start_time": "2022-01-25T07:51:02.436Z"
   },
   {
    "duration": 460,
    "start_time": "2022-01-25T07:51:15.306Z"
   },
   {
    "duration": 42,
    "start_time": "2022-01-25T07:51:22.260Z"
   },
   {
    "duration": 20,
    "start_time": "2022-01-25T07:51:47.946Z"
   },
   {
    "duration": 319,
    "start_time": "2022-01-25T08:04:29.184Z"
   },
   {
    "duration": 292,
    "start_time": "2022-01-25T08:04:36.768Z"
   },
   {
    "duration": 303,
    "start_time": "2022-01-25T08:05:08.682Z"
   },
   {
    "duration": 311,
    "start_time": "2022-01-25T08:05:22.123Z"
   },
   {
    "duration": 21,
    "start_time": "2022-01-25T08:08:06.723Z"
   },
   {
    "duration": 99,
    "start_time": "2022-01-25T08:08:17.202Z"
   },
   {
    "duration": 23,
    "start_time": "2022-01-25T08:12:34.465Z"
   },
   {
    "duration": 282,
    "start_time": "2022-01-25T08:13:37.223Z"
   },
   {
    "duration": 292,
    "start_time": "2022-01-25T08:13:42.234Z"
   },
   {
    "duration": 19,
    "start_time": "2022-01-25T08:18:01.842Z"
   },
   {
    "duration": 770,
    "start_time": "2022-01-25T08:25:59.493Z"
   },
   {
    "duration": 20,
    "start_time": "2022-01-25T08:26:09.087Z"
   },
   {
    "duration": 22,
    "start_time": "2022-01-25T08:26:13.810Z"
   },
   {
    "duration": 19,
    "start_time": "2022-01-25T08:26:19.411Z"
   },
   {
    "duration": 307,
    "start_time": "2022-01-25T08:26:30.910Z"
   },
   {
    "duration": 19,
    "start_time": "2022-01-25T08:26:39.678Z"
   },
   {
    "duration": 18,
    "start_time": "2022-01-25T08:27:51.443Z"
   },
   {
    "duration": 16,
    "start_time": "2022-01-25T08:35:42.772Z"
   },
   {
    "duration": 18,
    "start_time": "2022-01-25T08:35:55.049Z"
   },
   {
    "duration": 140,
    "start_time": "2022-01-25T08:37:22.388Z"
   },
   {
    "duration": 24,
    "start_time": "2022-01-25T08:37:29.764Z"
   },
   {
    "duration": 233,
    "start_time": "2022-01-25T08:38:09.825Z"
   },
   {
    "duration": 464,
    "start_time": "2022-01-25T08:38:15.974Z"
   },
   {
    "duration": 19,
    "start_time": "2022-01-25T08:38:27.142Z"
   },
   {
    "duration": 23,
    "start_time": "2022-01-25T08:40:51.504Z"
   },
   {
    "duration": 28,
    "start_time": "2022-01-25T08:40:57.457Z"
   },
   {
    "duration": 116,
    "start_time": "2022-01-25T08:42:32.264Z"
   },
   {
    "duration": 100,
    "start_time": "2022-01-25T08:43:13.372Z"
   },
   {
    "duration": 111,
    "start_time": "2022-01-25T08:43:18.638Z"
   },
   {
    "duration": 32,
    "start_time": "2022-01-25T08:43:39.590Z"
   },
   {
    "duration": 30,
    "start_time": "2022-01-25T08:43:54.483Z"
   },
   {
    "duration": 5,
    "start_time": "2022-01-25T09:32:53.404Z"
   },
   {
    "duration": 9,
    "start_time": "2022-01-25T09:33:07.562Z"
   },
   {
    "duration": 264,
    "start_time": "2022-01-25T09:36:33.517Z"
   },
   {
    "duration": 298,
    "start_time": "2022-01-25T09:36:45.726Z"
   },
   {
    "duration": 15,
    "start_time": "2022-01-25T09:36:52.662Z"
   },
   {
    "duration": 9,
    "start_time": "2022-01-25T09:37:00.990Z"
   },
   {
    "duration": 9,
    "start_time": "2022-01-25T09:37:24.376Z"
   },
   {
    "duration": 9,
    "start_time": "2022-01-25T09:38:30.130Z"
   },
   {
    "duration": 10,
    "start_time": "2022-01-25T09:38:41.590Z"
   },
   {
    "duration": 5,
    "start_time": "2022-01-25T09:38:46.300Z"
   },
   {
    "duration": 6,
    "start_time": "2022-01-25T09:47:29.570Z"
   },
   {
    "duration": 295,
    "start_time": "2022-01-25T09:50:25.992Z"
   },
   {
    "duration": 9,
    "start_time": "2022-01-25T09:50:29.021Z"
   },
   {
    "duration": 5,
    "start_time": "2022-01-25T09:50:59.043Z"
   },
   {
    "duration": 5,
    "start_time": "2022-01-25T09:51:03.711Z"
   },
   {
    "duration": 6,
    "start_time": "2022-01-25T10:24:03.811Z"
   },
   {
    "duration": 6,
    "start_time": "2022-01-25T10:24:11.611Z"
   },
   {
    "duration": 6,
    "start_time": "2022-01-25T10:27:37.309Z"
   },
   {
    "duration": 7,
    "start_time": "2022-01-25T10:27:47.092Z"
   },
   {
    "duration": 14,
    "start_time": "2022-01-25T10:29:07.566Z"
   },
   {
    "duration": 41,
    "start_time": "2022-01-25T10:29:21.783Z"
   },
   {
    "duration": 33,
    "start_time": "2022-01-25T10:32:11.806Z"
   },
   {
    "duration": 28,
    "start_time": "2022-01-25T10:34:32.809Z"
   },
   {
    "duration": 28,
    "start_time": "2022-01-25T10:38:55.071Z"
   },
   {
    "duration": 29,
    "start_time": "2022-01-25T10:41:13.638Z"
   },
   {
    "duration": 36,
    "start_time": "2022-01-25T10:43:10.360Z"
   },
   {
    "duration": 30,
    "start_time": "2022-01-25T10:43:34.884Z"
   },
   {
    "duration": 908,
    "start_time": "2022-01-25T10:47:16.945Z"
   },
   {
    "duration": 15,
    "start_time": "2022-01-25T10:47:17.856Z"
   },
   {
    "duration": 13,
    "start_time": "2022-01-25T10:47:17.874Z"
   },
   {
    "duration": 7,
    "start_time": "2022-01-25T10:47:17.890Z"
   },
   {
    "duration": 9,
    "start_time": "2022-01-25T10:47:17.899Z"
   },
   {
    "duration": 8,
    "start_time": "2022-01-25T10:47:17.910Z"
   },
   {
    "duration": 55,
    "start_time": "2022-01-25T10:47:17.921Z"
   },
   {
    "duration": 15,
    "start_time": "2022-01-25T10:47:17.979Z"
   },
   {
    "duration": 9,
    "start_time": "2022-01-25T10:47:17.997Z"
   },
   {
    "duration": 8,
    "start_time": "2022-01-25T10:47:18.008Z"
   },
   {
    "duration": 59,
    "start_time": "2022-01-25T10:47:18.019Z"
   },
   {
    "duration": 9,
    "start_time": "2022-01-25T10:47:18.081Z"
   },
   {
    "duration": 8,
    "start_time": "2022-01-25T10:47:18.093Z"
   },
   {
    "duration": 66,
    "start_time": "2022-01-25T10:47:18.104Z"
   },
   {
    "duration": 19,
    "start_time": "2022-01-25T10:47:18.173Z"
   },
   {
    "duration": 76,
    "start_time": "2022-01-25T10:47:18.195Z"
   },
   {
    "duration": 34,
    "start_time": "2022-01-25T10:47:18.275Z"
   },
   {
    "duration": 9,
    "start_time": "2022-01-25T10:47:18.311Z"
   },
   {
    "duration": 62,
    "start_time": "2022-01-25T10:47:18.322Z"
   },
   {
    "duration": 12,
    "start_time": "2022-01-25T10:47:18.386Z"
   },
   {
    "duration": 72,
    "start_time": "2022-01-25T10:47:18.401Z"
   },
   {
    "duration": 7,
    "start_time": "2022-01-25T10:47:18.476Z"
   },
   {
    "duration": 28,
    "start_time": "2022-01-25T10:47:18.491Z"
   },
   {
    "duration": 62,
    "start_time": "2022-01-25T10:47:18.523Z"
   },
   {
    "duration": 33,
    "start_time": "2022-01-25T10:47:18.588Z"
   },
   {
    "duration": 60,
    "start_time": "2022-01-25T10:47:18.623Z"
   },
   {
    "duration": 56,
    "start_time": "2022-01-25T10:47:18.685Z"
   },
   {
    "duration": 50,
    "start_time": "2022-01-25T10:47:18.745Z"
   },
   {
    "duration": 3443,
    "start_time": "2022-01-25T10:47:18.797Z"
   },
   {
    "duration": 4728,
    "start_time": "2022-01-25T10:47:22.243Z"
   },
   {
    "duration": 9,
    "start_time": "2022-01-25T10:47:26.974Z"
   },
   {
    "duration": 5,
    "start_time": "2022-01-25T10:47:26.986Z"
   },
   {
    "duration": 77,
    "start_time": "2022-01-25T10:47:26.994Z"
   },
   {
    "duration": 10,
    "start_time": "2022-01-25T10:47:27.074Z"
   },
   {
    "duration": 8,
    "start_time": "2022-01-25T10:47:27.087Z"
   },
   {
    "duration": 6,
    "start_time": "2022-01-25T10:47:27.097Z"
   },
   {
    "duration": 92,
    "start_time": "2022-01-25T10:47:27.106Z"
   },
   {
    "duration": 41,
    "start_time": "2022-01-25T10:47:27.201Z"
   },
   {
    "duration": 29,
    "start_time": "2022-01-25T10:47:27.269Z"
   },
   {
    "duration": 29,
    "start_time": "2022-01-25T10:47:27.301Z"
   },
   {
    "duration": 29,
    "start_time": "2022-01-25T10:47:27.370Z"
   },
   {
    "duration": 98,
    "start_time": "2022-01-25T12:56:38.762Z"
   },
   {
    "duration": 6,
    "start_time": "2022-01-25T12:56:38.869Z"
   },
   {
    "duration": 13,
    "start_time": "2022-01-25T12:56:38.878Z"
   },
   {
    "duration": 7,
    "start_time": "2022-01-25T12:56:38.894Z"
   },
   {
    "duration": 10,
    "start_time": "2022-01-25T12:56:38.904Z"
   },
   {
    "duration": 12,
    "start_time": "2022-01-25T12:56:38.917Z"
   },
   {
    "duration": 7,
    "start_time": "2022-01-25T12:56:38.970Z"
   },
   {
    "duration": 17,
    "start_time": "2022-01-25T12:56:38.979Z"
   },
   {
    "duration": 10,
    "start_time": "2022-01-25T12:56:39.000Z"
   },
   {
    "duration": 9,
    "start_time": "2022-01-25T12:56:39.013Z"
   },
   {
    "duration": 47,
    "start_time": "2022-01-25T12:56:39.024Z"
   },
   {
    "duration": 14,
    "start_time": "2022-01-25T12:56:39.074Z"
   },
   {
    "duration": 7,
    "start_time": "2022-01-25T12:56:39.090Z"
   },
   {
    "duration": 13,
    "start_time": "2022-01-25T12:56:39.100Z"
   },
   {
    "duration": 19,
    "start_time": "2022-01-25T12:56:39.115Z"
   },
   {
    "duration": 103,
    "start_time": "2022-01-25T12:56:39.136Z"
   },
   {
    "duration": 41,
    "start_time": "2022-01-25T12:56:39.242Z"
   },
   {
    "duration": 18,
    "start_time": "2022-01-25T12:56:39.285Z"
   },
   {
    "duration": 18,
    "start_time": "2022-01-25T12:56:39.306Z"
   },
   {
    "duration": 11,
    "start_time": "2022-01-25T12:56:39.327Z"
   },
   {
    "duration": 66,
    "start_time": "2022-01-25T12:56:39.341Z"
   },
   {
    "duration": 7,
    "start_time": "2022-01-25T12:56:39.410Z"
   },
   {
    "duration": 49,
    "start_time": "2022-01-25T12:56:39.420Z"
   },
   {
    "duration": 25,
    "start_time": "2022-01-25T12:56:39.472Z"
   },
   {
    "duration": 35,
    "start_time": "2022-01-25T12:56:39.500Z"
   },
   {
    "duration": 49,
    "start_time": "2022-01-25T12:56:39.538Z"
   },
   {
    "duration": 24,
    "start_time": "2022-01-25T12:56:50.988Z"
   },
   {
    "duration": 23,
    "start_time": "2022-01-25T12:57:03.377Z"
   },
   {
    "duration": 63,
    "start_time": "2022-01-25T12:59:11.208Z"
   },
   {
    "duration": 41,
    "start_time": "2022-01-25T12:59:19.569Z"
   },
   {
    "duration": 900,
    "start_time": "2022-01-25T12:59:36.346Z"
   },
   {
    "duration": 7,
    "start_time": "2022-01-25T12:59:37.249Z"
   },
   {
    "duration": 9,
    "start_time": "2022-01-25T12:59:37.271Z"
   },
   {
    "duration": 6,
    "start_time": "2022-01-25T12:59:37.283Z"
   },
   {
    "duration": 7,
    "start_time": "2022-01-25T12:59:37.292Z"
   },
   {
    "duration": 8,
    "start_time": "2022-01-25T12:59:37.301Z"
   },
   {
    "duration": 58,
    "start_time": "2022-01-25T12:59:37.311Z"
   },
   {
    "duration": 8,
    "start_time": "2022-01-25T12:59:37.372Z"
   },
   {
    "duration": 8,
    "start_time": "2022-01-25T12:59:37.384Z"
   },
   {
    "duration": 8,
    "start_time": "2022-01-25T12:59:37.395Z"
   },
   {
    "duration": 10,
    "start_time": "2022-01-25T12:59:37.406Z"
   },
   {
    "duration": 53,
    "start_time": "2022-01-25T12:59:37.418Z"
   },
   {
    "duration": 9,
    "start_time": "2022-01-25T12:59:37.473Z"
   },
   {
    "duration": 10,
    "start_time": "2022-01-25T12:59:37.485Z"
   },
   {
    "duration": 19,
    "start_time": "2022-01-25T12:59:37.498Z"
   },
   {
    "duration": 71,
    "start_time": "2022-01-25T12:59:37.520Z"
   },
   {
    "duration": 33,
    "start_time": "2022-01-25T12:59:37.594Z"
   },
   {
    "duration": 7,
    "start_time": "2022-01-25T12:59:37.630Z"
   },
   {
    "duration": 42,
    "start_time": "2022-01-25T12:59:37.640Z"
   },
   {
    "duration": 11,
    "start_time": "2022-01-25T12:59:37.685Z"
   },
   {
    "duration": 38,
    "start_time": "2022-01-25T12:59:37.699Z"
   },
   {
    "duration": 36,
    "start_time": "2022-01-25T12:59:37.740Z"
   },
   {
    "duration": 20,
    "start_time": "2022-01-25T12:59:37.779Z"
   },
   {
    "duration": 23,
    "start_time": "2022-01-25T12:59:37.801Z"
   },
   {
    "duration": 69,
    "start_time": "2022-01-25T12:59:37.826Z"
   },
   {
    "duration": 19,
    "start_time": "2022-01-25T12:59:37.897Z"
   },
   {
    "duration": 73,
    "start_time": "2022-01-25T12:59:37.920Z"
   },
   {
    "duration": 18,
    "start_time": "2022-01-25T12:59:37.996Z"
   },
   {
    "duration": 3339,
    "start_time": "2022-01-25T12:59:38.017Z"
   },
   {
    "duration": 4200,
    "start_time": "2022-01-25T12:59:41.358Z"
   },
   {
    "duration": 13,
    "start_time": "2022-01-25T12:59:45.560Z"
   },
   {
    "duration": 9,
    "start_time": "2022-01-25T12:59:45.576Z"
   },
   {
    "duration": 33,
    "start_time": "2022-01-25T12:59:45.588Z"
   },
   {
    "duration": 47,
    "start_time": "2022-01-25T12:59:45.624Z"
   },
   {
    "duration": 9,
    "start_time": "2022-01-25T12:59:45.673Z"
   },
   {
    "duration": 7,
    "start_time": "2022-01-25T12:59:45.684Z"
   },
   {
    "duration": 46,
    "start_time": "2022-01-25T12:59:45.693Z"
   },
   {
    "duration": 40,
    "start_time": "2022-01-25T12:59:45.770Z"
   },
   {
    "duration": 28,
    "start_time": "2022-01-25T12:59:45.812Z"
   },
   {
    "duration": 54,
    "start_time": "2022-01-25T12:59:45.843Z"
   },
   {
    "duration": 29,
    "start_time": "2022-01-25T12:59:45.900Z"
   },
   {
    "duration": 90,
    "start_time": "2022-01-26T11:39:29.665Z"
   },
   {
    "duration": 630,
    "start_time": "2022-01-26T11:39:34.911Z"
   },
   {
    "duration": 83,
    "start_time": "2022-01-26T11:39:39.775Z"
   },
   {
    "duration": 5,
    "start_time": "2022-01-26T11:45:53.439Z"
   },
   {
    "duration": 5,
    "start_time": "2022-01-26T11:45:55.543Z"
   },
   {
    "duration": 7,
    "start_time": "2022-01-26T11:53:20.668Z"
   },
   {
    "duration": 6,
    "start_time": "2022-01-26T11:58:41.759Z"
   },
   {
    "duration": 7,
    "start_time": "2022-01-26T12:00:02.318Z"
   },
   {
    "duration": 6,
    "start_time": "2022-01-26T12:00:07.527Z"
   },
   {
    "duration": 6,
    "start_time": "2022-01-26T12:01:44.420Z"
   },
   {
    "duration": 335,
    "start_time": "2022-01-26T12:03:46.929Z"
   },
   {
    "duration": 55,
    "start_time": "2022-01-26T12:03:53.086Z"
   },
   {
    "duration": 5,
    "start_time": "2022-01-26T12:03:53.143Z"
   },
   {
    "duration": 18,
    "start_time": "2022-01-26T12:03:53.150Z"
   },
   {
    "duration": 20,
    "start_time": "2022-01-26T12:03:53.171Z"
   },
   {
    "duration": 9,
    "start_time": "2022-01-26T12:03:53.193Z"
   },
   {
    "duration": 8,
    "start_time": "2022-01-26T12:03:53.203Z"
   },
   {
    "duration": 8,
    "start_time": "2022-01-26T12:03:53.213Z"
   },
   {
    "duration": 10,
    "start_time": "2022-01-26T12:03:53.222Z"
   },
   {
    "duration": 7,
    "start_time": "2022-01-26T12:03:53.234Z"
   },
   {
    "duration": 10,
    "start_time": "2022-01-26T12:03:53.242Z"
   },
   {
    "duration": 14,
    "start_time": "2022-01-26T12:03:53.254Z"
   },
   {
    "duration": 36,
    "start_time": "2022-01-26T12:03:53.270Z"
   },
   {
    "duration": 27,
    "start_time": "2022-01-26T12:03:53.308Z"
   },
   {
    "duration": 20,
    "start_time": "2022-01-26T12:03:53.338Z"
   },
   {
    "duration": 54,
    "start_time": "2022-01-26T12:03:53.360Z"
   },
   {
    "duration": 46,
    "start_time": "2022-01-26T12:03:53.416Z"
   },
   {
    "duration": 42,
    "start_time": "2022-01-26T12:03:53.464Z"
   },
   {
    "duration": 21,
    "start_time": "2022-01-26T12:03:53.508Z"
   },
   {
    "duration": 30,
    "start_time": "2022-01-26T12:03:53.531Z"
   },
   {
    "duration": 39,
    "start_time": "2022-01-26T12:03:53.567Z"
   },
   {
    "duration": 48,
    "start_time": "2022-01-26T12:03:53.607Z"
   },
   {
    "duration": 7,
    "start_time": "2022-01-26T12:03:53.657Z"
   },
   {
    "duration": 36,
    "start_time": "2022-01-26T12:03:53.665Z"
   },
   {
    "duration": 16,
    "start_time": "2022-01-26T12:03:53.703Z"
   },
   {
    "duration": 21,
    "start_time": "2022-01-26T12:03:53.720Z"
   },
   {
    "duration": 28,
    "start_time": "2022-01-26T12:03:53.743Z"
   },
   {
    "duration": 35,
    "start_time": "2022-01-26T12:03:53.775Z"
   },
   {
    "duration": 13,
    "start_time": "2022-01-26T12:03:53.812Z"
   },
   {
    "duration": 314,
    "start_time": "2022-01-26T12:03:53.826Z"
   },
   {
    "duration": -791,
    "start_time": "2022-01-26T12:03:54.933Z"
   },
   {
    "duration": -795,
    "start_time": "2022-01-26T12:03:54.938Z"
   },
   {
    "duration": -797,
    "start_time": "2022-01-26T12:03:54.941Z"
   },
   {
    "duration": -824,
    "start_time": "2022-01-26T12:03:54.969Z"
   },
   {
    "duration": -834,
    "start_time": "2022-01-26T12:03:54.980Z"
   },
   {
    "duration": -836,
    "start_time": "2022-01-26T12:03:54.983Z"
   },
   {
    "duration": -839,
    "start_time": "2022-01-26T12:03:54.987Z"
   },
   {
    "duration": -841,
    "start_time": "2022-01-26T12:03:54.990Z"
   },
   {
    "duration": -844,
    "start_time": "2022-01-26T12:03:54.994Z"
   },
   {
    "duration": -883,
    "start_time": "2022-01-26T12:03:55.033Z"
   },
   {
    "duration": -890,
    "start_time": "2022-01-26T12:03:55.041Z"
   },
   {
    "duration": -893,
    "start_time": "2022-01-26T12:03:55.045Z"
   },
   {
    "duration": -896,
    "start_time": "2022-01-26T12:03:55.049Z"
   },
   {
    "duration": 19,
    "start_time": "2022-01-26T12:14:09.454Z"
   },
   {
    "duration": 15,
    "start_time": "2022-01-26T12:14:16.277Z"
   },
   {
    "duration": 2440,
    "start_time": "2022-01-26T12:14:16.294Z"
   },
   {
    "duration": 3383,
    "start_time": "2022-01-26T12:14:18.737Z"
   },
   {
    "duration": 5,
    "start_time": "2022-01-26T12:14:22.123Z"
   },
   {
    "duration": 4,
    "start_time": "2022-01-26T12:14:22.130Z"
   },
   {
    "duration": 36,
    "start_time": "2022-01-26T12:14:22.136Z"
   },
   {
    "duration": 9,
    "start_time": "2022-01-26T12:14:22.178Z"
   },
   {
    "duration": 5,
    "start_time": "2022-01-26T12:14:22.189Z"
   },
   {
    "duration": 4,
    "start_time": "2022-01-26T12:14:22.196Z"
   },
   {
    "duration": 24,
    "start_time": "2022-01-26T12:14:22.202Z"
   },
   {
    "duration": 59,
    "start_time": "2022-01-26T12:14:22.228Z"
   },
   {
    "duration": 22,
    "start_time": "2022-01-26T12:14:22.289Z"
   },
   {
    "duration": 18,
    "start_time": "2022-01-26T12:14:22.313Z"
   },
   {
    "duration": 48,
    "start_time": "2022-01-26T12:14:22.332Z"
   },
   {
    "duration": 7,
    "start_time": "2022-01-26T12:34:54.613Z"
   },
   {
    "duration": 5,
    "start_time": "2022-01-26T12:37:24.446Z"
   },
   {
    "duration": 6,
    "start_time": "2022-01-26T12:37:59.747Z"
   },
   {
    "duration": 6,
    "start_time": "2022-01-26T12:40:19.527Z"
   },
   {
    "duration": 131,
    "start_time": "2022-01-26T13:04:33.133Z"
   },
   {
    "duration": 10,
    "start_time": "2022-01-26T13:04:49.423Z"
   },
   {
    "duration": 6,
    "start_time": "2022-01-26T13:05:08.293Z"
   },
   {
    "duration": 5,
    "start_time": "2022-01-26T13:06:52.505Z"
   },
   {
    "duration": 6,
    "start_time": "2022-01-26T13:07:14.486Z"
   },
   {
    "duration": 254,
    "start_time": "2022-01-26T13:07:21.620Z"
   },
   {
    "duration": 5,
    "start_time": "2022-01-26T13:07:38.171Z"
   },
   {
    "duration": 50,
    "start_time": "2022-01-26T13:09:25.793Z"
   },
   {
    "duration": 5,
    "start_time": "2022-01-26T13:09:55.827Z"
   },
   {
    "duration": 262,
    "start_time": "2022-01-26T13:10:12.278Z"
   },
   {
    "duration": 10,
    "start_time": "2022-01-26T13:10:22.662Z"
   },
   {
    "duration": 701,
    "start_time": "2022-01-26T13:11:38.753Z"
   },
   {
    "duration": 5,
    "start_time": "2022-01-26T13:11:39.456Z"
   },
   {
    "duration": 15,
    "start_time": "2022-01-26T13:11:39.463Z"
   },
   {
    "duration": 23,
    "start_time": "2022-01-26T13:11:39.480Z"
   },
   {
    "duration": 13,
    "start_time": "2022-01-26T13:11:39.505Z"
   },
   {
    "duration": 12,
    "start_time": "2022-01-26T13:11:39.520Z"
   },
   {
    "duration": 20,
    "start_time": "2022-01-26T13:11:39.534Z"
   },
   {
    "duration": 32,
    "start_time": "2022-01-26T13:11:39.556Z"
   },
   {
    "duration": 14,
    "start_time": "2022-01-26T13:11:39.592Z"
   },
   {
    "duration": 22,
    "start_time": "2022-01-26T13:11:39.609Z"
   },
   {
    "duration": 18,
    "start_time": "2022-01-26T13:11:39.633Z"
   },
   {
    "duration": 16,
    "start_time": "2022-01-26T13:11:39.653Z"
   },
   {
    "duration": 30,
    "start_time": "2022-01-26T13:11:39.671Z"
   },
   {
    "duration": 18,
    "start_time": "2022-01-26T13:11:39.703Z"
   },
   {
    "duration": 38,
    "start_time": "2022-01-26T13:11:39.723Z"
   },
   {
    "duration": 27,
    "start_time": "2022-01-26T13:11:39.763Z"
   },
   {
    "duration": 22,
    "start_time": "2022-01-26T13:11:39.791Z"
   },
   {
    "duration": 17,
    "start_time": "2022-01-26T13:11:39.815Z"
   },
   {
    "duration": 17,
    "start_time": "2022-01-26T13:11:39.834Z"
   },
   {
    "duration": 31,
    "start_time": "2022-01-26T13:11:39.853Z"
   },
   {
    "duration": 36,
    "start_time": "2022-01-26T13:11:39.885Z"
   },
   {
    "duration": 10,
    "start_time": "2022-01-26T13:11:39.923Z"
   },
   {
    "duration": 27,
    "start_time": "2022-01-26T13:11:39.934Z"
   },
   {
    "duration": 19,
    "start_time": "2022-01-26T13:11:39.963Z"
   },
   {
    "duration": 27,
    "start_time": "2022-01-26T13:11:39.984Z"
   },
   {
    "duration": 14,
    "start_time": "2022-01-26T13:11:40.013Z"
   },
   {
    "duration": 49,
    "start_time": "2022-01-26T13:11:40.031Z"
   },
   {
    "duration": 14,
    "start_time": "2022-01-26T13:11:40.082Z"
   },
   {
    "duration": 28,
    "start_time": "2022-01-26T13:11:40.098Z"
   },
   {
    "duration": 2406,
    "start_time": "2022-01-26T13:11:40.128Z"
   },
   {
    "duration": 3087,
    "start_time": "2022-01-26T13:11:42.536Z"
   },
   {
    "duration": 5,
    "start_time": "2022-01-26T13:11:45.625Z"
   },
   {
    "duration": 23,
    "start_time": "2022-01-26T13:11:45.632Z"
   },
   {
    "duration": 44,
    "start_time": "2022-01-26T13:11:45.660Z"
   },
   {
    "duration": 29,
    "start_time": "2022-01-26T13:11:45.706Z"
   },
   {
    "duration": 21,
    "start_time": "2022-01-26T13:11:45.737Z"
   },
   {
    "duration": 39,
    "start_time": "2022-01-26T13:11:45.760Z"
   },
   {
    "duration": 53,
    "start_time": "2022-01-26T13:11:45.801Z"
   },
   {
    "duration": 47,
    "start_time": "2022-01-26T13:11:45.856Z"
   },
   {
    "duration": 29,
    "start_time": "2022-01-26T13:11:45.904Z"
   },
   {
    "duration": 38,
    "start_time": "2022-01-26T13:11:45.935Z"
   },
   {
    "duration": 34,
    "start_time": "2022-01-26T13:11:45.975Z"
   },
   {
    "duration": 758,
    "start_time": "2022-01-26T13:12:03.228Z"
   },
   {
    "duration": 6,
    "start_time": "2022-01-26T13:12:03.988Z"
   },
   {
    "duration": 21,
    "start_time": "2022-01-26T13:12:03.997Z"
   },
   {
    "duration": 27,
    "start_time": "2022-01-26T13:12:04.020Z"
   },
   {
    "duration": 26,
    "start_time": "2022-01-26T13:12:04.049Z"
   },
   {
    "duration": 29,
    "start_time": "2022-01-26T13:12:04.077Z"
   },
   {
    "duration": 10,
    "start_time": "2022-01-26T13:12:04.109Z"
   },
   {
    "duration": 10,
    "start_time": "2022-01-26T13:12:04.122Z"
   },
   {
    "duration": 9,
    "start_time": "2022-01-26T13:12:04.134Z"
   },
   {
    "duration": 11,
    "start_time": "2022-01-26T13:12:04.145Z"
   },
   {
    "duration": 10,
    "start_time": "2022-01-26T13:12:04.158Z"
   },
   {
    "duration": 14,
    "start_time": "2022-01-26T13:12:04.169Z"
   },
   {
    "duration": 11,
    "start_time": "2022-01-26T13:12:04.185Z"
   },
   {
    "duration": 11,
    "start_time": "2022-01-26T13:12:04.198Z"
   },
   {
    "duration": 12,
    "start_time": "2022-01-26T13:12:04.211Z"
   },
   {
    "duration": 15,
    "start_time": "2022-01-26T13:12:04.225Z"
   },
   {
    "duration": 23,
    "start_time": "2022-01-26T13:12:04.242Z"
   },
   {
    "duration": 15,
    "start_time": "2022-01-26T13:12:04.267Z"
   },
   {
    "duration": 11,
    "start_time": "2022-01-26T13:12:04.283Z"
   },
   {
    "duration": 8,
    "start_time": "2022-01-26T13:12:04.296Z"
   },
   {
    "duration": 26,
    "start_time": "2022-01-26T13:12:04.306Z"
   },
   {
    "duration": 27,
    "start_time": "2022-01-26T13:12:04.334Z"
   },
   {
    "duration": 14,
    "start_time": "2022-01-26T13:12:04.365Z"
   },
   {
    "duration": 17,
    "start_time": "2022-01-26T13:12:04.381Z"
   },
   {
    "duration": 27,
    "start_time": "2022-01-26T13:12:04.400Z"
   },
   {
    "duration": 43,
    "start_time": "2022-01-26T13:12:04.429Z"
   },
   {
    "duration": 38,
    "start_time": "2022-01-26T13:12:04.474Z"
   },
   {
    "duration": 13,
    "start_time": "2022-01-26T13:12:04.514Z"
   },
   {
    "duration": 43,
    "start_time": "2022-01-26T13:12:04.529Z"
   },
   {
    "duration": 2541,
    "start_time": "2022-01-26T13:12:04.574Z"
   },
   {
    "duration": 2885,
    "start_time": "2022-01-26T13:12:07.117Z"
   },
   {
    "duration": 6,
    "start_time": "2022-01-26T13:12:10.004Z"
   },
   {
    "duration": 13,
    "start_time": "2022-01-26T13:12:10.012Z"
   },
   {
    "duration": 41,
    "start_time": "2022-01-26T13:12:10.027Z"
   },
   {
    "duration": 19,
    "start_time": "2022-01-26T13:12:10.070Z"
   },
   {
    "duration": 20,
    "start_time": "2022-01-26T13:12:10.091Z"
   },
   {
    "duration": 25,
    "start_time": "2022-01-26T13:12:10.113Z"
   },
   {
    "duration": 32,
    "start_time": "2022-01-26T13:12:10.140Z"
   },
   {
    "duration": 46,
    "start_time": "2022-01-26T13:12:10.174Z"
   },
   {
    "duration": 21,
    "start_time": "2022-01-26T13:12:10.222Z"
   },
   {
    "duration": 19,
    "start_time": "2022-01-26T13:12:10.245Z"
   },
   {
    "duration": 32,
    "start_time": "2022-01-26T13:12:10.266Z"
   },
   {
    "duration": 9,
    "start_time": "2022-01-26T13:12:20.718Z"
   },
   {
    "duration": 662,
    "start_time": "2022-01-26T13:12:35.818Z"
   },
   {
    "duration": 5,
    "start_time": "2022-01-26T13:12:36.482Z"
   },
   {
    "duration": 8,
    "start_time": "2022-01-26T13:12:36.489Z"
   },
   {
    "duration": 5,
    "start_time": "2022-01-26T13:12:36.499Z"
   },
   {
    "duration": 10,
    "start_time": "2022-01-26T13:12:36.506Z"
   },
   {
    "duration": 29,
    "start_time": "2022-01-26T13:12:36.518Z"
   },
   {
    "duration": 32,
    "start_time": "2022-01-26T13:12:36.549Z"
   },
   {
    "duration": 16,
    "start_time": "2022-01-26T13:12:36.583Z"
   },
   {
    "duration": 32,
    "start_time": "2022-01-26T13:12:36.601Z"
   },
   {
    "duration": 11,
    "start_time": "2022-01-26T13:12:36.635Z"
   },
   {
    "duration": 22,
    "start_time": "2022-01-26T13:12:36.647Z"
   },
   {
    "duration": 23,
    "start_time": "2022-01-26T13:12:36.671Z"
   },
   {
    "duration": 11,
    "start_time": "2022-01-26T13:12:36.696Z"
   },
   {
    "duration": 20,
    "start_time": "2022-01-26T13:12:36.709Z"
   },
   {
    "duration": 37,
    "start_time": "2022-01-26T13:12:36.731Z"
   },
   {
    "duration": 23,
    "start_time": "2022-01-26T13:12:36.770Z"
   },
   {
    "duration": 35,
    "start_time": "2022-01-26T13:12:36.795Z"
   },
   {
    "duration": 21,
    "start_time": "2022-01-26T13:12:36.832Z"
   },
   {
    "duration": 13,
    "start_time": "2022-01-26T13:12:36.855Z"
   },
   {
    "duration": 24,
    "start_time": "2022-01-26T13:12:36.870Z"
   },
   {
    "duration": 32,
    "start_time": "2022-01-26T13:12:36.896Z"
   },
   {
    "duration": 6,
    "start_time": "2022-01-26T13:12:36.930Z"
   },
   {
    "duration": 23,
    "start_time": "2022-01-26T13:12:36.939Z"
   },
   {
    "duration": 16,
    "start_time": "2022-01-26T13:12:36.964Z"
   },
   {
    "duration": 24,
    "start_time": "2022-01-26T13:12:36.982Z"
   },
   {
    "duration": 16,
    "start_time": "2022-01-26T13:12:37.007Z"
   },
   {
    "duration": 63,
    "start_time": "2022-01-26T13:12:37.025Z"
   },
   {
    "duration": 14,
    "start_time": "2022-01-26T13:12:37.090Z"
   },
   {
    "duration": 17,
    "start_time": "2022-01-26T13:12:37.105Z"
   },
   {
    "duration": 2416,
    "start_time": "2022-01-26T13:12:37.124Z"
   },
   {
    "duration": 2999,
    "start_time": "2022-01-26T13:12:39.542Z"
   },
   {
    "duration": 18,
    "start_time": "2022-01-26T13:12:42.543Z"
   },
   {
    "duration": 14,
    "start_time": "2022-01-26T13:12:42.563Z"
   },
   {
    "duration": 28,
    "start_time": "2022-01-26T13:12:42.578Z"
   },
   {
    "duration": 9,
    "start_time": "2022-01-26T13:12:42.609Z"
   },
   {
    "duration": 6,
    "start_time": "2022-01-26T13:12:42.620Z"
   },
   {
    "duration": 17,
    "start_time": "2022-01-26T13:12:42.628Z"
   },
   {
    "duration": 41,
    "start_time": "2022-01-26T13:12:42.647Z"
   },
   {
    "duration": 48,
    "start_time": "2022-01-26T13:12:42.690Z"
   },
   {
    "duration": 26,
    "start_time": "2022-01-26T13:12:42.740Z"
   },
   {
    "duration": 26,
    "start_time": "2022-01-26T13:12:42.769Z"
   },
   {
    "duration": 24,
    "start_time": "2022-01-26T13:12:42.798Z"
   },
   {
    "duration": 29,
    "start_time": "2022-01-26T13:22:10.144Z"
   },
   {
    "duration": 27,
    "start_time": "2022-01-26T13:24:28.503Z"
   },
   {
    "duration": 30,
    "start_time": "2022-01-26T13:27:01.703Z"
   },
   {
    "duration": 6,
    "start_time": "2022-01-26T13:31:02.415Z"
   },
   {
    "duration": 6,
    "start_time": "2022-01-26T13:31:13.439Z"
   },
   {
    "duration": 5,
    "start_time": "2022-01-26T13:32:02.972Z"
   },
   {
    "duration": 8,
    "start_time": "2022-01-26T13:43:11.470Z"
   },
   {
    "duration": 778,
    "start_time": "2022-01-26T15:09:58.472Z"
   },
   {
    "duration": 7,
    "start_time": "2022-01-26T15:09:59.253Z"
   },
   {
    "duration": 7,
    "start_time": "2022-01-26T15:09:59.263Z"
   },
   {
    "duration": 7,
    "start_time": "2022-01-26T15:09:59.273Z"
   },
   {
    "duration": 43,
    "start_time": "2022-01-26T15:09:59.283Z"
   },
   {
    "duration": 13,
    "start_time": "2022-01-26T15:09:59.328Z"
   },
   {
    "duration": 12,
    "start_time": "2022-01-26T15:09:59.343Z"
   },
   {
    "duration": 7,
    "start_time": "2022-01-26T15:09:59.359Z"
   },
   {
    "duration": 18,
    "start_time": "2022-01-26T15:09:59.371Z"
   },
   {
    "duration": 42,
    "start_time": "2022-01-26T15:09:59.392Z"
   },
   {
    "duration": 13,
    "start_time": "2022-01-26T15:09:59.437Z"
   },
   {
    "duration": 7,
    "start_time": "2022-01-26T15:09:59.452Z"
   },
   {
    "duration": 6,
    "start_time": "2022-01-26T15:09:59.462Z"
   },
   {
    "duration": 12,
    "start_time": "2022-01-26T15:09:59.470Z"
   },
   {
    "duration": 19,
    "start_time": "2022-01-26T15:09:59.524Z"
   },
   {
    "duration": 35,
    "start_time": "2022-01-26T15:09:59.546Z"
   },
   {
    "duration": 64,
    "start_time": "2022-01-26T15:09:59.584Z"
   },
   {
    "duration": 9,
    "start_time": "2022-01-26T15:09:59.650Z"
   },
   {
    "duration": 13,
    "start_time": "2022-01-26T15:09:59.662Z"
   },
   {
    "duration": 51,
    "start_time": "2022-01-26T15:09:59.678Z"
   },
   {
    "duration": 43,
    "start_time": "2022-01-26T15:09:59.731Z"
   },
   {
    "duration": 7,
    "start_time": "2022-01-26T15:09:59.777Z"
   },
   {
    "duration": 52,
    "start_time": "2022-01-26T15:09:59.791Z"
   },
   {
    "duration": 28,
    "start_time": "2022-01-26T15:09:59.846Z"
   },
   {
    "duration": 66,
    "start_time": "2022-01-26T15:09:59.876Z"
   },
   {
    "duration": 18,
    "start_time": "2022-01-26T15:09:59.945Z"
   },
   {
    "duration": 81,
    "start_time": "2022-01-26T15:09:59.966Z"
   },
   {
    "duration": 19,
    "start_time": "2022-01-26T15:10:00.049Z"
   },
   {
    "duration": 34,
    "start_time": "2022-01-26T15:10:00.070Z"
   },
   {
    "duration": 3121,
    "start_time": "2022-01-26T15:10:00.106Z"
   },
   {
    "duration": 3958,
    "start_time": "2022-01-26T15:10:03.230Z"
   },
   {
    "duration": 7,
    "start_time": "2022-01-26T15:10:07.191Z"
   },
   {
    "duration": 24,
    "start_time": "2022-01-26T15:10:07.200Z"
   },
   {
    "duration": 37,
    "start_time": "2022-01-26T15:10:07.227Z"
   },
   {
    "duration": 10,
    "start_time": "2022-01-26T15:10:07.267Z"
   },
   {
    "duration": 9,
    "start_time": "2022-01-26T15:10:07.279Z"
   },
   {
    "duration": 35,
    "start_time": "2022-01-26T15:10:07.290Z"
   },
   {
    "duration": 35,
    "start_time": "2022-01-26T15:10:07.328Z"
   },
   {
    "duration": 70,
    "start_time": "2022-01-26T15:10:07.366Z"
   },
   {
    "duration": 30,
    "start_time": "2022-01-26T15:10:07.438Z"
   },
   {
    "duration": 26,
    "start_time": "2022-01-26T15:10:07.470Z"
   },
   {
    "duration": 49,
    "start_time": "2022-01-26T15:10:07.499Z"
   },
   {
    "duration": 7752,
    "start_time": "2022-01-26T15:14:13.557Z"
   },
   {
    "duration": 16,
    "start_time": "2022-01-26T15:14:36.656Z"
   },
   {
    "duration": 28,
    "start_time": "2022-01-26T15:14:49.713Z"
   },
   {
    "duration": 11,
    "start_time": "2022-01-26T15:15:49.996Z"
   },
   {
    "duration": 33,
    "start_time": "2022-01-26T15:28:20.022Z"
   },
   {
    "duration": 26,
    "start_time": "2022-01-26T15:28:33.704Z"
   },
   {
    "duration": 5,
    "start_time": "2022-01-26T15:55:25.305Z"
   },
   {
    "duration": 812,
    "start_time": "2022-01-26T15:55:33.005Z"
   },
   {
    "duration": 7,
    "start_time": "2022-01-26T15:55:33.820Z"
   },
   {
    "duration": 14,
    "start_time": "2022-01-26T15:55:33.829Z"
   },
   {
    "duration": 6,
    "start_time": "2022-01-26T15:55:33.846Z"
   },
   {
    "duration": 8,
    "start_time": "2022-01-26T15:55:33.854Z"
   },
   {
    "duration": 8,
    "start_time": "2022-01-26T15:55:33.865Z"
   },
   {
    "duration": 48,
    "start_time": "2022-01-26T15:55:33.875Z"
   },
   {
    "duration": 7,
    "start_time": "2022-01-26T15:55:33.927Z"
   },
   {
    "duration": 16,
    "start_time": "2022-01-26T15:55:33.937Z"
   },
   {
    "duration": 9,
    "start_time": "2022-01-26T15:55:33.955Z"
   },
   {
    "duration": 9,
    "start_time": "2022-01-26T15:55:33.966Z"
   },
   {
    "duration": 9,
    "start_time": "2022-01-26T15:55:33.977Z"
   },
   {
    "duration": 38,
    "start_time": "2022-01-26T15:55:33.988Z"
   },
   {
    "duration": 12,
    "start_time": "2022-01-26T15:55:34.028Z"
   },
   {
    "duration": 15,
    "start_time": "2022-01-26T15:55:34.043Z"
   },
   {
    "duration": 32,
    "start_time": "2022-01-26T15:55:34.060Z"
   },
   {
    "duration": 32,
    "start_time": "2022-01-26T15:55:34.124Z"
   },
   {
    "duration": 8,
    "start_time": "2022-01-26T15:55:34.159Z"
   },
   {
    "duration": 13,
    "start_time": "2022-01-26T15:55:34.169Z"
   },
   {
    "duration": 12,
    "start_time": "2022-01-26T15:55:34.224Z"
   },
   {
    "duration": 37,
    "start_time": "2022-01-26T15:55:34.238Z"
   },
   {
    "duration": 6,
    "start_time": "2022-01-26T15:55:34.277Z"
   },
   {
    "duration": 17,
    "start_time": "2022-01-26T15:55:34.324Z"
   },
   {
    "duration": 20,
    "start_time": "2022-01-26T15:55:34.344Z"
   },
   {
    "duration": 58,
    "start_time": "2022-01-26T15:55:34.367Z"
   },
   {
    "duration": 18,
    "start_time": "2022-01-26T15:55:34.427Z"
   },
   {
    "duration": 36,
    "start_time": "2022-01-26T15:55:34.447Z"
   },
   {
    "duration": 42,
    "start_time": "2022-01-26T15:55:34.485Z"
   },
   {
    "duration": 22,
    "start_time": "2022-01-26T15:55:34.529Z"
   },
   {
    "duration": 3014,
    "start_time": "2022-01-26T15:55:34.553Z"
   },
   {
    "duration": 4207,
    "start_time": "2022-01-26T15:55:37.569Z"
   },
   {
    "duration": 7,
    "start_time": "2022-01-26T15:55:41.778Z"
   },
   {
    "duration": 5,
    "start_time": "2022-01-26T15:55:41.787Z"
   },
   {
    "duration": 54,
    "start_time": "2022-01-26T15:55:41.795Z"
   },
   {
    "duration": 9,
    "start_time": "2022-01-26T15:55:41.851Z"
   },
   {
    "duration": 16,
    "start_time": "2022-01-26T15:55:41.862Z"
   },
   {
    "duration": 7,
    "start_time": "2022-01-26T15:55:41.880Z"
   },
   {
    "duration": 58,
    "start_time": "2022-01-26T15:55:41.889Z"
   },
   {
    "duration": 38,
    "start_time": "2022-01-26T15:55:41.950Z"
   },
   {
    "duration": 47,
    "start_time": "2022-01-26T15:55:41.990Z"
   },
   {
    "duration": 24,
    "start_time": "2022-01-26T15:55:42.040Z"
   },
   {
    "duration": 25,
    "start_time": "2022-01-26T15:55:42.066Z"
   },
   {
    "duration": 772,
    "start_time": "2022-01-26T15:56:22.232Z"
   },
   {
    "duration": 6,
    "start_time": "2022-01-26T15:56:23.007Z"
   },
   {
    "duration": 8,
    "start_time": "2022-01-26T15:56:23.024Z"
   },
   {
    "duration": 6,
    "start_time": "2022-01-26T15:56:23.035Z"
   },
   {
    "duration": 11,
    "start_time": "2022-01-26T15:56:23.043Z"
   },
   {
    "duration": 7,
    "start_time": "2022-01-26T15:56:23.057Z"
   },
   {
    "duration": 55,
    "start_time": "2022-01-26T15:56:23.068Z"
   },
   {
    "duration": 8,
    "start_time": "2022-01-26T15:56:23.126Z"
   },
   {
    "duration": 15,
    "start_time": "2022-01-26T15:56:23.136Z"
   },
   {
    "duration": 9,
    "start_time": "2022-01-26T15:56:23.153Z"
   },
   {
    "duration": 15,
    "start_time": "2022-01-26T15:56:23.164Z"
   },
   {
    "duration": 8,
    "start_time": "2022-01-26T15:56:23.181Z"
   },
   {
    "duration": 34,
    "start_time": "2022-01-26T15:56:23.191Z"
   },
   {
    "duration": 10,
    "start_time": "2022-01-26T15:56:23.227Z"
   },
   {
    "duration": 12,
    "start_time": "2022-01-26T15:56:23.239Z"
   },
   {
    "duration": 31,
    "start_time": "2022-01-26T15:56:23.253Z"
   },
   {
    "duration": 31,
    "start_time": "2022-01-26T15:56:23.323Z"
   },
   {
    "duration": 7,
    "start_time": "2022-01-26T15:56:23.357Z"
   },
   {
    "duration": 13,
    "start_time": "2022-01-26T15:56:23.367Z"
   },
   {
    "duration": 50,
    "start_time": "2022-01-26T15:56:23.382Z"
   },
   {
    "duration": 38,
    "start_time": "2022-01-26T15:56:23.435Z"
   },
   {
    "duration": 7,
    "start_time": "2022-01-26T15:56:23.480Z"
   },
   {
    "duration": 20,
    "start_time": "2022-01-26T15:56:23.523Z"
   },
   {
    "duration": 22,
    "start_time": "2022-01-26T15:56:23.545Z"
   },
   {
    "duration": 62,
    "start_time": "2022-01-26T15:56:23.569Z"
   },
   {
    "duration": 17,
    "start_time": "2022-01-26T15:56:23.634Z"
   },
   {
    "duration": 39,
    "start_time": "2022-01-26T15:56:23.653Z"
   },
   {
    "duration": 41,
    "start_time": "2022-01-26T15:56:23.694Z"
   },
   {
    "duration": 21,
    "start_time": "2022-01-26T15:56:23.737Z"
   },
   {
    "duration": 2941,
    "start_time": "2022-01-26T15:56:23.760Z"
   },
   {
    "duration": 3790,
    "start_time": "2022-01-26T15:56:26.704Z"
   },
   {
    "duration": 8,
    "start_time": "2022-01-26T15:56:30.497Z"
   },
   {
    "duration": 7,
    "start_time": "2022-01-26T15:56:30.524Z"
   },
   {
    "duration": 47,
    "start_time": "2022-01-26T15:56:30.534Z"
   },
   {
    "duration": 10,
    "start_time": "2022-01-26T15:56:30.583Z"
   },
   {
    "duration": 31,
    "start_time": "2022-01-26T15:56:30.595Z"
   },
   {
    "duration": 12,
    "start_time": "2022-01-26T15:56:30.629Z"
   },
   {
    "duration": 54,
    "start_time": "2022-01-26T15:56:30.644Z"
   },
   {
    "duration": 64,
    "start_time": "2022-01-26T15:56:30.701Z"
   },
   {
    "duration": 29,
    "start_time": "2022-01-26T15:56:30.767Z"
   },
   {
    "duration": 37,
    "start_time": "2022-01-26T15:56:30.798Z"
   },
   {
    "duration": 28,
    "start_time": "2022-01-26T15:56:30.837Z"
   },
   {
    "duration": 1292,
    "start_time": "2022-01-26T15:57:14.690Z"
   },
   {
    "duration": 7,
    "start_time": "2022-01-26T15:57:15.985Z"
   },
   {
    "duration": 28,
    "start_time": "2022-01-26T15:57:15.995Z"
   },
   {
    "duration": 6,
    "start_time": "2022-01-26T15:57:16.025Z"
   },
   {
    "duration": 7,
    "start_time": "2022-01-26T15:57:16.033Z"
   },
   {
    "duration": 6,
    "start_time": "2022-01-26T15:57:16.043Z"
   },
   {
    "duration": 7,
    "start_time": "2022-01-26T15:57:16.052Z"
   },
   {
    "duration": 7,
    "start_time": "2022-01-26T15:57:16.062Z"
   },
   {
    "duration": 8,
    "start_time": "2022-01-26T15:57:16.123Z"
   },
   {
    "duration": 9,
    "start_time": "2022-01-26T15:57:16.134Z"
   },
   {
    "duration": 9,
    "start_time": "2022-01-26T15:57:16.145Z"
   },
   {
    "duration": 10,
    "start_time": "2022-01-26T15:57:16.156Z"
   },
   {
    "duration": 7,
    "start_time": "2022-01-26T15:57:16.169Z"
   },
   {
    "duration": 53,
    "start_time": "2022-01-26T15:57:16.178Z"
   },
   {
    "duration": 13,
    "start_time": "2022-01-26T15:57:16.233Z"
   },
   {
    "duration": 31,
    "start_time": "2022-01-26T15:57:16.248Z"
   },
   {
    "duration": 64,
    "start_time": "2022-01-26T15:57:16.282Z"
   },
   {
    "duration": 7,
    "start_time": "2022-01-26T15:57:16.348Z"
   },
   {
    "duration": 12,
    "start_time": "2022-01-26T15:57:16.357Z"
   },
   {
    "duration": 9,
    "start_time": "2022-01-26T15:57:16.372Z"
   },
   {
    "duration": 34,
    "start_time": "2022-01-26T15:57:16.423Z"
   },
   {
    "duration": 7,
    "start_time": "2022-01-26T15:57:16.459Z"
   },
   {
    "duration": 17,
    "start_time": "2022-01-26T15:57:16.471Z"
   },
   {
    "duration": 48,
    "start_time": "2022-01-26T15:57:16.491Z"
   },
   {
    "duration": 29,
    "start_time": "2022-01-26T15:57:16.541Z"
   },
   {
    "duration": 18,
    "start_time": "2022-01-26T15:57:16.573Z"
   },
   {
    "duration": 39,
    "start_time": "2022-01-26T15:57:16.624Z"
   },
   {
    "duration": 18,
    "start_time": "2022-01-26T15:57:16.665Z"
   },
   {
    "duration": 45,
    "start_time": "2022-01-26T15:57:16.685Z"
   },
   {
    "duration": 2920,
    "start_time": "2022-01-26T15:57:16.732Z"
   },
   {
    "duration": 3686,
    "start_time": "2022-01-26T15:57:19.654Z"
   },
   {
    "duration": 7,
    "start_time": "2022-01-26T15:57:23.342Z"
   },
   {
    "duration": 7,
    "start_time": "2022-01-26T15:57:23.351Z"
   },
   {
    "duration": 29,
    "start_time": "2022-01-26T15:57:23.361Z"
   },
   {
    "duration": 9,
    "start_time": "2022-01-26T15:57:23.422Z"
   },
   {
    "duration": 7,
    "start_time": "2022-01-26T15:57:23.434Z"
   },
   {
    "duration": 5,
    "start_time": "2022-01-26T15:57:23.444Z"
   },
   {
    "duration": 35,
    "start_time": "2022-01-26T15:57:23.452Z"
   },
   {
    "duration": 39,
    "start_time": "2022-01-26T15:57:23.523Z"
   },
   {
    "duration": 28,
    "start_time": "2022-01-26T15:57:23.565Z"
   },
   {
    "duration": 49,
    "start_time": "2022-01-26T15:57:23.595Z"
   },
   {
    "duration": 24,
    "start_time": "2022-01-26T15:57:23.646Z"
   },
   {
    "duration": 787,
    "start_time": "2022-01-26T18:56:58.714Z"
   },
   {
    "duration": 7,
    "start_time": "2022-01-26T18:56:59.503Z"
   },
   {
    "duration": 16,
    "start_time": "2022-01-26T18:56:59.513Z"
   },
   {
    "duration": 6,
    "start_time": "2022-01-26T18:56:59.531Z"
   },
   {
    "duration": 7,
    "start_time": "2022-01-26T18:56:59.540Z"
   },
   {
    "duration": 7,
    "start_time": "2022-01-26T18:56:59.549Z"
   },
   {
    "duration": 7,
    "start_time": "2022-01-26T18:56:59.559Z"
   },
   {
    "duration": 54,
    "start_time": "2022-01-26T18:56:59.570Z"
   },
   {
    "duration": 7,
    "start_time": "2022-01-26T18:56:59.627Z"
   },
   {
    "duration": 8,
    "start_time": "2022-01-26T18:56:59.636Z"
   },
   {
    "duration": 11,
    "start_time": "2022-01-26T18:56:59.646Z"
   },
   {
    "duration": 5,
    "start_time": "2022-01-26T18:56:59.659Z"
   },
   {
    "duration": 6,
    "start_time": "2022-01-26T18:56:59.667Z"
   },
   {
    "duration": 8,
    "start_time": "2022-01-26T18:56:59.723Z"
   },
   {
    "duration": 14,
    "start_time": "2022-01-26T18:56:59.734Z"
   },
   {
    "duration": 32,
    "start_time": "2022-01-26T18:56:59.750Z"
   },
   {
    "duration": 56,
    "start_time": "2022-01-26T18:56:59.785Z"
   },
   {
    "duration": 8,
    "start_time": "2022-01-26T18:56:59.843Z"
   },
   {
    "duration": 14,
    "start_time": "2022-01-26T18:56:59.853Z"
   },
   {
    "duration": 11,
    "start_time": "2022-01-26T18:56:59.869Z"
   },
   {
    "duration": 73,
    "start_time": "2022-01-26T18:56:59.882Z"
   },
   {
    "duration": 6,
    "start_time": "2022-01-26T18:56:59.957Z"
   },
   {
    "duration": 22,
    "start_time": "2022-01-26T18:56:59.968Z"
   },
   {
    "duration": 45,
    "start_time": "2022-01-26T18:56:59.993Z"
   },
   {
    "duration": 31,
    "start_time": "2022-01-26T18:57:00.040Z"
   },
   {
    "duration": 50,
    "start_time": "2022-01-26T18:57:00.074Z"
   },
   {
    "duration": 40,
    "start_time": "2022-01-26T18:57:00.127Z"
   },
   {
    "duration": 17,
    "start_time": "2022-01-26T18:57:00.169Z"
   },
   {
    "duration": 45,
    "start_time": "2022-01-26T18:57:00.188Z"
   },
   {
    "duration": 2959,
    "start_time": "2022-01-26T18:57:00.236Z"
   },
   {
    "duration": 3646,
    "start_time": "2022-01-26T18:57:03.198Z"
   },
   {
    "duration": 7,
    "start_time": "2022-01-26T18:57:06.847Z"
   },
   {
    "duration": 6,
    "start_time": "2022-01-26T18:57:06.857Z"
   },
   {
    "duration": 73,
    "start_time": "2022-01-26T18:57:06.865Z"
   },
   {
    "duration": 9,
    "start_time": "2022-01-26T18:57:06.941Z"
   },
   {
    "duration": 9,
    "start_time": "2022-01-26T18:57:06.953Z"
   },
   {
    "duration": 7,
    "start_time": "2022-01-26T18:57:06.965Z"
   },
   {
    "duration": 75,
    "start_time": "2022-01-26T18:57:06.974Z"
   },
   {
    "duration": 40,
    "start_time": "2022-01-26T18:57:07.051Z"
   },
   {
    "duration": 49,
    "start_time": "2022-01-26T18:57:07.093Z"
   },
   {
    "duration": 27,
    "start_time": "2022-01-26T18:57:07.144Z"
   },
   {
    "duration": 54,
    "start_time": "2022-01-26T18:57:07.173Z"
   },
   {
    "duration": 28,
    "start_time": "2022-01-26T19:52:18.729Z"
   },
   {
    "duration": 749,
    "start_time": "2022-01-26T20:16:08.875Z"
   },
   {
    "duration": 7,
    "start_time": "2022-01-26T20:16:09.627Z"
   },
   {
    "duration": 9,
    "start_time": "2022-01-26T20:16:09.637Z"
   },
   {
    "duration": 6,
    "start_time": "2022-01-26T20:16:09.649Z"
   },
   {
    "duration": 10,
    "start_time": "2022-01-26T20:16:09.657Z"
   },
   {
    "duration": 8,
    "start_time": "2022-01-26T20:16:09.670Z"
   },
   {
    "duration": 47,
    "start_time": "2022-01-26T20:16:09.680Z"
   },
   {
    "duration": 10,
    "start_time": "2022-01-26T20:16:09.731Z"
   },
   {
    "duration": 12,
    "start_time": "2022-01-26T20:16:09.743Z"
   },
   {
    "duration": 9,
    "start_time": "2022-01-26T20:16:09.757Z"
   },
   {
    "duration": 9,
    "start_time": "2022-01-26T20:16:09.768Z"
   },
   {
    "duration": 6,
    "start_time": "2022-01-26T20:16:09.779Z"
   },
   {
    "duration": 6,
    "start_time": "2022-01-26T20:16:09.823Z"
   },
   {
    "duration": 10,
    "start_time": "2022-01-26T20:16:09.832Z"
   },
   {
    "duration": 13,
    "start_time": "2022-01-26T20:16:09.844Z"
   },
   {
    "duration": 66,
    "start_time": "2022-01-26T20:16:09.859Z"
   },
   {
    "duration": 22,
    "start_time": "2022-01-26T20:16:09.927Z"
   },
   {
    "duration": 13,
    "start_time": "2022-01-26T20:16:09.951Z"
   },
   {
    "duration": 16,
    "start_time": "2022-01-26T20:16:09.966Z"
   },
   {
    "duration": 47,
    "start_time": "2022-01-26T20:16:09.984Z"
   },
   {
    "duration": 38,
    "start_time": "2022-01-26T20:16:10.033Z"
   },
   {
    "duration": 8,
    "start_time": "2022-01-26T20:16:10.074Z"
   },
   {
    "duration": 19,
    "start_time": "2022-01-26T20:16:10.128Z"
   },
   {
    "duration": 23,
    "start_time": "2022-01-26T20:16:10.151Z"
   },
   {
    "duration": 54,
    "start_time": "2022-01-26T20:16:10.176Z"
   },
   {
    "duration": 16,
    "start_time": "2022-01-26T20:16:10.232Z"
   },
   {
    "duration": 37,
    "start_time": "2022-01-26T20:16:10.250Z"
   },
   {
    "duration": 47,
    "start_time": "2022-01-26T20:16:10.289Z"
   },
   {
    "duration": 19,
    "start_time": "2022-01-26T20:16:10.338Z"
   },
   {
    "duration": 2954,
    "start_time": "2022-01-26T20:16:10.359Z"
   },
   {
    "duration": 3609,
    "start_time": "2022-01-26T20:16:13.316Z"
   },
   {
    "duration": 7,
    "start_time": "2022-01-26T20:16:16.927Z"
   },
   {
    "duration": 5,
    "start_time": "2022-01-26T20:16:16.936Z"
   },
   {
    "duration": 33,
    "start_time": "2022-01-26T20:16:16.944Z"
   },
   {
    "duration": 46,
    "start_time": "2022-01-26T20:16:16.979Z"
   },
   {
    "duration": 10,
    "start_time": "2022-01-26T20:16:17.027Z"
   },
   {
    "duration": 6,
    "start_time": "2022-01-26T20:16:17.040Z"
   },
   {
    "duration": 37,
    "start_time": "2022-01-26T20:16:17.048Z"
   },
   {
    "duration": 70,
    "start_time": "2022-01-26T20:16:17.088Z"
   },
   {
    "duration": 30,
    "start_time": "2022-01-26T20:16:17.161Z"
   },
   {
    "duration": 48,
    "start_time": "2022-01-26T20:16:17.194Z"
   },
   {
    "duration": 25,
    "start_time": "2022-01-26T20:16:17.244Z"
   },
   {
    "duration": 23,
    "start_time": "2022-01-26T20:16:43.731Z"
   },
   {
    "duration": 799,
    "start_time": "2022-01-26T20:18:01.256Z"
   },
   {
    "duration": 6,
    "start_time": "2022-01-26T20:18:02.058Z"
   },
   {
    "duration": 17,
    "start_time": "2022-01-26T20:18:02.067Z"
   },
   {
    "duration": 21,
    "start_time": "2022-01-26T20:18:02.087Z"
   },
   {
    "duration": 9,
    "start_time": "2022-01-26T20:18:02.125Z"
   },
   {
    "duration": 12,
    "start_time": "2022-01-26T20:18:02.138Z"
   },
   {
    "duration": 28,
    "start_time": "2022-01-26T20:18:02.153Z"
   },
   {
    "duration": 18,
    "start_time": "2022-01-26T20:18:02.185Z"
   },
   {
    "duration": 7,
    "start_time": "2022-01-26T20:18:02.225Z"
   },
   {
    "duration": 12,
    "start_time": "2022-01-26T20:18:02.235Z"
   },
   {
    "duration": 10,
    "start_time": "2022-01-26T20:18:02.250Z"
   },
   {
    "duration": 9,
    "start_time": "2022-01-26T20:18:02.263Z"
   },
   {
    "duration": 8,
    "start_time": "2022-01-26T20:18:02.274Z"
   },
   {
    "duration": 13,
    "start_time": "2022-01-26T20:18:02.322Z"
   },
   {
    "duration": 29,
    "start_time": "2022-01-26T20:18:02.337Z"
   },
   {
    "duration": 57,
    "start_time": "2022-01-26T20:18:02.368Z"
   },
   {
    "duration": 23,
    "start_time": "2022-01-26T20:18:02.427Z"
   },
   {
    "duration": 12,
    "start_time": "2022-01-26T20:18:02.453Z"
   },
   {
    "duration": 23,
    "start_time": "2022-01-26T20:18:02.468Z"
   },
   {
    "duration": 40,
    "start_time": "2022-01-26T20:18:02.493Z"
   },
   {
    "duration": 39,
    "start_time": "2022-01-26T20:18:02.535Z"
   },
   {
    "duration": 12,
    "start_time": "2022-01-26T20:18:02.578Z"
   },
   {
    "duration": 45,
    "start_time": "2022-01-26T20:18:02.595Z"
   },
   {
    "duration": 23,
    "start_time": "2022-01-26T20:18:02.643Z"
   },
   {
    "duration": 65,
    "start_time": "2022-01-26T20:18:02.668Z"
   },
   {
    "duration": 22,
    "start_time": "2022-01-26T20:18:02.735Z"
   },
   {
    "duration": 73,
    "start_time": "2022-01-26T20:18:02.760Z"
   },
   {
    "duration": 25,
    "start_time": "2022-01-26T20:18:02.835Z"
   },
   {
    "duration": 33,
    "start_time": "2022-01-26T20:18:02.863Z"
   },
   {
    "duration": 3838,
    "start_time": "2022-01-26T20:18:02.898Z"
   },
   {
    "duration": 3884,
    "start_time": "2022-01-26T20:18:06.739Z"
   },
   {
    "duration": 8,
    "start_time": "2022-01-26T20:18:10.626Z"
   },
   {
    "duration": 7,
    "start_time": "2022-01-26T20:18:10.637Z"
   },
   {
    "duration": 33,
    "start_time": "2022-01-26T20:18:10.647Z"
   },
   {
    "duration": 47,
    "start_time": "2022-01-26T20:18:10.683Z"
   },
   {
    "duration": 10,
    "start_time": "2022-01-26T20:18:10.733Z"
   },
   {
    "duration": 6,
    "start_time": "2022-01-26T20:18:10.745Z"
   },
   {
    "duration": 36,
    "start_time": "2022-01-26T20:18:10.753Z"
   },
   {
    "duration": 65,
    "start_time": "2022-01-26T20:18:10.791Z"
   },
   {
    "duration": 28,
    "start_time": "2022-01-26T20:18:10.858Z"
   },
   {
    "duration": 49,
    "start_time": "2022-01-26T20:18:10.889Z"
   },
   {
    "duration": 26,
    "start_time": "2022-01-26T20:18:10.940Z"
   },
   {
    "duration": 21,
    "start_time": "2022-01-26T20:21:43.605Z"
   },
   {
    "duration": 803,
    "start_time": "2022-01-26T20:22:01.390Z"
   },
   {
    "duration": 6,
    "start_time": "2022-01-26T20:22:02.195Z"
   },
   {
    "duration": 20,
    "start_time": "2022-01-26T20:22:02.204Z"
   },
   {
    "duration": 14,
    "start_time": "2022-01-26T20:22:02.227Z"
   },
   {
    "duration": 7,
    "start_time": "2022-01-26T20:22:02.244Z"
   },
   {
    "duration": 13,
    "start_time": "2022-01-26T20:22:02.253Z"
   },
   {
    "duration": 9,
    "start_time": "2022-01-26T20:22:02.268Z"
   },
   {
    "duration": 7,
    "start_time": "2022-01-26T20:22:02.281Z"
   },
   {
    "duration": 6,
    "start_time": "2022-01-26T20:22:02.323Z"
   },
   {
    "duration": 8,
    "start_time": "2022-01-26T20:22:02.332Z"
   },
   {
    "duration": 8,
    "start_time": "2022-01-26T20:22:02.342Z"
   },
   {
    "duration": 10,
    "start_time": "2022-01-26T20:22:02.353Z"
   },
   {
    "duration": 6,
    "start_time": "2022-01-26T20:22:02.365Z"
   },
   {
    "duration": 54,
    "start_time": "2022-01-26T20:22:02.373Z"
   },
   {
    "duration": 13,
    "start_time": "2022-01-26T20:22:02.430Z"
   },
   {
    "duration": 31,
    "start_time": "2022-01-26T20:22:02.445Z"
   },
   {
    "duration": 51,
    "start_time": "2022-01-26T20:22:02.478Z"
   },
   {
    "duration": 7,
    "start_time": "2022-01-26T20:22:02.531Z"
   },
   {
    "duration": 14,
    "start_time": "2022-01-26T20:22:02.540Z"
   },
   {
    "duration": 10,
    "start_time": "2022-01-26T20:22:02.556Z"
   },
   {
    "duration": 77,
    "start_time": "2022-01-26T20:22:02.568Z"
   },
   {
    "duration": 6,
    "start_time": "2022-01-26T20:22:02.647Z"
   },
   {
    "duration": 18,
    "start_time": "2022-01-26T20:22:02.658Z"
   },
   {
    "duration": 48,
    "start_time": "2022-01-26T20:22:02.679Z"
   },
   {
    "duration": 30,
    "start_time": "2022-01-26T20:22:02.729Z"
   },
   {
    "duration": 18,
    "start_time": "2022-01-26T20:22:02.761Z"
   },
   {
    "duration": 70,
    "start_time": "2022-01-26T20:22:02.782Z"
   },
   {
    "duration": 16,
    "start_time": "2022-01-26T20:22:02.855Z"
   },
   {
    "duration": 20,
    "start_time": "2022-01-26T20:22:02.873Z"
   },
   {
    "duration": 2983,
    "start_time": "2022-01-26T20:22:02.896Z"
   },
   {
    "duration": 3566,
    "start_time": "2022-01-26T20:22:05.881Z"
   },
   {
    "duration": 7,
    "start_time": "2022-01-26T20:22:09.449Z"
   },
   {
    "duration": 9,
    "start_time": "2022-01-26T20:22:09.459Z"
   },
   {
    "duration": 54,
    "start_time": "2022-01-26T20:22:09.471Z"
   },
   {
    "duration": 10,
    "start_time": "2022-01-26T20:22:09.527Z"
   },
   {
    "duration": 8,
    "start_time": "2022-01-26T20:22:09.540Z"
   },
   {
    "duration": 6,
    "start_time": "2022-01-26T20:22:09.551Z"
   },
   {
    "duration": 81,
    "start_time": "2022-01-26T20:22:09.560Z"
   },
   {
    "duration": 36,
    "start_time": "2022-01-26T20:22:09.644Z"
   },
   {
    "duration": 47,
    "start_time": "2022-01-26T20:22:09.682Z"
   },
   {
    "duration": 23,
    "start_time": "2022-01-26T20:22:09.732Z"
   },
   {
    "duration": 25,
    "start_time": "2022-01-26T20:22:09.757Z"
   },
   {
    "duration": 5,
    "start_time": "2022-01-26T20:35:51.163Z"
   },
   {
    "duration": 5,
    "start_time": "2022-01-26T20:35:58.378Z"
   },
   {
    "duration": 5,
    "start_time": "2022-01-26T20:36:11.174Z"
   },
   {
    "duration": 34,
    "start_time": "2022-01-26T20:36:15.381Z"
   },
   {
    "duration": 26,
    "start_time": "2022-01-26T20:36:36.710Z"
   },
   {
    "duration": 21,
    "start_time": "2022-01-26T20:44:00.329Z"
   },
   {
    "duration": 19,
    "start_time": "2022-01-26T20:44:09.944Z"
   },
   {
    "duration": 3842,
    "start_time": "2022-01-26T20:56:42.492Z"
   },
   {
    "duration": 3598,
    "start_time": "2022-01-26T20:57:48.516Z"
   },
   {
    "duration": 3175,
    "start_time": "2022-01-26T20:59:07.481Z"
   },
   {
    "duration": 4,
    "start_time": "2022-01-27T05:59:28.998Z"
   },
   {
    "duration": 3,
    "start_time": "2022-01-27T06:13:21.557Z"
   },
   {
    "duration": 474,
    "start_time": "2022-01-27T06:29:22.024Z"
   },
   {
    "duration": 706,
    "start_time": "2022-01-27T06:36:27.976Z"
   },
   {
    "duration": 5,
    "start_time": "2022-01-27T06:36:28.684Z"
   },
   {
    "duration": 21,
    "start_time": "2022-01-27T06:36:28.691Z"
   },
   {
    "duration": 13,
    "start_time": "2022-01-27T06:36:28.714Z"
   },
   {
    "duration": 6,
    "start_time": "2022-01-27T06:36:28.728Z"
   },
   {
    "duration": 12,
    "start_time": "2022-01-27T06:36:28.735Z"
   },
   {
    "duration": 7,
    "start_time": "2022-01-27T06:36:28.749Z"
   },
   {
    "duration": 7,
    "start_time": "2022-01-27T06:36:28.758Z"
   },
   {
    "duration": 19,
    "start_time": "2022-01-27T06:36:28.767Z"
   },
   {
    "duration": 15,
    "start_time": "2022-01-27T06:36:28.787Z"
   },
   {
    "duration": 8,
    "start_time": "2022-01-27T06:36:28.804Z"
   },
   {
    "duration": 21,
    "start_time": "2022-01-27T06:36:28.813Z"
   },
   {
    "duration": 7,
    "start_time": "2022-01-27T06:36:28.837Z"
   },
   {
    "duration": 8,
    "start_time": "2022-01-27T06:36:28.845Z"
   },
   {
    "duration": 11,
    "start_time": "2022-01-27T06:36:28.854Z"
   },
   {
    "duration": 20,
    "start_time": "2022-01-27T06:36:28.866Z"
   },
   {
    "duration": 13,
    "start_time": "2022-01-27T06:36:28.887Z"
   },
   {
    "duration": 29,
    "start_time": "2022-01-27T06:36:28.902Z"
   },
   {
    "duration": 11,
    "start_time": "2022-01-27T06:36:28.933Z"
   },
   {
    "duration": 7,
    "start_time": "2022-01-27T06:36:28.946Z"
   },
   {
    "duration": 20,
    "start_time": "2022-01-27T06:36:28.956Z"
   },
   {
    "duration": 4,
    "start_time": "2022-01-27T06:36:28.978Z"
   },
   {
    "duration": 14,
    "start_time": "2022-01-27T06:36:28.983Z"
   },
   {
    "duration": 15,
    "start_time": "2022-01-27T06:36:29.027Z"
   },
   {
    "duration": 21,
    "start_time": "2022-01-27T06:36:29.044Z"
   },
   {
    "duration": 14,
    "start_time": "2022-01-27T06:36:29.067Z"
   },
   {
    "duration": 57,
    "start_time": "2022-01-27T06:36:29.082Z"
   },
   {
    "duration": 13,
    "start_time": "2022-01-27T06:36:29.140Z"
   },
   {
    "duration": 20,
    "start_time": "2022-01-27T06:36:29.154Z"
   },
   {
    "duration": 2388,
    "start_time": "2022-01-27T06:36:29.176Z"
   },
   {
    "duration": 2810,
    "start_time": "2022-01-27T06:36:31.566Z"
   },
   {
    "duration": 6,
    "start_time": "2022-01-27T06:36:34.378Z"
   },
   {
    "duration": 6,
    "start_time": "2022-01-27T06:36:34.385Z"
   },
   {
    "duration": 39,
    "start_time": "2022-01-27T06:36:34.393Z"
   },
   {
    "duration": 7,
    "start_time": "2022-01-27T06:36:34.434Z"
   },
   {
    "duration": 7,
    "start_time": "2022-01-27T06:36:34.443Z"
   },
   {
    "duration": 4,
    "start_time": "2022-01-27T06:36:34.452Z"
   },
   {
    "duration": 23,
    "start_time": "2022-01-27T06:36:34.457Z"
   },
   {
    "duration": 51,
    "start_time": "2022-01-27T06:36:34.481Z"
   },
   {
    "duration": 20,
    "start_time": "2022-01-27T06:36:34.534Z"
   },
   {
    "duration": 17,
    "start_time": "2022-01-27T06:36:34.555Z"
   },
   {
    "duration": 16,
    "start_time": "2022-01-27T06:36:34.575Z"
   },
   {
    "duration": 3,
    "start_time": "2022-01-27T06:37:35.833Z"
   },
   {
    "duration": 683,
    "start_time": "2022-01-27T06:37:43.280Z"
   },
   {
    "duration": 4,
    "start_time": "2022-01-27T06:37:43.965Z"
   },
   {
    "duration": 8,
    "start_time": "2022-01-27T06:37:43.971Z"
   },
   {
    "duration": 4,
    "start_time": "2022-01-27T06:37:43.980Z"
   },
   {
    "duration": 5,
    "start_time": "2022-01-27T06:37:43.986Z"
   },
   {
    "duration": 5,
    "start_time": "2022-01-27T06:37:43.993Z"
   },
   {
    "duration": 28,
    "start_time": "2022-01-27T06:37:43.999Z"
   },
   {
    "duration": 6,
    "start_time": "2022-01-27T06:37:44.029Z"
   },
   {
    "duration": 9,
    "start_time": "2022-01-27T06:37:44.037Z"
   },
   {
    "duration": 12,
    "start_time": "2022-01-27T06:37:44.048Z"
   },
   {
    "duration": 9,
    "start_time": "2022-01-27T06:37:44.062Z"
   },
   {
    "duration": 6,
    "start_time": "2022-01-27T06:37:44.072Z"
   },
   {
    "duration": 9,
    "start_time": "2022-01-27T06:37:44.079Z"
   },
   {
    "duration": 11,
    "start_time": "2022-01-27T06:37:44.089Z"
   },
   {
    "duration": 30,
    "start_time": "2022-01-27T06:37:44.101Z"
   },
   {
    "duration": 20,
    "start_time": "2022-01-27T06:37:44.133Z"
   },
   {
    "duration": 16,
    "start_time": "2022-01-27T06:37:44.154Z"
   },
   {
    "duration": 6,
    "start_time": "2022-01-27T06:37:44.171Z"
   },
   {
    "duration": 9,
    "start_time": "2022-01-27T06:37:44.179Z"
   },
   {
    "duration": 44,
    "start_time": "2022-01-27T06:37:44.189Z"
   },
   {
    "duration": 29,
    "start_time": "2022-01-27T06:37:44.234Z"
   },
   {
    "duration": 4,
    "start_time": "2022-01-27T06:37:44.265Z"
   },
   {
    "duration": 13,
    "start_time": "2022-01-27T06:37:44.271Z"
   },
   {
    "duration": 15,
    "start_time": "2022-01-27T06:37:44.285Z"
   },
   {
    "duration": 45,
    "start_time": "2022-01-27T06:37:44.301Z"
   },
   {
    "duration": 14,
    "start_time": "2022-01-27T06:37:44.348Z"
   },
   {
    "duration": 26,
    "start_time": "2022-01-27T06:37:44.365Z"
   },
   {
    "duration": 38,
    "start_time": "2022-01-27T06:37:44.392Z"
   },
   {
    "duration": 14,
    "start_time": "2022-01-27T06:37:44.432Z"
   },
   {
    "duration": 2566,
    "start_time": "2022-01-27T06:37:44.447Z"
   },
   {
    "duration": 2880,
    "start_time": "2022-01-27T06:37:47.015Z"
   },
   {
    "duration": 4,
    "start_time": "2022-01-27T06:37:49.897Z"
   },
   {
    "duration": 5,
    "start_time": "2022-01-27T06:37:49.903Z"
   },
   {
    "duration": 33,
    "start_time": "2022-01-27T06:37:49.910Z"
   },
   {
    "duration": 11,
    "start_time": "2022-01-27T06:37:49.945Z"
   },
   {
    "duration": 6,
    "start_time": "2022-01-27T06:37:49.957Z"
   },
   {
    "duration": 6,
    "start_time": "2022-01-27T06:37:49.964Z"
   },
   {
    "duration": 23,
    "start_time": "2022-01-27T06:37:49.972Z"
   },
   {
    "duration": 42,
    "start_time": "2022-01-27T06:37:49.997Z"
   },
   {
    "duration": 20,
    "start_time": "2022-01-27T06:37:50.041Z"
   },
   {
    "duration": 17,
    "start_time": "2022-01-27T06:37:50.063Z"
   },
   {
    "duration": 18,
    "start_time": "2022-01-27T06:37:50.082Z"
   },
   {
    "duration": 683,
    "start_time": "2022-01-27T06:39:55.935Z"
   },
   {
    "duration": 5,
    "start_time": "2022-01-27T06:39:56.620Z"
   },
   {
    "duration": 8,
    "start_time": "2022-01-27T06:39:56.628Z"
   },
   {
    "duration": 5,
    "start_time": "2022-01-27T06:39:56.638Z"
   },
   {
    "duration": 5,
    "start_time": "2022-01-27T06:39:56.645Z"
   },
   {
    "duration": 9,
    "start_time": "2022-01-27T06:39:56.652Z"
   },
   {
    "duration": 6,
    "start_time": "2022-01-27T06:39:56.662Z"
   },
   {
    "duration": 7,
    "start_time": "2022-01-27T06:39:56.670Z"
   },
   {
    "duration": 7,
    "start_time": "2022-01-27T06:39:56.679Z"
   },
   {
    "duration": 7,
    "start_time": "2022-01-27T06:39:56.728Z"
   },
   {
    "duration": 9,
    "start_time": "2022-01-27T06:39:56.736Z"
   },
   {
    "duration": 6,
    "start_time": "2022-01-27T06:39:56.746Z"
   },
   {
    "duration": 7,
    "start_time": "2022-01-27T06:39:56.754Z"
   },
   {
    "duration": 8,
    "start_time": "2022-01-27T06:39:56.762Z"
   },
   {
    "duration": 11,
    "start_time": "2022-01-27T06:39:56.772Z"
   },
   {
    "duration": 48,
    "start_time": "2022-01-27T06:39:56.785Z"
   },
   {
    "duration": 15,
    "start_time": "2022-01-27T06:39:56.835Z"
   },
   {
    "duration": 9,
    "start_time": "2022-01-27T06:39:56.852Z"
   },
   {
    "duration": 11,
    "start_time": "2022-01-27T06:39:56.862Z"
   },
   {
    "duration": 8,
    "start_time": "2022-01-27T06:39:56.875Z"
   },
   {
    "duration": 52,
    "start_time": "2022-01-27T06:39:56.885Z"
   },
   {
    "duration": 5,
    "start_time": "2022-01-27T06:39:56.939Z"
   },
   {
    "duration": 16,
    "start_time": "2022-01-27T06:39:56.945Z"
   },
   {
    "duration": 15,
    "start_time": "2022-01-27T06:39:56.962Z"
   },
   {
    "duration": 50,
    "start_time": "2022-01-27T06:39:56.978Z"
   },
   {
    "duration": 13,
    "start_time": "2022-01-27T06:39:57.029Z"
   },
   {
    "duration": 26,
    "start_time": "2022-01-27T06:39:57.045Z"
   },
   {
    "duration": 12,
    "start_time": "2022-01-27T06:39:57.073Z"
   },
   {
    "duration": 16,
    "start_time": "2022-01-27T06:39:57.087Z"
   },
   {
    "duration": 2716,
    "start_time": "2022-01-27T06:39:57.104Z"
   },
   {
    "duration": 2889,
    "start_time": "2022-01-27T06:39:59.821Z"
   },
   {
    "duration": 17,
    "start_time": "2022-01-27T06:40:02.712Z"
   },
   {
    "duration": 4,
    "start_time": "2022-01-27T06:40:02.731Z"
   },
   {
    "duration": 29,
    "start_time": "2022-01-27T06:40:02.737Z"
   },
   {
    "duration": 6,
    "start_time": "2022-01-27T06:40:02.767Z"
   },
   {
    "duration": 13,
    "start_time": "2022-01-27T06:40:02.774Z"
   },
   {
    "duration": 4,
    "start_time": "2022-01-27T06:40:02.788Z"
   },
   {
    "duration": 35,
    "start_time": "2022-01-27T06:40:02.793Z"
   },
   {
    "duration": 25,
    "start_time": "2022-01-27T06:40:02.829Z"
   },
   {
    "duration": 18,
    "start_time": "2022-01-27T06:40:02.856Z"
   },
   {
    "duration": 17,
    "start_time": "2022-01-27T06:40:02.875Z"
   },
   {
    "duration": 40,
    "start_time": "2022-01-27T06:40:02.894Z"
   },
   {
    "duration": 19,
    "start_time": "2022-01-27T07:05:06.768Z"
   },
   {
    "duration": 136,
    "start_time": "2022-01-27T07:16:25.539Z"
   },
   {
    "duration": 18,
    "start_time": "2022-01-27T07:20:41.025Z"
   },
   {
    "duration": 32,
    "start_time": "2022-01-27T07:38:48.316Z"
   },
   {
    "duration": 387,
    "start_time": "2022-01-27T07:40:17.230Z"
   },
   {
    "duration": 18,
    "start_time": "2022-01-27T07:40:25.901Z"
   },
   {
    "duration": 716,
    "start_time": "2022-01-27T07:40:36.506Z"
   },
   {
    "duration": 5,
    "start_time": "2022-01-27T07:40:37.224Z"
   },
   {
    "duration": 7,
    "start_time": "2022-01-27T07:40:37.231Z"
   },
   {
    "duration": 5,
    "start_time": "2022-01-27T07:40:37.240Z"
   },
   {
    "duration": 8,
    "start_time": "2022-01-27T07:40:37.247Z"
   },
   {
    "duration": 8,
    "start_time": "2022-01-27T07:40:37.256Z"
   },
   {
    "duration": 5,
    "start_time": "2022-01-27T07:40:37.266Z"
   },
   {
    "duration": 7,
    "start_time": "2022-01-27T07:40:37.274Z"
   },
   {
    "duration": 12,
    "start_time": "2022-01-27T07:40:37.283Z"
   },
   {
    "duration": 32,
    "start_time": "2022-01-27T07:40:37.296Z"
   },
   {
    "duration": 5,
    "start_time": "2022-01-27T07:40:37.330Z"
   },
   {
    "duration": 14,
    "start_time": "2022-01-27T07:40:37.337Z"
   },
   {
    "duration": 6,
    "start_time": "2022-01-27T07:40:37.353Z"
   },
   {
    "duration": 15,
    "start_time": "2022-01-27T07:40:37.361Z"
   },
   {
    "duration": 28,
    "start_time": "2022-01-27T07:40:37.378Z"
   },
   {
    "duration": 29,
    "start_time": "2022-01-27T07:40:37.408Z"
   },
   {
    "duration": 14,
    "start_time": "2022-01-27T07:40:37.438Z"
   },
   {
    "duration": 16,
    "start_time": "2022-01-27T07:40:37.454Z"
   },
   {
    "duration": 16,
    "start_time": "2022-01-27T07:40:37.472Z"
   },
   {
    "duration": 13,
    "start_time": "2022-01-27T07:40:37.489Z"
   },
   {
    "duration": 31,
    "start_time": "2022-01-27T07:40:37.503Z"
   },
   {
    "duration": 4,
    "start_time": "2022-01-27T07:40:37.536Z"
   },
   {
    "duration": 26,
    "start_time": "2022-01-27T07:40:37.543Z"
   },
   {
    "duration": 14,
    "start_time": "2022-01-27T07:40:37.571Z"
   },
   {
    "duration": 45,
    "start_time": "2022-01-27T07:40:37.587Z"
   },
   {
    "duration": 12,
    "start_time": "2022-01-27T07:40:37.634Z"
   },
   {
    "duration": 26,
    "start_time": "2022-01-27T07:40:37.648Z"
   },
   {
    "duration": 11,
    "start_time": "2022-01-27T07:40:37.676Z"
   },
   {
    "duration": 44,
    "start_time": "2022-01-27T07:40:37.689Z"
   },
   {
    "duration": 2337,
    "start_time": "2022-01-27T07:40:37.734Z"
   },
   {
    "duration": 3217,
    "start_time": "2022-01-27T07:40:40.073Z"
   },
   {
    "duration": 6,
    "start_time": "2022-01-27T07:40:43.292Z"
   },
   {
    "duration": 6,
    "start_time": "2022-01-27T07:40:43.300Z"
   },
   {
    "duration": 45,
    "start_time": "2022-01-27T07:40:43.308Z"
   },
   {
    "duration": 11,
    "start_time": "2022-01-27T07:40:43.355Z"
   },
   {
    "duration": 7,
    "start_time": "2022-01-27T07:40:43.368Z"
   },
   {
    "duration": 16,
    "start_time": "2022-01-27T07:40:43.377Z"
   },
   {
    "duration": 33,
    "start_time": "2022-01-27T07:40:43.395Z"
   },
   {
    "duration": 28,
    "start_time": "2022-01-27T07:40:43.430Z"
   },
   {
    "duration": 21,
    "start_time": "2022-01-27T07:40:43.460Z"
   },
   {
    "duration": 49,
    "start_time": "2022-01-27T07:40:43.483Z"
   },
   {
    "duration": 26,
    "start_time": "2022-01-27T07:40:43.534Z"
   },
   {
    "duration": 21,
    "start_time": "2022-01-27T07:41:16.353Z"
   },
   {
    "duration": 613,
    "start_time": "2022-01-27T07:41:31.887Z"
   },
   {
    "duration": 4,
    "start_time": "2022-01-27T07:41:32.501Z"
   },
   {
    "duration": 7,
    "start_time": "2022-01-27T07:41:32.507Z"
   },
   {
    "duration": 4,
    "start_time": "2022-01-27T07:41:32.516Z"
   },
   {
    "duration": 9,
    "start_time": "2022-01-27T07:41:32.521Z"
   },
   {
    "duration": 6,
    "start_time": "2022-01-27T07:41:32.531Z"
   },
   {
    "duration": 6,
    "start_time": "2022-01-27T07:41:32.538Z"
   },
   {
    "duration": 12,
    "start_time": "2022-01-27T07:41:32.546Z"
   },
   {
    "duration": 6,
    "start_time": "2022-01-27T07:41:32.560Z"
   },
   {
    "duration": 5,
    "start_time": "2022-01-27T07:41:32.568Z"
   },
   {
    "duration": 8,
    "start_time": "2022-01-27T07:41:32.575Z"
   },
   {
    "duration": 5,
    "start_time": "2022-01-27T07:41:32.585Z"
   },
   {
    "duration": 36,
    "start_time": "2022-01-27T07:41:32.591Z"
   },
   {
    "duration": 6,
    "start_time": "2022-01-27T07:41:32.628Z"
   },
   {
    "duration": 10,
    "start_time": "2022-01-27T07:41:32.636Z"
   },
   {
    "duration": 17,
    "start_time": "2022-01-27T07:41:32.647Z"
   },
   {
    "duration": 14,
    "start_time": "2022-01-27T07:41:32.665Z"
   },
   {
    "duration": 6,
    "start_time": "2022-01-27T07:41:32.680Z"
   },
   {
    "duration": 11,
    "start_time": "2022-01-27T07:41:32.687Z"
   },
   {
    "duration": 8,
    "start_time": "2022-01-27T07:41:32.727Z"
   },
   {
    "duration": 22,
    "start_time": "2022-01-27T07:41:32.736Z"
   },
   {
    "duration": 4,
    "start_time": "2022-01-27T07:41:32.759Z"
   },
   {
    "duration": 11,
    "start_time": "2022-01-27T07:41:32.765Z"
   },
   {
    "duration": 13,
    "start_time": "2022-01-27T07:41:32.778Z"
   },
   {
    "duration": 48,
    "start_time": "2022-01-27T07:41:32.793Z"
   },
   {
    "duration": 12,
    "start_time": "2022-01-27T07:41:32.843Z"
   },
   {
    "duration": 24,
    "start_time": "2022-01-27T07:41:32.858Z"
   },
   {
    "duration": 11,
    "start_time": "2022-01-27T07:41:32.884Z"
   },
   {
    "duration": 41,
    "start_time": "2022-01-27T07:41:32.896Z"
   },
   {
    "duration": 2331,
    "start_time": "2022-01-27T07:41:32.938Z"
   },
   {
    "duration": 2845,
    "start_time": "2022-01-27T07:41:35.270Z"
   },
   {
    "duration": 13,
    "start_time": "2022-01-27T07:41:38.116Z"
   },
   {
    "duration": 7,
    "start_time": "2022-01-27T07:41:38.131Z"
   },
   {
    "duration": 19,
    "start_time": "2022-01-27T07:41:38.140Z"
   },
   {
    "duration": 7,
    "start_time": "2022-01-27T07:41:38.160Z"
   },
   {
    "duration": 6,
    "start_time": "2022-01-27T07:41:38.169Z"
   },
   {
    "duration": 4,
    "start_time": "2022-01-27T07:41:38.177Z"
   },
   {
    "duration": 55,
    "start_time": "2022-01-27T07:41:38.182Z"
   },
   {
    "duration": 27,
    "start_time": "2022-01-27T07:41:38.239Z"
   },
   {
    "duration": 19,
    "start_time": "2022-01-27T07:41:38.268Z"
   },
   {
    "duration": 38,
    "start_time": "2022-01-27T07:41:38.289Z"
   },
   {
    "duration": 18,
    "start_time": "2022-01-27T07:41:38.328Z"
   },
   {
    "duration": 704,
    "start_time": "2022-01-27T09:31:08.130Z"
   },
   {
    "duration": 5,
    "start_time": "2022-01-27T09:31:08.836Z"
   },
   {
    "duration": 8,
    "start_time": "2022-01-27T09:31:08.842Z"
   },
   {
    "duration": 7,
    "start_time": "2022-01-27T09:31:08.851Z"
   },
   {
    "duration": 6,
    "start_time": "2022-01-27T09:31:08.859Z"
   },
   {
    "duration": 5,
    "start_time": "2022-01-27T09:31:08.867Z"
   },
   {
    "duration": 5,
    "start_time": "2022-01-27T09:31:08.874Z"
   },
   {
    "duration": 5,
    "start_time": "2022-01-27T09:31:08.882Z"
   },
   {
    "duration": 39,
    "start_time": "2022-01-27T09:31:08.888Z"
   },
   {
    "duration": 6,
    "start_time": "2022-01-27T09:31:08.928Z"
   },
   {
    "duration": 8,
    "start_time": "2022-01-27T09:31:08.935Z"
   },
   {
    "duration": 5,
    "start_time": "2022-01-27T09:31:08.944Z"
   },
   {
    "duration": 6,
    "start_time": "2022-01-27T09:31:08.950Z"
   },
   {
    "duration": 8,
    "start_time": "2022-01-27T09:31:08.957Z"
   },
   {
    "duration": 10,
    "start_time": "2022-01-27T09:31:08.966Z"
   },
   {
    "duration": 52,
    "start_time": "2022-01-27T09:31:08.978Z"
   },
   {
    "duration": 17,
    "start_time": "2022-01-27T09:31:09.032Z"
   },
   {
    "duration": 5,
    "start_time": "2022-01-27T09:31:09.050Z"
   },
   {
    "duration": 10,
    "start_time": "2022-01-27T09:31:09.057Z"
   },
   {
    "duration": 8,
    "start_time": "2022-01-27T09:31:09.069Z"
   },
   {
    "duration": 68,
    "start_time": "2022-01-27T09:31:09.079Z"
   },
   {
    "duration": 6,
    "start_time": "2022-01-27T09:31:09.149Z"
   },
   {
    "duration": 17,
    "start_time": "2022-01-27T09:31:09.158Z"
   },
   {
    "duration": 18,
    "start_time": "2022-01-27T09:31:09.177Z"
   },
   {
    "duration": 52,
    "start_time": "2022-01-27T09:31:09.197Z"
   },
   {
    "duration": 15,
    "start_time": "2022-01-27T09:31:09.251Z"
   },
   {
    "duration": 36,
    "start_time": "2022-01-27T09:31:09.268Z"
   },
   {
    "duration": 32,
    "start_time": "2022-01-27T09:31:09.306Z"
   },
   {
    "duration": 14,
    "start_time": "2022-01-27T09:31:09.340Z"
   },
   {
    "duration": 2347,
    "start_time": "2022-01-27T09:31:09.356Z"
   },
   {
    "duration": 3147,
    "start_time": "2022-01-27T09:31:11.705Z"
   },
   {
    "duration": 4,
    "start_time": "2022-01-27T09:31:14.854Z"
   },
   {
    "duration": 3,
    "start_time": "2022-01-27T09:31:14.860Z"
   },
   {
    "duration": 29,
    "start_time": "2022-01-27T09:31:14.865Z"
   },
   {
    "duration": 8,
    "start_time": "2022-01-27T09:31:14.895Z"
   },
   {
    "duration": 28,
    "start_time": "2022-01-27T09:31:14.904Z"
   },
   {
    "duration": 4,
    "start_time": "2022-01-27T09:31:14.933Z"
   },
   {
    "duration": 23,
    "start_time": "2022-01-27T09:31:14.939Z"
   },
   {
    "duration": 27,
    "start_time": "2022-01-27T09:31:14.963Z"
   },
   {
    "duration": 47,
    "start_time": "2022-01-27T09:31:14.992Z"
   },
   {
    "duration": 18,
    "start_time": "2022-01-27T09:31:15.040Z"
   },
   {
    "duration": 18,
    "start_time": "2022-01-27T09:31:15.060Z"
   },
   {
    "duration": 603,
    "start_time": "2022-02-04T19:56:32.401Z"
   },
   {
    "duration": 5,
    "start_time": "2022-02-04T19:56:33.006Z"
   },
   {
    "duration": 7,
    "start_time": "2022-02-04T19:56:33.012Z"
   },
   {
    "duration": 5,
    "start_time": "2022-02-04T19:56:33.021Z"
   },
   {
    "duration": 5,
    "start_time": "2022-02-04T19:56:33.028Z"
   },
   {
    "duration": 26,
    "start_time": "2022-02-04T19:56:33.034Z"
   },
   {
    "duration": 5,
    "start_time": "2022-02-04T19:56:33.062Z"
   },
   {
    "duration": 5,
    "start_time": "2022-02-04T19:56:33.069Z"
   },
   {
    "duration": 6,
    "start_time": "2022-02-04T19:56:33.076Z"
   },
   {
    "duration": 7,
    "start_time": "2022-02-04T19:56:33.083Z"
   },
   {
    "duration": 7,
    "start_time": "2022-02-04T19:56:33.091Z"
   },
   {
    "duration": 6,
    "start_time": "2022-02-04T19:56:33.099Z"
   },
   {
    "duration": 4,
    "start_time": "2022-02-04T19:56:33.107Z"
   },
   {
    "duration": 7,
    "start_time": "2022-02-04T19:56:33.112Z"
   },
   {
    "duration": 10,
    "start_time": "2022-02-04T19:56:33.159Z"
   },
   {
    "duration": 20,
    "start_time": "2022-02-04T19:56:33.170Z"
   },
   {
    "duration": 14,
    "start_time": "2022-02-04T19:56:33.192Z"
   },
   {
    "duration": 9,
    "start_time": "2022-02-04T19:56:33.207Z"
   },
   {
    "duration": 8,
    "start_time": "2022-02-04T19:56:33.218Z"
   },
   {
    "duration": 9,
    "start_time": "2022-02-04T19:56:33.259Z"
   },
   {
    "duration": 23,
    "start_time": "2022-02-04T19:56:33.269Z"
   },
   {
    "duration": 4,
    "start_time": "2022-02-04T19:56:33.294Z"
   },
   {
    "duration": 13,
    "start_time": "2022-02-04T19:56:33.301Z"
   },
   {
    "duration": 44,
    "start_time": "2022-02-04T19:56:33.316Z"
   },
   {
    "duration": 20,
    "start_time": "2022-02-04T19:56:33.362Z"
   },
   {
    "duration": 12,
    "start_time": "2022-02-04T19:56:33.384Z"
   },
   {
    "duration": 25,
    "start_time": "2022-02-04T19:56:33.398Z"
   },
   {
    "duration": 36,
    "start_time": "2022-02-04T19:56:33.425Z"
   },
   {
    "duration": 17,
    "start_time": "2022-02-04T19:56:33.463Z"
   },
   {
    "duration": 2458,
    "start_time": "2022-02-04T19:56:33.481Z"
   },
   {
    "duration": 2770,
    "start_time": "2022-02-04T19:56:35.941Z"
   },
   {
    "duration": 4,
    "start_time": "2022-02-04T19:56:38.714Z"
   },
   {
    "duration": 9,
    "start_time": "2022-02-04T19:56:38.719Z"
   },
   {
    "duration": 34,
    "start_time": "2022-02-04T19:56:38.730Z"
   },
   {
    "duration": 11,
    "start_time": "2022-02-04T19:56:38.765Z"
   },
   {
    "duration": 10,
    "start_time": "2022-02-04T19:56:38.777Z"
   },
   {
    "duration": 5,
    "start_time": "2022-02-04T19:56:38.788Z"
   },
   {
    "duration": 24,
    "start_time": "2022-02-04T19:56:38.794Z"
   },
   {
    "duration": 40,
    "start_time": "2022-02-04T19:56:38.820Z"
   },
   {
    "duration": 21,
    "start_time": "2022-02-04T19:56:38.861Z"
   },
   {
    "duration": 18,
    "start_time": "2022-02-04T19:56:38.883Z"
   },
   {
    "duration": 17,
    "start_time": "2022-02-04T19:56:38.902Z"
   },
   {
    "duration": 1267,
    "start_time": "2022-02-04T20:12:08.733Z"
   },
   {
    "duration": 1186,
    "start_time": "2022-02-04T20:12:18.616Z"
   },
   {
    "duration": 23,
    "start_time": "2022-02-04T20:12:31.204Z"
   },
   {
    "duration": 4,
    "start_time": "2022-02-04T20:12:36.120Z"
   },
   {
    "duration": 1180,
    "start_time": "2022-02-04T20:12:47.739Z"
   },
   {
    "duration": 631,
    "start_time": "2022-02-05T18:00:32.762Z"
   },
   {
    "duration": 5,
    "start_time": "2022-02-05T18:00:33.395Z"
   },
   {
    "duration": 8,
    "start_time": "2022-02-05T18:00:33.402Z"
   },
   {
    "duration": 8,
    "start_time": "2022-02-05T18:00:33.412Z"
   },
   {
    "duration": 7,
    "start_time": "2022-02-05T18:00:33.421Z"
   },
   {
    "duration": 10,
    "start_time": "2022-02-05T18:00:33.429Z"
   },
   {
    "duration": 19,
    "start_time": "2022-02-05T18:00:33.440Z"
   },
   {
    "duration": 8,
    "start_time": "2022-02-05T18:00:33.461Z"
   },
   {
    "duration": 13,
    "start_time": "2022-02-05T18:00:33.471Z"
   },
   {
    "duration": 13,
    "start_time": "2022-02-05T18:00:33.485Z"
   },
   {
    "duration": 8,
    "start_time": "2022-02-05T18:00:33.500Z"
   },
   {
    "duration": 7,
    "start_time": "2022-02-05T18:00:33.509Z"
   },
   {
    "duration": 6,
    "start_time": "2022-02-05T18:00:33.517Z"
   },
   {
    "duration": 7,
    "start_time": "2022-02-05T18:00:33.524Z"
   },
   {
    "duration": 30,
    "start_time": "2022-02-05T18:00:33.532Z"
   },
   {
    "duration": 19,
    "start_time": "2022-02-05T18:00:33.564Z"
   },
   {
    "duration": 15,
    "start_time": "2022-02-05T18:00:33.585Z"
   },
   {
    "duration": 7,
    "start_time": "2022-02-05T18:00:33.601Z"
   },
   {
    "duration": 12,
    "start_time": "2022-02-05T18:00:33.609Z"
   },
   {
    "duration": 42,
    "start_time": "2022-02-05T18:00:33.623Z"
   },
   {
    "duration": 25,
    "start_time": "2022-02-05T18:00:33.667Z"
   },
   {
    "duration": 6,
    "start_time": "2022-02-05T18:00:33.694Z"
   },
   {
    "duration": 15,
    "start_time": "2022-02-05T18:00:33.704Z"
   },
   {
    "duration": 50,
    "start_time": "2022-02-05T18:00:33.722Z"
   },
   {
    "duration": 23,
    "start_time": "2022-02-05T18:00:33.774Z"
   },
   {
    "duration": 14,
    "start_time": "2022-02-05T18:00:33.799Z"
   },
   {
    "duration": 59,
    "start_time": "2022-02-05T18:00:33.815Z"
   },
   {
    "duration": 13,
    "start_time": "2022-02-05T18:00:33.875Z"
   },
   {
    "duration": 18,
    "start_time": "2022-02-05T18:00:33.890Z"
   },
   {
    "duration": 14,
    "start_time": "2022-02-05T18:00:33.909Z"
   },
   {
    "duration": 2322,
    "start_time": "2022-02-05T18:00:33.924Z"
   },
   {
    "duration": 2735,
    "start_time": "2022-02-05T18:00:36.248Z"
   },
   {
    "duration": 4,
    "start_time": "2022-02-05T18:00:38.985Z"
   },
   {
    "duration": 4,
    "start_time": "2022-02-05T18:00:38.991Z"
   },
   {
    "duration": 26,
    "start_time": "2022-02-05T18:00:38.996Z"
   },
   {
    "duration": 9,
    "start_time": "2022-02-05T18:00:39.024Z"
   },
   {
    "duration": 29,
    "start_time": "2022-02-05T18:00:39.034Z"
   },
   {
    "duration": 4,
    "start_time": "2022-02-05T18:00:39.065Z"
   },
   {
    "duration": 24,
    "start_time": "2022-02-05T18:00:39.070Z"
   },
   {
    "duration": 24,
    "start_time": "2022-02-05T18:00:39.095Z"
   },
   {
    "duration": 50,
    "start_time": "2022-02-05T18:00:39.121Z"
   },
   {
    "duration": 19,
    "start_time": "2022-02-05T18:00:39.173Z"
   },
   {
    "duration": 17,
    "start_time": "2022-02-05T18:00:39.194Z"
   },
   {
    "duration": 1388,
    "start_time": "2022-02-05T18:02:26.950Z"
   },
   {
    "duration": 587,
    "start_time": "2022-02-05T18:02:41.118Z"
   },
   {
    "duration": 6,
    "start_time": "2022-02-05T18:02:41.707Z"
   },
   {
    "duration": 6,
    "start_time": "2022-02-05T18:02:41.718Z"
   },
   {
    "duration": 33,
    "start_time": "2022-02-05T18:02:41.726Z"
   },
   {
    "duration": 7,
    "start_time": "2022-02-05T18:02:41.761Z"
   },
   {
    "duration": 9,
    "start_time": "2022-02-05T18:02:41.770Z"
   },
   {
    "duration": 6,
    "start_time": "2022-02-05T18:02:41.782Z"
   },
   {
    "duration": 6,
    "start_time": "2022-02-05T18:02:41.790Z"
   },
   {
    "duration": 14,
    "start_time": "2022-02-05T18:02:41.798Z"
   },
   {
    "duration": 12,
    "start_time": "2022-02-05T18:02:41.814Z"
   },
   {
    "duration": 35,
    "start_time": "2022-02-05T18:02:41.827Z"
   },
   {
    "duration": 9,
    "start_time": "2022-02-05T18:02:41.864Z"
   },
   {
    "duration": 7,
    "start_time": "2022-02-05T18:02:41.874Z"
   },
   {
    "duration": 9,
    "start_time": "2022-02-05T18:02:41.883Z"
   },
   {
    "duration": 11,
    "start_time": "2022-02-05T18:02:41.893Z"
   },
   {
    "duration": 26,
    "start_time": "2022-02-05T18:02:41.905Z"
   },
   {
    "duration": 36,
    "start_time": "2022-02-05T18:02:41.933Z"
   },
   {
    "duration": 10,
    "start_time": "2022-02-05T18:02:41.970Z"
   },
   {
    "duration": 34,
    "start_time": "2022-02-05T18:02:41.981Z"
   },
   {
    "duration": 8,
    "start_time": "2022-02-05T18:02:42.017Z"
   },
   {
    "duration": 38,
    "start_time": "2022-02-05T18:02:42.027Z"
   },
   {
    "duration": 10,
    "start_time": "2022-02-05T18:02:42.069Z"
   },
   {
    "duration": 48,
    "start_time": "2022-02-05T18:02:42.081Z"
   },
   {
    "duration": 16,
    "start_time": "2022-02-05T18:02:42.131Z"
   },
   {
    "duration": 45,
    "start_time": "2022-02-05T18:02:42.149Z"
   },
   {
    "duration": 46,
    "start_time": "2022-02-05T18:02:42.196Z"
   },
   {
    "duration": 44,
    "start_time": "2022-02-05T18:02:42.244Z"
   },
   {
    "duration": 12,
    "start_time": "2022-02-05T18:02:42.290Z"
   },
   {
    "duration": 45,
    "start_time": "2022-02-05T18:02:42.304Z"
   },
   {
    "duration": 14,
    "start_time": "2022-02-05T18:02:42.351Z"
   },
   {
    "duration": 2329,
    "start_time": "2022-02-05T18:02:42.366Z"
   },
   {
    "duration": 2635,
    "start_time": "2022-02-05T18:02:44.697Z"
   },
   {
    "duration": 5,
    "start_time": "2022-02-05T18:02:47.334Z"
   },
   {
    "duration": 3,
    "start_time": "2022-02-05T18:02:47.359Z"
   },
   {
    "duration": 20,
    "start_time": "2022-02-05T18:02:47.364Z"
   },
   {
    "duration": 8,
    "start_time": "2022-02-05T18:02:47.386Z"
   },
   {
    "duration": 12,
    "start_time": "2022-02-05T18:02:47.395Z"
   },
   {
    "duration": 4,
    "start_time": "2022-02-05T18:02:47.408Z"
   },
   {
    "duration": 26,
    "start_time": "2022-02-05T18:02:47.413Z"
   },
   {
    "duration": 25,
    "start_time": "2022-02-05T18:02:47.459Z"
   },
   {
    "duration": 21,
    "start_time": "2022-02-05T18:02:47.486Z"
   },
   {
    "duration": 18,
    "start_time": "2022-02-05T18:02:47.508Z"
   },
   {
    "duration": 44,
    "start_time": "2022-02-05T18:02:47.528Z"
   },
   {
    "duration": 52,
    "start_time": "2022-02-05T18:07:24.686Z"
   },
   {
    "duration": 791,
    "start_time": "2022-09-03T15:40:24.178Z"
   },
   {
    "duration": 4,
    "start_time": "2022-09-03T15:40:24.971Z"
   },
   {
    "duration": 10,
    "start_time": "2022-09-03T15:40:24.976Z"
   },
   {
    "duration": 7,
    "start_time": "2022-09-03T15:40:24.988Z"
   },
   {
    "duration": 7,
    "start_time": "2022-09-03T15:40:24.997Z"
   },
   {
    "duration": 13,
    "start_time": "2022-09-03T15:40:25.005Z"
   },
   {
    "duration": 13,
    "start_time": "2022-09-03T15:40:25.020Z"
   },
   {
    "duration": 9,
    "start_time": "2022-09-03T15:40:25.035Z"
   },
   {
    "duration": 8,
    "start_time": "2022-09-03T15:40:25.046Z"
   },
   {
    "duration": 11,
    "start_time": "2022-09-03T15:40:25.057Z"
   },
   {
    "duration": 9,
    "start_time": "2022-09-03T15:40:25.069Z"
   },
   {
    "duration": 7,
    "start_time": "2022-09-03T15:40:25.079Z"
   },
   {
    "duration": 7,
    "start_time": "2022-09-03T15:40:25.088Z"
   },
   {
    "duration": 13,
    "start_time": "2022-09-03T15:40:25.097Z"
   },
   {
    "duration": 16,
    "start_time": "2022-09-03T15:40:25.111Z"
   },
   {
    "duration": 18,
    "start_time": "2022-09-03T15:40:25.129Z"
   },
   {
    "duration": 14,
    "start_time": "2022-09-03T15:40:25.149Z"
   },
   {
    "duration": 6,
    "start_time": "2022-09-03T15:40:25.164Z"
   },
   {
    "duration": 10,
    "start_time": "2022-09-03T15:40:25.171Z"
   },
   {
    "duration": 8,
    "start_time": "2022-09-03T15:40:25.210Z"
   },
   {
    "duration": 23,
    "start_time": "2022-09-03T15:40:25.219Z"
   },
   {
    "duration": 5,
    "start_time": "2022-09-03T15:40:25.243Z"
   },
   {
    "duration": 17,
    "start_time": "2022-09-03T15:40:25.249Z"
   },
   {
    "duration": 42,
    "start_time": "2022-09-03T15:40:25.268Z"
   },
   {
    "duration": 25,
    "start_time": "2022-09-03T15:40:25.311Z"
   },
   {
    "duration": 15,
    "start_time": "2022-09-03T15:40:25.338Z"
   },
   {
    "duration": 29,
    "start_time": "2022-09-03T15:40:25.354Z"
   },
   {
    "duration": 13,
    "start_time": "2022-09-03T15:40:25.408Z"
   },
   {
    "duration": 35,
    "start_time": "2022-09-03T15:40:25.423Z"
   },
   {
    "duration": 14,
    "start_time": "2022-09-03T15:40:25.460Z"
   },
   {
    "duration": 2611,
    "start_time": "2022-09-03T15:40:25.475Z"
   },
   {
    "duration": 2621,
    "start_time": "2022-09-03T15:40:28.088Z"
   },
   {
    "duration": 6,
    "start_time": "2022-09-03T15:40:30.711Z"
   },
   {
    "duration": 23,
    "start_time": "2022-09-03T15:40:30.719Z"
   },
   {
    "duration": 53,
    "start_time": "2022-09-03T15:40:30.744Z"
   },
   {
    "duration": 24,
    "start_time": "2022-09-03T15:40:30.799Z"
   },
   {
    "duration": 29,
    "start_time": "2022-09-03T15:40:30.824Z"
   },
   {
    "duration": 18,
    "start_time": "2022-09-03T15:40:30.855Z"
   },
   {
    "duration": 38,
    "start_time": "2022-09-03T15:40:30.875Z"
   },
   {
    "duration": 23,
    "start_time": "2022-09-03T15:40:30.914Z"
   },
   {
    "duration": 19,
    "start_time": "2022-09-03T15:40:30.939Z"
   },
   {
    "duration": 17,
    "start_time": "2022-09-03T15:40:30.960Z"
   },
   {
    "duration": 46,
    "start_time": "2022-09-03T15:40:30.979Z"
   }
  ],
  "kernelspec": {
   "display_name": "Python 3 (ipykernel)",
   "language": "python",
   "name": "python3"
  },
  "language_info": {
   "codemirror_mode": {
    "name": "ipython",
    "version": 3
   },
   "file_extension": ".py",
   "mimetype": "text/x-python",
   "name": "python",
   "nbconvert_exporter": "python",
   "pygments_lexer": "ipython3",
   "version": "3.9.5"
  },
  "toc": {
   "base_numbering": 1,
   "nav_menu": {},
   "number_sections": true,
   "sideBar": true,
   "skip_h1_title": true,
   "title_cell": "Table of Contents",
   "title_sidebar": "Contents",
   "toc_cell": false,
   "toc_position": {},
   "toc_section_display": true,
   "toc_window_display": true
  }
 },
 "nbformat": 4,
 "nbformat_minor": 2
}
